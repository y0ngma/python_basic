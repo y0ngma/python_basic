{
  "nbformat": 4,
  "nbformat_minor": 0,
  "metadata": {
    "colab": {
      "name": "1.머신러닝을이용한번역서비스의언어감지서비스.ipynb",
      "provenance": [],
      "collapsed_sections": [
        "ZyMw6KO4L-jg"
      ],
      "toc_visible": true,
      "include_colab_link": true
    },
    "kernelspec": {
      "name": "python3",
      "display_name": "Python 3"
    }
  },
  "cells": [
    {
      "cell_type": "markdown",
      "metadata": {
        "id": "view-in-github",
        "colab_type": "text"
      },
      "source": [
        "<a href=\"https://colab.research.google.com/github/y0ngma/python_basic/blob/master/1_%EB%A8%B8%EC%8B%A0%EB%9F%AC%EB%8B%9D%EC%9D%84%EC%9D%B4%EC%9A%A9%ED%95%9C%EB%B2%88%EC%97%AD%EC%84%9C%EB%B9%84%EC%8A%A4%EC%9D%98%EC%96%B8%EC%96%B4%EA%B0%90%EC%A7%80%EC%84%9C%EB%B9%84%EC%8A%A4.ipynb\" target=\"_parent\"><img src=\"https://colab.research.google.com/assets/colab-badge.svg\" alt=\"Open In Colab\"/></a>"
      ]
    },
    {
      "cell_type": "markdown",
      "metadata": {
        "id": "DoV15q08TaUi",
        "colab_type": "text"
      },
      "source": [
        "# **머신 러닝을 이용한 번역서비스의 언어 감지**\n",
        "\n",
        "\n",
        "---"
      ]
    },
    {
      "cell_type": "markdown",
      "metadata": {
        "id": "zlvmvzK88EUp",
        "colab_type": "text"
      },
      "source": [
        "- 1~6단계 까지 한번 쭉 (삼천포 빠지지 않고 가보라)"
      ]
    },
    {
      "cell_type": "markdown",
      "metadata": {
        "id": "M6-ER7f_LyTn",
        "colab_type": "text"
      },
      "source": [
        "# 1.연구목표 설정"
      ]
    },
    {
      "cell_type": "markdown",
      "metadata": {
        "id": "IlirnXNFEXi-",
        "colab_type": "text"
      },
      "source": [
        "- 유사서비스 : 카카오번역, 파파고, 구글번역...\n",
        "- 언어 감지하는 방법은 지도학습법을 사용하겠다.\n",
        "  - 알파뱃(26 features)의 빈도 -> en, fr, id, t...\n",
        "  - 독립변수의 빈도를 보고 레이블(정답, 종속변수)를 판단하게 되는 형태 -> 분류(지도학습)\n",
        "  - 비영어권 제외, 알파벳 사용국가 분류. 총 데이터도 제공된 자료만으로 사용(4개 국가)\n",
        "  - 알고리즘의 업데이트 시점은 로그를 축척하여 1만건(실험치) 누적되면 추가 학습 후 갱신하는 방식으로 진행\n",
        "\n",
        "- **전체 흐름**\n",
        "\n",
        "step|단계명|수행내용\n",
        ":--:|--:|:--\n",
        "1|연구목표 설정|- 언어를 감지하는 웹서비스이다<br><br>- 머신러닝의 지도학습법의 분유 알고리즘을 이용하여 분류기를 구현하겠다<br><br>- 최적화 부분은 생략<br><br>- 정확도에 대한 정량적인 목표는 생략\n",
        "2|데이터수집/확보|- 실전 : 위키에서 텍스트를 웹스크래핑으로 수집하여 데이터확보<br><br>- 프로토타입구현 : 제공데이터를 사용하겠다\n",
        "3|데이터준비|- 전처리(데이터 원재료에서 알파벳을 빼고 모두 제거->정규식)<br><br>- 빈도계산, 정규화<br><br>- 훈련용데이터와 학습용데이터를 75:25로 나눈다(모델링구축단계에서도)\n",
        "4|데이터분석|- 영어권 언어별 알파벳 출현(사용) 빈도가 다르다는 명제(논문, 주장)을 근거를 증명<br><br>- 탐색적분석, EDA를 이용하여 표현(bar, line chart)\n",
        "5|데이터모델링구축|- 알고리즘 선택<br><br>- 훈련용데이터와 학습용데이터를 75:25로 나눈다(데이터준비단계에서도)<br><br>- 학습<br><br>- 예측<br><br>- 성능평가(피드백 후 튜닝단계 진입가능. 이번에는 생략)<br><br>- 모델 덤프\n",
        "6|시스템통합|- 웹서비스 구축<br><br>- 모델 덤프로드 모듈 구현<br><br>- 언어감지를 처리하는 모듈 구현<br><br>- 번역 요청 로그처리\n",
        "\n",
        "   - 애자일 2, 3, 4 ?\n",
        "\n"
      ]
    },
    {
      "cell_type": "markdown",
      "metadata": {
        "id": "jGM3Le14Toc5",
        "colab_type": "text"
      },
      "source": [
        "- 프로젝트의 주제\n",
        "- 6단계 시스템 통합을 대비해서 1단계를 설정한다\n",
        "- 목표, 결론이 명확해야 한다\n",
        "  - 넷플릭스 -> 추천 시스템의 정확도를 기존대비 3% 증가 시켜라\n",
        "  - 사용자가 텍스트를 넣으면 해당 텍스트의 언어를 감지해 내라\n",
        "  - 신규 서비스 인가?\n",
        "  - 사내 프로그램용, 그룹웨어의 어떤 메뉴인가?\n",
        "  - 의사결정을 위한 레포트인가?\n",
        "- 주제가 새로운 주장에 근거한거라면 -> 관련 논문을 체크\n",
        "  - 내 주장의 근거를 댄다.\n",
        "\n",
        "- **데이터 분석의 목적 : 데이터에 대한 통찰을 얻는다**"
      ]
    },
    {
      "cell_type": "markdown",
      "metadata": {
        "id": "pj8i8LAqL2t4",
        "colab_type": "text"
      },
      "source": [
        "# 2.데이터 수집/확보 \n"
      ]
    },
    {
      "cell_type": "markdown",
      "metadata": {
        "id": "Hg8AsKG3Vifh",
        "colab_type": "text"
      },
      "source": [
        "- 실전 : 위키에서 텍스트를 웹스크래핑으로 수집하여 데이터확보\n",
        "- 프로토타입구현 : 제공데이터를 사용하겠다\n",
        "\n",
        "- 데이터 수집/확보 전략\n",
        "  1. 제공받는다 : 공공데이터, 대학/연구기관 데이터, 챌린지 데이터(kaggle deepfake), 민원제공 후 받기\n",
        "    - 정형적 데이터 유형으로 제공된다(이미 구조가 갖춰져 있다)\n",
        "  - 공개는 되어 있는데(웹) 직접 해결 부분\n",
        "    - 반정형, 비정형적으로 데이터가 제공된다.\n",
        "    - 방법\n",
        "      1. open API 이용 수집 : naver, kakao, google -> 쿼터제한(많은계정,키필요)\n",
        "      1. web Scraping을 이용하여 수집 : requests, BS4\n",
        "      1. Crawling 으로 수집 : selenium + Web driver\n",
        "          - 한단계씩 하기 위해 쥬피터에서 가동\n",
        "      \n",
        "      \n",
        "\n",
        "      \n"
      ]
    },
    {
      "cell_type": "code",
      "metadata": {
        "id": "-BqzoJoYLjYN",
        "colab_type": "code",
        "colab": {}
      },
      "source": [
        "# 위키피디아는 사이트를 들여다 보니 스크래핑 수준이면 처리가 가능하다.\n",
        "\n",
        "'''\n",
        "https://ko.wikipedia.org/wiki/방탄소년단\n",
        "https://en.wikipedia.org/wiki/BTS_(band)\n",
        "https://fr.wikipedia.org/wiki/BTS_(groupe)\n",
        "\n",
        "위키피디아에서 최초 url의 국가코드를 조정하면 국가별로 진입가능\n",
        "단, 검색어가 영어권에서 범용적인 부분을 사용하거나\n",
        "아니면, 국가별로 리스트업이 필요하다\n",
        "'''"
      ],
      "execution_count": 0,
      "outputs": []
    },
    {
      "cell_type": "code",
      "metadata": {
        "id": "ALBPdX5xMIkO",
        "colab_type": "code",
        "outputId": "9109bfc7-0a90-4832-8672-f8cbad28682f",
        "colab": {
          "base_uri": "https://localhost:8080/",
          "height": 35
        }
      },
      "source": [
        "# URL에 대한 고민은 일단 전제하고, 하나의 사이트에서 처리 루틴을 정리\n",
        "# 미국 위키를 전제로 처리\n",
        "target_url = 'https://en.wikipedia.org/wiki/BTS_(band)'\n",
        "target_url"
      ],
      "execution_count": 0,
      "outputs": [
        {
          "output_type": "execute_result",
          "data": {
            "text/plain": [
              "'https://en.wikipedia.org/wiki/BTS_(band)'"
            ]
          },
          "metadata": {
            "tags": []
          },
          "execution_count": 1
        }
      ]
    },
    {
      "cell_type": "code",
      "metadata": {
        "id": "jL6_SNEtMdbE",
        "colab_type": "code",
        "colab": {}
      },
      "source": [
        "# 웹 스크래핑 관련 모듈 가져오기\n",
        "# 요청 - 응답 (request)\n",
        "# 통신담당 : request\n",
        "# 파싱담당 : BS4\n",
        "## parser 4개중 다음의 선정이유\n",
        "  # html5lib 속도가 가장느림, 정확한 처리 중요\n",
        "\n",
        "import urllib.request as req\n",
        "from bs4 import BeautifulSoup"
      ],
      "execution_count": 0,
      "outputs": []
    },
    {
      "cell_type": "code",
      "metadata": {
        "id": "YEQDE0keN9nt",
        "colab_type": "code",
        "outputId": "e2efc09d-a4ff-4ba6-f963-78ac8537d3b8",
        "colab": {
          "base_uri": "https://localhost:8080/",
          "height": 35
        }
      },
      "source": [
        "# 요청\n",
        "res = req.urlopen(target_url)\n",
        "# 파싱\n",
        "soup = BeautifulSoup( res, 'html5lib')\n",
        "\n",
        "type(soup)\n",
        "# DOM Tree 생성\n",
        "# soup\n"
      ],
      "execution_count": 0,
      "outputs": [
        {
          "output_type": "execute_result",
          "data": {
            "text/plain": [
              "bs4.BeautifulSoup"
            ]
          },
          "metadata": {
            "tags": []
          },
          "execution_count": 8
        }
      ]
    },
    {
      "cell_type": "code",
      "metadata": {
        "id": "nYjdDhhRUdiN",
        "colab_type": "code",
        "outputId": "5c2f20d6-8840-434a-852c-5777f0bec180",
        "colab": {
          "base_uri": "https://localhost:8080/",
          "height": 35
        }
      },
      "source": [
        "# 대상 태그들을 모은다\n",
        "ps = soup.select('#mw-content-text p') # ps는 p들을 담은 변수라고 선언\n",
        "len(ps), type(ps)\n"
      ],
      "execution_count": 0,
      "outputs": [
        {
          "output_type": "execute_result",
          "data": {
            "text/plain": [
              "(79, list)"
            ]
          },
          "metadata": {
            "tags": []
          },
          "execution_count": 9
        }
      ]
    },
    {
      "cell_type": "code",
      "metadata": {
        "id": "GEfV15YJVTOK",
        "colab_type": "code",
        "outputId": "7c7fab3c-b6ef-4b14-d374-2a0a46719fb3",
        "colab": {
          "base_uri": "https://localhost:8080/",
          "height": 109
        }
      },
      "source": [
        "# ps에서 한개 뽑아서 텍스트를 출력해보았다.\n",
        "# 텍스트를 모은다, 여러개를 리스트에 리스트내포를 이용하여 \n",
        "# 79개의 p태그에서 텍스트를 추출하여 리스트에 추가하시오\n",
        "tmp = list()\n",
        "for p in ps:\n",
        "  # print('[%s]' % p.text)\n",
        "  tmp.append('[%s]' % p.text.strip()) # 알파뱃 양옆 처리는 함수단계에서 가능\n",
        "  # 나머지는 정규식으로\n",
        "  # break\n",
        "tmp[:3], tmp[-3:]\n"
      ],
      "execution_count": 0,
      "outputs": [
        {
          "output_type": "execute_result",
          "data": {
            "text/plain": [
              "(['[]',\n",
              "  '[]',\n",
              "  '[BTS (Korean:\\xa0방탄소년단; RR:\\xa0Bangtan Sonyeondan), also known as the Bangtan Boys, is a seven-member South Korean boy band that began its formation in Seoul in 2010.[3] The septet co-writes and produces much of their output. Originally a hip hop group, their musical style has evolved to include a wide range of genres. Their lyrics, often focused on personal and social commentary, touch on the themes of mental health, troubles of school-age youth, loss, the journey towards loving oneself, and individualism. Their work features references to literature and psychological concepts and includes an alternative universe storyline. The group have staged several world tours.]'],\n",
              " ['[]', '[Japanese-language studio albums]', '[]'])"
            ]
          },
          "metadata": {
            "tags": []
          },
          "execution_count": 23
        }
      ]
    },
    {
      "cell_type": "code",
      "metadata": {
        "id": "cxTCuQbuVPC8",
        "colab_type": "code",
        "outputId": "b7f5696a-0b21-4456-f505-0a9b80fea73e",
        "colab": {
          "base_uri": "https://localhost:8080/",
          "height": 109
        }
      },
      "source": [
        "# for p in ps:\n",
        "#   tmp[p.text.strip()]\n",
        "tmp = [p.text.strip() for p in ps]\n",
        "tmp[:4]"
      ],
      "execution_count": 0,
      "outputs": [
        {
          "output_type": "execute_result",
          "data": {
            "text/plain": [
              "['',\n",
              " '',\n",
              " 'BTS (Korean:\\xa0방탄소년단; RR:\\xa0Bangtan Sonyeondan), also known as the Bangtan Boys, is a seven-member South Korean boy band that began its formation in Seoul in 2010.[3] The septet co-writes and produces much of their output. Originally a hip hop group, their musical style has evolved to include a wide range of genres. Their lyrics, often focused on personal and social commentary, touch on the themes of mental health, troubles of school-age youth, loss, the journey towards loving oneself, and individualism. Their work features references to literature and psychological concepts and includes an alternative universe storyline. The group have staged several world tours.',\n",
              " 'The group initially formed as teenagers under Big Hit Entertainment and released their debut single album, 2 Cool 4 Skool (2013). Subsequent work such as their first U.S. Billboard 200 entries The Most Beautiful Moment in Life, Part 2 (2015), The Most Beautiful Moment in Life: Young Forever (2016), and Wings (2016) helped establish BTS\\' reputation as a socially conscious group. Wings became BTS\\' first album to sell one million copies in South Korea. By 2017, BTS crossed into the international music market, leading the Korean Wave into the United States and breaking numerous sales records, becoming the first Korean group to receive a certification from the Recording Industry Association of America (RIAA) for their single \"Mic Drop\". The band is the first Korean act to top the Billboard 200 with their studio album Love Yourself: Tear (2018) and have since hit the top of the U.S. charts with their albums Love Yourself: Answer (2018) and Map of the Soul: Persona (2019), making BTS the first group since the Beatles to earn three number one albums in less than a year. Love Yourself: Answer also broke South Korea\\'s Gaon Album Chart\\'s all-time monthly record previously set by Love Yourself: Tear and became the first Korean album certified Platinum in the United States.']"
            ]
          },
          "metadata": {
            "tags": []
          },
          "execution_count": 30
        }
      ]
    },
    {
      "cell_type": "code",
      "metadata": {
        "id": "RxnK3nDPZLsr",
        "colab_type": "code",
        "outputId": "17fdfb6b-a536-4d51-9ece-dd303ae1edca",
        "colab": {
          "base_uri": "https://localhost:8080/",
          "height": 73
        }
      },
      "source": [
        "# 리스트에 존재하는 문자열들을 한개의 문자열로 통합\n",
        "src_txt = ' '.join(tmp)\n",
        "len(src_txt), src_txt[:100]"
      ],
      "execution_count": 0,
      "outputs": [
        {
          "output_type": "execute_result",
          "data": {
            "text/plain": [
              "(71210,\n",
              " '  BTS (Korean:\\xa0방탄소년단; RR:\\xa0Bangtan Sonyeondan), also known as the Bangtan Boys, is a seven-member Sou')"
            ]
          },
          "metadata": {
            "tags": []
          },
          "execution_count": 33
        }
      ]
    },
    {
      "cell_type": "markdown",
      "metadata": {
        "id": "jpmlZ4gjbA4C",
        "colab_type": "text"
      },
      "source": [
        "- 영어는 소문자로 통일(lower)\n",
        "- 영어를 제외하고는 모두 제거(정규식)\n",
        "- 띄어쓰기 정도는 남기자(가독성확보, 정규식 중 공백은 남김)"
      ]
    },
    {
      "cell_type": "code",
      "metadata": {
        "id": "9XbsL0kkbr4z",
        "colab_type": "code",
        "outputId": "0916163e-be35-4474-8a6d-cc856130f272",
        "colab": {
          "base_uri": "https://localhost:8080/",
          "height": 35
        }
      },
      "source": [
        "# 정규식\n",
        "import re\n",
        "# 알파뱃만 날려라\n",
        "# p = re.compile('[a-zA-Z]*')\n",
        "# 알파뱃만 남겨라 ^\n",
        "p = re.compile('[^a-zA-Z]*')\n",
        "tmp = p.sub('', src_txt)[:100]\n",
        "# tmp[:50]\n",
        "tmp.lower()[:50]"
      ],
      "execution_count": 0,
      "outputs": [
        {
          "output_type": "execute_result",
          "data": {
            "text/plain": [
              "'btskoreanrrbangtansonyeondanalsoknownasthebangtanb'"
            ]
          },
          "metadata": {
            "tags": []
          },
          "execution_count": 53
        }
      ]
    },
    {
      "cell_type": "code",
      "metadata": {
        "id": "xnEj8_VsffPa",
        "colab_type": "code",
        "outputId": "c7ae3265-a129-4ce1-bae8-329979c6094a",
        "colab": {
          "base_uri": "https://localhost:8080/",
          "height": 1000
        }
      },
      "source": [
        "# 정규식을 컴파일 하고,\n",
        "# 이를 이용하여 데이터를 처리한다\n",
        "# \\s : Whitespace(공백, 탭...)\n",
        "# \\w : Word 단어하나(+ 또는 *를 통해 늘릴 수 있다)\n",
        "#류현진 쓰고 한칸 띄고 단어 한덩어리까지로 시작하는 문자열\n",
        "p1 = re.compile('')\n",
        "# tmp1 = p1.sub('', src_txt)\n",
        "# tmp1[:100]\n",
        "\n",
        "# p.findall(src_txt)"
      ],
      "execution_count": 0,
      "outputs": [
        {
          "output_type": "execute_result",
          "data": {
            "text/plain": [
              "['  ',\n",
              " '',\n",
              " '',\n",
              " '',\n",
              " ' (',\n",
              " '',\n",
              " '',\n",
              " '',\n",
              " '',\n",
              " '',\n",
              " '',\n",
              " ':\\xa0방탄소년단; ',\n",
              " '',\n",
              " '',\n",
              " ':\\xa0',\n",
              " '',\n",
              " '',\n",
              " '',\n",
              " '',\n",
              " '',\n",
              " '',\n",
              " '',\n",
              " ' ',\n",
              " '',\n",
              " '',\n",
              " '',\n",
              " '',\n",
              " '',\n",
              " '',\n",
              " '',\n",
              " '',\n",
              " '',\n",
              " '',\n",
              " '), ',\n",
              " '',\n",
              " '',\n",
              " '',\n",
              " '',\n",
              " ' ',\n",
              " '',\n",
              " '',\n",
              " '',\n",
              " '',\n",
              " '',\n",
              " ' ',\n",
              " '',\n",
              " '',\n",
              " ' ',\n",
              " '',\n",
              " '',\n",
              " '',\n",
              " ' ',\n",
              " '',\n",
              " '',\n",
              " '',\n",
              " '',\n",
              " '',\n",
              " '',\n",
              " '',\n",
              " ' ',\n",
              " '',\n",
              " '',\n",
              " '',\n",
              " '',\n",
              " ', ',\n",
              " '',\n",
              " '',\n",
              " ' ',\n",
              " '',\n",
              " ' ',\n",
              " '',\n",
              " '',\n",
              " '',\n",
              " '',\n",
              " '',\n",
              " '-',\n",
              " '',\n",
              " '',\n",
              " '',\n",
              " '',\n",
              " '',\n",
              " '',\n",
              " ' ',\n",
              " '',\n",
              " '',\n",
              " '',\n",
              " '',\n",
              " '',\n",
              " ' ',\n",
              " '',\n",
              " '',\n",
              " '',\n",
              " '',\n",
              " '',\n",
              " '',\n",
              " ' ',\n",
              " '',\n",
              " '',\n",
              " '',\n",
              " ' ',\n",
              " '',\n",
              " '',\n",
              " '',\n",
              " '',\n",
              " ' ',\n",
              " '',\n",
              " '',\n",
              " '',\n",
              " '',\n",
              " ' ',\n",
              " '',\n",
              " '',\n",
              " '',\n",
              " '',\n",
              " '',\n",
              " ' ',\n",
              " '',\n",
              " '',\n",
              " '',\n",
              " ' ',\n",
              " '',\n",
              " '',\n",
              " '',\n",
              " '',\n",
              " '',\n",
              " '',\n",
              " '',\n",
              " '',\n",
              " '',\n",
              " ' ',\n",
              " '',\n",
              " '',\n",
              " ' ',\n",
              " '',\n",
              " '',\n",
              " '',\n",
              " '',\n",
              " '',\n",
              " ' ',\n",
              " '',\n",
              " '',\n",
              " ' 2010.[3] ',\n",
              " '',\n",
              " '',\n",
              " '',\n",
              " ' ',\n",
              " '',\n",
              " '',\n",
              " '',\n",
              " '',\n",
              " '',\n",
              " '',\n",
              " ' ',\n",
              " '',\n",
              " '',\n",
              " '-',\n",
              " '',\n",
              " '',\n",
              " '',\n",
              " '',\n",
              " '',\n",
              " '',\n",
              " ' ',\n",
              " '',\n",
              " '',\n",
              " '',\n",
              " ' ',\n",
              " '',\n",
              " '',\n",
              " '',\n",
              " '',\n",
              " '',\n",
              " '',\n",
              " '',\n",
              " '',\n",
              " ' ',\n",
              " '',\n",
              " '',\n",
              " '',\n",
              " '',\n",
              " ' ',\n",
              " '',\n",
              " '',\n",
              " ' ',\n",
              " '',\n",
              " '',\n",
              " '',\n",
              " '',\n",
              " '',\n",
              " ' ',\n",
              " '',\n",
              " '',\n",
              " '',\n",
              " '',\n",
              " '',\n",
              " '',\n",
              " '. ',\n",
              " '',\n",
              " '',\n",
              " '',\n",
              " '',\n",
              " '',\n",
              " '',\n",
              " '',\n",
              " '',\n",
              " '',\n",
              " '',\n",
              " ' ',\n",
              " '',\n",
              " ' ',\n",
              " '',\n",
              " '',\n",
              " '',\n",
              " ' ',\n",
              " '',\n",
              " '',\n",
              " '',\n",
              " ' ',\n",
              " '',\n",
              " '',\n",
              " '',\n",
              " '',\n",
              " '',\n",
              " ', ',\n",
              " '',\n",
              " '',\n",
              " '',\n",
              " '',\n",
              " '',\n",
              " ' ',\n",
              " '',\n",
              " '',\n",
              " '',\n",
              " '',\n",
              " '',\n",
              " '',\n",
              " '',\n",
              " ' ',\n",
              " '',\n",
              " '',\n",
              " '',\n",
              " '',\n",
              " '',\n",
              " ' ',\n",
              " '',\n",
              " '',\n",
              " '',\n",
              " ' ',\n",
              " '',\n",
              " '',\n",
              " '',\n",
              " '',\n",
              " '',\n",
              " '',\n",
              " '',\n",
              " ' ',\n",
              " '',\n",
              " '',\n",
              " ' ',\n",
              " '',\n",
              " '',\n",
              " '',\n",
              " '',\n",
              " '',\n",
              " '',\n",
              " '',\n",
              " ' ',\n",
              " '',\n",
              " ' ',\n",
              " '',\n",
              " '',\n",
              " '',\n",
              " '',\n",
              " ' ',\n",
              " '',\n",
              " '',\n",
              " '',\n",
              " '',\n",
              " '',\n",
              " ' ',\n",
              " '',\n",
              " '',\n",
              " ' ',\n",
              " '',\n",
              " '',\n",
              " '',\n",
              " '',\n",
              " '',\n",
              " '',\n",
              " '. ',\n",
              " '',\n",
              " '',\n",
              " '',\n",
              " '',\n",
              " '',\n",
              " ' ',\n",
              " '',\n",
              " '',\n",
              " '',\n",
              " '',\n",
              " '',\n",
              " '',\n",
              " ', ',\n",
              " '',\n",
              " '',\n",
              " '',\n",
              " '',\n",
              " '',\n",
              " ' ',\n",
              " '',\n",
              " '',\n",
              " '',\n",
              " '',\n",
              " '',\n",
              " '',\n",
              " '',\n",
              " ' ',\n",
              " '',\n",
              " '',\n",
              " ' ',\n",
              " '',\n",
              " '',\n",
              " '',\n",
              " '',\n",
              " '',\n",
              " '',\n",
              " '',\n",
              " '',\n",
              " ' ',\n",
              " '',\n",
              " '',\n",
              " '',\n",
              " ' ',\n",
              " '',\n",
              " '',\n",
              " '',\n",
              " '',\n",
              " '',\n",
              " '',\n",
              " ' ',\n",
              " '',\n",
              " '',\n",
              " '',\n",
              " '',\n",
              " '',\n",
              " '',\n",
              " '',\n",
              " '',\n",
              " '',\n",
              " '',\n",
              " ', ',\n",
              " '',\n",
              " '',\n",
              " '',\n",
              " '',\n",
              " '',\n",
              " ' ',\n",
              " '',\n",
              " '',\n",
              " ' ',\n",
              " '',\n",
              " '',\n",
              " '',\n",
              " ' ',\n",
              " '',\n",
              " '',\n",
              " '',\n",
              " '',\n",
              " '',\n",
              " '',\n",
              " ' ',\n",
              " '',\n",
              " '',\n",
              " ' ',\n",
              " '',\n",
              " '',\n",
              " '',\n",
              " '',\n",
              " '',\n",
              " '',\n",
              " ' ',\n",
              " '',\n",
              " '',\n",
              " '',\n",
              " '',\n",
              " '',\n",
              " '',\n",
              " ', ',\n",
              " '',\n",
              " '',\n",
              " '',\n",
              " '',\n",
              " '',\n",
              " '',\n",
              " '',\n",
              " '',\n",
              " ' ',\n",
              " '',\n",
              " '',\n",
              " ' ',\n",
              " '',\n",
              " '',\n",
              " '',\n",
              " '',\n",
              " '',\n",
              " '',\n",
              " '-',\n",
              " '',\n",
              " '',\n",
              " '',\n",
              " ' ',\n",
              " '',\n",
              " '',\n",
              " '',\n",
              " '',\n",
              " '',\n",
              " ', ',\n",
              " '',\n",
              " '',\n",
              " '',\n",
              " '',\n",
              " ', ',\n",
              " '',\n",
              " '',\n",
              " '',\n",
              " ' ',\n",
              " '',\n",
              " '',\n",
              " '',\n",
              " '',\n",
              " '',\n",
              " '',\n",
              " '',\n",
              " ' ',\n",
              " '',\n",
              " '',\n",
              " '',\n",
              " '',\n",
              " '',\n",
              " '',\n",
              " '',\n",
              " ' ',\n",
              " '',\n",
              " '',\n",
              " '',\n",
              " '',\n",
              " '',\n",
              " '',\n",
              " ' ',\n",
              " '',\n",
              " '',\n",
              " '',\n",
              " '',\n",
              " '',\n",
              " '',\n",
              " '',\n",
              " ', ',\n",
              " '',\n",
              " '',\n",
              " '',\n",
              " ' ',\n",
              " '',\n",
              " '',\n",
              " '',\n",
              " '',\n",
              " '',\n",
              " '',\n",
              " '',\n",
              " '',\n",
              " '',\n",
              " '',\n",
              " '',\n",
              " '',\n",
              " '',\n",
              " '. ',\n",
              " '',\n",
              " '',\n",
              " '',\n",
              " '',\n",
              " '',\n",
              " ' ',\n",
              " '',\n",
              " '',\n",
              " '',\n",
              " '',\n",
              " ' ',\n",
              " '',\n",
              " '',\n",
              " '',\n",
              " '',\n",
              " '',\n",
              " '',\n",
              " '',\n",
              " '',\n",
              " ' ',\n",
              " '',\n",
              " '',\n",
              " '',\n",
              " '',\n",
              " '',\n",
              " '',\n",
              " '',\n",
              " '',\n",
              " '',\n",
              " '',\n",
              " ' ',\n",
              " '',\n",
              " '',\n",
              " ' ',\n",
              " '',\n",
              " '',\n",
              " '',\n",
              " '',\n",
              " '',\n",
              " '',\n",
              " '',\n",
              " '',\n",
              " '',\n",
              " '',\n",
              " ' ',\n",
              " '',\n",
              " '',\n",
              " '',\n",
              " ' ',\n",
              " '',\n",
              " '',\n",
              " '',\n",
              " '',\n",
              " '',\n",
              " '',\n",
              " '',\n",
              " '',\n",
              " '',\n",
              " '',\n",
              " '',\n",
              " '',\n",
              " '',\n",
              " ' ',\n",
              " '',\n",
              " '',\n",
              " '',\n",
              " '',\n",
              " '',\n",
              " '',\n",
              " '',\n",
              " '',\n",
              " ' ',\n",
              " '',\n",
              " '',\n",
              " '',\n",
              " ' ',\n",
              " '',\n",
              " '',\n",
              " '',\n",
              " '',\n",
              " '',\n",
              " '',\n",
              " '',\n",
              " '',\n",
              " ' ',\n",
              " '',\n",
              " '',\n",
              " ' ',\n",
              " '',\n",
              " '',\n",
              " '',\n",
              " '',\n",
              " '',\n",
              " '',\n",
              " '',\n",
              " '',\n",
              " '',\n",
              " '',\n",
              " '',\n",
              " ' ',\n",
              " '',\n",
              " '',\n",
              " '',\n",
              " '',\n",
              " '',\n",
              " '',\n",
              " '',\n",
              " '',\n",
              " ' ',\n",
              " '',\n",
              " '',\n",
              " '',\n",
              " '',\n",
              " '',\n",
              " '',\n",
              " '',\n",
              " '',\n",
              " '',\n",
              " '. ',\n",
              " '',\n",
              " '',\n",
              " '',\n",
              " ' ',\n",
              " '',\n",
              " '',\n",
              " '',\n",
              " '',\n",
              " '',\n",
              " ' ',\n",
              " '',\n",
              " '',\n",
              " '',\n",
              " '',\n",
              " ' ',\n",
              " '',\n",
              " '',\n",
              " '',\n",
              " '',\n",
              " '',\n",
              " '',\n",
              " ' ',\n",
              " '',\n",
              " '',\n",
              " '',\n",
              " '',\n",
              " '',\n",
              " '',\n",
              " '',\n",
              " ' ',\n",
              " '',\n",
              " '',\n",
              " '',\n",
              " '',\n",
              " '',\n",
              " ' ',\n",
              " '',\n",
              " '',\n",
              " '',\n",
              " '',\n",
              " '',\n",
              " '. ',\n",
              " '',\n",
              " '',\n",
              " '',\n",
              " ' ',\n",
              " '',\n",
              " '',\n",
              " '',\n",
              " '',\n",
              " '',\n",
              " ' ',\n",
              " '',\n",
              " '',\n",
              " '',\n",
              " '',\n",
              " '',\n",
              " '',\n",
              " '',\n",
              " '',\n",
              " '',\n",
              " ' ',\n",
              " '',\n",
              " '',\n",
              " '',\n",
              " '',\n",
              " '',\n",
              " '',\n",
              " ' ',\n",
              " '',\n",
              " '',\n",
              " ' ',\n",
              " '',\n",
              " '',\n",
              " '',\n",
              " '',\n",
              " '',\n",
              " '',\n",
              " '',\n",
              " '',\n",
              " '',\n",
              " ' ',\n",
              " '',\n",
              " '',\n",
              " '',\n",
              " '',\n",
              " '',\n",
              " ' ',\n",
              " '',\n",
              " '',\n",
              " '',\n",
              " ' ',\n",
              " '',\n",
              " '',\n",
              " '',\n",
              " ' ',\n",
              " '',\n",
              " '',\n",
              " '',\n",
              " '',\n",
              " '',\n",
              " '',\n",
              " '',\n",
              " '',\n",
              " '',\n",
              " '',\n",
              " '',\n",
              " '',\n",
              " '',\n",
              " ' ',\n",
              " '',\n",
              " '',\n",
              " '',\n",
              " ' ',\n",
              " '',\n",
              " '',\n",
              " '',\n",
              " '',\n",
              " '',\n",
              " '',\n",
              " '',\n",
              " '',\n",
              " ' ',\n",
              " '',\n",
              " '',\n",
              " '',\n",
              " '',\n",
              " '',\n",
              " ' ',\n",
              " '',\n",
              " '',\n",
              " '',\n",
              " '',\n",
              " '',\n",
              " ' ',\n",
              " '',\n",
              " '',\n",
              " '',\n",
              " '',\n",
              " '',\n",
              " '',\n",
              " ' ',\n",
              " '',\n",
              " '',\n",
              " '',\n",
              " '',\n",
              " '',\n",
              " ', 2 ',\n",
              " '',\n",
              " '',\n",
              " '',\n",
              " '',\n",
              " ' 4 ',\n",
              " '',\n",
              " '',\n",
              " '',\n",
              " '',\n",
              " '',\n",
              " ' (2013). ',\n",
              " '',\n",
              " '',\n",
              " '',\n",
              " '',\n",
              " '',\n",
              " '',\n",
              " '',\n",
              " '',\n",
              " '',\n",
              " '',\n",
              " ' ',\n",
              " '',\n",
              " '',\n",
              " '',\n",
              " '',\n",
              " ' ',\n",
              " '',\n",
              " '',\n",
              " '',\n",
              " '',\n",
              " ' ',\n",
              " '',\n",
              " '',\n",
              " ' ',\n",
              " '',\n",
              " '',\n",
              " '',\n",
              " '',\n",
              " '',\n",
              " ' ',\n",
              " '',\n",
              " '',\n",
              " '',\n",
              " '',\n",
              " '',\n",
              " ' ',\n",
              " '',\n",
              " '.',\n",
              " '',\n",
              " '. ',\n",
              " '',\n",
              " '',\n",
              " '',\n",
              " '',\n",
              " '',\n",
              " '',\n",
              " '',\n",
              " '',\n",
              " '',\n",
              " ' 200 ',\n",
              " '',\n",
              " '',\n",
              " '',\n",
              " '',\n",
              " '',\n",
              " '',\n",
              " '',\n",
              " ' ',\n",
              " '',\n",
              " '',\n",
              " '',\n",
              " ' ',\n",
              " '',\n",
              " '',\n",
              " '',\n",
              " '',\n",
              " ' ',\n",
              " '',\n",
              " '',\n",
              " '',\n",
              " '',\n",
              " '',\n",
              " '',\n",
              " '',\n",
              " '',\n",
              " '',\n",
              " ' ',\n",
              " '',\n",
              " '',\n",
              " '',\n",
              " '',\n",
              " '',\n",
              " '',\n",
              " ' ',\n",
              " '',\n",
              " '',\n",
              " ' ',\n",
              " '',\n",
              " '',\n",
              " '',\n",
              " '',\n",
              " ', ',\n",
              " '',\n",
              " '',\n",
              " '',\n",
              " '',\n",
              " ' 2 (2015), ',\n",
              " '',\n",
              " '',\n",
              " '',\n",
              " ' ',\n",
              " '',\n",
              " '',\n",
              " '',\n",
              " '',\n",
              " ' ',\n",
              " '',\n",
              " '',\n",
              " '',\n",
              " '',\n",
              " '',\n",
              " '',\n",
              " '',\n",
              " '',\n",
              " '',\n",
              " ' ',\n",
              " '',\n",
              " '',\n",
              " '',\n",
              " '',\n",
              " '',\n",
              " '',\n",
              " ' ',\n",
              " '',\n",
              " '',\n",
              " ' ',\n",
              " '',\n",
              " '',\n",
              " '',\n",
              " '',\n",
              " ': ',\n",
              " '',\n",
              " '',\n",
              " '',\n",
              " '',\n",
              " '',\n",
              " ' ',\n",
              " '',\n",
              " '',\n",
              " '',\n",
              " '',\n",
              " '',\n",
              " '',\n",
              " '',\n",
              " ' (2016), ',\n",
              " '',\n",
              " '',\n",
              " '',\n",
              " ' ',\n",
              " '',\n",
              " '',\n",
              " '',\n",
              " '',\n",
              " '',\n",
              " ' (2016) ',\n",
              " '',\n",
              " '',\n",
              " '',\n",
              " '',\n",
              " '',\n",
              " '',\n",
              " ' ',\n",
              " '',\n",
              " '',\n",
              " '',\n",
              " '',\n",
              " '',\n",
              " '',\n",
              " '',\n",
              " '',\n",
              " '',\n",
              " ' ',\n",
              " '',\n",
              " '',\n",
              " '',\n",
              " \"' \",\n",
              " '',\n",
              " '',\n",
              " '',\n",
              " '',\n",
              " '',\n",
              " '',\n",
              " '',\n",
              " '',\n",
              " '',\n",
              " '',\n",
              " ' ',\n",
              " '',\n",
              " '',\n",
              " ' ',\n",
              " '',\n",
              " ' ',\n",
              " '',\n",
              " '',\n",
              " '',\n",
              " '',\n",
              " '',\n",
              " '',\n",
              " '',\n",
              " '',\n",
              " ' ',\n",
              " '',\n",
              " '',\n",
              " '',\n",
              " '',\n",
              " '',\n",
              " '',\n",
              " '',\n",
              " '',\n",
              " '',\n",
              " ' ',\n",
              " '',\n",
              " '',\n",
              " '',\n",
              " '',\n",
              " '',\n",
              " '. ',\n",
              " '',\n",
              " '',\n",
              " '',\n",
              " '',\n",
              " '',\n",
              " ' ',\n",
              " '',\n",
              " '',\n",
              " '',\n",
              " '',\n",
              " '',\n",
              " '',\n",
              " ' ',\n",
              " '',\n",
              " '',\n",
              " '',\n",
              " \"' \",\n",
              " '',\n",
              " '',\n",
              " '',\n",
              " '',\n",
              " '',\n",
              " ' ',\n",
              " '',\n",
              " '',\n",
              " '',\n",
              " '',\n",
              " '',\n",
              " ' ',\n",
              " '',\n",
              " ...]"
            ]
          },
          "metadata": {
            "tags": []
          },
          "execution_count": 51
        }
      ]
    },
    {
      "cell_type": "code",
      "metadata": {
        "id": "8IXg3YoSDb9H",
        "colab_type": "code",
        "colab": {}
      },
      "source": [
        "# 제공받은것\n",
        "\n",
        "# 파일을 한번에 다 읽으려면특정폴더 밑에서 특정 패턴을 가진 파일들을 지정해서 목록화\n",
        "# 파일명 : 언어코드-넘버.txt\n",
        "# /content/train/en-1.txt\n",
        "\n",
        "# 파일 리스트 획득\n"
      ],
      "execution_count": 0,
      "outputs": []
    },
    {
      "cell_type": "code",
      "metadata": {
        "id": "Yt2n4tPcDc_N",
        "colab_type": "code",
        "outputId": "b74fdf2f-b60f-4e8e-df60-0b1f2d209e99",
        "colab": {
          "base_uri": "https://localhost:8080/",
          "height": 71
        }
      },
      "source": [
        "# 파일 리스트 획득\n",
        "import glob\n",
        "\n",
        "file_list = glob.glob('/content/drive/My Drive/data/02CntWord/train/*.txt') # .txt 인 모든 파일\n",
        "\n",
        "type(file_list), file_list[:2]"
      ],
      "execution_count": 0,
      "outputs": [
        {
          "output_type": "execute_result",
          "data": {
            "text/plain": [
              "(list,\n",
              " ['/content/drive/My Drive/data/02CntWord/train/fr-8.txt',\n",
              "  '/content/drive/My Drive/data/02CntWord/train/id-12.txt'])"
            ]
          },
          "metadata": {
            "tags": []
          },
          "execution_count": 9
        }
      ]
    },
    {
      "cell_type": "code",
      "metadata": {
        "id": "ZTrvwYcxDdJS",
        "colab_type": "code",
        "outputId": "f0605fae-2d0f-429c-ed8b-923a3af20dfc",
        "colab": {
          "base_uri": "https://localhost:8080/",
          "height": 377
        }
      },
      "source": [
        "file_list.sort()\n",
        "file_list"
      ],
      "execution_count": 0,
      "outputs": [
        {
          "output_type": "execute_result",
          "data": {
            "text/plain": [
              "['/content/drive/My Drive/data/02CntWord/train/en-1.txt',\n",
              " '/content/drive/My Drive/data/02CntWord/train/en-2.txt',\n",
              " '/content/drive/My Drive/data/02CntWord/train/en-3.txt',\n",
              " '/content/drive/My Drive/data/02CntWord/train/en-4.txt',\n",
              " '/content/drive/My Drive/data/02CntWord/train/en-5.txt',\n",
              " '/content/drive/My Drive/data/02CntWord/train/fr-10.txt',\n",
              " '/content/drive/My Drive/data/02CntWord/train/fr-6.txt',\n",
              " '/content/drive/My Drive/data/02CntWord/train/fr-7.txt',\n",
              " '/content/drive/My Drive/data/02CntWord/train/fr-8.txt',\n",
              " '/content/drive/My Drive/data/02CntWord/train/fr-9.txt',\n",
              " '/content/drive/My Drive/data/02CntWord/train/id-11.txt',\n",
              " '/content/drive/My Drive/data/02CntWord/train/id-12.txt',\n",
              " '/content/drive/My Drive/data/02CntWord/train/id-13.txt',\n",
              " '/content/drive/My Drive/data/02CntWord/train/id-14.txt',\n",
              " '/content/drive/My Drive/data/02CntWord/train/id-15.txt',\n",
              " '/content/drive/My Drive/data/02CntWord/train/tl-16.txt',\n",
              " '/content/drive/My Drive/data/02CntWord/train/tl-17.txt',\n",
              " '/content/drive/My Drive/data/02CntWord/train/tl-18.txt',\n",
              " '/content/drive/My Drive/data/02CntWord/train/tl-19.txt',\n",
              " '/content/drive/My Drive/data/02CntWord/train/tl-20.txt']"
            ]
          },
          "metadata": {
            "tags": []
          },
          "execution_count": 10
        }
      ]
    },
    {
      "cell_type": "code",
      "metadata": {
        "id": "sFVoMAOzDdU0",
        "colab_type": "code",
        "colab": {}
      },
      "source": [
        ""
      ],
      "execution_count": 0,
      "outputs": []
    },
    {
      "cell_type": "markdown",
      "metadata": {
        "id": "-og4WMoeL2wg",
        "colab_type": "text"
      },
      "source": [
        "# 3.데이터 준비"
      ]
    },
    {
      "cell_type": "markdown",
      "metadata": {
        "id": "9dN8pBpcZl36",
        "colab_type": "text"
      },
      "source": [
        "- 전처리, 정제, 적제, 등등 \n",
        "- 데이터의 품질을 향상시킨다\n",
        "- 데이터 성분 종류\n",
        "  - 수치\n",
        "    - 정수\n",
        "      - 0 이나 1\n",
        "        - 이진 데이터, 바이너리, 원-핫인코딩방식\n",
        "      - ... -1, 0, 1, ...\n",
        "        - 정규화 처리가 진행되서 0~1 사이로 값을 몰아 넣는다.\n",
        "    - 부동소수\n",
        "      - ...-1.1xxx , 0, 1.1xxx, ...\n",
        "        - 정규화 처리가 진행되서 0~1 사이로 값을 몰아 넣는다.\n",
        "  - 문자열(텍스트)\n",
        "    1. 문자열\n",
        "    1. 형태소분석기(konlpy > Mecab)\n",
        "    1. 분절 > 형태소가 나온다\n",
        "    1. 사전을 생성\n",
        "    1. 형태소를 인덱스로 치환\n",
        "    1. 0, 1 로 인코딩(원-핫 인코딩)\n",
        "    1. 범주형\n",
        "- 모든 데이터는 결론적으로 **수치화** 시켜야 한다. 머신러닝/딥러닝을 위해서\n",
        "\n",
        "\n"
      ]
    },
    {
      "cell_type": "markdown",
      "metadata": {
        "id": "X-mjubuXEqe7",
        "colab_type": "text"
      },
      "source": [
        "## 언어별 알파뱃 빈도수 그래프\n"
      ]
    },
    {
      "cell_type": "markdown",
      "metadata": {
        "id": "O7ko5jJHD_3k",
        "colab_type": "text"
      },
      "source": [
        "### 1.데이터 준비\n",
        "\n",
        "  - 데이터를 읽으면서 알파벳의 빈도를 계산\n",
        "  - 언어코드도 획득해서, 해당 언어에 알파뱃의 빈도는 이런 식으로 표현\n",
        "  - 알파벳별 빈도는 (feature), 언어코드는( label)\n",
        "  - train 데이터 row가 20개( 국가별 5개), column(26개 알파뱃 + 1개 답)\n",
        "  - shape -> (20, 27)\n",
        "  - 위 과정을 함수화 시켜서 편리하게 작업 !!\n"
      ]
    },
    {
      "cell_type": "code",
      "metadata": {
        "id": "YDv6-sNoEZj9",
        "colab_type": "code",
        "colab": {}
      },
      "source": [
        "# 텍스트 파일이 하나 확인되면 -> file_list의 개수만큼 반복(20번)\n",
        "  # 언어코드 획득\n",
        "    # 파일에서 파일명획득 - > 언어코드가 존재\n",
        "    # 언어코드를 추출\n",
        "  # 알파뱃별 빈도수 획득\n",
        "    # 전처리를 통해서 영어만 둔다\n",
        "    # 알파벳별 빈도를 계산한다.\n"
      ],
      "execution_count": 0,
      "outputs": []
    },
    {
      "cell_type": "markdown",
      "metadata": {
        "id": "5Dxx7D8PFADs",
        "colab_type": "text"
      },
      "source": [
        "### 2.언어코드 획득"
      ]
    },
    {
      "cell_type": "code",
      "metadata": {
        "id": "CSuxZrb1E8OR",
        "colab_type": "code",
        "outputId": "df529561-0bc5-48fe-f6ec-b96534491887",
        "colab": {
          "base_uri": "https://localhost:8080/",
          "height": 35
        }
      },
      "source": [
        "# 파일에서 파일명획득\n",
        "file_list[0].split('/')[-1][:2]\n",
        "# 언어코드 'en' 추출\n"
      ],
      "execution_count": 0,
      "outputs": [
        {
          "output_type": "execute_result",
          "data": {
            "text/plain": [
              "'en'"
            ]
          },
          "metadata": {
            "tags": []
          },
          "execution_count": 11
        }
      ]
    },
    {
      "cell_type": "code",
      "metadata": {
        "id": "scuj6-oiE8Yb",
        "colab_type": "code",
        "outputId": "0acf8abb-c052-4b97-80d1-4804aee62fb1",
        "colab": {
          "base_uri": "https://localhost:8080/",
          "height": 35
        }
      },
      "source": [
        "# 외장함수를 활욜해서 처리\n",
        "import os\n",
        "# 파일명획득\n",
        "# file_list[0].split('/')[-1]과 결과는 동일\n",
        "name = os.path.basename(file_list[0])\n",
        "name\n"
      ],
      "execution_count": 0,
      "outputs": [
        {
          "output_type": "execute_result",
          "data": {
            "text/plain": [
              "'en-1.txt'"
            ]
          },
          "metadata": {
            "tags": []
          },
          "execution_count": 12
        }
      ]
    },
    {
      "cell_type": "code",
      "metadata": {
        "id": "-qEStodXE8lG",
        "colab_type": "code",
        "outputId": "7796f6ee-ff14-44c6-f29c-42e8f7434407",
        "colab": {
          "base_uri": "https://localhost:8080/",
          "height": 35
        }
      },
      "source": [
        "# 정규식으로 언어코드 획득\n",
        "import re\n",
        "p         = re.compile('^[a-z]{2}')\n",
        "# lang_code = p.match('en-1.txt').group()\n",
        "lang_code = p.match(name).group()\n",
        "lang_code"
      ],
      "execution_count": 0,
      "outputs": [
        {
          "output_type": "execute_result",
          "data": {
            "text/plain": [
              "'en'"
            ]
          },
          "metadata": {
            "tags": []
          },
          "execution_count": 13
        }
      ]
    },
    {
      "cell_type": "markdown",
      "metadata": {
        "id": "JEZ5HuBGFY_T",
        "colab_type": "text"
      },
      "source": [
        "###  3.알파벳 빈도 계산"
      ]
    },
    {
      "cell_type": "code",
      "metadata": {
        "id": "G0S2yJl-FcLk",
        "colab_type": "code",
        "outputId": "97393e50-bb36-42a1-b6cf-6d98daf796ba",
        "colab": {
          "base_uri": "https://localhost:8080/",
          "height": 35
        }
      },
      "source": [
        "# 텍스트 파일을 읽어서 -> 알파뱃만 남긴다.\n",
        "# 최종 변수명 text\n",
        "\n",
        "# 텍스트 파일을 열고(I/O)\n",
        "with open(file_list[0]) as f:\n",
        "  # 절차적으로 파일 크기 먼저확인후 너무 안크면 읽어서\n",
        "  text = f.read().lower()\n",
        "  # 알파뱃만 남기고 (알파뱃, 띄어쓰기까지 남기고))\n",
        "  p = re.compile('[^a-z]*')\n",
        "  text = p.sub('', text) # 일치되는 표현만 (치환)제거 시킨다\n",
        "  print(text[:100])\n",
        "  pass\n",
        "  # 알파뱃만 남긴다."
      ],
      "execution_count": 0,
      "outputs": [
        {
          "output_type": "stream",
          "text": [
            "themainhenryfordmuseumbuildinghousessomeoftheclassroomsforthehenryfordacademyhenryfordacademyisthefi\n"
          ],
          "name": "stdout"
        }
      ]
    },
    {
      "cell_type": "code",
      "metadata": {
        "id": "AMxVdalaFceb",
        "colab_type": "code",
        "outputId": "eaa985ea-1d7b-4305-8a9a-62a86495695b",
        "colab": {
          "base_uri": "https://localhost:8080/",
          "height": 35
        }
      },
      "source": [
        "# 알파뱃별로 카운트를 담을 그릇(한개의 이름으로 26개의 정보를 담는그릇)\n",
        "# 파이썬의 리스트를 사용한다. 수정가능\n",
        "# 갯수를 표현하는 변수를 만든다\n",
        "counts = [0 for n in range(26)] # [0]*26\n",
        "counts\n"
      ],
      "execution_count": 0,
      "outputs": [
        {
          "output_type": "execute_result",
          "data": {
            "text/plain": [
              "[0, 0, 0, 0, 0, 0, 0, 0, 0, 0, 0, 0, 0, 0, 0, 0, 0, 0, 0, 0, 0, 0, 0, 0, 0, 0]"
            ]
          },
          "metadata": {
            "tags": []
          },
          "execution_count": 15
        }
      ]
    },
    {
      "cell_type": "code",
      "metadata": {
        "id": "yNfnlMaZFchC",
        "colab_type": "code",
        "outputId": "7d3e5008-a02c-4dd7-d10d-ec351502207e",
        "colab": {
          "base_uri": "https://localhost:8080/",
          "height": 35
        }
      },
      "source": [
        "# text 에서 한글자씩 읽어서 a면 counts[0] += 1 ->counts[a-a]+=1\n",
        "# z -> counts[25] +=1\n",
        "# t -> counts[?] +=1\n",
        "# ord()특정 문자의 아스키코드값을 리턴\n",
        "# a-z까지는 연속적으로 아스키값이 배치되어 잇다\n",
        "# 따라서 특정문자의 위치는 ord('소문자') - ord('a')\n",
        "ord('a'), ord('z'), (ord('z')-ord('a'))"
      ],
      "execution_count": 0,
      "outputs": [
        {
          "output_type": "execute_result",
          "data": {
            "text/plain": [
              "(97, 122, 25)"
            ]
          },
          "metadata": {
            "tags": []
          },
          "execution_count": 16
        }
      ]
    },
    {
      "cell_type": "code",
      "metadata": {
        "id": "nwesW-z9FdPT",
        "colab_type": "code",
        "outputId": "9088639e-b4c4-4982-f6f8-eed2fd0b8133",
        "colab": {
          "base_uri": "https://localhost:8080/",
          "height": 35
        }
      },
      "source": [
        "list1 = ['a', 'b', 'c']\n",
        "tmp=[]\n",
        "for i in list1:\n",
        "  tmp.append(ord(i)-ord('a'))\n",
        "tmp"
      ],
      "execution_count": 0,
      "outputs": [
        {
          "output_type": "execute_result",
          "data": {
            "text/plain": [
              "[0, 1, 2]"
            ]
          },
          "metadata": {
            "tags": []
          },
          "execution_count": 17
        }
      ]
    },
    {
      "cell_type": "code",
      "metadata": {
        "id": "QT9wtkF8FdR6",
        "colab_type": "code",
        "outputId": "7a7b8dce-ad99-42b9-ddd2-9ff81b45ec89",
        "colab": {
          "base_uri": "https://localhost:8080/",
          "height": 53
        }
      },
      "source": [
        "ASCII_A = ord('a')\n",
        "for ch in text:\n",
        "  # print(ch)\n",
        "  # 한개 뽑힌 문자의 아스키값 ord(ch)\n",
        "  counts[(ord(ch)-ASCII_A)] +=1\n",
        "print(counts)\n",
        "print(len(counts))"
      ],
      "execution_count": 0,
      "outputs": [
        {
          "output_type": "stream",
          "text": [
            "[349, 59, 210, 212, 484, 72, 88, 201, 340, 8, 25, 247, 121, 356, 412, 76, 0, 357, 282, 370, 119, 45, 65, 3, 92, 2]\n",
            "26\n"
          ],
          "name": "stdout"
        }
      ]
    },
    {
      "cell_type": "markdown",
      "metadata": {
        "id": "m9b_wYFxFjyM",
        "colab_type": "text"
      },
      "source": [
        "- 데이터를 들여다 보니, 값의 편차가 크다(최대, 최소 등으로 확인)\n",
        "- 데이터는 빈도를 표현함으로, 최대최소의 의미보다는, 총 빈도에서 특정 알파뱃이\n",
        "- 얼마나 등장했는가가 중요하다 -> 이것을 기준으로 정규화 처리 standard scaler\n",
        "- 데이터 준비단계에서는 데이터의 품질을 향상을 목표로 하고 주 수다능로 정한다."
      ]
    },
    {
      "cell_type": "code",
      "metadata": {
        "id": "O0ZdO5vRFmVs",
        "colab_type": "code",
        "outputId": "c80ff66b-6b94-4b63-9342-369ed5fdcb73",
        "colab": {
          "base_uri": "https://localhost:8080/",
          "height": 35
        }
      },
      "source": [
        "sum(counts), len(text) # 총 빈도수라는 값으로 두 결과는 상동."
      ],
      "execution_count": 0,
      "outputs": [
        {
          "output_type": "execute_result",
          "data": {
            "text/plain": [
              "(4595, 4595)"
            ]
          },
          "metadata": {
            "tags": []
          },
          "execution_count": 19
        }
      ]
    },
    {
      "cell_type": "code",
      "metadata": {
        "id": "7WhY0OEJFmYs",
        "colab_type": "code",
        "outputId": "853649ad-d758-4788-9847-b0ae9f8d60e9",
        "colab": {
          "base_uri": "https://localhost:8080/",
          "height": 55
        }
      },
      "source": [
        "# list(map(함수 , 데이터덩어리))\n",
        "# 함수는 map이 자동으로 맴버수 만큼 호출한다\n",
        "# x:맴버 한개 한개, ...\n",
        "def checkNorm(x): # normalize \n",
        "  return x / len(text) # 알파뱃빈도/총빈도\n",
        "frequences = list(map(checkNorm, counts))\n",
        "print(sum(frequences), frequences)"
      ],
      "execution_count": 0,
      "outputs": [
        {
          "output_type": "stream",
          "text": [
            "1.0 [0.07595212187159957, 0.012840043525571273, 0.04570184983677911, 0.04613710554951034, 0.10533188248095757, 0.015669205658324265, 0.019151251360174103, 0.043743199129488576, 0.07399347116430903, 0.0017410228509249185, 0.00544069640914037, 0.05375408052230685, 0.026332970620239392, 0.07747551686615888, 0.08966267682263329, 0.016539717083786723, 0.0, 0.07769314472252448, 0.061371055495103376, 0.08052230685527748, 0.02589771490750816, 0.009793253536452665, 0.014145810663764961, 0.0006528835690968443, 0.02002176278563656, 0.0004352557127312296]\n"
          ],
          "name": "stdout"
        }
      ]
    },
    {
      "cell_type": "code",
      "metadata": {
        "id": "y9KZ7R5xFmcK",
        "colab_type": "code",
        "outputId": "8d7169aa-e6bc-48fc-af03-4d742c82fecf",
        "colab": {
          "base_uri": "https://localhost:8080/",
          "height": 55
        }
      },
      "source": [
        "# 이번처럼 lambda 함수를 쓰면 좋은 상황에서는 이용하도록 하라\n",
        "frequences = list(map( lambda x : x/len(text), counts))\n",
        "print(sum(frequences), frequences)"
      ],
      "execution_count": 0,
      "outputs": [
        {
          "output_type": "stream",
          "text": [
            "1.0 [0.07595212187159957, 0.012840043525571273, 0.04570184983677911, 0.04613710554951034, 0.10533188248095757, 0.015669205658324265, 0.019151251360174103, 0.043743199129488576, 0.07399347116430903, 0.0017410228509249185, 0.00544069640914037, 0.05375408052230685, 0.026332970620239392, 0.07747551686615888, 0.08966267682263329, 0.016539717083786723, 0.0, 0.07769314472252448, 0.061371055495103376, 0.08052230685527748, 0.02589771490750816, 0.009793253536452665, 0.014145810663764961, 0.0006528835690968443, 0.02002176278563656, 0.0004352557127312296]\n"
          ],
          "name": "stdout"
        }
      ]
    },
    {
      "cell_type": "code",
      "metadata": {
        "id": "dYlPMGKwFmgj",
        "colab_type": "code",
        "outputId": "a12a66b2-1e11-4cd0-cc96-2a840e70478b",
        "colab": {
          "base_uri": "https://localhost:8080/",
          "height": 55
        }
      },
      "source": [
        "# 텍스트 파일 1개에 대한 최종 결과물\n",
        "print( lang_code, frequences )"
      ],
      "execution_count": 0,
      "outputs": [
        {
          "output_type": "stream",
          "text": [
            "en [0.07595212187159957, 0.012840043525571273, 0.04570184983677911, 0.04613710554951034, 0.10533188248095757, 0.015669205658324265, 0.019151251360174103, 0.043743199129488576, 0.07399347116430903, 0.0017410228509249185, 0.00544069640914037, 0.05375408052230685, 0.026332970620239392, 0.07747551686615888, 0.08966267682263329, 0.016539717083786723, 0.0, 0.07769314472252448, 0.061371055495103376, 0.08052230685527748, 0.02589771490750816, 0.009793253536452665, 0.014145810663764961, 0.0006528835690968443, 0.02002176278563656, 0.0004352557127312296]\n"
          ],
          "name": "stdout"
        }
      ]
    },
    {
      "cell_type": "markdown",
      "metadata": {
        "id": "dCL6XQ9bFyy8",
        "colab_type": "text"
      },
      "source": [
        "### 4.함수화하기\n",
        "- 위의 구성 내용을 한칸에 넣어서 함수화 시킨다."
      ]
    },
    {
      "cell_type": "code",
      "metadata": {
        "id": "5BcJaIGbFmsL",
        "colab_type": "code",
        "colab": {}
      },
      "source": [
        "import re, os\n",
        "def parsingLangFreq(file_path):\n",
        "  # 언어 코드 획득\n",
        "  name = os.path.basename(file_path)\n",
        "  p         = re.compile('^[a-z]{2}')\n",
        "  lang_code = p.match(name).group()\n",
        "\n",
        "  # 단어의 빈도\n",
        "  with open(file_path) as f:\n",
        "    text = f.read().lower()\n",
        "    p = re.compile('[^a-z]*')\n",
        "    text = p.sub('', text)\n",
        "\n",
        "  counts = [0]*26\n",
        "  ASCII_A = ord('a')\n",
        "  for ch in text:\n",
        "    counts[(ord(ch)-ASCII_A)] +=1\n",
        "\n",
        "  frequences = list(map( lambda x : x/len(text), counts))\n",
        "\n",
        "  return (lang_code, frequences)\n",
        "\n",
        "  "
      ],
      "execution_count": 0,
      "outputs": []
    },
    {
      "cell_type": "code",
      "metadata": {
        "id": "7zDdEippGAL8",
        "colab_type": "code",
        "outputId": "8eb5fb26-c8f7-4346-b2c5-c8fb3ba36c0f",
        "colab": {
          "base_uri": "https://localhost:8080/",
          "height": 55
        }
      },
      "source": [
        "print(parsingLangFreq(file_list[0]))"
      ],
      "execution_count": 0,
      "outputs": [
        {
          "output_type": "stream",
          "text": [
            "('en', [0.07595212187159957, 0.012840043525571273, 0.04570184983677911, 0.04613710554951034, 0.10533188248095757, 0.015669205658324265, 0.019151251360174103, 0.043743199129488576, 0.07399347116430903, 0.0017410228509249185, 0.00544069640914037, 0.05375408052230685, 0.026332970620239392, 0.07747551686615888, 0.08966267682263329, 0.016539717083786723, 0.0, 0.07769314472252448, 0.061371055495103376, 0.08052230685527748, 0.02589771490750816, 0.009793253536452665, 0.014145810663764961, 0.0006528835690968443, 0.02002176278563656, 0.0004352557127312296])\n"
          ],
          "name": "stdout"
        }
      ]
    },
    {
      "cell_type": "code",
      "metadata": {
        "id": "NBYtr0c6GATU",
        "colab_type": "code",
        "colab": {}
      },
      "source": [
        "# 훈련용 데이터, 테스트용 데이터 로드\n",
        "# 중간 경로가 train or test\n",
        "def load_data( path='train'):\n",
        "  file_lists = glob.glob( '/content/drive/My Drive/data/02CntWord/{}/*.txt'.format(path) )\n",
        "  # 정답 담을 리스트 필요\n",
        "  labels = list()\n",
        "  freqs = list()\n",
        "  # 파일 경로를 하나씩 뽑아서 \n",
        "  for f in file_lists:\n",
        "    # 파일 1개당, 정답, 빈도수리스트 리턴\n",
        "    lang, freq = parsingLangFreq( f )\n",
        "    labels.append( lang )\n",
        "    freqs.append(freq)\n",
        "  return { 'labels': labels, 'freqs':freqs }\n",
        "  \n",
        "train_data = load_data()\n",
        "test_data = load_data('test')"
      ],
      "execution_count": 0,
      "outputs": []
    },
    {
      "cell_type": "code",
      "metadata": {
        "id": "PExxSuHYQQQv",
        "colab_type": "code",
        "outputId": "47186616-8486-483b-8162-abccc7602597",
        "colab": {
          "base_uri": "https://localhost:8080/",
          "height": 35
        }
      },
      "source": [
        "pwd"
      ],
      "execution_count": 0,
      "outputs": [
        {
          "output_type": "execute_result",
          "data": {
            "text/plain": [
              "'/content'"
            ]
          },
          "metadata": {
            "tags": []
          },
          "execution_count": 31
        }
      ]
    },
    {
      "cell_type": "code",
      "metadata": {
        "id": "mZlOnpxLGA0F",
        "colab_type": "code",
        "colab": {}
      },
      "source": [
        "# dumps 덤프 (현단계 결과물을 저장)\n",
        "import json\n",
        "\n",
        "with open('/content/drive/My Drive/data/02CntWord/labels_freqs_data.json', 'w') as f:\n",
        "  # json 구조로 저장\n",
        "  json.dump( [train_data, test_data], f )"
      ],
      "execution_count": 0,
      "outputs": []
    },
    {
      "cell_type": "markdown",
      "metadata": {
        "id": "eyGC-8V-L8zw",
        "colab_type": "text"
      },
      "source": [
        "# 4.데이터 분석"
      ]
    },
    {
      "cell_type": "markdown",
      "metadata": {
        "id": "7SdnmS8lgDAA",
        "colab_type": "text"
      },
      "source": [
        "## 분석\n",
        "- Descriptive Analysis (설명/서술 분석)\n",
        "- Exploratory Analysis (탐색적 분석)\n",
        "- Inferential Analysis (추론/통계적 분석)\n",
        "- Predictive Analysis ( 예측 분석)\n",
        "- Causal Analysis (인과/통계적 분석)\n",
        "- Mechanistic Analysis (기계적 분석)\n"
      ]
    },
    {
      "cell_type": "markdown",
      "metadata": {
        "id": "8HsBOHh9njNF",
        "colab_type": "text"
      },
      "source": [
        ""
      ]
    },
    {
      "cell_type": "markdown",
      "metadata": {
        "id": "i0loVa__iAw2",
        "colab_type": "text"
      },
      "source": [
        "### Descriptive Analysis (설명/서술 분석)\n",
        "\n",
        "- 기초 분석\n",
        "- 기본 통계량 분석\n",
        "- 요약과 집계를 수행, 데이터의 성질, 특성, 유형들을 확인\n",
        "- 시각화\n",
        "  - Pie, Bar, Box\n",
        "- 데이터의 shape, dim, head(), tail(), describ, info()\n"
      ]
    },
    {
      "cell_type": "markdown",
      "metadata": {
        "id": "Kb0EunWvnkaz",
        "colab_type": "text"
      },
      "source": [
        ""
      ]
    },
    {
      "cell_type": "markdown",
      "metadata": {
        "id": "M5GsjgnriA24",
        "colab_type": "text"
      },
      "source": [
        "### Exploratory Analysis (탐색적 분석)\n",
        "\n",
        "- EDA\n",
        "- 중간에 재미잇는 요소가 발견되더라도, 원 목적에 부합하게 진행시킨다. (삼천포빠지기 주의)\n",
        "- 시각화 처리\n",
        "  - matplotlib, seaborn, folium, 3rd party lib etc"
      ]
    },
    {
      "cell_type": "markdown",
      "metadata": {
        "id": "0ppvd4dDi62N",
        "colab_type": "text"
      },
      "source": [
        ""
      ]
    },
    {
      "cell_type": "markdown",
      "metadata": {
        "id": "1AlQlOm-iA92",
        "colab_type": "text"
      },
      "source": [
        "### Inferential Analysis (추론/통계적 분석)\n",
        "\n",
        "- 모집단-표본(샘플)간의 관계를 탐구하고, 표본을 모집합에 적용시키는 방법에 대해 분석\n",
        "- 95%의 확률로 모집단의 평균 점수는 XX~ xx 사이 이다. 표준편차 ~, +\n"
      ]
    },
    {
      "cell_type": "markdown",
      "metadata": {
        "id": "OTz2V8k_iBFl",
        "colab_type": "text"
      },
      "source": [
        "### Predictive Analysis ( 예측 분석)\n",
        "\n",
        "- 머신러닝, 결정트리(알고리즘 등) + 통계적 기법들을 사용한다.\n",
        "- 미래, 발생하지 않는 사건에 대해 예측을 진행\n",
        "- 이유보다는 정확한 예측이 더 중요하다.\n",
        "- 예)  \n",
        "  다이어트 성공율을 높이기 위한 다양한 변수들이 존재, 이런 변수들간의 관계성보다는 어떤 변수들을 활용해서 성공율을 높일 수 있는지 예측력을 높이는 쪽으로 더 집중되어 있다.  \n",
        "  - 다이어트를 성공시키기 위해서 xxx를 해야한다.  \n",
        "    - 솔루션 제공이 더 중요  \n",
        "    (Prescriptive Analysis)  "
      ]
    },
    {
      "cell_type": "markdown",
      "metadata": {
        "id": "bD8SfKVHiaCH",
        "colab_type": "text"
      },
      "source": [
        "### Causal Analysis (인과/통계적 분석)\n",
        "\n",
        "- 독립-종속 변수간의 인과관계를 밝힌다.\n",
        "- A/B test\n",
        "- 회귀 \n",
        "  - 변수 2개 간의 상관성을 분석\n",
        "    - 선형 회귀\n",
        "  - 변수가 여러개의 상관성을 분석\n",
        "    - 다항회귀 Multi variable\n",
        "  - 변수가 범주형이면\n",
        "    - Logistics 회귀 \n",
        "    "
      ]
    },
    {
      "cell_type": "markdown",
      "metadata": {
        "id": "J7v_9AfBh3IW",
        "colab_type": "text"
      },
      "source": [
        "### Mechanistic Analysis (기계적 분석)\n",
        "- 독립변수가 종속변수에게 어떤 매커니즘으로 영향을 미치는가?\n",
        "- 독립변수와 종속변수 상의 인과관계 + 어떤 독립변수가 어떤 작용을 하여 영향을 미치는지까지 전개\n",
        "- 머신러닝\n",
        "  - 지도 학습 : 답이 존재\n",
        "    - 분류 : classification\n",
        "    - 회귀 : regression\n",
        "  - 비지도 학습 : 답이 없음\n",
        "    - 군집화 : clustering\n",
        "    - 전처리기 : preprocessing\n",
        "  - 준지도 학습\n",
        "    - 데이터가 일부는 label이 존재하고, 대부분은 label이 없다\n",
        "  - 강화 학습\n",
        "    - agent존재, 잘한 행동에게는 reward를 제공, 잘못한 행동에게는 패널티를 제공하여 보상쪽으로 행동을 강화시키는 학습법\n",
        "    - 알파고를 이긴 알파제로\n",
        "    - 딥러닝\n",
        "- 딥러닝\n",
        "  - 인공 신경망을 통하여 학습을 진행하고, 이에 따른 분류, 행동을 취하거나, 창조하거나 등등 \n",
        "  - 현재로써는 AI를 설명할 때 가장 적합\n",
        "  - 범위 : AI > ML > DL"
      ]
    },
    {
      "cell_type": "markdown",
      "metadata": {
        "id": "CGjWlcIJhxpA",
        "colab_type": "text"
      },
      "source": [
        "## 변수\n",
        "- 독립변수, 상호간 영향을 미치지 않는다. feature(특성)\n",
        "- 종속변수, 독립변수에 의해서 결정, label, 정답, class"
      ]
    },
    {
      "cell_type": "markdown",
      "metadata": {
        "id": "VVKpIXLPGUsc",
        "colab_type": "text"
      },
      "source": [
        "## 언어별 알파뱃 빈도수 그래프"
      ]
    },
    {
      "cell_type": "code",
      "metadata": {
        "id": "DX1TRRdXGov8",
        "colab_type": "code",
        "colab": {}
      },
      "source": [
        "## 시각적으로 표현\n",
        "import numpy as np\n",
        "import pandas as pd\n",
        "import matplotlib.pyplot as plt\n",
        "import json\n",
        "%matplotlib inline"
      ],
      "execution_count": 0,
      "outputs": []
    },
    {
      "cell_type": "code",
      "metadata": {
        "id": "gVvj7GOBGtEL",
        "colab_type": "code",
        "outputId": "949dc5a8-e73e-47e6-a308-ae56323bdfb9",
        "colab": {
          "base_uri": "https://localhost:8080/",
          "height": 35
        }
      },
      "source": [
        "# 데이터 로드\n",
        "# /content/labels_freqs_data.json\n",
        "with open('/content/drive/My Drive/data/02CntWord/labels_freqs_data.json', 'r') as f:\n",
        "  tmp = json.load( f )\n",
        "len(tmp)\n",
        "# 0:train, 1:test"
      ],
      "execution_count": 0,
      "outputs": [
        {
          "output_type": "execute_result",
          "data": {
            "text/plain": [
              "2"
            ]
          },
          "metadata": {
            "tags": []
          },
          "execution_count": 37
        }
      ]
    },
    {
      "cell_type": "code",
      "metadata": {
        "id": "K2fpyrEhGtGd",
        "colab_type": "code",
        "outputId": "141a9bec-cd1a-4822-cf49-d59b4bed3265",
        "colab": {
          "base_uri": "https://localhost:8080/",
          "height": 35
        }
      },
      "source": [
        "# 데이터크기 확인\n",
        "# 훈련\n",
        "len( tmp[0]['labels'] ), len( tmp[0]['freqs'] )"
      ],
      "execution_count": 0,
      "outputs": [
        {
          "output_type": "execute_result",
          "data": {
            "text/plain": [
              "(20, 20)"
            ]
          },
          "metadata": {
            "tags": []
          },
          "execution_count": 38
        }
      ]
    },
    {
      "cell_type": "code",
      "metadata": {
        "id": "302GqRO_GuUr",
        "colab_type": "code",
        "outputId": "15e4bcbf-cdad-43a9-b3f1-0dcee7e5890d",
        "colab": {
          "base_uri": "https://localhost:8080/",
          "height": 35
        }
      },
      "source": [
        "## 테스트\n",
        "len( tmp[1]['labels'] ), len( tmp[1]['freqs'] )"
      ],
      "execution_count": 0,
      "outputs": [
        {
          "output_type": "execute_result",
          "data": {
            "text/plain": [
              "(8, 8)"
            ]
          },
          "metadata": {
            "tags": []
          },
          "execution_count": 39
        }
      ]
    },
    {
      "cell_type": "code",
      "metadata": {
        "id": "1Urh6bu9GuaA",
        "colab_type": "code",
        "outputId": "47333382-bcce-4eea-cffe-106157c6b351",
        "colab": {
          "base_uri": "https://localhost:8080/",
          "height": 131
        }
      },
      "source": [
        "# 휸련 데이터를 DataFrame으로 빈도데이터만 로드\n",
        "df_freqs = pd.DataFrame( tmp[0]['freqs'] )\n",
        "df_freqs.head(2)\n",
        "# 인덱스나 컬럼 없이 벨류만으로 데이터 프레임 만들기 가능"
      ],
      "execution_count": 0,
      "outputs": [
        {
          "output_type": "execute_result",
          "data": {
            "text/html": [
              "<div>\n",
              "<style scoped>\n",
              "    .dataframe tbody tr th:only-of-type {\n",
              "        vertical-align: middle;\n",
              "    }\n",
              "\n",
              "    .dataframe tbody tr th {\n",
              "        vertical-align: top;\n",
              "    }\n",
              "\n",
              "    .dataframe thead th {\n",
              "        text-align: right;\n",
              "    }\n",
              "</style>\n",
              "<table border=\"1\" class=\"dataframe\">\n",
              "  <thead>\n",
              "    <tr style=\"text-align: right;\">\n",
              "      <th></th>\n",
              "      <th>0</th>\n",
              "      <th>1</th>\n",
              "      <th>2</th>\n",
              "      <th>3</th>\n",
              "      <th>4</th>\n",
              "      <th>5</th>\n",
              "      <th>6</th>\n",
              "      <th>7</th>\n",
              "      <th>8</th>\n",
              "      <th>9</th>\n",
              "      <th>10</th>\n",
              "      <th>11</th>\n",
              "      <th>12</th>\n",
              "      <th>13</th>\n",
              "      <th>14</th>\n",
              "      <th>15</th>\n",
              "      <th>16</th>\n",
              "      <th>17</th>\n",
              "      <th>18</th>\n",
              "      <th>19</th>\n",
              "      <th>20</th>\n",
              "      <th>21</th>\n",
              "      <th>22</th>\n",
              "      <th>23</th>\n",
              "      <th>24</th>\n",
              "      <th>25</th>\n",
              "    </tr>\n",
              "  </thead>\n",
              "  <tbody>\n",
              "    <tr>\n",
              "      <th>0</th>\n",
              "      <td>0.072599</td>\n",
              "      <td>0.015761</td>\n",
              "      <td>0.039836</td>\n",
              "      <td>0.051129</td>\n",
              "      <td>0.157111</td>\n",
              "      <td>0.013031</td>\n",
              "      <td>0.013527</td>\n",
              "      <td>0.014396</td>\n",
              "      <td>0.085629</td>\n",
              "      <td>0.004344</td>\n",
              "      <td>0.001862</td>\n",
              "      <td>0.062050</td>\n",
              "      <td>0.029039</td>\n",
              "      <td>0.073964</td>\n",
              "      <td>0.056217</td>\n",
              "      <td>0.023455</td>\n",
              "      <td>0.005833</td>\n",
              "      <td>0.082030</td>\n",
              "      <td>0.066518</td>\n",
              "      <td>0.061057</td>\n",
              "      <td>0.042690</td>\n",
              "      <td>0.015140</td>\n",
              "      <td>0.000745</td>\n",
              "      <td>0.005088</td>\n",
              "      <td>0.004964</td>\n",
              "      <td>0.001986</td>\n",
              "    </tr>\n",
              "    <tr>\n",
              "      <th>1</th>\n",
              "      <td>0.147555</td>\n",
              "      <td>0.024698</td>\n",
              "      <td>0.009199</td>\n",
              "      <td>0.039441</td>\n",
              "      <td>0.093372</td>\n",
              "      <td>0.011089</td>\n",
              "      <td>0.033896</td>\n",
              "      <td>0.018523</td>\n",
              "      <td>0.100302</td>\n",
              "      <td>0.005292</td>\n",
              "      <td>0.037928</td>\n",
              "      <td>0.037172</td>\n",
              "      <td>0.038432</td>\n",
              "      <td>0.084677</td>\n",
              "      <td>0.035534</td>\n",
              "      <td>0.034778</td>\n",
              "      <td>0.000000</td>\n",
              "      <td>0.046623</td>\n",
              "      <td>0.081401</td>\n",
              "      <td>0.050781</td>\n",
              "      <td>0.040575</td>\n",
              "      <td>0.008065</td>\n",
              "      <td>0.005040</td>\n",
              "      <td>0.001386</td>\n",
              "      <td>0.013609</td>\n",
              "      <td>0.000630</td>\n",
              "    </tr>\n",
              "  </tbody>\n",
              "</table>\n",
              "</div>"
            ],
            "text/plain": [
              "         0         1         2   ...        23        24        25\n",
              "0  0.072599  0.015761  0.039836  ...  0.005088  0.004964  0.001986\n",
              "1  0.147555  0.024698  0.009199  ...  0.001386  0.013609  0.000630\n",
              "\n",
              "[2 rows x 26 columns]"
            ]
          },
          "metadata": {
            "tags": []
          },
          "execution_count": 40
        }
      ]
    },
    {
      "cell_type": "code",
      "metadata": {
        "id": "Wd0q4XnzGueq",
        "colab_type": "code",
        "outputId": "d5061bc0-67b4-40b0-e5ad-fd3ab7d84ca9",
        "colab": {
          "base_uri": "https://localhost:8080/",
          "height": 35
        }
      },
      "source": [
        "df_freqs.shape"
      ],
      "execution_count": 0,
      "outputs": [
        {
          "output_type": "execute_result",
          "data": {
            "text/plain": [
              "(20, 26)"
            ]
          },
          "metadata": {
            "tags": []
          },
          "execution_count": 41
        }
      ]
    },
    {
      "cell_type": "code",
      "metadata": {
        "id": "oho41ds_GujL",
        "colab_type": "code",
        "outputId": "6a6d7300-be61-4430-a5c2-8e5dadf6d3e8",
        "colab": {
          "base_uri": "https://localhost:8080/",
          "height": 111
        }
      },
      "source": [
        "# 휸련 데이터를 DataFrame으로 정답 데이터만 로드\n",
        "df_labels = pd.DataFrame( tmp[0]['labels'] )\n",
        "df_labels.head(2)\n",
        "# 인덱스나 컬럼 없이 벨류만으로 데이터 프레임 만들기 가능"
      ],
      "execution_count": 0,
      "outputs": [
        {
          "output_type": "execute_result",
          "data": {
            "text/html": [
              "<div>\n",
              "<style scoped>\n",
              "    .dataframe tbody tr th:only-of-type {\n",
              "        vertical-align: middle;\n",
              "    }\n",
              "\n",
              "    .dataframe tbody tr th {\n",
              "        vertical-align: top;\n",
              "    }\n",
              "\n",
              "    .dataframe thead th {\n",
              "        text-align: right;\n",
              "    }\n",
              "</style>\n",
              "<table border=\"1\" class=\"dataframe\">\n",
              "  <thead>\n",
              "    <tr style=\"text-align: right;\">\n",
              "      <th></th>\n",
              "      <th>0</th>\n",
              "    </tr>\n",
              "  </thead>\n",
              "  <tbody>\n",
              "    <tr>\n",
              "      <th>0</th>\n",
              "      <td>fr</td>\n",
              "    </tr>\n",
              "    <tr>\n",
              "      <th>1</th>\n",
              "      <td>id</td>\n",
              "    </tr>\n",
              "  </tbody>\n",
              "</table>\n",
              "</div>"
            ],
            "text/plain": [
              "    0\n",
              "0  fr\n",
              "1  id"
            ]
          },
          "metadata": {
            "tags": []
          },
          "execution_count": 42
        }
      ]
    },
    {
      "cell_type": "code",
      "metadata": {
        "id": "uu20Zms3GunK",
        "colab_type": "code",
        "outputId": "b448050b-7ff4-49ca-c3c4-47c550bb727c",
        "colab": {
          "base_uri": "https://localhost:8080/",
          "height": 35
        }
      },
      "source": [
        "df_labels.shape"
      ],
      "execution_count": 0,
      "outputs": [
        {
          "output_type": "execute_result",
          "data": {
            "text/plain": [
              "(20, 1)"
            ]
          },
          "metadata": {
            "tags": []
          },
          "execution_count": 43
        }
      ]
    },
    {
      "cell_type": "code",
      "metadata": {
        "id": "yxt4GRWmGurR",
        "colab_type": "code",
        "outputId": "ff754c81-114d-4f74-ee60-3302a930d1f1",
        "colab": {
          "base_uri": "https://localhost:8080/",
          "height": 219
        }
      },
      "source": [
        "# 컬럼명을 명확하기 조정\n",
        "# df_labels의 컬럼명을 label로 교체\n",
        "df_labels.columns=['label']\n",
        "# df_labels.rename(columns={'RangeIndex':'sss'}, inplace=True)\n",
        "df_labels.info()\n",
        "df_labels.head(2)"
      ],
      "execution_count": 0,
      "outputs": [
        {
          "output_type": "stream",
          "text": [
            "<class 'pandas.core.frame.DataFrame'>\n",
            "RangeIndex: 20 entries, 0 to 19\n",
            "Data columns (total 1 columns):\n",
            "label    20 non-null object\n",
            "dtypes: object(1)\n",
            "memory usage: 288.0+ bytes\n"
          ],
          "name": "stdout"
        },
        {
          "output_type": "execute_result",
          "data": {
            "text/html": [
              "<div>\n",
              "<style scoped>\n",
              "    .dataframe tbody tr th:only-of-type {\n",
              "        vertical-align: middle;\n",
              "    }\n",
              "\n",
              "    .dataframe tbody tr th {\n",
              "        vertical-align: top;\n",
              "    }\n",
              "\n",
              "    .dataframe thead th {\n",
              "        text-align: right;\n",
              "    }\n",
              "</style>\n",
              "<table border=\"1\" class=\"dataframe\">\n",
              "  <thead>\n",
              "    <tr style=\"text-align: right;\">\n",
              "      <th></th>\n",
              "      <th>label</th>\n",
              "    </tr>\n",
              "  </thead>\n",
              "  <tbody>\n",
              "    <tr>\n",
              "      <th>0</th>\n",
              "      <td>fr</td>\n",
              "    </tr>\n",
              "    <tr>\n",
              "      <th>1</th>\n",
              "      <td>id</td>\n",
              "    </tr>\n",
              "  </tbody>\n",
              "</table>\n",
              "</div>"
            ],
            "text/plain": [
              "  label\n",
              "0    fr\n",
              "1    id"
            ]
          },
          "metadata": {
            "tags": []
          },
          "execution_count": 44
        }
      ]
    },
    {
      "cell_type": "code",
      "metadata": {
        "id": "7GbICkOFGuvz",
        "colab_type": "code",
        "outputId": "9bf909e2-d1ce-436a-fee9-1006be9d3600",
        "colab": {
          "base_uri": "https://localhost:8080/",
          "height": 35
        }
      },
      "source": [
        "# df_freqs의 컬럼명을 a-z까지 변경\n",
        "from string import ascii_lowercase\n",
        "ascii_lowercase"
      ],
      "execution_count": 0,
      "outputs": [
        {
          "output_type": "execute_result",
          "data": {
            "text/plain": [
              "'abcdefghijklmnopqrstuvwxyz'"
            ]
          },
          "metadata": {
            "tags": []
          },
          "execution_count": 45
        }
      ]
    },
    {
      "cell_type": "code",
      "metadata": {
        "id": "wPU-GdZAGuzy",
        "colab_type": "code",
        "outputId": "a082e912-769b-4c08-fe29-7c7277e04905",
        "colab": {
          "base_uri": "https://localhost:8080/",
          "height": 131
        }
      },
      "source": [
        "df_freqs.columns = list( ascii_lowercase )\n",
        "df_freqs.head(2)"
      ],
      "execution_count": 0,
      "outputs": [
        {
          "output_type": "execute_result",
          "data": {
            "text/html": [
              "<div>\n",
              "<style scoped>\n",
              "    .dataframe tbody tr th:only-of-type {\n",
              "        vertical-align: middle;\n",
              "    }\n",
              "\n",
              "    .dataframe tbody tr th {\n",
              "        vertical-align: top;\n",
              "    }\n",
              "\n",
              "    .dataframe thead th {\n",
              "        text-align: right;\n",
              "    }\n",
              "</style>\n",
              "<table border=\"1\" class=\"dataframe\">\n",
              "  <thead>\n",
              "    <tr style=\"text-align: right;\">\n",
              "      <th></th>\n",
              "      <th>a</th>\n",
              "      <th>b</th>\n",
              "      <th>c</th>\n",
              "      <th>d</th>\n",
              "      <th>e</th>\n",
              "      <th>f</th>\n",
              "      <th>g</th>\n",
              "      <th>h</th>\n",
              "      <th>i</th>\n",
              "      <th>j</th>\n",
              "      <th>k</th>\n",
              "      <th>l</th>\n",
              "      <th>m</th>\n",
              "      <th>n</th>\n",
              "      <th>o</th>\n",
              "      <th>p</th>\n",
              "      <th>q</th>\n",
              "      <th>r</th>\n",
              "      <th>s</th>\n",
              "      <th>t</th>\n",
              "      <th>u</th>\n",
              "      <th>v</th>\n",
              "      <th>w</th>\n",
              "      <th>x</th>\n",
              "      <th>y</th>\n",
              "      <th>z</th>\n",
              "    </tr>\n",
              "  </thead>\n",
              "  <tbody>\n",
              "    <tr>\n",
              "      <th>0</th>\n",
              "      <td>0.072599</td>\n",
              "      <td>0.015761</td>\n",
              "      <td>0.039836</td>\n",
              "      <td>0.051129</td>\n",
              "      <td>0.157111</td>\n",
              "      <td>0.013031</td>\n",
              "      <td>0.013527</td>\n",
              "      <td>0.014396</td>\n",
              "      <td>0.085629</td>\n",
              "      <td>0.004344</td>\n",
              "      <td>0.001862</td>\n",
              "      <td>0.062050</td>\n",
              "      <td>0.029039</td>\n",
              "      <td>0.073964</td>\n",
              "      <td>0.056217</td>\n",
              "      <td>0.023455</td>\n",
              "      <td>0.005833</td>\n",
              "      <td>0.082030</td>\n",
              "      <td>0.066518</td>\n",
              "      <td>0.061057</td>\n",
              "      <td>0.042690</td>\n",
              "      <td>0.015140</td>\n",
              "      <td>0.000745</td>\n",
              "      <td>0.005088</td>\n",
              "      <td>0.004964</td>\n",
              "      <td>0.001986</td>\n",
              "    </tr>\n",
              "    <tr>\n",
              "      <th>1</th>\n",
              "      <td>0.147555</td>\n",
              "      <td>0.024698</td>\n",
              "      <td>0.009199</td>\n",
              "      <td>0.039441</td>\n",
              "      <td>0.093372</td>\n",
              "      <td>0.011089</td>\n",
              "      <td>0.033896</td>\n",
              "      <td>0.018523</td>\n",
              "      <td>0.100302</td>\n",
              "      <td>0.005292</td>\n",
              "      <td>0.037928</td>\n",
              "      <td>0.037172</td>\n",
              "      <td>0.038432</td>\n",
              "      <td>0.084677</td>\n",
              "      <td>0.035534</td>\n",
              "      <td>0.034778</td>\n",
              "      <td>0.000000</td>\n",
              "      <td>0.046623</td>\n",
              "      <td>0.081401</td>\n",
              "      <td>0.050781</td>\n",
              "      <td>0.040575</td>\n",
              "      <td>0.008065</td>\n",
              "      <td>0.005040</td>\n",
              "      <td>0.001386</td>\n",
              "      <td>0.013609</td>\n",
              "      <td>0.000630</td>\n",
              "    </tr>\n",
              "  </tbody>\n",
              "</table>\n",
              "</div>"
            ],
            "text/plain": [
              "          a         b         c  ...         x         y         z\n",
              "0  0.072599  0.015761  0.039836  ...  0.005088  0.004964  0.001986\n",
              "1  0.147555  0.024698  0.009199  ...  0.001386  0.013609  0.000630\n",
              "\n",
              "[2 rows x 26 columns]"
            ]
          },
          "metadata": {
            "tags": []
          },
          "execution_count": 46
        }
      ]
    },
    {
      "cell_type": "code",
      "metadata": {
        "id": "A5SDhKynGu4C",
        "colab_type": "code",
        "outputId": "6a9790df-25c4-4bcc-fdb5-231a253fc3a2",
        "colab": {
          "base_uri": "https://localhost:8080/",
          "height": 35
        }
      },
      "source": [
        "# df_freqs, df_labels 결합 -> ( 20, 27 )\n",
        "df_cc = pd.concat([ df_freqs, df_labels ], axis=1)\n",
        "df_cc.shape"
      ],
      "execution_count": 0,
      "outputs": [
        {
          "output_type": "execute_result",
          "data": {
            "text/plain": [
              "(20, 27)"
            ]
          },
          "metadata": {
            "tags": []
          },
          "execution_count": 47
        }
      ]
    },
    {
      "cell_type": "code",
      "metadata": {
        "id": "490Y3qMHGu8R",
        "colab_type": "code",
        "outputId": "6b66202c-d4d2-47d0-8bcc-c913c5267ce5",
        "colab": {
          "base_uri": "https://localhost:8080/",
          "height": 131
        }
      },
      "source": [
        "df_tmp = pd.merge( df_freqs, df_labels, how='outer', left_index=True, right_index=True)\n",
        "df_tmp.head(2)"
      ],
      "execution_count": 0,
      "outputs": [
        {
          "output_type": "execute_result",
          "data": {
            "text/html": [
              "<div>\n",
              "<style scoped>\n",
              "    .dataframe tbody tr th:only-of-type {\n",
              "        vertical-align: middle;\n",
              "    }\n",
              "\n",
              "    .dataframe tbody tr th {\n",
              "        vertical-align: top;\n",
              "    }\n",
              "\n",
              "    .dataframe thead th {\n",
              "        text-align: right;\n",
              "    }\n",
              "</style>\n",
              "<table border=\"1\" class=\"dataframe\">\n",
              "  <thead>\n",
              "    <tr style=\"text-align: right;\">\n",
              "      <th></th>\n",
              "      <th>a</th>\n",
              "      <th>b</th>\n",
              "      <th>c</th>\n",
              "      <th>d</th>\n",
              "      <th>e</th>\n",
              "      <th>f</th>\n",
              "      <th>g</th>\n",
              "      <th>h</th>\n",
              "      <th>i</th>\n",
              "      <th>j</th>\n",
              "      <th>k</th>\n",
              "      <th>l</th>\n",
              "      <th>m</th>\n",
              "      <th>n</th>\n",
              "      <th>o</th>\n",
              "      <th>p</th>\n",
              "      <th>q</th>\n",
              "      <th>r</th>\n",
              "      <th>s</th>\n",
              "      <th>t</th>\n",
              "      <th>u</th>\n",
              "      <th>v</th>\n",
              "      <th>w</th>\n",
              "      <th>x</th>\n",
              "      <th>y</th>\n",
              "      <th>z</th>\n",
              "      <th>label</th>\n",
              "    </tr>\n",
              "  </thead>\n",
              "  <tbody>\n",
              "    <tr>\n",
              "      <th>0</th>\n",
              "      <td>0.072599</td>\n",
              "      <td>0.015761</td>\n",
              "      <td>0.039836</td>\n",
              "      <td>0.051129</td>\n",
              "      <td>0.157111</td>\n",
              "      <td>0.013031</td>\n",
              "      <td>0.013527</td>\n",
              "      <td>0.014396</td>\n",
              "      <td>0.085629</td>\n",
              "      <td>0.004344</td>\n",
              "      <td>0.001862</td>\n",
              "      <td>0.062050</td>\n",
              "      <td>0.029039</td>\n",
              "      <td>0.073964</td>\n",
              "      <td>0.056217</td>\n",
              "      <td>0.023455</td>\n",
              "      <td>0.005833</td>\n",
              "      <td>0.082030</td>\n",
              "      <td>0.066518</td>\n",
              "      <td>0.061057</td>\n",
              "      <td>0.042690</td>\n",
              "      <td>0.015140</td>\n",
              "      <td>0.000745</td>\n",
              "      <td>0.005088</td>\n",
              "      <td>0.004964</td>\n",
              "      <td>0.001986</td>\n",
              "      <td>fr</td>\n",
              "    </tr>\n",
              "    <tr>\n",
              "      <th>1</th>\n",
              "      <td>0.147555</td>\n",
              "      <td>0.024698</td>\n",
              "      <td>0.009199</td>\n",
              "      <td>0.039441</td>\n",
              "      <td>0.093372</td>\n",
              "      <td>0.011089</td>\n",
              "      <td>0.033896</td>\n",
              "      <td>0.018523</td>\n",
              "      <td>0.100302</td>\n",
              "      <td>0.005292</td>\n",
              "      <td>0.037928</td>\n",
              "      <td>0.037172</td>\n",
              "      <td>0.038432</td>\n",
              "      <td>0.084677</td>\n",
              "      <td>0.035534</td>\n",
              "      <td>0.034778</td>\n",
              "      <td>0.000000</td>\n",
              "      <td>0.046623</td>\n",
              "      <td>0.081401</td>\n",
              "      <td>0.050781</td>\n",
              "      <td>0.040575</td>\n",
              "      <td>0.008065</td>\n",
              "      <td>0.005040</td>\n",
              "      <td>0.001386</td>\n",
              "      <td>0.013609</td>\n",
              "      <td>0.000630</td>\n",
              "      <td>id</td>\n",
              "    </tr>\n",
              "  </tbody>\n",
              "</table>\n",
              "</div>"
            ],
            "text/plain": [
              "          a         b         c         d  ...         x         y         z  label\n",
              "0  0.072599  0.015761  0.039836  0.051129  ...  0.005088  0.004964  0.001986     fr\n",
              "1  0.147555  0.024698  0.009199  0.039441  ...  0.001386  0.013609  0.000630     id\n",
              "\n",
              "[2 rows x 27 columns]"
            ]
          },
          "metadata": {
            "tags": []
          },
          "execution_count": 48
        }
      ]
    },
    {
      "cell_type": "markdown",
      "metadata": {
        "id": "cmRjMhPEGvEK",
        "colab_type": "text"
      },
      "source": [
        "### 피벗 ( 특정 컬럼에 반복적으로 데이터가 보이면, 그 종류가 한정적 )\n",
        "\n",
        "- 현재 데이터를 일종의 로그가 누적 된 데이터이다\n",
        "- 이 데이터에서 숨겨진 정보를 추출하기 위해서, 관점을 달리하여 데이터를 재구성\n",
        "- 국가별 알파뱃의 빈도\n",
        "- row : 국가별 정렬\n",
        "- column : 알파뱃으로 정렬\n",
        "- index : en, fr, ... column은 a-z까지 재구성해라 -> pivot_table\n"
      ]
    },
    {
      "cell_type": "code",
      "metadata": {
        "id": "GNsr2Lw-Hag1",
        "colab_type": "code",
        "outputId": "8dac5f2a-c669-4bba-e42b-6c87c74bec37",
        "colab": {
          "base_uri": "https://localhost:8080/",
          "height": 35
        }
      },
      "source": [
        "# label 값 추출 및 중복제거\n",
        "df_tmp['label'].unique() # 라벨 중복제거된값 확인 -> 피봇적합성 확인\n",
        "df_tmp.label.unique()"
      ],
      "execution_count": 0,
      "outputs": [
        {
          "output_type": "execute_result",
          "data": {
            "text/plain": [
              "array(['fr', 'id', 'tl', 'en'], dtype=object)"
            ]
          },
          "metadata": {
            "tags": []
          },
          "execution_count": 49
        }
      ]
    },
    {
      "cell_type": "code",
      "metadata": {
        "id": "ZXJpIeWKHalm",
        "colab_type": "code",
        "outputId": "b1ed17d6-5206-417a-f2c8-87cbfe5f63e7",
        "colab": {
          "base_uri": "https://localhost:8080/",
          "height": 125
        }
      },
      "source": [
        "# 실습 결과물 ( 4, 26 )\n",
        "df_tmp_pv = pd.pivot_table(df_tmp, index=df_tmp.label)\n",
        "df_tmp_pv.head(2), df_tmp_pv.shape"
      ],
      "execution_count": 0,
      "outputs": [
        {
          "output_type": "execute_result",
          "data": {
            "text/plain": [
              "(              a         b         c  ...         x         y         z\n",
              " label                                ...                              \n",
              " en     0.075558  0.018601  0.036565  ...  0.002466  0.016232  0.000788\n",
              " fr     0.076183  0.013140  0.036707  ...  0.004234  0.004813  0.000915\n",
              " \n",
              " [2 rows x 26 columns], (4, 26))"
            ]
          },
          "metadata": {
            "tags": []
          },
          "execution_count": 50
        }
      ]
    },
    {
      "cell_type": "code",
      "metadata": {
        "id": "ieANIUA9HasE",
        "colab_type": "code",
        "outputId": "bd2fcf5a-1ddb-456e-a4da-17638ab1dab3",
        "colab": {
          "base_uri": "https://localhost:8080/",
          "height": 161
        }
      },
      "source": [
        "# a~z가  index, 국가가 컬럼\n",
        "df_tmp_pv.transpose\n"
      ],
      "execution_count": 0,
      "outputs": [
        {
          "output_type": "execute_result",
          "data": {
            "text/plain": [
              "<bound method DataFrame.transpose of               a         b         c  ...         x         y         z\n",
              "label                                ...                              \n",
              "en     0.075558  0.018601  0.036565  ...  0.002466  0.016232  0.000788\n",
              "fr     0.076183  0.013140  0.036707  ...  0.004234  0.004813  0.000915\n",
              "id     0.160047  0.026276  0.008391  ...  0.000725  0.012463  0.000807\n",
              "tl     0.210537  0.021824  0.010842  ...  0.000430  0.025048  0.001396\n",
              "\n",
              "[4 rows x 26 columns]>"
            ]
          },
          "metadata": {
            "tags": []
          },
          "execution_count": 51
        }
      ]
    },
    {
      "cell_type": "code",
      "metadata": {
        "id": "zSeEht_uHayk",
        "colab_type": "code",
        "outputId": "3b6edefd-b11a-4dcc-b315-8efb18523507",
        "colab": {
          "base_uri": "https://localhost:8080/",
          "height": 35
        }
      },
      "source": [
        "df_tmp_pv = pd.pivot_table(df_tmp, columns = df_tmp.label)\n",
        "df_tmp_pv.shape"
      ],
      "execution_count": 0,
      "outputs": [
        {
          "output_type": "execute_result",
          "data": {
            "text/plain": [
              "(26, 4)"
            ]
          },
          "metadata": {
            "tags": []
          },
          "execution_count": 52
        }
      ]
    },
    {
      "cell_type": "code",
      "metadata": {
        "id": "iQN0cZk9Ha-m",
        "colab_type": "code",
        "outputId": "98e10e6f-f5e3-4a93-8e07-127b2225eef6",
        "colab": {
          "base_uri": "https://localhost:8080/",
          "height": 499
        }
      },
      "source": [
        "# 바 차트\n",
        "# ggplot 스타일\n",
        "plt.style.use('ggplot')\n",
        "# 플로팅, y축의 값을 특정 구간으로 제한하겠다\n",
        "df_tmp_pv.plot( kind = 'bar', subplots = True, figsize=( 16, 8 ), ylim=(0, 0.25))\n",
        "# 저장\n",
        "plt.savefig('/content/drive/My Drive/data/02CntWord/na_per_freqs.png')\n",
        "# 보이기\n",
        "# plt.show()"
      ],
      "execution_count": 0,
      "outputs": [
        {
          "output_type": "display_data",
          "data": {
            "image/png": "[encoded data removed]",
            "text/plain": [
              "<Figure size 1152x576 with 4 Axes>"
            ]
          },
          "metadata": {
            "tags": []
          }
        }
      ]
    },
    {
      "cell_type": "code",
      "metadata": {
        "id": "Y3hOwpyeHbA3",
        "colab_type": "code",
        "outputId": "d305a312-3729-4ac5-c324-7e4f8701e54d",
        "colab": {
          "base_uri": "https://localhost:8080/",
          "height": 35
        }
      },
      "source": [
        "# 단어별로 (a~z)로 한개의 차트에 국가별로 빈도를 그린다.\n",
        "# 이 차트는 저장한다.=> a_freqs.png, b_freqs.png, .. z_freqs.png\n",
        "# 한개의 차트에 여러값을 표현하여 비중의 차이점을 그린다.\n",
        "# 데이터는 df_tmp 를 이용하여 a만 모아서 국가별로 그리고, b만 모아서..\n",
        "# 한 차트에 겹쳐그려서 데이터의 위치(분포)가 구분되는지, 겹치는지 확인 -> 히스토그램\n",
        "# 추가설명\n",
        "# 차트는 총 26개\n",
        "# ex) a빈도를 그린다면, 한 차트에 특정국가별로 a만 그린다(국가별로색구분됨)\n",
        "#     색의 겹침을 보기 위해서 투명값을 부여 alpha=0.4\n",
        "df_tmp['label'].unique()"
      ],
      "execution_count": 0,
      "outputs": [
        {
          "output_type": "execute_result",
          "data": {
            "text/plain": [
              "array(['fr', 'id', 'tl', 'en'], dtype=object)"
            ]
          },
          "metadata": {
            "tags": []
          },
          "execution_count": 54
        }
      ]
    },
    {
      "cell_type": "code",
      "metadata": {
        "id": "MSyfrDVxHbEe",
        "colab_type": "code",
        "outputId": "ea519726-9e81-46e6-8dc1-25dfacf29238",
        "colab": {
          "base_uri": "https://localhost:8080/",
          "height": 224
        }
      },
      "source": [
        "# for na in df_tmp['label'].unique():\n",
        "  # if na == 'en':\n",
        "df_tmp[df_tmp['label'] == 'en']"
      ],
      "execution_count": 0,
      "outputs": [
        {
          "output_type": "execute_result",
          "data": {
            "text/html": [
              "<div>\n",
              "<style scoped>\n",
              "    .dataframe tbody tr th:only-of-type {\n",
              "        vertical-align: middle;\n",
              "    }\n",
              "\n",
              "    .dataframe tbody tr th {\n",
              "        vertical-align: top;\n",
              "    }\n",
              "\n",
              "    .dataframe thead th {\n",
              "        text-align: right;\n",
              "    }\n",
              "</style>\n",
              "<table border=\"1\" class=\"dataframe\">\n",
              "  <thead>\n",
              "    <tr style=\"text-align: right;\">\n",
              "      <th></th>\n",
              "      <th>a</th>\n",
              "      <th>b</th>\n",
              "      <th>c</th>\n",
              "      <th>d</th>\n",
              "      <th>e</th>\n",
              "      <th>f</th>\n",
              "      <th>g</th>\n",
              "      <th>h</th>\n",
              "      <th>i</th>\n",
              "      <th>j</th>\n",
              "      <th>k</th>\n",
              "      <th>l</th>\n",
              "      <th>m</th>\n",
              "      <th>n</th>\n",
              "      <th>o</th>\n",
              "      <th>p</th>\n",
              "      <th>q</th>\n",
              "      <th>r</th>\n",
              "      <th>s</th>\n",
              "      <th>t</th>\n",
              "      <th>u</th>\n",
              "      <th>v</th>\n",
              "      <th>w</th>\n",
              "      <th>x</th>\n",
              "      <th>y</th>\n",
              "      <th>z</th>\n",
              "      <th>label</th>\n",
              "    </tr>\n",
              "  </thead>\n",
              "  <tbody>\n",
              "    <tr>\n",
              "      <th>9</th>\n",
              "      <td>0.073806</td>\n",
              "      <td>0.020368</td>\n",
              "      <td>0.031099</td>\n",
              "      <td>0.039641</td>\n",
              "      <td>0.141261</td>\n",
              "      <td>0.020368</td>\n",
              "      <td>0.020368</td>\n",
              "      <td>0.056943</td>\n",
              "      <td>0.065046</td>\n",
              "      <td>0.003285</td>\n",
              "      <td>0.005913</td>\n",
              "      <td>0.039641</td>\n",
              "      <td>0.028909</td>\n",
              "      <td>0.062199</td>\n",
              "      <td>0.066141</td>\n",
              "      <td>0.018835</td>\n",
              "      <td>0.000438</td>\n",
              "      <td>0.072492</td>\n",
              "      <td>0.059571</td>\n",
              "      <td>0.095488</td>\n",
              "      <td>0.024967</td>\n",
              "      <td>0.010731</td>\n",
              "      <td>0.023872</td>\n",
              "      <td>0.003066</td>\n",
              "      <td>0.014893</td>\n",
              "      <td>0.000657</td>\n",
              "      <td>en</td>\n",
              "    </tr>\n",
              "    <tr>\n",
              "      <th>10</th>\n",
              "      <td>0.072210</td>\n",
              "      <td>0.027715</td>\n",
              "      <td>0.029977</td>\n",
              "      <td>0.039593</td>\n",
              "      <td>0.121041</td>\n",
              "      <td>0.016780</td>\n",
              "      <td>0.023567</td>\n",
              "      <td>0.059012</td>\n",
              "      <td>0.065234</td>\n",
              "      <td>0.001508</td>\n",
              "      <td>0.013009</td>\n",
              "      <td>0.044872</td>\n",
              "      <td>0.021493</td>\n",
              "      <td>0.058635</td>\n",
              "      <td>0.087670</td>\n",
              "      <td>0.016780</td>\n",
              "      <td>0.000377</td>\n",
              "      <td>0.059201</td>\n",
              "      <td>0.073341</td>\n",
              "      <td>0.093703</td>\n",
              "      <td>0.024321</td>\n",
              "      <td>0.005090</td>\n",
              "      <td>0.019608</td>\n",
              "      <td>0.006033</td>\n",
              "      <td>0.017534</td>\n",
              "      <td>0.001697</td>\n",
              "      <td>en</td>\n",
              "    </tr>\n",
              "    <tr>\n",
              "      <th>13</th>\n",
              "      <td>0.084178</td>\n",
              "      <td>0.019912</td>\n",
              "      <td>0.030404</td>\n",
              "      <td>0.038870</td>\n",
              "      <td>0.136998</td>\n",
              "      <td>0.017408</td>\n",
              "      <td>0.031239</td>\n",
              "      <td>0.027423</td>\n",
              "      <td>0.075355</td>\n",
              "      <td>0.002623</td>\n",
              "      <td>0.009777</td>\n",
              "      <td>0.042327</td>\n",
              "      <td>0.024204</td>\n",
              "      <td>0.053535</td>\n",
              "      <td>0.068797</td>\n",
              "      <td>0.020269</td>\n",
              "      <td>0.005485</td>\n",
              "      <td>0.090140</td>\n",
              "      <td>0.071659</td>\n",
              "      <td>0.077739</td>\n",
              "      <td>0.030643</td>\n",
              "      <td>0.013712</td>\n",
              "      <td>0.013950</td>\n",
              "      <td>0.002027</td>\n",
              "      <td>0.010731</td>\n",
              "      <td>0.000596</td>\n",
              "      <td>en</td>\n",
              "    </tr>\n",
              "    <tr>\n",
              "      <th>14</th>\n",
              "      <td>0.075952</td>\n",
              "      <td>0.012840</td>\n",
              "      <td>0.045702</td>\n",
              "      <td>0.046137</td>\n",
              "      <td>0.105332</td>\n",
              "      <td>0.015669</td>\n",
              "      <td>0.019151</td>\n",
              "      <td>0.043743</td>\n",
              "      <td>0.073993</td>\n",
              "      <td>0.001741</td>\n",
              "      <td>0.005441</td>\n",
              "      <td>0.053754</td>\n",
              "      <td>0.026333</td>\n",
              "      <td>0.077476</td>\n",
              "      <td>0.089663</td>\n",
              "      <td>0.016540</td>\n",
              "      <td>0.000000</td>\n",
              "      <td>0.077693</td>\n",
              "      <td>0.061371</td>\n",
              "      <td>0.080522</td>\n",
              "      <td>0.025898</td>\n",
              "      <td>0.009793</td>\n",
              "      <td>0.014146</td>\n",
              "      <td>0.000653</td>\n",
              "      <td>0.020022</td>\n",
              "      <td>0.000435</td>\n",
              "      <td>en</td>\n",
              "    </tr>\n",
              "    <tr>\n",
              "      <th>15</th>\n",
              "      <td>0.071646</td>\n",
              "      <td>0.012172</td>\n",
              "      <td>0.045643</td>\n",
              "      <td>0.032642</td>\n",
              "      <td>0.120055</td>\n",
              "      <td>0.014661</td>\n",
              "      <td>0.025173</td>\n",
              "      <td>0.023513</td>\n",
              "      <td>0.094606</td>\n",
              "      <td>0.002490</td>\n",
              "      <td>0.001660</td>\n",
              "      <td>0.056985</td>\n",
              "      <td>0.022407</td>\n",
              "      <td>0.075519</td>\n",
              "      <td>0.076625</td>\n",
              "      <td>0.020747</td>\n",
              "      <td>0.001660</td>\n",
              "      <td>0.053942</td>\n",
              "      <td>0.087967</td>\n",
              "      <td>0.081051</td>\n",
              "      <td>0.029046</td>\n",
              "      <td>0.018811</td>\n",
              "      <td>0.011895</td>\n",
              "      <td>0.000553</td>\n",
              "      <td>0.017981</td>\n",
              "      <td>0.000553</td>\n",
              "      <td>en</td>\n",
              "    </tr>\n",
              "  </tbody>\n",
              "</table>\n",
              "</div>"
            ],
            "text/plain": [
              "           a         b         c         d  ...         x         y         z  label\n",
              "9   0.073806  0.020368  0.031099  0.039641  ...  0.003066  0.014893  0.000657     en\n",
              "10  0.072210  0.027715  0.029977  0.039593  ...  0.006033  0.017534  0.001697     en\n",
              "13  0.084178  0.019912  0.030404  0.038870  ...  0.002027  0.010731  0.000596     en\n",
              "14  0.075952  0.012840  0.045702  0.046137  ...  0.000653  0.020022  0.000435     en\n",
              "15  0.071646  0.012172  0.045643  0.032642  ...  0.000553  0.017981  0.000553     en\n",
              "\n",
              "[5 rows x 27 columns]"
            ]
          },
          "metadata": {
            "tags": []
          },
          "execution_count": 55
        }
      ]
    },
    {
      "cell_type": "code",
      "metadata": {
        "id": "JLz5VNC8HhXq",
        "colab_type": "code",
        "outputId": "7876c5eb-c797-437e-e352-8db3ce5ebced",
        "colab": {
          "base_uri": "https://localhost:8080/",
          "height": 125
        }
      },
      "source": [
        "# df_tmp에서 label이 en 만 모아\n",
        "# 불리언 인덱싱\n",
        "df_tmp[df_tmp['label'] == 'en']['a']"
      ],
      "execution_count": 0,
      "outputs": [
        {
          "output_type": "execute_result",
          "data": {
            "text/plain": [
              "9     0.073806\n",
              "10    0.072210\n",
              "13    0.084178\n",
              "14    0.075952\n",
              "15    0.071646\n",
              "Name: a, dtype: float64"
            ]
          },
          "metadata": {
            "tags": []
          },
          "execution_count": 56
        }
      ]
    },
    {
      "cell_type": "code",
      "metadata": {
        "id": "og3OGvr8Hhds",
        "colab_type": "code",
        "outputId": "97c55a04-9106-4deb-a36a-a2f11e0da1b8",
        "colab": {
          "base_uri": "https://localhost:8080/",
          "height": 294
        }
      },
      "source": [
        "# a-z : 26\n",
        "for word in ascii_lowercase:\n",
        "  #print( word )\n",
        "  # en, fr, id, tl : 4 \n",
        "  for na in df_tmp['label'].unique():\n",
        "    # en이면서, a만\n",
        "    # en만 모아\n",
        "    tmp = df_tmp[ df_tmp['label'] == na ][word]    \n",
        "    # tmp.plot(종류, alpha투명값, 라벨)\n",
        "    tmp.plot( kind='hist', alpha=0.4, label=na )\n",
        "    # print( word, na )\n",
        "  # 차트 1개에 대한 추가분\n",
        "  plt.legend()                   # 범례표기\n",
        "  plt.suptitle('%s freqs' % word)# 제목\n",
        "  plt.savefig('/content/drive/My Drive/data/02CntWord/%s_freqs.png' % word) # 저장\n",
        "  plt.show()\n",
        "  break # 한개를 돌려보고 제대로 저장까지 되는것 확인후 break 주석처리"
      ],
      "execution_count": 0,
      "outputs": [
        {
          "output_type": "display_data",
          "data": {
            "image/png": "[encoded data removed]",
            "text/plain": [
              "<Figure size 432x288 with 1 Axes>"
            ]
          },
          "metadata": {
            "tags": []
          }
        }
      ]
    },
    {
      "cell_type": "code",
      "metadata": {
        "id": "RnmQommkHhjk",
        "colab_type": "code",
        "outputId": "1fa83329-f059-4ccd-d766-e2e204c189db",
        "colab": {
          "base_uri": "https://localhost:8080/",
          "height": 396
        }
      },
      "source": [
        "# 선형차트로 최종 다시 확인\n",
        "df_tmp_pv.plot( kind='line', figsize=(16,6), ylim=(0,0.25) )"
      ],
      "execution_count": 0,
      "outputs": [
        {
          "output_type": "execute_result",
          "data": {
            "text/plain": [
              "<matplotlib.axes._subplots.AxesSubplot at 0x7f1f919d39b0>"
            ]
          },
          "metadata": {
            "tags": []
          },
          "execution_count": 58
        },
        {
          "output_type": "display_data",
          "data": {
            "image/png": "[encoded data removed]",
            "text/plain": [
              "<Figure size 1152x432 with 1 Axes>"
            ]
          },
          "metadata": {
            "tags": []
          }
        }
      ]
    },
    {
      "cell_type": "code",
      "metadata": {
        "id": "yN6v1YnZHhyn",
        "colab_type": "code",
        "colab": {}
      },
      "source": [
        ""
      ],
      "execution_count": 0,
      "outputs": []
    },
    {
      "cell_type": "markdown",
      "metadata": {
        "id": "ZyMw6KO4L-jg",
        "colab_type": "text"
      },
      "source": [
        "# 5.데이터 모델링 구축\n"
      ]
    },
    {
      "cell_type": "markdown",
      "metadata": {
        "id": "S9NOQxNVg3Po",
        "colab_type": "text"
      },
      "source": [
        "- 머신러닝 기준\n",
        "  - 알고리즘 선택 (선택 시트)\n",
        "  - 데이터를 학습(훈련)용과 테스트용으로 나눈다\n",
        "    - 75:25 (황금비율), 통계(80:20)\n",
        "    - 75(50:25, 학습용:검증용) <- 폴드(fold)\n",
        "  - 학습 -> fit(), xxxfit()\n",
        "  - 예측 -> 테스트용 데이터를 이용\n",
        "  - 성능 평가\n",
        "    - 분류 : 혼동(오차)행렬 -> 정확도, 정밀도, f1-score, AUR, ROC Curve\n",
        "      - 회귀 : 평균제곱근오차 -> 손실함수(대표)\n",
        "    - 최적화\n",
        "      - 데이터량의 증가(학습량 증가)\n",
        "      - 알고리즘 교체? 고민( 교차검증)\n",
        "      - 데이터의 품질?\n",
        "      - 파이프라인 구축(교차검증)\n",
        "    - 목표치에 도달할때까지 반복\n",
        "    - 시스템 통합에 적합한 구조로 덤프"
      ]
    },
    {
      "cell_type": "markdown",
      "metadata": {
        "id": "BTgxe7EWMCuR",
        "colab_type": "text"
      },
      "source": [
        "# 6.시스템 통합"
      ]
    },
    {
      "cell_type": "markdown",
      "metadata": {
        "id": "4tm38EUCg6uX",
        "colab_type": "text"
      },
      "source": [
        "\n",
        "\n",
        "- 신규 서비스\n",
        "  1. 학습한 알고리즘 덤프 파일을 로드\n",
        "  1. 신규 데이터가 진입\n",
        "  1. 학습했던 데이터로 변환 처리\n",
        "  1. 예측, 생성, 등등\n",
        "  1. 로그 처리\n",
        "    1. 데이터를 모은다\n",
        "    1. 알고리즘의 성능을 개선\n",
        "    1. 온라인학습, 배치학습 등\n",
        "      - (앞서 만든것을 운영)\n",
        "- 레포트\n",
        "  - 보고서(통계쪽에서 많이 사용)\n",
        "    - 의사 결정에 재료로 제공\n",
        "- 기성 S/W 에 추가\n",
        "  - GUI(*.msi, *.dmg, *.pkg, *.exe)\n",
        "    - QT5, thinker, ...\n",
        "  - Web(Django, flask)\n",
        "  - process(os단 백그라운드 처리)\n",
        "  - mobile\n",
        "    - android, ios단 에서 ML지원모듈활용, 모델을 제공\n",
        "    - tensorflowLite"
      ]
    },
    {
      "cell_type": "code",
      "metadata": {
        "id": "I-HhL0r3-Tg4",
        "colab_type": "code",
        "outputId": "efffbb81-db80-4555-e51b-1c2f48fb7eb5",
        "colab": {
          "base_uri": "https://localhost:8080/",
          "height": 34
        }
      },
      "source": [
        "from IPython.display import Image\n",
        "Image('/content/주석 2020-02-21 131743.png', width=500)\n",
        "## 최종산출물\n",
        "## 웹기반(간단한 flask로 정리)\n",
        "# 머신러닝(Support Vector Machine, Support Vector Classification)으로 언어감지\n",
        "# 딥러닝(RNN, 다대다 신경망구성)으로는 언어번역\n"
      ],
      "execution_count": 0,
      "outputs": [
        {
          "output_type": "execute_result",
          "data": {
            "image/png": "/content/주석 2020-02-21 131743.png",
            "text/plain": [
              "<IPython.core.display.Image object>"
            ]
          },
          "metadata": {
            "tags": [],
            "image/png": {
              "width": 500
            }
          },
          "execution_count": 59
        }
      ]
    },
    {
      "cell_type": "markdown",
      "metadata": {
        "id": "quOhQzkYAWEd",
        "colab_type": "text"
      },
      "source": [
        "## 구동 원리\n",
        "\n",
        "1. 사용자가 번역에 필요한 글자를 입력한다(영어 알파뱃)\n",
        "1. 언어감지라는 버튼을 클릭한다\n",
        "1. 언어를 읽어서 서버로 전송\n",
        "1. 서버에서 데이터를 알고리즘이 예측할 수 있는 형태로 변환처리\n",
        "1. 예측\n",
        "1. 예측결과를 응답\n",
        "1. 응답결과를 화면에 표시\n",
        "\n",
        " "
      ]
    }
  ]
}