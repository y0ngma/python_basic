{
 "cells": [
  {
   "cell_type": "markdown",
   "metadata": {},
   "source": [
    "# 파이썬 웹 프로그래밍"
   ]
  },
  {
   "cell_type": "markdown",
   "metadata": {},
   "source": [
    "## 파이썬 DB 연동"
   ]
  },
  {
   "cell_type": "markdown",
   "metadata": {},
   "source": [
    "#### d1_intro\n",
    "\n",
    "- ihongss.com - webboard\n",
    "- 아뒤/비번 : 20191216/20191216"
   ]
  },
  {
   "cell_type": "markdown",
   "metadata": {},
   "source": [
    "### 파이썬 웹 프레임 워크\n",
    "\n",
    "- 플라스크 \n",
    "    - Flask는 마이크로 프레임워크.\n",
    "    - 가볍고 특히, API 서버 구축용이.\n",
    "        - 사용처 : pinterest, reddit\n",
    "- 쟁고우 [ˈdʒæŋɡoʊ]\n",
    "    - Django는 2005년부터 시작된 Python의 오픈 소스 웹 프레임워크이다. Django는 풀 스택 프레임워크\n",
    "        - 사용처 : 인스타 등"
   ]
  },
  {
   "cell_type": "markdown",
   "metadata": {},
   "source": [
    "### Docker toolbox  설치\n",
    "\n",
    "- 주소 : http://ihongss.com/home/post?id=p_1573554859361\n",
    "- 가상환경 구축 : https://github.com/docker/toolbox/releases\n",
    "- DockerToolbox-19.03.1.exe 다운로드\n",
    "- 설치시 Git window 체크\n"
   ]
  },
  {
   "cell_type": "markdown",
   "metadata": {},
   "source": [
    "### 도커 구축\n",
    "\n",
    "- 윈도우안에 도커라는 가상환경 구축 192.168.99.100\n",
    "- PC가 두개 있다고 생각.\n",
    "- 내부 도커 서버 전원을 꺼야 Oracel VM VirtualBox 설정변경 가능\n",
    "    - Docker QuickStart Terminal 이용\n",
    "    - ```$docker-machine stop``` 입력\n",
    "- VM VirtualBox 설정\n",
    "    - 설정-시스템-마더보드-8192MB 할당\n",
    "- 터미널에서 재가동\n",
    "    - ```$docker-machine start```\n",
    "    - ```$docker search oracle-12c``` : 오라클 이미지 list에 평점높은것 확인\n",
    "        - 설치하게 편하게 (CD처럼) 이미지\n",
    "    - ```$docker pull truevoly/oracle-12c``` 이미지 다운로드"
   ]
  },
  {
   "cell_type": "markdown",
   "metadata": {},
   "source": [
    "### 컨테이너 연결\n",
    "\n",
    "- 최초 1회만\n",
    "- 컨테이너 = 오라클\n",
    "- 설치된 오라클 버전12c로 [컴퓨터 포트]:[내부 컨테이너 포트]를 연결시킴\n",
    "- 외부사용자는 내 컴퓨터 포트번호를 통해 내부컨테이너 포트로 도커접속\n",
    "- ```$docker run --name oracle12c -d -p 32765:8080 -p 32764:1521 truevoly/oracle-12c```\n",
    "    - 리눅스 개발환경을 구축하기 위함\n",
    "    - : 컴퓨터포트 : 컨테이너 포트 \n",
    "    - 32765:8080\n",
    "    - 32764:1521\n",
    "    \n",
    "- ```$docker logs oracle12c``` 설치완료 확인\n",
    "- ```$docker ps -a``` 구동중인 컨테이너 확인\n",
    "- ```$docker start oracle12c```컨테이너 실행\n",
    "- ```$docker stop oracle12c``` 컨테이너 중지/삭제 stop->rm"
   ]
  },
  {
   "cell_type": "markdown",
   "metadata": {},
   "source": [
    "### SQL developer\n",
    "\n",
    "- Java platform 64bit 설치\n",
    "- sqldeveloper 폴더의 실행파일 실행\n",
    "- 설치경로 ```C:\\Program Files\\Java\\jdk1.8.0_211```를 연결\n",
    "\n",
    "- Oracle SQL Developer 환경설정\n",
    "    - 접속창에 +눌러서 다음과 같이 설정\n",
    "        - Name: 192.168.99.100_system\n",
    "        - 사용자이름 : system\n",
    "        - 비밀번호 : oracle\n",
    "        - 호스트이름 : 192.168.99.100\n",
    "        - 포트 : 32764\n",
    "        \n",
    "- Oracle 접속\n",
    "    - #system 계정은 고급사용자용(10년차) 이므로 따로 만든다\n",
    "        - 테이블 디렉토리에 내용 엄청 많음\n",
    "    - 계정 생성 -> 워크시트에 다음과 같이 작성 \n",
    "    - ```SQL\n",
    "    CREATE user admin IDENTIFIED BY 1234;\n",
    "      grant connect, resource, dba to admin;\n",
    "      ```\n",
    "    - 좌측에서 첫째(플레이)누르고, 6번째도 누른다(체크)\n",
    "    - system 으로 만든 연결된것을 삭제\n",
    "    - 접속창에 +눌러서 다음과 같이 설정\n",
    "        - Name: 192.168.99.100_admin\n",
    "        - 사용자이름 : admin\n",
    "        - 비번 : 1234\n",
    "        - 호스트이름 : 192.168.99.100\n",
    "        - 포트 : 32764\n",
    "    - #admin 계정의 테이블 디렉토리가 비어있음\n",
    "    \n",
    "- 새테이블 만들기\n",
    "    - 테이블(필터링됨) 우클릭 하여 새테이블 만든다.\n",
    "    - ID는 고유식별값이므로 PK 눌러서 Nullable 체크확인 (=no)"
   ]
  },
  {
   "cell_type": "markdown",
   "metadata": {},
   "source": [
    "- 내컴퓨터 우클릭- 속성- 고급컴퓨터 설정-환경변수-시스템변수PATH-편집-찾기-oracle_client 내부 폴더 instantclient_19_3를 지정"
   ]
  },
  {
   "cell_type": "markdown",
   "metadata": {},
   "source": [
    "### 오라클 DB 접속\n",
    "\n",
    "- 코드 참조"
   ]
  },
  {
   "cell_type": "markdown",
   "metadata": {},
   "source": [
    "### 가상환경 구축\n",
    "\n",
    "\n",
    "``` bash\n",
    "    $ conda create -n test1 python=3.5 등으로 다른 버전\n",
    "    $ conda activate test1 (base)->(test1) 가상환경 변경\n",
    "    $ pip install cx_oracle\n",
    "```"
   ]
  },
  {
   "cell_type": "markdown",
   "metadata": {},
   "source": []
  },
  {
   "cell_type": "markdown",
   "metadata": {},
   "source": []
  },
  {
   "cell_type": "markdown",
   "metadata": {},
   "source": []
  }
 ],
 "metadata": {
  "kernelspec": {
   "display_name": "Python 3",
   "language": "python",
   "name": "python3"
  },
  "language_info": {
   "codemirror_mode": {
    "name": "ipython",
    "version": 3
   },
   "file_extension": ".py",
   "mimetype": "text/x-python",
   "name": "python",
   "nbconvert_exporter": "python",
   "pygments_lexer": "ipython3",
   "version": "3.7.4"
  },
  "toc": {
   "base_numbering": 1,
   "nav_menu": {},
   "number_sections": true,
   "sideBar": true,
   "skip_h1_title": false,
   "title_cell": "Table of Contents",
   "title_sidebar": "Contents",
   "toc_cell": false,
   "toc_position": {
    "height": "calc(100% - 180px)",
    "left": "10px",
    "top": "150px",
    "width": "307.2px"
   },
   "toc_section_display": true,
   "toc_window_display": false
  }
 },
 "nbformat": 4,
 "nbformat_minor": 2
}
