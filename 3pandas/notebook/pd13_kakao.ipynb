{
 "cells": [
  {
   "cell_type": "code",
   "execution_count": 5,
   "metadata": {},
   "outputs": [],
   "source": [
    "import requests\n",
    "\n",
    "KAKAO_API_KEY = '706958df16ad00f2174dc54d1cbac3a8'"
   ]
  },
  {
   "cell_type": "code",
   "execution_count": 19,
   "metadata": {},
   "outputs": [],
   "source": [
    "url = '''\n",
    "https://dapi.kakao.com/v2/local/search/keyword.json?query={0}&category_group_code=PO3\n",
    "'''.format('부산 중부 경찰서')\n",
    "headers = {\n",
    "    'Authorization':'KakaoAK {0}'.format(KAKAO_API_KEY)\n",
    "}\n",
    "res = requests.get(url, headers = headers)"
   ]
  },
  {
   "cell_type": "code",
   "execution_count": 20,
   "metadata": {},
   "outputs": [
    {
     "name": "stdout",
     "output_type": "stream",
     "text": [
      "<Response [200]>\n"
     ]
    }
   ],
   "source": [
    "print(res)"
   ]
  },
  {
   "cell_type": "code",
   "execution_count": 21,
   "metadata": {},
   "outputs": [],
   "source": [
    "res = res.json()"
   ]
  },
  {
   "cell_type": "code",
   "execution_count": 23,
   "metadata": {},
   "outputs": [
    {
     "name": "stdout",
     "output_type": "stream",
     "text": [
      "{'documents': [{'address_name': '부산 중구 대창동1가 40', 'category_group_code': 'PO3', 'category_group_name': '공공기관', 'category_name': '사회,공공기관 > 행정기관 > 경찰서', 'distance': '', 'id': '10465693', 'phone': '', 'place_name': '부산중부경찰서', 'place_url': 'http://place.map.kakao.com/10465693', 'road_address_name': '부산 중구 중앙대로 105', 'x': '129.035805088931', 'y': '35.107178692047'}, {'address_name': '부산 중구 중앙동4가 90-9', 'category_group_code': 'PO3', 'category_group_name': '공공기관', 'category_name': '사회,공공기관 > 행정기관 > 경찰서', 'distance': '', 'id': '95537416', 'phone': '', 'place_name': '부산중부경찰서 신청사(2020년10월예정)', 'place_url': 'http://place.map.kakao.com/95537416', 'road_address_name': '', 'x': '129.03884296972424', 'y': '35.106219236882964'}, {'address_name': '부산 중구 중앙동4가 83-9', 'category_group_code': 'PO3', 'category_group_name': '공공기관', 'category_name': '사회,공공기관 > 행정기관 > 경찰서 > 치안센터', 'distance': '', 'id': '27153250', 'phone': '051-469-0832', 'place_name': '중앙치안센터', 'place_url': 'http://place.map.kakao.com/27153250', 'road_address_name': '부산 중구 충장대로5번길 15', 'x': '129.03681597482404', 'y': '35.1066417285313'}], 'meta': {'is_end': True, 'pageable_count': 3, 'same_name': {'keyword': '부산 중부 경찰서', 'region': [], 'selected_region': ''}, 'total_count': 3}}\n"
     ]
    }
   ],
   "source": [
    "print(res)"
   ]
  },
  {
   "cell_type": "code",
   "execution_count": 17,
   "metadata": {},
   "outputs": [
    {
     "name": "stdout",
     "output_type": "stream",
     "text": [
      "부산 중구 대창동1가 40 35.107178692047 129.035805088931 부산중부경찰서\n"
     ]
    }
   ],
   "source": [
    "print(res['documents'][0]['address_name'],\n",
    "     res['documents'][0]['y'],\n",
    "     res['documents'][0]['x'],\n",
    "     res['documents'][0]['place_name'])"
   ]
  },
  {
   "cell_type": "code",
   "execution_count": null,
   "metadata": {},
   "outputs": [],
   "source": []
  },
  {
   "cell_type": "code",
   "execution_count": null,
   "metadata": {},
   "outputs": [],
   "source": []
  }
 ],
 "metadata": {
  "kernelspec": {
   "display_name": "Python 3",
   "language": "python",
   "name": "python3"
  },
  "language_info": {
   "codemirror_mode": {
    "name": "ipython",
    "version": 3
   },
   "file_extension": ".py",
   "mimetype": "text/x-python",
   "name": "python",
   "nbconvert_exporter": "python",
   "pygments_lexer": "ipython3",
   "version": "3.7.4"
  }
 },
 "nbformat": 4,
 "nbformat_minor": 4
}
