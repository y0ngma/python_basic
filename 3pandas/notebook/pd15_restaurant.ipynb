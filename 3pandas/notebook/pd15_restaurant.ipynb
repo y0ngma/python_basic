{
 "cells": [
  {
   "cell_type": "code",
   "execution_count": 1,
   "metadata": {},
   "outputs": [],
   "source": [
    "import pandas as pd\n",
    "import xml.etree.ElementTree as et\n",
    "\n",
    "doc = et.parse('C:/Repository/python_basic/3pandas/coffee/busan_rtr1.xml')\n",
    "root = doc.getroot() # header, body\n",
    "\n",
    "columns = doc.find('header/columns')\n",
    "col = []\n",
    "for child in columns:\n",
    "    col.append(child.tag)\n",
    "\n",
    "rows = doc.findall('body/rows/row')\n",
    "row = []\n"
   ]
  },
  {
   "cell_type": "code",
   "execution_count": 2,
   "metadata": {},
   "outputs": [],
   "source": [
    "newcol = []\n",
    "for i in columns:\n",
    "    newcol.append(i.text)"
   ]
  },
  {
   "cell_type": "code",
   "execution_count": null,
   "metadata": {},
   "outputs": [],
   "source": [
    "tag, text"
   ]
  },
  {
   "cell_type": "code",
   "execution_count": 3,
   "metadata": {},
   "outputs": [],
   "source": [
    "for i in rows:\n",
    "    group=[]\n",
    "    for tmp1 in i: # 각 row의 컬럼에 접근함!\n",
    "        elem1 = tmp1.text # tag(attrib)로 원하는 elem 접근\n",
    "        # print(elem1) # 그것의 텍스트 확보\n",
    "        group.append(elem1)\n",
    "    row.append(group)\n",
    "# 칼럼으로 포문 돌리면서 -> 아래 예시\n",
    "\n",
    "# 여기서  '~~~' 부분을 위의 포문을 통해서 각각 넣어준다.\n",
    "\n",
    "\n",
    "# 리스트, 시리즈나 데이터 프레임에 한 열로 저장시키고\n",
    "\n",
    "# 만들어 놓은 데이터프레임에 concat을 계속 시켜준다"
   ]
  },
  {
   "cell_type": "code",
   "execution_count": 4,
   "metadata": {},
   "outputs": [
    {
     "data": {
      "text/plain": [
       "24435"
      ]
     },
     "execution_count": 4,
     "metadata": {},
     "output_type": "execute_result"
    }
   ],
   "source": [
    "len(row)"
   ]
  },
  {
   "cell_type": "code",
   "execution_count": null,
   "metadata": {},
   "outputs": [],
   "source": []
  },
  {
   "cell_type": "code",
   "execution_count": 5,
   "metadata": {},
   "outputs": [],
   "source": [
    "col = ['rowNum'] + col"
   ]
  },
  {
   "cell_type": "code",
   "execution_count": 6,
   "metadata": {},
   "outputs": [
    {
     "data": {
      "text/plain": [
       "47"
      ]
     },
     "execution_count": 6,
     "metadata": {},
     "output_type": "execute_result"
    }
   ],
   "source": [
    "len(col)"
   ]
  },
  {
   "cell_type": "code",
   "execution_count": null,
   "metadata": {},
   "outputs": [],
   "source": []
  },
  {
   "cell_type": "code",
   "execution_count": 7,
   "metadata": {},
   "outputs": [],
   "source": [
    "df = pd.DataFrame(\n",
    "    row\n",
    "    \n",
    ")"
   ]
  },
  {
   "cell_type": "code",
   "execution_count": 8,
   "metadata": {},
   "outputs": [],
   "source": [
    "df.columns = col"
   ]
  },
  {
   "cell_type": "code",
   "execution_count": 10,
   "metadata": {},
   "outputs": [
    {
     "data": {
      "text/html": [
       "<div>\n",
       "<style scoped>\n",
       "    .dataframe tbody tr th:only-of-type {\n",
       "        vertical-align: middle;\n",
       "    }\n",
       "\n",
       "    .dataframe tbody tr th {\n",
       "        vertical-align: top;\n",
       "    }\n",
       "\n",
       "    .dataframe thead th {\n",
       "        text-align: right;\n",
       "    }\n",
       "</style>\n",
       "<table border=\"1\" class=\"dataframe\">\n",
       "  <thead>\n",
       "    <tr style=\"text-align: right;\">\n",
       "      <th></th>\n",
       "      <th>rowNum</th>\n",
       "      <th>opnSvcNm</th>\n",
       "      <th>opnSvcId</th>\n",
       "      <th>opnSfTeamCode</th>\n",
       "      <th>mgtNo</th>\n",
       "      <th>apvPermYmd</th>\n",
       "      <th>apvCancelYmd</th>\n",
       "      <th>trdStateGbn</th>\n",
       "      <th>trdStateNm</th>\n",
       "      <th>dtlStateGbn</th>\n",
       "      <th>...</th>\n",
       "      <th>fctySilJobEpCnt</th>\n",
       "      <th>fctyPdtJobEpCnt</th>\n",
       "      <th>bdngOwnSeNm</th>\n",
       "      <th>isreAm</th>\n",
       "      <th>monAm</th>\n",
       "      <th>multUsnUpsoYn</th>\n",
       "      <th>facilTotScp</th>\n",
       "      <th>jtUpsoAsgnNo</th>\n",
       "      <th>jtUpsoMainEdf</th>\n",
       "      <th>homepage</th>\n",
       "    </tr>\n",
       "  </thead>\n",
       "  <tbody>\n",
       "    <tr>\n",
       "      <td>0</td>\n",
       "      <td>1</td>\n",
       "      <td>휴게음식점</td>\n",
       "      <td>07_24_05_P</td>\n",
       "      <td>3310000</td>\n",
       "      <td>3310000-104-2017-00086</td>\n",
       "      <td>20171030</td>\n",
       "      <td>None</td>\n",
       "      <td>01</td>\n",
       "      <td>영업/정상</td>\n",
       "      <td>01</td>\n",
       "      <td>...</td>\n",
       "      <td>None</td>\n",
       "      <td>None</td>\n",
       "      <td>None</td>\n",
       "      <td>None</td>\n",
       "      <td>None</td>\n",
       "      <td>N</td>\n",
       "      <td>47.2</td>\n",
       "      <td>None</td>\n",
       "      <td>None</td>\n",
       "      <td>None</td>\n",
       "    </tr>\n",
       "    <tr>\n",
       "      <td>1</td>\n",
       "      <td>2</td>\n",
       "      <td>휴게음식점</td>\n",
       "      <td>07_24_05_P</td>\n",
       "      <td>3310000</td>\n",
       "      <td>3310000-104-2017-00089</td>\n",
       "      <td>20171113</td>\n",
       "      <td>None</td>\n",
       "      <td>01</td>\n",
       "      <td>영업/정상</td>\n",
       "      <td>01</td>\n",
       "      <td>...</td>\n",
       "      <td>None</td>\n",
       "      <td>None</td>\n",
       "      <td>None</td>\n",
       "      <td>None</td>\n",
       "      <td>None</td>\n",
       "      <td>N</td>\n",
       "      <td>16.5</td>\n",
       "      <td>None</td>\n",
       "      <td>None</td>\n",
       "      <td>None</td>\n",
       "    </tr>\n",
       "    <tr>\n",
       "      <td>2</td>\n",
       "      <td>3</td>\n",
       "      <td>휴게음식점</td>\n",
       "      <td>07_24_05_P</td>\n",
       "      <td>3310000</td>\n",
       "      <td>3310000-104-2017-00090</td>\n",
       "      <td>20171114</td>\n",
       "      <td>None</td>\n",
       "      <td>01</td>\n",
       "      <td>영업/정상</td>\n",
       "      <td>01</td>\n",
       "      <td>...</td>\n",
       "      <td>None</td>\n",
       "      <td>None</td>\n",
       "      <td>None</td>\n",
       "      <td>None</td>\n",
       "      <td>None</td>\n",
       "      <td>N</td>\n",
       "      <td>16.83</td>\n",
       "      <td>None</td>\n",
       "      <td>None</td>\n",
       "      <td>None</td>\n",
       "    </tr>\n",
       "    <tr>\n",
       "      <td>3</td>\n",
       "      <td>4</td>\n",
       "      <td>휴게음식점</td>\n",
       "      <td>07_24_05_P</td>\n",
       "      <td>3310000</td>\n",
       "      <td>3310000-104-2017-00091</td>\n",
       "      <td>20171117</td>\n",
       "      <td>None</td>\n",
       "      <td>01</td>\n",
       "      <td>영업/정상</td>\n",
       "      <td>01</td>\n",
       "      <td>...</td>\n",
       "      <td>None</td>\n",
       "      <td>None</td>\n",
       "      <td>None</td>\n",
       "      <td>None</td>\n",
       "      <td>None</td>\n",
       "      <td>N</td>\n",
       "      <td>15</td>\n",
       "      <td>None</td>\n",
       "      <td>None</td>\n",
       "      <td>None</td>\n",
       "    </tr>\n",
       "    <tr>\n",
       "      <td>4</td>\n",
       "      <td>5</td>\n",
       "      <td>휴게음식점</td>\n",
       "      <td>07_24_05_P</td>\n",
       "      <td>3310000</td>\n",
       "      <td>3310000-104-2017-00092</td>\n",
       "      <td>20171122</td>\n",
       "      <td>None</td>\n",
       "      <td>01</td>\n",
       "      <td>영업/정상</td>\n",
       "      <td>01</td>\n",
       "      <td>...</td>\n",
       "      <td>None</td>\n",
       "      <td>None</td>\n",
       "      <td>None</td>\n",
       "      <td>None</td>\n",
       "      <td>None</td>\n",
       "      <td>N</td>\n",
       "      <td>21.9</td>\n",
       "      <td>None</td>\n",
       "      <td>None</td>\n",
       "      <td>None</td>\n",
       "    </tr>\n",
       "  </tbody>\n",
       "</table>\n",
       "<p>5 rows × 47 columns</p>\n",
       "</div>"
      ],
      "text/plain": [
       "  rowNum opnSvcNm    opnSvcId opnSfTeamCode                   mgtNo  \\\n",
       "0      1    휴게음식점  07_24_05_P       3310000  3310000-104-2017-00086   \n",
       "1      2    휴게음식점  07_24_05_P       3310000  3310000-104-2017-00089   \n",
       "2      3    휴게음식점  07_24_05_P       3310000  3310000-104-2017-00090   \n",
       "3      4    휴게음식점  07_24_05_P       3310000  3310000-104-2017-00091   \n",
       "4      5    휴게음식점  07_24_05_P       3310000  3310000-104-2017-00092   \n",
       "\n",
       "  apvPermYmd apvCancelYmd trdStateGbn trdStateNm dtlStateGbn  ...  \\\n",
       "0   20171030         None          01      영업/정상          01  ...   \n",
       "1   20171113         None          01      영업/정상          01  ...   \n",
       "2   20171114         None          01      영업/정상          01  ...   \n",
       "3   20171117         None          01      영업/정상          01  ...   \n",
       "4   20171122         None          01      영업/정상          01  ...   \n",
       "\n",
       "  fctySilJobEpCnt fctyPdtJobEpCnt bdngOwnSeNm isreAm monAm multUsnUpsoYn  \\\n",
       "0            None            None        None   None  None             N   \n",
       "1            None            None        None   None  None             N   \n",
       "2            None            None        None   None  None             N   \n",
       "3            None            None        None   None  None             N   \n",
       "4            None            None        None   None  None             N   \n",
       "\n",
       "  facilTotScp jtUpsoAsgnNo jtUpsoMainEdf homepage  \n",
       "0        47.2         None          None     None  \n",
       "1        16.5         None          None     None  \n",
       "2       16.83         None          None     None  \n",
       "3          15         None          None     None  \n",
       "4        21.9         None          None     None  \n",
       "\n",
       "[5 rows x 47 columns]"
      ]
     },
     "execution_count": 10,
     "metadata": {},
     "output_type": "execute_result"
    }
   ],
   "source": [
    "df.head()"
   ]
  },
  {
   "cell_type": "code",
   "execution_count": 12,
   "metadata": {},
   "outputs": [],
   "source": [
    "col_text = []\n",
    "for i in columns:\n",
    "    col_text.append(i.text)"
   ]
  },
  {
   "cell_type": "code",
   "execution_count": 14,
   "metadata": {},
   "outputs": [],
   "source": [
    "col_text = ['번호'] + col_text"
   ]
  },
  {
   "cell_type": "code",
   "execution_count": 15,
   "metadata": {},
   "outputs": [],
   "source": [
    "df.columns = col_text"
   ]
  },
  {
   "cell_type": "code",
   "execution_count": 17,
   "metadata": {},
   "outputs": [
    {
     "data": {
      "text/plain": [
       "Index(['번호', '개방서비스명', '개방서비스ID', '개방자치단체코드', '관리번호', '인허가일자', '인허가취소일자',\n",
       "       '영업상태구분코드', '영업상태명', '상세영업상태코드', '상세영업상태명', '폐업일자', '휴업시작일자', '휴업종료일자',\n",
       "       '재개업일자', '소재지전화', '소재지면적', '소재지우편번호', '소재지전체주소', '도로명전체주소', '도로명우편번호',\n",
       "       '사업장명', '최종수정시점', '데이터갱신구분', '데이터갱신일자', '업태구분명', '좌표정보(X)', '좌표정보(Y)',\n",
       "       '위생업태명', '남성종사자수', '여성종사자수', '영업장주변구분명', '등급구분명', '급수시설구분명', '총종업원수',\n",
       "       '본사종업원수', '공장사무직종업원수', '공장판매직종업원수', '공장생산직종업원수', '건물소유구분명', '보증액',\n",
       "       '월세액', '다중이용업소여부', '시설총규모', '전통업소지정번호', '전통업소주된음식', '홈페이지'],\n",
       "      dtype='object')"
      ]
     },
     "execution_count": 17,
     "metadata": {},
     "output_type": "execute_result"
    }
   ],
   "source": [
    "df.columns"
   ]
  },
  {
   "cell_type": "code",
   "execution_count": 18,
   "metadata": {},
   "outputs": [
    {
     "data": {
      "text/plain": [
       "0         컴포즈커피 대연혁신점\n",
       "1           다와봐VR 360\n",
       "2          이기대 토스트&김밥\n",
       "3           PC토랑 부경대점\n",
       "4            어벤더치 용호점\n",
       "             ...     \n",
       "24430     대만언니 대왕카스테라\n",
       "24431             모퉁이\n",
       "24432      이삭토스트 경상대점\n",
       "24433       미니스톱연산토곡점\n",
       "24434    씨유편의점 송도베스트점\n",
       "Name: 사업장명, Length: 24435, dtype: object"
      ]
     },
     "execution_count": 18,
     "metadata": {},
     "output_type": "execute_result"
    }
   ],
   "source": [
    "df['사업장명']"
   ]
  },
  {
   "cell_type": "code",
   "execution_count": null,
   "metadata": {},
   "outputs": [],
   "source": []
  }
 ],
 "metadata": {
  "kernelspec": {
   "display_name": "Python 3",
   "language": "python",
   "name": "python3"
  },
  "language_info": {
   "codemirror_mode": {
    "name": "ipython",
    "version": 3
   },
   "file_extension": ".py",
   "mimetype": "text/x-python",
   "name": "python",
   "nbconvert_exporter": "python",
   "pygments_lexer": "ipython3",
   "version": "3.7.4"
  }
 },
 "nbformat": 4,
 "nbformat_minor": 4
}
