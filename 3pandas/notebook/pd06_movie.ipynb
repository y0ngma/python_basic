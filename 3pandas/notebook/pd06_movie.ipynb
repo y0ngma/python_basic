{
 "cells": [
  {
   "cell_type": "code",
   "execution_count": 48,
   "metadata": {},
   "outputs": [],
   "source": [
    "import urllib.request as ul\n",
    "import json, datetime, time\n",
    "import pandas as pd\n"
   ]
  },
  {
   "cell_type": "code",
   "execution_count": 49,
   "metadata": {},
   "outputs": [
    {
     "name": "stdout",
     "output_type": "stream",
     "text": [
      "20200131\n"
     ]
    }
   ],
   "source": [
    "movieDate=time.strftime('%Y%m%d', time.localtime(time.time()))\n",
    "print(movieDate)\n",
    "movieDate = 20200130"
   ]
  },
  {
   "cell_type": "code",
   "execution_count": 58,
   "metadata": {},
   "outputs": [
    {
     "name": "stdout",
     "output_type": "stream",
     "text": [
      "<urllib.request.Request object at 0x7fcf394ae690>\n",
      "<http.client.HTTPResponse object at 0x7fcf394f6b10>\n",
      "200\n"
     ]
    }
   ],
   "source": [
    "url = f\"http://www.kobis.or.kr/kobisopenapi/webservice/rest/boxoffice/searchDailyBoxOfficeList.json?key=66e652e1d2656b42f10d93c91e0295e4&targetDt={movieDate}\"\n",
    "# url = f\"http... targetDt={movieDate}\" 치환 \n",
    "\n",
    "request = ul.Request(url)\n",
    "print(request)\n",
    "response = ul.urlopen(request)\n",
    "print(response)\n",
    "rescode = response.getcode()\n",
    "print(rescode)\n",
    "if (rescode==200):\n",
    "    responseData = response.read()"
   ]
  },
  {
   "cell_type": "code",
   "execution_count": 59,
   "metadata": {},
   "outputs": [
    {
     "name": "stdout",
     "output_type": "stream",
     "text": [
      "{'boxOfficeResult': {'boxofficeType': '일별 박스오피스', 'showRange': '20200130~20200130', 'dailyBoxOfficeList': [{'rnum': '1', 'rank': '1', 'rankInten': '0', 'rankOldAndNew': 'OLD', 'movieCd': '20180939', 'movieNm': '남산의 부장들', 'openDt': '2020-01-22', 'salesAmt': '945095180', 'salesShare': '44.0', 'salesInten': '-355976620', 'salesChange': '-27.4', 'salesAcc': '32547144270', 'audiCnt': '118080', 'audiInten': '-93877', 'audiChange': '-44.3', 'audiAcc': '3743582', 'scrnCnt': '1383', 'showCnt': '7262'}, {'rnum': '2', 'rank': '2', 'rankInten': '0', 'rankOldAndNew': 'OLD', 'movieCd': '20192101', 'movieNm': '히트맨', 'openDt': '2020-01-22', 'salesAmt': '602166980', 'salesShare': '28.1', 'salesInten': '-228841510', 'salesChange': '-27.5', 'salesAcc': '15390499240', 'audiCnt': '74508', 'audiInten': '-62668', 'audiChange': '-45.7', 'audiAcc': '1789019', 'scrnCnt': '1027', 'showCnt': '4745'}, {'rnum': '3', 'rank': '3', 'rankInten': '0', 'rankOldAndNew': 'OLD', 'movieCd': '20188421', 'movieNm': '미스터 주: 사라진 VIP', 'openDt': '2020-01-22', 'salesAmt': '92604980', 'salesShare': '4.3', 'salesInten': '-56547680', 'salesChange': '-37.9', 'salesAcc': '4580917060', 'audiCnt': '12298', 'audiInten': '-12283', 'audiChange': '-50', 'audiAcc': '543714', 'scrnCnt': '596', 'showCnt': '1570'}, {'rnum': '4', 'rank': '4', 'rankInten': '0', 'rankOldAndNew': 'OLD', 'movieCd': '20192300', 'movieNm': '스파이 지니어스 ', 'openDt': '2020-01-22', 'salesAmt': '88064900', 'salesShare': '4.1', 'salesInten': '-37017120', 'salesChange': '-29.6', 'salesAcc': '3075484300', 'audiCnt': '11730', 'audiInten': '-8596', 'audiChange': '-42.3', 'audiAcc': '374662', 'scrnCnt': '574', 'showCnt': '1169'}, {'rnum': '5', 'rank': '5', 'rankInten': '0', 'rankOldAndNew': 'OLD', 'movieCd': '20100312', 'movieNm': '인셉션', 'openDt': '2010-07-21', 'salesAmt': '67568700', 'salesShare': '3.1', 'salesInten': '-21178300', 'salesChange': '-23.9', 'salesAcc': '43645889200', 'audiCnt': '8346', 'audiInten': '-6634', 'audiChange': '-44.3', 'audiAcc': '5859100', 'scrnCnt': '204', 'showCnt': '605'}, {'rnum': '6', 'rank': '6', 'rankInten': '0', 'rankOldAndNew': 'OLD', 'movieCd': '20183002', 'movieNm': '해치지않아', 'openDt': '2020-01-15', 'salesAmt': '47241640', 'salesShare': '2.2', 'salesInten': '-34285520', 'salesChange': '-42.1', 'salesAcc': '10043037830', 'audiCnt': '6106', 'audiInten': '-7222', 'audiChange': '-54.2', 'audiAcc': '1195437', 'scrnCnt': '471', 'showCnt': '895'}, {'rnum': '7', 'rank': '7', 'rankInten': '0', 'rankOldAndNew': 'OLD', 'movieCd': '20198676', 'movieNm': '타오르는 여인의 초상', 'openDt': '2020-01-16', 'salesAmt': '35329360', 'salesShare': '1.6', 'salesInten': '-7492020', 'salesChange': '-17.5', 'salesAcc': '791441040', 'audiCnt': '4480', 'audiInten': '-2579', 'audiChange': '-36.5', 'audiAcc': '95398', 'scrnCnt': '142', 'showCnt': '275'}, {'rnum': '8', 'rank': '8', 'rankInten': '13', 'rankOldAndNew': 'OLD', 'movieCd': '20193321', 'movieNm': '정직한 후보', 'openDt': '2020-02-12', 'salesAmt': '29833000', 'salesShare': '1.4', 'salesInten': '25136000', 'salesChange': '535.2', 'salesAcc': '72029000', 'audiCnt': '3943', 'audiInten': '3420', 'audiChange': '653.9', 'audiAcc': '10143', 'scrnCnt': '21', 'showCnt': '22'}, {'rnum': '9', 'rank': '9', 'rankInten': '0', 'rankOldAndNew': 'OLD', 'movieCd': '20196670', 'movieNm': '나쁜 녀석들: 포에버', 'openDt': '2020-01-15', 'salesAmt': '18913800', 'salesShare': '0.9', 'salesInten': '-8837500', 'salesChange': '-31.8', 'salesAcc': '4763880300', 'audiCnt': '2765', 'audiInten': '-1533', 'audiChange': '-35.7', 'audiAcc': '531929', 'scrnCnt': '204', 'showCnt': '297'}, {'rnum': '10', 'rank': '10', 'rankInten': '0', 'rankOldAndNew': 'NEW', 'movieCd': '20193836', 'movieNm': '핑크퐁 시네마 콘서트 : 우주대탐험', 'openDt': '2020-01-30', 'salesAmt': '20010500', 'salesShare': '0.9', 'salesInten': '20010500', 'salesChange': '100', 'salesAcc': '36416500', 'audiCnt': '2693', 'audiInten': '2693', 'audiChange': '100', 'audiAcc': '5235', 'scrnCnt': '176', 'showCnt': '341'}]}}\n"
     ]
    }
   ],
   "source": [
    "result = json.loads(responseData)\n",
    "print(result)\n",
    "pre_result = result[\"boxOfficeResult\"]\n",
    "# print(pre_result)"
   ]
  },
  {
   "cell_type": "code",
   "execution_count": 60,
   "metadata": {},
   "outputs": [],
   "source": [
    "pre_result1 = pre_result[\"dailyBoxOfficeList\"]\n",
    "# print(pre_result1)\n",
    "# print(type(pre_result1))"
   ]
  },
  {
   "cell_type": "code",
   "execution_count": 121,
   "metadata": {},
   "outputs": [],
   "source": [
    "# json을 -> 딕셔너리화 하면 -> 판다스로 바꾸기 쉬우므로\n",
    "cine = [{}]\n",
    "# 날짜, 영화이름, 누적 관객수\n",
    "for i in range (0, len(pre_result1)):\n",
    "    pre_result1[i]['targetDt'] = movieDate\n",
    "    cine.append(pre_result1[i])\n",
    "# print(cine)"
   ]
  },
  {
   "cell_type": "code",
   "execution_count": 122,
   "metadata": {},
   "outputs": [
    {
     "name": "stdout",
     "output_type": "stream",
     "text": [
      "20200128\n"
     ]
    }
   ],
   "source": [
    "# 반복함수 마지막에 날짜를 줄이는 함수를 사용한다\n",
    "\n",
    "# str -> date \n",
    "datetime_obj=datetime.datetime.strptime(str(movieDate), \"%Y%m%d\").date()\n",
    "\n",
    "# 1주일씩 시간을 줄여간다?\n",
    "datetime_obj_tmp = datetime_obj - datetime.timedelta(days=1)\n",
    "# datetime_obj_tmp = datetime_obj - datetime.timedelta(weeks=1)\n",
    "\n",
    "# date -> str\n",
    "day = datetime_obj_tmp.strftime('%Y-%m-%d').split(\"-\")\n",
    "movieDate = day[0]+day[1]+day[2]\n",
    "\n",
    "#time.sleep(1)\n",
    "print(movieDate)"
   ]
  },
  {
   "cell_type": "code",
   "execution_count": 132,
   "metadata": {},
   "outputs": [
    {
     "name": "stdout",
     "output_type": "stream",
     "text": [
      "  rnum rank rankInten rankOldAndNew   movieCd         movieNm      openDt  \\\n",
      "1    1    1         0           OLD  20180939         남산의 부장들  2020-01-22   \n",
      "2    2    2         0           OLD  20192101             히트맨  2020-01-22   \n",
      "3    3    3         0           OLD  20188421  미스터 주: 사라진 VIP  2020-01-22   \n",
      "4    4    4         0           OLD  20192300       스파이 지니어스   2020-01-22   \n",
      "5    5    5         0           OLD  20100312             인셉션  2010-07-21   \n",
      "\n",
      "    salesAmt salesShare  salesInten salesChange     salesAcc audiCnt  \\\n",
      "1  945095180       44.0  -355976620       -27.4  32547144270  118080   \n",
      "2  602166980       28.1  -228841510       -27.5  15390499240   74508   \n",
      "3   92604980        4.3   -56547680       -37.9   4580917060   12298   \n",
      "4   88064900        4.1   -37017120       -29.6   3075484300   11730   \n",
      "5   67568700        3.1   -21178300       -23.9  43645889200    8346   \n",
      "\n",
      "  audiInten audiChange  audiAcc scrnCnt showCnt  targetDt  \n",
      "1    -93877      -44.3  3743582    1383    7262  20200129  \n",
      "2    -62668      -45.7  1789019    1027    4745  20200129  \n",
      "3    -12283        -50   543714     596    1570  20200129  \n",
      "4     -8596      -42.3   374662     574    1169  20200129  \n",
      "5     -6634      -44.3  5859100     204     605  20200129  \n"
     ]
    }
   ],
   "source": [
    "# print(cine)\n",
    "dataframe = pd.DataFrame(cine)\n",
    "\n",
    "# 첫행이 비어있음\n",
    "dataframe = dataframe[1:]"
   ]
  },
  {
   "cell_type": "code",
   "execution_count": 128,
   "metadata": {},
   "outputs": [],
   "source": [
    "# convert 'col_str_1' and 'col_str_2' to numeric\n",
    "#df2[['col_int_1', 'col_int_2']] = df2[['col_str_1', 'col_str_2']].apply(pd.to_numeric)"
   ]
  },
  {
   "cell_type": "code",
   "execution_count": 134,
   "metadata": {},
   "outputs": [],
   "source": [
    "dataframe[['audiInten', 'audiCnt']] = dataframe[['audiInten', 'audiCnt']].apply(pd.to_numeric)\n"
   ]
  },
  {
   "cell_type": "code",
   "execution_count": 135,
   "metadata": {},
   "outputs": [
    {
     "name": "stdout",
     "output_type": "stream",
     "text": [
      "  rnum rank rankInten rankOldAndNew   movieCd         movieNm      openDt  \\\n",
      "1    1    1         0           OLD  20180939         남산의 부장들  2020-01-22   \n",
      "2    2    2         0           OLD  20192101             히트맨  2020-01-22   \n",
      "3    3    3         0           OLD  20188421  미스터 주: 사라진 VIP  2020-01-22   \n",
      "4    4    4         0           OLD  20192300       스파이 지니어스   2020-01-22   \n",
      "5    5    5         0           OLD  20100312             인셉션  2010-07-21   \n",
      "\n",
      "    salesAmt salesShare  salesInten salesChange     salesAcc  audiCnt  \\\n",
      "1  945095180       44.0  -355976620       -27.4  32547144270   118080   \n",
      "2  602166980       28.1  -228841510       -27.5  15390499240    74508   \n",
      "3   92604980        4.3   -56547680       -37.9   4580917060    12298   \n",
      "4   88064900        4.1   -37017120       -29.6   3075484300    11730   \n",
      "5   67568700        3.1   -21178300       -23.9  43645889200     8346   \n",
      "\n",
      "   audiInten audiChange  audiAcc scrnCnt showCnt  targetDt  audiyest  \n",
      "1     -93877      -44.3  3743582    1383    7262  20200129     24203  \n",
      "2     -62668      -45.7  1789019    1027    4745  20200129     11840  \n",
      "3     -12283        -50   543714     596    1570  20200129        15  \n",
      "4      -8596      -42.3   374662     574    1169  20200129      3134  \n",
      "5      -6634      -44.3  5859100     204     605  20200129      1712  \n"
     ]
    }
   ],
   "source": [
    "dataframe['audiyest']= dataframe['audiInten']+dataframe['audiCnt']\n",
    "\n",
    "print(dataframe.head())"
   ]
  },
  {
   "cell_type": "code",
   "execution_count": 137,
   "metadata": {},
   "outputs": [],
   "source": [
    "import seaborn as sns\n",
    "%matplotlib inline\n",
    "import matplotlib.pyplot as plt\n",
    "# print(dataframe)"
   ]
  },
  {
   "cell_type": "code",
   "execution_count": 138,
   "metadata": {},
   "outputs": [
    {
     "name": "stdout",
     "output_type": "stream",
     "text": [
      "   Unnamed: 0  rnum  rank  rankInten rankOldAndNew   movieCd         movieNm\n",
      "0           1     1     1          0           OLD  20180939         남산의 부장들\n",
      "1           2     2     2          0           OLD  20192101             히트맨\n",
      "2           3     3     3          0           OLD  20188421  미스터 주: 사라진 VIP\n",
      "3           4     4     4          0           OLD  20192300       스파이 지니어스 \n",
      "4           5     5     5          0           OLD  20100312             인셉션\n"
     ]
    }
   ],
   "source": [
    "dataframe.to_csv(\"cine.csv\")\n",
    "data = pd.read_csv(\"cine.csv\") \n",
    "print(data.iloc[:5, :7])"
   ]
  },
  {
   "cell_type": "code",
   "execution_count": 142,
   "metadata": {},
   "outputs": [
    {
     "data": {
      "text/plain": [
       "<matplotlib.collections.PathCollection at 0x7fcf30f0db50>"
      ]
     },
     "execution_count": 142,
     "metadata": {},
     "output_type": "execute_result"
    },
    {
     "data": {
      "image/png": "[encoded data removed]",
      "text/plain": [
       "<Figure size 432x288 with 1 Axes>"
      ]
     },
     "metadata": {
      "needs_background": "light"
     },
     "output_type": "display_data"
    }
   ],
   "source": [
    "\n",
    "scatter_plot = plt.figure() \n",
    "axes1 = scatter_plot.add_subplot(1, 1, 1) \n",
    "axes1.scatter(data['movieNm'], data['audiyest']) "
   ]
  },
  {
   "cell_type": "code",
   "execution_count": 155,
   "metadata": {},
   "outputs": [
    {
     "data": {
      "image/png": "[encoded data removed]",
      "text/plain": [
       "<Figure size 432x288 with 1 Axes>"
      ]
     },
     "metadata": {
      "needs_background": "light"
     },
     "output_type": "display_data"
    }
   ],
   "source": [
    "ax = plt.subplots() \n",
    "ax = sns.countplot('audiCnt', data=data) \n"
   ]
  },
  {
   "cell_type": "code",
   "execution_count": 148,
   "metadata": {},
   "outputs": [
    {
     "data": {
      "image/png": "[encoded data removed]",
      "text/plain": [
       "<Figure size 432x288 with 1 Axes>"
      ]
     },
     "metadata": {
      "needs_background": "light"
     },
     "output_type": "display_data"
    }
   ],
   "source": [
    "ax = plt.subplots() \n",
    "ax = sns.barplot(x=data['movieNm'], y=data['audiyest'], data=data) "
   ]
  },
  {
   "cell_type": "code",
   "execution_count": 153,
   "metadata": {},
   "outputs": [
    {
     "data": {
      "image/png": "[encoded data removed]",
      "text/plain": [
       "<Figure size 432x288 with 2 Axes>"
      ]
     },
     "metadata": {
      "needs_background": "light"
     },
     "output_type": "display_data"
    }
   ],
   "source": [
    "fig, ax = plt.subplots() \n",
    "ax = data.plot.hexbin(x='audiCnt', y='audiyest', gridsize=10, ax=ax) "
   ]
  },
  {
   "cell_type": "code",
   "execution_count": null,
   "metadata": {},
   "outputs": [],
   "source": []
  },
  {
   "cell_type": "code",
   "execution_count": null,
   "metadata": {},
   "outputs": [],
   "source": []
  },
  {
   "cell_type": "code",
   "execution_count": null,
   "metadata": {},
   "outputs": [],
   "source": []
  },
  {
   "cell_type": "code",
   "execution_count": null,
   "metadata": {},
   "outputs": [],
   "source": []
  },
  {
   "cell_type": "code",
   "execution_count": null,
   "metadata": {},
   "outputs": [],
   "source": []
  },
  {
   "cell_type": "code",
   "execution_count": null,
   "metadata": {},
   "outputs": [],
   "source": []
  },
  {
   "cell_type": "code",
   "execution_count": null,
   "metadata": {},
   "outputs": [],
   "source": [
    "\n",
    "import urllib.request as ul\n",
    "import json, datetime, time\n",
    "import pandas as pd\n",
    "\n",
    "def info():\n",
    "    movieDate=time.strftime('%Y%m%d', time.localtime(time.time()))\n",
    "    print(movieDate)\n",
    "    cine=[{}]\n",
    "    \n",
    "    for i in range(0, 30):\n",
    "        url = f\"http://www.kobis.or.kr/kobisopenapi/webservice/rest/boxoffice/searchDailyBoxOfficeList.json?key=66e652e1d2656b42f10d93c91e0295e4&targetDt={movieDate}\"\n",
    "        # url = f\"http... targetDt={movieDate}\" 치환 \n",
    "\n",
    "        request = ul.Request(url)\n",
    "        print(request)\n",
    "        response = ul.urlopen(request)\n",
    "        print(response)\n",
    "        rescode = response.getcode()\n",
    "        print(rescode)\n",
    "        if (rescode==200):\n",
    "        responseData = response.read()\n",
    "        "
   ]
  },
  {
   "cell_type": "code",
   "execution_count": null,
   "metadata": {},
   "outputs": [],
   "source": []
  }
 ],
 "metadata": {
  "kernelspec": {
   "display_name": "Python 3",
   "language": "python",
   "name": "python3"
  },
  "language_info": {
   "codemirror_mode": {
    "name": "ipython",
    "version": 3
   },
   "file_extension": ".py",
   "mimetype": "text/x-python",
   "name": "python",
   "nbconvert_exporter": "python",
   "pygments_lexer": "ipython3",
   "version": "3.7.4"
  }
 },
 "nbformat": 4,
 "nbformat_minor": 4
}
