{
 "cells": [
  {
   "cell_type": "markdown",
   "metadata": {},
   "source": [
    "#### 단축키\n",
    "\n",
    "- 마크다운~함수 전환\n",
    "    - m : 마크다운\n",
    "    - y : 코드\n",
    "- 실행하고 셀추가\n",
    "    - alt + enter : 추가하고 다음셀로 가기\n",
    "    - ctrl + enter : 추가하고 현재셀에 있기\n",
    "- 잘라내고 붙여넣기\n",
    "    - x : cut\n",
    "    - v : paste below cell\n",
    "    - shift+v : paste above\n",
    "- 삭제\n",
    "    - d,d : delete cell\n",
    "    - z : undo delete cell\n",
    "- 셀 추가하기\n",
    "    - a add cell above\n",
    "    - b add cell below\n",
    "- 리스팅\n",
    "    - l listing"
   ]
  },
  {
   "cell_type": "code",
   "execution_count": 2,
   "metadata": {},
   "outputs": [],
   "source": [
    "from pandas import Series, DataFrame\n",
    "import pandas as pd"
   ]
  },
  {
   "cell_type": "code",
   "execution_count": 3,
   "metadata": {},
   "outputs": [],
   "source": [
    "example_obj = Series()"
   ]
  },
  {
   "cell_type": "markdown",
   "metadata": {},
   "source": [
    "- 괄호안에 커서 두고 Shift enter 하면 설명 팝업"
   ]
  },
  {
   "cell_type": "markdown",
   "metadata": {},
   "source": [
    "\n",
    "```sql\n",
    "vscode@441e368db4cd:/$ cd home/vscode/notebooks\n",
    "vscode@441e368db4cd:~/notebooks$ ls\n",
    "a.py  data.zip  test.ipynb\n",
    "vscode@441e368db4cd:~/notebooks$ mkdir data\n",
    "vscode@441e368db4cd:~/notebooks$ ls\n",
    "a.py  data  data.zip  test.ipynb\n",
    "vscode@441e368db4cd:~/notebooks$ mv data.zip ./data\n",
    "vscode@441e368db4cd:~/notebooks$ cd data\n",
    "vscode@441e368db4cd:~/notebooks/data$ ls\n",
    "data.zip\n",
    "vscode@441e368db4cd:~/notebooks/data$ unzip data.zip\n",
    "Archive:  data.zip\n",
    "  inflating: banklist.csv            \n",
    "  inflating: billboard.csv           \n",
    "  inflating: concat_1.csv            \n",
    "  inflating: concat_2.csv            \n",
    "  inflating: concat_3.csv            \n",
    "  inflating: country_timeseries.csv  \n",
    "  inflating: gapminder.tsv           \n",
    "  inflating: pew.csv                 \n",
    "  inflating: raw_data_urls.txt       \n",
    "  inflating: scientists.csv          \n",
    "  inflating: survey_person.csv       \n",
    "  inflating: survey_site.csv         \n",
    "  inflating: survey_survey.csv       \n",
    "  inflating: survey_visited.csv      \n",
    "  inflating: tesla_stock_quandl.csv  \n",
    "  inflating: weather.csv             \n",
    "vscode@441e368db4cd:~/notebooks/data$ \n",
    "```\n"
   ]
  },
  {
   "cell_type": "code",
   "execution_count": 4,
   "metadata": {},
   "outputs": [],
   "source": [
    "import pandas as pd"
   ]
  },
  {
   "cell_type": "code",
   "execution_count": 5,
   "metadata": {},
   "outputs": [],
   "source": [
    "df = pd.read_csv('./data/gapminder.tsv', sep='\\t')\n",
    "## seperate tab"
   ]
  },
  {
   "cell_type": "code",
   "execution_count": 6,
   "metadata": {},
   "outputs": [
    {
     "name": "stdout",
     "output_type": "stream",
     "text": [
      "       country continent  year  lifeExp       pop   gdpPercap\n",
      "0  Afghanistan      Asia  1952   28.801   8425333  779.445314\n",
      "1  Afghanistan      Asia  1957   30.332   9240934  820.853030\n",
      "2  Afghanistan      Asia  1962   31.997  10267083  853.100710\n",
      "3  Afghanistan      Asia  1967   34.020  11537966  836.197138\n",
      "4  Afghanistan      Asia  1972   36.088  13079460  739.981106\n"
     ]
    }
   ],
   "source": [
    "print(df.head())"
   ]
  },
  {
   "cell_type": "code",
   "execution_count": 7,
   "metadata": {},
   "outputs": [
    {
     "name": "stdout",
     "output_type": "stream",
     "text": [
      "<class 'pandas.core.frame.DataFrame'>\n"
     ]
    }
   ],
   "source": [
    "print(type(df))"
   ]
  },
  {
   "cell_type": "code",
   "execution_count": 8,
   "metadata": {},
   "outputs": [
    {
     "name": "stdout",
     "output_type": "stream",
     "text": [
      "(1704, 6)\n"
     ]
    }
   ],
   "source": [
    "print(df.shape)"
   ]
  },
  {
   "cell_type": "code",
   "execution_count": 9,
   "metadata": {},
   "outputs": [
    {
     "name": "stdout",
     "output_type": "stream",
     "text": [
      "1704\n"
     ]
    }
   ],
   "source": [
    "print(df.shape[0])"
   ]
  },
  {
   "cell_type": "code",
   "execution_count": 10,
   "metadata": {},
   "outputs": [
    {
     "name": "stdout",
     "output_type": "stream",
     "text": [
      "Index(['country', 'continent', 'year', 'lifeExp', 'pop', 'gdpPercap'], dtype='object')\n"
     ]
    }
   ],
   "source": [
    "print(df.columns)"
   ]
  },
  {
   "cell_type": "code",
   "execution_count": 11,
   "metadata": {},
   "outputs": [
    {
     "name": "stdout",
     "output_type": "stream",
     "text": [
      "country       object\n",
      "continent     object\n",
      "year           int64\n",
      "lifeExp      float64\n",
      "pop            int64\n",
      "gdpPercap    float64\n",
      "dtype: object\n"
     ]
    }
   ],
   "source": [
    "print(df.dtypes)\n",
    "# 년도는 덧셈이 없을경우 만 필요\n",
    "# int8 로 해도 충분 (1byte = 8bit)"
   ]
  },
  {
   "cell_type": "code",
   "execution_count": 12,
   "metadata": {},
   "outputs": [
    {
     "name": "stdout",
     "output_type": "stream",
     "text": [
      "<class 'pandas.core.frame.DataFrame'>\n",
      "RangeIndex: 1704 entries, 0 to 1703\n",
      "Data columns (total 6 columns):\n",
      "country      1704 non-null object\n",
      "continent    1704 non-null object\n",
      "year         1704 non-null int64\n",
      "lifeExp      1704 non-null float64\n",
      "pop          1704 non-null int64\n",
      "gdpPercap    1704 non-null float64\n",
      "dtypes: float64(2), int64(2), object(2)\n",
      "memory usage: 80.0+ KB\n",
      "None\n"
     ]
    }
   ],
   "source": [
    "print(df.info()) # 보다시피 1704개씩 각 컬럼 동일. 빈 데이터 있는지 확인"
   ]
  },
  {
   "cell_type": "code",
   "execution_count": 13,
   "metadata": {},
   "outputs": [
    {
     "name": "stdout",
     "output_type": "stream",
     "text": [
      "<class 'pandas.core.series.Series'>\n"
     ]
    }
   ],
   "source": [
    "country_df = df['country']\n",
    "\n",
    "print(type(country_df))\n",
    "# series로 바뀐것 확인 가능. \n",
    "# 컬럼이 Series, 표가 DataFrame\n",
    "# DataFrame에 관한 명령어 입력시 실행 안됨 유의"
   ]
  },
  {
   "cell_type": "code",
   "execution_count": 14,
   "metadata": {},
   "outputs": [
    {
     "name": "stdout",
     "output_type": "stream",
     "text": [
      "<class 'pandas.core.frame.DataFrame'>\n"
     ]
    }
   ],
   "source": [
    "# 컬럼이름이 여러개일경우\n",
    "subset = df[['country', 'continent', 'year']]\n",
    "print(type(subset))\n"
   ]
  },
  {
   "cell_type": "code",
   "execution_count": 15,
   "metadata": {},
   "outputs": [
    {
     "name": "stdout",
     "output_type": "stream",
     "text": [
      "1699    Zimbabwe\n",
      "1700    Zimbabwe\n",
      "1701    Zimbabwe\n",
      "1702    Zimbabwe\n",
      "1703    Zimbabwe\n",
      "Name: country, dtype: object\n"
     ]
    }
   ],
   "source": [
    "print(country_df.tail()) # ()안에서 shift tab 하면 설명 툴팁 출력"
   ]
  },
  {
   "cell_type": "code",
   "execution_count": 16,
   "metadata": {},
   "outputs": [
    {
     "name": "stdout",
     "output_type": "stream",
     "text": [
      "0    Afghanistan\n",
      "1    Afghanistan\n",
      "2    Afghanistan\n",
      "3    Afghanistan\n",
      "4    Afghanistan\n",
      "5    Afghanistan\n",
      "Name: country, dtype: object\n"
     ]
    }
   ],
   "source": [
    "print(country_df.head(6))"
   ]
  },
  {
   "cell_type": "markdown",
   "metadata": {},
   "source": [
    "## loc 속성으로 행 단위 데이터 추출하기(35쪽)"
   ]
  },
  {
   "cell_type": "code",
   "execution_count": 17,
   "metadata": {},
   "outputs": [
    {
     "name": "stdout",
     "output_type": "stream",
     "text": [
      "country      Afghanistan\n",
      "continent           Asia\n",
      "year                1952\n",
      "lifeExp           28.801\n",
      "pop              8425333\n",
      "gdpPercap        779.445\n",
      "Name: 0, dtype: object\n"
     ]
    }
   ],
   "source": [
    "print(df.loc[0])"
   ]
  },
  {
   "cell_type": "code",
   "execution_count": 23,
   "metadata": {},
   "outputs": [
    {
     "name": "stdout",
     "output_type": "stream",
     "text": [
      "country      Zimbabwe\n",
      "continent      Africa\n",
      "year             2007\n",
      "lifeExp        43.487\n",
      "pop          12311143\n",
      "gdpPercap     469.709\n",
      "Name: 1703, dtype: object\n"
     ]
    }
   ],
   "source": [
    "number_of_rows = df.shape[0] #행 개수 가져오는 방법:1704\n",
    "last_row_index = number_of_rows -1\n",
    "\n",
    "print(df.loc[last_row_index])"
   ]
  },
  {
   "cell_type": "code",
   "execution_count": 61,
   "metadata": {},
   "outputs": [
    {
     "name": "stdout",
     "output_type": "stream",
     "text": [
      "       country continent  year  lifeExp       pop   gdpPercap\n",
      "1703  Zimbabwe    Africa  2007   43.487  12311143  469.709298\n"
     ]
    }
   ],
   "source": [
    "print(df.tail(n=1))"
   ]
  },
  {
   "cell_type": "code",
   "execution_count": 28,
   "metadata": {},
   "outputs": [
    {
     "name": "stdout",
     "output_type": "stream",
     "text": [
      "         country continent  year  lifeExp       pop    gdpPercap\n",
      "0    Afghanistan      Asia  1952   28.801   8425333   779.445314\n",
      "99    Bangladesh      Asia  1967   43.453  62821884   721.186086\n",
      "999     Mongolia      Asia  1967   51.253   1149500  1226.041130\n"
     ]
    }
   ],
   "source": [
    "print(df.loc[[0,99,999]]) # [[0,1,2,..]] 유의"
   ]
  },
  {
   "cell_type": "code",
   "execution_count": 30,
   "metadata": {},
   "outputs": [
    {
     "name": "stdout",
     "output_type": "stream",
     "text": [
      "<class 'pandas.core.frame.DataFrame'>\n"
     ]
    }
   ],
   "source": [
    "print(type(df.loc[[0,99,999]]))"
   ]
  },
  {
   "cell_type": "markdown",
   "metadata": {},
   "source": [
    "## tail메서드와 loc속성이 반환하는 자료형은 "
   ]
  },
  {
   "cell_type": "code",
   "execution_count": 29,
   "metadata": {},
   "outputs": [
    {
     "name": "stdout",
     "output_type": "stream",
     "text": [
      "<class 'pandas.core.series.Series'>\n",
      "<class 'pandas.core.frame.DataFrame'>\n"
     ]
    }
   ],
   "source": [
    "subset_loc  = df.loc[0]\n",
    "subset_tail = df.tail(n=1)\n",
    "\n",
    "print(type(subset_loc))\n",
    "print(type(subset_tail))"
   ]
  },
  {
   "cell_type": "code",
   "execution_count": 31,
   "metadata": {},
   "outputs": [
    {
     "name": "stdout",
     "output_type": "stream",
     "text": [
      "       country continent  year  lifeExp       pop   gdpPercap\n",
      "1703  Zimbabwe    Africa  2007   43.487  12311143  469.709298\n"
     ]
    }
   ],
   "source": [
    "print(subset_tail)"
   ]
  },
  {
   "cell_type": "code",
   "execution_count": 72,
   "metadata": {},
   "outputs": [
    {
     "name": "stdout",
     "output_type": "stream",
     "text": [
      "{'country': 1, 'continent': 2, 'year': 3, 'lifeExp': 4, 'pop': 5, 'gdpPercap': 6}\n"
     ]
    }
   ],
   "source": [
    "columns1 = df.columns\n",
    "columns_nums = dict()\n",
    "# for key in columns1:columns_nums[key] = columns1.index(key)+1 \n",
    "k = 1\n",
    "for key in columns1:\n",
    "    columns_nums[key] = k\n",
    "    k += 1\n",
    "print(columns_nums)\n",
    "## 아래와 같이 하나씩 넣을 수느 없다. \n",
    "# for i in columns_nums:\n",
    "#     df.columns = columns_nums[i]\n"
   ]
  },
  {
   "cell_type": "markdown",
   "metadata": {},
   "source": [
    "## iloc 속성으로 행 데이터 추출하기 37쪽\n",
    "- 인덱스가 아니라 행번호로 가져오기\n",
    "- 장단점:\n",
    "    - [-1] 가능 (인덱스 변하는 데이터에서 매번 뒤 10개 가져와야할때 용이)"
   ]
  },
  {
   "cell_type": "code",
   "execution_count": 32,
   "metadata": {},
   "outputs": [
    {
     "name": "stdout",
     "output_type": "stream",
     "text": [
      "country      Afghanistan\n",
      "continent           Asia\n",
      "year                1957\n",
      "lifeExp           30.332\n",
      "pop              9240934\n",
      "gdpPercap        820.853\n",
      "Name: 1, dtype: object\n"
     ]
    }
   ],
   "source": [
    "print(df.iloc[1])"
   ]
  },
  {
   "cell_type": "code",
   "execution_count": 33,
   "metadata": {},
   "outputs": [
    {
     "name": "stdout",
     "output_type": "stream",
     "text": [
      "country      Zimbabwe\n",
      "continent      Africa\n",
      "year             2007\n",
      "lifeExp        43.487\n",
      "pop          12311143\n",
      "gdpPercap     469.709\n",
      "Name: 1703, dtype: object\n"
     ]
    }
   ],
   "source": [
    "print(df.iloc[-1])"
   ]
  },
  {
   "cell_type": "markdown",
   "metadata": {},
   "source": [
    "## 데이터 추출하기 - 슬라이싱, range 39쪽"
   ]
  },
  {
   "cell_type": "markdown",
   "metadata": {},
   "source": [
    "1. 슬라이싱 구문으로 데이터 추출하기"
   ]
  },
  {
   "cell_type": "code",
   "execution_count": 42,
   "metadata": {},
   "outputs": [
    {
     "name": "stdout",
     "output_type": "stream",
     "text": [
      "   year       pop\n",
      "0  1952   8425333\n",
      "1  1957   9240934\n",
      "2  1962  10267083\n",
      "3  1967  11537966\n"
     ]
    }
   ],
   "source": [
    "subset = df.loc[:3, ['year','pop']]\n",
    "print(subset.head())"
   ]
  },
  {
   "cell_type": "code",
   "execution_count": 53,
   "metadata": {},
   "outputs": [
    {
     "name": "stdout",
     "output_type": "stream",
     "text": [
      "       country continent   gdpPercap\n",
      "0  Afghanistan      Asia  779.445314\n",
      "1  Afghanistan      Asia  820.853030\n",
      "2  Afghanistan      Asia  853.100710\n",
      "3  Afghanistan      Asia  836.197138\n",
      "4  Afghanistan      Asia  739.981106\n"
     ]
    }
   ],
   "source": [
    "subset = df.iloc[:, [0, 1, -1]] # 컬럼명이 누락된 경우 용이\n",
    "print(subset.head())"
   ]
  },
  {
   "cell_type": "code",
   "execution_count": 59,
   "metadata": {},
   "outputs": [
    {
     "name": "stdout",
     "output_type": "stream",
     "text": [
      "<pandas.core.indexing._LocIndexer object at 0x7f78f4dd0fb0>\n"
     ]
    }
   ],
   "source": [
    "print(df.loc)"
   ]
  },
  {
   "cell_type": "markdown",
   "metadata": {},
   "source": [
    "2. range 매서드로 원하는 데이터 추출하기"
   ]
  },
  {
   "cell_type": "code",
   "execution_count": 50,
   "metadata": {},
   "outputs": [
    {
     "name": "stdout",
     "output_type": "stream",
     "text": [
      "[1, 2, 3]\n"
     ]
    }
   ],
   "source": [
    "small_range = list(range(1,4))\n",
    "print(small_range)"
   ]
  },
  {
   "cell_type": "code",
   "execution_count": 51,
   "metadata": {},
   "outputs": [
    {
     "name": "stdout",
     "output_type": "stream",
     "text": [
      "     continent  year  lifeExp\n",
      "0         Asia  1952   28.801\n",
      "1         Asia  1957   30.332\n",
      "2         Asia  1962   31.997\n",
      "3         Asia  1967   34.020\n",
      "4         Asia  1972   36.088\n",
      "...        ...   ...      ...\n",
      "1699    Africa  1987   62.351\n",
      "1700    Africa  1992   60.377\n",
      "1701    Africa  1997   46.809\n",
      "1702    Africa  2002   39.989\n",
      "1703    Africa  2007   43.487\n",
      "\n",
      "[1704 rows x 3 columns]\n"
     ]
    }
   ],
   "source": [
    "subset = df.iloc[:, small_range]\n",
    "print(subset)"
   ]
  },
  {
   "cell_type": "code",
   "execution_count": 74,
   "metadata": {},
   "outputs": [
    {
     "name": "stdout",
     "output_type": "stream",
     "text": [
      "       country  year       pop\n",
      "0  Afghanistan  1952   8425333\n",
      "1  Afghanistan  1957   9240934\n",
      "2  Afghanistan  1962  10267083\n",
      "3  Afghanistan  1967  11537966\n",
      "4  Afghanistan  1972  13079460\n"
     ]
    }
   ],
   "source": [
    "subset = df.iloc[:, 0:6:2]\n",
    "print(subset.head())"
   ]
  },
  {
   "cell_type": "markdown",
   "metadata": {},
   "source": [
    "## loc, iloc 속성 자유 자재로 사용하기 (sql SELECT)"
   ]
  },
  {
   "cell_type": "code",
   "execution_count": 75,
   "metadata": {},
   "outputs": [
    {
     "name": "stdout",
     "output_type": "stream",
     "text": [
      "<class 'pandas.core.frame.DataFrame'>\n"
     ]
    }
   ],
   "source": [
    "print(type(df.loc[[0,99,999]]))"
   ]
  },
  {
   "cell_type": "code",
   "execution_count": 77,
   "metadata": {},
   "outputs": [
    {
     "name": "stdout",
     "output_type": "stream",
     "text": [
      "         country  lifeExp    gdpPercap\n",
      "0    Afghanistan   28.801   779.445314\n",
      "99    Bangladesh   43.453   721.186086\n",
      "999     Mongolia   51.253  1226.041130\n"
     ]
    }
   ],
   "source": [
    "print(df.iloc[[0,99,999], [0,3,5]])"
   ]
  },
  {
   "cell_type": "code",
   "execution_count": 81,
   "metadata": {},
   "outputs": [
    {
     "name": "stdout",
     "output_type": "stream",
     "text": [
      "         country  lifeexp    gdpPercap\n",
      "0    Afghanistan      NaN   779.445314\n",
      "99    Bangladesh      NaN   721.186086\n",
      "999     Mongolia      NaN  1226.041130\n"
     ]
    },
    {
     "name": "stderr",
     "output_type": "stream",
     "text": [
      "/opt/conda/lib/python3.7/site-packages/pandas/core/indexing.py:1418: FutureWarning: \n",
      "Passing list-likes to .loc or [] with any missing label will raise\n",
      "KeyError in the future, you can use .reindex() as an alternative.\n",
      "\n",
      "See the documentation here:\n",
      "https://pandas.pydata.org/pandas-docs/stable/user_guide/indexing.html#deprecate-loc-reindex-listlike\n",
      "  return self._getitem_tuple(key)\n"
     ]
    }
   ],
   "source": [
    "print(df.loc[[0,99,999], ['country', 'lifeexp', 'gdpPercap']]) #lifeExp 대소문자 유의"
   ]
  },
  {
   "cell_type": "markdown",
   "metadata": {},
   "source": [
    "## 그룹화한 데이터의 평균 구하기 44쪽 (GROUP BY)\n",
    "1. 중복되는 년도별로 lifeExp 열을 그룹화 하여 평균값"
   ]
  },
  {
   "cell_type": "code",
   "execution_count": 82,
   "metadata": {},
   "outputs": [
    {
     "name": "stdout",
     "output_type": "stream",
     "text": [
      "year\n",
      "1952    49.057620\n",
      "1957    51.507401\n",
      "1962    53.609249\n",
      "1967    55.678290\n",
      "1972    57.647386\n",
      "1977    59.570157\n",
      "1982    61.533197\n",
      "1987    63.212613\n",
      "1992    64.160338\n",
      "1997    65.014676\n",
      "2002    65.694923\n",
      "2007    67.007423\n",
      "Name: lifeExp, dtype: float64\n"
     ]
    }
   ],
   "source": [
    "print(df.groupby('year')['lifeExp'].mean())"
   ]
  },
  {
   "cell_type": "code",
   "execution_count": 84,
   "metadata": {},
   "outputs": [
    {
     "name": "stdout",
     "output_type": "stream",
     "text": [
      "<class 'pandas.core.groupby.generic.DataFrameGroupBy'>\n"
     ]
    }
   ],
   "source": [
    "grouped_year_df = df.groupby('year')\n",
    "print(type(grouped_year_df))"
   ]
  },
  {
   "cell_type": "code",
   "execution_count": 85,
   "metadata": {},
   "outputs": [
    {
     "name": "stdout",
     "output_type": "stream",
     "text": [
      "<pandas.core.groupby.generic.DataFrameGroupBy object at 0x7f78f44d9650>\n"
     ]
    }
   ],
   "source": [
    "print(grouped_year_df\n",
    "    )"
   ]
  },
  {
   "cell_type": "code",
   "execution_count": 90,
   "metadata": {},
   "outputs": [
    {
     "name": "stdout",
     "output_type": "stream",
     "text": [
      "<class 'pandas.core.groupby.generic.SeriesGroupBy'>\n"
     ]
    }
   ],
   "source": [
    "grouped_year_df_lifeExp = grouped_year_df['lifeExp']\n",
    "print(type(grouped_year_df_lifeExp)) # 하나의 컬럼은 씨리즈이지만 그룹화된것 차이확인"
   ]
  },
  {
   "cell_type": "code",
   "execution_count": 91,
   "metadata": {},
   "outputs": [
    {
     "name": "stdout",
     "output_type": "stream",
     "text": [
      "<pandas.core.groupby.generic.SeriesGroupBy object at 0x7f78ef09d150>\n"
     ]
    }
   ],
   "source": [
    "print(grouped_year_df_lifeExp) # 그룹화된 데이터 자체는 단독출력 불가"
   ]
  },
  {
   "cell_type": "code",
   "execution_count": 89,
   "metadata": {},
   "outputs": [
    {
     "name": "stdout",
     "output_type": "stream",
     "text": [
      "year\n",
      "1952    49.057620\n",
      "1957    51.507401\n",
      "1962    53.609249\n",
      "1967    55.678290\n",
      "1972    57.647386\n",
      "1977    59.570157\n",
      "1982    61.533197\n",
      "1987    63.212613\n",
      "1992    64.160338\n",
      "1997    65.014676\n",
      "2002    65.694923\n",
      "2007    67.007423\n",
      "Name: lifeExp, dtype: float64\n"
     ]
    }
   ],
   "source": [
    "mean_lifeExp_by_year = grouped_year_df_lifeExp.mean()\n",
    "print(mean_lifeExp_by_year) # 다음과 같이 평균 등을 해서 출력 가능"
   ]
  },
  {
   "cell_type": "markdown",
   "metadata": {},
   "source": [
    "## 6. lifeExp, gdpPercap열의 평균값을 연도, 지역별로 그룹화하여 한번에 계산"
   ]
  },
  {
   "cell_type": "code",
   "execution_count": 95,
   "metadata": {},
   "outputs": [
    {
     "name": "stdout",
     "output_type": "stream",
     "text": [
      "                  lifeExp     gdpPercap\n",
      "year continent                         \n",
      "1952 Africa     39.135500   1252.572466\n",
      "     Americas   53.279840   4079.062552\n",
      "     Asia       46.314394   5195.484004\n",
      "     Europe     64.408500   5661.057435\n",
      "     Oceania    69.255000  10298.085650\n",
      "1957 Africa     41.266346   1385.236062\n",
      "     Americas   55.960280   4616.043733\n",
      "     Asia       49.318544   5787.732940\n",
      "     Europe     66.703067   6963.012816\n",
      "     Oceania    70.295000  11598.522455\n"
     ]
    }
   ],
   "source": [
    "multi_group_var = df.groupby(['year', 'continent'])[['lifeExp', 'gdpPercap']].mean()\n",
    "print(multi_group_var.head(10))"
   ]
  },
  {
   "cell_type": "markdown",
   "metadata": {},
   "source": [
    "## 7. 개수 COUNT"
   ]
  },
  {
   "cell_type": "code",
   "execution_count": 105,
   "metadata": {},
   "outputs": [
    {
     "name": "stdout",
     "output_type": "stream",
     "text": [
      "continent\n",
      "Africa      52\n",
      "Americas    25\n",
      "Asia        33\n",
      "Europe      30\n",
      "Oceania      2\n",
      "Name: country, dtype: int64\n"
     ]
    }
   ],
   "source": [
    "print(df.groupby('continent')['country'].nunique()) # 정수타입아니므로 mean은 안먹힘"
   ]
  },
  {
   "cell_type": "code",
   "execution_count": 109,
   "metadata": {},
   "outputs": [
    {
     "name": "stdout",
     "output_type": "stream",
     "text": [
      "      country  continent  year  lifeExp  pop  gdpPercap\n",
      "year                                                   \n",
      "1952      142          5     1      142  142        142\n",
      "1957      142          5     1      142  142        142\n",
      "1962      142          5     1      141  142        142\n",
      "1967      142          5     1      141  142        142\n",
      "1972      142          5     1      142  142        142\n",
      "1977      142          5     1      142  142        142\n",
      "1982      142          5     1      142  142        142\n",
      "1987      142          5     1      141  142        142\n",
      "1992      142          5     1      141  142        142\n",
      "1997      142          5     1      142  142        142\n",
      "2002      142          5     1      142  142        142\n",
      "2007      142          5     1      142  142        142\n"
     ]
    }
   ],
   "source": [
    "print(df.groupby('year').nunique()) # 정수형컬럼을 그룹화 하는법"
   ]
  },
  {
   "cell_type": "markdown",
   "metadata": {},
   "source": [
    "## 그래프\n",
    "- 쥬피터에서 %matplotlib inline 추가하기"
   ]
  },
  {
   "cell_type": "code",
   "execution_count": 101,
   "metadata": {},
   "outputs": [],
   "source": [
    "%matplotlib inline\n",
    "import matplotlib.pyplot as plt"
   ]
  },
  {
   "cell_type": "code",
   "execution_count": 103,
   "metadata": {},
   "outputs": [
    {
     "name": "stdout",
     "output_type": "stream",
     "text": [
      "year\n",
      "1952    49.057620\n",
      "1957    51.507401\n",
      "1962    53.609249\n",
      "1967    55.678290\n",
      "1972    57.647386\n",
      "1977    59.570157\n",
      "1982    61.533197\n",
      "1987    63.212613\n",
      "1992    64.160338\n",
      "1997    65.014676\n",
      "2002    65.694923\n",
      "2007    67.007423\n",
      "Name: lifeExp, dtype: float64\n"
     ]
    }
   ],
   "source": [
    "global_yearly_life_expectancy = df.groupby('year')['lifeExp'].mean()\n",
    "print(global_yearly_life_expectancy)"
   ]
  },
  {
   "cell_type": "code",
   "execution_count": 104,
   "metadata": {},
   "outputs": [
    {
     "data": {
      "text/plain": [
       "<matplotlib.axes._subplots.AxesSubplot at 0x7f78eed2f9d0>"
      ]
     },
     "execution_count": 104,
     "metadata": {},
     "output_type": "execute_result"
    },
    {
     "data": {
      "image/png": "[encoded data removed]",
      "text/plain": [
       "<Figure size 432x288 with 1 Axes>"
      ]
     },
     "metadata": {
      "needs_background": "light"
     },
     "output_type": "display_data"
    }
   ],
   "source": [
    "global_yearly_life_expectancy.plot()"
   ]
  },
  {
   "cell_type": "markdown",
   "metadata": {},
   "source": [
    "# 시리즈와 데이터 프레임 직접 만들기 "
   ]
  },
  {
   "cell_type": "markdown",
   "metadata": {},
   "source": [
    "## 1. 시리즈 만들기 51쪽"
   ]
  },
  {
   "cell_type": "code",
   "execution_count": 116,
   "metadata": {},
   "outputs": [
    {
     "name": "stdout",
     "output_type": "stream",
     "text": [
      "0    banana\n",
      "1        42\n",
      "dtype: object\n"
     ]
    }
   ],
   "source": [
    "import pandas as pd\n",
    "s= pd.Series(['banana', 42])\n",
    "print(s)"
   ]
  },
  {
   "cell_type": "code",
   "execution_count": 117,
   "metadata": {},
   "outputs": [
    {
     "name": "stdout",
     "output_type": "stream",
     "text": [
      "0         Wes McKinney\n",
      "1    Creator of Pandas\n",
      "dtype: object\n"
     ]
    }
   ],
   "source": [
    "s = pd.Series(['Wes McKinney', 'Creator of Pandas'])\n",
    "print(s)"
   ]
  },
  {
   "cell_type": "code",
   "execution_count": 118,
   "metadata": {},
   "outputs": [
    {
     "name": "stdout",
     "output_type": "stream",
     "text": [
      "Person         Wes McKinney\n",
      "Who       Creator of Pandas\n",
      "dtype: object\n"
     ]
    }
   ],
   "source": [
    "s = pd.Series(['Wes McKinney', 'Creator of Pandas'], index=['Person', 'Who'])\n",
    "print(s)"
   ]
  },
  {
   "cell_type": "code",
   "execution_count": 119,
   "metadata": {},
   "outputs": [
    {
     "name": "stdout",
     "output_type": "stream",
     "text": [
      "0      country\n",
      "1    continent\n",
      "2         year\n",
      "3      lifeExp\n",
      "4          pop\n",
      "5    gdpPercap\n",
      "dtype: object\n"
     ]
    }
   ],
   "source": [
    "s = pd.Series(df.columns)\n",
    "print(s)"
   ]
  },
  {
   "cell_type": "markdown",
   "metadata": {},
   "source": [
    "## 3. 데이터 프레임 만들기"
   ]
  },
  {
   "cell_type": "code",
   "execution_count": 122,
   "metadata": {},
   "outputs": [
    {
     "name": "stdout",
     "output_type": "stream",
     "text": [
      "               Name    Occupation        Born  Age\n",
      "0  Rosalie Franklin       Chemist  1920-07-25   45\n",
      "1    William Gosset  Statistician  1885-21-32   66\n"
     ]
    }
   ],
   "source": [
    "scientists = pd.DataFrame({\n",
    "            'Name'       : ['Rosalie Franklin', 'William Gosset'],\n",
    "            'Occupation' : ['Chemist', 'Statistician'],\n",
    "            'Born'       : ['1920-07-25', '1885-21-32'],\n",
    "            'Age'        : [45, 66]}\n",
    ")\n",
    "print(scientists)"
   ]
  },
  {
   "cell_type": "code",
   "execution_count": 124,
   "metadata": {},
   "outputs": [
    {
     "name": "stdout",
     "output_type": "stream",
     "text": [
      "                    Occupation        Born  Age\n",
      "Rosalie Franklin       Chemist  1920-07-25   45\n",
      "William Gosset    Statistician  1885-21-32   66\n"
     ]
    }
   ],
   "source": [
    "scientists = pd.DataFrame(\n",
    "     data ={\n",
    "            'Occupation' : ['Chemist', 'Statistician'],\n",
    "            'Born'       : ['1920-07-25', '1885-21-32'],\n",
    "            'Age'        : [45, 66]\n",
    "     },\n",
    "    index = ['Rosalie Franklin', 'William Gosset'],\n",
    "    columns = ['Occupation', 'Born', 'Age']\n",
    "    \n",
    ")\n",
    "print(scientists)"
   ]
  },
  {
   "cell_type": "code",
   "execution_count": 153,
   "metadata": {},
   "outputs": [
    {
     "name": "stdout",
     "output_type": "stream",
     "text": [
      "                Name    Occupation        Born        Died  Age\n",
      "0  Rosaline Franklin       Chemist  1920-07-25  1958-04-16   37\n",
      "1     William Gosset  Statistician  1876-06-13  1937-10-16   61\n"
     ]
    }
   ],
   "source": [
    "from collections import OrderedDict\n",
    "\n",
    "scientists = pd.DataFrame(OrderedDict([ \n",
    "    ('Name', ['Rosaline Franklin', 'William Gosset']),\n",
    "    ('Occupation', ['Chemist', 'Statistician']), \n",
    "    ('Born', ['1920-07-25', '1876-06-13']), \n",
    "    ('Died', ['1958-04-16', '1937-10-16']), \n",
    "    ('Age', [37, 61])\n",
    "])\n",
    ") \n",
    "print(scientists)"
   ]
  },
  {
   "cell_type": "code",
   "execution_count": 125,
   "metadata": {},
   "outputs": [
    {
     "name": "stdout",
     "output_type": "stream",
     "text": [
      "<class 'pandas.core.series.Series'>\n"
     ]
    }
   ],
   "source": [
    "first_row = scientists.loc['William Gosset']\n",
    "print(type(first_row))"
   ]
  },
  {
   "cell_type": "code",
   "execution_count": 126,
   "metadata": {},
   "outputs": [
    {
     "name": "stdout",
     "output_type": "stream",
     "text": [
      "Occupation    Statistician\n",
      "Born            1885-21-32\n",
      "Age                     66\n",
      "Name: William Gosset, dtype: object\n"
     ]
    }
   ],
   "source": [
    "print(first_row)"
   ]
  },
  {
   "cell_type": "markdown",
   "metadata": {},
   "source": [
    "# index, values 속성과 keys 메서드 사용하기"
   ]
  },
  {
   "cell_type": "markdown",
   "metadata": {},
   "source": [
    "## 1. index 속성 사용하기 55쪽\n"
   ]
  },
  {
   "cell_type": "code",
   "execution_count": 128,
   "metadata": {},
   "outputs": [
    {
     "name": "stdout",
     "output_type": "stream",
     "text": [
      "Index(['Occupation', 'Born', 'Age'], dtype='object')\n"
     ]
    }
   ],
   "source": [
    "print(first_row.index)"
   ]
  },
  {
   "cell_type": "markdown",
   "metadata": {},
   "source": [
    "## 2. values 메서드 사용"
   ]
  },
  {
   "cell_type": "code",
   "execution_count": 129,
   "metadata": {},
   "outputs": [
    {
     "name": "stdout",
     "output_type": "stream",
     "text": [
      "['Statistician' '1885-21-32' 66]\n"
     ]
    }
   ],
   "source": [
    "print(first_row.values)"
   ]
  },
  {
   "cell_type": "markdown",
   "metadata": {},
   "source": [
    "## 3. keys"
   ]
  },
  {
   "cell_type": "code",
   "execution_count": 130,
   "metadata": {},
   "outputs": [
    {
     "name": "stdout",
     "output_type": "stream",
     "text": [
      "Index(['Occupation', 'Born', 'Age'], dtype='object')\n"
     ]
    }
   ],
   "source": [
    "print(first_row.keys())"
   ]
  },
  {
   "cell_type": "markdown",
   "metadata": {},
   "source": [
    "## 4. index속성 \n"
   ]
  },
  {
   "cell_type": "code",
   "execution_count": 131,
   "metadata": {},
   "outputs": [
    {
     "name": "stdout",
     "output_type": "stream",
     "text": [
      "Occupation\n"
     ]
    }
   ],
   "source": [
    "print(first_row.index[0])\n"
   ]
  },
  {
   "cell_type": "markdown",
   "metadata": {},
   "source": [
    "# 시리즈의 mean, min, max, std 메서드 사용"
   ]
  },
  {
   "cell_type": "code",
   "execution_count": 135,
   "metadata": {},
   "outputs": [
    {
     "name": "stdout",
     "output_type": "stream",
     "text": [
      "Rosalie Franklin    45\n",
      "William Gosset      66\n",
      "Name: Age, dtype: int64\n",
      "55.5\n",
      "45\n",
      "66\n",
      "14.849242404917497\n"
     ]
    }
   ],
   "source": [
    "ages = scientists['Age'] \n",
    "print(ages)\n",
    "print(ages.mean())\n",
    "print(ages.min())\n",
    "print(ages.max())\n",
    "print(ages.std())"
   ]
  },
  {
   "cell_type": "markdown",
   "metadata": {},
   "source": [
    "# 시리즈와 불린 추출 사용하기"
   ]
  },
  {
   "cell_type": "code",
   "execution_count": 143,
   "metadata": {},
   "outputs": [],
   "source": [
    "scientists = pd.read_csv('./data/scientists.csv')"
   ]
  },
  {
   "cell_type": "code",
   "execution_count": 144,
   "metadata": {},
   "outputs": [
    {
     "name": "stdout",
     "output_type": "stream",
     "text": [
      "0    37\n",
      "1    61\n",
      "2    90\n",
      "3    66\n",
      "4    56\n",
      "5    45\n",
      "6    41\n",
      "7    77\n",
      "Name: Age, dtype: int64\n",
      "59.125\n",
      "37\n",
      "90\n",
      "18.325918413937288\n"
     ]
    }
   ],
   "source": [
    "ages = scientists['Age'] \n",
    "print(ages)\n",
    "\n",
    "print(ages.mean())\n",
    "print(ages.min())\n",
    "print(ages.max())\n",
    "print(ages.std())"
   ]
  },
  {
   "cell_type": "code",
   "execution_count": 149,
   "metadata": {},
   "outputs": [
    {
     "name": "stdout",
     "output_type": "stream",
     "text": [
      "0    False\n",
      "1     True\n",
      "2     True\n",
      "3     True\n",
      "4    False\n",
      "5    False\n",
      "6    False\n",
      "7     True\n",
      "Name: Age, dtype: bool\n",
      "1    61\n",
      "2    90\n",
      "3    66\n",
      "7    77\n",
      "Name: Age, dtype: int64\n",
      "<class 'pandas.core.series.Series'>\n"
     ]
    }
   ],
   "source": [
    "print(ages > ages.mean())\n",
    "print(ages[ages > ages.mean()]) # 참값인 1,2,3,7의 인덱스 해당값만 출력\n",
    "print(type(ages > ages.mean())) # True, False 값들의 series"
   ]
  },
  {
   "cell_type": "code",
   "execution_count": 152,
   "metadata": {},
   "outputs": [
    {
     "name": "stdout",
     "output_type": "stream",
     "text": [
      "1    61\n",
      "2    90\n",
      "3    66\n",
      "7    77\n",
      "Name: Age, dtype: int64\n"
     ]
    }
   ],
   "source": [
    "# manual_bool_values 하든, ages > ages.mean() 하든 동일 결과\n",
    "a = [    False,     True,     True,     True,    False,    False,    False,     True]\n",
    "print(ages[a])"
   ]
  },
  {
   "cell_type": "code",
   "execution_count": null,
   "metadata": {},
   "outputs": [],
   "source": []
  }
 ],
 "metadata": {
  "kernelspec": {
   "display_name": "Python 3",
   "language": "python",
   "name": "python3"
  },
  "language_info": {
   "codemirror_mode": {
    "name": "ipython",
    "version": 3
   },
   "file_extension": ".py",
   "mimetype": "text/x-python",
   "name": "python",
   "nbconvert_exporter": "python",
   "pygments_lexer": "ipython3",
   "version": "3.7.4"
  }
 },
 "nbformat": 4,
 "nbformat_minor": 4
}
