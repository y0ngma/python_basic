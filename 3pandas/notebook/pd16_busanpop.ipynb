{
 "cells": [
  {
   "cell_type": "code",
   "execution_count": 20,
   "metadata": {},
   "outputs": [],
   "source": [
    "import pandas as pd"
   ]
  },
  {
   "cell_type": "code",
   "execution_count": 9,
   "metadata": {},
   "outputs": [],
   "source": [
    "df = pd.read_excel('../data/busan_population.xlsx', encoding = 'euc-kr')"
   ]
  },
  {
   "cell_type": "code",
   "execution_count": 12,
   "metadata": {},
   "outputs": [
    {
     "data": {
      "text/html": [
       "<div>\n",
       "<style scoped>\n",
       "    .dataframe tbody tr th:only-of-type {\n",
       "        vertical-align: middle;\n",
       "    }\n",
       "\n",
       "    .dataframe tbody tr th {\n",
       "        vertical-align: top;\n",
       "    }\n",
       "\n",
       "    .dataframe thead th {\n",
       "        text-align: right;\n",
       "    }\n",
       "</style>\n",
       "<table border=\"1\" class=\"dataframe\">\n",
       "  <thead>\n",
       "    <tr style=\"text-align: right;\">\n",
       "      <th></th>\n",
       "      <th>구  분</th>\n",
       "      <th>읍·면·\\n동 수</th>\n",
       "      <th>세   대</th>\n",
       "      <th>인   구(명)</th>\n",
       "      <th>Unnamed: 4</th>\n",
       "      <th>Unnamed: 5</th>\n",
       "      <th>시전체\\n인구에 대한\\n구성비(%)</th>\n",
       "      <th>면적\\n(㎢)</th>\n",
       "      <th>인구밀도\\n(명/㎢)</th>\n",
       "    </tr>\n",
       "  </thead>\n",
       "  <tbody>\n",
       "    <tr>\n",
       "      <td>13</td>\n",
       "      <td>강 서 구</td>\n",
       "      <td>8.0</td>\n",
       "      <td>53242.0</td>\n",
       "      <td>134211</td>\n",
       "      <td>71107</td>\n",
       "      <td>63104</td>\n",
       "      <td>3.867467</td>\n",
       "      <td>181.49</td>\n",
       "      <td>739.0</td>\n",
       "    </tr>\n",
       "    <tr>\n",
       "      <td>14</td>\n",
       "      <td>연 제 구</td>\n",
       "      <td>12.0</td>\n",
       "      <td>90131.0</td>\n",
       "      <td>210584</td>\n",
       "      <td>101767</td>\n",
       "      <td>108817</td>\n",
       "      <td>6.068255</td>\n",
       "      <td>12.10</td>\n",
       "      <td>17404.0</td>\n",
       "    </tr>\n",
       "    <tr>\n",
       "      <td>15</td>\n",
       "      <td>수 영 구</td>\n",
       "      <td>10.0</td>\n",
       "      <td>81385.0</td>\n",
       "      <td>178071</td>\n",
       "      <td>84518</td>\n",
       "      <td>93553</td>\n",
       "      <td>5.131351</td>\n",
       "      <td>10.21</td>\n",
       "      <td>17441.0</td>\n",
       "    </tr>\n",
       "    <tr>\n",
       "      <td>16</td>\n",
       "      <td>사 상 구</td>\n",
       "      <td>12.0</td>\n",
       "      <td>96780.0</td>\n",
       "      <td>224455</td>\n",
       "      <td>113607</td>\n",
       "      <td>110848</td>\n",
       "      <td>6.467967</td>\n",
       "      <td>36.09</td>\n",
       "      <td>6219.0</td>\n",
       "    </tr>\n",
       "    <tr>\n",
       "      <td>17</td>\n",
       "      <td>기 장 군</td>\n",
       "      <td>5.0</td>\n",
       "      <td>69103.0</td>\n",
       "      <td>167178</td>\n",
       "      <td>83220</td>\n",
       "      <td>83958</td>\n",
       "      <td>4.817454</td>\n",
       "      <td>218.30</td>\n",
       "      <td>766.0</td>\n",
       "    </tr>\n",
       "  </tbody>\n",
       "</table>\n",
       "</div>"
      ],
      "text/plain": [
       "     구  분  읍·면·\\n동 수    세   대 인   구(명) Unnamed: 4 Unnamed: 5  \\\n",
       "13  강 서 구        8.0  53242.0   134211      71107      63104   \n",
       "14  연 제 구       12.0  90131.0   210584     101767     108817   \n",
       "15  수 영 구       10.0  81385.0   178071      84518      93553   \n",
       "16  사 상 구       12.0  96780.0   224455     113607     110848   \n",
       "17  기 장 군        5.0  69103.0   167178      83220      83958   \n",
       "\n",
       "    시전체\\n인구에 대한\\n구성비(%)  면적\\n(㎢)  인구밀도\\n(명/㎢)  \n",
       "13             3.867467   181.49        739.0  \n",
       "14             6.068255    12.10      17404.0  \n",
       "15             5.131351    10.21      17441.0  \n",
       "16             6.467967    36.09       6219.0  \n",
       "17             4.817454   218.30        766.0  "
      ]
     },
     "execution_count": 12,
     "metadata": {},
     "output_type": "execute_result"
    }
   ],
   "source": [
    "df.tail()"
   ]
  },
  {
   "cell_type": "code",
   "execution_count": 14,
   "metadata": {},
   "outputs": [
    {
     "name": "stdout",
     "output_type": "stream",
     "text": [
      "<class 'pandas.core.frame.DataFrame'>\n",
      "RangeIndex: 18 entries, 0 to 17\n",
      "Data columns (total 9 columns):\n",
      "구  분                 17 non-null object\n",
      "읍·면·\n",
      "동 수             17 non-null float64\n",
      "세   대                17 non-null float64\n",
      "인   구(명)             18 non-null object\n",
      "Unnamed: 4           18 non-null object\n",
      "Unnamed: 5           18 non-null object\n",
      "시전체\n",
      "인구에 대한\n",
      "구성비(%)    17 non-null float64\n",
      "면적\n",
      "(㎢)               17 non-null float64\n",
      "인구밀도\n",
      "(명/㎢)           17 non-null float64\n",
      "dtypes: float64(5), object(4)\n",
      "memory usage: 1.4+ KB\n"
     ]
    }
   ],
   "source": [
    "df.info()"
   ]
  },
  {
   "cell_type": "code",
   "execution_count": 15,
   "metadata": {},
   "outputs": [
    {
     "data": {
      "text/plain": [
       "(18, 9)"
      ]
     },
     "execution_count": 15,
     "metadata": {},
     "output_type": "execute_result"
    }
   ],
   "source": [
    "df.shape"
   ]
  },
  {
   "cell_type": "code",
   "execution_count": 16,
   "metadata": {},
   "outputs": [],
   "source": [
    "missing = df.shape[0] - df.count()"
   ]
  },
  {
   "cell_type": "code",
   "execution_count": 17,
   "metadata": {},
   "outputs": [
    {
     "data": {
      "text/plain": [
       "구  분                   1\n",
       "읍·면·\\n동 수              1\n",
       "세   대                  1\n",
       "인   구(명)               0\n",
       "Unnamed: 4             0\n",
       "Unnamed: 5             0\n",
       "시전체\\n인구에 대한\\n구성비(%)    1\n",
       "면적\\n(㎢)                1\n",
       "인구밀도\\n(명/㎢)            1\n",
       "dtype: int64"
      ]
     },
     "execution_count": 17,
     "metadata": {},
     "output_type": "execute_result"
    }
   ],
   "source": [
    "missing"
   ]
  },
  {
   "cell_type": "code",
   "execution_count": 18,
   "metadata": {},
   "outputs": [
    {
     "data": {
      "text/plain": [
       "18"
      ]
     },
     "execution_count": 18,
     "metadata": {},
     "output_type": "execute_result"
    }
   ],
   "source": [
    "df.shape[0]"
   ]
  },
  {
   "cell_type": "code",
   "execution_count": 19,
   "metadata": {},
   "outputs": [
    {
     "data": {
      "text/plain": [
       "구  분                   17\n",
       "읍·면·\\n동 수              17\n",
       "세   대                  17\n",
       "인   구(명)               18\n",
       "Unnamed: 4             18\n",
       "Unnamed: 5             18\n",
       "시전체\\n인구에 대한\\n구성비(%)    17\n",
       "면적\\n(㎢)                17\n",
       "인구밀도\\n(명/㎢)            17\n",
       "dtype: int64"
      ]
     },
     "execution_count": 19,
     "metadata": {},
     "output_type": "execute_result"
    }
   ],
   "source": [
    "df.count()"
   ]
  },
  {
   "cell_type": "code",
   "execution_count": null,
   "metadata": {},
   "outputs": [],
   "source": []
  }
 ],
 "metadata": {
  "kernelspec": {
   "display_name": "Python 3",
   "language": "python",
   "name": "python3"
  },
  "language_info": {
   "codemirror_mode": {
    "name": "ipython",
    "version": 3
   },
   "file_extension": ".py",
   "mimetype": "text/x-python",
   "name": "python",
   "nbconvert_exporter": "python",
   "pygments_lexer": "ipython3",
   "version": "3.7.4"
  }
 },
 "nbformat": 4,
 "nbformat_minor": 4
}
