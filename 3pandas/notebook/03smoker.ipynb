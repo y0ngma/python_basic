{
 "cells": [
  {
   "cell_type": "code",
   "execution_count": 1,
   "metadata": {},
   "outputs": [],
   "source": [
    "import pandas as pd\n",
    "import matplotlib.pyplot as plt\n",
    "# 주피터 내장\n",
    "%matplotlib inline\n",
    "# 한글처리 \n",
    "import platform\n",
    "from matplotlib import font_manager, rc"
   ]
  },
  {
   "cell_type": "code",
   "execution_count": 2,
   "metadata": {},
   "outputs": [],
   "source": [
    "# smoker=pd.read_csv('../data/smokers.csv', encoding = 'utf-8')\n",
    "smoker=pd.read_excel('../data/practice_smokers.xls', encoding='utf-8', header=1)\n",
    "# pop=pd.read_csv('../data/practice_pop.csv', encoding='utf-8')\n",
    "pop=pd.read_excel('../data/practice_pop1.xlsx', encoding='utf-8' )"
   ]
  },
  {
   "cell_type": "code",
   "execution_count": 3,
   "metadata": {},
   "outputs": [
    {
     "name": "stdout",
     "output_type": "stream",
     "text": [
      "<class 'pandas.core.frame.DataFrame'>\n",
      "RangeIndex: 72 entries, 0 to 71\n",
      "Data columns (total 6 columns):\n",
      "성별(1)        3 non-null object\n",
      "응답자특성별(1)    18 non-null object\n",
      "응답자특성별(2)    72 non-null object\n",
      "응답자수 (명)     72 non-null int64\n",
      "분율 (%)       72 non-null float64\n",
      "표준오차         72 non-null float64\n",
      "dtypes: float64(2), int64(1), object(3)\n",
      "memory usage: 3.5+ KB\n"
     ]
    },
    {
     "data": {
      "text/plain": [
       "(72, 6)"
      ]
     },
     "execution_count": 3,
     "metadata": {},
     "output_type": "execute_result"
    }
   ],
   "source": [
    "smoker.info()\n",
    "smoker.shape"
   ]
  },
  {
   "cell_type": "code",
   "execution_count": 4,
   "metadata": {},
   "outputs": [
    {
     "data": {
      "text/html": [
       "<div>\n",
       "<style scoped>\n",
       "    .dataframe tbody tr th:only-of-type {\n",
       "        vertical-align: middle;\n",
       "    }\n",
       "\n",
       "    .dataframe tbody tr th {\n",
       "        vertical-align: top;\n",
       "    }\n",
       "\n",
       "    .dataframe thead th {\n",
       "        text-align: right;\n",
       "    }\n",
       "</style>\n",
       "<table border=\"1\" class=\"dataframe\">\n",
       "  <thead>\n",
       "    <tr style=\"text-align: right;\">\n",
       "      <th></th>\n",
       "      <th>성별(1)</th>\n",
       "      <th>응답자특성별(1)</th>\n",
       "      <th>응답자특성별(2)</th>\n",
       "      <th>응답자수 (명)</th>\n",
       "      <th>분율 (%)</th>\n",
       "      <th>표준오차</th>\n",
       "    </tr>\n",
       "  </thead>\n",
       "  <tbody>\n",
       "    <tr>\n",
       "      <th>0</th>\n",
       "      <td>전체</td>\n",
       "      <td>전체</td>\n",
       "      <td>19세이상</td>\n",
       "      <td>6115</td>\n",
       "      <td>21.1</td>\n",
       "      <td>0.8</td>\n",
       "    </tr>\n",
       "    <tr>\n",
       "      <th>1</th>\n",
       "      <td>NaN</td>\n",
       "      <td>NaN</td>\n",
       "      <td>19세이상(표준화)</td>\n",
       "      <td>6115</td>\n",
       "      <td>22.3</td>\n",
       "      <td>0.9</td>\n",
       "    </tr>\n",
       "    <tr>\n",
       "      <th>2</th>\n",
       "      <td>NaN</td>\n",
       "      <td>연령대별1</td>\n",
       "      <td>19-29세</td>\n",
       "      <td>724</td>\n",
       "      <td>24.4</td>\n",
       "      <td>2.0</td>\n",
       "    </tr>\n",
       "    <tr>\n",
       "      <th>3</th>\n",
       "      <td>NaN</td>\n",
       "      <td>NaN</td>\n",
       "      <td>30-39세</td>\n",
       "      <td>904</td>\n",
       "      <td>25.5</td>\n",
       "      <td>1.9</td>\n",
       "    </tr>\n",
       "    <tr>\n",
       "      <th>4</th>\n",
       "      <td>NaN</td>\n",
       "      <td>NaN</td>\n",
       "      <td>40-49세</td>\n",
       "      <td>1122</td>\n",
       "      <td>26.3</td>\n",
       "      <td>1.5</td>\n",
       "    </tr>\n",
       "    <tr>\n",
       "      <th>5</th>\n",
       "      <td>NaN</td>\n",
       "      <td>NaN</td>\n",
       "      <td>50-59세</td>\n",
       "      <td>1204</td>\n",
       "      <td>20.2</td>\n",
       "      <td>1.5</td>\n",
       "    </tr>\n",
       "    <tr>\n",
       "      <th>6</th>\n",
       "      <td>NaN</td>\n",
       "      <td>NaN</td>\n",
       "      <td>60-69세</td>\n",
       "      <td>1089</td>\n",
       "      <td>14.4</td>\n",
       "      <td>1.2</td>\n",
       "    </tr>\n",
       "    <tr>\n",
       "      <th>7</th>\n",
       "      <td>NaN</td>\n",
       "      <td>NaN</td>\n",
       "      <td>70세이상</td>\n",
       "      <td>1072</td>\n",
       "      <td>8.5</td>\n",
       "      <td>0.9</td>\n",
       "    </tr>\n",
       "    <tr>\n",
       "      <th>8</th>\n",
       "      <td>NaN</td>\n",
       "      <td>NaN</td>\n",
       "      <td>19-64세</td>\n",
       "      <td>4528</td>\n",
       "      <td>23.3</td>\n",
       "      <td>1.0</td>\n",
       "    </tr>\n",
       "    <tr>\n",
       "      <th>9</th>\n",
       "      <td>NaN</td>\n",
       "      <td>NaN</td>\n",
       "      <td>65세이상</td>\n",
       "      <td>1587</td>\n",
       "      <td>9.6</td>\n",
       "      <td>0.9</td>\n",
       "    </tr>\n",
       "    <tr>\n",
       "      <th>10</th>\n",
       "      <td>NaN</td>\n",
       "      <td>거주지역별</td>\n",
       "      <td>동</td>\n",
       "      <td>4991</td>\n",
       "      <td>20.6</td>\n",
       "      <td>0.9</td>\n",
       "    </tr>\n",
       "    <tr>\n",
       "      <th>11</th>\n",
       "      <td>NaN</td>\n",
       "      <td>NaN</td>\n",
       "      <td>읍면</td>\n",
       "      <td>1124</td>\n",
       "      <td>23.7</td>\n",
       "      <td>1.9</td>\n",
       "    </tr>\n",
       "  </tbody>\n",
       "</table>\n",
       "</div>"
      ],
      "text/plain": [
       "   성별(1) 응답자특성별(1)   응답자특성별(2)  응답자수 (명)  분율 (%)  표준오차\n",
       "0     전체        전체       19세이상      6115    21.1   0.8\n",
       "1    NaN       NaN  19세이상(표준화)      6115    22.3   0.9\n",
       "2    NaN     연령대별1      19-29세       724    24.4   2.0\n",
       "3    NaN       NaN      30-39세       904    25.5   1.9\n",
       "4    NaN       NaN      40-49세      1122    26.3   1.5\n",
       "5    NaN       NaN      50-59세      1204    20.2   1.5\n",
       "6    NaN       NaN      60-69세      1089    14.4   1.2\n",
       "7    NaN       NaN       70세이상      1072     8.5   0.9\n",
       "8    NaN       NaN      19-64세      4528    23.3   1.0\n",
       "9    NaN       NaN       65세이상      1587     9.6   0.9\n",
       "10   NaN     거주지역별           동      4991    20.6   0.9\n",
       "11   NaN       NaN          읍면      1124    23.7   1.9"
      ]
     },
     "execution_count": 4,
     "metadata": {},
     "output_type": "execute_result"
    }
   ],
   "source": [
    "smoker1 = pd.DataFrame(smoker)\n",
    "smoker1.head(12)"
   ]
  },
  {
   "cell_type": "code",
   "execution_count": 5,
   "metadata": {},
   "outputs": [
    {
     "data": {
      "text/plain": [
       "0     21.1\n",
       "1     22.3\n",
       "2     24.4\n",
       "3     25.5\n",
       "4     26.3\n",
       "5     20.2\n",
       "6     14.4\n",
       "7      8.5\n",
       "8     23.3\n",
       "9      9.6\n",
       "10    20.6\n",
       "11    23.7\n",
       "12    24.9\n",
       "13    23.9\n",
       "14    21.5\n",
       "15    20.0\n",
       "16    15.1\n",
       "17    21.5\n",
       "18    27.5\n",
       "19    26.0\n",
       "20    24.9\n",
       "21    22.7\n",
       "22    21.7\n",
       "23    15.9\n",
       "Name: 분율 (%), dtype: float64"
      ]
     },
     "execution_count": 5,
     "metadata": {},
     "output_type": "execute_result"
    }
   ],
   "source": [
    "# 분율 모두, 남, 여 분리하기\n",
    "ratio1 = smoker.loc[0:23, '분율 (%)'].astype(float)\n",
    "ratio2 = smoker.loc[24:47, '분율 (%)'].astype(float)\n",
    "ratio3 = smoker.loc[48:72, '분율 (%)'].astype(float)\n"
   ]
  },
  {
   "cell_type": "code",
   "execution_count": 6,
   "metadata": {},
   "outputs": [
    {
     "name": "stdout",
     "output_type": "stream",
     "text": [
      "51361911.0\n",
      "25736793.0\n",
      "25625118.0\n",
      "True\n"
     ]
    }
   ],
   "source": [
    "\n",
    "# 남녀 인구수 가져오기\n",
    "total  = pop.iloc[0, 1].astype(float)\n",
    "male   = pop.iloc[1, 1].astype(float)\n",
    "female = pop.loc[2, 2017].astype(float)\n",
    "# print(total)\n",
    "# print(male)\n",
    "# print(female)\n",
    "# print(total==male+female)"
   ]
  },
  {
   "cell_type": "code",
   "execution_count": 7,
   "metadata": {},
   "outputs": [
    {
     "name": "stdout",
     "output_type": "stream",
     "text": [
      "0     1.083736e+09\n",
      "1     1.145371e+09\n",
      "2     1.253231e+09\n",
      "3     1.309729e+09\n",
      "4     1.350818e+09\n",
      "          ...     \n",
      "67    2.383136e+08\n",
      "68    1.358131e+08\n",
      "69    1.793758e+08\n",
      "70    1.178755e+08\n",
      "71    8.712540e+07\n",
      "Name: num_smoker, Length: 72, dtype: float64\n"
     ]
    }
   ],
   "source": [
    "# smoker['num_smoker'] = smoker.concat([ratio1*total, ratio2*male, ratio3*female])\n",
    "variable = pd.concat([ratio1*total, ratio2*male, ratio3*female])\n",
    "smoker['num_smoker'] = variable\n",
    "# print(smoker['num_smoker'])"
   ]
  },
  {
   "cell_type": "code",
   "execution_count": 8,
   "metadata": {},
   "outputs": [],
   "source": [
    "# smoker['num_smoker_total']=[]\n",
    "# smoker['num_smoker_male']=[]\n",
    "# smoker['num_smoker_female']=[]\n",
    "\n",
    "# tmp = [smoker['num_smoker_total'], smoker['num_smoker_male'], smoker['num_smoker_female']]\n",
    "\n",
    "# for i in range(4):\n",
    "#     for j in tmp:\n",
    "#         j = smoker.loc[i:i*(len(smoker)-1)/3]\n",
    "# print(j)\n",
    "\n",
    "\n",
    "# smoker['num_smoker'] = pd.concat[smoker['num_smoker_total'],smoker['num_smoker_male'],smoker['num_smoker_female']]\n"
   ]
  },
  {
   "cell_type": "code",
   "execution_count": 19,
   "metadata": {},
   "outputs": [
    {
     "data": {
      "text/plain": [
       "array([[1.       , 0.1654224],\n",
       "       [0.1654224, 1.       ]])"
      ]
     },
     "execution_count": 19,
     "metadata": {},
     "output_type": "execute_result"
    }
   ],
   "source": [
    "import numpy as np\n",
    "\n",
    "smoker['응답자수 (명)']= smoker['응답자수 (명)'].astype(str).astype(float)\n",
    "# print(smoker['응답자수 (명)'])\n",
    "\n",
    "np.corrcoef(smoker['응답자수 (명)'], smoker['num_smoker'])"
   ]
  },
  {
   "cell_type": "code",
   "execution_count": 21,
   "metadata": {},
   "outputs": [
    {
     "data": {
      "text/plain": [
       "array([[1.        , 0.81791056],\n",
       "       [0.81791056, 1.        ]])"
      ]
     },
     "execution_count": 21,
     "metadata": {},
     "output_type": "execute_result"
    }
   ],
   "source": [
    "import numpy as np\n",
    "\n",
    "smoker['분율 (%)']= smoker['분율 (%)'].astype(str).astype(float)\n",
    "# print(smoker['분율 (%)'])\n",
    "\n",
    "np.corrcoef(smoker['분율 (%)'], smoker['num_smoker'])"
   ]
  },
  {
   "cell_type": "code",
   "execution_count": 23,
   "metadata": {},
   "outputs": [
    {
     "data": {
      "image/png": "[encoded data removed]",
      "text/plain": [
       "<Figure size 720x720 with 1 Axes>"
      ]
     },
     "metadata": {
      "needs_background": "light"
     },
     "output_type": "display_data"
    }
   ],
   "source": [
    "plt.figure()\n",
    "plt.rc('font', family='NanumGothic')\n",
    "smoker['num_smoker'].sort_values().plot( kind='barh', grid=True, figsize=(10,10) )\n",
    "plt.show()"
   ]
  },
  {
   "cell_type": "code",
   "execution_count": null,
   "metadata": {},
   "outputs": [],
   "source": []
  }
 ],
 "metadata": {
  "kernelspec": {
   "display_name": "Python 3",
   "language": "python",
   "name": "python3"
  },
  "language_info": {
   "codemirror_mode": {
    "name": "ipython",
    "version": 3
   },
   "file_extension": ".py",
   "mimetype": "text/x-python",
   "name": "python",
   "nbconvert_exporter": "python",
   "pygments_lexer": "ipython3",
   "version": "3.7.4"
  }
 },
 "nbformat": 4,
 "nbformat_minor": 4
}
