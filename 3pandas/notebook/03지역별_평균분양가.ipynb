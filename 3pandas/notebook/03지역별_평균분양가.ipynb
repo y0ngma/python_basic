{
 "cells": [
  {
   "cell_type": "code",
   "execution_count": null,
   "metadata": {},
   "outputs": [],
   "source": [
    "# 전국 신규 민간 아파트 분양가격 동향\n",
    "* 2015년 10월부터 2018년 7월까지\n",
    "* 주택분양보증을 받아 분양한 전체 민간 신규아파트 분양가격 동향\n",
    "* https://www.data.go.kr/dataset/3035522/fileData.do\n",
    "* 이 튜토리얼은 아파트 분양가에 대한 분석보다 파이썬 데이터 분석 방법을 배우는데 목적을 두고 있습니다.\n",
    "* 이 튜토리얼에서는 파이썬 데이터분석 도구인 Pandas를 활용합니다. Pandas에 대한 간략한 소개는 다음의 판다스 10분 완성 문서를 참고해 주시면 좋습니다. \n",
    "    * https://dataitgirls2.github.io/10minutes2pandas/\n",
    "* 데이터 다운로드 : https://goo.gl/oJydAv "
   ]
  },
  {
   "cell_type": "code",
   "execution_count": null,
   "metadata": {},
   "outputs": [],
   "source": [
    "## !중요\n",
    "### 버전과 한글폰트\n",
    "* 한글폰트 사용하기 : http://corazzon.github.io/matplotlib_font_setting"
   ]
  },
  {
   "cell_type": "code",
   "execution_count": null,
   "metadata": {},
   "outputs": [],
   "source": [
    "# 아래의 버전에 의존성이 있습니다. \n",
    "# 다음의 버전으로 설치해 주세요.\n",
    "# !pip install plotnine==0.5.0\n",
    "# !pip install pandas\n",
    "# !pip install folium==0.5.0\n",
    "# !pip install statsmodels -U\n",
    "# 시각화 도구 설치\n",
    "# !pip install missingno"
   ]
  },
  {
   "cell_type": "code",
   "execution_count": null,
   "metadata": {},
   "outputs": [],
   "source": [
    "# 아나콘다 사용시 \n",
    "* Plotnine 설치 : https://anaconda.org/conda-forge/plotnine\n",
    "* missingno 설치 : https://anaconda.org/conda-forge/missingno"
   ]
  },
  {
   "cell_type": "code",
   "execution_count": null,
   "metadata": {},
   "outputs": [],
   "source": []
  },
  {
   "cell_type": "code",
   "execution_count": null,
   "metadata": {},
   "outputs": [],
   "source": []
  },
  {
   "cell_type": "code",
   "execution_count": 1,
   "metadata": {},
   "outputs": [
    {
     "name": "stdout",
     "output_type": "stream",
     "text": [
      "Name: plotnine\n",
      "Version: 0.6.0\n",
      "Summary: A grammar of graphics for python\n",
      "Home-page: https://github.com/has2k1/plotnine\n",
      "Author: None\n",
      "Author-email: None\n",
      "License: GPL-2\n",
      "Location: /opt/conda/lib/python3.7/site-packages\n",
      "Requires: statsmodels, descartes, numpy, scipy, pandas, patsy, mizani, matplotlib\n",
      "Required-by: \n"
     ]
    }
   ],
   "source": [
    "!pip show plotnine\n"
   ]
  },
  {
   "cell_type": "code",
   "execution_count": 2,
   "metadata": {},
   "outputs": [
    {
     "name": "stdout",
     "output_type": "stream",
     "text": [
      "Name: missingno\n",
      "Version: 0.4.2\n",
      "Summary: Missing data visualization module for Python.\n",
      "Home-page: https://github.com/ResidentMario/missingno\n",
      "Author: Aleksey Bilogur\n",
      "Author-email: aleksey.bilogur@gmail.com\n",
      "License: UNKNOWN\n",
      "Location: /opt/conda/lib/python3.7/site-packages\n",
      "Requires: matplotlib, seaborn, numpy, scipy\n",
      "Required-by: \n"
     ]
    }
   ],
   "source": [
    "!pip show missingno"
   ]
  },
  {
   "cell_type": "code",
   "execution_count": 3,
   "metadata": {},
   "outputs": [],
   "source": [
    "import warnings\n",
    "warnings.filterwarnings('ignore')"
   ]
  },
  {
   "cell_type": "code",
   "execution_count": 127,
   "metadata": {},
   "outputs": [],
   "source": [
    "import pandas as pd\n",
    "import numpy as np\n",
    "import re\n",
    "\n",
    "%matplotlib inline"
   ]
  },
  {
   "cell_type": "code",
   "execution_count": 128,
   "metadata": {},
   "outputs": [],
   "source": [
    "# plotnine 이 import 되지 않는다면 아래 코드의 주석을 풀고 설치해 주세요.\n",
    "# !pip install statsmodels -U\n",
    "from plotnine import *"
   ]
  },
  {
   "cell_type": "markdown",
   "metadata": {},
   "source": [
    "%을 사용하면 터미널에서 사용할 수 있는 유닉스 명령어를 사용하실 수 있습니다.\n",
    "경로를 불러오는 문제가 있을 때 이 방법을 사용하면 좋습니다."
   ]
  },
  {
   "cell_type": "code",
   "execution_count": 129,
   "metadata": {},
   "outputs": [
    {
     "data": {
      "text/plain": [
       "'/home/vscode/notebooks/pd/pdtxtb'"
      ]
     },
     "execution_count": 129,
     "metadata": {},
     "output_type": "execute_result"
    }
   ],
   "source": [
    "%pwd"
   ]
  },
  {
   "cell_type": "code",
   "execution_count": null,
   "metadata": {},
   "outputs": [],
   "source": [
    "# 저는 data 폴더 아래에 apt_price 라는 폴더를 만들어 공공데이터 포털에서 다운로드 받은 데이터를 모아 두었습니다. \n",
    "# 해당 파일을 확인해 봅니다.\n",
    "%ls data/"
   ]
  },
  {
   "cell_type": "code",
   "execution_count": 7,
   "metadata": {},
   "outputs": [
    {
     "data": {
      "text/plain": [
       "(2805, 5)"
      ]
     },
     "execution_count": 7,
     "metadata": {},
     "output_type": "execute_result"
    }
   ],
   "source": [
    "# 한글 파일명 읽을때는 인코딩  encoding='euc-kr'\n",
    "\n",
    "pre_sale=pd.read_csv('../data/apt_price/전국_평균_분양가격_2018.6월_.csv', encoding='euc-kr', engine='python')\n",
    "pre_sale.shape"
   ]
  },
  {
   "cell_type": "code",
   "execution_count": 8,
   "metadata": {},
   "outputs": [
    {
     "data": {
      "text/html": [
       "<div>\n",
       "<style scoped>\n",
       "    .dataframe tbody tr th:only-of-type {\n",
       "        vertical-align: middle;\n",
       "    }\n",
       "\n",
       "    .dataframe tbody tr th {\n",
       "        vertical-align: top;\n",
       "    }\n",
       "\n",
       "    .dataframe thead th {\n",
       "        text-align: right;\n",
       "    }\n",
       "</style>\n",
       "<table border=\"1\" class=\"dataframe\">\n",
       "  <thead>\n",
       "    <tr style=\"text-align: right;\">\n",
       "      <th></th>\n",
       "      <th>지역명</th>\n",
       "      <th>규모구분</th>\n",
       "      <th>연도</th>\n",
       "      <th>월</th>\n",
       "      <th>분양가격(㎡)</th>\n",
       "    </tr>\n",
       "  </thead>\n",
       "  <tbody>\n",
       "    <tr>\n",
       "      <th>0</th>\n",
       "      <td>서울</td>\n",
       "      <td>전체</td>\n",
       "      <td>2015</td>\n",
       "      <td>10</td>\n",
       "      <td>5841</td>\n",
       "    </tr>\n",
       "    <tr>\n",
       "      <th>1</th>\n",
       "      <td>서울</td>\n",
       "      <td>전용면적 60㎡이하</td>\n",
       "      <td>2015</td>\n",
       "      <td>10</td>\n",
       "      <td>5652</td>\n",
       "    </tr>\n",
       "    <tr>\n",
       "      <th>2</th>\n",
       "      <td>서울</td>\n",
       "      <td>전용면적 60㎡초과 85㎡이하</td>\n",
       "      <td>2015</td>\n",
       "      <td>10</td>\n",
       "      <td>5882</td>\n",
       "    </tr>\n",
       "    <tr>\n",
       "      <th>3</th>\n",
       "      <td>서울</td>\n",
       "      <td>전용면적 85㎡초과 102㎡이하</td>\n",
       "      <td>2015</td>\n",
       "      <td>10</td>\n",
       "      <td>5721</td>\n",
       "    </tr>\n",
       "    <tr>\n",
       "      <th>4</th>\n",
       "      <td>서울</td>\n",
       "      <td>전용면적 102㎡초과</td>\n",
       "      <td>2015</td>\n",
       "      <td>10</td>\n",
       "      <td>5879</td>\n",
       "    </tr>\n",
       "  </tbody>\n",
       "</table>\n",
       "</div>"
      ],
      "text/plain": [
       "  지역명               규모구분    연도   월 분양가격(㎡)\n",
       "0  서울                 전체  2015  10    5841\n",
       "1  서울         전용면적 60㎡이하  2015  10    5652\n",
       "2  서울   전용면적 60㎡초과 85㎡이하  2015  10    5882\n",
       "3  서울  전용면적 85㎡초과 102㎡이하  2015  10    5721\n",
       "4  서울        전용면적 102㎡초과  2015  10    5879"
      ]
     },
     "execution_count": 8,
     "metadata": {},
     "output_type": "execute_result"
    }
   ],
   "source": [
    "pre_sale.head()"
   ]
  },
  {
   "cell_type": "code",
   "execution_count": 9,
   "metadata": {},
   "outputs": [
    {
     "data": {
      "text/html": [
       "<div>\n",
       "<style scoped>\n",
       "    .dataframe tbody tr th:only-of-type {\n",
       "        vertical-align: middle;\n",
       "    }\n",
       "\n",
       "    .dataframe tbody tr th {\n",
       "        vertical-align: top;\n",
       "    }\n",
       "\n",
       "    .dataframe thead th {\n",
       "        text-align: right;\n",
       "    }\n",
       "</style>\n",
       "<table border=\"1\" class=\"dataframe\">\n",
       "  <thead>\n",
       "    <tr style=\"text-align: right;\">\n",
       "      <th></th>\n",
       "      <th>지역명</th>\n",
       "      <th>규모구분</th>\n",
       "      <th>연도</th>\n",
       "      <th>월</th>\n",
       "      <th>분양가격(㎡)</th>\n",
       "    </tr>\n",
       "  </thead>\n",
       "  <tbody>\n",
       "    <tr>\n",
       "      <th>2800</th>\n",
       "      <td>제주</td>\n",
       "      <td>전체</td>\n",
       "      <td>2018</td>\n",
       "      <td>6</td>\n",
       "      <td>3925</td>\n",
       "    </tr>\n",
       "    <tr>\n",
       "      <th>2801</th>\n",
       "      <td>제주</td>\n",
       "      <td>전용면적 60㎡이하</td>\n",
       "      <td>2018</td>\n",
       "      <td>6</td>\n",
       "      <td>5462</td>\n",
       "    </tr>\n",
       "    <tr>\n",
       "      <th>2802</th>\n",
       "      <td>제주</td>\n",
       "      <td>전용면적 60㎡초과 85㎡이하</td>\n",
       "      <td>2018</td>\n",
       "      <td>6</td>\n",
       "      <td>3639</td>\n",
       "    </tr>\n",
       "    <tr>\n",
       "      <th>2803</th>\n",
       "      <td>제주</td>\n",
       "      <td>전용면적 85㎡초과 102㎡이하</td>\n",
       "      <td>2018</td>\n",
       "      <td>6</td>\n",
       "      <td>NaN</td>\n",
       "    </tr>\n",
       "    <tr>\n",
       "      <th>2804</th>\n",
       "      <td>제주</td>\n",
       "      <td>전용면적 102㎡초과</td>\n",
       "      <td>2018</td>\n",
       "      <td>6</td>\n",
       "      <td>3029</td>\n",
       "    </tr>\n",
       "  </tbody>\n",
       "</table>\n",
       "</div>"
      ],
      "text/plain": [
       "     지역명               규모구분    연도  월 분양가격(㎡)\n",
       "2800  제주                 전체  2018  6    3925\n",
       "2801  제주         전용면적 60㎡이하  2018  6    5462\n",
       "2802  제주   전용면적 60㎡초과 85㎡이하  2018  6    3639\n",
       "2803  제주  전용면적 85㎡초과 102㎡이하  2018  6     NaN\n",
       "2804  제주        전용면적 102㎡초과  2018  6    3029"
      ]
     },
     "execution_count": 9,
     "metadata": {},
     "output_type": "execute_result"
    }
   ],
   "source": [
    "pre_sale.tail()"
   ]
  },
  {
   "cell_type": "code",
   "execution_count": 10,
   "metadata": {},
   "outputs": [
    {
     "name": "stdout",
     "output_type": "stream",
     "text": [
      "<class 'pandas.core.frame.DataFrame'>\n",
      "RangeIndex: 2805 entries, 0 to 2804\n",
      "Data columns (total 5 columns):\n",
      "지역명        2805 non-null object\n",
      "규모구분       2805 non-null object\n",
      "연도         2805 non-null int64\n",
      "월          2805 non-null int64\n",
      "분양가격(㎡)    2674 non-null object\n",
      "dtypes: int64(2), object(3)\n",
      "memory usage: 109.7+ KB\n"
     ]
    }
   ],
   "source": [
    "# 분양가격이 숫자 타입이 아닙니다. 숫자 타입으로 변경해줄 필요가 있겠어요.\n",
    "pre_sale.info()"
   ]
  },
  {
   "cell_type": "code",
   "execution_count": 11,
   "metadata": {},
   "outputs": [
    {
     "data": {
      "text/plain": [
       "지역명        object\n",
       "규모구분       object\n",
       "연도          int64\n",
       "월           int64\n",
       "분양가격(㎡)    object\n",
       "dtype: object"
      ]
     },
     "execution_count": 11,
     "metadata": {},
     "output_type": "execute_result"
    }
   ],
   "source": [
    "pre_sale.dtypes"
   ]
  },
  {
   "cell_type": "code",
   "execution_count": 12,
   "metadata": {},
   "outputs": [
    {
     "data": {
      "text/plain": [
       "지역명          0\n",
       "규모구분         0\n",
       "연도           0\n",
       "월            0\n",
       "분양가격(㎡)    131\n",
       "dtype: int64"
      ]
     },
     "execution_count": 12,
     "metadata": {},
     "output_type": "execute_result"
    }
   ],
   "source": [
    "# ffill, bfill 등은 \n",
    "pre_sale.isnull().sum()"
   ]
  },
  {
   "cell_type": "code",
   "execution_count": 13,
   "metadata": {},
   "outputs": [],
   "source": [
    "import matplotlib.pyplot as plt\n",
    "# Window 의 한글 폰트 설정\n",
    "# plt.rc('font',family='Malgun Gothic')\n",
    "# Mac 의 한글 폰트 설정\n",
    "\n",
    "plt.rc('font', family='NanumGothic')"
   ]
  },
  {
   "cell_type": "code",
   "execution_count": 14,
   "metadata": {},
   "outputs": [
    {
     "data": {
      "text/plain": [
       "<matplotlib.axes._subplots.AxesSubplot at 0x7f9031fd5b50>"
      ]
     },
     "execution_count": 14,
     "metadata": {},
     "output_type": "execute_result"
    },
    {
     "data": {
      "image/png": "[encoded data removed]",
      "text/plain": [
       "<Figure size 1080x360 with 2 Axes>"
      ]
     },
     "metadata": {
      "needs_background": "light"
     },
     "output_type": "display_data"
    }
   ],
   "source": [
    "import missingno as msno\n",
    "msno.matrix(pre_sale, figsize=(15,5))"
   ]
  },
  {
   "cell_type": "code",
   "execution_count": 15,
   "metadata": {},
   "outputs": [],
   "source": [
    "# 연도와 월은 카테고리 형태의 데이터\n",
    "# 스트링 형태로 변경 !!!\n",
    "\n",
    "pre_sale['연도'] = pre_sale['연도'].astype(str)\n",
    "pre_sale['월']   = pre_sale['월'].astype(str)"
   ]
  },
  {
   "cell_type": "code",
   "execution_count": 16,
   "metadata": {},
   "outputs": [
    {
     "data": {
      "text/plain": [
       "0    5841\n",
       "1    5652\n",
       "2    5882\n",
       "3    5721\n",
       "4    5879\n",
       "Name: 분양가격(㎡), dtype: object"
      ]
     },
     "execution_count": 16,
     "metadata": {},
     "output_type": "execute_result"
    }
   ],
   "source": [
    "pre_sale_price = pre_sale['분양가격(㎡)']\n",
    "pre_sale_price.head()"
   ]
  },
  {
   "cell_type": "code",
   "execution_count": 17,
   "metadata": {},
   "outputs": [],
   "source": [
    "# 분양가격의 타입을 숫자로 변경해 줍니다.\n",
    "pre_sale['분양가격'] = pd.to_numeric(pre_sale_price, errors='coerce')\n",
    "\n",
    "# 평당 분양가격 구하기\n",
    "pre_sale['평당분양가격'] = pre_sale['분양가격']*3.3"
   ]
  },
  {
   "cell_type": "code",
   "execution_count": 18,
   "metadata": {},
   "outputs": [
    {
     "data": {
      "text/plain": [
       "분양가격(㎡)     object\n",
       "분양가격       float64\n",
       "평당분양가격     float64\n",
       "dtype: object"
      ]
     },
     "execution_count": 18,
     "metadata": {},
     "output_type": "execute_result"
    }
   ],
   "source": [
    "pre_sale.dtypes.tail(3)"
   ]
  },
  {
   "cell_type": "code",
   "execution_count": 130,
   "metadata": {},
   "outputs": [
    {
     "name": "stdout",
     "output_type": "stream",
     "text": [
      "<class 'pandas.core.frame.DataFrame'>\n",
      "RangeIndex: 2805 entries, 0 to 2804\n",
      "Data columns (total 7 columns):\n",
      "지역명        2805 non-null object\n",
      "규모구분       2805 non-null object\n",
      "연도         2805 non-null object\n",
      "월          2805 non-null object\n",
      "분양가격(㎡)    2674 non-null object\n",
      "분양가격       2582 non-null float64\n",
      "평당분양가격     2582 non-null float64\n",
      "dtypes: float64(2), object(5)\n",
      "memory usage: 153.5+ KB\n"
     ]
    }
   ],
   "source": [
    "pre_sale.info()"
   ]
  },
  {
   "cell_type": "code",
   "execution_count": 131,
   "metadata": {},
   "outputs": [
    {
     "data": {
      "text/plain": [
       "지역명         object\n",
       "규모구분        object\n",
       "연도          object\n",
       "월           object\n",
       "분양가격(㎡)     object\n",
       "분양가격       float64\n",
       "평당분양가격     float64\n",
       "dtype: object"
      ]
     },
     "execution_count": 131,
     "metadata": {},
     "output_type": "execute_result"
    }
   ],
   "source": [
    "pre_sale.dtypes"
   ]
  },
  {
   "cell_type": "code",
   "execution_count": 20,
   "metadata": {},
   "outputs": [
    {
     "data": {
      "text/plain": [
       "지역명          0\n",
       "규모구분         0\n",
       "연도           0\n",
       "월            0\n",
       "분양가격(㎡)    131\n",
       "분양가격       223\n",
       "평당분양가격     223\n",
       "dtype: int64"
      ]
     },
     "execution_count": 20,
     "metadata": {},
     "output_type": "execute_result"
    }
   ],
   "source": [
    "# 빈문자 값은 str로 셀에서 존재하여 카운트가 되었던 것이\n",
    "# 소숫타입으로 바뀌면서 카운트 되지 못하여 갯수가 줄어들었다.\n",
    "# 분양가격(㎡)    2674 non-null object\n",
    "# 분양가격       2582 non-null float64\n",
    "pre_sale.isnull().sum()"
   ]
  },
  {
   "cell_type": "markdown",
   "metadata": {},
   "source": [
    "## 중앙값과 평균의 차이(편차)\n",
    "- 별로 없으면 좋고\n",
    "- 많으면 편향된 데이터임 \n",
    "- -> 데이터 분석시 이상한 결과 도출"
   ]
  },
  {
   "cell_type": "code",
   "execution_count": 21,
   "metadata": {},
   "outputs": [
    {
     "data": {
      "text/html": [
       "<div>\n",
       "<style scoped>\n",
       "    .dataframe tbody tr th:only-of-type {\n",
       "        vertical-align: middle;\n",
       "    }\n",
       "\n",
       "    .dataframe tbody tr th {\n",
       "        vertical-align: top;\n",
       "    }\n",
       "\n",
       "    .dataframe thead th {\n",
       "        text-align: right;\n",
       "    }\n",
       "</style>\n",
       "<table border=\"1\" class=\"dataframe\">\n",
       "  <thead>\n",
       "    <tr style=\"text-align: right;\">\n",
       "      <th></th>\n",
       "      <th>분양가격</th>\n",
       "      <th>평당분양가격</th>\n",
       "    </tr>\n",
       "  </thead>\n",
       "  <tbody>\n",
       "    <tr>\n",
       "      <th>count</th>\n",
       "      <td>2582.000000</td>\n",
       "      <td>2582.000000</td>\n",
       "    </tr>\n",
       "    <tr>\n",
       "      <th>mean</th>\n",
       "      <td>3056.522851</td>\n",
       "      <td>10086.525407</td>\n",
       "    </tr>\n",
       "    <tr>\n",
       "      <th>std</th>\n",
       "      <td>1110.111932</td>\n",
       "      <td>3663.369377</td>\n",
       "    </tr>\n",
       "    <tr>\n",
       "      <th>min</th>\n",
       "      <td>1868.000000</td>\n",
       "      <td>6164.400000</td>\n",
       "    </tr>\n",
       "    <tr>\n",
       "      <th>25%</th>\n",
       "      <td>2339.000000</td>\n",
       "      <td>7718.700000</td>\n",
       "    </tr>\n",
       "    <tr>\n",
       "      <th>50%</th>\n",
       "      <td>2738.500000</td>\n",
       "      <td>9037.050000</td>\n",
       "    </tr>\n",
       "    <tr>\n",
       "      <th>75%</th>\n",
       "      <td>3289.000000</td>\n",
       "      <td>10853.700000</td>\n",
       "    </tr>\n",
       "    <tr>\n",
       "      <th>max</th>\n",
       "      <td>8098.000000</td>\n",
       "      <td>26723.400000</td>\n",
       "    </tr>\n",
       "  </tbody>\n",
       "</table>\n",
       "</div>"
      ],
      "text/plain": [
       "              분양가격        평당분양가격\n",
       "count  2582.000000   2582.000000\n",
       "mean   3056.522851  10086.525407\n",
       "std    1110.111932   3663.369377\n",
       "min    1868.000000   6164.400000\n",
       "25%    2339.000000   7718.700000\n",
       "50%    2738.500000   9037.050000\n",
       "75%    3289.000000  10853.700000\n",
       "max    8098.000000  26723.400000"
      ]
     },
     "execution_count": 21,
     "metadata": {},
     "output_type": "execute_result"
    }
   ],
   "source": [
    "pre_sale.describe()"
   ]
  },
  {
   "cell_type": "code",
   "execution_count": 22,
   "metadata": {},
   "outputs": [
    {
     "data": {
      "text/html": [
       "<div>\n",
       "<style scoped>\n",
       "    .dataframe tbody tr th:only-of-type {\n",
       "        vertical-align: middle;\n",
       "    }\n",
       "\n",
       "    .dataframe tbody tr th {\n",
       "        vertical-align: top;\n",
       "    }\n",
       "\n",
       "    .dataframe thead th {\n",
       "        text-align: right;\n",
       "    }\n",
       "</style>\n",
       "<table border=\"1\" class=\"dataframe\">\n",
       "  <thead>\n",
       "    <tr style=\"text-align: right;\">\n",
       "      <th></th>\n",
       "      <th>지역명</th>\n",
       "      <th>규모구분</th>\n",
       "      <th>연도</th>\n",
       "      <th>월</th>\n",
       "      <th>분양가격(㎡)</th>\n",
       "    </tr>\n",
       "  </thead>\n",
       "  <tbody>\n",
       "    <tr>\n",
       "      <th>count</th>\n",
       "      <td>2805</td>\n",
       "      <td>2805</td>\n",
       "      <td>2805</td>\n",
       "      <td>2805</td>\n",
       "      <td>2674</td>\n",
       "    </tr>\n",
       "    <tr>\n",
       "      <th>unique</th>\n",
       "      <td>17</td>\n",
       "      <td>5</td>\n",
       "      <td>4</td>\n",
       "      <td>12</td>\n",
       "      <td>1278</td>\n",
       "    </tr>\n",
       "    <tr>\n",
       "      <th>top</th>\n",
       "      <td>인천</td>\n",
       "      <td>전용면적 60㎡이하</td>\n",
       "      <td>2017</td>\n",
       "      <td>4</td>\n",
       "      <td>2221</td>\n",
       "    </tr>\n",
       "    <tr>\n",
       "      <th>freq</th>\n",
       "      <td>165</td>\n",
       "      <td>561</td>\n",
       "      <td>1020</td>\n",
       "      <td>255</td>\n",
       "      <td>17</td>\n",
       "    </tr>\n",
       "  </tbody>\n",
       "</table>\n",
       "</div>"
      ],
      "text/plain": [
       "         지역명        규모구분    연도     월 분양가격(㎡)\n",
       "count   2805        2805  2805  2805    2674\n",
       "unique    17           5     4    12    1278\n",
       "top       인천  전용면적 60㎡이하  2017     4    2221\n",
       "freq     165         561  1020   255      17"
      ]
     },
     "execution_count": 22,
     "metadata": {},
     "output_type": "execute_result"
    }
   ],
   "source": [
    "pre_sale.describe(include=[np.object])\n"
   ]
  },
  {
   "cell_type": "code",
   "execution_count": 23,
   "metadata": {},
   "outputs": [
    {
     "data": {
      "text/plain": [
       "(1020, 7)"
      ]
     },
     "execution_count": 23,
     "metadata": {},
     "output_type": "execute_result"
    }
   ],
   "source": [
    "# 2017년 데이터만 본다\n",
    "pre_sale_2017 = pre_sale[pre_sale['연도'] == '2017']\n",
    "pre_sale_2017.shape"
   ]
  },
  {
   "cell_type": "code",
   "execution_count": 24,
   "metadata": {},
   "outputs": [
    {
     "data": {
      "text/plain": [
       "전용면적 60㎡이하           561\n",
       "전용면적 60㎡초과 85㎡이하     561\n",
       "전체                   561\n",
       "전용면적 102㎡초과          561\n",
       "전용면적 85㎡초과 102㎡이하    561\n",
       "Name: 규모구분, dtype: int64"
      ]
     },
     "execution_count": 24,
     "metadata": {},
     "output_type": "execute_result"
    }
   ],
   "source": [
    "# 같은 값을 같고 있는 시도별로 동일하게 데이터가\n",
    "# 들어있는것을 확인 가능\n",
    "pre_sale['규모구분'].value_counts()"
   ]
  },
  {
   "cell_type": "code",
   "execution_count": 25,
   "metadata": {},
   "outputs": [
    {
     "data": {
      "text/plain": [
       "인천    165\n",
       "전북    165\n",
       "충북    165\n",
       "전남    165\n",
       "대구    165\n",
       "충남    165\n",
       "부산    165\n",
       "광주    165\n",
       "경북    165\n",
       "대전    165\n",
       "강원    165\n",
       "세종    165\n",
       "경기    165\n",
       "경남    165\n",
       "서울    165\n",
       "울산    165\n",
       "제주    165\n",
       "Name: 지역명, dtype: int64"
      ]
     },
     "execution_count": 25,
     "metadata": {},
     "output_type": "execute_result"
    }
   ],
   "source": [
    "pre_sale['지역명'].value_counts()"
   ]
  },
  {
   "cell_type": "markdown",
   "metadata": {},
   "source": [
    "# 전국 평균 분양 가격\n",
    "- groupby와 pivot 활용하기\n"
   ]
  },
  {
   "cell_type": "code",
   "execution_count": 26,
   "metadata": {},
   "outputs": [],
   "source": [
    "# 모든 명령어를 외우기 어려우므로\n",
    "# API 문서 보기가 편한 이유\n",
    "# 판다스를 지원 해주는 곳에서 모두 가능(익스텐션 포함)\n",
    "# ?를 통해 도움말 보기\n",
    "# shift tab 또한 가능\n",
    "# pre_sale.groupby?"
   ]
  },
  {
   "cell_type": "code",
   "execution_count": 27,
   "metadata": {},
   "outputs": [
    {
     "data": {
      "text/html": [
       "<div>\n",
       "<style scoped>\n",
       "    .dataframe tbody tr th:only-of-type {\n",
       "        vertical-align: middle;\n",
       "    }\n",
       "\n",
       "    .dataframe tbody tr th {\n",
       "        vertical-align: top;\n",
       "    }\n",
       "\n",
       "    .dataframe thead th {\n",
       "        text-align: right;\n",
       "    }\n",
       "</style>\n",
       "<table border=\"1\" class=\"dataframe\">\n",
       "  <thead>\n",
       "    <tr style=\"text-align: right;\">\n",
       "      <th></th>\n",
       "      <th>연도</th>\n",
       "      <th>2015</th>\n",
       "      <th>2016</th>\n",
       "      <th>2017</th>\n",
       "      <th>2018</th>\n",
       "    </tr>\n",
       "  </thead>\n",
       "  <tbody>\n",
       "    <tr>\n",
       "      <th rowspan=\"8\" valign=\"top\">분양가격</th>\n",
       "      <th>count</th>\n",
       "      <td>243</td>\n",
       "      <td>984</td>\n",
       "      <td>899</td>\n",
       "      <td>456</td>\n",
       "    </tr>\n",
       "    <tr>\n",
       "      <th>mean</th>\n",
       "      <td>2,789</td>\n",
       "      <td>2,934</td>\n",
       "      <td>3,140</td>\n",
       "      <td>3,299</td>\n",
       "    </tr>\n",
       "    <tr>\n",
       "      <th>std</th>\n",
       "      <td>977</td>\n",
       "      <td>1,071</td>\n",
       "      <td>1,108</td>\n",
       "      <td>1,199</td>\n",
       "    </tr>\n",
       "    <tr>\n",
       "      <th>min</th>\n",
       "      <td>1,868</td>\n",
       "      <td>1,900</td>\n",
       "      <td>1,976</td>\n",
       "      <td>2,076</td>\n",
       "    </tr>\n",
       "    <tr>\n",
       "      <th>25%</th>\n",
       "      <td>2,225</td>\n",
       "      <td>2,282</td>\n",
       "      <td>2,365</td>\n",
       "      <td>2,470</td>\n",
       "    </tr>\n",
       "    <tr>\n",
       "      <th>50%</th>\n",
       "      <td>2,516</td>\n",
       "      <td>2,672</td>\n",
       "      <td>2,849</td>\n",
       "      <td>2,912</td>\n",
       "    </tr>\n",
       "    <tr>\n",
       "      <th>75%</th>\n",
       "      <td>3,026</td>\n",
       "      <td>3,148</td>\n",
       "      <td>3,456</td>\n",
       "      <td>3,647</td>\n",
       "    </tr>\n",
       "    <tr>\n",
       "      <th>max</th>\n",
       "      <td>7,092</td>\n",
       "      <td>8,096</td>\n",
       "      <td>7,887</td>\n",
       "      <td>8,098</td>\n",
       "    </tr>\n",
       "    <tr>\n",
       "      <th rowspan=\"8\" valign=\"top\">평당분양가격</th>\n",
       "      <th>count</th>\n",
       "      <td>243</td>\n",
       "      <td>984</td>\n",
       "      <td>899</td>\n",
       "      <td>456</td>\n",
       "    </tr>\n",
       "    <tr>\n",
       "      <th>mean</th>\n",
       "      <td>9,203</td>\n",
       "      <td>9,683</td>\n",
       "      <td>10,360</td>\n",
       "      <td>10,888</td>\n",
       "    </tr>\n",
       "    <tr>\n",
       "      <th>std</th>\n",
       "      <td>3,224</td>\n",
       "      <td>3,536</td>\n",
       "      <td>3,655</td>\n",
       "      <td>3,958</td>\n",
       "    </tr>\n",
       "    <tr>\n",
       "      <th>min</th>\n",
       "      <td>6,164</td>\n",
       "      <td>6,270</td>\n",
       "      <td>6,521</td>\n",
       "      <td>6,851</td>\n",
       "    </tr>\n",
       "    <tr>\n",
       "      <th>25%</th>\n",
       "      <td>7,342</td>\n",
       "      <td>7,531</td>\n",
       "      <td>7,804</td>\n",
       "      <td>8,153</td>\n",
       "    </tr>\n",
       "    <tr>\n",
       "      <th>50%</th>\n",
       "      <td>8,303</td>\n",
       "      <td>8,818</td>\n",
       "      <td>9,402</td>\n",
       "      <td>9,611</td>\n",
       "    </tr>\n",
       "    <tr>\n",
       "      <th>75%</th>\n",
       "      <td>9,984</td>\n",
       "      <td>10,390</td>\n",
       "      <td>11,405</td>\n",
       "      <td>12,036</td>\n",
       "    </tr>\n",
       "    <tr>\n",
       "      <th>max</th>\n",
       "      <td>23,404</td>\n",
       "      <td>26,717</td>\n",
       "      <td>26,027</td>\n",
       "      <td>26,723</td>\n",
       "    </tr>\n",
       "  </tbody>\n",
       "</table>\n",
       "</div>"
      ],
      "text/plain": [
       "연도             2015   2016   2017   2018\n",
       "분양가격   count    243    984    899    456\n",
       "       mean   2,789  2,934  3,140  3,299\n",
       "       std      977  1,071  1,108  1,199\n",
       "       min    1,868  1,900  1,976  2,076\n",
       "       25%    2,225  2,282  2,365  2,470\n",
       "       50%    2,516  2,672  2,849  2,912\n",
       "       75%    3,026  3,148  3,456  3,647\n",
       "       max    7,092  8,096  7,887  8,098\n",
       "평당분양가격 count    243    984    899    456\n",
       "       mean   9,203  9,683 10,360 10,888\n",
       "       std    3,224  3,536  3,655  3,958\n",
       "       min    6,164  6,270  6,521  6,851\n",
       "       25%    7,342  7,531  7,804  8,153\n",
       "       50%    8,303  8,818  9,402  9,611\n",
       "       75%    9,984 10,390 11,405 12,036\n",
       "       max   23,404 26,717 26,027 26,723"
      ]
     },
     "execution_count": 27,
     "metadata": {},
     "output_type": "execute_result"
    }
   ],
   "source": [
    "# 분양가격만 봤을 때 2015년에서 2018 년으로 갈수록 오른것 확인\n",
    "pd.options.display.float_format = '{:,.0f}'.format # 쉼표뒤에 띄우면 안됨\n",
    "pre_sale.groupby(pre_sale.연도).describe().T"
   ]
  },
  {
   "cell_type": "code",
   "execution_count": 28,
   "metadata": {},
   "outputs": [
    {
     "data": {
      "text/html": [
       "<div>\n",
       "<style scoped>\n",
       "    .dataframe tbody tr th:only-of-type {\n",
       "        vertical-align: middle;\n",
       "    }\n",
       "\n",
       "    .dataframe tbody tr th {\n",
       "        vertical-align: top;\n",
       "    }\n",
       "\n",
       "    .dataframe thead tr th {\n",
       "        text-align: left;\n",
       "    }\n",
       "\n",
       "    .dataframe thead tr:last-of-type th {\n",
       "        text-align: right;\n",
       "    }\n",
       "</style>\n",
       "<table border=\"1\" class=\"dataframe\">\n",
       "  <thead>\n",
       "    <tr>\n",
       "      <th></th>\n",
       "      <th colspan=\"8\" halign=\"left\">분양가격</th>\n",
       "      <th colspan=\"8\" halign=\"left\">평당분양가격</th>\n",
       "    </tr>\n",
       "    <tr>\n",
       "      <th></th>\n",
       "      <th>count</th>\n",
       "      <th>mean</th>\n",
       "      <th>std</th>\n",
       "      <th>min</th>\n",
       "      <th>25%</th>\n",
       "      <th>50%</th>\n",
       "      <th>75%</th>\n",
       "      <th>max</th>\n",
       "      <th>count</th>\n",
       "      <th>mean</th>\n",
       "      <th>std</th>\n",
       "      <th>min</th>\n",
       "      <th>25%</th>\n",
       "      <th>50%</th>\n",
       "      <th>75%</th>\n",
       "      <th>max</th>\n",
       "    </tr>\n",
       "    <tr>\n",
       "      <th>연도</th>\n",
       "      <th></th>\n",
       "      <th></th>\n",
       "      <th></th>\n",
       "      <th></th>\n",
       "      <th></th>\n",
       "      <th></th>\n",
       "      <th></th>\n",
       "      <th></th>\n",
       "      <th></th>\n",
       "      <th></th>\n",
       "      <th></th>\n",
       "      <th></th>\n",
       "      <th></th>\n",
       "      <th></th>\n",
       "      <th></th>\n",
       "      <th></th>\n",
       "    </tr>\n",
       "  </thead>\n",
       "  <tbody>\n",
       "    <tr>\n",
       "      <th>2015</th>\n",
       "      <td>243</td>\n",
       "      <td>2,789</td>\n",
       "      <td>977</td>\n",
       "      <td>1,868</td>\n",
       "      <td>2,225</td>\n",
       "      <td>2,516</td>\n",
       "      <td>3,026</td>\n",
       "      <td>7,092</td>\n",
       "      <td>243</td>\n",
       "      <td>9,203</td>\n",
       "      <td>3,224</td>\n",
       "      <td>6,164</td>\n",
       "      <td>7,342</td>\n",
       "      <td>8,303</td>\n",
       "      <td>9,984</td>\n",
       "      <td>23,404</td>\n",
       "    </tr>\n",
       "    <tr>\n",
       "      <th>2016</th>\n",
       "      <td>984</td>\n",
       "      <td>2,934</td>\n",
       "      <td>1,071</td>\n",
       "      <td>1,900</td>\n",
       "      <td>2,282</td>\n",
       "      <td>2,672</td>\n",
       "      <td>3,148</td>\n",
       "      <td>8,096</td>\n",
       "      <td>984</td>\n",
       "      <td>9,683</td>\n",
       "      <td>3,536</td>\n",
       "      <td>6,270</td>\n",
       "      <td>7,531</td>\n",
       "      <td>8,818</td>\n",
       "      <td>10,390</td>\n",
       "      <td>26,717</td>\n",
       "    </tr>\n",
       "    <tr>\n",
       "      <th>2017</th>\n",
       "      <td>899</td>\n",
       "      <td>3,140</td>\n",
       "      <td>1,108</td>\n",
       "      <td>1,976</td>\n",
       "      <td>2,365</td>\n",
       "      <td>2,849</td>\n",
       "      <td>3,456</td>\n",
       "      <td>7,887</td>\n",
       "      <td>899</td>\n",
       "      <td>10,360</td>\n",
       "      <td>3,655</td>\n",
       "      <td>6,521</td>\n",
       "      <td>7,804</td>\n",
       "      <td>9,402</td>\n",
       "      <td>11,405</td>\n",
       "      <td>26,027</td>\n",
       "    </tr>\n",
       "    <tr>\n",
       "      <th>2018</th>\n",
       "      <td>456</td>\n",
       "      <td>3,299</td>\n",
       "      <td>1,199</td>\n",
       "      <td>2,076</td>\n",
       "      <td>2,470</td>\n",
       "      <td>2,912</td>\n",
       "      <td>3,647</td>\n",
       "      <td>8,098</td>\n",
       "      <td>456</td>\n",
       "      <td>10,888</td>\n",
       "      <td>3,958</td>\n",
       "      <td>6,851</td>\n",
       "      <td>8,153</td>\n",
       "      <td>9,611</td>\n",
       "      <td>12,036</td>\n",
       "      <td>26,723</td>\n",
       "    </tr>\n",
       "  </tbody>\n",
       "</table>\n",
       "</div>"
      ],
      "text/plain": [
       "      분양가격                                           평당분양가격               \\\n",
       "     count  mean   std   min   25%   50%   75%   max  count   mean   std   \n",
       "연도                                                                         \n",
       "2015   243 2,789   977 1,868 2,225 2,516 3,026 7,092    243  9,203 3,224   \n",
       "2016   984 2,934 1,071 1,900 2,282 2,672 3,148 8,096    984  9,683 3,536   \n",
       "2017   899 3,140 1,108 1,976 2,365 2,849 3,456 7,887    899 10,360 3,655   \n",
       "2018   456 3,299 1,199 2,076 2,470 2,912 3,647 8,098    456 10,888 3,958   \n",
       "\n",
       "                                      \n",
       "       min   25%   50%    75%    max  \n",
       "연도                                    \n",
       "2015 6,164 7,342 8,303  9,984 23,404  \n",
       "2016 6,270 7,531 8,818 10,390 26,717  \n",
       "2017 6,521 7,804 9,402 11,405 26,027  \n",
       "2018 6,851 8,153 9,611 12,036 26,723  "
      ]
     },
     "execution_count": 28,
     "metadata": {},
     "output_type": "execute_result"
    }
   ],
   "source": [
    "# T 없을때 transpose 안함\n",
    "pre_sale.groupby(pre_sale.연도).describe()"
   ]
  },
  {
   "cell_type": "markdown",
   "metadata": {},
   "source": [
    "# 규모별 전국 평균 분양가\n",
    "- 끌어 올릴때 pivot\n",
    "- 끌어 내릴때 melt"
   ]
  },
  {
   "cell_type": "code",
   "execution_count": 29,
   "metadata": {},
   "outputs": [],
   "source": [
    "\n",
    "# pre_sale = pivot_table? "
   ]
  },
  {
   "cell_type": "code",
   "execution_count": 30,
   "metadata": {},
   "outputs": [
    {
     "data": {
      "text/html": [
       "<div>\n",
       "<style scoped>\n",
       "    .dataframe tbody tr th:only-of-type {\n",
       "        vertical-align: middle;\n",
       "    }\n",
       "\n",
       "    .dataframe tbody tr th {\n",
       "        vertical-align: top;\n",
       "    }\n",
       "\n",
       "    .dataframe thead th {\n",
       "        text-align: right;\n",
       "    }\n",
       "</style>\n",
       "<table border=\"1\" class=\"dataframe\">\n",
       "  <thead>\n",
       "    <tr style=\"text-align: right;\">\n",
       "      <th>연도</th>\n",
       "      <th>2015</th>\n",
       "      <th>2016</th>\n",
       "      <th>2017</th>\n",
       "      <th>2018</th>\n",
       "    </tr>\n",
       "    <tr>\n",
       "      <th>규모구분</th>\n",
       "      <th></th>\n",
       "      <th></th>\n",
       "      <th></th>\n",
       "      <th></th>\n",
       "    </tr>\n",
       "  </thead>\n",
       "  <tbody>\n",
       "    <tr>\n",
       "      <th>전용면적 102㎡초과</th>\n",
       "      <td>9,837</td>\n",
       "      <td>10,389</td>\n",
       "      <td>11,334</td>\n",
       "      <td>11,260</td>\n",
       "    </tr>\n",
       "    <tr>\n",
       "      <th>전용면적 60㎡이하</th>\n",
       "      <td>8,952</td>\n",
       "      <td>9,399</td>\n",
       "      <td>10,246</td>\n",
       "      <td>10,957</td>\n",
       "    </tr>\n",
       "    <tr>\n",
       "      <th>전용면적 60㎡초과 85㎡이하</th>\n",
       "      <td>8,892</td>\n",
       "      <td>9,296</td>\n",
       "      <td>9,825</td>\n",
       "      <td>10,438</td>\n",
       "    </tr>\n",
       "    <tr>\n",
       "      <th>전용면적 85㎡초과 102㎡이하</th>\n",
       "      <td>9,519</td>\n",
       "      <td>10,122</td>\n",
       "      <td>10,540</td>\n",
       "      <td>11,457</td>\n",
       "    </tr>\n",
       "    <tr>\n",
       "      <th>전체</th>\n",
       "      <td>8,893</td>\n",
       "      <td>9,293</td>\n",
       "      <td>9,901</td>\n",
       "      <td>10,560</td>\n",
       "    </tr>\n",
       "  </tbody>\n",
       "</table>\n",
       "</div>"
      ],
      "text/plain": [
       "연도                 2015   2016   2017   2018\n",
       "규모구분                                        \n",
       "전용면적 102㎡초과       9,837 10,389 11,334 11,260\n",
       "전용면적 60㎡이하        8,952  9,399 10,246 10,957\n",
       "전용면적 60㎡초과 85㎡이하  8,892  9,296  9,825 10,438\n",
       "전용면적 85㎡초과 102㎡이하 9,519 10,122 10,540 11,457\n",
       "전체                8,893  9,293  9,901 10,560"
      ]
     },
     "execution_count": 30,
     "metadata": {},
     "output_type": "execute_result"
    }
   ],
   "source": [
    "pre_sale.pivot_table('평당분양가격', '규모구분', '연도')"
   ]
  },
  {
   "cell_type": "markdown",
   "metadata": {},
   "source": [
    "# 전국 분양가 변동 금액\n",
    "규모구분이 전체로 되어 있는 금액으로 연도별 변동금액을 살펴본다"
   ]
  },
  {
   "cell_type": "code",
   "execution_count": 31,
   "metadata": {},
   "outputs": [
    {
     "data": {
      "text/html": [
       "<div>\n",
       "<style scoped>\n",
       "    .dataframe tbody tr th:only-of-type {\n",
       "        vertical-align: middle;\n",
       "    }\n",
       "\n",
       "    .dataframe tbody tr th {\n",
       "        vertical-align: top;\n",
       "    }\n",
       "\n",
       "    .dataframe thead th {\n",
       "        text-align: right;\n",
       "    }\n",
       "</style>\n",
       "<table border=\"1\" class=\"dataframe\">\n",
       "  <thead>\n",
       "    <tr style=\"text-align: right;\">\n",
       "      <th>연도</th>\n",
       "      <th>지역명</th>\n",
       "      <th>2015</th>\n",
       "      <th>2016</th>\n",
       "      <th>2017</th>\n",
       "      <th>2018</th>\n",
       "    </tr>\n",
       "  </thead>\n",
       "  <tbody>\n",
       "    <tr>\n",
       "      <th>0</th>\n",
       "      <td>강원</td>\n",
       "      <td>7,160</td>\n",
       "      <td>7,011</td>\n",
       "      <td>7,127</td>\n",
       "      <td>7,643</td>\n",
       "    </tr>\n",
       "    <tr>\n",
       "      <th>1</th>\n",
       "      <td>경기</td>\n",
       "      <td>10,377</td>\n",
       "      <td>11,220</td>\n",
       "      <td>11,850</td>\n",
       "      <td>12,854</td>\n",
       "    </tr>\n",
       "    <tr>\n",
       "      <th>2</th>\n",
       "      <td>경남</td>\n",
       "      <td>7,586</td>\n",
       "      <td>7,848</td>\n",
       "      <td>8,120</td>\n",
       "      <td>8,894</td>\n",
       "    </tr>\n",
       "    <tr>\n",
       "      <th>3</th>\n",
       "      <td>경북</td>\n",
       "      <td>7,171</td>\n",
       "      <td>7,361</td>\n",
       "      <td>7,795</td>\n",
       "      <td>8,262</td>\n",
       "    </tr>\n",
       "    <tr>\n",
       "      <th>4</th>\n",
       "      <td>광주</td>\n",
       "      <td>8,052</td>\n",
       "      <td>8,899</td>\n",
       "      <td>9,464</td>\n",
       "      <td>9,630</td>\n",
       "    </tr>\n",
       "    <tr>\n",
       "      <th>5</th>\n",
       "      <td>대구</td>\n",
       "      <td>9,232</td>\n",
       "      <td>10,310</td>\n",
       "      <td>11,456</td>\n",
       "      <td>11,652</td>\n",
       "    </tr>\n",
       "    <tr>\n",
       "      <th>6</th>\n",
       "      <td>대전</td>\n",
       "      <td>8,098</td>\n",
       "      <td>8,502</td>\n",
       "      <td>9,045</td>\n",
       "      <td>9,589</td>\n",
       "    </tr>\n",
       "    <tr>\n",
       "      <th>7</th>\n",
       "      <td>부산</td>\n",
       "      <td>10,307</td>\n",
       "      <td>10,430</td>\n",
       "      <td>11,578</td>\n",
       "      <td>12,710</td>\n",
       "    </tr>\n",
       "    <tr>\n",
       "      <th>8</th>\n",
       "      <td>서울</td>\n",
       "      <td>19,725</td>\n",
       "      <td>20,663</td>\n",
       "      <td>21,376</td>\n",
       "      <td>22,299</td>\n",
       "    </tr>\n",
       "    <tr>\n",
       "      <th>9</th>\n",
       "      <td>세종</td>\n",
       "      <td>8,750</td>\n",
       "      <td>8,860</td>\n",
       "      <td>9,135</td>\n",
       "      <td>10,382</td>\n",
       "    </tr>\n",
       "    <tr>\n",
       "      <th>10</th>\n",
       "      <td>울산</td>\n",
       "      <td>10,053</td>\n",
       "      <td>10,209</td>\n",
       "      <td>11,345</td>\n",
       "      <td>10,441</td>\n",
       "    </tr>\n",
       "    <tr>\n",
       "      <th>11</th>\n",
       "      <td>인천</td>\n",
       "      <td>10,484</td>\n",
       "      <td>10,532</td>\n",
       "      <td>10,737</td>\n",
       "      <td>11,218</td>\n",
       "    </tr>\n",
       "    <tr>\n",
       "      <th>12</th>\n",
       "      <td>전남</td>\n",
       "      <td>6,317</td>\n",
       "      <td>6,489</td>\n",
       "      <td>7,188</td>\n",
       "      <td>7,794</td>\n",
       "    </tr>\n",
       "    <tr>\n",
       "      <th>13</th>\n",
       "      <td>전북</td>\n",
       "      <td>6,703</td>\n",
       "      <td>6,418</td>\n",
       "      <td>7,058</td>\n",
       "      <td>7,552</td>\n",
       "    </tr>\n",
       "    <tr>\n",
       "      <th>14</th>\n",
       "      <td>제주</td>\n",
       "      <td>7,405</td>\n",
       "      <td>9,129</td>\n",
       "      <td>10,831</td>\n",
       "      <td>12,741</td>\n",
       "    </tr>\n",
       "    <tr>\n",
       "      <th>15</th>\n",
       "      <td>충남</td>\n",
       "      <td>7,115</td>\n",
       "      <td>7,331</td>\n",
       "      <td>7,456</td>\n",
       "      <td>7,973</td>\n",
       "    </tr>\n",
       "    <tr>\n",
       "      <th>16</th>\n",
       "      <td>충북</td>\n",
       "      <td>6,645</td>\n",
       "      <td>6,770</td>\n",
       "      <td>6,763</td>\n",
       "      <td>7,893</td>\n",
       "    </tr>\n",
       "  </tbody>\n",
       "</table>\n",
       "</div>"
      ],
      "text/plain": [
       "연도 지역명   2015   2016   2017   2018\n",
       "0   강원  7,160  7,011  7,127  7,643\n",
       "1   경기 10,377 11,220 11,850 12,854\n",
       "2   경남  7,586  7,848  8,120  8,894\n",
       "3   경북  7,171  7,361  7,795  8,262\n",
       "4   광주  8,052  8,899  9,464  9,630\n",
       "5   대구  9,232 10,310 11,456 11,652\n",
       "6   대전  8,098  8,502  9,045  9,589\n",
       "7   부산 10,307 10,430 11,578 12,710\n",
       "8   서울 19,725 20,663 21,376 22,299\n",
       "9   세종  8,750  8,860  9,135 10,382\n",
       "10  울산 10,053 10,209 11,345 10,441\n",
       "11  인천 10,484 10,532 10,737 11,218\n",
       "12  전남  6,317  6,489  7,188  7,794\n",
       "13  전북  6,703  6,418  7,058  7,552\n",
       "14  제주  7,405  9,129 10,831 12,741\n",
       "15  충남  7,115  7,331  7,456  7,973\n",
       "16  충북  6,645  6,770  6,763  7,893"
      ]
     },
     "execution_count": 31,
     "metadata": {},
     "output_type": "execute_result"
    }
   ],
   "source": [
    "# 규모구분에서 전체로 되어있는 데이터만 가져온다\n",
    "region_year_all = pre_sale.loc[pre_sale['규모구분'] == '전체']\n",
    "region_year = region_year_all.pivot_table(\n",
    "    '평당분양가격', '지역명', '연도').reset_index()\n",
    "region_year"
   ]
  },
  {
   "cell_type": "code",
   "execution_count": 32,
   "metadata": {},
   "outputs": [
    {
     "name": "stdout",
     "output_type": "stream",
     "text": [
      "2015년부터 2018년 까지 분양가는 계속 상승했으며, 상승액이 가장 큰 지역은 제주이며 상승액은 평당 5,335,000원이다.\n",
      "상승액이 가장 작은 지역은 울산이며 평당 387,000원이다.\n",
      "하지만 나중에 살펴보겠지만 울산에는 결측치가 많다. 따라서 변동액이 가장 작다라고 판단하기 어렵다.\n",
      "전국 평균 변동액은 평당 1,666,647원이다.\n"
     ]
    }
   ],
   "source": [
    "region_year['변동액'] = (region_year['2018']-region_year['2015']).astype(int)\n",
    "max_delta_price = np.max(region_year['변동액'])*1000\n",
    "min_delta_price = np.min(region_year['변동액'])*1000\n",
    "mean_delta_price = np.mean(region_year['변동액'])*1000\n",
    "\n",
    "print(f'2015년부터 2018년 까지 분양가는 계속 상승했으며, 상승액이 가장 큰 지역은 제주이며 상승액은 평당 {max_delta_price:,.0f}원이다.')\n",
    "print(f'상승액이 가장 작은 지역은 울산이며 평당 {min_delta_price:,.0f}원이다.')\n",
    "print(f'하지만 나중에 살펴보겠지만 울산에는 결측치가 많다. 따라서 변동액이 가장 작다라고 판단하기 어렵다.')\n",
    "print(f'전국 평균 변동액은 평당 {mean_delta_price:,.0f}원이다.')"
   ]
  },
  {
   "cell_type": "markdown",
   "metadata": {},
   "source": [
    "![](https://upload.wikimedia.org/wikipedia/commons/thumb/e/ec/Anscombe%27s_quartet_3.svg/990px-Anscombe%27s_quartet_3.svg.png)"
   ]
  },
  {
   "cell_type": "markdown",
   "metadata": {},
   "source": [
    "* 지금까지 2015년 10월에서 2018년 7월까지의 21개월간의 전국 신규 민간 아파트 분양가격 동향 파일을 요약해 봤습니다.\n",
    "* Pandas를 통해 데이터를 가져오고 요약해 보고 엑셀과 비슷하게 피봇테이블을 그려보기도 하고 groupby를 사용해서 데이터를 요약해 보기도 했습니다.\n",
    "\n",
    "# 시각화\n",
    "* 앤스콤의 4인방 영상 : https://www.youtube.com/watch?v=3KqdNNJ-20Y\n",
    "* 데이터를 시각화 해보기에 앞서 앤스콤의 4인방을 보겠습니다.\n",
    "* 아래 4개의 그래프는 다른 데이터로 그려졌습니다.\n",
    "* 또 이 4개의 데이터는 평균, 표준편차, 상관계수가 같습니다. 하지만 시각화 했을 때 전혀 다른 데이터임을 확인할 수 있습니다.\n",
    "* 이 앤스콤의 4인방은 요약된 데이터만으로 데이터를 판단할 수 없다는 것을 보여줍니다.\n",
    "* 데이터 시각화의 중요성을 얘기할 때 자주 등장하는 예시입니다.\n",
    "* [Anscombe's quartet - Wikipedia](https://en.wikipedia.org/wiki/Anscombe%27s_quartet)\n",
    "* [The Datasaurus Dozen - Same Stats, Different Graphs: Generating Datasets with Varied Appearance and Identical Statistics through Simulated Annealing | Autodesk Research](https://www.autodeskresearch.com/publications/samestats)"
   ]
  },
  {
   "cell_type": "markdown",
   "metadata": {},
   "source": [
    "## 이럴 때 이런 시각화\n",
    "* [분류:통계 차트와 다이어그램 - 위키백과, 우리 모두의 백과사전](https://ko.wikipedia.org/wiki/%EB%B6%84%EB%A5%98:%ED%86%B5%EA%B3%84_%EC%B0%A8%ED%8A%B8%EC%99%80_%EB%8B%A4%EC%9D%B4%EC%96%B4%EA%B7%B8%EB%9E%A8)\n",
    "\n",
    "\n",
    "## Pandas 로 시각화 하기\n",
    "* 공식 문서 : [Visualization — pandas 0.24.2 documentation](https://pandas.pydata.org/pandas-docs/stable/user_guide/visualization.html)\n",
    "\n",
    "## Seaborn 으로 시각화 하기\n",
    "* 공식 문서:[seaborn: statistical data visualization — seaborn 0.9.0 documentation](https://seaborn.pydata.org/)"
   ]
  },
  {
   "cell_type": "markdown",
   "metadata": {},
   "source": [
    "## 연도별 변동 그래프\n",
    "* 공공데이터포털에서 제공하고 있는 평균 분양가격을 연도, 지역별로 그려봄\n",
    "* 폰트 설정을 위해 Matplotlib의 환경설정에서 한글폰트 설정이 필요합니다.\n",
    "* 한글폰트를 지정해 주지 않는다면 글자가 두부모양으로 깨져보이게 됩니다."
   ]
  },
  {
   "cell_type": "code",
   "execution_count": 33,
   "metadata": {},
   "outputs": [],
   "source": [
    "import seaborn as sns\n",
    "\n",
    "# 아래의 코드로 스타일을 지정해주면 폰트설정이 초기화 된다.\n",
    "# 따라서 폰트설정은 스타일 지정 이후에 한다\n",
    "sns.set_style('whitegrid')"
   ]
  },
  {
   "cell_type": "code",
   "execution_count": 34,
   "metadata": {},
   "outputs": [],
   "source": [
    "import matplotlib.pyplot as plt\n",
    "\n",
    "# window의 한글폰트 설정\n",
    "# plt.rc('font', family='Nalgun Gothic')\n",
    "plt.rc('font', family='NanumGothic')"
   ]
  },
  {
   "cell_type": "markdown",
   "metadata": {},
   "source": [
    "## Seaborn 으로 막대 그래프 그리기\n",
    "- 내부적으로 계산을 해서 그리기 때문에 속도가 좀 느리다\n",
    "- 하지만 seaborn으로 시각화시 내부적 계산\n",
    "- 따로 데이터를 aggregation 하지 않아도 되는 장점\n",
    "- seaborn으로 시각화 여부는 그래프코드 앞부분에 sns라는"
   ]
  },
  {
   "cell_type": "code",
   "execution_count": 35,
   "metadata": {},
   "outputs": [
    {
     "data": {
      "text/plain": [
       "<matplotlib.axes._subplots.AxesSubplot at 0x7f902f070990>"
      ]
     },
     "execution_count": 35,
     "metadata": {},
     "output_type": "execute_result"
    },
    {
     "data": {
      "image/png": "[encoded data removed]",
      "text/plain": [
       "<Figure size 1440x576 with 1 Axes>"
      ]
     },
     "metadata": {},
     "output_type": "display_data"
    }
   ],
   "source": [
    "plt.figure(figsize=(20,8))\n",
    "plt.title('2015-2018 신규 민간 아파트 분양가격')\n",
    "sns.barplot(data=region_year_all, x='지역명', y='평당분양가격', hue='연도')"
   ]
  },
  {
   "cell_type": "markdown",
   "metadata": {},
   "source": [
    "## 판다스로 막대 그래프 그리기"
   ]
  },
  {
   "cell_type": "code",
   "execution_count": 38,
   "metadata": {},
   "outputs": [
    {
     "data": {
      "text/html": [
       "<div>\n",
       "<style scoped>\n",
       "    .dataframe tbody tr th:only-of-type {\n",
       "        vertical-align: middle;\n",
       "    }\n",
       "\n",
       "    .dataframe tbody tr th {\n",
       "        vertical-align: top;\n",
       "    }\n",
       "\n",
       "    .dataframe thead th {\n",
       "        text-align: right;\n",
       "    }\n",
       "</style>\n",
       "<table border=\"1\" class=\"dataframe\">\n",
       "  <thead>\n",
       "    <tr style=\"text-align: right;\">\n",
       "      <th>연도</th>\n",
       "      <th>2015</th>\n",
       "      <th>2016</th>\n",
       "      <th>2017</th>\n",
       "      <th>2018</th>\n",
       "    </tr>\n",
       "    <tr>\n",
       "      <th>지역명</th>\n",
       "      <th></th>\n",
       "      <th></th>\n",
       "      <th></th>\n",
       "      <th></th>\n",
       "    </tr>\n",
       "  </thead>\n",
       "  <tbody>\n",
       "    <tr>\n",
       "      <th>부산</th>\n",
       "      <td>10,307</td>\n",
       "      <td>10,430</td>\n",
       "      <td>11,578</td>\n",
       "      <td>12,710</td>\n",
       "    </tr>\n",
       "    <tr>\n",
       "      <th>경기</th>\n",
       "      <td>10,377</td>\n",
       "      <td>11,220</td>\n",
       "      <td>11,850</td>\n",
       "      <td>12,854</td>\n",
       "    </tr>\n",
       "    <tr>\n",
       "      <th>경북</th>\n",
       "      <td>7,171</td>\n",
       "      <td>7,361</td>\n",
       "      <td>7,795</td>\n",
       "      <td>8,262</td>\n",
       "    </tr>\n",
       "  </tbody>\n",
       "</table>\n",
       "</div>"
      ],
      "text/plain": [
       "연도    2015   2016   2017   2018\n",
       "지역명                            \n",
       "부산  10,307 10,430 11,578 12,710\n",
       "경기  10,377 11,220 11,850 12,854\n",
       "경북   7,171  7,361  7,795  8,262"
      ]
     },
     "execution_count": 38,
     "metadata": {},
     "output_type": "execute_result"
    }
   ],
   "source": [
    "# pandas로 시각화를 위해 데이터 변형\n",
    "# 지역별로 bar plot을 그리고 지역별 bar를 연도별로 그립니다.\n",
    "\n",
    "df_year_region = pd.pivot_table(region_year_all, index=['지역명'], columns='연도', values='평당분양가격')\n",
    "\n",
    "# 샘플은 임의 행 추출\n",
    "df_year_region.sample(3)"
   ]
  },
  {
   "cell_type": "code",
   "execution_count": 39,
   "metadata": {},
   "outputs": [
    {
     "data": {
      "text/plain": [
       "Index(['2015', '2016', '2017', '2018'], dtype='object', name='연도')"
      ]
     },
     "execution_count": 39,
     "metadata": {},
     "output_type": "execute_result"
    }
   ],
   "source": [
    "df_year_region.columns"
   ]
  },
  {
   "cell_type": "code",
   "execution_count": 40,
   "metadata": {},
   "outputs": [
    {
     "data": {
      "text/plain": [
       "<matplotlib.axes._subplots.AxesSubplot at 0x7f902ed70a50>"
      ]
     },
     "execution_count": 40,
     "metadata": {},
     "output_type": "execute_result"
    },
    {
     "data": {
      "image/png": "[encoded data removed]",
      "text/plain": [
       "<Figure size 1728x576 with 1 Axes>"
      ]
     },
     "metadata": {},
     "output_type": "display_data"
    }
   ],
   "source": [
    "df_year_region.plot.bar(figsize=(24, 8), grid=True, fontsize=20, rot=0, title='지역, 연도별 평당 평균 분양가')"
   ]
  },
  {
   "cell_type": "markdown",
   "metadata": {},
   "source": [
    "## 규모별 \n",
    "* seaborn의 barplot은 기본값을 평균으로 구합니다.\n",
    "* 각각의 막대 그래프 상단에 있는 검은색 선은 신뢰구간을 의미합니다.\n",
    "* 통계학에서 신뢰 구간(信賴區間, 영어: confidence interval)은 모수가 어느 범위 안에 있는지를 확률적으로 보여주는 방법이다. \n",
    "* 신뢰구간 정의 출처 : [신뢰 구간 - 위키백과, 우리 모두의 백과사전](https://ko.wikipedia.org/wiki/%EC%8B%A0%EB%A2%B0_%EA%B5%AC%EA%B0%84)\n",
    "* seaborn의 barplot의 옵션 중 ci가 이 신뢰 구간을 의미하며 기본값은 95입니다.\n",
    "* 표본의 95%의 데이터가 검은색 선 안에 위치하고 있음을 알 수 있습니다.\n",
    "* 나머지 5%의 데이터는 이 표본을 벗어나는 데이터로 너무 크거나 작은 데이터를 제외하고 볼 수 있습니다.\n",
    "* 따라서 이 검은색 선을 벗어나는 데이터는 이상치(outlier)로 볼 수도 있습니다."
   ]
  },
  {
   "cell_type": "code",
   "execution_count": 41,
   "metadata": {},
   "outputs": [],
   "source": [
    "# 서울의 경우 전용면적 85㎡초과 102㎡이하가 분양가격이 가장 비싸게 나옵니다.\n",
    "# (ggplot(pre_sale, aes(x='지역명', y='평당분양가격', fill='규모구분'))\n",
    "#  + geom_bar(stat='identity', position='dodge')\n",
    "#  + ggtitle('규모별 신규 민간 아파트 분양가격')\n",
    "#  + theme(text=element_text(family='NanumBarunGothic'),\n",
    "#          figure_size=(8, 4))\n",
    "# )"
   ]
  },
  {
   "cell_type": "code",
   "execution_count": 42,
   "metadata": {},
   "outputs": [
    {
     "data": {
      "text/plain": [
       "<matplotlib.axes._subplots.AxesSubplot at 0x7f902ec68910>"
      ]
     },
     "execution_count": 42,
     "metadata": {},
     "output_type": "execute_result"
    },
    {
     "data": {
      "image/png": "[encoded data removed]",
      "text/plain": [
       "<Figure size 1440x576 with 1 Axes>"
      ]
     },
     "metadata": {},
     "output_type": "display_data"
    }
   ],
   "source": [
    "# seaborn 을 사용하면 위 코드보다 훨씬 간결하게 코드를 구현할 수 있습니다.\n",
    "# seaborn 으로 지역, 규모별 평당 평균 분양가격\n",
    "plt.figure(figsize=(20, 8))\n",
    "sns.barplot(data=pre_sale, x='지역명', y='평당분양가격', hue='규모구분')"
   ]
  },
  {
   "cell_type": "markdown",
   "metadata": {},
   "source": [
    "## 지역별 평당 분양가격 합계\n",
    "* 아래 데이터로 규모(제곱미터)에 따른 평당 분양가격을 봅니다."
   ]
  },
  {
   "cell_type": "code",
   "execution_count": 43,
   "metadata": {},
   "outputs": [
    {
     "data": {
      "text/html": [
       "<div>\n",
       "<style scoped>\n",
       "    .dataframe tbody tr th:only-of-type {\n",
       "        vertical-align: middle;\n",
       "    }\n",
       "\n",
       "    .dataframe tbody tr th {\n",
       "        vertical-align: top;\n",
       "    }\n",
       "\n",
       "    .dataframe thead th {\n",
       "        text-align: right;\n",
       "    }\n",
       "</style>\n",
       "<table border=\"1\" class=\"dataframe\">\n",
       "  <thead>\n",
       "    <tr style=\"text-align: right;\">\n",
       "      <th>규모구분</th>\n",
       "      <th>전용면적 102㎡초과</th>\n",
       "      <th>전용면적 60㎡이하</th>\n",
       "      <th>전용면적 60㎡초과 85㎡이하</th>\n",
       "      <th>전용면적 85㎡초과 102㎡이하</th>\n",
       "      <th>전체</th>\n",
       "    </tr>\n",
       "    <tr>\n",
       "      <th>지역명</th>\n",
       "      <th></th>\n",
       "      <th></th>\n",
       "      <th></th>\n",
       "      <th></th>\n",
       "      <th></th>\n",
       "    </tr>\n",
       "  </thead>\n",
       "  <tbody>\n",
       "    <tr>\n",
       "      <th>광주</th>\n",
       "      <td>10,381</td>\n",
       "      <td>8,494</td>\n",
       "      <td>9,159</td>\n",
       "      <td>9,296</td>\n",
       "      <td>9,151</td>\n",
       "    </tr>\n",
       "    <tr>\n",
       "      <th>대전</th>\n",
       "      <td>14,282</td>\n",
       "      <td>8,816</td>\n",
       "      <td>8,779</td>\n",
       "      <td>9,037</td>\n",
       "      <td>8,854</td>\n",
       "    </tr>\n",
       "    <tr>\n",
       "      <th>경남</th>\n",
       "      <td>9,222</td>\n",
       "      <td>8,320</td>\n",
       "      <td>8,088</td>\n",
       "      <td>9,834</td>\n",
       "      <td>8,113</td>\n",
       "    </tr>\n",
       "  </tbody>\n",
       "</table>\n",
       "</div>"
      ],
      "text/plain": [
       "규모구분  전용면적 102㎡초과  전용면적 60㎡이하  전용면적 60㎡초과 85㎡이하  전용면적 85㎡초과 102㎡이하    전체\n",
       "지역명                                                                     \n",
       "광주         10,381       8,494             9,159              9,296 9,151\n",
       "대전         14,282       8,816             8,779              9,037 8,854\n",
       "경남          9,222       8,320             8,088              9,834 8,113"
      ]
     },
     "execution_count": 43,
     "metadata": {},
     "output_type": "execute_result"
    }
   ],
   "source": [
    "# df_year_region = pd.pivot_table(region_year_all, index=['지역명'], columns='연도', values='평당분양가격')\n",
    "\n",
    "pre_sale_size = pre_sale.pivot_table(index='지역명', columns='규모구분', values='평당분양가격')\n",
    "pre_sale_size.sample(3)"
   ]
  },
  {
   "cell_type": "code",
   "execution_count": 44,
   "metadata": {},
   "outputs": [
    {
     "data": {
      "text/plain": [
       "<matplotlib.axes._subplots.AxesSubplot at 0x7f902e91eed0>"
      ]
     },
     "execution_count": 44,
     "metadata": {},
     "output_type": "execute_result"
    },
    {
     "data": {
      "image/png": "[encoded data removed]",
      "text/plain": [
       "<Figure size 1440x576 with 1 Axes>"
      ]
     },
     "metadata": {},
     "output_type": "display_data"
    }
   ],
   "source": [
    "pre_sale_size.plot.bar(figsize=(20, 8), grid=True, fontsize=20, rot=0, title='지역, 규모구분별 평당 평균 분양가')"
   ]
  },
  {
   "cell_type": "code",
   "execution_count": 45,
   "metadata": {},
   "outputs": [
    {
     "data": {
      "text/html": [
       "<div>\n",
       "<style scoped>\n",
       "    .dataframe tbody tr th:only-of-type {\n",
       "        vertical-align: middle;\n",
       "    }\n",
       "\n",
       "    .dataframe tbody tr th {\n",
       "        vertical-align: top;\n",
       "    }\n",
       "\n",
       "    .dataframe thead th {\n",
       "        text-align: right;\n",
       "    }\n",
       "</style>\n",
       "<table border=\"1\" class=\"dataframe\">\n",
       "  <thead>\n",
       "    <tr style=\"text-align: right;\">\n",
       "      <th></th>\n",
       "      <th>지역명</th>\n",
       "      <th>규모구분</th>\n",
       "      <th>연도</th>\n",
       "      <th>월</th>\n",
       "      <th>분양가격(㎡)</th>\n",
       "      <th>분양가격</th>\n",
       "      <th>평당분양가격</th>\n",
       "    </tr>\n",
       "  </thead>\n",
       "  <tbody>\n",
       "    <tr>\n",
       "      <th>119</th>\n",
       "      <td>대전</td>\n",
       "      <td>전용면적 102㎡초과</td>\n",
       "      <td>2015</td>\n",
       "      <td>11</td>\n",
       "      <td></td>\n",
       "      <td>nan</td>\n",
       "      <td>nan</td>\n",
       "    </tr>\n",
       "    <tr>\n",
       "      <th>884</th>\n",
       "      <td>대전</td>\n",
       "      <td>전용면적 102㎡초과</td>\n",
       "      <td>2016</td>\n",
       "      <td>8</td>\n",
       "      <td>NaN</td>\n",
       "      <td>nan</td>\n",
       "      <td>nan</td>\n",
       "    </tr>\n",
       "    <tr>\n",
       "      <th>2669</th>\n",
       "      <td>대전</td>\n",
       "      <td>전용면적 102㎡초과</td>\n",
       "      <td>2018</td>\n",
       "      <td>5</td>\n",
       "      <td>NaN</td>\n",
       "      <td>nan</td>\n",
       "      <td>nan</td>\n",
       "    </tr>\n",
       "  </tbody>\n",
       "</table>\n",
       "</div>"
      ],
      "text/plain": [
       "     지역명         규모구분    연도   월 분양가격(㎡)  분양가격  평당분양가격\n",
       "119   대전  전용면적 102㎡초과  2015  11           nan     nan\n",
       "884   대전  전용면적 102㎡초과  2016   8     NaN   nan     nan\n",
       "2669  대전  전용면적 102㎡초과  2018   5     NaN   nan     nan"
      ]
     },
     "execution_count": 45,
     "metadata": {},
     "output_type": "execute_result"
    }
   ],
   "source": [
    "pre_sale[(pre_sale[\"지역명\"] == \"대전\")&(pre_sale[\"규모구분\"] == \"전용면적 102㎡초과\")].sample(3)"
   ]
  },
  {
   "cell_type": "code",
   "execution_count": 46,
   "metadata": {},
   "outputs": [],
   "source": [
    "# 위에 그린 그래프를 지역별로 나눠 봅니다.\n",
    "# (ggplot(pre_sale)\n",
    "#  + aes(x='연도', y='평당분양가격', fill='규모구분')\n",
    "#  + geom_bar(stat='identity', position='dodge')\n",
    "#  + facet_wrap('지역명')\n",
    "#  + theme(text=element_text(family='NanumBarunGothic'),\n",
    "#          axis_text_x=element_text(rotation=70),\n",
    "#          figure_size=(12, 12))\n",
    "# )"
   ]
  },
  {
   "cell_type": "code",
   "execution_count": 47,
   "metadata": {},
   "outputs": [
    {
     "data": {
      "text/html": [
       "<div>\n",
       "<style scoped>\n",
       "    .dataframe tbody tr th:only-of-type {\n",
       "        vertical-align: middle;\n",
       "    }\n",
       "\n",
       "    .dataframe tbody tr th {\n",
       "        vertical-align: top;\n",
       "    }\n",
       "\n",
       "    .dataframe thead th {\n",
       "        text-align: right;\n",
       "    }\n",
       "</style>\n",
       "<table border=\"1\" class=\"dataframe\">\n",
       "  <thead>\n",
       "    <tr style=\"text-align: right;\">\n",
       "      <th>지역명</th>\n",
       "      <th>강원</th>\n",
       "      <th>경기</th>\n",
       "      <th>경남</th>\n",
       "      <th>경북</th>\n",
       "      <th>광주</th>\n",
       "      <th>대구</th>\n",
       "      <th>대전</th>\n",
       "      <th>부산</th>\n",
       "      <th>서울</th>\n",
       "      <th>세종</th>\n",
       "      <th>울산</th>\n",
       "      <th>인천</th>\n",
       "      <th>전남</th>\n",
       "      <th>전북</th>\n",
       "      <th>제주</th>\n",
       "      <th>충남</th>\n",
       "      <th>충북</th>\n",
       "    </tr>\n",
       "    <tr>\n",
       "      <th>규모구분</th>\n",
       "      <th></th>\n",
       "      <th></th>\n",
       "      <th></th>\n",
       "      <th></th>\n",
       "      <th></th>\n",
       "      <th></th>\n",
       "      <th></th>\n",
       "      <th></th>\n",
       "      <th></th>\n",
       "      <th></th>\n",
       "      <th></th>\n",
       "      <th></th>\n",
       "      <th></th>\n",
       "      <th></th>\n",
       "      <th></th>\n",
       "      <th></th>\n",
       "      <th></th>\n",
       "    </tr>\n",
       "  </thead>\n",
       "  <tbody>\n",
       "    <tr>\n",
       "      <th>전용면적 102㎡초과</th>\n",
       "      <td>7,871</td>\n",
       "      <td>13,601</td>\n",
       "      <td>9,222</td>\n",
       "      <td>8,586</td>\n",
       "      <td>10,381</td>\n",
       "      <td>12,303</td>\n",
       "      <td>14,282</td>\n",
       "      <td>12,584</td>\n",
       "      <td>22,035</td>\n",
       "      <td>9,259</td>\n",
       "      <td>9,974</td>\n",
       "      <td>13,836</td>\n",
       "      <td>7,550</td>\n",
       "      <td>7,793</td>\n",
       "      <td>10,435</td>\n",
       "      <td>8,477</td>\n",
       "      <td>7,900</td>\n",
       "    </tr>\n",
       "    <tr>\n",
       "      <th>전용면적 60㎡이하</th>\n",
       "      <td>7,185</td>\n",
       "      <td>12,300</td>\n",
       "      <td>8,320</td>\n",
       "      <td>7,646</td>\n",
       "      <td>8,494</td>\n",
       "      <td>11,254</td>\n",
       "      <td>8,816</td>\n",
       "      <td>10,656</td>\n",
       "      <td>21,976</td>\n",
       "      <td>9,071</td>\n",
       "      <td>8,965</td>\n",
       "      <td>10,853</td>\n",
       "      <td>6,980</td>\n",
       "      <td>7,184</td>\n",
       "      <td>14,700</td>\n",
       "      <td>7,772</td>\n",
       "      <td>6,951</td>\n",
       "    </tr>\n",
       "    <tr>\n",
       "      <th>전용면적 60㎡초과 85㎡이하</th>\n",
       "      <td>7,216</td>\n",
       "      <td>11,650</td>\n",
       "      <td>8,088</td>\n",
       "      <td>7,657</td>\n",
       "      <td>9,159</td>\n",
       "      <td>10,889</td>\n",
       "      <td>8,779</td>\n",
       "      <td>11,135</td>\n",
       "      <td>20,718</td>\n",
       "      <td>9,237</td>\n",
       "      <td>10,651</td>\n",
       "      <td>10,719</td>\n",
       "      <td>6,943</td>\n",
       "      <td>6,868</td>\n",
       "      <td>9,908</td>\n",
       "      <td>7,484</td>\n",
       "      <td>7,019</td>\n",
       "    </tr>\n",
       "    <tr>\n",
       "      <th>전용면적 85㎡초과 102㎡이하</th>\n",
       "      <td>7,612</td>\n",
       "      <td>12,029</td>\n",
       "      <td>9,834</td>\n",
       "      <td>8,776</td>\n",
       "      <td>9,296</td>\n",
       "      <td>9,497</td>\n",
       "      <td>9,037</td>\n",
       "      <td>10,971</td>\n",
       "      <td>23,714</td>\n",
       "      <td>9,210</td>\n",
       "      <td>8,861</td>\n",
       "      <td>11,286</td>\n",
       "      <td>7,858</td>\n",
       "      <td>7,739</td>\n",
       "      <td>10,744</td>\n",
       "      <td>9,102</td>\n",
       "      <td>8,145</td>\n",
       "    </tr>\n",
       "    <tr>\n",
       "      <th>전체</th>\n",
       "      <td>7,183</td>\n",
       "      <td>11,664</td>\n",
       "      <td>8,113</td>\n",
       "      <td>7,661</td>\n",
       "      <td>9,151</td>\n",
       "      <td>10,854</td>\n",
       "      <td>8,854</td>\n",
       "      <td>11,241</td>\n",
       "      <td>21,127</td>\n",
       "      <td>9,230</td>\n",
       "      <td>10,628</td>\n",
       "      <td>10,727</td>\n",
       "      <td>6,958</td>\n",
       "      <td>6,877</td>\n",
       "      <td>10,230</td>\n",
       "      <td>7,474</td>\n",
       "      <td>6,966</td>\n",
       "    </tr>\n",
       "  </tbody>\n",
       "</table>\n",
       "</div>"
      ],
      "text/plain": [
       "지역명                  강원     경기    경남    경북     광주     대구     대전     부산     서울  \\\n",
       "규모구분                                                                            \n",
       "전용면적 102㎡초과       7,871 13,601 9,222 8,586 10,381 12,303 14,282 12,584 22,035   \n",
       "전용면적 60㎡이하        7,185 12,300 8,320 7,646  8,494 11,254  8,816 10,656 21,976   \n",
       "전용면적 60㎡초과 85㎡이하  7,216 11,650 8,088 7,657  9,159 10,889  8,779 11,135 20,718   \n",
       "전용면적 85㎡초과 102㎡이하 7,612 12,029 9,834 8,776  9,296  9,497  9,037 10,971 23,714   \n",
       "전체                7,183 11,664 8,113 7,661  9,151 10,854  8,854 11,241 21,127   \n",
       "\n",
       "지역명                  세종     울산     인천    전남    전북     제주    충남    충북  \n",
       "규모구분                                                                  \n",
       "전용면적 102㎡초과       9,259  9,974 13,836 7,550 7,793 10,435 8,477 7,900  \n",
       "전용면적 60㎡이하        9,071  8,965 10,853 6,980 7,184 14,700 7,772 6,951  \n",
       "전용면적 60㎡초과 85㎡이하  9,237 10,651 10,719 6,943 6,868  9,908 7,484 7,019  \n",
       "전용면적 85㎡초과 102㎡이하 9,210  8,861 11,286 7,858 7,739 10,744 9,102 8,145  \n",
       "전체                9,230 10,628 10,727 6,958 6,877 10,230 7,474 6,966  "
      ]
     },
     "execution_count": 47,
     "metadata": {},
     "output_type": "execute_result"
    }
   ],
   "source": [
    "pre_sale_size_t = pre_sale_size.T\n",
    "pre_sale_size_t"
   ]
  },
  {
   "cell_type": "markdown",
   "metadata": {},
   "source": [
    "## 전국 규모(면적)별 신규 민간 아파트 분양가격"
   ]
  },
  {
   "cell_type": "code",
   "execution_count": 48,
   "metadata": {},
   "outputs": [
    {
     "data": {
      "text/html": [
       "<div>\n",
       "<style scoped>\n",
       "    .dataframe tbody tr th:only-of-type {\n",
       "        vertical-align: middle;\n",
       "    }\n",
       "\n",
       "    .dataframe tbody tr th {\n",
       "        vertical-align: top;\n",
       "    }\n",
       "\n",
       "    .dataframe thead th {\n",
       "        text-align: right;\n",
       "    }\n",
       "</style>\n",
       "<table border=\"1\" class=\"dataframe\">\n",
       "  <thead>\n",
       "    <tr style=\"text-align: right;\">\n",
       "      <th></th>\n",
       "      <th>지역명</th>\n",
       "      <th>규모구분</th>\n",
       "      <th>연도</th>\n",
       "      <th>월</th>\n",
       "      <th>분양가격(㎡)</th>\n",
       "      <th>분양가격</th>\n",
       "      <th>평당분양가격</th>\n",
       "    </tr>\n",
       "  </thead>\n",
       "  <tbody>\n",
       "    <tr>\n",
       "      <th>1352</th>\n",
       "      <td>경남</td>\n",
       "      <td>전용면적 60㎡초과 85㎡이하</td>\n",
       "      <td>2017</td>\n",
       "      <td>1</td>\n",
       "      <td>2382</td>\n",
       "      <td>2,382</td>\n",
       "      <td>7,861</td>\n",
       "    </tr>\n",
       "  </tbody>\n",
       "</table>\n",
       "</div>"
      ],
      "text/plain": [
       "     지역명              규모구분    연도  월 분양가격(㎡)  분양가격  평당분양가격\n",
       "1352  경남  전용면적 60㎡초과 85㎡이하  2017  1    2382 2,382   7,861"
      ]
     },
     "execution_count": 48,
     "metadata": {},
     "output_type": "execute_result"
    }
   ],
   "source": [
    "pre_sale.sample()"
   ]
  },
  {
   "cell_type": "code",
   "execution_count": 49,
   "metadata": {},
   "outputs": [
    {
     "data": {
      "text/html": [
       "<div>\n",
       "<style scoped>\n",
       "    .dataframe tbody tr th:only-of-type {\n",
       "        vertical-align: middle;\n",
       "    }\n",
       "\n",
       "    .dataframe tbody tr th {\n",
       "        vertical-align: top;\n",
       "    }\n",
       "\n",
       "    .dataframe thead th {\n",
       "        text-align: right;\n",
       "    }\n",
       "</style>\n",
       "<table border=\"1\" class=\"dataframe\">\n",
       "  <thead>\n",
       "    <tr style=\"text-align: right;\">\n",
       "      <th></th>\n",
       "      <th>지역명</th>\n",
       "      <th>평당분양가격</th>\n",
       "      <th>규모구분</th>\n",
       "    </tr>\n",
       "  </thead>\n",
       "  <tbody>\n",
       "    <tr>\n",
       "      <th>271</th>\n",
       "      <td>부산</td>\n",
       "      <td>9,738</td>\n",
       "      <td>전용면적 60㎡이하</td>\n",
       "    </tr>\n",
       "    <tr>\n",
       "      <th>2697</th>\n",
       "      <td>전북</td>\n",
       "      <td>7,590</td>\n",
       "      <td>전용면적 60㎡초과 85㎡이하</td>\n",
       "    </tr>\n",
       "    <tr>\n",
       "      <th>1291</th>\n",
       "      <td>부산</td>\n",
       "      <td>9,999</td>\n",
       "      <td>전용면적 60㎡이하</td>\n",
       "    </tr>\n",
       "  </tbody>\n",
       "</table>\n",
       "</div>"
      ],
      "text/plain": [
       "     지역명  평당분양가격              규모구분\n",
       "271   부산   9,738        전용면적 60㎡이하\n",
       "2697  전북   7,590  전용면적 60㎡초과 85㎡이하\n",
       "1291  부산   9,999        전용면적 60㎡이하"
      ]
     },
     "execution_count": 49,
     "metadata": {},
     "output_type": "execute_result"
    }
   ],
   "source": [
    "pre_sale[[\"지역명\", \"평당분양가격\", \"규모구분\"]].sample(3)"
   ]
  },
  {
   "cell_type": "code",
   "execution_count": 50,
   "metadata": {},
   "outputs": [
    {
     "data": {
      "text/plain": [
       "(2805, 7)"
      ]
     },
     "execution_count": 50,
     "metadata": {},
     "output_type": "execute_result"
    }
   ],
   "source": [
    "pre_sale.shape"
   ]
  },
  {
   "cell_type": "code",
   "execution_count": 51,
   "metadata": {},
   "outputs": [
    {
     "data": {
      "text/plain": [
       "223"
      ]
     },
     "execution_count": 51,
     "metadata": {},
     "output_type": "execute_result"
    }
   ],
   "source": [
    "pre_sale[\"평당분양가격\"].isnull().sum()"
   ]
  },
  {
   "cell_type": "code",
   "execution_count": 52,
   "metadata": {},
   "outputs": [],
   "source": [
    "# 결측치는 시각화에 방해\n",
    "# 드롭한다\n",
    "\n",
    "pre_sale[\"평당분양가격\"].dropna(inplace=True, axis=0)"
   ]
  },
  {
   "cell_type": "code",
   "execution_count": 53,
   "metadata": {},
   "outputs": [
    {
     "data": {
      "text/plain": [
       "0"
      ]
     },
     "execution_count": 53,
     "metadata": {},
     "output_type": "execute_result"
    }
   ],
   "source": [
    "# 결측치 재확인\n",
    "pre_sale[\"평당분양가격\"].isnull().sum()"
   ]
  },
  {
   "cell_type": "code",
   "execution_count": 54,
   "metadata": {},
   "outputs": [
    {
     "data": {
      "text/plain": [
       "(2805, 7)"
      ]
     },
     "execution_count": 54,
     "metadata": {},
     "output_type": "execute_result"
    }
   ],
   "source": [
    "pre_sale.shape"
   ]
  },
  {
   "cell_type": "code",
   "execution_count": 55,
   "metadata": {},
   "outputs": [
    {
     "data": {
      "text/plain": [
       "지역명         object\n",
       "규모구분        object\n",
       "연도          object\n",
       "월           object\n",
       "분양가격(㎡)     object\n",
       "분양가격       float64\n",
       "평당분양가격     float64\n",
       "dtype: object"
      ]
     },
     "execution_count": 55,
     "metadata": {},
     "output_type": "execute_result"
    }
   ],
   "source": [
    "pre_sale.dtypes"
   ]
  },
  {
   "cell_type": "code",
   "execution_count": 56,
   "metadata": {},
   "outputs": [],
   "source": [
    "pre_sale[\"평당분양가격\"] = pre_sale[\"평당분양가격\"].astype(int)"
   ]
  },
  {
   "cell_type": "code",
   "execution_count": 57,
   "metadata": {},
   "outputs": [
    {
     "data": {
      "text/html": [
       "<div>\n",
       "<style scoped>\n",
       "    .dataframe tbody tr th:only-of-type {\n",
       "        vertical-align: middle;\n",
       "    }\n",
       "\n",
       "    .dataframe tbody tr th {\n",
       "        vertical-align: top;\n",
       "    }\n",
       "\n",
       "    .dataframe thead th {\n",
       "        text-align: right;\n",
       "    }\n",
       "</style>\n",
       "<table border=\"1\" class=\"dataframe\">\n",
       "  <thead>\n",
       "    <tr style=\"text-align: right;\">\n",
       "      <th></th>\n",
       "      <th>지역명</th>\n",
       "      <th>규모구분</th>\n",
       "      <th>연도</th>\n",
       "      <th>월</th>\n",
       "      <th>분양가격(㎡)</th>\n",
       "      <th>분양가격</th>\n",
       "      <th>평당분양가격</th>\n",
       "    </tr>\n",
       "  </thead>\n",
       "  <tbody>\n",
       "  </tbody>\n",
       "</table>\n",
       "</div>"
      ],
      "text/plain": [
       "Empty DataFrame\n",
       "Columns: [지역명, 규모구분, 연도, 월, 분양가격(㎡), 분양가격, 평당분양가격]\n",
       "Index: []"
      ]
     },
     "execution_count": 57,
     "metadata": {},
     "output_type": "execute_result"
    }
   ],
   "source": [
    "pre_sale[pre_sale[\"평당분양가격\"] == 0]"
   ]
  },
  {
   "cell_type": "code",
   "execution_count": 58,
   "metadata": {},
   "outputs": [
    {
     "data": {
      "text/plain": [
       "array(['전체', '전용면적 60㎡이하', '전용면적 60㎡초과 85㎡이하', '전용면적 85㎡초과 102㎡이하',\n",
       "       '전용면적 102㎡초과'], dtype=object)"
      ]
     },
     "execution_count": 58,
     "metadata": {},
     "output_type": "execute_result"
    }
   ],
   "source": [
    "pre_sale[\"규모구분\"].unique()"
   ]
  },
  {
   "cell_type": "code",
   "execution_count": 59,
   "metadata": {},
   "outputs": [
    {
     "data": {
      "text/html": [
       "<div>\n",
       "<style scoped>\n",
       "    .dataframe tbody tr th:only-of-type {\n",
       "        vertical-align: middle;\n",
       "    }\n",
       "\n",
       "    .dataframe tbody tr th {\n",
       "        vertical-align: top;\n",
       "    }\n",
       "\n",
       "    .dataframe thead th {\n",
       "        text-align: right;\n",
       "    }\n",
       "</style>\n",
       "<table border=\"1\" class=\"dataframe\">\n",
       "  <thead>\n",
       "    <tr style=\"text-align: right;\">\n",
       "      <th>규모구분</th>\n",
       "      <th>전용면적 102㎡초과</th>\n",
       "      <th>전용면적 60㎡이하</th>\n",
       "      <th>전용면적 60㎡초과 85㎡이하</th>\n",
       "      <th>전용면적 85㎡초과 102㎡이하</th>\n",
       "      <th>전체</th>\n",
       "    </tr>\n",
       "    <tr>\n",
       "      <th>지역명</th>\n",
       "      <th></th>\n",
       "      <th></th>\n",
       "      <th></th>\n",
       "      <th></th>\n",
       "      <th></th>\n",
       "    </tr>\n",
       "  </thead>\n",
       "  <tbody>\n",
       "    <tr>\n",
       "      <th>울산</th>\n",
       "      <td>9,974</td>\n",
       "      <td>8,965</td>\n",
       "      <td>10,651</td>\n",
       "      <td>8,861</td>\n",
       "      <td>10,628</td>\n",
       "    </tr>\n",
       "    <tr>\n",
       "      <th>부산</th>\n",
       "      <td>12,584</td>\n",
       "      <td>10,656</td>\n",
       "      <td>11,135</td>\n",
       "      <td>10,971</td>\n",
       "      <td>11,241</td>\n",
       "    </tr>\n",
       "    <tr>\n",
       "      <th>경기</th>\n",
       "      <td>13,601</td>\n",
       "      <td>12,300</td>\n",
       "      <td>11,650</td>\n",
       "      <td>12,029</td>\n",
       "      <td>11,664</td>\n",
       "    </tr>\n",
       "  </tbody>\n",
       "</table>\n",
       "</div>"
      ],
      "text/plain": [
       "규모구분  전용면적 102㎡초과  전용면적 60㎡이하  전용면적 60㎡초과 85㎡이하  전용면적 85㎡초과 102㎡이하     전체\n",
       "지역명                                                                      \n",
       "울산          9,974       8,965            10,651              8,861 10,628\n",
       "부산         12,584      10,656            11,135             10,971 11,241\n",
       "경기         13,601      12,300            11,650             12,029 11,664"
      ]
     },
     "execution_count": 59,
     "metadata": {},
     "output_type": "execute_result"
    }
   ],
   "source": [
    "pre_sale_size.sample(3)"
   ]
  },
  {
   "cell_type": "markdown",
   "metadata": {},
   "source": [
    "## box-and-whisker plot | diagram\n",
    "\n",
    "* https://pandas.pydata.org/pandas-docs/stable/user_guide/visualization.html\n",
    "* https://pandas.pydata.org/pandas-docs/stable/reference/api/pandas.DataFrame.boxplot.html\n",
    "\n",
    "* [상자 수염 그림 - 위키백과, 우리 모두의 백과사전](https://ko.wikipedia.org/wiki/%EC%83%81%EC%9E%90_%EC%88%98%EC%97%BC_%EA%B7%B8%EB%A6%BC)\n",
    "* 가공하지 않은 자료 그대로를 이용하여 그린 것이 아니라, 자료로부터 얻어낸 통계량인 5가지 요약 수치로 그린다.\n",
    "* 5가지 요약 수치란 기술통계학에서 자료의 정보를 알려주는 아래의 다섯 가지 수치를 의미한다.\n",
    "\n",
    "\n",
    "1. 최솟값\n",
    "1. 제 1사분위수\n",
    "1. 제 2사분위수( ), 즉 중앙값\n",
    "1. 제 3 사분위 수( )\n",
    "1. 최댓값\n",
    "\n",
    "* Box plot 이해하기 : [Understanding Boxplots – Towards Data Science](https://towardsdatascience.com/understanding-boxplots-5e2df7bcbd51)"
   ]
  },
  {
   "cell_type": "code",
   "execution_count": 60,
   "metadata": {},
   "outputs": [
    {
     "data": {
      "text/plain": [
       "<matplotlib.axes._subplots.AxesSubplot at 0x7f902e78c650>"
      ]
     },
     "execution_count": 60,
     "metadata": {},
     "output_type": "execute_result"
    },
    {
     "data": {
      "image/png": "[encoded data removed]",
      "text/plain": [
       "<Figure size 1296x432 with 1 Axes>"
      ]
     },
     "metadata": {},
     "output_type": "display_data"
    }
   ],
   "source": [
    "# 아래 그래프를 통해 지역마다 0값이 존재하는것으로 결측치 있음을 확인\n",
    "\n",
    "pre_sale[['지역명', '평당분양가격']].boxplot(by=['지역명'], figsize=(18, 6))"
   ]
  },
  {
   "cell_type": "code",
   "execution_count": 61,
   "metadata": {},
   "outputs": [
    {
     "data": {
      "text/plain": [
       "<matplotlib.axes._subplots.AxesSubplot at 0x7f902e7b2150>"
      ]
     },
     "execution_count": 61,
     "metadata": {},
     "output_type": "execute_result"
    },
    {
     "data": {
      "image/png": "[encoded data removed]",
      "text/plain": [
       "<Figure size 1296x432 with 1 Axes>"
      ]
     },
     "metadata": {},
     "output_type": "display_data"
    }
   ],
   "source": [
    "pre_sale[['연도', '지역명', '평당분양가격']].boxplot(by=['연도'], figsize=(18, 6))"
   ]
  },
  {
   "cell_type": "code",
   "execution_count": 62,
   "metadata": {},
   "outputs": [
    {
     "data": {
      "text/plain": [
       "<matplotlib.axes._subplots.AxesSubplot at 0x7f902e4fe210>"
      ]
     },
     "execution_count": 62,
     "metadata": {},
     "output_type": "execute_result"
    },
    {
     "data": {
      "image/png": "[encoded data removed]",
      "text/plain": [
       "<Figure size 1296x432 with 1 Axes>"
      ]
     },
     "metadata": {},
     "output_type": "display_data"
    }
   ],
   "source": [
    "pre_sale[['연도', '지역명', '평당분양가격']].boxplot(by=['연도', '지역명'], figsize=(18, 6), fontsize=12, rot=60)"
   ]
  },
  {
   "cell_type": "code",
   "execution_count": 63,
   "metadata": {},
   "outputs": [],
   "source": [
    "pre_sale_seoul = pre_sale[pre_sale[\"지역명\"]==\"서울\"]\n",
    "\n",
    "# (ggplot(pre_sale_seoul)\n",
    "#  + aes(x='연도', y='평당분양가격', fill='규모구분')\n",
    "#  + ggtitle('서울 연도/규모별 신규 민간 아파트 분양가격')\n",
    "#  + geom_boxplot()\n",
    "#  + theme(text=element_text(family='NanumBarunGothic'))\n",
    "# )"
   ]
  },
  {
   "cell_type": "code",
   "execution_count": 64,
   "metadata": {},
   "outputs": [
    {
     "data": {
      "text/plain": [
       "<matplotlib.axes._subplots.AxesSubplot at 0x7f902ddda950>"
      ]
     },
     "execution_count": 64,
     "metadata": {},
     "output_type": "execute_result"
    },
    {
     "data": {
      "image/png": "[encoded data removed]",
      "text/plain": [
       "<Figure size 1296x432 with 1 Axes>"
      ]
     },
     "metadata": {},
     "output_type": "display_data"
    }
   ],
   "source": [
    "pre_sale_seoul[['연도', '규모구분', '평당분양가격']].boxplot(by=['연도', '규모구분'], figsize=(18, 6), rot=60)"
   ]
  },
  {
   "cell_type": "code",
   "execution_count": 65,
   "metadata": {},
   "outputs": [],
   "source": [
    "pre_sale_jeju = pre_sale[pre_sale[\"지역명\"]==\"제주\"]\n",
    "\n",
    "# (ggplot(pre_sale_jeju)\n",
    "#  + aes(x='연도', y='평당분양가격', fill='규모구분')\n",
    "#  + geom_boxplot()\n",
    "#  + theme(text=element_text(family='NanumBarunGothic'))\n",
    "# )"
   ]
  },
  {
   "cell_type": "code",
   "execution_count": 66,
   "metadata": {},
   "outputs": [
    {
     "data": {
      "text/plain": [
       "<matplotlib.axes._subplots.AxesSubplot at 0x7f902c3bc690>"
      ]
     },
     "execution_count": 66,
     "metadata": {},
     "output_type": "execute_result"
    },
    {
     "data": {
      "image/png": "[encoded data removed]",
      "text/plain": [
       "<Figure size 1296x432 with 1 Axes>"
      ]
     },
     "metadata": {},
     "output_type": "display_data"
    }
   ],
   "source": [
    "pre_sale_jeju[['연도', '평당분양가격']].boxplot(by=['연도'], figsize=(18, 6), rot=60)"
   ]
  },
  {
   "cell_type": "markdown",
   "metadata": {},
   "source": [
    "# Tidy Data 만들기\n",
    "* [Tidy data - Wikipedia](https://en.wikipedia.org/wiki/Tidy_data)\n",
    "## 2013년 12월~2015년 9월 3.3㎡당 분양가격\n",
    "* 2015년 10월부터 2018년 4월까지 데이터는 평당 분양가로 조정을 해주었었는데 이 데이터는 평당 분양가가 들어가 있습니다다.\n",
    "* `지역별_3.3㎡당_평균_분양가격_천원__15.09월.csv`을  https://www.data.go.kr/dataset/3035522/fileData.do 에서 다운로드 받거나 다음의 경로에서 다운로드 받습니다. https://goo.gl/oJydAv"
   ]
  },
  {
   "cell_type": "markdown",
   "metadata": {},
   "source": [
    "\n",
    "\n",
    "- 변수(variable):에를 들면 몸무게, 키\n",
    "- 값(value): 73kg, 171cm\n",
    "- 관측치(observation): 값을 측정한 단위, 여기서는 각각의 사람"
   ]
  },
  {
   "cell_type": "code",
   "execution_count": 67,
   "metadata": {},
   "outputs": [
    {
     "data": {
      "text/plain": [
       "(23, 27)"
      ]
     },
     "execution_count": 67,
     "metadata": {},
     "output_type": "execute_result"
    }
   ],
   "source": [
    "# 한글파일명 읽기 :  encoding='euc-kr'\n",
    "df = pd.read_csv('../data/apt_price/지역별_3.3㎡당_평균_분양가격_천원__15.09월.csv', \\\n",
    "                 encoding='euc-kr', skiprows=1, header=0, engine='python')\n",
    "df.shape"
   ]
  },
  {
   "cell_type": "code",
   "execution_count": 68,
   "metadata": {},
   "outputs": [
    {
     "data": {
      "text/html": [
       "<div>\n",
       "<style scoped>\n",
       "    .dataframe tbody tr th:only-of-type {\n",
       "        vertical-align: middle;\n",
       "    }\n",
       "\n",
       "    .dataframe tbody tr th {\n",
       "        vertical-align: top;\n",
       "    }\n",
       "\n",
       "    .dataframe thead th {\n",
       "        text-align: right;\n",
       "    }\n",
       "</style>\n",
       "<table border=\"1\" class=\"dataframe\">\n",
       "  <thead>\n",
       "    <tr style=\"text-align: right;\">\n",
       "      <th></th>\n",
       "      <th>Unnamed: 0</th>\n",
       "      <th>Unnamed: 1</th>\n",
       "      <th>Unnamed: 2</th>\n",
       "      <th>Unnamed: 3</th>\n",
       "      <th>Unnamed: 4</th>\n",
       "      <th>Unnamed: 5</th>\n",
       "      <th>Unnamed: 6</th>\n",
       "      <th>Unnamed: 7</th>\n",
       "      <th>Unnamed: 8</th>\n",
       "      <th>Unnamed: 9</th>\n",
       "      <th>...</th>\n",
       "      <th>Unnamed: 17</th>\n",
       "      <th>Unnamed: 18</th>\n",
       "      <th>Unnamed: 19</th>\n",
       "      <th>Unnamed: 20</th>\n",
       "      <th>Unnamed: 21</th>\n",
       "      <th>Unnamed: 22</th>\n",
       "      <th>Unnamed: 23</th>\n",
       "      <th>Unnamed: 24</th>\n",
       "      <th>Unnamed: 25</th>\n",
       "      <th>Unnamed: 26</th>\n",
       "    </tr>\n",
       "  </thead>\n",
       "  <tbody>\n",
       "    <tr>\n",
       "      <th>0</th>\n",
       "      <td>구분</td>\n",
       "      <td>NaN</td>\n",
       "      <td>2013년</td>\n",
       "      <td>2014년</td>\n",
       "      <td>NaN</td>\n",
       "      <td>NaN</td>\n",
       "      <td>NaN</td>\n",
       "      <td>NaN</td>\n",
       "      <td>NaN</td>\n",
       "      <td>NaN</td>\n",
       "      <td>...</td>\n",
       "      <td>NaN</td>\n",
       "      <td>NaN</td>\n",
       "      <td>NaN</td>\n",
       "      <td>NaN</td>\n",
       "      <td>NaN</td>\n",
       "      <td>NaN</td>\n",
       "      <td>NaN</td>\n",
       "      <td>NaN</td>\n",
       "      <td>NaN</td>\n",
       "      <td>(단위: 천원/3.3㎡)</td>\n",
       "    </tr>\n",
       "    <tr>\n",
       "      <th>1</th>\n",
       "      <td>시도</td>\n",
       "      <td>시군구</td>\n",
       "      <td>12월</td>\n",
       "      <td>1월</td>\n",
       "      <td>2월</td>\n",
       "      <td>3월</td>\n",
       "      <td>4월</td>\n",
       "      <td>5월</td>\n",
       "      <td>6월</td>\n",
       "      <td>7월</td>\n",
       "      <td>...</td>\n",
       "      <td>3월</td>\n",
       "      <td>4월</td>\n",
       "      <td>5월</td>\n",
       "      <td>6월</td>\n",
       "      <td>7월</td>\n",
       "      <td>8월</td>\n",
       "      <td>9월</td>\n",
       "      <td>전월비</td>\n",
       "      <td>전년말비</td>\n",
       "      <td>전년동월비</td>\n",
       "    </tr>\n",
       "    <tr>\n",
       "      <th>2</th>\n",
       "      <td>전국</td>\n",
       "      <td>NaN</td>\n",
       "      <td>8,059</td>\n",
       "      <td>8,130</td>\n",
       "      <td>8,195</td>\n",
       "      <td>8,204</td>\n",
       "      <td>8,289</td>\n",
       "      <td>8,358</td>\n",
       "      <td>8,344</td>\n",
       "      <td>8,333</td>\n",
       "      <td>...</td>\n",
       "      <td>8,563</td>\n",
       "      <td>8,613</td>\n",
       "      <td>8,624</td>\n",
       "      <td>8,627</td>\n",
       "      <td>8,643</td>\n",
       "      <td>8,678</td>\n",
       "      <td>8,665</td>\n",
       "      <td>-13</td>\n",
       "      <td>82</td>\n",
       "      <td>207</td>\n",
       "    </tr>\n",
       "    <tr>\n",
       "      <th>3</th>\n",
       "      <td>서울</td>\n",
       "      <td>NaN</td>\n",
       "      <td>18,189</td>\n",
       "      <td>17,925</td>\n",
       "      <td>17,925</td>\n",
       "      <td>18,016</td>\n",
       "      <td>18,098</td>\n",
       "      <td>19,446</td>\n",
       "      <td>18,867</td>\n",
       "      <td>18,742</td>\n",
       "      <td>...</td>\n",
       "      <td>19,415</td>\n",
       "      <td>18,842</td>\n",
       "      <td>18,367</td>\n",
       "      <td>18,374</td>\n",
       "      <td>18,152</td>\n",
       "      <td>18,443</td>\n",
       "      <td>17,969</td>\n",
       "      <td>-474</td>\n",
       "      <td>-2,300</td>\n",
       "      <td>-1,434</td>\n",
       "    </tr>\n",
       "    <tr>\n",
       "      <th>4</th>\n",
       "      <td>6대광역시</td>\n",
       "      <td>부산</td>\n",
       "      <td>8,111</td>\n",
       "      <td>8,111</td>\n",
       "      <td>9,078</td>\n",
       "      <td>8,965</td>\n",
       "      <td>9,402</td>\n",
       "      <td>9,501</td>\n",
       "      <td>9,453</td>\n",
       "      <td>9,457</td>\n",
       "      <td>...</td>\n",
       "      <td>9,279</td>\n",
       "      <td>9,327</td>\n",
       "      <td>9,345</td>\n",
       "      <td>9,515</td>\n",
       "      <td>9,559</td>\n",
       "      <td>9,581</td>\n",
       "      <td>9,608</td>\n",
       "      <td>1</td>\n",
       "      <td>430</td>\n",
       "      <td>477</td>\n",
       "    </tr>\n",
       "    <tr>\n",
       "      <th>5</th>\n",
       "      <td>NaN</td>\n",
       "      <td>대구</td>\n",
       "      <td>8,080</td>\n",
       "      <td>8,080</td>\n",
       "      <td>8,077</td>\n",
       "      <td>8,101</td>\n",
       "      <td>8,267</td>\n",
       "      <td>8,274</td>\n",
       "      <td>8,360</td>\n",
       "      <td>8,360</td>\n",
       "      <td>...</td>\n",
       "      <td>8,441</td>\n",
       "      <td>8,446</td>\n",
       "      <td>8,568</td>\n",
       "      <td>8,542</td>\n",
       "      <td>8,542</td>\n",
       "      <td>8,795</td>\n",
       "      <td>8,863</td>\n",
       "      <td>27</td>\n",
       "      <td>400</td>\n",
       "      <td>350</td>\n",
       "    </tr>\n",
       "    <tr>\n",
       "      <th>6</th>\n",
       "      <td>NaN</td>\n",
       "      <td>인천</td>\n",
       "      <td>10,204</td>\n",
       "      <td>10,204</td>\n",
       "      <td>10,408</td>\n",
       "      <td>10,408</td>\n",
       "      <td>10,000</td>\n",
       "      <td>9,844</td>\n",
       "      <td>10,058</td>\n",
       "      <td>9,974</td>\n",
       "      <td>...</td>\n",
       "      <td>9,876</td>\n",
       "      <td>9,938</td>\n",
       "      <td>10,551</td>\n",
       "      <td>10,443</td>\n",
       "      <td>10,443</td>\n",
       "      <td>10,449</td>\n",
       "      <td>10,450</td>\n",
       "      <td>-162</td>\n",
       "      <td>-150</td>\n",
       "      <td>-131</td>\n",
       "    </tr>\n",
       "    <tr>\n",
       "      <th>7</th>\n",
       "      <td>NaN</td>\n",
       "      <td>광주</td>\n",
       "      <td>6,098</td>\n",
       "      <td>7,326</td>\n",
       "      <td>7,611</td>\n",
       "      <td>7,346</td>\n",
       "      <td>7,346</td>\n",
       "      <td>7,523</td>\n",
       "      <td>7,659</td>\n",
       "      <td>7,612</td>\n",
       "      <td>...</td>\n",
       "      <td>7,861</td>\n",
       "      <td>7,914</td>\n",
       "      <td>7,877</td>\n",
       "      <td>7,881</td>\n",
       "      <td>8,089</td>\n",
       "      <td>8,231</td>\n",
       "      <td>8,083</td>\n",
       "      <td>-148</td>\n",
       "      <td>334</td>\n",
       "      <td>281</td>\n",
       "    </tr>\n",
       "    <tr>\n",
       "      <th>8</th>\n",
       "      <td>NaN</td>\n",
       "      <td>대전</td>\n",
       "      <td>8,321</td>\n",
       "      <td>8,321</td>\n",
       "      <td>8,321</td>\n",
       "      <td>8,341</td>\n",
       "      <td>8,341</td>\n",
       "      <td>8,341</td>\n",
       "      <td>8,333</td>\n",
       "      <td>8,333</td>\n",
       "      <td>...</td>\n",
       "      <td>8,067</td>\n",
       "      <td>8,145</td>\n",
       "      <td>8,272</td>\n",
       "      <td>8,079</td>\n",
       "      <td>8,079</td>\n",
       "      <td>8,079</td>\n",
       "      <td>7,917</td>\n",
       "      <td>68</td>\n",
       "      <td>610</td>\n",
       "      <td>414</td>\n",
       "    </tr>\n",
       "    <tr>\n",
       "      <th>9</th>\n",
       "      <td>NaN</td>\n",
       "      <td>울산</td>\n",
       "      <td>8,090</td>\n",
       "      <td>8,090</td>\n",
       "      <td>8,090</td>\n",
       "      <td>8,153</td>\n",
       "      <td>8,153</td>\n",
       "      <td>8,153</td>\n",
       "      <td>8,153</td>\n",
       "      <td>8,153</td>\n",
       "      <td>...</td>\n",
       "      <td>8,629</td>\n",
       "      <td>9,380</td>\n",
       "      <td>9,192</td>\n",
       "      <td>9,190</td>\n",
       "      <td>9,190</td>\n",
       "      <td>9,215</td>\n",
       "      <td>9,215</td>\n",
       "      <td>0</td>\n",
       "      <td>324</td>\n",
       "      <td>722</td>\n",
       "    </tr>\n",
       "    <tr>\n",
       "      <th>10</th>\n",
       "      <td>NaN</td>\n",
       "      <td>NaN</td>\n",
       "      <td>8,151</td>\n",
       "      <td>8,355</td>\n",
       "      <td>8,597</td>\n",
       "      <td>8,552</td>\n",
       "      <td>8,585</td>\n",
       "      <td>8,606</td>\n",
       "      <td>8,669</td>\n",
       "      <td>8,648</td>\n",
       "      <td>...</td>\n",
       "      <td>8,692</td>\n",
       "      <td>8,858</td>\n",
       "      <td>8,967</td>\n",
       "      <td>8,942</td>\n",
       "      <td>8,984</td>\n",
       "      <td>9,058</td>\n",
       "      <td>9,023</td>\n",
       "      <td>-36</td>\n",
       "      <td>325</td>\n",
       "      <td>352</td>\n",
       "    </tr>\n",
       "    <tr>\n",
       "      <th>11</th>\n",
       "      <td>경기</td>\n",
       "      <td>NaN</td>\n",
       "      <td>10,855</td>\n",
       "      <td>10,855</td>\n",
       "      <td>10,791</td>\n",
       "      <td>10,784</td>\n",
       "      <td>10,876</td>\n",
       "      <td>10,646</td>\n",
       "      <td>10,266</td>\n",
       "      <td>10,124</td>\n",
       "      <td>...</td>\n",
       "      <td>10,469</td>\n",
       "      <td>10,684</td>\n",
       "      <td>10,685</td>\n",
       "      <td>10,573</td>\n",
       "      <td>10,518</td>\n",
       "      <td>10,573</td>\n",
       "      <td>10,341</td>\n",
       "      <td>-232</td>\n",
       "      <td>-38</td>\n",
       "      <td>-160</td>\n",
       "    </tr>\n",
       "    <tr>\n",
       "      <th>12</th>\n",
       "      <td>수도권</td>\n",
       "      <td>NaN</td>\n",
       "      <td>13,083</td>\n",
       "      <td>12,995</td>\n",
       "      <td>13,041</td>\n",
       "      <td>13,069</td>\n",
       "      <td>12,991</td>\n",
       "      <td>13,312</td>\n",
       "      <td>13,064</td>\n",
       "      <td>12,947</td>\n",
       "      <td>...</td>\n",
       "      <td>13,253</td>\n",
       "      <td>13,155</td>\n",
       "      <td>13,201</td>\n",
       "      <td>13,130</td>\n",
       "      <td>13,038</td>\n",
       "      <td>13,155</td>\n",
       "      <td>12,920</td>\n",
       "      <td>-235</td>\n",
       "      <td>-636</td>\n",
       "      <td>-373</td>\n",
       "    </tr>\n",
       "    <tr>\n",
       "      <th>13</th>\n",
       "      <td>세종</td>\n",
       "      <td>NaN</td>\n",
       "      <td>7,601</td>\n",
       "      <td>7,600</td>\n",
       "      <td>7,532</td>\n",
       "      <td>7,814</td>\n",
       "      <td>7,908</td>\n",
       "      <td>7,934</td>\n",
       "      <td>8,067</td>\n",
       "      <td>8,067</td>\n",
       "      <td>...</td>\n",
       "      <td>8,555</td>\n",
       "      <td>8,546</td>\n",
       "      <td>8,546</td>\n",
       "      <td>8,671</td>\n",
       "      <td>8,669</td>\n",
       "      <td>8,695</td>\n",
       "      <td>8,715</td>\n",
       "      <td>20</td>\n",
       "      <td>155</td>\n",
       "      <td>434</td>\n",
       "    </tr>\n",
       "    <tr>\n",
       "      <th>14</th>\n",
       "      <td>지방</td>\n",
       "      <td>강원</td>\n",
       "      <td>6,230</td>\n",
       "      <td>6,230</td>\n",
       "      <td>6,230</td>\n",
       "      <td>6,141</td>\n",
       "      <td>6,373</td>\n",
       "      <td>6,350</td>\n",
       "      <td>6,350</td>\n",
       "      <td>6,268</td>\n",
       "      <td>...</td>\n",
       "      <td>6,182</td>\n",
       "      <td>6,924</td>\n",
       "      <td>6,846</td>\n",
       "      <td>6,986</td>\n",
       "      <td>7,019</td>\n",
       "      <td>7,008</td>\n",
       "      <td>7,121</td>\n",
       "      <td>113</td>\n",
       "      <td>756</td>\n",
       "      <td>702</td>\n",
       "    </tr>\n",
       "    <tr>\n",
       "      <th>15</th>\n",
       "      <td>NaN</td>\n",
       "      <td>충북</td>\n",
       "      <td>6,589</td>\n",
       "      <td>6,589</td>\n",
       "      <td>6,611</td>\n",
       "      <td>6,625</td>\n",
       "      <td>6,678</td>\n",
       "      <td>6,598</td>\n",
       "      <td>6,587</td>\n",
       "      <td>6,586</td>\n",
       "      <td>...</td>\n",
       "      <td>6,783</td>\n",
       "      <td>6,790</td>\n",
       "      <td>6,805</td>\n",
       "      <td>6,682</td>\n",
       "      <td>6,601</td>\n",
       "      <td>6,603</td>\n",
       "      <td>6,606</td>\n",
       "      <td>3</td>\n",
       "      <td>-137</td>\n",
       "      <td>22</td>\n",
       "    </tr>\n",
       "    <tr>\n",
       "      <th>16</th>\n",
       "      <td>NaN</td>\n",
       "      <td>충남</td>\n",
       "      <td>6,365</td>\n",
       "      <td>6,365</td>\n",
       "      <td>6,379</td>\n",
       "      <td>6,287</td>\n",
       "      <td>6,552</td>\n",
       "      <td>6,591</td>\n",
       "      <td>6,644</td>\n",
       "      <td>6,805</td>\n",
       "      <td>...</td>\n",
       "      <td>7,161</td>\n",
       "      <td>7,017</td>\n",
       "      <td>6,975</td>\n",
       "      <td>6,939</td>\n",
       "      <td>6,935</td>\n",
       "      <td>6,942</td>\n",
       "      <td>6,939</td>\n",
       "      <td>-3</td>\n",
       "      <td>-50</td>\n",
       "      <td>57</td>\n",
       "    </tr>\n",
       "    <tr>\n",
       "      <th>17</th>\n",
       "      <td>NaN</td>\n",
       "      <td>전북</td>\n",
       "      <td>6,282</td>\n",
       "      <td>6,281</td>\n",
       "      <td>5,946</td>\n",
       "      <td>5,966</td>\n",
       "      <td>6,277</td>\n",
       "      <td>6,306</td>\n",
       "      <td>6,351</td>\n",
       "      <td>6,319</td>\n",
       "      <td>...</td>\n",
       "      <td>6,542</td>\n",
       "      <td>6,551</td>\n",
       "      <td>6,556</td>\n",
       "      <td>6,601</td>\n",
       "      <td>6,750</td>\n",
       "      <td>6,580</td>\n",
       "      <td>6,885</td>\n",
       "      <td>304</td>\n",
       "      <td>301</td>\n",
       "      <td>165</td>\n",
       "    </tr>\n",
       "    <tr>\n",
       "      <th>18</th>\n",
       "      <td>NaN</td>\n",
       "      <td>전남</td>\n",
       "      <td>5,678</td>\n",
       "      <td>5,678</td>\n",
       "      <td>5,678</td>\n",
       "      <td>5,696</td>\n",
       "      <td>5,736</td>\n",
       "      <td>5,656</td>\n",
       "      <td>5,609</td>\n",
       "      <td>5,780</td>\n",
       "      <td>...</td>\n",
       "      <td>5,825</td>\n",
       "      <td>5,940</td>\n",
       "      <td>6,050</td>\n",
       "      <td>6,243</td>\n",
       "      <td>6,286</td>\n",
       "      <td>6,289</td>\n",
       "      <td>6,245</td>\n",
       "      <td>-43</td>\n",
       "      <td>461</td>\n",
       "      <td>441</td>\n",
       "    </tr>\n",
       "    <tr>\n",
       "      <th>19</th>\n",
       "      <td>NaN</td>\n",
       "      <td>경북</td>\n",
       "      <td>6,168</td>\n",
       "      <td>6,168</td>\n",
       "      <td>6,234</td>\n",
       "      <td>6,317</td>\n",
       "      <td>6,412</td>\n",
       "      <td>6,409</td>\n",
       "      <td>6,554</td>\n",
       "      <td>6,556</td>\n",
       "      <td>...</td>\n",
       "      <td>6,997</td>\n",
       "      <td>7,006</td>\n",
       "      <td>6,966</td>\n",
       "      <td>6,887</td>\n",
       "      <td>7,035</td>\n",
       "      <td>7,037</td>\n",
       "      <td>7,029</td>\n",
       "      <td>-9</td>\n",
       "      <td>39</td>\n",
       "      <td>451</td>\n",
       "    </tr>\n",
       "    <tr>\n",
       "      <th>20</th>\n",
       "      <td>NaN</td>\n",
       "      <td>경남</td>\n",
       "      <td>6,473</td>\n",
       "      <td>6,485</td>\n",
       "      <td>6,502</td>\n",
       "      <td>6,610</td>\n",
       "      <td>6,599</td>\n",
       "      <td>6,610</td>\n",
       "      <td>6,615</td>\n",
       "      <td>6,613</td>\n",
       "      <td>...</td>\n",
       "      <td>7,668</td>\n",
       "      <td>7,683</td>\n",
       "      <td>7,717</td>\n",
       "      <td>7,715</td>\n",
       "      <td>7,723</td>\n",
       "      <td>7,665</td>\n",
       "      <td>7,947</td>\n",
       "      <td>282</td>\n",
       "      <td>615</td>\n",
       "      <td>1,179</td>\n",
       "    </tr>\n",
       "    <tr>\n",
       "      <th>21</th>\n",
       "      <td>NaN</td>\n",
       "      <td>제주</td>\n",
       "      <td>7,674</td>\n",
       "      <td>7,900</td>\n",
       "      <td>7,900</td>\n",
       "      <td>7,900</td>\n",
       "      <td>7,900</td>\n",
       "      <td>7,900</td>\n",
       "      <td>7,914</td>\n",
       "      <td>7,914</td>\n",
       "      <td>...</td>\n",
       "      <td>7,826</td>\n",
       "      <td>7,285</td>\n",
       "      <td>7,285</td>\n",
       "      <td>7,343</td>\n",
       "      <td>7,343</td>\n",
       "      <td>7,343</td>\n",
       "      <td>7,379</td>\n",
       "      <td>36</td>\n",
       "      <td>-360</td>\n",
       "      <td>-453</td>\n",
       "    </tr>\n",
       "    <tr>\n",
       "      <th>22</th>\n",
       "      <td>NaN</td>\n",
       "      <td>NaN</td>\n",
       "      <td>6,432</td>\n",
       "      <td>6,462</td>\n",
       "      <td>6,435</td>\n",
       "      <td>6,443</td>\n",
       "      <td>6,566</td>\n",
       "      <td>6,552</td>\n",
       "      <td>6,578</td>\n",
       "      <td>6,605</td>\n",
       "      <td>...</td>\n",
       "      <td>6,873</td>\n",
       "      <td>6,899</td>\n",
       "      <td>6,900</td>\n",
       "      <td>6,925</td>\n",
       "      <td>6,961</td>\n",
       "      <td>6,933</td>\n",
       "      <td>7,019</td>\n",
       "      <td>85</td>\n",
       "      <td>203</td>\n",
       "      <td>321</td>\n",
       "    </tr>\n",
       "  </tbody>\n",
       "</table>\n",
       "<p>23 rows × 27 columns</p>\n",
       "</div>"
      ],
      "text/plain": [
       "   Unnamed: 0 Unnamed: 1 Unnamed: 2 Unnamed: 3 Unnamed: 4 Unnamed: 5  \\\n",
       "0          구분        NaN      2013년      2014년        NaN        NaN   \n",
       "1          시도        시군구        12월         1월         2월         3월   \n",
       "2          전국        NaN      8,059      8,130      8,195      8,204   \n",
       "3          서울        NaN     18,189     17,925     17,925     18,016   \n",
       "4       6대광역시         부산      8,111      8,111      9,078      8,965   \n",
       "5         NaN         대구      8,080      8,080      8,077      8,101   \n",
       "6         NaN         인천     10,204     10,204     10,408     10,408   \n",
       "7         NaN         광주      6,098      7,326      7,611      7,346   \n",
       "8         NaN         대전      8,321      8,321      8,321      8,341   \n",
       "9         NaN         울산      8,090      8,090      8,090      8,153   \n",
       "10        NaN        NaN      8,151      8,355      8,597      8,552   \n",
       "11         경기        NaN     10,855     10,855     10,791     10,784   \n",
       "12        수도권        NaN     13,083     12,995     13,041     13,069   \n",
       "13         세종        NaN      7,601      7,600      7,532      7,814   \n",
       "14         지방         강원      6,230      6,230      6,230      6,141   \n",
       "15        NaN         충북      6,589      6,589      6,611      6,625   \n",
       "16        NaN         충남      6,365      6,365      6,379      6,287   \n",
       "17        NaN         전북      6,282      6,281      5,946      5,966   \n",
       "18        NaN         전남      5,678      5,678      5,678      5,696   \n",
       "19        NaN         경북      6,168      6,168      6,234      6,317   \n",
       "20        NaN         경남      6,473      6,485      6,502      6,610   \n",
       "21        NaN         제주      7,674      7,900      7,900      7,900   \n",
       "22        NaN        NaN      6,432      6,462      6,435      6,443   \n",
       "\n",
       "   Unnamed: 6 Unnamed: 7 Unnamed: 8 Unnamed: 9  ... Unnamed: 17 Unnamed: 18  \\\n",
       "0         NaN        NaN        NaN        NaN  ...         NaN         NaN   \n",
       "1          4월         5월         6월         7월  ...          3월          4월   \n",
       "2       8,289      8,358      8,344      8,333  ...       8,563       8,613   \n",
       "3      18,098     19,446     18,867     18,742  ...      19,415      18,842   \n",
       "4       9,402      9,501      9,453      9,457  ...       9,279       9,327   \n",
       "5       8,267      8,274      8,360      8,360  ...       8,441       8,446   \n",
       "6      10,000      9,844     10,058      9,974  ...       9,876       9,938   \n",
       "7       7,346      7,523      7,659      7,612  ...       7,861       7,914   \n",
       "8       8,341      8,341      8,333      8,333  ...       8,067       8,145   \n",
       "9       8,153      8,153      8,153      8,153  ...       8,629       9,380   \n",
       "10      8,585      8,606      8,669      8,648  ...       8,692       8,858   \n",
       "11     10,876     10,646     10,266     10,124  ...      10,469      10,684   \n",
       "12     12,991     13,312     13,064     12,947  ...      13,253      13,155   \n",
       "13      7,908      7,934      8,067      8,067  ...       8,555       8,546   \n",
       "14      6,373      6,350      6,350      6,268  ...       6,182       6,924   \n",
       "15      6,678      6,598      6,587      6,586  ...       6,783       6,790   \n",
       "16      6,552      6,591      6,644      6,805  ...       7,161       7,017   \n",
       "17      6,277      6,306      6,351      6,319  ...       6,542       6,551   \n",
       "18      5,736      5,656      5,609      5,780  ...       5,825       5,940   \n",
       "19      6,412      6,409      6,554      6,556  ...       6,997       7,006   \n",
       "20      6,599      6,610      6,615      6,613  ...       7,668       7,683   \n",
       "21      7,900      7,900      7,914      7,914  ...       7,826       7,285   \n",
       "22      6,566      6,552      6,578      6,605  ...       6,873       6,899   \n",
       "\n",
       "   Unnamed: 19 Unnamed: 20 Unnamed: 21 Unnamed: 22 Unnamed: 23 Unnamed: 24  \\\n",
       "0          NaN         NaN         NaN         NaN         NaN         NaN   \n",
       "1           5월          6월          7월          8월          9월         전월비   \n",
       "2        8,624       8,627       8,643       8,678       8,665        -13    \n",
       "3       18,367      18,374      18,152      18,443      17,969       -474    \n",
       "4        9,345       9,515       9,559       9,581       9,608          1    \n",
       "5        8,568       8,542       8,542       8,795       8,863         27    \n",
       "6       10,551      10,443      10,443      10,449      10,450       -162    \n",
       "7        7,877       7,881       8,089       8,231       8,083       -148    \n",
       "8        8,272       8,079       8,079       8,079       7,917         68    \n",
       "9        9,192       9,190       9,190       9,215       9,215          0    \n",
       "10       8,967       8,942       8,984       9,058       9,023        -36    \n",
       "11      10,685      10,573      10,518      10,573      10,341       -232    \n",
       "12      13,201      13,130      13,038      13,155      12,920       -235    \n",
       "13       8,546       8,671       8,669       8,695       8,715         20    \n",
       "14       6,846       6,986       7,019       7,008       7,121        113    \n",
       "15       6,805       6,682       6,601       6,603       6,606          3    \n",
       "16       6,975       6,939       6,935       6,942       6,939         -3    \n",
       "17       6,556       6,601       6,750       6,580       6,885        304    \n",
       "18       6,050       6,243       6,286       6,289       6,245        -43    \n",
       "19       6,966       6,887       7,035       7,037       7,029         -9    \n",
       "20       7,717       7,715       7,723       7,665       7,947        282    \n",
       "21       7,285       7,343       7,343       7,343       7,379         36    \n",
       "22       6,900       6,925       6,961       6,933       7,019         85    \n",
       "\n",
       "   Unnamed: 25    Unnamed: 26  \n",
       "0          NaN  (단위: 천원/3.3㎡)  \n",
       "1         전년말비          전년동월비  \n",
       "2          82            207   \n",
       "3      -2,300         -1,434   \n",
       "4         430            477   \n",
       "5         400            350   \n",
       "6        -150           -131   \n",
       "7         334            281   \n",
       "8         610            414   \n",
       "9         324            722   \n",
       "10        325            352   \n",
       "11        -38           -160   \n",
       "12       -636           -373   \n",
       "13        155            434   \n",
       "14        756            702   \n",
       "15       -137             22   \n",
       "16        -50             57   \n",
       "17        301            165   \n",
       "18        461            441   \n",
       "19         39            451   \n",
       "20        615          1,179   \n",
       "21       -360           -453   \n",
       "22        203            321   \n",
       "\n",
       "[23 rows x 27 columns]"
      ]
     },
     "execution_count": 68,
     "metadata": {},
     "output_type": "execute_result"
    }
   ],
   "source": [
    "# pandas에서 보기 쉽게 컬럼을 변경해 줄 필요가 있습니다.\n",
    "df"
   ]
  },
  {
   "cell_type": "code",
   "execution_count": 69,
   "metadata": {},
   "outputs": [],
   "source": [
    "year = df.iloc[0]\n",
    "month = df.iloc[1]"
   ]
  },
  {
   "cell_type": "code",
   "execution_count": 70,
   "metadata": {},
   "outputs": [
    {
     "name": "stdout",
     "output_type": "stream",
     "text": [
      "Unnamed: 0                구분\n",
      "Unnamed: 1               NaN\n",
      "Unnamed: 2             2013년\n",
      "Unnamed: 3             2014년\n",
      "Unnamed: 4               NaN\n",
      "Unnamed: 5               NaN\n",
      "Unnamed: 6               NaN\n",
      "Unnamed: 7               NaN\n",
      "Unnamed: 8               NaN\n",
      "Unnamed: 9               NaN\n",
      "Unnamed: 10              NaN\n",
      "Unnamed: 11              NaN\n",
      "Unnamed: 12              NaN\n",
      "Unnamed: 13              NaN\n",
      "Unnamed: 14              NaN\n",
      "Unnamed: 15            2015년\n",
      "Unnamed: 16              NaN\n",
      "Unnamed: 17              NaN\n",
      "Unnamed: 18              NaN\n",
      "Unnamed: 19              NaN\n",
      "Unnamed: 20              NaN\n",
      "Unnamed: 21              NaN\n",
      "Unnamed: 22              NaN\n",
      "Unnamed: 23              NaN\n",
      "Unnamed: 24              NaN\n",
      "Unnamed: 25              NaN\n",
      "Unnamed: 26    (단위: 천원/3.3㎡)\n",
      "Name: 0, dtype: object Unnamed: 0        시도\n",
      "Unnamed: 1       시군구\n",
      "Unnamed: 2       12월\n",
      "Unnamed: 3        1월\n",
      "Unnamed: 4        2월\n",
      "Unnamed: 5        3월\n",
      "Unnamed: 6        4월\n",
      "Unnamed: 7        5월\n",
      "Unnamed: 8        6월\n",
      "Unnamed: 9        7월\n",
      "Unnamed: 10       8월\n",
      "Unnamed: 11       9월\n",
      "Unnamed: 12      10월\n",
      "Unnamed: 13      11월\n",
      "Unnamed: 14      12월\n",
      "Unnamed: 15       1월\n",
      "Unnamed: 16       2월\n",
      "Unnamed: 17       3월\n",
      "Unnamed: 18       4월\n",
      "Unnamed: 19       5월\n",
      "Unnamed: 20       6월\n",
      "Unnamed: 21       7월\n",
      "Unnamed: 22       8월\n",
      "Unnamed: 23       9월\n",
      "Unnamed: 24      전월비\n",
      "Unnamed: 25     전년말비\n",
      "Unnamed: 26    전년동월비\n",
      "Name: 1, dtype: object\n"
     ]
    }
   ],
   "source": [
    "# 결측치를 채워주자\n",
    "\n",
    "print(year, month)"
   ]
  },
  {
   "cell_type": "code",
   "execution_count": 71,
   "metadata": {},
   "outputs": [
    {
     "name": "stdout",
     "output_type": "stream",
     "text": [
      "Unnamed: 0              구분\n",
      "Unnamed: 1             시군구\n",
      "Unnamed: 2       2013년 12월\n",
      "Unnamed: 3        2014년 1월\n",
      "Unnamed: 4        2014년 2월\n",
      "Unnamed: 5        2014년 3월\n",
      "Unnamed: 6        2014년 4월\n",
      "Unnamed: 7        2014년 5월\n",
      "Unnamed: 8        2014년 6월\n",
      "Unnamed: 9        2014년 7월\n",
      "Unnamed: 10       2014년 8월\n",
      "Unnamed: 11       2014년 9월\n",
      "Unnamed: 12      2014년 10월\n",
      "Unnamed: 13      2014년 11월\n",
      "Unnamed: 14      2014년 12월\n",
      "Unnamed: 15       2015년 1월\n",
      "Unnamed: 16       2015년 2월\n",
      "Unnamed: 17       2015년 3월\n",
      "Unnamed: 18       2015년 4월\n",
      "Unnamed: 19       2015년 5월\n",
      "Unnamed: 20       2015년 6월\n",
      "Unnamed: 21       2015년 7월\n",
      "Unnamed: 22       2015년 8월\n",
      "Unnamed: 23       2015년 9월\n",
      "Unnamed: 24      2015년 전월비\n",
      "Unnamed: 25     2015년 전년말비\n",
      "Unnamed: 26    2015년 전년동월비\n",
      "Name: 0, dtype: object\n"
     ]
    }
   ],
   "source": [
    "# 다음과 같이 불규칙적인 실무데이터는 규칙적 판다스 튜토리얼에는 없다\n",
    "# 경험에서 나오는 전처리 코드는 아주 요긴하게 쓰인다\n",
    "# 다음에도 조금만 바꿔 사용할 수 있게  정리해보라\n",
    "\n",
    "# 컬럼을 새로 만들어 주기 위해 0번째와 1번째 행을 합쳐준다.\n",
    "for i, y in enumerate(year):\n",
    "    if i == 1:\n",
    "        # year[0]= '구분', year[1]='시군구'\n",
    "        year[i] = '시군구'\n",
    "    if i == 2 :\n",
    "        # year[2] = 2013년    \n",
    "        year[i] = ' '.join([year[i], month[i]])\n",
    "        \n",
    "    if i > 2 and i < 15:\n",
    "        year[i] = ' '.join(['2014년', month[i]])\n",
    "    if i >= 15:\n",
    "        year[i] = ' '.join(['2015년', month[i]])\n",
    "        \n",
    "print(year)"
   ]
  },
  {
   "cell_type": "code",
   "execution_count": 72,
   "metadata": {},
   "outputs": [],
   "source": [
    "df.columns = year"
   ]
  },
  {
   "cell_type": "code",
   "execution_count": 73,
   "metadata": {},
   "outputs": [
    {
     "data": {
      "text/html": [
       "<div>\n",
       "<style scoped>\n",
       "    .dataframe tbody tr th:only-of-type {\n",
       "        vertical-align: middle;\n",
       "    }\n",
       "\n",
       "    .dataframe tbody tr th {\n",
       "        vertical-align: top;\n",
       "    }\n",
       "\n",
       "    .dataframe thead th {\n",
       "        text-align: right;\n",
       "    }\n",
       "</style>\n",
       "<table border=\"1\" class=\"dataframe\">\n",
       "  <thead>\n",
       "    <tr style=\"text-align: right;\">\n",
       "      <th></th>\n",
       "      <th>구분</th>\n",
       "      <th>시군구</th>\n",
       "      <th>2013년 12월</th>\n",
       "      <th>2014년 1월</th>\n",
       "      <th>2014년 2월</th>\n",
       "      <th>2014년 3월</th>\n",
       "      <th>2014년 4월</th>\n",
       "      <th>2014년 5월</th>\n",
       "      <th>2014년 6월</th>\n",
       "      <th>2014년 7월</th>\n",
       "      <th>...</th>\n",
       "      <th>2015년 3월</th>\n",
       "      <th>2015년 4월</th>\n",
       "      <th>2015년 5월</th>\n",
       "      <th>2015년 6월</th>\n",
       "      <th>2015년 7월</th>\n",
       "      <th>2015년 8월</th>\n",
       "      <th>2015년 9월</th>\n",
       "      <th>2015년 전월비</th>\n",
       "      <th>2015년 전년말비</th>\n",
       "      <th>2015년 전년동월비</th>\n",
       "    </tr>\n",
       "  </thead>\n",
       "  <tbody>\n",
       "    <tr>\n",
       "      <th>2</th>\n",
       "      <td>전국</td>\n",
       "      <td>NaN</td>\n",
       "      <td>8,059</td>\n",
       "      <td>8,130</td>\n",
       "      <td>8,195</td>\n",
       "      <td>8,204</td>\n",
       "      <td>8,289</td>\n",
       "      <td>8,358</td>\n",
       "      <td>8,344</td>\n",
       "      <td>8,333</td>\n",
       "      <td>...</td>\n",
       "      <td>8,563</td>\n",
       "      <td>8,613</td>\n",
       "      <td>8,624</td>\n",
       "      <td>8,627</td>\n",
       "      <td>8,643</td>\n",
       "      <td>8,678</td>\n",
       "      <td>8,665</td>\n",
       "      <td>-13</td>\n",
       "      <td>82</td>\n",
       "      <td>207</td>\n",
       "    </tr>\n",
       "    <tr>\n",
       "      <th>3</th>\n",
       "      <td>서울</td>\n",
       "      <td>NaN</td>\n",
       "      <td>18,189</td>\n",
       "      <td>17,925</td>\n",
       "      <td>17,925</td>\n",
       "      <td>18,016</td>\n",
       "      <td>18,098</td>\n",
       "      <td>19,446</td>\n",
       "      <td>18,867</td>\n",
       "      <td>18,742</td>\n",
       "      <td>...</td>\n",
       "      <td>19,415</td>\n",
       "      <td>18,842</td>\n",
       "      <td>18,367</td>\n",
       "      <td>18,374</td>\n",
       "      <td>18,152</td>\n",
       "      <td>18,443</td>\n",
       "      <td>17,969</td>\n",
       "      <td>-474</td>\n",
       "      <td>-2,300</td>\n",
       "      <td>-1,434</td>\n",
       "    </tr>\n",
       "    <tr>\n",
       "      <th>4</th>\n",
       "      <td>6대광역시</td>\n",
       "      <td>부산</td>\n",
       "      <td>8,111</td>\n",
       "      <td>8,111</td>\n",
       "      <td>9,078</td>\n",
       "      <td>8,965</td>\n",
       "      <td>9,402</td>\n",
       "      <td>9,501</td>\n",
       "      <td>9,453</td>\n",
       "      <td>9,457</td>\n",
       "      <td>...</td>\n",
       "      <td>9,279</td>\n",
       "      <td>9,327</td>\n",
       "      <td>9,345</td>\n",
       "      <td>9,515</td>\n",
       "      <td>9,559</td>\n",
       "      <td>9,581</td>\n",
       "      <td>9,608</td>\n",
       "      <td>1</td>\n",
       "      <td>430</td>\n",
       "      <td>477</td>\n",
       "    </tr>\n",
       "    <tr>\n",
       "      <th>5</th>\n",
       "      <td>NaN</td>\n",
       "      <td>대구</td>\n",
       "      <td>8,080</td>\n",
       "      <td>8,080</td>\n",
       "      <td>8,077</td>\n",
       "      <td>8,101</td>\n",
       "      <td>8,267</td>\n",
       "      <td>8,274</td>\n",
       "      <td>8,360</td>\n",
       "      <td>8,360</td>\n",
       "      <td>...</td>\n",
       "      <td>8,441</td>\n",
       "      <td>8,446</td>\n",
       "      <td>8,568</td>\n",
       "      <td>8,542</td>\n",
       "      <td>8,542</td>\n",
       "      <td>8,795</td>\n",
       "      <td>8,863</td>\n",
       "      <td>27</td>\n",
       "      <td>400</td>\n",
       "      <td>350</td>\n",
       "    </tr>\n",
       "    <tr>\n",
       "      <th>6</th>\n",
       "      <td>NaN</td>\n",
       "      <td>인천</td>\n",
       "      <td>10,204</td>\n",
       "      <td>10,204</td>\n",
       "      <td>10,408</td>\n",
       "      <td>10,408</td>\n",
       "      <td>10,000</td>\n",
       "      <td>9,844</td>\n",
       "      <td>10,058</td>\n",
       "      <td>9,974</td>\n",
       "      <td>...</td>\n",
       "      <td>9,876</td>\n",
       "      <td>9,938</td>\n",
       "      <td>10,551</td>\n",
       "      <td>10,443</td>\n",
       "      <td>10,443</td>\n",
       "      <td>10,449</td>\n",
       "      <td>10,450</td>\n",
       "      <td>-162</td>\n",
       "      <td>-150</td>\n",
       "      <td>-131</td>\n",
       "    </tr>\n",
       "  </tbody>\n",
       "</table>\n",
       "<p>5 rows × 27 columns</p>\n",
       "</div>"
      ],
      "text/plain": [
       "0     구분  시군구 2013년 12월 2014년 1월 2014년 2월 2014년 3월 2014년 4월 2014년 5월 2014년 6월  \\\n",
       "2     전국  NaN     8,059    8,130    8,195    8,204    8,289    8,358    8,344   \n",
       "3     서울  NaN    18,189   17,925   17,925   18,016   18,098   19,446   18,867   \n",
       "4  6대광역시   부산     8,111    8,111    9,078    8,965    9,402    9,501    9,453   \n",
       "5    NaN   대구     8,080    8,080    8,077    8,101    8,267    8,274    8,360   \n",
       "6    NaN   인천    10,204   10,204   10,408   10,408   10,000    9,844   10,058   \n",
       "\n",
       "0 2014년 7월  ... 2015년 3월 2015년 4월 2015년 5월 2015년 6월 2015년 7월 2015년 8월  \\\n",
       "2    8,333  ...    8,563    8,613    8,624    8,627    8,643    8,678   \n",
       "3   18,742  ...   19,415   18,842   18,367   18,374   18,152   18,443   \n",
       "4    9,457  ...    9,279    9,327    9,345    9,515    9,559    9,581   \n",
       "5    8,360  ...    8,441    8,446    8,568    8,542    8,542    8,795   \n",
       "6    9,974  ...    9,876    9,938   10,551   10,443   10,443   10,449   \n",
       "\n",
       "0 2015년 9월 2015년 전월비 2015년 전년말비 2015년 전년동월비  \n",
       "2    8,665      -13         82         207   \n",
       "3   17,969     -474     -2,300      -1,434   \n",
       "4    9,608        1        430         477   \n",
       "5    8,863       27        400         350   \n",
       "6   10,450     -162       -150        -131   \n",
       "\n",
       "[5 rows x 27 columns]"
      ]
     },
     "execution_count": 73,
     "metadata": {},
     "output_type": "execute_result"
    }
   ],
   "source": [
    "df = df.drop(df.index[[0, 1]])\n",
    "df.head()"
   ]
  },
  {
   "cell_type": "code",
   "execution_count": 74,
   "metadata": {},
   "outputs": [
    {
     "data": {
      "text/plain": [
       "Index(['지역명', '규모구분', '연도', '월', '분양가격(㎡)', '분양가격', '평당분양가격'], dtype='object')"
      ]
     },
     "execution_count": 74,
     "metadata": {},
     "output_type": "execute_result"
    }
   ],
   "source": [
    "#최근 데이터의 컬럼으로 기존 데이터 프레임과 합치기 위해 컬럼명을 봅니다\n",
    "pre_sale.columns"
   ]
  },
  {
   "cell_type": "code",
   "execution_count": 75,
   "metadata": {},
   "outputs": [],
   "source": [
    "# 지역 컬럼을 새로 만들어 시도와 시군구를 합쳐줍니다.\n",
    "# 결측치를 빈문자로 채웁니다.\n",
    "# df.fillna(method='ffill')\n",
    "\n",
    "df['구분'] = df['구분'].fillna('')\n",
    "df['시군구'] = df['시군구'].fillna('')"
   ]
  },
  {
   "cell_type": "code",
   "execution_count": 76,
   "metadata": {},
   "outputs": [],
   "source": [
    "df['지역'] = df['구분'] + df['시군구']"
   ]
  },
  {
   "cell_type": "code",
   "execution_count": 77,
   "metadata": {},
   "outputs": [
    {
     "data": {
      "text/plain": [
       "2          전국\n",
       "3          서울\n",
       "4     6대광역시부산\n",
       "5          대구\n",
       "6          인천\n",
       "7          광주\n",
       "8          대전\n",
       "9          울산\n",
       "10           \n",
       "11         경기\n",
       "12        수도권\n",
       "13         세종\n",
       "14       지방강원\n",
       "15         충북\n",
       "16         충남\n",
       "17         전북\n",
       "18         전남\n",
       "19         경북\n",
       "20         경남\n",
       "21         제주\n",
       "22           \n",
       "Name: 지역, dtype: object"
      ]
     },
     "execution_count": 77,
     "metadata": {},
     "output_type": "execute_result"
    }
   ],
   "source": [
    "df['지역']"
   ]
  },
  {
   "cell_type": "code",
   "execution_count": 78,
   "metadata": {},
   "outputs": [
    {
     "data": {
      "text/plain": [
       "Index(['구분', '시군구', '2013년 12월', '2014년 1월', '2014년 2월', '2014년 3월',\n",
       "       '2014년 4월', '2014년 5월', '2014년 6월', '2014년 7월', '2014년 8월', '2014년 9월',\n",
       "       '2014년 10월', '2014년 11월', '2014년 12월', '2015년 1월', '2015년 2월',\n",
       "       '2015년 3월', '2015년 4월', '2015년 5월', '2015년 6월', '2015년 7월', '2015년 8월',\n",
       "       '2015년 9월', '2015년 전월비', '2015년 전년말비', '2015년 전년동월비', '지역'],\n",
       "      dtype='object', name=0)"
      ]
     },
     "execution_count": 78,
     "metadata": {},
     "output_type": "execute_result"
    }
   ],
   "source": [
    "melt_columns = df.columns.copy()\n",
    "melt_columns\n"
   ]
  },
  {
   "cell_type": "code",
   "execution_count": 79,
   "metadata": {},
   "outputs": [
    {
     "data": {
      "text/html": [
       "<div>\n",
       "<style scoped>\n",
       "    .dataframe tbody tr th:only-of-type {\n",
       "        vertical-align: middle;\n",
       "    }\n",
       "\n",
       "    .dataframe tbody tr th {\n",
       "        vertical-align: top;\n",
       "    }\n",
       "\n",
       "    .dataframe thead th {\n",
       "        text-align: right;\n",
       "    }\n",
       "</style>\n",
       "<table border=\"1\" class=\"dataframe\">\n",
       "  <thead>\n",
       "    <tr style=\"text-align: right;\">\n",
       "      <th></th>\n",
       "      <th>지역명</th>\n",
       "      <th>규모구분</th>\n",
       "      <th>연도</th>\n",
       "      <th>월</th>\n",
       "      <th>분양가격(㎡)</th>\n",
       "      <th>분양가격</th>\n",
       "      <th>평당분양가격</th>\n",
       "    </tr>\n",
       "  </thead>\n",
       "  <tbody>\n",
       "    <tr>\n",
       "      <th>627</th>\n",
       "      <td>대전</td>\n",
       "      <td>전용면적 60㎡초과 85㎡이하</td>\n",
       "      <td>2016</td>\n",
       "      <td>5</td>\n",
       "      <td>2427</td>\n",
       "      <td>2,427</td>\n",
       "      <td>8,009</td>\n",
       "    </tr>\n",
       "    <tr>\n",
       "      <th>1237</th>\n",
       "      <td>강원</td>\n",
       "      <td>전용면적 60㎡초과 85㎡이하</td>\n",
       "      <td>2016</td>\n",
       "      <td>12</td>\n",
       "      <td>2085</td>\n",
       "      <td>2,085</td>\n",
       "      <td>6,880</td>\n",
       "    </tr>\n",
       "    <tr>\n",
       "      <th>946</th>\n",
       "      <td>경기</td>\n",
       "      <td>전용면적 60㎡이하</td>\n",
       "      <td>2016</td>\n",
       "      <td>9</td>\n",
       "      <td>3444</td>\n",
       "      <td>3,444</td>\n",
       "      <td>11,365</td>\n",
       "    </tr>\n",
       "  </tbody>\n",
       "</table>\n",
       "</div>"
      ],
      "text/plain": [
       "     지역명              규모구분    연도   월 분양가격(㎡)  분양가격  평당분양가격\n",
       "627   대전  전용면적 60㎡초과 85㎡이하  2016   5    2427 2,427   8,009\n",
       "1237  강원  전용면적 60㎡초과 85㎡이하  2016  12    2085 2,085   6,880\n",
       "946   경기        전용면적 60㎡이하  2016   9    3444 3,444  11,365"
      ]
     },
     "execution_count": 79,
     "metadata": {},
     "output_type": "execute_result"
    }
   ],
   "source": [
    "pre_sale.sample(3)"
   ]
  },
  {
   "cell_type": "code",
   "execution_count": 80,
   "metadata": {},
   "outputs": [
    {
     "data": {
      "text/html": [
       "<div>\n",
       "<style scoped>\n",
       "    .dataframe tbody tr th:only-of-type {\n",
       "        vertical-align: middle;\n",
       "    }\n",
       "\n",
       "    .dataframe tbody tr th {\n",
       "        vertical-align: top;\n",
       "    }\n",
       "\n",
       "    .dataframe thead th {\n",
       "        text-align: right;\n",
       "    }\n",
       "</style>\n",
       "<table border=\"1\" class=\"dataframe\">\n",
       "  <thead>\n",
       "    <tr style=\"text-align: right;\">\n",
       "      <th></th>\n",
       "      <th>지역</th>\n",
       "      <th>0</th>\n",
       "      <th>value</th>\n",
       "    </tr>\n",
       "  </thead>\n",
       "  <tbody>\n",
       "    <tr>\n",
       "      <th>0</th>\n",
       "      <td>전국</td>\n",
       "      <td>2013년 12월</td>\n",
       "      <td>8,059</td>\n",
       "    </tr>\n",
       "    <tr>\n",
       "      <th>1</th>\n",
       "      <td>서울</td>\n",
       "      <td>2013년 12월</td>\n",
       "      <td>18,189</td>\n",
       "    </tr>\n",
       "    <tr>\n",
       "      <th>2</th>\n",
       "      <td>6대광역시부산</td>\n",
       "      <td>2013년 12월</td>\n",
       "      <td>8,111</td>\n",
       "    </tr>\n",
       "    <tr>\n",
       "      <th>3</th>\n",
       "      <td>대구</td>\n",
       "      <td>2013년 12월</td>\n",
       "      <td>8,080</td>\n",
       "    </tr>\n",
       "    <tr>\n",
       "      <th>4</th>\n",
       "      <td>인천</td>\n",
       "      <td>2013년 12월</td>\n",
       "      <td>10,204</td>\n",
       "    </tr>\n",
       "  </tbody>\n",
       "</table>\n",
       "</div>"
      ],
      "text/plain": [
       "        지역          0   value\n",
       "0       전국  2013년 12월   8,059\n",
       "1       서울  2013년 12월  18,189\n",
       "2  6대광역시부산  2013년 12월   8,111\n",
       "3       대구  2013년 12월   8,080\n",
       "4       인천  2013년 12월  10,204"
      ]
     },
     "execution_count": 80,
     "metadata": {},
     "output_type": "execute_result"
    }
   ],
   "source": [
    "df_2013_2015 = pd.melt(df, id_vars=['지역'], value_vars=['2013년 12월', '2014년 1월', '2014년 2월', '2014년 3월',\n",
    "       '2014년 4월', '2014년 5월', '2014년 6월', '2014년 7월', '2014년 8월',\n",
    "       '2014년 9월', '2014년 10월', '2014년 11월', '2014년 12월', '2015년 1월',\n",
    "       '2015년 2월', '2015년 3월', '2015년 4월', '2015년 5월', '2015년 6월',\n",
    "       '2015년 7월', '2015년 8월', '2015년 9월'])\n",
    "df_2013_2015.head()"
   ]
  },
  {
   "cell_type": "code",
   "execution_count": 81,
   "metadata": {},
   "outputs": [
    {
     "data": {
      "text/plain": [
       "Index(['지역', 0, 'value'], dtype='object')"
      ]
     },
     "execution_count": 81,
     "metadata": {},
     "output_type": "execute_result"
    }
   ],
   "source": [
    "df_2013_2015.columns"
   ]
  },
  {
   "cell_type": "code",
   "execution_count": 82,
   "metadata": {},
   "outputs": [
    {
     "data": {
      "text/plain": [
       "Index(['지역', '기간', '분양가'], dtype='object')"
      ]
     },
     "execution_count": 82,
     "metadata": {},
     "output_type": "execute_result"
    }
   ],
   "source": [
    "df_2013_2015.columns = ['지역', '기간', '분양가']\n",
    "df_2013_2015.columns"
   ]
  },
  {
   "cell_type": "code",
   "execution_count": 83,
   "metadata": {},
   "outputs": [
    {
     "data": {
      "text/plain": [
       "['2013', ' 12월']"
      ]
     },
     "execution_count": 83,
     "metadata": {},
     "output_type": "execute_result"
    }
   ],
   "source": [
    "year_test = ['2013', ' 12월']\n",
    "year_test"
   ]
  },
  {
   "cell_type": "code",
   "execution_count": 84,
   "metadata": {},
   "outputs": [
    {
     "data": {
      "text/plain": [
       "'12'"
      ]
     },
     "execution_count": 84,
     "metadata": {},
     "output_type": "execute_result"
    }
   ],
   "source": [
    "year_test[1].strip().replace('월', '')"
   ]
  },
  {
   "cell_type": "code",
   "execution_count": 85,
   "metadata": {},
   "outputs": [],
   "source": [
    "# 간단하게 표현하기 위해서 lambda 익명함수로 구현했습니다.\n",
    "# year_month에 split '년'을 해서 [0]번째것을 넣겠다\n",
    "df_2013_2015['연도'] = df_2013_2015['기간'].apply(\n",
    "    lambda year_month : year_month.split('년')[0])"
   ]
  },
  {
   "cell_type": "code",
   "execution_count": 86,
   "metadata": {},
   "outputs": [],
   "source": [
    "\n",
    "df_2013_2015['월'] = df_2013_2015['기간'].apply(\n",
    "    lambda year_month : re.sub('월', '', year_month.split('년')[1]).strip())"
   ]
  },
  {
   "cell_type": "code",
   "execution_count": 87,
   "metadata": {},
   "outputs": [
    {
     "data": {
      "text/html": [
       "<div>\n",
       "<style scoped>\n",
       "    .dataframe tbody tr th:only-of-type {\n",
       "        vertical-align: middle;\n",
       "    }\n",
       "\n",
       "    .dataframe tbody tr th {\n",
       "        vertical-align: top;\n",
       "    }\n",
       "\n",
       "    .dataframe thead th {\n",
       "        text-align: right;\n",
       "    }\n",
       "</style>\n",
       "<table border=\"1\" class=\"dataframe\">\n",
       "  <thead>\n",
       "    <tr style=\"text-align: right;\">\n",
       "      <th></th>\n",
       "      <th>지역</th>\n",
       "      <th>기간</th>\n",
       "      <th>분양가</th>\n",
       "      <th>연도</th>\n",
       "      <th>월</th>\n",
       "    </tr>\n",
       "  </thead>\n",
       "  <tbody>\n",
       "    <tr>\n",
       "      <th>0</th>\n",
       "      <td>전국</td>\n",
       "      <td>2013년 12월</td>\n",
       "      <td>8,059</td>\n",
       "      <td>2013</td>\n",
       "      <td>12</td>\n",
       "    </tr>\n",
       "    <tr>\n",
       "      <th>1</th>\n",
       "      <td>서울</td>\n",
       "      <td>2013년 12월</td>\n",
       "      <td>18,189</td>\n",
       "      <td>2013</td>\n",
       "      <td>12</td>\n",
       "    </tr>\n",
       "    <tr>\n",
       "      <th>2</th>\n",
       "      <td>6대광역시부산</td>\n",
       "      <td>2013년 12월</td>\n",
       "      <td>8,111</td>\n",
       "      <td>2013</td>\n",
       "      <td>12</td>\n",
       "    </tr>\n",
       "    <tr>\n",
       "      <th>3</th>\n",
       "      <td>대구</td>\n",
       "      <td>2013년 12월</td>\n",
       "      <td>8,080</td>\n",
       "      <td>2013</td>\n",
       "      <td>12</td>\n",
       "    </tr>\n",
       "    <tr>\n",
       "      <th>4</th>\n",
       "      <td>인천</td>\n",
       "      <td>2013년 12월</td>\n",
       "      <td>10,204</td>\n",
       "      <td>2013</td>\n",
       "      <td>12</td>\n",
       "    </tr>\n",
       "  </tbody>\n",
       "</table>\n",
       "</div>"
      ],
      "text/plain": [
       "        지역         기간     분양가    연도   월\n",
       "0       전국  2013년 12월   8,059  2013  12\n",
       "1       서울  2013년 12월  18,189  2013  12\n",
       "2  6대광역시부산  2013년 12월   8,111  2013  12\n",
       "3       대구  2013년 12월   8,080  2013  12\n",
       "4       인천  2013년 12월  10,204  2013  12"
      ]
     },
     "execution_count": 87,
     "metadata": {},
     "output_type": "execute_result"
    }
   ],
   "source": [
    "df_2013_2015.head()"
   ]
  },
  {
   "cell_type": "code",
   "execution_count": 88,
   "metadata": {},
   "outputs": [],
   "source": [
    "# 익명함수가 익숙하지 않다면 아래의 방법대로 함수를 직접 구현하셔서 apply로 적용하는 방법도 있습니다.\n",
    "def get_year(year_month):\n",
    "    year = year_month.split('년')[0]\n",
    "    return year\n",
    "\n",
    "def get_month(year_month):\n",
    "    month = re.sub('월', '', year_month.split('년')[1]).strip()\n",
    "    return month"
   ]
  },
  {
   "cell_type": "code",
   "execution_count": 89,
   "metadata": {},
   "outputs": [],
   "source": [
    "df_2013_2015['연도'] = df_2013_2015['기간'].apply(get_year)\n",
    "df_2013_2015['월'] = df_2013_2015['기간'].apply(get_month)"
   ]
  },
  {
   "cell_type": "code",
   "execution_count": 90,
   "metadata": {},
   "outputs": [
    {
     "data": {
      "text/html": [
       "<div>\n",
       "<style scoped>\n",
       "    .dataframe tbody tr th:only-of-type {\n",
       "        vertical-align: middle;\n",
       "    }\n",
       "\n",
       "    .dataframe tbody tr th {\n",
       "        vertical-align: top;\n",
       "    }\n",
       "\n",
       "    .dataframe thead th {\n",
       "        text-align: right;\n",
       "    }\n",
       "</style>\n",
       "<table border=\"1\" class=\"dataframe\">\n",
       "  <thead>\n",
       "    <tr style=\"text-align: right;\">\n",
       "      <th></th>\n",
       "      <th>지역</th>\n",
       "      <th>기간</th>\n",
       "      <th>분양가</th>\n",
       "      <th>연도</th>\n",
       "      <th>월</th>\n",
       "    </tr>\n",
       "  </thead>\n",
       "  <tbody>\n",
       "    <tr>\n",
       "      <th>0</th>\n",
       "      <td>전국</td>\n",
       "      <td>2013년 12월</td>\n",
       "      <td>8,059</td>\n",
       "      <td>2013</td>\n",
       "      <td>12</td>\n",
       "    </tr>\n",
       "    <tr>\n",
       "      <th>1</th>\n",
       "      <td>서울</td>\n",
       "      <td>2013년 12월</td>\n",
       "      <td>18,189</td>\n",
       "      <td>2013</td>\n",
       "      <td>12</td>\n",
       "    </tr>\n",
       "    <tr>\n",
       "      <th>2</th>\n",
       "      <td>6대광역시부산</td>\n",
       "      <td>2013년 12월</td>\n",
       "      <td>8,111</td>\n",
       "      <td>2013</td>\n",
       "      <td>12</td>\n",
       "    </tr>\n",
       "    <tr>\n",
       "      <th>3</th>\n",
       "      <td>대구</td>\n",
       "      <td>2013년 12월</td>\n",
       "      <td>8,080</td>\n",
       "      <td>2013</td>\n",
       "      <td>12</td>\n",
       "    </tr>\n",
       "    <tr>\n",
       "      <th>4</th>\n",
       "      <td>인천</td>\n",
       "      <td>2013년 12월</td>\n",
       "      <td>10,204</td>\n",
       "      <td>2013</td>\n",
       "      <td>12</td>\n",
       "    </tr>\n",
       "  </tbody>\n",
       "</table>\n",
       "</div>"
      ],
      "text/plain": [
       "        지역         기간     분양가    연도   월\n",
       "0       전국  2013년 12월   8,059  2013  12\n",
       "1       서울  2013년 12월  18,189  2013  12\n",
       "2  6대광역시부산  2013년 12월   8,111  2013  12\n",
       "3       대구  2013년 12월   8,080  2013  12\n",
       "4       인천  2013년 12월  10,204  2013  12"
      ]
     },
     "execution_count": 90,
     "metadata": {},
     "output_type": "execute_result"
    }
   ],
   "source": [
    "df_2013_2015.head()"
   ]
  },
  {
   "cell_type": "markdown",
   "metadata": {},
   "source": [
    "## 지역명 강원과 부산 정리"
   ]
  },
  {
   "cell_type": "code",
   "execution_count": 91,
   "metadata": {},
   "outputs": [
    {
     "data": {
      "text/plain": [
       "           44\n",
       "충북         22\n",
       "광주         22\n",
       "전남         22\n",
       "세종         22\n",
       "수도권        22\n",
       "지방강원       22\n",
       "경기         22\n",
       "서울         22\n",
       "제주         22\n",
       "인천         22\n",
       "경북         22\n",
       "대구         22\n",
       "전국         22\n",
       "울산         22\n",
       "6대광역시부산    22\n",
       "경남         22\n",
       "충남         22\n",
       "대전         22\n",
       "전북         22\n",
       "Name: 지역, dtype: int64"
      ]
     },
     "execution_count": 91,
     "metadata": {},
     "output_type": "execute_result"
    }
   ],
   "source": [
    "df_2013_2015['지역'].value_counts()"
   ]
  },
  {
   "cell_type": "code",
   "execution_count": 92,
   "metadata": {},
   "outputs": [
    {
     "data": {
      "text/plain": [
       "       44\n",
       "충북     22\n",
       "광주     22\n",
       "전남     22\n",
       "세종     22\n",
       "수도권    22\n",
       "부산     22\n",
       "서울     22\n",
       "제주     22\n",
       "전북     22\n",
       "인천     22\n",
       "경기     22\n",
       "대구     22\n",
       "전국     22\n",
       "울산     22\n",
       "경남     22\n",
       "충남     22\n",
       "대전     22\n",
       "강원     22\n",
       "경북     22\n",
       "Name: 지역, dtype: int64"
      ]
     },
     "execution_count": 92,
     "metadata": {},
     "output_type": "execute_result"
    }
   ],
   "source": [
    "# lambda 익명함수를 이용해서 정규표현식으로 문자열을 바꿔주는 방법이 있습니다.\n",
    "# 하지만 좀 더 간단한 아래의 방법을 사용해 보겠습니다.\n",
    "# df_2013_2015['지역'] = df_2013_2015['지역'].apply(lambda x: re.sub('6대광역시부산','부산', x))\n",
    "# df_2013_2015['지역'] = df_2013_2015['지역'].apply(lambda x: re.sub('지방강원','강원', x))\n",
    "\n",
    "# 위와 같이 정규표현식의 기능을 활용할 수도 있으나 좀 더 간단한 replace를 사용합니다.\n",
    "df_2013_2015['지역'] = df_2013_2015['지역'].replace('6대광역시부산','부산')\n",
    "df_2013_2015['지역'] = df_2013_2015['지역'].replace('지방강원','강원')\n",
    "\n",
    "# 그룹화하여 카운트 합니다.\n",
    "df_2013_2015['지역'].value_counts()"
   ]
  },
  {
   "cell_type": "code",
   "execution_count": 93,
   "metadata": {},
   "outputs": [
    {
     "data": {
      "text/html": [
       "<div>\n",
       "<style scoped>\n",
       "    .dataframe tbody tr th:only-of-type {\n",
       "        vertical-align: middle;\n",
       "    }\n",
       "\n",
       "    .dataframe tbody tr th {\n",
       "        vertical-align: top;\n",
       "    }\n",
       "\n",
       "    .dataframe thead th {\n",
       "        text-align: right;\n",
       "    }\n",
       "</style>\n",
       "<table border=\"1\" class=\"dataframe\">\n",
       "  <thead>\n",
       "    <tr style=\"text-align: right;\">\n",
       "      <th></th>\n",
       "      <th>지역</th>\n",
       "      <th>기간</th>\n",
       "      <th>분양가</th>\n",
       "      <th>연도</th>\n",
       "      <th>월</th>\n",
       "    </tr>\n",
       "  </thead>\n",
       "  <tbody>\n",
       "    <tr>\n",
       "      <th>count</th>\n",
       "      <td>462</td>\n",
       "      <td>462</td>\n",
       "      <td>462</td>\n",
       "      <td>462</td>\n",
       "      <td>462</td>\n",
       "    </tr>\n",
       "    <tr>\n",
       "      <th>unique</th>\n",
       "      <td>20</td>\n",
       "      <td>22</td>\n",
       "      <td>371</td>\n",
       "      <td>3</td>\n",
       "      <td>12</td>\n",
       "    </tr>\n",
       "    <tr>\n",
       "      <th>top</th>\n",
       "      <td></td>\n",
       "      <td>2014년 9월</td>\n",
       "      <td>8,067</td>\n",
       "      <td>2014</td>\n",
       "      <td>3</td>\n",
       "    </tr>\n",
       "    <tr>\n",
       "      <th>freq</th>\n",
       "      <td>44</td>\n",
       "      <td>21</td>\n",
       "      <td>7</td>\n",
       "      <td>252</td>\n",
       "      <td>42</td>\n",
       "    </tr>\n",
       "  </tbody>\n",
       "</table>\n",
       "</div>"
      ],
      "text/plain": [
       "         지역        기간    분양가    연도    월\n",
       "count   462       462    462   462  462\n",
       "unique   20        22    371     3   12\n",
       "top          2014년 9월  8,067  2014    3\n",
       "freq     44        21      7   252   42"
      ]
     },
     "execution_count": 93,
     "metadata": {},
     "output_type": "execute_result"
    }
   ],
   "source": [
    "df_2013_2015.describe()"
   ]
  },
  {
   "cell_type": "code",
   "execution_count": 94,
   "metadata": {},
   "outputs": [
    {
     "name": "stdout",
     "output_type": "stream",
     "text": [
      "<class 'pandas.core.frame.DataFrame'>\n",
      "RangeIndex: 462 entries, 0 to 461\n",
      "Data columns (total 5 columns):\n",
      "지역     462 non-null object\n",
      "기간     462 non-null object\n",
      "분양가    462 non-null object\n",
      "연도     462 non-null object\n",
      "월      462 non-null object\n",
      "dtypes: object(5)\n",
      "memory usage: 18.2+ KB\n"
     ]
    }
   ],
   "source": [
    "df_2013_2015.info()"
   ]
  },
  {
   "cell_type": "code",
   "execution_count": 95,
   "metadata": {},
   "outputs": [],
   "source": [
    "# 분양가에 있는 , 를 제거합니다.\n",
    "df_2013_2015['분양가격'] = df_2013_2015['분양가'].str.replace(',', '').astype(int)"
   ]
  },
  {
   "cell_type": "code",
   "execution_count": 96,
   "metadata": {},
   "outputs": [
    {
     "data": {
      "text/plain": [
       "count       462\n",
       "unique      371\n",
       "top       8,067\n",
       "freq          7\n",
       "Name: 분양가, dtype: object"
      ]
     },
     "execution_count": 96,
     "metadata": {},
     "output_type": "execute_result"
    }
   ],
   "source": [
    "df_2013_2015['분양가'].describe()"
   ]
  },
  {
   "cell_type": "code",
   "execution_count": 97,
   "metadata": {},
   "outputs": [
    {
     "data": {
      "text/plain": [
       "count      462\n",
       "mean     8,611\n",
       "std      2,868\n",
       "min      5,609\n",
       "25%      6,754\n",
       "50%      8,067\n",
       "75%      8,980\n",
       "max     20,670\n",
       "Name: 분양가격, dtype: float64"
      ]
     },
     "execution_count": 97,
     "metadata": {},
     "output_type": "execute_result"
    }
   ],
   "source": [
    "df_2013_2015['분양가격'].describe()"
   ]
  },
  {
   "cell_type": "markdown",
   "metadata": {},
   "source": [
    "## 2013년 12월 부터 2015년 9월까지의 데이터 시각화 하기"
   ]
  },
  {
   "cell_type": "code",
   "execution_count": 98,
   "metadata": {},
   "outputs": [],
   "source": [
    "# sns.boxplot?"
   ]
  },
  {
   "cell_type": "code",
   "execution_count": 99,
   "metadata": {},
   "outputs": [
    {
     "data": {
      "text/plain": [
       "(462, 6)"
      ]
     },
     "execution_count": 99,
     "metadata": {},
     "output_type": "execute_result"
    }
   ],
   "source": [
    "df_2013_2015[df_2013_2015.isnull()].shape"
   ]
  },
  {
   "cell_type": "code",
   "execution_count": 100,
   "metadata": {},
   "outputs": [
    {
     "data": {
      "text/plain": [
       "<matplotlib.axes._subplots.AxesSubplot at 0x7f902c321810>"
      ]
     },
     "execution_count": 100,
     "metadata": {},
     "output_type": "execute_result"
    },
    {
     "data": {
      "image/png": "[encoded data removed]",
      "text/plain": [
       "<Figure size 1296x432 with 1 Axes>"
      ]
     },
     "metadata": {},
     "output_type": "display_data"
    }
   ],
   "source": [
    "plt.figure(figsize=(18, 6))\n",
    "sns.boxplot(data=df_2013_2015, x='지역', y='분양가격', hue='연도')"
   ]
  },
  {
   "cell_type": "markdown",
   "metadata": {},
   "source": [
    "## 이제 2013년부터 2018년 7월까지 데이터를 합칠 준비가 됨\n",
    "- df_2013_2015_prepare에 컬럼 담기\n",
    "- df_2015_2018_prepare에 컬럼 담기"
   ]
  },
  {
   "cell_type": "code",
   "execution_count": 101,
   "metadata": {},
   "outputs": [
    {
     "name": "stdout",
     "output_type": "stream",
     "text": [
      "(561, 7)\n"
     ]
    },
    {
     "data": {
      "text/html": [
       "<div>\n",
       "<style scoped>\n",
       "    .dataframe tbody tr th:only-of-type {\n",
       "        vertical-align: middle;\n",
       "    }\n",
       "\n",
       "    .dataframe tbody tr th {\n",
       "        vertical-align: top;\n",
       "    }\n",
       "\n",
       "    .dataframe thead th {\n",
       "        text-align: right;\n",
       "    }\n",
       "</style>\n",
       "<table border=\"1\" class=\"dataframe\">\n",
       "  <thead>\n",
       "    <tr style=\"text-align: right;\">\n",
       "      <th></th>\n",
       "      <th>지역명</th>\n",
       "      <th>규모구분</th>\n",
       "      <th>연도</th>\n",
       "      <th>월</th>\n",
       "      <th>분양가격(㎡)</th>\n",
       "      <th>분양가격</th>\n",
       "      <th>평당분양가격</th>\n",
       "    </tr>\n",
       "  </thead>\n",
       "  <tbody>\n",
       "    <tr>\n",
       "      <th>0</th>\n",
       "      <td>서울</td>\n",
       "      <td>전체</td>\n",
       "      <td>2015</td>\n",
       "      <td>10</td>\n",
       "      <td>5841</td>\n",
       "      <td>5,841</td>\n",
       "      <td>19,275</td>\n",
       "    </tr>\n",
       "    <tr>\n",
       "      <th>5</th>\n",
       "      <td>인천</td>\n",
       "      <td>전체</td>\n",
       "      <td>2015</td>\n",
       "      <td>10</td>\n",
       "      <td>3163</td>\n",
       "      <td>3,163</td>\n",
       "      <td>10,437</td>\n",
       "    </tr>\n",
       "    <tr>\n",
       "      <th>10</th>\n",
       "      <td>경기</td>\n",
       "      <td>전체</td>\n",
       "      <td>2015</td>\n",
       "      <td>10</td>\n",
       "      <td>3138</td>\n",
       "      <td>3,138</td>\n",
       "      <td>10,355</td>\n",
       "    </tr>\n",
       "    <tr>\n",
       "      <th>15</th>\n",
       "      <td>부산</td>\n",
       "      <td>전체</td>\n",
       "      <td>2015</td>\n",
       "      <td>10</td>\n",
       "      <td>3112</td>\n",
       "      <td>3,112</td>\n",
       "      <td>10,269</td>\n",
       "    </tr>\n",
       "    <tr>\n",
       "      <th>20</th>\n",
       "      <td>대구</td>\n",
       "      <td>전체</td>\n",
       "      <td>2015</td>\n",
       "      <td>10</td>\n",
       "      <td>2682</td>\n",
       "      <td>2,682</td>\n",
       "      <td>8,850</td>\n",
       "    </tr>\n",
       "  </tbody>\n",
       "</table>\n",
       "</div>"
      ],
      "text/plain": [
       "   지역명 규모구분    연도   월 분양가격(㎡)  분양가격  평당분양가격\n",
       "0   서울   전체  2015  10    5841 5,841  19,275\n",
       "5   인천   전체  2015  10    3163 3,163  10,437\n",
       "10  경기   전체  2015  10    3138 3,138  10,355\n",
       "15  부산   전체  2015  10    3112 3,112  10,269\n",
       "20  대구   전체  2015  10    2682 2,682   8,850"
      ]
     },
     "execution_count": 101,
     "metadata": {},
     "output_type": "execute_result"
    }
   ],
   "source": [
    "df_2015_2018 = pre_sale.loc[pre_sale['규모구분'] == '전체']\n",
    "print(df_2015_2018.shape)\n",
    "df_2015_2018.head()"
   ]
  },
  {
   "cell_type": "markdown",
   "metadata": {},
   "source": [
    "### df_2013_2015_prepare에 컬럼 담기"
   ]
  },
  {
   "cell_type": "code",
   "execution_count": 102,
   "metadata": {},
   "outputs": [
    {
     "data": {
      "text/plain": [
       "Index(['지역', '기간', '분양가', '연도', '월', '분양가격'], dtype='object')"
      ]
     },
     "execution_count": 102,
     "metadata": {},
     "output_type": "execute_result"
    }
   ],
   "source": [
    "df_2013_2015.columns"
   ]
  },
  {
   "cell_type": "code",
   "execution_count": 103,
   "metadata": {},
   "outputs": [
    {
     "data": {
      "text/html": [
       "<div>\n",
       "<style scoped>\n",
       "    .dataframe tbody tr th:only-of-type {\n",
       "        vertical-align: middle;\n",
       "    }\n",
       "\n",
       "    .dataframe tbody tr th {\n",
       "        vertical-align: top;\n",
       "    }\n",
       "\n",
       "    .dataframe thead th {\n",
       "        text-align: right;\n",
       "    }\n",
       "</style>\n",
       "<table border=\"1\" class=\"dataframe\">\n",
       "  <thead>\n",
       "    <tr style=\"text-align: right;\">\n",
       "      <th></th>\n",
       "      <th>지역</th>\n",
       "      <th>연도</th>\n",
       "      <th>월</th>\n",
       "      <th>분양가격</th>\n",
       "    </tr>\n",
       "  </thead>\n",
       "  <tbody>\n",
       "    <tr>\n",
       "      <th>0</th>\n",
       "      <td>전국</td>\n",
       "      <td>2013</td>\n",
       "      <td>12</td>\n",
       "      <td>8059</td>\n",
       "    </tr>\n",
       "    <tr>\n",
       "      <th>1</th>\n",
       "      <td>서울</td>\n",
       "      <td>2013</td>\n",
       "      <td>12</td>\n",
       "      <td>18189</td>\n",
       "    </tr>\n",
       "    <tr>\n",
       "      <th>2</th>\n",
       "      <td>부산</td>\n",
       "      <td>2013</td>\n",
       "      <td>12</td>\n",
       "      <td>8111</td>\n",
       "    </tr>\n",
       "    <tr>\n",
       "      <th>3</th>\n",
       "      <td>대구</td>\n",
       "      <td>2013</td>\n",
       "      <td>12</td>\n",
       "      <td>8080</td>\n",
       "    </tr>\n",
       "    <tr>\n",
       "      <th>4</th>\n",
       "      <td>인천</td>\n",
       "      <td>2013</td>\n",
       "      <td>12</td>\n",
       "      <td>10204</td>\n",
       "    </tr>\n",
       "  </tbody>\n",
       "</table>\n",
       "</div>"
      ],
      "text/plain": [
       "   지역    연도   월   분양가격\n",
       "0  전국  2013  12   8059\n",
       "1  서울  2013  12  18189\n",
       "2  부산  2013  12   8111\n",
       "3  대구  2013  12   8080\n",
       "4  인천  2013  12  10204"
      ]
     },
     "execution_count": 103,
     "metadata": {},
     "output_type": "execute_result"
    }
   ],
   "source": [
    "df_2013_2015_prepare = df_2013_2015[['지역', '연도', '월', '분양가격']]\n",
    "df_2013_2015_prepare.head()"
   ]
  },
  {
   "cell_type": "code",
   "execution_count": 104,
   "metadata": {},
   "outputs": [],
   "source": [
    "df_2013_2015_prepare.columns = ['지역명', '연도', '월', '평당분양가격']"
   ]
  },
  {
   "cell_type": "markdown",
   "metadata": {},
   "source": [
    "### df_2015_2018_prepare에 컬럼 담기"
   ]
  },
  {
   "cell_type": "code",
   "execution_count": 105,
   "metadata": {},
   "outputs": [
    {
     "data": {
      "text/plain": [
       "Index(['지역명', '규모구분', '연도', '월', '분양가격(㎡)', '분양가격', '평당분양가격'], dtype='object')"
      ]
     },
     "execution_count": 105,
     "metadata": {},
     "output_type": "execute_result"
    }
   ],
   "source": [
    "df_2015_2018.columns"
   ]
  },
  {
   "cell_type": "code",
   "execution_count": 106,
   "metadata": {},
   "outputs": [
    {
     "data": {
      "text/html": [
       "<div>\n",
       "<style scoped>\n",
       "    .dataframe tbody tr th:only-of-type {\n",
       "        vertical-align: middle;\n",
       "    }\n",
       "\n",
       "    .dataframe tbody tr th {\n",
       "        vertical-align: top;\n",
       "    }\n",
       "\n",
       "    .dataframe thead th {\n",
       "        text-align: right;\n",
       "    }\n",
       "</style>\n",
       "<table border=\"1\" class=\"dataframe\">\n",
       "  <thead>\n",
       "    <tr style=\"text-align: right;\">\n",
       "      <th></th>\n",
       "      <th>지역명</th>\n",
       "      <th>연도</th>\n",
       "      <th>월</th>\n",
       "      <th>평당분양가격</th>\n",
       "    </tr>\n",
       "  </thead>\n",
       "  <tbody>\n",
       "    <tr>\n",
       "      <th>0</th>\n",
       "      <td>서울</td>\n",
       "      <td>2015</td>\n",
       "      <td>10</td>\n",
       "      <td>19,275</td>\n",
       "    </tr>\n",
       "    <tr>\n",
       "      <th>5</th>\n",
       "      <td>인천</td>\n",
       "      <td>2015</td>\n",
       "      <td>10</td>\n",
       "      <td>10,437</td>\n",
       "    </tr>\n",
       "    <tr>\n",
       "      <th>10</th>\n",
       "      <td>경기</td>\n",
       "      <td>2015</td>\n",
       "      <td>10</td>\n",
       "      <td>10,355</td>\n",
       "    </tr>\n",
       "    <tr>\n",
       "      <th>15</th>\n",
       "      <td>부산</td>\n",
       "      <td>2015</td>\n",
       "      <td>10</td>\n",
       "      <td>10,269</td>\n",
       "    </tr>\n",
       "    <tr>\n",
       "      <th>20</th>\n",
       "      <td>대구</td>\n",
       "      <td>2015</td>\n",
       "      <td>10</td>\n",
       "      <td>8,850</td>\n",
       "    </tr>\n",
       "  </tbody>\n",
       "</table>\n",
       "</div>"
      ],
      "text/plain": [
       "   지역명    연도   월  평당분양가격\n",
       "0   서울  2015  10  19,275\n",
       "5   인천  2015  10  10,437\n",
       "10  경기  2015  10  10,355\n",
       "15  부산  2015  10  10,269\n",
       "20  대구  2015  10   8,850"
      ]
     },
     "execution_count": 106,
     "metadata": {},
     "output_type": "execute_result"
    }
   ],
   "source": [
    "df_2015_2018_prepare = df_2015_2018[['지역명', '연도', '월', '평당분양가격']]\n",
    "df_2015_2018_prepare.head()"
   ]
  },
  {
   "cell_type": "code",
   "execution_count": 107,
   "metadata": {},
   "outputs": [
    {
     "data": {
      "text/html": [
       "<div>\n",
       "<style scoped>\n",
       "    .dataframe tbody tr th:only-of-type {\n",
       "        vertical-align: middle;\n",
       "    }\n",
       "\n",
       "    .dataframe tbody tr th {\n",
       "        vertical-align: top;\n",
       "    }\n",
       "\n",
       "    .dataframe thead th {\n",
       "        text-align: right;\n",
       "    }\n",
       "</style>\n",
       "<table border=\"1\" class=\"dataframe\">\n",
       "  <thead>\n",
       "    <tr style=\"text-align: right;\">\n",
       "      <th></th>\n",
       "      <th>평당분양가격</th>\n",
       "    </tr>\n",
       "  </thead>\n",
       "  <tbody>\n",
       "    <tr>\n",
       "      <th>count</th>\n",
       "      <td>544</td>\n",
       "    </tr>\n",
       "    <tr>\n",
       "      <th>mean</th>\n",
       "      <td>9,702</td>\n",
       "    </tr>\n",
       "    <tr>\n",
       "      <th>std</th>\n",
       "      <td>3,361</td>\n",
       "    </tr>\n",
       "    <tr>\n",
       "      <th>min</th>\n",
       "      <td>6,299</td>\n",
       "    </tr>\n",
       "    <tr>\n",
       "      <th>25%</th>\n",
       "      <td>7,484</td>\n",
       "    </tr>\n",
       "    <tr>\n",
       "      <th>50%</th>\n",
       "      <td>8,928</td>\n",
       "    </tr>\n",
       "    <tr>\n",
       "      <th>75%</th>\n",
       "      <td>10,554</td>\n",
       "    </tr>\n",
       "    <tr>\n",
       "      <th>max</th>\n",
       "      <td>22,832</td>\n",
       "    </tr>\n",
       "  </tbody>\n",
       "</table>\n",
       "</div>"
      ],
      "text/plain": [
       "       평당분양가격\n",
       "count     544\n",
       "mean    9,702\n",
       "std     3,361\n",
       "min     6,299\n",
       "25%     7,484\n",
       "50%     8,928\n",
       "75%    10,554\n",
       "max    22,832"
      ]
     },
     "execution_count": 107,
     "metadata": {},
     "output_type": "execute_result"
    }
   ],
   "source": [
    "df_2015_2018_prepare.describe()"
   ]
  },
  {
   "cell_type": "markdown",
   "metadata": {},
   "source": [
    "### 담은 것 각각을 concat해서 2013~2018로 모으기"
   ]
  },
  {
   "cell_type": "code",
   "execution_count": 124,
   "metadata": {},
   "outputs": [
    {
     "data": {
      "text/plain": [
       "(1023, 4)"
      ]
     },
     "execution_count": 124,
     "metadata": {},
     "output_type": "execute_result"
    }
   ],
   "source": [
    "df_2013_2018 = pd.concat([df_2013_2015_prepare, df_2015_2018_prepare])\n",
    "df_2013_2018.shape"
   ]
  },
  {
   "cell_type": "code",
   "execution_count": 125,
   "metadata": {},
   "outputs": [
    {
     "data": {
      "text/html": [
       "<div>\n",
       "<style scoped>\n",
       "    .dataframe tbody tr th:only-of-type {\n",
       "        vertical-align: middle;\n",
       "    }\n",
       "\n",
       "    .dataframe tbody tr th {\n",
       "        vertical-align: top;\n",
       "    }\n",
       "\n",
       "    .dataframe thead th {\n",
       "        text-align: right;\n",
       "    }\n",
       "</style>\n",
       "<table border=\"1\" class=\"dataframe\">\n",
       "  <thead>\n",
       "    <tr style=\"text-align: right;\">\n",
       "      <th></th>\n",
       "      <th>지역명</th>\n",
       "      <th>연도</th>\n",
       "      <th>월</th>\n",
       "      <th>평당분양가격</th>\n",
       "    </tr>\n",
       "  </thead>\n",
       "  <tbody>\n",
       "    <tr>\n",
       "      <th>0</th>\n",
       "      <td>전국</td>\n",
       "      <td>2013</td>\n",
       "      <td>12</td>\n",
       "      <td>8,059</td>\n",
       "    </tr>\n",
       "    <tr>\n",
       "      <th>1</th>\n",
       "      <td>서울</td>\n",
       "      <td>2013</td>\n",
       "      <td>12</td>\n",
       "      <td>18,189</td>\n",
       "    </tr>\n",
       "    <tr>\n",
       "      <th>2</th>\n",
       "      <td>부산</td>\n",
       "      <td>2013</td>\n",
       "      <td>12</td>\n",
       "      <td>8,111</td>\n",
       "    </tr>\n",
       "    <tr>\n",
       "      <th>3</th>\n",
       "      <td>대구</td>\n",
       "      <td>2013</td>\n",
       "      <td>12</td>\n",
       "      <td>8,080</td>\n",
       "    </tr>\n",
       "    <tr>\n",
       "      <th>4</th>\n",
       "      <td>인천</td>\n",
       "      <td>2013</td>\n",
       "      <td>12</td>\n",
       "      <td>10,204</td>\n",
       "    </tr>\n",
       "  </tbody>\n",
       "</table>\n",
       "</div>"
      ],
      "text/plain": [
       "  지역명    연도   월  평당분양가격\n",
       "0  전국  2013  12   8,059\n",
       "1  서울  2013  12  18,189\n",
       "2  부산  2013  12   8,111\n",
       "3  대구  2013  12   8,080\n",
       "4  인천  2013  12  10,204"
      ]
     },
     "execution_count": 125,
     "metadata": {},
     "output_type": "execute_result"
    }
   ],
   "source": [
    "df_2013_2018.head()"
   ]
  },
  {
   "cell_type": "code",
   "execution_count": 126,
   "metadata": {},
   "outputs": [
    {
     "data": {
      "text/html": [
       "<div>\n",
       "<style scoped>\n",
       "    .dataframe tbody tr th:only-of-type {\n",
       "        vertical-align: middle;\n",
       "    }\n",
       "\n",
       "    .dataframe tbody tr th {\n",
       "        vertical-align: top;\n",
       "    }\n",
       "\n",
       "    .dataframe thead th {\n",
       "        text-align: right;\n",
       "    }\n",
       "</style>\n",
       "<table border=\"1\" class=\"dataframe\">\n",
       "  <thead>\n",
       "    <tr style=\"text-align: right;\">\n",
       "      <th></th>\n",
       "      <th>지역명</th>\n",
       "      <th>연도</th>\n",
       "      <th>월</th>\n",
       "      <th>평당분양가격</th>\n",
       "    </tr>\n",
       "  </thead>\n",
       "  <tbody>\n",
       "    <tr>\n",
       "      <th>2780</th>\n",
       "      <td>전북</td>\n",
       "      <td>2018</td>\n",
       "      <td>6</td>\n",
       "      <td>7,675</td>\n",
       "    </tr>\n",
       "    <tr>\n",
       "      <th>2785</th>\n",
       "      <td>전남</td>\n",
       "      <td>2018</td>\n",
       "      <td>6</td>\n",
       "      <td>7,774</td>\n",
       "    </tr>\n",
       "    <tr>\n",
       "      <th>2790</th>\n",
       "      <td>경북</td>\n",
       "      <td>2018</td>\n",
       "      <td>6</td>\n",
       "      <td>8,682</td>\n",
       "    </tr>\n",
       "    <tr>\n",
       "      <th>2795</th>\n",
       "      <td>경남</td>\n",
       "      <td>2018</td>\n",
       "      <td>6</td>\n",
       "      <td>8,893</td>\n",
       "    </tr>\n",
       "    <tr>\n",
       "      <th>2800</th>\n",
       "      <td>제주</td>\n",
       "      <td>2018</td>\n",
       "      <td>6</td>\n",
       "      <td>12,952</td>\n",
       "    </tr>\n",
       "  </tbody>\n",
       "</table>\n",
       "</div>"
      ],
      "text/plain": [
       "     지역명    연도  월  평당분양가격\n",
       "2780  전북  2018  6   7,675\n",
       "2785  전남  2018  6   7,774\n",
       "2790  경북  2018  6   8,682\n",
       "2795  경남  2018  6   8,893\n",
       "2800  제주  2018  6  12,952"
      ]
     },
     "execution_count": 126,
     "metadata": {},
     "output_type": "execute_result"
    }
   ],
   "source": [
    "df_2013_2018.tail()"
   ]
  },
  {
   "cell_type": "code",
   "execution_count": 111,
   "metadata": {},
   "outputs": [
    {
     "data": {
      "text/plain": [
       "array(['전국', '서울', '부산', '대구', '인천', '광주', '대전', '울산', '', '경기', '수도권',\n",
       "       '세종', '강원', '충북', '충남', '전북', '전남', '경북', '경남', '제주'], dtype=object)"
      ]
     },
     "execution_count": 111,
     "metadata": {},
     "output_type": "execute_result"
    }
   ],
   "source": [
    "df_2013_2015_region= df_2013_2015_prepare['지역명'].unique()\n",
    "df_2013_2015_region"
   ]
  },
  {
   "cell_type": "code",
   "execution_count": 112,
   "metadata": {},
   "outputs": [
    {
     "data": {
      "text/plain": [
       "array(['서울', '인천', '경기', '부산', '대구', '광주', '대전', '울산', '세종', '강원', '충북',\n",
       "       '충남', '전북', '전남', '경북', '경남', '제주'], dtype=object)"
      ]
     },
     "execution_count": 112,
     "metadata": {},
     "output_type": "execute_result"
    }
   ],
   "source": [
    "df_2015_2018_region = df_2015_2018_prepare['지역명'].unique()\n",
    "df_2015_2018_region"
   ]
  },
  {
   "cell_type": "code",
   "execution_count": 113,
   "metadata": {},
   "outputs": [
    {
     "data": {
      "text/plain": [
       "['전국', '', '수도권']"
      ]
     },
     "execution_count": 113,
     "metadata": {},
     "output_type": "execute_result"
    }
   ],
   "source": [
    "exclude_region = [region for region in df_2013_2015_region if not region in df_2015_2018_region] \n",
    "exclude_region"
   ]
  },
  {
   "cell_type": "code",
   "execution_count": 114,
   "metadata": {},
   "outputs": [
    {
     "data": {
      "text/plain": [
       "(1023, 4)"
      ]
     },
     "execution_count": 114,
     "metadata": {},
     "output_type": "execute_result"
    }
   ],
   "source": [
    "df_2013_2018.shape"
   ]
  },
  {
   "cell_type": "code",
   "execution_count": 115,
   "metadata": {},
   "outputs": [
    {
     "data": {
      "text/html": [
       "<div>\n",
       "<style scoped>\n",
       "    .dataframe tbody tr th:only-of-type {\n",
       "        vertical-align: middle;\n",
       "    }\n",
       "\n",
       "    .dataframe tbody tr th {\n",
       "        vertical-align: top;\n",
       "    }\n",
       "\n",
       "    .dataframe thead th {\n",
       "        text-align: right;\n",
       "    }\n",
       "</style>\n",
       "<table border=\"1\" class=\"dataframe\">\n",
       "  <thead>\n",
       "    <tr style=\"text-align: right;\">\n",
       "      <th></th>\n",
       "      <th>지역명</th>\n",
       "      <th>연도</th>\n",
       "      <th>월</th>\n",
       "      <th>평당분양가격</th>\n",
       "    </tr>\n",
       "  </thead>\n",
       "  <tbody>\n",
       "    <tr>\n",
       "      <th>0</th>\n",
       "      <td>전국</td>\n",
       "      <td>2013</td>\n",
       "      <td>12</td>\n",
       "      <td>8,059</td>\n",
       "    </tr>\n",
       "    <tr>\n",
       "      <th>10</th>\n",
       "      <td>수도권</td>\n",
       "      <td>2013</td>\n",
       "      <td>12</td>\n",
       "      <td>13,083</td>\n",
       "    </tr>\n",
       "    <tr>\n",
       "      <th>21</th>\n",
       "      <td>전국</td>\n",
       "      <td>2014</td>\n",
       "      <td>1</td>\n",
       "      <td>8,130</td>\n",
       "    </tr>\n",
       "    <tr>\n",
       "      <th>31</th>\n",
       "      <td>수도권</td>\n",
       "      <td>2014</td>\n",
       "      <td>1</td>\n",
       "      <td>12,995</td>\n",
       "    </tr>\n",
       "    <tr>\n",
       "      <th>42</th>\n",
       "      <td>전국</td>\n",
       "      <td>2014</td>\n",
       "      <td>2</td>\n",
       "      <td>8,195</td>\n",
       "    </tr>\n",
       "  </tbody>\n",
       "</table>\n",
       "</div>"
      ],
      "text/plain": [
       "    지역명    연도   월  평당분양가격\n",
       "0    전국  2013  12   8,059\n",
       "10  수도권  2013  12  13,083\n",
       "21   전국  2014   1   8,130\n",
       "31  수도권  2014   1  12,995\n",
       "42   전국  2014   2   8,195"
      ]
     },
     "execution_count": 115,
     "metadata": {},
     "output_type": "execute_result"
    }
   ],
   "source": [
    "df_2013_2018.loc[df_2013_2018['지역명'].str.match('전국|수도권')].head()"
   ]
  },
  {
   "cell_type": "code",
   "execution_count": 116,
   "metadata": {},
   "outputs": [],
   "source": [
    "df_2013_2018.drop(\n",
    "    df_2013_2018.loc[df_2013_2018['지역명'].str.match('전국|수도권')].index, \n",
    "    axis=0, \n",
    "    inplace=True)\n",
    "df_2013_2018.drop(\n",
    "    df_2013_2018.loc[df_2013_2018['지역명'] == ''].index, \n",
    "    axis=0, \n",
    "    inplace=True)"
   ]
  },
  {
   "cell_type": "markdown",
   "metadata": {},
   "source": [
    "## 2013년 12월~2018년 7월 전국 신규 민간 아파트 분양가격 동향 시각화"
   ]
  },
  {
   "cell_type": "code",
   "execution_count": 117,
   "metadata": {},
   "outputs": [
    {
     "data": {
      "text/plain": [
       "연도\n",
       "2013    8,059\n",
       "2014    8,362\n",
       "2015    8,667\n",
       "2016    9,321\n",
       "2017    9,901\n",
       "2018   10,560\n",
       "Name: 평당분양가격, dtype: float64"
      ]
     },
     "execution_count": 117,
     "metadata": {},
     "output_type": "execute_result"
    }
   ],
   "source": [
    "# 판다스로 시각화 할 때는 미리 구하고자 하는 데이터를 요약해 두는 것이 좋습니다.\n",
    "df_year_mean = df_2013_2018.groupby(['연도'])['평당분양가격'].mean()\n",
    "df_year_mean"
   ]
  },
  {
   "cell_type": "code",
   "execution_count": 118,
   "metadata": {},
   "outputs": [
    {
     "data": {
      "text/plain": [
       "<matplotlib.axes._subplots.AxesSubplot at 0x7f9027d13410>"
      ]
     },
     "execution_count": 118,
     "metadata": {},
     "output_type": "execute_result"
    },
    {
     "data": {
      "image/png": "[encoded data removed]",
      "text/plain": [
       "<Figure size 432x288 with 1 Axes>"
      ]
     },
     "metadata": {},
     "output_type": "display_data"
    }
   ],
   "source": [
    "df_year_mean.plot.bar(rot=0)"
   ]
  },
  {
   "cell_type": "code",
   "execution_count": 119,
   "metadata": {},
   "outputs": [
    {
     "data": {
      "text/plain": [
       "<matplotlib.axes._subplots.AxesSubplot at 0x7f9027d52d90>"
      ]
     },
     "execution_count": 119,
     "metadata": {},
     "output_type": "execute_result"
    },
    {
     "data": {
      "image/png": "[encoded data removed]",
      "text/plain": [
       "<Figure size 432x288 with 1 Axes>"
      ]
     },
     "metadata": {},
     "output_type": "display_data"
    }
   ],
   "source": [
    "sns.barplot(data=df_2013_2018, x='연도', y='평당분양가격')"
   ]
  },
  {
   "cell_type": "code",
   "execution_count": 120,
   "metadata": {},
   "outputs": [
    {
     "data": {
      "text/plain": [
       "<matplotlib.axes._subplots.AxesSubplot at 0x7f9027c62090>"
      ]
     },
     "execution_count": 120,
     "metadata": {},
     "output_type": "execute_result"
    },
    {
     "data": {
      "image/png": "[encoded data removed]",
      "text/plain": [
       "<Figure size 864x432 with 1 Axes>"
      ]
     },
     "metadata": {},
     "output_type": "display_data"
    }
   ],
   "source": [
    "df_2015_2018_prepare[['연도', '지역명', '평당분양가격']].boxplot(by=['연도'], figsize=(12, 6))"
   ]
  },
  {
   "cell_type": "code",
   "execution_count": 121,
   "metadata": {},
   "outputs": [
    {
     "data": {
      "text/plain": [
       "<matplotlib.axes._subplots.AxesSubplot at 0x7f9027d37c90>"
      ]
     },
     "execution_count": 121,
     "metadata": {},
     "output_type": "execute_result"
    },
    {
     "data": {
      "image/png": "[encoded data removed]",
      "text/plain": [
       "<Figure size 864x432 with 1 Axes>"
      ]
     },
     "metadata": {},
     "output_type": "display_data"
    }
   ],
   "source": [
    "df_2013_2018[['연도', '지역명', '평당분양가격']].boxplot(by=['연도'], figsize=(12, 6))"
   ]
  },
  {
   "cell_type": "code",
   "execution_count": 122,
   "metadata": {},
   "outputs": [
    {
     "data": {
      "text/plain": [
       "<matplotlib.axes._subplots.AxesSubplot at 0x7f9027afaed0>"
      ]
     },
     "execution_count": 122,
     "metadata": {},
     "output_type": "execute_result"
    },
    {
     "data": {
      "image/png": "[encoded data removed]",
      "text/plain": [
       "<Figure size 864x432 with 1 Axes>"
      ]
     },
     "metadata": {},
     "output_type": "display_data"
    }
   ],
   "source": [
    "df_2013_2018_jeju = df_2013_2018.loc[df_2013_2018['지역명'] == '제주']\n",
    "df_2013_2018_jeju[['연도', '지역명', '평당분양가격']].boxplot(by=['연도'], figsize=(12, 6))"
   ]
  },
  {
   "cell_type": "code",
   "execution_count": 123,
   "metadata": {},
   "outputs": [
    {
     "data": {
      "text/plain": [
       "2014    12\n",
       "2017    12\n",
       "2015    12\n",
       "2016    10\n",
       "2018     6\n",
       "2013     1\n",
       "Name: 연도, dtype: int64"
      ]
     },
     "execution_count": 123,
     "metadata": {},
     "output_type": "execute_result"
    }
   ],
   "source": [
    "df_2013_2018_jeju[\"연도\"].value_counts()"
   ]
  },
  {
   "cell_type": "code",
   "execution_count": null,
   "metadata": {},
   "outputs": [],
   "source": []
  },
  {
   "cell_type": "code",
   "execution_count": null,
   "metadata": {},
   "outputs": [],
   "source": []
  },
  {
   "cell_type": "code",
   "execution_count": null,
   "metadata": {},
   "outputs": [],
   "source": []
  },
  {
   "cell_type": "code",
   "execution_count": null,
   "metadata": {},
   "outputs": [],
   "source": []
  },
  {
   "cell_type": "code",
   "execution_count": null,
   "metadata": {},
   "outputs": [],
   "source": []
  },
  {
   "cell_type": "code",
   "execution_count": null,
   "metadata": {},
   "outputs": [],
   "source": []
  },
  {
   "cell_type": "code",
   "execution_count": null,
   "metadata": {},
   "outputs": [],
   "source": []
  },
  {
   "cell_type": "code",
   "execution_count": null,
   "metadata": {},
   "outputs": [],
   "source": []
  },
  {
   "cell_type": "code",
   "execution_count": null,
   "metadata": {},
   "outputs": [],
   "source": []
  },
  {
   "cell_type": "code",
   "execution_count": null,
   "metadata": {},
   "outputs": [],
   "source": []
  },
  {
   "cell_type": "code",
   "execution_count": null,
   "metadata": {},
   "outputs": [],
   "source": []
  },
  {
   "cell_type": "code",
   "execution_count": null,
   "metadata": {},
   "outputs": [],
   "source": []
  },
  {
   "cell_type": "code",
   "execution_count": null,
   "metadata": {},
   "outputs": [],
   "source": []
  },
  {
   "cell_type": "code",
   "execution_count": null,
   "metadata": {},
   "outputs": [],
   "source": []
  },
  {
   "cell_type": "code",
   "execution_count": null,
   "metadata": {},
   "outputs": [],
   "source": []
  }
 ],
 "metadata": {
  "kernelspec": {
   "display_name": "Python 3",
   "language": "python",
   "name": "python3"
  },
  "language_info": {
   "codemirror_mode": {
    "name": "ipython",
    "version": 3
   },
   "file_extension": ".py",
   "mimetype": "text/x-python",
   "name": "python",
   "nbconvert_exporter": "python",
   "pygments_lexer": "ipython3",
   "version": "3.7.4"
  }
 },
 "nbformat": 4,
 "nbformat_minor": 4
}
