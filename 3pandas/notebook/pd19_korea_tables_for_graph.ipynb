{
 "cells": [
  {
   "cell_type": "code",
   "execution_count": 5,
   "metadata": {},
   "outputs": [],
   "source": [
    "import pandas as pd\n",
    "import numpy as np"
   ]
  },
  {
   "cell_type": "markdown",
   "metadata": {},
   "source": [
    "1. [ ]  총인구에대한구성비(%)\n",
    "1. [x]  총카페에대한구성비(%)\n",
    "1. [x]  면적(㎢)\n",
    "1. [ ]  인구밀도(명/㎢)\n",
    "1. [x]  면적당카페수(ea/㎢)\n",
    "1. [x]  인구당카페수(ea/명)\n",
    "1. [x]  카페당관할인구수(명/ea)"
   ]
  },
  {
   "cell_type": "markdown",
   "metadata": {},
   "source": [
    "시도명|면적당카페수|인구밀도|인구당카페수|카페당인구수\n",
    "---|---|---|---|---|---|---\n"
   ]
  },
  {
   "cell_type": "code",
   "execution_count": 6,
   "metadata": {},
   "outputs": [],
   "source": [
    "### 전국 카페수 인구 면적"
   ]
  },
  {
   "cell_type": "code",
   "execution_count": 7,
   "metadata": {},
   "outputs": [],
   "source": [
    "korea_pop = pd.read_csv('./data/Cleansed_data/korea_cafe_per_pop_all.csv', encoding = 'utf-8')\n",
    "korea_land = pd.read_csv('./data/Processed_data/korea_land.csv', encoding = 'utf-8')\n",
    "korea_cafe = pd.read_csv('./Data/Processed_data/korea_shp_dist_def.csv', encoding = 'utf-8')"
   ]
  },
  {
   "cell_type": "code",
   "execution_count": 8,
   "metadata": {},
   "outputs": [],
   "source": [
    "# 컬럼명 변경\n",
    "korea_pop.rename(columns = {'Unnamed: 0':'시도명'}, inplace=True)"
   ]
  },
  {
   "cell_type": "code",
   "execution_count": 9,
   "metadata": {},
   "outputs": [],
   "source": [
    "newcol = ['시도명','2016년 면적', '2017년 면적', '2018년 면적', '2019년 면적']\n",
    "korea_land.columns = newcol"
   ]
  },
  {
   "cell_type": "code",
   "execution_count": 10,
   "metadata": {},
   "outputs": [],
   "source": [
    "# 계 행 없애기\n",
    "korea_land.drop([0], axis=0, inplace=True)"
   ]
  },
  {
   "cell_type": "code",
   "execution_count": 11,
   "metadata": {},
   "outputs": [],
   "source": [
    "# 지역명 가나다 순\n",
    "tmp = korea_land.sort_values(by=['시도명'])"
   ]
  },
  {
   "cell_type": "code",
   "execution_count": 12,
   "metadata": {},
   "outputs": [],
   "source": [
    "# 기존인덱스 버리기\n",
    "korea_land = tmp.reset_index(drop=True)"
   ]
  },
  {
   "cell_type": "code",
   "execution_count": 13,
   "metadata": {},
   "outputs": [],
   "source": [
    "# 서울특별시->서울\n",
    "korea_pop['시도명']=korea_land['시도명']"
   ]
  },
  {
   "cell_type": "code",
   "execution_count": 14,
   "metadata": {},
   "outputs": [
    {
     "data": {
      "text/html": [
       "<div>\n",
       "<style scoped>\n",
       "    .dataframe tbody tr th:only-of-type {\n",
       "        vertical-align: middle;\n",
       "    }\n",
       "\n",
       "    .dataframe tbody tr th {\n",
       "        vertical-align: top;\n",
       "    }\n",
       "\n",
       "    .dataframe thead th {\n",
       "        text-align: right;\n",
       "    }\n",
       "</style>\n",
       "<table border=\"1\" class=\"dataframe\">\n",
       "  <thead>\n",
       "    <tr style=\"text-align: right;\">\n",
       "      <th></th>\n",
       "      <th>시도명</th>\n",
       "      <th>2016년 카페수</th>\n",
       "      <th>2017년 카페수</th>\n",
       "      <th>2018년 카페수</th>\n",
       "      <th>2019년 카페수</th>\n",
       "      <th>2016인구당카페수(ea/명)</th>\n",
       "      <th>2017인구당카페수(ea/명)</th>\n",
       "      <th>2018인구당카페수(ea/명)</th>\n",
       "      <th>2019인구당카페수(ea/명)</th>\n",
       "      <th>2016카페당관할인구수(명/ea)</th>\n",
       "      <th>2017카페당관할인구수(명/ea)</th>\n",
       "      <th>2018카페당관할인구수(명/ea)</th>\n",
       "      <th>2019카페당관할인구수(명/ea)</th>\n",
       "      <th>2016년 면적</th>\n",
       "      <th>2017년 면적</th>\n",
       "      <th>2018년 면적</th>\n",
       "      <th>2019년 면적</th>\n",
       "    </tr>\n",
       "  </thead>\n",
       "  <tbody>\n",
       "    <tr>\n",
       "      <td>0</td>\n",
       "      <td>강원</td>\n",
       "      <td>2289</td>\n",
       "      <td>3241</td>\n",
       "      <td>3662</td>\n",
       "      <td>3938</td>\n",
       "      <td>0.001476</td>\n",
       "      <td>0.002091</td>\n",
       "      <td>0.002373</td>\n",
       "      <td>0.002555</td>\n",
       "      <td>677.503713</td>\n",
       "      <td>478.291268</td>\n",
       "      <td>421.368651</td>\n",
       "      <td>391.442864</td>\n",
       "      <td>16,826.40</td>\n",
       "      <td>16,827.10</td>\n",
       "      <td>16,827.80</td>\n",
       "      <td>16,827.90</td>\n",
       "    </tr>\n",
       "    <tr>\n",
       "      <td>1</td>\n",
       "      <td>경기</td>\n",
       "      <td>12613</td>\n",
       "      <td>17596</td>\n",
       "      <td>20154</td>\n",
       "      <td>22225</td>\n",
       "      <td>0.000992</td>\n",
       "      <td>0.001367</td>\n",
       "      <td>0.001541</td>\n",
       "      <td>0.001679</td>\n",
       "      <td>1008.228019</td>\n",
       "      <td>731.637588</td>\n",
       "      <td>648.861417</td>\n",
       "      <td>595.710506</td>\n",
       "      <td>10,175.30</td>\n",
       "      <td>10,183.50</td>\n",
       "      <td>10,186.60</td>\n",
       "      <td>10,187.80</td>\n",
       "    </tr>\n",
       "  </tbody>\n",
       "</table>\n",
       "</div>"
      ],
      "text/plain": [
       "  시도명  2016년 카페수  2017년 카페수  2018년 카페수  2019년 카페수  2016인구당카페수(ea/명)  \\\n",
       "0  강원       2289       3241       3662       3938          0.001476   \n",
       "1  경기      12613      17596      20154      22225          0.000992   \n",
       "\n",
       "   2017인구당카페수(ea/명)  2018인구당카페수(ea/명)  2019인구당카페수(ea/명)  2016카페당관할인구수(명/ea)  \\\n",
       "0          0.002091          0.002373          0.002555          677.503713   \n",
       "1          0.001367          0.001541          0.001679         1008.228019   \n",
       "\n",
       "   2017카페당관할인구수(명/ea)  2018카페당관할인구수(명/ea)  2019카페당관할인구수(명/ea)   2016년 면적  \\\n",
       "0          478.291268          421.368651          391.442864  16,826.40   \n",
       "1          731.637588          648.861417          595.710506  10,175.30   \n",
       "\n",
       "    2017년 면적   2018년 면적   2019년 면적  \n",
       "0  16,827.10  16,827.80  16,827.90  \n",
       "1  10,183.50  10,186.60  10,187.80  "
      ]
     },
     "execution_count": 14,
     "metadata": {},
     "output_type": "execute_result"
    }
   ],
   "source": [
    "korea_pop_land = korea_pop.merge(korea_land, left_on='시도명', right_on='시도명')\n",
    "korea_pop_land.head(2)"
   ]
  },
  {
   "cell_type": "code",
   "execution_count": 15,
   "metadata": {},
   "outputs": [
    {
     "data": {
      "text/html": [
       "<div>\n",
       "<style scoped>\n",
       "    .dataframe tbody tr th:only-of-type {\n",
       "        vertical-align: middle;\n",
       "    }\n",
       "\n",
       "    .dataframe tbody tr th {\n",
       "        vertical-align: top;\n",
       "    }\n",
       "\n",
       "    .dataframe thead th {\n",
       "        text-align: right;\n",
       "    }\n",
       "</style>\n",
       "<table border=\"1\" class=\"dataframe\">\n",
       "  <thead>\n",
       "    <tr style=\"text-align: right;\">\n",
       "      <th></th>\n",
       "      <th>시도명</th>\n",
       "      <th>카페수</th>\n",
       "      <th>카페수</th>\n",
       "      <th>카페수</th>\n",
       "      <th>카페수</th>\n",
       "      <th>인구당카페수(ea/명)</th>\n",
       "      <th>인구당카페수(ea/명)</th>\n",
       "      <th>인구당카페수(ea/명)</th>\n",
       "      <th>인구당카페수(ea/명)</th>\n",
       "      <th>카페당관할인구수(명/ea)</th>\n",
       "      <th>카페당관할인구수(명/ea)</th>\n",
       "      <th>카페당관할인구수(명/ea)</th>\n",
       "      <th>카페당관할인구수(명/ea)</th>\n",
       "      <th>면적</th>\n",
       "      <th>면적</th>\n",
       "      <th>면적</th>\n",
       "      <th>면적</th>\n",
       "    </tr>\n",
       "  </thead>\n",
       "  <tbody>\n",
       "    <tr>\n",
       "      <td>0</td>\n",
       "      <td>강원</td>\n",
       "      <td>2289</td>\n",
       "      <td>3241</td>\n",
       "      <td>3662</td>\n",
       "      <td>3938</td>\n",
       "      <td>0.001476</td>\n",
       "      <td>0.002091</td>\n",
       "      <td>0.002373</td>\n",
       "      <td>0.002555</td>\n",
       "      <td>677.503713</td>\n",
       "      <td>478.291268</td>\n",
       "      <td>421.368651</td>\n",
       "      <td>391.442864</td>\n",
       "      <td>16,826.40</td>\n",
       "      <td>16,827.10</td>\n",
       "      <td>16,827.80</td>\n",
       "      <td>16,827.90</td>\n",
       "    </tr>\n",
       "    <tr>\n",
       "      <td>1</td>\n",
       "      <td>경기</td>\n",
       "      <td>12613</td>\n",
       "      <td>17596</td>\n",
       "      <td>20154</td>\n",
       "      <td>22225</td>\n",
       "      <td>0.000992</td>\n",
       "      <td>0.001367</td>\n",
       "      <td>0.001541</td>\n",
       "      <td>0.001679</td>\n",
       "      <td>1008.228019</td>\n",
       "      <td>731.637588</td>\n",
       "      <td>648.861417</td>\n",
       "      <td>595.710506</td>\n",
       "      <td>10,175.30</td>\n",
       "      <td>10,183.50</td>\n",
       "      <td>10,186.60</td>\n",
       "      <td>10,187.80</td>\n",
       "    </tr>\n",
       "  </tbody>\n",
       "</table>\n",
       "</div>"
      ],
      "text/plain": [
       "  시도명    카페수    카페수    카페수    카페수  인구당카페수(ea/명)  인구당카페수(ea/명)  인구당카페수(ea/명)  \\\n",
       "0  강원   2289   3241   3662   3938      0.001476      0.002091      0.002373   \n",
       "1  경기  12613  17596  20154  22225      0.000992      0.001367      0.001541   \n",
       "\n",
       "   인구당카페수(ea/명)  카페당관할인구수(명/ea)  카페당관할인구수(명/ea)  카페당관할인구수(명/ea)  \\\n",
       "0      0.002555      677.503713      478.291268      421.368651   \n",
       "1      0.001679     1008.228019      731.637588      648.861417   \n",
       "\n",
       "   카페당관할인구수(명/ea)         면적         면적         면적         면적  \n",
       "0      391.442864  16,826.40  16,827.10  16,827.80  16,827.90  \n",
       "1      595.710506  10,175.30  10,183.50  10,186.60  10,187.80  "
      ]
     },
     "execution_count": 15,
     "metadata": {},
     "output_type": "execute_result"
    }
   ],
   "source": [
    "newcol=['시도명',                   \n",
    "'카페수',\n",
    "'카페수',\n",
    "'카페수',\n",
    "'카페수',\n",
    "'인구당카페수(ea/명)',\n",
    "'인구당카페수(ea/명)',\n",
    "'인구당카페수(ea/명)',\n",
    "'인구당카페수(ea/명)',\n",
    "'카페당관할인구수(명/ea)',\n",
    "'카페당관할인구수(명/ea)',\n",
    "'카페당관할인구수(명/ea)',\n",
    "'카페당관할인구수(명/ea)',\n",
    "'면적',\n",
    "'면적',\n",
    "'면적',\n",
    "'면적'\n",
    "]\n",
    "korea_pop_land.columns=newcol\n",
    "korea_pop_land.head(2)"
   ]
  },
  {
   "cell_type": "code",
   "execution_count": 16,
   "metadata": {},
   "outputs": [],
   "source": [
    "# 년도별로 나누기\n",
    "korea_pop_land6=korea_pop_land.iloc[:, [0,1,5,9,13]]\n",
    "korea_pop_land7=korea_pop_land.iloc[:, [0,2,6,10,14]]\n",
    "korea_pop_land8=korea_pop_land.iloc[:, [0,3,7,11,15]]\n",
    "korea_pop_land9=korea_pop_land.iloc[:, [0,4,8,12,16]]"
   ]
  },
  {
   "cell_type": "code",
   "execution_count": 17,
   "metadata": {},
   "outputs": [
    {
     "name": "stderr",
     "output_type": "stream",
     "text": [
      "C:\\Users\\admin\\Anaconda3\\lib\\site-packages\\ipykernel_launcher.py:2: SettingWithCopyWarning: \n",
      "A value is trying to be set on a copy of a slice from a DataFrame.\n",
      "Try using .loc[row_indexer,col_indexer] = value instead\n",
      "\n",
      "See the caveats in the documentation: http://pandas.pydata.org/pandas-docs/stable/user_guide/indexing.html#returning-a-view-versus-a-copy\n",
      "  \n",
      "C:\\Users\\admin\\Anaconda3\\lib\\site-packages\\ipykernel_launcher.py:3: SettingWithCopyWarning: \n",
      "A value is trying to be set on a copy of a slice from a DataFrame.\n",
      "Try using .loc[row_indexer,col_indexer] = value instead\n",
      "\n",
      "See the caveats in the documentation: http://pandas.pydata.org/pandas-docs/stable/user_guide/indexing.html#returning-a-view-versus-a-copy\n",
      "  This is separate from the ipykernel package so we can avoid doing imports until\n",
      "C:\\Users\\admin\\Anaconda3\\lib\\site-packages\\ipykernel_launcher.py:4: SettingWithCopyWarning: \n",
      "A value is trying to be set on a copy of a slice from a DataFrame.\n",
      "Try using .loc[row_indexer,col_indexer] = value instead\n",
      "\n",
      "See the caveats in the documentation: http://pandas.pydata.org/pandas-docs/stable/user_guide/indexing.html#returning-a-view-versus-a-copy\n",
      "  after removing the cwd from sys.path.\n",
      "C:\\Users\\admin\\Anaconda3\\lib\\site-packages\\ipykernel_launcher.py:5: SettingWithCopyWarning: \n",
      "A value is trying to be set on a copy of a slice from a DataFrame.\n",
      "Try using .loc[row_indexer,col_indexer] = value instead\n",
      "\n",
      "See the caveats in the documentation: http://pandas.pydata.org/pandas-docs/stable/user_guide/indexing.html#returning-a-view-versus-a-copy\n",
      "  \"\"\"\n"
     ]
    }
   ],
   "source": [
    "# 년도행 붙여서 나중에 분류 용이\n",
    "korea_pop_land6['년도'] = 2016\n",
    "korea_pop_land7['년도'] = 2017\n",
    "korea_pop_land8['년도'] = 2018\n",
    "korea_pop_land9['년도'] = 2019"
   ]
  },
  {
   "cell_type": "code",
   "execution_count": 18,
   "metadata": {},
   "outputs": [
    {
     "name": "stdout",
     "output_type": "stream",
     "text": [
      "<class 'pandas.core.frame.DataFrame'>\n",
      "RangeIndex: 68 entries, 0 to 67\n",
      "Data columns (total 6 columns):\n",
      "시도명               68 non-null object\n",
      "카페수               68 non-null int64\n",
      "인구당카페수(ea/명)      68 non-null float64\n",
      "카페당관할인구수(명/ea)    68 non-null float64\n",
      "면적                68 non-null object\n",
      "년도                68 non-null int64\n",
      "dtypes: float64(2), int64(2), object(2)\n",
      "memory usage: 3.3+ KB\n"
     ]
    },
    {
     "data": {
      "text/html": [
       "<div>\n",
       "<style scoped>\n",
       "    .dataframe tbody tr th:only-of-type {\n",
       "        vertical-align: middle;\n",
       "    }\n",
       "\n",
       "    .dataframe tbody tr th {\n",
       "        vertical-align: top;\n",
       "    }\n",
       "\n",
       "    .dataframe thead th {\n",
       "        text-align: right;\n",
       "    }\n",
       "</style>\n",
       "<table border=\"1\" class=\"dataframe\">\n",
       "  <thead>\n",
       "    <tr style=\"text-align: right;\">\n",
       "      <th></th>\n",
       "      <th>시도명</th>\n",
       "      <th>카페수</th>\n",
       "      <th>인구당카페수(ea/명)</th>\n",
       "      <th>카페당관할인구수(명/ea)</th>\n",
       "      <th>면적</th>\n",
       "      <th>년도</th>\n",
       "    </tr>\n",
       "  </thead>\n",
       "  <tbody>\n",
       "    <tr>\n",
       "      <td>0</td>\n",
       "      <td>강원</td>\n",
       "      <td>2289</td>\n",
       "      <td>0.001476</td>\n",
       "      <td>677.503713</td>\n",
       "      <td>16,826.40</td>\n",
       "      <td>2016</td>\n",
       "    </tr>\n",
       "    <tr>\n",
       "      <td>1</td>\n",
       "      <td>경기</td>\n",
       "      <td>12613</td>\n",
       "      <td>0.000992</td>\n",
       "      <td>1008.228019</td>\n",
       "      <td>10,175.30</td>\n",
       "      <td>2016</td>\n",
       "    </tr>\n",
       "  </tbody>\n",
       "</table>\n",
       "</div>"
      ],
      "text/plain": [
       "  시도명    카페수  인구당카페수(ea/명)  카페당관할인구수(명/ea)         면적    년도\n",
       "0  강원   2289      0.001476      677.503713  16,826.40  2016\n",
       "1  경기  12613      0.000992     1008.228019  10,175.30  2016"
      ]
     },
     "execution_count": 18,
     "metadata": {},
     "output_type": "execute_result"
    }
   ],
   "source": [
    "df1 = pd.concat([korea_pop_land6,korea_pop_land7,korea_pop_land8,korea_pop_land9],axis=0,ignore_index=True)\n",
    "df1.info()\n",
    "df1.head(2)"
   ]
  },
  {
   "cell_type": "markdown",
   "metadata": {},
   "source": [
    "### 피봇으로 sum, count -> 년도당 시도별 총 카페수"
   ]
  },
  {
   "cell_type": "code",
   "execution_count": 19,
   "metadata": {},
   "outputs": [],
   "source": [
    "cafe_cnt = pd.pivot_table(df1, index=['년도'], values='카페수', aggfunc = 'sum')"
   ]
  },
  {
   "cell_type": "code",
   "execution_count": 20,
   "metadata": {},
   "outputs": [
    {
     "data": {
      "text/html": [
       "<div>\n",
       "<style scoped>\n",
       "    .dataframe tbody tr th:only-of-type {\n",
       "        vertical-align: middle;\n",
       "    }\n",
       "\n",
       "    .dataframe tbody tr th {\n",
       "        vertical-align: top;\n",
       "    }\n",
       "\n",
       "    .dataframe thead th {\n",
       "        text-align: right;\n",
       "    }\n",
       "</style>\n",
       "<table border=\"1\" class=\"dataframe\">\n",
       "  <thead>\n",
       "    <tr style=\"text-align: right;\">\n",
       "      <th></th>\n",
       "      <th>시도명</th>\n",
       "      <th>카페수_x</th>\n",
       "      <th>인구당카페수(ea/명)</th>\n",
       "      <th>카페당관할인구수(명/ea)</th>\n",
       "      <th>면적</th>\n",
       "      <th>년도</th>\n",
       "      <th>카페수_y</th>\n",
       "    </tr>\n",
       "  </thead>\n",
       "  <tbody>\n",
       "    <tr>\n",
       "      <td>0</td>\n",
       "      <td>강원</td>\n",
       "      <td>2289</td>\n",
       "      <td>0.001476</td>\n",
       "      <td>677.503713</td>\n",
       "      <td>16,826.40</td>\n",
       "      <td>2016</td>\n",
       "      <td>57855</td>\n",
       "    </tr>\n",
       "    <tr>\n",
       "      <td>1</td>\n",
       "      <td>경기</td>\n",
       "      <td>12613</td>\n",
       "      <td>0.000992</td>\n",
       "      <td>1008.228019</td>\n",
       "      <td>10,175.30</td>\n",
       "      <td>2016</td>\n",
       "      <td>57855</td>\n",
       "    </tr>\n",
       "  </tbody>\n",
       "</table>\n",
       "</div>"
      ],
      "text/plain": [
       "  시도명  카페수_x  인구당카페수(ea/명)  카페당관할인구수(명/ea)         면적    년도  카페수_y\n",
       "0  강원   2289      0.001476      677.503713  16,826.40  2016  57855\n",
       "1  경기  12613      0.000992     1008.228019  10,175.30  2016  57855"
      ]
     },
     "execution_count": 20,
     "metadata": {},
     "output_type": "execute_result"
    }
   ],
   "source": [
    "df2 = pd.merge(df1, cafe_cnt, left_on=\"년도\", right_index=True)\n",
    "df2.head(2)"
   ]
  },
  {
   "cell_type": "code",
   "execution_count": 21,
   "metadata": {},
   "outputs": [],
   "source": [
    "df2.rename(columns = {'카페수_x':'시도별카페수(ea)', '카페수_y':'총카페수(ea)'}, inplace=True)"
   ]
  },
  {
   "cell_type": "markdown",
   "metadata": {},
   "source": [
    "### object type -> int/float 으로 바꾸기\n",
    "- 콤마를 먼저 없애고 object를 숫자로 바꾼다\n",
    "    - result['면적'].str.replace(',', '')\n",
    "    - astype({'col1': 'int32'})\n",
    "    - to_numeric"
   ]
  },
  {
   "cell_type": "code",
   "execution_count": 22,
   "metadata": {},
   "outputs": [],
   "source": [
    "df2['면적']=df2['면적'].str.replace(',','')"
   ]
  },
  {
   "cell_type": "code",
   "execution_count": 23,
   "metadata": {},
   "outputs": [
    {
     "data": {
      "text/plain": [
       "시도명                object\n",
       "시도별카페수(ea)          int64\n",
       "인구당카페수(ea/명)      float64\n",
       "카페당관할인구수(명/ea)    float64\n",
       "면적                float64\n",
       "년도                  int64\n",
       "총카페수(ea)            int64\n",
       "dtype: object"
      ]
     },
     "execution_count": 23,
     "metadata": {},
     "output_type": "execute_result"
    }
   ],
   "source": [
    "df2['면적']=df2['면적'].astype('float')\n",
    "df2.dtypes"
   ]
  },
  {
   "cell_type": "markdown",
   "metadata": {},
   "source": [
    "### 계산하는 컬럼 준비 -> 계산하기\n"
   ]
  },
  {
   "cell_type": "code",
   "execution_count": 24,
   "metadata": {},
   "outputs": [],
   "source": [
    "df2['면적당카페수(ea/㎢)']=  df2['시도별카페수(ea)']/df2['면적']"
   ]
  },
  {
   "cell_type": "code",
   "execution_count": 25,
   "metadata": {},
   "outputs": [],
   "source": [
    "df2['총카페에대한구성비(%)'] = df2['시도별카페수(ea)']/df2['총카페수(ea)']*100"
   ]
  },
  {
   "cell_type": "code",
   "execution_count": 26,
   "metadata": {},
   "outputs": [
    {
     "data": {
      "text/html": [
       "<div>\n",
       "<style scoped>\n",
       "    .dataframe tbody tr th:only-of-type {\n",
       "        vertical-align: middle;\n",
       "    }\n",
       "\n",
       "    .dataframe tbody tr th {\n",
       "        vertical-align: top;\n",
       "    }\n",
       "\n",
       "    .dataframe thead th {\n",
       "        text-align: right;\n",
       "    }\n",
       "</style>\n",
       "<table border=\"1\" class=\"dataframe\">\n",
       "  <thead>\n",
       "    <tr style=\"text-align: right;\">\n",
       "      <th></th>\n",
       "      <th>시도명</th>\n",
       "      <th>시도별카페수(ea)</th>\n",
       "      <th>인구당카페수(ea/명)</th>\n",
       "      <th>카페당관할인구수(명/ea)</th>\n",
       "      <th>면적</th>\n",
       "      <th>년도</th>\n",
       "      <th>총카페수(ea)</th>\n",
       "      <th>면적당카페수(ea/㎢)</th>\n",
       "      <th>총카페에대한구성비(%)</th>\n",
       "    </tr>\n",
       "  </thead>\n",
       "  <tbody>\n",
       "    <tr>\n",
       "      <td>0</td>\n",
       "      <td>강원</td>\n",
       "      <td>2289</td>\n",
       "      <td>0.001476</td>\n",
       "      <td>677.503713</td>\n",
       "      <td>16826.4</td>\n",
       "      <td>2016</td>\n",
       "      <td>57855</td>\n",
       "      <td>0.136036</td>\n",
       "      <td>3.956443</td>\n",
       "    </tr>\n",
       "    <tr>\n",
       "      <td>1</td>\n",
       "      <td>경기</td>\n",
       "      <td>12613</td>\n",
       "      <td>0.000992</td>\n",
       "      <td>1008.228019</td>\n",
       "      <td>10175.3</td>\n",
       "      <td>2016</td>\n",
       "      <td>57855</td>\n",
       "      <td>1.239570</td>\n",
       "      <td>21.801054</td>\n",
       "    </tr>\n",
       "  </tbody>\n",
       "</table>\n",
       "</div>"
      ],
      "text/plain": [
       "  시도명  시도별카페수(ea)  인구당카페수(ea/명)  카페당관할인구수(명/ea)       면적    년도  총카페수(ea)  \\\n",
       "0  강원        2289      0.001476      677.503713  16826.4  2016     57855   \n",
       "1  경기       12613      0.000992     1008.228019  10175.3  2016     57855   \n",
       "\n",
       "   면적당카페수(ea/㎢)  총카페에대한구성비(%)  \n",
       "0      0.136036      3.956443  \n",
       "1      1.239570     21.801054  "
      ]
     },
     "execution_count": 26,
     "metadata": {},
     "output_type": "execute_result"
    }
   ],
   "source": [
    "df2.head(2)"
   ]
  },
  {
   "cell_type": "code",
   "execution_count": 27,
   "metadata": {},
   "outputs": [],
   "source": [
    "# df3 = df2.set_index(['년도', '시도명'])\n",
    "# df3.corr()"
   ]
  },
  {
   "cell_type": "code",
   "execution_count": 28,
   "metadata": {},
   "outputs": [],
   "source": [
    "df3 = pd.pivot_table(df2, index=['시도명','년도'])"
   ]
  },
  {
   "cell_type": "markdown",
   "metadata": {},
   "source": [
    "### pct_change()\n",
    "- 컬럼의 증감율 구하기\n",
    "    - df3['전년도대비카페증감율(%)'] = df3['시도별카페수(ea)'].pct_change()"
   ]
  },
  {
   "cell_type": "code",
   "execution_count": 29,
   "metadata": {},
   "outputs": [
    {
     "data": {
      "text/html": [
       "<div>\n",
       "<style scoped>\n",
       "    .dataframe tbody tr th:only-of-type {\n",
       "        vertical-align: middle;\n",
       "    }\n",
       "\n",
       "    .dataframe tbody tr th {\n",
       "        vertical-align: top;\n",
       "    }\n",
       "\n",
       "    .dataframe thead th {\n",
       "        text-align: right;\n",
       "    }\n",
       "</style>\n",
       "<table border=\"1\" class=\"dataframe\">\n",
       "  <thead>\n",
       "    <tr style=\"text-align: right;\">\n",
       "      <th></th>\n",
       "      <th></th>\n",
       "      <th>면적</th>\n",
       "      <th>면적당카페수(ea/㎢)</th>\n",
       "      <th>시도별카페수(ea)</th>\n",
       "      <th>인구당카페수(ea/명)</th>\n",
       "      <th>총카페수(ea)</th>\n",
       "      <th>총카페에대한구성비(%)</th>\n",
       "      <th>카페당관할인구수(명/ea)</th>\n",
       "      <th>전년도대비카페증감율(%)</th>\n",
       "    </tr>\n",
       "    <tr>\n",
       "      <th>시도명</th>\n",
       "      <th>년도</th>\n",
       "      <th></th>\n",
       "      <th></th>\n",
       "      <th></th>\n",
       "      <th></th>\n",
       "      <th></th>\n",
       "      <th></th>\n",
       "      <th></th>\n",
       "      <th></th>\n",
       "    </tr>\n",
       "  </thead>\n",
       "  <tbody>\n",
       "    <tr>\n",
       "      <td rowspan=\"2\" valign=\"top\">강원</td>\n",
       "      <td>2016</td>\n",
       "      <td>16826.4</td>\n",
       "      <td>0.136036</td>\n",
       "      <td>2289</td>\n",
       "      <td>0.001476</td>\n",
       "      <td>57855</td>\n",
       "      <td>3.956443</td>\n",
       "      <td>677.503713</td>\n",
       "      <td>0</td>\n",
       "    </tr>\n",
       "    <tr>\n",
       "      <td>2017</td>\n",
       "      <td>16827.1</td>\n",
       "      <td>0.192606</td>\n",
       "      <td>3241</td>\n",
       "      <td>0.002091</td>\n",
       "      <td>76477</td>\n",
       "      <td>4.237875</td>\n",
       "      <td>478.291268</td>\n",
       "      <td>0</td>\n",
       "    </tr>\n",
       "  </tbody>\n",
       "</table>\n",
       "</div>"
      ],
      "text/plain": [
       "               면적  면적당카페수(ea/㎢)  시도별카페수(ea)  인구당카페수(ea/명)  총카페수(ea)  \\\n",
       "시도명 년도                                                                \n",
       "강원  2016  16826.4      0.136036        2289      0.001476     57855   \n",
       "    2017  16827.1      0.192606        3241      0.002091     76477   \n",
       "\n",
       "          총카페에대한구성비(%)  카페당관할인구수(명/ea)  전년도대비카페증감율(%)  \n",
       "시도명 년도                                                 \n",
       "강원  2016      3.956443      677.503713              0  \n",
       "    2017      4.237875      478.291268              0  "
      ]
     },
     "execution_count": 29,
     "metadata": {},
     "output_type": "execute_result"
    }
   ],
   "source": [
    "df3['전년도대비카페증감율(%)'] = 0\n",
    "df3.head(2)"
   ]
  },
  {
   "cell_type": "code",
   "execution_count": 30,
   "metadata": {},
   "outputs": [],
   "source": [
    "for i in range(0, len(df3)):\n",
    "    if i%4 == 0:\n",
    "        # 2016년도에 대하여 계산을 수행하지 않음. (2015년 자료 없으므로). 0을 기입\n",
    "        pass\n",
    "    else:\n",
    "        # 카페수에 대하여 (당년도-전년도)/전년도 *100\n",
    "        df3.iloc[i,-1]=(df3.iloc[i, 2]-df3.iloc[i-1, 2])/df3.iloc[i-1, 2]*100   "
   ]
  },
  {
   "cell_type": "code",
   "execution_count": 31,
   "metadata": {},
   "outputs": [],
   "source": [
    "df3_yearcol = df3.pivot_table(index=[\"시도명\"], columns=['년도'])"
   ]
  },
  {
   "cell_type": "code",
   "execution_count": 34,
   "metadata": {},
   "outputs": [],
   "source": [
    "df4 = df3.drop(columns=['면적', '총카페수(ea)', '시도별카페수(ea)'])"
   ]
  },
  {
   "cell_type": "code",
   "execution_count": 35,
   "metadata": {},
   "outputs": [
    {
     "data": {
      "text/html": [
       "<div>\n",
       "<style scoped>\n",
       "    .dataframe tbody tr th:only-of-type {\n",
       "        vertical-align: middle;\n",
       "    }\n",
       "\n",
       "    .dataframe tbody tr th {\n",
       "        vertical-align: top;\n",
       "    }\n",
       "\n",
       "    .dataframe thead th {\n",
       "        text-align: right;\n",
       "    }\n",
       "</style>\n",
       "<table border=\"1\" class=\"dataframe\">\n",
       "  <thead>\n",
       "    <tr style=\"text-align: right;\">\n",
       "      <th></th>\n",
       "      <th>면적당카페수(ea/㎢)</th>\n",
       "      <th>인구당카페수(ea/명)</th>\n",
       "      <th>총카페에대한구성비(%)</th>\n",
       "      <th>카페당관할인구수(명/ea)</th>\n",
       "      <th>전년도대비카페증감율(%)</th>\n",
       "    </tr>\n",
       "  </thead>\n",
       "  <tbody>\n",
       "    <tr>\n",
       "      <td>면적당카페수(ea/㎢)</td>\n",
       "      <td>1.000000</td>\n",
       "      <td>-0.037840</td>\n",
       "      <td>0.539403</td>\n",
       "      <td>-0.014179</td>\n",
       "      <td>-0.014638</td>\n",
       "    </tr>\n",
       "    <tr>\n",
       "      <td>인구당카페수(ea/명)</td>\n",
       "      <td>-0.037840</td>\n",
       "      <td>1.000000</td>\n",
       "      <td>-0.138190</td>\n",
       "      <td>-0.911153</td>\n",
       "      <td>0.110114</td>\n",
       "    </tr>\n",
       "    <tr>\n",
       "      <td>총카페에대한구성비(%)</td>\n",
       "      <td>0.539403</td>\n",
       "      <td>-0.138190</td>\n",
       "      <td>1.000000</td>\n",
       "      <td>0.073512</td>\n",
       "      <td>-0.054267</td>\n",
       "    </tr>\n",
       "    <tr>\n",
       "      <td>카페당관할인구수(명/ea)</td>\n",
       "      <td>-0.014179</td>\n",
       "      <td>-0.911153</td>\n",
       "      <td>0.073512</td>\n",
       "      <td>1.000000</td>\n",
       "      <td>-0.206254</td>\n",
       "    </tr>\n",
       "    <tr>\n",
       "      <td>전년도대비카페증감율(%)</td>\n",
       "      <td>-0.014638</td>\n",
       "      <td>0.110114</td>\n",
       "      <td>-0.054267</td>\n",
       "      <td>-0.206254</td>\n",
       "      <td>1.000000</td>\n",
       "    </tr>\n",
       "  </tbody>\n",
       "</table>\n",
       "</div>"
      ],
      "text/plain": [
       "                면적당카페수(ea/㎢)  인구당카페수(ea/명)  총카페에대한구성비(%)  카페당관할인구수(명/ea)  \\\n",
       "면적당카페수(ea/㎢)        1.000000     -0.037840      0.539403       -0.014179   \n",
       "인구당카페수(ea/명)       -0.037840      1.000000     -0.138190       -0.911153   \n",
       "총카페에대한구성비(%)        0.539403     -0.138190      1.000000        0.073512   \n",
       "카페당관할인구수(명/ea)     -0.014179     -0.911153      0.073512        1.000000   \n",
       "전년도대비카페증감율(%)      -0.014638      0.110114     -0.054267       -0.206254   \n",
       "\n",
       "                전년도대비카페증감율(%)  \n",
       "면적당카페수(ea/㎢)        -0.014638  \n",
       "인구당카페수(ea/명)         0.110114  \n",
       "총카페에대한구성비(%)        -0.054267  \n",
       "카페당관할인구수(명/ea)      -0.206254  \n",
       "전년도대비카페증감율(%)        1.000000  "
      ]
     },
     "execution_count": 35,
     "metadata": {},
     "output_type": "execute_result"
    }
   ],
   "source": [
    "df4.corr()"
   ]
  },
  {
   "cell_type": "code",
   "execution_count": 36,
   "metadata": {},
   "outputs": [
    {
     "data": {
      "image/png": "[encoded data removed]",
      "text/plain": [
       "<Figure size 1224x720 with 2 Axes>"
      ]
     },
     "metadata": {
      "needs_background": "light"
     },
     "output_type": "display_data"
    }
   ],
   "source": [
    "import seaborn as sns\n",
    "%matplotlib inline\n",
    "import matplotlib.pyplot as plt\n",
    "import matplotlib as mpl\n",
    "mpl.font_manager._rebuild()\n",
    "mpl.pyplot.rc('font', family='Gulim')\n",
    "\n",
    "\n",
    "## heatmap 그리기 ##\n",
    "plt.figure(figsize=(17,10))\n",
    "ax = sns.heatmap(df4.corr(), annot=True, fmt = '.2f', linewidths=.5, cmap='Blues',  cbar_kws={\"shrink\": .1}, vmin = -1,vmax = 1 )\n",
    "plt.xlabel('', fontsize=10)\n",
    "plt.ylabel('', fontsize=10)\n",
    "plt.title('전국카페 상관관계 히트맵', fontsize=20)\n",
    "plt.show() "
   ]
  },
  {
   "cell_type": "markdown",
   "metadata": {},
   "source": [
    "### 자료들 Export 하기"
   ]
  },
  {
   "cell_type": "code",
   "execution_count": 37,
   "metadata": {},
   "outputs": [
    {
     "data": {
      "text/plain": [
       "<Figure size 432x288 with 0 Axes>"
      ]
     },
     "metadata": {},
     "output_type": "display_data"
    }
   ],
   "source": [
    "plt.savefig('korea_cafe_corr.png')\n",
    "ax.figure.savefig('./data/Staging_table/korea_cafe_corr.png')\n",
    "df3.to_csv(        './data/Staging_table/korea_cafe_yearidx.csv', encoding = 'utf-8')\n",
    "df3_yearcol.to_csv('./data/Staging_table/korea_cafe_yearcol.csv', encoding = 'utf-8')\n",
    "df4.to_csv(        './data/Staging_table/korea_cafe_corr.csv', encoding = 'utf-8')"
   ]
  },
  {
   "cell_type": "markdown",
   "metadata": {},
   "source": [
    "### 커피 수출입 량, 금액 df 가져오기"
   ]
  },
  {
   "cell_type": "code",
   "execution_count": 92,
   "metadata": {},
   "outputs": [],
   "source": [
    "ori_trade=pd.read_csv('./data/Staging_table/korea_coffee_trade.csv', encoding = 'utf-8')"
   ]
  },
  {
   "cell_type": "code",
   "execution_count": 93,
   "metadata": {},
   "outputs": [],
   "source": [
    "ori_trade.rename(columns={'기간':'년도'}, inplace=True)\n",
    "trade_all = ori_trade.drop(['품목명'], axis=1)"
   ]
  },
  {
   "cell_type": "markdown",
   "metadata": {},
   "source": [
    "### mean, max, scale 구하기\n",
    "1. df2['면적']=df2['면적'].str.replace(',','')\n",
    "1. df2['면적']=df2['면적'].astype('float')\n"
   ]
  },
  {
   "cell_type": "code",
   "execution_count": 94,
   "metadata": {},
   "outputs": [],
   "source": [
    "trade_all['수출금액']=trade_all['수출금액'].str.replace(',','')\n",
    "trade_all['수출중량']=trade_all['수출중량'].str.replace(',','')\n",
    "trade_all['수입금액']=trade_all['수입금액'].str.replace(',','')\n",
    "trade_all['수입중량']=trade_all['수입중량'].str.replace(',','')\n",
    "df5 = trade_all.astype('float')"
   ]
  },
  {
   "cell_type": "markdown",
   "metadata": {},
   "source": [
    "### 증감 추이 구하기\n",
    "- df3['전년도대비카페증감율(%)'] = df3['시도별카페수(ea)'].pct_change()"
   ]
  },
  {
   "cell_type": "code",
   "execution_count": 95,
   "metadata": {},
   "outputs": [],
   "source": [
    "newcol = ['년도',\n",
    "'수출중량증감율(%)',\n",
    "'수입중량증감율(%)',\n",
    "'수입금액증감율(%)',\n",
    "'수입금액증감율(%)']\n",
    "df6 = df5.pct_change()\n",
    "df6.columns=newcol"
   ]
  },
  {
   "cell_type": "code",
   "execution_count": 96,
   "metadata": {},
   "outputs": [],
   "source": [
    "df6 = df6.iloc[:,1:]"
   ]
  },
  {
   "cell_type": "code",
   "execution_count": 97,
   "metadata": {},
   "outputs": [
    {
     "data": {
      "text/html": [
       "<div>\n",
       "<style scoped>\n",
       "    .dataframe tbody tr th:only-of-type {\n",
       "        vertical-align: middle;\n",
       "    }\n",
       "\n",
       "    .dataframe tbody tr th {\n",
       "        vertical-align: top;\n",
       "    }\n",
       "\n",
       "    .dataframe thead th {\n",
       "        text-align: right;\n",
       "    }\n",
       "</style>\n",
       "<table border=\"1\" class=\"dataframe\">\n",
       "  <thead>\n",
       "    <tr style=\"text-align: right;\">\n",
       "      <th></th>\n",
       "      <th>년도</th>\n",
       "      <th>수출중량</th>\n",
       "      <th>수입중량</th>\n",
       "      <th>수출금액</th>\n",
       "      <th>수입금액</th>\n",
       "      <th>수출중량증감율(%)</th>\n",
       "      <th>수입중량증감율(%)</th>\n",
       "      <th>수입금액증감율(%)</th>\n",
       "      <th>수입금액증감율(%)</th>\n",
       "    </tr>\n",
       "  </thead>\n",
       "  <tbody>\n",
       "    <tr>\n",
       "      <td>15</td>\n",
       "      <td>2015.0</td>\n",
       "      <td>344.9</td>\n",
       "      <td>137794.6</td>\n",
       "      <td>4199.0</td>\n",
       "      <td>547094.0</td>\n",
       "      <td>-0.240308</td>\n",
       "      <td>0.030379</td>\n",
       "      <td>-0.069783</td>\n",
       "      <td>0.037558</td>\n",
       "    </tr>\n",
       "    <tr>\n",
       "      <td>16</td>\n",
       "      <td>2016.0</td>\n",
       "      <td>410.1</td>\n",
       "      <td>153029.5</td>\n",
       "      <td>3323.0</td>\n",
       "      <td>562774.0</td>\n",
       "      <td>0.189040</td>\n",
       "      <td>0.110562</td>\n",
       "      <td>-0.208621</td>\n",
       "      <td>0.028661</td>\n",
       "    </tr>\n",
       "    <tr>\n",
       "      <td>17</td>\n",
       "      <td>2017.0</td>\n",
       "      <td>498.1</td>\n",
       "      <td>159309.3</td>\n",
       "      <td>3752.0</td>\n",
       "      <td>655344.0</td>\n",
       "      <td>0.214582</td>\n",
       "      <td>0.041037</td>\n",
       "      <td>0.129100</td>\n",
       "      <td>0.164489</td>\n",
       "    </tr>\n",
       "    <tr>\n",
       "      <td>18</td>\n",
       "      <td>2018.0</td>\n",
       "      <td>419.8</td>\n",
       "      <td>158385.4</td>\n",
       "      <td>4776.0</td>\n",
       "      <td>637288.0</td>\n",
       "      <td>-0.157197</td>\n",
       "      <td>-0.005799</td>\n",
       "      <td>0.272921</td>\n",
       "      <td>-0.027552</td>\n",
       "    </tr>\n",
       "    <tr>\n",
       "      <td>19</td>\n",
       "      <td>2019.0</td>\n",
       "      <td>590.1</td>\n",
       "      <td>167653.7</td>\n",
       "      <td>4050.0</td>\n",
       "      <td>661673.0</td>\n",
       "      <td>0.405669</td>\n",
       "      <td>0.058517</td>\n",
       "      <td>-0.152010</td>\n",
       "      <td>0.038264</td>\n",
       "    </tr>\n",
       "  </tbody>\n",
       "</table>\n",
       "</div>"
      ],
      "text/plain": [
       "        년도   수출중량      수입중량    수출금액      수입금액  수출중량증감율(%)  수입중량증감율(%)  \\\n",
       "15  2015.0  344.9  137794.6  4199.0  547094.0   -0.240308    0.030379   \n",
       "16  2016.0  410.1  153029.5  3323.0  562774.0    0.189040    0.110562   \n",
       "17  2017.0  498.1  159309.3  3752.0  655344.0    0.214582    0.041037   \n",
       "18  2018.0  419.8  158385.4  4776.0  637288.0   -0.157197   -0.005799   \n",
       "19  2019.0  590.1  167653.7  4050.0  661673.0    0.405669    0.058517   \n",
       "\n",
       "    수입금액증감율(%)  수입금액증감율(%)  \n",
       "15   -0.069783    0.037558  \n",
       "16   -0.208621    0.028661  \n",
       "17    0.129100    0.164489  \n",
       "18    0.272921   -0.027552  \n",
       "19   -0.152010    0.038264  "
      ]
     },
     "execution_count": 97,
     "metadata": {},
     "output_type": "execute_result"
    }
   ],
   "source": [
    "df5=pd.concat([df5,df6], axis=1)\n",
    "df5.tail()"
   ]
  },
  {
   "cell_type": "code",
   "execution_count": 98,
   "metadata": {},
   "outputs": [],
   "source": [
    "df5.to_csv('./data/Staging_table/korea_coffee_trade_pct.csv', encoding = 'utf-8')"
   ]
  },
  {
   "cell_type": "code",
   "execution_count": 99,
   "metadata": {},
   "outputs": [],
   "source": [
    "# df3_trade = df3_trade.drop(columns=['면적', '총카페수(ea)', '시도별카페수(ea)'])"
   ]
  },
  {
   "cell_type": "code",
   "execution_count": 100,
   "metadata": {},
   "outputs": [
    {
     "name": "stdout",
     "output_type": "stream",
     "text": [
      "<class 'pandas.core.frame.DataFrame'>\n",
      "Int64Index: 20 entries, 2000 to 2019\n",
      "Data columns (total 8 columns):\n",
      "수출중량          20 non-null float64\n",
      "수입중량          20 non-null float64\n",
      "수출금액          20 non-null float64\n",
      "수입금액          20 non-null float64\n",
      "수출중량증감율(%)    19 non-null float64\n",
      "수입중량증감율(%)    19 non-null float64\n",
      "수입금액증감율(%)    19 non-null float64\n",
      "수입금액증감율(%)    19 non-null float64\n",
      "dtypes: float64(8)\n",
      "memory usage: 1.4 KB\n"
     ]
    }
   ],
   "source": [
    "# 인덱스 정하기\n",
    "df5['년도'] = df5['년도'].astype('int16')\n",
    "df5.set_index('년도', inplace=True,drop=True)\n",
    "df5.info()"
   ]
  },
  {
   "cell_type": "code",
   "execution_count": 101,
   "metadata": {},
   "outputs": [
    {
     "data": {
      "text/html": [
       "<div>\n",
       "<style scoped>\n",
       "    .dataframe tbody tr th:only-of-type {\n",
       "        vertical-align: middle;\n",
       "    }\n",
       "\n",
       "    .dataframe tbody tr th {\n",
       "        vertical-align: top;\n",
       "    }\n",
       "\n",
       "    .dataframe thead th {\n",
       "        text-align: right;\n",
       "    }\n",
       "</style>\n",
       "<table border=\"1\" class=\"dataframe\">\n",
       "  <thead>\n",
       "    <tr style=\"text-align: right;\">\n",
       "      <th></th>\n",
       "      <th>수출중량</th>\n",
       "      <th>수입중량</th>\n",
       "      <th>수출금액</th>\n",
       "      <th>수입금액</th>\n",
       "    </tr>\n",
       "    <tr>\n",
       "      <th>년도</th>\n",
       "      <th></th>\n",
       "      <th></th>\n",
       "      <th></th>\n",
       "      <th></th>\n",
       "    </tr>\n",
       "  </thead>\n",
       "  <tbody>\n",
       "    <tr>\n",
       "      <td>2016</td>\n",
       "      <td>410.1</td>\n",
       "      <td>153029.5</td>\n",
       "      <td>3323.0</td>\n",
       "      <td>562774.0</td>\n",
       "    </tr>\n",
       "    <tr>\n",
       "      <td>2017</td>\n",
       "      <td>498.1</td>\n",
       "      <td>159309.3</td>\n",
       "      <td>3752.0</td>\n",
       "      <td>655344.0</td>\n",
       "    </tr>\n",
       "    <tr>\n",
       "      <td>2018</td>\n",
       "      <td>419.8</td>\n",
       "      <td>158385.4</td>\n",
       "      <td>4776.0</td>\n",
       "      <td>637288.0</td>\n",
       "    </tr>\n",
       "    <tr>\n",
       "      <td>2019</td>\n",
       "      <td>590.1</td>\n",
       "      <td>167653.7</td>\n",
       "      <td>4050.0</td>\n",
       "      <td>661673.0</td>\n",
       "    </tr>\n",
       "  </tbody>\n",
       "</table>\n",
       "</div>"
      ],
      "text/plain": [
       "       수출중량      수입중량    수출금액      수입금액\n",
       "년도                                     \n",
       "2016  410.1  153029.5  3323.0  562774.0\n",
       "2017  498.1  159309.3  3752.0  655344.0\n",
       "2018  419.8  158385.4  4776.0  637288.0\n",
       "2019  590.1  167653.7  4050.0  661673.0"
      ]
     },
     "execution_count": 101,
     "metadata": {},
     "output_type": "execute_result"
    }
   ],
   "source": [
    "# trade = df5.iloc[16:,4:]\n",
    "trade = df5.iloc[16:,:4]\n",
    "trade"
   ]
  },
  {
   "cell_type": "code",
   "execution_count": 102,
   "metadata": {},
   "outputs": [],
   "source": [
    "# # 스케일\n",
    "# df -= df.min()  # equivalent to df = df - df.min()\n",
    "# df /= df.max()  # equivalent to df = df / df.max()\n",
    "# df"
   ]
  },
  {
   "cell_type": "markdown",
   "metadata": {},
   "source": [
    "### 증감추이 합치기"
   ]
  },
  {
   "cell_type": "code",
   "execution_count": 103,
   "metadata": {},
   "outputs": [
    {
     "name": "stdout",
     "output_type": "stream",
     "text": [
      "<class 'pandas.core.frame.DataFrame'>\n",
      "MultiIndex: 68 entries, (강원, 2016) to (충북, 2019)\n",
      "Data columns (total 8 columns):\n",
      "면적                68 non-null float64\n",
      "면적당카페수(ea/㎢)      68 non-null float64\n",
      "시도별카페수(ea)        68 non-null int64\n",
      "인구당카페수(ea/명)      68 non-null float64\n",
      "총카페수(ea)          68 non-null int64\n",
      "총카페에대한구성비(%)      68 non-null float64\n",
      "카페당관할인구수(명/ea)    68 non-null float64\n",
      "전년도대비카페증감율(%)     68 non-null float64\n",
      "dtypes: float64(6), int64(2)\n",
      "memory usage: 7.4+ KB\n"
     ]
    },
    {
     "data": {
      "text/html": [
       "<div>\n",
       "<style scoped>\n",
       "    .dataframe tbody tr th:only-of-type {\n",
       "        vertical-align: middle;\n",
       "    }\n",
       "\n",
       "    .dataframe tbody tr th {\n",
       "        vertical-align: top;\n",
       "    }\n",
       "\n",
       "    .dataframe thead th {\n",
       "        text-align: right;\n",
       "    }\n",
       "</style>\n",
       "<table border=\"1\" class=\"dataframe\">\n",
       "  <thead>\n",
       "    <tr style=\"text-align: right;\">\n",
       "      <th></th>\n",
       "      <th></th>\n",
       "      <th>면적</th>\n",
       "      <th>면적당카페수(ea/㎢)</th>\n",
       "      <th>시도별카페수(ea)</th>\n",
       "      <th>인구당카페수(ea/명)</th>\n",
       "      <th>총카페수(ea)</th>\n",
       "      <th>총카페에대한구성비(%)</th>\n",
       "      <th>카페당관할인구수(명/ea)</th>\n",
       "      <th>전년도대비카페증감율(%)</th>\n",
       "    </tr>\n",
       "    <tr>\n",
       "      <th>시도명</th>\n",
       "      <th>년도</th>\n",
       "      <th></th>\n",
       "      <th></th>\n",
       "      <th></th>\n",
       "      <th></th>\n",
       "      <th></th>\n",
       "      <th></th>\n",
       "      <th></th>\n",
       "      <th></th>\n",
       "    </tr>\n",
       "  </thead>\n",
       "  <tbody>\n",
       "    <tr>\n",
       "      <td rowspan=\"4\" valign=\"top\">강원</td>\n",
       "      <td>2016</td>\n",
       "      <td>16826.4</td>\n",
       "      <td>0.136036</td>\n",
       "      <td>2289</td>\n",
       "      <td>0.001476</td>\n",
       "      <td>57855</td>\n",
       "      <td>3.956443</td>\n",
       "      <td>677.503713</td>\n",
       "      <td>0.000000</td>\n",
       "    </tr>\n",
       "    <tr>\n",
       "      <td>2017</td>\n",
       "      <td>16827.1</td>\n",
       "      <td>0.192606</td>\n",
       "      <td>3241</td>\n",
       "      <td>0.002091</td>\n",
       "      <td>76477</td>\n",
       "      <td>4.237875</td>\n",
       "      <td>478.291268</td>\n",
       "      <td>41.590214</td>\n",
       "    </tr>\n",
       "    <tr>\n",
       "      <td>2018</td>\n",
       "      <td>16827.8</td>\n",
       "      <td>0.217616</td>\n",
       "      <td>3662</td>\n",
       "      <td>0.002373</td>\n",
       "      <td>87370</td>\n",
       "      <td>4.191370</td>\n",
       "      <td>421.368651</td>\n",
       "      <td>12.989818</td>\n",
       "    </tr>\n",
       "    <tr>\n",
       "      <td>2019</td>\n",
       "      <td>16827.9</td>\n",
       "      <td>0.234016</td>\n",
       "      <td>3938</td>\n",
       "      <td>0.002555</td>\n",
       "      <td>96104</td>\n",
       "      <td>4.097644</td>\n",
       "      <td>391.442864</td>\n",
       "      <td>7.536865</td>\n",
       "    </tr>\n",
       "    <tr>\n",
       "      <td>경기</td>\n",
       "      <td>2016</td>\n",
       "      <td>10175.3</td>\n",
       "      <td>1.239570</td>\n",
       "      <td>12613</td>\n",
       "      <td>0.000992</td>\n",
       "      <td>57855</td>\n",
       "      <td>21.801054</td>\n",
       "      <td>1008.228019</td>\n",
       "      <td>0.000000</td>\n",
       "    </tr>\n",
       "  </tbody>\n",
       "</table>\n",
       "</div>"
      ],
      "text/plain": [
       "               면적  면적당카페수(ea/㎢)  시도별카페수(ea)  인구당카페수(ea/명)  총카페수(ea)  \\\n",
       "시도명 년도                                                                \n",
       "강원  2016  16826.4      0.136036        2289      0.001476     57855   \n",
       "    2017  16827.1      0.192606        3241      0.002091     76477   \n",
       "    2018  16827.8      0.217616        3662      0.002373     87370   \n",
       "    2019  16827.9      0.234016        3938      0.002555     96104   \n",
       "경기  2016  10175.3      1.239570       12613      0.000992     57855   \n",
       "\n",
       "          총카페에대한구성비(%)  카페당관할인구수(명/ea)  전년도대비카페증감율(%)  \n",
       "시도명 년도                                                 \n",
       "강원  2016      3.956443      677.503713       0.000000  \n",
       "    2017      4.237875      478.291268      41.590214  \n",
       "    2018      4.191370      421.368651      12.989818  \n",
       "    2019      4.097644      391.442864       7.536865  \n",
       "경기  2016     21.801054     1008.228019       0.000000  "
      ]
     },
     "execution_count": 103,
     "metadata": {},
     "output_type": "execute_result"
    }
   ],
   "source": [
    "df3.info()\n",
    "df3.head()"
   ]
  },
  {
   "cell_type": "code",
   "execution_count": 104,
   "metadata": {},
   "outputs": [],
   "source": [
    "# trade와 df3 합치기\n",
    "df3_trade = pd.merge(df3,trade, left_index =True, right_index=True )"
   ]
  },
  {
   "cell_type": "code",
   "execution_count": 105,
   "metadata": {},
   "outputs": [
    {
     "data": {
      "text/html": [
       "<div>\n",
       "<style scoped>\n",
       "    .dataframe tbody tr th:only-of-type {\n",
       "        vertical-align: middle;\n",
       "    }\n",
       "\n",
       "    .dataframe tbody tr th {\n",
       "        vertical-align: top;\n",
       "    }\n",
       "\n",
       "    .dataframe thead th {\n",
       "        text-align: right;\n",
       "    }\n",
       "</style>\n",
       "<table border=\"1\" class=\"dataframe\">\n",
       "  <thead>\n",
       "    <tr style=\"text-align: right;\">\n",
       "      <th></th>\n",
       "      <th></th>\n",
       "      <th>면적</th>\n",
       "      <th>면적당카페수(ea/㎢)</th>\n",
       "      <th>시도별카페수(ea)</th>\n",
       "      <th>인구당카페수(ea/명)</th>\n",
       "      <th>총카페수(ea)</th>\n",
       "      <th>총카페에대한구성비(%)</th>\n",
       "      <th>카페당관할인구수(명/ea)</th>\n",
       "      <th>전년도대비카페증감율(%)</th>\n",
       "      <th>수출중량</th>\n",
       "      <th>수입중량</th>\n",
       "      <th>수출금액</th>\n",
       "      <th>수입금액</th>\n",
       "    </tr>\n",
       "    <tr>\n",
       "      <th>시도명</th>\n",
       "      <th>년도</th>\n",
       "      <th></th>\n",
       "      <th></th>\n",
       "      <th></th>\n",
       "      <th></th>\n",
       "      <th></th>\n",
       "      <th></th>\n",
       "      <th></th>\n",
       "      <th></th>\n",
       "      <th></th>\n",
       "      <th></th>\n",
       "      <th></th>\n",
       "      <th></th>\n",
       "    </tr>\n",
       "  </thead>\n",
       "  <tbody>\n",
       "    <tr>\n",
       "      <td rowspan=\"4\" valign=\"top\">강원</td>\n",
       "      <td>2016</td>\n",
       "      <td>16826.4</td>\n",
       "      <td>0.136036</td>\n",
       "      <td>2289</td>\n",
       "      <td>0.001476</td>\n",
       "      <td>57855</td>\n",
       "      <td>3.956443</td>\n",
       "      <td>677.503713</td>\n",
       "      <td>0.000000</td>\n",
       "      <td>410.1</td>\n",
       "      <td>153029.5</td>\n",
       "      <td>3323.0</td>\n",
       "      <td>562774.0</td>\n",
       "    </tr>\n",
       "    <tr>\n",
       "      <td>2017</td>\n",
       "      <td>16827.1</td>\n",
       "      <td>0.192606</td>\n",
       "      <td>3241</td>\n",
       "      <td>0.002091</td>\n",
       "      <td>76477</td>\n",
       "      <td>4.237875</td>\n",
       "      <td>478.291268</td>\n",
       "      <td>41.590214</td>\n",
       "      <td>498.1</td>\n",
       "      <td>159309.3</td>\n",
       "      <td>3752.0</td>\n",
       "      <td>655344.0</td>\n",
       "    </tr>\n",
       "    <tr>\n",
       "      <td>2018</td>\n",
       "      <td>16827.8</td>\n",
       "      <td>0.217616</td>\n",
       "      <td>3662</td>\n",
       "      <td>0.002373</td>\n",
       "      <td>87370</td>\n",
       "      <td>4.191370</td>\n",
       "      <td>421.368651</td>\n",
       "      <td>12.989818</td>\n",
       "      <td>419.8</td>\n",
       "      <td>158385.4</td>\n",
       "      <td>4776.0</td>\n",
       "      <td>637288.0</td>\n",
       "    </tr>\n",
       "    <tr>\n",
       "      <td>2019</td>\n",
       "      <td>16827.9</td>\n",
       "      <td>0.234016</td>\n",
       "      <td>3938</td>\n",
       "      <td>0.002555</td>\n",
       "      <td>96104</td>\n",
       "      <td>4.097644</td>\n",
       "      <td>391.442864</td>\n",
       "      <td>7.536865</td>\n",
       "      <td>590.1</td>\n",
       "      <td>167653.7</td>\n",
       "      <td>4050.0</td>\n",
       "      <td>661673.0</td>\n",
       "    </tr>\n",
       "    <tr>\n",
       "      <td>경기</td>\n",
       "      <td>2016</td>\n",
       "      <td>10175.3</td>\n",
       "      <td>1.239570</td>\n",
       "      <td>12613</td>\n",
       "      <td>0.000992</td>\n",
       "      <td>57855</td>\n",
       "      <td>21.801054</td>\n",
       "      <td>1008.228019</td>\n",
       "      <td>0.000000</td>\n",
       "      <td>410.1</td>\n",
       "      <td>153029.5</td>\n",
       "      <td>3323.0</td>\n",
       "      <td>562774.0</td>\n",
       "    </tr>\n",
       "  </tbody>\n",
       "</table>\n",
       "</div>"
      ],
      "text/plain": [
       "               면적  면적당카페수(ea/㎢)  시도별카페수(ea)  인구당카페수(ea/명)  총카페수(ea)  \\\n",
       "시도명 년도                                                                \n",
       "강원  2016  16826.4      0.136036        2289      0.001476     57855   \n",
       "    2017  16827.1      0.192606        3241      0.002091     76477   \n",
       "    2018  16827.8      0.217616        3662      0.002373     87370   \n",
       "    2019  16827.9      0.234016        3938      0.002555     96104   \n",
       "경기  2016  10175.3      1.239570       12613      0.000992     57855   \n",
       "\n",
       "          총카페에대한구성비(%)  카페당관할인구수(명/ea)  전년도대비카페증감율(%)   수출중량      수입중량  \\\n",
       "시도명 년도                                                                   \n",
       "강원  2016      3.956443      677.503713       0.000000  410.1  153029.5   \n",
       "    2017      4.237875      478.291268      41.590214  498.1  159309.3   \n",
       "    2018      4.191370      421.368651      12.989818  419.8  158385.4   \n",
       "    2019      4.097644      391.442864       7.536865  590.1  167653.7   \n",
       "경기  2016     21.801054     1008.228019       0.000000  410.1  153029.5   \n",
       "\n",
       "            수출금액      수입금액  \n",
       "시도명 년도                      \n",
       "강원  2016  3323.0  562774.0  \n",
       "    2017  3752.0  655344.0  \n",
       "    2018  4776.0  637288.0  \n",
       "    2019  4050.0  661673.0  \n",
       "경기  2016  3323.0  562774.0  "
      ]
     },
     "execution_count": 105,
     "metadata": {},
     "output_type": "execute_result"
    }
   ],
   "source": [
    "df3_trade.head()"
   ]
  },
  {
   "cell_type": "code",
   "execution_count": 106,
   "metadata": {},
   "outputs": [
    {
     "data": {
      "text/html": [
       "<div>\n",
       "<style scoped>\n",
       "    .dataframe tbody tr th:only-of-type {\n",
       "        vertical-align: middle;\n",
       "    }\n",
       "\n",
       "    .dataframe tbody tr th {\n",
       "        vertical-align: top;\n",
       "    }\n",
       "\n",
       "    .dataframe thead th {\n",
       "        text-align: right;\n",
       "    }\n",
       "</style>\n",
       "<table border=\"1\" class=\"dataframe\">\n",
       "  <thead>\n",
       "    <tr style=\"text-align: right;\">\n",
       "      <th></th>\n",
       "      <th>시도명</th>\n",
       "      <th>시도별카페수(ea)</th>\n",
       "      <th>인구당카페수(ea/명)</th>\n",
       "      <th>카페당관할인구수(명/ea)</th>\n",
       "      <th>면적</th>\n",
       "      <th>년도</th>\n",
       "      <th>총카페수(ea)</th>\n",
       "      <th>면적당카페수(ea/㎢)</th>\n",
       "      <th>총카페에대한구성비(%)</th>\n",
       "    </tr>\n",
       "  </thead>\n",
       "  <tbody>\n",
       "    <tr>\n",
       "      <td>0</td>\n",
       "      <td>강원</td>\n",
       "      <td>2289</td>\n",
       "      <td>0.001476</td>\n",
       "      <td>677.503713</td>\n",
       "      <td>16826.4</td>\n",
       "      <td>2016</td>\n",
       "      <td>57855</td>\n",
       "      <td>0.136036</td>\n",
       "      <td>3.956443</td>\n",
       "    </tr>\n",
       "    <tr>\n",
       "      <td>1</td>\n",
       "      <td>경기</td>\n",
       "      <td>12613</td>\n",
       "      <td>0.000992</td>\n",
       "      <td>1008.228019</td>\n",
       "      <td>10175.3</td>\n",
       "      <td>2016</td>\n",
       "      <td>57855</td>\n",
       "      <td>1.239570</td>\n",
       "      <td>21.801054</td>\n",
       "    </tr>\n",
       "    <tr>\n",
       "      <td>2</td>\n",
       "      <td>경남</td>\n",
       "      <td>4025</td>\n",
       "      <td>0.001193</td>\n",
       "      <td>838.228820</td>\n",
       "      <td>10538.8</td>\n",
       "      <td>2016</td>\n",
       "      <td>57855</td>\n",
       "      <td>0.381922</td>\n",
       "      <td>6.957048</td>\n",
       "    </tr>\n",
       "    <tr>\n",
       "      <td>3</td>\n",
       "      <td>경북</td>\n",
       "      <td>3570</td>\n",
       "      <td>0.001322</td>\n",
       "      <td>756.414006</td>\n",
       "      <td>19030.7</td>\n",
       "      <td>2016</td>\n",
       "      <td>57855</td>\n",
       "      <td>0.187592</td>\n",
       "      <td>6.170599</td>\n",
       "    </tr>\n",
       "    <tr>\n",
       "      <td>4</td>\n",
       "      <td>광주</td>\n",
       "      <td>1577</td>\n",
       "      <td>0.001073</td>\n",
       "      <td>931.651237</td>\n",
       "      <td>501.2</td>\n",
       "      <td>2016</td>\n",
       "      <td>57855</td>\n",
       "      <td>3.146449</td>\n",
       "      <td>2.725780</td>\n",
       "    </tr>\n",
       "  </tbody>\n",
       "</table>\n",
       "</div>"
      ],
      "text/plain": [
       "  시도명  시도별카페수(ea)  인구당카페수(ea/명)  카페당관할인구수(명/ea)       면적    년도  총카페수(ea)  \\\n",
       "0  강원        2289      0.001476      677.503713  16826.4  2016     57855   \n",
       "1  경기       12613      0.000992     1008.228019  10175.3  2016     57855   \n",
       "2  경남        4025      0.001193      838.228820  10538.8  2016     57855   \n",
       "3  경북        3570      0.001322      756.414006  19030.7  2016     57855   \n",
       "4  광주        1577      0.001073      931.651237    501.2  2016     57855   \n",
       "\n",
       "   면적당카페수(ea/㎢)  총카페에대한구성비(%)  \n",
       "0      0.136036      3.956443  \n",
       "1      1.239570     21.801054  \n",
       "2      0.381922      6.957048  \n",
       "3      0.187592      6.170599  \n",
       "4      3.146449      2.725780  "
      ]
     },
     "execution_count": 106,
     "metadata": {},
     "output_type": "execute_result"
    }
   ],
   "source": [
    "df2.head()"
   ]
  },
  {
   "cell_type": "code",
   "execution_count": 107,
   "metadata": {},
   "outputs": [],
   "source": [
    "df2_trade = pd.merge(df2,trade, left_on =\"년도\", right_index=True )"
   ]
  },
  {
   "cell_type": "code",
   "execution_count": 108,
   "metadata": {},
   "outputs": [
    {
     "data": {
      "text/html": [
       "<div>\n",
       "<style scoped>\n",
       "    .dataframe tbody tr th:only-of-type {\n",
       "        vertical-align: middle;\n",
       "    }\n",
       "\n",
       "    .dataframe tbody tr th {\n",
       "        vertical-align: top;\n",
       "    }\n",
       "\n",
       "    .dataframe thead th {\n",
       "        text-align: right;\n",
       "    }\n",
       "</style>\n",
       "<table border=\"1\" class=\"dataframe\">\n",
       "  <thead>\n",
       "    <tr style=\"text-align: right;\">\n",
       "      <th></th>\n",
       "      <th>시도명</th>\n",
       "      <th>시도별카페수(ea)</th>\n",
       "      <th>인구당카페수(ea/명)</th>\n",
       "      <th>카페당관할인구수(명/ea)</th>\n",
       "      <th>면적</th>\n",
       "      <th>년도</th>\n",
       "      <th>총카페수(ea)</th>\n",
       "      <th>면적당카페수(ea/㎢)</th>\n",
       "      <th>총카페에대한구성비(%)</th>\n",
       "      <th>수출중량</th>\n",
       "      <th>수입중량</th>\n",
       "      <th>수출금액</th>\n",
       "      <th>수입금액</th>\n",
       "    </tr>\n",
       "  </thead>\n",
       "  <tbody>\n",
       "    <tr>\n",
       "      <td>0</td>\n",
       "      <td>강원</td>\n",
       "      <td>2289</td>\n",
       "      <td>0.001476</td>\n",
       "      <td>677.503713</td>\n",
       "      <td>16826.4</td>\n",
       "      <td>2016</td>\n",
       "      <td>57855</td>\n",
       "      <td>0.136036</td>\n",
       "      <td>3.956443</td>\n",
       "      <td>410.1</td>\n",
       "      <td>153029.5</td>\n",
       "      <td>3323.0</td>\n",
       "      <td>562774.0</td>\n",
       "    </tr>\n",
       "    <tr>\n",
       "      <td>1</td>\n",
       "      <td>경기</td>\n",
       "      <td>12613</td>\n",
       "      <td>0.000992</td>\n",
       "      <td>1008.228019</td>\n",
       "      <td>10175.3</td>\n",
       "      <td>2016</td>\n",
       "      <td>57855</td>\n",
       "      <td>1.239570</td>\n",
       "      <td>21.801054</td>\n",
       "      <td>410.1</td>\n",
       "      <td>153029.5</td>\n",
       "      <td>3323.0</td>\n",
       "      <td>562774.0</td>\n",
       "    </tr>\n",
       "    <tr>\n",
       "      <td>2</td>\n",
       "      <td>경남</td>\n",
       "      <td>4025</td>\n",
       "      <td>0.001193</td>\n",
       "      <td>838.228820</td>\n",
       "      <td>10538.8</td>\n",
       "      <td>2016</td>\n",
       "      <td>57855</td>\n",
       "      <td>0.381922</td>\n",
       "      <td>6.957048</td>\n",
       "      <td>410.1</td>\n",
       "      <td>153029.5</td>\n",
       "      <td>3323.0</td>\n",
       "      <td>562774.0</td>\n",
       "    </tr>\n",
       "    <tr>\n",
       "      <td>3</td>\n",
       "      <td>경북</td>\n",
       "      <td>3570</td>\n",
       "      <td>0.001322</td>\n",
       "      <td>756.414006</td>\n",
       "      <td>19030.7</td>\n",
       "      <td>2016</td>\n",
       "      <td>57855</td>\n",
       "      <td>0.187592</td>\n",
       "      <td>6.170599</td>\n",
       "      <td>410.1</td>\n",
       "      <td>153029.5</td>\n",
       "      <td>3323.0</td>\n",
       "      <td>562774.0</td>\n",
       "    </tr>\n",
       "    <tr>\n",
       "      <td>4</td>\n",
       "      <td>광주</td>\n",
       "      <td>1577</td>\n",
       "      <td>0.001073</td>\n",
       "      <td>931.651237</td>\n",
       "      <td>501.2</td>\n",
       "      <td>2016</td>\n",
       "      <td>57855</td>\n",
       "      <td>3.146449</td>\n",
       "      <td>2.725780</td>\n",
       "      <td>410.1</td>\n",
       "      <td>153029.5</td>\n",
       "      <td>3323.0</td>\n",
       "      <td>562774.0</td>\n",
       "    </tr>\n",
       "  </tbody>\n",
       "</table>\n",
       "</div>"
      ],
      "text/plain": [
       "  시도명  시도별카페수(ea)  인구당카페수(ea/명)  카페당관할인구수(명/ea)       면적    년도  총카페수(ea)  \\\n",
       "0  강원        2289      0.001476      677.503713  16826.4  2016     57855   \n",
       "1  경기       12613      0.000992     1008.228019  10175.3  2016     57855   \n",
       "2  경남        4025      0.001193      838.228820  10538.8  2016     57855   \n",
       "3  경북        3570      0.001322      756.414006  19030.7  2016     57855   \n",
       "4  광주        1577      0.001073      931.651237    501.2  2016     57855   \n",
       "\n",
       "   면적당카페수(ea/㎢)  총카페에대한구성비(%)   수출중량      수입중량    수출금액      수입금액  \n",
       "0      0.136036      3.956443  410.1  153029.5  3323.0  562774.0  \n",
       "1      1.239570     21.801054  410.1  153029.5  3323.0  562774.0  \n",
       "2      0.381922      6.957048  410.1  153029.5  3323.0  562774.0  \n",
       "3      0.187592      6.170599  410.1  153029.5  3323.0  562774.0  \n",
       "4      3.146449      2.725780  410.1  153029.5  3323.0  562774.0  "
      ]
     },
     "execution_count": 108,
     "metadata": {},
     "output_type": "execute_result"
    }
   ],
   "source": [
    "df2_trade.head()"
   ]
  },
  {
   "cell_type": "code",
   "execution_count": 109,
   "metadata": {},
   "outputs": [],
   "source": [
    "#df3_trade1 = df3_trade.drop(columns=['면적', '총카페수(ea)', '시도별카페수(ea)'])"
   ]
  },
  {
   "cell_type": "code",
   "execution_count": 110,
   "metadata": {},
   "outputs": [],
   "source": [
    "# df3_trade.corr()"
   ]
  },
  {
   "cell_type": "code",
   "execution_count": 111,
   "metadata": {},
   "outputs": [
    {
     "data": {
      "image/png": "[encoded data removed]",
      "text/plain": [
       "<Figure size 1224x720 with 2 Axes>"
      ]
     },
     "metadata": {
      "needs_background": "light"
     },
     "output_type": "display_data"
    }
   ],
   "source": [
    "import seaborn as sns\n",
    "%matplotlib inline\n",
    "import matplotlib.pyplot as plt\n",
    "import matplotlib as mpl\n",
    "mpl.font_manager._rebuild()\n",
    "mpl.pyplot.rc('font', family='Gulim')\n",
    "\n",
    "\n",
    "## heatmap 그리기 ##\n",
    "plt.figure(figsize=(17,10))\n",
    "ax = sns.heatmap(df3_trade.corr(), annot=True, fmt = '.2f', linewidths=.5, cmap='Blues',  cbar_kws={\"shrink\": .1}, vmin = -1,vmax = 1 )\n",
    "plt.xlabel('', fontsize=10)\n",
    "plt.ylabel('', fontsize=10)\n",
    "plt.title('전국카페 상관관계 히트맵', fontsize=20)\n",
    "plt.show() "
   ]
  },
  {
   "cell_type": "markdown",
   "metadata": {},
   "source": [
    "### 시도별 카페수 Bar chart"
   ]
  },
  {
   "cell_type": "code",
   "execution_count": 158,
   "metadata": {},
   "outputs": [
    {
     "data": {
      "text/html": [
       "<div>\n",
       "<style scoped>\n",
       "    .dataframe tbody tr th:only-of-type {\n",
       "        vertical-align: middle;\n",
       "    }\n",
       "\n",
       "    .dataframe tbody tr th {\n",
       "        vertical-align: top;\n",
       "    }\n",
       "\n",
       "    .dataframe thead tr th {\n",
       "        text-align: left;\n",
       "    }\n",
       "\n",
       "    .dataframe thead tr:last-of-type th {\n",
       "        text-align: right;\n",
       "    }\n",
       "</style>\n",
       "<table border=\"1\" class=\"dataframe\">\n",
       "  <thead>\n",
       "    <tr>\n",
       "      <th></th>\n",
       "      <th colspan=\"4\" halign=\"left\">시도별카페수(ea)</th>\n",
       "    </tr>\n",
       "    <tr>\n",
       "      <th>년도</th>\n",
       "      <th>2016</th>\n",
       "      <th>2017</th>\n",
       "      <th>2018</th>\n",
       "      <th>2019</th>\n",
       "    </tr>\n",
       "    <tr>\n",
       "      <th>시도명</th>\n",
       "      <th></th>\n",
       "      <th></th>\n",
       "      <th></th>\n",
       "      <th></th>\n",
       "    </tr>\n",
       "  </thead>\n",
       "  <tbody>\n",
       "    <tr>\n",
       "      <td>강원</td>\n",
       "      <td>2289</td>\n",
       "      <td>3241</td>\n",
       "      <td>3662</td>\n",
       "      <td>3938</td>\n",
       "    </tr>\n",
       "    <tr>\n",
       "      <td>경기</td>\n",
       "      <td>12613</td>\n",
       "      <td>17596</td>\n",
       "      <td>20154</td>\n",
       "      <td>22225</td>\n",
       "    </tr>\n",
       "    <tr>\n",
       "      <td>경남</td>\n",
       "      <td>4025</td>\n",
       "      <td>4903</td>\n",
       "      <td>5555</td>\n",
       "      <td>5903</td>\n",
       "    </tr>\n",
       "    <tr>\n",
       "      <td>경북</td>\n",
       "      <td>3570</td>\n",
       "      <td>4533</td>\n",
       "      <td>5133</td>\n",
       "      <td>5612</td>\n",
       "    </tr>\n",
       "    <tr>\n",
       "      <td>광주</td>\n",
       "      <td>1577</td>\n",
       "      <td>2181</td>\n",
       "      <td>2618</td>\n",
       "      <td>2850</td>\n",
       "    </tr>\n",
       "    <tr>\n",
       "      <td>대구</td>\n",
       "      <td>3097</td>\n",
       "      <td>3604</td>\n",
       "      <td>4202</td>\n",
       "      <td>4530</td>\n",
       "    </tr>\n",
       "    <tr>\n",
       "      <td>대전</td>\n",
       "      <td>2067</td>\n",
       "      <td>2656</td>\n",
       "      <td>3044</td>\n",
       "      <td>3288</td>\n",
       "    </tr>\n",
       "    <tr>\n",
       "      <td>부산</td>\n",
       "      <td>3291</td>\n",
       "      <td>3839</td>\n",
       "      <td>4611</td>\n",
       "      <td>4915</td>\n",
       "    </tr>\n",
       "    <tr>\n",
       "      <td>서울</td>\n",
       "      <td>11125</td>\n",
       "      <td>14515</td>\n",
       "      <td>16281</td>\n",
       "      <td>18742</td>\n",
       "    </tr>\n",
       "    <tr>\n",
       "      <td>세종</td>\n",
       "      <td>177</td>\n",
       "      <td>370</td>\n",
       "      <td>438</td>\n",
       "      <td>486</td>\n",
       "    </tr>\n",
       "    <tr>\n",
       "      <td>울산</td>\n",
       "      <td>1213</td>\n",
       "      <td>1470</td>\n",
       "      <td>1793</td>\n",
       "      <td>2077</td>\n",
       "    </tr>\n",
       "    <tr>\n",
       "      <td>인천</td>\n",
       "      <td>3071</td>\n",
       "      <td>4160</td>\n",
       "      <td>4432</td>\n",
       "      <td>4953</td>\n",
       "    </tr>\n",
       "    <tr>\n",
       "      <td>전남</td>\n",
       "      <td>1906</td>\n",
       "      <td>2813</td>\n",
       "      <td>3309</td>\n",
       "      <td>3588</td>\n",
       "    </tr>\n",
       "    <tr>\n",
       "      <td>전북</td>\n",
       "      <td>2424</td>\n",
       "      <td>3193</td>\n",
       "      <td>3715</td>\n",
       "      <td>3920</td>\n",
       "    </tr>\n",
       "    <tr>\n",
       "      <td>제주</td>\n",
       "      <td>1261</td>\n",
       "      <td>1691</td>\n",
       "      <td>2089</td>\n",
       "      <td>2224</td>\n",
       "    </tr>\n",
       "    <tr>\n",
       "      <td>충남</td>\n",
       "      <td>2466</td>\n",
       "      <td>3417</td>\n",
       "      <td>3760</td>\n",
       "      <td>4037</td>\n",
       "    </tr>\n",
       "    <tr>\n",
       "      <td>충북</td>\n",
       "      <td>1683</td>\n",
       "      <td>2295</td>\n",
       "      <td>2574</td>\n",
       "      <td>2816</td>\n",
       "    </tr>\n",
       "  </tbody>\n",
       "</table>\n",
       "</div>"
      ],
      "text/plain": [
       "    시도별카페수(ea)                     \n",
       "년도        2016   2017   2018   2019\n",
       "시도명                                \n",
       "강원        2289   3241   3662   3938\n",
       "경기       12613  17596  20154  22225\n",
       "경남        4025   4903   5555   5903\n",
       "경북        3570   4533   5133   5612\n",
       "광주        1577   2181   2618   2850\n",
       "대구        3097   3604   4202   4530\n",
       "대전        2067   2656   3044   3288\n",
       "부산        3291   3839   4611   4915\n",
       "서울       11125  14515  16281  18742\n",
       "세종         177    370    438    486\n",
       "울산        1213   1470   1793   2077\n",
       "인천        3071   4160   4432   4953\n",
       "전남        1906   2813   3309   3588\n",
       "전북        2424   3193   3715   3920\n",
       "제주        1261   1691   2089   2224\n",
       "충남        2466   3417   3760   4037\n",
       "충북        1683   2295   2574   2816"
      ]
     },
     "execution_count": 158,
     "metadata": {},
     "output_type": "execute_result"
    }
   ],
   "source": [
    "df2_cnt=df2.iloc[:,[0,5,1]]\n",
    "df2_cnt1=df2_cnt.pivot_table(index='시도명', columns='년도' )\n",
    "\n",
    "# 인덱스 정하기\n",
    "# df2_cnt.set_index('시도명', inplace=True, drop=True)\n",
    "df2_cnt1"
   ]
  },
  {
   "cell_type": "code",
   "execution_count": null,
   "metadata": {},
   "outputs": [],
   "source": []
  },
  {
   "cell_type": "code",
   "execution_count": 211,
   "metadata": {},
   "outputs": [
    {
     "data": {
      "image/png": "[encoded data removed]",
      "text/plain": [
       "<Figure size 1440x720 with 1 Axes>"
      ]
     },
     "metadata": {
      "needs_background": "light"
     },
     "output_type": "display_data"
    }
   ],
   "source": [
    "ax = df2_cnt1.plot(kind='bar' ,figsize=(20,10))\n",
    "\n",
    "# 그래프 박스 없애기\n",
    "plt.sca(ax)\n",
    "plt.box(False)"
   ]
  },
  {
   "cell_type": "markdown",
   "metadata": {},
   "source": [
    "### 그래프 위에 값 표시하기 \n",
    "- ax.annotate(s, xy, *args, **kwargs) 는 그래프 안에 특정 위치에 문자열을 찍어준다.\n",
    "    1. s 인자에 문자열을 넣어주면된다.\n",
    "    2. xy 에는 튜플로 문자열이 들어갈 (x, y) 위치를 넣어주면 된다.\n",
    "        - 위 코드에서는 (left+width/2, height*1.01) 를 주었는데, 잘 해석해보면,\n",
    "        - x는 현재 막대그래프의 가운데 위치\n",
    "        - y는 현재 막대그래프의 높이 위치임을 알 수 있다.\n",
    "        - y*1.01 은 막대그래프의 높이보다 조금 더 높게(0.01 더 높게) 일종의 마진을 준 것이다. 바꿔도 상관없다.\n",
    "    1. ha 는 짐작할 수 있듯이, horizontal align 이다. 이를 center 로 둬야, 중심축이 가운데로 온다.\n"
   ]
  },
  {
   "cell_type": "code",
   "execution_count": 247,
   "metadata": {},
   "outputs": [],
   "source": [
    "# legend 사이즈 조정\n",
    "import pylab as plot\n",
    "params = {'legend.fontsize': 25,\n",
    "          'legend.handlelength': 2}\n",
    "plot.rcParams.update(params)"
   ]
  },
  {
   "cell_type": "code",
   "execution_count": 249,
   "metadata": {},
   "outputs": [
    {
     "data": {
      "image/png": "[encoded data removed]",
      "text/plain": [
       "<Figure size 1440x720 with 1 Axes>"
      ]
     },
     "metadata": {
      "needs_background": "light"
     },
     "output_type": "display_data"
    }
   ],
   "source": [
    "ax = df2_cnt1.plot(kind='bar', rot=45, colors=['gold', 'darkcyan','pink', 'darkturquoise'], figsize=(20,10))\n",
    "\n",
    "for p in ax.patches: # 막대들을 담고 있는 리스트\n",
    "    left, bottom, width, height = p.get_bbox().bounds # 해당 막대그래프의 정보 \n",
    "    ax.annotate(\"%d\"%(height), (left+width/2, height*1.01), ha='center')\n",
    "\n",
    "   \n",
    "plt.title(\"년도별 카페수 추이\", fontsize=35)\n",
    "\n",
    "plt.xlabel('시도별', fontsize=15)\n",
    "\n",
    "plt.ylabel('카페수', fontsize=25)\n",
    "\n",
    "plt.xticks( fontsize=25)\n",
    "plt.yticks( fontsize=15)\n",
    "\n",
    "plt.show()"
   ]
  },
  {
   "cell_type": "code",
   "execution_count": 250,
   "metadata": {},
   "outputs": [],
   "source": [
    "ax.figure.savefig('./data/Cleansed_data/korea_cafe_cnt_bar.png')"
   ]
  },
  {
   "cell_type": "code",
   "execution_count": 239,
   "metadata": {},
   "outputs": [],
   "source": [
    "df2_cnt1.to_csv('./data/Cleansed_data/korea_cafe_cnt.csv', encoding='utf-8')"
   ]
  },
  {
   "cell_type": "code",
   "execution_count": null,
   "metadata": {},
   "outputs": [],
   "source": []
  },
  {
   "cell_type": "code",
   "execution_count": null,
   "metadata": {},
   "outputs": [],
   "source": []
  },
  {
   "cell_type": "markdown",
   "metadata": {},
   "source": [
    "### 자료 저장"
   ]
  },
  {
   "cell_type": "code",
   "execution_count": 112,
   "metadata": {},
   "outputs": [
    {
     "data": {
      "text/plain": [
       "<Figure size 432x288 with 0 Axes>"
      ]
     },
     "metadata": {},
     "output_type": "display_data"
    }
   ],
   "source": [
    "plt.savefig('korea_cafe_corr_pct.png')\n",
    "ax.figure.savefig('./data/Staging_table/korea_cafe_corr_pct.png')\n",
    "df3_trade.to_csv('./data/Staging_table/korea_cafe_yearidx_pct.csv', encoding = 'utf-8')"
   ]
  },
  {
   "cell_type": "code",
   "execution_count": null,
   "metadata": {},
   "outputs": [],
   "source": []
  },
  {
   "cell_type": "code",
   "execution_count": null,
   "metadata": {},
   "outputs": [],
   "source": []
  },
  {
   "cell_type": "code",
   "execution_count": null,
   "metadata": {},
   "outputs": [],
   "source": []
  },
  {
   "cell_type": "code",
   "execution_count": null,
   "metadata": {},
   "outputs": [],
   "source": []
  },
  {
   "cell_type": "code",
   "execution_count": null,
   "metadata": {},
   "outputs": [],
   "source": []
  },
  {
   "cell_type": "code",
   "execution_count": null,
   "metadata": {},
   "outputs": [],
   "source": []
  },
  {
   "cell_type": "code",
   "execution_count": null,
   "metadata": {},
   "outputs": [],
   "source": []
  },
  {
   "cell_type": "code",
   "execution_count": null,
   "metadata": {},
   "outputs": [],
   "source": []
  },
  {
   "cell_type": "code",
   "execution_count": 257,
   "metadata": {},
   "outputs": [
    {
     "name": "stdout",
     "output_type": "stream",
     "text": [
      "<class 'pandas.core.frame.DataFrame'>\n",
      "MultiIndex: 68 entries, (강원, 2016) to (충북, 2019)\n",
      "Data columns (total 8 columns):\n",
      "면적                68 non-null float64\n",
      "면적당카페수(ea/㎢)      68 non-null float64\n",
      "시도별카페수(ea)        68 non-null int64\n",
      "인구당카페수(ea/명)      68 non-null float64\n",
      "총카페수(ea)          68 non-null int64\n",
      "총카페에대한구성비(%)      68 non-null float64\n",
      "카페당관할인구수(명/ea)    68 non-null float64\n",
      "전년도대비카페증감율(%)     68 non-null float64\n",
      "dtypes: float64(6), int64(2)\n",
      "memory usage: 7.2+ KB\n",
      "None (68, 8) 면적                0\n",
      "면적당카페수(ea/㎢)      0\n",
      "시도별카페수(ea)        0\n",
      "인구당카페수(ea/명)      0\n",
      "총카페수(ea)          0\n",
      "총카페에대한구성비(%)      0\n",
      "카페당관할인구수(명/ea)    0\n",
      "전년도대비카페증감율(%)     0\n",
      "dtype: int64\n"
     ]
    }
   ],
   "source": [
    "missing = df3.shape[0] - df3.count()\n",
    "print(df3.info() , df3.shape, missing)"
   ]
  },
  {
   "cell_type": "code",
   "execution_count": 258,
   "metadata": {},
   "outputs": [
    {
     "name": "stdout",
     "output_type": "stream",
     "text": [
      "<class 'pandas.core.frame.DataFrame'>\n",
      "Index: 17 entries, 강원 to 충북\n",
      "Data columns (total 32 columns):\n",
      "(면적, 2016)                17 non-null float64\n",
      "(면적, 2017)                17 non-null float64\n",
      "(면적, 2018)                17 non-null float64\n",
      "(면적, 2019)                17 non-null float64\n",
      "(면적당카페수(ea/㎢), 2016)      17 non-null float64\n",
      "(면적당카페수(ea/㎢), 2017)      17 non-null float64\n",
      "(면적당카페수(ea/㎢), 2018)      17 non-null float64\n",
      "(면적당카페수(ea/㎢), 2019)      17 non-null float64\n",
      "(시도별카페수(ea), 2016)        17 non-null int64\n",
      "(시도별카페수(ea), 2017)        17 non-null int64\n",
      "(시도별카페수(ea), 2018)        17 non-null int64\n",
      "(시도별카페수(ea), 2019)        17 non-null int64\n",
      "(인구당카페수(ea/명), 2016)      17 non-null float64\n",
      "(인구당카페수(ea/명), 2017)      17 non-null float64\n",
      "(인구당카페수(ea/명), 2018)      17 non-null float64\n",
      "(인구당카페수(ea/명), 2019)      17 non-null float64\n",
      "(전년도대비카페증감율(%), 2016)     17 non-null float64\n",
      "(전년도대비카페증감율(%), 2017)     17 non-null float64\n",
      "(전년도대비카페증감율(%), 2018)     17 non-null float64\n",
      "(전년도대비카페증감율(%), 2019)     17 non-null float64\n",
      "(총카페수(ea), 2016)          17 non-null int64\n",
      "(총카페수(ea), 2017)          17 non-null int64\n",
      "(총카페수(ea), 2018)          17 non-null int64\n",
      "(총카페수(ea), 2019)          17 non-null int64\n",
      "(총카페에대한구성비(%), 2016)      17 non-null float64\n",
      "(총카페에대한구성비(%), 2017)      17 non-null float64\n",
      "(총카페에대한구성비(%), 2018)      17 non-null float64\n",
      "(총카페에대한구성비(%), 2019)      17 non-null float64\n",
      "(카페당관할인구수(명/ea), 2016)    17 non-null float64\n",
      "(카페당관할인구수(명/ea), 2017)    17 non-null float64\n",
      "(카페당관할인구수(명/ea), 2018)    17 non-null float64\n",
      "(카페당관할인구수(명/ea), 2019)    17 non-null float64\n",
      "dtypes: float64(24), int64(8)\n",
      "memory usage: 4.4+ KB\n",
      "None (17, 32)                 년도  \n",
      "면적              2016    0\n",
      "                2017    0\n",
      "                2018    0\n",
      "                2019    0\n",
      "면적당카페수(ea/㎢)    2016    0\n",
      "                2017    0\n",
      "                2018    0\n",
      "                2019    0\n",
      "시도별카페수(ea)      2016    0\n",
      "                2017    0\n",
      "                2018    0\n",
      "                2019    0\n",
      "인구당카페수(ea/명)    2016    0\n",
      "                2017    0\n",
      "                2018    0\n",
      "                2019    0\n",
      "전년도대비카페증감율(%)   2016    0\n",
      "                2017    0\n",
      "                2018    0\n",
      "                2019    0\n",
      "총카페수(ea)        2016    0\n",
      "                2017    0\n",
      "                2018    0\n",
      "                2019    0\n",
      "총카페에대한구성비(%)    2016    0\n",
      "                2017    0\n",
      "                2018    0\n",
      "                2019    0\n",
      "카페당관할인구수(명/ea)  2016    0\n",
      "                2017    0\n",
      "                2018    0\n",
      "                2019    0\n",
      "dtype: int64\n"
     ]
    }
   ],
   "source": [
    "missing = df3_yearcol.shape[0] - df3_yearcol.count()\n",
    "print(df3_yearcol.info() , df3_yearcol.shape, missing)"
   ]
  },
  {
   "cell_type": "code",
   "execution_count": 259,
   "metadata": {},
   "outputs": [
    {
     "name": "stdout",
     "output_type": "stream",
     "text": [
      "<class 'pandas.core.frame.DataFrame'>\n",
      "MultiIndex: 68 entries, (강원, 2016) to (충북, 2019)\n",
      "Data columns (total 5 columns):\n",
      "면적당카페수(ea/㎢)      68 non-null float64\n",
      "인구당카페수(ea/명)      68 non-null float64\n",
      "총카페에대한구성비(%)      68 non-null float64\n",
      "카페당관할인구수(명/ea)    68 non-null float64\n",
      "전년도대비카페증감율(%)     68 non-null float64\n",
      "dtypes: float64(5)\n",
      "memory usage: 5.6+ KB\n",
      "None (68, 5) 면적당카페수(ea/㎢)      0\n",
      "인구당카페수(ea/명)      0\n",
      "총카페에대한구성비(%)      0\n",
      "카페당관할인구수(명/ea)    0\n",
      "전년도대비카페증감율(%)     0\n",
      "dtype: int64\n"
     ]
    }
   ],
   "source": [
    "missing = df4.shape[0] - df4.count()\n",
    "print(df4.info() , df4.shape, missing)"
   ]
  },
  {
   "cell_type": "code",
   "execution_count": null,
   "metadata": {},
   "outputs": [],
   "source": []
  }
 ],
 "metadata": {
  "kernelspec": {
   "display_name": "Python 3",
   "language": "python",
   "name": "python3"
  },
  "language_info": {
   "codemirror_mode": {
    "name": "ipython",
    "version": 3
   },
   "file_extension": ".py",
   "mimetype": "text/x-python",
   "name": "python",
   "nbconvert_exporter": "python",
   "pygments_lexer": "ipython3",
   "version": "3.7.4"
  }
 },
 "nbformat": 4,
 "nbformat_minor": 4
}
