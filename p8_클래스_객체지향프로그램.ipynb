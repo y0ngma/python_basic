{
 "cells": [
  {
   "cell_type": "markdown",
   "metadata": {},
   "source": [
    "## class, 객체\n",
    "\n",
    "- 용어\n",
    "    - 개체: 세상에 존재하는 모든 무형(생각 등)/유형(사물)\n",
    "        - entity\n",
    "        - 전산에서 코드로 구현할 대상이 된다\n",
    "    - class\n",
    "        - 사람이라는 유형을 전산으로 구현해보자\n",
    "        - 전산상에서 이를 구현할 수 있는 기준, 용어 필요\n",
    "        - 이를 클래스라고 정의\n",
    "        - 클래스는 개체를 구현하는 방법(룰, 문법)\n",
    "        - 클래스를 작성한 코드를 구현하면 클래스가 메모리에 로드가 되는데  \n",
    "        <br>\n",
    "        이때 이를 객체라고 부른다\n",
    "    - 객체(Object):\n",
    "        - 여러개 생성할 수 있다.\n",
    "        - 그런 동일한 객체들은 동일한 특성을 가진다.\n",
    "            - 눈이 2개, 입이 1개 등\n",
    "            - 특성:문법적으로는 변수로 표현\n",
    "            - 맴버 변수\n",
    "        - 그런 동일한 객체들은 동일한 행동을 가진다\n",
    "            - 밥을 먹는다, 달린다 등\n",
    "            - 행동:문법적으로는 함수\n",
    "            - 맴버 함수\n",
    "    \n",
    "    - 객체를 중심으로(class) 코드가 작성되고, 관리되면 \"객체 지향 프로그램(OOP)\" 이라고 부른다.\n",
    "        \n",
    "        - C++ 에서 처음 등장. 자바에서 발전시켰고, 이후는 대부분의 언어가 지원\n",
    "        - 상속성(부모, 자식관계 통해, 상속을 받은 자식은 부모의 모든 기능을 그대로 사용 가능하고, 자식은 재정의하거나, 기능을 추가할 수 있다. <br><== 파이썬은 상속성만 신경 쓴다.) 상속의 반대는 abstract \n",
    "        ------------------------------------------------\n",
    "        - 캡슐화(데이터를 내부로 숨시고, 정해진 함수를 통해서 데이터를 읽고, 쓰기)\n",
    "        - 다형성"
   ]
  },
  {
   "cell_type": "code",
   "execution_count": 9,
   "metadata": {},
   "outputs": [],
   "source": [
    "# 구성원의 일부 보여주면서\n",
    "class Person:\n",
    "    '''\n",
    "    맴버 변수\n",
    "    '''\n",
    "    name = '홍길동'\n",
    "    '''\n",
    "    맴버함수\n",
    "    '''\n",
    "    def getName():\n",
    "        print('person의 이름입니다')\n",
    "    '''\n",
    "    생성자 : 맴버변수 초기화 가능(옵션)\n",
    "    '''\n",
    "    "
   ]
  },
  {
   "cell_type": "code",
   "execution_count": 10,
   "metadata": {},
   "outputs": [],
   "source": [
    "# 함수 -> 호출해야 존재하고\n",
    "# 클래스 -> 생성해야 존재한다\n",
    "# 생성 => 클래스명([인자...])"
   ]
  },
  {
   "cell_type": "code",
   "execution_count": 12,
   "metadata": {},
   "outputs": [
    {
     "data": {
      "text/plain": [
       "<__main__.Person at 0x1b4d1fba388>"
      ]
     },
     "execution_count": 12,
     "metadata": {},
     "output_type": "execute_result"
    }
   ],
   "source": [
    "p = Person()\n",
    "p"
   ]
  },
  {
   "cell_type": "code",
   "execution_count": 17,
   "metadata": {},
   "outputs": [
    {
     "data": {
      "text/plain": [
       "'홍길동'"
      ]
     },
     "execution_count": 17,
     "metadata": {},
     "output_type": "execute_result"
    }
   ],
   "source": [
    "# p라는 객체의 맴버들을 접근하고 싶으면 (도트연산자) 사용\n",
    "p.name\n",
    "# Person.name"
   ]
  },
  {
   "cell_type": "markdown",
   "metadata": {},
   "source": [
    "- 클래스 내부에 존재하는 모든 함수의 1번 인자는\n",
    "- 클래스 자기 자신을 설명하는 키워드 => self로 세팅된다.\n",
    "- 타 언어에서는 this라고 표현한다."
   ]
  },
  {
   "cell_type": "code",
   "execution_count": 18,
   "metadata": {},
   "outputs": [],
   "source": [
    "class Person:\n",
    "    name = '홍길동'\n",
    "    def getName(self):\n",
    "        print('person의 이름입니다')"
   ]
  },
  {
   "cell_type": "code",
   "execution_count": 22,
   "metadata": {},
   "outputs": [],
   "source": [
    "p = Person()"
   ]
  },
  {
   "cell_type": "code",
   "execution_count": 23,
   "metadata": {},
   "outputs": [
    {
     "name": "stdout",
     "output_type": "stream",
     "text": [
      "person의 이름입니다\n"
     ]
    }
   ],
   "source": [
    "p.getName()"
   ]
  },
  {
   "cell_type": "markdown",
   "metadata": {},
   "source": [
    "- 생성자, constructor <= 형태는 함수\n",
    "- 클래스를 보고 객체를 생성하는 실제적인 작업 진행\n",
    "- 기본 생성자는 생략 가능하다\n",
    "- 생성자의 기본 역할중에 하나는 맴버 변수 초기화\n",
    "- 이름 : __init__"
   ]
  },
  {
   "cell_type": "code",
   "execution_count": 77,
   "metadata": {},
   "outputs": [],
   "source": [
    "class Person:\n",
    "    name = '홍길동'\n",
    "    def getName():\n",
    "        print('person의 이름입니다')\n",
    "    '''\n",
    "    생성자:객체를 생성. 맴버변수 초기화 가능(옵션)\n",
    "    '''\n",
    "    def __init__(self):\n",
    "        print('객체 생성')\n",
    "    "
   ]
  },
  {
   "cell_type": "code",
   "execution_count": 78,
   "metadata": {},
   "outputs": [
    {
     "name": "stdout",
     "output_type": "stream",
     "text": [
      "객체 생성\n"
     ]
    },
    {
     "data": {
      "text/plain": [
       "<__main__.Person at 0x1b4d4144608>"
      ]
     },
     "execution_count": 78,
     "metadata": {},
     "output_type": "execute_result"
    }
   ],
   "source": [
    "Person()"
   ]
  },
  {
   "cell_type": "code",
   "execution_count": null,
   "metadata": {},
   "outputs": [],
   "source": [
    "a = None \n",
    "# 초기화 => 최초, 맨처음에 값을 세팅하는 행위\n",
    "# = 변수를 사용하기전 초기값을 넣는 행위"
   ]
  },
  {
   "cell_type": "code",
   "execution_count": 79,
   "metadata": {},
   "outputs": [],
   "source": [
    "#  맴버변수 초기화 가능(옵션)\n",
    "class Person:\n",
    "    name = None # 맴버변수\n",
    "        # 메모리에는 존재하나 값이 없다. 생성자로 설정\n",
    "    def getName(self):\n",
    "        print('person의 이름은 %s입니다' % self.name)\n",
    "    def __init__(self, name): # 지역 변수. 맴버 변수 초기화\n",
    "        print('객체 생성')\n",
    "        # name = name\n",
    "        # 클래스 내부에서 맴버(함수 변수 모두)들을 사용할 경우\n",
    "        # self.변수 또는 self.함수 로 표현\n",
    "        # 클래스 밖에서는 \n",
    "        # 객체명.함수\n",
    "        self.name = name"
   ]
  },
  {
   "cell_type": "code",
   "execution_count": 80,
   "metadata": {},
   "outputs": [
    {
     "name": "stdout",
     "output_type": "stream",
     "text": [
      "객체 생성\n"
     ]
    },
    {
     "data": {
      "text/plain": [
       "'부산대'"
      ]
     },
     "execution_count": 80,
     "metadata": {},
     "output_type": "execute_result"
    }
   ],
   "source": [
    "p = Person('부산대')\n",
    "p.name"
   ]
  },
  {
   "cell_type": "code",
   "execution_count": 43,
   "metadata": {},
   "outputs": [
    {
     "name": "stdout",
     "output_type": "stream",
     "text": [
      "person의 이름은 부산대입니다\n"
     ]
    }
   ],
   "source": [
    "p.getName()\n",
    "# Person 의 이름은 부산대역입니다. 구현?\n"
   ]
  },
  {
   "cell_type": "code",
   "execution_count": null,
   "metadata": {},
   "outputs": [],
   "source": [
    "#  맴버변수 여러개 초기화 가능(옵션)\n",
    "class Person:\n",
    "    # 이미 맴버 변수 초기화는 수행되었다. => 값을 넣었다\n",
    "    name   = None \n",
    "    age    = 25\n",
    "    weight = 300\n",
    "    def getName(self):\n",
    "        print('person의 이름은 %s입니다' % self.name)\n",
    "#     def __init__(self): \n",
    "#         print('객체 생성')\n",
    "#         self.name = name"
   ]
  },
  {
   "cell_type": "code",
   "execution_count": 83,
   "metadata": {},
   "outputs": [],
   "source": [
    "#  맴버변수 초기화 가능(옵션)\n",
    "class Person:\n",
    "    name   = None \n",
    "    age    = 25\n",
    "    weight = 300\n",
    "    def getName(self):\n",
    "        print('person의 이름은 %s입니다' % self.name)\n",
    "    # 만약, 객체를 만들면서 그것을 변경하고 싶다면\n",
    "    def __init__(self, name, age, weight): \n",
    "        print('객체 생성')\n",
    "        if name: # 값이 없을때는 False. 있을때만 실행\n",
    "            self.name   = name\n",
    "        if age: # 없어도 되는 코드\n",
    "            self.age    = age\n",
    "        if weight:\n",
    "            self.weight = weight"
   ]
  },
  {
   "cell_type": "code",
   "execution_count": 84,
   "metadata": {
    "scrolled": true
   },
   "outputs": [
    {
     "name": "stdout",
     "output_type": "stream",
     "text": [
      "person의 이름은 부산대입니다\n"
     ]
    }
   ],
   "source": [
    "p.getName()"
   ]
  },
  {
   "cell_type": "markdown",
   "metadata": {},
   "source": [
    "### 상속\n",
    "\n",
    "- A라는 클래스를 상속받은 클래스가 B이다.\n",
    "- 자식은 부모의 것을 그대로 물려받고, 그것을 개선, 추가 할 수 있다.(문법적내용이 A =< B)\n",
    "- 다음 문구확인 : 객체 지향 프로그램에서 부모, 자식 관계를 설명하는 명제\n",
    "    A has a B=> 참\n",
    "    B is a A => 참\n",
    "    \n",
    "- **자식은 부모의 것을 그대로 물려받고, 그것을 개선(재정의:overriding), 추가할 수 있다.**\n"
   ]
  },
  {
   "cell_type": "code",
   "execution_count": 85,
   "metadata": {},
   "outputs": [],
   "source": [
    "# 모든 클래스의 수퍼 글래스는 Object\n",
    "# 이것은 생략 가능하다\n",
    "# 특정 클래스를 상속 => 클래스명(부모클래스명)\n",
    "class XMan(Person):pass\n",
    "# 아무것도 추가하지 않음"
   ]
  },
  {
   "cell_type": "code",
   "execution_count": 93,
   "metadata": {},
   "outputs": [
    {
     "name": "stdout",
     "output_type": "stream",
     "text": [
      "객체 생성\n"
     ]
    }
   ],
   "source": [
    "x = XMan('배트맨', 1, 2)"
   ]
  },
  {
   "cell_type": "code",
   "execution_count": 94,
   "metadata": {},
   "outputs": [
    {
     "name": "stdout",
     "output_type": "stream",
     "text": [
      "person의 이름은 배트맨입니다\n"
     ]
    }
   ],
   "source": [
    "x.getName()"
   ]
  },
  {
   "cell_type": "code",
   "execution_count": 69,
   "metadata": {},
   "outputs": [],
   "source": [
    "class XMan(Person):\n",
    "    def eat(self):\n",
    "        print('나는 점심을 5분만에 다 먹는다. 어떤 메뉴던지')"
   ]
  },
  {
   "cell_type": "code",
   "execution_count": 70,
   "metadata": {},
   "outputs": [
    {
     "name": "stdout",
     "output_type": "stream",
     "text": [
      "객체 생성\n",
      "나는 점심을 5분만에 다 먹는다. 어떤 메뉴던지\n"
     ]
    }
   ],
   "source": [
    "x = XMan(1,2,3)\n",
    "x.eat()"
   ]
  },
  {
   "cell_type": "markdown",
   "metadata": {},
   "source": [
    "#### 실습\n",
    "- Enemy 클래스는 생성\n",
    "- Enemy 클래스는\n",
    "    - SPEED, HP, EXP, LEVEL, COLOR, X, Y 등 속성이 있다\n",
    "    - move, attack, damage 등의 행동을 가지고 있다:\n",
    "    - 이런 클래스를 구현하시오\n",
    "    - \n",
    "    - 적을 100 개 생성하시오\n",
    "    \n",
    "    - 적을 10*10으로 배치하는데 적의 크기는 10x10 이다\n",
    "    - 공간의 크기가 가로 200, 세로 600이다 (해상도설정!!)\n",
    "    - 적을 100개 생성하는데, 좌표는 다르게 부여한다.\n",
    "    - 가로로 10개, 세로로 10개씩 배치된다\n",
    "    - 좌표계는 1/4분면이다"
   ]
  },
  {
   "cell_type": "code",
   "execution_count": 156,
   "metadata": {},
   "outputs": [],
   "source": [
    "# 클래스는 새로운 자료 구조를 정의하는 형태\n",
    "# 데이터 뿐만 아니라, 행동(함수)도 같이 가질 수 잇는 자료 구조\n",
    "class Enemy():\n",
    "    # 맴버 변수\n",
    "    SPEED, HP, EXP, LEVEL, COLOR, X, Y = (0,0,0,0,0,0,0) # 튜플\n",
    "    # 맴버 함수\n",
    "    def getName(self):pass\n",
    "    def move(self):pass\n",
    "    def attack(self):pass\n",
    "    def dmg(self):pass\n",
    "    # 생성자\n",
    "    def __init__(self):pass"
   ]
  },
  {
   "cell_type": "code",
   "execution_count": 157,
   "metadata": {},
   "outputs": [],
   "source": [
    "enemies = list()\n",
    "for n in range(100):\n",
    "    Enemies.append(Enemy())\n",
    "    "
   ]
  },
  {
   "cell_type": "code",
   "execution_count": 158,
   "metadata": {},
   "outputs": [
    {
     "data": {
      "text/plain": [
       "(0, [])"
      ]
     },
     "execution_count": 158,
     "metadata": {},
     "output_type": "execute_result"
    }
   ],
   "source": [
    "len(enemies), enemies[:2]"
   ]
  },
  {
   "cell_type": "code",
   "execution_count": 159,
   "metadata": {},
   "outputs": [],
   "source": [
    "# 객체 100개를 모두 삭제\n",
    "for en in enemies:\n",
    "    del en\n",
    "enemies.clear()"
   ]
  },
  {
   "cell_type": "markdown",
   "metadata": {},
   "source": [
    "### 좌표를 부여하여 생성\n",
    "\n"
   ]
  },
  {
   "cell_type": "code",
   "execution_count": null,
   "metadata": {},
   "outputs": [],
   "source": []
  },
  {
   "cell_type": "code",
   "execution_count": 160,
   "metadata": {},
   "outputs": [],
   "source": [
    "# 클래스를 상속 받았다. = > 재 정의 또는 추가\n",
    "class EnemyEx(Enemy):\n",
    "    def __init__(self, x, y):\n",
    "        self.x = x\n",
    "        self.y = y"
   ]
  },
  {
   "cell_type": "code",
   "execution_count": 161,
   "metadata": {},
   "outputs": [
    {
     "data": {
      "text/plain": [
       "100"
      ]
     },
     "execution_count": 161,
     "metadata": {},
     "output_type": "execute_result"
    }
   ],
   "source": [
    "# 적 비행기의 최초 y좌표\n",
    "std_y_start = 150\n",
    "# 적 비행기 높이\n",
    "enemy_h = 10\n",
    "# 적 비행기의 최초 x좌표\n",
    "std_x_start = 100\n",
    "# 적 비행기의 너비\n",
    "enemy_w = 10\n",
    "for Y in range(10): # y좌표\n",
    "    for X in range(10): # x좌표\n",
    "        tx = std_x_start + X*enemy_w\n",
    "        ty = std_y_start + Y*enemy_h\n",
    "        enemies.append(EnemyEx(tx, ty))\n",
    "len(enemies)"
   ]
  },
  {
   "cell_type": "code",
   "execution_count": 162,
   "metadata": {},
   "outputs": [],
   "source": [
    "class Enemy():\n",
    "    #ini = {SPEED, HP, EXP, LEVEL, COLOR, X, Y}\n",
    "    spec = []\n",
    "    SPEED = 200\n",
    "    HP = 1000\n",
    "    EXP = 35\n",
    "    LEVEL = 10\n",
    "    COLOR = 'BLUE'\n",
    "    X, Y, dmg = 0, 0, 0 # HP/2*(SPEED)^2\n",
    "    X, Y, dmg = int(X), int(Y), int(dmg)\n",
    "\n",
    "    \n",
    "    def __init__(self, SPEED, HP, EXP, LEVEL, COLOR, X, Y):\n",
    "        print('적 생성')\n",
    "    def getName(self):\n",
    "        print('Enemy는 %d %d %d %d %s %d %d입니다' % (self.SPEED, self.HP, self.EXP, self.LEVEL, self.COLOR, self.X, self.Y))\n",
    "    def move():\n",
    "        print('%d %d 좌표로 이동' % (X, Y))\n",
    "    def attack():\n",
    "        target = '정용희'\n",
    "        print('target%s 을 공격하여 데미지%d을 주었습니다' % (target, damage))\n",
    "    def dmg():\n",
    "        print()\n"
   ]
  },
  {
   "cell_type": "code",
   "execution_count": 163,
   "metadata": {},
   "outputs": [
    {
     "name": "stdout",
     "output_type": "stream",
     "text": [
      "{'SPEED': 1, 'HP': 2, 'EXP': 3, 'LEVEL': 4, 'COLOR': 5, 'X': 6, 'Y': 7}\n"
     ]
    }
   ],
   "source": [
    "labels = ['SPEED', 'HP', 'EXP', 'LEVEL', 'COLOR', 'X', 'Y']\n",
    "nums = [i+1\n",
    "       for i in range(len(label))]\n",
    "spec = dict()\n",
    "for key in labels:\n",
    "    spec[key] = label.index(key) +1\n",
    "    \n",
    "print (spec)\n",
    "\n",
    "\n",
    "\n",
    "#     spec = []\n",
    "#     SPEED = 200\n",
    "#     HP = 1000\n",
    "#     EXP = 35\n",
    "#     LEVEL = 10\n",
    "#     COLOR = 'BLUE'\n",
    "#     X, Y, dmg = 0, 0, 0 # HP/2*(SPEED)^2\n",
    "#     X, Y, dmg = int(X), int(Y), int(dmg)\n"
   ]
  },
  {
   "cell_type": "code",
   "execution_count": 137,
   "metadata": {},
   "outputs": [
    {
     "data": {
      "text/plain": [
       "['SPEED', 'HP', 'EXP', 'LEVEL', 'COLOR', 'X', 'Y']"
      ]
     },
     "execution_count": 137,
     "metadata": {},
     "output_type": "execute_result"
    }
   ],
   "source": [
    "label"
   ]
  },
  {
   "cell_type": "code",
   "execution_count": 138,
   "metadata": {},
   "outputs": [
    {
     "data": {
      "text/plain": [
       "[1, 2, 3, 4, 5, 6, 7]"
      ]
     },
     "execution_count": 138,
     "metadata": {},
     "output_type": "execute_result"
    }
   ],
   "source": [
    "nums"
   ]
  },
  {
   "cell_type": "code",
   "execution_count": null,
   "metadata": {},
   "outputs": [],
   "source": []
  }
 ],
 "metadata": {
  "kernelspec": {
   "display_name": "Python 3",
   "language": "python",
   "name": "python3"
  },
  "language_info": {
   "codemirror_mode": {
    "name": "ipython",
    "version": 3
   },
   "file_extension": ".py",
   "mimetype": "text/x-python",
   "name": "python",
   "nbconvert_exporter": "python",
   "pygments_lexer": "ipython3",
   "version": "3.7.4"
  }
 },
 "nbformat": 4,
 "nbformat_minor": 2
}
