{
 "cells": [
  {
   "cell_type": "markdown",
   "metadata": {},
   "source": [
    "### 단일 데이터 타입 (값이 1개)\n",
    "\n",
    "- 단일 데이터 타입 (값이 1개)\n",
    "    - 문자열(단일형으로 분류하지만, 실체는 연속형)\n",
    "        - \"\"\"문자열\"\"\"\n",
    "        - \"helloworld\"(둘다 맞음: 파이선)\n",
    "        - 'helloworld'(하나만 지원 : 자바, C)\n",
    "        "
   ]
  },
  {
   "cell_type": "code",
   "execution_count": 2,
   "metadata": {},
   "outputs": [
    {
     "data": {
      "text/plain": [
       "('hello 부산대역', str)"
      ]
     },
     "execution_count": 2,
     "metadata": {},
     "output_type": "execute_result"
    }
   ],
   "source": [
    "## 1. 문자열 표기법\n",
    "a = \"hello 부산대역\"\n",
    "a, type(a)"
   ]
  },
  {
   "cell_type": "code",
   "execution_count": 3,
   "metadata": {},
   "outputs": [
    {
     "data": {
      "text/plain": [
       "('hello 부산대역', str)"
      ]
     },
     "execution_count": 3,
     "metadata": {},
     "output_type": "execute_result"
    }
   ],
   "source": [
    "a = 'hello 부산대역'\n",
    "a, type(a)"
   ]
  },
  {
   "cell_type": "code",
   "execution_count": 4,
   "metadata": {},
   "outputs": [
    {
     "data": {
      "text/plain": [
       "('\\n    select \\n        * \\n    from \\n        users;\\n', str)"
      ]
     },
     "execution_count": 4,
     "metadata": {},
     "output_type": "execute_result"
    }
   ],
   "source": [
    "# 여러줄의 문자열 특히 구조 유지시 사용\n",
    "#파이썬의 주석은 한줄주석만 존재, #\n",
    "\n",
    "a = \"\"\"\n",
    "    select \n",
    "        * \n",
    "    from \n",
    "        users;\n",
    "\"\"\"\n",
    "a, type(a)"
   ]
  },
  {
   "cell_type": "code",
   "execution_count": 5,
   "metadata": {},
   "outputs": [
    {
     "data": {
      "text/plain": [
       "'\\n여러줄의 문자열 특히 구조 유지시 사용\\n파이썬의 주석은 한줄주석만 존재, #\\n'"
      ]
     },
     "execution_count": 5,
     "metadata": {},
     "output_type": "execute_result"
    }
   ],
   "source": [
    "# 어떤 변수로도 받지 않았으므로 프로그램에 영향없음\n",
    "\"\"\"\n",
    "여러줄의 문자열 특히 구조 유지시 사용\n",
    "파이썬의 주석은 한줄주석만 존재, #\n",
    "\"\"\"\n"
   ]
  },
  {
   "cell_type": "code",
   "execution_count": 6,
   "metadata": {},
   "outputs": [
    {
     "name": "stdout",
     "output_type": "stream",
     "text": [
      "abcde\"123\"qwert\n"
     ]
    }
   ],
   "source": [
    "# 섞어서 표현\n",
    "# 원 문자열에 \"나 '가 포함되어 있어서 그대로 표현하고 싶다면 =>혼용\n",
    "a = 'abcde\"123\"qwert'\n",
    "print(a)\n"
   ]
  },
  {
   "cell_type": "code",
   "execution_count": 7,
   "metadata": {},
   "outputs": [
    {
     "name": "stdout",
     "output_type": "stream",
     "text": [
      "abcde\"123\"fg'hi'qwert\n"
     ]
    }
   ],
   "source": [
    "#문자열 안에 \"와'가 모두 섞여 잇어 문제가 될 경우\n",
    "# 이스케이프 문자 표시법으로 무나열의 구분자가 아님을 표현\n",
    "#a = 'abcde\"123\"fg'hi'qwert' #이 문장을 다음과 같이 \\이용하여 수정\n",
    "a = 'abcde\"123\"fg\\'hi\\'qwert'\n",
    "print(a)"
   ]
  },
  {
   "cell_type": "code",
   "execution_count": 2,
   "metadata": {},
   "outputs": [
    {
     "data": {
      "text/plain": [
       "('456123', '456', '123')"
      ]
     },
     "execution_count": 2,
     "metadata": {},
     "output_type": "execute_result"
    }
   ],
   "source": [
    "## 2. 문자열 더하기\n",
    "# 여러개의 문자열을 한개의 문자열로 만들기.\n",
    "a = '123'\n",
    "b = '456'\n",
    "b+a, b, a\n",
    "#앞 문자열에 뒷문자열을 이어붙여서 사본을 리턴한다.(원본유지)"
   ]
  },
  {
   "cell_type": "code",
   "execution_count": 3,
   "metadata": {},
   "outputs": [
    {
     "data": {
      "text/plain": [
       "'=========='"
      ]
     },
     "execution_count": 3,
     "metadata": {},
     "output_type": "execute_result"
    }
   ],
   "source": [
    "## 3. 문자열 곱하기\n",
    "'=' * 10\n",
    "#해당 문자열을 10번 반복해라"
   ]
  },
  {
   "cell_type": "code",
   "execution_count": 4,
   "metadata": {},
   "outputs": [
    {
     "data": {
      "text/plain": [
       "'0123456789'"
      ]
     },
     "execution_count": 4,
     "metadata": {},
     "output_type": "execute_result"
    }
   ],
   "source": [
    "## 4. 인덱싱 (딥러닝까지 계속 나오는 중요내용!!)\n",
    "# 문자열에서 특정 문자를 획득(차원 축소라는 의미를 가짐)\n",
    "a = '0123456789'\n",
    "a"
   ]
  },
  {
   "cell_type": "code",
   "execution_count": 5,
   "metadata": {},
   "outputs": [
    {
     "data": {
      "text/plain": [
       "('2', '2')"
      ]
     },
     "execution_count": 5,
     "metadata": {},
     "output_type": "execute_result"
    }
   ],
   "source": [
    "# 위의 문자열 a에서 2라는 값을 출력(추출)하시오 ->인덱싱\n",
    "# 문법\n",
    "# 변수명[인덱스(정방향, 역방향(-1, -2))]\n",
    "# 역방향: 뒤에서부터 센다.\n",
    "# 가까운곳에서 부터 세라.\n",
    "# 커서의 오른쪽값을 취한다\n",
    "a[2], a[-8]\n",
    "# 총갯수 = 2 + 8"
   ]
  },
  {
   "cell_type": "code",
   "execution_count": 6,
   "metadata": {},
   "outputs": [
    {
     "data": {
      "text/plain": [
       "'https://www.google.com/search?q=vscode+%ED%95%9C%EA%B8%80+%EA%B9%A8%EC%A7%90&oq=vscode'"
      ]
     },
     "execution_count": 6,
     "metadata": {},
     "output_type": "execute_result"
    }
   ],
   "source": [
    "# 5. 슬라이싱\n",
    "# 문자열에서 특정 위치부터 특정 위치까지 추출(자른다.)\n",
    "# 원본은 그대로고, 잘라서 사본을 리턴 -> 차원유지\n",
    "tmp =\"https://www.google.com/search?q=vscode+%ED%95%9C%EA%B8%80+%EA%B9%A8%EC%A7%90&oq=vscode\"\n",
    "tmp\n"
   ]
  },
  {
   "cell_type": "code",
   "execution_count": 7,
   "metadata": {},
   "outputs": [],
   "source": [
    "# 위의 문자열에서 http라는 문자열을 추출 (결과물이 1개 이상)\n",
    "# 문법 : 변수[ 시작 인덱스 : 끝 인덱스 : 스텝 ]\n",
    "# 스텝은 생략 가능하고, 생략하면 1이된다. (1 <= step)"
   ]
  },
  {
   "cell_type": "code",
   "execution_count": 8,
   "metadata": {},
   "outputs": [
    {
     "data": {
      "text/plain": [
       "'https://www.google.com/search?q=vscode+%ED%95%9C%EA%B8%80+%EA%B9%A8%EC%A7%90&oq=vscode'"
      ]
     },
     "execution_count": 8,
     "metadata": {},
     "output_type": "execute_result"
    }
   ],
   "source": [
    "# 세팅 값을 하나도 않쓰고 최소 표현 : 1개만 쓰면? -> copy\n",
    "tmp[:]"
   ]
  },
  {
   "cell_type": "code",
   "execution_count": 9,
   "metadata": {},
   "outputs": [
    {
     "data": {
      "text/plain": [
       "'https'"
      ]
     },
     "execution_count": 9,
     "metadata": {},
     "output_type": "execute_result"
    }
   ],
   "source": [
    "tmp[0:5]"
   ]
  },
  {
   "cell_type": "code",
   "execution_count": 10,
   "metadata": {},
   "outputs": [
    {
     "data": {
      "text/plain": [
       "('hts', 'hp')"
      ]
     },
     "execution_count": 10,
     "metadata": {},
     "output_type": "execute_result"
    }
   ],
   "source": [
    "\n",
    "# step 값을 넣으면?\n",
    "tmp[0:5:2], tmp[0:5:3]"
   ]
  },
  {
   "cell_type": "code",
   "execution_count": 13,
   "metadata": {},
   "outputs": [
    {
     "data": {
      "text/plain": [
       "'ttps://www.google.com/search?q=vscode+%ED%95%9C%EA%B8%80+%EA%B9%A8%EC%A7%90&oq=vscod'"
      ]
     },
     "execution_count": 13,
     "metadata": {},
     "output_type": "execute_result"
    }
   ],
   "source": [
    "# 앞뒤로 한문자씩 잘라서 출력 -> 가까운 방향에서 계산\n",
    "tmp[1:-1]"
   ]
  },
  {
   "cell_type": "code",
   "execution_count": 14,
   "metadata": {},
   "outputs": [
    {
     "data": {
      "text/plain": [
       "'https://www.google.com/search?q=vscode+%ED%95%9C%EA%B8%80+%EA%B9%A8%EC%A7%90&oq=vscode'"
      ]
     },
     "execution_count": 14,
     "metadata": {},
     "output_type": "execute_result"
    }
   ],
   "source": [
    "# web에서 get방식 ?를 기점으로 뒤는 파라미터\n",
    "tmp"
   ]
  },
  {
   "cell_type": "code",
   "execution_count": 15,
   "metadata": {},
   "outputs": [
    {
     "data": {
      "text/plain": [
       "'https://www.google.com/search'"
      ]
     },
     "execution_count": 15,
     "metadata": {},
     "output_type": "execute_result"
    }
   ],
   "source": [
    "# 문자열의 유니버스(멤버) 함수\n",
    "# 문자열 지원함수, 문자열 객체의 멤버 함수\n",
    "# (. > tap -> 관련 함수 리스팅해줌)\n",
    "# 자르기 \n",
    "a = tmp.split('?')\n",
    "a[0]"
   ]
  },
  {
   "cell_type": "code",
   "execution_count": 20,
   "metadata": {},
   "outputs": [
    {
     "data": {
      "text/plain": [
       "'search'"
      ]
     },
     "execution_count": 20,
     "metadata": {},
     "output_type": "execute_result"
    }
   ],
   "source": [
    "\n",
    "b = a[0][-6:]\n",
    "b"
   ]
  },
  {
   "cell_type": "code",
   "execution_count": 21,
   "metadata": {},
   "outputs": [
    {
     "data": {
      "text/plain": [
       "(str, list)"
      ]
     },
     "execution_count": 21,
     "metadata": {},
     "output_type": "execute_result"
    }
   ],
   "source": [
    "# 데이터를 먼저 확인하고 진행\n",
    "type(tmp), type(tmp.split('?'))"
   ]
  },
  {
   "cell_type": "code",
   "execution_count": 22,
   "metadata": {},
   "outputs": [
    {
     "data": {
      "text/plain": [
       "'search'"
      ]
     },
     "execution_count": 22,
     "metadata": {},
     "output_type": "execute_result"
    }
   ],
   "source": [
    "tmp.split('?')[0][-6:]"
   ]
  },
  {
   "cell_type": "code",
   "execution_count": 23,
   "metadata": {},
   "outputs": [
    {
     "data": {
      "text/plain": [
       "'1 + 2 = 3'"
      ]
     },
     "execution_count": 23,
     "metadata": {},
     "output_type": "execute_result"
    }
   ],
   "source": [
    "# 6. 포맷팅(formating)\n",
    "# 문자열 안에 데이터를 넣어서 새로운 문자열을 생성\n",
    "# 6-1. 간단한 형식 \n",
    "a = 1\n",
    "b = 2\n",
    "# x + y = z 형태로 출력\n",
    "# str(수치) => 문자열 : 형변환\n",
    "# int(\"1\") => 1       : 형변환\n",
    "str(a) + \" + \" + str(b) + \" = \" + str(a+b)"
   ]
  },
  {
   "cell_type": "code",
   "execution_count": 24,
   "metadata": {},
   "outputs": [],
   "source": [
    "# 위의 방법은 구조가 한 눈에 들어오지 않는다."
   ]
  },
  {
   "cell_type": "code",
   "execution_count": 25,
   "metadata": {},
   "outputs": [
    {
     "data": {
      "text/plain": [
       "'1 + 2 = 3'"
      ]
     },
     "execution_count": 25,
     "metadata": {},
     "output_type": "execute_result"
    }
   ],
   "source": [
    "# 결론을 쓰고 데이터를 삽입(세팅, 설정)\n",
    "'x + y = z'\n",
    "# %d : 정수, %f : 부동소수, %s : 문자열\n",
    "'%d + %d = %d' %(a, b, a+b)"
   ]
  },
  {
   "cell_type": "code",
   "execution_count": 26,
   "metadata": {},
   "outputs": [
    {
     "data": {
      "text/plain": [
       "'1 / 2 = 0'"
      ]
     },
     "execution_count": 26,
     "metadata": {},
     "output_type": "execute_result"
    }
   ],
   "source": [
    "# 값이 부동소수인데, 정수로 받으면 소수점이 날라간다\n",
    "'%d / %d = %d' %(a, b, a/b)"
   ]
  },
  {
   "cell_type": "code",
   "execution_count": 27,
   "metadata": {},
   "outputs": [
    {
     "data": {
      "text/plain": [
       "'1 / 2 = 0.500000'"
      ]
     },
     "execution_count": 27,
     "metadata": {},
     "output_type": "execute_result"
    }
   ],
   "source": [
    "# 타입에 맞춰서 예상해서 형식을 지정해야 한다.\n",
    "'%d / %d = %f' %(a, b, a/b)"
   ]
  },
  {
   "cell_type": "code",
   "execution_count": 28,
   "metadata": {},
   "outputs": [
    {
     "data": {
      "text/plain": [
       "'1 2= 0.5'"
      ]
     },
     "execution_count": 28,
     "metadata": {},
     "output_type": "execute_result"
    }
   ],
   "source": [
    "# %s로 표현하면 타입이 무엇이든 다 문자열로 변환해서 원본값 유지\n",
    "# 무난하게 해결 가능, 타입 몰라도 가능\n",
    "'%s %s= %s' %(a, b, a/b)"
   ]
  },
  {
   "cell_type": "code",
   "execution_count": 29,
   "metadata": {},
   "outputs": [],
   "source": [
    "# 위의 표현식은 순서를 조정할 수 없다.\n"
   ]
  },
  {
   "cell_type": "code",
   "execution_count": 30,
   "metadata": {
    "scrolled": true
   },
   "outputs": [
    {
     "ename": "TypeError",
     "evalue": "not all arguments converted during string formatting",
     "output_type": "error",
     "traceback": [
      "\u001b[1;31m---------------------------------------------------------------------------\u001b[0m",
      "\u001b[1;31mTypeError\u001b[0m                                 Traceback (most recent call last)",
      "\u001b[1;32m<ipython-input-30-15a0ac890b2e>\u001b[0m in \u001b[0;36m<module>\u001b[1;34m\u001b[0m\n\u001b[0;32m      1\u001b[0m \u001b[1;31m# 사용처 대비 인자가 더 많다. -> 에러(딱 맞게 사용해야 한다.)\u001b[0m\u001b[1;33m\u001b[0m\u001b[1;33m\u001b[0m\u001b[1;33m\u001b[0m\u001b[0m\n\u001b[1;32m----> 2\u001b[1;33m \u001b[1;34m'%s %s= %s'\u001b[0m \u001b[1;33m%\u001b[0m\u001b[1;33m(\u001b[0m\u001b[0ma\u001b[0m\u001b[1;33m,\u001b[0m \u001b[0mb\u001b[0m\u001b[1;33m,\u001b[0m \u001b[0ma\u001b[0m\u001b[1;33m/\u001b[0m\u001b[0mb\u001b[0m\u001b[1;33m,\u001b[0m \u001b[1;36m10\u001b[0m\u001b[1;33m)\u001b[0m\u001b[1;33m\u001b[0m\u001b[1;33m\u001b[0m\u001b[0m\n\u001b[0m",
      "\u001b[1;31mTypeError\u001b[0m: not all arguments converted during string formatting"
     ]
    }
   ],
   "source": [
    "# 사용처 대비 인자가 더 많다. -> 에러(딱 맞게 사용해야 한다.)\n",
    "'%s %s= %s' %(a, b, a/b, 10)"
   ]
  },
  {
   "cell_type": "code",
   "execution_count": null,
   "metadata": {},
   "outputs": [],
   "source": [
    "# 6-2 포맷팅\n",
    "# 문자열의 포맷함수 이용하여 처리\n",
    "# 사용 순서의 유연함, 인자의 이름 지정(명확성 부여), 미사용에도 커버\n",
    "'x + y = z'"
   ]
  },
  {
   "cell_type": "code",
   "execution_count": null,
   "metadata": {},
   "outputs": [],
   "source": [
    "'{} + {} = {}'.format(a, b, a+b)\n",
    "# 포맷팅은 더 많은 기능이 있다."
   ]
  },
  {
   "cell_type": "code",
   "execution_count": null,
   "metadata": {},
   "outputs": [],
   "source": [
    "# 순서를 내 마음대로 배치\n",
    "'{1} + {0} = {2}'.format(a, b, a+b)"
   ]
  },
  {
   "cell_type": "code",
   "execution_count": null,
   "metadata": {},
   "outputs": [],
   "source": [
    "# 사용을 안한다면, 한개를 여러번 사용하면\n",
    "'{1} + {1} = {1}'.format(a, b, a+b)"
   ]
  },
  {
   "cell_type": "code",
   "execution_count": null,
   "metadata": {},
   "outputs": [],
   "source": [
    "\n",
    "# 각 자리에 명확한 의미를 부여하고 싶다. => 매개변수 지정\n",
    "'{heigh} + {weight} = {result}'.format(heigh=a, weight=b, result=a+b)"
   ]
  },
  {
   "cell_type": "code",
   "execution_count": 16,
   "metadata": {},
   "outputs": [],
   "source": [
    "#카운트, 존재한다 여부"
   ]
  },
  {
   "cell_type": "code",
   "execution_count": 17,
   "metadata": {},
   "outputs": [
    {
     "name": "stdout",
     "output_type": "stream",
     "text": [
      "2\n",
      "2 <class 'str'> True\n"
     ]
    }
   ],
   "source": [
    "check = input()\n",
    "print(check, type(check), check.isdecimal())"
   ]
  },
  {
   "cell_type": "code",
   "execution_count": null,
   "metadata": {},
   "outputs": [],
   "source": []
  },
  {
   "cell_type": "code",
   "execution_count": 18,
   "metadata": {},
   "outputs": [
    {
     "data": {
      "text/plain": [
       "('문자열 내에 특정문자개수', 0)"
      ]
     },
     "execution_count": 18,
     "metadata": {},
     "output_type": "execute_result"
    }
   ],
   "source": [
    "'문자열 내에 특정문자개수', a.count('h')"
   ]
  },
  {
   "cell_type": "code",
   "execution_count": 19,
   "metadata": {},
   "outputs": [
    {
     "ename": "ValueError",
     "evalue": "'h' is not in list",
     "output_type": "error",
     "traceback": [
      "\u001b[1;31m---------------------------------------------------------------------------\u001b[0m",
      "\u001b[1;31mValueError\u001b[0m                                Traceback (most recent call last)",
      "\u001b[1;32m<ipython-input-19-385dd1975d12>\u001b[0m in \u001b[0;36m<module>\u001b[1;34m\u001b[0m\n\u001b[0;32m      1\u001b[0m \u001b[1;31m#없는 문자열의 인덱스를 찾으면 에러 -> 예외처리해야함\u001b[0m\u001b[1;33m\u001b[0m\u001b[1;33m\u001b[0m\u001b[1;33m\u001b[0m\u001b[0m\n\u001b[1;32m----> 2\u001b[1;33m \u001b[0ma\u001b[0m\u001b[1;33m.\u001b[0m\u001b[0mindex\u001b[0m\u001b[1;33m(\u001b[0m\u001b[1;34m'h'\u001b[0m\u001b[1;33m)\u001b[0m\u001b[1;33m\u001b[0m\u001b[1;33m\u001b[0m\u001b[0m\n\u001b[0m",
      "\u001b[1;31mValueError\u001b[0m: 'h' is not in list"
     ]
    }
   ],
   "source": [
    "#없는 문자열의 인덱스를 찾으면 에러 -> 예외처리해야함\n",
    "a.index('h')"
   ]
  },
  {
   "cell_type": "code",
   "execution_count": 32,
   "metadata": {},
   "outputs": [
    {
     "ename": "AttributeError",
     "evalue": "'int' object has no attribute 'find'",
     "output_type": "error",
     "traceback": [
      "\u001b[1;31m---------------------------------------------------------------------------\u001b[0m",
      "\u001b[1;31mAttributeError\u001b[0m                            Traceback (most recent call last)",
      "\u001b[1;32m<ipython-input-32-d3f6cba0f093>\u001b[0m in \u001b[0;36m<module>\u001b[1;34m\u001b[0m\n\u001b[1;32m----> 1\u001b[1;33m \u001b[0ma\u001b[0m\u001b[1;33m.\u001b[0m\u001b[0mfind\u001b[0m\u001b[1;33m(\u001b[0m\u001b[1;34m'a'\u001b[0m\u001b[1;33m)\u001b[0m\u001b[1;33m,\u001b[0m \u001b[0ma\u001b[0m\u001b[1;33m.\u001b[0m\u001b[0mfind\u001b[0m\u001b[1;33m(\u001b[0m\u001b[1;34m'h'\u001b[0m\u001b[1;33m)\u001b[0m\u001b[1;33m\u001b[0m\u001b[1;33m\u001b[0m\u001b[0m\n\u001b[0m",
      "\u001b[1;31mAttributeError\u001b[0m: 'int' object has no attribute 'find'"
     ]
    }
   ],
   "source": [
    "#특정문자가 존재하면 그 인덱스를 반환. 없으면 -1을 리턴\n",
    "a.find('a'), a.find('h'), a.find('z')"
   ]
  },
  {
   "cell_type": "code",
   "execution_count": null,
   "metadata": {},
   "outputs": [],
   "source": [
    "#count(), indes(), find()함수들은 문자열내에 문자열의 \n",
    "#존재여부, 위치 등 탐색을 수행하는 함수들이다."
   ]
  },
  {
   "cell_type": "code",
   "execution_count": 4,
   "metadata": {},
   "outputs": [
    {
     "data": {
      "text/plain": [
       "'0123456789'"
      ]
     },
     "execution_count": 4,
     "metadata": {},
     "output_type": "execute_result"
    }
   ],
   "source": [
    "## 8.조인, 분해\n",
    "a = '0123456789'\n",
    "a"
   ]
  },
  {
   "cell_type": "code",
   "execution_count": 6,
   "metadata": {},
   "outputs": [
    {
     "name": "stdout",
     "output_type": "stream",
     "text": [
      "0|1|2|3|4|5|6|7|8|9\n"
     ]
    }
   ],
   "source": [
    "# 조인\n",
    "#대상 문자열 문자 사이사이에 특정한 문자열을 넣겠다.\n",
    "tmp = '|'.join(a)\n",
    "print(tmp)"
   ]
  },
  {
   "cell_type": "code",
   "execution_count": 11,
   "metadata": {},
   "outputs": [
    {
     "data": {
      "text/plain": [
       "(['0', '1', '2', '3', '4', '5', '6', '7', '8', '9'], str, list)"
      ]
     },
     "execution_count": 11,
     "metadata": {},
     "output_type": "execute_result"
    }
   ],
   "source": [
    "# 분해\n",
    "# 문자열을 특정 문자를 기준으로 쪼갠다(분해)\n",
    "tmp.split('|'), type(tmp), type(tmp.split('|'))\n"
   ]
  },
  {
   "cell_type": "code",
   "execution_count": 13,
   "metadata": {},
   "outputs": [
    {
     "name": "stdout",
     "output_type": "stream",
     "text": [
      "0|1|2|3|4|5|6|7|8|9 ['0', '1', '2', '3', '4', '5', '6', '7', '8', '9'] <class 'list'>\n"
     ]
    }
   ],
   "source": [
    "# 참고로 확인\n",
    "print(tmp, list(a), type(list(a)))\n"
   ]
  },
  {
   "cell_type": "code",
   "execution_count": 42,
   "metadata": {},
   "outputs": [
    {
     "data": {
      "text/plain": [
       "'\\t\\t\\t\\t\\n\\t\\t\\t\\t\\t\\n\\t\\t\\t\\t\\t\\n\\t\\t\\t\\t\\t\\n\\t\\t\\t\\t\\t미국 USD\\n\\t\\t\\t\\t\\n\\t\\t\\t\\t'"
      ]
     },
     "execution_count": 42,
     "metadata": {},
     "output_type": "execute_result"
    }
   ],
   "source": [
    "## 9. 공백제거 (여러줄은 바싹 붙여서 땡겨온다.)\n",
    "tmp = '''\t\t\t\t\n",
    "\t\t\t\t\t\n",
    "\t\t\t\t\t\n",
    "\t\t\t\t\t\n",
    "\t\t\t\t\t미국 USD\n",
    "\t\t\t\t\n",
    "\t\t\t\t'''\n",
    "tmp\n"
   ]
  },
  {
   "cell_type": "code",
   "execution_count": 44,
   "metadata": {},
   "outputs": [
    {
     "data": {
      "text/plain": [
       "'[\\t\\t\\t\\t\\n\\t\\t\\t\\t\\t\\n\\t\\t\\t\\t\\t\\n\\t\\t\\t\\t\\t\\n\\t\\t\\t\\t\\t미국 USD\\n\\t\\t\\t\\t\\n\\t\\t\\t\\t]'"
      ]
     },
     "execution_count": 44,
     "metadata": {},
     "output_type": "execute_result"
    }
   ],
   "source": [
    "# 앞, 뒤, 앞뒤 이렇게 공백을 제거하는 함수에서 지원\n",
    "# 데이터의 내부 공백은 정규식으로 처리하여 제거 가능\n",
    "'[%s]' %tmp\n"
   ]
  },
  {
   "cell_type": "code",
   "execution_count": 45,
   "metadata": {},
   "outputs": [
    {
     "data": {
      "text/plain": [
       "'[미국 USD\\n\\t\\t\\t\\t\\n\\t\\t\\t\\t]'"
      ]
     },
     "execution_count": 45,
     "metadata": {},
     "output_type": "execute_result"
    }
   ],
   "source": [
    "'[%s]' %tmp.lstrip()\n"
   ]
  },
  {
   "cell_type": "code",
   "execution_count": 46,
   "metadata": {},
   "outputs": [
    {
     "data": {
      "text/plain": [
       "'[\\t\\t\\t\\t\\n\\t\\t\\t\\t\\t\\n\\t\\t\\t\\t\\t\\n\\t\\t\\t\\t\\t\\n\\t\\t\\t\\t\\t미국 USD]'"
      ]
     },
     "execution_count": 46,
     "metadata": {},
     "output_type": "execute_result"
    }
   ],
   "source": [
    "'[%s]' %tmp.rstrip()"
   ]
  },
  {
   "cell_type": "code",
   "execution_count": 47,
   "metadata": {},
   "outputs": [
    {
     "data": {
      "text/plain": [
       "'[미국 USD]'"
      ]
     },
     "execution_count": 47,
     "metadata": {},
     "output_type": "execute_result"
    }
   ],
   "source": [
    "'[%s]' %tmp.strip()"
   ]
  },
  {
   "cell_type": "code",
   "execution_count": 49,
   "metadata": {},
   "outputs": [
    {
     "ename": "SyntaxError",
     "evalue": "can't assign to operator (<ipython-input-49-118e1dc6dd6c>, line 2)",
     "output_type": "error",
     "traceback": [
      "\u001b[1;36m  File \u001b[1;32m\"<ipython-input-49-118e1dc6dd6c>\"\u001b[1;36m, line \u001b[1;32m2\u001b[0m\n\u001b[1;33m    '%s' %tmp.strip() =a\u001b[0m\n\u001b[1;37m                        ^\u001b[0m\n\u001b[1;31mSyntaxError\u001b[0m\u001b[1;31m:\u001b[0m can't assign to operator\n"
     ]
    }
   ],
   "source": [
    "# 위의 코드를 연계하여 USD를 출력하시오\n",
    "'%s' %tmp.strip() = a\n",
    "a\n"
   ]
  },
  {
   "cell_type": "code",
   "execution_count": null,
   "metadata": {},
   "outputs": [],
   "source": []
  },
  {
   "cell_type": "code",
   "execution_count": null,
   "metadata": {},
   "outputs": [],
   "source": []
  },
  {
   "cell_type": "code",
   "execution_count": null,
   "metadata": {},
   "outputs": [],
   "source": []
  }
 ],
 "metadata": {
  "kernelspec": {
   "display_name": "Python 3",
   "language": "python",
   "name": "python3"
  },
  "language_info": {
   "codemirror_mode": {
    "name": "ipython",
    "version": 3
   },
   "file_extension": ".py",
   "mimetype": "text/x-python",
   "name": "python",
   "nbconvert_exporter": "python",
   "pygments_lexer": "ipython3",
   "version": "3.7.4"
  }
 },
 "nbformat": 4,
 "nbformat_minor": 2
}
