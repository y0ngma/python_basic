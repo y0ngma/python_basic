{
 "cells": [
  {
   "cell_type": "markdown",
   "metadata": {},
   "source": [
    "### 단일 데이터 타입 (값이 1개)\n",
    "\n",
    "- 단일 데이터 타입 (값이 1개)\n",
    "    - 문자열(단일형으로 분류하지만, 실체는 연속형)\n",
    "        - \"\"\"문자열\"\"\"\n",
    "        - \"helloworld\"(둘다 맞음: 파이선)\n",
    "        - 'helloworld'(하나만 지원 : 자바, C)\n",
    "        "
   ]
  },
  {
   "cell_type": "code",
   "execution_count": 28,
   "metadata": {},
   "outputs": [
    {
     "data": {
      "text/plain": [
       "('hello 부산대역', str)"
      ]
     },
     "execution_count": 28,
     "metadata": {},
     "output_type": "execute_result"
    }
   ],
   "source": [
    "## 1. 문자열 표기법\n",
    "a = \"hello 부산대역\"\n",
    "a, type(a)"
   ]
  },
  {
   "cell_type": "code",
   "execution_count": 29,
   "metadata": {},
   "outputs": [
    {
     "data": {
      "text/plain": [
       "('hello 부산대역', str)"
      ]
     },
     "execution_count": 29,
     "metadata": {},
     "output_type": "execute_result"
    }
   ],
   "source": [
    "a = 'hello 부산대역'\n",
    "a, type(a)"
   ]
  },
  {
   "cell_type": "code",
   "execution_count": 30,
   "metadata": {},
   "outputs": [
    {
     "data": {
      "text/plain": [
       "('\\n    select \\n        * \\n    from \\n        users;\\n', str)"
      ]
     },
     "execution_count": 30,
     "metadata": {},
     "output_type": "execute_result"
    }
   ],
   "source": [
    "# 여러줄의 문자열 특히 구조 유지시 사용\n",
    "#파이썬의 주석은 한줄주석만 존재, #\n",
    "\n",
    "a = \"\"\"\n",
    "    select \n",
    "        * \n",
    "    from \n",
    "        users;\n",
    "\"\"\"\n",
    "a, type(a)"
   ]
  },
  {
   "cell_type": "code",
   "execution_count": 31,
   "metadata": {},
   "outputs": [
    {
     "data": {
      "text/plain": [
       "'\\n여러줄의 문자열 특히 구조 유지시 사용\\n파이썬의 주석은 한줄주석만 존재, #\\n'"
      ]
     },
     "execution_count": 31,
     "metadata": {},
     "output_type": "execute_result"
    }
   ],
   "source": [
    "# 어떤 변수로도 받지 않았으므로 프로그램에 영향없음\n",
    "\"\"\"\n",
    "여러줄의 문자열 특히 구조 유지시 사용\n",
    "파이썬의 주석은 한줄주석만 존재, #\n",
    "\"\"\"\n"
   ]
  },
  {
   "cell_type": "code",
   "execution_count": 32,
   "metadata": {},
   "outputs": [
    {
     "name": "stdout",
     "output_type": "stream",
     "text": [
      "abcde\"123\"qwert\n"
     ]
    }
   ],
   "source": [
    "# 섞어서 표현\n",
    "# 원 문자열에 \"나 '가 포함되어 있어서 그대로 표현하고 싶다면 =>혼용\n",
    "a = 'abcde\"123\"qwert'\n",
    "print(a)\n"
   ]
  },
  {
   "cell_type": "code",
   "execution_count": 33,
   "metadata": {},
   "outputs": [
    {
     "name": "stdout",
     "output_type": "stream",
     "text": [
      "abcde\"123\"fg'hi'qwert\n"
     ]
    }
   ],
   "source": [
    "#문자열 안에 \"와'가 모두 섞여 잇어 문제가 될 경우\n",
    "# 이스케이프 문자 표시법으로 무나열의 구분자가 아님을 표현\n",
    "#a = 'abcde\"123\"fg'hi'qwert' #이 문장을 다음과 같이 \\이용하여 수정\n",
    "a = 'abcde\"123\"fg\\'hi\\'qwert'\n",
    "print(a)"
   ]
  },
  {
   "cell_type": "code",
   "execution_count": 34,
   "metadata": {},
   "outputs": [
    {
     "data": {
      "text/plain": [
       "('456123', '456', '123')"
      ]
     },
     "execution_count": 34,
     "metadata": {},
     "output_type": "execute_result"
    }
   ],
   "source": [
    "## 2. 문자열 더하기\n",
    "# 여러개의 문자열을 한개의 문자열로 만들기.\n",
    "a = '123'\n",
    "b = '456'\n",
    "b+a, b, a\n",
    "#앞 문자열에 뒷문자열을 이어붙여서 사본을 리턴한다.(원본유지)"
   ]
  },
  {
   "cell_type": "code",
   "execution_count": 35,
   "metadata": {},
   "outputs": [
    {
     "data": {
      "text/plain": [
       "'=========='"
      ]
     },
     "execution_count": 35,
     "metadata": {},
     "output_type": "execute_result"
    }
   ],
   "source": [
    "## 3. 문자열 곱하기\n",
    "'=' * 10\n",
    "#해당 문자열을 10번 반복해라"
   ]
  },
  {
   "cell_type": "code",
   "execution_count": 36,
   "metadata": {},
   "outputs": [
    {
     "data": {
      "text/plain": [
       "'0123456789'"
      ]
     },
     "execution_count": 36,
     "metadata": {},
     "output_type": "execute_result"
    }
   ],
   "source": [
    "## 4. 인덱싱 (딥러닝까지 계속 나오는 중요내용!!)\n",
    "# 문자열에서 특정 문자를 획득(차원 축소라는 의미를 가짐)\n",
    "a = '0123456789'\n",
    "a"
   ]
  },
  {
   "cell_type": "code",
   "execution_count": 37,
   "metadata": {},
   "outputs": [
    {
     "data": {
      "text/plain": [
       "('2', '2')"
      ]
     },
     "execution_count": 37,
     "metadata": {},
     "output_type": "execute_result"
    }
   ],
   "source": [
    "# 위의 문자열 a에서 2라는 값을 출력(추출)하시오 ->인덱싱\n",
    "# 문법\n",
    "# 변수명[인덱스(정방향, 역방향(-1, -2))]\n",
    "# 역방향: 뒤에서부터 센다.\n",
    "# 가까운곳에서 부터 세라.\n",
    "# 커서의 오른쪽값을 취한다\n",
    "a[2], a[-8]\n",
    "# 총갯수 = 2 + 8"
   ]
  },
  {
   "cell_type": "code",
   "execution_count": null,
   "metadata": {},
   "outputs": [],
   "source": [
    "\n"
   ]
  }
 ],
 "metadata": {
  "kernelspec": {
   "display_name": "Python 3",
   "language": "python",
   "name": "python3"
  },
  "language_info": {
   "codemirror_mode": {
    "name": "ipython",
    "version": 3
   },
   "file_extension": ".py",
   "mimetype": "text/x-python",
   "name": "python",
   "nbconvert_exporter": "python",
   "pygments_lexer": "ipython3",
   "version": "3.7.4"
  }
 },
 "nbformat": 4,
 "nbformat_minor": 2
}
