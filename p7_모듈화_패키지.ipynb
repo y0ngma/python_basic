{
 "cells": [
  {
   "cell_type": "markdown",
   "metadata": {},
   "source": [
    "### 패키지, 모듈\n",
    "\n",
    "- 파이썬에서 만들 수 있는 형태는 오직 2개이다\n",
    "    - 모듈    : *.py\n",
    "    - 패키지  : 특정기능을 가진 모듈들을 모아둔 디렉토리\n",
    "- 실습 구조\n",
    "    - 현재 위치\n",
    "        L MyMath\n",
    "            L __init__.py\n",
    "            L metrix\n",
    "                L __init__.py\n",
    "                L mod.py\n",
    "        L p7_모듈화_모듈가져오기_패키지_예외처리.ipynb(시작점. entry point. 여기서부터 경로체크)\n",
    "    - "
   ]
  },
  {
   "cell_type": "markdown",
   "metadata": {},
   "source": [
    "### 모듈가져오기 & 사용하기\n",
    "\n",
    "- case\n",
    "    - 내가 작성하는 모듈에 타인이 만든 모듈을 가져와 사용절차\n",
    "        - 1. 가져온다\n",
    "        - 2. 사용한다\n",
    "    - from 패키지명.패키지명...모듈명 import 변수, 함수, 클래스...\n",
    "    - from 패키지명.패키지명...모듈명 import * # 모두\n",
    "    - from 패키지명.패키지명...모듈명 import 변수 as 별칭  \n",
    "    <br>    \n",
    "    - from 패키지명.패키지명..패키지명import 이하동문  \n",
    "    <br>\n",
    "    - from 모듈명 import 이하동문  \n",
    "    <br>\n",
    "    - import 패키지명.패키지명...모듈명 as 별칭\n",
    "    - import 패키지명.패키지명...패키지명 as 별칭\n",
    "    - import 모듈명"
   ]
  },
  {
   "cell_type": "code",
   "execution_count": 1,
   "metadata": {
    "scrolled": false
   },
   "outputs": [
    {
     "ename": "ImportError",
     "evalue": "cannot import name 'sub' from 'Package.Test_package.p7_Module' (C:\\Users\\admin\\Documents\\python_basic\\Package\\Test_package\\p7_Module.py)",
     "output_type": "error",
     "traceback": [
      "\u001b[1;31m---------------------------------------------------------------------------\u001b[0m",
      "\u001b[1;31mImportError\u001b[0m                               Traceback (most recent call last)",
      "\u001b[1;32m<ipython-input-1-311a63e4e20f>\u001b[0m in \u001b[0;36m<module>\u001b[1;34m\u001b[0m\n\u001b[0;32m      1\u001b[0m \u001b[1;31m# 모듈 가져오기.\u001b[0m\u001b[1;33m\u001b[0m\u001b[1;33m\u001b[0m\u001b[1;33m\u001b[0m\u001b[0m\n\u001b[1;32m----> 2\u001b[1;33m \u001b[1;32mfrom\u001b[0m \u001b[0mPackage\u001b[0m\u001b[1;33m.\u001b[0m\u001b[0mTest_package\u001b[0m\u001b[1;33m.\u001b[0m\u001b[0mp7_Module\u001b[0m \u001b[1;32mimport\u001b[0m \u001b[0madd\u001b[0m\u001b[1;33m,\u001b[0m \u001b[0msub\u001b[0m\u001b[1;33m\u001b[0m\u001b[1;33m\u001b[0m\u001b[0m\n\u001b[0m",
      "\u001b[1;31mImportError\u001b[0m: cannot import name 'sub' from 'Package.Test_package.p7_Module' (C:\\Users\\admin\\Documents\\python_basic\\Package\\Test_package\\p7_Module.py)"
     ]
    }
   ],
   "source": [
    "# 모듈 가져오기.\n",
    "from Package.Test_package.p7_Module import add, sub"
   ]
  },
  {
   "cell_type": "code",
   "execution_count": null,
   "metadata": {
    "scrolled": true
   },
   "outputs": [],
   "source": [
    "# from~ 사용하면 사용한 코드를 내 코드처럼 사용가능\n",
    "add(1,2), sub(4, 3), name"
   ]
  },
  {
   "cell_type": "code",
   "execution_count": null,
   "metadata": {},
   "outputs": [],
   "source": [
    "# 가져온 요소들중에 특정한 요소(변,함,클)의 이름을 별칭으로 대체\n",
    "from MyMath.Metrix.p7_Module import pi as mpi\n"
   ]
  },
  {
   "cell_type": "code",
   "execution_count": null,
   "metadata": {},
   "outputs": [],
   "source": [
    "mpi"
   ]
  },
  {
   "cell_type": "code",
   "execution_count": null,
   "metadata": {},
   "outputs": [],
   "source": [
    "# 별칭 부여시 이전 이름 사용 불가\n",
    "pi"
   ]
  },
  {
   "cell_type": "code",
   "execution_count": null,
   "metadata": {},
   "outputs": [],
   "source": [
    "# 가져올 변수 함수 클래스 등이 너무 많을경우\n",
    "# 메모리 많이 먹음\n",
    "from MyMath.Metrix.p7_Module import *"
   ]
  },
  {
   "cell_type": "code",
   "execution_count": null,
   "metadata": {},
   "outputs": [],
   "source": [
    "A()"
   ]
  },
  {
   "cell_type": "code",
   "execution_count": null,
   "metadata": {},
   "outputs": [],
   "source": [
    "# 경로를 패키지로만 지정하면 마지막 패키지에 대응하는__init__.py에서 가져온다."
   ]
  },
  {
   "cell_type": "code",
   "execution_count": null,
   "metadata": {},
   "outputs": [],
   "source": [
    "from MyMath import pi3"
   ]
  },
  {
   "cell_type": "code",
   "execution_count": null,
   "metadata": {},
   "outputs": [],
   "source": [
    "pi3"
   ]
  },
  {
   "cell_type": "code",
   "execution_count": null,
   "metadata": {},
   "outputs": [],
   "source": [
    "## 메모리를 적게 잡아 먹는 방법.\n",
    "from MyMath.__init__ import pi3 "
   ]
  },
  {
   "cell_type": "code",
   "execution_count": null,
   "metadata": {},
   "outputs": [],
   "source": [
    "pi3"
   ]
  },
  {
   "cell_type": "code",
   "execution_count": null,
   "metadata": {},
   "outputs": [],
   "source": [
    "# 특정모듈이 개발한면서 작성한 코드나, \n",
    "# 단독 구동시 작동해야 하는 코드는 if __name__ ~ 내부로 처리\n",
    "# 그외의 것은 밖에 두어도 된다(정의하는 부분)\n",
    "# 왜냐하면 from_ 수행하면 해당모듈이 메모리에 로드된다\n",
    "# 경우에 따라서는 코드가 실행될 수도 있으므로, 주의\n",
    "\n",
    "# test5.py 에서 확인\n",
    "from game_nocomment2_func_ending import game_level\n",
    "game_level"
   ]
  },
  {
   "cell_type": "markdown",
   "metadata": {},
   "source": [
    "- import"
   ]
  },
  {
   "cell_type": "code",
   "execution_count": null,
   "metadata": {},
   "outputs": [],
   "source": [
    "# 객체명.함수 as 별칭\n",
    "import MyMath.Metrix.mod as m\n",
    "m.pi, m.add(1, 2)"
   ]
  },
  {
   "cell_type": "code",
   "execution_count": null,
   "metadata": {},
   "outputs": [],
   "source": [
    "import MyMath\n",
    "\n",
    "MyMath.pi3"
   ]
  },
  {
   "cell_type": "code",
   "execution_count": null,
   "metadata": {},
   "outputs": [],
   "source": [
    "from game_nocomment2_func_ending import game_level\n",
    "game_level"
   ]
  },
  {
   "cell_type": "code",
   "execution_count": null,
   "metadata": {},
   "outputs": [],
   "source": [
    "import p5_game2\n",
    "print(p5_game2.GAME_LEVEL_LEN_MIN)"
   ]
  },
  {
   "cell_type": "code",
   "execution_count": null,
   "metadata": {},
   "outputs": [],
   "source": [
    "import "
   ]
  },
  {
   "cell_type": "markdown",
   "metadata": {},
   "source": [
    "### 예외처리\n",
    "\n",
    "- 코드는 잠재적으로 오류를 가질 수 있다\n",
    "- 이때, s/w 를 다운되지 않게 하고, 혹윽 그 정보를 수집하고,  \n",
    "<br>\n",
    "  문제없이 다음단계로 진행시키게 하는 방법"
   ]
  },
  {
   "cell_type": "code",
   "execution_count": null,
   "metadata": {},
   "outputs": [],
   "source": [
    "# case1 예외 발생시 코드 진행 확인\n",
    "print(0)\n",
    "try:\n",
    "    print(1)\n",
    "    print(1/0) # 예외 발생하면 실행안됨\n",
    "    print(2) # 예외 발생하지 않으면 실행\n",
    "except Exception as e:\n",
    "    print(3, e) # 예외 발생하면 대신 실행\n",
    "else:\n",
    "    print(4) # 예외 발생하지 않으면 실행\n",
    "finally:\n",
    "    print(5) # 예외 상관없이 실행\n",
    "print(6)\n"
   ]
  },
  {
   "cell_type": "code",
   "execution_count": null,
   "metadata": {},
   "outputs": [],
   "source": []
  }
 ],
 "metadata": {
  "kernelspec": {
   "display_name": "Python 3",
   "language": "python",
   "name": "python3"
  },
  "language_info": {
   "codemirror_mode": {
    "name": "ipython",
    "version": 3
   },
   "file_extension": ".py",
   "mimetype": "text/x-python",
   "name": "python",
   "nbconvert_exporter": "python",
   "pygments_lexer": "ipython3",
   "version": "3.7.4"
  }
 },
 "nbformat": 4,
 "nbformat_minor": 2
}
