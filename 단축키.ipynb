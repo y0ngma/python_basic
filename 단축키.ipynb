{
 "cells": [
  {
   "cell_type": "markdown",
   "metadata": {},
   "source": [
    "#### 단축키\n",
    "\n",
    "- m, y 마크다운-함수\n",
    "- x cut\n",
    "- v paste below cell\n",
    "- shift v paste above\n",
    "- d,d delete cell\n",
    "- z undo delete cell\n",
    "- a add cell above\n",
    "- b add cell below\n",
    "- l listing"
   ]
  }
 ],
 "metadata": {
  "kernelspec": {
   "display_name": "Python 3",
   "language": "python",
   "name": "python3"
  },
  "language_info": {
   "codemirror_mode": {
    "name": "ipython",
    "version": 3
   },
   "file_extension": ".py",
   "mimetype": "text/x-python",
   "name": "python",
   "nbconvert_exporter": "python",
   "pygments_lexer": "ipython3",
   "version": "3.7.4"
  }
 },
 "nbformat": 4,
 "nbformat_minor": 2
}
