{
 "cells": [
  {
   "cell_type": "code",
   "execution_count": 1,
   "metadata": {},
   "outputs": [
    {
     "name": "stdout",
     "output_type": "stream",
     "text": [
      "[1] \"aaaa\"\n"
     ]
    }
   ],
   "source": [
    "print('aaaa')"
   ]
  },
  {
   "cell_type": "code",
   "execution_count": 3,
   "metadata": {},
   "outputs": [],
   "source": [
    "a <- 1\n",
    "b <- 2\n",
    "c <- 3"
   ]
  },
  {
   "cell_type": "code",
   "execution_count": 4,
   "metadata": {},
   "outputs": [
    {
     "data": {
      "text/html": [
       "<ol class=list-inline>\n",
       "\t<li>'a'</li>\n",
       "\t<li>'b'</li>\n",
       "\t<li>'c'</li>\n",
       "</ol>\n"
      ],
      "text/latex": [
       "\\begin{enumerate*}\n",
       "\\item 'a'\n",
       "\\item 'b'\n",
       "\\item 'c'\n",
       "\\end{enumerate*}\n"
      ],
      "text/markdown": [
       "1. 'a'\n",
       "2. 'b'\n",
       "3. 'c'\n",
       "\n",
       "\n"
      ],
      "text/plain": [
       "[1] \"a\" \"b\" \"c\""
      ]
     },
     "metadata": {},
     "output_type": "display_data"
    }
   ],
   "source": [
    "ls()"
   ]
  },
  {
   "cell_type": "code",
   "execution_count": 7,
   "metadata": {},
   "outputs": [],
   "source": [
    "a = 11\n",
    "b = 22\n",
    "c = 33"
   ]
  },
  {
   "cell_type": "code",
   "execution_count": 8,
   "metadata": {},
   "outputs": [
    {
     "data": {
      "text/html": [
       "<ol class=list-inline>\n",
       "\t<li>'a'</li>\n",
       "\t<li>'b'</li>\n",
       "\t<li>'c'</li>\n",
       "</ol>\n"
      ],
      "text/latex": [
       "\\begin{enumerate*}\n",
       "\\item 'a'\n",
       "\\item 'b'\n",
       "\\item 'c'\n",
       "\\end{enumerate*}\n"
      ],
      "text/markdown": [
       "1. 'a'\n",
       "2. 'b'\n",
       "3. 'c'\n",
       "\n",
       "\n"
      ],
      "text/plain": [
       "[1] \"a\" \"b\" \"c\""
      ]
     },
     "metadata": {},
     "output_type": "display_data"
    }
   ],
   "source": [
    "ls()"
   ]
  },
  {
   "cell_type": "code",
   "execution_count": 7,
   "metadata": {},
   "outputs": [
    {
     "data": {
      "text/html": [
       "11"
      ],
      "text/latex": [
       "11"
      ],
      "text/markdown": [
       "11"
      ],
      "text/plain": [
       "[1] 11"
      ]
     },
     "metadata": {},
     "output_type": "display_data"
    }
   ],
   "source": [
    "a"
   ]
  },
  {
   "cell_type": "code",
   "execution_count": 9,
   "metadata": {},
   "outputs": [
    {
     "data": {
      "text/html": [
       "33"
      ],
      "text/latex": [
       "33"
      ],
      "text/markdown": [
       "33"
      ],
      "text/plain": [
       "[1] 33"
      ]
     },
     "metadata": {},
     "output_type": "display_data"
    }
   ],
   "source": [
    "a+b"
   ]
  },
  {
   "cell_type": "code",
   "execution_count": 10,
   "metadata": {},
   "outputs": [],
   "source": [
    "var1 <- c(1, 2, 5, 7, 8)"
   ]
  },
  {
   "cell_type": "code",
   "execution_count": 11,
   "metadata": {},
   "outputs": [
    {
     "data": {
      "text/html": [
       "<ol class=list-inline>\n",
       "\t<li>1</li>\n",
       "\t<li>2</li>\n",
       "\t<li>5</li>\n",
       "\t<li>7</li>\n",
       "\t<li>8</li>\n",
       "</ol>\n"
      ],
      "text/latex": [
       "\\begin{enumerate*}\n",
       "\\item 1\n",
       "\\item 2\n",
       "\\item 5\n",
       "\\item 7\n",
       "\\item 8\n",
       "\\end{enumerate*}\n"
      ],
      "text/markdown": [
       "1. 1\n",
       "2. 2\n",
       "3. 5\n",
       "4. 7\n",
       "5. 8\n",
       "\n",
       "\n"
      ],
      "text/plain": [
       "[1] 1 2 5 7 8"
      ]
     },
     "metadata": {},
     "output_type": "display_data"
    }
   ],
   "source": [
    "var1"
   ]
  },
  {
   "cell_type": "code",
   "execution_count": 12,
   "metadata": {},
   "outputs": [],
   "source": [
    "ver2 <- c(1:5)"
   ]
  },
  {
   "cell_type": "code",
   "execution_count": 13,
   "metadata": {},
   "outputs": [
    {
     "data": {
      "text/html": [
       "<ol class=list-inline>\n",
       "\t<li>1</li>\n",
       "\t<li>2</li>\n",
       "\t<li>3</li>\n",
       "\t<li>4</li>\n",
       "\t<li>5</li>\n",
       "</ol>\n"
      ],
      "text/latex": [
       "\\begin{enumerate*}\n",
       "\\item 1\n",
       "\\item 2\n",
       "\\item 3\n",
       "\\item 4\n",
       "\\item 5\n",
       "\\end{enumerate*}\n"
      ],
      "text/markdown": [
       "1. 1\n",
       "2. 2\n",
       "3. 3\n",
       "4. 4\n",
       "5. 5\n",
       "\n",
       "\n"
      ],
      "text/plain": [
       "[1] 1 2 3 4 5"
      ]
     },
     "metadata": {},
     "output_type": "display_data"
    }
   ],
   "source": [
    "ver2"
   ]
  },
  {
   "cell_type": "code",
   "execution_count": 14,
   "metadata": {},
   "outputs": [],
   "source": [
    "var3 <- seq(1, 5)"
   ]
  },
  {
   "cell_type": "code",
   "execution_count": 15,
   "metadata": {},
   "outputs": [
    {
     "data": {
      "text/html": [
       "<ol class=list-inline>\n",
       "\t<li>1</li>\n",
       "\t<li>2</li>\n",
       "\t<li>3</li>\n",
       "\t<li>4</li>\n",
       "\t<li>5</li>\n",
       "</ol>\n"
      ],
      "text/latex": [
       "\\begin{enumerate*}\n",
       "\\item 1\n",
       "\\item 2\n",
       "\\item 3\n",
       "\\item 4\n",
       "\\item 5\n",
       "\\end{enumerate*}\n"
      ],
      "text/markdown": [
       "1. 1\n",
       "2. 2\n",
       "3. 3\n",
       "4. 4\n",
       "5. 5\n",
       "\n",
       "\n"
      ],
      "text/plain": [
       "[1] 1 2 3 4 5"
      ]
     },
     "metadata": {},
     "output_type": "display_data"
    }
   ],
   "source": [
    "var3"
   ]
  },
  {
   "cell_type": "code",
   "execution_count": 16,
   "metadata": {},
   "outputs": [
    {
     "data": {
      "text/html": [
       "<ol class=list-inline>\n",
       "\t<li>1</li>\n",
       "\t<li>4</li>\n",
       "\t<li>7</li>\n",
       "\t<li>10</li>\n",
       "</ol>\n"
      ],
      "text/latex": [
       "\\begin{enumerate*}\n",
       "\\item 1\n",
       "\\item 4\n",
       "\\item 7\n",
       "\\item 10\n",
       "\\end{enumerate*}\n"
      ],
      "text/markdown": [
       "1. 1\n",
       "2. 4\n",
       "3. 7\n",
       "4. 10\n",
       "\n",
       "\n"
      ],
      "text/plain": [
       "[1]  1  4  7 10"
      ]
     },
     "metadata": {},
     "output_type": "display_data"
    }
   ],
   "source": [
    "var5 <- seq(1, 10, by = 3)\n",
    "var5"
   ]
  },
  {
   "cell_type": "code",
   "execution_count": 17,
   "metadata": {},
   "outputs": [
    {
     "data": {
      "text/html": [
       "<ol class=list-inline>\n",
       "\t<li>2</li>\n",
       "\t<li>4</li>\n",
       "\t<li>6</li>\n",
       "\t<li>8</li>\n",
       "\t<li>10</li>\n",
       "</ol>\n"
      ],
      "text/latex": [
       "\\begin{enumerate*}\n",
       "\\item 2\n",
       "\\item 4\n",
       "\\item 6\n",
       "\\item 8\n",
       "\\item 10\n",
       "\\end{enumerate*}\n"
      ],
      "text/markdown": [
       "1. 2\n",
       "2. 4\n",
       "3. 6\n",
       "4. 8\n",
       "5. 10\n",
       "\n",
       "\n"
      ],
      "text/plain": [
       "[1]  2  4  6  8 10"
      ]
     },
     "metadata": {},
     "output_type": "display_data"
    }
   ],
   "source": [
    "var5 <- seq(2, 10, by = 2)\n",
    "var5"
   ]
  },
  {
   "cell_type": "code",
   "execution_count": 18,
   "metadata": {},
   "outputs": [
    {
     "data": {
      "text/html": [
       "<ol class=list-inline>\n",
       "\t<li>3</li>\n",
       "\t<li>4</li>\n",
       "\t<li>7</li>\n",
       "\t<li>9</li>\n",
       "\t<li>10</li>\n",
       "</ol>\n"
      ],
      "text/latex": [
       "\\begin{enumerate*}\n",
       "\\item 3\n",
       "\\item 4\n",
       "\\item 7\n",
       "\\item 9\n",
       "\\item 10\n",
       "\\end{enumerate*}\n"
      ],
      "text/markdown": [
       "1. 3\n",
       "2. 4\n",
       "3. 7\n",
       "4. 9\n",
       "5. 10\n",
       "\n",
       "\n"
      ],
      "text/plain": [
       "[1]  3  4  7  9 10"
      ]
     },
     "metadata": {},
     "output_type": "display_data"
    }
   ],
   "source": [
    "var1+2"
   ]
  },
  {
   "cell_type": "code",
   "execution_count": 19,
   "metadata": {},
   "outputs": [
    {
     "data": {
      "text/html": [
       "'Hello World!'"
      ],
      "text/latex": [
       "'Hello World!'"
      ],
      "text/markdown": [
       "'Hello World!'"
      ],
      "text/plain": [
       "[1] \"Hello World!\""
      ]
     },
     "metadata": {},
     "output_type": "display_data"
    }
   ],
   "source": [
    "str3 <- \"Hello World!\"\n",
    "str3"
   ]
  },
  {
   "cell_type": "code",
   "execution_count": 20,
   "metadata": {},
   "outputs": [
    {
     "data": {
      "text/html": [
       "<ol class=list-inline>\n",
       "\t<li>'a'</li>\n",
       "\t<li>'b'</li>\n",
       "\t<li>'c'</li>\n",
       "\t<li>'str3'</li>\n",
       "\t<li>'var1'</li>\n",
       "\t<li>'var3'</li>\n",
       "\t<li>'var5'</li>\n",
       "\t<li>'ver2'</li>\n",
       "</ol>\n"
      ],
      "text/latex": [
       "\\begin{enumerate*}\n",
       "\\item 'a'\n",
       "\\item 'b'\n",
       "\\item 'c'\n",
       "\\item 'str3'\n",
       "\\item 'var1'\n",
       "\\item 'var3'\n",
       "\\item 'var5'\n",
       "\\item 'ver2'\n",
       "\\end{enumerate*}\n"
      ],
      "text/markdown": [
       "1. 'a'\n",
       "2. 'b'\n",
       "3. 'c'\n",
       "4. 'str3'\n",
       "5. 'var1'\n",
       "6. 'var3'\n",
       "7. 'var5'\n",
       "8. 'ver2'\n",
       "\n",
       "\n"
      ],
      "text/plain": [
       "[1] \"a\"    \"b\"    \"c\"    \"str3\" \"var1\" \"var3\" \"var5\" \"ver2\""
      ]
     },
     "metadata": {},
     "output_type": "display_data"
    }
   ],
   "source": [
    "ls()"
   ]
  },
  {
   "cell_type": "code",
   "execution_count": 21,
   "metadata": {},
   "outputs": [
    {
     "data": {
      "text/html": [
       "'Hello World!'"
      ],
      "text/latex": [
       "'Hello World!'"
      ],
      "text/markdown": [
       "'Hello World!'"
      ],
      "text/plain": [
       "[1] \"Hello World!\""
      ]
     },
     "metadata": {},
     "output_type": "display_data"
    }
   ],
   "source": [
    "str3 = \"Hello World!\"\n",
    "str3"
   ]
  },
  {
   "cell_type": "code",
   "execution_count": 22,
   "metadata": {},
   "outputs": [
    {
     "data": {
      "text/html": [
       "<ol class=list-inline>\n",
       "\t<li>'Hello!'</li>\n",
       "\t<li>'World'</li>\n",
       "\t<li>'is'</li>\n",
       "\t<li>'good!'</li>\n",
       "</ol>\n"
      ],
      "text/latex": [
       "\\begin{enumerate*}\n",
       "\\item 'Hello!'\n",
       "\\item 'World'\n",
       "\\item 'is'\n",
       "\\item 'good!'\n",
       "\\end{enumerate*}\n"
      ],
      "text/markdown": [
       "1. 'Hello!'\n",
       "2. 'World'\n",
       "3. 'is'\n",
       "4. 'good!'\n",
       "\n",
       "\n"
      ],
      "text/plain": [
       "[1] \"Hello!\" \"World\"  \"is\"     \"good!\" "
      ]
     },
     "metadata": {},
     "output_type": "display_data"
    }
   ],
   "source": [
    "str5 <- c(\"Hello!\", \"World\", \"is\", \"good!\")\n",
    "str5"
   ]
  },
  {
   "cell_type": "code",
   "execution_count": 23,
   "metadata": {},
   "outputs": [
    {
     "ename": "ERROR",
     "evalue": "Error in str5 + 2: 이항연산자에 수치가 아닌 인수입니다\n",
     "output_type": "error",
     "traceback": [
      "Error in str5 + 2: 이항연산자에 수치가 아닌 인수입니다\nTraceback:\n"
     ]
    }
   ],
   "source": [
    "str5+2"
   ]
  },
  {
   "cell_type": "code",
   "execution_count": 24,
   "metadata": {},
   "outputs": [
    {
     "data": {
      "text/html": [
       "2"
      ],
      "text/latex": [
       "2"
      ],
      "text/markdown": [
       "2"
      ],
      "text/plain": [
       "[1] 2"
      ]
     },
     "metadata": {},
     "output_type": "display_data"
    },
    {
     "data": {
      "text/html": [
       "3"
      ],
      "text/latex": [
       "3"
      ],
      "text/markdown": [
       "3"
      ],
      "text/plain": [
       "[1] 3"
      ]
     },
     "metadata": {},
     "output_type": "display_data"
    },
    {
     "data": {
      "text/html": [
       "1"
      ],
      "text/latex": [
       "1"
      ],
      "text/markdown": [
       "1"
      ],
      "text/plain": [
       "[1] 1"
      ]
     },
     "metadata": {},
     "output_type": "display_data"
    }
   ],
   "source": [
    "x <- c(1, 2, 3)\n",
    "mean(x)\n",
    "max(x)\n",
    "min(x)\n"
   ]
  },
  {
   "cell_type": "code",
   "execution_count": 29,
   "metadata": {},
   "outputs": [
    {
     "data": {
      "text/html": [
       "'Hello!,World,is,good!'"
      ],
      "text/latex": [
       "'Hello!,World,is,good!'"
      ],
      "text/markdown": [
       "'Hello!,World,is,good!'"
      ],
      "text/plain": [
       "[1] \"Hello!,World,is,good!\""
      ]
     },
     "metadata": {},
     "output_type": "display_data"
    }
   ],
   "source": [
    "paste(str5, collapse = \",\")"
   ]
  },
  {
   "cell_type": "code",
   "execution_count": null,
   "metadata": {},
   "outputs": [],
   "source": [
    "install.packages(\"ggplot2\")"
   ]
  },
  {
   "cell_type": "code",
   "execution_count": 31,
   "metadata": {},
   "outputs": [
    {
     "name": "stderr",
     "output_type": "stream",
     "text": [
      "Warning message:\n",
      "\"package 'ggplot2' was built under R version 3.6.3\""
     ]
    }
   ],
   "source": [
    "library(ggplot2)"
   ]
  },
  {
   "cell_type": "code",
   "execution_count": 43,
   "metadata": {},
   "outputs": [
    {
     "data": {
      "text/plain": [
       "no methods found"
      ]
     },
     "metadata": {},
     "output_type": "display_data"
    }
   ],
   "source": [
    "# methods(paste)"
   ]
  },
  {
   "cell_type": "code",
   "execution_count": 32,
   "metadata": {},
   "outputs": [],
   "source": [
    "x <- c(\"a\", \"a\", \"b\", \"c\")"
   ]
  },
  {
   "cell_type": "code",
   "execution_count": 33,
   "metadata": {},
   "outputs": [
    {
     "data": {
      "image/png": "[encoded data removed]",
      "text/plain": [
       "plot without title"
      ]
     },
     "metadata": {},
     "output_type": "display_data"
    }
   ],
   "source": [
    "qplot(x)"
   ]
  },
  {
   "cell_type": "code",
   "execution_count": 34,
   "metadata": {},
   "outputs": [
    {
     "name": "stderr",
     "output_type": "stream",
     "text": [
      "`stat_bin()` using `bins = 30`. Pick better value with `binwidth`.\n"
     ]
    },
    {
     "data": {
      "image/png": "[encoded data removed]",
      "text/plain": [
       "plot without title"
      ]
     },
     "metadata": {},
     "output_type": "display_data"
    }
   ],
   "source": [
    "# data 에 mpg, x 축에 hwy 변수 지정하여 그래프 생성\n",
    "qplot(data = mpg, x = hwy)"
   ]
  },
  {
   "cell_type": "code",
   "execution_count": 35,
   "metadata": {},
   "outputs": [
    {
     "name": "stderr",
     "output_type": "stream",
     "text": [
      "`stat_bin()` using `bins = 30`. Pick better value with `binwidth`.\n"
     ]
    },
    {
     "data": {
      "image/png": "[encoded data removed]",
      "text/plain": [
       "plot without title"
      ]
     },
     "metadata": {},
     "output_type": "display_data"
    }
   ],
   "source": [
    "qplot(data = mpg, x = cty)"
   ]
  },
  {
   "cell_type": "code",
   "execution_count": 34,
   "metadata": {},
   "outputs": [
    {
     "data": {
      "image/png": "[encoded data removed]",
      "text/plain": [
       "plot without title"
      ]
     },
     "metadata": {
      "image/png": {
       "height": 420,
       "width": 420
      },
      "text/plain": {
       "height": 420,
       "width": 420
      }
     },
     "output_type": "display_data"
    }
   ],
   "source": [
    "qplot(data = mpg, x = drv, y = hwy)"
   ]
  },
  {
   "cell_type": "code",
   "execution_count": 35,
   "metadata": {},
   "outputs": [
    {
     "data": {
      "image/png": "[encoded data removed]",
      "text/plain": [
       "plot without title"
      ]
     },
     "metadata": {
      "image/png": {
       "height": 420,
       "width": 420
      },
      "text/plain": {
       "height": 420,
       "width": 420
      }
     },
     "output_type": "display_data"
    }
   ],
   "source": [
    "qplot(data = mpg, x = drv, y = hwy, geom = \"line\")"
   ]
  },
  {
   "cell_type": "code",
   "execution_count": 36,
   "metadata": {},
   "outputs": [
    {
     "data": {
      "image/png": "[encoded data removed]",
      "text/plain": [
       "plot without title"
      ]
     },
     "metadata": {
      "image/png": {
       "height": 420,
       "width": 420
      },
      "text/plain": {
       "height": 420,
       "width": 420
      }
     },
     "output_type": "display_data"
    }
   ],
   "source": [
    "qplot(data = mpg, x = drv, y = hwy, geom = \"boxplot\")"
   ]
  },
  {
   "cell_type": "code",
   "execution_count": 37,
   "metadata": {},
   "outputs": [
    {
     "data": {
      "image/png": "[encoded data removed]",
      "text/plain": [
       "plot without title"
      ]
     },
     "metadata": {
      "image/png": {
       "height": 420,
       "width": 420
      },
      "text/plain": {
       "height": 420,
       "width": 420
      }
     },
     "output_type": "display_data"
    }
   ],
   "source": [
    "qplot(data = mpg, x = drv, y = hwy, geom = \"boxplot\", colour = drv)"
   ]
  },
  {
   "cell_type": "code",
   "execution_count": 38,
   "metadata": {},
   "outputs": [
    {
     "data": {
      "text/html": [
       "\n",
       "<table width=\"100%\" summary=\"page for qplot {ggplot2}\"><tr><td>qplot {ggplot2}</td><td style=\"text-align: right;\">R Documentation</td></tr></table>\n",
       "\n",
       "<h2>Quick plot</h2>\n",
       "\n",
       "<h3>Description</h3>\n",
       "\n",
       "<p><code>qplot</code> is a shortcut designed to be familiar if you're used to base\n",
       "<code>plot()</code>. It's a convenient wrapper for creating a number of\n",
       "different types of plots using a consistent calling scheme. It's great\n",
       "for allowing you to produce plots quickly, but I highly recommend\n",
       "learning <code>ggplot()</code> as it makes it easier to create\n",
       "complex graphics.\n",
       "</p>\n",
       "\n",
       "\n",
       "<h3>Usage</h3>\n",
       "\n",
       "<pre>\n",
       "qplot(x, y, ..., data, facets = NULL, margins = FALSE, geom = \"auto\",\n",
       "  xlim = c(NA, NA), ylim = c(NA, NA), log = \"\", main = NULL,\n",
       "  xlab = NULL, ylab = NULL, asp = NA, stat = NULL,\n",
       "  position = NULL)\n",
       "\n",
       "quickplot(x, y, ..., data, facets = NULL, margins = FALSE,\n",
       "  geom = \"auto\", xlim = c(NA, NA), ylim = c(NA, NA), log = \"\",\n",
       "  main = NULL, xlab = NULL, ylab = NULL, asp = NA, stat = NULL,\n",
       "  position = NULL)\n",
       "</pre>\n",
       "\n",
       "\n",
       "<h3>Arguments</h3>\n",
       "\n",
       "<table summary=\"R argblock\">\n",
       "<tr valign=\"top\"><td><code>x, y, ...</code></td>\n",
       "<td>\n",
       "<p>Aesthetics passed into each layer</p>\n",
       "</td></tr>\n",
       "<tr valign=\"top\"><td><code>data</code></td>\n",
       "<td>\n",
       "<p>Data frame to use (optional).  If not specified, will create\n",
       "one, extracting vectors from the current environment.</p>\n",
       "</td></tr>\n",
       "<tr valign=\"top\"><td><code>facets</code></td>\n",
       "<td>\n",
       "<p>faceting formula to use. Picks <code>facet_wrap()</code> or\n",
       "<code>facet_grid()</code> depending on whether the formula is one-\n",
       "or two-sided</p>\n",
       "</td></tr>\n",
       "<tr valign=\"top\"><td><code>margins</code></td>\n",
       "<td>\n",
       "<p>See <code>facet_grid</code>: display marginal facets?</p>\n",
       "</td></tr>\n",
       "<tr valign=\"top\"><td><code>geom</code></td>\n",
       "<td>\n",
       "<p>Character vector specifying geom(s) to draw. Defaults to\n",
       "&quot;point&quot; if x and y are specified, and &quot;histogram&quot; if only x is specified.</p>\n",
       "</td></tr>\n",
       "<tr valign=\"top\"><td><code>xlim, ylim</code></td>\n",
       "<td>\n",
       "<p>X and y axis limits</p>\n",
       "</td></tr>\n",
       "<tr valign=\"top\"><td><code>log</code></td>\n",
       "<td>\n",
       "<p>Which variables to log transform (&quot;x&quot;, &quot;y&quot;, or &quot;xy&quot;)</p>\n",
       "</td></tr>\n",
       "<tr valign=\"top\"><td><code>main, xlab, ylab</code></td>\n",
       "<td>\n",
       "<p>Character vector (or expression) giving plot title,\n",
       "x axis label, and y axis label respectively.</p>\n",
       "</td></tr>\n",
       "<tr valign=\"top\"><td><code>asp</code></td>\n",
       "<td>\n",
       "<p>The y/x aspect ratio</p>\n",
       "</td></tr>\n",
       "<tr valign=\"top\"><td><code>stat, position</code></td>\n",
       "<td>\n",
       "<p>DEPRECATED.</p>\n",
       "</td></tr>\n",
       "</table>\n",
       "\n",
       "\n",
       "<h3>Examples</h3>\n",
       "\n",
       "<pre>\n",
       "# Use data from data.frame\n",
       "qplot(mpg, wt, data = mtcars)\n",
       "qplot(mpg, wt, data = mtcars, colour = cyl)\n",
       "qplot(mpg, wt, data = mtcars, size = cyl)\n",
       "qplot(mpg, wt, data = mtcars, facets = vs ~ am)\n",
       "\n",
       "\n",
       "qplot(1:10, rnorm(10), colour = runif(10))\n",
       "qplot(1:10, letters[1:10])\n",
       "mod &lt;- lm(mpg ~ wt, data = mtcars)\n",
       "qplot(resid(mod), fitted(mod))\n",
       "\n",
       "f &lt;- function() {\n",
       "   a &lt;- 1:10\n",
       "   b &lt;- a ^ 2\n",
       "   qplot(a, b)\n",
       "}\n",
       "f()\n",
       "\n",
       "# To set aesthetics, wrap in I()\n",
       "qplot(mpg, wt, data = mtcars, colour = I(\"red\"))\n",
       "\n",
       "# qplot will attempt to guess what geom you want depending on the input\n",
       "# both x and y supplied = scatterplot\n",
       "qplot(mpg, wt, data = mtcars)\n",
       "# just x supplied = histogram\n",
       "qplot(mpg, data = mtcars)\n",
       "# just y supplied = scatterplot, with x = seq_along(y)\n",
       "qplot(y = mpg, data = mtcars)\n",
       "\n",
       "# Use different geoms\n",
       "qplot(mpg, wt, data = mtcars, geom = \"path\")\n",
       "qplot(factor(cyl), wt, data = mtcars, geom = c(\"boxplot\", \"jitter\"))\n",
       "qplot(mpg, data = mtcars, geom = \"dotplot\")\n",
       "\n",
       "</pre>\n",
       "\n",
       "<hr /><div style=\"text-align: center;\">[Package <em>ggplot2</em> version 3.2.1 ]</div>"
      ],
      "text/latex": [
       "\\inputencoding{utf8}\n",
       "\\HeaderA{qplot}{Quick plot}{qplot}\n",
       "\\aliasA{quickplot}{qplot}{quickplot}\n",
       "%\n",
       "\\begin{Description}\\relax\n",
       "\\code{qplot} is a shortcut designed to be familiar if you're used to base\n",
       "\\code{\\LinkA{plot()}{plot}}. It's a convenient wrapper for creating a number of\n",
       "different types of plots using a consistent calling scheme. It's great\n",
       "for allowing you to produce plots quickly, but I highly recommend\n",
       "learning \\code{\\LinkA{ggplot()}{ggplot}} as it makes it easier to create\n",
       "complex graphics.\n",
       "\\end{Description}\n",
       "%\n",
       "\\begin{Usage}\n",
       "\\begin{verbatim}\n",
       "qplot(x, y, ..., data, facets = NULL, margins = FALSE, geom = \"auto\",\n",
       "  xlim = c(NA, NA), ylim = c(NA, NA), log = \"\", main = NULL,\n",
       "  xlab = NULL, ylab = NULL, asp = NA, stat = NULL,\n",
       "  position = NULL)\n",
       "\n",
       "quickplot(x, y, ..., data, facets = NULL, margins = FALSE,\n",
       "  geom = \"auto\", xlim = c(NA, NA), ylim = c(NA, NA), log = \"\",\n",
       "  main = NULL, xlab = NULL, ylab = NULL, asp = NA, stat = NULL,\n",
       "  position = NULL)\n",
       "\\end{verbatim}\n",
       "\\end{Usage}\n",
       "%\n",
       "\\begin{Arguments}\n",
       "\\begin{ldescription}\n",
       "\\item[\\code{x, y, ...}] Aesthetics passed into each layer\n",
       "\n",
       "\\item[\\code{data}] Data frame to use (optional).  If not specified, will create\n",
       "one, extracting vectors from the current environment.\n",
       "\n",
       "\\item[\\code{facets}] faceting formula to use. Picks \\code{\\LinkA{facet\\_wrap()}{facet.Rul.wrap}} or\n",
       "\\code{\\LinkA{facet\\_grid()}{facet.Rul.grid}} depending on whether the formula is one-\n",
       "or two-sided\n",
       "\n",
       "\\item[\\code{margins}] See \\code{facet\\_grid}: display marginal facets?\n",
       "\n",
       "\\item[\\code{geom}] Character vector specifying geom(s) to draw. Defaults to\n",
       "\"point\" if x and y are specified, and \"histogram\" if only x is specified.\n",
       "\n",
       "\\item[\\code{xlim, ylim}] X and y axis limits\n",
       "\n",
       "\\item[\\code{log}] Which variables to log transform (\"x\", \"y\", or \"xy\")\n",
       "\n",
       "\\item[\\code{main, xlab, ylab}] Character vector (or expression) giving plot title,\n",
       "x axis label, and y axis label respectively.\n",
       "\n",
       "\\item[\\code{asp}] The y/x aspect ratio\n",
       "\n",
       "\\item[\\code{stat, position}] DEPRECATED.\n",
       "\\end{ldescription}\n",
       "\\end{Arguments}\n",
       "%\n",
       "\\begin{Examples}\n",
       "\\begin{ExampleCode}\n",
       "# Use data from data.frame\n",
       "qplot(mpg, wt, data = mtcars)\n",
       "qplot(mpg, wt, data = mtcars, colour = cyl)\n",
       "qplot(mpg, wt, data = mtcars, size = cyl)\n",
       "qplot(mpg, wt, data = mtcars, facets = vs ~ am)\n",
       "\n",
       "\n",
       "qplot(1:10, rnorm(10), colour = runif(10))\n",
       "qplot(1:10, letters[1:10])\n",
       "mod <- lm(mpg ~ wt, data = mtcars)\n",
       "qplot(resid(mod), fitted(mod))\n",
       "\n",
       "f <- function() {\n",
       "   a <- 1:10\n",
       "   b <- a ^ 2\n",
       "   qplot(a, b)\n",
       "}\n",
       "f()\n",
       "\n",
       "# To set aesthetics, wrap in I()\n",
       "qplot(mpg, wt, data = mtcars, colour = I(\"red\"))\n",
       "\n",
       "# qplot will attempt to guess what geom you want depending on the input\n",
       "# both x and y supplied = scatterplot\n",
       "qplot(mpg, wt, data = mtcars)\n",
       "# just x supplied = histogram\n",
       "qplot(mpg, data = mtcars)\n",
       "# just y supplied = scatterplot, with x = seq_along(y)\n",
       "qplot(y = mpg, data = mtcars)\n",
       "\n",
       "# Use different geoms\n",
       "qplot(mpg, wt, data = mtcars, geom = \"path\")\n",
       "qplot(factor(cyl), wt, data = mtcars, geom = c(\"boxplot\", \"jitter\"))\n",
       "qplot(mpg, data = mtcars, geom = \"dotplot\")\n",
       "\n",
       "\\end{ExampleCode}\n",
       "\\end{Examples}"
      ],
      "text/plain": [
       "qplot                 package:ggplot2                  R Documentation\n",
       "\n",
       "_\bQ_\bu_\bi_\bc_\bk _\bp_\bl_\bo_\bt\n",
       "\n",
       "_\bD_\be_\bs_\bc_\br_\bi_\bp_\bt_\bi_\bo_\bn:\n",
       "\n",
       "     ‘qplot’ is a shortcut designed to be familiar if you're used to\n",
       "     base ‘plot()’. It's a convenient wrapper for creating a number of\n",
       "     different types of plots using a consistent calling scheme. It's\n",
       "     great for allowing you to produce plots quickly, but I highly\n",
       "     recommend learning ‘ggplot()’ as it makes it easier to create\n",
       "     complex graphics.\n",
       "\n",
       "_\bU_\bs_\ba_\bg_\be:\n",
       "\n",
       "     qplot(x, y, ..., data, facets = NULL, margins = FALSE, geom = \"auto\",\n",
       "       xlim = c(NA, NA), ylim = c(NA, NA), log = \"\", main = NULL,\n",
       "       xlab = NULL, ylab = NULL, asp = NA, stat = NULL,\n",
       "       position = NULL)\n",
       "     \n",
       "     quickplot(x, y, ..., data, facets = NULL, margins = FALSE,\n",
       "       geom = \"auto\", xlim = c(NA, NA), ylim = c(NA, NA), log = \"\",\n",
       "       main = NULL, xlab = NULL, ylab = NULL, asp = NA, stat = NULL,\n",
       "       position = NULL)\n",
       "     \n",
       "_\bA_\br_\bg_\bu_\bm_\be_\bn_\bt_\bs:\n",
       "\n",
       "x, y, ...: Aesthetics passed into each layer\n",
       "\n",
       "    data: Data frame to use (optional).  If not specified, will create\n",
       "          one, extracting vectors from the current environment.\n",
       "\n",
       "  facets: faceting formula to use. Picks ‘facet_wrap()’ or\n",
       "          ‘facet_grid()’ depending on whether the formula is one- or\n",
       "          two-sided\n",
       "\n",
       " margins: See ‘facet_grid’: display marginal facets?\n",
       "\n",
       "    geom: Character vector specifying geom(s) to draw. Defaults to\n",
       "          \"point\" if x and y are specified, and \"histogram\" if only x\n",
       "          is specified.\n",
       "\n",
       "xlim, ylim: X and y axis limits\n",
       "\n",
       "     log: Which variables to log transform (\"x\", \"y\", or \"xy\")\n",
       "\n",
       "main, xlab, ylab: Character vector (or expression) giving plot title, x\n",
       "          axis label, and y axis label respectively.\n",
       "\n",
       "     asp: The y/x aspect ratio\n",
       "\n",
       "stat, position: DEPRECATED.\n",
       "\n",
       "_\bE_\bx_\ba_\bm_\bp_\bl_\be_\bs:\n",
       "\n",
       "     # Use data from data.frame\n",
       "     qplot(mpg, wt, data = mtcars)\n",
       "     qplot(mpg, wt, data = mtcars, colour = cyl)\n",
       "     qplot(mpg, wt, data = mtcars, size = cyl)\n",
       "     qplot(mpg, wt, data = mtcars, facets = vs ~ am)\n",
       "     \n",
       "     \n",
       "     qplot(1:10, rnorm(10), colour = runif(10))\n",
       "     qplot(1:10, letters[1:10])\n",
       "     mod <- lm(mpg ~ wt, data = mtcars)\n",
       "     qplot(resid(mod), fitted(mod))\n",
       "     \n",
       "     f <- function() {\n",
       "        a <- 1:10\n",
       "        b <- a ^ 2\n",
       "        qplot(a, b)\n",
       "     }\n",
       "     f()\n",
       "     \n",
       "     # To set aesthetics, wrap in I()\n",
       "     qplot(mpg, wt, data = mtcars, colour = I(\"red\"))\n",
       "     \n",
       "     # qplot will attempt to guess what geom you want depending on the input\n",
       "     # both x and y supplied = scatterplot\n",
       "     qplot(mpg, wt, data = mtcars)\n",
       "     # just x supplied = histogram\n",
       "     qplot(mpg, data = mtcars)\n",
       "     # just y supplied = scatterplot, with x = seq_along(y)\n",
       "     qplot(y = mpg, data = mtcars)\n",
       "     \n",
       "     # Use different geoms\n",
       "     qplot(mpg, wt, data = mtcars, geom = \"path\")\n",
       "     qplot(factor(cyl), wt, data = mtcars, geom = c(\"boxplot\", \"jitter\"))\n",
       "     qplot(mpg, data = mtcars, geom = \"dotplot\")\n",
       "     "
      ]
     },
     "metadata": {},
     "output_type": "display_data"
    }
   ],
   "source": [
    "?qplot"
   ]
  },
  {
   "cell_type": "markdown",
   "metadata": {},
   "source": [
    "## Q1. 시험 점수 변수 만들고 출력하기"
   ]
  },
  {
   "cell_type": "code",
   "execution_count": 36,
   "metadata": {},
   "outputs": [
    {
     "data": {
      "text/html": [
       "<ol class=list-inline>\n",
       "\t<li>80</li>\n",
       "\t<li>60</li>\n",
       "\t<li>70</li>\n",
       "\t<li>50</li>\n",
       "\t<li>90</li>\n",
       "</ol>\n"
      ],
      "text/latex": [
       "\\begin{enumerate*}\n",
       "\\item 80\n",
       "\\item 60\n",
       "\\item 70\n",
       "\\item 50\n",
       "\\item 90\n",
       "\\end{enumerate*}\n"
      ],
      "text/markdown": [
       "1. 80\n",
       "2. 60\n",
       "3. 70\n",
       "4. 50\n",
       "5. 90\n",
       "\n",
       "\n"
      ],
      "text/plain": [
       "[1] 80 60 70 50 90"
      ]
     },
     "metadata": {},
     "output_type": "display_data"
    }
   ],
   "source": [
    "score <- c(80, 60, 70, 50, 90)\n",
    "score"
   ]
  },
  {
   "cell_type": "markdown",
   "metadata": {},
   "source": [
    "## Q2. 전체 평균 구하기"
   ]
  },
  {
   "cell_type": "code",
   "execution_count": 37,
   "metadata": {},
   "outputs": [
    {
     "data": {
      "text/html": [
       "70"
      ],
      "text/latex": [
       "70"
      ],
      "text/markdown": [
       "70"
      ],
      "text/plain": [
       "[1] 70"
      ]
     },
     "metadata": {},
     "output_type": "display_data"
    }
   ],
   "source": [
    "mean(score)"
   ]
  },
  {
   "cell_type": "markdown",
   "metadata": {},
   "source": [
    "## Q3. 전체 평균 변수 만들고 출력하기"
   ]
  },
  {
   "cell_type": "code",
   "execution_count": 38,
   "metadata": {},
   "outputs": [
    {
     "name": "stdout",
     "output_type": "stream",
     "text": [
      "[1] 70\n"
     ]
    }
   ],
   "source": [
    "mean_score <- mean(score)\n",
    "print(mean_score)"
   ]
  },
  {
   "cell_type": "code",
   "execution_count": null,
   "metadata": {},
   "outputs": [],
   "source": []
  }
 ],
 "metadata": {
  "kernelspec": {
   "display_name": "R",
   "language": "R",
   "name": "ir"
  },
  "language_info": {
   "codemirror_mode": "r",
   "file_extension": ".r",
   "mimetype": "text/x-r-source",
   "name": "R",
   "pygments_lexer": "r",
   "version": "3.6.1"
  }
 },
 "nbformat": 4,
 "nbformat_minor": 4
}
