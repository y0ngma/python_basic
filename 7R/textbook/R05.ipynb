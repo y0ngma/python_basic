{
 "cells": [
  {
   "cell_type": "code",
   "execution_count": 1,
   "metadata": {},
   "outputs": [],
   "source": [
    "exam <- read.csv(\"./Data/csv_exam.csv\")"
   ]
  },
  {
   "cell_type": "code",
   "execution_count": 2,
   "metadata": {},
   "outputs": [
    {
     "data": {
      "text/html": [
       "<table>\n",
       "<thead><tr><th scope=col>id</th><th scope=col>class</th><th scope=col>math</th><th scope=col>english</th><th scope=col>science</th></tr></thead>\n",
       "<tbody>\n",
       "\t<tr><td>1 </td><td>1 </td><td>50</td><td>98</td><td>50</td></tr>\n",
       "\t<tr><td>2 </td><td>1 </td><td>60</td><td>97</td><td>60</td></tr>\n",
       "\t<tr><td>3 </td><td>1 </td><td>45</td><td>86</td><td>78</td></tr>\n",
       "\t<tr><td>4 </td><td>1 </td><td>30</td><td>98</td><td>58</td></tr>\n",
       "\t<tr><td>5 </td><td>2 </td><td>25</td><td>80</td><td>65</td></tr>\n",
       "\t<tr><td>6 </td><td>2 </td><td>50</td><td>89</td><td>98</td></tr>\n",
       "</tbody>\n",
       "</table>\n"
      ],
      "text/latex": [
       "\\begin{tabular}{r|lllll}\n",
       " id & class & math & english & science\\\\\n",
       "\\hline\n",
       "\t 1  & 1  & 50 & 98 & 50\\\\\n",
       "\t 2  & 1  & 60 & 97 & 60\\\\\n",
       "\t 3  & 1  & 45 & 86 & 78\\\\\n",
       "\t 4  & 1  & 30 & 98 & 58\\\\\n",
       "\t 5  & 2  & 25 & 80 & 65\\\\\n",
       "\t 6  & 2  & 50 & 89 & 98\\\\\n",
       "\\end{tabular}\n"
      ],
      "text/markdown": [
       "\n",
       "| id | class | math | english | science |\n",
       "|---|---|---|---|---|\n",
       "| 1  | 1  | 50 | 98 | 50 |\n",
       "| 2  | 1  | 60 | 97 | 60 |\n",
       "| 3  | 1  | 45 | 86 | 78 |\n",
       "| 4  | 1  | 30 | 98 | 58 |\n",
       "| 5  | 2  | 25 | 80 | 65 |\n",
       "| 6  | 2  | 50 | 89 | 98 |\n",
       "\n"
      ],
      "text/plain": [
       "  id class math english science\n",
       "1 1  1     50   98      50     \n",
       "2 2  1     60   97      60     \n",
       "3 3  1     45   86      78     \n",
       "4 4  1     30   98      58     \n",
       "5 5  2     25   80      65     \n",
       "6 6  2     50   89      98     "
      ]
     },
     "metadata": {},
     "output_type": "display_data"
    }
   ],
   "source": [
    "head(exam) # 앞에서부터 6 행까지 출력"
   ]
  },
  {
   "cell_type": "code",
   "execution_count": 4,
   "metadata": {},
   "outputs": [
    {
     "data": {
      "text/html": [
       "<table>\n",
       "<thead><tr><th scope=col>id</th><th scope=col>class</th><th scope=col>math</th><th scope=col>english</th><th scope=col>science</th></tr></thead>\n",
       "<tbody>\n",
       "\t<tr><td> 1</td><td>1 </td><td>50</td><td>98</td><td>50</td></tr>\n",
       "\t<tr><td> 2</td><td>1 </td><td>60</td><td>97</td><td>60</td></tr>\n",
       "\t<tr><td> 3</td><td>1 </td><td>45</td><td>86</td><td>78</td></tr>\n",
       "\t<tr><td> 4</td><td>1 </td><td>30</td><td>98</td><td>58</td></tr>\n",
       "\t<tr><td> 5</td><td>2 </td><td>25</td><td>80</td><td>65</td></tr>\n",
       "\t<tr><td> 6</td><td>2 </td><td>50</td><td>89</td><td>98</td></tr>\n",
       "\t<tr><td> 7</td><td>2 </td><td>80</td><td>90</td><td>45</td></tr>\n",
       "\t<tr><td> 8</td><td>2 </td><td>90</td><td>78</td><td>25</td></tr>\n",
       "\t<tr><td> 9</td><td>3 </td><td>20</td><td>98</td><td>15</td></tr>\n",
       "\t<tr><td>10</td><td>3 </td><td>50</td><td>98</td><td>45</td></tr>\n",
       "</tbody>\n",
       "</table>\n"
      ],
      "text/latex": [
       "\\begin{tabular}{r|lllll}\n",
       " id & class & math & english & science\\\\\n",
       "\\hline\n",
       "\t  1 & 1  & 50 & 98 & 50\\\\\n",
       "\t  2 & 1  & 60 & 97 & 60\\\\\n",
       "\t  3 & 1  & 45 & 86 & 78\\\\\n",
       "\t  4 & 1  & 30 & 98 & 58\\\\\n",
       "\t  5 & 2  & 25 & 80 & 65\\\\\n",
       "\t  6 & 2  & 50 & 89 & 98\\\\\n",
       "\t  7 & 2  & 80 & 90 & 45\\\\\n",
       "\t  8 & 2  & 90 & 78 & 25\\\\\n",
       "\t  9 & 3  & 20 & 98 & 15\\\\\n",
       "\t 10 & 3  & 50 & 98 & 45\\\\\n",
       "\\end{tabular}\n"
      ],
      "text/markdown": [
       "\n",
       "| id | class | math | english | science |\n",
       "|---|---|---|---|---|\n",
       "|  1 | 1  | 50 | 98 | 50 |\n",
       "|  2 | 1  | 60 | 97 | 60 |\n",
       "|  3 | 1  | 45 | 86 | 78 |\n",
       "|  4 | 1  | 30 | 98 | 58 |\n",
       "|  5 | 2  | 25 | 80 | 65 |\n",
       "|  6 | 2  | 50 | 89 | 98 |\n",
       "|  7 | 2  | 80 | 90 | 45 |\n",
       "|  8 | 2  | 90 | 78 | 25 |\n",
       "|  9 | 3  | 20 | 98 | 15 |\n",
       "| 10 | 3  | 50 | 98 | 45 |\n",
       "\n"
      ],
      "text/plain": [
       "   id class math english science\n",
       "1   1 1     50   98      50     \n",
       "2   2 1     60   97      60     \n",
       "3   3 1     45   86      78     \n",
       "4   4 1     30   98      58     \n",
       "5   5 2     25   80      65     \n",
       "6   6 2     50   89      98     \n",
       "7   7 2     80   90      45     \n",
       "8   8 2     90   78      25     \n",
       "9   9 3     20   98      15     \n",
       "10 10 3     50   98      45     "
      ]
     },
     "metadata": {},
     "output_type": "display_data"
    }
   ],
   "source": [
    "head(exam, 10)"
   ]
  },
  {
   "cell_type": "code",
   "execution_count": 5,
   "metadata": {},
   "outputs": [
    {
     "data": {
      "text/html": [
       "<table>\n",
       "<thead><tr><th></th><th scope=col>id</th><th scope=col>class</th><th scope=col>math</th><th scope=col>english</th><th scope=col>science</th></tr></thead>\n",
       "<tbody>\n",
       "\t<tr><th scope=row>15</th><td>15</td><td>4 </td><td>75</td><td>56</td><td>78</td></tr>\n",
       "\t<tr><th scope=row>16</th><td>16</td><td>4 </td><td>58</td><td>98</td><td>65</td></tr>\n",
       "\t<tr><th scope=row>17</th><td>17</td><td>5 </td><td>65</td><td>68</td><td>98</td></tr>\n",
       "\t<tr><th scope=row>18</th><td>18</td><td>5 </td><td>80</td><td>78</td><td>90</td></tr>\n",
       "\t<tr><th scope=row>19</th><td>19</td><td>5 </td><td>89</td><td>68</td><td>87</td></tr>\n",
       "\t<tr><th scope=row>20</th><td>20</td><td>5 </td><td>78</td><td>83</td><td>58</td></tr>\n",
       "</tbody>\n",
       "</table>\n"
      ],
      "text/latex": [
       "\\begin{tabular}{r|lllll}\n",
       "  & id & class & math & english & science\\\\\n",
       "\\hline\n",
       "\t15 & 15 & 4  & 75 & 56 & 78\\\\\n",
       "\t16 & 16 & 4  & 58 & 98 & 65\\\\\n",
       "\t17 & 17 & 5  & 65 & 68 & 98\\\\\n",
       "\t18 & 18 & 5  & 80 & 78 & 90\\\\\n",
       "\t19 & 19 & 5  & 89 & 68 & 87\\\\\n",
       "\t20 & 20 & 5  & 78 & 83 & 58\\\\\n",
       "\\end{tabular}\n"
      ],
      "text/markdown": [
       "\n",
       "| <!--/--> | id | class | math | english | science |\n",
       "|---|---|---|---|---|---|\n",
       "| 15 | 15 | 4  | 75 | 56 | 78 |\n",
       "| 16 | 16 | 4  | 58 | 98 | 65 |\n",
       "| 17 | 17 | 5  | 65 | 68 | 98 |\n",
       "| 18 | 18 | 5  | 80 | 78 | 90 |\n",
       "| 19 | 19 | 5  | 89 | 68 | 87 |\n",
       "| 20 | 20 | 5  | 78 | 83 | 58 |\n",
       "\n"
      ],
      "text/plain": [
       "   id class math english science\n",
       "15 15 4     75   56      78     \n",
       "16 16 4     58   98      65     \n",
       "17 17 5     65   68      98     \n",
       "18 18 5     80   78      90     \n",
       "19 19 5     89   68      87     \n",
       "20 20 5     78   83      58     "
      ]
     },
     "metadata": {},
     "output_type": "display_data"
    }
   ],
   "source": [
    "tail(exam) # 뒤에서부터 6 행까지 출력"
   ]
  },
  {
   "cell_type": "code",
   "execution_count": 7,
   "metadata": {},
   "outputs": [
    {
     "data": {
      "text/html": [
       "<table>\n",
       "<thead><tr><th></th><th scope=col>id</th><th scope=col>class</th><th scope=col>math</th><th scope=col>english</th><th scope=col>science</th></tr></thead>\n",
       "<tbody>\n",
       "\t<tr><th scope=row>19</th><td>19</td><td>5 </td><td>89</td><td>68</td><td>87</td></tr>\n",
       "\t<tr><th scope=row>20</th><td>20</td><td>5 </td><td>78</td><td>83</td><td>58</td></tr>\n",
       "</tbody>\n",
       "</table>\n"
      ],
      "text/latex": [
       "\\begin{tabular}{r|lllll}\n",
       "  & id & class & math & english & science\\\\\n",
       "\\hline\n",
       "\t19 & 19 & 5  & 89 & 68 & 87\\\\\n",
       "\t20 & 20 & 5  & 78 & 83 & 58\\\\\n",
       "\\end{tabular}\n"
      ],
      "text/markdown": [
       "\n",
       "| <!--/--> | id | class | math | english | science |\n",
       "|---|---|---|---|---|---|\n",
       "| 19 | 19 | 5  | 89 | 68 | 87 |\n",
       "| 20 | 20 | 5  | 78 | 83 | 58 |\n",
       "\n"
      ],
      "text/plain": [
       "   id class math english science\n",
       "19 19 5     89   68      87     \n",
       "20 20 5     78   83      58     "
      ]
     },
     "metadata": {},
     "output_type": "display_data"
    }
   ],
   "source": [
    "tail(exam, 2)"
   ]
  },
  {
   "cell_type": "code",
   "execution_count": 8,
   "metadata": {},
   "outputs": [
    {
     "ename": "ERROR",
     "evalue": "Error in View(exam): 'View()' not yet supported in the Jupyter R kernel\n",
     "output_type": "error",
     "traceback": [
      "Error in View(exam): 'View()' not yet supported in the Jupyter R kernel\nTraceback:\n",
      "1. View(exam)",
      "2. stop(sQuote(\"View()\"), \" not yet supported in the Jupyter R kernel\")"
     ]
    }
   ],
   "source": [
    "View(exam)"
   ]
  },
  {
   "cell_type": "code",
   "execution_count": 9,
   "metadata": {},
   "outputs": [
    {
     "data": {
      "text/html": [
       "<ol class=list-inline>\n",
       "\t<li>20</li>\n",
       "\t<li>5</li>\n",
       "</ol>\n"
      ],
      "text/latex": [
       "\\begin{enumerate*}\n",
       "\\item 20\n",
       "\\item 5\n",
       "\\end{enumerate*}\n"
      ],
      "text/markdown": [
       "1. 20\n",
       "2. 5\n",
       "\n",
       "\n"
      ],
      "text/plain": [
       "[1] 20  5"
      ]
     },
     "metadata": {},
     "output_type": "display_data"
    }
   ],
   "source": [
    "dim(exam) # 행, 열 출력"
   ]
  },
  {
   "cell_type": "code",
   "execution_count": 10,
   "metadata": {},
   "outputs": [
    {
     "name": "stdout",
     "output_type": "stream",
     "text": [
      "'data.frame':\t20 obs. of  5 variables:\n",
      " $ id     : int  1 2 3 4 5 6 7 8 9 10 ...\n",
      " $ class  : int  1 1 1 1 2 2 2 2 3 3 ...\n",
      " $ math   : int  50 60 45 30 25 50 80 90 20 50 ...\n",
      " $ english: int  98 97 86 98 80 89 90 78 98 98 ...\n",
      " $ science: int  50 60 78 58 65 98 45 25 15 45 ...\n"
     ]
    }
   ],
   "source": [
    "str(exam) # 데이터 속성 확인"
   ]
  },
  {
   "cell_type": "code",
   "execution_count": 11,
   "metadata": {},
   "outputs": [
    {
     "data": {
      "text/plain": [
       "       id            class        math          english        science     \n",
       " Min.   : 1.00   Min.   :1   Min.   :20.00   Min.   :56.0   Min.   :12.00  \n",
       " 1st Qu.: 5.75   1st Qu.:2   1st Qu.:45.75   1st Qu.:78.0   1st Qu.:45.00  \n",
       " Median :10.50   Median :3   Median :54.00   Median :86.5   Median :62.50  \n",
       " Mean   :10.50   Mean   :3   Mean   :57.45   Mean   :84.9   Mean   :59.45  \n",
       " 3rd Qu.:15.25   3rd Qu.:4   3rd Qu.:75.75   3rd Qu.:98.0   3rd Qu.:78.00  \n",
       " Max.   :20.00   Max.   :5   Max.   :90.00   Max.   :98.0   Max.   :98.00  "
      ]
     },
     "metadata": {},
     "output_type": "display_data"
    }
   ],
   "source": [
    "summary(exam) # 요약통계량 출력"
   ]
  },
  {
   "cell_type": "code",
   "execution_count": 13,
   "metadata": {},
   "outputs": [],
   "source": [
    "# ggplo2 의 mpg 데이터를 데이터 프레임 형태로 불러오기\n",
    "mpg <- as.data.frame(ggplot2::mpg)"
   ]
  },
  {
   "cell_type": "code",
   "execution_count": 14,
   "metadata": {},
   "outputs": [
    {
     "data": {
      "text/html": [
       "<table>\n",
       "<thead><tr><th scope=col>manufacturer</th><th scope=col>model</th><th scope=col>displ</th><th scope=col>year</th><th scope=col>cyl</th><th scope=col>trans</th><th scope=col>drv</th><th scope=col>cty</th><th scope=col>hwy</th><th scope=col>fl</th><th scope=col>class</th></tr></thead>\n",
       "<tbody>\n",
       "\t<tr><td>audi      </td><td>a4        </td><td>1.8       </td><td>1999      </td><td>4         </td><td>auto(l5)  </td><td>f         </td><td>18        </td><td>29        </td><td>p         </td><td>compact   </td></tr>\n",
       "\t<tr><td>audi      </td><td>a4        </td><td>1.8       </td><td>1999      </td><td>4         </td><td>manual(m5)</td><td>f         </td><td>21        </td><td>29        </td><td>p         </td><td>compact   </td></tr>\n",
       "\t<tr><td>audi      </td><td>a4        </td><td>2.0       </td><td>2008      </td><td>4         </td><td>manual(m6)</td><td>f         </td><td>20        </td><td>31        </td><td>p         </td><td>compact   </td></tr>\n",
       "\t<tr><td>audi      </td><td>a4        </td><td>2.0       </td><td>2008      </td><td>4         </td><td>auto(av)  </td><td>f         </td><td>21        </td><td>30        </td><td>p         </td><td>compact   </td></tr>\n",
       "\t<tr><td>audi      </td><td>a4        </td><td>2.8       </td><td>1999      </td><td>6         </td><td>auto(l5)  </td><td>f         </td><td>16        </td><td>26        </td><td>p         </td><td>compact   </td></tr>\n",
       "\t<tr><td>audi      </td><td>a4        </td><td>2.8       </td><td>1999      </td><td>6         </td><td>manual(m5)</td><td>f         </td><td>18        </td><td>26        </td><td>p         </td><td>compact   </td></tr>\n",
       "</tbody>\n",
       "</table>\n"
      ],
      "text/latex": [
       "\\begin{tabular}{r|lllllllllll}\n",
       " manufacturer & model & displ & year & cyl & trans & drv & cty & hwy & fl & class\\\\\n",
       "\\hline\n",
       "\t audi       & a4         & 1.8        & 1999       & 4          & auto(l5)   & f          & 18         & 29         & p          & compact   \\\\\n",
       "\t audi       & a4         & 1.8        & 1999       & 4          & manual(m5) & f          & 21         & 29         & p          & compact   \\\\\n",
       "\t audi       & a4         & 2.0        & 2008       & 4          & manual(m6) & f          & 20         & 31         & p          & compact   \\\\\n",
       "\t audi       & a4         & 2.0        & 2008       & 4          & auto(av)   & f          & 21         & 30         & p          & compact   \\\\\n",
       "\t audi       & a4         & 2.8        & 1999       & 6          & auto(l5)   & f          & 16         & 26         & p          & compact   \\\\\n",
       "\t audi       & a4         & 2.8        & 1999       & 6          & manual(m5) & f          & 18         & 26         & p          & compact   \\\\\n",
       "\\end{tabular}\n"
      ],
      "text/markdown": [
       "\n",
       "| manufacturer | model | displ | year | cyl | trans | drv | cty | hwy | fl | class |\n",
       "|---|---|---|---|---|---|---|---|---|---|---|\n",
       "| audi       | a4         | 1.8        | 1999       | 4          | auto(l5)   | f          | 18         | 29         | p          | compact    |\n",
       "| audi       | a4         | 1.8        | 1999       | 4          | manual(m5) | f          | 21         | 29         | p          | compact    |\n",
       "| audi       | a4         | 2.0        | 2008       | 4          | manual(m6) | f          | 20         | 31         | p          | compact    |\n",
       "| audi       | a4         | 2.0        | 2008       | 4          | auto(av)   | f          | 21         | 30         | p          | compact    |\n",
       "| audi       | a4         | 2.8        | 1999       | 6          | auto(l5)   | f          | 16         | 26         | p          | compact    |\n",
       "| audi       | a4         | 2.8        | 1999       | 6          | manual(m5) | f          | 18         | 26         | p          | compact    |\n",
       "\n"
      ],
      "text/plain": [
       "  manufacturer model displ year cyl trans      drv cty hwy fl class  \n",
       "1 audi         a4    1.8   1999 4   auto(l5)   f   18  29  p  compact\n",
       "2 audi         a4    1.8   1999 4   manual(m5) f   21  29  p  compact\n",
       "3 audi         a4    2.0   2008 4   manual(m6) f   20  31  p  compact\n",
       "4 audi         a4    2.0   2008 4   auto(av)   f   21  30  p  compact\n",
       "5 audi         a4    2.8   1999 6   auto(l5)   f   16  26  p  compact\n",
       "6 audi         a4    2.8   1999 6   manual(m5) f   18  26  p  compact"
      ]
     },
     "metadata": {},
     "output_type": "display_data"
    }
   ],
   "source": [
    "head(mpg) # Raw 데이터 앞부분 확인"
   ]
  },
  {
   "cell_type": "code",
   "execution_count": 15,
   "metadata": {},
   "outputs": [
    {
     "data": {
      "text/html": [
       "<table>\n",
       "<thead><tr><th></th><th scope=col>manufacturer</th><th scope=col>model</th><th scope=col>displ</th><th scope=col>year</th><th scope=col>cyl</th><th scope=col>trans</th><th scope=col>drv</th><th scope=col>cty</th><th scope=col>hwy</th><th scope=col>fl</th><th scope=col>class</th></tr></thead>\n",
       "<tbody>\n",
       "\t<tr><th scope=row>229</th><td>volkswagen</td><td>passat    </td><td>1.8       </td><td>1999      </td><td>4         </td><td>auto(l5)  </td><td>f         </td><td>18        </td><td>29        </td><td>p         </td><td>midsize   </td></tr>\n",
       "\t<tr><th scope=row>230</th><td>volkswagen</td><td>passat    </td><td>2.0       </td><td>2008      </td><td>4         </td><td>auto(s6)  </td><td>f         </td><td>19        </td><td>28        </td><td>p         </td><td>midsize   </td></tr>\n",
       "\t<tr><th scope=row>231</th><td>volkswagen</td><td>passat    </td><td>2.0       </td><td>2008      </td><td>4         </td><td>manual(m6)</td><td>f         </td><td>21        </td><td>29        </td><td>p         </td><td>midsize   </td></tr>\n",
       "\t<tr><th scope=row>232</th><td>volkswagen</td><td>passat    </td><td>2.8       </td><td>1999      </td><td>6         </td><td>auto(l5)  </td><td>f         </td><td>16        </td><td>26        </td><td>p         </td><td>midsize   </td></tr>\n",
       "\t<tr><th scope=row>233</th><td>volkswagen</td><td>passat    </td><td>2.8       </td><td>1999      </td><td>6         </td><td>manual(m5)</td><td>f         </td><td>18        </td><td>26        </td><td>p         </td><td>midsize   </td></tr>\n",
       "\t<tr><th scope=row>234</th><td>volkswagen</td><td>passat    </td><td>3.6       </td><td>2008      </td><td>6         </td><td>auto(s6)  </td><td>f         </td><td>17        </td><td>26        </td><td>p         </td><td>midsize   </td></tr>\n",
       "</tbody>\n",
       "</table>\n"
      ],
      "text/latex": [
       "\\begin{tabular}{r|lllllllllll}\n",
       "  & manufacturer & model & displ & year & cyl & trans & drv & cty & hwy & fl & class\\\\\n",
       "\\hline\n",
       "\t229 & volkswagen & passat     & 1.8        & 1999       & 4          & auto(l5)   & f          & 18         & 29         & p          & midsize   \\\\\n",
       "\t230 & volkswagen & passat     & 2.0        & 2008       & 4          & auto(s6)   & f          & 19         & 28         & p          & midsize   \\\\\n",
       "\t231 & volkswagen & passat     & 2.0        & 2008       & 4          & manual(m6) & f          & 21         & 29         & p          & midsize   \\\\\n",
       "\t232 & volkswagen & passat     & 2.8        & 1999       & 6          & auto(l5)   & f          & 16         & 26         & p          & midsize   \\\\\n",
       "\t233 & volkswagen & passat     & 2.8        & 1999       & 6          & manual(m5) & f          & 18         & 26         & p          & midsize   \\\\\n",
       "\t234 & volkswagen & passat     & 3.6        & 2008       & 6          & auto(s6)   & f          & 17         & 26         & p          & midsize   \\\\\n",
       "\\end{tabular}\n"
      ],
      "text/markdown": [
       "\n",
       "| <!--/--> | manufacturer | model | displ | year | cyl | trans | drv | cty | hwy | fl | class |\n",
       "|---|---|---|---|---|---|---|---|---|---|---|---|\n",
       "| 229 | volkswagen | passat     | 1.8        | 1999       | 4          | auto(l5)   | f          | 18         | 29         | p          | midsize    |\n",
       "| 230 | volkswagen | passat     | 2.0        | 2008       | 4          | auto(s6)   | f          | 19         | 28         | p          | midsize    |\n",
       "| 231 | volkswagen | passat     | 2.0        | 2008       | 4          | manual(m6) | f          | 21         | 29         | p          | midsize    |\n",
       "| 232 | volkswagen | passat     | 2.8        | 1999       | 6          | auto(l5)   | f          | 16         | 26         | p          | midsize    |\n",
       "| 233 | volkswagen | passat     | 2.8        | 1999       | 6          | manual(m5) | f          | 18         | 26         | p          | midsize    |\n",
       "| 234 | volkswagen | passat     | 3.6        | 2008       | 6          | auto(s6)   | f          | 17         | 26         | p          | midsize    |\n",
       "\n"
      ],
      "text/plain": [
       "    manufacturer model  displ year cyl trans      drv cty hwy fl class  \n",
       "229 volkswagen   passat 1.8   1999 4   auto(l5)   f   18  29  p  midsize\n",
       "230 volkswagen   passat 2.0   2008 4   auto(s6)   f   19  28  p  midsize\n",
       "231 volkswagen   passat 2.0   2008 4   manual(m6) f   21  29  p  midsize\n",
       "232 volkswagen   passat 2.8   1999 6   auto(l5)   f   16  26  p  midsize\n",
       "233 volkswagen   passat 2.8   1999 6   manual(m5) f   18  26  p  midsize\n",
       "234 volkswagen   passat 3.6   2008 6   auto(s6)   f   17  26  p  midsize"
      ]
     },
     "metadata": {},
     "output_type": "display_data"
    }
   ],
   "source": [
    "tail(mpg) # Raw 데이터 뒷부분 확인"
   ]
  },
  {
   "cell_type": "code",
   "execution_count": null,
   "metadata": {},
   "outputs": [],
   "source": [
    "View(mpg) # Raw 데이터 뷰어 창 확인"
   ]
  },
  {
   "cell_type": "code",
   "execution_count": 16,
   "metadata": {},
   "outputs": [
    {
     "data": {
      "text/html": [
       "<ol class=list-inline>\n",
       "\t<li>234</li>\n",
       "\t<li>11</li>\n",
       "</ol>\n"
      ],
      "text/latex": [
       "\\begin{enumerate*}\n",
       "\\item 234\n",
       "\\item 11\n",
       "\\end{enumerate*}\n"
      ],
      "text/markdown": [
       "1. 234\n",
       "2. 11\n",
       "\n",
       "\n"
      ],
      "text/plain": [
       "[1] 234  11"
      ]
     },
     "metadata": {},
     "output_type": "display_data"
    }
   ],
   "source": [
    "dim(mpg) # 행, 열 출력"
   ]
  },
  {
   "cell_type": "code",
   "execution_count": 17,
   "metadata": {},
   "outputs": [
    {
     "name": "stdout",
     "output_type": "stream",
     "text": [
      "'data.frame':\t234 obs. of  11 variables:\n",
      " $ manufacturer: chr  \"audi\" \"audi\" \"audi\" \"audi\" ...\n",
      " $ model       : chr  \"a4\" \"a4\" \"a4\" \"a4\" ...\n",
      " $ displ       : num  1.8 1.8 2 2 2.8 2.8 3.1 1.8 1.8 2 ...\n",
      " $ year        : int  1999 1999 2008 2008 1999 1999 2008 1999 1999 2008 ...\n",
      " $ cyl         : int  4 4 4 4 6 6 6 4 4 4 ...\n",
      " $ trans       : chr  \"auto(l5)\" \"manual(m5)\" \"manual(m6)\" \"auto(av)\" ...\n",
      " $ drv         : chr  \"f\" \"f\" \"f\" \"f\" ...\n",
      " $ cty         : int  18 21 20 21 16 18 18 18 16 20 ...\n",
      " $ hwy         : int  29 29 31 30 26 26 27 26 25 28 ...\n",
      " $ fl          : chr  \"p\" \"p\" \"p\" \"p\" ...\n",
      " $ class       : chr  \"compact\" \"compact\" \"compact\" \"compact\" ...\n"
     ]
    }
   ],
   "source": [
    "str(mpg) # 데이터 속성 확인"
   ]
  },
  {
   "cell_type": "code",
   "execution_count": 18,
   "metadata": {},
   "outputs": [
    {
     "data": {
      "text/plain": [
       " manufacturer          model               displ            year     \n",
       " Length:234         Length:234         Min.   :1.600   Min.   :1999  \n",
       " Class :character   Class :character   1st Qu.:2.400   1st Qu.:1999  \n",
       " Mode  :character   Mode  :character   Median :3.300   Median :2004  \n",
       "                                       Mean   :3.472   Mean   :2004  \n",
       "                                       3rd Qu.:4.600   3rd Qu.:2008  \n",
       "                                       Max.   :7.000   Max.   :2008  \n",
       "      cyl           trans               drv                 cty       \n",
       " Min.   :4.000   Length:234         Length:234         Min.   : 9.00  \n",
       " 1st Qu.:4.000   Class :character   Class :character   1st Qu.:14.00  \n",
       " Median :6.000   Mode  :character   Mode  :character   Median :17.00  \n",
       " Mean   :5.889                                         Mean   :16.86  \n",
       " 3rd Qu.:8.000                                         3rd Qu.:19.00  \n",
       " Max.   :8.000                                         Max.   :35.00  \n",
       "      hwy             fl               class          \n",
       " Min.   :12.00   Length:234         Length:234        \n",
       " 1st Qu.:18.00   Class :character   Class :character  \n",
       " Median :24.00   Mode  :character   Mode  :character  \n",
       " Mean   :23.44                                        \n",
       " 3rd Qu.:27.00                                        \n",
       " Max.   :44.00                                        "
      ]
     },
     "metadata": {},
     "output_type": "display_data"
    }
   ],
   "source": [
    "summary(mpg) # 요약통계량 출력"
   ]
  },
  {
   "cell_type": "markdown",
   "metadata": {},
   "source": [
    " ## 데이터 수정하기 - 변수명 바꾸기  \n",
    " ### dplyr 패키지 설치 & 로드"
   ]
  },
  {
   "cell_type": "code",
   "execution_count": null,
   "metadata": {},
   "outputs": [],
   "source": [
    "# install.packages(\"rlang\") # rlang 설치"
   ]
  },
  {
   "cell_type": "code",
   "execution_count": null,
   "metadata": {},
   "outputs": [],
   "source": [
    "# install.packages(\"rlang\",dependencies = TRUE,repos = \"http://cran.us.r-project.org\")"
   ]
  },
  {
   "cell_type": "code",
   "execution_count": null,
   "metadata": {},
   "outputs": [],
   "source": [
    "# install.packages(\"tidyverse\",dependencies = TRUE,repos = \"http://cran.us.r-project.org\")"
   ]
  },
  {
   "cell_type": "code",
   "execution_count": null,
   "metadata": {},
   "outputs": [],
   "source": [
    "install.packages(\"Rcpp\")"
   ]
  },
  {
   "cell_type": "code",
   "execution_count": null,
   "metadata": {},
   "outputs": [],
   "source": [
    "install.packages(\"dplyr\") # dplyr 설치\n",
    "# install.packages(\"dplyr\",dependencies = TRUE,repos = \"http://cran.us.r-project.org\")"
   ]
  },
  {
   "cell_type": "code",
   "execution_count": 5,
   "metadata": {},
   "outputs": [],
   "source": [
    "library(dplyr) # dplyr 로드"
   ]
  },
  {
   "cell_type": "code",
   "execution_count": 9,
   "metadata": {},
   "outputs": [
    {
     "data": {
      "text/html": [
       "<table>\n",
       "<thead><tr><th scope=col>var1</th><th scope=col>var2</th></tr></thead>\n",
       "<tbody>\n",
       "\t<tr><td>1</td><td>2</td></tr>\n",
       "\t<tr><td>2</td><td>3</td></tr>\n",
       "\t<tr><td>1</td><td>2</td></tr>\n",
       "</tbody>\n",
       "</table>\n"
      ],
      "text/latex": [
       "\\begin{tabular}{r|ll}\n",
       " var1 & var2\\\\\n",
       "\\hline\n",
       "\t 1 & 2\\\\\n",
       "\t 2 & 3\\\\\n",
       "\t 1 & 2\\\\\n",
       "\\end{tabular}\n"
      ],
      "text/markdown": [
       "\n",
       "| var1 | var2 |\n",
       "|---|---|\n",
       "| 1 | 2 |\n",
       "| 2 | 3 |\n",
       "| 1 | 2 |\n",
       "\n"
      ],
      "text/plain": [
       "  var1 var2\n",
       "1 1    2   \n",
       "2 2    3   \n",
       "3 1    2   "
      ]
     },
     "metadata": {},
     "output_type": "display_data"
    }
   ],
   "source": [
    "df_raw <- data.frame(var1 = c(1, 2, 1), var2 = c(2, 3, 2))\n",
    "df_raw"
   ]
  },
  {
   "cell_type": "code",
   "execution_count": 10,
   "metadata": {},
   "outputs": [
    {
     "data": {
      "text/html": [
       "<table>\n",
       "<thead><tr><th scope=col>var1</th><th scope=col>var2</th></tr></thead>\n",
       "<tbody>\n",
       "\t<tr><td>1</td><td>2</td></tr>\n",
       "\t<tr><td>2</td><td>3</td></tr>\n",
       "\t<tr><td>1</td><td>2</td></tr>\n",
       "</tbody>\n",
       "</table>\n"
      ],
      "text/latex": [
       "\\begin{tabular}{r|ll}\n",
       " var1 & var2\\\\\n",
       "\\hline\n",
       "\t 1 & 2\\\\\n",
       "\t 2 & 3\\\\\n",
       "\t 1 & 2\\\\\n",
       "\\end{tabular}\n"
      ],
      "text/markdown": [
       "\n",
       "| var1 | var2 |\n",
       "|---|---|\n",
       "| 1 | 2 |\n",
       "| 2 | 3 |\n",
       "| 1 | 2 |\n",
       "\n"
      ],
      "text/plain": [
       "  var1 var2\n",
       "1 1    2   \n",
       "2 2    3   \n",
       "3 1    2   "
      ]
     },
     "metadata": {},
     "output_type": "display_data"
    }
   ],
   "source": [
    "df_new <- df_raw # 복사본 생성\n",
    "df_new # 출력"
   ]
  },
  {
   "cell_type": "markdown",
   "metadata": {},
   "source": [
    "## [유의] rename()에 '새 변수명 = 기존 변수명' 순서로 입력"
   ]
  },
  {
   "cell_type": "code",
   "execution_count": 8,
   "metadata": {},
   "outputs": [
    {
     "data": {
      "text/html": [
       "<table>\n",
       "<thead><tr><th scope=col>var1</th><th scope=col>v2</th></tr></thead>\n",
       "<tbody>\n",
       "\t<tr><td>1</td><td>2</td></tr>\n",
       "\t<tr><td>2</td><td>3</td></tr>\n",
       "\t<tr><td>1</td><td>2</td></tr>\n",
       "</tbody>\n",
       "</table>\n"
      ],
      "text/latex": [
       "\\begin{tabular}{r|ll}\n",
       " var1 & v2\\\\\n",
       "\\hline\n",
       "\t 1 & 2\\\\\n",
       "\t 2 & 3\\\\\n",
       "\t 1 & 2\\\\\n",
       "\\end{tabular}\n"
      ],
      "text/markdown": [
       "\n",
       "| var1 | v2 |\n",
       "|---|---|\n",
       "| 1 | 2 |\n",
       "| 2 | 3 |\n",
       "| 1 | 2 |\n",
       "\n"
      ],
      "text/plain": [
       "  var1 v2\n",
       "1 1    2 \n",
       "2 2    3 \n",
       "3 1    2 "
      ]
     },
     "metadata": {},
     "output_type": "display_data"
    }
   ],
   "source": [
    "df_new <- rename(df_new, v2 = var2) # var2 를 v2 로 수정\n",
    "df_new\n"
   ]
  },
  {
   "cell_type": "code",
   "execution_count": 11,
   "metadata": {},
   "outputs": [
    {
     "name": "stderr",
     "output_type": "stream",
     "text": [
      "Warning message:\n",
      "\"package 'ggplot2' was built under R version 3.6.3\""
     ]
    }
   ],
   "source": [
    "# install.packages(\"ggplot2\")\n",
    "library(ggplot2)"
   ]
  },
  {
   "cell_type": "markdown",
   "metadata": {},
   "source": [
    "Q1. ggplot2 패키지의 mpg 데이터를 사용할 수 있도록 불러온 뒤 복사본을 만드세요."
   ]
  },
  {
   "cell_type": "code",
   "execution_count": 12,
   "metadata": {},
   "outputs": [],
   "source": [
    "mpg <- as.data.frame(ggplot2::mpg) # mpg 데이터 불러오기\n",
    "mpg_new <- mpg # 복사본 만들기"
   ]
  },
  {
   "cell_type": "markdown",
   "metadata": {},
   "source": [
    "Q2. 복사본 데이터를 이용해서 cty는 city로, hwy는 highway로 변수명을 수정하세요"
   ]
  },
  {
   "cell_type": "code",
   "execution_count": 13,
   "metadata": {},
   "outputs": [],
   "source": [
    "mpg_new <- rename(mpg_new, city = cty) # cty 를 city 로 수정\n",
    "mpg_new <- rename(mpg_new, highway = hwy) # hwy 를 highway 로 수정"
   ]
  },
  {
   "cell_type": "markdown",
   "metadata": {},
   "source": [
    "Q3. 데이터 일부를 출력해서 변수명이 바뀌었는지 확인해 보세요. "
   ]
  },
  {
   "cell_type": "code",
   "execution_count": 14,
   "metadata": {},
   "outputs": [
    {
     "data": {
      "text/html": [
       "<table>\n",
       "<thead><tr><th scope=col>manufacturer</th><th scope=col>model</th><th scope=col>displ</th><th scope=col>year</th><th scope=col>cyl</th><th scope=col>trans</th><th scope=col>drv</th><th scope=col>city</th><th scope=col>highway</th><th scope=col>fl</th><th scope=col>class</th></tr></thead>\n",
       "<tbody>\n",
       "\t<tr><td>audi      </td><td>a4        </td><td>1.8       </td><td>1999      </td><td>4         </td><td>auto(l5)  </td><td>f         </td><td>18        </td><td>29        </td><td>p         </td><td>compact   </td></tr>\n",
       "\t<tr><td>audi      </td><td>a4        </td><td>1.8       </td><td>1999      </td><td>4         </td><td>manual(m5)</td><td>f         </td><td>21        </td><td>29        </td><td>p         </td><td>compact   </td></tr>\n",
       "\t<tr><td>audi      </td><td>a4        </td><td>2.0       </td><td>2008      </td><td>4         </td><td>manual(m6)</td><td>f         </td><td>20        </td><td>31        </td><td>p         </td><td>compact   </td></tr>\n",
       "\t<tr><td>audi      </td><td>a4        </td><td>2.0       </td><td>2008      </td><td>4         </td><td>auto(av)  </td><td>f         </td><td>21        </td><td>30        </td><td>p         </td><td>compact   </td></tr>\n",
       "\t<tr><td>audi      </td><td>a4        </td><td>2.8       </td><td>1999      </td><td>6         </td><td>auto(l5)  </td><td>f         </td><td>16        </td><td>26        </td><td>p         </td><td>compact   </td></tr>\n",
       "\t<tr><td>audi      </td><td>a4        </td><td>2.8       </td><td>1999      </td><td>6         </td><td>manual(m5)</td><td>f         </td><td>18        </td><td>26        </td><td>p         </td><td>compact   </td></tr>\n",
       "</tbody>\n",
       "</table>\n"
      ],
      "text/latex": [
       "\\begin{tabular}{r|lllllllllll}\n",
       " manufacturer & model & displ & year & cyl & trans & drv & city & highway & fl & class\\\\\n",
       "\\hline\n",
       "\t audi       & a4         & 1.8        & 1999       & 4          & auto(l5)   & f          & 18         & 29         & p          & compact   \\\\\n",
       "\t audi       & a4         & 1.8        & 1999       & 4          & manual(m5) & f          & 21         & 29         & p          & compact   \\\\\n",
       "\t audi       & a4         & 2.0        & 2008       & 4          & manual(m6) & f          & 20         & 31         & p          & compact   \\\\\n",
       "\t audi       & a4         & 2.0        & 2008       & 4          & auto(av)   & f          & 21         & 30         & p          & compact   \\\\\n",
       "\t audi       & a4         & 2.8        & 1999       & 6          & auto(l5)   & f          & 16         & 26         & p          & compact   \\\\\n",
       "\t audi       & a4         & 2.8        & 1999       & 6          & manual(m5) & f          & 18         & 26         & p          & compact   \\\\\n",
       "\\end{tabular}\n"
      ],
      "text/markdown": [
       "\n",
       "| manufacturer | model | displ | year | cyl | trans | drv | city | highway | fl | class |\n",
       "|---|---|---|---|---|---|---|---|---|---|---|\n",
       "| audi       | a4         | 1.8        | 1999       | 4          | auto(l5)   | f          | 18         | 29         | p          | compact    |\n",
       "| audi       | a4         | 1.8        | 1999       | 4          | manual(m5) | f          | 21         | 29         | p          | compact    |\n",
       "| audi       | a4         | 2.0        | 2008       | 4          | manual(m6) | f          | 20         | 31         | p          | compact    |\n",
       "| audi       | a4         | 2.0        | 2008       | 4          | auto(av)   | f          | 21         | 30         | p          | compact    |\n",
       "| audi       | a4         | 2.8        | 1999       | 6          | auto(l5)   | f          | 16         | 26         | p          | compact    |\n",
       "| audi       | a4         | 2.8        | 1999       | 6          | manual(m5) | f          | 18         | 26         | p          | compact    |\n",
       "\n"
      ],
      "text/plain": [
       "  manufacturer model displ year cyl trans      drv city highway fl class  \n",
       "1 audi         a4    1.8   1999 4   auto(l5)   f   18   29      p  compact\n",
       "2 audi         a4    1.8   1999 4   manual(m5) f   21   29      p  compact\n",
       "3 audi         a4    2.0   2008 4   manual(m6) f   20   31      p  compact\n",
       "4 audi         a4    2.0   2008 4   auto(av)   f   21   30      p  compact\n",
       "5 audi         a4    2.8   1999 6   auto(l5)   f   16   26      p  compact\n",
       "6 audi         a4    2.8   1999 6   manual(m5) f   18   26      p  compact"
      ]
     },
     "metadata": {},
     "output_type": "display_data"
    }
   ],
   "source": [
    "head(mpg_new) # 데이터 일부 출력"
   ]
  },
  {
   "cell_type": "code",
   "execution_count": 1,
   "metadata": {},
   "outputs": [
    {
     "name": "stderr",
     "output_type": "stream",
     "text": [
      "Warning message:\n",
      "\"package 'dplyr' was built under R version 3.6.2\"\n",
      "Attaching package: 'dplyr'\n",
      "\n",
      "The following objects are masked from 'package:stats':\n",
      "\n",
      "    filter, lag\n",
      "\n",
      "The following objects are masked from 'package:base':\n",
      "\n",
      "    intersect, setdiff, setequal, union\n",
      "\n"
     ]
    }
   ],
   "source": [
    "library(dplyr)"
   ]
  },
  {
   "cell_type": "code",
   "execution_count": 2,
   "metadata": {},
   "outputs": [
    {
     "name": "stderr",
     "output_type": "stream",
     "text": [
      "Warning message:\n",
      "\"package 'ggplot2' was built under R version 3.6.2\""
     ]
    }
   ],
   "source": [
    "library(ggplot2)"
   ]
  },
  {
   "cell_type": "code",
   "execution_count": 16,
   "metadata": {},
   "outputs": [
    {
     "data": {
      "text/html": [
       "<table>\n",
       "<thead><tr><th scope=col>var1</th><th scope=col>var2</th></tr></thead>\n",
       "<tbody>\n",
       "\t<tr><td>4</td><td>2</td></tr>\n",
       "\t<tr><td>3</td><td>6</td></tr>\n",
       "\t<tr><td>8</td><td>1</td></tr>\n",
       "</tbody>\n",
       "</table>\n"
      ],
      "text/latex": [
       "\\begin{tabular}{r|ll}\n",
       " var1 & var2\\\\\n",
       "\\hline\n",
       "\t 4 & 2\\\\\n",
       "\t 3 & 6\\\\\n",
       "\t 8 & 1\\\\\n",
       "\\end{tabular}\n"
      ],
      "text/markdown": [
       "\n",
       "| var1 | var2 |\n",
       "|---|---|\n",
       "| 4 | 2 |\n",
       "| 3 | 6 |\n",
       "| 8 | 1 |\n",
       "\n"
      ],
      "text/plain": [
       "  var1 var2\n",
       "1 4    2   \n",
       "2 3    6   \n",
       "3 8    1   "
      ]
     },
     "metadata": {},
     "output_type": "display_data"
    }
   ],
   "source": [
    "df <- data.frame(var1 = c(4, 3, 8), var2 = c(2, 6, 1))\n",
    "df"
   ]
  },
  {
   "cell_type": "code",
   "execution_count": 17,
   "metadata": {},
   "outputs": [
    {
     "data": {
      "text/html": [
       "<table>\n",
       "<thead><tr><th scope=col>var1</th><th scope=col>var2</th><th scope=col>var_sum</th></tr></thead>\n",
       "<tbody>\n",
       "\t<tr><td>4</td><td>2</td><td>6</td></tr>\n",
       "\t<tr><td>3</td><td>6</td><td>9</td></tr>\n",
       "\t<tr><td>8</td><td>1</td><td>9</td></tr>\n",
       "</tbody>\n",
       "</table>\n"
      ],
      "text/latex": [
       "\\begin{tabular}{r|lll}\n",
       " var1 & var2 & var\\_sum\\\\\n",
       "\\hline\n",
       "\t 4 & 2 & 6\\\\\n",
       "\t 3 & 6 & 9\\\\\n",
       "\t 8 & 1 & 9\\\\\n",
       "\\end{tabular}\n"
      ],
      "text/markdown": [
       "\n",
       "| var1 | var2 | var_sum |\n",
       "|---|---|---|\n",
       "| 4 | 2 | 6 |\n",
       "| 3 | 6 | 9 |\n",
       "| 8 | 1 | 9 |\n",
       "\n"
      ],
      "text/plain": [
       "  var1 var2 var_sum\n",
       "1 4    2    6      \n",
       "2 3    6    9      \n",
       "3 8    1    9      "
      ]
     },
     "metadata": {},
     "output_type": "display_data"
    }
   ],
   "source": [
    "df$var_sum <- df$var1 + df$var2 # var_sum 파생변수 생성\n",
    "df"
   ]
  },
  {
   "cell_type": "code",
   "execution_count": 18,
   "metadata": {},
   "outputs": [
    {
     "data": {
      "text/html": [
       "<table>\n",
       "<thead><tr><th scope=col>var1</th><th scope=col>var2</th><th scope=col>var_sum</th><th scope=col>var_mean</th></tr></thead>\n",
       "<tbody>\n",
       "\t<tr><td>4  </td><td>2  </td><td>6  </td><td>3.0</td></tr>\n",
       "\t<tr><td>3  </td><td>6  </td><td>9  </td><td>4.5</td></tr>\n",
       "\t<tr><td>8  </td><td>1  </td><td>9  </td><td>4.5</td></tr>\n",
       "</tbody>\n",
       "</table>\n"
      ],
      "text/latex": [
       "\\begin{tabular}{r|llll}\n",
       " var1 & var2 & var\\_sum & var\\_mean\\\\\n",
       "\\hline\n",
       "\t 4   & 2   & 6   & 3.0\\\\\n",
       "\t 3   & 6   & 9   & 4.5\\\\\n",
       "\t 8   & 1   & 9   & 4.5\\\\\n",
       "\\end{tabular}\n"
      ],
      "text/markdown": [
       "\n",
       "| var1 | var2 | var_sum | var_mean |\n",
       "|---|---|---|---|\n",
       "| 4   | 2   | 6   | 3.0 |\n",
       "| 3   | 6   | 9   | 4.5 |\n",
       "| 8   | 1   | 9   | 4.5 |\n",
       "\n"
      ],
      "text/plain": [
       "  var1 var2 var_sum var_mean\n",
       "1 4    2    6       3.0     \n",
       "2 3    6    9       4.5     \n",
       "3 8    1    9       4.5     "
      ]
     },
     "metadata": {},
     "output_type": "display_data"
    }
   ],
   "source": [
    "df$var_mean <- (df$var1 + df$var2)/2 # var_mean 파생변수 생성\n",
    "df"
   ]
  },
  {
   "cell_type": "code",
   "execution_count": 19,
   "metadata": {},
   "outputs": [],
   "source": [
    "mpg$total <- (mpg$cty + mpg$hwy)/2 # 통합 연비 변수 생성"
   ]
  },
  {
   "cell_type": "code",
   "execution_count": 20,
   "metadata": {},
   "outputs": [
    {
     "data": {
      "text/html": [
       "<table>\n",
       "<thead><tr><th scope=col>manufacturer</th><th scope=col>model</th><th scope=col>displ</th><th scope=col>year</th><th scope=col>cyl</th><th scope=col>trans</th><th scope=col>drv</th><th scope=col>cty</th><th scope=col>hwy</th><th scope=col>fl</th><th scope=col>class</th><th scope=col>total</th></tr></thead>\n",
       "<tbody>\n",
       "\t<tr><td>audi      </td><td>a4        </td><td>1.8       </td><td>1999      </td><td>4         </td><td>auto(l5)  </td><td>f         </td><td>18        </td><td>29        </td><td>p         </td><td>compact   </td><td>23.5      </td></tr>\n",
       "\t<tr><td>audi      </td><td>a4        </td><td>1.8       </td><td>1999      </td><td>4         </td><td>manual(m5)</td><td>f         </td><td>21        </td><td>29        </td><td>p         </td><td>compact   </td><td>25.0      </td></tr>\n",
       "\t<tr><td>audi      </td><td>a4        </td><td>2.0       </td><td>2008      </td><td>4         </td><td>manual(m6)</td><td>f         </td><td>20        </td><td>31        </td><td>p         </td><td>compact   </td><td>25.5      </td></tr>\n",
       "\t<tr><td>audi      </td><td>a4        </td><td>2.0       </td><td>2008      </td><td>4         </td><td>auto(av)  </td><td>f         </td><td>21        </td><td>30        </td><td>p         </td><td>compact   </td><td>25.5      </td></tr>\n",
       "\t<tr><td>audi      </td><td>a4        </td><td>2.8       </td><td>1999      </td><td>6         </td><td>auto(l5)  </td><td>f         </td><td>16        </td><td>26        </td><td>p         </td><td>compact   </td><td>21.0      </td></tr>\n",
       "\t<tr><td>audi      </td><td>a4        </td><td>2.8       </td><td>1999      </td><td>6         </td><td>manual(m5)</td><td>f         </td><td>18        </td><td>26        </td><td>p         </td><td>compact   </td><td>22.0      </td></tr>\n",
       "</tbody>\n",
       "</table>\n"
      ],
      "text/latex": [
       "\\begin{tabular}{r|llllllllllll}\n",
       " manufacturer & model & displ & year & cyl & trans & drv & cty & hwy & fl & class & total\\\\\n",
       "\\hline\n",
       "\t audi       & a4         & 1.8        & 1999       & 4          & auto(l5)   & f          & 18         & 29         & p          & compact    & 23.5      \\\\\n",
       "\t audi       & a4         & 1.8        & 1999       & 4          & manual(m5) & f          & 21         & 29         & p          & compact    & 25.0      \\\\\n",
       "\t audi       & a4         & 2.0        & 2008       & 4          & manual(m6) & f          & 20         & 31         & p          & compact    & 25.5      \\\\\n",
       "\t audi       & a4         & 2.0        & 2008       & 4          & auto(av)   & f          & 21         & 30         & p          & compact    & 25.5      \\\\\n",
       "\t audi       & a4         & 2.8        & 1999       & 6          & auto(l5)   & f          & 16         & 26         & p          & compact    & 21.0      \\\\\n",
       "\t audi       & a4         & 2.8        & 1999       & 6          & manual(m5) & f          & 18         & 26         & p          & compact    & 22.0      \\\\\n",
       "\\end{tabular}\n"
      ],
      "text/markdown": [
       "\n",
       "| manufacturer | model | displ | year | cyl | trans | drv | cty | hwy | fl | class | total |\n",
       "|---|---|---|---|---|---|---|---|---|---|---|---|\n",
       "| audi       | a4         | 1.8        | 1999       | 4          | auto(l5)   | f          | 18         | 29         | p          | compact    | 23.5       |\n",
       "| audi       | a4         | 1.8        | 1999       | 4          | manual(m5) | f          | 21         | 29         | p          | compact    | 25.0       |\n",
       "| audi       | a4         | 2.0        | 2008       | 4          | manual(m6) | f          | 20         | 31         | p          | compact    | 25.5       |\n",
       "| audi       | a4         | 2.0        | 2008       | 4          | auto(av)   | f          | 21         | 30         | p          | compact    | 25.5       |\n",
       "| audi       | a4         | 2.8        | 1999       | 6          | auto(l5)   | f          | 16         | 26         | p          | compact    | 21.0       |\n",
       "| audi       | a4         | 2.8        | 1999       | 6          | manual(m5) | f          | 18         | 26         | p          | compact    | 22.0       |\n",
       "\n"
      ],
      "text/plain": [
       "  manufacturer model displ year cyl trans      drv cty hwy fl class   total\n",
       "1 audi         a4    1.8   1999 4   auto(l5)   f   18  29  p  compact 23.5 \n",
       "2 audi         a4    1.8   1999 4   manual(m5) f   21  29  p  compact 25.0 \n",
       "3 audi         a4    2.0   2008 4   manual(m6) f   20  31  p  compact 25.5 \n",
       "4 audi         a4    2.0   2008 4   auto(av)   f   21  30  p  compact 25.5 \n",
       "5 audi         a4    2.8   1999 6   auto(l5)   f   16  26  p  compact 21.0 \n",
       "6 audi         a4    2.8   1999 6   manual(m5) f   18  26  p  compact 22.0 "
      ]
     },
     "metadata": {},
     "output_type": "display_data"
    }
   ],
   "source": [
    "head(mpg)"
   ]
  },
  {
   "cell_type": "code",
   "execution_count": 21,
   "metadata": {},
   "outputs": [
    {
     "data": {
      "text/html": [
       "20.1495726495727"
      ],
      "text/latex": [
       "20.1495726495727"
      ],
      "text/markdown": [
       "20.1495726495727"
      ],
      "text/plain": [
       "[1] 20.14957"
      ]
     },
     "metadata": {},
     "output_type": "display_data"
    }
   ],
   "source": [
    "mean(mpg$total)"
   ]
  },
  {
   "cell_type": "code",
   "execution_count": 22,
   "metadata": {},
   "outputs": [
    {
     "data": {
      "text/plain": [
       "   Min. 1st Qu.  Median    Mean 3rd Qu.    Max. \n",
       "  10.50   15.50   20.50   20.15   23.50   39.50 "
      ]
     },
     "metadata": {},
     "output_type": "display_data"
    }
   ],
   "source": [
    "summary(mpg$total) # 요약 통계량 산출"
   ]
  },
  {
   "cell_type": "code",
   "execution_count": 23,
   "metadata": {},
   "outputs": [
    {
     "data": {
      "image/png": "[encoded data removed]",
      "text/plain": [
       "Plot with title \"Histogram of mpg$total\""
      ]
     },
     "metadata": {},
     "output_type": "display_data"
    }
   ],
   "source": [
    "hist(mpg$total) # 히스토그램 생성"
   ]
  },
  {
   "cell_type": "code",
   "execution_count": 24,
   "metadata": {},
   "outputs": [],
   "source": [
    "# 20 이상이면 pass, 그렇지 않으면 fail 부여\n",
    "mpg$test <- ifelse(mpg$total >= 20, \"pass\", \"fail\")"
   ]
  },
  {
   "cell_type": "code",
   "execution_count": 14,
   "metadata": {},
   "outputs": [
    {
     "data": {
      "text/html": [
       "<table>\n",
       "<thead><tr><th scope=col>manufacturer</th><th scope=col>model</th><th scope=col>displ</th><th scope=col>year</th><th scope=col>cyl</th><th scope=col>trans</th><th scope=col>drv</th><th scope=col>cty</th><th scope=col>hwy</th><th scope=col>fl</th><th scope=col>class</th><th scope=col>total</th><th scope=col>test</th></tr></thead>\n",
       "<tbody>\n",
       "\t<tr><td>audi      </td><td>a4        </td><td>1.8       </td><td>1999      </td><td>4         </td><td>auto(l5)  </td><td>f         </td><td>18        </td><td>29        </td><td>p         </td><td>compact   </td><td>23.5      </td><td>pass      </td></tr>\n",
       "\t<tr><td>audi      </td><td>a4        </td><td>1.8       </td><td>1999      </td><td>4         </td><td>manual(m5)</td><td>f         </td><td>21        </td><td>29        </td><td>p         </td><td>compact   </td><td>25.0      </td><td>pass      </td></tr>\n",
       "\t<tr><td>audi      </td><td>a4        </td><td>2.0       </td><td>2008      </td><td>4         </td><td>manual(m6)</td><td>f         </td><td>20        </td><td>31        </td><td>p         </td><td>compact   </td><td>25.5      </td><td>pass      </td></tr>\n",
       "\t<tr><td>audi      </td><td>a4        </td><td>2.0       </td><td>2008      </td><td>4         </td><td>auto(av)  </td><td>f         </td><td>21        </td><td>30        </td><td>p         </td><td>compact   </td><td>25.5      </td><td>pass      </td></tr>\n",
       "\t<tr><td>audi      </td><td>a4        </td><td>2.8       </td><td>1999      </td><td>6         </td><td>auto(l5)  </td><td>f         </td><td>16        </td><td>26        </td><td>p         </td><td>compact   </td><td>21.0      </td><td>pass      </td></tr>\n",
       "\t<tr><td>audi      </td><td>a4        </td><td>2.8       </td><td>1999      </td><td>6         </td><td>manual(m5)</td><td>f         </td><td>18        </td><td>26        </td><td>p         </td><td>compact   </td><td>22.0      </td><td>pass      </td></tr>\n",
       "</tbody>\n",
       "</table>\n"
      ],
      "text/latex": [
       "\\begin{tabular}{r|lllllllllllll}\n",
       " manufacturer & model & displ & year & cyl & trans & drv & cty & hwy & fl & class & total & test\\\\\n",
       "\\hline\n",
       "\t audi       & a4         & 1.8        & 1999       & 4          & auto(l5)   & f          & 18         & 29         & p          & compact    & 23.5       & pass      \\\\\n",
       "\t audi       & a4         & 1.8        & 1999       & 4          & manual(m5) & f          & 21         & 29         & p          & compact    & 25.0       & pass      \\\\\n",
       "\t audi       & a4         & 2.0        & 2008       & 4          & manual(m6) & f          & 20         & 31         & p          & compact    & 25.5       & pass      \\\\\n",
       "\t audi       & a4         & 2.0        & 2008       & 4          & auto(av)   & f          & 21         & 30         & p          & compact    & 25.5       & pass      \\\\\n",
       "\t audi       & a4         & 2.8        & 1999       & 6          & auto(l5)   & f          & 16         & 26         & p          & compact    & 21.0       & pass      \\\\\n",
       "\t audi       & a4         & 2.8        & 1999       & 6          & manual(m5) & f          & 18         & 26         & p          & compact    & 22.0       & pass      \\\\\n",
       "\\end{tabular}\n"
      ],
      "text/markdown": [
       "\n",
       "| manufacturer | model | displ | year | cyl | trans | drv | cty | hwy | fl | class | total | test |\n",
       "|---|---|---|---|---|---|---|---|---|---|---|---|---|\n",
       "| audi       | a4         | 1.8        | 1999       | 4          | auto(l5)   | f          | 18         | 29         | p          | compact    | 23.5       | pass       |\n",
       "| audi       | a4         | 1.8        | 1999       | 4          | manual(m5) | f          | 21         | 29         | p          | compact    | 25.0       | pass       |\n",
       "| audi       | a4         | 2.0        | 2008       | 4          | manual(m6) | f          | 20         | 31         | p          | compact    | 25.5       | pass       |\n",
       "| audi       | a4         | 2.0        | 2008       | 4          | auto(av)   | f          | 21         | 30         | p          | compact    | 25.5       | pass       |\n",
       "| audi       | a4         | 2.8        | 1999       | 6          | auto(l5)   | f          | 16         | 26         | p          | compact    | 21.0       | pass       |\n",
       "| audi       | a4         | 2.8        | 1999       | 6          | manual(m5) | f          | 18         | 26         | p          | compact    | 22.0       | pass       |\n",
       "\n"
      ],
      "text/plain": [
       "  manufacturer model displ year cyl trans      drv cty hwy fl class   total\n",
       "1 audi         a4    1.8   1999 4   auto(l5)   f   18  29  p  compact 23.5 \n",
       "2 audi         a4    1.8   1999 4   manual(m5) f   21  29  p  compact 25.0 \n",
       "3 audi         a4    2.0   2008 4   manual(m6) f   20  31  p  compact 25.5 \n",
       "4 audi         a4    2.0   2008 4   auto(av)   f   21  30  p  compact 25.5 \n",
       "5 audi         a4    2.8   1999 6   auto(l5)   f   16  26  p  compact 21.0 \n",
       "6 audi         a4    2.8   1999 6   manual(m5) f   18  26  p  compact 22.0 \n",
       "  test\n",
       "1 pass\n",
       "2 pass\n",
       "3 pass\n",
       "4 pass\n",
       "5 pass\n",
       "6 pass"
      ]
     },
     "metadata": {},
     "output_type": "display_data"
    }
   ],
   "source": [
    "head(mpg)"
   ]
  },
  {
   "cell_type": "code",
   "execution_count": 25,
   "metadata": {},
   "outputs": [
    {
     "data": {
      "text/plain": [
       "\n",
       "fail pass \n",
       " 106  128 "
      ]
     },
     "metadata": {},
     "output_type": "display_data"
    }
   ],
   "source": [
    "table(mpg$test) # 연비 합격 빈도표 생성"
   ]
  },
  {
   "cell_type": "code",
   "execution_count": 16,
   "metadata": {},
   "outputs": [],
   "source": [
    "library(ggplot2) # ggplot2 로드"
   ]
  },
  {
   "cell_type": "code",
   "execution_count": 27,
   "metadata": {},
   "outputs": [
    {
     "data": {
      "image/png": "[encoded data removed]",
      "text/plain": [
       "plot without title"
      ]
     },
     "metadata": {},
     "output_type": "display_data"
    }
   ],
   "source": [
    "qplot(mpg$test) # 연비 합격 빈도 막대 그래프 생성"
   ]
  },
  {
   "cell_type": "code",
   "execution_count": 29,
   "metadata": {},
   "outputs": [],
   "source": [
    "mpg$grade <- ifelse(mpg$total >= 30, \"A\",\n",
    "                 ifelse(mpg$total >= 20, \"B\", \"C\"))"
   ]
  },
  {
   "cell_type": "code",
   "execution_count": 30,
   "metadata": {},
   "outputs": [
    {
     "data": {
      "text/html": [
       "<table>\n",
       "<thead><tr><th scope=col>manufacturer</th><th scope=col>model</th><th scope=col>displ</th><th scope=col>year</th><th scope=col>cyl</th><th scope=col>trans</th><th scope=col>drv</th><th scope=col>cty</th><th scope=col>hwy</th><th scope=col>fl</th><th scope=col>class</th><th scope=col>total</th><th scope=col>test</th><th scope=col>grade</th></tr></thead>\n",
       "<tbody>\n",
       "\t<tr><td>audi      </td><td>a4        </td><td>1.8       </td><td>1999      </td><td>4         </td><td>auto(l5)  </td><td>f         </td><td>18        </td><td>29        </td><td>p         </td><td>compact   </td><td>23.5      </td><td>pass      </td><td>B         </td></tr>\n",
       "\t<tr><td>audi      </td><td>a4        </td><td>1.8       </td><td>1999      </td><td>4         </td><td>manual(m5)</td><td>f         </td><td>21        </td><td>29        </td><td>p         </td><td>compact   </td><td>25.0      </td><td>pass      </td><td>B         </td></tr>\n",
       "\t<tr><td>audi      </td><td>a4        </td><td>2.0       </td><td>2008      </td><td>4         </td><td>manual(m6)</td><td>f         </td><td>20        </td><td>31        </td><td>p         </td><td>compact   </td><td>25.5      </td><td>pass      </td><td>B         </td></tr>\n",
       "\t<tr><td>audi      </td><td>a4        </td><td>2.0       </td><td>2008      </td><td>4         </td><td>auto(av)  </td><td>f         </td><td>21        </td><td>30        </td><td>p         </td><td>compact   </td><td>25.5      </td><td>pass      </td><td>B         </td></tr>\n",
       "\t<tr><td>audi      </td><td>a4        </td><td>2.8       </td><td>1999      </td><td>6         </td><td>auto(l5)  </td><td>f         </td><td>16        </td><td>26        </td><td>p         </td><td>compact   </td><td>21.0      </td><td>pass      </td><td>B         </td></tr>\n",
       "\t<tr><td>audi      </td><td>a4        </td><td>2.8       </td><td>1999      </td><td>6         </td><td>manual(m5)</td><td>f         </td><td>18        </td><td>26        </td><td>p         </td><td>compact   </td><td>22.0      </td><td>pass      </td><td>B         </td></tr>\n",
       "</tbody>\n",
       "</table>\n"
      ],
      "text/latex": [
       "\\begin{tabular}{r|llllllllllllll}\n",
       " manufacturer & model & displ & year & cyl & trans & drv & cty & hwy & fl & class & total & test & grade\\\\\n",
       "\\hline\n",
       "\t audi       & a4         & 1.8        & 1999       & 4          & auto(l5)   & f          & 18         & 29         & p          & compact    & 23.5       & pass       & B         \\\\\n",
       "\t audi       & a4         & 1.8        & 1999       & 4          & manual(m5) & f          & 21         & 29         & p          & compact    & 25.0       & pass       & B         \\\\\n",
       "\t audi       & a4         & 2.0        & 2008       & 4          & manual(m6) & f          & 20         & 31         & p          & compact    & 25.5       & pass       & B         \\\\\n",
       "\t audi       & a4         & 2.0        & 2008       & 4          & auto(av)   & f          & 21         & 30         & p          & compact    & 25.5       & pass       & B         \\\\\n",
       "\t audi       & a4         & 2.8        & 1999       & 6          & auto(l5)   & f          & 16         & 26         & p          & compact    & 21.0       & pass       & B         \\\\\n",
       "\t audi       & a4         & 2.8        & 1999       & 6          & manual(m5) & f          & 18         & 26         & p          & compact    & 22.0       & pass       & B         \\\\\n",
       "\\end{tabular}\n"
      ],
      "text/markdown": [
       "\n",
       "| manufacturer | model | displ | year | cyl | trans | drv | cty | hwy | fl | class | total | test | grade |\n",
       "|---|---|---|---|---|---|---|---|---|---|---|---|---|---|\n",
       "| audi       | a4         | 1.8        | 1999       | 4          | auto(l5)   | f          | 18         | 29         | p          | compact    | 23.5       | pass       | B          |\n",
       "| audi       | a4         | 1.8        | 1999       | 4          | manual(m5) | f          | 21         | 29         | p          | compact    | 25.0       | pass       | B          |\n",
       "| audi       | a4         | 2.0        | 2008       | 4          | manual(m6) | f          | 20         | 31         | p          | compact    | 25.5       | pass       | B          |\n",
       "| audi       | a4         | 2.0        | 2008       | 4          | auto(av)   | f          | 21         | 30         | p          | compact    | 25.5       | pass       | B          |\n",
       "| audi       | a4         | 2.8        | 1999       | 6          | auto(l5)   | f          | 16         | 26         | p          | compact    | 21.0       | pass       | B          |\n",
       "| audi       | a4         | 2.8        | 1999       | 6          | manual(m5) | f          | 18         | 26         | p          | compact    | 22.0       | pass       | B          |\n",
       "\n"
      ],
      "text/plain": [
       "  manufacturer model displ year cyl trans      drv cty hwy fl class   total\n",
       "1 audi         a4    1.8   1999 4   auto(l5)   f   18  29  p  compact 23.5 \n",
       "2 audi         a4    1.8   1999 4   manual(m5) f   21  29  p  compact 25.0 \n",
       "3 audi         a4    2.0   2008 4   manual(m6) f   20  31  p  compact 25.5 \n",
       "4 audi         a4    2.0   2008 4   auto(av)   f   21  30  p  compact 25.5 \n",
       "5 audi         a4    2.8   1999 6   auto(l5)   f   16  26  p  compact 21.0 \n",
       "6 audi         a4    2.8   1999 6   manual(m5) f   18  26  p  compact 22.0 \n",
       "  test grade\n",
       "1 pass B    \n",
       "2 pass B    \n",
       "3 pass B    \n",
       "4 pass B    \n",
       "5 pass B    \n",
       "6 pass B    "
      ]
     },
     "metadata": {},
     "output_type": "display_data"
    }
   ],
   "source": [
    "head(mpg)"
   ]
  },
  {
   "cell_type": "code",
   "execution_count": 31,
   "metadata": {},
   "outputs": [
    {
     "data": {
      "text/plain": [
       "\n",
       "  A   B   C \n",
       " 10 118 106 "
      ]
     },
     "metadata": {},
     "output_type": "display_data"
    }
   ],
   "source": [
    "table(mpg$grade) # 등급 빈도표 생성"
   ]
  },
  {
   "cell_type": "code",
   "execution_count": 32,
   "metadata": {},
   "outputs": [
    {
     "data": {
      "image/png": "[encoded data removed]",
      "text/plain": [
       "plot without title"
      ]
     },
     "metadata": {},
     "output_type": "display_data"
    }
   ],
   "source": [
    "qplot(mpg$grade) # 등급 빈도 막대 그래프 생성"
   ]
  },
  {
   "cell_type": "code",
   "execution_count": 22,
   "metadata": {},
   "outputs": [],
   "source": [
    "mpg$grade2 <- ifelse(mpg$total >= 30, \"A\",\n",
    "                     ifelse(mpg$total >= 25, \"B\",\n",
    "                             ifelse(mpg$total >= 20, \"C\", \"D\")))"
   ]
  },
  {
   "cell_type": "code",
   "execution_count": 23,
   "metadata": {},
   "outputs": [
    {
     "data": {
      "image/png": "[encoded data removed]",
      "text/plain": [
       "plot without title"
      ]
     },
     "metadata": {},
     "output_type": "display_data"
    }
   ],
   "source": [
    "qplot(mpg$grade2)"
   ]
  },
  {
   "cell_type": "markdown",
   "metadata": {},
   "source": [
    "문제1. ggplot2의 midwest 데이터를 데이터 프레임 형태로 불러와서 데이터의 특성을 파악하세요."
   ]
  },
  {
   "cell_type": "code",
   "execution_count": 33,
   "metadata": {},
   "outputs": [
    {
     "data": {
      "text/html": [
       "<table>\n",
       "<thead><tr><th scope=col>PID</th><th scope=col>county</th><th scope=col>state</th><th scope=col>area</th><th scope=col>poptotal</th><th scope=col>popdensity</th><th scope=col>popwhite</th><th scope=col>popblack</th><th scope=col>popamerindian</th><th scope=col>popasian</th><th scope=col>...</th><th scope=col>percollege</th><th scope=col>percprof</th><th scope=col>poppovertyknown</th><th scope=col>percpovertyknown</th><th scope=col>percbelowpoverty</th><th scope=col>percchildbelowpovert</th><th scope=col>percadultpoverty</th><th scope=col>percelderlypoverty</th><th scope=col>inmetro</th><th scope=col>category</th></tr></thead>\n",
       "<tbody>\n",
       "\t<tr><td>561      </td><td>ADAMS    </td><td>IL       </td><td>0.052    </td><td>66090    </td><td>1270.9615</td><td>63917    </td><td>1702     </td><td>98       </td><td>249      </td><td>...      </td><td>19.63139 </td><td>4.355859 </td><td>63628    </td><td>96.27478 </td><td>13.151443</td><td>18.01172 </td><td>11.009776</td><td>12.443812</td><td>0        </td><td>AAR      </td></tr>\n",
       "\t<tr><td>562      </td><td>ALEXANDER</td><td>IL       </td><td>0.014    </td><td>10626    </td><td> 759.0000</td><td> 7054    </td><td>3496     </td><td>19       </td><td> 48      </td><td>...      </td><td>11.24331 </td><td>2.870315 </td><td>10529    </td><td>99.08714 </td><td>32.244278</td><td>45.82651 </td><td>27.385647</td><td>25.228976</td><td>0        </td><td>LHR      </td></tr>\n",
       "\t<tr><td>563      </td><td>BOND     </td><td>IL       </td><td>0.022    </td><td>14991    </td><td> 681.4091</td><td>14477    </td><td> 429     </td><td>35       </td><td> 16      </td><td>...      </td><td>17.03382 </td><td>4.488572 </td><td>14235    </td><td>94.95697 </td><td>12.068844</td><td>14.03606 </td><td>10.852090</td><td>12.697410</td><td>0        </td><td>AAR      </td></tr>\n",
       "\t<tr><td>564      </td><td>BOONE    </td><td>IL       </td><td>0.017    </td><td>30806    </td><td>1812.1176</td><td>29344    </td><td> 127     </td><td>46       </td><td>150      </td><td>...      </td><td>17.27895 </td><td>4.197800 </td><td>30337    </td><td>98.47757 </td><td> 7.209019</td><td>11.17954 </td><td> 5.536013</td><td> 6.217047</td><td>1        </td><td>ALU      </td></tr>\n",
       "\t<tr><td>565      </td><td>BROWN    </td><td>IL       </td><td>0.018    </td><td> 5836    </td><td> 324.2222</td><td> 5264    </td><td> 547     </td><td>14       </td><td>  5      </td><td>...      </td><td>14.47600 </td><td>3.367680 </td><td> 4815    </td><td>82.50514 </td><td>13.520249</td><td>13.02289 </td><td>11.143211</td><td>19.200000</td><td>0        </td><td>AAR      </td></tr>\n",
       "\t<tr><td>566      </td><td>BUREAU   </td><td>IL       </td><td>0.050    </td><td>35688    </td><td> 713.7600</td><td>35157    </td><td>  50     </td><td>65       </td><td>195      </td><td>...      </td><td>18.90462 </td><td>3.275891 </td><td>35107    </td><td>98.37200 </td><td>10.399635</td><td>14.15882 </td><td> 8.179287</td><td>11.008586</td><td>0        </td><td>AAR      </td></tr>\n",
       "</tbody>\n",
       "</table>\n"
      ],
      "text/latex": [
       "\\begin{tabular}{r|llllllllllllllllllllllllllll}\n",
       " PID & county & state & area & poptotal & popdensity & popwhite & popblack & popamerindian & popasian & ... & percollege & percprof & poppovertyknown & percpovertyknown & percbelowpoverty & percchildbelowpovert & percadultpoverty & percelderlypoverty & inmetro & category\\\\\n",
       "\\hline\n",
       "\t 561       & ADAMS     & IL        & 0.052     & 66090     & 1270.9615 & 63917     & 1702      & 98        & 249       & ...       & 19.63139  & 4.355859  & 63628     & 96.27478  & 13.151443 & 18.01172  & 11.009776 & 12.443812 & 0         & AAR      \\\\\n",
       "\t 562       & ALEXANDER & IL        & 0.014     & 10626     &  759.0000 &  7054     & 3496      & 19        &  48       & ...       & 11.24331  & 2.870315  & 10529     & 99.08714  & 32.244278 & 45.82651  & 27.385647 & 25.228976 & 0         & LHR      \\\\\n",
       "\t 563       & BOND      & IL        & 0.022     & 14991     &  681.4091 & 14477     &  429      & 35        &  16       & ...       & 17.03382  & 4.488572  & 14235     & 94.95697  & 12.068844 & 14.03606  & 10.852090 & 12.697410 & 0         & AAR      \\\\\n",
       "\t 564       & BOONE     & IL        & 0.017     & 30806     & 1812.1176 & 29344     &  127      & 46        & 150       & ...       & 17.27895  & 4.197800  & 30337     & 98.47757  &  7.209019 & 11.17954  &  5.536013 &  6.217047 & 1         & ALU      \\\\\n",
       "\t 565       & BROWN     & IL        & 0.018     &  5836     &  324.2222 &  5264     &  547      & 14        &   5       & ...       & 14.47600  & 3.367680  &  4815     & 82.50514  & 13.520249 & 13.02289  & 11.143211 & 19.200000 & 0         & AAR      \\\\\n",
       "\t 566       & BUREAU    & IL        & 0.050     & 35688     &  713.7600 & 35157     &   50      & 65        & 195       & ...       & 18.90462  & 3.275891  & 35107     & 98.37200  & 10.399635 & 14.15882  &  8.179287 & 11.008586 & 0         & AAR      \\\\\n",
       "\\end{tabular}\n"
      ],
      "text/markdown": [
       "\n",
       "| PID | county | state | area | poptotal | popdensity | popwhite | popblack | popamerindian | popasian | ... | percollege | percprof | poppovertyknown | percpovertyknown | percbelowpoverty | percchildbelowpovert | percadultpoverty | percelderlypoverty | inmetro | category |\n",
       "|---|---|---|---|---|---|---|---|---|---|---|---|---|---|---|---|---|---|---|---|---|\n",
       "| 561       | ADAMS     | IL        | 0.052     | 66090     | 1270.9615 | 63917     | 1702      | 98        | 249       | ...       | 19.63139  | 4.355859  | 63628     | 96.27478  | 13.151443 | 18.01172  | 11.009776 | 12.443812 | 0         | AAR       |\n",
       "| 562       | ALEXANDER | IL        | 0.014     | 10626     |  759.0000 |  7054     | 3496      | 19        |  48       | ...       | 11.24331  | 2.870315  | 10529     | 99.08714  | 32.244278 | 45.82651  | 27.385647 | 25.228976 | 0         | LHR       |\n",
       "| 563       | BOND      | IL        | 0.022     | 14991     |  681.4091 | 14477     |  429      | 35        |  16       | ...       | 17.03382  | 4.488572  | 14235     | 94.95697  | 12.068844 | 14.03606  | 10.852090 | 12.697410 | 0         | AAR       |\n",
       "| 564       | BOONE     | IL        | 0.017     | 30806     | 1812.1176 | 29344     |  127      | 46        | 150       | ...       | 17.27895  | 4.197800  | 30337     | 98.47757  |  7.209019 | 11.17954  |  5.536013 |  6.217047 | 1         | ALU       |\n",
       "| 565       | BROWN     | IL        | 0.018     |  5836     |  324.2222 |  5264     |  547      | 14        |   5       | ...       | 14.47600  | 3.367680  |  4815     | 82.50514  | 13.520249 | 13.02289  | 11.143211 | 19.200000 | 0         | AAR       |\n",
       "| 566       | BUREAU    | IL        | 0.050     | 35688     |  713.7600 | 35157     |   50      | 65        | 195       | ...       | 18.90462  | 3.275891  | 35107     | 98.37200  | 10.399635 | 14.15882  |  8.179287 | 11.008586 | 0         | AAR       |\n",
       "\n"
      ],
      "text/plain": [
       "  PID county    state area  poptotal popdensity popwhite popblack popamerindian\n",
       "1 561 ADAMS     IL    0.052 66090    1270.9615  63917    1702     98           \n",
       "2 562 ALEXANDER IL    0.014 10626     759.0000   7054    3496     19           \n",
       "3 563 BOND      IL    0.022 14991     681.4091  14477     429     35           \n",
       "4 564 BOONE     IL    0.017 30806    1812.1176  29344     127     46           \n",
       "5 565 BROWN     IL    0.018  5836     324.2222   5264     547     14           \n",
       "6 566 BUREAU    IL    0.050 35688     713.7600  35157      50     65           \n",
       "  popasian ... percollege percprof poppovertyknown percpovertyknown\n",
       "1 249      ... 19.63139   4.355859 63628           96.27478        \n",
       "2  48      ... 11.24331   2.870315 10529           99.08714        \n",
       "3  16      ... 17.03382   4.488572 14235           94.95697        \n",
       "4 150      ... 17.27895   4.197800 30337           98.47757        \n",
       "5   5      ... 14.47600   3.367680  4815           82.50514        \n",
       "6 195      ... 18.90462   3.275891 35107           98.37200        \n",
       "  percbelowpoverty percchildbelowpovert percadultpoverty percelderlypoverty\n",
       "1 13.151443        18.01172             11.009776        12.443812         \n",
       "2 32.244278        45.82651             27.385647        25.228976         \n",
       "3 12.068844        14.03606             10.852090        12.697410         \n",
       "4  7.209019        11.17954              5.536013         6.217047         \n",
       "5 13.520249        13.02289             11.143211        19.200000         \n",
       "6 10.399635        14.15882              8.179287        11.008586         \n",
       "  inmetro category\n",
       "1 0       AAR     \n",
       "2 0       LHR     \n",
       "3 0       AAR     \n",
       "4 1       ALU     \n",
       "5 0       AAR     \n",
       "6 0       AAR     "
      ]
     },
     "metadata": {},
     "output_type": "display_data"
    },
    {
     "data": {
      "text/html": [
       "<table>\n",
       "<thead><tr><th></th><th scope=col>PID</th><th scope=col>county</th><th scope=col>state</th><th scope=col>area</th><th scope=col>poptotal</th><th scope=col>popdensity</th><th scope=col>popwhite</th><th scope=col>popblack</th><th scope=col>popamerindian</th><th scope=col>popasian</th><th scope=col>...</th><th scope=col>percollege</th><th scope=col>percprof</th><th scope=col>poppovertyknown</th><th scope=col>percpovertyknown</th><th scope=col>percbelowpoverty</th><th scope=col>percchildbelowpovert</th><th scope=col>percadultpoverty</th><th scope=col>percelderlypoverty</th><th scope=col>inmetro</th><th scope=col>category</th></tr></thead>\n",
       "<tbody>\n",
       "\t<tr><th scope=row>432</th><td>3047      </td><td>WASHINGTON</td><td>WI        </td><td>0.025     </td><td> 95328    </td><td>3813.1200 </td><td> 94465    </td><td> 125      </td><td>208       </td><td> 337      </td><td>...       </td><td>23.39090  </td><td>4.014568  </td><td> 94143    </td><td>98.75692  </td><td> 3.237628 </td><td> 4.069854 </td><td> 2.584500 </td><td> 4.280889 </td><td>1         </td><td>HLU       </td></tr>\n",
       "\t<tr><th scope=row>433</th><td>3048      </td><td>WAUKESHA  </td><td>WI        </td><td>0.034     </td><td>304715    </td><td>8962.2059 </td><td>298313    </td><td>1096      </td><td>672       </td><td>2699      </td><td>...       </td><td>35.39678  </td><td>7.667090  </td><td>299802    </td><td>98.38767  </td><td> 3.121060 </td><td> 3.785820 </td><td> 2.590061 </td><td> 4.085479 </td><td>1         </td><td>HLU       </td></tr>\n",
       "\t<tr><th scope=row>434</th><td>3049      </td><td>WAUPACA   </td><td>WI        </td><td>0.045     </td><td> 46104    </td><td>1024.5333 </td><td> 45695    </td><td>  22      </td><td>125       </td><td>  92      </td><td>...       </td><td>16.54987  </td><td>3.138596  </td><td> 44412    </td><td>96.33004  </td><td> 8.488697 </td><td>10.071411 </td><td> 6.953799 </td><td>10.338641 </td><td>0         </td><td>AAR       </td></tr>\n",
       "\t<tr><th scope=row>435</th><td>3050      </td><td>WAUSHARA  </td><td>WI        </td><td>0.037     </td><td> 19385    </td><td> 523.9189 </td><td> 19094    </td><td>  29      </td><td> 70       </td><td>  43      </td><td>...       </td><td>15.06458  </td><td>2.620907  </td><td> 19163    </td><td>98.85478  </td><td>13.786985 </td><td>20.050708 </td><td>11.695784 </td><td>11.804558 </td><td>0         </td><td>AAR       </td></tr>\n",
       "\t<tr><th scope=row>436</th><td>3051      </td><td>WINNEBAGO </td><td>WI        </td><td>0.035     </td><td>140320    </td><td>4009.1429 </td><td>136822    </td><td> 697      </td><td>685       </td><td>1728      </td><td>...       </td><td>24.99550  </td><td>5.659847  </td><td>133950    </td><td>95.46038  </td><td> 8.804031 </td><td>10.592031 </td><td> 8.660587 </td><td> 6.661094 </td><td>1         </td><td>HAU       </td></tr>\n",
       "\t<tr><th scope=row>437</th><td>3052      </td><td>WOOD      </td><td>WI        </td><td>0.048     </td><td> 73605    </td><td>1533.4375 </td><td> 72157    </td><td>  90      </td><td>481       </td><td> 722      </td><td>...       </td><td>21.66638  </td><td>4.583725  </td><td> 72685    </td><td>98.75008  </td><td> 8.525831 </td><td>11.162997 </td><td> 7.375656 </td><td> 7.882918 </td><td>0         </td><td>AAR       </td></tr>\n",
       "</tbody>\n",
       "</table>\n"
      ],
      "text/latex": [
       "\\begin{tabular}{r|llllllllllllllllllllllllllll}\n",
       "  & PID & county & state & area & poptotal & popdensity & popwhite & popblack & popamerindian & popasian & ... & percollege & percprof & poppovertyknown & percpovertyknown & percbelowpoverty & percchildbelowpovert & percadultpoverty & percelderlypoverty & inmetro & category\\\\\n",
       "\\hline\n",
       "\t432 & 3047       & WASHINGTON & WI         & 0.025      &  95328     & 3813.1200  &  94465     &  125       & 208        &  337       & ...        & 23.39090   & 4.014568   &  94143     & 98.75692   &  3.237628  &  4.069854  &  2.584500  &  4.280889  & 1          & HLU       \\\\\n",
       "\t433 & 3048       & WAUKESHA   & WI         & 0.034      & 304715     & 8962.2059  & 298313     & 1096       & 672        & 2699       & ...        & 35.39678   & 7.667090   & 299802     & 98.38767   &  3.121060  &  3.785820  &  2.590061  &  4.085479  & 1          & HLU       \\\\\n",
       "\t434 & 3049       & WAUPACA    & WI         & 0.045      &  46104     & 1024.5333  &  45695     &   22       & 125        &   92       & ...        & 16.54987   & 3.138596   &  44412     & 96.33004   &  8.488697  & 10.071411  &  6.953799  & 10.338641  & 0          & AAR       \\\\\n",
       "\t435 & 3050       & WAUSHARA   & WI         & 0.037      &  19385     &  523.9189  &  19094     &   29       &  70        &   43       & ...        & 15.06458   & 2.620907   &  19163     & 98.85478   & 13.786985  & 20.050708  & 11.695784  & 11.804558  & 0          & AAR       \\\\\n",
       "\t436 & 3051       & WINNEBAGO  & WI         & 0.035      & 140320     & 4009.1429  & 136822     &  697       & 685        & 1728       & ...        & 24.99550   & 5.659847   & 133950     & 95.46038   &  8.804031  & 10.592031  &  8.660587  &  6.661094  & 1          & HAU       \\\\\n",
       "\t437 & 3052       & WOOD       & WI         & 0.048      &  73605     & 1533.4375  &  72157     &   90       & 481        &  722       & ...        & 21.66638   & 4.583725   &  72685     & 98.75008   &  8.525831  & 11.162997  &  7.375656  &  7.882918  & 0          & AAR       \\\\\n",
       "\\end{tabular}\n"
      ],
      "text/markdown": [
       "\n",
       "| <!--/--> | PID | county | state | area | poptotal | popdensity | popwhite | popblack | popamerindian | popasian | ... | percollege | percprof | poppovertyknown | percpovertyknown | percbelowpoverty | percchildbelowpovert | percadultpoverty | percelderlypoverty | inmetro | category |\n",
       "|---|---|---|---|---|---|---|---|---|---|---|---|---|---|---|---|---|---|---|---|---|---|\n",
       "| 432 | 3047       | WASHINGTON | WI         | 0.025      |  95328     | 3813.1200  |  94465     |  125       | 208        |  337       | ...        | 23.39090   | 4.014568   |  94143     | 98.75692   |  3.237628  |  4.069854  |  2.584500  |  4.280889  | 1          | HLU        |\n",
       "| 433 | 3048       | WAUKESHA   | WI         | 0.034      | 304715     | 8962.2059  | 298313     | 1096       | 672        | 2699       | ...        | 35.39678   | 7.667090   | 299802     | 98.38767   |  3.121060  |  3.785820  |  2.590061  |  4.085479  | 1          | HLU        |\n",
       "| 434 | 3049       | WAUPACA    | WI         | 0.045      |  46104     | 1024.5333  |  45695     |   22       | 125        |   92       | ...        | 16.54987   | 3.138596   |  44412     | 96.33004   |  8.488697  | 10.071411  |  6.953799  | 10.338641  | 0          | AAR        |\n",
       "| 435 | 3050       | WAUSHARA   | WI         | 0.037      |  19385     |  523.9189  |  19094     |   29       |  70        |   43       | ...        | 15.06458   | 2.620907   |  19163     | 98.85478   | 13.786985  | 20.050708  | 11.695784  | 11.804558  | 0          | AAR        |\n",
       "| 436 | 3051       | WINNEBAGO  | WI         | 0.035      | 140320     | 4009.1429  | 136822     |  697       | 685        | 1728       | ...        | 24.99550   | 5.659847   | 133950     | 95.46038   |  8.804031  | 10.592031  |  8.660587  |  6.661094  | 1          | HAU        |\n",
       "| 437 | 3052       | WOOD       | WI         | 0.048      |  73605     | 1533.4375  |  72157     |   90       | 481        |  722       | ...        | 21.66638   | 4.583725   |  72685     | 98.75008   |  8.525831  | 11.162997  |  7.375656  |  7.882918  | 0          | AAR        |\n",
       "\n"
      ],
      "text/plain": [
       "    PID  county     state area  poptotal popdensity popwhite popblack\n",
       "432 3047 WASHINGTON WI    0.025  95328   3813.1200   94465    125    \n",
       "433 3048 WAUKESHA   WI    0.034 304715   8962.2059  298313   1096    \n",
       "434 3049 WAUPACA    WI    0.045  46104   1024.5333   45695     22    \n",
       "435 3050 WAUSHARA   WI    0.037  19385    523.9189   19094     29    \n",
       "436 3051 WINNEBAGO  WI    0.035 140320   4009.1429  136822    697    \n",
       "437 3052 WOOD       WI    0.048  73605   1533.4375   72157     90    \n",
       "    popamerindian popasian ... percollege percprof poppovertyknown\n",
       "432 208            337     ... 23.39090   4.014568  94143         \n",
       "433 672           2699     ... 35.39678   7.667090 299802         \n",
       "434 125             92     ... 16.54987   3.138596  44412         \n",
       "435  70             43     ... 15.06458   2.620907  19163         \n",
       "436 685           1728     ... 24.99550   5.659847 133950         \n",
       "437 481            722     ... 21.66638   4.583725  72685         \n",
       "    percpovertyknown percbelowpoverty percchildbelowpovert percadultpoverty\n",
       "432 98.75692          3.237628         4.069854             2.584500       \n",
       "433 98.38767          3.121060         3.785820             2.590061       \n",
       "434 96.33004          8.488697        10.071411             6.953799       \n",
       "435 98.85478         13.786985        20.050708            11.695784       \n",
       "436 95.46038          8.804031        10.592031             8.660587       \n",
       "437 98.75008          8.525831        11.162997             7.375656       \n",
       "    percelderlypoverty inmetro category\n",
       "432  4.280889          1       HLU     \n",
       "433  4.085479          1       HLU     \n",
       "434 10.338641          0       AAR     \n",
       "435 11.804558          0       AAR     \n",
       "436  6.661094          1       HAU     \n",
       "437  7.882918          0       AAR     "
      ]
     },
     "metadata": {},
     "output_type": "display_data"
    },
    {
     "data": {
      "text/html": [
       "<ol class=list-inline>\n",
       "\t<li>437</li>\n",
       "\t<li>28</li>\n",
       "</ol>\n"
      ],
      "text/latex": [
       "\\begin{enumerate*}\n",
       "\\item 437\n",
       "\\item 28\n",
       "\\end{enumerate*}\n"
      ],
      "text/markdown": [
       "1. 437\n",
       "2. 28\n",
       "\n",
       "\n"
      ],
      "text/plain": [
       "[1] 437  28"
      ]
     },
     "metadata": {},
     "output_type": "display_data"
    },
    {
     "name": "stdout",
     "output_type": "stream",
     "text": [
      "'data.frame':\t437 obs. of  28 variables:\n",
      " $ PID                 : int  561 562 563 564 565 566 567 568 569 570 ...\n",
      " $ county              : chr  \"ADAMS\" \"ALEXANDER\" \"BOND\" \"BOONE\" ...\n",
      " $ state               : chr  \"IL\" \"IL\" \"IL\" \"IL\" ...\n",
      " $ area                : num  0.052 0.014 0.022 0.017 0.018 0.05 0.017 0.027 0.024 0.058 ...\n",
      " $ poptotal            : int  66090 10626 14991 30806 5836 35688 5322 16805 13437 173025 ...\n",
      " $ popdensity          : num  1271 759 681 1812 324 ...\n",
      " $ popwhite            : int  63917 7054 14477 29344 5264 35157 5298 16519 13384 146506 ...\n",
      " $ popblack            : int  1702 3496 429 127 547 50 1 111 16 16559 ...\n",
      " $ popamerindian       : int  98 19 35 46 14 65 8 30 8 331 ...\n",
      " $ popasian            : int  249 48 16 150 5 195 15 61 23 8033 ...\n",
      " $ popother            : int  124 9 34 1139 6 221 0 84 6 1596 ...\n",
      " $ percwhite           : num  96.7 66.4 96.6 95.3 90.2 ...\n",
      " $ percblack           : num  2.575 32.9 2.862 0.412 9.373 ...\n",
      " $ percamerindan       : num  0.148 0.179 0.233 0.149 0.24 ...\n",
      " $ percasian           : num  0.3768 0.4517 0.1067 0.4869 0.0857 ...\n",
      " $ percother           : num  0.1876 0.0847 0.2268 3.6973 0.1028 ...\n",
      " $ popadults           : int  43298 6724 9669 19272 3979 23444 3583 11323 8825 95971 ...\n",
      " $ perchsd             : num  75.1 59.7 69.3 75.5 68.9 ...\n",
      " $ percollege          : num  19.6 11.2 17 17.3 14.5 ...\n",
      " $ percprof            : num  4.36 2.87 4.49 4.2 3.37 ...\n",
      " $ poppovertyknown     : int  63628 10529 14235 30337 4815 35107 5241 16455 13081 154934 ...\n",
      " $ percpovertyknown    : num  96.3 99.1 95 98.5 82.5 ...\n",
      " $ percbelowpoverty    : num  13.15 32.24 12.07 7.21 13.52 ...\n",
      " $ percchildbelowpovert: num  18 45.8 14 11.2 13 ...\n",
      " $ percadultpoverty    : num  11.01 27.39 10.85 5.54 11.14 ...\n",
      " $ percelderlypoverty  : num  12.44 25.23 12.7 6.22 19.2 ...\n",
      " $ inmetro             : int  0 0 0 1 0 0 0 0 0 1 ...\n",
      " $ category            : chr  \"AAR\" \"LHR\" \"AAR\" \"ALU\" ...\n"
     ]
    },
    {
     "data": {
      "text/plain": [
       "      PID          county             state                area        \n",
       " Min.   : 561   Length:437         Length:437         Min.   :0.00500  \n",
       " 1st Qu.: 670   Class :character   Class :character   1st Qu.:0.02400  \n",
       " Median :1221   Mode  :character   Mode  :character   Median :0.03000  \n",
       " Mean   :1437                                         Mean   :0.03317  \n",
       " 3rd Qu.:2059                                         3rd Qu.:0.03800  \n",
       " Max.   :3052                                         Max.   :0.11000  \n",
       "    poptotal         popdensity          popwhite          popblack      \n",
       " Min.   :   1701   Min.   :   85.05   Min.   :    416   Min.   :      0  \n",
       " 1st Qu.:  18840   1st Qu.:  622.41   1st Qu.:  18630   1st Qu.:     29  \n",
       " Median :  35324   Median : 1156.21   Median :  34471   Median :    201  \n",
       " Mean   :  96130   Mean   : 3097.74   Mean   :  81840   Mean   :  11024  \n",
       " 3rd Qu.:  75651   3rd Qu.: 2330.00   3rd Qu.:  72968   3rd Qu.:   1291  \n",
       " Max.   :5105067   Max.   :88018.40   Max.   :3204947   Max.   :1317147  \n",
       " popamerindian        popasian         popother        percwhite    \n",
       " Min.   :    4.0   Min.   :     0   Min.   :     0   Min.   :10.69  \n",
       " 1st Qu.:   44.0   1st Qu.:    35   1st Qu.:    20   1st Qu.:94.89  \n",
       " Median :   94.0   Median :   102   Median :    66   Median :98.03  \n",
       " Mean   :  343.1   Mean   :  1310   Mean   :  1613   Mean   :95.56  \n",
       " 3rd Qu.:  288.0   3rd Qu.:   401   3rd Qu.:   345   3rd Qu.:99.07  \n",
       " Max.   :10289.0   Max.   :188565   Max.   :384119   Max.   :99.82  \n",
       "   percblack       percamerindan        percasian        percother      \n",
       " Min.   : 0.0000   Min.   : 0.05623   Min.   :0.0000   Min.   :0.00000  \n",
       " 1st Qu.: 0.1157   1st Qu.: 0.15793   1st Qu.:0.1737   1st Qu.:0.09102  \n",
       " Median : 0.5390   Median : 0.21502   Median :0.2972   Median :0.17844  \n",
       " Mean   : 2.6763   Mean   : 0.79894   Mean   :0.4872   Mean   :0.47906  \n",
       " 3rd Qu.: 2.6014   3rd Qu.: 0.38362   3rd Qu.:0.5212   3rd Qu.:0.48050  \n",
       " Max.   :40.2100   Max.   :89.17738   Max.   :5.0705   Max.   :7.52427  \n",
       "   popadults          perchsd        percollege        percprof      \n",
       " Min.   :   1287   Min.   :46.91   Min.   : 7.336   Min.   : 0.5203  \n",
       " 1st Qu.:  12271   1st Qu.:71.33   1st Qu.:14.114   1st Qu.: 2.9980  \n",
       " Median :  22188   Median :74.25   Median :16.798   Median : 3.8142  \n",
       " Mean   :  60973   Mean   :73.97   Mean   :18.273   Mean   : 4.4473  \n",
       " 3rd Qu.:  47541   3rd Qu.:77.20   3rd Qu.:20.550   3rd Qu.: 4.9493  \n",
       " Max.   :3291995   Max.   :88.90   Max.   :48.079   Max.   :20.7913  \n",
       " poppovertyknown   percpovertyknown percbelowpoverty percchildbelowpovert\n",
       " Min.   :   1696   Min.   :80.90    Min.   : 2.180   Min.   : 1.919      \n",
       " 1st Qu.:  18364   1st Qu.:96.89    1st Qu.: 9.199   1st Qu.:11.624      \n",
       " Median :  33788   Median :98.17    Median :11.822   Median :15.270      \n",
       " Mean   :  93642   Mean   :97.11    Mean   :12.511   Mean   :16.447      \n",
       " 3rd Qu.:  72840   3rd Qu.:98.60    3rd Qu.:15.133   3rd Qu.:20.352      \n",
       " Max.   :5023523   Max.   :99.86    Max.   :48.691   Max.   :64.308      \n",
       " percadultpoverty percelderlypoverty    inmetro         category        \n",
       " Min.   : 1.938   Min.   : 3.547     Min.   :0.0000   Length:437        \n",
       " 1st Qu.: 7.668   1st Qu.: 8.912     1st Qu.:0.0000   Class :character  \n",
       " Median :10.008   Median :10.869     Median :0.0000   Mode  :character  \n",
       " Mean   :10.919   Mean   :11.389     Mean   :0.3432                     \n",
       " 3rd Qu.:13.182   3rd Qu.:13.412     3rd Qu.:1.0000                     \n",
       " Max.   :43.312   Max.   :31.162     Max.   :1.0000                     "
      ]
     },
     "metadata": {},
     "output_type": "display_data"
    }
   ],
   "source": [
    "midwest <- as.data.frame(ggplot2::midwest)\n",
    "head(midwest)\n",
    "tail(midwest)\n",
    "# View(midwest)\n",
    "dim(midwest)\n",
    "str(midwest)\n",
    "summary(midwest)"
   ]
  },
  {
   "cell_type": "markdown",
   "metadata": {},
   "source": [
    "문제2. poptotal(전체 인구)을 total로, popasian(아시아 인구)을 asian으로 변수명을 수정하세요."
   ]
  },
  {
   "cell_type": "code",
   "execution_count": 34,
   "metadata": {},
   "outputs": [],
   "source": [
    "library(dplyr)\n",
    "midwest <- rename(midwest, total = poptotal)\n",
    "midwest <- rename(midwest, asian = popasian)"
   ]
  },
  {
   "cell_type": "code",
   "execution_count": 35,
   "metadata": {},
   "outputs": [
    {
     "data": {
      "text/html": [
       "<table>\n",
       "<thead><tr><th scope=col>PID</th><th scope=col>county</th><th scope=col>state</th><th scope=col>area</th><th scope=col>total</th><th scope=col>popdensity</th><th scope=col>popwhite</th><th scope=col>popblack</th><th scope=col>popamerindian</th><th scope=col>asian</th><th scope=col>...</th><th scope=col>percollege</th><th scope=col>percprof</th><th scope=col>poppovertyknown</th><th scope=col>percpovertyknown</th><th scope=col>percbelowpoverty</th><th scope=col>percchildbelowpovert</th><th scope=col>percadultpoverty</th><th scope=col>percelderlypoverty</th><th scope=col>inmetro</th><th scope=col>category</th></tr></thead>\n",
       "<tbody>\n",
       "\t<tr><td>561      </td><td>ADAMS    </td><td>IL       </td><td>0.052    </td><td>66090    </td><td>1270.9615</td><td>63917    </td><td>1702     </td><td>98       </td><td>249      </td><td>...      </td><td>19.63139 </td><td>4.355859 </td><td>63628    </td><td>96.27478 </td><td>13.151443</td><td>18.01172 </td><td>11.009776</td><td>12.443812</td><td>0        </td><td>AAR      </td></tr>\n",
       "\t<tr><td>562      </td><td>ALEXANDER</td><td>IL       </td><td>0.014    </td><td>10626    </td><td> 759.0000</td><td> 7054    </td><td>3496     </td><td>19       </td><td> 48      </td><td>...      </td><td>11.24331 </td><td>2.870315 </td><td>10529    </td><td>99.08714 </td><td>32.244278</td><td>45.82651 </td><td>27.385647</td><td>25.228976</td><td>0        </td><td>LHR      </td></tr>\n",
       "\t<tr><td>563      </td><td>BOND     </td><td>IL       </td><td>0.022    </td><td>14991    </td><td> 681.4091</td><td>14477    </td><td> 429     </td><td>35       </td><td> 16      </td><td>...      </td><td>17.03382 </td><td>4.488572 </td><td>14235    </td><td>94.95697 </td><td>12.068844</td><td>14.03606 </td><td>10.852090</td><td>12.697410</td><td>0        </td><td>AAR      </td></tr>\n",
       "\t<tr><td>564      </td><td>BOONE    </td><td>IL       </td><td>0.017    </td><td>30806    </td><td>1812.1176</td><td>29344    </td><td> 127     </td><td>46       </td><td>150      </td><td>...      </td><td>17.27895 </td><td>4.197800 </td><td>30337    </td><td>98.47757 </td><td> 7.209019</td><td>11.17954 </td><td> 5.536013</td><td> 6.217047</td><td>1        </td><td>ALU      </td></tr>\n",
       "\t<tr><td>565      </td><td>BROWN    </td><td>IL       </td><td>0.018    </td><td> 5836    </td><td> 324.2222</td><td> 5264    </td><td> 547     </td><td>14       </td><td>  5      </td><td>...      </td><td>14.47600 </td><td>3.367680 </td><td> 4815    </td><td>82.50514 </td><td>13.520249</td><td>13.02289 </td><td>11.143211</td><td>19.200000</td><td>0        </td><td>AAR      </td></tr>\n",
       "\t<tr><td>566      </td><td>BUREAU   </td><td>IL       </td><td>0.050    </td><td>35688    </td><td> 713.7600</td><td>35157    </td><td>  50     </td><td>65       </td><td>195      </td><td>...      </td><td>18.90462 </td><td>3.275891 </td><td>35107    </td><td>98.37200 </td><td>10.399635</td><td>14.15882 </td><td> 8.179287</td><td>11.008586</td><td>0        </td><td>AAR      </td></tr>\n",
       "</tbody>\n",
       "</table>\n"
      ],
      "text/latex": [
       "\\begin{tabular}{r|llllllllllllllllllllllllllll}\n",
       " PID & county & state & area & total & popdensity & popwhite & popblack & popamerindian & asian & ... & percollege & percprof & poppovertyknown & percpovertyknown & percbelowpoverty & percchildbelowpovert & percadultpoverty & percelderlypoverty & inmetro & category\\\\\n",
       "\\hline\n",
       "\t 561       & ADAMS     & IL        & 0.052     & 66090     & 1270.9615 & 63917     & 1702      & 98        & 249       & ...       & 19.63139  & 4.355859  & 63628     & 96.27478  & 13.151443 & 18.01172  & 11.009776 & 12.443812 & 0         & AAR      \\\\\n",
       "\t 562       & ALEXANDER & IL        & 0.014     & 10626     &  759.0000 &  7054     & 3496      & 19        &  48       & ...       & 11.24331  & 2.870315  & 10529     & 99.08714  & 32.244278 & 45.82651  & 27.385647 & 25.228976 & 0         & LHR      \\\\\n",
       "\t 563       & BOND      & IL        & 0.022     & 14991     &  681.4091 & 14477     &  429      & 35        &  16       & ...       & 17.03382  & 4.488572  & 14235     & 94.95697  & 12.068844 & 14.03606  & 10.852090 & 12.697410 & 0         & AAR      \\\\\n",
       "\t 564       & BOONE     & IL        & 0.017     & 30806     & 1812.1176 & 29344     &  127      & 46        & 150       & ...       & 17.27895  & 4.197800  & 30337     & 98.47757  &  7.209019 & 11.17954  &  5.536013 &  6.217047 & 1         & ALU      \\\\\n",
       "\t 565       & BROWN     & IL        & 0.018     &  5836     &  324.2222 &  5264     &  547      & 14        &   5       & ...       & 14.47600  & 3.367680  &  4815     & 82.50514  & 13.520249 & 13.02289  & 11.143211 & 19.200000 & 0         & AAR      \\\\\n",
       "\t 566       & BUREAU    & IL        & 0.050     & 35688     &  713.7600 & 35157     &   50      & 65        & 195       & ...       & 18.90462  & 3.275891  & 35107     & 98.37200  & 10.399635 & 14.15882  &  8.179287 & 11.008586 & 0         & AAR      \\\\\n",
       "\\end{tabular}\n"
      ],
      "text/markdown": [
       "\n",
       "| PID | county | state | area | total | popdensity | popwhite | popblack | popamerindian | asian | ... | percollege | percprof | poppovertyknown | percpovertyknown | percbelowpoverty | percchildbelowpovert | percadultpoverty | percelderlypoverty | inmetro | category |\n",
       "|---|---|---|---|---|---|---|---|---|---|---|---|---|---|---|---|---|---|---|---|---|\n",
       "| 561       | ADAMS     | IL        | 0.052     | 66090     | 1270.9615 | 63917     | 1702      | 98        | 249       | ...       | 19.63139  | 4.355859  | 63628     | 96.27478  | 13.151443 | 18.01172  | 11.009776 | 12.443812 | 0         | AAR       |\n",
       "| 562       | ALEXANDER | IL        | 0.014     | 10626     |  759.0000 |  7054     | 3496      | 19        |  48       | ...       | 11.24331  | 2.870315  | 10529     | 99.08714  | 32.244278 | 45.82651  | 27.385647 | 25.228976 | 0         | LHR       |\n",
       "| 563       | BOND      | IL        | 0.022     | 14991     |  681.4091 | 14477     |  429      | 35        |  16       | ...       | 17.03382  | 4.488572  | 14235     | 94.95697  | 12.068844 | 14.03606  | 10.852090 | 12.697410 | 0         | AAR       |\n",
       "| 564       | BOONE     | IL        | 0.017     | 30806     | 1812.1176 | 29344     |  127      | 46        | 150       | ...       | 17.27895  | 4.197800  | 30337     | 98.47757  |  7.209019 | 11.17954  |  5.536013 |  6.217047 | 1         | ALU       |\n",
       "| 565       | BROWN     | IL        | 0.018     |  5836     |  324.2222 |  5264     |  547      | 14        |   5       | ...       | 14.47600  | 3.367680  |  4815     | 82.50514  | 13.520249 | 13.02289  | 11.143211 | 19.200000 | 0         | AAR       |\n",
       "| 566       | BUREAU    | IL        | 0.050     | 35688     |  713.7600 | 35157     |   50      | 65        | 195       | ...       | 18.90462  | 3.275891  | 35107     | 98.37200  | 10.399635 | 14.15882  |  8.179287 | 11.008586 | 0         | AAR       |\n",
       "\n"
      ],
      "text/plain": [
       "  PID county    state area  total popdensity popwhite popblack popamerindian\n",
       "1 561 ADAMS     IL    0.052 66090 1270.9615  63917    1702     98           \n",
       "2 562 ALEXANDER IL    0.014 10626  759.0000   7054    3496     19           \n",
       "3 563 BOND      IL    0.022 14991  681.4091  14477     429     35           \n",
       "4 564 BOONE     IL    0.017 30806 1812.1176  29344     127     46           \n",
       "5 565 BROWN     IL    0.018  5836  324.2222   5264     547     14           \n",
       "6 566 BUREAU    IL    0.050 35688  713.7600  35157      50     65           \n",
       "  asian ... percollege percprof poppovertyknown percpovertyknown\n",
       "1 249   ... 19.63139   4.355859 63628           96.27478        \n",
       "2  48   ... 11.24331   2.870315 10529           99.08714        \n",
       "3  16   ... 17.03382   4.488572 14235           94.95697        \n",
       "4 150   ... 17.27895   4.197800 30337           98.47757        \n",
       "5   5   ... 14.47600   3.367680  4815           82.50514        \n",
       "6 195   ... 18.90462   3.275891 35107           98.37200        \n",
       "  percbelowpoverty percchildbelowpovert percadultpoverty percelderlypoverty\n",
       "1 13.151443        18.01172             11.009776        12.443812         \n",
       "2 32.244278        45.82651             27.385647        25.228976         \n",
       "3 12.068844        14.03606             10.852090        12.697410         \n",
       "4  7.209019        11.17954              5.536013         6.217047         \n",
       "5 13.520249        13.02289             11.143211        19.200000         \n",
       "6 10.399635        14.15882              8.179287        11.008586         \n",
       "  inmetro category\n",
       "1 0       AAR     \n",
       "2 0       LHR     \n",
       "3 0       AAR     \n",
       "4 1       ALU     \n",
       "5 0       AAR     \n",
       "6 0       AAR     "
      ]
     },
     "metadata": {},
     "output_type": "display_data"
    }
   ],
   "source": [
    "head(midwest)"
   ]
  },
  {
   "cell_type": "markdown",
   "metadata": {},
   "source": [
    "문제3. total, asian 변수를 이용해 '전체 인구 대비 아시아 인구 백분율' 파생변수를 만들고, 히스토그램을\n",
    "만들어 도시들이 어떻게 분포하는지 살펴보세요."
   ]
  },
  {
   "cell_type": "code",
   "execution_count": 37,
   "metadata": {},
   "outputs": [
    {
     "data": {
      "image/png": "[encoded data removed]",
      "text/plain": [
       "Plot with title \"Histogram of midwest$ratio\""
      ]
     },
     "metadata": {},
     "output_type": "display_data"
    }
   ],
   "source": [
    "midwest$ratio <- midwest$asian/midwest$total*100\n",
    "hist(midwest$ratio)"
   ]
  },
  {
   "cell_type": "markdown",
   "metadata": {},
   "source": [
    "문제4. 아시아 인구 백분율 전체 평균을 구하고, 평균을 초과하면 \"large\", 그 외에는 \"small\"을 부여하는\n",
    "파생변수를 만들어 보세요"
   ]
  },
  {
   "cell_type": "code",
   "execution_count": 38,
   "metadata": {},
   "outputs": [
    {
     "data": {
      "text/html": [
       "0.487246183435734"
      ],
      "text/latex": [
       "0.487246183435734"
      ],
      "text/markdown": [
       "0.487246183435734"
      ],
      "text/plain": [
       "[1] 0.4872462"
      ]
     },
     "metadata": {},
     "output_type": "display_data"
    }
   ],
   "source": [
    "mean(midwest$ratio)"
   ]
  },
  {
   "cell_type": "code",
   "execution_count": 39,
   "metadata": {},
   "outputs": [],
   "source": [
    "midwest$group <- ifelse(midwest$ratio > 0.4872462, \"large\", \"small\")"
   ]
  },
  {
   "cell_type": "markdown",
   "metadata": {},
   "source": [
    "문제5. \"large\"와 \"small\"에 해당하는 지역이 얼마나 되는지, 빈도표와 빈도 막대 그래프를 만들어 확인해\n",
    "보세요."
   ]
  },
  {
   "cell_type": "code",
   "execution_count": 40,
   "metadata": {},
   "outputs": [
    {
     "data": {
      "text/plain": [
       "\n",
       "large small \n",
       "  119   318 "
      ]
     },
     "metadata": {},
     "output_type": "display_data"
    }
   ],
   "source": [
    "table(midwest$group)"
   ]
  },
  {
   "cell_type": "code",
   "execution_count": 41,
   "metadata": {},
   "outputs": [
    {
     "data": {
      "image/png": "[encoded data removed]",
      "text/plain": [
       "plot without title"
      ]
     },
     "metadata": {},
     "output_type": "display_data"
    }
   ],
   "source": [
    "library(ggplot2)\n",
    "qplot(midwest$group)"
   ]
  },
  {
   "cell_type": "code",
   "execution_count": null,
   "metadata": {},
   "outputs": [],
   "source": []
  }
 ],
 "metadata": {
  "kernelspec": {
   "display_name": "R",
   "language": "R",
   "name": "ir"
  },
  "language_info": {
   "codemirror_mode": "r",
   "file_extension": ".r",
   "mimetype": "text/x-r-source",
   "name": "R",
   "pygments_lexer": "r",
   "version": "3.6.1"
  }
 },
 "nbformat": 4,
 "nbformat_minor": 4
}
