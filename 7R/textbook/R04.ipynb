{
 "cells": [
  {
   "cell_type": "code",
   "execution_count": 1,
   "metadata": {},
   "outputs": [],
   "source": [
    "english <- c(90, 80, 60, 70) # 영어 점수 변수 생성"
   ]
  },
  {
   "cell_type": "code",
   "execution_count": 2,
   "metadata": {},
   "outputs": [],
   "source": [
    "math <- c(50, 60, 100, 20) # 수학 점수 변수 생성"
   ]
  },
  {
   "cell_type": "code",
   "execution_count": 3,
   "metadata": {},
   "outputs": [
    {
     "data": {
      "text/html": [
       "<table>\n",
       "<thead><tr><th scope=col>english</th><th scope=col>math</th></tr></thead>\n",
       "<tbody>\n",
       "\t<tr><td>90 </td><td> 50</td></tr>\n",
       "\t<tr><td>80 </td><td> 60</td></tr>\n",
       "\t<tr><td>60 </td><td>100</td></tr>\n",
       "\t<tr><td>70 </td><td> 20</td></tr>\n",
       "</tbody>\n",
       "</table>\n"
      ],
      "text/latex": [
       "\\begin{tabular}{r|ll}\n",
       " english & math\\\\\n",
       "\\hline\n",
       "\t 90  &  50\\\\\n",
       "\t 80  &  60\\\\\n",
       "\t 60  & 100\\\\\n",
       "\t 70  &  20\\\\\n",
       "\\end{tabular}\n"
      ],
      "text/markdown": [
       "\n",
       "| english | math |\n",
       "|---|---|\n",
       "| 90  |  50 |\n",
       "| 80  |  60 |\n",
       "| 60  | 100 |\n",
       "| 70  |  20 |\n",
       "\n"
      ],
      "text/plain": [
       "  english math\n",
       "1 90       50 \n",
       "2 80       60 \n",
       "3 60      100 \n",
       "4 70       20 "
      ]
     },
     "metadata": {},
     "output_type": "display_data"
    }
   ],
   "source": [
    "# english, math 로 데이터 프레임 생성해서 df_midterm 에 할당\n",
    "df_midterm <- data.frame(english, math)\n",
    "df_midterm"
   ]
  },
  {
   "cell_type": "code",
   "execution_count": 11,
   "metadata": {},
   "outputs": [],
   "source": [
    "class <- c(1, 1, 2, 2)"
   ]
  },
  {
   "cell_type": "code",
   "execution_count": 12,
   "metadata": {},
   "outputs": [
    {
     "data": {
      "text/html": [
       "<table>\n",
       "<thead><tr><th scope=col>english</th><th scope=col>math</th><th scope=col>class</th></tr></thead>\n",
       "<tbody>\n",
       "\t<tr><td>90 </td><td> 50</td><td>1  </td></tr>\n",
       "\t<tr><td>80 </td><td> 60</td><td>1  </td></tr>\n",
       "\t<tr><td>60 </td><td>100</td><td>2  </td></tr>\n",
       "\t<tr><td>70 </td><td> 20</td><td>2  </td></tr>\n",
       "</tbody>\n",
       "</table>\n"
      ],
      "text/latex": [
       "\\begin{tabular}{r|lll}\n",
       " english & math & class\\\\\n",
       "\\hline\n",
       "\t 90  &  50 & 1  \\\\\n",
       "\t 80  &  60 & 1  \\\\\n",
       "\t 60  & 100 & 2  \\\\\n",
       "\t 70  &  20 & 2  \\\\\n",
       "\\end{tabular}\n"
      ],
      "text/markdown": [
       "\n",
       "| english | math | class |\n",
       "|---|---|---|\n",
       "| 90  |  50 | 1   |\n",
       "| 80  |  60 | 1   |\n",
       "| 60  | 100 | 2   |\n",
       "| 70  |  20 | 2   |\n",
       "\n"
      ],
      "text/plain": [
       "  english math class\n",
       "1 90       50  1    \n",
       "2 80       60  1    \n",
       "3 60      100  2    \n",
       "4 70       20  2    "
      ]
     },
     "metadata": {},
     "output_type": "display_data"
    }
   ],
   "source": [
    "df_midterm <- data.frame(english, math, class)\n",
    "df_midterm"
   ]
  },
  {
   "cell_type": "code",
   "execution_count": 13,
   "metadata": {},
   "outputs": [
    {
     "data": {
      "text/html": [
       "<table>\n",
       "<thead><tr><th scope=col>english</th><th scope=col>math</th><th scope=col>class</th></tr></thead>\n",
       "<tbody>\n",
       "\t<tr><td>90 </td><td> 50</td><td>1  </td></tr>\n",
       "\t<tr><td>80 </td><td> 60</td><td>1  </td></tr>\n",
       "\t<tr><td>60 </td><td>100</td><td>2  </td></tr>\n",
       "\t<tr><td>70 </td><td> 20</td><td>2  </td></tr>\n",
       "</tbody>\n",
       "</table>\n"
      ],
      "text/latex": [
       "\\begin{tabular}{r|lll}\n",
       " english & math & class\\\\\n",
       "\\hline\n",
       "\t 90  &  50 & 1  \\\\\n",
       "\t 80  &  60 & 1  \\\\\n",
       "\t 60  & 100 & 2  \\\\\n",
       "\t 70  &  20 & 2  \\\\\n",
       "\\end{tabular}\n"
      ],
      "text/markdown": [
       "\n",
       "| english | math | class |\n",
       "|---|---|---|\n",
       "| 90  |  50 | 1   |\n",
       "| 80  |  60 | 1   |\n",
       "| 60  | 100 | 2   |\n",
       "| 70  |  20 | 2   |\n",
       "\n"
      ],
      "text/plain": [
       "  english math class\n",
       "1 90       50  1    \n",
       "2 80       60  1    \n",
       "3 60      100  2    \n",
       "4 70       20  2    "
      ]
     },
     "metadata": {},
     "output_type": "display_data"
    }
   ],
   "source": [
    "df_midterm <- data.frame(english = c(90, 80, 60, 70),\n",
    " math = c(50, 60, 100, 20),\n",
    " class = c(1, 1, 2, 2))\n",
    "df_midterm\n"
   ]
  },
  {
   "cell_type": "markdown",
   "metadata": {},
   "source": [
    "## Q1. data.frame()과 c()를 조합해서 표의 내용을 데이터 프레임으로 만들어 출력해보세요."
   ]
  },
  {
   "cell_type": "code",
   "execution_count": 14,
   "metadata": {},
   "outputs": [],
   "source": [
    "# 데이터 프레임 만들기\n",
    "sales <- data.frame(fruit = c(\"사과\", \"딸기\", \"수박\"),\n",
    " price = c(1800, 1500, 3000),\n",
    " volume = c(24, 38, 13))"
   ]
  },
  {
   "cell_type": "code",
   "execution_count": 15,
   "metadata": {},
   "outputs": [
    {
     "data": {
      "text/html": [
       "<table>\n",
       "<thead><tr><th scope=col>fruit</th><th scope=col>price</th><th scope=col>volume</th></tr></thead>\n",
       "<tbody>\n",
       "\t<tr><td>사과</td><td>1800</td><td>24  </td></tr>\n",
       "\t<tr><td>딸기</td><td>1500</td><td>38  </td></tr>\n",
       "\t<tr><td>수박</td><td>3000</td><td>13  </td></tr>\n",
       "</tbody>\n",
       "</table>\n"
      ],
      "text/latex": [
       "\\begin{tabular}{r|lll}\n",
       " fruit & price & volume\\\\\n",
       "\\hline\n",
       "\t 사과 & 1800 & 24  \\\\\n",
       "\t 딸기 & 1500 & 38  \\\\\n",
       "\t 수박 & 3000 & 13  \\\\\n",
       "\\end{tabular}\n"
      ],
      "text/markdown": [
       "\n",
       "| fruit | price | volume |\n",
       "|---|---|---|\n",
       "| 사과 | 1800 | 24   |\n",
       "| 딸기 | 1500 | 38   |\n",
       "| 수박 | 3000 | 13   |\n",
       "\n"
      ],
      "text/plain": [
       "  fruit price volume\n",
       "1 사과  1800  24    \n",
       "2 딸기  1500  38    \n",
       "3 수박  3000  13    "
      ]
     },
     "metadata": {},
     "output_type": "display_data"
    }
   ],
   "source": [
    "# 데이터 프레임 출력하기\n",
    "sales"
   ]
  },
  {
   "cell_type": "markdown",
   "metadata": {},
   "source": [
    "## Q2. 앞에서 만든 데이터 프레임을 이용해서 과일 가격 평균, 판매량 평균을 구해보세요."
   ]
  },
  {
   "cell_type": "code",
   "execution_count": 16,
   "metadata": {},
   "outputs": [
    {
     "data": {
      "text/html": [
       "2100"
      ],
      "text/latex": [
       "2100"
      ],
      "text/markdown": [
       "2100"
      ],
      "text/plain": [
       "[1] 2100"
      ]
     },
     "metadata": {},
     "output_type": "display_data"
    }
   ],
   "source": [
    "mean(sales$price) # 가격 평균"
   ]
  },
  {
   "cell_type": "code",
   "execution_count": 17,
   "metadata": {},
   "outputs": [
    {
     "data": {
      "text/html": [
       "25"
      ],
      "text/latex": [
       "25"
      ],
      "text/markdown": [
       "25"
      ],
      "text/plain": [
       "[1] 25"
      ]
     },
     "metadata": {},
     "output_type": "display_data"
    }
   ],
   "source": [
    "mean(sales$volume) # 판매량 평균"
   ]
  },
  {
   "cell_type": "code",
   "execution_count": null,
   "metadata": {},
   "outputs": [],
   "source": [
    "# readxl 패키지 설치\n",
    "install.packages(\"readxl\")"
   ]
  },
  {
   "cell_type": "code",
   "execution_count": 20,
   "metadata": {},
   "outputs": [],
   "source": [
    "# readxl 패키지 로드\n",
    "library(readxl)"
   ]
  },
  {
   "cell_type": "code",
   "execution_count": 21,
   "metadata": {},
   "outputs": [
    {
     "data": {
      "text/html": [
       "<table>\n",
       "<thead><tr><th scope=col>id</th><th scope=col>class</th><th scope=col>math</th><th scope=col>english</th><th scope=col>science</th></tr></thead>\n",
       "<tbody>\n",
       "\t<tr><td> 1</td><td>1 </td><td>50</td><td>98</td><td>50</td></tr>\n",
       "\t<tr><td> 2</td><td>1 </td><td>60</td><td>97</td><td>60</td></tr>\n",
       "\t<tr><td> 3</td><td>1 </td><td>45</td><td>86</td><td>78</td></tr>\n",
       "\t<tr><td> 4</td><td>1 </td><td>30</td><td>98</td><td>58</td></tr>\n",
       "\t<tr><td> 5</td><td>2 </td><td>25</td><td>80</td><td>65</td></tr>\n",
       "\t<tr><td> 6</td><td>2 </td><td>50</td><td>89</td><td>98</td></tr>\n",
       "\t<tr><td> 7</td><td>2 </td><td>80</td><td>90</td><td>45</td></tr>\n",
       "\t<tr><td> 8</td><td>2 </td><td>90</td><td>78</td><td>25</td></tr>\n",
       "\t<tr><td> 9</td><td>3 </td><td>20</td><td>98</td><td>15</td></tr>\n",
       "\t<tr><td>10</td><td>3 </td><td>50</td><td>98</td><td>45</td></tr>\n",
       "\t<tr><td>11</td><td>3 </td><td>65</td><td>65</td><td>65</td></tr>\n",
       "\t<tr><td>12</td><td>3 </td><td>45</td><td>85</td><td>32</td></tr>\n",
       "\t<tr><td>13</td><td>4 </td><td>46</td><td>98</td><td>65</td></tr>\n",
       "\t<tr><td>14</td><td>4 </td><td>48</td><td>87</td><td>12</td></tr>\n",
       "\t<tr><td>15</td><td>4 </td><td>75</td><td>56</td><td>78</td></tr>\n",
       "\t<tr><td>16</td><td>4 </td><td>58</td><td>98</td><td>65</td></tr>\n",
       "\t<tr><td>17</td><td>5 </td><td>65</td><td>68</td><td>98</td></tr>\n",
       "\t<tr><td>18</td><td>5 </td><td>80</td><td>78</td><td>90</td></tr>\n",
       "\t<tr><td>19</td><td>5 </td><td>89</td><td>68</td><td>87</td></tr>\n",
       "\t<tr><td>20</td><td>5 </td><td>78</td><td>83</td><td>58</td></tr>\n",
       "</tbody>\n",
       "</table>\n"
      ],
      "text/latex": [
       "\\begin{tabular}{r|lllll}\n",
       " id & class & math & english & science\\\\\n",
       "\\hline\n",
       "\t  1 & 1  & 50 & 98 & 50\\\\\n",
       "\t  2 & 1  & 60 & 97 & 60\\\\\n",
       "\t  3 & 1  & 45 & 86 & 78\\\\\n",
       "\t  4 & 1  & 30 & 98 & 58\\\\\n",
       "\t  5 & 2  & 25 & 80 & 65\\\\\n",
       "\t  6 & 2  & 50 & 89 & 98\\\\\n",
       "\t  7 & 2  & 80 & 90 & 45\\\\\n",
       "\t  8 & 2  & 90 & 78 & 25\\\\\n",
       "\t  9 & 3  & 20 & 98 & 15\\\\\n",
       "\t 10 & 3  & 50 & 98 & 45\\\\\n",
       "\t 11 & 3  & 65 & 65 & 65\\\\\n",
       "\t 12 & 3  & 45 & 85 & 32\\\\\n",
       "\t 13 & 4  & 46 & 98 & 65\\\\\n",
       "\t 14 & 4  & 48 & 87 & 12\\\\\n",
       "\t 15 & 4  & 75 & 56 & 78\\\\\n",
       "\t 16 & 4  & 58 & 98 & 65\\\\\n",
       "\t 17 & 5  & 65 & 68 & 98\\\\\n",
       "\t 18 & 5  & 80 & 78 & 90\\\\\n",
       "\t 19 & 5  & 89 & 68 & 87\\\\\n",
       "\t 20 & 5  & 78 & 83 & 58\\\\\n",
       "\\end{tabular}\n"
      ],
      "text/markdown": [
       "\n",
       "| id | class | math | english | science |\n",
       "|---|---|---|---|---|\n",
       "|  1 | 1  | 50 | 98 | 50 |\n",
       "|  2 | 1  | 60 | 97 | 60 |\n",
       "|  3 | 1  | 45 | 86 | 78 |\n",
       "|  4 | 1  | 30 | 98 | 58 |\n",
       "|  5 | 2  | 25 | 80 | 65 |\n",
       "|  6 | 2  | 50 | 89 | 98 |\n",
       "|  7 | 2  | 80 | 90 | 45 |\n",
       "|  8 | 2  | 90 | 78 | 25 |\n",
       "|  9 | 3  | 20 | 98 | 15 |\n",
       "| 10 | 3  | 50 | 98 | 45 |\n",
       "| 11 | 3  | 65 | 65 | 65 |\n",
       "| 12 | 3  | 45 | 85 | 32 |\n",
       "| 13 | 4  | 46 | 98 | 65 |\n",
       "| 14 | 4  | 48 | 87 | 12 |\n",
       "| 15 | 4  | 75 | 56 | 78 |\n",
       "| 16 | 4  | 58 | 98 | 65 |\n",
       "| 17 | 5  | 65 | 68 | 98 |\n",
       "| 18 | 5  | 80 | 78 | 90 |\n",
       "| 19 | 5  | 89 | 68 | 87 |\n",
       "| 20 | 5  | 78 | 83 | 58 |\n",
       "\n"
      ],
      "text/plain": [
       "   id class math english science\n",
       "1   1 1     50   98      50     \n",
       "2   2 1     60   97      60     \n",
       "3   3 1     45   86      78     \n",
       "4   4 1     30   98      58     \n",
       "5   5 2     25   80      65     \n",
       "6   6 2     50   89      98     \n",
       "7   7 2     80   90      45     \n",
       "8   8 2     90   78      25     \n",
       "9   9 3     20   98      15     \n",
       "10 10 3     50   98      45     \n",
       "11 11 3     65   65      65     \n",
       "12 12 3     45   85      32     \n",
       "13 13 4     46   98      65     \n",
       "14 14 4     48   87      12     \n",
       "15 15 4     75   56      78     \n",
       "16 16 4     58   98      65     \n",
       "17 17 5     65   68      98     \n",
       "18 18 5     80   78      90     \n",
       "19 19 5     89   68      87     \n",
       "20 20 5     78   83      58     "
      ]
     },
     "metadata": {},
     "output_type": "display_data"
    }
   ],
   "source": [
    "df_exam <- read_excel(\"./Data/excel_exam.xlsx\") # 엑셀 파일을 불러와서 df_exam 에 할당\n",
    "df_exam"
   ]
  },
  {
   "cell_type": "code",
   "execution_count": 22,
   "metadata": {},
   "outputs": [
    {
     "data": {
      "text/html": [
       "84.9"
      ],
      "text/latex": [
       "84.9"
      ],
      "text/markdown": [
       "84.9"
      ],
      "text/plain": [
       "[1] 84.9"
      ]
     },
     "metadata": {},
     "output_type": "display_data"
    }
   ],
   "source": [
    "mean(df_exam$english)"
   ]
  },
  {
   "cell_type": "markdown",
   "metadata": {},
   "source": [
    "## 엑셀 파일 첫 번째 행이 변수명이 아니라면?"
   ]
  },
  {
   "cell_type": "code",
   "execution_count": 23,
   "metadata": {},
   "outputs": [
    {
     "name": "stderr",
     "output_type": "stream",
     "text": [
      "New names:\n",
      "* `` -> ...1\n",
      "* `` -> ...2\n",
      "* `` -> ...3\n",
      "* `` -> ...4\n",
      "* `` -> ...5\n"
     ]
    },
    {
     "data": {
      "text/html": [
       "<table>\n",
       "<thead><tr><th scope=col>...1</th><th scope=col>...2</th><th scope=col>...3</th><th scope=col>...4</th><th scope=col>...5</th></tr></thead>\n",
       "<tbody>\n",
       "\t<tr><td>1 </td><td>1 </td><td>50</td><td>98</td><td>50</td></tr>\n",
       "\t<tr><td>2 </td><td>1 </td><td>60</td><td>97</td><td>60</td></tr>\n",
       "\t<tr><td>3 </td><td>2 </td><td>25</td><td>80</td><td>65</td></tr>\n",
       "\t<tr><td>4 </td><td>2 </td><td>50</td><td>89</td><td>98</td></tr>\n",
       "\t<tr><td>5 </td><td>3 </td><td>20</td><td>98</td><td>15</td></tr>\n",
       "\t<tr><td>6 </td><td>3 </td><td>50</td><td>98</td><td>45</td></tr>\n",
       "\t<tr><td>7 </td><td>4 </td><td>46</td><td>98</td><td>65</td></tr>\n",
       "\t<tr><td>8 </td><td>4 </td><td>48</td><td>87</td><td>12</td></tr>\n",
       "</tbody>\n",
       "</table>\n"
      ],
      "text/latex": [
       "\\begin{tabular}{r|lllll}\n",
       " ...1 & ...2 & ...3 & ...4 & ...5\\\\\n",
       "\\hline\n",
       "\t 1  & 1  & 50 & 98 & 50\\\\\n",
       "\t 2  & 1  & 60 & 97 & 60\\\\\n",
       "\t 3  & 2  & 25 & 80 & 65\\\\\n",
       "\t 4  & 2  & 50 & 89 & 98\\\\\n",
       "\t 5  & 3  & 20 & 98 & 15\\\\\n",
       "\t 6  & 3  & 50 & 98 & 45\\\\\n",
       "\t 7  & 4  & 46 & 98 & 65\\\\\n",
       "\t 8  & 4  & 48 & 87 & 12\\\\\n",
       "\\end{tabular}\n"
      ],
      "text/markdown": [
       "\n",
       "| ...1 | ...2 | ...3 | ...4 | ...5 |\n",
       "|---|---|---|---|---|\n",
       "| 1  | 1  | 50 | 98 | 50 |\n",
       "| 2  | 1  | 60 | 97 | 60 |\n",
       "| 3  | 2  | 25 | 80 | 65 |\n",
       "| 4  | 2  | 50 | 89 | 98 |\n",
       "| 5  | 3  | 20 | 98 | 15 |\n",
       "| 6  | 3  | 50 | 98 | 45 |\n",
       "| 7  | 4  | 46 | 98 | 65 |\n",
       "| 8  | 4  | 48 | 87 | 12 |\n",
       "\n"
      ],
      "text/plain": [
       "  ...1 ...2 ...3 ...4 ...5\n",
       "1 1    1    50   98   50  \n",
       "2 2    1    60   97   60  \n",
       "3 3    2    25   80   65  \n",
       "4 4    2    50   89   98  \n",
       "5 5    3    20   98   15  \n",
       "6 6    3    50   98   45  \n",
       "7 7    4    46   98   65  \n",
       "8 8    4    48   87   12  "
      ]
     },
     "metadata": {},
     "output_type": "display_data"
    }
   ],
   "source": [
    "df_exam_novar <- read_excel(\"./Data/excel_exam_novar.xlsx\", col_names = F)\n",
    "df_exam_novar"
   ]
  },
  {
   "cell_type": "code",
   "execution_count": null,
   "metadata": {},
   "outputs": [],
   "source": [
    "?read_excel"
   ]
  },
  {
   "cell_type": "markdown",
   "metadata": {},
   "source": [
    "## 엑셀 파일에 시트가 여러 개 있다면?"
   ]
  },
  {
   "cell_type": "code",
   "execution_count": 24,
   "metadata": {},
   "outputs": [
    {
     "data": {
      "text/html": [
       "<table>\n",
       "<thead><tr><th scope=col>id</th><th scope=col>class</th><th scope=col>math</th><th scope=col>english</th><th scope=col>science</th></tr></thead>\n",
       "<tbody>\n",
       "\t<tr><td>1 </td><td>1 </td><td>50</td><td>98</td><td>50</td></tr>\n",
       "\t<tr><td>2 </td><td>1 </td><td>60</td><td>97</td><td>60</td></tr>\n",
       "\t<tr><td>3 </td><td>2 </td><td>25</td><td>80</td><td>65</td></tr>\n",
       "\t<tr><td>4 </td><td>2 </td><td>50</td><td>89</td><td>98</td></tr>\n",
       "\t<tr><td>5 </td><td>3 </td><td>20</td><td>98</td><td>15</td></tr>\n",
       "\t<tr><td>6 </td><td>3 </td><td>50</td><td>98</td><td>45</td></tr>\n",
       "\t<tr><td>7 </td><td>4 </td><td>46</td><td>98</td><td>65</td></tr>\n",
       "\t<tr><td>8 </td><td>4 </td><td>48</td><td>87</td><td>12</td></tr>\n",
       "</tbody>\n",
       "</table>\n"
      ],
      "text/latex": [
       "\\begin{tabular}{r|lllll}\n",
       " id & class & math & english & science\\\\\n",
       "\\hline\n",
       "\t 1  & 1  & 50 & 98 & 50\\\\\n",
       "\t 2  & 1  & 60 & 97 & 60\\\\\n",
       "\t 3  & 2  & 25 & 80 & 65\\\\\n",
       "\t 4  & 2  & 50 & 89 & 98\\\\\n",
       "\t 5  & 3  & 20 & 98 & 15\\\\\n",
       "\t 6  & 3  & 50 & 98 & 45\\\\\n",
       "\t 7  & 4  & 46 & 98 & 65\\\\\n",
       "\t 8  & 4  & 48 & 87 & 12\\\\\n",
       "\\end{tabular}\n"
      ],
      "text/markdown": [
       "\n",
       "| id | class | math | english | science |\n",
       "|---|---|---|---|---|\n",
       "| 1  | 1  | 50 | 98 | 50 |\n",
       "| 2  | 1  | 60 | 97 | 60 |\n",
       "| 3  | 2  | 25 | 80 | 65 |\n",
       "| 4  | 2  | 50 | 89 | 98 |\n",
       "| 5  | 3  | 20 | 98 | 15 |\n",
       "| 6  | 3  | 50 | 98 | 45 |\n",
       "| 7  | 4  | 46 | 98 | 65 |\n",
       "| 8  | 4  | 48 | 87 | 12 |\n",
       "\n"
      ],
      "text/plain": [
       "  id class math english science\n",
       "1 1  1     50   98      50     \n",
       "2 2  1     60   97      60     \n",
       "3 3  2     25   80      65     \n",
       "4 4  2     50   89      98     \n",
       "5 5  3     20   98      15     \n",
       "6 6  3     50   98      45     \n",
       "7 7  4     46   98      65     \n",
       "8 8  4     48   87      12     "
      ]
     },
     "metadata": {},
     "output_type": "display_data"
    }
   ],
   "source": [
    "df_exam_sheet <- read_excel(\"./Data/excel_exam_sheet.xlsx\", sheet = 3)\n",
    "df_exam_sheet"
   ]
  },
  {
   "cell_type": "code",
   "execution_count": 25,
   "metadata": {},
   "outputs": [
    {
     "data": {
      "text/html": [
       "<table>\n",
       "<thead><tr><th scope=col>id</th><th scope=col>class</th><th scope=col>math</th><th scope=col>english</th><th scope=col>science</th></tr></thead>\n",
       "<tbody>\n",
       "\t<tr><td> 1</td><td>1 </td><td>50</td><td>98</td><td>50</td></tr>\n",
       "\t<tr><td> 2</td><td>1 </td><td>60</td><td>97</td><td>60</td></tr>\n",
       "\t<tr><td> 3</td><td>1 </td><td>45</td><td>86</td><td>78</td></tr>\n",
       "\t<tr><td> 4</td><td>1 </td><td>30</td><td>98</td><td>58</td></tr>\n",
       "\t<tr><td> 5</td><td>2 </td><td>25</td><td>80</td><td>65</td></tr>\n",
       "\t<tr><td> 6</td><td>2 </td><td>50</td><td>89</td><td>98</td></tr>\n",
       "\t<tr><td> 7</td><td>2 </td><td>80</td><td>90</td><td>45</td></tr>\n",
       "\t<tr><td> 8</td><td>2 </td><td>90</td><td>78</td><td>25</td></tr>\n",
       "\t<tr><td> 9</td><td>3 </td><td>20</td><td>98</td><td>15</td></tr>\n",
       "\t<tr><td>10</td><td>3 </td><td>50</td><td>98</td><td>45</td></tr>\n",
       "\t<tr><td>11</td><td>3 </td><td>65</td><td>65</td><td>65</td></tr>\n",
       "\t<tr><td>12</td><td>3 </td><td>45</td><td>85</td><td>32</td></tr>\n",
       "\t<tr><td>13</td><td>4 </td><td>46</td><td>98</td><td>65</td></tr>\n",
       "\t<tr><td>14</td><td>4 </td><td>48</td><td>87</td><td>12</td></tr>\n",
       "\t<tr><td>15</td><td>4 </td><td>75</td><td>56</td><td>78</td></tr>\n",
       "\t<tr><td>16</td><td>4 </td><td>58</td><td>98</td><td>65</td></tr>\n",
       "\t<tr><td>17</td><td>5 </td><td>65</td><td>68</td><td>98</td></tr>\n",
       "\t<tr><td>18</td><td>5 </td><td>80</td><td>78</td><td>90</td></tr>\n",
       "\t<tr><td>19</td><td>5 </td><td>89</td><td>68</td><td>87</td></tr>\n",
       "\t<tr><td>20</td><td>5 </td><td>78</td><td>83</td><td>58</td></tr>\n",
       "</tbody>\n",
       "</table>\n"
      ],
      "text/latex": [
       "\\begin{tabular}{r|lllll}\n",
       " id & class & math & english & science\\\\\n",
       "\\hline\n",
       "\t  1 & 1  & 50 & 98 & 50\\\\\n",
       "\t  2 & 1  & 60 & 97 & 60\\\\\n",
       "\t  3 & 1  & 45 & 86 & 78\\\\\n",
       "\t  4 & 1  & 30 & 98 & 58\\\\\n",
       "\t  5 & 2  & 25 & 80 & 65\\\\\n",
       "\t  6 & 2  & 50 & 89 & 98\\\\\n",
       "\t  7 & 2  & 80 & 90 & 45\\\\\n",
       "\t  8 & 2  & 90 & 78 & 25\\\\\n",
       "\t  9 & 3  & 20 & 98 & 15\\\\\n",
       "\t 10 & 3  & 50 & 98 & 45\\\\\n",
       "\t 11 & 3  & 65 & 65 & 65\\\\\n",
       "\t 12 & 3  & 45 & 85 & 32\\\\\n",
       "\t 13 & 4  & 46 & 98 & 65\\\\\n",
       "\t 14 & 4  & 48 & 87 & 12\\\\\n",
       "\t 15 & 4  & 75 & 56 & 78\\\\\n",
       "\t 16 & 4  & 58 & 98 & 65\\\\\n",
       "\t 17 & 5  & 65 & 68 & 98\\\\\n",
       "\t 18 & 5  & 80 & 78 & 90\\\\\n",
       "\t 19 & 5  & 89 & 68 & 87\\\\\n",
       "\t 20 & 5  & 78 & 83 & 58\\\\\n",
       "\\end{tabular}\n"
      ],
      "text/markdown": [
       "\n",
       "| id | class | math | english | science |\n",
       "|---|---|---|---|---|\n",
       "|  1 | 1  | 50 | 98 | 50 |\n",
       "|  2 | 1  | 60 | 97 | 60 |\n",
       "|  3 | 1  | 45 | 86 | 78 |\n",
       "|  4 | 1  | 30 | 98 | 58 |\n",
       "|  5 | 2  | 25 | 80 | 65 |\n",
       "|  6 | 2  | 50 | 89 | 98 |\n",
       "|  7 | 2  | 80 | 90 | 45 |\n",
       "|  8 | 2  | 90 | 78 | 25 |\n",
       "|  9 | 3  | 20 | 98 | 15 |\n",
       "| 10 | 3  | 50 | 98 | 45 |\n",
       "| 11 | 3  | 65 | 65 | 65 |\n",
       "| 12 | 3  | 45 | 85 | 32 |\n",
       "| 13 | 4  | 46 | 98 | 65 |\n",
       "| 14 | 4  | 48 | 87 | 12 |\n",
       "| 15 | 4  | 75 | 56 | 78 |\n",
       "| 16 | 4  | 58 | 98 | 65 |\n",
       "| 17 | 5  | 65 | 68 | 98 |\n",
       "| 18 | 5  | 80 | 78 | 90 |\n",
       "| 19 | 5  | 89 | 68 | 87 |\n",
       "| 20 | 5  | 78 | 83 | 58 |\n",
       "\n"
      ],
      "text/plain": [
       "   id class math english science\n",
       "1   1 1     50   98      50     \n",
       "2   2 1     60   97      60     \n",
       "3   3 1     45   86      78     \n",
       "4   4 1     30   98      58     \n",
       "5   5 2     25   80      65     \n",
       "6   6 2     50   89      98     \n",
       "7   7 2     80   90      45     \n",
       "8   8 2     90   78      25     \n",
       "9   9 3     20   98      15     \n",
       "10 10 3     50   98      45     \n",
       "11 11 3     65   65      65     \n",
       "12 12 3     45   85      32     \n",
       "13 13 4     46   98      65     \n",
       "14 14 4     48   87      12     \n",
       "15 15 4     75   56      78     \n",
       "16 16 4     58   98      65     \n",
       "17 17 5     65   68      98     \n",
       "18 18 5     80   78      90     \n",
       "19 19 5     89   68      87     \n",
       "20 20 5     78   83      58     "
      ]
     },
     "metadata": {},
     "output_type": "display_data"
    }
   ],
   "source": [
    "df_csv_exam <- read.csv(\"./Data/csv_exam.csv\")\n",
    "df_csv_exam\n"
   ]
  },
  {
   "cell_type": "markdown",
   "metadata": {},
   "source": [
    "문자가 들어 있는 파일을 불러올 때는 stringsAsFactors = F"
   ]
  },
  {
   "cell_type": "code",
   "execution_count": 26,
   "metadata": {},
   "outputs": [
    {
     "data": {
      "text/html": [
       "<table>\n",
       "<thead><tr><th scope=col>id</th><th scope=col>class</th><th scope=col>math</th><th scope=col>english</th><th scope=col>science</th></tr></thead>\n",
       "<tbody>\n",
       "\t<tr><td> 1</td><td>1 </td><td>50</td><td>98</td><td>50</td></tr>\n",
       "\t<tr><td> 2</td><td>1 </td><td>60</td><td>97</td><td>60</td></tr>\n",
       "\t<tr><td> 3</td><td>1 </td><td>45</td><td>86</td><td>78</td></tr>\n",
       "\t<tr><td> 4</td><td>1 </td><td>30</td><td>98</td><td>58</td></tr>\n",
       "\t<tr><td> 5</td><td>2 </td><td>25</td><td>80</td><td>65</td></tr>\n",
       "\t<tr><td> 6</td><td>2 </td><td>50</td><td>89</td><td>98</td></tr>\n",
       "\t<tr><td> 7</td><td>2 </td><td>80</td><td>90</td><td>45</td></tr>\n",
       "\t<tr><td> 8</td><td>2 </td><td>90</td><td>78</td><td>25</td></tr>\n",
       "\t<tr><td> 9</td><td>3 </td><td>20</td><td>98</td><td>15</td></tr>\n",
       "\t<tr><td>10</td><td>3 </td><td>50</td><td>98</td><td>45</td></tr>\n",
       "\t<tr><td>11</td><td>3 </td><td>65</td><td>65</td><td>65</td></tr>\n",
       "\t<tr><td>12</td><td>3 </td><td>45</td><td>85</td><td>32</td></tr>\n",
       "\t<tr><td>13</td><td>4 </td><td>46</td><td>98</td><td>65</td></tr>\n",
       "\t<tr><td>14</td><td>4 </td><td>48</td><td>87</td><td>12</td></tr>\n",
       "\t<tr><td>15</td><td>4 </td><td>75</td><td>56</td><td>78</td></tr>\n",
       "\t<tr><td>16</td><td>4 </td><td>58</td><td>98</td><td>65</td></tr>\n",
       "\t<tr><td>17</td><td>5 </td><td>65</td><td>68</td><td>98</td></tr>\n",
       "\t<tr><td>18</td><td>5 </td><td>80</td><td>78</td><td>90</td></tr>\n",
       "\t<tr><td>19</td><td>5 </td><td>89</td><td>68</td><td>87</td></tr>\n",
       "\t<tr><td>20</td><td>5 </td><td>78</td><td>83</td><td>58</td></tr>\n",
       "</tbody>\n",
       "</table>\n"
      ],
      "text/latex": [
       "\\begin{tabular}{r|lllll}\n",
       " id & class & math & english & science\\\\\n",
       "\\hline\n",
       "\t  1 & 1  & 50 & 98 & 50\\\\\n",
       "\t  2 & 1  & 60 & 97 & 60\\\\\n",
       "\t  3 & 1  & 45 & 86 & 78\\\\\n",
       "\t  4 & 1  & 30 & 98 & 58\\\\\n",
       "\t  5 & 2  & 25 & 80 & 65\\\\\n",
       "\t  6 & 2  & 50 & 89 & 98\\\\\n",
       "\t  7 & 2  & 80 & 90 & 45\\\\\n",
       "\t  8 & 2  & 90 & 78 & 25\\\\\n",
       "\t  9 & 3  & 20 & 98 & 15\\\\\n",
       "\t 10 & 3  & 50 & 98 & 45\\\\\n",
       "\t 11 & 3  & 65 & 65 & 65\\\\\n",
       "\t 12 & 3  & 45 & 85 & 32\\\\\n",
       "\t 13 & 4  & 46 & 98 & 65\\\\\n",
       "\t 14 & 4  & 48 & 87 & 12\\\\\n",
       "\t 15 & 4  & 75 & 56 & 78\\\\\n",
       "\t 16 & 4  & 58 & 98 & 65\\\\\n",
       "\t 17 & 5  & 65 & 68 & 98\\\\\n",
       "\t 18 & 5  & 80 & 78 & 90\\\\\n",
       "\t 19 & 5  & 89 & 68 & 87\\\\\n",
       "\t 20 & 5  & 78 & 83 & 58\\\\\n",
       "\\end{tabular}\n"
      ],
      "text/markdown": [
       "\n",
       "| id | class | math | english | science |\n",
       "|---|---|---|---|---|\n",
       "|  1 | 1  | 50 | 98 | 50 |\n",
       "|  2 | 1  | 60 | 97 | 60 |\n",
       "|  3 | 1  | 45 | 86 | 78 |\n",
       "|  4 | 1  | 30 | 98 | 58 |\n",
       "|  5 | 2  | 25 | 80 | 65 |\n",
       "|  6 | 2  | 50 | 89 | 98 |\n",
       "|  7 | 2  | 80 | 90 | 45 |\n",
       "|  8 | 2  | 90 | 78 | 25 |\n",
       "|  9 | 3  | 20 | 98 | 15 |\n",
       "| 10 | 3  | 50 | 98 | 45 |\n",
       "| 11 | 3  | 65 | 65 | 65 |\n",
       "| 12 | 3  | 45 | 85 | 32 |\n",
       "| 13 | 4  | 46 | 98 | 65 |\n",
       "| 14 | 4  | 48 | 87 | 12 |\n",
       "| 15 | 4  | 75 | 56 | 78 |\n",
       "| 16 | 4  | 58 | 98 | 65 |\n",
       "| 17 | 5  | 65 | 68 | 98 |\n",
       "| 18 | 5  | 80 | 78 | 90 |\n",
       "| 19 | 5  | 89 | 68 | 87 |\n",
       "| 20 | 5  | 78 | 83 | 58 |\n",
       "\n"
      ],
      "text/plain": [
       "   id class math english science\n",
       "1   1 1     50   98      50     \n",
       "2   2 1     60   97      60     \n",
       "3   3 1     45   86      78     \n",
       "4   4 1     30   98      58     \n",
       "5   5 2     25   80      65     \n",
       "6   6 2     50   89      98     \n",
       "7   7 2     80   90      45     \n",
       "8   8 2     90   78      25     \n",
       "9   9 3     20   98      15     \n",
       "10 10 3     50   98      45     \n",
       "11 11 3     65   65      65     \n",
       "12 12 3     45   85      32     \n",
       "13 13 4     46   98      65     \n",
       "14 14 4     48   87      12     \n",
       "15 15 4     75   56      78     \n",
       "16 16 4     58   98      65     \n",
       "17 17 5     65   68      98     \n",
       "18 18 5     80   78      90     \n",
       "19 19 5     89   68      87     \n",
       "20 20 5     78   83      58     "
      ]
     },
     "metadata": {},
     "output_type": "display_data"
    }
   ],
   "source": [
    "df_csv_exam <- read.csv(\"./Data/csv_exam.csv\", stringsAsFactors = F)\n",
    "df_csv_exam"
   ]
  },
  {
   "cell_type": "code",
   "execution_count": 28,
   "metadata": {},
   "outputs": [],
   "source": [
    "df_midterm <- data.frame(english = c(90, 80, 60, 70),\n",
    " math = c(50, 60, 100, 20),\n",
    " class = c(1, 1, 2, 2))\n",
    "write.csv(df_midterm, file = \"./Data/df_midterm.csv\")"
   ]
  },
  {
   "cell_type": "markdown",
   "metadata": {},
   "source": [
    "데이터 프레임을 RData 파일로 저장하기"
   ]
  },
  {
   "cell_type": "code",
   "execution_count": 29,
   "metadata": {},
   "outputs": [],
   "source": [
    "save(df_midterm, file = \"./Data/df_midterm.rda\")"
   ]
  },
  {
   "cell_type": "code",
   "execution_count": 30,
   "metadata": {},
   "outputs": [],
   "source": [
    "rm(df_midterm)"
   ]
  },
  {
   "cell_type": "code",
   "execution_count": 31,
   "metadata": {},
   "outputs": [
    {
     "ename": "ERROR",
     "evalue": "Error in eval(expr, envir, enclos): 객체 'df_midterm'를 찾을 수 없습니다\n",
     "output_type": "error",
     "traceback": [
      "Error in eval(expr, envir, enclos): 객체 'df_midterm'를 찾을 수 없습니다\nTraceback:\n"
     ]
    }
   ],
   "source": [
    "df_midterm"
   ]
  },
  {
   "cell_type": "code",
   "execution_count": 32,
   "metadata": {},
   "outputs": [],
   "source": [
    "load(\"./Data/df_midterm.rda\")"
   ]
  },
  {
   "cell_type": "code",
   "execution_count": 33,
   "metadata": {},
   "outputs": [
    {
     "data": {
      "text/html": [
       "<table>\n",
       "<thead><tr><th scope=col>english</th><th scope=col>math</th><th scope=col>class</th></tr></thead>\n",
       "<tbody>\n",
       "\t<tr><td>90 </td><td> 50</td><td>1  </td></tr>\n",
       "\t<tr><td>80 </td><td> 60</td><td>1  </td></tr>\n",
       "\t<tr><td>60 </td><td>100</td><td>2  </td></tr>\n",
       "\t<tr><td>70 </td><td> 20</td><td>2  </td></tr>\n",
       "</tbody>\n",
       "</table>\n"
      ],
      "text/latex": [
       "\\begin{tabular}{r|lll}\n",
       " english & math & class\\\\\n",
       "\\hline\n",
       "\t 90  &  50 & 1  \\\\\n",
       "\t 80  &  60 & 1  \\\\\n",
       "\t 60  & 100 & 2  \\\\\n",
       "\t 70  &  20 & 2  \\\\\n",
       "\\end{tabular}\n"
      ],
      "text/markdown": [
       "\n",
       "| english | math | class |\n",
       "|---|---|---|\n",
       "| 90  |  50 | 1   |\n",
       "| 80  |  60 | 1   |\n",
       "| 60  | 100 | 2   |\n",
       "| 70  |  20 | 2   |\n",
       "\n"
      ],
      "text/plain": [
       "  english math class\n",
       "1 90       50  1    \n",
       "2 80       60  1    \n",
       "3 60      100  2    \n",
       "4 70       20  2    "
      ]
     },
     "metadata": {},
     "output_type": "display_data"
    }
   ],
   "source": [
    "df_midterm"
   ]
  },
  {
   "cell_type": "code",
   "execution_count": 34,
   "metadata": {},
   "outputs": [
    {
     "data": {
      "text/html": [
       "<ol class=list-inline>\n",
       "\t<li>'class'</li>\n",
       "\t<li>'df_csv_exam'</li>\n",
       "\t<li>'df_exam'</li>\n",
       "\t<li>'df_exam_novar'</li>\n",
       "\t<li>'df_exam_sheet'</li>\n",
       "\t<li>'df_midterm'</li>\n",
       "\t<li>'english'</li>\n",
       "\t<li>'math'</li>\n",
       "\t<li>'sales'</li>\n",
       "</ol>\n"
      ],
      "text/latex": [
       "\\begin{enumerate*}\n",
       "\\item 'class'\n",
       "\\item 'df\\_csv\\_exam'\n",
       "\\item 'df\\_exam'\n",
       "\\item 'df\\_exam\\_novar'\n",
       "\\item 'df\\_exam\\_sheet'\n",
       "\\item 'df\\_midterm'\n",
       "\\item 'english'\n",
       "\\item 'math'\n",
       "\\item 'sales'\n",
       "\\end{enumerate*}\n"
      ],
      "text/markdown": [
       "1. 'class'\n",
       "2. 'df_csv_exam'\n",
       "3. 'df_exam'\n",
       "4. 'df_exam_novar'\n",
       "5. 'df_exam_sheet'\n",
       "6. 'df_midterm'\n",
       "7. 'english'\n",
       "8. 'math'\n",
       "9. 'sales'\n",
       "\n",
       "\n"
      ],
      "text/plain": [
       "[1] \"class\"         \"df_csv_exam\"   \"df_exam\"       \"df_exam_novar\"\n",
       "[5] \"df_exam_sheet\" \"df_midterm\"    \"english\"       \"math\"         \n",
       "[9] \"sales\"        "
      ]
     },
     "metadata": {},
     "output_type": "display_data"
    }
   ],
   "source": [
    "ls()"
   ]
  },
  {
   "cell_type": "code",
   "execution_count": null,
   "metadata": {},
   "outputs": [],
   "source": []
  },
  {
   "cell_type": "code",
   "execution_count": null,
   "metadata": {},
   "outputs": [],
   "source": []
  }
 ],
 "metadata": {
  "kernelspec": {
   "display_name": "R",
   "language": "R",
   "name": "ir"
  },
  "language_info": {
   "codemirror_mode": "r",
   "file_extension": ".r",
   "mimetype": "text/x-r-source",
   "name": "R",
   "pygments_lexer": "r",
   "version": "3.6.1"
  }
 },
 "nbformat": 4,
 "nbformat_minor": 4
}
