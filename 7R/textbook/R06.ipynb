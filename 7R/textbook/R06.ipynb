{
 "cells": [
  {
   "cell_type": "code",
   "execution_count": 3,
   "metadata": {},
   "outputs": [
    {
     "name": "stderr",
     "output_type": "stream",
     "text": [
      "Warning message in eval(expr, envir, enclos):\n",
      "\"dplyrstatsgraphicsgrDevicesutilsdatasetsmethodsbase\""
     ]
    }
   ],
   "source": [
    "# warning(library(dplyr))\n",
    "# suppressWarnings(library(dplyr))\n",
    "library(dplyr)"
   ]
  },
  {
   "cell_type": "code",
   "execution_count": 4,
   "metadata": {},
   "outputs": [
    {
     "data": {
      "text/html": [
       "<table>\n",
       "<thead><tr><th scope=col>id</th><th scope=col>class</th><th scope=col>math</th><th scope=col>english</th><th scope=col>science</th></tr></thead>\n",
       "<tbody>\n",
       "\t<tr><td> 1</td><td>1 </td><td>50</td><td>98</td><td>50</td></tr>\n",
       "\t<tr><td> 2</td><td>1 </td><td>60</td><td>97</td><td>60</td></tr>\n",
       "\t<tr><td> 3</td><td>1 </td><td>45</td><td>86</td><td>78</td></tr>\n",
       "\t<tr><td> 4</td><td>1 </td><td>30</td><td>98</td><td>58</td></tr>\n",
       "\t<tr><td> 5</td><td>2 </td><td>25</td><td>80</td><td>65</td></tr>\n",
       "\t<tr><td> 6</td><td>2 </td><td>50</td><td>89</td><td>98</td></tr>\n",
       "\t<tr><td> 7</td><td>2 </td><td>80</td><td>90</td><td>45</td></tr>\n",
       "\t<tr><td> 8</td><td>2 </td><td>90</td><td>78</td><td>25</td></tr>\n",
       "\t<tr><td> 9</td><td>3 </td><td>20</td><td>98</td><td>15</td></tr>\n",
       "\t<tr><td>10</td><td>3 </td><td>50</td><td>98</td><td>45</td></tr>\n",
       "\t<tr><td>11</td><td>3 </td><td>65</td><td>65</td><td>65</td></tr>\n",
       "\t<tr><td>12</td><td>3 </td><td>45</td><td>85</td><td>32</td></tr>\n",
       "\t<tr><td>13</td><td>4 </td><td>46</td><td>98</td><td>65</td></tr>\n",
       "\t<tr><td>14</td><td>4 </td><td>48</td><td>87</td><td>12</td></tr>\n",
       "\t<tr><td>15</td><td>4 </td><td>75</td><td>56</td><td>78</td></tr>\n",
       "\t<tr><td>16</td><td>4 </td><td>58</td><td>98</td><td>65</td></tr>\n",
       "\t<tr><td>17</td><td>5 </td><td>65</td><td>68</td><td>98</td></tr>\n",
       "\t<tr><td>18</td><td>5 </td><td>80</td><td>78</td><td>90</td></tr>\n",
       "\t<tr><td>19</td><td>5 </td><td>89</td><td>68</td><td>87</td></tr>\n",
       "\t<tr><td>20</td><td>5 </td><td>78</td><td>83</td><td>58</td></tr>\n",
       "</tbody>\n",
       "</table>\n"
      ],
      "text/latex": [
       "\\begin{tabular}{r|lllll}\n",
       " id & class & math & english & science\\\\\n",
       "\\hline\n",
       "\t  1 & 1  & 50 & 98 & 50\\\\\n",
       "\t  2 & 1  & 60 & 97 & 60\\\\\n",
       "\t  3 & 1  & 45 & 86 & 78\\\\\n",
       "\t  4 & 1  & 30 & 98 & 58\\\\\n",
       "\t  5 & 2  & 25 & 80 & 65\\\\\n",
       "\t  6 & 2  & 50 & 89 & 98\\\\\n",
       "\t  7 & 2  & 80 & 90 & 45\\\\\n",
       "\t  8 & 2  & 90 & 78 & 25\\\\\n",
       "\t  9 & 3  & 20 & 98 & 15\\\\\n",
       "\t 10 & 3  & 50 & 98 & 45\\\\\n",
       "\t 11 & 3  & 65 & 65 & 65\\\\\n",
       "\t 12 & 3  & 45 & 85 & 32\\\\\n",
       "\t 13 & 4  & 46 & 98 & 65\\\\\n",
       "\t 14 & 4  & 48 & 87 & 12\\\\\n",
       "\t 15 & 4  & 75 & 56 & 78\\\\\n",
       "\t 16 & 4  & 58 & 98 & 65\\\\\n",
       "\t 17 & 5  & 65 & 68 & 98\\\\\n",
       "\t 18 & 5  & 80 & 78 & 90\\\\\n",
       "\t 19 & 5  & 89 & 68 & 87\\\\\n",
       "\t 20 & 5  & 78 & 83 & 58\\\\\n",
       "\\end{tabular}\n"
      ],
      "text/markdown": [
       "\n",
       "| id | class | math | english | science |\n",
       "|---|---|---|---|---|\n",
       "|  1 | 1  | 50 | 98 | 50 |\n",
       "|  2 | 1  | 60 | 97 | 60 |\n",
       "|  3 | 1  | 45 | 86 | 78 |\n",
       "|  4 | 1  | 30 | 98 | 58 |\n",
       "|  5 | 2  | 25 | 80 | 65 |\n",
       "|  6 | 2  | 50 | 89 | 98 |\n",
       "|  7 | 2  | 80 | 90 | 45 |\n",
       "|  8 | 2  | 90 | 78 | 25 |\n",
       "|  9 | 3  | 20 | 98 | 15 |\n",
       "| 10 | 3  | 50 | 98 | 45 |\n",
       "| 11 | 3  | 65 | 65 | 65 |\n",
       "| 12 | 3  | 45 | 85 | 32 |\n",
       "| 13 | 4  | 46 | 98 | 65 |\n",
       "| 14 | 4  | 48 | 87 | 12 |\n",
       "| 15 | 4  | 75 | 56 | 78 |\n",
       "| 16 | 4  | 58 | 98 | 65 |\n",
       "| 17 | 5  | 65 | 68 | 98 |\n",
       "| 18 | 5  | 80 | 78 | 90 |\n",
       "| 19 | 5  | 89 | 68 | 87 |\n",
       "| 20 | 5  | 78 | 83 | 58 |\n",
       "\n"
      ],
      "text/plain": [
       "   id class math english science\n",
       "1   1 1     50   98      50     \n",
       "2   2 1     60   97      60     \n",
       "3   3 1     45   86      78     \n",
       "4   4 1     30   98      58     \n",
       "5   5 2     25   80      65     \n",
       "6   6 2     50   89      98     \n",
       "7   7 2     80   90      45     \n",
       "8   8 2     90   78      25     \n",
       "9   9 3     20   98      15     \n",
       "10 10 3     50   98      45     \n",
       "11 11 3     65   65      65     \n",
       "12 12 3     45   85      32     \n",
       "13 13 4     46   98      65     \n",
       "14 14 4     48   87      12     \n",
       "15 15 4     75   56      78     \n",
       "16 16 4     58   98      65     \n",
       "17 17 5     65   68      98     \n",
       "18 18 5     80   78      90     \n",
       "19 19 5     89   68      87     \n",
       "20 20 5     78   83      58     "
      ]
     },
     "metadata": {},
     "output_type": "display_data"
    }
   ],
   "source": [
    "exam <- read.csv(\"./Data/csv_exam.csv\")\n",
    "exam"
   ]
  },
  {
   "cell_type": "code",
   "execution_count": 5,
   "metadata": {},
   "outputs": [
    {
     "data": {
      "text/html": [
       "<table>\n",
       "<thead><tr><th scope=col>id</th><th scope=col>class</th><th scope=col>math</th><th scope=col>english</th><th scope=col>science</th></tr></thead>\n",
       "<tbody>\n",
       "\t<tr><td>1 </td><td>1 </td><td>50</td><td>98</td><td>50</td></tr>\n",
       "\t<tr><td>2 </td><td>1 </td><td>60</td><td>97</td><td>60</td></tr>\n",
       "\t<tr><td>3 </td><td>1 </td><td>45</td><td>86</td><td>78</td></tr>\n",
       "\t<tr><td>4 </td><td>1 </td><td>30</td><td>98</td><td>58</td></tr>\n",
       "</tbody>\n",
       "</table>\n"
      ],
      "text/latex": [
       "\\begin{tabular}{r|lllll}\n",
       " id & class & math & english & science\\\\\n",
       "\\hline\n",
       "\t 1  & 1  & 50 & 98 & 50\\\\\n",
       "\t 2  & 1  & 60 & 97 & 60\\\\\n",
       "\t 3  & 1  & 45 & 86 & 78\\\\\n",
       "\t 4  & 1  & 30 & 98 & 58\\\\\n",
       "\\end{tabular}\n"
      ],
      "text/markdown": [
       "\n",
       "| id | class | math | english | science |\n",
       "|---|---|---|---|---|\n",
       "| 1  | 1  | 50 | 98 | 50 |\n",
       "| 2  | 1  | 60 | 97 | 60 |\n",
       "| 3  | 1  | 45 | 86 | 78 |\n",
       "| 4  | 1  | 30 | 98 | 58 |\n",
       "\n"
      ],
      "text/plain": [
       "  id class math english science\n",
       "1 1  1     50   98      50     \n",
       "2 2  1     60   97      60     \n",
       "3 3  1     45   86      78     \n",
       "4 4  1     30   98      58     "
      ]
     },
     "metadata": {},
     "output_type": "display_data"
    }
   ],
   "source": [
    "# exam 에서 class 가 1 인 경우만 추출하여 출력\n",
    "exam %>% filter(class == 1)"
   ]
  },
  {
   "cell_type": "code",
   "execution_count": 7,
   "metadata": {},
   "outputs": [
    {
     "data": {
      "text/html": [
       "<table>\n",
       "<thead><tr><th scope=col>id</th><th scope=col>class</th><th scope=col>math</th><th scope=col>english</th><th scope=col>science</th></tr></thead>\n",
       "<tbody>\n",
       "\t<tr><td>5 </td><td>2 </td><td>25</td><td>80</td><td>65</td></tr>\n",
       "\t<tr><td>6 </td><td>2 </td><td>50</td><td>89</td><td>98</td></tr>\n",
       "\t<tr><td>7 </td><td>2 </td><td>80</td><td>90</td><td>45</td></tr>\n",
       "\t<tr><td>8 </td><td>2 </td><td>90</td><td>78</td><td>25</td></tr>\n",
       "</tbody>\n",
       "</table>\n"
      ],
      "text/latex": [
       "\\begin{tabular}{r|lllll}\n",
       " id & class & math & english & science\\\\\n",
       "\\hline\n",
       "\t 5  & 2  & 25 & 80 & 65\\\\\n",
       "\t 6  & 2  & 50 & 89 & 98\\\\\n",
       "\t 7  & 2  & 80 & 90 & 45\\\\\n",
       "\t 8  & 2  & 90 & 78 & 25\\\\\n",
       "\\end{tabular}\n"
      ],
      "text/markdown": [
       "\n",
       "| id | class | math | english | science |\n",
       "|---|---|---|---|---|\n",
       "| 5  | 2  | 25 | 80 | 65 |\n",
       "| 6  | 2  | 50 | 89 | 98 |\n",
       "| 7  | 2  | 80 | 90 | 45 |\n",
       "| 8  | 2  | 90 | 78 | 25 |\n",
       "\n"
      ],
      "text/plain": [
       "  id class math english science\n",
       "1 5  2     25   80      65     \n",
       "2 6  2     50   89      98     \n",
       "3 7  2     80   90      45     \n",
       "4 8  2     90   78      25     "
      ]
     },
     "metadata": {},
     "output_type": "display_data"
    }
   ],
   "source": [
    "# 2 반인 경우만 추출\n",
    "exam %>% filter(class == 2)"
   ]
  },
  {
   "cell_type": "code",
   "execution_count": 8,
   "metadata": {},
   "outputs": [
    {
     "data": {
      "text/html": [
       "<table>\n",
       "<thead><tr><th scope=col>id</th><th scope=col>class</th><th scope=col>math</th><th scope=col>english</th><th scope=col>science</th></tr></thead>\n",
       "<tbody>\n",
       "\t<tr><td> 5</td><td>2 </td><td>25</td><td>80</td><td>65</td></tr>\n",
       "\t<tr><td> 6</td><td>2 </td><td>50</td><td>89</td><td>98</td></tr>\n",
       "\t<tr><td> 7</td><td>2 </td><td>80</td><td>90</td><td>45</td></tr>\n",
       "\t<tr><td> 8</td><td>2 </td><td>90</td><td>78</td><td>25</td></tr>\n",
       "\t<tr><td> 9</td><td>3 </td><td>20</td><td>98</td><td>15</td></tr>\n",
       "\t<tr><td>10</td><td>3 </td><td>50</td><td>98</td><td>45</td></tr>\n",
       "\t<tr><td>11</td><td>3 </td><td>65</td><td>65</td><td>65</td></tr>\n",
       "\t<tr><td>12</td><td>3 </td><td>45</td><td>85</td><td>32</td></tr>\n",
       "\t<tr><td>13</td><td>4 </td><td>46</td><td>98</td><td>65</td></tr>\n",
       "\t<tr><td>14</td><td>4 </td><td>48</td><td>87</td><td>12</td></tr>\n",
       "\t<tr><td>15</td><td>4 </td><td>75</td><td>56</td><td>78</td></tr>\n",
       "\t<tr><td>16</td><td>4 </td><td>58</td><td>98</td><td>65</td></tr>\n",
       "\t<tr><td>17</td><td>5 </td><td>65</td><td>68</td><td>98</td></tr>\n",
       "\t<tr><td>18</td><td>5 </td><td>80</td><td>78</td><td>90</td></tr>\n",
       "\t<tr><td>19</td><td>5 </td><td>89</td><td>68</td><td>87</td></tr>\n",
       "\t<tr><td>20</td><td>5 </td><td>78</td><td>83</td><td>58</td></tr>\n",
       "</tbody>\n",
       "</table>\n"
      ],
      "text/latex": [
       "\\begin{tabular}{r|lllll}\n",
       " id & class & math & english & science\\\\\n",
       "\\hline\n",
       "\t  5 & 2  & 25 & 80 & 65\\\\\n",
       "\t  6 & 2  & 50 & 89 & 98\\\\\n",
       "\t  7 & 2  & 80 & 90 & 45\\\\\n",
       "\t  8 & 2  & 90 & 78 & 25\\\\\n",
       "\t  9 & 3  & 20 & 98 & 15\\\\\n",
       "\t 10 & 3  & 50 & 98 & 45\\\\\n",
       "\t 11 & 3  & 65 & 65 & 65\\\\\n",
       "\t 12 & 3  & 45 & 85 & 32\\\\\n",
       "\t 13 & 4  & 46 & 98 & 65\\\\\n",
       "\t 14 & 4  & 48 & 87 & 12\\\\\n",
       "\t 15 & 4  & 75 & 56 & 78\\\\\n",
       "\t 16 & 4  & 58 & 98 & 65\\\\\n",
       "\t 17 & 5  & 65 & 68 & 98\\\\\n",
       "\t 18 & 5  & 80 & 78 & 90\\\\\n",
       "\t 19 & 5  & 89 & 68 & 87\\\\\n",
       "\t 20 & 5  & 78 & 83 & 58\\\\\n",
       "\\end{tabular}\n"
      ],
      "text/markdown": [
       "\n",
       "| id | class | math | english | science |\n",
       "|---|---|---|---|---|\n",
       "|  5 | 2  | 25 | 80 | 65 |\n",
       "|  6 | 2  | 50 | 89 | 98 |\n",
       "|  7 | 2  | 80 | 90 | 45 |\n",
       "|  8 | 2  | 90 | 78 | 25 |\n",
       "|  9 | 3  | 20 | 98 | 15 |\n",
       "| 10 | 3  | 50 | 98 | 45 |\n",
       "| 11 | 3  | 65 | 65 | 65 |\n",
       "| 12 | 3  | 45 | 85 | 32 |\n",
       "| 13 | 4  | 46 | 98 | 65 |\n",
       "| 14 | 4  | 48 | 87 | 12 |\n",
       "| 15 | 4  | 75 | 56 | 78 |\n",
       "| 16 | 4  | 58 | 98 | 65 |\n",
       "| 17 | 5  | 65 | 68 | 98 |\n",
       "| 18 | 5  | 80 | 78 | 90 |\n",
       "| 19 | 5  | 89 | 68 | 87 |\n",
       "| 20 | 5  | 78 | 83 | 58 |\n",
       "\n"
      ],
      "text/plain": [
       "   id class math english science\n",
       "1   5 2     25   80      65     \n",
       "2   6 2     50   89      98     \n",
       "3   7 2     80   90      45     \n",
       "4   8 2     90   78      25     \n",
       "5   9 3     20   98      15     \n",
       "6  10 3     50   98      45     \n",
       "7  11 3     65   65      65     \n",
       "8  12 3     45   85      32     \n",
       "9  13 4     46   98      65     \n",
       "10 14 4     48   87      12     \n",
       "11 15 4     75   56      78     \n",
       "12 16 4     58   98      65     \n",
       "13 17 5     65   68      98     \n",
       "14 18 5     80   78      90     \n",
       "15 19 5     89   68      87     \n",
       "16 20 5     78   83      58     "
      ]
     },
     "metadata": {},
     "output_type": "display_data"
    }
   ],
   "source": [
    "# 1 반이 아닌 경우\n",
    "exam %>% filter(class != 1)"
   ]
  },
  {
   "cell_type": "code",
   "execution_count": 9,
   "metadata": {},
   "outputs": [
    {
     "data": {
      "text/html": [
       "<table>\n",
       "<thead><tr><th scope=col>id</th><th scope=col>class</th><th scope=col>math</th><th scope=col>english</th><th scope=col>science</th></tr></thead>\n",
       "<tbody>\n",
       "\t<tr><td> 1</td><td>1 </td><td>50</td><td>98</td><td>50</td></tr>\n",
       "\t<tr><td> 2</td><td>1 </td><td>60</td><td>97</td><td>60</td></tr>\n",
       "\t<tr><td> 3</td><td>1 </td><td>45</td><td>86</td><td>78</td></tr>\n",
       "\t<tr><td> 4</td><td>1 </td><td>30</td><td>98</td><td>58</td></tr>\n",
       "\t<tr><td> 5</td><td>2 </td><td>25</td><td>80</td><td>65</td></tr>\n",
       "\t<tr><td> 6</td><td>2 </td><td>50</td><td>89</td><td>98</td></tr>\n",
       "\t<tr><td> 7</td><td>2 </td><td>80</td><td>90</td><td>45</td></tr>\n",
       "\t<tr><td> 8</td><td>2 </td><td>90</td><td>78</td><td>25</td></tr>\n",
       "\t<tr><td>13</td><td>4 </td><td>46</td><td>98</td><td>65</td></tr>\n",
       "\t<tr><td>14</td><td>4 </td><td>48</td><td>87</td><td>12</td></tr>\n",
       "\t<tr><td>15</td><td>4 </td><td>75</td><td>56</td><td>78</td></tr>\n",
       "\t<tr><td>16</td><td>4 </td><td>58</td><td>98</td><td>65</td></tr>\n",
       "\t<tr><td>17</td><td>5 </td><td>65</td><td>68</td><td>98</td></tr>\n",
       "\t<tr><td>18</td><td>5 </td><td>80</td><td>78</td><td>90</td></tr>\n",
       "\t<tr><td>19</td><td>5 </td><td>89</td><td>68</td><td>87</td></tr>\n",
       "\t<tr><td>20</td><td>5 </td><td>78</td><td>83</td><td>58</td></tr>\n",
       "</tbody>\n",
       "</table>\n"
      ],
      "text/latex": [
       "\\begin{tabular}{r|lllll}\n",
       " id & class & math & english & science\\\\\n",
       "\\hline\n",
       "\t  1 & 1  & 50 & 98 & 50\\\\\n",
       "\t  2 & 1  & 60 & 97 & 60\\\\\n",
       "\t  3 & 1  & 45 & 86 & 78\\\\\n",
       "\t  4 & 1  & 30 & 98 & 58\\\\\n",
       "\t  5 & 2  & 25 & 80 & 65\\\\\n",
       "\t  6 & 2  & 50 & 89 & 98\\\\\n",
       "\t  7 & 2  & 80 & 90 & 45\\\\\n",
       "\t  8 & 2  & 90 & 78 & 25\\\\\n",
       "\t 13 & 4  & 46 & 98 & 65\\\\\n",
       "\t 14 & 4  & 48 & 87 & 12\\\\\n",
       "\t 15 & 4  & 75 & 56 & 78\\\\\n",
       "\t 16 & 4  & 58 & 98 & 65\\\\\n",
       "\t 17 & 5  & 65 & 68 & 98\\\\\n",
       "\t 18 & 5  & 80 & 78 & 90\\\\\n",
       "\t 19 & 5  & 89 & 68 & 87\\\\\n",
       "\t 20 & 5  & 78 & 83 & 58\\\\\n",
       "\\end{tabular}\n"
      ],
      "text/markdown": [
       "\n",
       "| id | class | math | english | science |\n",
       "|---|---|---|---|---|\n",
       "|  1 | 1  | 50 | 98 | 50 |\n",
       "|  2 | 1  | 60 | 97 | 60 |\n",
       "|  3 | 1  | 45 | 86 | 78 |\n",
       "|  4 | 1  | 30 | 98 | 58 |\n",
       "|  5 | 2  | 25 | 80 | 65 |\n",
       "|  6 | 2  | 50 | 89 | 98 |\n",
       "|  7 | 2  | 80 | 90 | 45 |\n",
       "|  8 | 2  | 90 | 78 | 25 |\n",
       "| 13 | 4  | 46 | 98 | 65 |\n",
       "| 14 | 4  | 48 | 87 | 12 |\n",
       "| 15 | 4  | 75 | 56 | 78 |\n",
       "| 16 | 4  | 58 | 98 | 65 |\n",
       "| 17 | 5  | 65 | 68 | 98 |\n",
       "| 18 | 5  | 80 | 78 | 90 |\n",
       "| 19 | 5  | 89 | 68 | 87 |\n",
       "| 20 | 5  | 78 | 83 | 58 |\n",
       "\n"
      ],
      "text/plain": [
       "   id class math english science\n",
       "1   1 1     50   98      50     \n",
       "2   2 1     60   97      60     \n",
       "3   3 1     45   86      78     \n",
       "4   4 1     30   98      58     \n",
       "5   5 2     25   80      65     \n",
       "6   6 2     50   89      98     \n",
       "7   7 2     80   90      45     \n",
       "8   8 2     90   78      25     \n",
       "9  13 4     46   98      65     \n",
       "10 14 4     48   87      12     \n",
       "11 15 4     75   56      78     \n",
       "12 16 4     58   98      65     \n",
       "13 17 5     65   68      98     \n",
       "14 18 5     80   78      90     \n",
       "15 19 5     89   68      87     \n",
       "16 20 5     78   83      58     "
      ]
     },
     "metadata": {},
     "output_type": "display_data"
    }
   ],
   "source": [
    "# 3 반이 아닌 경우\n",
    "exam %>% filter(class != 3)"
   ]
  },
  {
   "cell_type": "code",
   "execution_count": 10,
   "metadata": {},
   "outputs": [
    {
     "data": {
      "text/html": [
       "<table>\n",
       "<thead><tr><th scope=col>id</th><th scope=col>class</th><th scope=col>math</th><th scope=col>english</th><th scope=col>science</th></tr></thead>\n",
       "<tbody>\n",
       "\t<tr><td> 2</td><td>1 </td><td>60</td><td>97</td><td>60</td></tr>\n",
       "\t<tr><td> 7</td><td>2 </td><td>80</td><td>90</td><td>45</td></tr>\n",
       "\t<tr><td> 8</td><td>2 </td><td>90</td><td>78</td><td>25</td></tr>\n",
       "\t<tr><td>11</td><td>3 </td><td>65</td><td>65</td><td>65</td></tr>\n",
       "\t<tr><td>15</td><td>4 </td><td>75</td><td>56</td><td>78</td></tr>\n",
       "\t<tr><td>16</td><td>4 </td><td>58</td><td>98</td><td>65</td></tr>\n",
       "\t<tr><td>17</td><td>5 </td><td>65</td><td>68</td><td>98</td></tr>\n",
       "\t<tr><td>18</td><td>5 </td><td>80</td><td>78</td><td>90</td></tr>\n",
       "\t<tr><td>19</td><td>5 </td><td>89</td><td>68</td><td>87</td></tr>\n",
       "\t<tr><td>20</td><td>5 </td><td>78</td><td>83</td><td>58</td></tr>\n",
       "</tbody>\n",
       "</table>\n"
      ],
      "text/latex": [
       "\\begin{tabular}{r|lllll}\n",
       " id & class & math & english & science\\\\\n",
       "\\hline\n",
       "\t  2 & 1  & 60 & 97 & 60\\\\\n",
       "\t  7 & 2  & 80 & 90 & 45\\\\\n",
       "\t  8 & 2  & 90 & 78 & 25\\\\\n",
       "\t 11 & 3  & 65 & 65 & 65\\\\\n",
       "\t 15 & 4  & 75 & 56 & 78\\\\\n",
       "\t 16 & 4  & 58 & 98 & 65\\\\\n",
       "\t 17 & 5  & 65 & 68 & 98\\\\\n",
       "\t 18 & 5  & 80 & 78 & 90\\\\\n",
       "\t 19 & 5  & 89 & 68 & 87\\\\\n",
       "\t 20 & 5  & 78 & 83 & 58\\\\\n",
       "\\end{tabular}\n"
      ],
      "text/markdown": [
       "\n",
       "| id | class | math | english | science |\n",
       "|---|---|---|---|---|\n",
       "|  2 | 1  | 60 | 97 | 60 |\n",
       "|  7 | 2  | 80 | 90 | 45 |\n",
       "|  8 | 2  | 90 | 78 | 25 |\n",
       "| 11 | 3  | 65 | 65 | 65 |\n",
       "| 15 | 4  | 75 | 56 | 78 |\n",
       "| 16 | 4  | 58 | 98 | 65 |\n",
       "| 17 | 5  | 65 | 68 | 98 |\n",
       "| 18 | 5  | 80 | 78 | 90 |\n",
       "| 19 | 5  | 89 | 68 | 87 |\n",
       "| 20 | 5  | 78 | 83 | 58 |\n",
       "\n"
      ],
      "text/plain": [
       "   id class math english science\n",
       "1   2 1     60   97      60     \n",
       "2   7 2     80   90      45     \n",
       "3   8 2     90   78      25     \n",
       "4  11 3     65   65      65     \n",
       "5  15 4     75   56      78     \n",
       "6  16 4     58   98      65     \n",
       "7  17 5     65   68      98     \n",
       "8  18 5     80   78      90     \n",
       "9  19 5     89   68      87     \n",
       "10 20 5     78   83      58     "
      ]
     },
     "metadata": {},
     "output_type": "display_data"
    }
   ],
   "source": [
    "# 수학 점수가 50 점을 초과한 경우\n",
    "exam %>% filter(math > 50)"
   ]
  },
  {
   "cell_type": "code",
   "execution_count": 11,
   "metadata": {},
   "outputs": [
    {
     "data": {
      "text/html": [
       "<table>\n",
       "<thead><tr><th scope=col>id</th><th scope=col>class</th><th scope=col>math</th><th scope=col>english</th><th scope=col>science</th></tr></thead>\n",
       "<tbody>\n",
       "\t<tr><td> 3</td><td>1 </td><td>45</td><td>86</td><td>78</td></tr>\n",
       "\t<tr><td> 4</td><td>1 </td><td>30</td><td>98</td><td>58</td></tr>\n",
       "\t<tr><td> 5</td><td>2 </td><td>25</td><td>80</td><td>65</td></tr>\n",
       "\t<tr><td> 9</td><td>3 </td><td>20</td><td>98</td><td>15</td></tr>\n",
       "\t<tr><td>12</td><td>3 </td><td>45</td><td>85</td><td>32</td></tr>\n",
       "\t<tr><td>13</td><td>4 </td><td>46</td><td>98</td><td>65</td></tr>\n",
       "\t<tr><td>14</td><td>4 </td><td>48</td><td>87</td><td>12</td></tr>\n",
       "</tbody>\n",
       "</table>\n"
      ],
      "text/latex": [
       "\\begin{tabular}{r|lllll}\n",
       " id & class & math & english & science\\\\\n",
       "\\hline\n",
       "\t  3 & 1  & 45 & 86 & 78\\\\\n",
       "\t  4 & 1  & 30 & 98 & 58\\\\\n",
       "\t  5 & 2  & 25 & 80 & 65\\\\\n",
       "\t  9 & 3  & 20 & 98 & 15\\\\\n",
       "\t 12 & 3  & 45 & 85 & 32\\\\\n",
       "\t 13 & 4  & 46 & 98 & 65\\\\\n",
       "\t 14 & 4  & 48 & 87 & 12\\\\\n",
       "\\end{tabular}\n"
      ],
      "text/markdown": [
       "\n",
       "| id | class | math | english | science |\n",
       "|---|---|---|---|---|\n",
       "|  3 | 1  | 45 | 86 | 78 |\n",
       "|  4 | 1  | 30 | 98 | 58 |\n",
       "|  5 | 2  | 25 | 80 | 65 |\n",
       "|  9 | 3  | 20 | 98 | 15 |\n",
       "| 12 | 3  | 45 | 85 | 32 |\n",
       "| 13 | 4  | 46 | 98 | 65 |\n",
       "| 14 | 4  | 48 | 87 | 12 |\n",
       "\n"
      ],
      "text/plain": [
       "  id class math english science\n",
       "1  3 1     45   86      78     \n",
       "2  4 1     30   98      58     \n",
       "3  5 2     25   80      65     \n",
       "4  9 3     20   98      15     \n",
       "5 12 3     45   85      32     \n",
       "6 13 4     46   98      65     \n",
       "7 14 4     48   87      12     "
      ]
     },
     "metadata": {},
     "output_type": "display_data"
    }
   ],
   "source": [
    "# 수학 점수가 50 점 미만인 경우\n",
    "exam %>% filter(math < 50)"
   ]
  },
  {
   "cell_type": "code",
   "execution_count": 12,
   "metadata": {},
   "outputs": [
    {
     "data": {
      "text/html": [
       "<table>\n",
       "<thead><tr><th scope=col>id</th><th scope=col>class</th><th scope=col>math</th><th scope=col>english</th><th scope=col>science</th></tr></thead>\n",
       "<tbody>\n",
       "\t<tr><td> 1</td><td>1 </td><td>50</td><td>98</td><td>50</td></tr>\n",
       "\t<tr><td> 2</td><td>1 </td><td>60</td><td>97</td><td>60</td></tr>\n",
       "\t<tr><td> 3</td><td>1 </td><td>45</td><td>86</td><td>78</td></tr>\n",
       "\t<tr><td> 4</td><td>1 </td><td>30</td><td>98</td><td>58</td></tr>\n",
       "\t<tr><td> 5</td><td>2 </td><td>25</td><td>80</td><td>65</td></tr>\n",
       "\t<tr><td> 6</td><td>2 </td><td>50</td><td>89</td><td>98</td></tr>\n",
       "\t<tr><td> 7</td><td>2 </td><td>80</td><td>90</td><td>45</td></tr>\n",
       "\t<tr><td> 9</td><td>3 </td><td>20</td><td>98</td><td>15</td></tr>\n",
       "\t<tr><td>10</td><td>3 </td><td>50</td><td>98</td><td>45</td></tr>\n",
       "\t<tr><td>12</td><td>3 </td><td>45</td><td>85</td><td>32</td></tr>\n",
       "\t<tr><td>13</td><td>4 </td><td>46</td><td>98</td><td>65</td></tr>\n",
       "\t<tr><td>14</td><td>4 </td><td>48</td><td>87</td><td>12</td></tr>\n",
       "\t<tr><td>16</td><td>4 </td><td>58</td><td>98</td><td>65</td></tr>\n",
       "\t<tr><td>20</td><td>5 </td><td>78</td><td>83</td><td>58</td></tr>\n",
       "</tbody>\n",
       "</table>\n"
      ],
      "text/latex": [
       "\\begin{tabular}{r|lllll}\n",
       " id & class & math & english & science\\\\\n",
       "\\hline\n",
       "\t  1 & 1  & 50 & 98 & 50\\\\\n",
       "\t  2 & 1  & 60 & 97 & 60\\\\\n",
       "\t  3 & 1  & 45 & 86 & 78\\\\\n",
       "\t  4 & 1  & 30 & 98 & 58\\\\\n",
       "\t  5 & 2  & 25 & 80 & 65\\\\\n",
       "\t  6 & 2  & 50 & 89 & 98\\\\\n",
       "\t  7 & 2  & 80 & 90 & 45\\\\\n",
       "\t  9 & 3  & 20 & 98 & 15\\\\\n",
       "\t 10 & 3  & 50 & 98 & 45\\\\\n",
       "\t 12 & 3  & 45 & 85 & 32\\\\\n",
       "\t 13 & 4  & 46 & 98 & 65\\\\\n",
       "\t 14 & 4  & 48 & 87 & 12\\\\\n",
       "\t 16 & 4  & 58 & 98 & 65\\\\\n",
       "\t 20 & 5  & 78 & 83 & 58\\\\\n",
       "\\end{tabular}\n"
      ],
      "text/markdown": [
       "\n",
       "| id | class | math | english | science |\n",
       "|---|---|---|---|---|\n",
       "|  1 | 1  | 50 | 98 | 50 |\n",
       "|  2 | 1  | 60 | 97 | 60 |\n",
       "|  3 | 1  | 45 | 86 | 78 |\n",
       "|  4 | 1  | 30 | 98 | 58 |\n",
       "|  5 | 2  | 25 | 80 | 65 |\n",
       "|  6 | 2  | 50 | 89 | 98 |\n",
       "|  7 | 2  | 80 | 90 | 45 |\n",
       "|  9 | 3  | 20 | 98 | 15 |\n",
       "| 10 | 3  | 50 | 98 | 45 |\n",
       "| 12 | 3  | 45 | 85 | 32 |\n",
       "| 13 | 4  | 46 | 98 | 65 |\n",
       "| 14 | 4  | 48 | 87 | 12 |\n",
       "| 16 | 4  | 58 | 98 | 65 |\n",
       "| 20 | 5  | 78 | 83 | 58 |\n",
       "\n"
      ],
      "text/plain": [
       "   id class math english science\n",
       "1   1 1     50   98      50     \n",
       "2   2 1     60   97      60     \n",
       "3   3 1     45   86      78     \n",
       "4   4 1     30   98      58     \n",
       "5   5 2     25   80      65     \n",
       "6   6 2     50   89      98     \n",
       "7   7 2     80   90      45     \n",
       "8   9 3     20   98      15     \n",
       "9  10 3     50   98      45     \n",
       "10 12 3     45   85      32     \n",
       "11 13 4     46   98      65     \n",
       "12 14 4     48   87      12     \n",
       "13 16 4     58   98      65     \n",
       "14 20 5     78   83      58     "
      ]
     },
     "metadata": {},
     "output_type": "display_data"
    }
   ],
   "source": [
    "# 영어점수가 80 점 이상인 경우\n",
    "exam %>% filter(english >= 80)"
   ]
  },
  {
   "cell_type": "code",
   "execution_count": 13,
   "metadata": {},
   "outputs": [
    {
     "data": {
      "text/html": [
       "<table>\n",
       "<thead><tr><th scope=col>id</th><th scope=col>class</th><th scope=col>math</th><th scope=col>english</th><th scope=col>science</th></tr></thead>\n",
       "<tbody>\n",
       "\t<tr><td> 5</td><td>2 </td><td>25</td><td>80</td><td>65</td></tr>\n",
       "\t<tr><td> 8</td><td>2 </td><td>90</td><td>78</td><td>25</td></tr>\n",
       "\t<tr><td>11</td><td>3 </td><td>65</td><td>65</td><td>65</td></tr>\n",
       "\t<tr><td>15</td><td>4 </td><td>75</td><td>56</td><td>78</td></tr>\n",
       "\t<tr><td>17</td><td>5 </td><td>65</td><td>68</td><td>98</td></tr>\n",
       "\t<tr><td>18</td><td>5 </td><td>80</td><td>78</td><td>90</td></tr>\n",
       "\t<tr><td>19</td><td>5 </td><td>89</td><td>68</td><td>87</td></tr>\n",
       "</tbody>\n",
       "</table>\n"
      ],
      "text/latex": [
       "\\begin{tabular}{r|lllll}\n",
       " id & class & math & english & science\\\\\n",
       "\\hline\n",
       "\t  5 & 2  & 25 & 80 & 65\\\\\n",
       "\t  8 & 2  & 90 & 78 & 25\\\\\n",
       "\t 11 & 3  & 65 & 65 & 65\\\\\n",
       "\t 15 & 4  & 75 & 56 & 78\\\\\n",
       "\t 17 & 5  & 65 & 68 & 98\\\\\n",
       "\t 18 & 5  & 80 & 78 & 90\\\\\n",
       "\t 19 & 5  & 89 & 68 & 87\\\\\n",
       "\\end{tabular}\n"
      ],
      "text/markdown": [
       "\n",
       "| id | class | math | english | science |\n",
       "|---|---|---|---|---|\n",
       "|  5 | 2  | 25 | 80 | 65 |\n",
       "|  8 | 2  | 90 | 78 | 25 |\n",
       "| 11 | 3  | 65 | 65 | 65 |\n",
       "| 15 | 4  | 75 | 56 | 78 |\n",
       "| 17 | 5  | 65 | 68 | 98 |\n",
       "| 18 | 5  | 80 | 78 | 90 |\n",
       "| 19 | 5  | 89 | 68 | 87 |\n",
       "\n"
      ],
      "text/plain": [
       "  id class math english science\n",
       "1  5 2     25   80      65     \n",
       "2  8 2     90   78      25     \n",
       "3 11 3     65   65      65     \n",
       "4 15 4     75   56      78     \n",
       "5 17 5     65   68      98     \n",
       "6 18 5     80   78      90     \n",
       "7 19 5     89   68      87     "
      ]
     },
     "metadata": {},
     "output_type": "display_data"
    }
   ],
   "source": [
    "# 영어점수가 80 점 이하인 경우\n",
    "exam %>% filter(english <= 80)"
   ]
  },
  {
   "cell_type": "code",
   "execution_count": 14,
   "metadata": {},
   "outputs": [
    {
     "data": {
      "text/html": [
       "<table>\n",
       "<thead><tr><th scope=col>id</th><th scope=col>class</th><th scope=col>math</th><th scope=col>english</th><th scope=col>science</th></tr></thead>\n",
       "<tbody>\n",
       "\t<tr><td>1 </td><td>1 </td><td>50</td><td>98</td><td>50</td></tr>\n",
       "\t<tr><td>2 </td><td>1 </td><td>60</td><td>97</td><td>60</td></tr>\n",
       "</tbody>\n",
       "</table>\n"
      ],
      "text/latex": [
       "\\begin{tabular}{r|lllll}\n",
       " id & class & math & english & science\\\\\n",
       "\\hline\n",
       "\t 1  & 1  & 50 & 98 & 50\\\\\n",
       "\t 2  & 1  & 60 & 97 & 60\\\\\n",
       "\\end{tabular}\n"
      ],
      "text/markdown": [
       "\n",
       "| id | class | math | english | science |\n",
       "|---|---|---|---|---|\n",
       "| 1  | 1  | 50 | 98 | 50 |\n",
       "| 2  | 1  | 60 | 97 | 60 |\n",
       "\n"
      ],
      "text/plain": [
       "  id class math english science\n",
       "1 1  1     50   98      50     \n",
       "2 2  1     60   97      60     "
      ]
     },
     "metadata": {},
     "output_type": "display_data"
    }
   ],
   "source": [
    "# 1 반 이면서 수학 점수가 50 점 이상인 경우\n",
    "exam %>% filter(class == 1 & math >= 50)"
   ]
  },
  {
   "cell_type": "code",
   "execution_count": 16,
   "metadata": {},
   "outputs": [
    {
     "data": {
      "text/html": [
       "<table>\n",
       "<thead><tr><th scope=col>id</th><th scope=col>class</th><th scope=col>math</th><th scope=col>english</th><th scope=col>science</th></tr></thead>\n",
       "<tbody>\n",
       "\t<tr><td>5 </td><td>2 </td><td>25</td><td>80</td><td>65</td></tr>\n",
       "\t<tr><td>6 </td><td>2 </td><td>50</td><td>89</td><td>98</td></tr>\n",
       "\t<tr><td>7 </td><td>2 </td><td>80</td><td>90</td><td>45</td></tr>\n",
       "</tbody>\n",
       "</table>\n"
      ],
      "text/latex": [
       "\\begin{tabular}{r|lllll}\n",
       " id & class & math & english & science\\\\\n",
       "\\hline\n",
       "\t 5  & 2  & 25 & 80 & 65\\\\\n",
       "\t 6  & 2  & 50 & 89 & 98\\\\\n",
       "\t 7  & 2  & 80 & 90 & 45\\\\\n",
       "\\end{tabular}\n"
      ],
      "text/markdown": [
       "\n",
       "| id | class | math | english | science |\n",
       "|---|---|---|---|---|\n",
       "| 5  | 2  | 25 | 80 | 65 |\n",
       "| 6  | 2  | 50 | 89 | 98 |\n",
       "| 7  | 2  | 80 | 90 | 45 |\n",
       "\n"
      ],
      "text/plain": [
       "  id class math english science\n",
       "1 5  2     25   80      65     \n",
       "2 6  2     50   89      98     \n",
       "3 7  2     80   90      45     "
      ]
     },
     "metadata": {},
     "output_type": "display_data"
    }
   ],
   "source": [
    "# 2 반 이면서 영어점수가 80 점 이상인 경우\n",
    "exam %>% filter(class == 2 & english >= 80)"
   ]
  },
  {
   "cell_type": "code",
   "execution_count": 17,
   "metadata": {},
   "outputs": [
    {
     "data": {
      "text/html": [
       "<table>\n",
       "<thead><tr><th scope=col>id</th><th scope=col>class</th><th scope=col>math</th><th scope=col>english</th><th scope=col>science</th></tr></thead>\n",
       "<tbody>\n",
       "\t<tr><td> 1</td><td>1 </td><td>50</td><td>98</td><td>50</td></tr>\n",
       "\t<tr><td> 2</td><td>1 </td><td>60</td><td>97</td><td>60</td></tr>\n",
       "\t<tr><td> 4</td><td>1 </td><td>30</td><td>98</td><td>58</td></tr>\n",
       "\t<tr><td> 7</td><td>2 </td><td>80</td><td>90</td><td>45</td></tr>\n",
       "\t<tr><td> 8</td><td>2 </td><td>90</td><td>78</td><td>25</td></tr>\n",
       "\t<tr><td> 9</td><td>3 </td><td>20</td><td>98</td><td>15</td></tr>\n",
       "\t<tr><td>10</td><td>3 </td><td>50</td><td>98</td><td>45</td></tr>\n",
       "\t<tr><td>13</td><td>4 </td><td>46</td><td>98</td><td>65</td></tr>\n",
       "\t<tr><td>16</td><td>4 </td><td>58</td><td>98</td><td>65</td></tr>\n",
       "</tbody>\n",
       "</table>\n"
      ],
      "text/latex": [
       "\\begin{tabular}{r|lllll}\n",
       " id & class & math & english & science\\\\\n",
       "\\hline\n",
       "\t  1 & 1  & 50 & 98 & 50\\\\\n",
       "\t  2 & 1  & 60 & 97 & 60\\\\\n",
       "\t  4 & 1  & 30 & 98 & 58\\\\\n",
       "\t  7 & 2  & 80 & 90 & 45\\\\\n",
       "\t  8 & 2  & 90 & 78 & 25\\\\\n",
       "\t  9 & 3  & 20 & 98 & 15\\\\\n",
       "\t 10 & 3  & 50 & 98 & 45\\\\\n",
       "\t 13 & 4  & 46 & 98 & 65\\\\\n",
       "\t 16 & 4  & 58 & 98 & 65\\\\\n",
       "\\end{tabular}\n"
      ],
      "text/markdown": [
       "\n",
       "| id | class | math | english | science |\n",
       "|---|---|---|---|---|\n",
       "|  1 | 1  | 50 | 98 | 50 |\n",
       "|  2 | 1  | 60 | 97 | 60 |\n",
       "|  4 | 1  | 30 | 98 | 58 |\n",
       "|  7 | 2  | 80 | 90 | 45 |\n",
       "|  8 | 2  | 90 | 78 | 25 |\n",
       "|  9 | 3  | 20 | 98 | 15 |\n",
       "| 10 | 3  | 50 | 98 | 45 |\n",
       "| 13 | 4  | 46 | 98 | 65 |\n",
       "| 16 | 4  | 58 | 98 | 65 |\n",
       "\n"
      ],
      "text/plain": [
       "  id class math english science\n",
       "1  1 1     50   98      50     \n",
       "2  2 1     60   97      60     \n",
       "3  4 1     30   98      58     \n",
       "4  7 2     80   90      45     \n",
       "5  8 2     90   78      25     \n",
       "6  9 3     20   98      15     \n",
       "7 10 3     50   98      45     \n",
       "8 13 4     46   98      65     \n",
       "9 16 4     58   98      65     "
      ]
     },
     "metadata": {},
     "output_type": "display_data"
    }
   ],
   "source": [
    "# 수학 점수가 90 점 이상이거나 영어점수가 90 점 이상인 경우\n",
    "exam %>% filter(math >= 90 | english >= 90)"
   ]
  },
  {
   "cell_type": "code",
   "execution_count": 18,
   "metadata": {},
   "outputs": [
    {
     "data": {
      "text/html": [
       "<table>\n",
       "<thead><tr><th scope=col>id</th><th scope=col>class</th><th scope=col>math</th><th scope=col>english</th><th scope=col>science</th></tr></thead>\n",
       "<tbody>\n",
       "\t<tr><td> 3</td><td>1 </td><td>45</td><td>86</td><td>78</td></tr>\n",
       "\t<tr><td> 5</td><td>2 </td><td>25</td><td>80</td><td>65</td></tr>\n",
       "\t<tr><td> 6</td><td>2 </td><td>50</td><td>89</td><td>98</td></tr>\n",
       "\t<tr><td> 7</td><td>2 </td><td>80</td><td>90</td><td>45</td></tr>\n",
       "\t<tr><td> 8</td><td>2 </td><td>90</td><td>78</td><td>25</td></tr>\n",
       "\t<tr><td> 9</td><td>3 </td><td>20</td><td>98</td><td>15</td></tr>\n",
       "\t<tr><td>10</td><td>3 </td><td>50</td><td>98</td><td>45</td></tr>\n",
       "\t<tr><td>11</td><td>3 </td><td>65</td><td>65</td><td>65</td></tr>\n",
       "\t<tr><td>12</td><td>3 </td><td>45</td><td>85</td><td>32</td></tr>\n",
       "\t<tr><td>14</td><td>4 </td><td>48</td><td>87</td><td>12</td></tr>\n",
       "\t<tr><td>15</td><td>4 </td><td>75</td><td>56</td><td>78</td></tr>\n",
       "\t<tr><td>17</td><td>5 </td><td>65</td><td>68</td><td>98</td></tr>\n",
       "\t<tr><td>18</td><td>5 </td><td>80</td><td>78</td><td>90</td></tr>\n",
       "\t<tr><td>19</td><td>5 </td><td>89</td><td>68</td><td>87</td></tr>\n",
       "\t<tr><td>20</td><td>5 </td><td>78</td><td>83</td><td>58</td></tr>\n",
       "</tbody>\n",
       "</table>\n"
      ],
      "text/latex": [
       "\\begin{tabular}{r|lllll}\n",
       " id & class & math & english & science\\\\\n",
       "\\hline\n",
       "\t  3 & 1  & 45 & 86 & 78\\\\\n",
       "\t  5 & 2  & 25 & 80 & 65\\\\\n",
       "\t  6 & 2  & 50 & 89 & 98\\\\\n",
       "\t  7 & 2  & 80 & 90 & 45\\\\\n",
       "\t  8 & 2  & 90 & 78 & 25\\\\\n",
       "\t  9 & 3  & 20 & 98 & 15\\\\\n",
       "\t 10 & 3  & 50 & 98 & 45\\\\\n",
       "\t 11 & 3  & 65 & 65 & 65\\\\\n",
       "\t 12 & 3  & 45 & 85 & 32\\\\\n",
       "\t 14 & 4  & 48 & 87 & 12\\\\\n",
       "\t 15 & 4  & 75 & 56 & 78\\\\\n",
       "\t 17 & 5  & 65 & 68 & 98\\\\\n",
       "\t 18 & 5  & 80 & 78 & 90\\\\\n",
       "\t 19 & 5  & 89 & 68 & 87\\\\\n",
       "\t 20 & 5  & 78 & 83 & 58\\\\\n",
       "\\end{tabular}\n"
      ],
      "text/markdown": [
       "\n",
       "| id | class | math | english | science |\n",
       "|---|---|---|---|---|\n",
       "|  3 | 1  | 45 | 86 | 78 |\n",
       "|  5 | 2  | 25 | 80 | 65 |\n",
       "|  6 | 2  | 50 | 89 | 98 |\n",
       "|  7 | 2  | 80 | 90 | 45 |\n",
       "|  8 | 2  | 90 | 78 | 25 |\n",
       "|  9 | 3  | 20 | 98 | 15 |\n",
       "| 10 | 3  | 50 | 98 | 45 |\n",
       "| 11 | 3  | 65 | 65 | 65 |\n",
       "| 12 | 3  | 45 | 85 | 32 |\n",
       "| 14 | 4  | 48 | 87 | 12 |\n",
       "| 15 | 4  | 75 | 56 | 78 |\n",
       "| 17 | 5  | 65 | 68 | 98 |\n",
       "| 18 | 5  | 80 | 78 | 90 |\n",
       "| 19 | 5  | 89 | 68 | 87 |\n",
       "| 20 | 5  | 78 | 83 | 58 |\n",
       "\n"
      ],
      "text/plain": [
       "   id class math english science\n",
       "1   3 1     45   86      78     \n",
       "2   5 2     25   80      65     \n",
       "3   6 2     50   89      98     \n",
       "4   7 2     80   90      45     \n",
       "5   8 2     90   78      25     \n",
       "6   9 3     20   98      15     \n",
       "7  10 3     50   98      45     \n",
       "8  11 3     65   65      65     \n",
       "9  12 3     45   85      32     \n",
       "10 14 4     48   87      12     \n",
       "11 15 4     75   56      78     \n",
       "12 17 5     65   68      98     \n",
       "13 18 5     80   78      90     \n",
       "14 19 5     89   68      87     \n",
       "15 20 5     78   83      58     "
      ]
     },
     "metadata": {},
     "output_type": "display_data"
    }
   ],
   "source": [
    "# 영어점수가 90 점 미만이거나 과학점수가 50 점 미만인 경우\n",
    "exam %>% filter(english < 90 | science < 50)"
   ]
  },
  {
   "cell_type": "code",
   "execution_count": 19,
   "metadata": {},
   "outputs": [
    {
     "data": {
      "text/html": [
       "<table>\n",
       "<thead><tr><th scope=col>id</th><th scope=col>class</th><th scope=col>math</th><th scope=col>english</th><th scope=col>science</th></tr></thead>\n",
       "<tbody>\n",
       "\t<tr><td> 1</td><td>1 </td><td>50</td><td>98</td><td>50</td></tr>\n",
       "\t<tr><td> 2</td><td>1 </td><td>60</td><td>97</td><td>60</td></tr>\n",
       "\t<tr><td> 3</td><td>1 </td><td>45</td><td>86</td><td>78</td></tr>\n",
       "\t<tr><td> 4</td><td>1 </td><td>30</td><td>98</td><td>58</td></tr>\n",
       "\t<tr><td> 9</td><td>3 </td><td>20</td><td>98</td><td>15</td></tr>\n",
       "\t<tr><td>10</td><td>3 </td><td>50</td><td>98</td><td>45</td></tr>\n",
       "\t<tr><td>11</td><td>3 </td><td>65</td><td>65</td><td>65</td></tr>\n",
       "\t<tr><td>12</td><td>3 </td><td>45</td><td>85</td><td>32</td></tr>\n",
       "\t<tr><td>17</td><td>5 </td><td>65</td><td>68</td><td>98</td></tr>\n",
       "\t<tr><td>18</td><td>5 </td><td>80</td><td>78</td><td>90</td></tr>\n",
       "\t<tr><td>19</td><td>5 </td><td>89</td><td>68</td><td>87</td></tr>\n",
       "\t<tr><td>20</td><td>5 </td><td>78</td><td>83</td><td>58</td></tr>\n",
       "</tbody>\n",
       "</table>\n"
      ],
      "text/latex": [
       "\\begin{tabular}{r|lllll}\n",
       " id & class & math & english & science\\\\\n",
       "\\hline\n",
       "\t  1 & 1  & 50 & 98 & 50\\\\\n",
       "\t  2 & 1  & 60 & 97 & 60\\\\\n",
       "\t  3 & 1  & 45 & 86 & 78\\\\\n",
       "\t  4 & 1  & 30 & 98 & 58\\\\\n",
       "\t  9 & 3  & 20 & 98 & 15\\\\\n",
       "\t 10 & 3  & 50 & 98 & 45\\\\\n",
       "\t 11 & 3  & 65 & 65 & 65\\\\\n",
       "\t 12 & 3  & 45 & 85 & 32\\\\\n",
       "\t 17 & 5  & 65 & 68 & 98\\\\\n",
       "\t 18 & 5  & 80 & 78 & 90\\\\\n",
       "\t 19 & 5  & 89 & 68 & 87\\\\\n",
       "\t 20 & 5  & 78 & 83 & 58\\\\\n",
       "\\end{tabular}\n"
      ],
      "text/markdown": [
       "\n",
       "| id | class | math | english | science |\n",
       "|---|---|---|---|---|\n",
       "|  1 | 1  | 50 | 98 | 50 |\n",
       "|  2 | 1  | 60 | 97 | 60 |\n",
       "|  3 | 1  | 45 | 86 | 78 |\n",
       "|  4 | 1  | 30 | 98 | 58 |\n",
       "|  9 | 3  | 20 | 98 | 15 |\n",
       "| 10 | 3  | 50 | 98 | 45 |\n",
       "| 11 | 3  | 65 | 65 | 65 |\n",
       "| 12 | 3  | 45 | 85 | 32 |\n",
       "| 17 | 5  | 65 | 68 | 98 |\n",
       "| 18 | 5  | 80 | 78 | 90 |\n",
       "| 19 | 5  | 89 | 68 | 87 |\n",
       "| 20 | 5  | 78 | 83 | 58 |\n",
       "\n"
      ],
      "text/plain": [
       "   id class math english science\n",
       "1   1 1     50   98      50     \n",
       "2   2 1     60   97      60     \n",
       "3   3 1     45   86      78     \n",
       "4   4 1     30   98      58     \n",
       "5   9 3     20   98      15     \n",
       "6  10 3     50   98      45     \n",
       "7  11 3     65   65      65     \n",
       "8  12 3     45   85      32     \n",
       "9  17 5     65   68      98     \n",
       "10 18 5     80   78      90     \n",
       "11 19 5     89   68      87     \n",
       "12 20 5     78   83      58     "
      ]
     },
     "metadata": {},
     "output_type": "display_data"
    }
   ],
   "source": [
    "# 1, 3, 5 반에 해당되면 추출\n",
    "exam %>% filter(class == 1 | class == 3 | class == 5)"
   ]
  },
  {
   "cell_type": "code",
   "execution_count": 20,
   "metadata": {},
   "outputs": [
    {
     "data": {
      "text/html": [
       "<table>\n",
       "<thead><tr><th scope=col>id</th><th scope=col>class</th><th scope=col>math</th><th scope=col>english</th><th scope=col>science</th></tr></thead>\n",
       "<tbody>\n",
       "\t<tr><td> 1</td><td>1 </td><td>50</td><td>98</td><td>50</td></tr>\n",
       "\t<tr><td> 2</td><td>1 </td><td>60</td><td>97</td><td>60</td></tr>\n",
       "\t<tr><td> 3</td><td>1 </td><td>45</td><td>86</td><td>78</td></tr>\n",
       "\t<tr><td> 4</td><td>1 </td><td>30</td><td>98</td><td>58</td></tr>\n",
       "\t<tr><td> 9</td><td>3 </td><td>20</td><td>98</td><td>15</td></tr>\n",
       "\t<tr><td>10</td><td>3 </td><td>50</td><td>98</td><td>45</td></tr>\n",
       "\t<tr><td>11</td><td>3 </td><td>65</td><td>65</td><td>65</td></tr>\n",
       "\t<tr><td>12</td><td>3 </td><td>45</td><td>85</td><td>32</td></tr>\n",
       "\t<tr><td>17</td><td>5 </td><td>65</td><td>68</td><td>98</td></tr>\n",
       "\t<tr><td>18</td><td>5 </td><td>80</td><td>78</td><td>90</td></tr>\n",
       "\t<tr><td>19</td><td>5 </td><td>89</td><td>68</td><td>87</td></tr>\n",
       "\t<tr><td>20</td><td>5 </td><td>78</td><td>83</td><td>58</td></tr>\n",
       "</tbody>\n",
       "</table>\n"
      ],
      "text/latex": [
       "\\begin{tabular}{r|lllll}\n",
       " id & class & math & english & science\\\\\n",
       "\\hline\n",
       "\t  1 & 1  & 50 & 98 & 50\\\\\n",
       "\t  2 & 1  & 60 & 97 & 60\\\\\n",
       "\t  3 & 1  & 45 & 86 & 78\\\\\n",
       "\t  4 & 1  & 30 & 98 & 58\\\\\n",
       "\t  9 & 3  & 20 & 98 & 15\\\\\n",
       "\t 10 & 3  & 50 & 98 & 45\\\\\n",
       "\t 11 & 3  & 65 & 65 & 65\\\\\n",
       "\t 12 & 3  & 45 & 85 & 32\\\\\n",
       "\t 17 & 5  & 65 & 68 & 98\\\\\n",
       "\t 18 & 5  & 80 & 78 & 90\\\\\n",
       "\t 19 & 5  & 89 & 68 & 87\\\\\n",
       "\t 20 & 5  & 78 & 83 & 58\\\\\n",
       "\\end{tabular}\n"
      ],
      "text/markdown": [
       "\n",
       "| id | class | math | english | science |\n",
       "|---|---|---|---|---|\n",
       "|  1 | 1  | 50 | 98 | 50 |\n",
       "|  2 | 1  | 60 | 97 | 60 |\n",
       "|  3 | 1  | 45 | 86 | 78 |\n",
       "|  4 | 1  | 30 | 98 | 58 |\n",
       "|  9 | 3  | 20 | 98 | 15 |\n",
       "| 10 | 3  | 50 | 98 | 45 |\n",
       "| 11 | 3  | 65 | 65 | 65 |\n",
       "| 12 | 3  | 45 | 85 | 32 |\n",
       "| 17 | 5  | 65 | 68 | 98 |\n",
       "| 18 | 5  | 80 | 78 | 90 |\n",
       "| 19 | 5  | 89 | 68 | 87 |\n",
       "| 20 | 5  | 78 | 83 | 58 |\n",
       "\n"
      ],
      "text/plain": [
       "   id class math english science\n",
       "1   1 1     50   98      50     \n",
       "2   2 1     60   97      60     \n",
       "3   3 1     45   86      78     \n",
       "4   4 1     30   98      58     \n",
       "5   9 3     20   98      15     \n",
       "6  10 3     50   98      45     \n",
       "7  11 3     65   65      65     \n",
       "8  12 3     45   85      32     \n",
       "9  17 5     65   68      98     \n",
       "10 18 5     80   78      90     \n",
       "11 19 5     89   68      87     \n",
       "12 20 5     78   83      58     "
      ]
     },
     "metadata": {},
     "output_type": "display_data"
    }
   ],
   "source": [
    "# 1, 3, 5 반에 해당하면 추출\n",
    "exam %>% filter(class %in% c(1,3,5)) "
   ]
  },
  {
   "cell_type": "code",
   "execution_count": 21,
   "metadata": {},
   "outputs": [],
   "source": [
    "class1 <- exam %>% filter(class == 1) # class 가 1 인 행 추출, class1 에 할당\n",
    "class2 <- exam %>% filter(class == 2) # class 가 2 인 행 추출, class2 에 할당"
   ]
  },
  {
   "cell_type": "code",
   "execution_count": 22,
   "metadata": {},
   "outputs": [
    {
     "data": {
      "text/html": [
       "46.25"
      ],
      "text/latex": [
       "46.25"
      ],
      "text/markdown": [
       "46.25"
      ],
      "text/plain": [
       "[1] 46.25"
      ]
     },
     "metadata": {},
     "output_type": "display_data"
    }
   ],
   "source": [
    "mean(class1$math) # 1 반 수학 점수 평균 구하기"
   ]
  },
  {
   "cell_type": "code",
   "execution_count": 23,
   "metadata": {},
   "outputs": [
    {
     "data": {
      "text/html": [
       "61.25"
      ],
      "text/latex": [
       "61.25"
      ],
      "text/markdown": [
       "61.25"
      ],
      "text/plain": [
       "[1] 61.25"
      ]
     },
     "metadata": {},
     "output_type": "display_data"
    }
   ],
   "source": [
    "mean(class2$math) # 2 반 수학 점수 평균 구하기"
   ]
  },
  {
   "cell_type": "markdown",
   "metadata": {},
   "source": [
    "## R에서 사용하는 기호들\n",
    "### 논리 연산자 기능\n",
    "\n",
    "```\n",
    "< 작다\n",
    "<= 작거나 같다\n",
    "> 크다\n",
    ">= 크거나 같다\n",
    "== 같다\n",
    "!= 같지 않다\n",
    "│ 또는\n",
    "& 그리고\n",
    "%in% 매칭 확인\n",
    "```"
   ]
  },
  {
   "cell_type": "markdown",
   "metadata": {},
   "source": [
    "### 산술 연산자 기능\n",
    "\n",
    "```\n",
    "+ 더하기\n",
    "- 빼기\n",
    "* 곱하기\n",
    "/ 나누기\n",
    "^ , ** 제곱\n",
    "%/% 나눗셈의 몫\n",
    "%% 나눗셈의 나머지\n",
    "```"
   ]
  },
  {
   "cell_type": "markdown",
   "metadata": {},
   "source": [
    "Q1. 자동차 배기량에 따라 고속도로 연비가 다른지 알아보려고 합니다.  \n",
    "displ(배기량)이 4 이하인 자동차와 5 이상인 자동차 중  \n",
    "어떤 자동차의 hwy(고속도로 연비)가 평균적으로 더 높은지 알아보세요"
   ]
  },
  {
   "cell_type": "code",
   "execution_count": 24,
   "metadata": {},
   "outputs": [],
   "source": [
    "mpg <- as.data.frame(ggplot2::mpg) # mpg 데이터 불러오기"
   ]
  },
  {
   "cell_type": "code",
   "execution_count": 25,
   "metadata": {},
   "outputs": [],
   "source": [
    "mpg_a <- mpg %>% filter(displ <= 4) # displ 4 이하 추출\n",
    "mpg_b <- mpg %>% filter(displ >= 5) # displ 5 이상 추출"
   ]
  },
  {
   "cell_type": "code",
   "execution_count": 26,
   "metadata": {},
   "outputs": [
    {
     "data": {
      "text/html": [
       "25.9631901840491"
      ],
      "text/latex": [
       "25.9631901840491"
      ],
      "text/markdown": [
       "25.9631901840491"
      ],
      "text/plain": [
       "[1] 25.96319"
      ]
     },
     "metadata": {},
     "output_type": "display_data"
    }
   ],
   "source": [
    "mean(mpg_a$hwy) # displ 4 이하 hwy 평균"
   ]
  },
  {
   "cell_type": "code",
   "execution_count": 27,
   "metadata": {},
   "outputs": [
    {
     "data": {
      "text/html": [
       "18.0789473684211"
      ],
      "text/latex": [
       "18.0789473684211"
      ],
      "text/markdown": [
       "18.0789473684211"
      ],
      "text/plain": [
       "[1] 18.07895"
      ]
     },
     "metadata": {},
     "output_type": "display_data"
    }
   ],
   "source": [
    "mean(mpg_b$hwy) # displ 5 이상 hwy 평균"
   ]
  },
  {
   "cell_type": "markdown",
   "metadata": {},
   "source": [
    "Q2. 자동차 제조 회사에 따라 도시 연비가 다른지 알아보려고 합니다.  \n",
    "\"audi\"와 \"toyota\" 중 어느 manufacturer(자동차 제조 회사)의  \n",
    "cty(도시 연비)가 평균적으로 더 높은지 알아보세요."
   ]
  },
  {
   "cell_type": "code",
   "execution_count": 29,
   "metadata": {},
   "outputs": [],
   "source": [
    "mpg_audi <- mpg %>% filter(manufacturer == \"audi\") # audi 추출\n",
    "mpg_toyota <- mpg %>% filter(manufacturer == \"toyota\") # toyota 추출"
   ]
  },
  {
   "cell_type": "code",
   "execution_count": 30,
   "metadata": {},
   "outputs": [
    {
     "data": {
      "text/html": [
       "17.6111111111111"
      ],
      "text/latex": [
       "17.6111111111111"
      ],
      "text/markdown": [
       "17.6111111111111"
      ],
      "text/plain": [
       "[1] 17.61111"
      ]
     },
     "metadata": {},
     "output_type": "display_data"
    }
   ],
   "source": [
    "mean(mpg_audi$cty) # audi 의 cty 평균"
   ]
  },
  {
   "cell_type": "code",
   "execution_count": 31,
   "metadata": {},
   "outputs": [
    {
     "data": {
      "text/html": [
       "18.5294117647059"
      ],
      "text/latex": [
       "18.5294117647059"
      ],
      "text/markdown": [
       "18.5294117647059"
      ],
      "text/plain": [
       "[1] 18.52941"
      ]
     },
     "metadata": {},
     "output_type": "display_data"
    }
   ],
   "source": [
    "mean(mpg_toyota$cty) # toyota 의 cty 평균"
   ]
  },
  {
   "cell_type": "markdown",
   "metadata": {},
   "source": [
    "Q3. \"chevrolet\", \"ford\", \"honda\" 자동차의 고속도로 연비 평균을 알아보려고 합니다.  \n",
    "이 회사들의 자동차를 추출한 뒤 hwy 전체 평균을 구해보세요."
   ]
  },
  {
   "cell_type": "code",
   "execution_count": 32,
   "metadata": {},
   "outputs": [
    {
     "data": {
      "text/html": [
       "22.5094339622642"
      ],
      "text/latex": [
       "22.5094339622642"
      ],
      "text/markdown": [
       "22.5094339622642"
      ],
      "text/plain": [
       "[1] 22.50943"
      ]
     },
     "metadata": {},
     "output_type": "display_data"
    }
   ],
   "source": [
    "# manufacturer 가 chevrolet, ford, honda 에 해당하면 추출\n",
    "mpg_new <- mpg %>% filter(manufacturer %in% c(\"chevrolet\", \"ford\", \"honda\"))\n",
    "mean(mpg_new$hwy)"
   ]
  },
  {
   "cell_type": "code",
   "execution_count": 33,
   "metadata": {},
   "outputs": [
    {
     "data": {
      "text/html": [
       "<table>\n",
       "<thead><tr><th scope=col>math</th></tr></thead>\n",
       "<tbody>\n",
       "\t<tr><td>50</td></tr>\n",
       "\t<tr><td>60</td></tr>\n",
       "\t<tr><td>45</td></tr>\n",
       "\t<tr><td>30</td></tr>\n",
       "\t<tr><td>25</td></tr>\n",
       "\t<tr><td>50</td></tr>\n",
       "\t<tr><td>80</td></tr>\n",
       "\t<tr><td>90</td></tr>\n",
       "\t<tr><td>20</td></tr>\n",
       "\t<tr><td>50</td></tr>\n",
       "\t<tr><td>65</td></tr>\n",
       "\t<tr><td>45</td></tr>\n",
       "\t<tr><td>46</td></tr>\n",
       "\t<tr><td>48</td></tr>\n",
       "\t<tr><td>75</td></tr>\n",
       "\t<tr><td>58</td></tr>\n",
       "\t<tr><td>65</td></tr>\n",
       "\t<tr><td>80</td></tr>\n",
       "\t<tr><td>89</td></tr>\n",
       "\t<tr><td>78</td></tr>\n",
       "</tbody>\n",
       "</table>\n"
      ],
      "text/latex": [
       "\\begin{tabular}{r|l}\n",
       " math\\\\\n",
       "\\hline\n",
       "\t 50\\\\\n",
       "\t 60\\\\\n",
       "\t 45\\\\\n",
       "\t 30\\\\\n",
       "\t 25\\\\\n",
       "\t 50\\\\\n",
       "\t 80\\\\\n",
       "\t 90\\\\\n",
       "\t 20\\\\\n",
       "\t 50\\\\\n",
       "\t 65\\\\\n",
       "\t 45\\\\\n",
       "\t 46\\\\\n",
       "\t 48\\\\\n",
       "\t 75\\\\\n",
       "\t 58\\\\\n",
       "\t 65\\\\\n",
       "\t 80\\\\\n",
       "\t 89\\\\\n",
       "\t 78\\\\\n",
       "\\end{tabular}\n"
      ],
      "text/markdown": [
       "\n",
       "| math |\n",
       "|---|\n",
       "| 50 |\n",
       "| 60 |\n",
       "| 45 |\n",
       "| 30 |\n",
       "| 25 |\n",
       "| 50 |\n",
       "| 80 |\n",
       "| 90 |\n",
       "| 20 |\n",
       "| 50 |\n",
       "| 65 |\n",
       "| 45 |\n",
       "| 46 |\n",
       "| 48 |\n",
       "| 75 |\n",
       "| 58 |\n",
       "| 65 |\n",
       "| 80 |\n",
       "| 89 |\n",
       "| 78 |\n",
       "\n"
      ],
      "text/plain": [
       "   math\n",
       "1  50  \n",
       "2  60  \n",
       "3  45  \n",
       "4  30  \n",
       "5  25  \n",
       "6  50  \n",
       "7  80  \n",
       "8  90  \n",
       "9  20  \n",
       "10 50  \n",
       "11 65  \n",
       "12 45  \n",
       "13 46  \n",
       "14 48  \n",
       "15 75  \n",
       "16 58  \n",
       "17 65  \n",
       "18 80  \n",
       "19 89  \n",
       "20 78  "
      ]
     },
     "metadata": {},
     "output_type": "display_data"
    }
   ],
   "source": [
    "# 필요한 변수(컬럼)만 추출 하기\n",
    "exam %>% select(math) # math 추출"
   ]
  },
  {
   "cell_type": "code",
   "execution_count": 33,
   "metadata": {},
   "outputs": [
    {
     "data": {
      "text/html": [
       "<table>\n",
       "<thead><tr><th scope=col>english</th></tr></thead>\n",
       "<tbody>\n",
       "\t<tr><td>98</td></tr>\n",
       "\t<tr><td>97</td></tr>\n",
       "\t<tr><td>86</td></tr>\n",
       "\t<tr><td>98</td></tr>\n",
       "\t<tr><td>80</td></tr>\n",
       "\t<tr><td>89</td></tr>\n",
       "\t<tr><td>90</td></tr>\n",
       "\t<tr><td>78</td></tr>\n",
       "\t<tr><td>98</td></tr>\n",
       "\t<tr><td>98</td></tr>\n",
       "\t<tr><td>65</td></tr>\n",
       "\t<tr><td>85</td></tr>\n",
       "\t<tr><td>98</td></tr>\n",
       "\t<tr><td>87</td></tr>\n",
       "\t<tr><td>56</td></tr>\n",
       "\t<tr><td>98</td></tr>\n",
       "\t<tr><td>68</td></tr>\n",
       "\t<tr><td>78</td></tr>\n",
       "\t<tr><td>68</td></tr>\n",
       "\t<tr><td>83</td></tr>\n",
       "</tbody>\n",
       "</table>\n"
      ],
      "text/latex": [
       "\\begin{tabular}{r|l}\n",
       " english\\\\\n",
       "\\hline\n",
       "\t 98\\\\\n",
       "\t 97\\\\\n",
       "\t 86\\\\\n",
       "\t 98\\\\\n",
       "\t 80\\\\\n",
       "\t 89\\\\\n",
       "\t 90\\\\\n",
       "\t 78\\\\\n",
       "\t 98\\\\\n",
       "\t 98\\\\\n",
       "\t 65\\\\\n",
       "\t 85\\\\\n",
       "\t 98\\\\\n",
       "\t 87\\\\\n",
       "\t 56\\\\\n",
       "\t 98\\\\\n",
       "\t 68\\\\\n",
       "\t 78\\\\\n",
       "\t 68\\\\\n",
       "\t 83\\\\\n",
       "\\end{tabular}\n"
      ],
      "text/markdown": [
       "\n",
       "| english |\n",
       "|---|\n",
       "| 98 |\n",
       "| 97 |\n",
       "| 86 |\n",
       "| 98 |\n",
       "| 80 |\n",
       "| 89 |\n",
       "| 90 |\n",
       "| 78 |\n",
       "| 98 |\n",
       "| 98 |\n",
       "| 65 |\n",
       "| 85 |\n",
       "| 98 |\n",
       "| 87 |\n",
       "| 56 |\n",
       "| 98 |\n",
       "| 68 |\n",
       "| 78 |\n",
       "| 68 |\n",
       "| 83 |\n",
       "\n"
      ],
      "text/plain": [
       "   english\n",
       "1  98     \n",
       "2  97     \n",
       "3  86     \n",
       "4  98     \n",
       "5  80     \n",
       "6  89     \n",
       "7  90     \n",
       "8  78     \n",
       "9  98     \n",
       "10 98     \n",
       "11 65     \n",
       "12 85     \n",
       "13 98     \n",
       "14 87     \n",
       "15 56     \n",
       "16 98     \n",
       "17 68     \n",
       "18 78     \n",
       "19 68     \n",
       "20 83     "
      ]
     },
     "metadata": {},
     "output_type": "display_data"
    }
   ],
   "source": [
    "exam %>% select(english) # english 추출"
   ]
  },
  {
   "cell_type": "code",
   "execution_count": 34,
   "metadata": {},
   "outputs": [
    {
     "data": {
      "text/html": [
       "<table>\n",
       "<thead><tr><th scope=col>class</th><th scope=col>math</th><th scope=col>english</th></tr></thead>\n",
       "<tbody>\n",
       "\t<tr><td>1 </td><td>50</td><td>98</td></tr>\n",
       "\t<tr><td>1 </td><td>60</td><td>97</td></tr>\n",
       "\t<tr><td>1 </td><td>45</td><td>86</td></tr>\n",
       "\t<tr><td>1 </td><td>30</td><td>98</td></tr>\n",
       "\t<tr><td>2 </td><td>25</td><td>80</td></tr>\n",
       "\t<tr><td>2 </td><td>50</td><td>89</td></tr>\n",
       "\t<tr><td>2 </td><td>80</td><td>90</td></tr>\n",
       "\t<tr><td>2 </td><td>90</td><td>78</td></tr>\n",
       "\t<tr><td>3 </td><td>20</td><td>98</td></tr>\n",
       "\t<tr><td>3 </td><td>50</td><td>98</td></tr>\n",
       "\t<tr><td>3 </td><td>65</td><td>65</td></tr>\n",
       "\t<tr><td>3 </td><td>45</td><td>85</td></tr>\n",
       "\t<tr><td>4 </td><td>46</td><td>98</td></tr>\n",
       "\t<tr><td>4 </td><td>48</td><td>87</td></tr>\n",
       "\t<tr><td>4 </td><td>75</td><td>56</td></tr>\n",
       "\t<tr><td>4 </td><td>58</td><td>98</td></tr>\n",
       "\t<tr><td>5 </td><td>65</td><td>68</td></tr>\n",
       "\t<tr><td>5 </td><td>80</td><td>78</td></tr>\n",
       "\t<tr><td>5 </td><td>89</td><td>68</td></tr>\n",
       "\t<tr><td>5 </td><td>78</td><td>83</td></tr>\n",
       "</tbody>\n",
       "</table>\n"
      ],
      "text/latex": [
       "\\begin{tabular}{r|lll}\n",
       " class & math & english\\\\\n",
       "\\hline\n",
       "\t 1  & 50 & 98\\\\\n",
       "\t 1  & 60 & 97\\\\\n",
       "\t 1  & 45 & 86\\\\\n",
       "\t 1  & 30 & 98\\\\\n",
       "\t 2  & 25 & 80\\\\\n",
       "\t 2  & 50 & 89\\\\\n",
       "\t 2  & 80 & 90\\\\\n",
       "\t 2  & 90 & 78\\\\\n",
       "\t 3  & 20 & 98\\\\\n",
       "\t 3  & 50 & 98\\\\\n",
       "\t 3  & 65 & 65\\\\\n",
       "\t 3  & 45 & 85\\\\\n",
       "\t 4  & 46 & 98\\\\\n",
       "\t 4  & 48 & 87\\\\\n",
       "\t 4  & 75 & 56\\\\\n",
       "\t 4  & 58 & 98\\\\\n",
       "\t 5  & 65 & 68\\\\\n",
       "\t 5  & 80 & 78\\\\\n",
       "\t 5  & 89 & 68\\\\\n",
       "\t 5  & 78 & 83\\\\\n",
       "\\end{tabular}\n"
      ],
      "text/markdown": [
       "\n",
       "| class | math | english |\n",
       "|---|---|---|\n",
       "| 1  | 50 | 98 |\n",
       "| 1  | 60 | 97 |\n",
       "| 1  | 45 | 86 |\n",
       "| 1  | 30 | 98 |\n",
       "| 2  | 25 | 80 |\n",
       "| 2  | 50 | 89 |\n",
       "| 2  | 80 | 90 |\n",
       "| 2  | 90 | 78 |\n",
       "| 3  | 20 | 98 |\n",
       "| 3  | 50 | 98 |\n",
       "| 3  | 65 | 65 |\n",
       "| 3  | 45 | 85 |\n",
       "| 4  | 46 | 98 |\n",
       "| 4  | 48 | 87 |\n",
       "| 4  | 75 | 56 |\n",
       "| 4  | 58 | 98 |\n",
       "| 5  | 65 | 68 |\n",
       "| 5  | 80 | 78 |\n",
       "| 5  | 89 | 68 |\n",
       "| 5  | 78 | 83 |\n",
       "\n"
      ],
      "text/plain": [
       "   class math english\n",
       "1  1     50   98     \n",
       "2  1     60   97     \n",
       "3  1     45   86     \n",
       "4  1     30   98     \n",
       "5  2     25   80     \n",
       "6  2     50   89     \n",
       "7  2     80   90     \n",
       "8  2     90   78     \n",
       "9  3     20   98     \n",
       "10 3     50   98     \n",
       "11 3     65   65     \n",
       "12 3     45   85     \n",
       "13 4     46   98     \n",
       "14 4     48   87     \n",
       "15 4     75   56     \n",
       "16 4     58   98     \n",
       "17 5     65   68     \n",
       "18 5     80   78     \n",
       "19 5     89   68     \n",
       "20 5     78   83     "
      ]
     },
     "metadata": {},
     "output_type": "display_data"
    }
   ],
   "source": [
    "exam %>% select(class, math, english) # class, math, english 변수 추출"
   ]
  },
  {
   "cell_type": "code",
   "execution_count": 122,
   "metadata": {},
   "outputs": [
    {
     "data": {
      "text/html": [
       "<table>\n",
       "<thead><tr><th scope=col>id</th><th scope=col>class</th><th scope=col>english</th><th scope=col>science</th></tr></thead>\n",
       "<tbody>\n",
       "\t<tr><td> 1</td><td>1 </td><td>98</td><td>50</td></tr>\n",
       "\t<tr><td> 2</td><td>1 </td><td>97</td><td>60</td></tr>\n",
       "\t<tr><td> 3</td><td>1 </td><td>86</td><td>78</td></tr>\n",
       "\t<tr><td> 4</td><td>1 </td><td>98</td><td>58</td></tr>\n",
       "\t<tr><td> 5</td><td>2 </td><td>80</td><td>65</td></tr>\n",
       "\t<tr><td> 6</td><td>2 </td><td>89</td><td>98</td></tr>\n",
       "\t<tr><td> 7</td><td>2 </td><td>90</td><td>45</td></tr>\n",
       "\t<tr><td> 8</td><td>2 </td><td>78</td><td>25</td></tr>\n",
       "\t<tr><td> 9</td><td>3 </td><td>98</td><td>15</td></tr>\n",
       "\t<tr><td>10</td><td>3 </td><td>98</td><td>45</td></tr>\n",
       "\t<tr><td>11</td><td>3 </td><td>65</td><td>65</td></tr>\n",
       "\t<tr><td>12</td><td>3 </td><td>85</td><td>32</td></tr>\n",
       "\t<tr><td>13</td><td>4 </td><td>98</td><td>65</td></tr>\n",
       "\t<tr><td>14</td><td>4 </td><td>87</td><td>12</td></tr>\n",
       "\t<tr><td>15</td><td>4 </td><td>56</td><td>78</td></tr>\n",
       "\t<tr><td>16</td><td>4 </td><td>98</td><td>65</td></tr>\n",
       "\t<tr><td>17</td><td>5 </td><td>68</td><td>98</td></tr>\n",
       "\t<tr><td>18</td><td>5 </td><td>78</td><td>90</td></tr>\n",
       "\t<tr><td>19</td><td>5 </td><td>68</td><td>87</td></tr>\n",
       "\t<tr><td>20</td><td>5 </td><td>83</td><td>58</td></tr>\n",
       "</tbody>\n",
       "</table>\n"
      ],
      "text/latex": [
       "\\begin{tabular}{r|llll}\n",
       " id & class & english & science\\\\\n",
       "\\hline\n",
       "\t  1 & 1  & 98 & 50\\\\\n",
       "\t  2 & 1  & 97 & 60\\\\\n",
       "\t  3 & 1  & 86 & 78\\\\\n",
       "\t  4 & 1  & 98 & 58\\\\\n",
       "\t  5 & 2  & 80 & 65\\\\\n",
       "\t  6 & 2  & 89 & 98\\\\\n",
       "\t  7 & 2  & 90 & 45\\\\\n",
       "\t  8 & 2  & 78 & 25\\\\\n",
       "\t  9 & 3  & 98 & 15\\\\\n",
       "\t 10 & 3  & 98 & 45\\\\\n",
       "\t 11 & 3  & 65 & 65\\\\\n",
       "\t 12 & 3  & 85 & 32\\\\\n",
       "\t 13 & 4  & 98 & 65\\\\\n",
       "\t 14 & 4  & 87 & 12\\\\\n",
       "\t 15 & 4  & 56 & 78\\\\\n",
       "\t 16 & 4  & 98 & 65\\\\\n",
       "\t 17 & 5  & 68 & 98\\\\\n",
       "\t 18 & 5  & 78 & 90\\\\\n",
       "\t 19 & 5  & 68 & 87\\\\\n",
       "\t 20 & 5  & 83 & 58\\\\\n",
       "\\end{tabular}\n"
      ],
      "text/markdown": [
       "\n",
       "| id | class | english | science |\n",
       "|---|---|---|---|\n",
       "|  1 | 1  | 98 | 50 |\n",
       "|  2 | 1  | 97 | 60 |\n",
       "|  3 | 1  | 86 | 78 |\n",
       "|  4 | 1  | 98 | 58 |\n",
       "|  5 | 2  | 80 | 65 |\n",
       "|  6 | 2  | 89 | 98 |\n",
       "|  7 | 2  | 90 | 45 |\n",
       "|  8 | 2  | 78 | 25 |\n",
       "|  9 | 3  | 98 | 15 |\n",
       "| 10 | 3  | 98 | 45 |\n",
       "| 11 | 3  | 65 | 65 |\n",
       "| 12 | 3  | 85 | 32 |\n",
       "| 13 | 4  | 98 | 65 |\n",
       "| 14 | 4  | 87 | 12 |\n",
       "| 15 | 4  | 56 | 78 |\n",
       "| 16 | 4  | 98 | 65 |\n",
       "| 17 | 5  | 68 | 98 |\n",
       "| 18 | 5  | 78 | 90 |\n",
       "| 19 | 5  | 68 | 87 |\n",
       "| 20 | 5  | 83 | 58 |\n",
       "\n"
      ],
      "text/plain": [
       "   id class english science\n",
       "1   1 1     98      50     \n",
       "2   2 1     97      60     \n",
       "3   3 1     86      78     \n",
       "4   4 1     98      58     \n",
       "5   5 2     80      65     \n",
       "6   6 2     89      98     \n",
       "7   7 2     90      45     \n",
       "8   8 2     78      25     \n",
       "9   9 3     98      15     \n",
       "10 10 3     98      45     \n",
       "11 11 3     65      65     \n",
       "12 12 3     85      32     \n",
       "13 13 4     98      65     \n",
       "14 14 4     87      12     \n",
       "15 15 4     56      78     \n",
       "16 16 4     98      65     \n",
       "17 17 5     68      98     \n",
       "18 18 5     78      90     \n",
       "19 19 5     68      87     \n",
       "20 20 5     83      58     "
      ]
     },
     "metadata": {},
     "output_type": "display_data"
    }
   ],
   "source": [
    "exam %>% select(-math) # math 제외"
   ]
  },
  {
   "cell_type": "code",
   "execution_count": 123,
   "metadata": {},
   "outputs": [
    {
     "data": {
      "text/html": [
       "<table>\n",
       "<thead><tr><th scope=col>id</th><th scope=col>class</th><th scope=col>science</th></tr></thead>\n",
       "<tbody>\n",
       "\t<tr><td> 1</td><td>1 </td><td>50</td></tr>\n",
       "\t<tr><td> 2</td><td>1 </td><td>60</td></tr>\n",
       "\t<tr><td> 3</td><td>1 </td><td>78</td></tr>\n",
       "\t<tr><td> 4</td><td>1 </td><td>58</td></tr>\n",
       "\t<tr><td> 5</td><td>2 </td><td>65</td></tr>\n",
       "\t<tr><td> 6</td><td>2 </td><td>98</td></tr>\n",
       "\t<tr><td> 7</td><td>2 </td><td>45</td></tr>\n",
       "\t<tr><td> 8</td><td>2 </td><td>25</td></tr>\n",
       "\t<tr><td> 9</td><td>3 </td><td>15</td></tr>\n",
       "\t<tr><td>10</td><td>3 </td><td>45</td></tr>\n",
       "\t<tr><td>11</td><td>3 </td><td>65</td></tr>\n",
       "\t<tr><td>12</td><td>3 </td><td>32</td></tr>\n",
       "\t<tr><td>13</td><td>4 </td><td>65</td></tr>\n",
       "\t<tr><td>14</td><td>4 </td><td>12</td></tr>\n",
       "\t<tr><td>15</td><td>4 </td><td>78</td></tr>\n",
       "\t<tr><td>16</td><td>4 </td><td>65</td></tr>\n",
       "\t<tr><td>17</td><td>5 </td><td>98</td></tr>\n",
       "\t<tr><td>18</td><td>5 </td><td>90</td></tr>\n",
       "\t<tr><td>19</td><td>5 </td><td>87</td></tr>\n",
       "\t<tr><td>20</td><td>5 </td><td>58</td></tr>\n",
       "</tbody>\n",
       "</table>\n"
      ],
      "text/latex": [
       "\\begin{tabular}{r|lll}\n",
       " id & class & science\\\\\n",
       "\\hline\n",
       "\t  1 & 1  & 50\\\\\n",
       "\t  2 & 1  & 60\\\\\n",
       "\t  3 & 1  & 78\\\\\n",
       "\t  4 & 1  & 58\\\\\n",
       "\t  5 & 2  & 65\\\\\n",
       "\t  6 & 2  & 98\\\\\n",
       "\t  7 & 2  & 45\\\\\n",
       "\t  8 & 2  & 25\\\\\n",
       "\t  9 & 3  & 15\\\\\n",
       "\t 10 & 3  & 45\\\\\n",
       "\t 11 & 3  & 65\\\\\n",
       "\t 12 & 3  & 32\\\\\n",
       "\t 13 & 4  & 65\\\\\n",
       "\t 14 & 4  & 12\\\\\n",
       "\t 15 & 4  & 78\\\\\n",
       "\t 16 & 4  & 65\\\\\n",
       "\t 17 & 5  & 98\\\\\n",
       "\t 18 & 5  & 90\\\\\n",
       "\t 19 & 5  & 87\\\\\n",
       "\t 20 & 5  & 58\\\\\n",
       "\\end{tabular}\n"
      ],
      "text/markdown": [
       "\n",
       "| id | class | science |\n",
       "|---|---|---|\n",
       "|  1 | 1  | 50 |\n",
       "|  2 | 1  | 60 |\n",
       "|  3 | 1  | 78 |\n",
       "|  4 | 1  | 58 |\n",
       "|  5 | 2  | 65 |\n",
       "|  6 | 2  | 98 |\n",
       "|  7 | 2  | 45 |\n",
       "|  8 | 2  | 25 |\n",
       "|  9 | 3  | 15 |\n",
       "| 10 | 3  | 45 |\n",
       "| 11 | 3  | 65 |\n",
       "| 12 | 3  | 32 |\n",
       "| 13 | 4  | 65 |\n",
       "| 14 | 4  | 12 |\n",
       "| 15 | 4  | 78 |\n",
       "| 16 | 4  | 65 |\n",
       "| 17 | 5  | 98 |\n",
       "| 18 | 5  | 90 |\n",
       "| 19 | 5  | 87 |\n",
       "| 20 | 5  | 58 |\n",
       "\n"
      ],
      "text/plain": [
       "   id class science\n",
       "1   1 1     50     \n",
       "2   2 1     60     \n",
       "3   3 1     78     \n",
       "4   4 1     58     \n",
       "5   5 2     65     \n",
       "6   6 2     98     \n",
       "7   7 2     45     \n",
       "8   8 2     25     \n",
       "9   9 3     15     \n",
       "10 10 3     45     \n",
       "11 11 3     65     \n",
       "12 12 3     32     \n",
       "13 13 4     65     \n",
       "14 14 4     12     \n",
       "15 15 4     78     \n",
       "16 16 4     65     \n",
       "17 17 5     98     \n",
       "18 18 5     90     \n",
       "19 19 5     87     \n",
       "20 20 5     58     "
      ]
     },
     "metadata": {},
     "output_type": "display_data"
    }
   ],
   "source": [
    "exam %>% select(-math, -english) # math, english 제외"
   ]
  },
  {
   "cell_type": "code",
   "execution_count": 37,
   "metadata": {},
   "outputs": [
    {
     "data": {
      "text/html": [
       "<table>\n",
       "<thead><tr><th scope=col>english</th></tr></thead>\n",
       "<tbody>\n",
       "\t<tr><td>98</td></tr>\n",
       "\t<tr><td>97</td></tr>\n",
       "\t<tr><td>86</td></tr>\n",
       "\t<tr><td>98</td></tr>\n",
       "</tbody>\n",
       "</table>\n"
      ],
      "text/latex": [
       "\\begin{tabular}{r|l}\n",
       " english\\\\\n",
       "\\hline\n",
       "\t 98\\\\\n",
       "\t 97\\\\\n",
       "\t 86\\\\\n",
       "\t 98\\\\\n",
       "\\end{tabular}\n"
      ],
      "text/markdown": [
       "\n",
       "| english |\n",
       "|---|\n",
       "| 98 |\n",
       "| 97 |\n",
       "| 86 |\n",
       "| 98 |\n",
       "\n"
      ],
      "text/plain": [
       "  english\n",
       "1 98     \n",
       "2 97     \n",
       "3 86     \n",
       "4 98     "
      ]
     },
     "metadata": {},
     "output_type": "display_data"
    }
   ],
   "source": [
    "# class 가 1 인 행만 추출한 다음 english 추출\n",
    "exam %>% filter(class == 1) %>% select(english)"
   ]
  },
  {
   "cell_type": "code",
   "execution_count": 38,
   "metadata": {},
   "outputs": [
    {
     "data": {
      "text/html": [
       "<table>\n",
       "<thead><tr><th scope=col>english</th></tr></thead>\n",
       "<tbody>\n",
       "\t<tr><td>98</td></tr>\n",
       "\t<tr><td>97</td></tr>\n",
       "\t<tr><td>86</td></tr>\n",
       "\t<tr><td>98</td></tr>\n",
       "</tbody>\n",
       "</table>\n"
      ],
      "text/latex": [
       "\\begin{tabular}{r|l}\n",
       " english\\\\\n",
       "\\hline\n",
       "\t 98\\\\\n",
       "\t 97\\\\\n",
       "\t 86\\\\\n",
       "\t 98\\\\\n",
       "\\end{tabular}\n"
      ],
      "text/markdown": [
       "\n",
       "| english |\n",
       "|---|\n",
       "| 98 |\n",
       "| 97 |\n",
       "| 86 |\n",
       "| 98 |\n",
       "\n"
      ],
      "text/plain": [
       "  english\n",
       "1 98     \n",
       "2 97     \n",
       "3 86     \n",
       "4 98     "
      ]
     },
     "metadata": {},
     "output_type": "display_data"
    }
   ],
   "source": [
    "exam %>%\n",
    " filter(class == 1) %>% # class 가 1 인 행 추출\n",
    " select(english) # english 추출"
   ]
  },
  {
   "cell_type": "code",
   "execution_count": 39,
   "metadata": {},
   "outputs": [
    {
     "data": {
      "text/html": [
       "<table>\n",
       "<thead><tr><th scope=col>id</th><th scope=col>math</th></tr></thead>\n",
       "<tbody>\n",
       "\t<tr><td>1 </td><td>50</td></tr>\n",
       "\t<tr><td>2 </td><td>60</td></tr>\n",
       "\t<tr><td>3 </td><td>45</td></tr>\n",
       "\t<tr><td>4 </td><td>30</td></tr>\n",
       "\t<tr><td>5 </td><td>25</td></tr>\n",
       "\t<tr><td>6 </td><td>50</td></tr>\n",
       "</tbody>\n",
       "</table>\n"
      ],
      "text/latex": [
       "\\begin{tabular}{r|ll}\n",
       " id & math\\\\\n",
       "\\hline\n",
       "\t 1  & 50\\\\\n",
       "\t 2  & 60\\\\\n",
       "\t 3  & 45\\\\\n",
       "\t 4  & 30\\\\\n",
       "\t 5  & 25\\\\\n",
       "\t 6  & 50\\\\\n",
       "\\end{tabular}\n"
      ],
      "text/markdown": [
       "\n",
       "| id | math |\n",
       "|---|---|\n",
       "| 1  | 50 |\n",
       "| 2  | 60 |\n",
       "| 3  | 45 |\n",
       "| 4  | 30 |\n",
       "| 5  | 25 |\n",
       "| 6  | 50 |\n",
       "\n"
      ],
      "text/plain": [
       "  id math\n",
       "1 1  50  \n",
       "2 2  60  \n",
       "3 3  45  \n",
       "4 4  30  \n",
       "5 5  25  \n",
       "6 6  50  "
      ]
     },
     "metadata": {},
     "output_type": "display_data"
    }
   ],
   "source": [
    "exam %>%\n",
    " select(id, math) %>% # id, math 추출\n",
    " head # 앞부분 6 행까지 추출"
   ]
  },
  {
   "cell_type": "code",
   "execution_count": 40,
   "metadata": {},
   "outputs": [
    {
     "data": {
      "text/html": [
       "<table>\n",
       "<thead><tr><th scope=col>id</th><th scope=col>math</th></tr></thead>\n",
       "<tbody>\n",
       "\t<tr><td> 1</td><td>50</td></tr>\n",
       "\t<tr><td> 2</td><td>60</td></tr>\n",
       "\t<tr><td> 3</td><td>45</td></tr>\n",
       "\t<tr><td> 4</td><td>30</td></tr>\n",
       "\t<tr><td> 5</td><td>25</td></tr>\n",
       "\t<tr><td> 6</td><td>50</td></tr>\n",
       "\t<tr><td> 7</td><td>80</td></tr>\n",
       "\t<tr><td> 8</td><td>90</td></tr>\n",
       "\t<tr><td> 9</td><td>20</td></tr>\n",
       "\t<tr><td>10</td><td>50</td></tr>\n",
       "</tbody>\n",
       "</table>\n"
      ],
      "text/latex": [
       "\\begin{tabular}{r|ll}\n",
       " id & math\\\\\n",
       "\\hline\n",
       "\t  1 & 50\\\\\n",
       "\t  2 & 60\\\\\n",
       "\t  3 & 45\\\\\n",
       "\t  4 & 30\\\\\n",
       "\t  5 & 25\\\\\n",
       "\t  6 & 50\\\\\n",
       "\t  7 & 80\\\\\n",
       "\t  8 & 90\\\\\n",
       "\t  9 & 20\\\\\n",
       "\t 10 & 50\\\\\n",
       "\\end{tabular}\n"
      ],
      "text/markdown": [
       "\n",
       "| id | math |\n",
       "|---|---|\n",
       "|  1 | 50 |\n",
       "|  2 | 60 |\n",
       "|  3 | 45 |\n",
       "|  4 | 30 |\n",
       "|  5 | 25 |\n",
       "|  6 | 50 |\n",
       "|  7 | 80 |\n",
       "|  8 | 90 |\n",
       "|  9 | 20 |\n",
       "| 10 | 50 |\n",
       "\n"
      ],
      "text/plain": [
       "   id math\n",
       "1   1 50  \n",
       "2   2 60  \n",
       "3   3 45  \n",
       "4   4 30  \n",
       "5   5 25  \n",
       "6   6 50  \n",
       "7   7 80  \n",
       "8   8 90  \n",
       "9   9 20  \n",
       "10 10 50  "
      ]
     },
     "metadata": {},
     "output_type": "display_data"
    }
   ],
   "source": [
    "exam %>%\n",
    " select(id, math) %>% # id, math 추출\n",
    " head(10) # 앞부분 10 행까지 추출"
   ]
  },
  {
   "cell_type": "markdown",
   "metadata": {},
   "source": [
    "Q1. mpg 데이터는 11개 변수로 구성되어 있습니다.  \n",
    "이 중 일부만 추출해서 분석에 활용하려고 합니다.  \n",
    "mpg 데이터에서 class(자동차 종류), cty(도시 연비) 변수를 추출해 새로운 데이터를 만드세요.  \n",
    "새로 만든 데이터의 일부를 출력해서 두 변수로만 구성되어 있는지 확인하세요."
   ]
  },
  {
   "cell_type": "code",
   "execution_count": 41,
   "metadata": {},
   "outputs": [
    {
     "data": {
      "text/html": [
       "<table>\n",
       "<thead><tr><th scope=col>class</th><th scope=col>cty</th></tr></thead>\n",
       "<tbody>\n",
       "\t<tr><td>compact</td><td>18     </td></tr>\n",
       "\t<tr><td>compact</td><td>21     </td></tr>\n",
       "\t<tr><td>compact</td><td>20     </td></tr>\n",
       "\t<tr><td>compact</td><td>21     </td></tr>\n",
       "\t<tr><td>compact</td><td>16     </td></tr>\n",
       "\t<tr><td>compact</td><td>18     </td></tr>\n",
       "</tbody>\n",
       "</table>\n"
      ],
      "text/latex": [
       "\\begin{tabular}{r|ll}\n",
       " class & cty\\\\\n",
       "\\hline\n",
       "\t compact & 18     \\\\\n",
       "\t compact & 21     \\\\\n",
       "\t compact & 20     \\\\\n",
       "\t compact & 21     \\\\\n",
       "\t compact & 16     \\\\\n",
       "\t compact & 18     \\\\\n",
       "\\end{tabular}\n"
      ],
      "text/markdown": [
       "\n",
       "| class | cty |\n",
       "|---|---|\n",
       "| compact | 18      |\n",
       "| compact | 21      |\n",
       "| compact | 20      |\n",
       "| compact | 21      |\n",
       "| compact | 16      |\n",
       "| compact | 18      |\n",
       "\n"
      ],
      "text/plain": [
       "  class   cty\n",
       "1 compact 18 \n",
       "2 compact 21 \n",
       "3 compact 20 \n",
       "4 compact 21 \n",
       "5 compact 16 \n",
       "6 compact 18 "
      ]
     },
     "metadata": {},
     "output_type": "display_data"
    }
   ],
   "source": [
    "mpg <- as.data.frame(ggplot2::mpg) # mpg 데이터 불러오기\n",
    "df <- mpg %>% select(class, cty) # class, cty 변수 추출\n",
    "head(df) # df 일부 출력"
   ]
  },
  {
   "cell_type": "markdown",
   "metadata": {},
   "source": [
    "Q2. 자동차 종류에 따라 도시 연비가 다른지 알아보려고 합니다.  \n",
    "앞에서 추출한 데이터를 이용해서 class(자동차 종류)가  \n",
    "\"suv\"인 자동차와 \"compact\"인 자동차 중 어떤 자동차의  \n",
    "cty(도시 연비)가 더 높은지 알아보세요."
   ]
  },
  {
   "cell_type": "code",
   "execution_count": 42,
   "metadata": {},
   "outputs": [],
   "source": [
    "df_suv <- df %>% filter(class == \"suv\") # class 가 suv 인 행 추출\n",
    "df_compact <- df %>% filter(class == \"compact\") # class 가 compact 인 행 추출"
   ]
  },
  {
   "cell_type": "code",
   "execution_count": 43,
   "metadata": {},
   "outputs": [
    {
     "data": {
      "text/html": [
       "13.5"
      ],
      "text/latex": [
       "13.5"
      ],
      "text/markdown": [
       "13.5"
      ],
      "text/plain": [
       "[1] 13.5"
      ]
     },
     "metadata": {},
     "output_type": "display_data"
    }
   ],
   "source": [
    "mean(df_suv$cty) # suv 의 cty 평균"
   ]
  },
  {
   "cell_type": "code",
   "execution_count": 44,
   "metadata": {},
   "outputs": [
    {
     "data": {
      "text/html": [
       "20.1276595744681"
      ],
      "text/latex": [
       "20.1276595744681"
      ],
      "text/markdown": [
       "20.1276595744681"
      ],
      "text/plain": [
       "[1] 20.12766"
      ]
     },
     "metadata": {},
     "output_type": "display_data"
    }
   ],
   "source": [
    "mean(df_compact$cty) # compact 의 cty 평균"
   ]
  },
  {
   "cell_type": "code",
   "execution_count": 49,
   "metadata": {},
   "outputs": [
    {
     "data": {
      "text/html": [
       "<table>\n",
       "<thead><tr><th scope=col>id</th><th scope=col>class</th><th scope=col>math</th><th scope=col>english</th><th scope=col>science</th></tr></thead>\n",
       "<tbody>\n",
       "\t<tr><td> 9</td><td>3 </td><td>20</td><td>98</td><td>15</td></tr>\n",
       "\t<tr><td> 5</td><td>2 </td><td>25</td><td>80</td><td>65</td></tr>\n",
       "\t<tr><td> 4</td><td>1 </td><td>30</td><td>98</td><td>58</td></tr>\n",
       "\t<tr><td> 3</td><td>1 </td><td>45</td><td>86</td><td>78</td></tr>\n",
       "\t<tr><td>12</td><td>3 </td><td>45</td><td>85</td><td>32</td></tr>\n",
       "\t<tr><td>13</td><td>4 </td><td>46</td><td>98</td><td>65</td></tr>\n",
       "\t<tr><td>14</td><td>4 </td><td>48</td><td>87</td><td>12</td></tr>\n",
       "\t<tr><td> 1</td><td>1 </td><td>50</td><td>98</td><td>50</td></tr>\n",
       "\t<tr><td> 6</td><td>2 </td><td>50</td><td>89</td><td>98</td></tr>\n",
       "\t<tr><td>10</td><td>3 </td><td>50</td><td>98</td><td>45</td></tr>\n",
       "\t<tr><td>16</td><td>4 </td><td>58</td><td>98</td><td>65</td></tr>\n",
       "\t<tr><td> 2</td><td>1 </td><td>60</td><td>97</td><td>60</td></tr>\n",
       "\t<tr><td>11</td><td>3 </td><td>65</td><td>65</td><td>65</td></tr>\n",
       "\t<tr><td>17</td><td>5 </td><td>65</td><td>68</td><td>98</td></tr>\n",
       "\t<tr><td>15</td><td>4 </td><td>75</td><td>56</td><td>78</td></tr>\n",
       "\t<tr><td>20</td><td>5 </td><td>78</td><td>83</td><td>58</td></tr>\n",
       "\t<tr><td> 7</td><td>2 </td><td>80</td><td>90</td><td>45</td></tr>\n",
       "\t<tr><td>18</td><td>5 </td><td>80</td><td>78</td><td>90</td></tr>\n",
       "\t<tr><td>19</td><td>5 </td><td>89</td><td>68</td><td>87</td></tr>\n",
       "\t<tr><td> 8</td><td>2 </td><td>90</td><td>78</td><td>25</td></tr>\n",
       "</tbody>\n",
       "</table>\n"
      ],
      "text/latex": [
       "\\begin{tabular}{r|lllll}\n",
       " id & class & math & english & science\\\\\n",
       "\\hline\n",
       "\t  9 & 3  & 20 & 98 & 15\\\\\n",
       "\t  5 & 2  & 25 & 80 & 65\\\\\n",
       "\t  4 & 1  & 30 & 98 & 58\\\\\n",
       "\t  3 & 1  & 45 & 86 & 78\\\\\n",
       "\t 12 & 3  & 45 & 85 & 32\\\\\n",
       "\t 13 & 4  & 46 & 98 & 65\\\\\n",
       "\t 14 & 4  & 48 & 87 & 12\\\\\n",
       "\t  1 & 1  & 50 & 98 & 50\\\\\n",
       "\t  6 & 2  & 50 & 89 & 98\\\\\n",
       "\t 10 & 3  & 50 & 98 & 45\\\\\n",
       "\t 16 & 4  & 58 & 98 & 65\\\\\n",
       "\t  2 & 1  & 60 & 97 & 60\\\\\n",
       "\t 11 & 3  & 65 & 65 & 65\\\\\n",
       "\t 17 & 5  & 65 & 68 & 98\\\\\n",
       "\t 15 & 4  & 75 & 56 & 78\\\\\n",
       "\t 20 & 5  & 78 & 83 & 58\\\\\n",
       "\t  7 & 2  & 80 & 90 & 45\\\\\n",
       "\t 18 & 5  & 80 & 78 & 90\\\\\n",
       "\t 19 & 5  & 89 & 68 & 87\\\\\n",
       "\t  8 & 2  & 90 & 78 & 25\\\\\n",
       "\\end{tabular}\n"
      ],
      "text/markdown": [
       "\n",
       "| id | class | math | english | science |\n",
       "|---|---|---|---|---|\n",
       "|  9 | 3  | 20 | 98 | 15 |\n",
       "|  5 | 2  | 25 | 80 | 65 |\n",
       "|  4 | 1  | 30 | 98 | 58 |\n",
       "|  3 | 1  | 45 | 86 | 78 |\n",
       "| 12 | 3  | 45 | 85 | 32 |\n",
       "| 13 | 4  | 46 | 98 | 65 |\n",
       "| 14 | 4  | 48 | 87 | 12 |\n",
       "|  1 | 1  | 50 | 98 | 50 |\n",
       "|  6 | 2  | 50 | 89 | 98 |\n",
       "| 10 | 3  | 50 | 98 | 45 |\n",
       "| 16 | 4  | 58 | 98 | 65 |\n",
       "|  2 | 1  | 60 | 97 | 60 |\n",
       "| 11 | 3  | 65 | 65 | 65 |\n",
       "| 17 | 5  | 65 | 68 | 98 |\n",
       "| 15 | 4  | 75 | 56 | 78 |\n",
       "| 20 | 5  | 78 | 83 | 58 |\n",
       "|  7 | 2  | 80 | 90 | 45 |\n",
       "| 18 | 5  | 80 | 78 | 90 |\n",
       "| 19 | 5  | 89 | 68 | 87 |\n",
       "|  8 | 2  | 90 | 78 | 25 |\n",
       "\n"
      ],
      "text/plain": [
       "   id class math english science\n",
       "1   9 3     20   98      15     \n",
       "2   5 2     25   80      65     \n",
       "3   4 1     30   98      58     \n",
       "4   3 1     45   86      78     \n",
       "5  12 3     45   85      32     \n",
       "6  13 4     46   98      65     \n",
       "7  14 4     48   87      12     \n",
       "8   1 1     50   98      50     \n",
       "9   6 2     50   89      98     \n",
       "10 10 3     50   98      45     \n",
       "11 16 4     58   98      65     \n",
       "12  2 1     60   97      60     \n",
       "13 11 3     65   65      65     \n",
       "14 17 5     65   68      98     \n",
       "15 15 4     75   56      78     \n",
       "16 20 5     78   83      58     \n",
       "17  7 2     80   90      45     \n",
       "18 18 5     80   78      90     \n",
       "19 19 5     89   68      87     \n",
       "20  8 2     90   78      25     "
      ]
     },
     "metadata": {},
     "output_type": "display_data"
    }
   ],
   "source": [
    "# 오름차순으로 정렬하기\n",
    "exam %>% arrange(math) # math 오름차순 정렬"
   ]
  },
  {
   "cell_type": "code",
   "execution_count": 50,
   "metadata": {},
   "outputs": [
    {
     "data": {
      "text/html": [
       "<table>\n",
       "<thead><tr><th scope=col>id</th><th scope=col>class</th><th scope=col>math</th><th scope=col>english</th><th scope=col>science</th></tr></thead>\n",
       "<tbody>\n",
       "\t<tr><td> 8</td><td>2 </td><td>90</td><td>78</td><td>25</td></tr>\n",
       "\t<tr><td>19</td><td>5 </td><td>89</td><td>68</td><td>87</td></tr>\n",
       "\t<tr><td> 7</td><td>2 </td><td>80</td><td>90</td><td>45</td></tr>\n",
       "\t<tr><td>18</td><td>5 </td><td>80</td><td>78</td><td>90</td></tr>\n",
       "\t<tr><td>20</td><td>5 </td><td>78</td><td>83</td><td>58</td></tr>\n",
       "\t<tr><td>15</td><td>4 </td><td>75</td><td>56</td><td>78</td></tr>\n",
       "\t<tr><td>11</td><td>3 </td><td>65</td><td>65</td><td>65</td></tr>\n",
       "\t<tr><td>17</td><td>5 </td><td>65</td><td>68</td><td>98</td></tr>\n",
       "\t<tr><td> 2</td><td>1 </td><td>60</td><td>97</td><td>60</td></tr>\n",
       "\t<tr><td>16</td><td>4 </td><td>58</td><td>98</td><td>65</td></tr>\n",
       "\t<tr><td> 1</td><td>1 </td><td>50</td><td>98</td><td>50</td></tr>\n",
       "\t<tr><td> 6</td><td>2 </td><td>50</td><td>89</td><td>98</td></tr>\n",
       "\t<tr><td>10</td><td>3 </td><td>50</td><td>98</td><td>45</td></tr>\n",
       "\t<tr><td>14</td><td>4 </td><td>48</td><td>87</td><td>12</td></tr>\n",
       "\t<tr><td>13</td><td>4 </td><td>46</td><td>98</td><td>65</td></tr>\n",
       "\t<tr><td> 3</td><td>1 </td><td>45</td><td>86</td><td>78</td></tr>\n",
       "\t<tr><td>12</td><td>3 </td><td>45</td><td>85</td><td>32</td></tr>\n",
       "\t<tr><td> 4</td><td>1 </td><td>30</td><td>98</td><td>58</td></tr>\n",
       "\t<tr><td> 5</td><td>2 </td><td>25</td><td>80</td><td>65</td></tr>\n",
       "\t<tr><td> 9</td><td>3 </td><td>20</td><td>98</td><td>15</td></tr>\n",
       "</tbody>\n",
       "</table>\n"
      ],
      "text/latex": [
       "\\begin{tabular}{r|lllll}\n",
       " id & class & math & english & science\\\\\n",
       "\\hline\n",
       "\t  8 & 2  & 90 & 78 & 25\\\\\n",
       "\t 19 & 5  & 89 & 68 & 87\\\\\n",
       "\t  7 & 2  & 80 & 90 & 45\\\\\n",
       "\t 18 & 5  & 80 & 78 & 90\\\\\n",
       "\t 20 & 5  & 78 & 83 & 58\\\\\n",
       "\t 15 & 4  & 75 & 56 & 78\\\\\n",
       "\t 11 & 3  & 65 & 65 & 65\\\\\n",
       "\t 17 & 5  & 65 & 68 & 98\\\\\n",
       "\t  2 & 1  & 60 & 97 & 60\\\\\n",
       "\t 16 & 4  & 58 & 98 & 65\\\\\n",
       "\t  1 & 1  & 50 & 98 & 50\\\\\n",
       "\t  6 & 2  & 50 & 89 & 98\\\\\n",
       "\t 10 & 3  & 50 & 98 & 45\\\\\n",
       "\t 14 & 4  & 48 & 87 & 12\\\\\n",
       "\t 13 & 4  & 46 & 98 & 65\\\\\n",
       "\t  3 & 1  & 45 & 86 & 78\\\\\n",
       "\t 12 & 3  & 45 & 85 & 32\\\\\n",
       "\t  4 & 1  & 30 & 98 & 58\\\\\n",
       "\t  5 & 2  & 25 & 80 & 65\\\\\n",
       "\t  9 & 3  & 20 & 98 & 15\\\\\n",
       "\\end{tabular}\n"
      ],
      "text/markdown": [
       "\n",
       "| id | class | math | english | science |\n",
       "|---|---|---|---|---|\n",
       "|  8 | 2  | 90 | 78 | 25 |\n",
       "| 19 | 5  | 89 | 68 | 87 |\n",
       "|  7 | 2  | 80 | 90 | 45 |\n",
       "| 18 | 5  | 80 | 78 | 90 |\n",
       "| 20 | 5  | 78 | 83 | 58 |\n",
       "| 15 | 4  | 75 | 56 | 78 |\n",
       "| 11 | 3  | 65 | 65 | 65 |\n",
       "| 17 | 5  | 65 | 68 | 98 |\n",
       "|  2 | 1  | 60 | 97 | 60 |\n",
       "| 16 | 4  | 58 | 98 | 65 |\n",
       "|  1 | 1  | 50 | 98 | 50 |\n",
       "|  6 | 2  | 50 | 89 | 98 |\n",
       "| 10 | 3  | 50 | 98 | 45 |\n",
       "| 14 | 4  | 48 | 87 | 12 |\n",
       "| 13 | 4  | 46 | 98 | 65 |\n",
       "|  3 | 1  | 45 | 86 | 78 |\n",
       "| 12 | 3  | 45 | 85 | 32 |\n",
       "|  4 | 1  | 30 | 98 | 58 |\n",
       "|  5 | 2  | 25 | 80 | 65 |\n",
       "|  9 | 3  | 20 | 98 | 15 |\n",
       "\n"
      ],
      "text/plain": [
       "   id class math english science\n",
       "1   8 2     90   78      25     \n",
       "2  19 5     89   68      87     \n",
       "3   7 2     80   90      45     \n",
       "4  18 5     80   78      90     \n",
       "5  20 5     78   83      58     \n",
       "6  15 4     75   56      78     \n",
       "7  11 3     65   65      65     \n",
       "8  17 5     65   68      98     \n",
       "9   2 1     60   97      60     \n",
       "10 16 4     58   98      65     \n",
       "11  1 1     50   98      50     \n",
       "12  6 2     50   89      98     \n",
       "13 10 3     50   98      45     \n",
       "14 14 4     48   87      12     \n",
       "15 13 4     46   98      65     \n",
       "16  3 1     45   86      78     \n",
       "17 12 3     45   85      32     \n",
       "18  4 1     30   98      58     \n",
       "19  5 2     25   80      65     \n",
       "20  9 3     20   98      15     "
      ]
     },
     "metadata": {},
     "output_type": "display_data"
    }
   ],
   "source": [
    "# 내림차순으로 정렬하기\n",
    "exam %>% arrange(desc(math)) # math 내림차순 정렬"
   ]
  },
  {
   "cell_type": "code",
   "execution_count": 51,
   "metadata": {},
   "outputs": [
    {
     "data": {
      "text/html": [
       "<table>\n",
       "<thead><tr><th scope=col>id</th><th scope=col>class</th><th scope=col>math</th><th scope=col>english</th><th scope=col>science</th></tr></thead>\n",
       "<tbody>\n",
       "\t<tr><td> 4</td><td>1 </td><td>30</td><td>98</td><td>58</td></tr>\n",
       "\t<tr><td> 3</td><td>1 </td><td>45</td><td>86</td><td>78</td></tr>\n",
       "\t<tr><td> 1</td><td>1 </td><td>50</td><td>98</td><td>50</td></tr>\n",
       "\t<tr><td> 2</td><td>1 </td><td>60</td><td>97</td><td>60</td></tr>\n",
       "\t<tr><td> 5</td><td>2 </td><td>25</td><td>80</td><td>65</td></tr>\n",
       "\t<tr><td> 6</td><td>2 </td><td>50</td><td>89</td><td>98</td></tr>\n",
       "\t<tr><td> 7</td><td>2 </td><td>80</td><td>90</td><td>45</td></tr>\n",
       "\t<tr><td> 8</td><td>2 </td><td>90</td><td>78</td><td>25</td></tr>\n",
       "\t<tr><td> 9</td><td>3 </td><td>20</td><td>98</td><td>15</td></tr>\n",
       "\t<tr><td>12</td><td>3 </td><td>45</td><td>85</td><td>32</td></tr>\n",
       "\t<tr><td>10</td><td>3 </td><td>50</td><td>98</td><td>45</td></tr>\n",
       "\t<tr><td>11</td><td>3 </td><td>65</td><td>65</td><td>65</td></tr>\n",
       "\t<tr><td>13</td><td>4 </td><td>46</td><td>98</td><td>65</td></tr>\n",
       "\t<tr><td>14</td><td>4 </td><td>48</td><td>87</td><td>12</td></tr>\n",
       "\t<tr><td>16</td><td>4 </td><td>58</td><td>98</td><td>65</td></tr>\n",
       "\t<tr><td>15</td><td>4 </td><td>75</td><td>56</td><td>78</td></tr>\n",
       "\t<tr><td>17</td><td>5 </td><td>65</td><td>68</td><td>98</td></tr>\n",
       "\t<tr><td>20</td><td>5 </td><td>78</td><td>83</td><td>58</td></tr>\n",
       "\t<tr><td>18</td><td>5 </td><td>80</td><td>78</td><td>90</td></tr>\n",
       "\t<tr><td>19</td><td>5 </td><td>89</td><td>68</td><td>87</td></tr>\n",
       "</tbody>\n",
       "</table>\n"
      ],
      "text/latex": [
       "\\begin{tabular}{r|lllll}\n",
       " id & class & math & english & science\\\\\n",
       "\\hline\n",
       "\t  4 & 1  & 30 & 98 & 58\\\\\n",
       "\t  3 & 1  & 45 & 86 & 78\\\\\n",
       "\t  1 & 1  & 50 & 98 & 50\\\\\n",
       "\t  2 & 1  & 60 & 97 & 60\\\\\n",
       "\t  5 & 2  & 25 & 80 & 65\\\\\n",
       "\t  6 & 2  & 50 & 89 & 98\\\\\n",
       "\t  7 & 2  & 80 & 90 & 45\\\\\n",
       "\t  8 & 2  & 90 & 78 & 25\\\\\n",
       "\t  9 & 3  & 20 & 98 & 15\\\\\n",
       "\t 12 & 3  & 45 & 85 & 32\\\\\n",
       "\t 10 & 3  & 50 & 98 & 45\\\\\n",
       "\t 11 & 3  & 65 & 65 & 65\\\\\n",
       "\t 13 & 4  & 46 & 98 & 65\\\\\n",
       "\t 14 & 4  & 48 & 87 & 12\\\\\n",
       "\t 16 & 4  & 58 & 98 & 65\\\\\n",
       "\t 15 & 4  & 75 & 56 & 78\\\\\n",
       "\t 17 & 5  & 65 & 68 & 98\\\\\n",
       "\t 20 & 5  & 78 & 83 & 58\\\\\n",
       "\t 18 & 5  & 80 & 78 & 90\\\\\n",
       "\t 19 & 5  & 89 & 68 & 87\\\\\n",
       "\\end{tabular}\n"
      ],
      "text/markdown": [
       "\n",
       "| id | class | math | english | science |\n",
       "|---|---|---|---|---|\n",
       "|  4 | 1  | 30 | 98 | 58 |\n",
       "|  3 | 1  | 45 | 86 | 78 |\n",
       "|  1 | 1  | 50 | 98 | 50 |\n",
       "|  2 | 1  | 60 | 97 | 60 |\n",
       "|  5 | 2  | 25 | 80 | 65 |\n",
       "|  6 | 2  | 50 | 89 | 98 |\n",
       "|  7 | 2  | 80 | 90 | 45 |\n",
       "|  8 | 2  | 90 | 78 | 25 |\n",
       "|  9 | 3  | 20 | 98 | 15 |\n",
       "| 12 | 3  | 45 | 85 | 32 |\n",
       "| 10 | 3  | 50 | 98 | 45 |\n",
       "| 11 | 3  | 65 | 65 | 65 |\n",
       "| 13 | 4  | 46 | 98 | 65 |\n",
       "| 14 | 4  | 48 | 87 | 12 |\n",
       "| 16 | 4  | 58 | 98 | 65 |\n",
       "| 15 | 4  | 75 | 56 | 78 |\n",
       "| 17 | 5  | 65 | 68 | 98 |\n",
       "| 20 | 5  | 78 | 83 | 58 |\n",
       "| 18 | 5  | 80 | 78 | 90 |\n",
       "| 19 | 5  | 89 | 68 | 87 |\n",
       "\n"
      ],
      "text/plain": [
       "   id class math english science\n",
       "1   4 1     30   98      58     \n",
       "2   3 1     45   86      78     \n",
       "3   1 1     50   98      50     \n",
       "4   2 1     60   97      60     \n",
       "5   5 2     25   80      65     \n",
       "6   6 2     50   89      98     \n",
       "7   7 2     80   90      45     \n",
       "8   8 2     90   78      25     \n",
       "9   9 3     20   98      15     \n",
       "10 12 3     45   85      32     \n",
       "11 10 3     50   98      45     \n",
       "12 11 3     65   65      65     \n",
       "13 13 4     46   98      65     \n",
       "14 14 4     48   87      12     \n",
       "15 16 4     58   98      65     \n",
       "16 15 4     75   56      78     \n",
       "17 17 5     65   68      98     \n",
       "18 20 5     78   83      58     \n",
       "19 18 5     80   78      90     \n",
       "20 19 5     89   68      87     "
      ]
     },
     "metadata": {},
     "output_type": "display_data"
    }
   ],
   "source": [
    "# 정렬 기준 변수 여러개 지정\n",
    "exam %>% arrange(class, math) # class 및 math 오름차순 정렬"
   ]
  },
  {
   "cell_type": "markdown",
   "metadata": {},
   "source": [
    "mpg 데이터를 이용해서 분석 문제를 해결해보세요.  \n",
    "• \"audi\"에서 생산한 자동차 중에 어떤 자동차 모델의 hwy(고속도로 연비)가 높은지 알아보려고 합니다.  \n",
    "\"audi\"에서 생산한 자동차 중 hwy가 1~5위에 해당하는 자동차의 데이터를 출력하세요.  "
   ]
  },
  {
   "cell_type": "code",
   "execution_count": 52,
   "metadata": {},
   "outputs": [
    {
     "data": {
      "text/html": [
       "<table>\n",
       "<thead><tr><th scope=col>manufacturer</th><th scope=col>model</th><th scope=col>displ</th><th scope=col>year</th><th scope=col>cyl</th><th scope=col>trans</th><th scope=col>drv</th><th scope=col>cty</th><th scope=col>hwy</th><th scope=col>fl</th><th scope=col>class</th></tr></thead>\n",
       "<tbody>\n",
       "\t<tr><td>audi      </td><td>a4        </td><td>2.0       </td><td>2008      </td><td>4         </td><td>manual(m6)</td><td>f         </td><td>20        </td><td>31        </td><td>p         </td><td>compact   </td></tr>\n",
       "\t<tr><td>audi      </td><td>a4        </td><td>2.0       </td><td>2008      </td><td>4         </td><td>auto(av)  </td><td>f         </td><td>21        </td><td>30        </td><td>p         </td><td>compact   </td></tr>\n",
       "\t<tr><td>audi      </td><td>a4        </td><td>1.8       </td><td>1999      </td><td>4         </td><td>auto(l5)  </td><td>f         </td><td>18        </td><td>29        </td><td>p         </td><td>compact   </td></tr>\n",
       "\t<tr><td>audi      </td><td>a4        </td><td>1.8       </td><td>1999      </td><td>4         </td><td>manual(m5)</td><td>f         </td><td>21        </td><td>29        </td><td>p         </td><td>compact   </td></tr>\n",
       "\t<tr><td>audi      </td><td>a4 quattro</td><td>2.0       </td><td>2008      </td><td>4         </td><td>manual(m6)</td><td>4         </td><td>20        </td><td>28        </td><td>p         </td><td>compact   </td></tr>\n",
       "</tbody>\n",
       "</table>\n"
      ],
      "text/latex": [
       "\\begin{tabular}{r|lllllllllll}\n",
       " manufacturer & model & displ & year & cyl & trans & drv & cty & hwy & fl & class\\\\\n",
       "\\hline\n",
       "\t audi       & a4         & 2.0        & 2008       & 4          & manual(m6) & f          & 20         & 31         & p          & compact   \\\\\n",
       "\t audi       & a4         & 2.0        & 2008       & 4          & auto(av)   & f          & 21         & 30         & p          & compact   \\\\\n",
       "\t audi       & a4         & 1.8        & 1999       & 4          & auto(l5)   & f          & 18         & 29         & p          & compact   \\\\\n",
       "\t audi       & a4         & 1.8        & 1999       & 4          & manual(m5) & f          & 21         & 29         & p          & compact   \\\\\n",
       "\t audi       & a4 quattro & 2.0        & 2008       & 4          & manual(m6) & 4          & 20         & 28         & p          & compact   \\\\\n",
       "\\end{tabular}\n"
      ],
      "text/markdown": [
       "\n",
       "| manufacturer | model | displ | year | cyl | trans | drv | cty | hwy | fl | class |\n",
       "|---|---|---|---|---|---|---|---|---|---|---|\n",
       "| audi       | a4         | 2.0        | 2008       | 4          | manual(m6) | f          | 20         | 31         | p          | compact    |\n",
       "| audi       | a4         | 2.0        | 2008       | 4          | auto(av)   | f          | 21         | 30         | p          | compact    |\n",
       "| audi       | a4         | 1.8        | 1999       | 4          | auto(l5)   | f          | 18         | 29         | p          | compact    |\n",
       "| audi       | a4         | 1.8        | 1999       | 4          | manual(m5) | f          | 21         | 29         | p          | compact    |\n",
       "| audi       | a4 quattro | 2.0        | 2008       | 4          | manual(m6) | 4          | 20         | 28         | p          | compact    |\n",
       "\n"
      ],
      "text/plain": [
       "  manufacturer model      displ year cyl trans      drv cty hwy fl class  \n",
       "1 audi         a4         2.0   2008 4   manual(m6) f   20  31  p  compact\n",
       "2 audi         a4         2.0   2008 4   auto(av)   f   21  30  p  compact\n",
       "3 audi         a4         1.8   1999 4   auto(l5)   f   18  29  p  compact\n",
       "4 audi         a4         1.8   1999 4   manual(m5) f   21  29  p  compact\n",
       "5 audi         a4 quattro 2.0   2008 4   manual(m6) 4   20  28  p  compact"
      ]
     },
     "metadata": {},
     "output_type": "display_data"
    }
   ],
   "source": [
    "mpg <- as.data.frame(ggplot2::mpg) # mpg 데이터 불러오기\n",
    "\n",
    "mpg %>% filter(manufacturer == \"audi\") %>% # audi 추출\n",
    " arrange(desc(hwy)) %>% # hwy 내림차순 정렬\n",
    " head(5) # 5 행까지 출력"
   ]
  },
  {
   "cell_type": "code",
   "execution_count": 55,
   "metadata": {},
   "outputs": [],
   "source": [
    "#  파생변수 추가하기\n",
    "exam %>%\n",
    " mutate(total = math + english + science) %>% # 총합 변수 추가\n",
    " head(5) -> # 일부 추출\n",
    " exam_total"
   ]
  },
  {
   "cell_type": "code",
   "execution_count": 56,
   "metadata": {},
   "outputs": [
    {
     "data": {
      "text/html": [
       "<table>\n",
       "<thead><tr><th scope=col>id</th><th scope=col>class</th><th scope=col>math</th><th scope=col>english</th><th scope=col>science</th><th scope=col>total</th></tr></thead>\n",
       "<tbody>\n",
       "\t<tr><td>1  </td><td>1  </td><td>50 </td><td>98 </td><td>50 </td><td>198</td></tr>\n",
       "\t<tr><td>2  </td><td>1  </td><td>60 </td><td>97 </td><td>60 </td><td>217</td></tr>\n",
       "\t<tr><td>3  </td><td>1  </td><td>45 </td><td>86 </td><td>78 </td><td>209</td></tr>\n",
       "\t<tr><td>4  </td><td>1  </td><td>30 </td><td>98 </td><td>58 </td><td>186</td></tr>\n",
       "\t<tr><td>5  </td><td>2  </td><td>25 </td><td>80 </td><td>65 </td><td>170</td></tr>\n",
       "</tbody>\n",
       "</table>\n"
      ],
      "text/latex": [
       "\\begin{tabular}{r|llllll}\n",
       " id & class & math & english & science & total\\\\\n",
       "\\hline\n",
       "\t 1   & 1   & 50  & 98  & 50  & 198\\\\\n",
       "\t 2   & 1   & 60  & 97  & 60  & 217\\\\\n",
       "\t 3   & 1   & 45  & 86  & 78  & 209\\\\\n",
       "\t 4   & 1   & 30  & 98  & 58  & 186\\\\\n",
       "\t 5   & 2   & 25  & 80  & 65  & 170\\\\\n",
       "\\end{tabular}\n"
      ],
      "text/markdown": [
       "\n",
       "| id | class | math | english | science | total |\n",
       "|---|---|---|---|---|---|\n",
       "| 1   | 1   | 50  | 98  | 50  | 198 |\n",
       "| 2   | 1   | 60  | 97  | 60  | 217 |\n",
       "| 3   | 1   | 45  | 86  | 78  | 209 |\n",
       "| 4   | 1   | 30  | 98  | 58  | 186 |\n",
       "| 5   | 2   | 25  | 80  | 65  | 170 |\n",
       "\n"
      ],
      "text/plain": [
       "  id class math english science total\n",
       "1 1  1     50   98      50      198  \n",
       "2 2  1     60   97      60      217  \n",
       "3 3  1     45   86      78      209  \n",
       "4 4  1     30   98      58      186  \n",
       "5 5  2     25   80      65      170  "
      ]
     },
     "metadata": {},
     "output_type": "display_data"
    }
   ],
   "source": [
    "exam_total"
   ]
  },
  {
   "cell_type": "code",
   "execution_count": 57,
   "metadata": {},
   "outputs": [
    {
     "data": {
      "text/html": [
       "<table>\n",
       "<thead><tr><th scope=col>id</th><th scope=col>class</th><th scope=col>math</th><th scope=col>english</th><th scope=col>science</th><th scope=col>total</th><th scope=col>mean</th></tr></thead>\n",
       "<tbody>\n",
       "\t<tr><td>1       </td><td>1       </td><td>50      </td><td>98      </td><td>50      </td><td>198     </td><td>66.00000</td></tr>\n",
       "\t<tr><td>2       </td><td>1       </td><td>60      </td><td>97      </td><td>60      </td><td>217     </td><td>72.33333</td></tr>\n",
       "\t<tr><td>3       </td><td>1       </td><td>45      </td><td>86      </td><td>78      </td><td>209     </td><td>69.66667</td></tr>\n",
       "\t<tr><td>4       </td><td>1       </td><td>30      </td><td>98      </td><td>58      </td><td>186     </td><td>62.00000</td></tr>\n",
       "\t<tr><td>5       </td><td>2       </td><td>25      </td><td>80      </td><td>65      </td><td>170     </td><td>56.66667</td></tr>\n",
       "\t<tr><td>6       </td><td>2       </td><td>50      </td><td>89      </td><td>98      </td><td>237     </td><td>79.00000</td></tr>\n",
       "</tbody>\n",
       "</table>\n"
      ],
      "text/latex": [
       "\\begin{tabular}{r|lllllll}\n",
       " id & class & math & english & science & total & mean\\\\\n",
       "\\hline\n",
       "\t 1        & 1        & 50       & 98       & 50       & 198      & 66.00000\\\\\n",
       "\t 2        & 1        & 60       & 97       & 60       & 217      & 72.33333\\\\\n",
       "\t 3        & 1        & 45       & 86       & 78       & 209      & 69.66667\\\\\n",
       "\t 4        & 1        & 30       & 98       & 58       & 186      & 62.00000\\\\\n",
       "\t 5        & 2        & 25       & 80       & 65       & 170      & 56.66667\\\\\n",
       "\t 6        & 2        & 50       & 89       & 98       & 237      & 79.00000\\\\\n",
       "\\end{tabular}\n"
      ],
      "text/markdown": [
       "\n",
       "| id | class | math | english | science | total | mean |\n",
       "|---|---|---|---|---|---|---|\n",
       "| 1        | 1        | 50       | 98       | 50       | 198      | 66.00000 |\n",
       "| 2        | 1        | 60       | 97       | 60       | 217      | 72.33333 |\n",
       "| 3        | 1        | 45       | 86       | 78       | 209      | 69.66667 |\n",
       "| 4        | 1        | 30       | 98       | 58       | 186      | 62.00000 |\n",
       "| 5        | 2        | 25       | 80       | 65       | 170      | 56.66667 |\n",
       "| 6        | 2        | 50       | 89       | 98       | 237      | 79.00000 |\n",
       "\n"
      ],
      "text/plain": [
       "  id class math english science total mean    \n",
       "1 1  1     50   98      50      198   66.00000\n",
       "2 2  1     60   97      60      217   72.33333\n",
       "3 3  1     45   86      78      209   69.66667\n",
       "4 4  1     30   98      58      186   62.00000\n",
       "5 5  2     25   80      65      170   56.66667\n",
       "6 6  2     50   89      98      237   79.00000"
      ]
     },
     "metadata": {},
     "output_type": "display_data"
    }
   ],
   "source": [
    "# 여러 파생변수 한 번에 추가하기\n",
    "exam %>%\n",
    " mutate(total = math + english + science, # 총합 변수 추가\n",
    "        mean = (math + english + science)/3) %>% # 총평균 변수 추가\n",
    " head # 일부 추출"
   ]
  },
  {
   "cell_type": "code",
   "execution_count": 58,
   "metadata": {},
   "outputs": [
    {
     "data": {
      "text/html": [
       "<table>\n",
       "<thead><tr><th scope=col>id</th><th scope=col>class</th><th scope=col>math</th><th scope=col>english</th><th scope=col>science</th><th scope=col>test</th></tr></thead>\n",
       "<tbody>\n",
       "\t<tr><td>1   </td><td>1   </td><td>50  </td><td>98  </td><td>50  </td><td>fail</td></tr>\n",
       "\t<tr><td>2   </td><td>1   </td><td>60  </td><td>97  </td><td>60  </td><td>pass</td></tr>\n",
       "\t<tr><td>3   </td><td>1   </td><td>45  </td><td>86  </td><td>78  </td><td>pass</td></tr>\n",
       "\t<tr><td>4   </td><td>1   </td><td>30  </td><td>98  </td><td>58  </td><td>fail</td></tr>\n",
       "\t<tr><td>5   </td><td>2   </td><td>25  </td><td>80  </td><td>65  </td><td>pass</td></tr>\n",
       "\t<tr><td>6   </td><td>2   </td><td>50  </td><td>89  </td><td>98  </td><td>pass</td></tr>\n",
       "</tbody>\n",
       "</table>\n"
      ],
      "text/latex": [
       "\\begin{tabular}{r|llllll}\n",
       " id & class & math & english & science & test\\\\\n",
       "\\hline\n",
       "\t 1    & 1    & 50   & 98   & 50   & fail\\\\\n",
       "\t 2    & 1    & 60   & 97   & 60   & pass\\\\\n",
       "\t 3    & 1    & 45   & 86   & 78   & pass\\\\\n",
       "\t 4    & 1    & 30   & 98   & 58   & fail\\\\\n",
       "\t 5    & 2    & 25   & 80   & 65   & pass\\\\\n",
       "\t 6    & 2    & 50   & 89   & 98   & pass\\\\\n",
       "\\end{tabular}\n"
      ],
      "text/markdown": [
       "\n",
       "| id | class | math | english | science | test |\n",
       "|---|---|---|---|---|---|\n",
       "| 1    | 1    | 50   | 98   | 50   | fail |\n",
       "| 2    | 1    | 60   | 97   | 60   | pass |\n",
       "| 3    | 1    | 45   | 86   | 78   | pass |\n",
       "| 4    | 1    | 30   | 98   | 58   | fail |\n",
       "| 5    | 2    | 25   | 80   | 65   | pass |\n",
       "| 6    | 2    | 50   | 89   | 98   | pass |\n",
       "\n"
      ],
      "text/plain": [
       "  id class math english science test\n",
       "1 1  1     50   98      50      fail\n",
       "2 2  1     60   97      60      pass\n",
       "3 3  1     45   86      78      pass\n",
       "4 4  1     30   98      58      fail\n",
       "5 5  2     25   80      65      pass\n",
       "6 6  2     50   89      98      pass"
      ]
     },
     "metadata": {},
     "output_type": "display_data"
    }
   ],
   "source": [
    "# mutate()에 ifelse() 적용하기\n",
    "exam %>%\n",
    " mutate(test = ifelse(science >= 60, \"pass\", \"fail\")) %>%\n",
    " head"
   ]
  },
  {
   "cell_type": "code",
   "execution_count": 60,
   "metadata": {},
   "outputs": [
    {
     "data": {
      "text/html": [
       "<table>\n",
       "<thead><tr><th scope=col>id</th><th scope=col>class</th><th scope=col>math</th><th scope=col>english</th><th scope=col>science</th><th scope=col>total</th></tr></thead>\n",
       "<tbody>\n",
       "\t<tr><td> 9 </td><td>3  </td><td>20 </td><td>98 </td><td>15 </td><td>133</td></tr>\n",
       "\t<tr><td>14 </td><td>4  </td><td>48 </td><td>87 </td><td>12 </td><td>147</td></tr>\n",
       "\t<tr><td>12 </td><td>3  </td><td>45 </td><td>85 </td><td>32 </td><td>162</td></tr>\n",
       "\t<tr><td> 5 </td><td>2  </td><td>25 </td><td>80 </td><td>65 </td><td>170</td></tr>\n",
       "\t<tr><td> 4 </td><td>1  </td><td>30 </td><td>98 </td><td>58 </td><td>186</td></tr>\n",
       "\t<tr><td> 8 </td><td>2  </td><td>90 </td><td>78 </td><td>25 </td><td>193</td></tr>\n",
       "</tbody>\n",
       "</table>\n"
      ],
      "text/latex": [
       "\\begin{tabular}{r|llllll}\n",
       " id & class & math & english & science & total\\\\\n",
       "\\hline\n",
       "\t  9  & 3   & 20  & 98  & 15  & 133\\\\\n",
       "\t 14  & 4   & 48  & 87  & 12  & 147\\\\\n",
       "\t 12  & 3   & 45  & 85  & 32  & 162\\\\\n",
       "\t  5  & 2   & 25  & 80  & 65  & 170\\\\\n",
       "\t  4  & 1   & 30  & 98  & 58  & 186\\\\\n",
       "\t  8  & 2   & 90  & 78  & 25  & 193\\\\\n",
       "\\end{tabular}\n"
      ],
      "text/markdown": [
       "\n",
       "| id | class | math | english | science | total |\n",
       "|---|---|---|---|---|---|\n",
       "|  9  | 3   | 20  | 98  | 15  | 133 |\n",
       "| 14  | 4   | 48  | 87  | 12  | 147 |\n",
       "| 12  | 3   | 45  | 85  | 32  | 162 |\n",
       "|  5  | 2   | 25  | 80  | 65  | 170 |\n",
       "|  4  | 1   | 30  | 98  | 58  | 186 |\n",
       "|  8  | 2   | 90  | 78  | 25  | 193 |\n",
       "\n"
      ],
      "text/plain": [
       "  id class math english science total\n",
       "1  9 3     20   98      15      133  \n",
       "2 14 4     48   87      12      147  \n",
       "3 12 3     45   85      32      162  \n",
       "4  5 2     25   80      65      170  \n",
       "5  4 1     30   98      58      186  \n",
       "6  8 2     90   78      25      193  "
      ]
     },
     "metadata": {},
     "output_type": "display_data"
    }
   ],
   "source": [
    "# 추가한 변수를 dplyr 코드에 바로 활용하기\n",
    "exam %>%\n",
    " mutate(total = math + english + science) %>% # 총합 변수 추가\n",
    " arrange(total) %>% # 총합 변수 기준 정렬\n",
    " head # 일부 추출"
   ]
  },
  {
   "cell_type": "markdown",
   "metadata": {},
   "source": [
    "Q1. mpg 데이터 복사본을 만들고, cty와 hwy를 더한 '합산 연비 변수'를 추가하세요."
   ]
  },
  {
   "cell_type": "code",
   "execution_count": 131,
   "metadata": {},
   "outputs": [],
   "source": [
    "mpg <- as.data.frame(ggplot2::mpg) # mpg 데이터 불러오기\n",
    "mpg_new <- mpg # 복사본 만들기\n",
    "mpg_new <- mpg_new %>% mutate(total = cty + hwy) # 합산 변수 만들기"
   ]
  },
  {
   "cell_type": "markdown",
   "metadata": {},
   "source": [
    "Q2. 앞에서 만든 '합산 연비 변수'를 2로 나눠 '평균 연비 변수'를 추가세요."
   ]
  },
  {
   "cell_type": "code",
   "execution_count": 132,
   "metadata": {},
   "outputs": [],
   "source": [
    "mpg_new <- mpg_new %>% mutate(mean = total/2) # 평균 변수 만들기"
   ]
  },
  {
   "cell_type": "code",
   "execution_count": 133,
   "metadata": {},
   "outputs": [
    {
     "data": {
      "text/html": [
       "<table>\n",
       "<thead><tr><th scope=col>manufacturer</th><th scope=col>model</th><th scope=col>displ</th><th scope=col>year</th><th scope=col>cyl</th><th scope=col>trans</th><th scope=col>drv</th><th scope=col>cty</th><th scope=col>hwy</th><th scope=col>fl</th><th scope=col>class</th><th scope=col>total</th><th scope=col>mean</th></tr></thead>\n",
       "<tbody>\n",
       "\t<tr><td>audi      </td><td>a4        </td><td>1.8       </td><td>1999      </td><td>4         </td><td>auto(l5)  </td><td>f         </td><td>18        </td><td>29        </td><td>p         </td><td>compact   </td><td>47        </td><td>23.5      </td></tr>\n",
       "\t<tr><td>audi      </td><td>a4        </td><td>1.8       </td><td>1999      </td><td>4         </td><td>manual(m5)</td><td>f         </td><td>21        </td><td>29        </td><td>p         </td><td>compact   </td><td>50        </td><td>25.0      </td></tr>\n",
       "\t<tr><td>audi      </td><td>a4        </td><td>2.0       </td><td>2008      </td><td>4         </td><td>manual(m6)</td><td>f         </td><td>20        </td><td>31        </td><td>p         </td><td>compact   </td><td>51        </td><td>25.5      </td></tr>\n",
       "\t<tr><td>audi      </td><td>a4        </td><td>2.0       </td><td>2008      </td><td>4         </td><td>auto(av)  </td><td>f         </td><td>21        </td><td>30        </td><td>p         </td><td>compact   </td><td>51        </td><td>25.5      </td></tr>\n",
       "\t<tr><td>audi      </td><td>a4        </td><td>2.8       </td><td>1999      </td><td>6         </td><td>auto(l5)  </td><td>f         </td><td>16        </td><td>26        </td><td>p         </td><td>compact   </td><td>42        </td><td>21.0      </td></tr>\n",
       "\t<tr><td>audi      </td><td>a4        </td><td>2.8       </td><td>1999      </td><td>6         </td><td>manual(m5)</td><td>f         </td><td>18        </td><td>26        </td><td>p         </td><td>compact   </td><td>44        </td><td>22.0      </td></tr>\n",
       "</tbody>\n",
       "</table>\n"
      ],
      "text/latex": [
       "\\begin{tabular}{r|lllllllllllll}\n",
       " manufacturer & model & displ & year & cyl & trans & drv & cty & hwy & fl & class & total & mean\\\\\n",
       "\\hline\n",
       "\t audi       & a4         & 1.8        & 1999       & 4          & auto(l5)   & f          & 18         & 29         & p          & compact    & 47         & 23.5      \\\\\n",
       "\t audi       & a4         & 1.8        & 1999       & 4          & manual(m5) & f          & 21         & 29         & p          & compact    & 50         & 25.0      \\\\\n",
       "\t audi       & a4         & 2.0        & 2008       & 4          & manual(m6) & f          & 20         & 31         & p          & compact    & 51         & 25.5      \\\\\n",
       "\t audi       & a4         & 2.0        & 2008       & 4          & auto(av)   & f          & 21         & 30         & p          & compact    & 51         & 25.5      \\\\\n",
       "\t audi       & a4         & 2.8        & 1999       & 6          & auto(l5)   & f          & 16         & 26         & p          & compact    & 42         & 21.0      \\\\\n",
       "\t audi       & a4         & 2.8        & 1999       & 6          & manual(m5) & f          & 18         & 26         & p          & compact    & 44         & 22.0      \\\\\n",
       "\\end{tabular}\n"
      ],
      "text/markdown": [
       "\n",
       "| manufacturer | model | displ | year | cyl | trans | drv | cty | hwy | fl | class | total | mean |\n",
       "|---|---|---|---|---|---|---|---|---|---|---|---|---|\n",
       "| audi       | a4         | 1.8        | 1999       | 4          | auto(l5)   | f          | 18         | 29         | p          | compact    | 47         | 23.5       |\n",
       "| audi       | a4         | 1.8        | 1999       | 4          | manual(m5) | f          | 21         | 29         | p          | compact    | 50         | 25.0       |\n",
       "| audi       | a4         | 2.0        | 2008       | 4          | manual(m6) | f          | 20         | 31         | p          | compact    | 51         | 25.5       |\n",
       "| audi       | a4         | 2.0        | 2008       | 4          | auto(av)   | f          | 21         | 30         | p          | compact    | 51         | 25.5       |\n",
       "| audi       | a4         | 2.8        | 1999       | 6          | auto(l5)   | f          | 16         | 26         | p          | compact    | 42         | 21.0       |\n",
       "| audi       | a4         | 2.8        | 1999       | 6          | manual(m5) | f          | 18         | 26         | p          | compact    | 44         | 22.0       |\n",
       "\n"
      ],
      "text/plain": [
       "  manufacturer model displ year cyl trans      drv cty hwy fl class   total\n",
       "1 audi         a4    1.8   1999 4   auto(l5)   f   18  29  p  compact 47   \n",
       "2 audi         a4    1.8   1999 4   manual(m5) f   21  29  p  compact 50   \n",
       "3 audi         a4    2.0   2008 4   manual(m6) f   20  31  p  compact 51   \n",
       "4 audi         a4    2.0   2008 4   auto(av)   f   21  30  p  compact 51   \n",
       "5 audi         a4    2.8   1999 6   auto(l5)   f   16  26  p  compact 42   \n",
       "6 audi         a4    2.8   1999 6   manual(m5) f   18  26  p  compact 44   \n",
       "  mean\n",
       "1 23.5\n",
       "2 25.0\n",
       "3 25.5\n",
       "4 25.5\n",
       "5 21.0\n",
       "6 22.0"
      ]
     },
     "metadata": {},
     "output_type": "display_data"
    }
   ],
   "source": [
    "head(mpg_new)"
   ]
  },
  {
   "cell_type": "markdown",
   "metadata": {},
   "source": [
    "Q3. '평균 연비 변수'가 가장 높은 자동차 3종의 데이터를 출력하세요."
   ]
  },
  {
   "cell_type": "code",
   "execution_count": 134,
   "metadata": {},
   "outputs": [
    {
     "data": {
      "text/html": [
       "<table>\n",
       "<thead><tr><th scope=col>manufacturer</th><th scope=col>model</th><th scope=col>displ</th><th scope=col>year</th><th scope=col>cyl</th><th scope=col>trans</th><th scope=col>drv</th><th scope=col>cty</th><th scope=col>hwy</th><th scope=col>fl</th><th scope=col>class</th><th scope=col>total</th><th scope=col>mean</th></tr></thead>\n",
       "<tbody>\n",
       "\t<tr><td>volkswagen</td><td>new beetle</td><td>1.9       </td><td>1999      </td><td>4         </td><td>manual(m5)</td><td>f         </td><td>35        </td><td>44        </td><td>d         </td><td>subcompact</td><td>79        </td><td>39.5      </td></tr>\n",
       "\t<tr><td>volkswagen</td><td>jetta     </td><td>1.9       </td><td>1999      </td><td>4         </td><td>manual(m5)</td><td>f         </td><td>33        </td><td>44        </td><td>d         </td><td>compact   </td><td>77        </td><td>38.5      </td></tr>\n",
       "\t<tr><td>volkswagen</td><td>new beetle</td><td>1.9       </td><td>1999      </td><td>4         </td><td>auto(l4)  </td><td>f         </td><td>29        </td><td>41        </td><td>d         </td><td>subcompact</td><td>70        </td><td>35.0      </td></tr>\n",
       "</tbody>\n",
       "</table>\n"
      ],
      "text/latex": [
       "\\begin{tabular}{r|lllllllllllll}\n",
       " manufacturer & model & displ & year & cyl & trans & drv & cty & hwy & fl & class & total & mean\\\\\n",
       "\\hline\n",
       "\t volkswagen & new beetle & 1.9        & 1999       & 4          & manual(m5) & f          & 35         & 44         & d          & subcompact & 79         & 39.5      \\\\\n",
       "\t volkswagen & jetta      & 1.9        & 1999       & 4          & manual(m5) & f          & 33         & 44         & d          & compact    & 77         & 38.5      \\\\\n",
       "\t volkswagen & new beetle & 1.9        & 1999       & 4          & auto(l4)   & f          & 29         & 41         & d          & subcompact & 70         & 35.0      \\\\\n",
       "\\end{tabular}\n"
      ],
      "text/markdown": [
       "\n",
       "| manufacturer | model | displ | year | cyl | trans | drv | cty | hwy | fl | class | total | mean |\n",
       "|---|---|---|---|---|---|---|---|---|---|---|---|---|\n",
       "| volkswagen | new beetle | 1.9        | 1999       | 4          | manual(m5) | f          | 35         | 44         | d          | subcompact | 79         | 39.5       |\n",
       "| volkswagen | jetta      | 1.9        | 1999       | 4          | manual(m5) | f          | 33         | 44         | d          | compact    | 77         | 38.5       |\n",
       "| volkswagen | new beetle | 1.9        | 1999       | 4          | auto(l4)   | f          | 29         | 41         | d          | subcompact | 70         | 35.0       |\n",
       "\n"
      ],
      "text/plain": [
       "  manufacturer model      displ year cyl trans      drv cty hwy fl class     \n",
       "1 volkswagen   new beetle 1.9   1999 4   manual(m5) f   35  44  d  subcompact\n",
       "2 volkswagen   jetta      1.9   1999 4   manual(m5) f   33  44  d  compact   \n",
       "3 volkswagen   new beetle 1.9   1999 4   auto(l4)   f   29  41  d  subcompact\n",
       "  total mean\n",
       "1 79    39.5\n",
       "2 77    38.5\n",
       "3 70    35.0"
      ]
     },
     "metadata": {},
     "output_type": "display_data"
    }
   ],
   "source": [
    "mpg_new %>%\n",
    " arrange(desc(mean)) %>% # 내림차순 정렬\n",
    " head(3) # 상위 3 행 출력"
   ]
  },
  {
   "cell_type": "markdown",
   "metadata": {},
   "source": [
    "Q4. 1~3번 문제를 해결할 수 있는 하나로 연결된 dplyr 구문을 만들어 출력하세요. 데이터는 복사본 대신\n",
    "mpg 원본을 이용하세요."
   ]
  },
  {
   "cell_type": "code",
   "execution_count": 61,
   "metadata": {},
   "outputs": [
    {
     "data": {
      "text/html": [
       "<table>\n",
       "<thead><tr><th scope=col>manufacturer</th><th scope=col>model</th><th scope=col>displ</th><th scope=col>year</th><th scope=col>cyl</th><th scope=col>trans</th><th scope=col>drv</th><th scope=col>cty</th><th scope=col>hwy</th><th scope=col>fl</th><th scope=col>class</th><th scope=col>total</th><th scope=col>mean</th></tr></thead>\n",
       "<tbody>\n",
       "\t<tr><td>volkswagen</td><td>new beetle</td><td>1.9       </td><td>1999      </td><td>4         </td><td>manual(m5)</td><td>f         </td><td>35        </td><td>44        </td><td>d         </td><td>subcompact</td><td>79        </td><td>39.5      </td></tr>\n",
       "\t<tr><td>volkswagen</td><td>jetta     </td><td>1.9       </td><td>1999      </td><td>4         </td><td>manual(m5)</td><td>f         </td><td>33        </td><td>44        </td><td>d         </td><td>compact   </td><td>77        </td><td>38.5      </td></tr>\n",
       "\t<tr><td>volkswagen</td><td>new beetle</td><td>1.9       </td><td>1999      </td><td>4         </td><td>auto(l4)  </td><td>f         </td><td>29        </td><td>41        </td><td>d         </td><td>subcompact</td><td>70        </td><td>35.0      </td></tr>\n",
       "</tbody>\n",
       "</table>\n"
      ],
      "text/latex": [
       "\\begin{tabular}{r|lllllllllllll}\n",
       " manufacturer & model & displ & year & cyl & trans & drv & cty & hwy & fl & class & total & mean\\\\\n",
       "\\hline\n",
       "\t volkswagen & new beetle & 1.9        & 1999       & 4          & manual(m5) & f          & 35         & 44         & d          & subcompact & 79         & 39.5      \\\\\n",
       "\t volkswagen & jetta      & 1.9        & 1999       & 4          & manual(m5) & f          & 33         & 44         & d          & compact    & 77         & 38.5      \\\\\n",
       "\t volkswagen & new beetle & 1.9        & 1999       & 4          & auto(l4)   & f          & 29         & 41         & d          & subcompact & 70         & 35.0      \\\\\n",
       "\\end{tabular}\n"
      ],
      "text/markdown": [
       "\n",
       "| manufacturer | model | displ | year | cyl | trans | drv | cty | hwy | fl | class | total | mean |\n",
       "|---|---|---|---|---|---|---|---|---|---|---|---|---|\n",
       "| volkswagen | new beetle | 1.9        | 1999       | 4          | manual(m5) | f          | 35         | 44         | d          | subcompact | 79         | 39.5       |\n",
       "| volkswagen | jetta      | 1.9        | 1999       | 4          | manual(m5) | f          | 33         | 44         | d          | compact    | 77         | 38.5       |\n",
       "| volkswagen | new beetle | 1.9        | 1999       | 4          | auto(l4)   | f          | 29         | 41         | d          | subcompact | 70         | 35.0       |\n",
       "\n"
      ],
      "text/plain": [
       "  manufacturer model      displ year cyl trans      drv cty hwy fl class     \n",
       "1 volkswagen   new beetle 1.9   1999 4   manual(m5) f   35  44  d  subcompact\n",
       "2 volkswagen   jetta      1.9   1999 4   manual(m5) f   33  44  d  compact   \n",
       "3 volkswagen   new beetle 1.9   1999 4   auto(l4)   f   29  41  d  subcompact\n",
       "  total mean\n",
       "1 79    39.5\n",
       "2 77    38.5\n",
       "3 70    35.0"
      ]
     },
     "metadata": {},
     "output_type": "display_data"
    }
   ],
   "source": [
    "mpg %>%\n",
    " mutate(total = cty + hwy, # 합산 변수 만들기\n",
    "         mean = total/2) %>% # 평균 변수 만들기\n",
    " arrange(desc(mean)) %>% # 내림차순 정렬\n",
    " head(3) "
   ]
  },
  {
   "cell_type": "code",
   "execution_count": 62,
   "metadata": {},
   "outputs": [
    {
     "data": {
      "text/html": [
       "<table>\n",
       "<thead><tr><th scope=col>mean_math</th></tr></thead>\n",
       "<tbody>\n",
       "\t<tr><td>57.45</td></tr>\n",
       "</tbody>\n",
       "</table>\n"
      ],
      "text/latex": [
       "\\begin{tabular}{r|l}\n",
       " mean\\_math\\\\\n",
       "\\hline\n",
       "\t 57.45\\\\\n",
       "\\end{tabular}\n"
      ],
      "text/markdown": [
       "\n",
       "| mean_math |\n",
       "|---|\n",
       "| 57.45 |\n",
       "\n"
      ],
      "text/plain": [
       "  mean_math\n",
       "1 57.45    "
      ]
     },
     "metadata": {},
     "output_type": "display_data"
    }
   ],
   "source": [
    "# 집단별로 요약하기\n",
    "exam %>% summarise(mean_math = mean(math)) # math 평균 산출"
   ]
  },
  {
   "cell_type": "code",
   "execution_count": 63,
   "metadata": {},
   "outputs": [
    {
     "data": {
      "text/html": [
       "<table>\n",
       "<thead><tr><th scope=col>class</th><th scope=col>mean_math</th></tr></thead>\n",
       "<tbody>\n",
       "\t<tr><td>1    </td><td>46.25</td></tr>\n",
       "\t<tr><td>2    </td><td>61.25</td></tr>\n",
       "\t<tr><td>3    </td><td>45.00</td></tr>\n",
       "\t<tr><td>4    </td><td>56.75</td></tr>\n",
       "\t<tr><td>5    </td><td>78.00</td></tr>\n",
       "</tbody>\n",
       "</table>\n"
      ],
      "text/latex": [
       "\\begin{tabular}{r|ll}\n",
       " class & mean\\_math\\\\\n",
       "\\hline\n",
       "\t 1     & 46.25\\\\\n",
       "\t 2     & 61.25\\\\\n",
       "\t 3     & 45.00\\\\\n",
       "\t 4     & 56.75\\\\\n",
       "\t 5     & 78.00\\\\\n",
       "\\end{tabular}\n"
      ],
      "text/markdown": [
       "\n",
       "| class | mean_math |\n",
       "|---|---|\n",
       "| 1     | 46.25 |\n",
       "| 2     | 61.25 |\n",
       "| 3     | 45.00 |\n",
       "| 4     | 56.75 |\n",
       "| 5     | 78.00 |\n",
       "\n"
      ],
      "text/plain": [
       "  class mean_math\n",
       "1 1     46.25    \n",
       "2 2     61.25    \n",
       "3 3     45.00    \n",
       "4 4     56.75    \n",
       "5 5     78.00    "
      ]
     },
     "metadata": {},
     "output_type": "display_data"
    }
   ],
   "source": [
    "exam %>%\n",
    " group_by(class) %>% # class 별로 분리\n",
    " summarise(mean_math = mean(math)) # math 평균 산출"
   ]
  },
  {
   "cell_type": "code",
   "execution_count": 64,
   "metadata": {},
   "outputs": [
    {
     "data": {
      "text/html": [
       "<table>\n",
       "<thead><tr><th scope=col>class</th><th scope=col>mean_math</th><th scope=col>sum_math</th><th scope=col>median_math</th><th scope=col>n</th></tr></thead>\n",
       "<tbody>\n",
       "\t<tr><td>1    </td><td>46.25</td><td>185  </td><td>47.5 </td><td>4    </td></tr>\n",
       "\t<tr><td>2    </td><td>61.25</td><td>245  </td><td>65.0 </td><td>4    </td></tr>\n",
       "\t<tr><td>3    </td><td>45.00</td><td>180  </td><td>47.5 </td><td>4    </td></tr>\n",
       "\t<tr><td>4    </td><td>56.75</td><td>227  </td><td>53.0 </td><td>4    </td></tr>\n",
       "\t<tr><td>5    </td><td>78.00</td><td>312  </td><td>79.0 </td><td>4    </td></tr>\n",
       "</tbody>\n",
       "</table>\n"
      ],
      "text/latex": [
       "\\begin{tabular}{r|lllll}\n",
       " class & mean\\_math & sum\\_math & median\\_math & n\\\\\n",
       "\\hline\n",
       "\t 1     & 46.25 & 185   & 47.5  & 4    \\\\\n",
       "\t 2     & 61.25 & 245   & 65.0  & 4    \\\\\n",
       "\t 3     & 45.00 & 180   & 47.5  & 4    \\\\\n",
       "\t 4     & 56.75 & 227   & 53.0  & 4    \\\\\n",
       "\t 5     & 78.00 & 312   & 79.0  & 4    \\\\\n",
       "\\end{tabular}\n"
      ],
      "text/markdown": [
       "\n",
       "| class | mean_math | sum_math | median_math | n |\n",
       "|---|---|---|---|---|\n",
       "| 1     | 46.25 | 185   | 47.5  | 4     |\n",
       "| 2     | 61.25 | 245   | 65.0  | 4     |\n",
       "| 3     | 45.00 | 180   | 47.5  | 4     |\n",
       "| 4     | 56.75 | 227   | 53.0  | 4     |\n",
       "| 5     | 78.00 | 312   | 79.0  | 4     |\n",
       "\n"
      ],
      "text/plain": [
       "  class mean_math sum_math median_math n\n",
       "1 1     46.25     185      47.5        4\n",
       "2 2     61.25     245      65.0        4\n",
       "3 3     45.00     180      47.5        4\n",
       "4 4     56.75     227      53.0        4\n",
       "5 5     78.00     312      79.0        4"
      ]
     },
     "metadata": {},
     "output_type": "display_data"
    }
   ],
   "source": [
    "# 여러 요약통계량 한 번에 산출하기\n",
    "exam %>%\n",
    " group_by(class) %>% # class 별로 분리\n",
    " summarise(mean_math = mean(math), # math 평균\n",
    "             sum_math = sum(math), # math 합계\n",
    "             median_math = median(math), # math 중앙값\n",
    "             n = n()) # 학생 수"
   ]
  },
  {
   "cell_type": "markdown",
   "metadata": {},
   "source": [
    "### 자주 사용하는 요약통계량 함수\n",
    "함수 의미  \n",
    "mean() 평균  \n",
    "sd() 표준편차  \n",
    "sum() 합계  \n",
    "median() 중앙값  \n",
    "min() 최솟값  \n",
    "max() 최댓값  \n",
    "n() 빈도  "
   ]
  },
  {
   "cell_type": "code",
   "execution_count": 65,
   "metadata": {},
   "outputs": [
    {
     "data": {
      "text/html": [
       "<table>\n",
       "<thead><tr><th scope=col>manufacturer</th><th scope=col>drv</th><th scope=col>mean_cty</th></tr></thead>\n",
       "<tbody>\n",
       "\t<tr><td>audi     </td><td>4        </td><td>16.81818 </td></tr>\n",
       "\t<tr><td>audi     </td><td>f        </td><td>18.85714 </td></tr>\n",
       "\t<tr><td>chevrolet</td><td>4        </td><td>12.50000 </td></tr>\n",
       "\t<tr><td>chevrolet</td><td>f        </td><td>18.80000 </td></tr>\n",
       "\t<tr><td>chevrolet</td><td>r        </td><td>14.10000 </td></tr>\n",
       "\t<tr><td>dodge    </td><td>4        </td><td>12.00000 </td></tr>\n",
       "\t<tr><td>dodge    </td><td>f        </td><td>15.81818 </td></tr>\n",
       "\t<tr><td>ford     </td><td>4        </td><td>13.30769 </td></tr>\n",
       "\t<tr><td>ford     </td><td>r        </td><td>14.75000 </td></tr>\n",
       "\t<tr><td>honda    </td><td>f        </td><td>24.44444 </td></tr>\n",
       "</tbody>\n",
       "</table>\n"
      ],
      "text/latex": [
       "\\begin{tabular}{r|lll}\n",
       " manufacturer & drv & mean\\_cty\\\\\n",
       "\\hline\n",
       "\t audi      & 4         & 16.81818 \\\\\n",
       "\t audi      & f         & 18.85714 \\\\\n",
       "\t chevrolet & 4         & 12.50000 \\\\\n",
       "\t chevrolet & f         & 18.80000 \\\\\n",
       "\t chevrolet & r         & 14.10000 \\\\\n",
       "\t dodge     & 4         & 12.00000 \\\\\n",
       "\t dodge     & f         & 15.81818 \\\\\n",
       "\t ford      & 4         & 13.30769 \\\\\n",
       "\t ford      & r         & 14.75000 \\\\\n",
       "\t honda     & f         & 24.44444 \\\\\n",
       "\\end{tabular}\n"
      ],
      "text/markdown": [
       "\n",
       "| manufacturer | drv | mean_cty |\n",
       "|---|---|---|\n",
       "| audi      | 4         | 16.81818  |\n",
       "| audi      | f         | 18.85714  |\n",
       "| chevrolet | 4         | 12.50000  |\n",
       "| chevrolet | f         | 18.80000  |\n",
       "| chevrolet | r         | 14.10000  |\n",
       "| dodge     | 4         | 12.00000  |\n",
       "| dodge     | f         | 15.81818  |\n",
       "| ford      | 4         | 13.30769  |\n",
       "| ford      | r         | 14.75000  |\n",
       "| honda     | f         | 24.44444  |\n",
       "\n"
      ],
      "text/plain": [
       "   manufacturer drv mean_cty\n",
       "1  audi         4   16.81818\n",
       "2  audi         f   18.85714\n",
       "3  chevrolet    4   12.50000\n",
       "4  chevrolet    f   18.80000\n",
       "5  chevrolet    r   14.10000\n",
       "6  dodge        4   12.00000\n",
       "7  dodge        f   15.81818\n",
       "8  ford         4   13.30769\n",
       "9  ford         r   14.75000\n",
       "10 honda        f   24.44444"
      ]
     },
     "metadata": {},
     "output_type": "display_data"
    }
   ],
   "source": [
    "# 각 집단별로 다시 집단 나누기\n",
    "mpg %>%\n",
    " group_by(manufacturer, drv) %>% # 회사별, 구방방식별 분리\n",
    " summarise(mean_cty = mean(cty)) %>% # cty 평균 산출\n",
    " head(10) # 일부 출력"
   ]
  },
  {
   "cell_type": "markdown",
   "metadata": {},
   "source": [
    "dplyr 조합하기  \n",
    "문제) 회사별로 \"suv\" 자동차의 도시 및 고속도로 통합 연비 평균을 구해 내림차순으로 정렬하고, 1~5위까지 출력하기\n",
    "\n",
    "분석 절차 생각해보기  \n",
    "절차 기능 dplyr 함수  \n",
    "1 회사별로 분리 group_by()  \n",
    "2 suv 추출 filter()  \n",
    "3 통합 연비 변수 생성 mutate()  \n",
    "4 통합 연비 평균 산출 summarise()  \n",
    "5 내림차순 정렬 arrange()  \n",
    "6 1~5위까지 출력 head()"
   ]
  },
  {
   "cell_type": "code",
   "execution_count": 90,
   "metadata": {},
   "outputs": [
    {
     "data": {
      "text/html": [
       "<table>\n",
       "<thead><tr><th scope=col>manufacturer</th><th scope=col>mean_tot</th></tr></thead>\n",
       "<tbody>\n",
       "\t<tr><td>subaru  </td><td>21.91667</td></tr>\n",
       "\t<tr><td>toyota  </td><td>16.31250</td></tr>\n",
       "\t<tr><td>nissan  </td><td>15.87500</td></tr>\n",
       "\t<tr><td>mercury </td><td>15.62500</td></tr>\n",
       "\t<tr><td>jeep    </td><td>15.56250</td></tr>\n",
       "</tbody>\n",
       "</table>\n"
      ],
      "text/latex": [
       "\\begin{tabular}{r|ll}\n",
       " manufacturer & mean\\_tot\\\\\n",
       "\\hline\n",
       "\t subaru   & 21.91667\\\\\n",
       "\t toyota   & 16.31250\\\\\n",
       "\t nissan   & 15.87500\\\\\n",
       "\t mercury  & 15.62500\\\\\n",
       "\t jeep     & 15.56250\\\\\n",
       "\\end{tabular}\n"
      ],
      "text/markdown": [
       "\n",
       "| manufacturer | mean_tot |\n",
       "|---|---|\n",
       "| subaru   | 21.91667 |\n",
       "| toyota   | 16.31250 |\n",
       "| nissan   | 15.87500 |\n",
       "| mercury  | 15.62500 |\n",
       "| jeep     | 15.56250 |\n",
       "\n"
      ],
      "text/plain": [
       "  manufacturer mean_tot\n",
       "1 subaru       21.91667\n",
       "2 toyota       16.31250\n",
       "3 nissan       15.87500\n",
       "4 mercury      15.62500\n",
       "5 jeep         15.56250"
      ]
     },
     "metadata": {},
     "output_type": "display_data"
    }
   ],
   "source": [
    "# dplyr 조합하기\n",
    "mpg %>%\n",
    " group_by(manufacturer) %>% # 회사별로 분리\n",
    " filter(class == \"suv\") %>% # suv 추출\n",
    " mutate(tot = (cty+hwy)/2) %>% # 통합 연비 변수 생성\n",
    " summarise(mean_tot = mean(tot)) %>% # 통합 연비 평균 산출\n",
    " arrange(desc(mean_tot)) %>% # 내림차순 정렬\n",
    " head(5) # 1~5 위까지 출력"
   ]
  },
  {
   "cell_type": "markdown",
   "metadata": {},
   "source": [
    "Q1. mpg 데이터의 class는 \"suv\", \"compact\" 등 자동차를 특징에 따라 일곱 종류로 분류한 변수입니다.  \n",
    "어떤 차종의 연비가 높은지 비교해보려고 합니다. class별 cty 평균을 구해보세요."
   ]
  },
  {
   "cell_type": "code",
   "execution_count": 66,
   "metadata": {},
   "outputs": [
    {
     "data": {
      "text/html": [
       "<table>\n",
       "<thead><tr><th scope=col>class</th><th scope=col>mean_cty</th></tr></thead>\n",
       "<tbody>\n",
       "\t<tr><td>2seater   </td><td>15.40000  </td></tr>\n",
       "\t<tr><td>compact   </td><td>20.12766  </td></tr>\n",
       "\t<tr><td>midsize   </td><td>18.75610  </td></tr>\n",
       "\t<tr><td>minivan   </td><td>15.81818  </td></tr>\n",
       "\t<tr><td>pickup    </td><td>13.00000  </td></tr>\n",
       "\t<tr><td>subcompact</td><td>20.37143  </td></tr>\n",
       "\t<tr><td>suv       </td><td>13.50000  </td></tr>\n",
       "</tbody>\n",
       "</table>\n"
      ],
      "text/latex": [
       "\\begin{tabular}{r|ll}\n",
       " class & mean\\_cty\\\\\n",
       "\\hline\n",
       "\t 2seater    & 15.40000  \\\\\n",
       "\t compact    & 20.12766  \\\\\n",
       "\t midsize    & 18.75610  \\\\\n",
       "\t minivan    & 15.81818  \\\\\n",
       "\t pickup     & 13.00000  \\\\\n",
       "\t subcompact & 20.37143  \\\\\n",
       "\t suv        & 13.50000  \\\\\n",
       "\\end{tabular}\n"
      ],
      "text/markdown": [
       "\n",
       "| class | mean_cty |\n",
       "|---|---|\n",
       "| 2seater    | 15.40000   |\n",
       "| compact    | 20.12766   |\n",
       "| midsize    | 18.75610   |\n",
       "| minivan    | 15.81818   |\n",
       "| pickup     | 13.00000   |\n",
       "| subcompact | 20.37143   |\n",
       "| suv        | 13.50000   |\n",
       "\n"
      ],
      "text/plain": [
       "  class      mean_cty\n",
       "1 2seater    15.40000\n",
       "2 compact    20.12766\n",
       "3 midsize    18.75610\n",
       "4 minivan    15.81818\n",
       "5 pickup     13.00000\n",
       "6 subcompact 20.37143\n",
       "7 suv        13.50000"
      ]
     },
     "metadata": {},
     "output_type": "display_data"
    }
   ],
   "source": [
    "mpg <- as.data.frame(ggplot2::mpg) # mpg 데이터 불러오기\n",
    "\n",
    "mpg %>%\n",
    " group_by(class) %>% # class 별 분리\n",
    " summarise(mean_cty = mean(cty)) # cty 평균 구하기"
   ]
  },
  {
   "cell_type": "markdown",
   "metadata": {},
   "source": [
    "Q2. 앞 문제의 출력 결과는 class 값 알파벳 순으로 정렬되어 있습니다.  \n",
    "어떤 차종의 도시 연비가 높은지 쉽게 알아볼 수 있도록 cty 평균이 높은 순으로 정렬해 출력하세요."
   ]
  },
  {
   "cell_type": "code",
   "execution_count": 67,
   "metadata": {},
   "outputs": [
    {
     "data": {
      "text/html": [
       "<table>\n",
       "<thead><tr><th scope=col>class</th><th scope=col>mean_cty</th></tr></thead>\n",
       "<tbody>\n",
       "\t<tr><td>subcompact</td><td>20.37143  </td></tr>\n",
       "\t<tr><td>compact   </td><td>20.12766  </td></tr>\n",
       "\t<tr><td>midsize   </td><td>18.75610  </td></tr>\n",
       "\t<tr><td>minivan   </td><td>15.81818  </td></tr>\n",
       "\t<tr><td>2seater   </td><td>15.40000  </td></tr>\n",
       "\t<tr><td>suv       </td><td>13.50000  </td></tr>\n",
       "\t<tr><td>pickup    </td><td>13.00000  </td></tr>\n",
       "</tbody>\n",
       "</table>\n"
      ],
      "text/latex": [
       "\\begin{tabular}{r|ll}\n",
       " class & mean\\_cty\\\\\n",
       "\\hline\n",
       "\t subcompact & 20.37143  \\\\\n",
       "\t compact    & 20.12766  \\\\\n",
       "\t midsize    & 18.75610  \\\\\n",
       "\t minivan    & 15.81818  \\\\\n",
       "\t 2seater    & 15.40000  \\\\\n",
       "\t suv        & 13.50000  \\\\\n",
       "\t pickup     & 13.00000  \\\\\n",
       "\\end{tabular}\n"
      ],
      "text/markdown": [
       "\n",
       "| class | mean_cty |\n",
       "|---|---|\n",
       "| subcompact | 20.37143   |\n",
       "| compact    | 20.12766   |\n",
       "| midsize    | 18.75610   |\n",
       "| minivan    | 15.81818   |\n",
       "| 2seater    | 15.40000   |\n",
       "| suv        | 13.50000   |\n",
       "| pickup     | 13.00000   |\n",
       "\n"
      ],
      "text/plain": [
       "  class      mean_cty\n",
       "1 subcompact 20.37143\n",
       "2 compact    20.12766\n",
       "3 midsize    18.75610\n",
       "4 minivan    15.81818\n",
       "5 2seater    15.40000\n",
       "6 suv        13.50000\n",
       "7 pickup     13.00000"
      ]
     },
     "metadata": {},
     "output_type": "display_data"
    }
   ],
   "source": [
    "mpg %>%\n",
    " group_by(class) %>% # class 별 분리\n",
    " summarise(mean_cty = mean(cty)) %>% # cty 평균 구하기\n",
    " arrange(desc(mean_cty)) # 내림차순 정렬하기"
   ]
  },
  {
   "cell_type": "markdown",
   "metadata": {},
   "source": [
    "Q3. 어떤 회사 자동차의 hwy(고속도로 연비)가 가장 높은지 알아보려고 합니다.  \n",
    "hwy 평균이 가장 높은 회사 세 곳을 출력하세요"
   ]
  },
  {
   "cell_type": "code",
   "execution_count": 68,
   "metadata": {},
   "outputs": [
    {
     "data": {
      "text/html": [
       "<table>\n",
       "<thead><tr><th scope=col>manufacturer</th><th scope=col>mean_hwy</th></tr></thead>\n",
       "<tbody>\n",
       "\t<tr><td>honda     </td><td>32.55556  </td></tr>\n",
       "\t<tr><td>volkswagen</td><td>29.22222  </td></tr>\n",
       "\t<tr><td>hyundai   </td><td>26.85714  </td></tr>\n",
       "</tbody>\n",
       "</table>\n"
      ],
      "text/latex": [
       "\\begin{tabular}{r|ll}\n",
       " manufacturer & mean\\_hwy\\\\\n",
       "\\hline\n",
       "\t honda      & 32.55556  \\\\\n",
       "\t volkswagen & 29.22222  \\\\\n",
       "\t hyundai    & 26.85714  \\\\\n",
       "\\end{tabular}\n"
      ],
      "text/markdown": [
       "\n",
       "| manufacturer | mean_hwy |\n",
       "|---|---|\n",
       "| honda      | 32.55556   |\n",
       "| volkswagen | 29.22222   |\n",
       "| hyundai    | 26.85714   |\n",
       "\n"
      ],
      "text/plain": [
       "  manufacturer mean_hwy\n",
       "1 honda        32.55556\n",
       "2 volkswagen   29.22222\n",
       "3 hyundai      26.85714"
      ]
     },
     "metadata": {},
     "output_type": "display_data"
    }
   ],
   "source": [
    "mpg %>%\n",
    " group_by(manufacturer) %>% # manufacturer 별 분리\n",
    " summarise(mean_hwy = mean(hwy)) %>% # hwy 평균 구하기\n",
    " arrange(desc(mean_hwy)) %>% # 내림차순 정렬하기\n",
    " head(3) # 상위 3 행 출력"
   ]
  },
  {
   "cell_type": "markdown",
   "metadata": {},
   "source": [
    "Q4. 어떤 회사에서 \"compact\"(경차) 차종을 가장 많이 생산하는지 알아보려고 합니다.  \n",
    "각 회사별 \"compact\" 차종 수를 내림차순으로 정렬해 출력하세요."
   ]
  },
  {
   "cell_type": "code",
   "execution_count": 69,
   "metadata": {},
   "outputs": [
    {
     "data": {
      "text/html": [
       "<table>\n",
       "<thead><tr><th scope=col>manufacturer</th><th scope=col>count</th></tr></thead>\n",
       "<tbody>\n",
       "\t<tr><td>audi      </td><td>15        </td></tr>\n",
       "\t<tr><td>volkswagen</td><td>14        </td></tr>\n",
       "\t<tr><td>toyota    </td><td>12        </td></tr>\n",
       "\t<tr><td>subaru    </td><td> 4        </td></tr>\n",
       "\t<tr><td>nissan    </td><td> 2        </td></tr>\n",
       "</tbody>\n",
       "</table>\n"
      ],
      "text/latex": [
       "\\begin{tabular}{r|ll}\n",
       " manufacturer & count\\\\\n",
       "\\hline\n",
       "\t audi       & 15        \\\\\n",
       "\t volkswagen & 14        \\\\\n",
       "\t toyota     & 12        \\\\\n",
       "\t subaru     &  4        \\\\\n",
       "\t nissan     &  2        \\\\\n",
       "\\end{tabular}\n"
      ],
      "text/markdown": [
       "\n",
       "| manufacturer | count |\n",
       "|---|---|\n",
       "| audi       | 15         |\n",
       "| volkswagen | 14         |\n",
       "| toyota     | 12         |\n",
       "| subaru     |  4         |\n",
       "| nissan     |  2         |\n",
       "\n"
      ],
      "text/plain": [
       "  manufacturer count\n",
       "1 audi         15   \n",
       "2 volkswagen   14   \n",
       "3 toyota       12   \n",
       "4 subaru        4   \n",
       "5 nissan        2   "
      ]
     },
     "metadata": {},
     "output_type": "display_data"
    }
   ],
   "source": [
    "mpg %>%\n",
    " filter(class == \"compact\") %>% # compact 추출\n",
    " group_by(manufacturer) %>% # manufacturer 별 분리\n",
    " summarise(count = n()) %>% # 빈도 구하기\n",
    " arrange(desc(count)) # 내림차순 정렬"
   ]
  },
  {
   "cell_type": "code",
   "execution_count": 70,
   "metadata": {},
   "outputs": [],
   "source": [
    "# 데이터 합치기\n",
    "# 가로로 합치기\n",
    "\n",
    "# 중간고사 데이터 생성\n",
    "test1 <- data.frame(id = c(1, 2, 3, 4, 5),\n",
    "                     midterm = c(60, 80, 70, 90, 85))\n",
    "# 기말고사 데이터 생성\n",
    "test2 <- data.frame(id = c(1, 2, 3, 4, 5),\n",
    "                     final = c(70, 83, 65, 95, 80))"
   ]
  },
  {
   "cell_type": "code",
   "execution_count": 71,
   "metadata": {},
   "outputs": [
    {
     "data": {
      "text/html": [
       "<table>\n",
       "<thead><tr><th scope=col>id</th><th scope=col>midterm</th></tr></thead>\n",
       "<tbody>\n",
       "\t<tr><td>1 </td><td>60</td></tr>\n",
       "\t<tr><td>2 </td><td>80</td></tr>\n",
       "\t<tr><td>3 </td><td>70</td></tr>\n",
       "\t<tr><td>4 </td><td>90</td></tr>\n",
       "\t<tr><td>5 </td><td>85</td></tr>\n",
       "</tbody>\n",
       "</table>\n"
      ],
      "text/latex": [
       "\\begin{tabular}{r|ll}\n",
       " id & midterm\\\\\n",
       "\\hline\n",
       "\t 1  & 60\\\\\n",
       "\t 2  & 80\\\\\n",
       "\t 3  & 70\\\\\n",
       "\t 4  & 90\\\\\n",
       "\t 5  & 85\\\\\n",
       "\\end{tabular}\n"
      ],
      "text/markdown": [
       "\n",
       "| id | midterm |\n",
       "|---|---|\n",
       "| 1  | 60 |\n",
       "| 2  | 80 |\n",
       "| 3  | 70 |\n",
       "| 4  | 90 |\n",
       "| 5  | 85 |\n",
       "\n"
      ],
      "text/plain": [
       "  id midterm\n",
       "1 1  60     \n",
       "2 2  80     \n",
       "3 3  70     \n",
       "4 4  90     \n",
       "5 5  85     "
      ]
     },
     "metadata": {},
     "output_type": "display_data"
    }
   ],
   "source": [
    "test1 # test1 출력"
   ]
  },
  {
   "cell_type": "code",
   "execution_count": 72,
   "metadata": {},
   "outputs": [
    {
     "data": {
      "text/html": [
       "<table>\n",
       "<thead><tr><th scope=col>id</th><th scope=col>final</th></tr></thead>\n",
       "<tbody>\n",
       "\t<tr><td>1 </td><td>70</td></tr>\n",
       "\t<tr><td>2 </td><td>83</td></tr>\n",
       "\t<tr><td>3 </td><td>65</td></tr>\n",
       "\t<tr><td>4 </td><td>95</td></tr>\n",
       "\t<tr><td>5 </td><td>80</td></tr>\n",
       "</tbody>\n",
       "</table>\n"
      ],
      "text/latex": [
       "\\begin{tabular}{r|ll}\n",
       " id & final\\\\\n",
       "\\hline\n",
       "\t 1  & 70\\\\\n",
       "\t 2  & 83\\\\\n",
       "\t 3  & 65\\\\\n",
       "\t 4  & 95\\\\\n",
       "\t 5  & 80\\\\\n",
       "\\end{tabular}\n"
      ],
      "text/markdown": [
       "\n",
       "| id | final |\n",
       "|---|---|\n",
       "| 1  | 70 |\n",
       "| 2  | 83 |\n",
       "| 3  | 65 |\n",
       "| 4  | 95 |\n",
       "| 5  | 80 |\n",
       "\n"
      ],
      "text/plain": [
       "  id final\n",
       "1 1  70   \n",
       "2 2  83   \n",
       "3 3  65   \n",
       "4 4  95   \n",
       "5 5  80   "
      ]
     },
     "metadata": {},
     "output_type": "display_data"
    }
   ],
   "source": [
    "test2 # test2 출력"
   ]
  },
  {
   "cell_type": "code",
   "execution_count": 73,
   "metadata": {},
   "outputs": [
    {
     "data": {
      "text/html": [
       "<table>\n",
       "<thead><tr><th scope=col>id</th><th scope=col>midterm</th><th scope=col>final</th></tr></thead>\n",
       "<tbody>\n",
       "\t<tr><td>1 </td><td>60</td><td>70</td></tr>\n",
       "\t<tr><td>2 </td><td>80</td><td>83</td></tr>\n",
       "\t<tr><td>3 </td><td>70</td><td>65</td></tr>\n",
       "\t<tr><td>4 </td><td>90</td><td>95</td></tr>\n",
       "\t<tr><td>5 </td><td>85</td><td>80</td></tr>\n",
       "</tbody>\n",
       "</table>\n"
      ],
      "text/latex": [
       "\\begin{tabular}{r|lll}\n",
       " id & midterm & final\\\\\n",
       "\\hline\n",
       "\t 1  & 60 & 70\\\\\n",
       "\t 2  & 80 & 83\\\\\n",
       "\t 3  & 70 & 65\\\\\n",
       "\t 4  & 90 & 95\\\\\n",
       "\t 5  & 85 & 80\\\\\n",
       "\\end{tabular}\n"
      ],
      "text/markdown": [
       "\n",
       "| id | midterm | final |\n",
       "|---|---|---|\n",
       "| 1  | 60 | 70 |\n",
       "| 2  | 80 | 83 |\n",
       "| 3  | 70 | 65 |\n",
       "| 4  | 90 | 95 |\n",
       "| 5  | 85 | 80 |\n",
       "\n"
      ],
      "text/plain": [
       "  id midterm final\n",
       "1 1  60      70   \n",
       "2 2  80      83   \n",
       "3 3  70      65   \n",
       "4 4  90      95   \n",
       "5 5  85      80   "
      ]
     },
     "metadata": {},
     "output_type": "display_data"
    }
   ],
   "source": [
    "# id 기준으로 합치기\n",
    "total <- left_join(test1, test2, by = \"id\") # id 기준으로 합쳐 total 에 할당\n",
    "total "
   ]
  },
  {
   "cell_type": "code",
   "execution_count": 74,
   "metadata": {},
   "outputs": [
    {
     "data": {
      "text/html": [
       "<table>\n",
       "<thead><tr><th scope=col>class</th><th scope=col>teacher</th></tr></thead>\n",
       "<tbody>\n",
       "\t<tr><td>1   </td><td>kim </td></tr>\n",
       "\t<tr><td>2   </td><td>lee </td></tr>\n",
       "\t<tr><td>3   </td><td>park</td></tr>\n",
       "\t<tr><td>4   </td><td>choi</td></tr>\n",
       "\t<tr><td>5   </td><td>jung</td></tr>\n",
       "</tbody>\n",
       "</table>\n"
      ],
      "text/latex": [
       "\\begin{tabular}{r|ll}\n",
       " class & teacher\\\\\n",
       "\\hline\n",
       "\t 1    & kim \\\\\n",
       "\t 2    & lee \\\\\n",
       "\t 3    & park\\\\\n",
       "\t 4    & choi\\\\\n",
       "\t 5    & jung\\\\\n",
       "\\end{tabular}\n"
      ],
      "text/markdown": [
       "\n",
       "| class | teacher |\n",
       "|---|---|\n",
       "| 1    | kim  |\n",
       "| 2    | lee  |\n",
       "| 3    | park |\n",
       "| 4    | choi |\n",
       "| 5    | jung |\n",
       "\n"
      ],
      "text/plain": [
       "  class teacher\n",
       "1 1     kim    \n",
       "2 2     lee    \n",
       "3 3     park   \n",
       "4 4     choi   \n",
       "5 5     jung   "
      ]
     },
     "metadata": {},
     "output_type": "display_data"
    }
   ],
   "source": [
    "# 다른 데이터 활용해 변수 추가하기\n",
    "# 반별 담임교사 명단 생성\n",
    "name <- data.frame(class = c(1, 2, 3, 4, 5),\n",
    "                    teacher = c(\"kim\", \"lee\", \"park\", \"choi\", \"jung\"))\n",
    "name"
   ]
  },
  {
   "cell_type": "code",
   "execution_count": 75,
   "metadata": {},
   "outputs": [
    {
     "data": {
      "text/html": [
       "<table>\n",
       "<thead><tr><th scope=col>id</th><th scope=col>class</th><th scope=col>math</th><th scope=col>english</th><th scope=col>science</th><th scope=col>teacher</th></tr></thead>\n",
       "<tbody>\n",
       "\t<tr><td> 1  </td><td>1   </td><td>50  </td><td>98  </td><td>50  </td><td>kim </td></tr>\n",
       "\t<tr><td> 2  </td><td>1   </td><td>60  </td><td>97  </td><td>60  </td><td>kim </td></tr>\n",
       "\t<tr><td> 3  </td><td>1   </td><td>45  </td><td>86  </td><td>78  </td><td>kim </td></tr>\n",
       "\t<tr><td> 4  </td><td>1   </td><td>30  </td><td>98  </td><td>58  </td><td>kim </td></tr>\n",
       "\t<tr><td> 5  </td><td>2   </td><td>25  </td><td>80  </td><td>65  </td><td>lee </td></tr>\n",
       "\t<tr><td> 6  </td><td>2   </td><td>50  </td><td>89  </td><td>98  </td><td>lee </td></tr>\n",
       "\t<tr><td> 7  </td><td>2   </td><td>80  </td><td>90  </td><td>45  </td><td>lee </td></tr>\n",
       "\t<tr><td> 8  </td><td>2   </td><td>90  </td><td>78  </td><td>25  </td><td>lee </td></tr>\n",
       "\t<tr><td> 9  </td><td>3   </td><td>20  </td><td>98  </td><td>15  </td><td>park</td></tr>\n",
       "\t<tr><td>10  </td><td>3   </td><td>50  </td><td>98  </td><td>45  </td><td>park</td></tr>\n",
       "\t<tr><td>11  </td><td>3   </td><td>65  </td><td>65  </td><td>65  </td><td>park</td></tr>\n",
       "\t<tr><td>12  </td><td>3   </td><td>45  </td><td>85  </td><td>32  </td><td>park</td></tr>\n",
       "\t<tr><td>13  </td><td>4   </td><td>46  </td><td>98  </td><td>65  </td><td>choi</td></tr>\n",
       "\t<tr><td>14  </td><td>4   </td><td>48  </td><td>87  </td><td>12  </td><td>choi</td></tr>\n",
       "\t<tr><td>15  </td><td>4   </td><td>75  </td><td>56  </td><td>78  </td><td>choi</td></tr>\n",
       "\t<tr><td>16  </td><td>4   </td><td>58  </td><td>98  </td><td>65  </td><td>choi</td></tr>\n",
       "\t<tr><td>17  </td><td>5   </td><td>65  </td><td>68  </td><td>98  </td><td>jung</td></tr>\n",
       "\t<tr><td>18  </td><td>5   </td><td>80  </td><td>78  </td><td>90  </td><td>jung</td></tr>\n",
       "\t<tr><td>19  </td><td>5   </td><td>89  </td><td>68  </td><td>87  </td><td>jung</td></tr>\n",
       "\t<tr><td>20  </td><td>5   </td><td>78  </td><td>83  </td><td>58  </td><td>jung</td></tr>\n",
       "</tbody>\n",
       "</table>\n"
      ],
      "text/latex": [
       "\\begin{tabular}{r|llllll}\n",
       " id & class & math & english & science & teacher\\\\\n",
       "\\hline\n",
       "\t  1   & 1    & 50   & 98   & 50   & kim \\\\\n",
       "\t  2   & 1    & 60   & 97   & 60   & kim \\\\\n",
       "\t  3   & 1    & 45   & 86   & 78   & kim \\\\\n",
       "\t  4   & 1    & 30   & 98   & 58   & kim \\\\\n",
       "\t  5   & 2    & 25   & 80   & 65   & lee \\\\\n",
       "\t  6   & 2    & 50   & 89   & 98   & lee \\\\\n",
       "\t  7   & 2    & 80   & 90   & 45   & lee \\\\\n",
       "\t  8   & 2    & 90   & 78   & 25   & lee \\\\\n",
       "\t  9   & 3    & 20   & 98   & 15   & park\\\\\n",
       "\t 10   & 3    & 50   & 98   & 45   & park\\\\\n",
       "\t 11   & 3    & 65   & 65   & 65   & park\\\\\n",
       "\t 12   & 3    & 45   & 85   & 32   & park\\\\\n",
       "\t 13   & 4    & 46   & 98   & 65   & choi\\\\\n",
       "\t 14   & 4    & 48   & 87   & 12   & choi\\\\\n",
       "\t 15   & 4    & 75   & 56   & 78   & choi\\\\\n",
       "\t 16   & 4    & 58   & 98   & 65   & choi\\\\\n",
       "\t 17   & 5    & 65   & 68   & 98   & jung\\\\\n",
       "\t 18   & 5    & 80   & 78   & 90   & jung\\\\\n",
       "\t 19   & 5    & 89   & 68   & 87   & jung\\\\\n",
       "\t 20   & 5    & 78   & 83   & 58   & jung\\\\\n",
       "\\end{tabular}\n"
      ],
      "text/markdown": [
       "\n",
       "| id | class | math | english | science | teacher |\n",
       "|---|---|---|---|---|---|\n",
       "|  1   | 1    | 50   | 98   | 50   | kim  |\n",
       "|  2   | 1    | 60   | 97   | 60   | kim  |\n",
       "|  3   | 1    | 45   | 86   | 78   | kim  |\n",
       "|  4   | 1    | 30   | 98   | 58   | kim  |\n",
       "|  5   | 2    | 25   | 80   | 65   | lee  |\n",
       "|  6   | 2    | 50   | 89   | 98   | lee  |\n",
       "|  7   | 2    | 80   | 90   | 45   | lee  |\n",
       "|  8   | 2    | 90   | 78   | 25   | lee  |\n",
       "|  9   | 3    | 20   | 98   | 15   | park |\n",
       "| 10   | 3    | 50   | 98   | 45   | park |\n",
       "| 11   | 3    | 65   | 65   | 65   | park |\n",
       "| 12   | 3    | 45   | 85   | 32   | park |\n",
       "| 13   | 4    | 46   | 98   | 65   | choi |\n",
       "| 14   | 4    | 48   | 87   | 12   | choi |\n",
       "| 15   | 4    | 75   | 56   | 78   | choi |\n",
       "| 16   | 4    | 58   | 98   | 65   | choi |\n",
       "| 17   | 5    | 65   | 68   | 98   | jung |\n",
       "| 18   | 5    | 80   | 78   | 90   | jung |\n",
       "| 19   | 5    | 89   | 68   | 87   | jung |\n",
       "| 20   | 5    | 78   | 83   | 58   | jung |\n",
       "\n"
      ],
      "text/plain": [
       "   id class math english science teacher\n",
       "1   1 1     50   98      50      kim    \n",
       "2   2 1     60   97      60      kim    \n",
       "3   3 1     45   86      78      kim    \n",
       "4   4 1     30   98      58      kim    \n",
       "5   5 2     25   80      65      lee    \n",
       "6   6 2     50   89      98      lee    \n",
       "7   7 2     80   90      45      lee    \n",
       "8   8 2     90   78      25      lee    \n",
       "9   9 3     20   98      15      park   \n",
       "10 10 3     50   98      45      park   \n",
       "11 11 3     65   65      65      park   \n",
       "12 12 3     45   85      32      park   \n",
       "13 13 4     46   98      65      choi   \n",
       "14 14 4     48   87      12      choi   \n",
       "15 15 4     75   56      78      choi   \n",
       "16 16 4     58   98      65      choi   \n",
       "17 17 5     65   68      98      jung   \n",
       "18 18 5     80   78      90      jung   \n",
       "19 19 5     89   68      87      jung   \n",
       "20 20 5     78   83      58      jung   "
      ]
     },
     "metadata": {},
     "output_type": "display_data"
    }
   ],
   "source": [
    "# class 기준 합치기\n",
    "exam_new <- left_join(exam, name, by = \"class\")\n",
    "exam_new"
   ]
  },
  {
   "cell_type": "code",
   "execution_count": 76,
   "metadata": {},
   "outputs": [],
   "source": [
    "# 세로로 합치기\n",
    "# 데이터 생성\n",
    "# 학생 1~5 번 시험 데이터 생성\n",
    "group_a <- data.frame(id = c(1, 2, 3, 4, 5),\n",
    "                      test = c(60, 80, 70, 90, 85))\n",
    "# 학생 6~10 번 시험 데이터 생성\n",
    "group_b <- data.frame(id = c(6, 7, 8, 9, 10),\n",
    "                      test = c(70, 83, 65, 95, 80))"
   ]
  },
  {
   "cell_type": "code",
   "execution_count": 77,
   "metadata": {},
   "outputs": [
    {
     "data": {
      "text/html": [
       "<table>\n",
       "<thead><tr><th scope=col>id</th><th scope=col>test</th></tr></thead>\n",
       "<tbody>\n",
       "\t<tr><td>1 </td><td>60</td></tr>\n",
       "\t<tr><td>2 </td><td>80</td></tr>\n",
       "\t<tr><td>3 </td><td>70</td></tr>\n",
       "\t<tr><td>4 </td><td>90</td></tr>\n",
       "\t<tr><td>5 </td><td>85</td></tr>\n",
       "</tbody>\n",
       "</table>\n"
      ],
      "text/latex": [
       "\\begin{tabular}{r|ll}\n",
       " id & test\\\\\n",
       "\\hline\n",
       "\t 1  & 60\\\\\n",
       "\t 2  & 80\\\\\n",
       "\t 3  & 70\\\\\n",
       "\t 4  & 90\\\\\n",
       "\t 5  & 85\\\\\n",
       "\\end{tabular}\n"
      ],
      "text/markdown": [
       "\n",
       "| id | test |\n",
       "|---|---|\n",
       "| 1  | 60 |\n",
       "| 2  | 80 |\n",
       "| 3  | 70 |\n",
       "| 4  | 90 |\n",
       "| 5  | 85 |\n",
       "\n"
      ],
      "text/plain": [
       "  id test\n",
       "1 1  60  \n",
       "2 2  80  \n",
       "3 3  70  \n",
       "4 4  90  \n",
       "5 5  85  "
      ]
     },
     "metadata": {},
     "output_type": "display_data"
    }
   ],
   "source": [
    "group_a # group_a 출력"
   ]
  },
  {
   "cell_type": "code",
   "execution_count": 104,
   "metadata": {},
   "outputs": [
    {
     "data": {
      "text/html": [
       "<table>\n",
       "<thead><tr><th scope=col>id</th><th scope=col>test</th></tr></thead>\n",
       "<tbody>\n",
       "\t<tr><td> 6</td><td>70</td></tr>\n",
       "\t<tr><td> 7</td><td>83</td></tr>\n",
       "\t<tr><td> 8</td><td>65</td></tr>\n",
       "\t<tr><td> 9</td><td>95</td></tr>\n",
       "\t<tr><td>10</td><td>80</td></tr>\n",
       "</tbody>\n",
       "</table>\n"
      ],
      "text/latex": [
       "\\begin{tabular}{r|ll}\n",
       " id & test\\\\\n",
       "\\hline\n",
       "\t  6 & 70\\\\\n",
       "\t  7 & 83\\\\\n",
       "\t  8 & 65\\\\\n",
       "\t  9 & 95\\\\\n",
       "\t 10 & 80\\\\\n",
       "\\end{tabular}\n"
      ],
      "text/markdown": [
       "\n",
       "| id | test |\n",
       "|---|---|\n",
       "|  6 | 70 |\n",
       "|  7 | 83 |\n",
       "|  8 | 65 |\n",
       "|  9 | 95 |\n",
       "| 10 | 80 |\n",
       "\n"
      ],
      "text/plain": [
       "  id test\n",
       "1  6 70  \n",
       "2  7 83  \n",
       "3  8 65  \n",
       "4  9 95  \n",
       "5 10 80  "
      ]
     },
     "metadata": {},
     "output_type": "display_data"
    }
   ],
   "source": [
    "group_b # group_b 출력"
   ]
  },
  {
   "cell_type": "code",
   "execution_count": 78,
   "metadata": {},
   "outputs": [
    {
     "data": {
      "text/html": [
       "<table>\n",
       "<thead><tr><th scope=col>id</th><th scope=col>test</th></tr></thead>\n",
       "<tbody>\n",
       "\t<tr><td> 1</td><td>60</td></tr>\n",
       "\t<tr><td> 2</td><td>80</td></tr>\n",
       "\t<tr><td> 3</td><td>70</td></tr>\n",
       "\t<tr><td> 4</td><td>90</td></tr>\n",
       "\t<tr><td> 5</td><td>85</td></tr>\n",
       "\t<tr><td> 6</td><td>70</td></tr>\n",
       "\t<tr><td> 7</td><td>83</td></tr>\n",
       "\t<tr><td> 8</td><td>65</td></tr>\n",
       "\t<tr><td> 9</td><td>95</td></tr>\n",
       "\t<tr><td>10</td><td>80</td></tr>\n",
       "</tbody>\n",
       "</table>\n"
      ],
      "text/latex": [
       "\\begin{tabular}{r|ll}\n",
       " id & test\\\\\n",
       "\\hline\n",
       "\t  1 & 60\\\\\n",
       "\t  2 & 80\\\\\n",
       "\t  3 & 70\\\\\n",
       "\t  4 & 90\\\\\n",
       "\t  5 & 85\\\\\n",
       "\t  6 & 70\\\\\n",
       "\t  7 & 83\\\\\n",
       "\t  8 & 65\\\\\n",
       "\t  9 & 95\\\\\n",
       "\t 10 & 80\\\\\n",
       "\\end{tabular}\n"
      ],
      "text/markdown": [
       "\n",
       "| id | test |\n",
       "|---|---|\n",
       "|  1 | 60 |\n",
       "|  2 | 80 |\n",
       "|  3 | 70 |\n",
       "|  4 | 90 |\n",
       "|  5 | 85 |\n",
       "|  6 | 70 |\n",
       "|  7 | 83 |\n",
       "|  8 | 65 |\n",
       "|  9 | 95 |\n",
       "| 10 | 80 |\n",
       "\n"
      ],
      "text/plain": [
       "   id test\n",
       "1   1 60  \n",
       "2   2 80  \n",
       "3   3 70  \n",
       "4   4 90  \n",
       "5   5 85  \n",
       "6   6 70  \n",
       "7   7 83  \n",
       "8   8 65  \n",
       "9   9 95  \n",
       "10 10 80  "
      ]
     },
     "metadata": {},
     "output_type": "display_data"
    }
   ],
   "source": [
    "# 세로로 합치기\n",
    "group_all <- bind_rows(group_a, group_b) # 데이터 합쳐서 group_all 에 할당\n",
    "group_all "
   ]
  },
  {
   "cell_type": "markdown",
   "metadata": {},
   "source": [
    "mpg 데이터를 이용해서 분석 문제를 해결해 보세요.  \n",
    "mpg 데이터의 fl 변수는 자동차에 사용하는 연료(fuel)를 의미합니다.  아래는 자동차 연료별 가격을 나타낸\n",
    "표입니다. \n",
    "fl 연료 종류 가격(갤런당 USD)  \n",
    "c CNG 2.35  \n",
    "d diesel 2.38  \n",
    "e ethanol E85 2.11  \n",
    "p premium 2.76  \n",
    "r regular 2.22  \n",
    "우선 이 정보를 이용해서 연료와 가격으로 구성된 데이터 프레임을 만들어 보세요."
   ]
  },
  {
   "cell_type": "code",
   "execution_count": 79,
   "metadata": {},
   "outputs": [
    {
     "data": {
      "text/html": [
       "<table>\n",
       "<thead><tr><th scope=col>fl</th><th scope=col>price_fl</th></tr></thead>\n",
       "<tbody>\n",
       "\t<tr><td>c   </td><td>2.35</td></tr>\n",
       "\t<tr><td>d   </td><td>2.38</td></tr>\n",
       "\t<tr><td>e   </td><td>2.11</td></tr>\n",
       "\t<tr><td>p   </td><td>2.76</td></tr>\n",
       "\t<tr><td>r   </td><td>2.22</td></tr>\n",
       "</tbody>\n",
       "</table>\n"
      ],
      "text/latex": [
       "\\begin{tabular}{r|ll}\n",
       " fl & price\\_fl\\\\\n",
       "\\hline\n",
       "\t c    & 2.35\\\\\n",
       "\t d    & 2.38\\\\\n",
       "\t e    & 2.11\\\\\n",
       "\t p    & 2.76\\\\\n",
       "\t r    & 2.22\\\\\n",
       "\\end{tabular}\n"
      ],
      "text/markdown": [
       "\n",
       "| fl | price_fl |\n",
       "|---|---|\n",
       "| c    | 2.35 |\n",
       "| d    | 2.38 |\n",
       "| e    | 2.11 |\n",
       "| p    | 2.76 |\n",
       "| r    | 2.22 |\n",
       "\n"
      ],
      "text/plain": [
       "  fl price_fl\n",
       "1 c  2.35    \n",
       "2 d  2.38    \n",
       "3 e  2.11    \n",
       "4 p  2.76    \n",
       "5 r  2.22    "
      ]
     },
     "metadata": {},
     "output_type": "display_data"
    }
   ],
   "source": [
    "fuel <- data.frame(fl = c(\"c\", \"d\", \"e\", \"p\", \"r\"),\n",
    "                   price_fl = c(2.35, 2.38, 2.11, 2.76, 2.22),\n",
    "                   stringsAsFactors = F)\n",
    "fuel # 출력"
   ]
  },
  {
   "cell_type": "markdown",
   "metadata": {},
   "source": [
    "Q1. mpg 데이터에는 연료 종류를 나타낸 fl 변수는 있지만 연료 가격을 나타낸 변수는 없습니다. 위에서 만든\n",
    "fuel 데이터를 이용해서 mpg 데이터에 price_fl(연료 가격) 변수를 추가하세요."
   ]
  },
  {
   "cell_type": "code",
   "execution_count": 80,
   "metadata": {},
   "outputs": [],
   "source": [
    "mpg <- as.data.frame(ggplot2::mpg) # mpg 데이터 불러오기\n",
    "\n",
    "mpg <- left_join(mpg, fuel, by = \"fl\") # mpg 에 연료 가격 변수 추가"
   ]
  },
  {
   "cell_type": "code",
   "execution_count": 81,
   "metadata": {},
   "outputs": [
    {
     "data": {
      "text/html": [
       "<table>\n",
       "<thead><tr><th scope=col>manufacturer</th><th scope=col>model</th><th scope=col>displ</th><th scope=col>year</th><th scope=col>cyl</th><th scope=col>trans</th><th scope=col>drv</th><th scope=col>cty</th><th scope=col>hwy</th><th scope=col>fl</th><th scope=col>class</th><th scope=col>price_fl</th></tr></thead>\n",
       "<tbody>\n",
       "\t<tr><td>audi      </td><td>a4        </td><td>1.8       </td><td>1999      </td><td>4         </td><td>auto(l5)  </td><td>f         </td><td>18        </td><td>29        </td><td>p         </td><td>compact   </td><td>2.76      </td></tr>\n",
       "\t<tr><td>audi      </td><td>a4        </td><td>1.8       </td><td>1999      </td><td>4         </td><td>manual(m5)</td><td>f         </td><td>21        </td><td>29        </td><td>p         </td><td>compact   </td><td>2.76      </td></tr>\n",
       "\t<tr><td>audi      </td><td>a4        </td><td>2.0       </td><td>2008      </td><td>4         </td><td>manual(m6)</td><td>f         </td><td>20        </td><td>31        </td><td>p         </td><td>compact   </td><td>2.76      </td></tr>\n",
       "\t<tr><td>audi      </td><td>a4        </td><td>2.0       </td><td>2008      </td><td>4         </td><td>auto(av)  </td><td>f         </td><td>21        </td><td>30        </td><td>p         </td><td>compact   </td><td>2.76      </td></tr>\n",
       "\t<tr><td>audi      </td><td>a4        </td><td>2.8       </td><td>1999      </td><td>6         </td><td>auto(l5)  </td><td>f         </td><td>16        </td><td>26        </td><td>p         </td><td>compact   </td><td>2.76      </td></tr>\n",
       "\t<tr><td>audi      </td><td>a4        </td><td>2.8       </td><td>1999      </td><td>6         </td><td>manual(m5)</td><td>f         </td><td>18        </td><td>26        </td><td>p         </td><td>compact   </td><td>2.76      </td></tr>\n",
       "</tbody>\n",
       "</table>\n"
      ],
      "text/latex": [
       "\\begin{tabular}{r|llllllllllll}\n",
       " manufacturer & model & displ & year & cyl & trans & drv & cty & hwy & fl & class & price\\_fl\\\\\n",
       "\\hline\n",
       "\t audi       & a4         & 1.8        & 1999       & 4          & auto(l5)   & f          & 18         & 29         & p          & compact    & 2.76      \\\\\n",
       "\t audi       & a4         & 1.8        & 1999       & 4          & manual(m5) & f          & 21         & 29         & p          & compact    & 2.76      \\\\\n",
       "\t audi       & a4         & 2.0        & 2008       & 4          & manual(m6) & f          & 20         & 31         & p          & compact    & 2.76      \\\\\n",
       "\t audi       & a4         & 2.0        & 2008       & 4          & auto(av)   & f          & 21         & 30         & p          & compact    & 2.76      \\\\\n",
       "\t audi       & a4         & 2.8        & 1999       & 6          & auto(l5)   & f          & 16         & 26         & p          & compact    & 2.76      \\\\\n",
       "\t audi       & a4         & 2.8        & 1999       & 6          & manual(m5) & f          & 18         & 26         & p          & compact    & 2.76      \\\\\n",
       "\\end{tabular}\n"
      ],
      "text/markdown": [
       "\n",
       "| manufacturer | model | displ | year | cyl | trans | drv | cty | hwy | fl | class | price_fl |\n",
       "|---|---|---|---|---|---|---|---|---|---|---|---|\n",
       "| audi       | a4         | 1.8        | 1999       | 4          | auto(l5)   | f          | 18         | 29         | p          | compact    | 2.76       |\n",
       "| audi       | a4         | 1.8        | 1999       | 4          | manual(m5) | f          | 21         | 29         | p          | compact    | 2.76       |\n",
       "| audi       | a4         | 2.0        | 2008       | 4          | manual(m6) | f          | 20         | 31         | p          | compact    | 2.76       |\n",
       "| audi       | a4         | 2.0        | 2008       | 4          | auto(av)   | f          | 21         | 30         | p          | compact    | 2.76       |\n",
       "| audi       | a4         | 2.8        | 1999       | 6          | auto(l5)   | f          | 16         | 26         | p          | compact    | 2.76       |\n",
       "| audi       | a4         | 2.8        | 1999       | 6          | manual(m5) | f          | 18         | 26         | p          | compact    | 2.76       |\n",
       "\n"
      ],
      "text/plain": [
       "  manufacturer model displ year cyl trans      drv cty hwy fl class   price_fl\n",
       "1 audi         a4    1.8   1999 4   auto(l5)   f   18  29  p  compact 2.76    \n",
       "2 audi         a4    1.8   1999 4   manual(m5) f   21  29  p  compact 2.76    \n",
       "3 audi         a4    2.0   2008 4   manual(m6) f   20  31  p  compact 2.76    \n",
       "4 audi         a4    2.0   2008 4   auto(av)   f   21  30  p  compact 2.76    \n",
       "5 audi         a4    2.8   1999 6   auto(l5)   f   16  26  p  compact 2.76    \n",
       "6 audi         a4    2.8   1999 6   manual(m5) f   18  26  p  compact 2.76    "
      ]
     },
     "metadata": {},
     "output_type": "display_data"
    }
   ],
   "source": [
    "head(mpg)"
   ]
  },
  {
   "cell_type": "markdown",
   "metadata": {},
   "source": [
    "Q2. 연료 가격 변수가 잘 추가됐는지 확인하기 위해서 model, fl, price_fl 변수를 추출해 앞부분 5행을\n",
    "출력해 보세요."
   ]
  },
  {
   "cell_type": "code",
   "execution_count": 82,
   "metadata": {},
   "outputs": [
    {
     "data": {
      "text/html": [
       "<table>\n",
       "<thead><tr><th scope=col>model</th><th scope=col>fl</th><th scope=col>price_fl</th></tr></thead>\n",
       "<tbody>\n",
       "\t<tr><td>a4  </td><td>p   </td><td>2.76</td></tr>\n",
       "\t<tr><td>a4  </td><td>p   </td><td>2.76</td></tr>\n",
       "\t<tr><td>a4  </td><td>p   </td><td>2.76</td></tr>\n",
       "\t<tr><td>a4  </td><td>p   </td><td>2.76</td></tr>\n",
       "\t<tr><td>a4  </td><td>p   </td><td>2.76</td></tr>\n",
       "</tbody>\n",
       "</table>\n"
      ],
      "text/latex": [
       "\\begin{tabular}{r|lll}\n",
       " model & fl & price\\_fl\\\\\n",
       "\\hline\n",
       "\t a4   & p    & 2.76\\\\\n",
       "\t a4   & p    & 2.76\\\\\n",
       "\t a4   & p    & 2.76\\\\\n",
       "\t a4   & p    & 2.76\\\\\n",
       "\t a4   & p    & 2.76\\\\\n",
       "\\end{tabular}\n"
      ],
      "text/markdown": [
       "\n",
       "| model | fl | price_fl |\n",
       "|---|---|---|\n",
       "| a4   | p    | 2.76 |\n",
       "| a4   | p    | 2.76 |\n",
       "| a4   | p    | 2.76 |\n",
       "| a4   | p    | 2.76 |\n",
       "| a4   | p    | 2.76 |\n",
       "\n"
      ],
      "text/plain": [
       "  model fl price_fl\n",
       "1 a4    p  2.76    \n",
       "2 a4    p  2.76    \n",
       "3 a4    p  2.76    \n",
       "4 a4    p  2.76    \n",
       "5 a4    p  2.76    "
      ]
     },
     "metadata": {},
     "output_type": "display_data"
    }
   ],
   "source": [
    "mpg %>%\n",
    " select(model, fl, price_fl) %>% # model, fl, price_fl 추출\n",
    " head(5) "
   ]
  },
  {
   "cell_type": "markdown",
   "metadata": {},
   "source": [
    "## 정리하기  \n",
    "### 1.조건에 맞는 데이터만 추출하기  \n",
    "exam %>% filter(english >= 80)  \n",
    "### 여러 조건 동시 충족  \n",
    "exam %>% filter(class == 1 & math >= 50)  \n",
    "### 여러 조건 중 하나 이상 충족\n",
    "exam %>% filter(math >= 90 | english >= 90)  \n",
    "exam %>% filter(class %in% c(1,3,5))  \n",
    "### 2.필요한 변수만 추출하기  \n",
    "exam %>% select(math)  \n",
    "exam %>% select(class, math, english)  \n",
    "### 3.함수 조합하기, 일부만 출력하기  \n",
    "exam %>%  \n",
    " select(id, math) %>%  \n",
    " head(10)  \n",
    "NP  \n",
    "### 4.순서대로 정렬하기  \n",
    "exam %>% arrange(math) # 오름차순 정렬  \n",
    "exam %>% arrange(desc(math)) # 내림차순 정렬  \n",
    "exam %>% arrange(class, math) # 여러 변수 기준 오름차순 정렬  \n",
    "### 5.파생변수 추가하기  \n",
    "exam %>% mutate(total = math + english + science)  \n",
    "### 여러 파생변수 한 번에 추가하기  \n",
    "exam %>%  \n",
    " mutate(total = math + english + science,  \n",
    " mean = (math + english + science)/3)  \n",
    "### mutate()에 ifelse() 적용하기  \n",
    "exam %>% mutate(test = ifelse(science >= 60, \"pass\", \"fail\"))  \n",
    "### 추가한 변수를 dplyr 코드에 바로 활용하기  \n",
    "exam %>%  \n",
    " mutate(total = math + english + science) %>%  \n",
    " arrange(total)  \n",
    "NP  \n",
    "### 6.집단별로 요약하기  \n",
    "exam %>%  \n",
    " group_by(class) %>%  \n",
    " summarise(mean_math = mean(math))  \n",
    "### 각 집단별로 다시 집단 나누기  \n",
    "mpg %>%  \n",
    " group_by(manufacturer, drv) %>%  \n",
    " summarise(mean_cty = mean(cty))  \n",
    "### 7.데이터 합치기  \n",
    "### 가로로 합치기  \n",
    "total <- left_join(test1, test2, by = \"id\")  \n",
    "### 세로로 합치기  \n",
    "group_all <- bind_rows(group_a, group_b)  "
   ]
  },
  {
   "cell_type": "markdown",
   "metadata": {},
   "source": [
    "### 분석 도전  \n",
    "미국 동북중부 437개 지역의 인구통계 정보를 담고 있는 midwest 데이터를 사용해 데이터 분석 문제를 해결해 보세요.  \n",
    "midwest는 ggplot2 패키지에 들어 있습니다.  \n",
    "• 문제 1. popadults 는 해당 지역의 성인 인구, poptotal 은 전체 인구를 나타냅니다.  \n",
    "          midwest 데이터에 '전체 인구 대비 미성년 인구 백분율' 변수를 추가하세요.  \n",
    "• 문제 2. 미성년 인구 백분율이 가장 높은 상위 5 개 county(지역)의 미성년 인구 백분율을 출력하세요.  \n",
    "• 문제 3. 분류표의 기준에 따라 미성년 비율 등급 변수를 추가하고, 각 등급에 몇 개의 지역이 있는지 알아보세요.  \n",
    "분류 기준  \n",
    "large 40% 이상  \n",
    "middle 30% ~ 40% 미만  \n",
    "small 30% 미만  \n",
    "• 문제4. popasian은 해당 지역의 아시아인 인구를 나타냅니다. '전체 인구 대비 아시아인 인구 백분율' 변수를 추가하고,  \n",
    "         하위 10개 지역의 state(주), county(지역명), 아시아인 인구 백분율을 출력하세요."
   ]
  },
  {
   "cell_type": "markdown",
   "metadata": {},
   "source": [
    "문제1. popadults는 해당 지역의 성인 인구, poptotal은 전체 인구를 나타냅니다. midwest 데이터에 '전체\n",
    "인구 대비 미성년 인구 백분율' 변수를 추가하세요."
   ]
  },
  {
   "cell_type": "code",
   "execution_count": 84,
   "metadata": {},
   "outputs": [
    {
     "data": {
      "text/html": [
       "<table>\n",
       "<thead><tr><th scope=col>PID</th><th scope=col>county</th><th scope=col>state</th><th scope=col>area</th><th scope=col>poptotal</th><th scope=col>popdensity</th><th scope=col>popwhite</th><th scope=col>popblack</th><th scope=col>popamerindian</th><th scope=col>popasian</th><th scope=col>...</th><th scope=col>percprof</th><th scope=col>poppovertyknown</th><th scope=col>percpovertyknown</th><th scope=col>percbelowpoverty</th><th scope=col>percchildbelowpovert</th><th scope=col>percadultpoverty</th><th scope=col>percelderlypoverty</th><th scope=col>inmetro</th><th scope=col>category</th><th scope=col>ratio_child</th></tr></thead>\n",
       "<tbody>\n",
       "\t<tr><td>561       </td><td>ADAMS     </td><td>IL        </td><td>0.052     </td><td>  66090   </td><td> 1270.9615</td><td>  63917   </td><td>   1702   </td><td>   98     </td><td>   249    </td><td>...       </td><td> 4.355859 </td><td>  63628   </td><td>96.27478  </td><td>13.151443 </td><td>18.011717 </td><td>11.009776 </td><td>12.443812 </td><td>0         </td><td>AAR       </td><td>34.48631  </td></tr>\n",
       "\t<tr><td>562       </td><td>ALEXANDER </td><td>IL        </td><td>0.014     </td><td>  10626   </td><td>  759.0000</td><td>   7054   </td><td>   3496   </td><td>   19     </td><td>    48    </td><td>...       </td><td> 2.870315 </td><td>  10529   </td><td>99.08714  </td><td>32.244278 </td><td>45.826514 </td><td>27.385647 </td><td>25.228976 </td><td>0         </td><td>LHR       </td><td>36.72125  </td></tr>\n",
       "\t<tr><td>563       </td><td>BOND      </td><td>IL        </td><td>0.022     </td><td>  14991   </td><td>  681.4091</td><td>  14477   </td><td>    429   </td><td>   35     </td><td>    16    </td><td>...       </td><td> 4.488572 </td><td>  14235   </td><td>94.95697  </td><td>12.068844 </td><td>14.036061 </td><td>10.852090 </td><td>12.697410 </td><td>0         </td><td>AAR       </td><td>35.50130  </td></tr>\n",
       "\t<tr><td>564       </td><td>BOONE     </td><td>IL        </td><td>0.017     </td><td>  30806   </td><td> 1812.1176</td><td>  29344   </td><td>    127   </td><td>   46     </td><td>   150    </td><td>...       </td><td> 4.197800 </td><td>  30337   </td><td>98.47757  </td><td> 7.209019 </td><td>11.179536 </td><td> 5.536013 </td><td> 6.217047 </td><td>1         </td><td>ALU       </td><td>37.44076  </td></tr>\n",
       "\t<tr><td>565       </td><td>BROWN     </td><td>IL        </td><td>0.018     </td><td>   5836   </td><td>  324.2222</td><td>   5264   </td><td>    547   </td><td>   14     </td><td>     5    </td><td>...       </td><td> 3.367680 </td><td>   4815   </td><td>82.50514  </td><td>13.520249 </td><td>13.022889 </td><td>11.143211 </td><td>19.200000 </td><td>0         </td><td>AAR       </td><td>31.81974  </td></tr>\n",
       "\t<tr><td>566       </td><td>BUREAU    </td><td>IL        </td><td>0.050     </td><td>  35688   </td><td>  713.7600</td><td>  35157   </td><td>     50   </td><td>   65     </td><td>   195    </td><td>...       </td><td> 3.275891 </td><td>  35107   </td><td>98.37200  </td><td>10.399635 </td><td>14.158819 </td><td> 8.179287 </td><td>11.008586 </td><td>0         </td><td>AAR       </td><td>34.30845  </td></tr>\n",
       "\t<tr><td>567       </td><td>CALHOUN   </td><td>IL        </td><td>0.017     </td><td>   5322   </td><td>  313.0588</td><td>   5298   </td><td>      1   </td><td>    8     </td><td>    15    </td><td>...       </td><td> 3.209601 </td><td>   5241   </td><td>98.47802  </td><td>15.149781 </td><td>13.787761 </td><td>12.932331 </td><td>21.085271 </td><td>0         </td><td>LAR       </td><td>32.67569  </td></tr>\n",
       "\t<tr><td>568       </td><td>CARROLL   </td><td>IL        </td><td>0.027     </td><td>  16805   </td><td>  622.4074</td><td>  16519   </td><td>    111   </td><td>   30     </td><td>    61    </td><td>...       </td><td> 3.055727 </td><td>  16455   </td><td>97.91729  </td><td>11.710726 </td><td>17.225462 </td><td>10.027037 </td><td> 9.525052 </td><td>0         </td><td>AAR       </td><td>32.62124  </td></tr>\n",
       "\t<tr><td>569       </td><td>CASS      </td><td>IL        </td><td>0.024     </td><td>  13437   </td><td>  559.8750</td><td>  13384   </td><td>     16   </td><td>    8     </td><td>    23    </td><td>...       </td><td> 3.206799 </td><td>  13081   </td><td>97.35060  </td><td>13.875086 </td><td>17.994784 </td><td>11.914343 </td><td>13.660180 </td><td>0         </td><td>AAR       </td><td>34.32314  </td></tr>\n",
       "\t<tr><td>570       </td><td>CHAMPAIGN </td><td>IL        </td><td>0.058     </td><td> 173025   </td><td> 2983.1897</td><td> 146506   </td><td>  16559   </td><td>  331     </td><td>  8033    </td><td>...       </td><td>17.757448 </td><td> 154934   </td><td>89.54429  </td><td>15.572437 </td><td>14.132234 </td><td>17.562728 </td><td> 8.105017 </td><td>1         </td><td>HAU       </td><td>44.53345  </td></tr>\n",
       "\t<tr><td>571       </td><td>CHRISTIAN </td><td>IL        </td><td>0.042     </td><td>  34418   </td><td>  819.4762</td><td>  34176   </td><td>     82   </td><td>   51     </td><td>    89    </td><td>...       </td><td> 3.089998 </td><td>  33788   </td><td>98.16956  </td><td>11.708299 </td><td>16.320612 </td><td> 9.569700 </td><td>11.490641 </td><td>0         </td><td>AAR       </td><td>33.33430  </td></tr>\n",
       "\t<tr><td>572       </td><td>CLARK     </td><td>IL        </td><td>0.030     </td><td>  15921   </td><td>  530.7000</td><td>  15842   </td><td>     10   </td><td>   26     </td><td>    36    </td><td>...       </td><td> 2.776225 </td><td>  15615   </td><td>98.07801  </td><td>12.007685 </td><td>15.321547 </td><td>10.131775 </td><td>12.595420 </td><td>0         </td><td>AAR       </td><td>32.57961  </td></tr>\n",
       "\t<tr><td>573       </td><td>CLAY      </td><td>IL        </td><td>0.028     </td><td>  14460   </td><td>  516.4286</td><td>  14403   </td><td>      4   </td><td>   17     </td><td>    29    </td><td>...       </td><td> 2.788432 </td><td>  14248   </td><td>98.53389  </td><td>16.774284 </td><td>20.582578 </td><td>14.464114 </td><td>17.670078 </td><td>0         </td><td>LAR       </td><td>33.28492  </td></tr>\n",
       "\t<tr><td>574       </td><td>CLINTON   </td><td>IL        </td><td>0.029     </td><td>  33944   </td><td> 1170.4828</td><td>  32688   </td><td>   1021   </td><td>   48     </td><td>   104    </td><td>...       </td><td> 2.875296 </td><td>  32190   </td><td>94.83267  </td><td>10.223672 </td><td>13.299402 </td><td> 9.253834 </td><td> 8.323176 </td><td>1         </td><td>LAU       </td><td>36.47478  </td></tr>\n",
       "\t<tr><td>575       </td><td>COLES     </td><td>IL        </td><td>0.030     </td><td>  51644   </td><td> 1721.4667</td><td>  50177   </td><td>    925   </td><td>   92     </td><td>   341    </td><td>...       </td><td> 8.144563 </td><td>  45693   </td><td>88.47688  </td><td>16.748736 </td><td>16.341941 </td><td>18.792914 </td><td>10.993608 </td><td>0         </td><td>AAR       </td><td>43.58299  </td></tr>\n",
       "\t<tr><td>576       </td><td>COOK      </td><td>IL        </td><td>0.058     </td><td>5105067   </td><td>88018.3966</td><td>3204947   </td><td>1317147   </td><td>10289     </td><td>188565    </td><td>...       </td><td> 8.329964 </td><td>5023523   </td><td>98.40269  </td><td>14.198303 </td><td>22.293497 </td><td>11.665542 </td><td>10.825269 </td><td>1         </td><td>AAU       </td><td>35.51515  </td></tr>\n",
       "\t<tr><td>577       </td><td>CRAWFORD  </td><td>IL        </td><td>0.026     </td><td>  19464   </td><td>  748.6154</td><td>  19300   </td><td>     63   </td><td>   34     </td><td>    48    </td><td>...       </td><td> 3.334084 </td><td>  19123   </td><td>98.24805  </td><td>10.537050 </td><td>13.809825 </td><td> 8.870243 </td><td>10.803387 </td><td>0         </td><td>AAR       </td><td>31.58138  </td></tr>\n",
       "\t<tr><td>578       </td><td>CUMBERLAND</td><td>IL        </td><td>0.020     </td><td>  10670   </td><td>  533.5000</td><td>  10627   </td><td>      5   </td><td>    6     </td><td>    26    </td><td>...       </td><td> 2.690650 </td><td>  10590   </td><td>99.25023  </td><td>12.049103 </td><td>13.603185 </td><td> 9.822264 </td><td>15.284626 </td><td>0         </td><td>AAR       </td><td>36.95408  </td></tr>\n",
       "\t<tr><td>579       </td><td>DE KALB   </td><td>IL        </td><td>0.038     </td><td>  77932   </td><td> 2050.8421</td><td>  72968   </td><td>   2069   </td><td>  123     </td><td>  1751    </td><td>...       </td><td>11.150967 </td><td>  69127   </td><td>88.70169  </td><td>13.544635 </td><td> 8.678238 </td><td>17.047419 </td><td> 6.453908 </td><td>1         </td><td>HAU       </td><td>46.34168  </td></tr>\n",
       "\t<tr><td>580       </td><td>DE WITT   </td><td>IL        </td><td>0.023     </td><td>  16516   </td><td>  718.0870</td><td>  16387   </td><td>     25   </td><td>   37     </td><td>    43    </td><td>...       </td><td> 3.308656 </td><td>  16238   </td><td>98.31678  </td><td>10.315310 </td><td>13.568426 </td><td> 7.955993 </td><td>12.255345 </td><td>0         </td><td>AAR       </td><td>33.75515  </td></tr>\n",
       "\t<tr><td>581       </td><td>DOUGLAS   </td><td>IL        </td><td>0.025     </td><td>  19464   </td><td>  778.5600</td><td>  19280   </td><td>     16   </td><td>   19     </td><td>    41    </td><td>...       </td><td> 3.840637 </td><td>  19140   </td><td>98.33539  </td><td> 9.629049 </td><td>13.293543 </td><td> 7.924795 </td><td> 8.714363 </td><td>0         </td><td>AAR       </td><td>35.52199  </td></tr>\n",
       "\t<tr><td>582       </td><td>DU PAGE   </td><td>IL        </td><td>0.020     </td><td> 781666   </td><td>39083.3000</td><td> 714905   </td><td>  15462   </td><td>  962     </td><td> 39634    </td><td>...       </td><td>11.963266 </td><td> 771641   </td><td>98.71748  </td><td> 2.714734 </td><td> 2.945252 </td><td> 2.399064 </td><td> 3.838249 </td><td>1         </td><td>HLU       </td><td>35.73713  </td></tr>\n",
       "\t<tr><td>583       </td><td>EDGAR     </td><td>IL        </td><td>0.036     </td><td>  19595   </td><td>  544.3056</td><td>  19469   </td><td>     68   </td><td>   24     </td><td>    24    </td><td>...       </td><td> 3.676808 </td><td>  19258   </td><td>98.28017  </td><td>16.003739 </td><td>22.827628 </td><td>14.480957 </td><td>11.762014 </td><td>0         </td><td>AAR       </td><td>33.23807  </td></tr>\n",
       "\t<tr><td>584       </td><td>EDWARDS   </td><td>IL        </td><td>0.014     </td><td>   7440   </td><td>  531.4286</td><td>   7401   </td><td>      6   </td><td>    8     </td><td>    19    </td><td>...       </td><td> 2.450687 </td><td>   7350   </td><td>98.79032  </td><td>12.204082 </td><td>15.159868 </td><td>10.950250 </td><td>11.859528 </td><td>0         </td><td>AAR       </td><td>32.54032  </td></tr>\n",
       "\t<tr><td>585       </td><td>EFFINGHAM </td><td>IL        </td><td>0.028     </td><td>  31704   </td><td> 1132.2857</td><td>  31523   </td><td>     12   </td><td>   45     </td><td>    95    </td><td>...       </td><td> 3.783950 </td><td>  31229   </td><td>98.50177  </td><td> 8.994845 </td><td>11.599832 </td><td> 6.974466 </td><td>10.517498 </td><td>0         </td><td>AAR       </td><td>38.56611  </td></tr>\n",
       "\t<tr><td>586       </td><td>FAYETTE   </td><td>IL        </td><td>0.044     </td><td>  20893   </td><td>  474.8409</td><td>  20148   </td><td>    599   </td><td>   40     </td><td>    35    </td><td>...       </td><td> 2.986901 </td><td>  19452   </td><td>93.10295  </td><td>13.618137 </td><td>16.627635 </td><td>12.134146 </td><td>13.435829 </td><td>0         </td><td>AAR       </td><td>33.49926  </td></tr>\n",
       "\t<tr><td>587       </td><td>FORD      </td><td>IL        </td><td>0.030     </td><td>  14275   </td><td>  475.8333</td><td>  14157   </td><td>     43   </td><td>   14     </td><td>    40    </td><td>...       </td><td> 3.899083 </td><td>  13860   </td><td>97.09282  </td><td> 9.264069 </td><td>13.571228 </td><td> 7.325288 </td><td> 8.787402 </td><td>0         </td><td>AAR       </td><td>32.80560  </td></tr>\n",
       "\t<tr><td>588       </td><td>FRANKLIN  </td><td>IL        </td><td>0.025     </td><td>  40319   </td><td> 1612.7600</td><td>  40068   </td><td>     36   </td><td>  106     </td><td>    84    </td><td>...       </td><td> 2.432571 </td><td>  39703   </td><td>98.47218  </td><td>20.764174 </td><td>31.074742 </td><td>19.313537 </td><td>13.679486 </td><td>0         </td><td>LHR       </td><td>32.50329  </td></tr>\n",
       "\t<tr><td>589       </td><td>FULTON    </td><td>IL        </td><td>0.052     </td><td>  38080   </td><td>  732.3077</td><td>  37117   </td><td>    668   </td><td>   83     </td><td>   105    </td><td>...       </td><td> 2.997030 </td><td>  36393   </td><td>95.56985  </td><td>15.494738 </td><td>22.812225 </td><td>13.996573 </td><td>11.019603 </td><td>0         </td><td>AAR       </td><td>32.79412  </td></tr>\n",
       "\t<tr><td>590       </td><td>GALLATIN  </td><td>IL        </td><td>0.019     </td><td>   6909   </td><td>  363.6316</td><td>   6842   </td><td>     42   </td><td>   10     </td><td>    11    </td><td>...       </td><td> 2.692308 </td><td>   6737   </td><td>97.51049  </td><td>21.433873 </td><td>29.724656 </td><td>20.005596 </td><td>16.230032 </td><td>0         </td><td>LHR       </td><td>32.26227  </td></tr>\n",
       "\t<tr><td>...</td><td>...</td><td>...</td><td>...</td><td>...</td><td>...</td><td>...</td><td>...</td><td>...</td><td>...</td><td>   </td><td>...</td><td>...</td><td>...</td><td>...</td><td>...</td><td>...</td><td>...</td><td>...</td><td>...</td><td>...</td></tr>\n",
       "\t<tr><td>3023       </td><td>OCONTO     </td><td>WI         </td><td>0.060      </td><td> 30226     </td><td> 503.7667  </td><td> 29926     </td><td>   18      </td><td> 212       </td><td>  36       </td><td>...        </td><td>2.378543   </td><td> 29750     </td><td>98.42520   </td><td>12.094118  </td><td>14.116632  </td><td> 9.634423  </td><td>15.588616  </td><td>0          </td><td>AAR        </td><td>34.62582   </td></tr>\n",
       "\t<tr><td>3024       </td><td>ONEIDA     </td><td>WI         </td><td>0.071      </td><td> 31679     </td><td> 446.1831  </td><td> 31320     </td><td>   58      </td><td> 223       </td><td>  56       </td><td>...        </td><td>4.974496   </td><td> 30890     </td><td>97.50939   </td><td> 9.617999  </td><td>13.966707  </td><td> 8.109616  </td><td> 8.559414  </td><td>0          </td><td>AAR        </td><td>30.07039   </td></tr>\n",
       "\t<tr><td>3025       </td><td>OUTAGAMIE  </td><td>WI         </td><td>0.037      </td><td>140510     </td><td>3797.5676  </td><td>136043     </td><td>  206      </td><td>1965       </td><td>1904       </td><td>...        </td><td>4.362722   </td><td>137496     </td><td>97.85496   </td><td> 6.202362  </td><td> 8.203007  </td><td> 5.022965  </td><td> 6.855924  </td><td>1          </td><td>HLU        </td><td>38.30404   </td></tr>\n",
       "\t<tr><td>3026       </td><td>OZAUKEE    </td><td>WI         </td><td>0.015      </td><td> 72831     </td><td>4855.4000  </td><td> 71676     </td><td>  492      </td><td> 127       </td><td> 438       </td><td>...        </td><td>9.365039   </td><td> 71600     </td><td>98.30979   </td><td> 2.180168  </td><td> 1.918955  </td><td> 1.938504  </td><td> 3.547067  </td><td>1          </td><td>HLU        </td><td>35.38740   </td></tr>\n",
       "\t<tr><td>3027       </td><td>PEPIN      </td><td>WI         </td><td>0.014      </td><td>  7107     </td><td> 507.6429  </td><td>  7070     </td><td>    2      </td><td>  18       </td><td>   9       </td><td>...        </td><td>2.817824   </td><td>  6944     </td><td>97.70649   </td><td>12.615207  </td><td>14.882122  </td><td>10.123967  </td><td>15.131579  </td><td>0          </td><td>AAR        </td><td>35.58463   </td></tr>\n",
       "\t<tr><td>3028       </td><td>PIERCE     </td><td>WI         </td><td>0.034      </td><td> 32765     </td><td> 963.6765  </td><td> 32366     </td><td>   82      </td><td>  87       </td><td> 172       </td><td>...        </td><td>5.423401   </td><td> 30557     </td><td>93.26110   </td><td>10.416598  </td><td>11.033134  </td><td>10.337028  </td><td> 9.471418  </td><td>1          </td><td>HAU        </td><td>43.16191   </td></tr>\n",
       "\t<tr><td>3029       </td><td>POLK       </td><td>WI         </td><td>0.055      </td><td> 34773     </td><td> 632.2364  </td><td> 34348     </td><td>   23      </td><td> 321       </td><td>  50       </td><td>...        </td><td>3.393293   </td><td> 34105     </td><td>98.07897   </td><td>11.822313  </td><td>16.015585  </td><td> 9.756650  </td><td>11.164322  </td><td>0          </td><td>AAR        </td><td>35.25149   </td></tr>\n",
       "\t<tr><td>3030       </td><td>PORTAGE    </td><td>WI         </td><td>0.048      </td><td> 61405     </td><td>1279.2708  </td><td> 59972     </td><td>  161      </td><td> 255       </td><td> 786       </td><td>...        </td><td>6.019312   </td><td> 57805     </td><td>94.13729   </td><td>12.895078  </td><td>13.558998  </td><td>13.182182  </td><td>10.509441  </td><td>0          </td><td>AAR        </td><td>42.99487   </td></tr>\n",
       "\t<tr><td>3031       </td><td>PRICE      </td><td>WI         </td><td>0.075      </td><td> 15600     </td><td> 208.0000  </td><td> 15479     </td><td>    7      </td><td>  77       </td><td>  27       </td><td>...        </td><td>2.813520   </td><td> 15271     </td><td>97.89103   </td><td>10.889922  </td><td>12.554958  </td><td> 8.145215  </td><td>14.769573  </td><td>0          </td><td>AAR        </td><td>33.24359   </td></tr>\n",
       "\t<tr><td>3032       </td><td>RACINE     </td><td>WI         </td><td>0.020      </td><td>175034     </td><td>8751.7000  </td><td>152098     </td><td>16999      </td><td> 521       </td><td>1004       </td><td>...        </td><td>4.936117   </td><td>172392     </td><td>98.49058   </td><td>10.151283  </td><td>15.556437  </td><td> 8.429261  </td><td> 6.811663  </td><td>1          </td><td>AAU        </td><td>36.81628   </td></tr>\n",
       "\t<tr><td>3033       </td><td>RICHLAND   </td><td>WI         </td><td>0.034      </td><td> 17521     </td><td> 515.3235  </td><td> 17411     </td><td>   12      </td><td>  34       </td><td>  38       </td><td>...        </td><td>3.147935   </td><td> 17254     </td><td>98.47611   </td><td>13.440362  </td><td>15.792812  </td><td>12.637111  </td><td>12.354189  </td><td>0          </td><td>AAR        </td><td>35.45460   </td></tr>\n",
       "\t<tr><td>3034       </td><td>ROCK       </td><td>WI         </td><td>0.042      </td><td>139510     </td><td>3321.6667  </td><td>130803     </td><td> 6638      </td><td> 369       </td><td> 985       </td><td>...        </td><td>4.370288   </td><td>135919     </td><td>97.42599   </td><td> 9.877206  </td><td>15.285761  </td><td> 8.143841  </td><td> 6.898250  </td><td>1          </td><td>AAU        </td><td>36.87048   </td></tr>\n",
       "\t<tr><td>3035       </td><td>RUSK       </td><td>WI         </td><td>0.055      </td><td> 15079     </td><td> 274.1636  </td><td> 14821     </td><td>   31      </td><td>  82       </td><td> 114       </td><td>...        </td><td>3.019373   </td><td> 14748     </td><td>97.80489   </td><td>16.578519  </td><td>20.752427  </td><td>15.806851  </td><td>13.128907  </td><td>0          </td><td>AAR        </td><td>35.64560   </td></tr>\n",
       "\t<tr><td>3036       </td><td>ST CROIX   </td><td>WI         </td><td>0.044      </td><td> 50251     </td><td>1142.0682  </td><td> 49895     </td><td>   44      </td><td> 121       </td><td> 148       </td><td>...        </td><td>5.380106   </td><td> 49388     </td><td>98.28262   </td><td> 6.402365  </td><td> 7.892108  </td><td> 4.972513  </td><td> 9.307219  </td><td>1          </td><td>HLU        </td><td>38.56242   </td></tr>\n",
       "\t<tr><td>3037       </td><td>SAUK       </td><td>WI         </td><td>0.050      </td><td> 46975     </td><td> 939.5000  </td><td> 46459     </td><td>   54      </td><td> 288       </td><td>  79       </td><td>...        </td><td>3.970738   </td><td> 46193     </td><td>98.33528   </td><td> 9.691945  </td><td>13.104104  </td><td> 8.148088  </td><td> 9.140333  </td><td>0          </td><td>AAR        </td><td>35.39755   </td></tr>\n",
       "\t<tr><td>3038       </td><td>SAWYER     </td><td>WI         </td><td>0.079      </td><td> 14181     </td><td> 179.5063  </td><td> 11962     </td><td>   18      </td><td>2167       </td><td>  15       </td><td>...        </td><td>4.041667   </td><td> 13897     </td><td>97.99732   </td><td>20.544002  </td><td>29.073570  </td><td>19.195368  </td><td>14.179318  </td><td>0          </td><td>AHR        </td><td>32.30379   </td></tr>\n",
       "\t<tr><td>3039       </td><td>SHAWANO    </td><td>WI         </td><td>0.054      </td><td> 37157     </td><td> 688.0926  </td><td> 35251     </td><td>   42      </td><td>1762       </td><td>  70       </td><td>...        </td><td>2.455605   </td><td> 36389     </td><td>97.93309   </td><td>11.297370  </td><td>14.932266  </td><td> 9.105113  </td><td>11.949530  </td><td>0          </td><td>AAR        </td><td>34.67987   </td></tr>\n",
       "\t<tr><td>3040       </td><td>SHEBOYGAN  </td><td>WI         </td><td>0.032      </td><td>103877     </td><td>3246.1562  </td><td>100389     </td><td>  430      </td><td> 357       </td><td>2061       </td><td>...        </td><td>3.836386   </td><td>101088     </td><td>97.31509   </td><td> 6.486428  </td><td> 8.677912  </td><td> 5.146379  </td><td> 7.231785  </td><td>1          </td><td>ALU        </td><td>35.56033   </td></tr>\n",
       "\t<tr><td>3041       </td><td>TAYLOR     </td><td>WI         </td><td>0.057      </td><td> 18901     </td><td> 331.5965  </td><td> 18807     </td><td>    2      </td><td>  39       </td><td>  44       </td><td>...        </td><td>3.006166   </td><td> 18603     </td><td>98.42336   </td><td>12.664624  </td><td>15.965037  </td><td>10.265319  </td><td>13.889683  </td><td>0          </td><td>AAR        </td><td>38.22549   </td></tr>\n",
       "\t<tr><td>3042       </td><td>TREMPEALEAU</td><td>WI         </td><td>0.043      </td><td> 25263     </td><td> 587.5116  </td><td> 25160     </td><td>   12      </td><td>  32       </td><td>  46       </td><td>...        </td><td>2.871216   </td><td> 24533     </td><td>97.11040   </td><td>10.675417  </td><td>12.919976  </td><td> 7.884145  </td><td>14.565299  </td><td>0          </td><td>AAR        </td><td>34.10125   </td></tr>\n",
       "\t<tr><td>3043       </td><td>VERNON     </td><td>WI         </td><td>0.048      </td><td> 25617     </td><td> 533.6875  </td><td> 25509     </td><td>   12      </td><td>  36       </td><td>  42       </td><td>...        </td><td>3.624948   </td><td> 25087     </td><td>97.93106   </td><td>15.824929  </td><td>21.201105  </td><td>13.449643  </td><td>14.571429  </td><td>0          </td><td>AAR        </td><td>34.09455   </td></tr>\n",
       "\t<tr><td>3044       </td><td>VILAS      </td><td>WI         </td><td>0.060      </td><td> 17707     </td><td> 295.1167  </td><td> 16116     </td><td>    9      </td><td>1534       </td><td>  38       </td><td>...        </td><td>4.315256   </td><td> 17446     </td><td>98.52601   </td><td>14.736902  </td><td>23.043367  </td><td>14.251978  </td><td> 9.173228  </td><td>0          </td><td>AAR        </td><td>27.62749   </td></tr>\n",
       "\t<tr><td>3045       </td><td>WALWORTH   </td><td>WI         </td><td>0.032      </td><td> 75000     </td><td>2343.7500  </td><td> 72747     </td><td>  454      </td><td> 201       </td><td> 494       </td><td>...        </td><td>6.082324   </td><td> 71553     </td><td>95.40400   </td><td> 9.641804  </td><td> 8.699613  </td><td>10.926610  </td><td> 6.894182  </td><td>0          </td><td>AAR        </td><td>37.67733   </td></tr>\n",
       "\t<tr><td>3046       </td><td>WASHBURN   </td><td>WI         </td><td>0.050      </td><td> 13772     </td><td> 275.4400  </td><td> 13585     </td><td>   25      </td><td> 122       </td><td>  33       </td><td>...        </td><td>4.022803   </td><td> 13532     </td><td>98.25733   </td><td>15.866095  </td><td>21.418598  </td><td>13.642483  </td><td>14.329455  </td><td>0          </td><td>AAR        </td><td>32.49347   </td></tr>\n",
       "\t<tr><td>3047       </td><td>WASHINGTON </td><td>WI         </td><td>0.025      </td><td> 95328     </td><td>3813.1200  </td><td> 94465     </td><td>  125      </td><td> 208       </td><td> 337       </td><td>...        </td><td>4.014568   </td><td> 94143     </td><td>98.75692   </td><td> 3.237628  </td><td> 4.069854  </td><td> 2.584500  </td><td> 4.280889  </td><td>1          </td><td>HLU        </td><td>37.49685   </td></tr>\n",
       "\t<tr><td>3048       </td><td>WAUKESHA   </td><td>WI         </td><td>0.034      </td><td>304715     </td><td>8962.2059  </td><td>298313     </td><td> 1096      </td><td> 672       </td><td>2699       </td><td>...        </td><td>7.667090   </td><td>299802     </td><td>98.38767   </td><td> 3.121060  </td><td> 3.785820  </td><td> 2.590061  </td><td> 4.085479  </td><td>1          </td><td>HLU        </td><td>35.73109   </td></tr>\n",
       "\t<tr><td>3049       </td><td>WAUPACA    </td><td>WI         </td><td>0.045      </td><td> 46104     </td><td>1024.5333  </td><td> 45695     </td><td>   22      </td><td> 125       </td><td>  92       </td><td>...        </td><td>3.138596   </td><td> 44412     </td><td>96.33004   </td><td> 8.488697  </td><td>10.071411  </td><td> 6.953799  </td><td>10.338641  </td><td>0          </td><td>AAR        </td><td>34.69330   </td></tr>\n",
       "\t<tr><td>3050       </td><td>WAUSHARA   </td><td>WI         </td><td>0.037      </td><td> 19385     </td><td> 523.9189  </td><td> 19094     </td><td>   29      </td><td>  70       </td><td>  43       </td><td>...        </td><td>2.620907   </td><td> 19163     </td><td>98.85478   </td><td>13.786985  </td><td>20.050708  </td><td>11.695784  </td><td>11.804558  </td><td>0          </td><td>AAR        </td><td>31.30771   </td></tr>\n",
       "\t<tr><td>3051       </td><td>WINNEBAGO  </td><td>WI         </td><td>0.035      </td><td>140320     </td><td>4009.1429  </td><td>136822     </td><td>  697      </td><td> 685       </td><td>1728       </td><td>...        </td><td>5.659847   </td><td>133950     </td><td>95.46038   </td><td> 8.804031  </td><td>10.592031  </td><td> 8.660587  </td><td> 6.661094  </td><td>1          </td><td>HAU        </td><td>36.60205   </td></tr>\n",
       "\t<tr><td>3052       </td><td>WOOD       </td><td>WI         </td><td>0.048      </td><td> 73605     </td><td>1533.4375  </td><td> 72157     </td><td>   90      </td><td> 481       </td><td> 722       </td><td>...        </td><td>4.583725   </td><td> 72685     </td><td>98.75008   </td><td> 8.525831  </td><td>11.162997  </td><td> 7.375656  </td><td> 7.882918  </td><td>0          </td><td>AAR        </td><td>36.42280   </td></tr>\n",
       "</tbody>\n",
       "</table>\n"
      ],
      "text/latex": [
       "\\begin{tabular}{r|lllllllllllllllllllllllllllll}\n",
       " PID & county & state & area & poptotal & popdensity & popwhite & popblack & popamerindian & popasian & ... & percprof & poppovertyknown & percpovertyknown & percbelowpoverty & percchildbelowpovert & percadultpoverty & percelderlypoverty & inmetro & category & ratio\\_child\\\\\n",
       "\\hline\n",
       "\t 561        & ADAMS      & IL         & 0.052      &   66090    &  1270.9615 &   63917    &    1702    &    98      &    249     & ...        &  4.355859  &   63628    & 96.27478   & 13.151443  & 18.011717  & 11.009776  & 12.443812  & 0          & AAR        & 34.48631  \\\\\n",
       "\t 562        & ALEXANDER  & IL         & 0.014      &   10626    &   759.0000 &    7054    &    3496    &    19      &     48     & ...        &  2.870315  &   10529    & 99.08714   & 32.244278  & 45.826514  & 27.385647  & 25.228976  & 0          & LHR        & 36.72125  \\\\\n",
       "\t 563        & BOND       & IL         & 0.022      &   14991    &   681.4091 &   14477    &     429    &    35      &     16     & ...        &  4.488572  &   14235    & 94.95697   & 12.068844  & 14.036061  & 10.852090  & 12.697410  & 0          & AAR        & 35.50130  \\\\\n",
       "\t 564        & BOONE      & IL         & 0.017      &   30806    &  1812.1176 &   29344    &     127    &    46      &    150     & ...        &  4.197800  &   30337    & 98.47757   &  7.209019  & 11.179536  &  5.536013  &  6.217047  & 1          & ALU        & 37.44076  \\\\\n",
       "\t 565        & BROWN      & IL         & 0.018      &    5836    &   324.2222 &    5264    &     547    &    14      &      5     & ...        &  3.367680  &    4815    & 82.50514   & 13.520249  & 13.022889  & 11.143211  & 19.200000  & 0          & AAR        & 31.81974  \\\\\n",
       "\t 566        & BUREAU     & IL         & 0.050      &   35688    &   713.7600 &   35157    &      50    &    65      &    195     & ...        &  3.275891  &   35107    & 98.37200   & 10.399635  & 14.158819  &  8.179287  & 11.008586  & 0          & AAR        & 34.30845  \\\\\n",
       "\t 567        & CALHOUN    & IL         & 0.017      &    5322    &   313.0588 &    5298    &       1    &     8      &     15     & ...        &  3.209601  &    5241    & 98.47802   & 15.149781  & 13.787761  & 12.932331  & 21.085271  & 0          & LAR        & 32.67569  \\\\\n",
       "\t 568        & CARROLL    & IL         & 0.027      &   16805    &   622.4074 &   16519    &     111    &    30      &     61     & ...        &  3.055727  &   16455    & 97.91729   & 11.710726  & 17.225462  & 10.027037  &  9.525052  & 0          & AAR        & 32.62124  \\\\\n",
       "\t 569        & CASS       & IL         & 0.024      &   13437    &   559.8750 &   13384    &      16    &     8      &     23     & ...        &  3.206799  &   13081    & 97.35060   & 13.875086  & 17.994784  & 11.914343  & 13.660180  & 0          & AAR        & 34.32314  \\\\\n",
       "\t 570        & CHAMPAIGN  & IL         & 0.058      &  173025    &  2983.1897 &  146506    &   16559    &   331      &   8033     & ...        & 17.757448  &  154934    & 89.54429   & 15.572437  & 14.132234  & 17.562728  &  8.105017  & 1          & HAU        & 44.53345  \\\\\n",
       "\t 571        & CHRISTIAN  & IL         & 0.042      &   34418    &   819.4762 &   34176    &      82    &    51      &     89     & ...        &  3.089998  &   33788    & 98.16956   & 11.708299  & 16.320612  &  9.569700  & 11.490641  & 0          & AAR        & 33.33430  \\\\\n",
       "\t 572        & CLARK      & IL         & 0.030      &   15921    &   530.7000 &   15842    &      10    &    26      &     36     & ...        &  2.776225  &   15615    & 98.07801   & 12.007685  & 15.321547  & 10.131775  & 12.595420  & 0          & AAR        & 32.57961  \\\\\n",
       "\t 573        & CLAY       & IL         & 0.028      &   14460    &   516.4286 &   14403    &       4    &    17      &     29     & ...        &  2.788432  &   14248    & 98.53389   & 16.774284  & 20.582578  & 14.464114  & 17.670078  & 0          & LAR        & 33.28492  \\\\\n",
       "\t 574        & CLINTON    & IL         & 0.029      &   33944    &  1170.4828 &   32688    &    1021    &    48      &    104     & ...        &  2.875296  &   32190    & 94.83267   & 10.223672  & 13.299402  &  9.253834  &  8.323176  & 1          & LAU        & 36.47478  \\\\\n",
       "\t 575        & COLES      & IL         & 0.030      &   51644    &  1721.4667 &   50177    &     925    &    92      &    341     & ...        &  8.144563  &   45693    & 88.47688   & 16.748736  & 16.341941  & 18.792914  & 10.993608  & 0          & AAR        & 43.58299  \\\\\n",
       "\t 576        & COOK       & IL         & 0.058      & 5105067    & 88018.3966 & 3204947    & 1317147    & 10289      & 188565     & ...        &  8.329964  & 5023523    & 98.40269   & 14.198303  & 22.293497  & 11.665542  & 10.825269  & 1          & AAU        & 35.51515  \\\\\n",
       "\t 577        & CRAWFORD   & IL         & 0.026      &   19464    &   748.6154 &   19300    &      63    &    34      &     48     & ...        &  3.334084  &   19123    & 98.24805   & 10.537050  & 13.809825  &  8.870243  & 10.803387  & 0          & AAR        & 31.58138  \\\\\n",
       "\t 578        & CUMBERLAND & IL         & 0.020      &   10670    &   533.5000 &   10627    &       5    &     6      &     26     & ...        &  2.690650  &   10590    & 99.25023   & 12.049103  & 13.603185  &  9.822264  & 15.284626  & 0          & AAR        & 36.95408  \\\\\n",
       "\t 579        & DE KALB    & IL         & 0.038      &   77932    &  2050.8421 &   72968    &    2069    &   123      &   1751     & ...        & 11.150967  &   69127    & 88.70169   & 13.544635  &  8.678238  & 17.047419  &  6.453908  & 1          & HAU        & 46.34168  \\\\\n",
       "\t 580        & DE WITT    & IL         & 0.023      &   16516    &   718.0870 &   16387    &      25    &    37      &     43     & ...        &  3.308656  &   16238    & 98.31678   & 10.315310  & 13.568426  &  7.955993  & 12.255345  & 0          & AAR        & 33.75515  \\\\\n",
       "\t 581        & DOUGLAS    & IL         & 0.025      &   19464    &   778.5600 &   19280    &      16    &    19      &     41     & ...        &  3.840637  &   19140    & 98.33539   &  9.629049  & 13.293543  &  7.924795  &  8.714363  & 0          & AAR        & 35.52199  \\\\\n",
       "\t 582        & DU PAGE    & IL         & 0.020      &  781666    & 39083.3000 &  714905    &   15462    &   962      &  39634     & ...        & 11.963266  &  771641    & 98.71748   &  2.714734  &  2.945252  &  2.399064  &  3.838249  & 1          & HLU        & 35.73713  \\\\\n",
       "\t 583        & EDGAR      & IL         & 0.036      &   19595    &   544.3056 &   19469    &      68    &    24      &     24     & ...        &  3.676808  &   19258    & 98.28017   & 16.003739  & 22.827628  & 14.480957  & 11.762014  & 0          & AAR        & 33.23807  \\\\\n",
       "\t 584        & EDWARDS    & IL         & 0.014      &    7440    &   531.4286 &    7401    &       6    &     8      &     19     & ...        &  2.450687  &    7350    & 98.79032   & 12.204082  & 15.159868  & 10.950250  & 11.859528  & 0          & AAR        & 32.54032  \\\\\n",
       "\t 585        & EFFINGHAM  & IL         & 0.028      &   31704    &  1132.2857 &   31523    &      12    &    45      &     95     & ...        &  3.783950  &   31229    & 98.50177   &  8.994845  & 11.599832  &  6.974466  & 10.517498  & 0          & AAR        & 38.56611  \\\\\n",
       "\t 586        & FAYETTE    & IL         & 0.044      &   20893    &   474.8409 &   20148    &     599    &    40      &     35     & ...        &  2.986901  &   19452    & 93.10295   & 13.618137  & 16.627635  & 12.134146  & 13.435829  & 0          & AAR        & 33.49926  \\\\\n",
       "\t 587        & FORD       & IL         & 0.030      &   14275    &   475.8333 &   14157    &      43    &    14      &     40     & ...        &  3.899083  &   13860    & 97.09282   &  9.264069  & 13.571228  &  7.325288  &  8.787402  & 0          & AAR        & 32.80560  \\\\\n",
       "\t 588        & FRANKLIN   & IL         & 0.025      &   40319    &  1612.7600 &   40068    &      36    &   106      &     84     & ...        &  2.432571  &   39703    & 98.47218   & 20.764174  & 31.074742  & 19.313537  & 13.679486  & 0          & LHR        & 32.50329  \\\\\n",
       "\t 589        & FULTON     & IL         & 0.052      &   38080    &   732.3077 &   37117    &     668    &    83      &    105     & ...        &  2.997030  &   36393    & 95.56985   & 15.494738  & 22.812225  & 13.996573  & 11.019603  & 0          & AAR        & 32.79412  \\\\\n",
       "\t 590        & GALLATIN   & IL         & 0.019      &    6909    &   363.6316 &    6842    &      42    &    10      &     11     & ...        &  2.692308  &    6737    & 97.51049   & 21.433873  & 29.724656  & 20.005596  & 16.230032  & 0          & LHR        & 32.26227  \\\\\n",
       "\t ... & ... & ... & ... & ... & ... & ... & ... & ... & ... &     & ... & ... & ... & ... & ... & ... & ... & ... & ... & ...\\\\\n",
       "\t 3023        & OCONTO      & WI          & 0.060       &  30226      &  503.7667   &  29926      &    18       &  212        &   36        & ...         & 2.378543    &  29750      & 98.42520    & 12.094118   & 14.116632   &  9.634423   & 15.588616   & 0           & AAR         & 34.62582   \\\\\n",
       "\t 3024        & ONEIDA      & WI          & 0.071       &  31679      &  446.1831   &  31320      &    58       &  223        &   56        & ...         & 4.974496    &  30890      & 97.50939    &  9.617999   & 13.966707   &  8.109616   &  8.559414   & 0           & AAR         & 30.07039   \\\\\n",
       "\t 3025        & OUTAGAMIE   & WI          & 0.037       & 140510      & 3797.5676   & 136043      &   206       & 1965        & 1904        & ...         & 4.362722    & 137496      & 97.85496    &  6.202362   &  8.203007   &  5.022965   &  6.855924   & 1           & HLU         & 38.30404   \\\\\n",
       "\t 3026        & OZAUKEE     & WI          & 0.015       &  72831      & 4855.4000   &  71676      &   492       &  127        &  438        & ...         & 9.365039    &  71600      & 98.30979    &  2.180168   &  1.918955   &  1.938504   &  3.547067   & 1           & HLU         & 35.38740   \\\\\n",
       "\t 3027        & PEPIN       & WI          & 0.014       &   7107      &  507.6429   &   7070      &     2       &   18        &    9        & ...         & 2.817824    &   6944      & 97.70649    & 12.615207   & 14.882122   & 10.123967   & 15.131579   & 0           & AAR         & 35.58463   \\\\\n",
       "\t 3028        & PIERCE      & WI          & 0.034       &  32765      &  963.6765   &  32366      &    82       &   87        &  172        & ...         & 5.423401    &  30557      & 93.26110    & 10.416598   & 11.033134   & 10.337028   &  9.471418   & 1           & HAU         & 43.16191   \\\\\n",
       "\t 3029        & POLK        & WI          & 0.055       &  34773      &  632.2364   &  34348      &    23       &  321        &   50        & ...         & 3.393293    &  34105      & 98.07897    & 11.822313   & 16.015585   &  9.756650   & 11.164322   & 0           & AAR         & 35.25149   \\\\\n",
       "\t 3030        & PORTAGE     & WI          & 0.048       &  61405      & 1279.2708   &  59972      &   161       &  255        &  786        & ...         & 6.019312    &  57805      & 94.13729    & 12.895078   & 13.558998   & 13.182182   & 10.509441   & 0           & AAR         & 42.99487   \\\\\n",
       "\t 3031        & PRICE       & WI          & 0.075       &  15600      &  208.0000   &  15479      &     7       &   77        &   27        & ...         & 2.813520    &  15271      & 97.89103    & 10.889922   & 12.554958   &  8.145215   & 14.769573   & 0           & AAR         & 33.24359   \\\\\n",
       "\t 3032        & RACINE      & WI          & 0.020       & 175034      & 8751.7000   & 152098      & 16999       &  521        & 1004        & ...         & 4.936117    & 172392      & 98.49058    & 10.151283   & 15.556437   &  8.429261   &  6.811663   & 1           & AAU         & 36.81628   \\\\\n",
       "\t 3033        & RICHLAND    & WI          & 0.034       &  17521      &  515.3235   &  17411      &    12       &   34        &   38        & ...         & 3.147935    &  17254      & 98.47611    & 13.440362   & 15.792812   & 12.637111   & 12.354189   & 0           & AAR         & 35.45460   \\\\\n",
       "\t 3034        & ROCK        & WI          & 0.042       & 139510      & 3321.6667   & 130803      &  6638       &  369        &  985        & ...         & 4.370288    & 135919      & 97.42599    &  9.877206   & 15.285761   &  8.143841   &  6.898250   & 1           & AAU         & 36.87048   \\\\\n",
       "\t 3035        & RUSK        & WI          & 0.055       &  15079      &  274.1636   &  14821      &    31       &   82        &  114        & ...         & 3.019373    &  14748      & 97.80489    & 16.578519   & 20.752427   & 15.806851   & 13.128907   & 0           & AAR         & 35.64560   \\\\\n",
       "\t 3036        & ST CROIX    & WI          & 0.044       &  50251      & 1142.0682   &  49895      &    44       &  121        &  148        & ...         & 5.380106    &  49388      & 98.28262    &  6.402365   &  7.892108   &  4.972513   &  9.307219   & 1           & HLU         & 38.56242   \\\\\n",
       "\t 3037        & SAUK        & WI          & 0.050       &  46975      &  939.5000   &  46459      &    54       &  288        &   79        & ...         & 3.970738    &  46193      & 98.33528    &  9.691945   & 13.104104   &  8.148088   &  9.140333   & 0           & AAR         & 35.39755   \\\\\n",
       "\t 3038        & SAWYER      & WI          & 0.079       &  14181      &  179.5063   &  11962      &    18       & 2167        &   15        & ...         & 4.041667    &  13897      & 97.99732    & 20.544002   & 29.073570   & 19.195368   & 14.179318   & 0           & AHR         & 32.30379   \\\\\n",
       "\t 3039        & SHAWANO     & WI          & 0.054       &  37157      &  688.0926   &  35251      &    42       & 1762        &   70        & ...         & 2.455605    &  36389      & 97.93309    & 11.297370   & 14.932266   &  9.105113   & 11.949530   & 0           & AAR         & 34.67987   \\\\\n",
       "\t 3040        & SHEBOYGAN   & WI          & 0.032       & 103877      & 3246.1562   & 100389      &   430       &  357        & 2061        & ...         & 3.836386    & 101088      & 97.31509    &  6.486428   &  8.677912   &  5.146379   &  7.231785   & 1           & ALU         & 35.56033   \\\\\n",
       "\t 3041        & TAYLOR      & WI          & 0.057       &  18901      &  331.5965   &  18807      &     2       &   39        &   44        & ...         & 3.006166    &  18603      & 98.42336    & 12.664624   & 15.965037   & 10.265319   & 13.889683   & 0           & AAR         & 38.22549   \\\\\n",
       "\t 3042        & TREMPEALEAU & WI          & 0.043       &  25263      &  587.5116   &  25160      &    12       &   32        &   46        & ...         & 2.871216    &  24533      & 97.11040    & 10.675417   & 12.919976   &  7.884145   & 14.565299   & 0           & AAR         & 34.10125   \\\\\n",
       "\t 3043        & VERNON      & WI          & 0.048       &  25617      &  533.6875   &  25509      &    12       &   36        &   42        & ...         & 3.624948    &  25087      & 97.93106    & 15.824929   & 21.201105   & 13.449643   & 14.571429   & 0           & AAR         & 34.09455   \\\\\n",
       "\t 3044        & VILAS       & WI          & 0.060       &  17707      &  295.1167   &  16116      &     9       & 1534        &   38        & ...         & 4.315256    &  17446      & 98.52601    & 14.736902   & 23.043367   & 14.251978   &  9.173228   & 0           & AAR         & 27.62749   \\\\\n",
       "\t 3045        & WALWORTH    & WI          & 0.032       &  75000      & 2343.7500   &  72747      &   454       &  201        &  494        & ...         & 6.082324    &  71553      & 95.40400    &  9.641804   &  8.699613   & 10.926610   &  6.894182   & 0           & AAR         & 37.67733   \\\\\n",
       "\t 3046        & WASHBURN    & WI          & 0.050       &  13772      &  275.4400   &  13585      &    25       &  122        &   33        & ...         & 4.022803    &  13532      & 98.25733    & 15.866095   & 21.418598   & 13.642483   & 14.329455   & 0           & AAR         & 32.49347   \\\\\n",
       "\t 3047        & WASHINGTON  & WI          & 0.025       &  95328      & 3813.1200   &  94465      &   125       &  208        &  337        & ...         & 4.014568    &  94143      & 98.75692    &  3.237628   &  4.069854   &  2.584500   &  4.280889   & 1           & HLU         & 37.49685   \\\\\n",
       "\t 3048        & WAUKESHA    & WI          & 0.034       & 304715      & 8962.2059   & 298313      &  1096       &  672        & 2699        & ...         & 7.667090    & 299802      & 98.38767    &  3.121060   &  3.785820   &  2.590061   &  4.085479   & 1           & HLU         & 35.73109   \\\\\n",
       "\t 3049        & WAUPACA     & WI          & 0.045       &  46104      & 1024.5333   &  45695      &    22       &  125        &   92        & ...         & 3.138596    &  44412      & 96.33004    &  8.488697   & 10.071411   &  6.953799   & 10.338641   & 0           & AAR         & 34.69330   \\\\\n",
       "\t 3050        & WAUSHARA    & WI          & 0.037       &  19385      &  523.9189   &  19094      &    29       &   70        &   43        & ...         & 2.620907    &  19163      & 98.85478    & 13.786985   & 20.050708   & 11.695784   & 11.804558   & 0           & AAR         & 31.30771   \\\\\n",
       "\t 3051        & WINNEBAGO   & WI          & 0.035       & 140320      & 4009.1429   & 136822      &   697       &  685        & 1728        & ...         & 5.659847    & 133950      & 95.46038    &  8.804031   & 10.592031   &  8.660587   &  6.661094   & 1           & HAU         & 36.60205   \\\\\n",
       "\t 3052        & WOOD        & WI          & 0.048       &  73605      & 1533.4375   &  72157      &    90       &  481        &  722        & ...         & 4.583725    &  72685      & 98.75008    &  8.525831   & 11.162997   &  7.375656   &  7.882918   & 0           & AAR         & 36.42280   \\\\\n",
       "\\end{tabular}\n"
      ],
      "text/markdown": [
       "\n",
       "| PID | county | state | area | poptotal | popdensity | popwhite | popblack | popamerindian | popasian | ... | percprof | poppovertyknown | percpovertyknown | percbelowpoverty | percchildbelowpovert | percadultpoverty | percelderlypoverty | inmetro | category | ratio_child |\n",
       "|---|---|---|---|---|---|---|---|---|---|---|---|---|---|---|---|---|---|---|---|---|\n",
       "| 561        | ADAMS      | IL         | 0.052      |   66090    |  1270.9615 |   63917    |    1702    |    98      |    249     | ...        |  4.355859  |   63628    | 96.27478   | 13.151443  | 18.011717  | 11.009776  | 12.443812  | 0          | AAR        | 34.48631   |\n",
       "| 562        | ALEXANDER  | IL         | 0.014      |   10626    |   759.0000 |    7054    |    3496    |    19      |     48     | ...        |  2.870315  |   10529    | 99.08714   | 32.244278  | 45.826514  | 27.385647  | 25.228976  | 0          | LHR        | 36.72125   |\n",
       "| 563        | BOND       | IL         | 0.022      |   14991    |   681.4091 |   14477    |     429    |    35      |     16     | ...        |  4.488572  |   14235    | 94.95697   | 12.068844  | 14.036061  | 10.852090  | 12.697410  | 0          | AAR        | 35.50130   |\n",
       "| 564        | BOONE      | IL         | 0.017      |   30806    |  1812.1176 |   29344    |     127    |    46      |    150     | ...        |  4.197800  |   30337    | 98.47757   |  7.209019  | 11.179536  |  5.536013  |  6.217047  | 1          | ALU        | 37.44076   |\n",
       "| 565        | BROWN      | IL         | 0.018      |    5836    |   324.2222 |    5264    |     547    |    14      |      5     | ...        |  3.367680  |    4815    | 82.50514   | 13.520249  | 13.022889  | 11.143211  | 19.200000  | 0          | AAR        | 31.81974   |\n",
       "| 566        | BUREAU     | IL         | 0.050      |   35688    |   713.7600 |   35157    |      50    |    65      |    195     | ...        |  3.275891  |   35107    | 98.37200   | 10.399635  | 14.158819  |  8.179287  | 11.008586  | 0          | AAR        | 34.30845   |\n",
       "| 567        | CALHOUN    | IL         | 0.017      |    5322    |   313.0588 |    5298    |       1    |     8      |     15     | ...        |  3.209601  |    5241    | 98.47802   | 15.149781  | 13.787761  | 12.932331  | 21.085271  | 0          | LAR        | 32.67569   |\n",
       "| 568        | CARROLL    | IL         | 0.027      |   16805    |   622.4074 |   16519    |     111    |    30      |     61     | ...        |  3.055727  |   16455    | 97.91729   | 11.710726  | 17.225462  | 10.027037  |  9.525052  | 0          | AAR        | 32.62124   |\n",
       "| 569        | CASS       | IL         | 0.024      |   13437    |   559.8750 |   13384    |      16    |     8      |     23     | ...        |  3.206799  |   13081    | 97.35060   | 13.875086  | 17.994784  | 11.914343  | 13.660180  | 0          | AAR        | 34.32314   |\n",
       "| 570        | CHAMPAIGN  | IL         | 0.058      |  173025    |  2983.1897 |  146506    |   16559    |   331      |   8033     | ...        | 17.757448  |  154934    | 89.54429   | 15.572437  | 14.132234  | 17.562728  |  8.105017  | 1          | HAU        | 44.53345   |\n",
       "| 571        | CHRISTIAN  | IL         | 0.042      |   34418    |   819.4762 |   34176    |      82    |    51      |     89     | ...        |  3.089998  |   33788    | 98.16956   | 11.708299  | 16.320612  |  9.569700  | 11.490641  | 0          | AAR        | 33.33430   |\n",
       "| 572        | CLARK      | IL         | 0.030      |   15921    |   530.7000 |   15842    |      10    |    26      |     36     | ...        |  2.776225  |   15615    | 98.07801   | 12.007685  | 15.321547  | 10.131775  | 12.595420  | 0          | AAR        | 32.57961   |\n",
       "| 573        | CLAY       | IL         | 0.028      |   14460    |   516.4286 |   14403    |       4    |    17      |     29     | ...        |  2.788432  |   14248    | 98.53389   | 16.774284  | 20.582578  | 14.464114  | 17.670078  | 0          | LAR        | 33.28492   |\n",
       "| 574        | CLINTON    | IL         | 0.029      |   33944    |  1170.4828 |   32688    |    1021    |    48      |    104     | ...        |  2.875296  |   32190    | 94.83267   | 10.223672  | 13.299402  |  9.253834  |  8.323176  | 1          | LAU        | 36.47478   |\n",
       "| 575        | COLES      | IL         | 0.030      |   51644    |  1721.4667 |   50177    |     925    |    92      |    341     | ...        |  8.144563  |   45693    | 88.47688   | 16.748736  | 16.341941  | 18.792914  | 10.993608  | 0          | AAR        | 43.58299   |\n",
       "| 576        | COOK       | IL         | 0.058      | 5105067    | 88018.3966 | 3204947    | 1317147    | 10289      | 188565     | ...        |  8.329964  | 5023523    | 98.40269   | 14.198303  | 22.293497  | 11.665542  | 10.825269  | 1          | AAU        | 35.51515   |\n",
       "| 577        | CRAWFORD   | IL         | 0.026      |   19464    |   748.6154 |   19300    |      63    |    34      |     48     | ...        |  3.334084  |   19123    | 98.24805   | 10.537050  | 13.809825  |  8.870243  | 10.803387  | 0          | AAR        | 31.58138   |\n",
       "| 578        | CUMBERLAND | IL         | 0.020      |   10670    |   533.5000 |   10627    |       5    |     6      |     26     | ...        |  2.690650  |   10590    | 99.25023   | 12.049103  | 13.603185  |  9.822264  | 15.284626  | 0          | AAR        | 36.95408   |\n",
       "| 579        | DE KALB    | IL         | 0.038      |   77932    |  2050.8421 |   72968    |    2069    |   123      |   1751     | ...        | 11.150967  |   69127    | 88.70169   | 13.544635  |  8.678238  | 17.047419  |  6.453908  | 1          | HAU        | 46.34168   |\n",
       "| 580        | DE WITT    | IL         | 0.023      |   16516    |   718.0870 |   16387    |      25    |    37      |     43     | ...        |  3.308656  |   16238    | 98.31678   | 10.315310  | 13.568426  |  7.955993  | 12.255345  | 0          | AAR        | 33.75515   |\n",
       "| 581        | DOUGLAS    | IL         | 0.025      |   19464    |   778.5600 |   19280    |      16    |    19      |     41     | ...        |  3.840637  |   19140    | 98.33539   |  9.629049  | 13.293543  |  7.924795  |  8.714363  | 0          | AAR        | 35.52199   |\n",
       "| 582        | DU PAGE    | IL         | 0.020      |  781666    | 39083.3000 |  714905    |   15462    |   962      |  39634     | ...        | 11.963266  |  771641    | 98.71748   |  2.714734  |  2.945252  |  2.399064  |  3.838249  | 1          | HLU        | 35.73713   |\n",
       "| 583        | EDGAR      | IL         | 0.036      |   19595    |   544.3056 |   19469    |      68    |    24      |     24     | ...        |  3.676808  |   19258    | 98.28017   | 16.003739  | 22.827628  | 14.480957  | 11.762014  | 0          | AAR        | 33.23807   |\n",
       "| 584        | EDWARDS    | IL         | 0.014      |    7440    |   531.4286 |    7401    |       6    |     8      |     19     | ...        |  2.450687  |    7350    | 98.79032   | 12.204082  | 15.159868  | 10.950250  | 11.859528  | 0          | AAR        | 32.54032   |\n",
       "| 585        | EFFINGHAM  | IL         | 0.028      |   31704    |  1132.2857 |   31523    |      12    |    45      |     95     | ...        |  3.783950  |   31229    | 98.50177   |  8.994845  | 11.599832  |  6.974466  | 10.517498  | 0          | AAR        | 38.56611   |\n",
       "| 586        | FAYETTE    | IL         | 0.044      |   20893    |   474.8409 |   20148    |     599    |    40      |     35     | ...        |  2.986901  |   19452    | 93.10295   | 13.618137  | 16.627635  | 12.134146  | 13.435829  | 0          | AAR        | 33.49926   |\n",
       "| 587        | FORD       | IL         | 0.030      |   14275    |   475.8333 |   14157    |      43    |    14      |     40     | ...        |  3.899083  |   13860    | 97.09282   |  9.264069  | 13.571228  |  7.325288  |  8.787402  | 0          | AAR        | 32.80560   |\n",
       "| 588        | FRANKLIN   | IL         | 0.025      |   40319    |  1612.7600 |   40068    |      36    |   106      |     84     | ...        |  2.432571  |   39703    | 98.47218   | 20.764174  | 31.074742  | 19.313537  | 13.679486  | 0          | LHR        | 32.50329   |\n",
       "| 589        | FULTON     | IL         | 0.052      |   38080    |   732.3077 |   37117    |     668    |    83      |    105     | ...        |  2.997030  |   36393    | 95.56985   | 15.494738  | 22.812225  | 13.996573  | 11.019603  | 0          | AAR        | 32.79412   |\n",
       "| 590        | GALLATIN   | IL         | 0.019      |    6909    |   363.6316 |    6842    |      42    |    10      |     11     | ...        |  2.692308  |    6737    | 97.51049   | 21.433873  | 29.724656  | 20.005596  | 16.230032  | 0          | LHR        | 32.26227   |\n",
       "| ... | ... | ... | ... | ... | ... | ... | ... | ... | ... |     | ... | ... | ... | ... | ... | ... | ... | ... | ... | ... |\n",
       "| 3023        | OCONTO      | WI          | 0.060       |  30226      |  503.7667   |  29926      |    18       |  212        |   36        | ...         | 2.378543    |  29750      | 98.42520    | 12.094118   | 14.116632   |  9.634423   | 15.588616   | 0           | AAR         | 34.62582    |\n",
       "| 3024        | ONEIDA      | WI          | 0.071       |  31679      |  446.1831   |  31320      |    58       |  223        |   56        | ...         | 4.974496    |  30890      | 97.50939    |  9.617999   | 13.966707   |  8.109616   |  8.559414   | 0           | AAR         | 30.07039    |\n",
       "| 3025        | OUTAGAMIE   | WI          | 0.037       | 140510      | 3797.5676   | 136043      |   206       | 1965        | 1904        | ...         | 4.362722    | 137496      | 97.85496    |  6.202362   |  8.203007   |  5.022965   |  6.855924   | 1           | HLU         | 38.30404    |\n",
       "| 3026        | OZAUKEE     | WI          | 0.015       |  72831      | 4855.4000   |  71676      |   492       |  127        |  438        | ...         | 9.365039    |  71600      | 98.30979    |  2.180168   |  1.918955   |  1.938504   |  3.547067   | 1           | HLU         | 35.38740    |\n",
       "| 3027        | PEPIN       | WI          | 0.014       |   7107      |  507.6429   |   7070      |     2       |   18        |    9        | ...         | 2.817824    |   6944      | 97.70649    | 12.615207   | 14.882122   | 10.123967   | 15.131579   | 0           | AAR         | 35.58463    |\n",
       "| 3028        | PIERCE      | WI          | 0.034       |  32765      |  963.6765   |  32366      |    82       |   87        |  172        | ...         | 5.423401    |  30557      | 93.26110    | 10.416598   | 11.033134   | 10.337028   |  9.471418   | 1           | HAU         | 43.16191    |\n",
       "| 3029        | POLK        | WI          | 0.055       |  34773      |  632.2364   |  34348      |    23       |  321        |   50        | ...         | 3.393293    |  34105      | 98.07897    | 11.822313   | 16.015585   |  9.756650   | 11.164322   | 0           | AAR         | 35.25149    |\n",
       "| 3030        | PORTAGE     | WI          | 0.048       |  61405      | 1279.2708   |  59972      |   161       |  255        |  786        | ...         | 6.019312    |  57805      | 94.13729    | 12.895078   | 13.558998   | 13.182182   | 10.509441   | 0           | AAR         | 42.99487    |\n",
       "| 3031        | PRICE       | WI          | 0.075       |  15600      |  208.0000   |  15479      |     7       |   77        |   27        | ...         | 2.813520    |  15271      | 97.89103    | 10.889922   | 12.554958   |  8.145215   | 14.769573   | 0           | AAR         | 33.24359    |\n",
       "| 3032        | RACINE      | WI          | 0.020       | 175034      | 8751.7000   | 152098      | 16999       |  521        | 1004        | ...         | 4.936117    | 172392      | 98.49058    | 10.151283   | 15.556437   |  8.429261   |  6.811663   | 1           | AAU         | 36.81628    |\n",
       "| 3033        | RICHLAND    | WI          | 0.034       |  17521      |  515.3235   |  17411      |    12       |   34        |   38        | ...         | 3.147935    |  17254      | 98.47611    | 13.440362   | 15.792812   | 12.637111   | 12.354189   | 0           | AAR         | 35.45460    |\n",
       "| 3034        | ROCK        | WI          | 0.042       | 139510      | 3321.6667   | 130803      |  6638       |  369        |  985        | ...         | 4.370288    | 135919      | 97.42599    |  9.877206   | 15.285761   |  8.143841   |  6.898250   | 1           | AAU         | 36.87048    |\n",
       "| 3035        | RUSK        | WI          | 0.055       |  15079      |  274.1636   |  14821      |    31       |   82        |  114        | ...         | 3.019373    |  14748      | 97.80489    | 16.578519   | 20.752427   | 15.806851   | 13.128907   | 0           | AAR         | 35.64560    |\n",
       "| 3036        | ST CROIX    | WI          | 0.044       |  50251      | 1142.0682   |  49895      |    44       |  121        |  148        | ...         | 5.380106    |  49388      | 98.28262    |  6.402365   |  7.892108   |  4.972513   |  9.307219   | 1           | HLU         | 38.56242    |\n",
       "| 3037        | SAUK        | WI          | 0.050       |  46975      |  939.5000   |  46459      |    54       |  288        |   79        | ...         | 3.970738    |  46193      | 98.33528    |  9.691945   | 13.104104   |  8.148088   |  9.140333   | 0           | AAR         | 35.39755    |\n",
       "| 3038        | SAWYER      | WI          | 0.079       |  14181      |  179.5063   |  11962      |    18       | 2167        |   15        | ...         | 4.041667    |  13897      | 97.99732    | 20.544002   | 29.073570   | 19.195368   | 14.179318   | 0           | AHR         | 32.30379    |\n",
       "| 3039        | SHAWANO     | WI          | 0.054       |  37157      |  688.0926   |  35251      |    42       | 1762        |   70        | ...         | 2.455605    |  36389      | 97.93309    | 11.297370   | 14.932266   |  9.105113   | 11.949530   | 0           | AAR         | 34.67987    |\n",
       "| 3040        | SHEBOYGAN   | WI          | 0.032       | 103877      | 3246.1562   | 100389      |   430       |  357        | 2061        | ...         | 3.836386    | 101088      | 97.31509    |  6.486428   |  8.677912   |  5.146379   |  7.231785   | 1           | ALU         | 35.56033    |\n",
       "| 3041        | TAYLOR      | WI          | 0.057       |  18901      |  331.5965   |  18807      |     2       |   39        |   44        | ...         | 3.006166    |  18603      | 98.42336    | 12.664624   | 15.965037   | 10.265319   | 13.889683   | 0           | AAR         | 38.22549    |\n",
       "| 3042        | TREMPEALEAU | WI          | 0.043       |  25263      |  587.5116   |  25160      |    12       |   32        |   46        | ...         | 2.871216    |  24533      | 97.11040    | 10.675417   | 12.919976   |  7.884145   | 14.565299   | 0           | AAR         | 34.10125    |\n",
       "| 3043        | VERNON      | WI          | 0.048       |  25617      |  533.6875   |  25509      |    12       |   36        |   42        | ...         | 3.624948    |  25087      | 97.93106    | 15.824929   | 21.201105   | 13.449643   | 14.571429   | 0           | AAR         | 34.09455    |\n",
       "| 3044        | VILAS       | WI          | 0.060       |  17707      |  295.1167   |  16116      |     9       | 1534        |   38        | ...         | 4.315256    |  17446      | 98.52601    | 14.736902   | 23.043367   | 14.251978   |  9.173228   | 0           | AAR         | 27.62749    |\n",
       "| 3045        | WALWORTH    | WI          | 0.032       |  75000      | 2343.7500   |  72747      |   454       |  201        |  494        | ...         | 6.082324    |  71553      | 95.40400    |  9.641804   |  8.699613   | 10.926610   |  6.894182   | 0           | AAR         | 37.67733    |\n",
       "| 3046        | WASHBURN    | WI          | 0.050       |  13772      |  275.4400   |  13585      |    25       |  122        |   33        | ...         | 4.022803    |  13532      | 98.25733    | 15.866095   | 21.418598   | 13.642483   | 14.329455   | 0           | AAR         | 32.49347    |\n",
       "| 3047        | WASHINGTON  | WI          | 0.025       |  95328      | 3813.1200   |  94465      |   125       |  208        |  337        | ...         | 4.014568    |  94143      | 98.75692    |  3.237628   |  4.069854   |  2.584500   |  4.280889   | 1           | HLU         | 37.49685    |\n",
       "| 3048        | WAUKESHA    | WI          | 0.034       | 304715      | 8962.2059   | 298313      |  1096       |  672        | 2699        | ...         | 7.667090    | 299802      | 98.38767    |  3.121060   |  3.785820   |  2.590061   |  4.085479   | 1           | HLU         | 35.73109    |\n",
       "| 3049        | WAUPACA     | WI          | 0.045       |  46104      | 1024.5333   |  45695      |    22       |  125        |   92        | ...         | 3.138596    |  44412      | 96.33004    |  8.488697   | 10.071411   |  6.953799   | 10.338641   | 0           | AAR         | 34.69330    |\n",
       "| 3050        | WAUSHARA    | WI          | 0.037       |  19385      |  523.9189   |  19094      |    29       |   70        |   43        | ...         | 2.620907    |  19163      | 98.85478    | 13.786985   | 20.050708   | 11.695784   | 11.804558   | 0           | AAR         | 31.30771    |\n",
       "| 3051        | WINNEBAGO   | WI          | 0.035       | 140320      | 4009.1429   | 136822      |   697       |  685        | 1728        | ...         | 5.659847    | 133950      | 95.46038    |  8.804031   | 10.592031   |  8.660587   |  6.661094   | 1           | HAU         | 36.60205    |\n",
       "| 3052        | WOOD        | WI          | 0.048       |  73605      | 1533.4375   |  72157      |    90       |  481        |  722        | ...         | 4.583725    |  72685      | 98.75008    |  8.525831   | 11.162997   |  7.375656   |  7.882918   | 0           | AAR         | 36.42280    |\n",
       "\n"
      ],
      "text/plain": [
       "    PID  county      state area  poptotal popdensity popwhite popblack\n",
       "1   561  ADAMS       IL    0.052   66090   1270.9615   63917     1702 \n",
       "2   562  ALEXANDER   IL    0.014   10626    759.0000    7054     3496 \n",
       "3   563  BOND        IL    0.022   14991    681.4091   14477      429 \n",
       "4   564  BOONE       IL    0.017   30806   1812.1176   29344      127 \n",
       "5   565  BROWN       IL    0.018    5836    324.2222    5264      547 \n",
       "6   566  BUREAU      IL    0.050   35688    713.7600   35157       50 \n",
       "7   567  CALHOUN     IL    0.017    5322    313.0588    5298        1 \n",
       "8   568  CARROLL     IL    0.027   16805    622.4074   16519      111 \n",
       "9   569  CASS        IL    0.024   13437    559.8750   13384       16 \n",
       "10  570  CHAMPAIGN   IL    0.058  173025   2983.1897  146506    16559 \n",
       "11  571  CHRISTIAN   IL    0.042   34418    819.4762   34176       82 \n",
       "12  572  CLARK       IL    0.030   15921    530.7000   15842       10 \n",
       "13  573  CLAY        IL    0.028   14460    516.4286   14403        4 \n",
       "14  574  CLINTON     IL    0.029   33944   1170.4828   32688     1021 \n",
       "15  575  COLES       IL    0.030   51644   1721.4667   50177      925 \n",
       "16  576  COOK        IL    0.058 5105067  88018.3966 3204947  1317147 \n",
       "17  577  CRAWFORD    IL    0.026   19464    748.6154   19300       63 \n",
       "18  578  CUMBERLAND  IL    0.020   10670    533.5000   10627        5 \n",
       "19  579  DE KALB     IL    0.038   77932   2050.8421   72968     2069 \n",
       "20  580  DE WITT     IL    0.023   16516    718.0870   16387       25 \n",
       "21  581  DOUGLAS     IL    0.025   19464    778.5600   19280       16 \n",
       "22  582  DU PAGE     IL    0.020  781666  39083.3000  714905    15462 \n",
       "23  583  EDGAR       IL    0.036   19595    544.3056   19469       68 \n",
       "24  584  EDWARDS     IL    0.014    7440    531.4286    7401        6 \n",
       "25  585  EFFINGHAM   IL    0.028   31704   1132.2857   31523       12 \n",
       "26  586  FAYETTE     IL    0.044   20893    474.8409   20148      599 \n",
       "27  587  FORD        IL    0.030   14275    475.8333   14157       43 \n",
       "28  588  FRANKLIN    IL    0.025   40319   1612.7600   40068       36 \n",
       "29  589  FULTON      IL    0.052   38080    732.3077   37117      668 \n",
       "30  590  GALLATIN    IL    0.019    6909    363.6316    6842       42 \n",
       "... ...  ...         ...   ...   ...      ...        ...      ...     \n",
       "408 3023 OCONTO      WI    0.060  30226    503.7667   29926      18   \n",
       "409 3024 ONEIDA      WI    0.071  31679    446.1831   31320      58   \n",
       "410 3025 OUTAGAMIE   WI    0.037 140510   3797.5676  136043     206   \n",
       "411 3026 OZAUKEE     WI    0.015  72831   4855.4000   71676     492   \n",
       "412 3027 PEPIN       WI    0.014   7107    507.6429    7070       2   \n",
       "413 3028 PIERCE      WI    0.034  32765    963.6765   32366      82   \n",
       "414 3029 POLK        WI    0.055  34773    632.2364   34348      23   \n",
       "415 3030 PORTAGE     WI    0.048  61405   1279.2708   59972     161   \n",
       "416 3031 PRICE       WI    0.075  15600    208.0000   15479       7   \n",
       "417 3032 RACINE      WI    0.020 175034   8751.7000  152098   16999   \n",
       "418 3033 RICHLAND    WI    0.034  17521    515.3235   17411      12   \n",
       "419 3034 ROCK        WI    0.042 139510   3321.6667  130803    6638   \n",
       "420 3035 RUSK        WI    0.055  15079    274.1636   14821      31   \n",
       "421 3036 ST CROIX    WI    0.044  50251   1142.0682   49895      44   \n",
       "422 3037 SAUK        WI    0.050  46975    939.5000   46459      54   \n",
       "423 3038 SAWYER      WI    0.079  14181    179.5063   11962      18   \n",
       "424 3039 SHAWANO     WI    0.054  37157    688.0926   35251      42   \n",
       "425 3040 SHEBOYGAN   WI    0.032 103877   3246.1562  100389     430   \n",
       "426 3041 TAYLOR      WI    0.057  18901    331.5965   18807       2   \n",
       "427 3042 TREMPEALEAU WI    0.043  25263    587.5116   25160      12   \n",
       "428 3043 VERNON      WI    0.048  25617    533.6875   25509      12   \n",
       "429 3044 VILAS       WI    0.060  17707    295.1167   16116       9   \n",
       "430 3045 WALWORTH    WI    0.032  75000   2343.7500   72747     454   \n",
       "431 3046 WASHBURN    WI    0.050  13772    275.4400   13585      25   \n",
       "432 3047 WASHINGTON  WI    0.025  95328   3813.1200   94465     125   \n",
       "433 3048 WAUKESHA    WI    0.034 304715   8962.2059  298313    1096   \n",
       "434 3049 WAUPACA     WI    0.045  46104   1024.5333   45695      22   \n",
       "435 3050 WAUSHARA    WI    0.037  19385    523.9189   19094      29   \n",
       "436 3051 WINNEBAGO   WI    0.035 140320   4009.1429  136822     697   \n",
       "437 3052 WOOD        WI    0.048  73605   1533.4375   72157      90   \n",
       "    popamerindian popasian ... percprof  poppovertyknown percpovertyknown\n",
       "1      98            249   ...  4.355859   63628         96.27478        \n",
       "2      19             48   ...  2.870315   10529         99.08714        \n",
       "3      35             16   ...  4.488572   14235         94.95697        \n",
       "4      46            150   ...  4.197800   30337         98.47757        \n",
       "5      14              5   ...  3.367680    4815         82.50514        \n",
       "6      65            195   ...  3.275891   35107         98.37200        \n",
       "7       8             15   ...  3.209601    5241         98.47802        \n",
       "8      30             61   ...  3.055727   16455         97.91729        \n",
       "9       8             23   ...  3.206799   13081         97.35060        \n",
       "10    331           8033   ... 17.757448  154934         89.54429        \n",
       "11     51             89   ...  3.089998   33788         98.16956        \n",
       "12     26             36   ...  2.776225   15615         98.07801        \n",
       "13     17             29   ...  2.788432   14248         98.53389        \n",
       "14     48            104   ...  2.875296   32190         94.83267        \n",
       "15     92            341   ...  8.144563   45693         88.47688        \n",
       "16  10289         188565   ...  8.329964 5023523         98.40269        \n",
       "17     34             48   ...  3.334084   19123         98.24805        \n",
       "18      6             26   ...  2.690650   10590         99.25023        \n",
       "19    123           1751   ... 11.150967   69127         88.70169        \n",
       "20     37             43   ...  3.308656   16238         98.31678        \n",
       "21     19             41   ...  3.840637   19140         98.33539        \n",
       "22    962          39634   ... 11.963266  771641         98.71748        \n",
       "23     24             24   ...  3.676808   19258         98.28017        \n",
       "24      8             19   ...  2.450687    7350         98.79032        \n",
       "25     45             95   ...  3.783950   31229         98.50177        \n",
       "26     40             35   ...  2.986901   19452         93.10295        \n",
       "27     14             40   ...  3.899083   13860         97.09282        \n",
       "28    106             84   ...  2.432571   39703         98.47218        \n",
       "29     83            105   ...  2.997030   36393         95.56985        \n",
       "30     10             11   ...  2.692308    6737         97.51049        \n",
       "... ...           ...          ...       ...             ...             \n",
       "408  212            36     ... 2.378543   29750          98.42520        \n",
       "409  223            56     ... 4.974496   30890          97.50939        \n",
       "410 1965          1904     ... 4.362722  137496          97.85496        \n",
       "411  127           438     ... 9.365039   71600          98.30979        \n",
       "412   18             9     ... 2.817824    6944          97.70649        \n",
       "413   87           172     ... 5.423401   30557          93.26110        \n",
       "414  321            50     ... 3.393293   34105          98.07897        \n",
       "415  255           786     ... 6.019312   57805          94.13729        \n",
       "416   77            27     ... 2.813520   15271          97.89103        \n",
       "417  521          1004     ... 4.936117  172392          98.49058        \n",
       "418   34            38     ... 3.147935   17254          98.47611        \n",
       "419  369           985     ... 4.370288  135919          97.42599        \n",
       "420   82           114     ... 3.019373   14748          97.80489        \n",
       "421  121           148     ... 5.380106   49388          98.28262        \n",
       "422  288            79     ... 3.970738   46193          98.33528        \n",
       "423 2167            15     ... 4.041667   13897          97.99732        \n",
       "424 1762            70     ... 2.455605   36389          97.93309        \n",
       "425  357          2061     ... 3.836386  101088          97.31509        \n",
       "426   39            44     ... 3.006166   18603          98.42336        \n",
       "427   32            46     ... 2.871216   24533          97.11040        \n",
       "428   36            42     ... 3.624948   25087          97.93106        \n",
       "429 1534            38     ... 4.315256   17446          98.52601        \n",
       "430  201           494     ... 6.082324   71553          95.40400        \n",
       "431  122            33     ... 4.022803   13532          98.25733        \n",
       "432  208           337     ... 4.014568   94143          98.75692        \n",
       "433  672          2699     ... 7.667090  299802          98.38767        \n",
       "434  125            92     ... 3.138596   44412          96.33004        \n",
       "435   70            43     ... 2.620907   19163          98.85478        \n",
       "436  685          1728     ... 5.659847  133950          95.46038        \n",
       "437  481           722     ... 4.583725   72685          98.75008        \n",
       "    percbelowpoverty percchildbelowpovert percadultpoverty percelderlypoverty\n",
       "1   13.151443        18.011717            11.009776        12.443812         \n",
       "2   32.244278        45.826514            27.385647        25.228976         \n",
       "3   12.068844        14.036061            10.852090        12.697410         \n",
       "4    7.209019        11.179536             5.536013         6.217047         \n",
       "5   13.520249        13.022889            11.143211        19.200000         \n",
       "6   10.399635        14.158819             8.179287        11.008586         \n",
       "7   15.149781        13.787761            12.932331        21.085271         \n",
       "8   11.710726        17.225462            10.027037         9.525052         \n",
       "9   13.875086        17.994784            11.914343        13.660180         \n",
       "10  15.572437        14.132234            17.562728         8.105017         \n",
       "11  11.708299        16.320612             9.569700        11.490641         \n",
       "12  12.007685        15.321547            10.131775        12.595420         \n",
       "13  16.774284        20.582578            14.464114        17.670078         \n",
       "14  10.223672        13.299402             9.253834         8.323176         \n",
       "15  16.748736        16.341941            18.792914        10.993608         \n",
       "16  14.198303        22.293497            11.665542        10.825269         \n",
       "17  10.537050        13.809825             8.870243        10.803387         \n",
       "18  12.049103        13.603185             9.822264        15.284626         \n",
       "19  13.544635         8.678238            17.047419         6.453908         \n",
       "20  10.315310        13.568426             7.955993        12.255345         \n",
       "21   9.629049        13.293543             7.924795         8.714363         \n",
       "22   2.714734         2.945252             2.399064         3.838249         \n",
       "23  16.003739        22.827628            14.480957        11.762014         \n",
       "24  12.204082        15.159868            10.950250        11.859528         \n",
       "25   8.994845        11.599832             6.974466        10.517498         \n",
       "26  13.618137        16.627635            12.134146        13.435829         \n",
       "27   9.264069        13.571228             7.325288         8.787402         \n",
       "28  20.764174        31.074742            19.313537        13.679486         \n",
       "29  15.494738        22.812225            13.996573        11.019603         \n",
       "30  21.433873        29.724656            20.005596        16.230032         \n",
       "... ...              ...                  ...              ...               \n",
       "408 12.094118        14.116632             9.634423        15.588616         \n",
       "409  9.617999        13.966707             8.109616         8.559414         \n",
       "410  6.202362         8.203007             5.022965         6.855924         \n",
       "411  2.180168         1.918955             1.938504         3.547067         \n",
       "412 12.615207        14.882122            10.123967        15.131579         \n",
       "413 10.416598        11.033134            10.337028         9.471418         \n",
       "414 11.822313        16.015585             9.756650        11.164322         \n",
       "415 12.895078        13.558998            13.182182        10.509441         \n",
       "416 10.889922        12.554958             8.145215        14.769573         \n",
       "417 10.151283        15.556437             8.429261         6.811663         \n",
       "418 13.440362        15.792812            12.637111        12.354189         \n",
       "419  9.877206        15.285761             8.143841         6.898250         \n",
       "420 16.578519        20.752427            15.806851        13.128907         \n",
       "421  6.402365         7.892108             4.972513         9.307219         \n",
       "422  9.691945        13.104104             8.148088         9.140333         \n",
       "423 20.544002        29.073570            19.195368        14.179318         \n",
       "424 11.297370        14.932266             9.105113        11.949530         \n",
       "425  6.486428         8.677912             5.146379         7.231785         \n",
       "426 12.664624        15.965037            10.265319        13.889683         \n",
       "427 10.675417        12.919976             7.884145        14.565299         \n",
       "428 15.824929        21.201105            13.449643        14.571429         \n",
       "429 14.736902        23.043367            14.251978         9.173228         \n",
       "430  9.641804         8.699613            10.926610         6.894182         \n",
       "431 15.866095        21.418598            13.642483        14.329455         \n",
       "432  3.237628         4.069854             2.584500         4.280889         \n",
       "433  3.121060         3.785820             2.590061         4.085479         \n",
       "434  8.488697        10.071411             6.953799        10.338641         \n",
       "435 13.786985        20.050708            11.695784        11.804558         \n",
       "436  8.804031        10.592031             8.660587         6.661094         \n",
       "437  8.525831        11.162997             7.375656         7.882918         \n",
       "    inmetro category ratio_child\n",
       "1   0       AAR      34.48631   \n",
       "2   0       LHR      36.72125   \n",
       "3   0       AAR      35.50130   \n",
       "4   1       ALU      37.44076   \n",
       "5   0       AAR      31.81974   \n",
       "6   0       AAR      34.30845   \n",
       "7   0       LAR      32.67569   \n",
       "8   0       AAR      32.62124   \n",
       "9   0       AAR      34.32314   \n",
       "10  1       HAU      44.53345   \n",
       "11  0       AAR      33.33430   \n",
       "12  0       AAR      32.57961   \n",
       "13  0       LAR      33.28492   \n",
       "14  1       LAU      36.47478   \n",
       "15  0       AAR      43.58299   \n",
       "16  1       AAU      35.51515   \n",
       "17  0       AAR      31.58138   \n",
       "18  0       AAR      36.95408   \n",
       "19  1       HAU      46.34168   \n",
       "20  0       AAR      33.75515   \n",
       "21  0       AAR      35.52199   \n",
       "22  1       HLU      35.73713   \n",
       "23  0       AAR      33.23807   \n",
       "24  0       AAR      32.54032   \n",
       "25  0       AAR      38.56611   \n",
       "26  0       AAR      33.49926   \n",
       "27  0       AAR      32.80560   \n",
       "28  0       LHR      32.50329   \n",
       "29  0       AAR      32.79412   \n",
       "30  0       LHR      32.26227   \n",
       "... ...     ...      ...        \n",
       "408 0       AAR      34.62582   \n",
       "409 0       AAR      30.07039   \n",
       "410 1       HLU      38.30404   \n",
       "411 1       HLU      35.38740   \n",
       "412 0       AAR      35.58463   \n",
       "413 1       HAU      43.16191   \n",
       "414 0       AAR      35.25149   \n",
       "415 0       AAR      42.99487   \n",
       "416 0       AAR      33.24359   \n",
       "417 1       AAU      36.81628   \n",
       "418 0       AAR      35.45460   \n",
       "419 1       AAU      36.87048   \n",
       "420 0       AAR      35.64560   \n",
       "421 1       HLU      38.56242   \n",
       "422 0       AAR      35.39755   \n",
       "423 0       AHR      32.30379   \n",
       "424 0       AAR      34.67987   \n",
       "425 1       ALU      35.56033   \n",
       "426 0       AAR      38.22549   \n",
       "427 0       AAR      34.10125   \n",
       "428 0       AAR      34.09455   \n",
       "429 0       AAR      27.62749   \n",
       "430 0       AAR      37.67733   \n",
       "431 0       AAR      32.49347   \n",
       "432 1       HLU      37.49685   \n",
       "433 1       HLU      35.73109   \n",
       "434 0       AAR      34.69330   \n",
       "435 0       AAR      31.30771   \n",
       "436 1       HAU      36.60205   \n",
       "437 0       AAR      36.42280   "
      ]
     },
     "metadata": {},
     "output_type": "display_data"
    }
   ],
   "source": [
    "# midwest 불러오기\n",
    "midwest <- as.data.frame(ggplot2::midwest)\n",
    "\n",
    "# midwest 에 백분율 변수 추가\n",
    "midwest %>% mutate(ratio_child = (poptotal-popadults)/poptotal*100) -> midwest\n",
    "midwest"
   ]
  },
  {
   "cell_type": "code",
   "execution_count": 154,
   "metadata": {},
   "outputs": [
    {
     "data": {
      "text/html": [
       "<table>\n",
       "<thead><tr><th scope=col>PID</th><th scope=col>county</th><th scope=col>state</th><th scope=col>area</th><th scope=col>poptotal</th><th scope=col>popdensity</th><th scope=col>popwhite</th><th scope=col>popblack</th><th scope=col>popamerindian</th><th scope=col>popasian</th><th scope=col>...</th><th scope=col>percprof</th><th scope=col>poppovertyknown</th><th scope=col>percpovertyknown</th><th scope=col>percbelowpoverty</th><th scope=col>percchildbelowpovert</th><th scope=col>percadultpoverty</th><th scope=col>percelderlypoverty</th><th scope=col>inmetro</th><th scope=col>category</th><th scope=col>ratio_child</th></tr></thead>\n",
       "<tbody>\n",
       "\t<tr><td>561      </td><td>ADAMS    </td><td>IL       </td><td>0.052    </td><td>66090    </td><td>1270.9615</td><td>63917    </td><td>1702     </td><td>98       </td><td>249      </td><td>...      </td><td>4.355859 </td><td>63628    </td><td>96.27478 </td><td>13.151443</td><td>18.01172 </td><td>11.009776</td><td>12.443812</td><td>0        </td><td>AAR      </td><td>34.48631 </td></tr>\n",
       "\t<tr><td>562      </td><td>ALEXANDER</td><td>IL       </td><td>0.014    </td><td>10626    </td><td> 759.0000</td><td> 7054    </td><td>3496     </td><td>19       </td><td> 48      </td><td>...      </td><td>2.870315 </td><td>10529    </td><td>99.08714 </td><td>32.244278</td><td>45.82651 </td><td>27.385647</td><td>25.228976</td><td>0        </td><td>LHR      </td><td>36.72125 </td></tr>\n",
       "\t<tr><td>563      </td><td>BOND     </td><td>IL       </td><td>0.022    </td><td>14991    </td><td> 681.4091</td><td>14477    </td><td> 429     </td><td>35       </td><td> 16      </td><td>...      </td><td>4.488572 </td><td>14235    </td><td>94.95697 </td><td>12.068844</td><td>14.03606 </td><td>10.852090</td><td>12.697410</td><td>0        </td><td>AAR      </td><td>35.50130 </td></tr>\n",
       "\t<tr><td>564      </td><td>BOONE    </td><td>IL       </td><td>0.017    </td><td>30806    </td><td>1812.1176</td><td>29344    </td><td> 127     </td><td>46       </td><td>150      </td><td>...      </td><td>4.197800 </td><td>30337    </td><td>98.47757 </td><td> 7.209019</td><td>11.17954 </td><td> 5.536013</td><td> 6.217047</td><td>1        </td><td>ALU      </td><td>37.44076 </td></tr>\n",
       "\t<tr><td>565      </td><td>BROWN    </td><td>IL       </td><td>0.018    </td><td> 5836    </td><td> 324.2222</td><td> 5264    </td><td> 547     </td><td>14       </td><td>  5      </td><td>...      </td><td>3.367680 </td><td> 4815    </td><td>82.50514 </td><td>13.520249</td><td>13.02289 </td><td>11.143211</td><td>19.200000</td><td>0        </td><td>AAR      </td><td>31.81974 </td></tr>\n",
       "\t<tr><td>566      </td><td>BUREAU   </td><td>IL       </td><td>0.050    </td><td>35688    </td><td> 713.7600</td><td>35157    </td><td>  50     </td><td>65       </td><td>195      </td><td>...      </td><td>3.275891 </td><td>35107    </td><td>98.37200 </td><td>10.399635</td><td>14.15882 </td><td> 8.179287</td><td>11.008586</td><td>0        </td><td>AAR      </td><td>34.30845 </td></tr>\n",
       "</tbody>\n",
       "</table>\n"
      ],
      "text/latex": [
       "\\begin{tabular}{r|lllllllllllllllllllllllllllll}\n",
       " PID & county & state & area & poptotal & popdensity & popwhite & popblack & popamerindian & popasian & ... & percprof & poppovertyknown & percpovertyknown & percbelowpoverty & percchildbelowpovert & percadultpoverty & percelderlypoverty & inmetro & category & ratio\\_child\\\\\n",
       "\\hline\n",
       "\t 561       & ADAMS     & IL        & 0.052     & 66090     & 1270.9615 & 63917     & 1702      & 98        & 249       & ...       & 4.355859  & 63628     & 96.27478  & 13.151443 & 18.01172  & 11.009776 & 12.443812 & 0         & AAR       & 34.48631 \\\\\n",
       "\t 562       & ALEXANDER & IL        & 0.014     & 10626     &  759.0000 &  7054     & 3496      & 19        &  48       & ...       & 2.870315  & 10529     & 99.08714  & 32.244278 & 45.82651  & 27.385647 & 25.228976 & 0         & LHR       & 36.72125 \\\\\n",
       "\t 563       & BOND      & IL        & 0.022     & 14991     &  681.4091 & 14477     &  429      & 35        &  16       & ...       & 4.488572  & 14235     & 94.95697  & 12.068844 & 14.03606  & 10.852090 & 12.697410 & 0         & AAR       & 35.50130 \\\\\n",
       "\t 564       & BOONE     & IL        & 0.017     & 30806     & 1812.1176 & 29344     &  127      & 46        & 150       & ...       & 4.197800  & 30337     & 98.47757  &  7.209019 & 11.17954  &  5.536013 &  6.217047 & 1         & ALU       & 37.44076 \\\\\n",
       "\t 565       & BROWN     & IL        & 0.018     &  5836     &  324.2222 &  5264     &  547      & 14        &   5       & ...       & 3.367680  &  4815     & 82.50514  & 13.520249 & 13.02289  & 11.143211 & 19.200000 & 0         & AAR       & 31.81974 \\\\\n",
       "\t 566       & BUREAU    & IL        & 0.050     & 35688     &  713.7600 & 35157     &   50      & 65        & 195       & ...       & 3.275891  & 35107     & 98.37200  & 10.399635 & 14.15882  &  8.179287 & 11.008586 & 0         & AAR       & 34.30845 \\\\\n",
       "\\end{tabular}\n"
      ],
      "text/markdown": [
       "\n",
       "| PID | county | state | area | poptotal | popdensity | popwhite | popblack | popamerindian | popasian | ... | percprof | poppovertyknown | percpovertyknown | percbelowpoverty | percchildbelowpovert | percadultpoverty | percelderlypoverty | inmetro | category | ratio_child |\n",
       "|---|---|---|---|---|---|---|---|---|---|---|---|---|---|---|---|---|---|---|---|---|\n",
       "| 561       | ADAMS     | IL        | 0.052     | 66090     | 1270.9615 | 63917     | 1702      | 98        | 249       | ...       | 4.355859  | 63628     | 96.27478  | 13.151443 | 18.01172  | 11.009776 | 12.443812 | 0         | AAR       | 34.48631  |\n",
       "| 562       | ALEXANDER | IL        | 0.014     | 10626     |  759.0000 |  7054     | 3496      | 19        |  48       | ...       | 2.870315  | 10529     | 99.08714  | 32.244278 | 45.82651  | 27.385647 | 25.228976 | 0         | LHR       | 36.72125  |\n",
       "| 563       | BOND      | IL        | 0.022     | 14991     |  681.4091 | 14477     |  429      | 35        |  16       | ...       | 4.488572  | 14235     | 94.95697  | 12.068844 | 14.03606  | 10.852090 | 12.697410 | 0         | AAR       | 35.50130  |\n",
       "| 564       | BOONE     | IL        | 0.017     | 30806     | 1812.1176 | 29344     |  127      | 46        | 150       | ...       | 4.197800  | 30337     | 98.47757  |  7.209019 | 11.17954  |  5.536013 |  6.217047 | 1         | ALU       | 37.44076  |\n",
       "| 565       | BROWN     | IL        | 0.018     |  5836     |  324.2222 |  5264     |  547      | 14        |   5       | ...       | 3.367680  |  4815     | 82.50514  | 13.520249 | 13.02289  | 11.143211 | 19.200000 | 0         | AAR       | 31.81974  |\n",
       "| 566       | BUREAU    | IL        | 0.050     | 35688     |  713.7600 | 35157     |   50      | 65        | 195       | ...       | 3.275891  | 35107     | 98.37200  | 10.399635 | 14.15882  |  8.179287 | 11.008586 | 0         | AAR       | 34.30845  |\n",
       "\n"
      ],
      "text/plain": [
       "  PID county    state area  poptotal popdensity popwhite popblack popamerindian\n",
       "1 561 ADAMS     IL    0.052 66090    1270.9615  63917    1702     98           \n",
       "2 562 ALEXANDER IL    0.014 10626     759.0000   7054    3496     19           \n",
       "3 563 BOND      IL    0.022 14991     681.4091  14477     429     35           \n",
       "4 564 BOONE     IL    0.017 30806    1812.1176  29344     127     46           \n",
       "5 565 BROWN     IL    0.018  5836     324.2222   5264     547     14           \n",
       "6 566 BUREAU    IL    0.050 35688     713.7600  35157      50     65           \n",
       "  popasian ... percprof poppovertyknown percpovertyknown percbelowpoverty\n",
       "1 249      ... 4.355859 63628           96.27478         13.151443       \n",
       "2  48      ... 2.870315 10529           99.08714         32.244278       \n",
       "3  16      ... 4.488572 14235           94.95697         12.068844       \n",
       "4 150      ... 4.197800 30337           98.47757          7.209019       \n",
       "5   5      ... 3.367680  4815           82.50514         13.520249       \n",
       "6 195      ... 3.275891 35107           98.37200         10.399635       \n",
       "  percchildbelowpovert percadultpoverty percelderlypoverty inmetro category\n",
       "1 18.01172             11.009776        12.443812          0       AAR     \n",
       "2 45.82651             27.385647        25.228976          0       LHR     \n",
       "3 14.03606             10.852090        12.697410          0       AAR     \n",
       "4 11.17954              5.536013         6.217047          1       ALU     \n",
       "5 13.02289             11.143211        19.200000          0       AAR     \n",
       "6 14.15882              8.179287        11.008586          0       AAR     \n",
       "  ratio_child\n",
       "1 34.48631   \n",
       "2 36.72125   \n",
       "3 35.50130   \n",
       "4 37.44076   \n",
       "5 31.81974   \n",
       "6 34.30845   "
      ]
     },
     "metadata": {},
     "output_type": "display_data"
    }
   ],
   "source": [
    "head(midwest)"
   ]
  },
  {
   "cell_type": "markdown",
   "metadata": {},
   "source": [
    "문제2. 미성년 인구 백분율이 가장 높은 상위 5개 county(지역)의 미성년 인구 백분율을 출력하세요."
   ]
  },
  {
   "cell_type": "code",
   "execution_count": 85,
   "metadata": {},
   "outputs": [
    {
     "data": {
      "text/html": [
       "<table>\n",
       "<thead><tr><th scope=col>county</th><th scope=col>ratio_child</th></tr></thead>\n",
       "<tbody>\n",
       "\t<tr><td>ISABELLA </td><td>51.50117 </td></tr>\n",
       "\t<tr><td>MENOMINEE</td><td>50.59126 </td></tr>\n",
       "\t<tr><td>ATHENS   </td><td>49.32073 </td></tr>\n",
       "\t<tr><td>MECOSTA  </td><td>49.05918 </td></tr>\n",
       "\t<tr><td>MONROE   </td><td>47.35818 </td></tr>\n",
       "</tbody>\n",
       "</table>\n"
      ],
      "text/latex": [
       "\\begin{tabular}{r|ll}\n",
       " county & ratio\\_child\\\\\n",
       "\\hline\n",
       "\t ISABELLA  & 51.50117 \\\\\n",
       "\t MENOMINEE & 50.59126 \\\\\n",
       "\t ATHENS    & 49.32073 \\\\\n",
       "\t MECOSTA   & 49.05918 \\\\\n",
       "\t MONROE    & 47.35818 \\\\\n",
       "\\end{tabular}\n"
      ],
      "text/markdown": [
       "\n",
       "| county | ratio_child |\n",
       "|---|---|\n",
       "| ISABELLA  | 51.50117  |\n",
       "| MENOMINEE | 50.59126  |\n",
       "| ATHENS    | 49.32073  |\n",
       "| MECOSTA   | 49.05918  |\n",
       "| MONROE    | 47.35818  |\n",
       "\n"
      ],
      "text/plain": [
       "  county    ratio_child\n",
       "1 ISABELLA  51.50117   \n",
       "2 MENOMINEE 50.59126   \n",
       "3 ATHENS    49.32073   \n",
       "4 MECOSTA   49.05918   \n",
       "5 MONROE    47.35818   "
      ]
     },
     "metadata": {},
     "output_type": "display_data"
    }
   ],
   "source": [
    "midwest %>%\n",
    "    arrange(desc(ratio_child)) %>% # ratio_child 내림차순 정렬\n",
    "    select(county, ratio_child) %>% # county, ratio_child 추출\n",
    "    head(5) # 상위 5 행 출력"
   ]
  },
  {
   "cell_type": "markdown",
   "metadata": {},
   "source": [
    "문제3. 분류표의 기준에 따라 미성년 비율 등급 변수를 추가하고, 각 등급에 몇 개의 지역이 있는지 알아보세요."
   ]
  },
  {
   "cell_type": "code",
   "execution_count": 86,
   "metadata": {},
   "outputs": [
    {
     "data": {
      "text/plain": [
       "\n",
       " large middle  small \n",
       "    32    396      9 "
      ]
     },
     "metadata": {},
     "output_type": "display_data"
    }
   ],
   "source": [
    "# midwest 에 grade 변수 추가\n",
    "midwest <- midwest %>%\n",
    "     mutate(grade = ifelse(ratio_child >= 40, \"large\",\n",
    "                     ifelse(ratio_child >= 30, \"middle\", \"small\")))\n",
    "\n",
    "# 미성년 비율 등급 빈도표\n",
    "table(midwest$grade) "
   ]
  },
  {
   "cell_type": "markdown",
   "metadata": {},
   "source": [
    "문제4. popasian은 해당 지역의 아시아인 인구를 나타냅니다. '전체 인구 대비 아시아인 인구 백분율' 변수를\n",
    "추가하고, 하위 10개 지역의 state(주), county(지역명), 아시아인 인구 백분율을 출력하세요"
   ]
  },
  {
   "cell_type": "code",
   "execution_count": 87,
   "metadata": {},
   "outputs": [
    {
     "data": {
      "text/html": [
       "<table>\n",
       "<thead><tr><th scope=col>state</th><th scope=col>county</th><th scope=col>ratio_asian</th></tr></thead>\n",
       "<tbody>\n",
       "\t<tr><td>WI        </td><td>MENOMINEE </td><td>0.00000000</td></tr>\n",
       "\t<tr><td>IN        </td><td>BENTON    </td><td>0.01059210</td></tr>\n",
       "\t<tr><td>IN        </td><td>CARROLL   </td><td>0.01594981</td></tr>\n",
       "\t<tr><td>OH        </td><td>VINTON    </td><td>0.02703190</td></tr>\n",
       "\t<tr><td>WI        </td><td>IRON      </td><td>0.03250447</td></tr>\n",
       "\t<tr><td>IL        </td><td>SCOTT     </td><td>0.05315379</td></tr>\n",
       "\t<tr><td>IN        </td><td>CLAY      </td><td>0.06071645</td></tr>\n",
       "\t<tr><td>MI        </td><td>OSCODA    </td><td>0.06375925</td></tr>\n",
       "\t<tr><td>OH        </td><td>PERRY     </td><td>0.06654625</td></tr>\n",
       "\t<tr><td>IL        </td><td>PIATT     </td><td>0.07074865</td></tr>\n",
       "</tbody>\n",
       "</table>\n"
      ],
      "text/latex": [
       "\\begin{tabular}{r|lll}\n",
       " state & county & ratio\\_asian\\\\\n",
       "\\hline\n",
       "\t WI         & MENOMINEE  & 0.00000000\\\\\n",
       "\t IN         & BENTON     & 0.01059210\\\\\n",
       "\t IN         & CARROLL    & 0.01594981\\\\\n",
       "\t OH         & VINTON     & 0.02703190\\\\\n",
       "\t WI         & IRON       & 0.03250447\\\\\n",
       "\t IL         & SCOTT      & 0.05315379\\\\\n",
       "\t IN         & CLAY       & 0.06071645\\\\\n",
       "\t MI         & OSCODA     & 0.06375925\\\\\n",
       "\t OH         & PERRY      & 0.06654625\\\\\n",
       "\t IL         & PIATT      & 0.07074865\\\\\n",
       "\\end{tabular}\n"
      ],
      "text/markdown": [
       "\n",
       "| state | county | ratio_asian |\n",
       "|---|---|---|\n",
       "| WI         | MENOMINEE  | 0.00000000 |\n",
       "| IN         | BENTON     | 0.01059210 |\n",
       "| IN         | CARROLL    | 0.01594981 |\n",
       "| OH         | VINTON     | 0.02703190 |\n",
       "| WI         | IRON       | 0.03250447 |\n",
       "| IL         | SCOTT      | 0.05315379 |\n",
       "| IN         | CLAY       | 0.06071645 |\n",
       "| MI         | OSCODA     | 0.06375925 |\n",
       "| OH         | PERRY      | 0.06654625 |\n",
       "| IL         | PIATT      | 0.07074865 |\n",
       "\n"
      ],
      "text/plain": [
       "   state county    ratio_asian\n",
       "1  WI    MENOMINEE 0.00000000 \n",
       "2  IN    BENTON    0.01059210 \n",
       "3  IN    CARROLL   0.01594981 \n",
       "4  OH    VINTON    0.02703190 \n",
       "5  WI    IRON      0.03250447 \n",
       "6  IL    SCOTT     0.05315379 \n",
       "7  IN    CLAY      0.06071645 \n",
       "8  MI    OSCODA    0.06375925 \n",
       "9  OH    PERRY     0.06654625 \n",
       "10 IL    PIATT     0.07074865 "
      ]
     },
     "metadata": {},
     "output_type": "display_data"
    }
   ],
   "source": [
    "midwest %>%\n",
    " mutate(ratio_asian = (popasian/poptotal)*100) %>% # 백분율 변수 추가\n",
    " arrange(ratio_asian) %>% # 내림차순 정렬\n",
    " select(state, county, ratio_asian) %>% # 변수 추출\n",
    " head(10) # 상위 10 행 출력"
   ]
  },
  {
   "cell_type": "code",
   "execution_count": null,
   "metadata": {},
   "outputs": [],
   "source": []
  }
 ],
 "metadata": {
  "kernelspec": {
   "display_name": "R",
   "language": "R",
   "name": "ir"
  },
  "language_info": {
   "codemirror_mode": "r",
   "file_extension": ".r",
   "mimetype": "text/x-r-source",
   "name": "R",
   "pygments_lexer": "r",
   "version": "3.6.1"
  }
 },
 "nbformat": 4,
 "nbformat_minor": 4
}
