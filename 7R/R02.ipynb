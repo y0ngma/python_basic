{
 "cells": [
  {
   "cell_type": "code",
   "execution_count": 1,
   "metadata": {},
   "outputs": [],
   "source": [
    "df_midterm <- data.frame(\n",
    "    english = c(90,80,70,60),\n",
    "    math = c(90,80,70,60),\n",
    "    class = c('a','a','b','b') )\n",
    "write.csv(df_midterm, file = \"./Data/df_midterm.csv\")"
   ]
  },
  {
   "cell_type": "code",
   "execution_count": 2,
   "metadata": {},
   "outputs": [
    {
     "data": {
      "text/html": [
       "'df_midterm'"
      ],
      "text/latex": [
       "'df\\_midterm'"
      ],
      "text/markdown": [
       "'df_midterm'"
      ],
      "text/plain": [
       "[1] \"df_midterm\""
      ]
     },
     "metadata": {},
     "output_type": "display_data"
    }
   ],
   "source": [
    "ls()"
   ]
  },
  {
   "cell_type": "code",
   "execution_count": 7,
   "metadata": {},
   "outputs": [
    {
     "data": {
      "text/html": [
       "<ol class=list-inline>\n",
       "\t<li>20</li>\n",
       "\t<li>5</li>\n",
       "</ol>\n"
      ],
      "text/latex": [
       "\\begin{enumerate*}\n",
       "\\item 20\n",
       "\\item 5\n",
       "\\end{enumerate*}\n"
      ],
      "text/markdown": [
       "1. 20\n",
       "2. 5\n",
       "\n",
       "\n"
      ],
      "text/plain": [
       "[1] 20  5"
      ]
     },
     "metadata": {},
     "output_type": "display_data"
    },
    {
     "data": {
      "text/html": [
       "<table>\n",
       "<thead><tr><th scope=col>id</th><th scope=col>class</th><th scope=col>math</th><th scope=col>english</th><th scope=col>science</th></tr></thead>\n",
       "<tbody>\n",
       "\t<tr><td>1 </td><td>1 </td><td>50</td><td>98</td><td>50</td></tr>\n",
       "\t<tr><td>2 </td><td>1 </td><td>60</td><td>97</td><td>60</td></tr>\n",
       "\t<tr><td>3 </td><td>1 </td><td>45</td><td>86</td><td>78</td></tr>\n",
       "\t<tr><td>4 </td><td>1 </td><td>30</td><td>98</td><td>58</td></tr>\n",
       "\t<tr><td>5 </td><td>2 </td><td>25</td><td>80</td><td>65</td></tr>\n",
       "\t<tr><td>6 </td><td>2 </td><td>50</td><td>89</td><td>98</td></tr>\n",
       "</tbody>\n",
       "</table>\n"
      ],
      "text/latex": [
       "\\begin{tabular}{r|lllll}\n",
       " id & class & math & english & science\\\\\n",
       "\\hline\n",
       "\t 1  & 1  & 50 & 98 & 50\\\\\n",
       "\t 2  & 1  & 60 & 97 & 60\\\\\n",
       "\t 3  & 1  & 45 & 86 & 78\\\\\n",
       "\t 4  & 1  & 30 & 98 & 58\\\\\n",
       "\t 5  & 2  & 25 & 80 & 65\\\\\n",
       "\t 6  & 2  & 50 & 89 & 98\\\\\n",
       "\\end{tabular}\n"
      ],
      "text/markdown": [
       "\n",
       "| id | class | math | english | science |\n",
       "|---|---|---|---|---|\n",
       "| 1  | 1  | 50 | 98 | 50 |\n",
       "| 2  | 1  | 60 | 97 | 60 |\n",
       "| 3  | 1  | 45 | 86 | 78 |\n",
       "| 4  | 1  | 30 | 98 | 58 |\n",
       "| 5  | 2  | 25 | 80 | 65 |\n",
       "| 6  | 2  | 50 | 89 | 98 |\n",
       "\n"
      ],
      "text/plain": [
       "  id class math english science\n",
       "1 1  1     50   98      50     \n",
       "2 2  1     60   97      60     \n",
       "3 3  1     45   86      78     \n",
       "4 4  1     30   98      58     \n",
       "5 5  2     25   80      65     \n",
       "6 6  2     50   89      98     "
      ]
     },
     "metadata": {},
     "output_type": "display_data"
    }
   ],
   "source": [
    "df <- read.csv('./Data/csv_exam.csv')\n",
    "dim(df)\n",
    "head(df)"
   ]
  },
  {
   "cell_type": "code",
   "execution_count": 12,
   "metadata": {},
   "outputs": [
    {
     "data": {
      "text/html": [
       "<ol class=list-inline>\n",
       "\t<li>234</li>\n",
       "\t<li>11</li>\n",
       "</ol>\n"
      ],
      "text/latex": [
       "\\begin{enumerate*}\n",
       "\\item 234\n",
       "\\item 11\n",
       "\\end{enumerate*}\n"
      ],
      "text/markdown": [
       "1. 234\n",
       "2. 11\n",
       "\n",
       "\n"
      ],
      "text/plain": [
       "[1] 234  11"
      ]
     },
     "metadata": {},
     "output_type": "display_data"
    },
    {
     "data": {
      "text/html": [
       "<table>\n",
       "<thead><tr><th></th><th scope=col>manufacturer</th><th scope=col>model</th><th scope=col>displ</th><th scope=col>year</th><th scope=col>cyl</th><th scope=col>trans</th><th scope=col>drv</th><th scope=col>cty</th><th scope=col>hwy</th><th scope=col>fl</th><th scope=col>class</th></tr></thead>\n",
       "<tbody>\n",
       "\t<tr><th scope=row>229</th><td>volkswagen</td><td>passat    </td><td>1.8       </td><td>1999      </td><td>4         </td><td>auto(l5)  </td><td>f         </td><td>18        </td><td>29        </td><td>p         </td><td>midsize   </td></tr>\n",
       "\t<tr><th scope=row>230</th><td>volkswagen</td><td>passat    </td><td>2.0       </td><td>2008      </td><td>4         </td><td>auto(s6)  </td><td>f         </td><td>19        </td><td>28        </td><td>p         </td><td>midsize   </td></tr>\n",
       "\t<tr><th scope=row>231</th><td>volkswagen</td><td>passat    </td><td>2.0       </td><td>2008      </td><td>4         </td><td>manual(m6)</td><td>f         </td><td>21        </td><td>29        </td><td>p         </td><td>midsize   </td></tr>\n",
       "\t<tr><th scope=row>232</th><td>volkswagen</td><td>passat    </td><td>2.8       </td><td>1999      </td><td>6         </td><td>auto(l5)  </td><td>f         </td><td>16        </td><td>26        </td><td>p         </td><td>midsize   </td></tr>\n",
       "\t<tr><th scope=row>233</th><td>volkswagen</td><td>passat    </td><td>2.8       </td><td>1999      </td><td>6         </td><td>manual(m5)</td><td>f         </td><td>18        </td><td>26        </td><td>p         </td><td>midsize   </td></tr>\n",
       "\t<tr><th scope=row>234</th><td>volkswagen</td><td>passat    </td><td>3.6       </td><td>2008      </td><td>6         </td><td>auto(s6)  </td><td>f         </td><td>17        </td><td>26        </td><td>p         </td><td>midsize   </td></tr>\n",
       "</tbody>\n",
       "</table>\n"
      ],
      "text/latex": [
       "\\begin{tabular}{r|lllllllllll}\n",
       "  & manufacturer & model & displ & year & cyl & trans & drv & cty & hwy & fl & class\\\\\n",
       "\\hline\n",
       "\t229 & volkswagen & passat     & 1.8        & 1999       & 4          & auto(l5)   & f          & 18         & 29         & p          & midsize   \\\\\n",
       "\t230 & volkswagen & passat     & 2.0        & 2008       & 4          & auto(s6)   & f          & 19         & 28         & p          & midsize   \\\\\n",
       "\t231 & volkswagen & passat     & 2.0        & 2008       & 4          & manual(m6) & f          & 21         & 29         & p          & midsize   \\\\\n",
       "\t232 & volkswagen & passat     & 2.8        & 1999       & 6          & auto(l5)   & f          & 16         & 26         & p          & midsize   \\\\\n",
       "\t233 & volkswagen & passat     & 2.8        & 1999       & 6          & manual(m5) & f          & 18         & 26         & p          & midsize   \\\\\n",
       "\t234 & volkswagen & passat     & 3.6        & 2008       & 6          & auto(s6)   & f          & 17         & 26         & p          & midsize   \\\\\n",
       "\\end{tabular}\n"
      ],
      "text/markdown": [
       "\n",
       "| <!--/--> | manufacturer | model | displ | year | cyl | trans | drv | cty | hwy | fl | class |\n",
       "|---|---|---|---|---|---|---|---|---|---|---|---|\n",
       "| 229 | volkswagen | passat     | 1.8        | 1999       | 4          | auto(l5)   | f          | 18         | 29         | p          | midsize    |\n",
       "| 230 | volkswagen | passat     | 2.0        | 2008       | 4          | auto(s6)   | f          | 19         | 28         | p          | midsize    |\n",
       "| 231 | volkswagen | passat     | 2.0        | 2008       | 4          | manual(m6) | f          | 21         | 29         | p          | midsize    |\n",
       "| 232 | volkswagen | passat     | 2.8        | 1999       | 6          | auto(l5)   | f          | 16         | 26         | p          | midsize    |\n",
       "| 233 | volkswagen | passat     | 2.8        | 1999       | 6          | manual(m5) | f          | 18         | 26         | p          | midsize    |\n",
       "| 234 | volkswagen | passat     | 3.6        | 2008       | 6          | auto(s6)   | f          | 17         | 26         | p          | midsize    |\n",
       "\n"
      ],
      "text/plain": [
       "    manufacturer model  displ year cyl trans      drv cty hwy fl class  \n",
       "229 volkswagen   passat 1.8   1999 4   auto(l5)   f   18  29  p  midsize\n",
       "230 volkswagen   passat 2.0   2008 4   auto(s6)   f   19  28  p  midsize\n",
       "231 volkswagen   passat 2.0   2008 4   manual(m6) f   21  29  p  midsize\n",
       "232 volkswagen   passat 2.8   1999 6   auto(l5)   f   16  26  p  midsize\n",
       "233 volkswagen   passat 2.8   1999 6   manual(m5) f   18  26  p  midsize\n",
       "234 volkswagen   passat 3.6   2008 6   auto(s6)   f   17  26  p  midsize"
      ]
     },
     "metadata": {},
     "output_type": "display_data"
    }
   ],
   "source": [
    "mpg <- as.data.frame(ggplot2::mpg)\n",
    "dim(mpg)\n",
    "tail(mpg)"
   ]
  },
  {
   "cell_type": "code",
   "execution_count": 11,
   "metadata": {},
   "outputs": [
    {
     "name": "stdout",
     "output_type": "stream",
     "text": [
      "'data.frame':\t234 obs. of  11 variables:\n",
      " $ manufacturer: chr  \"audi\" \"audi\" \"audi\" \"audi\" ...\n",
      " $ model       : chr  \"a4\" \"a4\" \"a4\" \"a4\" ...\n",
      " $ displ       : num  1.8 1.8 2 2 2.8 2.8 3.1 1.8 1.8 2 ...\n",
      " $ year        : int  1999 1999 2008 2008 1999 1999 2008 1999 1999 2008 ...\n",
      " $ cyl         : int  4 4 4 4 6 6 6 4 4 4 ...\n",
      " $ trans       : chr  \"auto(l5)\" \"manual(m5)\" \"manual(m6)\" \"auto(av)\" ...\n",
      " $ drv         : chr  \"f\" \"f\" \"f\" \"f\" ...\n",
      " $ cty         : int  18 21 20 21 16 18 18 18 16 20 ...\n",
      " $ hwy         : int  29 29 31 30 26 26 27 26 25 28 ...\n",
      " $ fl          : chr  \"p\" \"p\" \"p\" \"p\" ...\n",
      " $ class       : chr  \"compact\" \"compact\" \"compact\" \"compact\" ...\n"
     ]
    }
   ],
   "source": [
    "str(mpg) # 데이터속성 확인"
   ]
  },
  {
   "cell_type": "code",
   "execution_count": 13,
   "metadata": {},
   "outputs": [
    {
     "data": {
      "text/plain": [
       " manufacturer          model               displ            year     \n",
       " Length:234         Length:234         Min.   :1.600   Min.   :1999  \n",
       " Class :character   Class :character   1st Qu.:2.400   1st Qu.:1999  \n",
       " Mode  :character   Mode  :character   Median :3.300   Median :2004  \n",
       "                                       Mean   :3.472   Mean   :2004  \n",
       "                                       3rd Qu.:4.600   3rd Qu.:2008  \n",
       "                                       Max.   :7.000   Max.   :2008  \n",
       "      cyl           trans               drv                 cty       \n",
       " Min.   :4.000   Length:234         Length:234         Min.   : 9.00  \n",
       " 1st Qu.:4.000   Class :character   Class :character   1st Qu.:14.00  \n",
       " Median :6.000   Mode  :character   Mode  :character   Median :17.00  \n",
       " Mean   :5.889                                         Mean   :16.86  \n",
       " 3rd Qu.:8.000                                         3rd Qu.:19.00  \n",
       " Max.   :8.000                                         Max.   :35.00  \n",
       "      hwy             fl               class          \n",
       " Min.   :12.00   Length:234         Length:234        \n",
       " 1st Qu.:18.00   Class :character   Class :character  \n",
       " Median :24.00   Mode  :character   Mode  :character  \n",
       " Mean   :23.44                                        \n",
       " 3rd Qu.:27.00                                        \n",
       " Max.   :44.00                                        "
      ]
     },
     "metadata": {},
     "output_type": "display_data"
    }
   ],
   "source": [
    "# 'year'의 중앙값과 평균값이 같음. 즉, 편중되지 않았다\n",
    "summary(mpg)"
   ]
  },
  {
   "cell_type": "code",
   "execution_count": 14,
   "metadata": {},
   "outputs": [
    {
     "name": "stderr",
     "output_type": "stream",
     "text": [
      "Installing package into 'C:/Users/admin/Documents/R/win-library/3.6'\n",
      "(as 'lib' is unspecified)\n"
     ]
    },
    {
     "name": "stdout",
     "output_type": "stream",
     "text": [
      "package 'Rcpp' successfully unpacked and MD5 sums checked\n"
     ]
    },
    {
     "name": "stderr",
     "output_type": "stream",
     "text": [
      "Warning message:\n",
      "\"cannot remove prior installation of package 'Rcpp'\"Warning message in file.copy(savedcopy, lib, recursive = TRUE):\n",
      "\"C:\\Users\\admin\\Documents\\R\\win-library\\3.6\\00LOCK\\Rcpp\\libs\\x64\\Rcpp.dll를 C:\\Users\\admin\\Documents\\R\\win-library\\3.6\\Rcpp\\libs\\x64\\Rcpp.dll로 복사하는데 문제가 발생했습니다: Permission denied\"Warning message:\n",
      "\"restored 'Rcpp'\""
     ]
    },
    {
     "name": "stdout",
     "output_type": "stream",
     "text": [
      "\n",
      "The downloaded binary packages are in\n",
      "\tC:\\Users\\admin\\AppData\\Local\\Temp\\RtmpSurODY\\downloaded_packages\n"
     ]
    },
    {
     "name": "stderr",
     "output_type": "stream",
     "text": [
      "Installing package into 'C:/Users/admin/Documents/R/win-library/3.6'\n",
      "(as 'lib' is unspecified)\n",
      "also installing the dependencies 'BH', 'plogr'\n",
      "\n"
     ]
    },
    {
     "name": "stdout",
     "output_type": "stream",
     "text": [
      "package 'BH' successfully unpacked and MD5 sums checked\n",
      "package 'plogr' successfully unpacked and MD5 sums checked\n",
      "package 'dplyr' successfully unpacked and MD5 sums checked\n"
     ]
    },
    {
     "name": "stderr",
     "output_type": "stream",
     "text": [
      "Warning message:\n",
      "\"cannot remove prior installation of package 'dplyr'\"Warning message in file.copy(savedcopy, lib, recursive = TRUE):\n",
      "\"C:\\Users\\admin\\Documents\\R\\win-library\\3.6\\00LOCK\\dplyr\\libs\\x64\\dplyr.dll를 C:\\Users\\admin\\Documents\\R\\win-library\\3.6\\dplyr\\libs\\x64\\dplyr.dll로 복사하는데 문제가 발생했습니다: Permission denied\"Warning message:\n",
      "\"restored 'dplyr'\""
     ]
    },
    {
     "name": "stdout",
     "output_type": "stream",
     "text": [
      "\n",
      "The downloaded binary packages are in\n",
      "\tC:\\Users\\admin\\AppData\\Local\\Temp\\RtmpSurODY\\downloaded_packages\n"
     ]
    }
   ],
   "source": [
    "install.packages('Rcpp')\n",
    "install.packages('dplyr')"
   ]
  },
  {
   "cell_type": "code",
   "execution_count": 15,
   "metadata": {},
   "outputs": [
    {
     "name": "stderr",
     "output_type": "stream",
     "text": [
      "Warning message:\n",
      "\"package 'dplyr' was built under R version 3.6.3\"\n",
      "Attaching package: 'dplyr'\n",
      "\n",
      "The following objects are masked from 'package:stats':\n",
      "\n",
      "    filter, lag\n",
      "\n",
      "The following objects are masked from 'package:base':\n",
      "\n",
      "    intersect, setdiff, setequal, union\n",
      "\n"
     ]
    }
   ],
   "source": [
    "library(dplyr) # dplyr load"
   ]
  },
  {
   "cell_type": "code",
   "execution_count": 16,
   "metadata": {},
   "outputs": [
    {
     "data": {
      "text/html": [
       "<table>\n",
       "<thead><tr><th scope=col>var1</th><th scope=col>var2</th></tr></thead>\n",
       "<tbody>\n",
       "\t<tr><td>1</td><td>2</td></tr>\n",
       "\t<tr><td>2</td><td>3</td></tr>\n",
       "\t<tr><td>1</td><td>2</td></tr>\n",
       "</tbody>\n",
       "</table>\n"
      ],
      "text/latex": [
       "\\begin{tabular}{r|ll}\n",
       " var1 & var2\\\\\n",
       "\\hline\n",
       "\t 1 & 2\\\\\n",
       "\t 2 & 3\\\\\n",
       "\t 1 & 2\\\\\n",
       "\\end{tabular}\n"
      ],
      "text/markdown": [
       "\n",
       "| var1 | var2 |\n",
       "|---|---|\n",
       "| 1 | 2 |\n",
       "| 2 | 3 |\n",
       "| 1 | 2 |\n",
       "\n"
      ],
      "text/plain": [
       "  var1 var2\n",
       "1 1    2   \n",
       "2 2    3   \n",
       "3 1    2   "
      ]
     },
     "metadata": {},
     "output_type": "display_data"
    },
    {
     "data": {
      "text/html": [
       "<table>\n",
       "<thead><tr><th scope=col>var1</th><th scope=col>v2</th></tr></thead>\n",
       "<tbody>\n",
       "\t<tr><td>1</td><td>2</td></tr>\n",
       "\t<tr><td>2</td><td>3</td></tr>\n",
       "\t<tr><td>1</td><td>2</td></tr>\n",
       "</tbody>\n",
       "</table>\n"
      ],
      "text/latex": [
       "\\begin{tabular}{r|ll}\n",
       " var1 & v2\\\\\n",
       "\\hline\n",
       "\t 1 & 2\\\\\n",
       "\t 2 & 3\\\\\n",
       "\t 1 & 2\\\\\n",
       "\\end{tabular}\n"
      ],
      "text/markdown": [
       "\n",
       "| var1 | v2 |\n",
       "|---|---|\n",
       "| 1 | 2 |\n",
       "| 2 | 3 |\n",
       "| 1 | 2 |\n",
       "\n"
      ],
      "text/plain": [
       "  var1 v2\n",
       "1 1    2 \n",
       "2 2    3 \n",
       "3 1    2 "
      ]
     },
     "metadata": {},
     "output_type": "display_data"
    }
   ],
   "source": [
    "df_raw <- data.frame( var1 = c(1,2,1), var2 = c(2,3,2) )\n",
    "df_raw \n",
    "df_new <- df_raw\n",
    "df_new <- rename(df_new, v2 = var2) # var2를 v2로 수정\n",
    "df_new"
   ]
  },
  {
   "cell_type": "code",
   "execution_count": null,
   "metadata": {},
   "outputs": [],
   "source": []
  }
 ],
 "metadata": {
  "kernelspec": {
   "display_name": "R",
   "language": "R",
   "name": "ir"
  },
  "language_info": {
   "codemirror_mode": "r",
   "file_extension": ".r",
   "mimetype": "text/x-r-source",
   "name": "R",
   "pygments_lexer": "r",
   "version": "3.6.1"
  }
 },
 "nbformat": 4,
 "nbformat_minor": 2
}
