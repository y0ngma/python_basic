{
 "cells": [
  {
   "cell_type": "code",
   "execution_count": 1,
   "metadata": {},
   "outputs": [
    {
     "name": "stderr",
     "output_type": "stream",
     "text": [
      "Installing package into 'C:/Users/admin/Documents/R/win-library/3.6'\n",
      "(as 'lib' is unspecified)\n"
     ]
    },
    {
     "name": "stdout",
     "output_type": "stream",
     "text": [
      "package 'rvest' successfully unpacked and MD5 sums checked\n",
      "\n",
      "The downloaded binary packages are in\n",
      "\tC:\\Users\\admin\\AppData\\Local\\Temp\\Rtmp2rLwpC\\downloaded_packages\n"
     ]
    }
   ],
   "source": [
    " ########네이트 뉴스를 수집하고 뉴스에서 탑키워드를 추출하는 코드입니다.\n",
    "install.packages(\"rvest\")"
   ]
  },
  {
   "cell_type": "code",
   "execution_count": 2,
   "metadata": {},
   "outputs": [
    {
     "name": "stderr",
     "output_type": "stream",
     "text": [
      "Warning message:\n",
      "\"package 'stringr' was built under R version 3.6.3\"Warning message:\n",
      "\"package 'rvest' was built under R version 3.6.3\"Loading required package: xml2\n",
      "Warning message:\n",
      "\"package 'xml2' was built under R version 3.6.3\""
     ]
    }
   ],
   "source": [
    "library(stringr)\n",
    "library(rvest)"
   ]
  },
  {
   "cell_type": "code",
   "execution_count": 3,
   "metadata": {},
   "outputs": [],
   "source": [
    "# 사용할 변수 선언\n",
    "x<-0\n",
    "dadate<-as.Date(Sys.time())-x  ## 현재날짜\n",
    "dadate2<-gsub(\"-\",\"\",dadate)\n"
   ]
  },
  {
   "cell_type": "code",
   "execution_count": 4,
   "metadata": {},
   "outputs": [],
   "source": [
    "final_data<-NULL ## 최종적으로 들어갈 Dataframe선언, 제목과 URL만 가져옴"
   ]
  },
  {
   "cell_type": "code",
   "execution_count": 5,
   "metadata": {},
   "outputs": [],
   "source": [
    "day_url<-NULL\n",
    "day_title<-NULL"
   ]
  },
  {
   "cell_type": "code",
   "execution_count": 6,
   "metadata": {},
   "outputs": [
    {
     "data": {
      "text/html": [
       "'http://news.nate.com/recent?cate=pol&amp;mid=n0201&amp;type=c&amp;date=20200409&amp;page=1'"
      ],
      "text/latex": [
       "'http://news.nate.com/recent?cate=pol\\&mid=n0201\\&type=c\\&date=20200409\\&page=1'"
      ],
      "text/markdown": [
       "'http://news.nate.com/recent?cate=pol&amp;mid=n0201&amp;type=c&amp;date=20200409&amp;page=1'"
      ],
      "text/plain": [
       "[1] \"http://news.nate.com/recent?cate=pol&mid=n0201&type=c&date=20200409&page=1\""
      ]
     },
     "metadata": {},
     "output_type": "display_data"
    }
   ],
   "source": [
    "## url지정\n",
    "i<-1\n",
    "url<-paste0(\"http://news.nate.com/recent?cate=pol&mid=n0201&type=c&date=\",dadate2,\"&page=\",i) \n",
    "url"
   ]
  },
  {
   "cell_type": "code",
   "execution_count": 7,
   "metadata": {},
   "outputs": [
    {
     "name": "stderr",
     "output_type": "stream",
     "text": [
      "Warning message in readLines(url, encoding = \"UTF-8\"):\n",
      "\"'http://news.nate.com/recent?cate=pol&mid=n0201&type=c&date=20200409&page=1'에서 불완전한 마지막 행이 발견되었습니다\"ERROR while rich displaying an object: Error in gsub(chr, html_specials[[chr]], text, fixed = TRUE): input string 7 is invalid UTF-8\n",
      "\n",
      "Traceback:\n",
      "1. FUN(X[[i]], ...)\n",
      "2. tryCatch(withCallingHandlers({\n",
      " .     if (!mime %in% names(repr::mime2repr)) \n",
      " .         stop(\"No repr_* for mimetype \", mime, \" in repr::mime2repr\")\n",
      " .     rpr <- repr::mime2repr[[mime]](obj)\n",
      " .     if (is.null(rpr)) \n",
      " .         return(NULL)\n",
      " .     prepare_content(is.raw(rpr), rpr)\n",
      " . }, error = error_handler), error = outer_handler)\n",
      "3. tryCatchList(expr, classes, parentenv, handlers)\n",
      "4. tryCatchOne(expr, names, parentenv, handlers[[1L]])\n",
      "5. doTryCatch(return(expr), name, parentenv, handler)\n",
      "6. withCallingHandlers({\n",
      " .     if (!mime %in% names(repr::mime2repr)) \n",
      " .         stop(\"No repr_* for mimetype \", mime, \" in repr::mime2repr\")\n",
      " .     rpr <- repr::mime2repr[[mime]](obj)\n",
      " .     if (is.null(rpr)) \n",
      " .         return(NULL)\n",
      " .     prepare_content(is.raw(rpr), rpr)\n",
      " . }, error = error_handler)\n",
      "7. repr::mime2repr[[mime]](obj)\n",
      "8. repr_html.character(obj)\n",
      "9. repr_html_wrapper(obj, NULL, ...)\n",
      "10. repr_vector_generic(obj, \"\\t<li>%s</li>\\n\", \"\\t<dt>%s</dt>\\n\\t\\t<dd>%s</dd>\\n\", \n",
      "  .     \"<strong>%s:</strong> %s\", \"<ol class=list-inline>\\n%s</ol>\\n\", \n",
      "  .     \"<dl class=dl-horizontal>\\n%s</dl>\\n\", escape_fun = html_escape, \n",
      "  .     individual_wrap = individual_wrap)\n",
      "11. escape_fun(encodeString(as.character(vec), quote = if (qt) \"'\" else \"\"))\n",
      "12. gsub(chr, html_specials[[chr]], text, fixed = TRUE)\n",
      "ERROR while rich displaying an object: Error in gsub(chr, html_specials[[chr]], text, fixed = TRUE): input string 7 is invalid UTF-8\n",
      "\n",
      "Traceback:\n",
      "1. FUN(X[[i]], ...)\n",
      "2. tryCatch(withCallingHandlers({\n",
      " .     if (!mime %in% names(repr::mime2repr)) \n",
      " .         stop(\"No repr_* for mimetype \", mime, \" in repr::mime2repr\")\n",
      " .     rpr <- repr::mime2repr[[mime]](obj)\n",
      " .     if (is.null(rpr)) \n",
      " .         return(NULL)\n",
      " .     prepare_content(is.raw(rpr), rpr)\n",
      " . }, error = error_handler), error = outer_handler)\n",
      "3. tryCatchList(expr, classes, parentenv, handlers)\n",
      "4. tryCatchOne(expr, names, parentenv, handlers[[1L]])\n",
      "5. doTryCatch(return(expr), name, parentenv, handler)\n",
      "6. withCallingHandlers({\n",
      " .     if (!mime %in% names(repr::mime2repr)) \n",
      " .         stop(\"No repr_* for mimetype \", mime, \" in repr::mime2repr\")\n",
      " .     rpr <- repr::mime2repr[[mime]](obj)\n",
      " .     if (is.null(rpr)) \n",
      " .         return(NULL)\n",
      " .     prepare_content(is.raw(rpr), rpr)\n",
      " . }, error = error_handler)\n",
      "7. repr::mime2repr[[mime]](obj)\n",
      "8. repr_markdown.character(obj)\n",
      "9. repr_vector_generic(html_escape_names(obj), \"%s. %s\\n\", \"%s\\n:   %s\", \n",
      " .     \"**%s:** %s\", \"%s\\n\\n\", item_uses_numbers = TRUE, escape_fun = html_escape)\n",
      "10. escape_fun(encodeString(as.character(vec), quote = if (qt) \"'\" else \"\"))\n",
      "11. gsub(chr, html_specials[[chr]], text, fixed = TRUE)\n",
      "ERROR while rich displaying an object: Error in gsub(chr, latex_specials[[chr]], text, fixed = TRUE): input string 7 is invalid UTF-8\n",
      "\n",
      "Traceback:\n",
      "1. FUN(X[[i]], ...)\n",
      "2. tryCatch(withCallingHandlers({\n",
      " .     if (!mime %in% names(repr::mime2repr)) \n",
      " .         stop(\"No repr_* for mimetype \", mime, \" in repr::mime2repr\")\n",
      " .     rpr <- repr::mime2repr[[mime]](obj)\n",
      " .     if (is.null(rpr)) \n",
      " .         return(NULL)\n",
      " .     prepare_content(is.raw(rpr), rpr)\n",
      " . }, error = error_handler), error = outer_handler)\n",
      "3. tryCatchList(expr, classes, parentenv, handlers)\n",
      "4. tryCatchOne(expr, names, parentenv, handlers[[1L]])\n",
      "5. doTryCatch(return(expr), name, parentenv, handler)\n",
      "6. withCallingHandlers({\n",
      " .     if (!mime %in% names(repr::mime2repr)) \n",
      " .         stop(\"No repr_* for mimetype \", mime, \" in repr::mime2repr\")\n",
      " .     rpr <- repr::mime2repr[[mime]](obj)\n",
      " .     if (is.null(rpr)) \n",
      " .         return(NULL)\n",
      " .     prepare_content(is.raw(rpr), rpr)\n",
      " . }, error = error_handler)\n",
      "7. repr::mime2repr[[mime]](obj)\n",
      "8. repr_latex.character(obj)\n",
      "9. repr_vector_generic(latex_escape_names(obj), \"\\\\item %s\\n\", \"\\\\item[%s] %s\\n\", \n",
      " .     \"\\\\textbf{%s:} %s\", enum_wrap = \"\\\\begin{enumerate*}\\n%s\\\\end{enumerate*}\\n\", \n",
      " .     named_wrap = \"\\\\begin{description*}\\n%s\\\\end{description*}\\n\", \n",
      " .     only_named_item = \"\\\\textbf{%s:} %s\", escape_fun = latex_escape)\n",
      "10. escape_fun(encodeString(as.character(vec), quote = if (qt) \"'\" else \"\"))\n",
      "11. gsub(chr, latex_specials[[chr]], text, fixed = TRUE)\n"
     ]
    },
    {
     "data": {
      "text/plain": [
       " [1] \"<!DOCTYPE html PUBLIC \\\"-//W3C//DTD XHTML 1.0 Transitional//EN\\\" \\\"http://www.w3.org/TR/xhtml1/DTD/xhtml1-transitional.dtd\\\">\"    \n",
       " [2] \"<html xmlns=\\\"http://www.w3.org/1999/xhtml\\\" xml:lang=\\\"ko\\\" lang=\\\"ko\\\">\"                                                        \n",
       " [3] \"    \\t<head>\"                                                                                                                     \n",
       " [4] \"\\t<meta name=\\\"google-site-verification\\\" content=\\\"0j2FtyOhSMPTuQTUR5RA87AdwZ53VEe_ULUkay3WnB8\\\" />\"                             \n",
       " [5] \"    <meta http-equiv=\\\"Content-Type\\\" content=\\\"text/html; charset=euc-kr\\\" />\"                                                   \n",
       " [6] \"\\t<meta http-equiv=\\\"X-UA-Compatible\\\" content=\\\"IE=edge,chrome=1\\\" />    <meta id=\\\"viewport\\\" name=\\\"viewport\\\" content=\\\"\\\" />\"\n",
       " [7] \"\\t<meta http-equiv=\\\"Refresh\\\" content=\\\"300\\\" />\\t    <title><c3><U+05BD><U+0174><U+00BA><U+00BD><U+00BA> - <U+0064><U+0121> : <U+00B3><d7><c0><cc><U+01AE> <U+00B4><U+00BA><U+00BD><U+00BA></title>\"\n",
       " [8] \"\\t<link rel=\\\"shortcut icon\\\" href=\\\"//news.nate.com/icon/favicon.ico\\\" />\"                                                       \n",
       " [9] \"\\t<link rel=\\\"apple-touch-icon-precomposed\\\" href=\\\"//nimg.nate.com/ui/uidev/images/mnews/common/nate_news_114.png\\\" />\"          \n",
       "[10] \"    <link rel=\\\"stylesheet\\\" type=\\\"text/css\\\" href=\\\"//nimg.nate.com/ui/uidev/pc/release/css/sisa/snb.css?202003301733\\\" />\"     "
      ]
     },
     "metadata": {},
     "output_type": "display_data"
    }
   ],
   "source": [
    "b<-readLines(url, encoding = \"UTF-8\")\n",
    "head(b, 10)"
   ]
  },
  {
   "cell_type": "code",
   "execution_count": 8,
   "metadata": {},
   "outputs": [
    {
     "name": "stderr",
     "output_type": "stream",
     "text": [
      "Best guess: EUC-KR (100% confident)\n"
     ]
    },
    {
     "data": {
      "text/html": [
       "<ol class=list-inline>\n",
       "\t<li>'&lt;!DOCTYPE html PUBLIC \"-//W3C//DTD XHTML 1.0 Transitional//EN\" \"http://www.w3.org/TR/xhtml1/DTD/xhtml1-transitional.dtd\"&gt;'</li>\n",
       "\t<li>'&lt;html xmlns=\"http://www.w3.org/1999/xhtml\" xml:lang=\"ko\" lang=\"ko\"&gt;'</li>\n",
       "\t<li><span style=white-space:pre-wrap>'    \\t&lt;head&gt;'</span></li>\n",
       "\t<li>'\\t&lt;meta name=\"google-site-verification\" content=\"0j2FtyOhSMPTuQTUR5RA87AdwZ53VEe_ULUkay3WnB8\" /&gt;'</li>\n",
       "\t<li><span style=white-space:pre-wrap>'    &lt;meta http-equiv=\"Content-Type\" content=\"text/html; charset=euc-kr\" /&gt;'</span></li>\n",
       "\t<li><span style=white-space:pre-wrap>'\\t&lt;meta http-equiv=\"X-UA-Compatible\" content=\"IE=edge,chrome=1\" /&gt;    &lt;meta id=\"viewport\" name=\"viewport\" content=\"\" /&gt;'</span></li>\n",
       "\t<li><span style=white-space:pre-wrap>'\\t&lt;meta http-equiv=\"Refresh\" content=\"300\" /&gt;\\t    &lt;title&gt;최신뉴스 - 정치 : 네이트 뉴스&lt;/title&gt;'</span></li>\n",
       "\t<li>'\\t&lt;link rel=\"shortcut icon\" href=\"//news.nate.com/icon/favicon.ico\" /&gt;'</li>\n",
       "\t<li>'\\t&lt;link rel=\"apple-touch-icon-precomposed\" href=\"//nimg.nate.com/ui/uidev/images/mnews/common/nate_news_114.png\" /&gt;'</li>\n",
       "\t<li><span style=white-space:pre-wrap>'    &lt;link rel=\"stylesheet\" type=\"text/css\" href=\"//nimg.nate.com/ui/uidev/pc/release/css/sisa/snb.css?202003301733\" /&gt;'</span></li>\n",
       "</ol>\n"
      ],
      "text/latex": [
       "\\begin{enumerate*}\n",
       "\\item '<!DOCTYPE html PUBLIC \"-//W3C//DTD XHTML 1.0 Transitional//EN\" \"http://www.w3.org/TR/xhtml1/DTD/xhtml1-transitional.dtd\">'\n",
       "\\item '<html xmlns=\"http://www.w3.org/1999/xhtml\" xml:lang=\"ko\" lang=\"ko\">'\n",
       "\\item '    \\textbackslash{}t<head>'\n",
       "\\item '\\textbackslash{}t<meta name=\"google-site-verification\" content=\"0j2FtyOhSMPTuQTUR5RA87AdwZ53VEe\\_ULUkay3WnB8\" />'\n",
       "\\item '    <meta http-equiv=\"Content-Type\" content=\"text/html; charset=euc-kr\" />'\n",
       "\\item '\\textbackslash{}t<meta http-equiv=\"X-UA-Compatible\" content=\"IE=edge,chrome=1\" />    <meta id=\"viewport\" name=\"viewport\" content=\"\" />'\n",
       "\\item '\\textbackslash{}t<meta http-equiv=\"Refresh\" content=\"300\" />\\textbackslash{}t    <title>최신뉴스 - 정치 : 네이트 뉴스</title>'\n",
       "\\item '\\textbackslash{}t<link rel=\"shortcut icon\" href=\"//news.nate.com/icon/favicon.ico\" />'\n",
       "\\item '\\textbackslash{}t<link rel=\"apple-touch-icon-precomposed\" href=\"//nimg.nate.com/ui/uidev/images/mnews/common/nate\\_news\\_114.png\" />'\n",
       "\\item '    <link rel=\"stylesheet\" type=\"text/css\" href=\"//nimg.nate.com/ui/uidev/pc/release/css/sisa/snb.css?202003301733\" />'\n",
       "\\end{enumerate*}\n"
      ],
      "text/markdown": [
       "1. '&lt;!DOCTYPE html PUBLIC \"-//W3C//DTD XHTML 1.0 Transitional//EN\" \"http://www.w3.org/TR/xhtml1/DTD/xhtml1-transitional.dtd\"&gt;'\n",
       "2. '&lt;html xmlns=\"http://www.w3.org/1999/xhtml\" xml:lang=\"ko\" lang=\"ko\"&gt;'\n",
       "3. <span style=white-space:pre-wrap>'    \\t&lt;head&gt;'</span>\n",
       "4. '\\t&lt;meta name=\"google-site-verification\" content=\"0j2FtyOhSMPTuQTUR5RA87AdwZ53VEe_ULUkay3WnB8\" /&gt;'\n",
       "5. <span style=white-space:pre-wrap>'    &lt;meta http-equiv=\"Content-Type\" content=\"text/html; charset=euc-kr\" /&gt;'</span>\n",
       "6. <span style=white-space:pre-wrap>'\\t&lt;meta http-equiv=\"X-UA-Compatible\" content=\"IE=edge,chrome=1\" /&gt;    &lt;meta id=\"viewport\" name=\"viewport\" content=\"\" /&gt;'</span>\n",
       "7. <span style=white-space:pre-wrap>'\\t&lt;meta http-equiv=\"Refresh\" content=\"300\" /&gt;\\t    &lt;title&gt;최신뉴스 - 정치 : 네이트 뉴스&lt;/title&gt;'</span>\n",
       "8. '\\t&lt;link rel=\"shortcut icon\" href=\"//news.nate.com/icon/favicon.ico\" /&gt;'\n",
       "9. '\\t&lt;link rel=\"apple-touch-icon-precomposed\" href=\"//nimg.nate.com/ui/uidev/images/mnews/common/nate_news_114.png\" /&gt;'\n",
       "10. <span style=white-space:pre-wrap>'    &lt;link rel=\"stylesheet\" type=\"text/css\" href=\"//nimg.nate.com/ui/uidev/pc/release/css/sisa/snb.css?202003301733\" /&gt;'</span>\n",
       "\n",
       "\n"
      ],
      "text/plain": [
       " [1] \"<!DOCTYPE html PUBLIC \\\"-//W3C//DTD XHTML 1.0 Transitional//EN\\\" \\\"http://www.w3.org/TR/xhtml1/DTD/xhtml1-transitional.dtd\\\">\"    \n",
       " [2] \"<html xmlns=\\\"http://www.w3.org/1999/xhtml\\\" xml:lang=\\\"ko\\\" lang=\\\"ko\\\">\"                                                        \n",
       " [3] \"    \\t<head>\"                                                                                                                     \n",
       " [4] \"\\t<meta name=\\\"google-site-verification\\\" content=\\\"0j2FtyOhSMPTuQTUR5RA87AdwZ53VEe_ULUkay3WnB8\\\" />\"                             \n",
       " [5] \"    <meta http-equiv=\\\"Content-Type\\\" content=\\\"text/html; charset=euc-kr\\\" />\"                                                   \n",
       " [6] \"\\t<meta http-equiv=\\\"X-UA-Compatible\\\" content=\\\"IE=edge,chrome=1\\\" />    <meta id=\\\"viewport\\\" name=\\\"viewport\\\" content=\\\"\\\" />\"\n",
       " [7] \"\\t<meta http-equiv=\\\"Refresh\\\" content=\\\"300\\\" />\\t    <title>최신뉴스 - 정치 : 네이트 뉴스</title>\"                              \n",
       " [8] \"\\t<link rel=\\\"shortcut icon\\\" href=\\\"//news.nate.com/icon/favicon.ico\\\" />\"                                                       \n",
       " [9] \"\\t<link rel=\\\"apple-touch-icon-precomposed\\\" href=\\\"//nimg.nate.com/ui/uidev/images/mnews/common/nate_news_114.png\\\" />\"          \n",
       "[10] \"    <link rel=\\\"stylesheet\\\" type=\\\"text/css\\\" href=\\\"//nimg.nate.com/ui/uidev/pc/release/css/sisa/snb.css?202003301733\\\" />\"     "
      ]
     },
     "metadata": {},
     "output_type": "display_data"
    }
   ],
   "source": [
    "# 인코딩 수정\n",
    "bb<-repair_encoding(b)\n",
    "head(bb, 10)"
   ]
  },
  {
   "cell_type": "code",
   "execution_count": 9,
   "metadata": {},
   "outputs": [
    {
     "name": "stderr",
     "output_type": "stream",
     "text": [
      "Best guess: EUC-KR (100% confident)\n"
     ]
    },
    {
     "data": {
      "text/html": [
       "<ol class=list-inline>\n",
       "\t<li>'\\t\\t\\t\\t\\t\\t\\t\\t\\t\\t&lt;strong class=\"tit\"&gt;[포토] 정의당·녹색당·미래당 \\'그린뉴딜로 경제사회 대전환\\'&lt;/strong&gt;'</li>\n",
       "\t<li>'\\t\\t\\t\\t\\t\\t\\t\\t\\t\\t&lt;strong class=\"tit\"&gt;[포토] 손 맞잡은 정의당·녹색당·미래당 대표&lt;/strong&gt;'</li>\n",
       "\t<li>'\\t\\t\\t\\t\\t\\t\\t\\t\\t\\t&lt;strong class=\"tit\"&gt;[포토] 유자즙 먹는 이낙연&lt;/strong&gt;'</li>\n",
       "\t<li>'\\t\\t\\t\\t\\t\\t\\t\\t\\t\\t&lt;strong class=\"tit\"&gt;감찰 막은 윤석열에…황희석 \"최측근 손대지 말라는 뜻\"&lt;/strong&gt;'</li>\n",
       "\t<li>'\\t\\t\\t\\t\\t\\t\\t\\t\\t\\t&lt;strong class=\"tit\"&gt;미래통합당 광주 후보 \"文대통령, 시진핑의 총독인가\"&lt;/strong&gt;'</li>\n",
       "\t<li>'\\t\\t\\t\\t\\t\\t\\t\\t\\t\\t&lt;strong class=\"tit\"&gt;\"곧 터진다\" 여권서 연일 나오는 음모론의 정체&lt;/strong&gt;'</li>\n",
       "\t<li>'\\t\\t\\t\\t\\t\\t\\t\\t\\t\\t&lt;strong class=\"tit\"&gt;[포토] 동묘역 인근 유세하는 이낙연&lt;/strong&gt;'</li>\n",
       "\t<li>'\\t\\t\\t\\t\\t\\t\\t\\t\\t\\t&lt;strong class=\"tit\"&gt;[포토] 유세하는 이낙연 후보&lt;/strong&gt;'</li>\n",
       "\t<li>'\\t\\t\\t\\t\\t\\t\\t\\t\\t\\t&lt;strong class=\"tit\"&gt;[포토] 이낙연 \\'기호 1번 부탁드립니다\\'&lt;/strong&gt;'</li>\n",
       "\t<li>'\\t\\t\\t\\t\\t\\t\\t\\t\\t\\t&lt;strong class=\"tit\"&gt;[경향포토] 정의당, 녹색당, 미래당 공동 정책 추진&lt;/strong&gt;'</li>\n",
       "\t<li>'\\t\\t\\t\\t\\t\\t\\t\\t\\t\\t&lt;strong class=\"tit\"&gt;정부 \"나흘 연속 신규확진 50명 내외지만 위험요인은 여전\"(종합)&lt;/strong&gt;'</li>\n",
       "\t<li>'\\t\\t\\t\\t\\t\\t\\t\\t\\t\\t&lt;strong class=\"tit\"&gt;[포토] 마스크 벗는 이낙연&lt;/strong&gt;'</li>\n",
       "\t<li>'\\t\\t\\t\\t\\t\\t\\t\\t\\t\\t&lt;strong class=\"tit\"&gt;[포토] 이낙연 \\'지지 호소\\'&lt;/strong&gt;'</li>\n",
       "\t<li>'\\t\\t\\t\\t\\t\\t\\t\\t\\t\\t&lt;strong class=\"tit\"&gt;[포토] 이낙연, 동묘역 인근 유세&lt;/strong&gt;'</li>\n",
       "\t<li>'\\t\\t\\t\\t\\t\\t\\t\\t\\t\\t&lt;strong class=\"tit\"&gt;415총선 중랑구 후보 지원유세 나선 김종인&lt;/strong&gt;'</li>\n",
       "\t<li>'\\t\\t\\t\\t\\t\\t\\t\\t\\t\\t&lt;strong class=\"tit\"&gt;김종인 위원장과 손 잡은 김삼화·윤상일 중랑구 후보&lt;/strong&gt;'</li>\n",
       "\t<li>'\\t\\t\\t\\t\\t\\t\\t\\t\\t\\t&lt;strong class=\"tit\"&gt;[포토] 주민과 인사 나누는 이낙연 후보&lt;/strong&gt;'</li>\n",
       "\t<li>'\\t\\t\\t\\t\\t\\t\\t\\t\\t\\t&lt;strong class=\"tit\"&gt;[포토]유자즙 마시는 이낙연 후보&lt;/strong&gt;'</li>\n",
       "\t<li>'\\t\\t\\t\\t\\t\\t\\t\\t\\t\\t&lt;strong class=\"tit\"&gt;[포토]이낙연 후보, \\'유자즙 맛있네요!\\'&lt;/strong&gt;'</li>\n",
       "\t<li>'\\t\\t\\t\\t\\t\\t\\t\\t\\t\\t&lt;strong class=\"tit\"&gt;[포토]이낙연 종로구 후보, \\'유자즙 맛있네요!\\'&lt;/strong&gt;'</li>\n",
       "\t<li>'\\t\\t\\t\\t&lt;strong class=\"tit\"&gt;사회적 거리두기, 개인 관심 줄어…SNS 정보량 급감&lt;/strong&gt;'</li>\n",
       "\t<li>'\\t\\t\\t\\t&lt;strong class=\"tit\"&gt;美 한인의사 \"코로나 의심 교민, 병원가기 두려워요…왜?\"&lt;/strong&gt;'</li>\n",
       "</ol>\n"
      ],
      "text/latex": [
       "\\begin{enumerate*}\n",
       "\\item '\\textbackslash{}t\\textbackslash{}t\\textbackslash{}t\\textbackslash{}t\\textbackslash{}t\\textbackslash{}t\\textbackslash{}t\\textbackslash{}t\\textbackslash{}t\\textbackslash{}t<strong class=\"tit\">{[}포토{]} 정의당·녹색당·미래당 \\textbackslash{}'그린뉴딜로 경제사회 대전환\\textbackslash{}'</strong>'\n",
       "\\item '\\textbackslash{}t\\textbackslash{}t\\textbackslash{}t\\textbackslash{}t\\textbackslash{}t\\textbackslash{}t\\textbackslash{}t\\textbackslash{}t\\textbackslash{}t\\textbackslash{}t<strong class=\"tit\">{[}포토{]} 손 맞잡은 정의당·녹색당·미래당 대표</strong>'\n",
       "\\item '\\textbackslash{}t\\textbackslash{}t\\textbackslash{}t\\textbackslash{}t\\textbackslash{}t\\textbackslash{}t\\textbackslash{}t\\textbackslash{}t\\textbackslash{}t\\textbackslash{}t<strong class=\"tit\">{[}포토{]} 유자즙 먹는 이낙연</strong>'\n",
       "\\item '\\textbackslash{}t\\textbackslash{}t\\textbackslash{}t\\textbackslash{}t\\textbackslash{}t\\textbackslash{}t\\textbackslash{}t\\textbackslash{}t\\textbackslash{}t\\textbackslash{}t<strong class=\"tit\">감찰 막은 윤석열에…황희석 \"최측근 손대지 말라는 뜻\"</strong>'\n",
       "\\item '\\textbackslash{}t\\textbackslash{}t\\textbackslash{}t\\textbackslash{}t\\textbackslash{}t\\textbackslash{}t\\textbackslash{}t\\textbackslash{}t\\textbackslash{}t\\textbackslash{}t<strong class=\"tit\">미래통합당 광주 후보 \"文대통령, 시진핑의 총독인가\"</strong>'\n",
       "\\item '\\textbackslash{}t\\textbackslash{}t\\textbackslash{}t\\textbackslash{}t\\textbackslash{}t\\textbackslash{}t\\textbackslash{}t\\textbackslash{}t\\textbackslash{}t\\textbackslash{}t<strong class=\"tit\">\"곧 터진다\" 여권서 연일 나오는 음모론의 정체</strong>'\n",
       "\\item '\\textbackslash{}t\\textbackslash{}t\\textbackslash{}t\\textbackslash{}t\\textbackslash{}t\\textbackslash{}t\\textbackslash{}t\\textbackslash{}t\\textbackslash{}t\\textbackslash{}t<strong class=\"tit\">{[}포토{]} 동묘역 인근 유세하는 이낙연</strong>'\n",
       "\\item '\\textbackslash{}t\\textbackslash{}t\\textbackslash{}t\\textbackslash{}t\\textbackslash{}t\\textbackslash{}t\\textbackslash{}t\\textbackslash{}t\\textbackslash{}t\\textbackslash{}t<strong class=\"tit\">{[}포토{]} 유세하는 이낙연 후보</strong>'\n",
       "\\item '\\textbackslash{}t\\textbackslash{}t\\textbackslash{}t\\textbackslash{}t\\textbackslash{}t\\textbackslash{}t\\textbackslash{}t\\textbackslash{}t\\textbackslash{}t\\textbackslash{}t<strong class=\"tit\">{[}포토{]} 이낙연 \\textbackslash{}'기호 1번 부탁드립니다\\textbackslash{}'</strong>'\n",
       "\\item '\\textbackslash{}t\\textbackslash{}t\\textbackslash{}t\\textbackslash{}t\\textbackslash{}t\\textbackslash{}t\\textbackslash{}t\\textbackslash{}t\\textbackslash{}t\\textbackslash{}t<strong class=\"tit\">{[}경향포토{]} 정의당, 녹색당, 미래당 공동 정책 추진</strong>'\n",
       "\\item '\\textbackslash{}t\\textbackslash{}t\\textbackslash{}t\\textbackslash{}t\\textbackslash{}t\\textbackslash{}t\\textbackslash{}t\\textbackslash{}t\\textbackslash{}t\\textbackslash{}t<strong class=\"tit\">정부 \"나흘 연속 신규확진 50명 내외지만 위험요인은 여전\"(종합)</strong>'\n",
       "\\item '\\textbackslash{}t\\textbackslash{}t\\textbackslash{}t\\textbackslash{}t\\textbackslash{}t\\textbackslash{}t\\textbackslash{}t\\textbackslash{}t\\textbackslash{}t\\textbackslash{}t<strong class=\"tit\">{[}포토{]} 마스크 벗는 이낙연</strong>'\n",
       "\\item '\\textbackslash{}t\\textbackslash{}t\\textbackslash{}t\\textbackslash{}t\\textbackslash{}t\\textbackslash{}t\\textbackslash{}t\\textbackslash{}t\\textbackslash{}t\\textbackslash{}t<strong class=\"tit\">{[}포토{]} 이낙연 \\textbackslash{}'지지 호소\\textbackslash{}'</strong>'\n",
       "\\item '\\textbackslash{}t\\textbackslash{}t\\textbackslash{}t\\textbackslash{}t\\textbackslash{}t\\textbackslash{}t\\textbackslash{}t\\textbackslash{}t\\textbackslash{}t\\textbackslash{}t<strong class=\"tit\">{[}포토{]} 이낙연, 동묘역 인근 유세</strong>'\n",
       "\\item '\\textbackslash{}t\\textbackslash{}t\\textbackslash{}t\\textbackslash{}t\\textbackslash{}t\\textbackslash{}t\\textbackslash{}t\\textbackslash{}t\\textbackslash{}t\\textbackslash{}t<strong class=\"tit\">415총선 중랑구 후보 지원유세 나선 김종인</strong>'\n",
       "\\item '\\textbackslash{}t\\textbackslash{}t\\textbackslash{}t\\textbackslash{}t\\textbackslash{}t\\textbackslash{}t\\textbackslash{}t\\textbackslash{}t\\textbackslash{}t\\textbackslash{}t<strong class=\"tit\">김종인 위원장과 손 잡은 김삼화·윤상일 중랑구 후보</strong>'\n",
       "\\item '\\textbackslash{}t\\textbackslash{}t\\textbackslash{}t\\textbackslash{}t\\textbackslash{}t\\textbackslash{}t\\textbackslash{}t\\textbackslash{}t\\textbackslash{}t\\textbackslash{}t<strong class=\"tit\">{[}포토{]} 주민과 인사 나누는 이낙연 후보</strong>'\n",
       "\\item '\\textbackslash{}t\\textbackslash{}t\\textbackslash{}t\\textbackslash{}t\\textbackslash{}t\\textbackslash{}t\\textbackslash{}t\\textbackslash{}t\\textbackslash{}t\\textbackslash{}t<strong class=\"tit\">{[}포토{]}유자즙 마시는 이낙연 후보</strong>'\n",
       "\\item '\\textbackslash{}t\\textbackslash{}t\\textbackslash{}t\\textbackslash{}t\\textbackslash{}t\\textbackslash{}t\\textbackslash{}t\\textbackslash{}t\\textbackslash{}t\\textbackslash{}t<strong class=\"tit\">{[}포토{]}이낙연 후보, \\textbackslash{}'유자즙 맛있네요!\\textbackslash{}'</strong>'\n",
       "\\item '\\textbackslash{}t\\textbackslash{}t\\textbackslash{}t\\textbackslash{}t\\textbackslash{}t\\textbackslash{}t\\textbackslash{}t\\textbackslash{}t\\textbackslash{}t\\textbackslash{}t<strong class=\"tit\">{[}포토{]}이낙연 종로구 후보, \\textbackslash{}'유자즙 맛있네요!\\textbackslash{}'</strong>'\n",
       "\\item '\\textbackslash{}t\\textbackslash{}t\\textbackslash{}t\\textbackslash{}t<strong class=\"tit\">사회적 거리두기, 개인 관심 줄어…SNS 정보량 급감</strong>'\n",
       "\\item '\\textbackslash{}t\\textbackslash{}t\\textbackslash{}t\\textbackslash{}t<strong class=\"tit\">美 한인의사 \"코로나 의심 교민, 병원가기 두려워요…왜?\"</strong>'\n",
       "\\end{enumerate*}\n"
      ],
      "text/markdown": [
       "1. '\\t\\t\\t\\t\\t\\t\\t\\t\\t\\t&lt;strong class=\"tit\"&gt;[포토] 정의당·녹색당·미래당 \\'그린뉴딜로 경제사회 대전환\\'&lt;/strong&gt;'\n",
       "2. '\\t\\t\\t\\t\\t\\t\\t\\t\\t\\t&lt;strong class=\"tit\"&gt;[포토] 손 맞잡은 정의당·녹색당·미래당 대표&lt;/strong&gt;'\n",
       "3. '\\t\\t\\t\\t\\t\\t\\t\\t\\t\\t&lt;strong class=\"tit\"&gt;[포토] 유자즙 먹는 이낙연&lt;/strong&gt;'\n",
       "4. '\\t\\t\\t\\t\\t\\t\\t\\t\\t\\t&lt;strong class=\"tit\"&gt;감찰 막은 윤석열에…황희석 \"최측근 손대지 말라는 뜻\"&lt;/strong&gt;'\n",
       "5. '\\t\\t\\t\\t\\t\\t\\t\\t\\t\\t&lt;strong class=\"tit\"&gt;미래통합당 광주 후보 \"文대통령, 시진핑의 총독인가\"&lt;/strong&gt;'\n",
       "6. '\\t\\t\\t\\t\\t\\t\\t\\t\\t\\t&lt;strong class=\"tit\"&gt;\"곧 터진다\" 여권서 연일 나오는 음모론의 정체&lt;/strong&gt;'\n",
       "7. '\\t\\t\\t\\t\\t\\t\\t\\t\\t\\t&lt;strong class=\"tit\"&gt;[포토] 동묘역 인근 유세하는 이낙연&lt;/strong&gt;'\n",
       "8. '\\t\\t\\t\\t\\t\\t\\t\\t\\t\\t&lt;strong class=\"tit\"&gt;[포토] 유세하는 이낙연 후보&lt;/strong&gt;'\n",
       "9. '\\t\\t\\t\\t\\t\\t\\t\\t\\t\\t&lt;strong class=\"tit\"&gt;[포토] 이낙연 \\'기호 1번 부탁드립니다\\'&lt;/strong&gt;'\n",
       "10. '\\t\\t\\t\\t\\t\\t\\t\\t\\t\\t&lt;strong class=\"tit\"&gt;[경향포토] 정의당, 녹색당, 미래당 공동 정책 추진&lt;/strong&gt;'\n",
       "11. '\\t\\t\\t\\t\\t\\t\\t\\t\\t\\t&lt;strong class=\"tit\"&gt;정부 \"나흘 연속 신규확진 50명 내외지만 위험요인은 여전\"(종합)&lt;/strong&gt;'\n",
       "12. '\\t\\t\\t\\t\\t\\t\\t\\t\\t\\t&lt;strong class=\"tit\"&gt;[포토] 마스크 벗는 이낙연&lt;/strong&gt;'\n",
       "13. '\\t\\t\\t\\t\\t\\t\\t\\t\\t\\t&lt;strong class=\"tit\"&gt;[포토] 이낙연 \\'지지 호소\\'&lt;/strong&gt;'\n",
       "14. '\\t\\t\\t\\t\\t\\t\\t\\t\\t\\t&lt;strong class=\"tit\"&gt;[포토] 이낙연, 동묘역 인근 유세&lt;/strong&gt;'\n",
       "15. '\\t\\t\\t\\t\\t\\t\\t\\t\\t\\t&lt;strong class=\"tit\"&gt;415총선 중랑구 후보 지원유세 나선 김종인&lt;/strong&gt;'\n",
       "16. '\\t\\t\\t\\t\\t\\t\\t\\t\\t\\t&lt;strong class=\"tit\"&gt;김종인 위원장과 손 잡은 김삼화·윤상일 중랑구 후보&lt;/strong&gt;'\n",
       "17. '\\t\\t\\t\\t\\t\\t\\t\\t\\t\\t&lt;strong class=\"tit\"&gt;[포토] 주민과 인사 나누는 이낙연 후보&lt;/strong&gt;'\n",
       "18. '\\t\\t\\t\\t\\t\\t\\t\\t\\t\\t&lt;strong class=\"tit\"&gt;[포토]유자즙 마시는 이낙연 후보&lt;/strong&gt;'\n",
       "19. '\\t\\t\\t\\t\\t\\t\\t\\t\\t\\t&lt;strong class=\"tit\"&gt;[포토]이낙연 후보, \\'유자즙 맛있네요!\\'&lt;/strong&gt;'\n",
       "20. '\\t\\t\\t\\t\\t\\t\\t\\t\\t\\t&lt;strong class=\"tit\"&gt;[포토]이낙연 종로구 후보, \\'유자즙 맛있네요!\\'&lt;/strong&gt;'\n",
       "21. '\\t\\t\\t\\t&lt;strong class=\"tit\"&gt;사회적 거리두기, 개인 관심 줄어…SNS 정보량 급감&lt;/strong&gt;'\n",
       "22. '\\t\\t\\t\\t&lt;strong class=\"tit\"&gt;美 한인의사 \"코로나 의심 교민, 병원가기 두려워요…왜?\"&lt;/strong&gt;'\n",
       "\n",
       "\n"
      ],
      "text/plain": [
       " [1] \"\\t\\t\\t\\t\\t\\t\\t\\t\\t\\t<strong class=\\\"tit\\\">[포토] 정의당·녹색당·미래당 '그린뉴딜로 경제사회 대전환'</strong>\"     \n",
       " [2] \"\\t\\t\\t\\t\\t\\t\\t\\t\\t\\t<strong class=\\\"tit\\\">[포토] 손 맞잡은 정의당·녹색당·미래당 대표</strong>\"                   \n",
       " [3] \"\\t\\t\\t\\t\\t\\t\\t\\t\\t\\t<strong class=\\\"tit\\\">[포토] 유자즙 먹는 이낙연</strong>\"                                      \n",
       " [4] \"\\t\\t\\t\\t\\t\\t\\t\\t\\t\\t<strong class=\\\"tit\\\">감찰 막은 윤석열에…황희석 \\\"최측근 손대지 말라는 뜻\\\"</strong>\"         \n",
       " [5] \"\\t\\t\\t\\t\\t\\t\\t\\t\\t\\t<strong class=\\\"tit\\\">미래통합당 광주 후보 \\\"文대통령, 시진핑의 총독인가\\\"</strong>\"           \n",
       " [6] \"\\t\\t\\t\\t\\t\\t\\t\\t\\t\\t<strong class=\\\"tit\\\">\\\"곧 터진다\\\" 여권서 연일 나오는 음모론의 정체</strong>\"                 \n",
       " [7] \"\\t\\t\\t\\t\\t\\t\\t\\t\\t\\t<strong class=\\\"tit\\\">[포토] 동묘역 인근 유세하는 이낙연</strong>\"                             \n",
       " [8] \"\\t\\t\\t\\t\\t\\t\\t\\t\\t\\t<strong class=\\\"tit\\\">[포토] 유세하는 이낙연 후보</strong>\"                                    \n",
       " [9] \"\\t\\t\\t\\t\\t\\t\\t\\t\\t\\t<strong class=\\\"tit\\\">[포토] 이낙연 '기호 1번 부탁드립니다'</strong>\"                          \n",
       "[10] \"\\t\\t\\t\\t\\t\\t\\t\\t\\t\\t<strong class=\\\"tit\\\">[경향포토] 정의당, 녹색당, 미래당 공동 정책 추진</strong>\"               \n",
       "[11] \"\\t\\t\\t\\t\\t\\t\\t\\t\\t\\t<strong class=\\\"tit\\\">정부 \\\"나흘 연속 신규확진 50명 내외지만 위험요인은 여전\\\"(종합)</strong>\"\n",
       "[12] \"\\t\\t\\t\\t\\t\\t\\t\\t\\t\\t<strong class=\\\"tit\\\">[포토] 마스크 벗는 이낙연</strong>\"                                      \n",
       "[13] \"\\t\\t\\t\\t\\t\\t\\t\\t\\t\\t<strong class=\\\"tit\\\">[포토] 이낙연 '지지 호소'</strong>\"                                      \n",
       "[14] \"\\t\\t\\t\\t\\t\\t\\t\\t\\t\\t<strong class=\\\"tit\\\">[포토] 이낙연, 동묘역 인근 유세</strong>\"                                \n",
       "[15] \"\\t\\t\\t\\t\\t\\t\\t\\t\\t\\t<strong class=\\\"tit\\\">415총선 중랑구 후보 지원유세 나선 김종인</strong>\"                       \n",
       "[16] \"\\t\\t\\t\\t\\t\\t\\t\\t\\t\\t<strong class=\\\"tit\\\">김종인 위원장과 손 잡은 김삼화·윤상일 중랑구 후보</strong>\"             \n",
       "[17] \"\\t\\t\\t\\t\\t\\t\\t\\t\\t\\t<strong class=\\\"tit\\\">[포토] 주민과 인사 나누는 이낙연 후보</strong>\"                          \n",
       "[18] \"\\t\\t\\t\\t\\t\\t\\t\\t\\t\\t<strong class=\\\"tit\\\">[포토]유자즙 마시는 이낙연 후보</strong>\"                                \n",
       "[19] \"\\t\\t\\t\\t\\t\\t\\t\\t\\t\\t<strong class=\\\"tit\\\">[포토]이낙연 후보, '유자즙 맛있네요!'</strong>\"                          \n",
       "[20] \"\\t\\t\\t\\t\\t\\t\\t\\t\\t\\t<strong class=\\\"tit\\\">[포토]이낙연 종로구 후보, '유자즙 맛있네요!'</strong>\"                   \n",
       "[21] \"\\t\\t\\t\\t<strong class=\\\"tit\\\">사회적 거리두기, 개인 관심 줄어…SNS 정보량 급감</strong>\"                           \n",
       "[22] \"\\t\\t\\t\\t<strong class=\\\"tit\\\">美 한인의사 \\\"코로나 의심 교민, 병원가기 두려워요…왜?\\\"</strong>\"                   "
      ]
     },
     "metadata": {},
     "output_type": "display_data"
    }
   ],
   "source": [
    "# 제목 가져오기\n",
    "b2<-b[which(str_detect(b,\"strong class=\\\"tit\\\">\"))]\n",
    "b3<-repair_encoding(b2)\n",
    "b3"
   ]
  },
  {
   "cell_type": "code",
   "execution_count": 10,
   "metadata": {},
   "outputs": [
    {
     "data": {
      "text/html": [
       "<ol class=list-inline>\n",
       "\t<li>'[포토] 정의당·녹색당·미래당 \\'그린뉴딜로 경제사회 대전환\\''</li>\n",
       "\t<li>'[포토] 손 맞잡은 정의당·녹색당·미래당 대표'</li>\n",
       "\t<li>'[포토] 유자즙 먹는 이낙연'</li>\n",
       "\t<li>'감찰 막은 윤석열에…황희석 \"최측근 손대지 말라는 뜻\"'</li>\n",
       "\t<li>'미래통합당 광주 후보 \"文대통령, 시진핑의 총독인가\"'</li>\n",
       "\t<li>'\"곧 터진다\" 여권서 연일 나오는 음모론의 정체'</li>\n",
       "\t<li>'[포토] 동묘역 인근 유세하는 이낙연'</li>\n",
       "\t<li>'[포토] 유세하는 이낙연 후보'</li>\n",
       "\t<li>'[포토] 이낙연 \\'기호 1번 부탁드립니다\\''</li>\n",
       "\t<li>'[경향포토] 정의당, 녹색당, 미래당 공동 정책 추진'</li>\n",
       "\t<li>'정부 \"나흘 연속 신규확진 50명 내외지만 위험요인은 여전\"(종합)'</li>\n",
       "\t<li>'[포토] 마스크 벗는 이낙연'</li>\n",
       "\t<li>'[포토] 이낙연 \\'지지 호소\\''</li>\n",
       "\t<li>'[포토] 이낙연, 동묘역 인근 유세'</li>\n",
       "\t<li>'415총선 중랑구 후보 지원유세 나선 김종인'</li>\n",
       "\t<li>'김종인 위원장과 손 잡은 김삼화·윤상일 중랑구 후보'</li>\n",
       "\t<li>'[포토] 주민과 인사 나누는 이낙연 후보'</li>\n",
       "\t<li>'[포토]유자즙 마시는 이낙연 후보'</li>\n",
       "\t<li>'[포토]이낙연 후보, \\'유자즙 맛있네요!\\''</li>\n",
       "\t<li>'[포토]이낙연 종로구 후보, \\'유자즙 맛있네요!\\''</li>\n",
       "\t<li>'사회적 거리두기, 개인 관심 줄어…SNS 정보량 급감'</li>\n",
       "\t<li>'美 한인의사 \"코로나 의심 교민, 병원가기 두려워요…왜?\"'</li>\n",
       "</ol>\n"
      ],
      "text/latex": [
       "\\begin{enumerate*}\n",
       "\\item '{[}포토{]} 정의당·녹색당·미래당 \\textbackslash{}'그린뉴딜로 경제사회 대전환\\textbackslash{}''\n",
       "\\item '{[}포토{]} 손 맞잡은 정의당·녹색당·미래당 대표'\n",
       "\\item '{[}포토{]} 유자즙 먹는 이낙연'\n",
       "\\item '감찰 막은 윤석열에…황희석 \"최측근 손대지 말라는 뜻\"'\n",
       "\\item '미래통합당 광주 후보 \"文대통령, 시진핑의 총독인가\"'\n",
       "\\item '\"곧 터진다\" 여권서 연일 나오는 음모론의 정체'\n",
       "\\item '{[}포토{]} 동묘역 인근 유세하는 이낙연'\n",
       "\\item '{[}포토{]} 유세하는 이낙연 후보'\n",
       "\\item '{[}포토{]} 이낙연 \\textbackslash{}'기호 1번 부탁드립니다\\textbackslash{}''\n",
       "\\item '{[}경향포토{]} 정의당, 녹색당, 미래당 공동 정책 추진'\n",
       "\\item '정부 \"나흘 연속 신규확진 50명 내외지만 위험요인은 여전\"(종합)'\n",
       "\\item '{[}포토{]} 마스크 벗는 이낙연'\n",
       "\\item '{[}포토{]} 이낙연 \\textbackslash{}'지지 호소\\textbackslash{}''\n",
       "\\item '{[}포토{]} 이낙연, 동묘역 인근 유세'\n",
       "\\item '415총선 중랑구 후보 지원유세 나선 김종인'\n",
       "\\item '김종인 위원장과 손 잡은 김삼화·윤상일 중랑구 후보'\n",
       "\\item '{[}포토{]} 주민과 인사 나누는 이낙연 후보'\n",
       "\\item '{[}포토{]}유자즙 마시는 이낙연 후보'\n",
       "\\item '{[}포토{]}이낙연 후보, \\textbackslash{}'유자즙 맛있네요!\\textbackslash{}''\n",
       "\\item '{[}포토{]}이낙연 종로구 후보, \\textbackslash{}'유자즙 맛있네요!\\textbackslash{}''\n",
       "\\item '사회적 거리두기, 개인 관심 줄어…SNS 정보량 급감'\n",
       "\\item '美 한인의사 \"코로나 의심 교민, 병원가기 두려워요…왜?\"'\n",
       "\\end{enumerate*}\n"
      ],
      "text/markdown": [
       "1. '[포토] 정의당·녹색당·미래당 \\'그린뉴딜로 경제사회 대전환\\''\n",
       "2. '[포토] 손 맞잡은 정의당·녹색당·미래당 대표'\n",
       "3. '[포토] 유자즙 먹는 이낙연'\n",
       "4. '감찰 막은 윤석열에…황희석 \"최측근 손대지 말라는 뜻\"'\n",
       "5. '미래통합당 광주 후보 \"文대통령, 시진핑의 총독인가\"'\n",
       "6. '\"곧 터진다\" 여권서 연일 나오는 음모론의 정체'\n",
       "7. '[포토] 동묘역 인근 유세하는 이낙연'\n",
       "8. '[포토] 유세하는 이낙연 후보'\n",
       "9. '[포토] 이낙연 \\'기호 1번 부탁드립니다\\''\n",
       "10. '[경향포토] 정의당, 녹색당, 미래당 공동 정책 추진'\n",
       "11. '정부 \"나흘 연속 신규확진 50명 내외지만 위험요인은 여전\"(종합)'\n",
       "12. '[포토] 마스크 벗는 이낙연'\n",
       "13. '[포토] 이낙연 \\'지지 호소\\''\n",
       "14. '[포토] 이낙연, 동묘역 인근 유세'\n",
       "15. '415총선 중랑구 후보 지원유세 나선 김종인'\n",
       "16. '김종인 위원장과 손 잡은 김삼화·윤상일 중랑구 후보'\n",
       "17. '[포토] 주민과 인사 나누는 이낙연 후보'\n",
       "18. '[포토]유자즙 마시는 이낙연 후보'\n",
       "19. '[포토]이낙연 후보, \\'유자즙 맛있네요!\\''\n",
       "20. '[포토]이낙연 종로구 후보, \\'유자즙 맛있네요!\\''\n",
       "21. '사회적 거리두기, 개인 관심 줄어…SNS 정보량 급감'\n",
       "22. '美 한인의사 \"코로나 의심 교민, 병원가기 두려워요…왜?\"'\n",
       "\n",
       "\n"
      ],
      "text/plain": [
       " [1] \"[포토] 정의당·녹색당·미래당 '그린뉴딜로 경제사회 대전환'\"     \n",
       " [2] \"[포토] 손 맞잡은 정의당·녹색당·미래당 대표\"                   \n",
       " [3] \"[포토] 유자즙 먹는 이낙연\"                                      \n",
       " [4] \"감찰 막은 윤석열에…황희석 \\\"최측근 손대지 말라는 뜻\\\"\"         \n",
       " [5] \"미래통합당 광주 후보 \\\"文대통령, 시진핑의 총독인가\\\"\"           \n",
       " [6] \"\\\"곧 터진다\\\" 여권서 연일 나오는 음모론의 정체\"                 \n",
       " [7] \"[포토] 동묘역 인근 유세하는 이낙연\"                             \n",
       " [8] \"[포토] 유세하는 이낙연 후보\"                                    \n",
       " [9] \"[포토] 이낙연 '기호 1번 부탁드립니다'\"                          \n",
       "[10] \"[경향포토] 정의당, 녹색당, 미래당 공동 정책 추진\"               \n",
       "[11] \"정부 \\\"나흘 연속 신규확진 50명 내외지만 위험요인은 여전\\\"(종합)\"\n",
       "[12] \"[포토] 마스크 벗는 이낙연\"                                      \n",
       "[13] \"[포토] 이낙연 '지지 호소'\"                                      \n",
       "[14] \"[포토] 이낙연, 동묘역 인근 유세\"                                \n",
       "[15] \"415총선 중랑구 후보 지원유세 나선 김종인\"                       \n",
       "[16] \"김종인 위원장과 손 잡은 김삼화·윤상일 중랑구 후보\"             \n",
       "[17] \"[포토] 주민과 인사 나누는 이낙연 후보\"                          \n",
       "[18] \"[포토]유자즙 마시는 이낙연 후보\"                                \n",
       "[19] \"[포토]이낙연 후보, '유자즙 맛있네요!'\"                          \n",
       "[20] \"[포토]이낙연 종로구 후보, '유자즙 맛있네요!'\"                   \n",
       "[21] \"사회적 거리두기, 개인 관심 줄어…SNS 정보량 급감\"               \n",
       "[22] \"美 한인의사 \\\"코로나 의심 교민, 병원가기 두려워요…왜?\\\"\"       "
      ]
     },
     "metadata": {},
     "output_type": "display_data"
    }
   ],
   "source": [
    "### 제목\n",
    "title<-str_extract(b3,\"(?<=\\\"tit\\\">).*(?=</strong>)\")\n",
    "day_title<-c(day_title,title)\n",
    "day_title"
   ]
  },
  {
   "cell_type": "code",
   "execution_count": 11,
   "metadata": {},
   "outputs": [
    {
     "data": {
      "text/html": [
       "<ol class=list-inline>\n",
       "\t<li><span style=white-space:pre-wrap>'\"//news.nate.com/view/20200409n22281?mid=n0201\"  '</span></li>\n",
       "\t<li><span style=white-space:pre-wrap>'\"//news.nate.com/view/20200409n22252?mid=n0201\"  '</span></li>\n",
       "\t<li><span style=white-space:pre-wrap>'\"//news.nate.com/view/20200409n22251?mid=n0201\"  '</span></li>\n",
       "\t<li><span style=white-space:pre-wrap>'\"//news.nate.com/view/20200409n22250?mid=n0201\"  '</span></li>\n",
       "\t<li><span style=white-space:pre-wrap>'\"//news.nate.com/view/20200409n22240?mid=n0201\"  '</span></li>\n",
       "\t<li><span style=white-space:pre-wrap>'\"//news.nate.com/view/20200409n20099?mid=n0201\"  '</span></li>\n",
       "\t<li><span style=white-space:pre-wrap>'\"//news.nate.com/view/20200409n22233?mid=n0201\"  '</span></li>\n",
       "\t<li><span style=white-space:pre-wrap>'\"//news.nate.com/view/20200409n22232?mid=n0201\"  '</span></li>\n",
       "\t<li><span style=white-space:pre-wrap>'\"//news.nate.com/view/20200409n22231?mid=n0201\"  '</span></li>\n",
       "\t<li><span style=white-space:pre-wrap>'\"//news.nate.com/view/20200409n22227?mid=n0201\"  '</span></li>\n",
       "\t<li><span style=white-space:pre-wrap>'\"//news.nate.com/view/20200409n22226?mid=n0201\"  '</span></li>\n",
       "\t<li><span style=white-space:pre-wrap>'\"//news.nate.com/view/20200409n22216?mid=n0201\"  '</span></li>\n",
       "\t<li><span style=white-space:pre-wrap>'\"//news.nate.com/view/20200409n22215?mid=n0201\"  '</span></li>\n",
       "\t<li><span style=white-space:pre-wrap>'\"//news.nate.com/view/20200409n22213?mid=n0201\"  '</span></li>\n",
       "\t<li><span style=white-space:pre-wrap>'\"//news.nate.com/view/20200409n22212?mid=n0201\"  '</span></li>\n",
       "\t<li><span style=white-space:pre-wrap>'\"//news.nate.com/view/20200409n22211?mid=n0201\"  '</span></li>\n",
       "\t<li><span style=white-space:pre-wrap>'\"//news.nate.com/view/20200409n22210?mid=n0201\"  '</span></li>\n",
       "\t<li><span style=white-space:pre-wrap>'\"//news.nate.com/view/20200409n22133?mid=n0201\"  '</span></li>\n",
       "\t<li><span style=white-space:pre-wrap>'\"//news.nate.com/view/20200409n22136?mid=n0201\"  '</span></li>\n",
       "\t<li><span style=white-space:pre-wrap>'\"//news.nate.com/view/20200409n22138?mid=n0201\"  '</span></li>\n",
       "</ol>\n"
      ],
      "text/latex": [
       "\\begin{enumerate*}\n",
       "\\item '\"//news.nate.com/view/20200409n22281?mid=n0201\"  '\n",
       "\\item '\"//news.nate.com/view/20200409n22252?mid=n0201\"  '\n",
       "\\item '\"//news.nate.com/view/20200409n22251?mid=n0201\"  '\n",
       "\\item '\"//news.nate.com/view/20200409n22250?mid=n0201\"  '\n",
       "\\item '\"//news.nate.com/view/20200409n22240?mid=n0201\"  '\n",
       "\\item '\"//news.nate.com/view/20200409n20099?mid=n0201\"  '\n",
       "\\item '\"//news.nate.com/view/20200409n22233?mid=n0201\"  '\n",
       "\\item '\"//news.nate.com/view/20200409n22232?mid=n0201\"  '\n",
       "\\item '\"//news.nate.com/view/20200409n22231?mid=n0201\"  '\n",
       "\\item '\"//news.nate.com/view/20200409n22227?mid=n0201\"  '\n",
       "\\item '\"//news.nate.com/view/20200409n22226?mid=n0201\"  '\n",
       "\\item '\"//news.nate.com/view/20200409n22216?mid=n0201\"  '\n",
       "\\item '\"//news.nate.com/view/20200409n22215?mid=n0201\"  '\n",
       "\\item '\"//news.nate.com/view/20200409n22213?mid=n0201\"  '\n",
       "\\item '\"//news.nate.com/view/20200409n22212?mid=n0201\"  '\n",
       "\\item '\"//news.nate.com/view/20200409n22211?mid=n0201\"  '\n",
       "\\item '\"//news.nate.com/view/20200409n22210?mid=n0201\"  '\n",
       "\\item '\"//news.nate.com/view/20200409n22133?mid=n0201\"  '\n",
       "\\item '\"//news.nate.com/view/20200409n22136?mid=n0201\"  '\n",
       "\\item '\"//news.nate.com/view/20200409n22138?mid=n0201\"  '\n",
       "\\end{enumerate*}\n"
      ],
      "text/markdown": [
       "1. <span style=white-space:pre-wrap>'\"//news.nate.com/view/20200409n22281?mid=n0201\"  '</span>\n",
       "2. <span style=white-space:pre-wrap>'\"//news.nate.com/view/20200409n22252?mid=n0201\"  '</span>\n",
       "3. <span style=white-space:pre-wrap>'\"//news.nate.com/view/20200409n22251?mid=n0201\"  '</span>\n",
       "4. <span style=white-space:pre-wrap>'\"//news.nate.com/view/20200409n22250?mid=n0201\"  '</span>\n",
       "5. <span style=white-space:pre-wrap>'\"//news.nate.com/view/20200409n22240?mid=n0201\"  '</span>\n",
       "6. <span style=white-space:pre-wrap>'\"//news.nate.com/view/20200409n20099?mid=n0201\"  '</span>\n",
       "7. <span style=white-space:pre-wrap>'\"//news.nate.com/view/20200409n22233?mid=n0201\"  '</span>\n",
       "8. <span style=white-space:pre-wrap>'\"//news.nate.com/view/20200409n22232?mid=n0201\"  '</span>\n",
       "9. <span style=white-space:pre-wrap>'\"//news.nate.com/view/20200409n22231?mid=n0201\"  '</span>\n",
       "10. <span style=white-space:pre-wrap>'\"//news.nate.com/view/20200409n22227?mid=n0201\"  '</span>\n",
       "11. <span style=white-space:pre-wrap>'\"//news.nate.com/view/20200409n22226?mid=n0201\"  '</span>\n",
       "12. <span style=white-space:pre-wrap>'\"//news.nate.com/view/20200409n22216?mid=n0201\"  '</span>\n",
       "13. <span style=white-space:pre-wrap>'\"//news.nate.com/view/20200409n22215?mid=n0201\"  '</span>\n",
       "14. <span style=white-space:pre-wrap>'\"//news.nate.com/view/20200409n22213?mid=n0201\"  '</span>\n",
       "15. <span style=white-space:pre-wrap>'\"//news.nate.com/view/20200409n22212?mid=n0201\"  '</span>\n",
       "16. <span style=white-space:pre-wrap>'\"//news.nate.com/view/20200409n22211?mid=n0201\"  '</span>\n",
       "17. <span style=white-space:pre-wrap>'\"//news.nate.com/view/20200409n22210?mid=n0201\"  '</span>\n",
       "18. <span style=white-space:pre-wrap>'\"//news.nate.com/view/20200409n22133?mid=n0201\"  '</span>\n",
       "19. <span style=white-space:pre-wrap>'\"//news.nate.com/view/20200409n22136?mid=n0201\"  '</span>\n",
       "20. <span style=white-space:pre-wrap>'\"//news.nate.com/view/20200409n22138?mid=n0201\"  '</span>\n",
       "\n",
       "\n"
      ],
      "text/plain": [
       " [1] \"\\\"//news.nate.com/view/20200409n22281?mid=n0201\\\"  \"\n",
       " [2] \"\\\"//news.nate.com/view/20200409n22252?mid=n0201\\\"  \"\n",
       " [3] \"\\\"//news.nate.com/view/20200409n22251?mid=n0201\\\"  \"\n",
       " [4] \"\\\"//news.nate.com/view/20200409n22250?mid=n0201\\\"  \"\n",
       " [5] \"\\\"//news.nate.com/view/20200409n22240?mid=n0201\\\"  \"\n",
       " [6] \"\\\"//news.nate.com/view/20200409n20099?mid=n0201\\\"  \"\n",
       " [7] \"\\\"//news.nate.com/view/20200409n22233?mid=n0201\\\"  \"\n",
       " [8] \"\\\"//news.nate.com/view/20200409n22232?mid=n0201\\\"  \"\n",
       " [9] \"\\\"//news.nate.com/view/20200409n22231?mid=n0201\\\"  \"\n",
       "[10] \"\\\"//news.nate.com/view/20200409n22227?mid=n0201\\\"  \"\n",
       "[11] \"\\\"//news.nate.com/view/20200409n22226?mid=n0201\\\"  \"\n",
       "[12] \"\\\"//news.nate.com/view/20200409n22216?mid=n0201\\\"  \"\n",
       "[13] \"\\\"//news.nate.com/view/20200409n22215?mid=n0201\\\"  \"\n",
       "[14] \"\\\"//news.nate.com/view/20200409n22213?mid=n0201\\\"  \"\n",
       "[15] \"\\\"//news.nate.com/view/20200409n22212?mid=n0201\\\"  \"\n",
       "[16] \"\\\"//news.nate.com/view/20200409n22211?mid=n0201\\\"  \"\n",
       "[17] \"\\\"//news.nate.com/view/20200409n22210?mid=n0201\\\"  \"\n",
       "[18] \"\\\"//news.nate.com/view/20200409n22133?mid=n0201\\\"  \"\n",
       "[19] \"\\\"//news.nate.com/view/20200409n22136?mid=n0201\\\"  \"\n",
       "[20] \"\\\"//news.nate.com/view/20200409n22138?mid=n0201\\\"  \""
      ]
     },
     "metadata": {},
     "output_type": "display_data"
    }
   ],
   "source": [
    "###  url가져오기 \n",
    "uu<-b[(str_detect(b,\"lt1\"))]\n",
    "urlgroup<-str_extract(uu,\"(?<=a href=).*(?=class)\")\n",
    "urlgroup"
   ]
  },
  {
   "cell_type": "code",
   "execution_count": 12,
   "metadata": {},
   "outputs": [
    {
     "data": {
      "text/html": [
       "<ol class=list-inline>\n",
       "\t<li>'//news.nate.com/view/20200409n22281?mid=n0201'</li>\n",
       "\t<li>'//news.nate.com/view/20200409n22252?mid=n0201'</li>\n",
       "\t<li>'//news.nate.com/view/20200409n22251?mid=n0201'</li>\n",
       "\t<li>'//news.nate.com/view/20200409n22250?mid=n0201'</li>\n",
       "\t<li>'//news.nate.com/view/20200409n22240?mid=n0201'</li>\n",
       "\t<li>'//news.nate.com/view/20200409n20099?mid=n0201'</li>\n",
       "\t<li>'//news.nate.com/view/20200409n22233?mid=n0201'</li>\n",
       "\t<li>'//news.nate.com/view/20200409n22232?mid=n0201'</li>\n",
       "\t<li>'//news.nate.com/view/20200409n22231?mid=n0201'</li>\n",
       "\t<li>'//news.nate.com/view/20200409n22227?mid=n0201'</li>\n",
       "\t<li>'//news.nate.com/view/20200409n22226?mid=n0201'</li>\n",
       "\t<li>'//news.nate.com/view/20200409n22216?mid=n0201'</li>\n",
       "\t<li>'//news.nate.com/view/20200409n22215?mid=n0201'</li>\n",
       "\t<li>'//news.nate.com/view/20200409n22213?mid=n0201'</li>\n",
       "\t<li>'//news.nate.com/view/20200409n22212?mid=n0201'</li>\n",
       "\t<li>'//news.nate.com/view/20200409n22211?mid=n0201'</li>\n",
       "\t<li>'//news.nate.com/view/20200409n22210?mid=n0201'</li>\n",
       "\t<li>'//news.nate.com/view/20200409n22133?mid=n0201'</li>\n",
       "\t<li>'//news.nate.com/view/20200409n22136?mid=n0201'</li>\n",
       "\t<li>'//news.nate.com/view/20200409n22138?mid=n0201'</li>\n",
       "</ol>\n"
      ],
      "text/latex": [
       "\\begin{enumerate*}\n",
       "\\item '//news.nate.com/view/20200409n22281?mid=n0201'\n",
       "\\item '//news.nate.com/view/20200409n22252?mid=n0201'\n",
       "\\item '//news.nate.com/view/20200409n22251?mid=n0201'\n",
       "\\item '//news.nate.com/view/20200409n22250?mid=n0201'\n",
       "\\item '//news.nate.com/view/20200409n22240?mid=n0201'\n",
       "\\item '//news.nate.com/view/20200409n20099?mid=n0201'\n",
       "\\item '//news.nate.com/view/20200409n22233?mid=n0201'\n",
       "\\item '//news.nate.com/view/20200409n22232?mid=n0201'\n",
       "\\item '//news.nate.com/view/20200409n22231?mid=n0201'\n",
       "\\item '//news.nate.com/view/20200409n22227?mid=n0201'\n",
       "\\item '//news.nate.com/view/20200409n22226?mid=n0201'\n",
       "\\item '//news.nate.com/view/20200409n22216?mid=n0201'\n",
       "\\item '//news.nate.com/view/20200409n22215?mid=n0201'\n",
       "\\item '//news.nate.com/view/20200409n22213?mid=n0201'\n",
       "\\item '//news.nate.com/view/20200409n22212?mid=n0201'\n",
       "\\item '//news.nate.com/view/20200409n22211?mid=n0201'\n",
       "\\item '//news.nate.com/view/20200409n22210?mid=n0201'\n",
       "\\item '//news.nate.com/view/20200409n22133?mid=n0201'\n",
       "\\item '//news.nate.com/view/20200409n22136?mid=n0201'\n",
       "\\item '//news.nate.com/view/20200409n22138?mid=n0201'\n",
       "\\end{enumerate*}\n"
      ],
      "text/markdown": [
       "1. '//news.nate.com/view/20200409n22281?mid=n0201'\n",
       "2. '//news.nate.com/view/20200409n22252?mid=n0201'\n",
       "3. '//news.nate.com/view/20200409n22251?mid=n0201'\n",
       "4. '//news.nate.com/view/20200409n22250?mid=n0201'\n",
       "5. '//news.nate.com/view/20200409n22240?mid=n0201'\n",
       "6. '//news.nate.com/view/20200409n20099?mid=n0201'\n",
       "7. '//news.nate.com/view/20200409n22233?mid=n0201'\n",
       "8. '//news.nate.com/view/20200409n22232?mid=n0201'\n",
       "9. '//news.nate.com/view/20200409n22231?mid=n0201'\n",
       "10. '//news.nate.com/view/20200409n22227?mid=n0201'\n",
       "11. '//news.nate.com/view/20200409n22226?mid=n0201'\n",
       "12. '//news.nate.com/view/20200409n22216?mid=n0201'\n",
       "13. '//news.nate.com/view/20200409n22215?mid=n0201'\n",
       "14. '//news.nate.com/view/20200409n22213?mid=n0201'\n",
       "15. '//news.nate.com/view/20200409n22212?mid=n0201'\n",
       "16. '//news.nate.com/view/20200409n22211?mid=n0201'\n",
       "17. '//news.nate.com/view/20200409n22210?mid=n0201'\n",
       "18. '//news.nate.com/view/20200409n22133?mid=n0201'\n",
       "19. '//news.nate.com/view/20200409n22136?mid=n0201'\n",
       "20. '//news.nate.com/view/20200409n22138?mid=n0201'\n",
       "\n",
       "\n"
      ],
      "text/plain": [
       " [1] \"//news.nate.com/view/20200409n22281?mid=n0201\"\n",
       " [2] \"//news.nate.com/view/20200409n22252?mid=n0201\"\n",
       " [3] \"//news.nate.com/view/20200409n22251?mid=n0201\"\n",
       " [4] \"//news.nate.com/view/20200409n22250?mid=n0201\"\n",
       " [5] \"//news.nate.com/view/20200409n22240?mid=n0201\"\n",
       " [6] \"//news.nate.com/view/20200409n20099?mid=n0201\"\n",
       " [7] \"//news.nate.com/view/20200409n22233?mid=n0201\"\n",
       " [8] \"//news.nate.com/view/20200409n22232?mid=n0201\"\n",
       " [9] \"//news.nate.com/view/20200409n22231?mid=n0201\"\n",
       "[10] \"//news.nate.com/view/20200409n22227?mid=n0201\"\n",
       "[11] \"//news.nate.com/view/20200409n22226?mid=n0201\"\n",
       "[12] \"//news.nate.com/view/20200409n22216?mid=n0201\"\n",
       "[13] \"//news.nate.com/view/20200409n22215?mid=n0201\"\n",
       "[14] \"//news.nate.com/view/20200409n22213?mid=n0201\"\n",
       "[15] \"//news.nate.com/view/20200409n22212?mid=n0201\"\n",
       "[16] \"//news.nate.com/view/20200409n22211?mid=n0201\"\n",
       "[17] \"//news.nate.com/view/20200409n22210?mid=n0201\"\n",
       "[18] \"//news.nate.com/view/20200409n22133?mid=n0201\"\n",
       "[19] \"//news.nate.com/view/20200409n22136?mid=n0201\"\n",
       "[20] \"//news.nate.com/view/20200409n22138?mid=n0201\""
      ]
     },
     "metadata": {},
     "output_type": "display_data"
    }
   ],
   "source": [
    "url_list<-str_sub(urlgroup,2,end=-4)\n",
    "day_url<-c(day_url,url_list)\n",
    "url_list"
   ]
  },
  {
   "cell_type": "code",
   "execution_count": 13,
   "metadata": {},
   "outputs": [
    {
     "name": "stderr",
     "output_type": "stream",
     "text": [
      "Warning message in readLines(url, encoding = \"UTF-8\"):\n",
      "\"'http://news.nate.com/recent?cate=pol&mid=n0201&type=c&date=20200408&page=1'에서 불완전한 마지막 행이 발견되었습니다\"Best guess: EUC-KR (100% confident)\n",
      "Best guess: EUC-KR (100% confident)\n"
     ]
    },
    {
     "name": "stdout",
     "output_type": "stream",
     "text": [
      "\n",
      " 1 - 1"
     ]
    },
    {
     "name": "stderr",
     "output_type": "stream",
     "text": [
      "Warning message in readLines(url, encoding = \"UTF-8\"):\n",
      "\"'http://news.nate.com/recent?cate=pol&mid=n0201&type=c&date=20200408&page=2'에서 불완전한 마지막 행이 발견되었습니다\"Best guess: EUC-KR (100% confident)\n",
      "Best guess: EUC-KR (100% confident)\n"
     ]
    },
    {
     "name": "stdout",
     "output_type": "stream",
     "text": [
      "\n",
      " 1 - 2"
     ]
    },
    {
     "name": "stderr",
     "output_type": "stream",
     "text": [
      "Warning message in readLines(url, encoding = \"UTF-8\"):\n",
      "\"'http://news.nate.com/recent?cate=pol&mid=n0201&type=c&date=20200408&page=3'에서 불완전한 마지막 행이 발견되었습니다\"Best guess: EUC-KR (100% confident)\n",
      "Best guess: EUC-KR (100% confident)\n"
     ]
    },
    {
     "name": "stdout",
     "output_type": "stream",
     "text": [
      "\n",
      " 1 - 3"
     ]
    },
    {
     "name": "stderr",
     "output_type": "stream",
     "text": [
      "Warning message in readLines(url, encoding = \"UTF-8\"):\n",
      "\"'http://news.nate.com/recent?cate=pol&mid=n0201&type=c&date=20200408&page=4'에서 불완전한 마지막 행이 발견되었습니다\"Best guess: EUC-KR (100% confident)\n",
      "Best guess: EUC-KR (100% confident)\n"
     ]
    },
    {
     "name": "stdout",
     "output_type": "stream",
     "text": [
      "\n",
      " 1 - 4"
     ]
    },
    {
     "name": "stderr",
     "output_type": "stream",
     "text": [
      "Warning message in readLines(url, encoding = \"UTF-8\"):\n",
      "\"'http://news.nate.com/recent?cate=pol&mid=n0201&type=c&date=20200408&page=5'에서 불완전한 마지막 행이 발견되었습니다\"Best guess: EUC-KR (100% confident)\n",
      "Best guess: EUC-KR (100% confident)\n"
     ]
    },
    {
     "name": "stdout",
     "output_type": "stream",
     "text": [
      "\n",
      " 1 - 5"
     ]
    },
    {
     "name": "stderr",
     "output_type": "stream",
     "text": [
      "Warning message in readLines(url, encoding = \"UTF-8\"):\n",
      "\"'http://news.nate.com/recent?cate=pol&mid=n0201&type=c&date=20200408&page=6'에서 불완전한 마지막 행이 발견되었습니다\"Best guess: EUC-KR (100% confident)\n",
      "Best guess: EUC-KR (100% confident)\n"
     ]
    },
    {
     "name": "stdout",
     "output_type": "stream",
     "text": [
      "\n",
      " 1 - 6"
     ]
    },
    {
     "name": "stderr",
     "output_type": "stream",
     "text": [
      "Warning message in readLines(url, encoding = \"UTF-8\"):\n",
      "\"'http://news.nate.com/recent?cate=pol&mid=n0201&type=c&date=20200408&page=7'에서 불완전한 마지막 행이 발견되었습니다\"Best guess: EUC-KR (100% confident)\n",
      "Best guess: EUC-KR (100% confident)\n"
     ]
    },
    {
     "name": "stdout",
     "output_type": "stream",
     "text": [
      "\n",
      " 1 - 7"
     ]
    },
    {
     "name": "stderr",
     "output_type": "stream",
     "text": [
      "Warning message in readLines(url, encoding = \"UTF-8\"):\n",
      "\"'http://news.nate.com/recent?cate=pol&mid=n0201&type=c&date=20200408&page=8'에서 불완전한 마지막 행이 발견되었습니다\"Best guess: EUC-KR (100% confident)\n",
      "Best guess: EUC-KR (100% confident)\n"
     ]
    },
    {
     "name": "stdout",
     "output_type": "stream",
     "text": [
      "\n",
      " 1 - 8"
     ]
    },
    {
     "name": "stderr",
     "output_type": "stream",
     "text": [
      "Warning message in readLines(url, encoding = \"UTF-8\"):\n",
      "\"'http://news.nate.com/recent?cate=pol&mid=n0201&type=c&date=20200408&page=9'에서 불완전한 마지막 행이 발견되었습니다\"Best guess: EUC-KR (100% confident)\n",
      "Best guess: EUC-KR (100% confident)\n"
     ]
    },
    {
     "name": "stdout",
     "output_type": "stream",
     "text": [
      "\n",
      " 1 - 9"
     ]
    },
    {
     "name": "stderr",
     "output_type": "stream",
     "text": [
      "Warning message in readLines(url, encoding = \"UTF-8\"):\n",
      "\"'http://news.nate.com/recent?cate=pol&mid=n0201&type=c&date=20200408&page=10'에서 불완전한 마지막 행이 발견되었습니다\"Best guess: EUC-KR (100% confident)\n",
      "Best guess: EUC-KR (100% confident)\n"
     ]
    },
    {
     "name": "stdout",
     "output_type": "stream",
     "text": [
      "\n",
      " 1 - 10"
     ]
    },
    {
     "name": "stderr",
     "output_type": "stream",
     "text": [
      "Warning message in cbind(dadate2, day_url, day_title):\n",
      "\"number of rows of result is not a multiple of vector length (arg 2)\"Warning message in readLines(url, encoding = \"UTF-8\"):\n",
      "\"'http://news.nate.com/recent?cate=pol&mid=n0201&type=c&date=20200407&page=1'에서 불완전한 마지막 행이 발견되었습니다\"Best guess: EUC-KR (100% confident)\n",
      "Best guess: EUC-KR (100% confident)\n"
     ]
    },
    {
     "name": "stdout",
     "output_type": "stream",
     "text": [
      "\n",
      " 2 - 1"
     ]
    },
    {
     "name": "stderr",
     "output_type": "stream",
     "text": [
      "Warning message in readLines(url, encoding = \"UTF-8\"):\n",
      "\"'http://news.nate.com/recent?cate=pol&mid=n0201&type=c&date=20200407&page=2'에서 불완전한 마지막 행이 발견되었습니다\"Best guess: EUC-KR (100% confident)\n",
      "Best guess: EUC-KR (100% confident)\n"
     ]
    },
    {
     "name": "stdout",
     "output_type": "stream",
     "text": [
      "\n",
      " 2 - 2"
     ]
    },
    {
     "name": "stderr",
     "output_type": "stream",
     "text": [
      "Warning message in readLines(url, encoding = \"UTF-8\"):\n",
      "\"'http://news.nate.com/recent?cate=pol&mid=n0201&type=c&date=20200407&page=3'에서 불완전한 마지막 행이 발견되었습니다\"Best guess: EUC-KR (100% confident)\n",
      "Best guess: EUC-KR (100% confident)\n"
     ]
    },
    {
     "name": "stdout",
     "output_type": "stream",
     "text": [
      "\n",
      " 2 - 3"
     ]
    },
    {
     "name": "stderr",
     "output_type": "stream",
     "text": [
      "Warning message in readLines(url, encoding = \"UTF-8\"):\n",
      "\"'http://news.nate.com/recent?cate=pol&mid=n0201&type=c&date=20200407&page=4'에서 불완전한 마지막 행이 발견되었습니다\"Best guess: EUC-KR (100% confident)\n",
      "Best guess: EUC-KR (100% confident)\n"
     ]
    },
    {
     "name": "stdout",
     "output_type": "stream",
     "text": [
      "\n",
      " 2 - 4"
     ]
    },
    {
     "name": "stderr",
     "output_type": "stream",
     "text": [
      "Warning message in readLines(url, encoding = \"UTF-8\"):\n",
      "\"'http://news.nate.com/recent?cate=pol&mid=n0201&type=c&date=20200407&page=5'에서 불완전한 마지막 행이 발견되었습니다\"Best guess: EUC-KR (100% confident)\n",
      "Best guess: EUC-KR (100% confident)\n"
     ]
    },
    {
     "name": "stdout",
     "output_type": "stream",
     "text": [
      "\n",
      " 2 - 5"
     ]
    },
    {
     "name": "stderr",
     "output_type": "stream",
     "text": [
      "Warning message in readLines(url, encoding = \"UTF-8\"):\n",
      "\"'http://news.nate.com/recent?cate=pol&mid=n0201&type=c&date=20200407&page=6'에서 불완전한 마지막 행이 발견되었습니다\"Best guess: EUC-KR (100% confident)\n",
      "Best guess: EUC-KR (100% confident)\n"
     ]
    },
    {
     "name": "stdout",
     "output_type": "stream",
     "text": [
      "\n",
      " 2 - 6"
     ]
    },
    {
     "name": "stderr",
     "output_type": "stream",
     "text": [
      "Warning message in readLines(url, encoding = \"UTF-8\"):\n",
      "\"'http://news.nate.com/recent?cate=pol&mid=n0201&type=c&date=20200407&page=7'에서 불완전한 마지막 행이 발견되었습니다\"Best guess: EUC-KR (100% confident)\n",
      "Best guess: EUC-KR (100% confident)\n"
     ]
    },
    {
     "name": "stdout",
     "output_type": "stream",
     "text": [
      "\n",
      " 2 - 7"
     ]
    },
    {
     "name": "stderr",
     "output_type": "stream",
     "text": [
      "Warning message in readLines(url, encoding = \"UTF-8\"):\n",
      "\"'http://news.nate.com/recent?cate=pol&mid=n0201&type=c&date=20200407&page=8'에서 불완전한 마지막 행이 발견되었습니다\"Best guess: EUC-KR (100% confident)\n",
      "Best guess: EUC-KR (100% confident)\n"
     ]
    },
    {
     "name": "stdout",
     "output_type": "stream",
     "text": [
      "\n",
      " 2 - 8"
     ]
    },
    {
     "name": "stderr",
     "output_type": "stream",
     "text": [
      "Warning message in readLines(url, encoding = \"UTF-8\"):\n",
      "\"'http://news.nate.com/recent?cate=pol&mid=n0201&type=c&date=20200407&page=9'에서 불완전한 마지막 행이 발견되었습니다\"Best guess: EUC-KR (100% confident)\n",
      "Best guess: EUC-KR (100% confident)\n"
     ]
    },
    {
     "name": "stdout",
     "output_type": "stream",
     "text": [
      "\n",
      " 2 - 9"
     ]
    },
    {
     "name": "stderr",
     "output_type": "stream",
     "text": [
      "Warning message in readLines(url, encoding = \"UTF-8\"):\n",
      "\"'http://news.nate.com/recent?cate=pol&mid=n0201&type=c&date=20200407&page=10'에서 불완전한 마지막 행이 발견되었습니다\"Best guess: EUC-KR (100% confident)\n",
      "Best guess: EUC-KR (100% confident)\n"
     ]
    },
    {
     "name": "stdout",
     "output_type": "stream",
     "text": [
      "\n",
      " 2 - 10"
     ]
    },
    {
     "name": "stderr",
     "output_type": "stream",
     "text": [
      "Warning message in cbind(dadate2, day_url, day_title):\n",
      "\"number of rows of result is not a multiple of vector length (arg 2)\"Warning message in readLines(url, encoding = \"UTF-8\"):\n",
      "\"'http://news.nate.com/recent?cate=pol&mid=n0201&type=c&date=20200406&page=1'에서 불완전한 마지막 행이 발견되었습니다\"Best guess: EUC-KR (100% confident)\n",
      "Best guess: EUC-KR (100% confident)\n"
     ]
    },
    {
     "name": "stdout",
     "output_type": "stream",
     "text": [
      "\n",
      " 3 - 1"
     ]
    },
    {
     "name": "stderr",
     "output_type": "stream",
     "text": [
      "Warning message in readLines(url, encoding = \"UTF-8\"):\n",
      "\"'http://news.nate.com/recent?cate=pol&mid=n0201&type=c&date=20200406&page=2'에서 불완전한 마지막 행이 발견되었습니다\"Best guess: EUC-KR (100% confident)\n",
      "Best guess: EUC-KR (100% confident)\n"
     ]
    },
    {
     "name": "stdout",
     "output_type": "stream",
     "text": [
      "\n",
      " 3 - 2"
     ]
    },
    {
     "name": "stderr",
     "output_type": "stream",
     "text": [
      "Warning message in readLines(url, encoding = \"UTF-8\"):\n",
      "\"'http://news.nate.com/recent?cate=pol&mid=n0201&type=c&date=20200406&page=3'에서 불완전한 마지막 행이 발견되었습니다\"Best guess: EUC-KR (100% confident)\n",
      "Warning message in cbind(dadate2, day_url, day_title):\n",
      "\"number of rows of result is not a multiple of vector length (arg 2)\"Warning message in readLines(url, encoding = \"UTF-8\"):\n",
      "\"'http://news.nate.com/recent?cate=pol&mid=n0201&type=c&date=20200405&page=1'에서 불완전한 마지막 행이 발견되었습니다\"Best guess: EUC-KR (100% confident)\n",
      "Best guess: EUC-KR (100% confident)\n"
     ]
    },
    {
     "name": "stdout",
     "output_type": "stream",
     "text": [
      "\n",
      " 4 - 1"
     ]
    },
    {
     "name": "stderr",
     "output_type": "stream",
     "text": [
      "Warning message in readLines(url, encoding = \"UTF-8\"):\n",
      "\"'http://news.nate.com/recent?cate=pol&mid=n0201&type=c&date=20200405&page=2'에서 불완전한 마지막 행이 발견되었습니다\"Best guess: EUC-KR (100% confident)\n",
      "Best guess: EUC-KR (100% confident)\n"
     ]
    },
    {
     "name": "stdout",
     "output_type": "stream",
     "text": [
      "\n",
      " 4 - 2"
     ]
    },
    {
     "name": "stderr",
     "output_type": "stream",
     "text": [
      "Warning message in readLines(url, encoding = \"UTF-8\"):\n",
      "\"'http://news.nate.com/recent?cate=pol&mid=n0201&type=c&date=20200405&page=3'에서 불완전한 마지막 행이 발견되었습니다\"Best guess: EUC-KR (100% confident)\n",
      "Best guess: EUC-KR (100% confident)\n"
     ]
    },
    {
     "name": "stdout",
     "output_type": "stream",
     "text": [
      "\n",
      " 4 - 3"
     ]
    },
    {
     "name": "stderr",
     "output_type": "stream",
     "text": [
      "Warning message in readLines(url, encoding = \"UTF-8\"):\n",
      "\"'http://news.nate.com/recent?cate=pol&mid=n0201&type=c&date=20200405&page=4'에서 불완전한 마지막 행이 발견되었습니다\"Best guess: EUC-KR (100% confident)\n",
      "Best guess: EUC-KR (100% confident)\n"
     ]
    },
    {
     "name": "stdout",
     "output_type": "stream",
     "text": [
      "\n",
      " 4 - 4"
     ]
    },
    {
     "name": "stderr",
     "output_type": "stream",
     "text": [
      "Warning message in readLines(url, encoding = \"UTF-8\"):\n",
      "\"'http://news.nate.com/recent?cate=pol&mid=n0201&type=c&date=20200405&page=5'에서 불완전한 마지막 행이 발견되었습니다\"Best guess: EUC-KR (100% confident)\n",
      "Warning message in cbind(dadate2, day_url, day_title):\n",
      "\"number of rows of result is not a multiple of vector length (arg 2)\"Warning message in readLines(url, encoding = \"UTF-8\"):\n",
      "\"'http://news.nate.com/recent?cate=pol&mid=n0201&type=c&date=20200404&page=1'에서 불완전한 마지막 행이 발견되었습니다\"Best guess: EUC-KR (100% confident)\n",
      "Best guess: EUC-KR (100% confident)\n"
     ]
    },
    {
     "name": "stdout",
     "output_type": "stream",
     "text": [
      "\n",
      " 5 - 1"
     ]
    },
    {
     "name": "stderr",
     "output_type": "stream",
     "text": [
      "Warning message in readLines(url, encoding = \"UTF-8\"):\n",
      "\"'http://news.nate.com/recent?cate=pol&mid=n0201&type=c&date=20200404&page=2'에서 불완전한 마지막 행이 발견되었습니다\"Best guess: EUC-KR (100% confident)\n",
      "Best guess: EUC-KR (100% confident)\n"
     ]
    },
    {
     "name": "stdout",
     "output_type": "stream",
     "text": [
      "\n",
      " 5 - 2"
     ]
    },
    {
     "name": "stderr",
     "output_type": "stream",
     "text": [
      "Warning message in readLines(url, encoding = \"UTF-8\"):\n",
      "\"'http://news.nate.com/recent?cate=pol&mid=n0201&type=c&date=20200404&page=3'에서 불완전한 마지막 행이 발견되었습니다\"Best guess: EUC-KR (100% confident)\n",
      "Best guess: EUC-KR (100% confident)\n"
     ]
    },
    {
     "name": "stdout",
     "output_type": "stream",
     "text": [
      "\n",
      " 5 - 3"
     ]
    },
    {
     "name": "stderr",
     "output_type": "stream",
     "text": [
      "Warning message in readLines(url, encoding = \"UTF-8\"):\n",
      "\"'http://news.nate.com/recent?cate=pol&mid=n0201&type=c&date=20200404&page=4'에서 불완전한 마지막 행이 발견되었습니다\"Best guess: EUC-KR (100% confident)\n",
      "Best guess: EUC-KR (100% confident)\n"
     ]
    },
    {
     "name": "stdout",
     "output_type": "stream",
     "text": [
      "\n",
      " 5 - 4"
     ]
    },
    {
     "name": "stderr",
     "output_type": "stream",
     "text": [
      "Warning message in readLines(url, encoding = \"UTF-8\"):\n",
      "\"'http://news.nate.com/recent?cate=pol&mid=n0201&type=c&date=20200404&page=5'에서 불완전한 마지막 행이 발견되었습니다\"Best guess: EUC-KR (100% confident)\n",
      "Best guess: EUC-KR (100% confident)\n"
     ]
    },
    {
     "name": "stdout",
     "output_type": "stream",
     "text": [
      "\n",
      " 5 - 5"
     ]
    },
    {
     "name": "stderr",
     "output_type": "stream",
     "text": [
      "Warning message in readLines(url, encoding = \"UTF-8\"):\n",
      "\"'http://news.nate.com/recent?cate=pol&mid=n0201&type=c&date=20200404&page=6'에서 불완전한 마지막 행이 발견되었습니다\"Best guess: EUC-KR (100% confident)\n",
      "Best guess: EUC-KR (100% confident)\n"
     ]
    },
    {
     "name": "stdout",
     "output_type": "stream",
     "text": [
      "\n",
      " 5 - 6"
     ]
    },
    {
     "name": "stderr",
     "output_type": "stream",
     "text": [
      "Warning message in readLines(url, encoding = \"UTF-8\"):\n",
      "\"'http://news.nate.com/recent?cate=pol&mid=n0201&type=c&date=20200404&page=7'에서 불완전한 마지막 행이 발견되었습니다\"Best guess: EUC-KR (100% confident)\n",
      "Best guess: EUC-KR (100% confident)\n"
     ]
    },
    {
     "name": "stdout",
     "output_type": "stream",
     "text": [
      "\n",
      " 5 - 7"
     ]
    },
    {
     "name": "stderr",
     "output_type": "stream",
     "text": [
      "Warning message in readLines(url, encoding = \"UTF-8\"):\n",
      "\"'http://news.nate.com/recent?cate=pol&mid=n0201&type=c&date=20200404&page=8'에서 불완전한 마지막 행이 발견되었습니다\"Best guess: EUC-KR (100% confident)\n",
      "Best guess: EUC-KR (100% confident)\n"
     ]
    },
    {
     "name": "stdout",
     "output_type": "stream",
     "text": [
      "\n",
      " 5 - 8"
     ]
    },
    {
     "name": "stderr",
     "output_type": "stream",
     "text": [
      "Warning message in readLines(url, encoding = \"UTF-8\"):\n",
      "\"'http://news.nate.com/recent?cate=pol&mid=n0201&type=c&date=20200404&page=9'에서 불완전한 마지막 행이 발견되었습니다\"Best guess: EUC-KR (100% confident)\n",
      "Best guess: EUC-KR (100% confident)\n"
     ]
    },
    {
     "name": "stdout",
     "output_type": "stream",
     "text": [
      "\n",
      " 5 - 9"
     ]
    },
    {
     "name": "stderr",
     "output_type": "stream",
     "text": [
      "Warning message in readLines(url, encoding = \"UTF-8\"):\n",
      "\"'http://news.nate.com/recent?cate=pol&mid=n0201&type=c&date=20200404&page=10'에서 불완전한 마지막 행이 발견되었습니다\"Best guess: EUC-KR (100% confident)\n",
      "Best guess: EUC-KR (100% confident)\n"
     ]
    },
    {
     "name": "stdout",
     "output_type": "stream",
     "text": [
      "\n",
      " 5 - 10"
     ]
    },
    {
     "name": "stderr",
     "output_type": "stream",
     "text": [
      "Warning message in cbind(dadate2, day_url, day_title):\n",
      "\"number of rows of result is not a multiple of vector length (arg 2)\""
     ]
    }
   ],
   "source": [
    "# 날짜 변동\n",
    "for(x in 1:5){\n",
    "    dadate<-as.Date(Sys.time())-x  ## 현재날짜\n",
    "    dadate2<-gsub(\"-\",\"\",dadate)\n",
    "    day_url<-NULL\n",
    "    day_title<-NULL\n",
    "    # 페이지 변동\n",
    "    for(i in 1:10){\n",
    "        ## url지정\n",
    "        url<-paste0(\"http://news.nate.com/recent?cate=pol&mid=n0201&type=c&date=\",dadate2,\"&page=\",i) \n",
    "        b<-readLines(url,encoding = \"UTF-8\")\n",
    "        bb<-repair_encoding(b)\n",
    "        if(sum(str_detect(bb,\"없습니다\"))>0){ ## 기사가 없는 경우 break;\n",
    "        break;\n",
    "        }\n",
    "        b2<-b[which(str_detect(b,\"strong class=\\\"tit\\\">\"))]\n",
    "        b3<-repair_encoding(b2)\n",
    "        ### 제목\n",
    "        title<-str_extract(b3,\"(?<=\\\"tit\\\">).*(?=</strong>)\")\n",
    "        day_title<-c(day_title,title)\n",
    "        ###  url가져오기 \n",
    "        uu<-b[(str_detect(b,\"lt1\"))]\n",
    "        urlgroup<-str_extract(uu,\"(?<=a href=).*(?=class)\")\n",
    "        url_list<-str_sub(urlgroup,2,end=-4)\n",
    "        day_url<-c(day_url,url_list)\n",
    "        cat(\"\\n\",x,\"-\",i)\n",
    "    }\n",
    "    day_data<-cbind(dadate2,day_url,day_title)\n",
    "    final_data<-rbind(final_data,day_data)\n",
    "}"
   ]
  },
  {
   "cell_type": "code",
   "execution_count": 14,
   "metadata": {},
   "outputs": [
    {
     "data": {
      "text/html": [
       "'C:/Repository/python_basic/7R'"
      ],
      "text/latex": [
       "'C:/Repository/python\\_basic/7R'"
      ],
      "text/markdown": [
       "'C:/Repository/python_basic/7R'"
      ],
      "text/plain": [
       "[1] \"C:/Repository/python_basic/7R\""
      ]
     },
     "metadata": {},
     "output_type": "display_data"
    }
   ],
   "source": [
    "# 뉴스 목록 저장\n",
    "getwd()\n",
    "# setwd(\"./Data/\")\n",
    "save(final_data,file=\"url_list.RData\")"
   ]
  },
  {
   "cell_type": "code",
   "execution_count": 15,
   "metadata": {},
   "outputs": [
    {
     "data": {
      "text/html": [
       "'C:/Repository/python_basic/7R'"
      ],
      "text/latex": [
       "'C:/Repository/python\\_basic/7R'"
      ],
      "text/markdown": [
       "'C:/Repository/python_basic/7R'"
      ],
      "text/plain": [
       "[1] \"C:/Repository/python_basic/7R\""
      ]
     },
     "metadata": {},
     "output_type": "display_data"
    },
    {
     "name": "stderr",
     "output_type": "stream",
     "text": [
      "Warning message in readChar(con, 5L, useBytes = TRUE):\n",
      "\"압축된 파일 'url_list.RData'를 열 수 없습니다.  그 이유는 아마도 'No such file or directory'입니다\""
     ]
    },
    {
     "ename": "ERROR",
     "evalue": "Error in readChar(con, 5L, useBytes = TRUE): 커넥션을 열 수 없습니다\n",
     "output_type": "error",
     "traceback": [
      "Error in readChar(con, 5L, useBytes = TRUE): 커넥션을 열 수 없습니다\nTraceback:\n",
      "1. load(\"url_list.RData\")",
      "2. readChar(con, 5L, useBytes = TRUE)"
     ]
    }
   ],
   "source": [
    "# 뉴스 목록 읽기\n",
    "getwd()\n",
    "setwd(\"./Data\")\n",
    "load(\"url_list.RData\")"
   ]
  },
  {
   "cell_type": "code",
   "execution_count": 22,
   "metadata": {},
   "outputs": [
    {
     "data": {
      "text/html": [
       "<table>\n",
       "<thead><tr><th scope=col>dadate2</th><th scope=col>day_url</th><th scope=col>day_title</th></tr></thead>\n",
       "<tbody>\n",
       "\t<tr><td>20200408                                                                       </td><td>//news.nate.com/view/20200408n26615?mid=n0201                                  </td><td>공보물에 유일하게 '기후위기' 언급한 대전 후보는?                               </td></tr>\n",
       "\t<tr><td>20200408                                                                       </td><td>//news.nate.com/view/20200408n00899?mid=n0201                                  </td><td>[경기 안성] 통합당 김학용 43.8%, 민주당 이규민 43.5%                           </td></tr>\n",
       "\t<tr><td>20200408                                                                       </td><td>//news.nate.com/view/20200408n25872?mid=n0201                                  </td><td>허경만 전 전남지사 \"순천 발전 위해 소병철 후보 지지해 달라\"                    </td></tr>\n",
       "\t<tr><td>20200408                                                                       </td><td>//news.nate.com/view/20200408n42960?mid=n0201                                  </td><td>[비디오머그] 허경영 게 섯거라? '억'소리 나는 지원금 공약 만발한 군소정당 토론회</td></tr>\n",
       "\t<tr><td>20200408                                                                       </td><td>//news.nate.com/view/20200408n41802?mid=n0201                                  </td><td>문 대통령 \"과감하고 적극적인 재정 투입도 주저 않겠다\"                          </td></tr>\n",
       "\t<tr><td>20200408                                                                       </td><td>//news.nate.com/view/20200408n42882?mid=n0201                                  </td><td>[2020총선] 민주 '호남 석권' 기세…민생 \"인지도 높은 현역 역전 기대\"            </td></tr>\n",
       "</tbody>\n",
       "</table>\n"
      ],
      "text/latex": [
       "\\begin{tabular}{lll}\n",
       " dadate2 & day\\_url & day\\_title\\\\\n",
       "\\hline\n",
       "\t 20200408                                                                        & //news.nate.com/view/20200408n26615?mid=n0201                                   & 공보물에 유일하게 '기후위기' 언급한 대전 후보는?                               \\\\\n",
       "\t 20200408                                                                                & //news.nate.com/view/20200408n00899?mid=n0201                                           & {[}경기 안성{]} 통합당 김학용 43.8\\%, 민주당 이규민 43.5\\%                           \\\\\n",
       "\t 20200408                                                                        & //news.nate.com/view/20200408n25872?mid=n0201                                   & 허경만 전 전남지사 \"순천 발전 위해 소병철 후보 지지해 달라\"                    \\\\\n",
       "\t 20200408                                                                            & //news.nate.com/view/20200408n42960?mid=n0201                                       & {[}비디오머그{]} 허경영 게 섯거라? '억'소리 나는 지원금 공약 만발한 군소정당 토론회\\\\\n",
       "\t 20200408                                                                        & //news.nate.com/view/20200408n41802?mid=n0201                                   & 문 대통령 \"과감하고 적극적인 재정 투입도 주저 않겠다\"                          \\\\\n",
       "\t 20200408                                                                            & //news.nate.com/view/20200408n42882?mid=n0201                                       & {[}2020총선{]} 민주 '호남 석권' 기세…민생 \"인지도 높은 현역 역전 기대\"            \\\\\n",
       "\\end{tabular}\n"
      ],
      "text/markdown": [
       "\n",
       "| dadate2 | day_url | day_title |\n",
       "|---|---|---|\n",
       "| 20200408                                                                        | //news.nate.com/view/20200408n26615?mid=n0201                                   | 공보물에 유일하게 '기후위기' 언급한 대전 후보는?                                |\n",
       "| 20200408                                                                        | //news.nate.com/view/20200408n00899?mid=n0201                                   | [경기 안성] 통합당 김학용 43.8%, 민주당 이규민 43.5%                            |\n",
       "| 20200408                                                                        | //news.nate.com/view/20200408n25872?mid=n0201                                   | 허경만 전 전남지사 \"순천 발전 위해 소병철 후보 지지해 달라\"                     |\n",
       "| 20200408                                                                        | //news.nate.com/view/20200408n42960?mid=n0201                                   | [비디오머그] 허경영 게 섯거라? '억'소리 나는 지원금 공약 만발한 군소정당 토론회 |\n",
       "| 20200408                                                                        | //news.nate.com/view/20200408n41802?mid=n0201                                   | 문 대통령 \"과감하고 적극적인 재정 투입도 주저 않겠다\"                           |\n",
       "| 20200408                                                                        | //news.nate.com/view/20200408n42882?mid=n0201                                   | [2020총선] 민주 '호남 석권' 기세…민생 \"인지도 높은 현역 역전 기대\"             |\n",
       "\n"
      ],
      "text/plain": [
       "     dadate2  day_url                                      \n",
       "[1,] 20200408 //news.nate.com/view/20200408n26615?mid=n0201\n",
       "[2,] 20200408 //news.nate.com/view/20200408n00899?mid=n0201\n",
       "[3,] 20200408 //news.nate.com/view/20200408n25872?mid=n0201\n",
       "[4,] 20200408 //news.nate.com/view/20200408n42960?mid=n0201\n",
       "[5,] 20200408 //news.nate.com/view/20200408n41802?mid=n0201\n",
       "[6,] 20200408 //news.nate.com/view/20200408n42882?mid=n0201\n",
       "     day_title                                                                      \n",
       "[1,] 공보물에 유일하게 '기후위기' 언급한 대전 후보는?                               \n",
       "[2,] [경기 안성] 통합당 김학용 43.8%, 민주당 이규민 43.5%                           \n",
       "[3,] 허경만 전 전남지사 \"순천 발전 위해 소병철 후보 지지해 달라\"                    \n",
       "[4,] [비디오머그] 허경영 게 섯거라? '억'소리 나는 지원금 공약 만발한 군소정당 토론회\n",
       "[5,] 문 대통령 \"과감하고 적극적인 재정 투입도 주저 않겠다\"                          \n",
       "[6,] [2020총선] 민주 '호남 석권' 기세…민생 \"인지도 높은 현역 역전 기대\"            "
      ]
     },
     "metadata": {},
     "output_type": "display_data"
    }
   ],
   "source": [
    "head(final_data)"
   ]
  },
  {
   "cell_type": "code",
   "execution_count": 23,
   "metadata": {},
   "outputs": [],
   "source": [
    "news_url<-final_data[,2] ## url할당, 다시 각 url에 접근하여 내용 추출\n",
    "i<-1\n",
    "news_list<-list()"
   ]
  },
  {
   "cell_type": "code",
   "execution_count": 24,
   "metadata": {},
   "outputs": [
    {
     "data": {
      "text/html": [
       "<ol class=list-inline>\n",
       "\t<li>'https://news.nate.com/view/20200408n26615?mid=n0201'</li>\n",
       "\t<li>'https://news.nate.com/view/20200408n00899?mid=n0201'</li>\n",
       "\t<li>'https://news.nate.com/view/20200408n25872?mid=n0201'</li>\n",
       "\t<li>'https://news.nate.com/view/20200408n42960?mid=n0201'</li>\n",
       "\t<li>'https://news.nate.com/view/20200408n41802?mid=n0201'</li>\n",
       "\t<li>'https://news.nate.com/view/20200408n42882?mid=n0201'</li>\n",
       "</ol>\n"
      ],
      "text/latex": [
       "\\begin{enumerate*}\n",
       "\\item 'https://news.nate.com/view/20200408n26615?mid=n0201'\n",
       "\\item 'https://news.nate.com/view/20200408n00899?mid=n0201'\n",
       "\\item 'https://news.nate.com/view/20200408n25872?mid=n0201'\n",
       "\\item 'https://news.nate.com/view/20200408n42960?mid=n0201'\n",
       "\\item 'https://news.nate.com/view/20200408n41802?mid=n0201'\n",
       "\\item 'https://news.nate.com/view/20200408n42882?mid=n0201'\n",
       "\\end{enumerate*}\n"
      ],
      "text/markdown": [
       "1. 'https://news.nate.com/view/20200408n26615?mid=n0201'\n",
       "2. 'https://news.nate.com/view/20200408n00899?mid=n0201'\n",
       "3. 'https://news.nate.com/view/20200408n25872?mid=n0201'\n",
       "4. 'https://news.nate.com/view/20200408n42960?mid=n0201'\n",
       "5. 'https://news.nate.com/view/20200408n41802?mid=n0201'\n",
       "6. 'https://news.nate.com/view/20200408n42882?mid=n0201'\n",
       "\n",
       "\n"
      ],
      "text/plain": [
       "[1] \"https://news.nate.com/view/20200408n26615?mid=n0201\"\n",
       "[2] \"https://news.nate.com/view/20200408n00899?mid=n0201\"\n",
       "[3] \"https://news.nate.com/view/20200408n25872?mid=n0201\"\n",
       "[4] \"https://news.nate.com/view/20200408n42960?mid=n0201\"\n",
       "[5] \"https://news.nate.com/view/20200408n41802?mid=n0201\"\n",
       "[6] \"https://news.nate.com/view/20200408n42882?mid=n0201\""
      ]
     },
     "metadata": {},
     "output_type": "display_data"
    }
   ],
   "source": [
    "head(paste0(\"https:\",news_url))"
   ]
  },
  {
   "cell_type": "code",
   "execution_count": null,
   "metadata": {},
   "outputs": [
    {
     "name": "stderr",
     "output_type": "stream",
     "text": [
      "Warning message in readLines(paste0(\"https:\", news_url[i]), encoding = \"EUC-KR\"):\n",
      "\"'https://news.nate.com/view/20200408n26615?mid=n0201'에서 불완전한 마지막 행이 발견되었습니다\"Best guess: EUC-KR (100% confident)\n"
     ]
    },
    {
     "name": "stdout",
     "output_type": "stream",
     "text": [
      "\n",
      " 1"
     ]
    },
    {
     "name": "stderr",
     "output_type": "stream",
     "text": [
      "Warning message in readLines(paste0(\"https:\", news_url[i]), encoding = \"EUC-KR\"):\n",
      "\"'https://news.nate.com/view/20200408n00899?mid=n0201'에서 불완전한 마지막 행이 발견되었습니다\"Best guess: EUC-KR (100% confident)\n"
     ]
    },
    {
     "name": "stdout",
     "output_type": "stream",
     "text": [
      "\n",
      " 2"
     ]
    },
    {
     "name": "stderr",
     "output_type": "stream",
     "text": [
      "Warning message in readLines(paste0(\"https:\", news_url[i]), encoding = \"EUC-KR\"):\n",
      "\"'https://news.nate.com/view/20200408n25872?mid=n0201'에서 불완전한 마지막 행이 발견되었습니다\"Best guess: EUC-KR (100% confident)\n"
     ]
    },
    {
     "name": "stdout",
     "output_type": "stream",
     "text": [
      "\n",
      " 3"
     ]
    },
    {
     "name": "stderr",
     "output_type": "stream",
     "text": [
      "Warning message in readLines(paste0(\"https:\", news_url[i]), encoding = \"EUC-KR\"):\n",
      "\"'https://news.nate.com/view/20200408n42960?mid=n0201'에서 불완전한 마지막 행이 발견되었습니다\"Best guess: EUC-KR (100% confident)\n"
     ]
    },
    {
     "name": "stdout",
     "output_type": "stream",
     "text": [
      "\n",
      " 4"
     ]
    },
    {
     "name": "stderr",
     "output_type": "stream",
     "text": [
      "Warning message in readLines(paste0(\"https:\", news_url[i]), encoding = \"EUC-KR\"):\n",
      "\"'https://news.nate.com/view/20200408n41802?mid=n0201'에서 불완전한 마지막 행이 발견되었습니다\"Best guess: EUC-KR (100% confident)\n"
     ]
    },
    {
     "name": "stdout",
     "output_type": "stream",
     "text": [
      "\n",
      " 5"
     ]
    },
    {
     "name": "stderr",
     "output_type": "stream",
     "text": [
      "Warning message in readLines(paste0(\"https:\", news_url[i]), encoding = \"EUC-KR\"):\n",
      "\"'https://news.nate.com/view/20200408n42882?mid=n0201'에서 불완전한 마지막 행이 발견되었습니다\"Best guess: EUC-KR (100% confident)\n"
     ]
    },
    {
     "name": "stdout",
     "output_type": "stream",
     "text": [
      "\n",
      " 6"
     ]
    },
    {
     "name": "stderr",
     "output_type": "stream",
     "text": [
      "Warning message in readLines(paste0(\"https:\", news_url[i]), encoding = \"EUC-KR\"):\n",
      "\"'https://news.nate.com/view/20200408n39477?mid=n0201'에서 불완전한 마지막 행이 발견되었습니다\"Best guess: EUC-KR (100% confident)\n"
     ]
    },
    {
     "name": "stdout",
     "output_type": "stream",
     "text": [
      "\n",
      " 7"
     ]
    },
    {
     "name": "stderr",
     "output_type": "stream",
     "text": [
      "Warning message in readLines(paste0(\"https:\", news_url[i]), encoding = \"EUC-KR\"):\n",
      "\"'https://news.nate.com/view/20200408n43025?mid=n0201'에서 불완전한 마지막 행이 발견되었습니다\"Best guess: EUC-KR (100% confident)\n"
     ]
    },
    {
     "name": "stdout",
     "output_type": "stream",
     "text": [
      "\n",
      " 8"
     ]
    },
    {
     "name": "stderr",
     "output_type": "stream",
     "text": [
      "Warning message in readLines(paste0(\"https:\", news_url[i]), encoding = \"EUC-KR\"):\n",
      "\"'https://news.nate.com/view/20200408n39911?mid=n0201'에서 불완전한 마지막 행이 발견되었습니다\"Best guess: EUC-KR (100% confident)\n"
     ]
    },
    {
     "name": "stdout",
     "output_type": "stream",
     "text": [
      "\n",
      " 9"
     ]
    },
    {
     "name": "stderr",
     "output_type": "stream",
     "text": [
      "Warning message in readLines(paste0(\"https:\", news_url[i]), encoding = \"EUC-KR\"):\n",
      "\"'https://news.nate.com/view/20200408n27835?mid=n0201'에서 불완전한 마지막 행이 발견되었습니다\"Best guess: EUC-KR (100% confident)\n"
     ]
    },
    {
     "name": "stdout",
     "output_type": "stream",
     "text": [
      "\n",
      " 10"
     ]
    },
    {
     "name": "stderr",
     "output_type": "stream",
     "text": [
      "Warning message in readLines(paste0(\"https:\", news_url[i]), encoding = \"EUC-KR\"):\n",
      "\"'https://news.nate.com/view/20200408n27840?mid=n0201'에서 불완전한 마지막 행이 발견되었습니다\"Best guess: EUC-KR (100% confident)\n"
     ]
    },
    {
     "name": "stdout",
     "output_type": "stream",
     "text": [
      "\n",
      " 11"
     ]
    },
    {
     "name": "stderr",
     "output_type": "stream",
     "text": [
      "Warning message in readLines(paste0(\"https:\", news_url[i]), encoding = \"EUC-KR\"):\n",
      "\"'https://news.nate.com/view/20200408n42788?mid=n0201'에서 불완전한 마지막 행이 발견되었습니다\"Best guess: EUC-KR (100% confident)\n"
     ]
    },
    {
     "name": "stdout",
     "output_type": "stream",
     "text": [
      "\n",
      " 12"
     ]
    },
    {
     "name": "stderr",
     "output_type": "stream",
     "text": [
      "Warning message in readLines(paste0(\"https:\", news_url[i]), encoding = \"EUC-KR\"):\n",
      "\"'https://news.nate.com/view/20200408n40821?mid=n0201'에서 불완전한 마지막 행이 발견되었습니다\"Best guess: EUC-KR (100% confident)\n"
     ]
    },
    {
     "name": "stdout",
     "output_type": "stream",
     "text": [
      "\n",
      " 13"
     ]
    },
    {
     "name": "stderr",
     "output_type": "stream",
     "text": [
      "Warning message in readLines(paste0(\"https:\", news_url[i]), encoding = \"EUC-KR\"):\n",
      "\"'https://news.nate.com/view/20200408n40133?mid=n0201'에서 불완전한 마지막 행이 발견되었습니다\"Best guess: EUC-KR (100% confident)\n"
     ]
    },
    {
     "name": "stdout",
     "output_type": "stream",
     "text": [
      "\n",
      " 14"
     ]
    },
    {
     "name": "stderr",
     "output_type": "stream",
     "text": [
      "Warning message in readLines(paste0(\"https:\", news_url[i]), encoding = \"EUC-KR\"):\n",
      "\"'https://news.nate.com/view/20200408n30986?mid=n0201'에서 불완전한 마지막 행이 발견되었습니다\"Best guess: EUC-KR (100% confident)\n"
     ]
    },
    {
     "name": "stdout",
     "output_type": "stream",
     "text": [
      "\n",
      " 15"
     ]
    },
    {
     "name": "stderr",
     "output_type": "stream",
     "text": [
      "Warning message in readLines(paste0(\"https:\", news_url[i]), encoding = \"EUC-KR\"):\n",
      "\"'https://news.nate.com/view/20200408n23186?mid=n0201'에서 불완전한 마지막 행이 발견되었습니다\"Best guess: EUC-KR (100% confident)\n"
     ]
    },
    {
     "name": "stdout",
     "output_type": "stream",
     "text": [
      "\n",
      " 16"
     ]
    },
    {
     "name": "stderr",
     "output_type": "stream",
     "text": [
      "Warning message in readLines(paste0(\"https:\", news_url[i]), encoding = \"EUC-KR\"):\n",
      "\"'https://news.nate.com/view/20200408n31872?mid=n0201'에서 불완전한 마지막 행이 발견되었습니다\"Best guess: EUC-KR (100% confident)\n"
     ]
    },
    {
     "name": "stdout",
     "output_type": "stream",
     "text": [
      "\n",
      " 17"
     ]
    },
    {
     "name": "stderr",
     "output_type": "stream",
     "text": [
      "Warning message in readLines(paste0(\"https:\", news_url[i]), encoding = \"EUC-KR\"):\n",
      "\"'https://news.nate.com/view/20200408n45140?mid=n0201'에서 불완전한 마지막 행이 발견되었습니다\"Best guess: EUC-KR (100% confident)\n"
     ]
    },
    {
     "name": "stdout",
     "output_type": "stream",
     "text": [
      "\n",
      " 18"
     ]
    },
    {
     "name": "stderr",
     "output_type": "stream",
     "text": [
      "Warning message in readLines(paste0(\"https:\", news_url[i]), encoding = \"EUC-KR\"):\n",
      "\"'https://news.nate.com/view/20200408n44848?mid=n0201'에서 불완전한 마지막 행이 발견되었습니다\"Best guess: EUC-KR (100% confident)\n"
     ]
    },
    {
     "name": "stdout",
     "output_type": "stream",
     "text": [
      "\n",
      " 19"
     ]
    },
    {
     "name": "stderr",
     "output_type": "stream",
     "text": [
      "Warning message in readLines(paste0(\"https:\", news_url[i]), encoding = \"EUC-KR\"):\n",
      "\"'https://news.nate.com/view/20200408n06551?mid=n0201'에서 불완전한 마지막 행이 발견되었습니다\"Best guess: EUC-KR (100% confident)\n"
     ]
    },
    {
     "name": "stdout",
     "output_type": "stream",
     "text": [
      "\n",
      " 20"
     ]
    },
    {
     "name": "stderr",
     "output_type": "stream",
     "text": [
      "Warning message in readLines(paste0(\"https:\", news_url[i]), encoding = \"EUC-KR\"):\n",
      "\"'https://news.nate.com/view/20200408n40398?mid=n0201'에서 불완전한 마지막 행이 발견되었습니다\"Best guess: EUC-KR (100% confident)\n"
     ]
    },
    {
     "name": "stdout",
     "output_type": "stream",
     "text": [
      "\n",
      " 21"
     ]
    },
    {
     "name": "stderr",
     "output_type": "stream",
     "text": [
      "Warning message in readLines(paste0(\"https:\", news_url[i]), encoding = \"EUC-KR\"):\n",
      "\"'https://news.nate.com/view/20200408n41754?mid=n0201'에서 불완전한 마지막 행이 발견되었습니다\"Best guess: EUC-KR (100% confident)\n"
     ]
    },
    {
     "name": "stdout",
     "output_type": "stream",
     "text": [
      "\n",
      " 22"
     ]
    },
    {
     "name": "stderr",
     "output_type": "stream",
     "text": [
      "Warning message in readLines(paste0(\"https:\", news_url[i]), encoding = \"EUC-KR\"):\n",
      "\"'https://news.nate.com/view/20200408n43107?mid=n0201'에서 불완전한 마지막 행이 발견되었습니다\"Best guess: EUC-KR (100% confident)\n"
     ]
    },
    {
     "name": "stdout",
     "output_type": "stream",
     "text": [
      "\n",
      " 23"
     ]
    },
    {
     "name": "stderr",
     "output_type": "stream",
     "text": [
      "Warning message in readLines(paste0(\"https:\", news_url[i]), encoding = \"EUC-KR\"):\n",
      "\"'https://news.nate.com/view/20200408n42065?mid=n0201'에서 불완전한 마지막 행이 발견되었습니다\"Best guess: EUC-KR (100% confident)\n"
     ]
    },
    {
     "name": "stdout",
     "output_type": "stream",
     "text": [
      "\n",
      " 24"
     ]
    },
    {
     "name": "stderr",
     "output_type": "stream",
     "text": [
      "Warning message in readLines(paste0(\"https:\", news_url[i]), encoding = \"EUC-KR\"):\n",
      "\"'https://news.nate.com/view/20200408n31879?mid=n0201'에서 불완전한 마지막 행이 발견되었습니다\"Best guess: EUC-KR (100% confident)\n"
     ]
    },
    {
     "name": "stdout",
     "output_type": "stream",
     "text": [
      "\n",
      " 25"
     ]
    },
    {
     "name": "stderr",
     "output_type": "stream",
     "text": [
      "Warning message in readLines(paste0(\"https:\", news_url[i]), encoding = \"EUC-KR\"):\n",
      "\"'https://news.nate.com/view/20200408n34627?mid=n0201'에서 불완전한 마지막 행이 발견되었습니다\"Best guess: EUC-KR (100% confident)\n"
     ]
    },
    {
     "name": "stdout",
     "output_type": "stream",
     "text": [
      "\n",
      " 26"
     ]
    },
    {
     "name": "stderr",
     "output_type": "stream",
     "text": [
      "Warning message in readLines(paste0(\"https:\", news_url[i]), encoding = \"EUC-KR\"):\n",
      "\"'https://news.nate.com/view/20200408n36745?mid=n0201'에서 불완전한 마지막 행이 발견되었습니다\"Best guess: EUC-KR (100% confident)\n"
     ]
    },
    {
     "name": "stdout",
     "output_type": "stream",
     "text": [
      "\n",
      " 27"
     ]
    },
    {
     "name": "stderr",
     "output_type": "stream",
     "text": [
      "Warning message in readLines(paste0(\"https:\", news_url[i]), encoding = \"EUC-KR\"):\n",
      "\"'https://news.nate.com/view/20200408n39828?mid=n0201'에서 불완전한 마지막 행이 발견되었습니다\"Best guess: EUC-KR (100% confident)\n"
     ]
    },
    {
     "name": "stdout",
     "output_type": "stream",
     "text": [
      "\n",
      " 28"
     ]
    },
    {
     "name": "stderr",
     "output_type": "stream",
     "text": [
      "Warning message in readLines(paste0(\"https:\", news_url[i]), encoding = \"EUC-KR\"):\n",
      "\"'https://news.nate.com/view/20200408n41183?mid=n0201'에서 불완전한 마지막 행이 발견되었습니다\"Best guess: EUC-KR (100% confident)\n"
     ]
    },
    {
     "name": "stdout",
     "output_type": "stream",
     "text": [
      "\n",
      " 29"
     ]
    },
    {
     "name": "stderr",
     "output_type": "stream",
     "text": [
      "Warning message in readLines(paste0(\"https:\", news_url[i]), encoding = \"EUC-KR\"):\n",
      "\"'https://news.nate.com/view/20200408n43289?mid=n0201'에서 불완전한 마지막 행이 발견되었습니다\"Best guess: EUC-KR (100% confident)\n"
     ]
    },
    {
     "name": "stdout",
     "output_type": "stream",
     "text": [
      "\n",
      " 30"
     ]
    },
    {
     "name": "stderr",
     "output_type": "stream",
     "text": [
      "Warning message in readLines(paste0(\"https:\", news_url[i]), encoding = \"EUC-KR\"):\n",
      "\"'https://news.nate.com/view/20200408n43866?mid=n0201'에서 불완전한 마지막 행이 발견되었습니다\"Best guess: EUC-KR (100% confident)\n"
     ]
    },
    {
     "name": "stdout",
     "output_type": "stream",
     "text": [
      "\n",
      " 31"
     ]
    },
    {
     "name": "stderr",
     "output_type": "stream",
     "text": [
      "Warning message in readLines(paste0(\"https:\", news_url[i]), encoding = \"EUC-KR\"):\n",
      "\"'https://news.nate.com/view/20200408n43886?mid=n0201'에서 불완전한 마지막 행이 발견되었습니다\"Best guess: EUC-KR (100% confident)\n"
     ]
    },
    {
     "name": "stdout",
     "output_type": "stream",
     "text": [
      "\n",
      " 32"
     ]
    },
    {
     "name": "stderr",
     "output_type": "stream",
     "text": [
      "Warning message in readLines(paste0(\"https:\", news_url[i]), encoding = \"EUC-KR\"):\n",
      "\"'https://news.nate.com/view/20200408n45159?mid=n0201'에서 불완전한 마지막 행이 발견되었습니다\"Best guess: EUC-KR (100% confident)\n"
     ]
    },
    {
     "name": "stdout",
     "output_type": "stream",
     "text": [
      "\n",
      " 33"
     ]
    },
    {
     "name": "stderr",
     "output_type": "stream",
     "text": [
      "Warning message in readLines(paste0(\"https:\", news_url[i]), encoding = \"EUC-KR\"):\n",
      "\"'https://news.nate.com/view/20200408n20200?mid=n0201'에서 불완전한 마지막 행이 발견되었습니다\"Best guess: EUC-KR (100% confident)\n"
     ]
    },
    {
     "name": "stdout",
     "output_type": "stream",
     "text": [
      "\n",
      " 34"
     ]
    },
    {
     "name": "stderr",
     "output_type": "stream",
     "text": [
      "Warning message in readLines(paste0(\"https:\", news_url[i]), encoding = \"EUC-KR\"):\n",
      "\"'https://news.nate.com/view/20200408n18746?mid=n0201'에서 불완전한 마지막 행이 발견되었습니다\"Best guess: EUC-KR (100% confident)\n"
     ]
    },
    {
     "name": "stdout",
     "output_type": "stream",
     "text": [
      "\n",
      " 35"
     ]
    },
    {
     "name": "stderr",
     "output_type": "stream",
     "text": [
      "Warning message in readLines(paste0(\"https:\", news_url[i]), encoding = \"EUC-KR\"):\n",
      "\"'https://news.nate.com/view/20200408n18745?mid=n0201'에서 불완전한 마지막 행이 발견되었습니다\"Best guess: EUC-KR (100% confident)\n"
     ]
    },
    {
     "name": "stdout",
     "output_type": "stream",
     "text": [
      "\n",
      " 36"
     ]
    },
    {
     "name": "stderr",
     "output_type": "stream",
     "text": [
      "Warning message in readLines(paste0(\"https:\", news_url[i]), encoding = \"EUC-KR\"):\n",
      "\"'https://news.nate.com/view/20200408n18741?mid=n0201'에서 불완전한 마지막 행이 발견되었습니다\"Best guess: EUC-KR (100% confident)\n"
     ]
    },
    {
     "name": "stdout",
     "output_type": "stream",
     "text": [
      "\n",
      " 37"
     ]
    },
    {
     "name": "stderr",
     "output_type": "stream",
     "text": [
      "Warning message in readLines(paste0(\"https:\", news_url[i]), encoding = \"EUC-KR\"):\n",
      "\"'https://news.nate.com/view/20200408n18740?mid=n0201'에서 불완전한 마지막 행이 발견되었습니다\"Best guess: EUC-KR (100% confident)\n"
     ]
    },
    {
     "name": "stdout",
     "output_type": "stream",
     "text": [
      "\n",
      " 38"
     ]
    },
    {
     "name": "stderr",
     "output_type": "stream",
     "text": [
      "Warning message in readLines(paste0(\"https:\", news_url[i]), encoding = \"EUC-KR\"):\n",
      "\"'https://news.nate.com/view/20200408n36991?mid=n0201'에서 불완전한 마지막 행이 발견되었습니다\"Best guess: EUC-KR (100% confident)\n"
     ]
    },
    {
     "name": "stdout",
     "output_type": "stream",
     "text": [
      "\n",
      " 39"
     ]
    },
    {
     "name": "stderr",
     "output_type": "stream",
     "text": [
      "Warning message in readLines(paste0(\"https:\", news_url[i]), encoding = \"EUC-KR\"):\n",
      "\"'https://news.nate.com/view/20200408n44715?mid=n0201'에서 불완전한 마지막 행이 발견되었습니다\"Best guess: EUC-KR (100% confident)\n"
     ]
    },
    {
     "name": "stdout",
     "output_type": "stream",
     "text": [
      "\n",
      " 40"
     ]
    },
    {
     "name": "stderr",
     "output_type": "stream",
     "text": [
      "Warning message in readLines(paste0(\"https:\", news_url[i]), encoding = \"EUC-KR\"):\n",
      "\"'https://news.nate.com/view/20200408n17692?mid=n0201'에서 불완전한 마지막 행이 발견되었습니다\"Best guess: EUC-KR (100% confident)\n"
     ]
    },
    {
     "name": "stdout",
     "output_type": "stream",
     "text": [
      "\n",
      " 41"
     ]
    },
    {
     "name": "stderr",
     "output_type": "stream",
     "text": [
      "Warning message in readLines(paste0(\"https:\", news_url[i]), encoding = \"EUC-KR\"):\n",
      "\"'https://news.nate.com/view/20200408n40235?mid=n0201'에서 불완전한 마지막 행이 발견되었습니다\"Best guess: EUC-KR (100% confident)\n"
     ]
    },
    {
     "name": "stdout",
     "output_type": "stream",
     "text": [
      "\n",
      " 42"
     ]
    },
    {
     "name": "stderr",
     "output_type": "stream",
     "text": [
      "Warning message in readLines(paste0(\"https:\", news_url[i]), encoding = \"EUC-KR\"):\n",
      "\"'https://news.nate.com/view/20200408n37154?mid=n0201'에서 불완전한 마지막 행이 발견되었습니다\"Best guess: EUC-KR (100% confident)\n"
     ]
    },
    {
     "name": "stdout",
     "output_type": "stream",
     "text": [
      "\n",
      " 43"
     ]
    },
    {
     "name": "stderr",
     "output_type": "stream",
     "text": [
      "Warning message in readLines(paste0(\"https:\", news_url[i]), encoding = \"EUC-KR\"):\n",
      "\"'https://news.nate.com/view/20200408n45251?mid=n0201'에서 불완전한 마지막 행이 발견되었습니다\"Best guess: EUC-KR (100% confident)\n"
     ]
    },
    {
     "name": "stdout",
     "output_type": "stream",
     "text": [
      "\n",
      " 44"
     ]
    },
    {
     "name": "stderr",
     "output_type": "stream",
     "text": [
      "Warning message in readLines(paste0(\"https:\", news_url[i]), encoding = \"EUC-KR\"):\n",
      "\"'https://news.nate.com/view/20200408n45249?mid=n0201'에서 불완전한 마지막 행이 발견되었습니다\"Best guess: EUC-KR (100% confident)\n"
     ]
    },
    {
     "name": "stdout",
     "output_type": "stream",
     "text": [
      "\n",
      " 45"
     ]
    },
    {
     "name": "stderr",
     "output_type": "stream",
     "text": [
      "Warning message in readLines(paste0(\"https:\", news_url[i]), encoding = \"EUC-KR\"):\n",
      "\"'https://news.nate.com/view/20200408n43485?mid=n0201'에서 불완전한 마지막 행이 발견되었습니다\"Best guess: EUC-KR (100% confident)\n"
     ]
    },
    {
     "name": "stdout",
     "output_type": "stream",
     "text": [
      "\n",
      " 46"
     ]
    },
    {
     "name": "stderr",
     "output_type": "stream",
     "text": [
      "Warning message in readLines(paste0(\"https:\", news_url[i]), encoding = \"EUC-KR\"):\n",
      "\"'https://news.nate.com/view/20200408n43215?mid=n0201'에서 불완전한 마지막 행이 발견되었습니다\"Best guess: EUC-KR (100% confident)\n"
     ]
    },
    {
     "name": "stdout",
     "output_type": "stream",
     "text": [
      "\n",
      " 47"
     ]
    },
    {
     "name": "stderr",
     "output_type": "stream",
     "text": [
      "Warning message in readLines(paste0(\"https:\", news_url[i]), encoding = \"EUC-KR\"):\n",
      "\"'https://news.nate.com/view/20200408n42426?mid=n0201'에서 불완전한 마지막 행이 발견되었습니다\"Best guess: EUC-KR (100% confident)\n"
     ]
    },
    {
     "name": "stdout",
     "output_type": "stream",
     "text": [
      "\n",
      " 48"
     ]
    },
    {
     "name": "stderr",
     "output_type": "stream",
     "text": [
      "Warning message in readLines(paste0(\"https:\", news_url[i]), encoding = \"EUC-KR\"):\n",
      "\"'https://news.nate.com/view/20200408n41440?mid=n0201'에서 불완전한 마지막 행이 발견되었습니다\"Best guess: EUC-KR (100% confident)\n"
     ]
    },
    {
     "name": "stdout",
     "output_type": "stream",
     "text": [
      "\n",
      " 49"
     ]
    },
    {
     "name": "stderr",
     "output_type": "stream",
     "text": [
      "Warning message in readLines(paste0(\"https:\", news_url[i]), encoding = \"EUC-KR\"):\n",
      "\"'https://news.nate.com/view/20200408n40271?mid=n0201'에서 불완전한 마지막 행이 발견되었습니다\"Best guess: EUC-KR (100% confident)\n"
     ]
    },
    {
     "name": "stdout",
     "output_type": "stream",
     "text": [
      "\n",
      " 50"
     ]
    },
    {
     "name": "stderr",
     "output_type": "stream",
     "text": [
      "Warning message in readLines(paste0(\"https:\", news_url[i]), encoding = \"EUC-KR\"):\n",
      "\"'https://news.nate.com/view/20200408n40017?mid=n0201'에서 불완전한 마지막 행이 발견되었습니다\"Best guess: EUC-KR (100% confident)\n"
     ]
    },
    {
     "name": "stdout",
     "output_type": "stream",
     "text": [
      "\n",
      " 51"
     ]
    },
    {
     "name": "stderr",
     "output_type": "stream",
     "text": [
      "Warning message in readLines(paste0(\"https:\", news_url[i]), encoding = \"EUC-KR\"):\n",
      "\"'https://news.nate.com/view/20200408n36451?mid=n0201'에서 불완전한 마지막 행이 발견되었습니다\"Best guess: EUC-KR (100% confident)\n"
     ]
    },
    {
     "name": "stdout",
     "output_type": "stream",
     "text": [
      "\n",
      " 52"
     ]
    },
    {
     "name": "stderr",
     "output_type": "stream",
     "text": [
      "Warning message in readLines(paste0(\"https:\", news_url[i]), encoding = \"EUC-KR\"):\n",
      "\"'https://news.nate.com/view/20200408n45177?mid=n0201'에서 불완전한 마지막 행이 발견되었습니다\"Best guess: EUC-KR (100% confident)\n"
     ]
    },
    {
     "name": "stdout",
     "output_type": "stream",
     "text": [
      "\n",
      " 53"
     ]
    },
    {
     "name": "stderr",
     "output_type": "stream",
     "text": [
      "Warning message in readLines(paste0(\"https:\", news_url[i]), encoding = \"EUC-KR\"):\n",
      "\"'https://news.nate.com/view/20200408n45155?mid=n0201'에서 불완전한 마지막 행이 발견되었습니다\"Best guess: EUC-KR (100% confident)\n"
     ]
    },
    {
     "name": "stdout",
     "output_type": "stream",
     "text": [
      "\n",
      " 54"
     ]
    },
    {
     "name": "stderr",
     "output_type": "stream",
     "text": [
      "Warning message in readLines(paste0(\"https:\", news_url[i]), encoding = \"EUC-KR\"):\n",
      "\"'https://news.nate.com/view/20200408n45143?mid=n0201'에서 불완전한 마지막 행이 발견되었습니다\"Best guess: EUC-KR (100% confident)\n"
     ]
    },
    {
     "name": "stdout",
     "output_type": "stream",
     "text": [
      "\n",
      " 55"
     ]
    },
    {
     "name": "stderr",
     "output_type": "stream",
     "text": [
      "Warning message in readLines(paste0(\"https:\", news_url[i]), encoding = \"EUC-KR\"):\n",
      "\"'https://news.nate.com/view/20200408n45135?mid=n0201'에서 불완전한 마지막 행이 발견되었습니다\"Best guess: EUC-KR (100% confident)\n"
     ]
    },
    {
     "name": "stdout",
     "output_type": "stream",
     "text": [
      "\n",
      " 56"
     ]
    },
    {
     "name": "stderr",
     "output_type": "stream",
     "text": [
      "Warning message in readLines(paste0(\"https:\", news_url[i]), encoding = \"EUC-KR\"):\n",
      "\"'https://news.nate.com/view/20200408n45134?mid=n0201'에서 불완전한 마지막 행이 발견되었습니다\"Best guess: EUC-KR (100% confident)\n"
     ]
    },
    {
     "name": "stdout",
     "output_type": "stream",
     "text": [
      "\n",
      " 57"
     ]
    },
    {
     "name": "stderr",
     "output_type": "stream",
     "text": [
      "Warning message in readLines(paste0(\"https:\", news_url[i]), encoding = \"EUC-KR\"):\n",
      "\"'https://news.nate.com/view/20200408n37211?mid=n0201'에서 불완전한 마지막 행이 발견되었습니다\"Best guess: EUC-KR (100% confident)\n"
     ]
    },
    {
     "name": "stdout",
     "output_type": "stream",
     "text": [
      "\n",
      " 58"
     ]
    },
    {
     "name": "stderr",
     "output_type": "stream",
     "text": [
      "Warning message in readLines(paste0(\"https:\", news_url[i]), encoding = \"EUC-KR\"):\n",
      "\"'https://news.nate.com/view/20200408n38004?mid=n0201'에서 불완전한 마지막 행이 발견되었습니다\"Best guess: EUC-KR (100% confident)\n"
     ]
    },
    {
     "name": "stdout",
     "output_type": "stream",
     "text": [
      "\n",
      " 59"
     ]
    },
    {
     "name": "stderr",
     "output_type": "stream",
     "text": [
      "Warning message in readLines(paste0(\"https:\", news_url[i]), encoding = \"EUC-KR\"):\n",
      "\"'https://news.nate.com/view/20200408n39015?mid=n0201'에서 불완전한 마지막 행이 발견되었습니다\"Best guess: EUC-KR (100% confident)\n"
     ]
    }
   ],
   "source": [
    "for(i in 1:length(news_url)){\n",
    "  if(class(try(b<-readLines(paste0(\"https:\",news_url[i]),encoding = \"EUC-KR\") ))=='try-error'){\n",
    "    j<-0\n",
    "    while(class(try(b<-readLines(paste0(\"https:\",news_url[i]),encoding = \"EUC-KR\") ))=='try-error'){ ## 서버 또는 클라이언트의 문제로 크롤링이 안될경우 5회 시도, 그래도 안되면 NA부여\n",
    "    if(j == 5){    \n",
    "      news_list[[i]] <-  NA \n",
    "       next;\n",
    "    }  \n",
    "      Sys.sleep(5)\n",
    "   }\n",
    "  }\n",
    "\n",
    " b<-repair_encoding(b)\n",
    " index1<-which(str_detect(b,\"<!-- 기사 내용 -->\"))\n",
    " index2<-which(str_detect(b,\"기자 sign -->\")) \n",
    " b2<-paste(b[index1:index2],collapse=\"\")\n",
    " b3<-gsub(\"<.*?>\",\"\",b2)\n",
    " b4<-str_split(b3,\"이 시각 많이 본 기사|관련뉴스\")  \n",
    " news_list[[i]] <-  b4[[1]][1]  \n",
    " cat(\"\\n\",i)\n",
    "}"
   ]
  },
  {
   "cell_type": "code",
   "execution_count": null,
   "metadata": {},
   "outputs": [],
   "source": [
    "head(news_list, 2)"
   ]
  },
  {
   "cell_type": "code",
   "execution_count": null,
   "metadata": {},
   "outputs": [],
   "source": [
    "final_news<-do.call(\"c\",news_list)\n",
    "save(final_news,file=\"final_news.RData\")"
   ]
  },
  {
   "cell_type": "code",
   "execution_count": null,
   "metadata": {},
   "outputs": [],
   "source": [
    "load(\"final_news.RData\")\n",
    "head(final_news, 2)"
   ]
  },
  {
   "cell_type": "code",
   "execution_count": null,
   "metadata": {},
   "outputs": [],
   "source": [
    "library(KoNLP)\n",
    "library(stringr)"
   ]
  },
  {
   "cell_type": "code",
   "execution_count": null,
   "metadata": {},
   "outputs": [],
   "source": [
    "########각종 불용어 제거 \n",
    "review<-final_news\n",
    "\n",
    "comments<-gsub(\"<.*?>\",\"\",review)\n",
    "comments<-gsub(\"\\t\",\"\",comments)\n",
    "comments<-gsub(\"[][!#$%*,:;<=>@_`|‘~{}&★☆ㅋㅎ《》◈△▲▽▼○●◎◇◆□◁◀▷▶♤♠♡♥♧♣◉◈▣■◐◑♨☏☎☜☞↖↘♭♩♪♬㈜ⓒ]\", \" \",comments)\n",
    "comments<-gsub(\"rdquo|gt|lt|nbsp|amp|quot|apos\",\"\",comments)\n",
    "comments<-gsub(\"  \",\" \",comments)\n",
    "comments<-gsub(\"\\\\^\",\" \",comments)\n",
    "comments<-gsub(\"ㅠ|ㅜ|ㅡ|ㅎ\",\" \",comments)\n",
    "comments<-gsub(\"\\\"|\\n|+\",\"\",comments)\n",
    "comments<-gsub(\"\\\\+\",\"\",comments)\n",
    "comments<-gsub(\"/|!|\\\\*|\\\\+|\\\\@\",\" \",comments)\n",
    "comments<-gsub(\"'\",\"\",comments)\n",
    "comments<-gsub(\"\\\"\",\"\",comments)\n",
    "comments<-gsub(\"\\\"\",\"\",comments)\n",
    "comments<-gsub(\"=\",\"\",comments)\n",
    "comments<-gsub(\"~|;|<|>\",\"\",comments)\n",
    "comments<-gsub(\"\\\\?\",\"\",comments)\n",
    "comments<-gsub(\"\\\\[.*?\\\\]\",\"\",comments)\n",
    "comments<-gsub(\"\\\\(.*?\\\\)\",\"\",comments)\n",
    "comments<-gsub(\"\\\\(|\\\\)\",\" \",comments)\n",
    "comments<-gsub(\"\\\\]|\\\\[|\\\\(|\\\\)|:|-|\\\\,|\\\\.\",\" \",comments)\n",
    "comments<-gsub(\"\\\\!\",\"\",comments)\n",
    "comments<-gsub(\"\\\"\\\"\",\"\",comments)\n",
    "\n",
    "head(comments)"
   ]
  },
  {
   "cell_type": "code",
   "execution_count": null,
   "metadata": {},
   "outputs": [],
   "source": [
    "### 특수문자외에 제거할 불영어\n",
    "er<-c(\"\",\"것\",\"원\",\"저\",\"년\",\"역\",\"나\",\"이\",\"수\",\"월\",\"한\",\"동\",\"대\",\"전\",\"층\",\"들\",\"때\",\n",
    "      \"개\",\"분\",\"적\",\"후\",\"점\",\"시\",\"별\",\"보건증\",\"곳\",\"번\",\"해서\",\"쪽\",\"데\",\"말\",\"시작\",\"우리\",\n",
    "      \"이번\",\"중\",\"지원\",\"사러가기\",\"명\",\"주\",\"기\",\"소\",\"률\",\"판\",\"판매목표\",\"구\",\"지금샵\",\"co\",\"kr\",\"com\",\"무단전재\",\"저작권자\",\n",
    "      \"일\",\"or\",\"드\",\"뭐\",\"백\",\"천\",\"듯\",\"만\",\"우\",\"잭\",\"거\",\"애\",\"등\",\"두\",\"타\",\"to\",\"the\",\"copyrights\",\"properties\",\"var\",\n",
    "      \"내\",\"제\",\"함\",\"지\",\"라\",\"안\",\"혜\")"
   ]
  },
  {
   "cell_type": "code",
   "execution_count": null,
   "metadata": {},
   "outputs": [],
   "source": [
    "length(comments)\n",
    "library(KoNLP)\n",
    "je<-list()\n",
    "\n",
    "for(i in 1:length(comments)){\n",
    "  ### 형태소 분석 결과 list에 저장, 만일 형태소 분석에 에러가 날경우 빈공백 삽입 \n",
    "  if(class(try(je[[i]]<-SimplePos09(comments[i])))=='try-error'){\n",
    "    je[[i]]<-\"\"\n",
    "    next;\n",
    "  }\n",
    "  cat(\"\\n\",i)\n",
    "}"
   ]
  },
  {
   "cell_type": "code",
   "execution_count": null,
   "metadata": {},
   "outputs": [],
   "source": [
    "je2<-do.call(\"c\",je)\n",
    "head(je2)"
   ]
  },
  {
   "cell_type": "code",
   "execution_count": null,
   "metadata": {},
   "outputs": [],
   "source": [
    "je3<-str_split(je2,\"/\") ### 형태소 분석결과를 \"/\"로 분리\n",
    "head(je3)"
   ]
  },
  {
   "cell_type": "code",
   "execution_count": null,
   "metadata": {},
   "outputs": [],
   "source": [
    "### \"/\"로 분리된 형태소 분석결과(vector)중 가장 첫번째 요소만 가져옴\n",
    "je4<-sapply(je3,function(x){x[1]})\n",
    "head(je4)"
   ]
  },
  {
   "cell_type": "code",
   "execution_count": null,
   "metadata": {},
   "outputs": [],
   "source": [
    "je5<-table(je4) ## 빈도수 통계 계산\n",
    "head(je5)"
   ]
  },
  {
   "cell_type": "code",
   "execution_count": null,
   "metadata": {},
   "outputs": [],
   "source": [
    "sort(je5,decreasing = T)[1:20] ## top20개"
   ]
  },
  {
   "cell_type": "code",
   "execution_count": null,
   "metadata": {},
   "outputs": [],
   "source": [
    "je6<-(je5)[!names(je5) %in% er] ## 불용어 제거\n",
    "je7<-je6[!nchar(names(je6)) == 1] ## 한글자 제거 \n",
    "je8<-je7[!str_detect(names(je7),\"\\\\d\")] ## 숫자 들어간 것들 제거(분석 목표가 무엇이냐에 따라 달라짐)"
   ]
  },
  {
   "cell_type": "code",
   "execution_count": null,
   "metadata": {},
   "outputs": [],
   "source": [
    "top_word<-sort(je8,decreasing = T)[1:100] ##  top 100개 지정\n",
    "save(top_word,file=\"top_word.RData\")"
   ]
  },
  {
   "cell_type": "code",
   "execution_count": null,
   "metadata": {},
   "outputs": [],
   "source": [
    "head(top_word)"
   ]
  },
  {
   "cell_type": "code",
   "execution_count": null,
   "metadata": {},
   "outputs": [],
   "source": [
    "load(\"top_word.RData\")\n"
   ]
  },
  {
   "cell_type": "code",
   "execution_count": null,
   "metadata": {},
   "outputs": [],
   "source": [
    "#########워드클라우드 그리는 법\n",
    "## 기본적인 워드클라우드 패키지는 \"wordcloud\"이나 자신이 원하는 이미지의 형태로 만들고 싶다면 \"wordcloud2\"를 사용하시면 됩니다. 워드클라우드를 하나하나 정성 스레 만들때에는 tagxedo사이트 (http://www.tagxedo.com/)에서 만드시는걸 권장 드립니다. 다량의 워드클라우드를 만들때에는 R을 사용하시면 편합니다.\n",
    "# install.packages(\"wordcloud\")\n",
    "library(wordcloud)\n",
    "# word<-names(je8) ## 단어 설정\n",
    "# freq<-as.numeric(je8) ## 빈도수 설정\n",
    "word<-names(top_word) ## 단어 설정\n",
    "freq<-as.numeric(top_word) ## 빈도수 설정\n",
    "wordcloud(word,freq) ## 기본적으로 워드클라우드 그리는 법"
   ]
  },
  {
   "cell_type": "code",
   "execution_count": null,
   "metadata": {},
   "outputs": [],
   "source": [
    "install.packages(\"extrafont\") ## 워드클라우드에 외부 폰트 적용할수 있는 패키지\n",
    "library(extrafont)\n",
    "font_import()  ## 시스템에 설치되있는 외부 폰트를 R에서 쓸수 있게 import시키는 과정입니다. 이 코드를 실행하시고 Y를 누르시고 enter를 누르시면 폰트가 import 되는데 20~30분정도 소요됩니다.\n",
    "fonttable()[,4] ## fonttable()하시면 사용가능한 폰트 목록이 보이는데 여기서 네번쨰 칼럼에 있는 폰트명을 사용하시면됩니다.\n",
    "windowsFonts(malgun=windowsFont(\"YJ INJANG Medium\"))  ## 폰트명 설정\n",
    "wordcloud(word,freq,family=\"malgun\") ## 다음과 같이 폰트를 지정해서 워드클라우드를 그릴 수 있습니다."
   ]
  },
  {
   "cell_type": "code",
   "execution_count": null,
   "metadata": {},
   "outputs": [],
   "source": [
    "### 맛있다 -> \"맛있\"만 추출\n",
    "### 맛있네요 -> \"맛있\"만 추출\n",
    "\n",
    "## 자동으로 working directory에 이미지를 저장하고 싶다면 아래 코드를 사용하시면 됩니다. \n",
    "png(paste0(\"wordcloud_image.png\"), width=720,height=320)\n",
    "windowsFonts(malgun=windowsFont(\"YJ INJANG Medium\")) \n",
    "wordcloud(word,freq,family=\"malgun\") \n",
    "dev.off()\n",
    "##여기에 글씨색깔만 조절해준다면 충분히 이쁜 워드클라우드를 만들 수 있습니다. "
   ]
  },
  {
   "cell_type": "code",
   "execution_count": null,
   "metadata": {},
   "outputs": [],
   "source": []
  }
 ],
 "metadata": {
  "kernelspec": {
   "display_name": "R",
   "language": "R",
   "name": "ir"
  },
  "language_info": {
   "codemirror_mode": "r",
   "file_extension": ".r",
   "mimetype": "text/x-r-source",
   "name": "R",
   "pygments_lexer": "r",
   "version": "3.6.1"
  }
 },
 "nbformat": 4,
 "nbformat_minor": 4
}
