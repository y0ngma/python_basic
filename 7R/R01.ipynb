{
 "cells": [
  {
   "cell_type": "code",
   "execution_count": 1,
   "metadata": {},
   "outputs": [
    {
     "name": "stderr",
     "output_type": "stream",
     "text": [
      "Installing package into 'C:/Users/admin/Documents/R/win-library/3.6'\n",
      "(as 'lib' is unspecified)\n",
      "also installing the dependencies 'lattice', 'nlme', 'Matrix', 'MASS', 'mgcv'\n",
      "\n"
     ]
    },
    {
     "name": "stdout",
     "output_type": "stream",
     "text": [
      "package 'lattice' successfully unpacked and MD5 sums checked\n",
      "package 'nlme' successfully unpacked and MD5 sums checked\n",
      "package 'Matrix' successfully unpacked and MD5 sums checked\n",
      "package 'MASS' successfully unpacked and MD5 sums checked\n",
      "package 'mgcv' successfully unpacked and MD5 sums checked\n",
      "package 'ggplot2' successfully unpacked and MD5 sums checked\n",
      "\n",
      "The downloaded binary packages are in\n",
      "\tC:\\Users\\admin\\AppData\\Local\\Temp\\RtmpcDRQrR\\downloaded_packages\n"
     ]
    }
   ],
   "source": [
    "install.packages('ggplot2')\n"
   ]
  },
  {
   "cell_type": "code",
   "execution_count": 2,
   "metadata": {},
   "outputs": [
    {
     "name": "stderr",
     "output_type": "stream",
     "text": [
      "Warning message:\n",
      "\"package 'ggplot2' was built under R version 3.6.3\""
     ]
    }
   ],
   "source": [
    "library(ggplot2)"
   ]
  },
  {
   "cell_type": "code",
   "execution_count": 4,
   "metadata": {},
   "outputs": [
    {
     "ename": "ERROR",
     "evalue": "Error in parse(text = x, srcfile = src): <text>:1:16: 예기치 않은 ','입니다\n1: qplot=(data=mpg,\n                   ^\n",
     "output_type": "error",
     "traceback": [
      "Error in parse(text = x, srcfile = src): <text>:1:16: 예기치 않은 ','입니다\n1: qplot=(data=mpg,\n                   ^\nTraceback:\n"
     ]
    }
   ],
   "source": [
    "qplot=(data=mpg, x=hwy)"
   ]
  },
  {
   "cell_type": "code",
   "execution_count": 6,
   "metadata": {},
   "outputs": [
    {
     "ename": "ERROR",
     "evalue": "Error in read_excel(\"./data/excel_exam.xlsx\"): 함수 \"read_excel\"를 찾을 수 없습니다\n",
     "output_type": "error",
     "traceback": [
      "Error in read_excel(\"./data/excel_exam.xlsx\"): 함수 \"read_excel\"를 찾을 수 없습니다\nTraceback:\n"
     ]
    }
   ],
   "source": [
    "df_exam <- read_excel('./data/excel_exam.xlsx')\n"
   ]
  },
  {
   "cell_type": "code",
   "execution_count": null,
   "metadata": {},
   "outputs": [],
   "source": [
    "## Rstudio에서의 주석은 # 사용 \n",
    "### 연산자는 파이썬과 거의 동일 \n",
    "> setwd('C:/Repository/python_basic/7R')\n",
    "> getwd()\n",
    "[1] \"C:/Repository/python_basic/7R\"\n",
    "\n",
    "a<-1 # a라는 변수에 1이라는 값 대입 \n",
    "ls() # 현재 메모리에 올라와있는 것들의 리스트를 출력해 줌\n",
    "\n",
    "var1<-c(1,2,5,7,8) # 하나의 변수에 여러 값 대입 \n",
    "var2<-c(1:5) # 1부터 5까지 1씩 증가되는 형태로 데이터 임의 생성 \n",
    "var3<-seq(1,5) # sequence 함수 : 1부터 5까지 \n",
    "var5<-seq(1,10, by=3) # 1부터 10까지, 3씩 증가 \n",
    "var5<-seq(1,10,by=2) \n",
    "var1+2 # var1 : 1 3 5 7 8 이었는 데, var1의 각각의 값에 2가 더해진 결과가 나옴 3 4 7 9 10 \n",
    "str3 <- \"Hello World!\" \n",
    "str5 <- c(\"Hello!\", \"World\", \"is\", \"good!\") \n",
    "str5+2 # 문자열에 산술연산자 쓰면 에러남\n",
    "x<-c(1,2,3)\n",
    "mean(x)\n",
    "max(x)\n",
    "min(x)\n",
    "paste(str5, collapse = \",\") # 합쳐주는 작업을 할 때 배열로 되어있는 애들을 ,를 이용해 합침 \n",
    "### 실행 결과 \n",
    "paste(str5, collapse = \",\")\n",
    "### [1] \"Hello!,World,is,good!\"\n",
    "?paste # 함수명(?) 앞에 ? 쓰면, 오른쪽 아래 창에서 함수에 대한 설명 볼 수 있음 \n",
    "\n",
    "## 패키지 설치 install.packages(\"패키지명\") \n",
    "install.packages(\"ggplot2\") \n",
    "library(ggplot2) # ggplot 패키지 로드 # 주의 사항 : \"\"쓰면 안됨! \n",
    "x<-c(\"a\",\"a\",\"b\",\"c\")\n",
    "qplot(x) # 그래프 그리기 \n",
    "qplot(data=mpg, x = hwy) # data에 mpg, x축에 hwy 변수 지정하여 그래프 생성 \n",
    "# mpg는 r에서 기본적으로 제공되는 데이터 \n",
    "?qplot # qplot 사용법 참고하기 \n",
    "\n",
    "## 시험 점수 변수 만들고 출력하기 \n",
    "score <- c(80,60,70....) \n",
    "mean(score) # 전체 평균 구하기 \n",
    "mean_score <- mean(score) # 전체 평균 변수 만들고 출력하기 \n",
    "print(mean_score) \n",
    "require(패키지명) # library() 함수와 유사, 주로 함수 안에서 사용함 \n",
    "detach(\"package:패키지명\", unload=TRUE)  # 패키지를 언로드 하기 위해서 detach()함수를 사용함 \n",
    "\n",
    "## 변수명 만들 때 규칙 \n",
    "# - 첫 글자는 알파벳 또는 '.'로 시작해야함 \n",
    "# - '.'로 시작 시 바로 뒤에는 숫자가 올 수 없으며, 히든(hidden) 변수가 됨 \n",
    "\n",
    "## 변수 할당 연산자 <-, ->(왼쪽 값을 오른쪽에 할당) , =, <<-, ->>\n",
    "\n",
    "## 변수 조회 \n",
    "ls()\n",
    "ls.str() # 변수의 이름과 구조를 표시 \n",
    "ls(all.names=TRUE) # hidden 변수도 표시해 줌 \n",
    "\n",
    "## 변수/ 값 삭제 \n",
    "rm(varA) # varA 변수 삭제 \n",
    "rm(list=c('varA', 'varB')) # varA, varB 변수 삭제 \n",
    "rm(list=ls(all=TRUE)) # 메모리에 로딩되어있는 모든 변수 삭제 \n",
    "\n",
    "\n",
    "\n",
    "## 데이터 프레임 만들기 \n",
    "english <- c(90, 80,....)\n",
    "math <- c(40,60,...)\n",
    "class <- c(1,1,2,2) \n",
    "df_midterm <- data.frame(english, math) # 데이터 프레임 생성 \n",
    "print(df_midterm)\n",
    "df_midterm <- data.frame(english, math, class) \n",
    "print(df_midterm)\n",
    "\n",
    "#############################################################\n",
    "# 실습 1 : data.frame()과 c()를 조합해서 표의 내용을 데이터 프레임으로 만들어 출력해보세요 \n",
    "# 실습 2 : 실습 1에서 만든 데이터 프레임을 이용해서 과일 가격 평균, 판매량 평균을 구해보세요 \n",
    "\n",
    "product <- c(\"사과\", \"딸기\", \"수박\") \n",
    "price <- c(1800, 1500, 3000) \n",
    "sale <- c(24, 38, 13) \n",
    "\n",
    "df_ <- c(product, price, sale) \n",
    "mean(df_$price) \n",
    "mean(df_$sale) \n",
    "#############################################################\n",
    "\n",
    "## readxl 패키지 설치 \n",
    "install.packages(\"readxl\") \n",
    "library(readxl) # readxl 패키지 로드 \n",
    "df_exam <- read_excel(\"excel_exam.xlsx\") \n",
    "df_exam \n",
    "mean(df_exam$english)\n",
    "df_exam_novar <- read_excel(\"exam_novar.xlsx\", col_names = F) # 엑셀 파일에 컬럼명이 없을 경우 col_names = F \n",
    "print(df_exam_novar) \n",
    "\n",
    "df_exam_sheet <- read_excel(\"excel_exam_sheet.xlsx\", sheet=3 ) # 한 파일에 sheet가 여러개 있다면 \n",
    "print(df_exam_sheet)\n",
    "\n",
    "df_csv_exam <- read.csv(\"csv_exam.csv\", stringsAsFactors = F) # 문자가 있는 파일을 불러올 때는 stringsAsFactors = F\n",
    "print(df_csv_exam)\n",
    "\n",
    "\n",
    "## R 교재 내용 \n",
    "### 외부 데이터 이용하기\n",
    "\n",
    "### 엑셀 파일 \n",
    "library(readxl) # readxl 패키지 로드\n",
    "df_exam <- read_excel(\"excel_exam.xlsx\") # 엑셀 파일 불러오기\n",
    "\n",
    "### csv 파일 \n",
    "df_csv_exam <- read.csv(\"csv_exam.csv\") # csv 파일 불러오기\n",
    "write.csv(df_midterm, file = \"df_midterm.csv\") # csv 파일로 저장하기\n",
    "\n",
    "### Rda 파일 \n",
    "load(\"df_midterm.rda\") # Rda 파일 불러오기\n",
    "save(df_midterm, file = \"df_midterm.rda\") # Rda 파일로 저장하기 \n",
    "\n",
    "\n",
    "## 데이터를 파악할 때 사용하는 함수들\n",
    "\n",
    "\t함수 / 기능\n",
    "\thead() / 데이터 앞부분 출력\n",
    "\ttail() / 데이터 뒷부분 출력\n",
    "\tView() / 뷰어 창에서 데이터 확인\n",
    "\tdim() / 데이터 차원 출력\n",
    "\tstr() / 데이터 속성 출력\n",
    "\tsummary() / 요약 통계량 출력\n",
    "```\n",
    "\n",
    "\n",
    "\n",
    "\n",
    "\n",
    "\n",
    "\n",
    "\n",
    "\n",
    " \n",
    "\n",
    "\n",
    "\n",
    "\n",
    "\n",
    "\n",
    "\n",
    "\n",
    "\n",
    "\n",
    "\n",
    "\n",
    "\n",
    "\n",
    "\n"
   ]
  },
  {
   "cell_type": "code",
   "execution_count": null,
   "metadata": {},
   "outputs": [],
   "source": []
  }
 ],
 "metadata": {
  "kernelspec": {
   "display_name": "R",
   "language": "R",
   "name": "ir"
  },
  "language_info": {
   "codemirror_mode": "r",
   "file_extension": ".r",
   "mimetype": "text/x-r-source",
   "name": "R",
   "pygments_lexer": "r",
   "version": "3.6.1"
  }
 },
 "nbformat": 4,
 "nbformat_minor": 2
}
