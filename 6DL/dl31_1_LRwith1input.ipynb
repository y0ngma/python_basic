{
  "nbformat": 4,
  "nbformat_minor": 0,
  "metadata": {
    "kernelspec": {
      "display_name": "Python 3",
      "language": "python",
      "name": "python3"
    },
    "language_info": {
      "codemirror_mode": {
        "name": "ipython",
        "version": 3
      },
      "file_extension": ".py",
      "mimetype": "text/x-python",
      "name": "python",
      "nbconvert_exporter": "python",
      "pygments_lexer": "ipython3",
      "version": "3.7.4"
    },
    "colab": {
      "name": "dl31_1_LRwith1input.ipynb",
      "provenance": []
    }
  },
  "cells": [
    {
      "cell_type": "markdown",
      "metadata": {
        "id": "X3LuO4Pkumr5",
        "colab_type": "text"
      },
      "source": [
        "# 단일입력 로지스틱 회귀\n",
        "- 1개를 입력받아 0 또는 1을 출력하는 로지스틱회귀모델\n"
      ]
    },
    {
      "cell_type": "code",
      "metadata": {
        "id": "oE2GyYE5umr6",
        "colab_type": "code",
        "colab": {}
      },
      "source": [
        "from keras.models import Sequential\n",
        "from keras.layers import Dense, Activation\n",
        "import numpy as np"
      ],
      "execution_count": 0,
      "outputs": []
    },
    {
      "cell_type": "code",
      "metadata": {
        "id": "KmSHfRTgumr-",
        "colab_type": "code",
        "colab": {
          "base_uri": "https://localhost:8080/",
          "height": 233
        },
        "outputId": "f0bf954c-d57b-4eb8-feef-68303905a051"
      },
      "source": [
        "# sigmoid(wx+b)의 형태를 갖는 간단한 로지스틱 회귀\n",
        "model = Sequential()\n",
        "model.add( Dense(input_dim=1, units=1) )\n",
        "model.add( Activation('sigmoid') )\n",
        "model.compile( loss='binary_crossentropy' # MSE와 비슷 1-log()\n",
        "              , optimizer='sgd', metrics=['binary_accuracy'] )\n",
        "\n",
        "X = np.array( [-2, -1.5, -1, 1.25, 1.62, 2] )\n",
        "y = np.array( [0, 0, 0, 1, 1, 1] )\n",
        "\n",
        "model.fit( X, y, epochs=300, verbose=0 )\n",
        "\n",
        "model.predict( [-2, -1.5, -1, 1.25, 1.62, 2] )\n",
        "# model.predict( [-10000, 10000] ) # array([[0.],\n",
        "                                        # [1.]], dtype=float32)\n",
        "model.summary()"
      ],
      "execution_count": 15,
      "outputs": [
        {
          "output_type": "stream",
          "text": [
            "Model: \"sequential_5\"\n",
            "_________________________________________________________________\n",
            "Layer (type)                 Output Shape              Param #   \n",
            "=================================================================\n",
            "dense_5 (Dense)              (None, 1)                 2         \n",
            "_________________________________________________________________\n",
            "activation_5 (Activation)    (None, 1)                 0         \n",
            "=================================================================\n",
            "Total params: 2\n",
            "Trainable params: 2\n",
            "Non-trainable params: 0\n",
            "_________________________________________________________________\n"
          ],
          "name": "stdout"
        }
      ]
    },
    {
      "cell_type": "code",
      "metadata": {
        "id": "k1w6WegVumsJ",
        "colab_type": "code",
        "outputId": "5a181965-10e1-43a7-b99b-c83444969ebf",
        "colab": {
          "base_uri": "https://localhost:8080/",
          "height": 53
        }
      },
      "source": [
        "# 첫번째 레이어에 존재하는 w와 b 확인\n",
        "print(model.layers[0].weights)\n",
        "print(model.layers[0].get_weights)\n"
      ],
      "execution_count": 19,
      "outputs": [
        {
          "output_type": "stream",
          "text": [
            "[<tf.Variable 'dense_5/kernel:0' shape=(1, 1) dtype=float32, numpy=array([[1.0759104]], dtype=float32)>, <tf.Variable 'dense_5/bias:0' shape=(1,) dtype=float32, numpy=array([-0.01602679], dtype=float32)>]\n",
            "<bound method Layer.get_weights of <keras.layers.core.Dense object at 0x7f9bc3e7e208>>\n"
          ],
          "name": "stdout"
        }
      ]
    }
  ]
}