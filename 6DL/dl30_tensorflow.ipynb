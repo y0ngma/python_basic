{
 "cells": [
  {
   "cell_type": "code",
   "execution_count": 1,
   "metadata": {},
   "outputs": [
    {
     "data": {
      "text/plain": [
       "<module 'tensorflow_core._api.v2.version' from 'C:\\\\Users\\\\admin\\\\Anaconda3\\\\lib\\\\site-packages\\\\tensorflow_core\\\\_api\\\\v2\\\\version\\\\__init__.py'>"
      ]
     },
     "execution_count": 1,
     "metadata": {},
     "output_type": "execute_result"
    }
   ],
   "source": [
    "import tensorflow as tf\n",
    "\n",
    "tf.version"
   ]
  },
  {
   "cell_type": "code",
   "execution_count": 2,
   "metadata": {},
   "outputs": [
    {
     "name": "stderr",
     "output_type": "stream",
     "text": [
      "Using TensorFlow backend.\n"
     ]
    }
   ],
   "source": [
    "from keras import optimizers\n",
    "from keras.models import Sequential\n",
    "from keras.layers import Dense\n",
    "import numpy as np\n",
    "import matplotlib.pyplot as plt\n",
    "%matplotlib inline"
   ]
  },
  {
   "cell_type": "code",
   "execution_count": 3,
   "metadata": {},
   "outputs": [],
   "source": [
    "# * :언팩\n",
    "# linspace : 랜덤으로 값을 0에서 10까지 10개 만들어줌\n",
    "# randn : 난수 발생\n",
    "# *X.shape : 튜플을 언팩해서 자료를 넘겨줌\n",
    "X = np.linspace(0,10,10)\n",
    "Y = X + np.random.randn(*X.shape)"
   ]
  },
  {
   "cell_type": "markdown",
   "metadata": {},
   "source": [
    "### seed\n",
    "- 무작위와 관련된 모든 알고리즘은 사실 무작위가 아니라 시자가 숫자를 정해주면 그 다음에는 정해진 알고리즘에 의해 마치 난수처럼 보이는 수열을 생성한다.\n",
    "- 같은 알고리즘을 여러번 실행하더라도 다른 숫자가 나오도록 시작 숫자를 현재 시간등을 이용해서 매번 바꿔줄 수 있고, 이를 시드(seed)라고 한다.\n",
    "\n",
    "### numpy 난수 메소드\n",
    "- np.random.seed : seed를 통한 난수 생성\n",
    "- np.random.rand : 0부터 1 사이의 균일 분포에서 난수 생성\n",
    "- np.random.randn : 가우시안 표준 정규 분포에서 난수 생성\n",
    "- np.random.randint : 균일 분포의 정수 난수 생성\n",
    "- np.random.shuffle : 기존의 데이터의 순서 바꾸기\n",
    "- np.random.choice : 기존의 데이터에서 sampling\n",
    "- np.unique : 데이터에서 중복된 값을 제거하고 중복되지 않는 값의 리스트 출력\n",
    "- np.bincount : 발생하지 않는 사건에 대해서도 카운트를 해준다"
   ]
  },
  {
   "cell_type": "markdown",
   "metadata": {},
   "source": [
    "## TF 2.x 환경에서 TF 1.x 소스 실행할때 TF 임포트 방법\n",
    "```python\n",
    "import tensorflow.compat.v1 as tf\n",
    "tf.disable_v2_behavior()\n",
    "```"
   ]
  },
  {
   "cell_type": "code",
   "execution_count": null,
   "metadata": {},
   "outputs": [],
   "source": []
  },
  {
   "cell_type": "code",
   "execution_count": 4,
   "metadata": {},
   "outputs": [
    {
     "name": "stdout",
     "output_type": "stream",
     "text": [
      "(0.0, 1.2)\n",
      "(1.1, 0.3)\n",
      "(2.2, 3.3)\n",
      "(3.3, 1.6)\n",
      "(4.4, 4.1)\n",
      "(5.6, 6.3)\n",
      "(6.7, 7.3)\n",
      "(7.8, 8.4)\n",
      "(8.9, 8.8)\n",
      "(10.0, 11.0)\n"
     ]
    }
   ],
   "source": [
    "# 데이터 조회\n",
    "for x, y in zip(X, Y):\n",
    "    print(( round(x, 1), round(y, 1) ))"
   ]
  },
  {
   "cell_type": "code",
   "execution_count": 5,
   "metadata": {},
   "outputs": [],
   "source": [
    "# 선형 회귀모델 만들기 keras의 Sequential 을 이용\n",
    "model = Sequential()\n",
    "model.add( Dense(input_dim=1, units=1, activation=\"linear\", use_bias=False) )"
   ]
  },
  {
   "cell_type": "code",
   "execution_count": 6,
   "metadata": {},
   "outputs": [],
   "source": [
    "# 경사하강법으로 선형회귀함수, learning rate 0.01, 손실함수 MSE사용\n",
    "sgd = optimizers.SGD( lr = 0.01 )\n",
    "model.compile( optimizer = 'sgd', loss='mse' )"
   ]
  },
  {
   "cell_type": "code",
   "execution_count": 7,
   "metadata": {},
   "outputs": [
    {
     "name": "stdout",
     "output_type": "stream",
     "text": [
      "initial w is:1.6846975\n"
     ]
    }
   ],
   "source": [
    "# 선형회귀모델을 학습하기전에 최초로 설정된 w를 조회\n",
    "weights = model.layers[0].get_weights()\n",
    "w = weights[0][0][0]\n",
    "print( 'initial w is:' +str(w) )"
   ]
  },
  {
   "cell_type": "code",
   "execution_count": 8,
   "metadata": {},
   "outputs": [
    {
     "name": "stdout",
     "output_type": "stream",
     "text": [
      "Epoch 1/10\n",
      "10/10 [==============================] - 1s 119ms/step - loss: 15.0004\n",
      "Epoch 2/10\n",
      "10/10 [==============================] - 0s 2ms/step - loss: 2.0417\n",
      "Epoch 3/10\n",
      "10/10 [==============================] - 0s 298us/step - loss: 0.9041\n",
      "Epoch 4/10\n",
      "10/10 [==============================] - 0s 299us/step - loss: 0.8042\n",
      "Epoch 5/10\n",
      "10/10 [==============================] - 0s 299us/step - loss: 0.7954\n",
      "Epoch 6/10\n",
      "10/10 [==============================] - 0s 299us/step - loss: 0.7947\n",
      "Epoch 7/10\n",
      "10/10 [==============================] - 0s 299us/step - loss: 0.7946\n",
      "Epoch 8/10\n",
      "10/10 [==============================] - 0s 299us/step - loss: 0.7946\n",
      "Epoch 9/10\n",
      "10/10 [==============================] - 0s 199us/step - loss: 0.7946\n",
      "Epoch 10/10\n",
      "10/10 [==============================] - 0s 299us/step - loss: 0.7946\n"
     ]
    },
    {
     "data": {
      "text/plain": [
       "<keras.callbacks.callbacks.History at 0x228e350b808>"
      ]
     },
     "execution_count": 8,
     "metadata": {},
     "output_type": "execute_result"
    }
   ],
   "source": [
    "# 선형회귀모델 학습\n",
    "model.fit( X, Y, batch_size=10, epochs=10, verbose=1 )"
   ]
  },
  {
   "cell_type": "code",
   "execution_count": 13,
   "metadata": {},
   "outputs": [
    {
     "data": {
      "image/png": "[encoded data removed]",
      "text/plain": [
       "<Figure size 432x288 with 1 Axes>"
      ]
     },
     "metadata": {
      "needs_background": "light"
     },
     "output_type": "display_data"
    }
   ],
   "source": [
    "plt.plot(X, Y, label='data')\n",
    "plt.plot(X, X*w, label = 'prediction')\n",
    "plt.legend()\n",
    "plt.show()"
   ]
  }
 ],
 "metadata": {
  "kernelspec": {
   "display_name": "Python 3",
   "language": "python",
   "name": "python3"
  },
  "language_info": {
   "codemirror_mode": {
    "name": "ipython",
    "version": 3
   },
   "file_extension": ".py",
   "mimetype": "text/x-python",
   "name": "python",
   "nbconvert_exporter": "python",
   "pygments_lexer": "ipython3",
   "version": "3.7.4"
  }
 },
 "nbformat": 4,
 "nbformat_minor": 2
}
