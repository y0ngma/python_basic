{
  "nbformat": 4,
  "nbformat_minor": 0,
  "metadata": {
    "colab": {
      "name": "dl31_2_LRwith2input.ipynb",
      "provenance": [],
      "collapsed_sections": []
    },
    "kernelspec": {
      "name": "python3",
      "display_name": "Python 3"
    }
  },
  "cells": [
    {
      "cell_type": "markdown",
      "metadata": {
        "id": "FHUeyLnGvZGf",
        "colab_type": "text"
      },
      "source": [
        "# 다중입력 로지스틱 회귀\n",
        "- 2개의 입력을 받아 0 또는 1을 출력하는 로지스틱 회귀모델\n",
        "- 2개의 입력을 받아 1개의 출력을 내는 예제로 AND 연산\n",
        "- AND연산 로지스틱 회귀 구현\n"
      ]
    },
    {
      "cell_type": "code",
      "metadata": {
        "id": "kSR8Ry4MvsUy",
        "colab_type": "code",
        "colab": {}
      },
      "source": [
        "from keras.models import Sequential\n",
        "from keras.layers import Dense, Activation\n",
        "import numpy as np\n",
        "\n",
        "model = Sequential()\n",
        "model.add( Dense(input_dim=2, units=1) )\n",
        "model.add( Activation('sigmoid') )\n",
        "model.compile( loss='binary_crossentropy', optimizer='sgd', metrics=['binary_accuracy'] )\n",
        "\n",
        "X = np.array( [(0,0), (0,1), (1,0), (1,1)] )\n",
        "y = np.array( [0, 0, 0, 1] )\n",
        "model.fit( X, y, epochs=5000, verbose=0 )\n",
        "\n",
        "model.predict(X)\n",
        "# array([[0.04350916],\n",
        "#        [0.23182303],\n",
        "#        [0.22537379],\n",
        "#        [0.6587286 ]], dtype=float32)\n",
        "\n",
        "model.summary()\n",
        "\n",
        "# model.layers[0].get_weights()\n",
        "# [array([[2.1014493],\n",
        "#         [2.0441177]], dtype=float32), array([-3.373179], dtype=float32)]"
      ],
      "execution_count": 0,
      "outputs": []
    }
  ]
}