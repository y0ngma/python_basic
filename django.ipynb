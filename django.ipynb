{
 "cells": [
  {
   "cell_type": "markdown",
   "metadata": {},
   "source": [
    "## Django\n",
    "\n",
    "### http://ihongss.com/home \n",
    "    ## id/pw 20191216\n",
    "\n",
    "```\n",
    "$ cd C:\\Users\\ihong\\Documents\\python1  <= 폴더 이동(예시 _ 자기 폴더 위치 C에 생성하시오=> 빠르고 편함)\n",
    "$ conda install django  <= 모듈 설치(모듈이 없다면 설치)\n",
    "$ django-admin startproject project1  <= project1생성(원하는 이름의 폴더를 생성)\n",
    "$ cd project1 <= 생성한 프로젝트 폴더로 이동\n",
    "$ django-admin startapp member <= member 앱 생성\n",
    "$ django-admin startapp board <= board 앱 생성(여러개 생성 가능)\n",
    "$ python manage.py runserver <= django 서버 구동(http://127.0.0.1:8000/)\n",
    "\n",
    "\n",
    "```\n"
   ]
  },
  {
   "cell_type": "markdown",
   "metadata": {},
   "source": [
    "### 서버 구동방법\n",
    "#### Docker Toolbox 에서\n",
    "    ``` $ docker ps -a``` # 컨테이너 구동 확인\n",
    "    ``` $ docker start oracle12c``` # 컨테이너 실행\n",
    "    ``` $ docker ps -a ```\n",
    "#### anaconda에서 manage.py경로에서\n",
    "    ``` $ python manage.py runserver```\n",
    "    \n",
    "#### 끄는방법은 다음과 같다.\n",
    "    ``` $ docker stop oracle12c\n",
    "    ``` $ docker-machine stop```\n",
    "    ``` $ python manage.py migrate``` # DB설정 바꿔줄때만 사용"
   ]
  },
  {
   "cell_type": "markdown",
   "metadata": {},
   "source": [
    "### frontend framework\n",
    "\n",
    "#### html 페이지마다 스타일 적용하기\n",
    "\n",
    "- 다운로드\n",
    "    - https://getbootstrap.com/docs/4.4/getting-started/download/\n",
    "- 압출풀고 bootstrap.min.css, bootstrap.css 를 다음경로에 붙여넣기\n",
    "    - C:\\Users\\admin\\Documents\\python_basic\\2py_web\\django\\web1\\static\\css\n",
    "    \n",
    "- 사용방법\n",
    "    - https://getbootstrap.com/docs/4.4/components/alerts/"
   ]
  },
  {
   "cell_type": "markdown",
   "metadata": {},
   "source": [
    "#### div\n",
    "\n",
    "- 아뒤/비번 칸 각각 보단 맨밑에 판 하나를 먼저 깔고 그 위에 쌓는다면 밑판만 들면 다 들어 올릴 수 있다."
   ]
  },
  {
   "cell_type": "markdown",
   "metadata": {},
   "source": [
    "#### style\n",
    "\n",
    "- style 없으면 일일이 다 설정. 있으면 일일이 없어도 됨.\n",
    "- 3가지 모두 결과는 동일\n",
    "\n",
    "<!DOCTYPE html>\n",
    "<html lang=\"en\">\n",
    "<head>\n",
    "    <meta charset=\"UTF-8\">\n",
    "    <meta name=\"viewport\" content=\"width=device-width, initial-scale=1.0\">\n",
    "    <meta http-equiv=\"X-UA-Compatible\" content=\"ie=edge\">\n",
    "    <title>Document</title>\n",
    "</head>\n",
    "<body>\n",
    "    <div style = 'width:600px;\n",
    "        border:1px solid #cccccc; padding:50px;\n",
    "        margin-bottom: 10px'>\n",
    "        <input type = 'text'/>\n",
    "        <input type = 'text'/>\n",
    "        <input type = 'text'/>\n",
    "    </div>\n",
    "    \n",
    "    <div style = 'width:600px;\n",
    "        border:1px solid #cccccc; padding:50px;\n",
    "        margin-bottom: 10px'>\n",
    "        <input type = 'text'/>\n",
    "        <input type = 'text'/>\n",
    "        <input type = 'text'/>\n",
    "    </div>\n",
    "    \n",
    "    \n",
    "</body>\n",
    "</html>"
   ]
  },
  {
   "cell_type": "markdown",
   "metadata": {},
   "source": [
    "#### 스타일을 이용\n",
    "\n",
    "\n",
    "<!DOCTYPE html>\n",
    "<html lang=\"en\">\n",
    "<head>\n",
    "    <meta charset=\"UTF-8\">\n",
    "    <meta name=\"viewport\" content=\"width=device-width, initial-scale=1.0\">\n",
    "    <meta http-equiv=\"X-UA-Compatible\" content=\"ie=edge\">\n",
    "    <title>Document</title>\n",
    "    <style>\n",
    "    .mybox{\n",
    "        width:600px;\n",
    "        border:1px solid #cccccc;\n",
    "        padding:50px;\n",
    "        margin-bottom: 10px;\n",
    "    }\n",
    "    </style>\n",
    "</head>\n",
    "<body>\n",
    "    <div class = 'mybox'>\n",
    "        <input type = 'text'/>\n",
    "        <input type = 'text'/>\n",
    "        <input type = 'text'/>\n",
    "    </div>\n",
    "    \n",
    "    <div class = 'mybox'>\n",
    "        <input type = 'text'/>\n",
    "        <input type = 'text'/>\n",
    "        <input type = 'text'/>\n",
    "    </div>\n",
    "    \n",
    "</body>\n",
    "</html>"
   ]
  },
  {
   "cell_type": "markdown",
   "metadata": {},
   "source": [
    "#### 스타일을 링크로 걸었다\n",
    "\n",
    "- 파일이 많을경우 유용\n",
    "\n",
    "<!DOCTYPE html>\n",
    "<html lang=\"en\">\n",
    "<head>\n",
    "    <meta charset=\"UTF-8\">\n",
    "    <meta name=\"viewport\" content=\"width=device-width, initial-scale=1.0\">\n",
    "    <meta http-equiv=\"X-UA-Compatible\" content=\"ie=edge\">\n",
    "    <title>Document</title>\n",
    "   \n",
    "    <link rel = 'stylesheet' href='/static/css/mystle.css'/>\n",
    "   \n",
    "</head>\n",
    "<body>\n",
    "    <div class = 'mybox'>\n",
    "        <input type = 'text'/>\n",
    "        <input type = 'text'/>\n",
    "        <input type = 'text'/>\n",
    "    </div>\n",
    "    \n",
    "    <div class = 'mybox'>\n",
    "        <input type = 'text'/>\n",
    "        <input type = 'text'/>\n",
    "        <input type = 'text'/>\n",
    "    </div>\n",
    "</body>\n",
    "</html>"
   ]
  },
  {
   "cell_type": "markdown",
   "metadata": {},
   "source": []
  },
  {
   "cell_type": "code",
   "execution_count": null,
   "metadata": {},
   "outputs": [],
   "source": []
  }
 ],
 "metadata": {
  "kernelspec": {
   "display_name": "Python 3",
   "language": "python",
   "name": "python3"
  },
  "language_info": {
   "codemirror_mode": {
    "name": "ipython",
    "version": 3
   },
   "file_extension": ".py",
   "mimetype": "text/x-python",
   "name": "python",
   "nbconvert_exporter": "python",
   "pygments_lexer": "ipython3",
   "version": "3.7.4"
  },
  "toc": {
   "base_numbering": 1,
   "nav_menu": {},
   "number_sections": true,
   "sideBar": true,
   "skip_h1_title": false,
   "title_cell": "Table of Contents",
   "title_sidebar": "Contents",
   "toc_cell": false,
   "toc_position": {},
   "toc_section_display": true,
   "toc_window_display": false
  }
 },
 "nbformat": 4,
 "nbformat_minor": 2
}