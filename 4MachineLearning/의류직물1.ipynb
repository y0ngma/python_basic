{
 "cells": [
  {
   "cell_type": "code",
   "execution_count": null,
   "metadata": {},
   "outputs": [],
   "source": [
    "# !pip install opencv-python\n",
    "# !conda install -c conda-forge opencv\n",
    "\n",
    "## 가상화\n",
    "# conda create -n cv\n",
    "# conda activate cv\n",
    "# conda install -c conda-forge jupyterlab glob2 opencv pytest-shutil tensorflow=2.1.0\n",
    "# pip install tensorflow-addons"
   ]
  },
  {
   "cell_type": "code",
   "execution_count": 13,
   "metadata": {},
   "outputs": [],
   "source": [
    "import cv2\n",
    "import os\n",
    "import glob\n",
    "import shutil\n",
    "import random\n",
    "import string\n",
    "import numpy as np"
   ]
  },
  {
   "cell_type": "code",
   "execution_count": 14,
   "metadata": {},
   "outputs": [],
   "source": [
    "PATH_DEFECT = 'data\\\\Defect_images\\\\'\n",
    "PATH_MASK = 'data\\\\Mask_images\\\\'\n",
    "PATH_NODEFECT = 'data\\\\NODefect_images\\\\'"
   ]
  },
  {
   "cell_type": "markdown",
   "metadata": {},
   "source": [
    "### 데이터셑 불러오기"
   ]
  },
  {
   "cell_type": "code",
   "execution_count": 15,
   "metadata": {},
   "outputs": [],
   "source": [
    "random.seed(0)\n",
    "\n",
    "defect_list = glob.glob(PATH_DEFECT + '*.png')\n",
    "mask_list = glob.glob(PATH_MASK + '*.png')\n",
    "pass_list = glob.glob(PATH_NODEFECT + '**/*.png')"
   ]
  },
  {
   "cell_type": "code",
   "execution_count": 16,
   "metadata": {},
   "outputs": [],
   "source": [
    "# Match defect-mask pairs\n",
    "new_defect_list = list()\n",
    "new_mask_list = list()\n",
    "for defect in defect_list:\n",
    "    num = defect.split('/')[-1].split('_')[0]\n",
    "    for mask in mask_list:\n",
    "        num_mask = mask.split('/')[-1].split('_')[0]\n",
    "        if num == num_mask:\n",
    "            new_defect_list.append(defect)\n",
    "            new_mask_list.append(mask)\n",
    "            break\n",
    "defect_list = new_defect_list\n",
    "mask_list = new_mask_list"
   ]
  },
  {
   "cell_type": "markdown",
   "metadata": {},
   "source": [
    "### 첫번째 데이터셑 구성 (첫번째 발송 데이터)"
   ]
  },
  {
   "cell_type": "code",
   "execution_count": 12,
   "metadata": {},
   "outputs": [],
   "source": [
    "if os.path.exists('data/dataset/1') is False:\n",
    "    os.mkdir('data/dataset/1')\n",
    "for file_name in pass_list + defect_list:\n",
    "    if random.randint(0, 9) < 2:\n",
    "        barcode = ''.join(random.choices(string.ascii_letters + string.digits, k=16))\n",
    "        shutil.copy2(file_name, 'data/dataset/1/' + barcode + '.png')"
   ]
  },
  {
   "cell_type": "markdown",
   "metadata": {},
   "source": [
    "### 두번째 데이터셑 구성"
   ]
  },
  {
   "cell_type": "code",
   "execution_count": 18,
   "metadata": {},
   "outputs": [],
   "source": [
    "if os.path.exists('data/dataset/2') is False:\n",
    "    os.mkdir('data/dataset/2')\n",
    "if os.path.exists('data/dataset/2/OK') is False:\n",
    "    os.mkdir('data/dataset/2/OK')\n",
    "if os.path.exists('data/dataset/2/FAIL') is False:\n",
    "    os.mkdir('data/dataset/2/FAIL')\n",
    "idx = 0\n",
    "for file_name in pass_list:\n",
    "    img = cv2.imread(file_name)\n",
    "    height, width, _ = img.shape\n",
    "    step = height\n",
    "    \n",
    "    for i in range(width // step):\n",
    "        w = i * step\n",
    "        if w < width - height and random.randint(0, 9) < 2:\n",
    "            patch = img[:, w:w+height, :]\n",
    "            cv2.imwrite('data/dataset/2/OK/%04d.png' % idx, patch)\n",
    "            idx += 1\n",
    "patch_list = list()\n",
    "for item in zip(defect_list, mask_list):\n",
    "    defect, mask = item\n",
    "    \n",
    "    img_d = cv2.imread(defect)\n",
    "    img_m = cv2.imread(mask)\n",
    "    \n",
    "    height, width, _ = img_d.shape\n",
    "    step = height // 2\n",
    "    for i in range(width // step):\n",
    "        w = i * step\n",
    "        if w < width - height:\n",
    "            patch = img_d[:, w:w+height, :]\n",
    "            patch_d = img_m[:, w:w+height, :]\n",
    "            if patch_d.sum() > 0:\n",
    "                patch_list.append(patch)\n",
    "random.shuffle(patch_list)\n",
    "patch_listfraction = patch_list[:len(patch_list)//3]\n",
    "for idx, patch in enumerate(patch_listfraction):\n",
    "    cv2.imwrite('data/dataset/2/FAIL/%04d.png' % idx, patch)"
   ]
  },
  {
   "cell_type": "markdown",
   "metadata": {},
   "source": [
    "### 세번째 데이터셑 구성"
   ]
  },
  {
   "cell_type": "code",
   "execution_count": 19,
   "metadata": {},
   "outputs": [],
   "source": [
    "if os.path.exists('data/dataset/3') is False:\n",
    "    os.mkdir('data/dataset/3')\n",
    "if os.path.exists('data/dataset/3/OK') is False:\n",
    "    os.mkdir('data/dataset/3/OK')\n",
    "if os.path.exists('data/dataset/3/FAIL') is False:\n",
    "    os.mkdir('data/dataset/3/FAIL')\n",
    "if os.path.exists('data/dataset/3/MASK') is False:\n",
    "    os.mkdir('data/dataset/3/MASK')"
   ]
  },
  {
   "cell_type": "code",
   "execution_count": 20,
   "metadata": {},
   "outputs": [],
   "source": [
    "idx = 0\n",
    "for file_name in pass_list:\n",
    "    img = cv2.imread(file_name)\n",
    "    height, width, _ = img.shape\n",
    "    step = height // 2\n",
    "    \n",
    "    for i in range(width // step):\n",
    "        w = i * step\n",
    "        if w < width - height and random.randint(0, 9) < 3:\n",
    "            patch = img[:, w:w+height, :]\n",
    "            cv2.imwrite('data/dataset/3/OK/%04d.png' % idx, patch)\n",
    "            idx += 1\n",
    "\n",
    "patch_pair_list = list()\n",
    "for item in zip(defect_list, mask_list):\n",
    "    defect, mask = item\n",
    "    \n",
    "    img_d = cv2.imread(defect)\n",
    "    img_m = cv2.imread(mask)\n",
    "    \n",
    "    height, width, _ = img_d.shape\n",
    "    step = height // 2\n",
    "    for i in range(width // step):\n",
    "        w = i * step\n",
    "        if w < width - height:\n",
    "            patch = img_d[:, w:w+height, :]\n",
    "            patch_d = img_m[:, w:w+height, :]\n",
    "            if patch_d.sum() > 0:\n",
    "                patch_pair_list.append((patch, patch_d))\n",
    "random.shuffle(patch_pair_list)\n",
    "for idx, pair in enumerate(patch_pair_list):\n",
    "    patch, patch_d = pair\n",
    "    cv2.imwrite('data/dataset/3/FAIL/%04d.png' % idx, patch)\n",
    "    cv2.imwrite('data/dataset/3/MASK/%04d.png' % idx, patch_d)"
   ]
  },
  {
   "cell_type": "markdown",
   "metadata": {},
   "source": [
    "### 실전 데이터셑 구성"
   ]
  },
  {
   "cell_type": "code",
   "execution_count": null,
   "metadata": {},
   "outputs": [],
   "source": []
  }
 ],
 "metadata": {
  "kernelspec": {
   "display_name": "Python 3",
   "language": "python",
   "name": "python3"
  },
  "language_info": {
   "codemirror_mode": {
    "name": "ipython",
    "version": 3
   },
   "file_extension": ".py",
   "mimetype": "text/x-python",
   "name": "python",
   "nbconvert_exporter": "python",
   "pygments_lexer": "ipython3",
   "version": "3.7.6"
  }
 },
 "nbformat": 4,
 "nbformat_minor": 4
}
