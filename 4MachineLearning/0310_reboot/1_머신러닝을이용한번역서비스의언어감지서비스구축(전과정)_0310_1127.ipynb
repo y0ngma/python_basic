{
 "cells": [
  {
   "cell_type": "markdown",
   "metadata": {
    "colab_type": "text",
    "id": "M6-ER7f_LyTn"
   },
   "source": [
    "# 연구목표 설정"
   ]
  },
  {
   "cell_type": "markdown",
   "metadata": {
    "colab_type": "text",
    "id": "42FX4EFTEDMo"
   },
   "source": [
    "- 유사서비스 : 카카오번역, 파파고, 구글번역..\n",
    "- 언어 감지 하는 방법은 지도학습법을 사용하겟다\n",
    "  - 알파벳 (26:피쳐)의 빈도 -> en, fr, id, t..\n",
    "  - 독립변수의 빈도를 보고 레이블(정답,종속변수)를 판단하게 되는 형태 -> 분류(지도학습)\n",
    "  - 비영어권 제외, 알파벳 사용 국가 분류 총데이터도 제공된 자료만으로 사용(4개국가)\n",
    "  - 알고리즘의 업데이트 시점은 로그를 축적하여 1만건 누적되면 추가 학습후 갱신하는 방식으로 진행"
   ]
  },
  {
   "cell_type": "markdown",
   "metadata": {
    "colab_type": "text",
    "id": "-sqdp0h4FKgq"
   },
   "source": [
    "|step|단계명|수행내용|\n",
    "|:--:|--:|:--|\n",
    "|1|연구목표 설정|- 언어를 감지하는 웹서비스이다<br>- 머신러닝의 지도학습법의 분류 알고리즘을 이용하여 분류기를 구현하겠다<br>- 최적화 부분은 생략<br>- 정확도에 대한 정량적인 목표는 생략|\n",
    "|2|데이터 수집/확보|- 실전:위키피디아에서 텍스트를 웹스크래핑으로 수집하여 데이터를 확보<br>- 프로토타입구현:제공 데이터를 사용하겠다|\n",
    "|3|데이터 준비|- 전처리(데이터 원재료에서 아파벳을 빼고 모두 제거->정규식)<br>- 빈도 계산, 정규화<br>- 훈련용데이터와 학습용데이터를 75:25로 나눈다 |\n",
    "|4|데이터 분석|- 영어권 언어별로 알파벳의 출현(사용) 빈도가 다르다는 명제(논문,주장)을 근거를 증명<br>- 탐색적분석,  EDA를 이용하여 표현(막대차트, 선형차트)|\n",
    "|5|데이터 모델링 구축|- 알고리즘 선택<br>- 학습<br>- 예측<br>-성능평가 및 최적화(생략)<br>-모델덤프|\n",
    "|6|시스템 통합|-웹서비스구축<br>-모델덤프로드모듈구현<br>-언어감지를 처리하는 모듈 구현<br>-번역 요청 로그처리|"
   ]
  },
  {
   "cell_type": "markdown",
   "metadata": {
    "colab_type": "text",
    "id": "pj8i8LAqL2t4"
   },
   "source": [
    "# 데이터 수집/확보\n",
    "\n",
    "- 실전:위키피디아에서 텍스트를 웹스크래핑으로 수집하여 데이터를 확보\n",
    "- 프로토타입구현:제공 데이터를 사용하겠다\n"
   ]
  },
  {
   "cell_type": "code",
   "execution_count": 1,
   "metadata": {
    "colab": {},
    "colab_type": "code",
    "id": "AQpZyiyTKQEV"
   },
   "outputs": [
    {
     "data": {
      "text/plain": [
       "'\\nhttps://ko.wikipedia.org/wiki/방탄소년단\\nhttps://en.wikipedia.org/wiki/BTS_(band)\\nhttps://fr.wikipedia.org/wiki/BTS_(groupe)\\n \\n위키피디아에서 최초 url의 국가코드를 조정하면 국가별로 진입가능\\n단, 검색어가 영어권에서 범용적인 부분을 사용하거나 \\n아니면, 국가별로 리스트업이 필요하다\\n'"
      ]
     },
     "execution_count": 1,
     "metadata": {},
     "output_type": "execute_result"
    }
   ],
   "source": [
    "# 워키피디아는 사이트를 들여다 보니 스크래핑 수준이면 처리가 가능하다\n",
    "'''\n",
    "https://ko.wikipedia.org/wiki/방탄소년단\n",
    "https://en.wikipedia.org/wiki/BTS_(band)\n",
    "https://fr.wikipedia.org/wiki/BTS_(groupe)\n",
    " \n",
    "위키피디아에서 최초 url의 국가코드를 조정하면 국가별로 진입가능\n",
    "단, 검색어가 영어권에서 범용적인 부분을 사용하거나 \n",
    "아니면, 국가별로 리스트업이 필요하다\n",
    "'''"
   ]
  },
  {
   "cell_type": "code",
   "execution_count": 2,
   "metadata": {
    "colab": {
     "base_uri": "https://localhost:8080/",
     "height": 36
    },
    "colab_type": "code",
    "id": "WBG69rR3MIA1",
    "outputId": "153d462f-bbc9-402d-8725-109d6fcc86a1"
   },
   "outputs": [
    {
     "data": {
      "text/plain": [
       "'https://en.wikipedia.org/wiki/BTS_(band)'"
      ]
     },
     "execution_count": 2,
     "metadata": {},
     "output_type": "execute_result"
    }
   ],
   "source": [
    "# URL에 대한 고민은 전제하고, 하나의 사이트에서 처리 루틴을 정리\n",
    "# 미국 위키피다아를 전제로 처리\n",
    "target_url = 'https://en.wikipedia.org/wiki/BTS_(band)'\n",
    "target_url"
   ]
  },
  {
   "cell_type": "code",
   "execution_count": 3,
   "metadata": {
    "colab": {},
    "colab_type": "code",
    "id": "fsr3ncd0MZEs"
   },
   "outputs": [],
   "source": [
    "# 웹 스크래핑 관련 모듈 가져오기\n",
    "# 통신담당 : reguest\n",
    "# 파싱담당 : BS4, html5lib parser 사용\n",
    "# (파서 선정이유 속도가 중요한게 아니라, 정확한 처리가 중요)\n",
    "import urllib.request as req\n",
    "from bs4 import BeautifulSoup"
   ]
  },
  {
   "cell_type": "code",
   "execution_count": 4,
   "metadata": {
    "colab": {},
    "colab_type": "code",
    "id": "NgEept4TNwQ1"
   },
   "outputs": [],
   "source": [
    "# 요청\n",
    "res  = req.urlopen( target_url )\n",
    "# 파싱\n",
    "soup = BeautifulSoup( res, 'html5lib' )"
   ]
  },
  {
   "cell_type": "code",
   "execution_count": 5,
   "metadata": {
    "colab": {
     "base_uri": "https://localhost:8080/",
     "height": 36
    },
    "colab_type": "code",
    "id": "e4qaSNUzOWHL",
    "outputId": "7bfbbbca-d3a9-4e15-cf77-4fd612a76d96"
   },
   "outputs": [
    {
     "data": {
      "text/plain": [
       "bs4.BeautifulSoup"
      ]
     },
     "execution_count": 5,
     "metadata": {},
     "output_type": "execute_result"
    }
   ],
   "source": [
    "# DOM Tree가 생성되었다\n",
    "type(soup)#, soup"
   ]
  },
  {
   "cell_type": "code",
   "execution_count": 6,
   "metadata": {
    "colab": {
     "base_uri": "https://localhost:8080/",
     "height": 36
    },
    "colab_type": "code",
    "id": "TANv3ZkiUXfT",
    "outputId": "04bf9795-5ede-44c4-df10-5dacd21c6992"
   },
   "outputs": [
    {
     "data": {
      "text/plain": [
       "(79, list)"
      ]
     },
     "execution_count": 6,
     "metadata": {},
     "output_type": "execute_result"
    }
   ],
   "source": [
    "# 대상 태그들을 모은다\n",
    "ps = soup.select('#mw-content-text p')\n",
    "len(ps), type(ps)"
   ]
  },
  {
   "cell_type": "code",
   "execution_count": 7,
   "metadata": {
    "colab": {
     "base_uri": "https://localhost:8080/",
     "height": 112
    },
    "colab_type": "code",
    "id": "G0KKH1i5VR55",
    "outputId": "26d3438c-075b-4a52-b78a-bc6d7239593d"
   },
   "outputs": [
    {
     "data": {
      "text/plain": [
       "(['[]',\n",
       "  '[]',\n",
       "  '[BTS (Korean:\\xa0방탄소년단; RR:\\xa0Bangtan Sonyeondan), also known as the Bangtan Boys, is a seven-member South Korean boy band formed in Seoul in 2010.[3] The septet co-writes and produces much of their output. Originally a hip hop group, their musical style has evolved to include a wide range of genres. Their lyrics, often focused on personal and social commentary, touch on the themes of mental health, troubles of school-age youth, loss, the journey towards loving oneself, and individualism. Their work features references to literature and psychological concepts and includes an alternative universe storyline. The group have staged several world tours.]'],\n",
       " ['[]', '[Japanese-language studio albums]', '[]'])"
      ]
     },
     "execution_count": 7,
     "metadata": {},
     "output_type": "execute_result"
    }
   ],
   "source": [
    "# ps에서 한개 뽑아서 텍스트를 출력해 보았다\n",
    "tmp = list()\n",
    "for p in ps:\n",
    "  tmp.append('[%s]' % p.text.strip() )\n",
    "  #break\n",
    "# 79개를 다 뽑아서 리스트에 담아라\n",
    "tmp[:3], tmp[-3:]"
   ]
  },
  {
   "cell_type": "code",
   "execution_count": 8,
   "metadata": {
    "colab": {
     "base_uri": "https://localhost:8080/",
     "height": 224
    },
    "colab_type": "code",
    "id": "T0MmkECYVKrh",
    "outputId": "06e9128d-0cda-40df-c8ef-bcdf391a49bf"
   },
   "outputs": [
    {
     "data": {
      "text/plain": [
       "['',\n",
       " '',\n",
       " 'BTS (Korean:\\xa0방탄소년단; RR:\\xa0Bangtan Sonyeondan), also known as the Bangtan Boys, is a seven-member South Korean boy band formed in Seoul in 2010.[3] The septet co-writes and produces much of their output. Originally a hip hop group, their musical style has evolved to include a wide range of genres. Their lyrics, often focused on personal and social commentary, touch on the themes of mental health, troubles of school-age youth, loss, the journey towards loving oneself, and individualism. Their work features references to literature and psychological concepts and includes an alternative universe storyline. The group have staged several world tours.',\n",
       " 'The group initially formed as teenagers under Big Hit Entertainment and released their debut single album, 2 Cool 4 Skool (2013). Subsequent work such as their first U.S. Billboard 200 entries The Most Beautiful Moment in Life, Part 2 (2015), The Most Beautiful Moment in Life: Young Forever (2016), and Wings (2016) helped establish BTS\\' reputation as a socially conscious group. Wings became BTS\\' first album to sell one million copies in South Korea. By 2017, BTS crossed into the international music market, leading the Korean Wave into the United States and breaking numerous sales records, becoming the first Korean group to receive a certification from the Recording Industry Association of America (RIAA) for their single \"Mic Drop\". The band is the first Korean act to top the Billboard 200 with their studio album Love Yourself: Tear (2018) and have since hit the top of the U.S. charts with their albums Love Yourself: Answer (2018) and Map of the Soul: Persona (2019), making BTS the first group since the Beatles to earn three number one albums in less than a year. Love Yourself: Answer also broke South Korea\\'s Gaon Album Chart\\'s all-time monthly record previously set by Love Yourself: Tear and became the first Korean album certified Platinum in the United States.',\n",
       " 'According to the Gaon Music Chart, BTS has sold sixteen million albums domestically in physical sales and is the best-selling artist to debut in the 2010s.[4] They hold the best-selling album in Korean history with Map of the Soul: Persona. BTS were the second best-selling artists of 2018 worldwide according to the IFPI\\'s Global Artist Chart, as well as the only non-English speaking artist to enter the chart. The group has won Top Social Artist three years in a row and Top Duo/Group at the 26th Billboard Music Awards. Featured on Time\\'s international cover as \"Next Generation Leaders\", BTS has appeared in the magazine\\'s 25 most influential people on the internet (2017–2019) and Time\\'s 100 most influential people in the world (2019), with the outlet giving them the nickname \"Princes of Pop\". Forbes Korea named BTS the most influential celebrities of Korea in 2018, and BTS ranked 43rd in the Forbes Celebrity 100 (2019) as one of the world\\'s top-earning celebrities. BTS are ranked #4 of Billboard\\'s Top Social Artist of the 2010s, and are the highest group on the list. During their Love Yourself World Tour, BTS became the first Asian and first non-English speaking act to headline and sell out Wembley Stadium; and broke the record for the single highest-grossing engagement in Rose Bowl Stadium history. Billboard ranked BTS at #45 on their Top Touring Artists of the 2010s list, being the highest-ranked Asian as well as the only non-English speaking act on the list. As of 2019, BTS are purportedly worth more than $4.65 billion to South Korea\\'s economy each year, or 0.3 percent of the country\\'s GDP. BTS attracted one in every 13 foreign tourists that visited South Korea and were cited as one of the key acts boosting global music sales to $19 billion in 2018.',\n",
       " 'Following the establishment of their Love Myself anti-violence campaign in partnership with UNICEF, BTS addressed the United Nations 73rd General Assembly and became the youngest ever recipients of the Order of Cultural Merit from the President of South Korea due to their contributions in spreading Korean culture and language.',\n",
       " 'The group\\'s name, BTS, stands for the Korean expression Bangtan Sonyeondan (Korean:\\xa0방탄소년단; Hanja:\\xa0防彈少年團), literally meaning \"Bulletproof Boy Scouts\". According to member J-Hope, the name signifies the group\\'s desire \"to block out stereotypes, criticisms, and expectations that aim on adolescents like bullets\".[5][6] In Japan, they are known as Bōdan Shōnendan (防弾少年団), which translates similarly.[7] In July 2017, BTS announced that their name would also stand for \"Beyond the Scene\" as part of their new brand identity.[8] This extended their name to mean \"growing youth BTS who is going beyond the realities they are facing, and going forward.\"[9]',\n",
       " 'BTS began its formation in 2010 after Big Hit Entertainment CEO Bang Si-hyuk met with group leader RM and was impressed with his rapping.[10] BTS was originally supposed to be a hip-hop group similar to YG Entertainment\\'s 1TYM,[11] but between their initial formation and their debut, Bang Si-hyuk decided that the contemporary youth needed instead \"a hero who can lend them a shoulder to lean on, even without speaking a single word\".[12] The group was meant to debut in 2011 and featured on several tracks by artists such as 2AM and Lee Seung-gi before their debut was postponed and the group was reorganized into a more traditional idol group.[13] The lineup was then finalized with Jin, Suga, J-Hope, RM, Jimin, V, and Jungkook in 2012. Six months prior to their debut, they began to gain attention for their presence on various social media websites, as well as song covers on YouTube and SoundCloud.[14][15]',\n",
       " '—Suga[16]',\n",
       " 'On June 12, 2013, BTS released their debut single album 2 Cool 4 Skool, the first installment in their \"school trilogy\" series, simultaneously with its lead single \"No More Dream\", which peaked at number 124 in Korea before quickly falling off the charts.[17][18] While the album peaked at number five in South Korea and eventually sold over 145,000 copies,[19] it was not a major hit, selling only 24,000 copies in 2013.[20] Their subsequent single “We Are Bulletproof Pt. 2” failed to chart. In 2 Cool 4 Skool, BTS employed an old-school hip-hop sound with scratches from the 1980s-90s and excessively fierce visuals.[21] From their inception, BTS was convinced that telling their story was the only way for the younger generation to relate to their music.[22] The lyrics of the album primarily reflected on the misunderstanding and prejudice towards them, criticism of the society that diminishes their dreams, and their anxiety and determination towards their future.[21] During the production of the album, Suga and RM rewrote the lyrics of “No More Dream” more than 20 times.[22] The single album\\'s release was followed by several appearances on Korean music shows.[23][24] Despite being unpolished, these early live performances demonstrated BTS\\' potential with their intense and charismatic stage presence.[23] Expanding their endeavors to Japan, \"No More Dream\" was later re-recorded in Japanese and released in June 2014.[25]']"
      ]
     },
     "execution_count": 8,
     "metadata": {},
     "output_type": "execute_result"
    }
   ],
   "source": [
    "# 텍스트를 모은다, 여러개를 리스트에\n",
    "# 리스트 내포를 이용하여 79개의 p 태그에서 텍스트를 추출하여 리스트\n",
    "# 에 구성원으로 추가하시오\n",
    "tmp = [ p.text.strip() for p in ps]\n",
    "tmp[:10]"
   ]
  },
  {
   "cell_type": "code",
   "execution_count": 9,
   "metadata": {
    "colab": {
     "base_uri": "https://localhost:8080/",
     "height": 75
    },
    "colab_type": "code",
    "id": "FKtYaMRgZGnZ",
    "outputId": "ae2ac4da-70e0-4806-897d-0a44854528f1"
   },
   "outputs": [
    {
     "data": {
      "text/plain": [
       "(72251,\n",
       " '  BTS (Korean:\\xa0방탄소년단; RR:\\xa0Bangtan Sonyeondan), also known as the Bangtan Boys, is a seven-member Sou')"
      ]
     },
     "execution_count": 9,
     "metadata": {},
     "output_type": "execute_result"
    }
   ],
   "source": [
    "# 리스트에 존재하는 문자열들을 한개의 문자열로 통합\n",
    "src_txt = ' '.join( tmp )\n",
    "len(src_txt), src_txt[:100]"
   ]
  },
  {
   "cell_type": "markdown",
   "metadata": {
    "colab_type": "text",
    "id": "_eJ6FKxCa48R"
   },
   "source": [
    "- 영어는 소문자로 통일 (lower)\n",
    "- 영어를 제외하고는 모두 제거 (정규식)\n",
    "- 띄어쓰기 기준으로 정도는 남기고 싶다(가독성은 올라간다) (정규식중에 공백은 두자)"
   ]
  },
  {
   "cell_type": "code",
   "execution_count": 10,
   "metadata": {
    "colab": {},
    "colab_type": "code",
    "id": "4NcGfpNUbnAy"
   },
   "outputs": [],
   "source": [
    "# 정규식\n",
    "import re"
   ]
  },
  {
   "cell_type": "code",
   "execution_count": 11,
   "metadata": {
    "colab": {
     "base_uri": "https://localhost:8080/",
     "height": 56
    },
    "colab_type": "code",
    "id": "YZXhSgpAbvMX",
    "outputId": "d7cfb828-4ae6-4f75-fc26-73e6c6ee8b0b"
   },
   "outputs": [
    {
     "data": {
      "text/plain": [
       "'  bts korean rrbangtan sonyeondan also known as the bangtan boys is a sevenmember south korean boy b'"
      ]
     },
     "execution_count": 11,
     "metadata": {},
     "output_type": "execute_result"
    }
   ],
   "source": [
    "# 정규식, 알파벳만 남겨라 -> \n",
    "p = re.compile('[^a-zA-Z ]*')\n",
    "tmp = p.sub( '' ,  src_txt )\n",
    "tmp.lower()[:100]"
   ]
  },
  {
   "cell_type": "markdown",
   "metadata": {
    "colab_type": "text",
    "id": "42tzhrWymakA"
   },
   "source": [
    "## 제공된 데이터 사용"
   ]
  },
  {
   "cell_type": "code",
   "execution_count": 12,
   "metadata": {
    "colab": {},
    "colab_type": "code",
    "id": "9ioCOJy5mhxE"
   },
   "outputs": [],
   "source": [
    "# 파일을 한번에 다 읽을려면 => 특정 폴더 밑에서 특정 패턴을가진 \n",
    "# 파일들을 지정해서 목록화\n",
    "# 파일명 : 언어코드-넘버.txt\n",
    "# /content/train/en-1.txt"
   ]
  },
  {
   "cell_type": "code",
   "execution_count": 13,
   "metadata": {
    "colab": {},
    "colab_type": "code",
    "id": "64RElGN5nGGd"
   },
   "outputs": [],
   "source": [
    "# 파일 리스트 획득\n",
    "import glob"
   ]
  },
  {
   "cell_type": "code",
   "execution_count": 21,
   "metadata": {
    "colab": {
     "base_uri": "https://localhost:8080/",
     "height": 36
    },
    "colab_type": "code",
    "id": "XzGNSTgZnUI-",
    "outputId": "73fd42de-ba71-4e43-a99a-ad032519acf0"
   },
   "outputs": [
    {
     "data": {
      "text/plain": [
       "(list, ['./content/train\\\\en-1.txt', './content/train\\\\en-2.txt'])"
      ]
     },
     "execution_count": 21,
     "metadata": {},
     "output_type": "execute_result"
    }
   ],
   "source": [
    "file_list = glob.glob('./content/train/*.txt')\n",
    "type(file_list), file_list[:2]"
   ]
  },
  {
   "cell_type": "code",
   "execution_count": 22,
   "metadata": {
    "colab": {},
    "colab_type": "code",
    "id": "CzQ5iu0zn10V"
   },
   "outputs": [],
   "source": [
    "file_list.sort()"
   ]
  },
  {
   "cell_type": "code",
   "execution_count": 23,
   "metadata": {
    "colab": {
     "base_uri": "https://localhost:8080/",
     "height": 388
    },
    "colab_type": "code",
    "id": "-EfKWGUvn716",
    "outputId": "c224c52b-aa0f-4913-d884-d2eca7b4bf00"
   },
   "outputs": [
    {
     "data": {
      "text/plain": [
       "['./content/train\\\\en-1.txt',\n",
       " './content/train\\\\en-2.txt',\n",
       " './content/train\\\\en-3.txt',\n",
       " './content/train\\\\en-4.txt',\n",
       " './content/train\\\\en-5.txt',\n",
       " './content/train\\\\fr-10.txt',\n",
       " './content/train\\\\fr-6.txt',\n",
       " './content/train\\\\fr-7.txt',\n",
       " './content/train\\\\fr-8.txt',\n",
       " './content/train\\\\fr-9.txt',\n",
       " './content/train\\\\id-11.txt',\n",
       " './content/train\\\\id-12.txt',\n",
       " './content/train\\\\id-13.txt',\n",
       " './content/train\\\\id-14.txt',\n",
       " './content/train\\\\id-15.txt',\n",
       " './content/train\\\\tl-16.txt',\n",
       " './content/train\\\\tl-17.txt',\n",
       " './content/train\\\\tl-18.txt',\n",
       " './content/train\\\\tl-19.txt',\n",
       " './content/train\\\\tl-20.txt']"
      ]
     },
     "execution_count": 23,
     "metadata": {},
     "output_type": "execute_result"
    }
   ],
   "source": [
    "file_list"
   ]
  },
  {
   "cell_type": "markdown",
   "metadata": {
    "colab_type": "text",
    "id": "-og4WMoeL2wg"
   },
   "source": [
    "# 데이터 준비\n",
    "\n",
    "- 데이터를 읽으면서 알파벳의 빈도를 계산\n",
    "- 언어코드도 획득해서, 해당 언어에 알페벳의 빈도는 이런 식으로 표현\n",
    "- 알파벳별 빈도는 (feature), 언어코드는(label)\n",
    "- train 데이터는 row가 20개(국가별 5개), column(26(알파벳) + 1(답))\n",
    "- shape => (20,27)"
   ]
  },
  {
   "cell_type": "code",
   "execution_count": 24,
   "metadata": {
    "colab": {},
    "colab_type": "code",
    "id": "1VfitVITpAW4"
   },
   "outputs": [],
   "source": [
    "# 텍스트 파일이 하나 확인되면 -> file_list의 개수만큼 반복\n",
    "  # 언어코드 획득\n",
    "    # 파일에서 파일명획득 -> 언어코드가 존재한다\n",
    "    # 언어코드를 추출\n",
    "  # 알파벳별 빈도수 획득\n",
    "    # 전처리를 통해서 영어만 둔다\n",
    "    # 알파벳별 빈도를 계산한다"
   ]
  },
  {
   "cell_type": "markdown",
   "metadata": {
    "colab_type": "text",
    "id": "_FcAfAQSqUlM"
   },
   "source": [
    "### 언어코드 획득"
   ]
  },
  {
   "cell_type": "code",
   "execution_count": 25,
   "metadata": {
    "colab": {
     "base_uri": "https://localhost:8080/",
     "height": 36
    },
    "colab_type": "code",
    "id": "009lPJwMqQwV",
    "outputId": "03f46641-9baf-4bfb-ab08-488edee2c8b5"
   },
   "outputs": [],
   "source": [
    "# 파일에서 파일명획득 -> 언어코드가 존재한다\n",
    "# 구조과 규칙이 변하지 않는다는 전제하에서\n",
    "# file_list[0].split('/')[-1][:2]\n",
    "# 언어코드를 추출"
   ]
  },
  {
   "cell_type": "code",
   "execution_count": 29,
   "metadata": {
    "colab": {},
    "colab_type": "code",
    "id": "tyJxiBnsrnle"
   },
   "outputs": [
    {
     "data": {
      "text/plain": [
       "'en-1.txt'"
      ]
     },
     "execution_count": 29,
     "metadata": {},
     "output_type": "execute_result"
    }
   ],
   "source": [
    "# 외장함수를 활용하여 처리\n",
    "import os\n",
    "# 파일명 획득\n",
    "# file_list[0].split('/')[-1] 과 결과는 동일\n",
    "name = os.path.basename( file_list[0] )\n",
    "name"
   ]
  },
  {
   "cell_type": "code",
   "execution_count": 30,
   "metadata": {
    "colab": {
     "base_uri": "https://localhost:8080/",
     "height": 36
    },
    "colab_type": "code",
    "id": "dgDkVTq6sEtl",
    "outputId": "2ebc4e22-dbac-4ef5-fae8-5e076b182c2b"
   },
   "outputs": [
    {
     "data": {
      "text/plain": [
       "'en'"
      ]
     },
     "execution_count": 30,
     "metadata": {},
     "output_type": "execute_result"
    }
   ],
   "source": [
    "# 정규식으로 언어코드획득\n",
    "import re\n",
    "p         = re.compile( '^[a-z]{2}' )\n",
    "lang_code = p.match( name ).group()\n",
    "lang_code"
   ]
  },
  {
   "cell_type": "code",
   "execution_count": 32,
   "metadata": {},
   "outputs": [
    {
     "data": {
      "text/plain": [
       "['./content/train\\\\en-1.txt',\n",
       " './content/train\\\\en-2.txt',\n",
       " './content/train\\\\en-3.txt',\n",
       " './content/train\\\\en-4.txt',\n",
       " './content/train\\\\en-5.txt',\n",
       " './content/train\\\\fr-10.txt',\n",
       " './content/train\\\\fr-6.txt',\n",
       " './content/train\\\\fr-7.txt',\n",
       " './content/train\\\\fr-8.txt',\n",
       " './content/train\\\\fr-9.txt',\n",
       " './content/train\\\\id-11.txt',\n",
       " './content/train\\\\id-12.txt',\n",
       " './content/train\\\\id-13.txt',\n",
       " './content/train\\\\id-14.txt',\n",
       " './content/train\\\\id-15.txt',\n",
       " './content/train\\\\tl-16.txt',\n",
       " './content/train\\\\tl-17.txt',\n",
       " './content/train\\\\tl-18.txt',\n",
       " './content/train\\\\tl-19.txt',\n",
       " './content/train\\\\tl-20.txt']"
      ]
     },
     "execution_count": 32,
     "metadata": {},
     "output_type": "execute_result"
    }
   ],
   "source": [
    "file_list"
   ]
  },
  {
   "cell_type": "markdown",
   "metadata": {
    "colab_type": "text",
    "id": "e9Edd2cOwflC"
   },
   "source": [
    "### 알파벳 빈도 계산"
   ]
  },
  {
   "cell_type": "code",
   "execution_count": 33,
   "metadata": {
    "colab": {
     "base_uri": "https://localhost:8080/",
     "height": 56
    },
    "colab_type": "code",
    "id": "roodDPS7wbJ8",
    "outputId": "d0199e05-c709-4a4c-af11-8cf088a48605"
   },
   "outputs": [
    {
     "name": "stdout",
     "output_type": "stream",
     "text": [
      "themainhenryfordmuseumbuildinghousessomeoftheclassroomsforthehenryfordacademyhenryfordacademyisthefi\n"
     ]
    }
   ],
   "source": [
    "# 텍스트 파일을 읽어서 => 알파벳만 남긴다\n",
    "# 최종 변수명 text\n",
    "\n",
    "# 텍스트 파일을 열고(I/O)\n",
    "with open(file_list[0], encoding='utf-8') as f:\n",
    "  # 읽어서  \n",
    "  text = f.read().lower()\n",
    "  # 알파벳만 남기고? (알파벳, 띠어쓰기까지 남기고?)\n",
    "  p    = re.compile('[^a-z]*')\n",
    "  text  = p.sub( '' ,  text )#일치되는표현만 (치환)제거시키겠다\n",
    "  print( text[:100] )\n",
    "  pass\n",
    "  # 알파벳만 남긴다"
   ]
  },
  {
   "cell_type": "code",
   "execution_count": 34,
   "metadata": {
    "colab": {
     "base_uri": "https://localhost:8080/",
     "height": 36
    },
    "colab_type": "code",
    "id": "JJH5etuD1mNJ",
    "outputId": "a9507545-c0db-43b1-95de-893d93c62eab"
   },
   "outputs": [
    {
     "data": {
      "text/plain": [
       "[0, 0, 0, 0, 0, 0, 0, 0, 0, 0, 0, 0, 0, 0, 0, 0, 0, 0, 0, 0, 0, 0, 0, 0, 0, 0]"
      ]
     },
     "execution_count": 34,
     "metadata": {},
     "output_type": "execute_result"
    }
   ],
   "source": [
    "# 알파벳별로 카운트를 담을 그릇 (한개의 이름으로 26개의 정보를 담는그릇)\n",
    "# 파이썬의 리스트를 사용한다, 수정가능하고, 순서가 존재하므로 적합하다\n",
    "# a->z 까지는 순서가 존재함으로( ASCII )\n",
    "counts = [ 0 for n in range(26) ]\n",
    "counts"
   ]
  },
  {
   "cell_type": "code",
   "execution_count": 35,
   "metadata": {
    "colab": {
     "base_uri": "https://localhost:8080/",
     "height": 36
    },
    "colab_type": "code",
    "id": "rYXFwvXb3ZrE",
    "outputId": "03c84400-a0ed-4edb-911c-73bb7a5ae462"
   },
   "outputs": [
    {
     "data": {
      "text/plain": [
       "[0, 0, 0, 0, 0, 0, 0, 0, 0, 0, 0, 0, 0, 0, 0, 0, 0, 0, 0, 0, 0, 0, 0, 0, 0, 0]"
      ]
     },
     "execution_count": 35,
     "metadata": {},
     "output_type": "execute_result"
    }
   ],
   "source": [
    "[0]*26"
   ]
  },
  {
   "cell_type": "code",
   "execution_count": 36,
   "metadata": {
    "colab": {
     "base_uri": "https://localhost:8080/",
     "height": 36
    },
    "colab_type": "code",
    "id": "qCke2BKR3ryp",
    "outputId": "2d8e58af-8cc0-4342-a230-53f4b116cdcb"
   },
   "outputs": [
    {
     "data": {
      "text/plain": [
       "(97, 122, 25)"
      ]
     },
     "execution_count": 36,
     "metadata": {},
     "output_type": "execute_result"
    }
   ],
   "source": [
    "# text에서 한글자씩 읽어서 -> a면 counts[0]+=1 -> counts[a-a]+=1\n",
    "# z -> counts[25]+=1 -> counts[z-a]+=1 \n",
    "# t -> counts[?]+=1 -> counts[t-a]+=1 \n",
    "# ord() 특정 문자의 아스키코드값을 리턴\n",
    "# a-z까지는 연속적으로 아스키값이 배치되어 있다\n",
    "# 따라서 특정 문자의 위치는 ord('소문자')-ord('a')\n",
    "ord('a'), ord('z'), (ord('z')-ord('a'))"
   ]
  },
  {
   "cell_type": "code",
   "execution_count": 37,
   "metadata": {
    "colab": {
     "base_uri": "https://localhost:8080/",
     "height": 56
    },
    "colab_type": "code",
    "id": "pBF2P4GP88J4",
    "outputId": "c28b64a3-15c5-4370-c3f6-480c0140221e"
   },
   "outputs": [
    {
     "name": "stdout",
     "output_type": "stream",
     "text": [
      "[349, 59, 210, 212, 484, 72, 88, 201, 340, 8, 25, 247, 121, 356, 412, 76, 0, 357, 282, 370, 119, 45, 65, 3, 92, 2]\n"
     ]
    }
   ],
   "source": [
    "counts = [ 0 for n in range(26) ]\n",
    "ASCII_A = ord('a')\n",
    "for ch in text:\n",
    "  #print( ch )\n",
    "  # 한개뽑인 문자의 아스키값 ord(ch)\n",
    "  counts[ (ord(ch)-ASCII_A) ] += 1\n",
    "  #break\n",
    "print( counts )"
   ]
  },
  {
   "cell_type": "markdown",
   "metadata": {
    "colab_type": "text",
    "id": "AMsWEyRP-xiw"
   },
   "source": [
    "- 데이터를 들여다 보니, 값의 편차가 크다 (최대, 최소등으로 확인)_\n",
    "- 데이터는 빈도를 표현함으로, 최대 최소의 의미보다는 , 총 빈도에서 특정 알파벳이\n",
    "- 얼마나 등장했는가가 중요하다 => 이것을 기준으로 정규화처리\n",
    "- 데이터 준비 단계에서는 데이터의 품질을 향상을 목표로 하고, 주 수단으로 정규화를 사용 한다"
   ]
  },
  {
   "cell_type": "code",
   "execution_count": 38,
   "metadata": {
    "colab": {
     "base_uri": "https://localhost:8080/",
     "height": 36
    },
    "colab_type": "code",
    "id": "yLTy6dNHBeeo",
    "outputId": "85f155f8-6b23-4984-ba23-a65abae86d5f"
   },
   "outputs": [
    {
     "data": {
      "text/plain": [
       "(4595, 4595)"
      ]
     },
     "execution_count": 38,
     "metadata": {},
     "output_type": "execute_result"
    }
   ],
   "source": [
    "sum(counts), len( text )"
   ]
  },
  {
   "cell_type": "code",
   "execution_count": 39,
   "metadata": {
    "colab": {
     "base_uri": "https://localhost:8080/",
     "height": 56
    },
    "colab_type": "code",
    "id": "HFIjdSx2Aoko",
    "outputId": "6196836f-ccfd-4ea7-e74a-1038cd172918"
   },
   "outputs": [
    {
     "name": "stdout",
     "output_type": "stream",
     "text": [
      "1.0 [0.07595212187159957, 0.012840043525571273, 0.04570184983677911, 0.04613710554951034, 0.10533188248095757, 0.015669205658324265, 0.019151251360174103, 0.043743199129488576, 0.07399347116430903, 0.0017410228509249185, 0.00544069640914037, 0.05375408052230685, 0.026332970620239392, 0.07747551686615888, 0.08966267682263329, 0.016539717083786723, 0.0, 0.07769314472252448, 0.061371055495103376, 0.08052230685527748, 0.02589771490750816, 0.009793253536452665, 0.014145810663764961, 0.0006528835690968443, 0.02002176278563656, 0.0004352557127312296]\n"
     ]
    }
   ],
   "source": [
    "#list( map( 함수, 데이터덩어리 ) )\n",
    "# 함수는 map이 자동으로 맴버수만큼 호출한다\n",
    "# x:맴버 한개 한개,...\n",
    "def checkNorm( x ):\n",
    "  #print(x)\n",
    "  # 알파벳별빈도/총빈도(=총알파벳문자열개수)\n",
    "  return x / len( text )\n",
    "frequences = list( map( checkNorm, counts ) ) \n",
    "print( sum(frequences), frequences )"
   ]
  },
  {
   "cell_type": "code",
   "execution_count": 40,
   "metadata": {
    "colab": {},
    "colab_type": "code",
    "id": "cS7r6NrzCrU_"
   },
   "outputs": [],
   "source": [
    "frequences = list( map( lambda x:x / len( text ), counts ) ) "
   ]
  },
  {
   "cell_type": "code",
   "execution_count": 41,
   "metadata": {
    "colab": {
     "base_uri": "https://localhost:8080/",
     "height": 56
    },
    "colab_type": "code",
    "id": "4N3de8aWDCDk",
    "outputId": "47c45eb6-283d-40c6-ce82-b7deada2b90c"
   },
   "outputs": [
    {
     "name": "stdout",
     "output_type": "stream",
     "text": [
      "en [0.07595212187159957, 0.012840043525571273, 0.04570184983677911, 0.04613710554951034, 0.10533188248095757, 0.015669205658324265, 0.019151251360174103, 0.043743199129488576, 0.07399347116430903, 0.0017410228509249185, 0.00544069640914037, 0.05375408052230685, 0.026332970620239392, 0.07747551686615888, 0.08966267682263329, 0.016539717083786723, 0.0, 0.07769314472252448, 0.061371055495103376, 0.08052230685527748, 0.02589771490750816, 0.009793253536452665, 0.014145810663764961, 0.0006528835690968443, 0.02002176278563656, 0.0004352557127312296]\n"
     ]
    }
   ],
   "source": [
    "# 텍스트 파일 1개에 대한 최종 결과물\n",
    "print( lang_code, frequences )"
   ]
  },
  {
   "cell_type": "markdown",
   "metadata": {
    "colab_type": "text",
    "id": "V1lyLEHoDar9"
   },
   "source": [
    "### 위의 구성 내용을 한칸에 넣어서 함수화 시킨다"
   ]
  },
  {
   "cell_type": "code",
   "execution_count": 43,
   "metadata": {
    "colab": {
     "base_uri": "https://localhost:8080/",
     "height": 56
    },
    "colab_type": "code",
    "id": "iJDRUPRyDeTV",
    "outputId": "3a2f4767-a5c7-44aa-8dca-780c6b4538b4"
   },
   "outputs": [
    {
     "name": "stdout",
     "output_type": "stream",
     "text": [
      "('en', [0.07595212187159957, 0.012840043525571273, 0.04570184983677911, 0.04613710554951034, 0.10533188248095757, 0.015669205658324265, 0.019151251360174103, 0.043743199129488576, 0.07399347116430903, 0.0017410228509249185, 0.00544069640914037, 0.05375408052230685, 0.026332970620239392, 0.07747551686615888, 0.08966267682263329, 0.016539717083786723, 0.0, 0.07769314472252448, 0.061371055495103376, 0.08052230685527748, 0.02589771490750816, 0.009793253536452665, 0.014145810663764961, 0.0006528835690968443, 0.02002176278563656, 0.0004352557127312296])\n"
     ]
    }
   ],
   "source": [
    "import os, re\n",
    "def paringLangFreq( file_path ):\n",
    "  # 언어코드 획득  \n",
    "  name = os.path.basename( file_path )  \n",
    "  p         = re.compile( '^[a-z]{2}' )\n",
    "  lang_code = p.match( name ).group()\n",
    "\n",
    "  # 단어의 빈도\n",
    "  with open(file_path, encoding='utf-8') as f:\n",
    "    text = f.read().lower()\n",
    "    p    = re.compile('[^a-z]*')\n",
    "    text  = p.sub( '' ,  text )\n",
    "\n",
    "  counts = [ 0 for n in range(26) ]\n",
    "  ASCII_A = ord('a')\n",
    "  for ch in text:\n",
    "    counts[ (ord(ch)-ASCII_A) ] += 1\n",
    "    \n",
    "  frequences = list( map( lambda x:x / len( text ), counts ) ) \n",
    "\n",
    "  # 결과 리턴\n",
    "  return ( lang_code, frequences )\n",
    "\n",
    "print( paringLangFreq( file_list[0]) )"
   ]
  },
  {
   "cell_type": "code",
   "execution_count": 60,
   "metadata": {
    "colab": {},
    "colab_type": "code",
    "id": "6tCfDFQxSyIq"
   },
   "outputs": [],
   "source": [
    "# 훈련용 데이터, 테스트용 데이터 로드\n",
    "# 중간 경로가 train or test\n",
    "def load_data( path='train' ):\n",
    "  # 파일 경로 획득 \n",
    "  file_lists = glob.glob( './content/{}/*.txt'.format(path) )\n",
    "  # 정답을 담을 리스트\n",
    "  labels = list()\n",
    "  freqs  = list()\n",
    "  # 파일 경로를 한개씩 뽑아서  \n",
    "  for f in file_lists:\n",
    "    # 파일 1개당, 정답, 빈도수리스트 리턴\n",
    "    lang, freq = paringLangFreq( f )\n",
    "    labels.append( lang )\n",
    "    freqs.append( freq )\n",
    "  return { 'labels':labels, 'freqs':freqs }\n",
    "\n",
    "train_data = load_data()\n",
    "test_data  = load_data('test')"
   ]
  },
  {
   "cell_type": "code",
   "execution_count": 61,
   "metadata": {},
   "outputs": [
    {
     "data": {
      "text/plain": [
       "{'labels': ['en', 'en', 'fr', 'fr', 'id', 'id', 'tl', 'tl'],\n",
       " 'freqs': [[0.06782261776891207,\n",
       "   0.013459304237269558,\n",
       "   0.03432780201231943,\n",
       "   0.04881737872377737,\n",
       "   0.11611389991012516,\n",
       "   0.020013590828382912,\n",
       "   0.016002104386330256,\n",
       "   0.022797518577785572,\n",
       "   0.07691970450908613,\n",
       "   0.002411276003419628,\n",
       "   0.005502093425984787,\n",
       "   0.03827352638155155,\n",
       "   0.030097108660864992,\n",
       "   0.07400425261404239,\n",
       "   0.08373703939148162,\n",
       "   0.028321532694710536,\n",
       "   0.000657620728205353,\n",
       "   0.07012429031763082,\n",
       "   0.07955018742190754,\n",
       "   0.0751222078519915,\n",
       "   0.02591025669129091,\n",
       "   0.014774545693680264,\n",
       "   0.036103377978473884,\n",
       "   0.005633617571625857,\n",
       "   0.013086652491286526,\n",
       "   0.00041649312786339027],\n",
       "  [0.08028287821720025,\n",
       "   0.016174278091650972,\n",
       "   0.03534996861268048,\n",
       "   0.0383415725047081,\n",
       "   0.12986503452605147,\n",
       "   0.016703939108600126,\n",
       "   0.01895009416195857,\n",
       "   0.04269656308851224,\n",
       "   0.07398579723791589,\n",
       "   0.004462884494664155,\n",
       "   0.00673846516007533,\n",
       "   0.043324309478970494,\n",
       "   0.025384494664155682,\n",
       "   0.07053319209039548,\n",
       "   0.07392694601381042,\n",
       "   0.04098987758945386,\n",
       "   0.0011377903327055869,\n",
       "   0.06622724419334589,\n",
       "   0.06359855618330194,\n",
       "   0.07888025737602009,\n",
       "   0.027630649717514125,\n",
       "   0.013025737602008789,\n",
       "   0.014879551161330822,\n",
       "   0.00211864406779661,\n",
       "   0.013300376647834275,\n",
       "   0.0014908976773383553],\n",
       "  [0.056764285176541446,\n",
       "   0.012007829556576075,\n",
       "   0.03583527817511104,\n",
       "   0.04987578107355266,\n",
       "   0.12715501016336672,\n",
       "   0.013475871414590078,\n",
       "   0.008620040653466837,\n",
       "   0.007302567191146578,\n",
       "   0.08604983813897463,\n",
       "   0.002785515320334262,\n",
       "   0.0017315365504780547,\n",
       "   0.046224497477979375,\n",
       "   0.03259805766769555,\n",
       "   0.07396672438455168,\n",
       "   0.07761800798012497,\n",
       "   0.035270646691259504,\n",
       "   0.006361514718060679,\n",
       "   0.06730407287510351,\n",
       "   0.09007754272378228,\n",
       "   0.0684333358428066,\n",
       "   0.042911992772717004,\n",
       "   0.013852292403824438,\n",
       "   0.028909131973198825,\n",
       "   0.009297598434088684,\n",
       "   0.005156967552510728,\n",
       "   0.0004140630881577957],\n",
       "  [0.07187479305092603,\n",
       "   0.011412551599302444,\n",
       "   0.03847597183285137,\n",
       "   0.04033023553563939,\n",
       "   0.13935674709167567,\n",
       "   0.012185161475464118,\n",
       "   0.015385973819562483,\n",
       "   0.018410189620538177,\n",
       "   0.0794905189730911,\n",
       "   0.004150018763382707,\n",
       "   0.002384053332156023,\n",
       "   0.05874042515617757,\n",
       "   0.033200150107061656,\n",
       "   0.07083728836008035,\n",
       "   0.06988808194079602,\n",
       "   0.04960155404957948,\n",
       "   0.006887265181784066,\n",
       "   0.06406039601774795,\n",
       "   0.07302267058122337,\n",
       "   0.06633407651045231,\n",
       "   0.048652347630295134,\n",
       "   0.013597933820445465,\n",
       "   0.0028917683936336945,\n",
       "   0.004282466170724708,\n",
       "   0.0033553343193306992,\n",
       "   0.0011920266660780114],\n",
       "  [0.1043223919402015,\n",
       "   0.022424439389015276,\n",
       "   0.015274618134546636,\n",
       "   0.04419889502762431,\n",
       "   0.08937276568085797,\n",
       "   0.011374715632109197,\n",
       "   0.026649333766655833,\n",
       "   0.015599610009749756,\n",
       "   0.0905102372440689,\n",
       "   0.005362365940851478,\n",
       "   0.024536886577835555,\n",
       "   0.034286642833929154,\n",
       "   0.04192395190120247,\n",
       "   0.0831979200519987,\n",
       "   0.060610984725381865,\n",
       "   0.025999350016249593,\n",
       "   0.0006499837504062399,\n",
       "   0.06954826129346767,\n",
       "   0.07929801754956126,\n",
       "   0.05281117972050699,\n",
       "   0.03688657783555411,\n",
       "   0.016574585635359115,\n",
       "   0.03363665908352291,\n",
       "   0.004874878128046799,\n",
       "   0.009587260318492039,\n",
       "   0.0004874878128046799],\n",
       "  [0.16473616473616473,\n",
       "   0.026052026052026053,\n",
       "   0.014586014586014585,\n",
       "   0.04157404157404158,\n",
       "   0.08825708825708825,\n",
       "   0.006201006201006201,\n",
       "   0.035997035997036,\n",
       "   0.025116025116025117,\n",
       "   0.08205608205608206,\n",
       "   0.007254007254007254,\n",
       "   0.03853203853203853,\n",
       "   0.04301704301704302,\n",
       "   0.040872040872040875,\n",
       "   0.08985608985608985,\n",
       "   0.03116103116103116,\n",
       "   0.03634803634803635,\n",
       "   0.000156000156000156,\n",
       "   0.053625053625053626,\n",
       "   0.048789048789048786,\n",
       "   0.05323505323505324,\n",
       "   0.047424047424047426,\n",
       "   0.00468000468000468,\n",
       "   0.004602004602004602,\n",
       "   0.000468000468000468,\n",
       "   0.01482001482001482,\n",
       "   0.000585000585000585],\n",
       "  [0.1855536497045931,\n",
       "   0.019668381932532876,\n",
       "   0.01437011625690871,\n",
       "   0.0267200304936154,\n",
       "   0.03308557270821422,\n",
       "   0.007966457023060796,\n",
       "   0.08252334667429007,\n",
       "   0.014065180102915952,\n",
       "   0.08172288927005908,\n",
       "   0.00022870211549456832,\n",
       "   0.023861254049933295,\n",
       "   0.03552506194015628,\n",
       "   0.03815513626834382,\n",
       "   0.12224128073184677,\n",
       "   0.05812845435486945,\n",
       "   0.03129407280350677,\n",
       "   0.0001524680769963789,\n",
       "   0.03582999809414904,\n",
       "   0.05870020964360587,\n",
       "   0.05225843339050886,\n",
       "   0.02389937106918239,\n",
       "   0.004802744425385935,\n",
       "   0.028359062321326473,\n",
       "   0.00339241471316943,\n",
       "   0.017076424623594436,\n",
       "   0.0004192872117400419],\n",
       "  [0.16767554479418886,\n",
       "   0.01694915254237288,\n",
       "   0.018765133171912834,\n",
       "   0.024818401937046004,\n",
       "   0.05569007263922518,\n",
       "   0.009079903147699757,\n",
       "   0.06658595641646489,\n",
       "   0.011501210653753027,\n",
       "   0.07021791767554479,\n",
       "   0.0006053268765133172,\n",
       "   0.020581113801452784,\n",
       "   0.04055690072639225,\n",
       "   0.03571428571428571,\n",
       "   0.1059322033898305,\n",
       "   0.06779661016949153,\n",
       "   0.0526634382566586,\n",
       "   0.0012106537530266344,\n",
       "   0.04418886198547216,\n",
       "   0.0526634382566586,\n",
       "   0.06174334140435835,\n",
       "   0.03753026634382567,\n",
       "   0.0018159806295399517,\n",
       "   0.016343825665859565,\n",
       "   0.0006053268765133172,\n",
       "   0.018159806295399514,\n",
       "   0.0006053268765133172]]}"
      ]
     },
     "execution_count": 61,
     "metadata": {},
     "output_type": "execute_result"
    }
   ],
   "source": [
    "test_data"
   ]
  },
  {
   "cell_type": "code",
   "execution_count": 62,
   "metadata": {
    "colab": {},
    "colab_type": "code",
    "id": "If1hMIF8XI7a"
   },
   "outputs": [],
   "source": [
    "# 덤프 (현 단계 결과물을 저장)\n",
    "import json\n",
    "\n",
    "with open('labels_freqs_data.json', 'w') as f:\n",
    "  # json 구조로 저장\n",
    "  json.dump( [train_data, test_data], f )"
   ]
  },
  {
   "cell_type": "markdown",
   "metadata": {
    "colab_type": "text",
    "id": "eyGC-8V-L8zw"
   },
   "source": [
    "# 데이터 분석\n",
    "\n",
    "- 알파벳의 빈도가 영어권 국가별로 다르다!!\n",
    "\n"
   ]
  },
  {
   "cell_type": "code",
   "execution_count": 63,
   "metadata": {
    "colab": {},
    "colab_type": "code",
    "id": "wdFiY_znZJ0Z"
   },
   "outputs": [],
   "source": [
    "import numpy as np\n",
    "import pandas as pd\n",
    "import matplotlib.pyplot as plt\n",
    "import json\n",
    "\n",
    "%matplotlib inline"
   ]
  },
  {
   "cell_type": "code",
   "execution_count": 64,
   "metadata": {
    "colab": {
     "base_uri": "https://localhost:8080/",
     "height": 36
    },
    "colab_type": "code",
    "id": "ijX2wjzAZmYo",
    "outputId": "11572c4d-c6df-453f-b80f-a8953dc4aa8d"
   },
   "outputs": [
    {
     "data": {
      "text/plain": [
       "2"
      ]
     },
     "execution_count": 64,
     "metadata": {},
     "output_type": "execute_result"
    }
   ],
   "source": [
    "# 데이터 로드\n",
    "# /content/labels_freqs_data.json\n",
    "with open('labels_freqs_data.json', 'r') as f:\n",
    "  tmp = json.load( f )\n",
    "len(tmp)\n",
    "# 0:train, 1:test"
   ]
  },
  {
   "cell_type": "code",
   "execution_count": 65,
   "metadata": {
    "colab": {
     "base_uri": "https://localhost:8080/",
     "height": 36
    },
    "colab_type": "code",
    "id": "jNeV_JxWZ8C_",
    "outputId": "aff3824a-5fd3-4d98-e402-045feb96baf0"
   },
   "outputs": [
    {
     "data": {
      "text/plain": [
       "(20, 20)"
      ]
     },
     "execution_count": 65,
     "metadata": {},
     "output_type": "execute_result"
    }
   ],
   "source": [
    "# 데이터크기 확인\n",
    "# 훈련\n",
    "len( tmp[0]['labels'] ), len( tmp[0]['freqs'] )"
   ]
  },
  {
   "cell_type": "code",
   "execution_count": 66,
   "metadata": {
    "colab": {
     "base_uri": "https://localhost:8080/",
     "height": 36
    },
    "colab_type": "code",
    "id": "8npupKG8aWoG",
    "outputId": "b9795a47-6cd1-41ac-a277-60cb766417d9"
   },
   "outputs": [
    {
     "data": {
      "text/plain": [
       "(8, 8)"
      ]
     },
     "execution_count": 66,
     "metadata": {},
     "output_type": "execute_result"
    }
   ],
   "source": [
    "# 테스트\n",
    "len( tmp[1]['labels'] ), len( tmp[1]['freqs'] )"
   ]
  },
  {
   "cell_type": "code",
   "execution_count": 67,
   "metadata": {
    "colab": {
     "base_uri": "https://localhost:8080/",
     "height": 128
    },
    "colab_type": "code",
    "id": "G7XsRFm0aiku",
    "outputId": "ef8d7520-9bc4-4e64-997d-77826658e2c8"
   },
   "outputs": [
    {
     "data": {
      "text/html": [
       "<div>\n",
       "<style scoped>\n",
       "    .dataframe tbody tr th:only-of-type {\n",
       "        vertical-align: middle;\n",
       "    }\n",
       "\n",
       "    .dataframe tbody tr th {\n",
       "        vertical-align: top;\n",
       "    }\n",
       "\n",
       "    .dataframe thead th {\n",
       "        text-align: right;\n",
       "    }\n",
       "</style>\n",
       "<table border=\"1\" class=\"dataframe\">\n",
       "  <thead>\n",
       "    <tr style=\"text-align: right;\">\n",
       "      <th></th>\n",
       "      <th>0</th>\n",
       "      <th>1</th>\n",
       "      <th>2</th>\n",
       "      <th>3</th>\n",
       "      <th>4</th>\n",
       "      <th>5</th>\n",
       "      <th>6</th>\n",
       "      <th>7</th>\n",
       "      <th>8</th>\n",
       "      <th>9</th>\n",
       "      <th>...</th>\n",
       "      <th>16</th>\n",
       "      <th>17</th>\n",
       "      <th>18</th>\n",
       "      <th>19</th>\n",
       "      <th>20</th>\n",
       "      <th>21</th>\n",
       "      <th>22</th>\n",
       "      <th>23</th>\n",
       "      <th>24</th>\n",
       "      <th>25</th>\n",
       "    </tr>\n",
       "  </thead>\n",
       "  <tbody>\n",
       "    <tr>\n",
       "      <td>0</td>\n",
       "      <td>0.075952</td>\n",
       "      <td>0.012840</td>\n",
       "      <td>0.045702</td>\n",
       "      <td>0.046137</td>\n",
       "      <td>0.105332</td>\n",
       "      <td>0.015669</td>\n",
       "      <td>0.019151</td>\n",
       "      <td>0.043743</td>\n",
       "      <td>0.073993</td>\n",
       "      <td>0.001741</td>\n",
       "      <td>...</td>\n",
       "      <td>0.000000</td>\n",
       "      <td>0.077693</td>\n",
       "      <td>0.061371</td>\n",
       "      <td>0.080522</td>\n",
       "      <td>0.025898</td>\n",
       "      <td>0.009793</td>\n",
       "      <td>0.014146</td>\n",
       "      <td>0.000653</td>\n",
       "      <td>0.020022</td>\n",
       "      <td>0.000435</td>\n",
       "    </tr>\n",
       "    <tr>\n",
       "      <td>1</td>\n",
       "      <td>0.084178</td>\n",
       "      <td>0.019912</td>\n",
       "      <td>0.030404</td>\n",
       "      <td>0.038870</td>\n",
       "      <td>0.136998</td>\n",
       "      <td>0.017408</td>\n",
       "      <td>0.031239</td>\n",
       "      <td>0.027423</td>\n",
       "      <td>0.075355</td>\n",
       "      <td>0.002623</td>\n",
       "      <td>...</td>\n",
       "      <td>0.005485</td>\n",
       "      <td>0.090140</td>\n",
       "      <td>0.071659</td>\n",
       "      <td>0.077739</td>\n",
       "      <td>0.030643</td>\n",
       "      <td>0.013712</td>\n",
       "      <td>0.013950</td>\n",
       "      <td>0.002027</td>\n",
       "      <td>0.010731</td>\n",
       "      <td>0.000596</td>\n",
       "    </tr>\n",
       "  </tbody>\n",
       "</table>\n",
       "<p>2 rows × 26 columns</p>\n",
       "</div>"
      ],
      "text/plain": [
       "         0         1         2         3         4         5         6   \\\n",
       "0  0.075952  0.012840  0.045702  0.046137  0.105332  0.015669  0.019151   \n",
       "1  0.084178  0.019912  0.030404  0.038870  0.136998  0.017408  0.031239   \n",
       "\n",
       "         7         8         9   ...        16        17        18        19  \\\n",
       "0  0.043743  0.073993  0.001741  ...  0.000000  0.077693  0.061371  0.080522   \n",
       "1  0.027423  0.075355  0.002623  ...  0.005485  0.090140  0.071659  0.077739   \n",
       "\n",
       "         20        21        22        23        24        25  \n",
       "0  0.025898  0.009793  0.014146  0.000653  0.020022  0.000435  \n",
       "1  0.030643  0.013712  0.013950  0.002027  0.010731  0.000596  \n",
       "\n",
       "[2 rows x 26 columns]"
      ]
     },
     "execution_count": 67,
     "metadata": {},
     "output_type": "execute_result"
    }
   ],
   "source": [
    "# 훈련 데이터를 DataFrame으로 빈도 데이터만 로드\n",
    "df_freqs = pd.DataFrame( tmp[0]['freqs'] )\n",
    "df_freqs.head(2)"
   ]
  },
  {
   "cell_type": "code",
   "execution_count": 68,
   "metadata": {
    "colab": {
     "base_uri": "https://localhost:8080/",
     "height": 36
    },
    "colab_type": "code",
    "id": "OHhf0oUgainQ",
    "outputId": "4d4e564b-aecc-41a1-aefb-360a6c23340a"
   },
   "outputs": [
    {
     "data": {
      "text/plain": [
       "(20, 26)"
      ]
     },
     "execution_count": 68,
     "metadata": {},
     "output_type": "execute_result"
    }
   ],
   "source": [
    "df_freqs.shape"
   ]
  },
  {
   "cell_type": "code",
   "execution_count": 69,
   "metadata": {
    "colab": {
     "base_uri": "https://localhost:8080/",
     "height": 108
    },
    "colab_type": "code",
    "id": "WzTN3rEJaipU",
    "outputId": "d7cb6ede-5968-4501-b4a7-12988b3d17eb"
   },
   "outputs": [
    {
     "data": {
      "text/html": [
       "<div>\n",
       "<style scoped>\n",
       "    .dataframe tbody tr th:only-of-type {\n",
       "        vertical-align: middle;\n",
       "    }\n",
       "\n",
       "    .dataframe tbody tr th {\n",
       "        vertical-align: top;\n",
       "    }\n",
       "\n",
       "    .dataframe thead th {\n",
       "        text-align: right;\n",
       "    }\n",
       "</style>\n",
       "<table border=\"1\" class=\"dataframe\">\n",
       "  <thead>\n",
       "    <tr style=\"text-align: right;\">\n",
       "      <th></th>\n",
       "      <th>0</th>\n",
       "    </tr>\n",
       "  </thead>\n",
       "  <tbody>\n",
       "    <tr>\n",
       "      <td>0</td>\n",
       "      <td>en</td>\n",
       "    </tr>\n",
       "    <tr>\n",
       "      <td>1</td>\n",
       "      <td>en</td>\n",
       "    </tr>\n",
       "  </tbody>\n",
       "</table>\n",
       "</div>"
      ],
      "text/plain": [
       "    0\n",
       "0  en\n",
       "1  en"
      ]
     },
     "execution_count": 69,
     "metadata": {},
     "output_type": "execute_result"
    }
   ],
   "source": [
    "# 훈련 데이터를 DataFrame으로 정답 데이터만 로드\n",
    "df_labels = pd.DataFrame( tmp[0]['labels'] )\n",
    "df_labels.head(2)"
   ]
  },
  {
   "cell_type": "code",
   "execution_count": 70,
   "metadata": {
    "colab": {
     "base_uri": "https://localhost:8080/",
     "height": 36
    },
    "colab_type": "code",
    "id": "QjuFJFZfaisJ",
    "outputId": "235c9681-9aee-4036-81cc-940a28a2c177"
   },
   "outputs": [
    {
     "data": {
      "text/plain": [
       "(20, 1)"
      ]
     },
     "execution_count": 70,
     "metadata": {},
     "output_type": "execute_result"
    }
   ],
   "source": [
    "df_labels.shape"
   ]
  },
  {
   "cell_type": "code",
   "execution_count": 71,
   "metadata": {
    "colab": {},
    "colab_type": "code",
    "id": "eEK3Fddeb0cH"
   },
   "outputs": [],
   "source": [
    "# 컬럼명을 명확하게 조정\n",
    "# df_labels의 컬러명을  label 로 교체\n",
    "df_labels.columns = ['label']"
   ]
  },
  {
   "cell_type": "code",
   "execution_count": 72,
   "metadata": {
    "colab": {
     "base_uri": "https://localhost:8080/",
     "height": 107
    },
    "colab_type": "code",
    "id": "dI4iSC_Ub0e6",
    "outputId": "06190f0d-d17d-48f6-a059-bf3a7c813f6f"
   },
   "outputs": [
    {
     "data": {
      "text/html": [
       "<div>\n",
       "<style scoped>\n",
       "    .dataframe tbody tr th:only-of-type {\n",
       "        vertical-align: middle;\n",
       "    }\n",
       "\n",
       "    .dataframe tbody tr th {\n",
       "        vertical-align: top;\n",
       "    }\n",
       "\n",
       "    .dataframe thead th {\n",
       "        text-align: right;\n",
       "    }\n",
       "</style>\n",
       "<table border=\"1\" class=\"dataframe\">\n",
       "  <thead>\n",
       "    <tr style=\"text-align: right;\">\n",
       "      <th></th>\n",
       "      <th>label</th>\n",
       "    </tr>\n",
       "  </thead>\n",
       "  <tbody>\n",
       "    <tr>\n",
       "      <td>0</td>\n",
       "      <td>en</td>\n",
       "    </tr>\n",
       "    <tr>\n",
       "      <td>1</td>\n",
       "      <td>en</td>\n",
       "    </tr>\n",
       "  </tbody>\n",
       "</table>\n",
       "</div>"
      ],
      "text/plain": [
       "  label\n",
       "0    en\n",
       "1    en"
      ]
     },
     "execution_count": 72,
     "metadata": {},
     "output_type": "execute_result"
    }
   ],
   "source": [
    "df_labels.head(2)"
   ]
  },
  {
   "cell_type": "code",
   "execution_count": 73,
   "metadata": {
    "colab": {
     "base_uri": "https://localhost:8080/",
     "height": 34
    },
    "colab_type": "code",
    "id": "gKRlrFRBb0hR",
    "outputId": "16088460-6b2b-43ca-e3e7-f453f5cb2cd7"
   },
   "outputs": [
    {
     "data": {
      "text/plain": [
       "'abcdefghijklmnopqrstuvwxyz'"
      ]
     },
     "execution_count": 73,
     "metadata": {},
     "output_type": "execute_result"
    }
   ],
   "source": [
    "# df_freqs의 컬럼명을 a-z까지 변경\n",
    "from string import ascii_lowercase\n",
    "ascii_lowercase"
   ]
  },
  {
   "cell_type": "code",
   "execution_count": 74,
   "metadata": {
    "colab": {
     "base_uri": "https://localhost:8080/",
     "height": 127
    },
    "colab_type": "code",
    "id": "fEoNKPl4b0jN",
    "outputId": "e400b6cf-0c91-40d5-b98e-b6664102a420"
   },
   "outputs": [
    {
     "data": {
      "text/html": [
       "<div>\n",
       "<style scoped>\n",
       "    .dataframe tbody tr th:only-of-type {\n",
       "        vertical-align: middle;\n",
       "    }\n",
       "\n",
       "    .dataframe tbody tr th {\n",
       "        vertical-align: top;\n",
       "    }\n",
       "\n",
       "    .dataframe thead th {\n",
       "        text-align: right;\n",
       "    }\n",
       "</style>\n",
       "<table border=\"1\" class=\"dataframe\">\n",
       "  <thead>\n",
       "    <tr style=\"text-align: right;\">\n",
       "      <th></th>\n",
       "      <th>a</th>\n",
       "      <th>b</th>\n",
       "      <th>c</th>\n",
       "      <th>d</th>\n",
       "      <th>e</th>\n",
       "      <th>f</th>\n",
       "      <th>g</th>\n",
       "      <th>h</th>\n",
       "      <th>i</th>\n",
       "      <th>j</th>\n",
       "      <th>...</th>\n",
       "      <th>q</th>\n",
       "      <th>r</th>\n",
       "      <th>s</th>\n",
       "      <th>t</th>\n",
       "      <th>u</th>\n",
       "      <th>v</th>\n",
       "      <th>w</th>\n",
       "      <th>x</th>\n",
       "      <th>y</th>\n",
       "      <th>z</th>\n",
       "    </tr>\n",
       "  </thead>\n",
       "  <tbody>\n",
       "    <tr>\n",
       "      <td>0</td>\n",
       "      <td>0.075952</td>\n",
       "      <td>0.012840</td>\n",
       "      <td>0.045702</td>\n",
       "      <td>0.046137</td>\n",
       "      <td>0.105332</td>\n",
       "      <td>0.015669</td>\n",
       "      <td>0.019151</td>\n",
       "      <td>0.043743</td>\n",
       "      <td>0.073993</td>\n",
       "      <td>0.001741</td>\n",
       "      <td>...</td>\n",
       "      <td>0.000000</td>\n",
       "      <td>0.077693</td>\n",
       "      <td>0.061371</td>\n",
       "      <td>0.080522</td>\n",
       "      <td>0.025898</td>\n",
       "      <td>0.009793</td>\n",
       "      <td>0.014146</td>\n",
       "      <td>0.000653</td>\n",
       "      <td>0.020022</td>\n",
       "      <td>0.000435</td>\n",
       "    </tr>\n",
       "    <tr>\n",
       "      <td>1</td>\n",
       "      <td>0.084178</td>\n",
       "      <td>0.019912</td>\n",
       "      <td>0.030404</td>\n",
       "      <td>0.038870</td>\n",
       "      <td>0.136998</td>\n",
       "      <td>0.017408</td>\n",
       "      <td>0.031239</td>\n",
       "      <td>0.027423</td>\n",
       "      <td>0.075355</td>\n",
       "      <td>0.002623</td>\n",
       "      <td>...</td>\n",
       "      <td>0.005485</td>\n",
       "      <td>0.090140</td>\n",
       "      <td>0.071659</td>\n",
       "      <td>0.077739</td>\n",
       "      <td>0.030643</td>\n",
       "      <td>0.013712</td>\n",
       "      <td>0.013950</td>\n",
       "      <td>0.002027</td>\n",
       "      <td>0.010731</td>\n",
       "      <td>0.000596</td>\n",
       "    </tr>\n",
       "  </tbody>\n",
       "</table>\n",
       "<p>2 rows × 26 columns</p>\n",
       "</div>"
      ],
      "text/plain": [
       "          a         b         c         d         e         f         g  \\\n",
       "0  0.075952  0.012840  0.045702  0.046137  0.105332  0.015669  0.019151   \n",
       "1  0.084178  0.019912  0.030404  0.038870  0.136998  0.017408  0.031239   \n",
       "\n",
       "          h         i         j  ...         q         r         s         t  \\\n",
       "0  0.043743  0.073993  0.001741  ...  0.000000  0.077693  0.061371  0.080522   \n",
       "1  0.027423  0.075355  0.002623  ...  0.005485  0.090140  0.071659  0.077739   \n",
       "\n",
       "          u         v         w         x         y         z  \n",
       "0  0.025898  0.009793  0.014146  0.000653  0.020022  0.000435  \n",
       "1  0.030643  0.013712  0.013950  0.002027  0.010731  0.000596  \n",
       "\n",
       "[2 rows x 26 columns]"
      ]
     },
     "execution_count": 74,
     "metadata": {},
     "output_type": "execute_result"
    }
   ],
   "source": [
    "df_freqs.columns = list( ascii_lowercase )\n",
    "df_freqs.head(2)"
   ]
  },
  {
   "cell_type": "code",
   "execution_count": 75,
   "metadata": {
    "colab": {
     "base_uri": "https://localhost:8080/",
     "height": 127
    },
    "colab_type": "code",
    "id": "WvmPB9s9b0lX",
    "outputId": "d67c7a3d-6a88-49a8-c127-d8b4ab4eda26"
   },
   "outputs": [
    {
     "data": {
      "text/html": [
       "<div>\n",
       "<style scoped>\n",
       "    .dataframe tbody tr th:only-of-type {\n",
       "        vertical-align: middle;\n",
       "    }\n",
       "\n",
       "    .dataframe tbody tr th {\n",
       "        vertical-align: top;\n",
       "    }\n",
       "\n",
       "    .dataframe thead th {\n",
       "        text-align: right;\n",
       "    }\n",
       "</style>\n",
       "<table border=\"1\" class=\"dataframe\">\n",
       "  <thead>\n",
       "    <tr style=\"text-align: right;\">\n",
       "      <th></th>\n",
       "      <th>a</th>\n",
       "      <th>b</th>\n",
       "      <th>c</th>\n",
       "      <th>d</th>\n",
       "      <th>e</th>\n",
       "      <th>f</th>\n",
       "      <th>g</th>\n",
       "      <th>h</th>\n",
       "      <th>i</th>\n",
       "      <th>j</th>\n",
       "      <th>...</th>\n",
       "      <th>r</th>\n",
       "      <th>s</th>\n",
       "      <th>t</th>\n",
       "      <th>u</th>\n",
       "      <th>v</th>\n",
       "      <th>w</th>\n",
       "      <th>x</th>\n",
       "      <th>y</th>\n",
       "      <th>z</th>\n",
       "      <th>label</th>\n",
       "    </tr>\n",
       "  </thead>\n",
       "  <tbody>\n",
       "    <tr>\n",
       "      <td>0</td>\n",
       "      <td>0.075952</td>\n",
       "      <td>0.012840</td>\n",
       "      <td>0.045702</td>\n",
       "      <td>0.046137</td>\n",
       "      <td>0.105332</td>\n",
       "      <td>0.015669</td>\n",
       "      <td>0.019151</td>\n",
       "      <td>0.043743</td>\n",
       "      <td>0.073993</td>\n",
       "      <td>0.001741</td>\n",
       "      <td>...</td>\n",
       "      <td>0.077693</td>\n",
       "      <td>0.061371</td>\n",
       "      <td>0.080522</td>\n",
       "      <td>0.025898</td>\n",
       "      <td>0.009793</td>\n",
       "      <td>0.014146</td>\n",
       "      <td>0.000653</td>\n",
       "      <td>0.020022</td>\n",
       "      <td>0.000435</td>\n",
       "      <td>en</td>\n",
       "    </tr>\n",
       "    <tr>\n",
       "      <td>1</td>\n",
       "      <td>0.084178</td>\n",
       "      <td>0.019912</td>\n",
       "      <td>0.030404</td>\n",
       "      <td>0.038870</td>\n",
       "      <td>0.136998</td>\n",
       "      <td>0.017408</td>\n",
       "      <td>0.031239</td>\n",
       "      <td>0.027423</td>\n",
       "      <td>0.075355</td>\n",
       "      <td>0.002623</td>\n",
       "      <td>...</td>\n",
       "      <td>0.090140</td>\n",
       "      <td>0.071659</td>\n",
       "      <td>0.077739</td>\n",
       "      <td>0.030643</td>\n",
       "      <td>0.013712</td>\n",
       "      <td>0.013950</td>\n",
       "      <td>0.002027</td>\n",
       "      <td>0.010731</td>\n",
       "      <td>0.000596</td>\n",
       "      <td>en</td>\n",
       "    </tr>\n",
       "  </tbody>\n",
       "</table>\n",
       "<p>2 rows × 27 columns</p>\n",
       "</div>"
      ],
      "text/plain": [
       "          a         b         c         d         e         f         g  \\\n",
       "0  0.075952  0.012840  0.045702  0.046137  0.105332  0.015669  0.019151   \n",
       "1  0.084178  0.019912  0.030404  0.038870  0.136998  0.017408  0.031239   \n",
       "\n",
       "          h         i         j  ...         r         s         t         u  \\\n",
       "0  0.043743  0.073993  0.001741  ...  0.077693  0.061371  0.080522  0.025898   \n",
       "1  0.027423  0.075355  0.002623  ...  0.090140  0.071659  0.077739  0.030643   \n",
       "\n",
       "          v         w         x         y         z  label  \n",
       "0  0.009793  0.014146  0.000653  0.020022  0.000435     en  \n",
       "1  0.013712  0.013950  0.002027  0.010731  0.000596     en  \n",
       "\n",
       "[2 rows x 27 columns]"
      ]
     },
     "execution_count": 75,
     "metadata": {},
     "output_type": "execute_result"
    }
   ],
   "source": [
    "# df_freqs, df_labels 결합 => (20, 27)\n",
    "df_tmp = pd.merge( df_freqs, df_labels, left_index=True, right_index=True )\n",
    "df_tmp.head(2)"
   ]
  },
  {
   "cell_type": "code",
   "execution_count": 76,
   "metadata": {
    "colab": {
     "base_uri": "https://localhost:8080/",
     "height": 127
    },
    "colab_type": "code",
    "id": "E3ONdyg2janm",
    "outputId": "c5c3dbc4-9bb7-4067-d895-6153620aedf7"
   },
   "outputs": [
    {
     "data": {
      "text/html": [
       "<div>\n",
       "<style scoped>\n",
       "    .dataframe tbody tr th:only-of-type {\n",
       "        vertical-align: middle;\n",
       "    }\n",
       "\n",
       "    .dataframe tbody tr th {\n",
       "        vertical-align: top;\n",
       "    }\n",
       "\n",
       "    .dataframe thead th {\n",
       "        text-align: right;\n",
       "    }\n",
       "</style>\n",
       "<table border=\"1\" class=\"dataframe\">\n",
       "  <thead>\n",
       "    <tr style=\"text-align: right;\">\n",
       "      <th></th>\n",
       "      <th>a</th>\n",
       "      <th>b</th>\n",
       "      <th>c</th>\n",
       "      <th>d</th>\n",
       "      <th>e</th>\n",
       "      <th>f</th>\n",
       "      <th>g</th>\n",
       "      <th>h</th>\n",
       "      <th>i</th>\n",
       "      <th>j</th>\n",
       "      <th>...</th>\n",
       "      <th>r</th>\n",
       "      <th>s</th>\n",
       "      <th>t</th>\n",
       "      <th>u</th>\n",
       "      <th>v</th>\n",
       "      <th>w</th>\n",
       "      <th>x</th>\n",
       "      <th>y</th>\n",
       "      <th>z</th>\n",
       "      <th>label</th>\n",
       "    </tr>\n",
       "  </thead>\n",
       "  <tbody>\n",
       "    <tr>\n",
       "      <td>0</td>\n",
       "      <td>0.075952</td>\n",
       "      <td>0.012840</td>\n",
       "      <td>0.045702</td>\n",
       "      <td>0.046137</td>\n",
       "      <td>0.105332</td>\n",
       "      <td>0.015669</td>\n",
       "      <td>0.019151</td>\n",
       "      <td>0.043743</td>\n",
       "      <td>0.073993</td>\n",
       "      <td>0.001741</td>\n",
       "      <td>...</td>\n",
       "      <td>0.077693</td>\n",
       "      <td>0.061371</td>\n",
       "      <td>0.080522</td>\n",
       "      <td>0.025898</td>\n",
       "      <td>0.009793</td>\n",
       "      <td>0.014146</td>\n",
       "      <td>0.000653</td>\n",
       "      <td>0.020022</td>\n",
       "      <td>0.000435</td>\n",
       "      <td>en</td>\n",
       "    </tr>\n",
       "    <tr>\n",
       "      <td>1</td>\n",
       "      <td>0.084178</td>\n",
       "      <td>0.019912</td>\n",
       "      <td>0.030404</td>\n",
       "      <td>0.038870</td>\n",
       "      <td>0.136998</td>\n",
       "      <td>0.017408</td>\n",
       "      <td>0.031239</td>\n",
       "      <td>0.027423</td>\n",
       "      <td>0.075355</td>\n",
       "      <td>0.002623</td>\n",
       "      <td>...</td>\n",
       "      <td>0.090140</td>\n",
       "      <td>0.071659</td>\n",
       "      <td>0.077739</td>\n",
       "      <td>0.030643</td>\n",
       "      <td>0.013712</td>\n",
       "      <td>0.013950</td>\n",
       "      <td>0.002027</td>\n",
       "      <td>0.010731</td>\n",
       "      <td>0.000596</td>\n",
       "      <td>en</td>\n",
       "    </tr>\n",
       "  </tbody>\n",
       "</table>\n",
       "<p>2 rows × 27 columns</p>\n",
       "</div>"
      ],
      "text/plain": [
       "          a         b         c         d         e         f         g  \\\n",
       "0  0.075952  0.012840  0.045702  0.046137  0.105332  0.015669  0.019151   \n",
       "1  0.084178  0.019912  0.030404  0.038870  0.136998  0.017408  0.031239   \n",
       "\n",
       "          h         i         j  ...         r         s         t         u  \\\n",
       "0  0.043743  0.073993  0.001741  ...  0.077693  0.061371  0.080522  0.025898   \n",
       "1  0.027423  0.075355  0.002623  ...  0.090140  0.071659  0.077739  0.030643   \n",
       "\n",
       "          v         w         x         y         z  label  \n",
       "0  0.009793  0.014146  0.000653  0.020022  0.000435     en  \n",
       "1  0.013712  0.013950  0.002027  0.010731  0.000596     en  \n",
       "\n",
       "[2 rows x 27 columns]"
      ]
     },
     "execution_count": 76,
     "metadata": {},
     "output_type": "execute_result"
    }
   ],
   "source": [
    "df_tmp = pd.concat( [df_freqs, df_labels], axis=1 )\n",
    "df_tmp.head(2)"
   ]
  },
  {
   "cell_type": "markdown",
   "metadata": {
    "colab_type": "text",
    "id": "FqBHOqYrkMPj"
   },
   "source": [
    "### 피벗 (특정 컬럼에 반복적으로 데이터가 보이면, 그 종류가 한정적)\n",
    "\n",
    "- 현재 데이터를 일종의 로그가 누적된 데이터이다 \n",
    "- 이 데이터에서 숨겨진 정보를 추출하기 위해서, 관점을 달리하여 데이터를 재구성\n",
    "- 국가별 알파벳의 빈도\n",
    "- row : 국가별 정렬\n",
    "- column : 알파벳으로 정렬\n",
    "- index:en, fr, .. column은 a~z 로 재구성해라 -> 피벗테이블\n"
   ]
  },
  {
   "cell_type": "code",
   "execution_count": 77,
   "metadata": {
    "colab": {
     "base_uri": "https://localhost:8080/",
     "height": 52
    },
    "colab_type": "code",
    "id": "0IZNb-pkkLoc",
    "outputId": "4548d9e3-86bb-4ed1-e9f2-94a731f22ea2"
   },
   "outputs": [
    {
     "data": {
      "text/plain": [
       "(array(['en', 'fr', 'id', 'tl'], dtype=object),\n",
       " array(['en', 'fr', 'id', 'tl'], dtype=object))"
      ]
     },
     "execution_count": 77,
     "metadata": {},
     "output_type": "execute_result"
    }
   ],
   "source": [
    "# label값 추출 및 중복제거\n",
    "df_tmp['label'].unique(), df_tmp.label.unique()"
   ]
  },
  {
   "cell_type": "code",
   "execution_count": 78,
   "metadata": {
    "colab": {
     "base_uri": "https://localhost:8080/",
     "height": 121
    },
    "colab_type": "code",
    "id": "SOrI8LZQnq3E",
    "outputId": "ce1488d2-4f27-4b09-e9e0-9dda583f2661"
   },
   "outputs": [
    {
     "data": {
      "text/plain": [
       "(              a         b         c         d         e         f         g  \\\n",
       " label                                                                         \n",
       " en     0.075558  0.018601  0.036565  0.039376  0.124937  0.016977  0.023900   \n",
       " fr     0.076183  0.013140  0.036707  0.049217  0.150272  0.012729  0.013278   \n",
       " \n",
       "               h         i         j  ...         q         r         s  \\\n",
       " label                                ...                                 \n",
       " en     0.042127  0.074847  0.002329  ...  0.001592  0.070693  0.070782   \n",
       " fr     0.014709  0.077658  0.003138  ...  0.005976  0.077309  0.074177   \n",
       " \n",
       "               t         u         v         w         x         y         z  \n",
       " label                                                                        \n",
       " en     0.085701  0.026975  0.011627  0.016694  0.002466  0.016232  0.000788  \n",
       " fr     0.067647  0.049076  0.013363  0.001796  0.004234  0.004813  0.000915  \n",
       " \n",
       " [2 rows x 26 columns], (4, 26))"
      ]
     },
     "execution_count": 78,
     "metadata": {},
     "output_type": "execute_result"
    }
   ],
   "source": [
    "# 결과물 (4,26)\n",
    "df_tmp_pv = df_tmp.pivot_table( index=df_tmp.label )\n",
    "df_tmp_pv.head(2), df_tmp_pv.shape"
   ]
  },
  {
   "cell_type": "code",
   "execution_count": 79,
   "metadata": {
    "colab": {
     "base_uri": "https://localhost:8080/",
     "height": 69
    },
    "colab_type": "code",
    "id": "rYtLGcHVlmFN",
    "outputId": "840cb58d-df2f-4c90-b742-98cdd1c3d7a8"
   },
   "outputs": [
    {
     "data": {
      "text/plain": [
       "(label        en        fr        id        tl\n",
       " a      0.075558  0.076183  0.160047  0.210537\n",
       " b      0.018601  0.013140  0.026276  0.021824, (26, 4))"
      ]
     },
     "execution_count": 79,
     "metadata": {},
     "output_type": "execute_result"
    }
   ],
   "source": [
    "df_tmp_pv = df_tmp.pivot_table( columns=df_tmp.label )\n",
    "df_tmp_pv.head(2), df_tmp_pv.shape"
   ]
  },
  {
   "cell_type": "code",
   "execution_count": 80,
   "metadata": {
    "colab": {
     "base_uri": "https://localhost:8080/",
     "height": 216
    },
    "colab_type": "code",
    "id": "vvMseM1-nu2i",
    "outputId": "5cad7854-1994-46ce-e9da-ea8fa3c16fbd"
   },
   "outputs": [
    {
     "data": {
      "text/html": [
       "<div>\n",
       "<style scoped>\n",
       "    .dataframe tbody tr th:only-of-type {\n",
       "        vertical-align: middle;\n",
       "    }\n",
       "\n",
       "    .dataframe tbody tr th {\n",
       "        vertical-align: top;\n",
       "    }\n",
       "\n",
       "    .dataframe thead th {\n",
       "        text-align: right;\n",
       "    }\n",
       "</style>\n",
       "<table border=\"1\" class=\"dataframe\">\n",
       "  <thead>\n",
       "    <tr style=\"text-align: right;\">\n",
       "      <th></th>\n",
       "      <th>a</th>\n",
       "      <th>b</th>\n",
       "      <th>c</th>\n",
       "      <th>d</th>\n",
       "      <th>e</th>\n",
       "      <th>f</th>\n",
       "      <th>g</th>\n",
       "      <th>h</th>\n",
       "      <th>i</th>\n",
       "      <th>j</th>\n",
       "      <th>...</th>\n",
       "      <th>q</th>\n",
       "      <th>r</th>\n",
       "      <th>s</th>\n",
       "      <th>t</th>\n",
       "      <th>u</th>\n",
       "      <th>v</th>\n",
       "      <th>w</th>\n",
       "      <th>x</th>\n",
       "      <th>y</th>\n",
       "      <th>z</th>\n",
       "    </tr>\n",
       "    <tr>\n",
       "      <th>label</th>\n",
       "      <th></th>\n",
       "      <th></th>\n",
       "      <th></th>\n",
       "      <th></th>\n",
       "      <th></th>\n",
       "      <th></th>\n",
       "      <th></th>\n",
       "      <th></th>\n",
       "      <th></th>\n",
       "      <th></th>\n",
       "      <th></th>\n",
       "      <th></th>\n",
       "      <th></th>\n",
       "      <th></th>\n",
       "      <th></th>\n",
       "      <th></th>\n",
       "      <th></th>\n",
       "      <th></th>\n",
       "      <th></th>\n",
       "      <th></th>\n",
       "      <th></th>\n",
       "    </tr>\n",
       "  </thead>\n",
       "  <tbody>\n",
       "    <tr>\n",
       "      <td>en</td>\n",
       "      <td>0.075558</td>\n",
       "      <td>0.018601</td>\n",
       "      <td>0.036565</td>\n",
       "      <td>0.039376</td>\n",
       "      <td>0.124937</td>\n",
       "      <td>0.016977</td>\n",
       "      <td>0.023900</td>\n",
       "      <td>0.042127</td>\n",
       "      <td>0.074847</td>\n",
       "      <td>0.002329</td>\n",
       "      <td>...</td>\n",
       "      <td>0.001592</td>\n",
       "      <td>0.070693</td>\n",
       "      <td>0.070782</td>\n",
       "      <td>0.085701</td>\n",
       "      <td>0.026975</td>\n",
       "      <td>0.011627</td>\n",
       "      <td>0.016694</td>\n",
       "      <td>0.002466</td>\n",
       "      <td>0.016232</td>\n",
       "      <td>0.000788</td>\n",
       "    </tr>\n",
       "    <tr>\n",
       "      <td>fr</td>\n",
       "      <td>0.076183</td>\n",
       "      <td>0.013140</td>\n",
       "      <td>0.036707</td>\n",
       "      <td>0.049217</td>\n",
       "      <td>0.150272</td>\n",
       "      <td>0.012729</td>\n",
       "      <td>0.013278</td>\n",
       "      <td>0.014709</td>\n",
       "      <td>0.077658</td>\n",
       "      <td>0.003138</td>\n",
       "      <td>...</td>\n",
       "      <td>0.005976</td>\n",
       "      <td>0.077309</td>\n",
       "      <td>0.074177</td>\n",
       "      <td>0.067647</td>\n",
       "      <td>0.049076</td>\n",
       "      <td>0.013363</td>\n",
       "      <td>0.001796</td>\n",
       "      <td>0.004234</td>\n",
       "      <td>0.004813</td>\n",
       "      <td>0.000915</td>\n",
       "    </tr>\n",
       "    <tr>\n",
       "      <td>id</td>\n",
       "      <td>0.160047</td>\n",
       "      <td>0.026276</td>\n",
       "      <td>0.008391</td>\n",
       "      <td>0.038213</td>\n",
       "      <td>0.085395</td>\n",
       "      <td>0.008259</td>\n",
       "      <td>0.044496</td>\n",
       "      <td>0.017399</td>\n",
       "      <td>0.095626</td>\n",
       "      <td>0.006473</td>\n",
       "      <td>...</td>\n",
       "      <td>0.000036</td>\n",
       "      <td>0.056469</td>\n",
       "      <td>0.061414</td>\n",
       "      <td>0.049494</td>\n",
       "      <td>0.044268</td>\n",
       "      <td>0.003768</td>\n",
       "      <td>0.004730</td>\n",
       "      <td>0.000725</td>\n",
       "      <td>0.012463</td>\n",
       "      <td>0.000807</td>\n",
       "    </tr>\n",
       "    <tr>\n",
       "      <td>tl</td>\n",
       "      <td>0.210537</td>\n",
       "      <td>0.021824</td>\n",
       "      <td>0.010842</td>\n",
       "      <td>0.019756</td>\n",
       "      <td>0.041240</td>\n",
       "      <td>0.003260</td>\n",
       "      <td>0.075524</td>\n",
       "      <td>0.014543</td>\n",
       "      <td>0.078540</td>\n",
       "      <td>0.001603</td>\n",
       "      <td>...</td>\n",
       "      <td>0.000680</td>\n",
       "      <td>0.030609</td>\n",
       "      <td>0.054899</td>\n",
       "      <td>0.051996</td>\n",
       "      <td>0.030127</td>\n",
       "      <td>0.002815</td>\n",
       "      <td>0.009956</td>\n",
       "      <td>0.000430</td>\n",
       "      <td>0.025048</td>\n",
       "      <td>0.001396</td>\n",
       "    </tr>\n",
       "  </tbody>\n",
       "</table>\n",
       "<p>4 rows × 26 columns</p>\n",
       "</div>"
      ],
      "text/plain": [
       "              a         b         c         d         e         f         g  \\\n",
       "label                                                                         \n",
       "en     0.075558  0.018601  0.036565  0.039376  0.124937  0.016977  0.023900   \n",
       "fr     0.076183  0.013140  0.036707  0.049217  0.150272  0.012729  0.013278   \n",
       "id     0.160047  0.026276  0.008391  0.038213  0.085395  0.008259  0.044496   \n",
       "tl     0.210537  0.021824  0.010842  0.019756  0.041240  0.003260  0.075524   \n",
       "\n",
       "              h         i         j  ...         q         r         s  \\\n",
       "label                                ...                                 \n",
       "en     0.042127  0.074847  0.002329  ...  0.001592  0.070693  0.070782   \n",
       "fr     0.014709  0.077658  0.003138  ...  0.005976  0.077309  0.074177   \n",
       "id     0.017399  0.095626  0.006473  ...  0.000036  0.056469  0.061414   \n",
       "tl     0.014543  0.078540  0.001603  ...  0.000680  0.030609  0.054899   \n",
       "\n",
       "              t         u         v         w         x         y         z  \n",
       "label                                                                        \n",
       "en     0.085701  0.026975  0.011627  0.016694  0.002466  0.016232  0.000788  \n",
       "fr     0.067647  0.049076  0.013363  0.001796  0.004234  0.004813  0.000915  \n",
       "id     0.049494  0.044268  0.003768  0.004730  0.000725  0.012463  0.000807  \n",
       "tl     0.051996  0.030127  0.002815  0.009956  0.000430  0.025048  0.001396  \n",
       "\n",
       "[4 rows x 26 columns]"
      ]
     },
     "execution_count": 80,
     "metadata": {},
     "output_type": "execute_result"
    }
   ],
   "source": [
    "df_tmp_pv.T"
   ]
  },
  {
   "cell_type": "code",
   "execution_count": 81,
   "metadata": {
    "colab": {
     "base_uri": "https://localhost:8080/",
     "height": 34
    },
    "colab_type": "code",
    "id": "oOMou-6VoWxL",
    "outputId": "67e6e290-8b84-487a-9b57-c08fff0086a4"
   },
   "outputs": [
    {
     "data": {
      "text/plain": [
       "(26, 4)"
      ]
     },
     "execution_count": 81,
     "metadata": {},
     "output_type": "execute_result"
    }
   ],
   "source": [
    "# a~z가  index, 국가가 컬럼\n",
    "df_tmp_pv.shape"
   ]
  },
  {
   "cell_type": "code",
   "execution_count": 82,
   "metadata": {
    "colab": {
     "base_uri": "https://localhost:8080/",
     "height": 519
    },
    "colab_type": "code",
    "id": "Gq5vdOm-olti",
    "outputId": "fe5be735-b7b3-4c4a-a78c-36c2e0b1007d"
   },
   "outputs": [
    {
     "data": {
      "image/png": "[encoded data removed]",
      "text/plain": [
       "<Figure size 1152x576 with 4 Axes>"
      ]
     },
     "metadata": {},
     "output_type": "display_data"
    }
   ],
   "source": [
    "# 바차트\n",
    "# ggplot 스타일\n",
    "plt.style.use('ggplot')\n",
    "# 플로팅, y축의 값을 특정 구간으로 제한하겠다\n",
    "df_tmp_pv.plot( kind='bar', subplots=True, \n",
    "                figsize=(16,8), ylim=(0, 0.25) )\n",
    "# 저장\n",
    "plt.savefig('na_per_freqs.png')\n",
    "# 보이기\n",
    "#plt.show()"
   ]
  },
  {
   "cell_type": "code",
   "execution_count": 83,
   "metadata": {
    "colab": {},
    "colab_type": "code",
    "id": "P3qPB0YEqlhC"
   },
   "outputs": [],
   "source": [
    "# 단어별로 (a~ z)로 한개의 차트에 국가별로 빈도를 그린다\n",
    "# 이 차트는 저장한다 => a_freqs.png, b_freqs.png, .. z_freqs.png\n",
    "# 한개의 차트에 여러값을 표현하여 비중의 차이점을 그린다 \n",
    "# 데이터는 df_tmp를 이용하여, a만 모아서 국가별로 그리고, b만모아서그리고,..\n",
    "# 한차트에 겹쳐그려서 데이터의 위치(분포)가 구분되는지, 겹치는지 확인=>히스토그램\n",
    "# 추가설명\n",
    "# 차트는 총 26개\n",
    "# ex) a빈도를 그린다면, 한 차트에 특정국가별로 a만 그린다(국가별로색구분됨)\n",
    "#     색의 겹침을 보기 위해서 투명값을 부여 alpha=0.4"
   ]
  },
  {
   "cell_type": "code",
   "execution_count": 84,
   "metadata": {
    "colab": {
     "base_uri": "https://localhost:8080/",
     "height": 34
    },
    "colab_type": "code",
    "id": "omrQeA1xyK_I",
    "outputId": "c3d92e47-c161-4582-9e82-99e0f67a7e1f"
   },
   "outputs": [
    {
     "data": {
      "text/plain": [
       "array(['en', 'fr', 'id', 'tl'], dtype=object)"
      ]
     },
     "execution_count": 84,
     "metadata": {},
     "output_type": "execute_result"
    }
   ],
   "source": [
    "df_tmp['label'].unique()"
   ]
  },
  {
   "cell_type": "code",
   "execution_count": 85,
   "metadata": {
    "colab": {
     "base_uri": "https://localhost:8080/",
     "height": 216
    },
    "colab_type": "code",
    "id": "Z_Tbv99ZypEA",
    "outputId": "8c8dfd37-6062-40fe-edb4-fddfe9fb8ddd"
   },
   "outputs": [
    {
     "data": {
      "text/html": [
       "<div>\n",
       "<style scoped>\n",
       "    .dataframe tbody tr th:only-of-type {\n",
       "        vertical-align: middle;\n",
       "    }\n",
       "\n",
       "    .dataframe tbody tr th {\n",
       "        vertical-align: top;\n",
       "    }\n",
       "\n",
       "    .dataframe thead th {\n",
       "        text-align: right;\n",
       "    }\n",
       "</style>\n",
       "<table border=\"1\" class=\"dataframe\">\n",
       "  <thead>\n",
       "    <tr style=\"text-align: right;\">\n",
       "      <th></th>\n",
       "      <th>a</th>\n",
       "      <th>b</th>\n",
       "      <th>c</th>\n",
       "      <th>d</th>\n",
       "      <th>e</th>\n",
       "      <th>f</th>\n",
       "      <th>g</th>\n",
       "      <th>h</th>\n",
       "      <th>i</th>\n",
       "      <th>j</th>\n",
       "      <th>...</th>\n",
       "      <th>r</th>\n",
       "      <th>s</th>\n",
       "      <th>t</th>\n",
       "      <th>u</th>\n",
       "      <th>v</th>\n",
       "      <th>w</th>\n",
       "      <th>x</th>\n",
       "      <th>y</th>\n",
       "      <th>z</th>\n",
       "      <th>label</th>\n",
       "    </tr>\n",
       "  </thead>\n",
       "  <tbody>\n",
       "    <tr>\n",
       "      <td>0</td>\n",
       "      <td>0.075952</td>\n",
       "      <td>0.012840</td>\n",
       "      <td>0.045702</td>\n",
       "      <td>0.046137</td>\n",
       "      <td>0.105332</td>\n",
       "      <td>0.015669</td>\n",
       "      <td>0.019151</td>\n",
       "      <td>0.043743</td>\n",
       "      <td>0.073993</td>\n",
       "      <td>0.001741</td>\n",
       "      <td>...</td>\n",
       "      <td>0.077693</td>\n",
       "      <td>0.061371</td>\n",
       "      <td>0.080522</td>\n",
       "      <td>0.025898</td>\n",
       "      <td>0.009793</td>\n",
       "      <td>0.014146</td>\n",
       "      <td>0.000653</td>\n",
       "      <td>0.020022</td>\n",
       "      <td>0.000435</td>\n",
       "      <td>en</td>\n",
       "    </tr>\n",
       "    <tr>\n",
       "      <td>1</td>\n",
       "      <td>0.084178</td>\n",
       "      <td>0.019912</td>\n",
       "      <td>0.030404</td>\n",
       "      <td>0.038870</td>\n",
       "      <td>0.136998</td>\n",
       "      <td>0.017408</td>\n",
       "      <td>0.031239</td>\n",
       "      <td>0.027423</td>\n",
       "      <td>0.075355</td>\n",
       "      <td>0.002623</td>\n",
       "      <td>...</td>\n",
       "      <td>0.090140</td>\n",
       "      <td>0.071659</td>\n",
       "      <td>0.077739</td>\n",
       "      <td>0.030643</td>\n",
       "      <td>0.013712</td>\n",
       "      <td>0.013950</td>\n",
       "      <td>0.002027</td>\n",
       "      <td>0.010731</td>\n",
       "      <td>0.000596</td>\n",
       "      <td>en</td>\n",
       "    </tr>\n",
       "    <tr>\n",
       "      <td>2</td>\n",
       "      <td>0.071646</td>\n",
       "      <td>0.012172</td>\n",
       "      <td>0.045643</td>\n",
       "      <td>0.032642</td>\n",
       "      <td>0.120055</td>\n",
       "      <td>0.014661</td>\n",
       "      <td>0.025173</td>\n",
       "      <td>0.023513</td>\n",
       "      <td>0.094606</td>\n",
       "      <td>0.002490</td>\n",
       "      <td>...</td>\n",
       "      <td>0.053942</td>\n",
       "      <td>0.087967</td>\n",
       "      <td>0.081051</td>\n",
       "      <td>0.029046</td>\n",
       "      <td>0.018811</td>\n",
       "      <td>0.011895</td>\n",
       "      <td>0.000553</td>\n",
       "      <td>0.017981</td>\n",
       "      <td>0.000553</td>\n",
       "      <td>en</td>\n",
       "    </tr>\n",
       "    <tr>\n",
       "      <td>3</td>\n",
       "      <td>0.072210</td>\n",
       "      <td>0.027715</td>\n",
       "      <td>0.029977</td>\n",
       "      <td>0.039593</td>\n",
       "      <td>0.121041</td>\n",
       "      <td>0.016780</td>\n",
       "      <td>0.023567</td>\n",
       "      <td>0.059012</td>\n",
       "      <td>0.065234</td>\n",
       "      <td>0.001508</td>\n",
       "      <td>...</td>\n",
       "      <td>0.059201</td>\n",
       "      <td>0.073341</td>\n",
       "      <td>0.093703</td>\n",
       "      <td>0.024321</td>\n",
       "      <td>0.005090</td>\n",
       "      <td>0.019608</td>\n",
       "      <td>0.006033</td>\n",
       "      <td>0.017534</td>\n",
       "      <td>0.001697</td>\n",
       "      <td>en</td>\n",
       "    </tr>\n",
       "    <tr>\n",
       "      <td>4</td>\n",
       "      <td>0.073806</td>\n",
       "      <td>0.020368</td>\n",
       "      <td>0.031099</td>\n",
       "      <td>0.039641</td>\n",
       "      <td>0.141261</td>\n",
       "      <td>0.020368</td>\n",
       "      <td>0.020368</td>\n",
       "      <td>0.056943</td>\n",
       "      <td>0.065046</td>\n",
       "      <td>0.003285</td>\n",
       "      <td>...</td>\n",
       "      <td>0.072492</td>\n",
       "      <td>0.059571</td>\n",
       "      <td>0.095488</td>\n",
       "      <td>0.024967</td>\n",
       "      <td>0.010731</td>\n",
       "      <td>0.023872</td>\n",
       "      <td>0.003066</td>\n",
       "      <td>0.014893</td>\n",
       "      <td>0.000657</td>\n",
       "      <td>en</td>\n",
       "    </tr>\n",
       "  </tbody>\n",
       "</table>\n",
       "<p>5 rows × 27 columns</p>\n",
       "</div>"
      ],
      "text/plain": [
       "          a         b         c         d         e         f         g  \\\n",
       "0  0.075952  0.012840  0.045702  0.046137  0.105332  0.015669  0.019151   \n",
       "1  0.084178  0.019912  0.030404  0.038870  0.136998  0.017408  0.031239   \n",
       "2  0.071646  0.012172  0.045643  0.032642  0.120055  0.014661  0.025173   \n",
       "3  0.072210  0.027715  0.029977  0.039593  0.121041  0.016780  0.023567   \n",
       "4  0.073806  0.020368  0.031099  0.039641  0.141261  0.020368  0.020368   \n",
       "\n",
       "          h         i         j  ...         r         s         t         u  \\\n",
       "0  0.043743  0.073993  0.001741  ...  0.077693  0.061371  0.080522  0.025898   \n",
       "1  0.027423  0.075355  0.002623  ...  0.090140  0.071659  0.077739  0.030643   \n",
       "2  0.023513  0.094606  0.002490  ...  0.053942  0.087967  0.081051  0.029046   \n",
       "3  0.059012  0.065234  0.001508  ...  0.059201  0.073341  0.093703  0.024321   \n",
       "4  0.056943  0.065046  0.003285  ...  0.072492  0.059571  0.095488  0.024967   \n",
       "\n",
       "          v         w         x         y         z  label  \n",
       "0  0.009793  0.014146  0.000653  0.020022  0.000435     en  \n",
       "1  0.013712  0.013950  0.002027  0.010731  0.000596     en  \n",
       "2  0.018811  0.011895  0.000553  0.017981  0.000553     en  \n",
       "3  0.005090  0.019608  0.006033  0.017534  0.001697     en  \n",
       "4  0.010731  0.023872  0.003066  0.014893  0.000657     en  \n",
       "\n",
       "[5 rows x 27 columns]"
      ]
     },
     "execution_count": 85,
     "metadata": {},
     "output_type": "execute_result"
    }
   ],
   "source": [
    "# df_tmp에서 label이 en인 데이터만 모아라\n",
    "# 블리언 인덷싱\n",
    "df_tmp[ df_tmp['label'] == 'en' ]"
   ]
  },
  {
   "cell_type": "code",
   "execution_count": 86,
   "metadata": {
    "colab": {
     "base_uri": "https://localhost:8080/",
     "height": 121
    },
    "colab_type": "code",
    "id": "34ZgcfSuz49Q",
    "outputId": "43b45544-c6c3-461b-a8ca-13d21660f99e"
   },
   "outputs": [
    {
     "data": {
      "text/plain": [
       "0    0.075952\n",
       "1    0.084178\n",
       "2    0.071646\n",
       "3    0.072210\n",
       "4    0.073806\n",
       "Name: a, dtype: float64"
      ]
     },
     "execution_count": 86,
     "metadata": {},
     "output_type": "execute_result"
    }
   ],
   "source": [
    "df_tmp[ df_tmp['label'] == 'en' ]['a']"
   ]
  },
  {
   "cell_type": "code",
   "execution_count": 89,
   "metadata": {
    "colab": {
     "base_uri": "https://localhost:8080/",
     "height": 1000
    },
    "colab_type": "code",
    "id": "wK0T0WdoxwBh",
    "outputId": "e80dc36a-c063-4f45-dca1-44bf3e9ba194"
   },
   "outputs": [
    {
     "data": {
      "image/png": "[encoded data removed]",
      "text/plain": [
       "<Figure size 432x288 with 1 Axes>"
      ]
     },
     "metadata": {},
     "output_type": "display_data"
    },
    {
     "data": {
      "image/png": "[encoded data removed]",
      "text/plain": [
       "<Figure size 432x288 with 1 Axes>"
      ]
     },
     "metadata": {},
     "output_type": "display_data"
    },
    {
     "data": {
      "image/png": "[encoded data removed]",
      "text/plain": [
       "<Figure size 432x288 with 1 Axes>"
      ]
     },
     "metadata": {},
     "output_type": "display_data"
    },
    {
     "data": {
      "image/png": "[encoded data removed]",
      "text/plain": [
       "<Figure size 432x288 with 1 Axes>"
      ]
     },
     "metadata": {},
     "output_type": "display_data"
    },
    {
     "data": {
      "image/png": "[encoded data removed]",
      "text/plain": [
       "<Figure size 432x288 with 1 Axes>"
      ]
     },
     "metadata": {},
     "output_type": "display_data"
    },
    {
     "data": {
      "image/png": "[encoded data removed]",
      "text/plain": [
       "<Figure size 432x288 with 1 Axes>"
      ]
     },
     "metadata": {},
     "output_type": "display_data"
    },
    {
     "data": {
      "image/png": "[encoded data removed]",
      "text/plain": [
       "<Figure size 432x288 with 1 Axes>"
      ]
     },
     "metadata": {},
     "output_type": "display_data"
    },
    {
     "data": {
      "image/png": "[encoded data removed]",
      "text/plain": [
       "<Figure size 432x288 with 1 Axes>"
      ]
     },
     "metadata": {},
     "output_type": "display_data"
    },
    {
     "data": {
      "image/png": "[encoded data removed]",
      "text/plain": [
       "<Figure size 432x288 with 1 Axes>"
      ]
     },
     "metadata": {},
     "output_type": "display_data"
    },
    {
     "data": {
      "image/png": "[encoded data removed]",
      "text/plain": [
       "<Figure size 432x288 with 1 Axes>"
      ]
     },
     "metadata": {},
     "output_type": "display_data"
    },
    {
     "data": {
      "image/png": "[encoded data removed]",
      "text/plain": [
       "<Figure size 432x288 with 1 Axes>"
      ]
     },
     "metadata": {},
     "output_type": "display_data"
    },
    {
     "data": {
      "image/png": "[encoded data removed]",
      "text/plain": [
       "<Figure size 432x288 with 1 Axes>"
      ]
     },
     "metadata": {},
     "output_type": "display_data"
    },
    {
     "data": {
      "image/png": "[encoded data removed]",
      "text/plain": [
       "<Figure size 432x288 with 1 Axes>"
      ]
     },
     "metadata": {},
     "output_type": "display_data"
    },
    {
     "data": {
      "image/png": "[encoded data removed]",
      "text/plain": [
       "<Figure size 432x288 with 1 Axes>"
      ]
     },
     "metadata": {},
     "output_type": "display_data"
    },
    {
     "data": {
      "image/png": "[encoded data removed]",
      "text/plain": [
       "<Figure size 432x288 with 1 Axes>"
      ]
     },
     "metadata": {},
     "output_type": "display_data"
    },
    {
     "data": {
      "image/png": "[encoded data removed]",
      "text/plain": [
       "<Figure size 432x288 with 1 Axes>"
      ]
     },
     "metadata": {},
     "output_type": "display_data"
    },
    {
     "data": {
      "image/png": "[encoded data removed]",
      "text/plain": [
       "<Figure size 432x288 with 1 Axes>"
      ]
     },
     "metadata": {},
     "output_type": "display_data"
    },
    {
     "data": {
      "image/png": "[encoded data removed]",
      "text/plain": [
       "<Figure size 432x288 with 1 Axes>"
      ]
     },
     "metadata": {},
     "output_type": "display_data"
    },
    {
     "data": {
      "image/png": "[encoded data removed]",
      "text/plain": [
       "<Figure size 432x288 with 1 Axes>"
      ]
     },
     "metadata": {},
     "output_type": "display_data"
    },
    {
     "data": {
      "image/png": "[encoded data removed]",
      "text/plain": [
       "<Figure size 432x288 with 1 Axes>"
      ]
     },
     "metadata": {},
     "output_type": "display_data"
    },
    {
     "data": {
      "image/png": "[encoded data removed]",
      "text/plain": [
       "<Figure size 432x288 with 1 Axes>"
      ]
     },
     "metadata": {},
     "output_type": "display_data"
    },
    {
     "data": {
      "image/png": "[encoded data removed]",
      "text/plain": [
       "<Figure size 432x288 with 1 Axes>"
      ]
     },
     "metadata": {},
     "output_type": "display_data"
    },
    {
     "data": {
      "image/png": "[encoded data removed]",
      "text/plain": [
       "<Figure size 432x288 with 1 Axes>"
      ]
     },
     "metadata": {},
     "output_type": "display_data"
    },
    {
     "data": {
      "image/png": "[encoded data removed]",
      "text/plain": [
       "<Figure size 432x288 with 1 Axes>"
      ]
     },
     "metadata": {},
     "output_type": "display_data"
    },
    {
     "data": {
      "image/png": "[encoded data removed]",
      "text/plain": [
       "<Figure size 432x288 with 1 Axes>"
      ]
     },
     "metadata": {},
     "output_type": "display_data"
    },
    {
     "data": {
      "image/png": "[encoded data removed]",
      "text/plain": [
       "<Figure size 432x288 with 1 Axes>"
      ]
     },
     "metadata": {},
     "output_type": "display_data"
    }
   ],
   "source": [
    "# a-z : 26\n",
    "for word in ascii_lowercase:\n",
    "  #print( word )\n",
    "  # en, fr, id, tl : 4 \n",
    "  for na in df_tmp['label'].unique():\n",
    "    # en이면서, a만\n",
    "    # en만 모아\n",
    "    tmp = df_tmp[ df_tmp['label'] == na ][word]\n",
    "    tmp.plot( kind='hist', alpha=0.4, label=na )\n",
    "    #print( word, na )\n",
    "  # 차트 1개에 대한 추가분\n",
    "  plt.legend()                   # 범례표기\n",
    "  plt.suptitle('%s freqs' % word)# 제목\n",
    "  plt.savefig('%s.png' % word) # 저장\n",
    "  plt.show()\n",
    "  #break"
   ]
  },
  {
   "cell_type": "code",
   "execution_count": 90,
   "metadata": {
    "colab": {
     "base_uri": "https://localhost:8080/",
     "height": 416
    },
    "colab_type": "code",
    "id": "yyvh6BkW2vZQ",
    "outputId": "44c451c2-ffc1-4666-d999-053c4a14fd8f"
   },
   "outputs": [
    {
     "data": {
      "text/plain": [
       "<matplotlib.axes._subplots.AxesSubplot at 0x2a5df69a388>"
      ]
     },
     "execution_count": 90,
     "metadata": {},
     "output_type": "execute_result"
    },
    {
     "data": {
      "image/png": "[encoded data removed]",
      "text/plain": [
       "<Figure size 1152x432 with 1 Axes>"
      ]
     },
     "metadata": {},
     "output_type": "display_data"
    }
   ],
   "source": [
    "# 선형차트로 최종 다시 확인\n",
    "df_tmp_pv.plot( kind='line', figsize=(16,6), ylim=(0,0.25) )"
   ]
  },
  {
   "cell_type": "markdown",
   "metadata": {
    "colab_type": "text",
    "id": "ZyMw6KO4L-jg"
   },
   "source": [
    "# 데이터 모델링 구축\n",
    "\n",
    "\n",
    "- 알고리즘 선택 (선택 시트를 통해서 결정하나, 여기서는 지정)\n",
    "    - 지도학습 > 분류\n",
    "    - SVM > SVC\n",
    "- 학습\n",
    "    - 데이터 (훈련용, 테스트용)\n",
    "    - 통계적 모델링 : 훈련용, 테스트용\n",
    "    - 머신러닝 모델링 : (훈련용, 검증용), 테스트용\n",
    "    - train 데이터를 사용\n",
    "- 예측\n",
    "    - test 데이터를 사용\n",
    "- 성능평가 및 최적화(생략)\n",
    "    - 분류 > 평가지표 > 정확도 정도 체크 \n",
    "- 모델덤프\n",
    "    - 시스템 통합단계에서 신규서비스에 제공하는 알고리즘 파일(학습된모델이 적제된) 제공"
   ]
  },
  {
   "cell_type": "markdown",
   "metadata": {},
   "source": [
    "## 5-1.알고리즘 생성"
   ]
  },
  {
   "cell_type": "code",
   "execution_count": 93,
   "metadata": {},
   "outputs": [],
   "source": [
    "from sklearn import svm, metrics"
   ]
  },
  {
   "cell_type": "code",
   "execution_count": 94,
   "metadata": {},
   "outputs": [
    {
     "data": {
      "text/plain": [
       "SVC(C=1.0, cache_size=200, class_weight=None, coef0=0.0,\n",
       "    decision_function_shape='ovr', degree=3, gamma='auto', kernel='rbf',\n",
       "    max_iter=-1, probability=False, random_state=None, shrinking=True,\n",
       "    tol=0.001, verbose=False)"
      ]
     },
     "execution_count": 94,
     "metadata": {},
     "output_type": "execute_result"
    }
   ],
   "source": [
    "clf = svm.SVC( gamma='auto' )\n",
    "clf"
   ]
  },
  {
   "cell_type": "markdown",
   "metadata": {},
   "source": [
    "## 5-2. 훈련 데이터, 테스트 데이터 구성\n",
    "\n",
    "- 이미 위에서 구성이 완료"
   ]
  },
  {
   "cell_type": "code",
   "execution_count": 96,
   "metadata": {},
   "outputs": [
    {
     "data": {
      "text/plain": [
       "2"
      ]
     },
     "execution_count": 96,
     "metadata": {},
     "output_type": "execute_result"
    }
   ],
   "source": [
    "with open('labels_freqs_data.json', 'r') as f:\n",
    "  freq = json.load( f )\n",
    "len(freq)"
   ]
  },
  {
   "cell_type": "code",
   "execution_count": 99,
   "metadata": {},
   "outputs": [
    {
     "data": {
      "text/plain": [
       "(20, 20)"
      ]
     },
     "execution_count": 99,
     "metadata": {},
     "output_type": "execute_result"
    }
   ],
   "source": [
    "# 훈련용 데이터\n",
    "len(freq[0]['labels']), len(freq[0]['freqs'])"
   ]
  },
  {
   "cell_type": "code",
   "execution_count": 100,
   "metadata": {},
   "outputs": [
    {
     "data": {
      "text/plain": [
       "(8, 8)"
      ]
     },
     "execution_count": 100,
     "metadata": {},
     "output_type": "execute_result"
    }
   ],
   "source": [
    "# 테스트용 데이터\n",
    "len(freq[1]['labels']), len(freq[1]['freqs'])"
   ]
  },
  {
   "cell_type": "markdown",
   "metadata": {},
   "source": [
    "## 5-3. 학습(훈련)"
   ]
  },
  {
   "cell_type": "code",
   "execution_count": 101,
   "metadata": {},
   "outputs": [
    {
     "data": {
      "text/plain": [
       "SVC(C=1.0, cache_size=200, class_weight=None, coef0=0.0,\n",
       "    decision_function_shape='ovr', degree=3, gamma='auto', kernel='rbf',\n",
       "    max_iter=-1, probability=False, random_state=None, shrinking=True,\n",
       "    tol=0.001, verbose=False)"
      ]
     },
     "execution_count": 101,
     "metadata": {},
     "output_type": "execute_result"
    }
   ],
   "source": [
    "clf.fit( freq[0]['freqs'], freq[0]['labels'] )"
   ]
  },
  {
   "cell_type": "markdown",
   "metadata": {},
   "source": [
    "## 5-4. 예측\n",
    "\n",
    "- 한번도 접하지 못한 데이터를 이용하여 예측 수행"
   ]
  },
  {
   "cell_type": "code",
   "execution_count": 102,
   "metadata": {},
   "outputs": [],
   "source": [
    "# 예측에 사용된 데이터는 학습에 사용된 데이터와 \n",
    "# 동일 형태를 취해야 한다\n",
    "predict = clf.predict( freq[1]['freqs'] )"
   ]
  },
  {
   "cell_type": "code",
   "execution_count": 103,
   "metadata": {},
   "outputs": [
    {
     "data": {
      "text/plain": [
       "array(['en', 'en', 'fr', 'fr', 'en', 'id', 'tl', 'tl'], dtype='<U2')"
      ]
     },
     "execution_count": 103,
     "metadata": {},
     "output_type": "execute_result"
    }
   ],
   "source": [
    "predict"
   ]
  },
  {
   "cell_type": "markdown",
   "metadata": {},
   "source": [
    "## 5-5. 성능평가\n",
    "\n",
    "- 정확도만 확인\n",
    "- 목표한 수치에 도착할때까지 이전과정을 반복한다\n",
    "    - 데이터가 작으면, 더 많이 확보\n",
    "    - 데이터 준비 과정에서 문제가 있다면 보완\n",
    "    - 알고리즘이 적절하지 않다면 교차 검증후 확인\n",
    "    - 하이퍼파라미터 튜닝을 통해서 검증\n",
    "    - 목표한 수치에 도착할때까지 반복(에자일 방식)"
   ]
  },
  {
   "cell_type": "code",
   "execution_count": 106,
   "metadata": {},
   "outputs": [
    {
     "data": {
      "text/plain": [
       "0.875"
      ]
     },
     "execution_count": 106,
     "metadata": {},
     "output_type": "execute_result"
    }
   ],
   "source": [
    "metrics.accuracy_score( freq[1]['labels'],predict )"
   ]
  },
  {
   "cell_type": "code",
   "execution_count": 105,
   "metadata": {},
   "outputs": [
    {
     "name": "stdout",
     "output_type": "stream",
     "text": [
      "              precision    recall  f1-score   support\n",
      "\n",
      "          en       0.67      1.00      0.80         2\n",
      "          fr       1.00      1.00      1.00         2\n",
      "          id       1.00      0.50      0.67         2\n",
      "          tl       1.00      1.00      1.00         2\n",
      "\n",
      "    accuracy                           0.88         8\n",
      "   macro avg       0.92      0.88      0.87         8\n",
      "weighted avg       0.92      0.88      0.87         8\n",
      "\n"
     ]
    }
   ],
   "source": [
    "print( metrics.classification_report( freq[1]['labels'],\n",
    "                              predict ) )"
   ]
  },
  {
   "cell_type": "markdown",
   "metadata": {},
   "source": [
    "## 5-6. 모델덤프\n",
    "\n",
    "- 6단계 시스템 통합에서 사용할수 있게 제공\n",
    "- 모델을 향후 어떻게 갱신할 것인가? 이 주제는 생략\n",
    "    - 서비스가 진행 => 데이터가 쌓인다 -> 다시 학습이 가능 -> 모델을 업그레이드 가능 -> 실시간갱신, 주기적 갱신 등등 -> 학습 방식에 대한 고찰(배치학습, 온라인 학습등등..)"
   ]
  },
  {
   "cell_type": "code",
   "execution_count": 107,
   "metadata": {},
   "outputs": [],
   "source": [
    "from sklearn.externals import joblib"
   ]
  },
  {
   "cell_type": "code",
   "execution_count": 108,
   "metadata": {},
   "outputs": [
    {
     "data": {
      "text/plain": [
       "['./clf_modle_202003101113.model']"
      ]
     },
     "execution_count": 108,
     "metadata": {},
     "output_type": "execute_result"
    }
   ],
   "source": [
    "# 확장자는 자유롭게, 이름도 자유롭게, 시간정보는 입력\n",
    "# 저장된 위치는 자유롭게 결정(코렙은 구글 드라이브쪽)\n",
    "# /content/drive/My Drive/4차선도1차\n",
    "'''\n",
    "save_path = '/content/drive/My Drive/clf_modle_202003101113.model'\n",
    "joblib.dump( clf, save_path)\n",
    "'''\n",
    "joblib.dump( clf, './clf_modle_202003101113.model')"
   ]
  },
  {
   "cell_type": "code",
   "execution_count": 109,
   "metadata": {},
   "outputs": [
    {
     "data": {
      "text/plain": [
       "{'en': '영어', 'fr': '프랑스어', 'tl': '타갈리아어', 'id': '인도네시아어'}"
      ]
     },
     "execution_count": 109,
     "metadata": {},
     "output_type": "execute_result"
    }
   ],
   "source": [
    "# 정답 저장 (레이블 저장)\n",
    "label_dic = {\n",
    "    'en':'영어',\n",
    "    'fr':'프랑스어',\n",
    "    'tl':'타갈리아어',\n",
    "    'id':'인도네시아어'\n",
    "}\n",
    "label_dic"
   ]
  },
  {
   "cell_type": "code",
   "execution_count": 110,
   "metadata": {},
   "outputs": [],
   "source": [
    "# json으로 저장\n",
    "# 저장 경로는 구글 드라이브 등 적절한곳으로 배치\n",
    "with open('clf_labels.json', 'w', \n",
    "          encoding='utf-8' ) as f:\n",
    "    json.dump( label_dic, f )"
   ]
  },
  {
   "cell_type": "markdown",
   "metadata": {
    "colab_type": "text",
    "id": "BTgxe7EWMCuR"
   },
   "source": [
    "# 시스템 통합"
   ]
  },
  {
   "cell_type": "code",
   "execution_count": 92,
   "metadata": {
    "colab": {
     "base_uri": "https://localhost:8080/",
     "height": 285
    },
    "colab_type": "code",
    "id": "x69hIilH-RXI",
    "outputId": "01580dd5-4904-49f8-927f-17782ca865fa"
   },
   "outputs": [],
   "source": [
    "#from IPython.display import Image\n",
    "#Image( '/content/6.시스템통합_최종산출물.png', width=500 )\n",
    "# 최종 산출물\n",
    "# 웹기반(간단한 flask로 정리)\n",
    "# 머신러닝(SVM.SVC)으로 언어감지, 딥러닝(RNN, 다대다 신경망구성 )으로는 언어번역"
   ]
  },
  {
   "cell_type": "markdown",
   "metadata": {
    "colab_type": "text",
    "id": "kjtDesqqAQIJ"
   },
   "source": [
    "## 구동원리\n",
    "\n",
    "- 1. 사용자가 번역에 필요한 글자를 입력한다\n",
    "  (알파벳만 사용, 영어권만 해당)  \n",
    "- 2. 언어감지라는 버튼을 클릭한다\n",
    "- 3. 언어를 읽어서 서버로 전송\n",
    "- 4. 서버에서 데이터를 알고리즘이 예측할수 있는 형태로 변환처리\n",
    "- 5. 예측\n",
    "- 6. 예측결과를 응답\n",
    "- 8. 응답 결과를 화면에 표시"
   ]
  },
  {
   "cell_type": "code",
   "execution_count": null,
   "metadata": {
    "colab": {},
    "colab_type": "code",
    "id": "cSmoIi9E-pLe"
   },
   "outputs": [],
   "source": []
  }
 ],
 "metadata": {
  "colab": {
   "collapsed_sections": [
    "ZyMw6KO4L-jg"
   ],
   "name": "1.머신러닝을이용한번역서비스의언어감지서비스구축(전과정).ipynb",
   "provenance": []
  },
  "kernelspec": {
   "display_name": "Python 3",
   "language": "python",
   "name": "python3"
  },
  "language_info": {
   "codemirror_mode": {
    "name": "ipython",
    "version": 3
   },
   "file_extension": ".py",
   "mimetype": "text/x-python",
   "name": "python",
   "nbconvert_exporter": "python",
   "pygments_lexer": "ipython3",
   "version": "3.7.4"
  }
 },
 "nbformat": 4,
 "nbformat_minor": 1
}
