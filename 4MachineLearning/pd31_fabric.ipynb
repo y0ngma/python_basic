{
 "cells": [
  {
   "cell_type": "code",
   "execution_count": 0,
   "metadata": {
    "colab": {},
    "colab_type": "code",
    "id": "Ora7bkHgz4Yc"
   },
   "outputs": [],
   "source": [
    "# !pip install opencv-python\n",
    "# !conda install -c conda-forge opencv\n",
    "\n",
    "## 가상화\n",
    "# conda create -n cv\n",
    "# conda activate cv\n",
    "# conda install -c conda-forge jupyterlab glob2 opencv pytest-shutil tensorflow=2.1.0\n",
    "# pip install tensorflow-addons\n",
    "# https://www.aitex.es/afid"
   ]
  },
  {
   "cell_type": "code",
   "execution_count": 1,
   "metadata": {
    "colab": {},
    "colab_type": "code",
    "id": "tm_ILVKs0KDW"
   },
   "outputs": [],
   "source": [
    "import cv2\n",
    "import os\n",
    "import glob\n",
    "import shutil\n",
    "import random\n",
    "import string\n",
    "import numpy as np"
   ]
  },
  {
   "cell_type": "code",
   "execution_count": 2,
   "metadata": {
    "colab": {},
    "colab_type": "code",
    "id": "dzlU52wb0KLT"
   },
   "outputs": [],
   "source": [
    "# PATH_DEFECT='C:/Repository/python_basic/4MachineLearning/Data/Fabric/Defect_images/'\n",
    "# PATH_MASK='C:/Repository/python_basic/4MachineLearning/Data/Fabric/Mask_images/'\n",
    "# PATH_NODEFECT= 'C:/Repository/python_basic/4MachineLearning/Data/Fabric/NODefect_images/'"
   ]
  },
  {
   "cell_type": "code",
   "execution_count": 3,
   "metadata": {
    "colab": {},
    "colab_type": "code",
    "id": "genfUXeC0bfL"
   },
   "outputs": [],
   "source": [
    "PATH_DEFECT='Data/fabric/Defect_images/'\n",
    "PATH_MASK='Data/fabric/Mask_images/'\n",
    "PATH_NODEFECT= 'Data/fabric/NODefect_images/'"
   ]
  },
  {
   "cell_type": "markdown",
   "metadata": {
    "colab_type": "text",
    "id": "aPrJ3B_G0KPL"
   },
   "source": [
    "## 데이터셑 불러오기"
   ]
  },
  {
   "cell_type": "code",
   "execution_count": 4,
   "metadata": {
    "colab": {},
    "colab_type": "code",
    "id": "jKuZuG230OGj"
   },
   "outputs": [],
   "source": [
    "random.seed(0)\n",
    "\n",
    "defect_list = glob.glob(PATH_DEFECT + '*.png') \n",
    "mask_list   = glob.glob(PATH_MASK + '*.png')\n",
    "pass_list   = glob.glob(PATH_NODEFECT + '**/*.png')"
   ]
  },
  {
   "cell_type": "code",
   "execution_count": 5,
   "metadata": {
    "colab": {
     "base_uri": "https://localhost:8080/",
     "height": 35
    },
    "colab_type": "code",
    "id": "UJUfBVsf0OIr",
    "outputId": "62d95d24-40dd-4407-bb21-c83850f3dc59"
   },
   "outputs": [
    {
     "data": {
      "text/plain": [
       "(0, 0, 0)"
      ]
     },
     "execution_count": 5,
     "metadata": {},
     "output_type": "execute_result"
    }
   ],
   "source": [
    "#106개, 107, 141\n",
    "len(defect_list), len(mask_list), len(pass_list)"
   ]
  },
  {
   "cell_type": "code",
   "execution_count": 6,
   "metadata": {
    "colab": {},
    "colab_type": "code",
    "id": "Pzrlc23c0QAT"
   },
   "outputs": [],
   "source": [
    "# Match defect-mask pairs\n",
    "new_defect_list = list()\n",
    "new_mask_list   = list()\n",
    "for defect in defect_list:\n",
    "    num = defect.split('/')[-1].split('_')[0]\n",
    "    for mask in mask_list:\n",
    "        num_mask = mask.split('/')[-1].split('_')[0]\n",
    "        if num == num_mask:\n",
    "            new_defect_list.append(defect)\n",
    "            new_mask_list.append(mask)\n",
    "            \n",
    "defect_list = new_defect_list\n",
    "mask_list   = new_mask_list"
   ]
  },
  {
   "cell_type": "markdown",
   "metadata": {
    "colab_type": "text",
    "id": "VPyWC8oj0QGT"
   },
   "source": [
    "## 첫번째 데이터셑 구성( 첫번째 발송데이터 )"
   ]
  },
  {
   "cell_type": "code",
   "execution_count": 8,
   "metadata": {
    "colab": {},
    "colab_type": "code",
    "id": "sJ1DSx9-7y_7"
   },
   "outputs": [],
   "source": [
    "if os.path.exists('Data/fabric/dataset/1') is False:\n",
    "    os.mkdir('Data/fabric/dataset/1')\n",
    "for file_name in pass_list + defect_list:\n",
    "    if random.randint(0, 9) < 2:\n",
    "        barcode = ''.join(random.choices(string.ascii_letters + string.digits, k=16))\n",
    "        # shutil.copy2(file_name, '/content/drive/My Drive/data/fabric/1' + barcode + '.png')\n",
    "        shutil.copy2(file_name, 'Data/fabric/dataset/1/' + barcode + '.png')"
   ]
  },
  {
   "cell_type": "markdown",
   "metadata": {
    "colab_type": "text",
    "id": "OMsP6BYn0QLb"
   },
   "source": [
    "## 두번째 데이터셋 구성"
   ]
  },
  {
   "cell_type": "code",
   "execution_count": 0,
   "metadata": {
    "colab": {},
    "colab_type": "code",
    "id": "0cKNouvoE0WM"
   },
   "outputs": [],
   "source": [
    "if os.path.exists('Data/fabric/dataset/2') is False:\n",
    "    os.mkdir('Data/fabric/dataset/2')\n",
    "if os.path.exists('Data/fabric/dataset/2/OK') is False:\n",
    "    os.mkdir('Data/fabric/dataset/2/OK')\n",
    "if os.path.exists('Data/fabric/dataset/2/FAIL') is False:\n",
    "    os.mkdir('Data/fabric/dataset/2/FAIL')\n",
    "\n",
    "idx = 0\n",
    "for file_name in pass_list:\n",
    "  img = cv2.imread(file_name)\n",
    "  height, width, _ = img.shape\n",
    "  step = height\n",
    "\n",
    "  for i in range(width//step):\n",
    "    w = i*step\n",
    "    if w < width-height and random.randint(0, 9) < 2:\n",
    "      patch = img[:, w:w+height, : ]\n",
    "      cv2.imwrite('data/dataset/2/OK/%04d.png' % idx, patch)\n",
    "      idx += 1\n",
    "patch_list = list()\n",
    "\n",
    "for item in zip(defect_list, mask_list):\n",
    "  defect, mask = item\n",
    "\n",
    "  img_d = cv2.imread(defect)\n",
    "  img_m = cv2.imread(mask)\n",
    "\n",
    "  height, width, _ = img_d.shape\n",
    "  step = height // 2\n",
    "  for i in range(width//step):\n",
    "    w=i*step\n",
    "    if w < width-height:\n",
    "      patch = img_d[:, w:w+height, :]\n",
    "      patch_d = img_m[:, w:w+height, :]\n",
    "      if patch_d.sum() > 0:\n",
    "        patch_list.append(patch)\n",
    "random.shuffle(patch_list)\n",
    "patch_list_fraction = patch_list[:len(patch_list)//3]\n",
    "for idx, patch in enumerate( patch_list_fraction ):\n",
    "  cv2.imwrite( 'data/dataset/2/FAIL/%04d.png' % idx, patch )"
   ]
  },
  {
   "cell_type": "markdown",
   "metadata": {
    "colab_type": "text",
    "id": "1OSn1pdB0QNs"
   },
   "source": [
    "## 세번째 데이터셋 구성\n",
    "\n"
   ]
  },
  {
   "cell_type": "code",
   "execution_count": 0,
   "metadata": {
    "colab": {},
    "colab_type": "code",
    "id": "EMgNiBi9HPak"
   },
   "outputs": [],
   "source": [
    "if os.path.exists('Data/fabric/dataset/3') is False:\n",
    "    os.mkdir('Data/fabric/dataset/3')\n",
    "if os.path.exists('Data/fabric/dataset/3/OK') is False:\n",
    "    os.mkdir('Data/fabric/dataset/3/OK')\n",
    "if os.path.exists('Data/fabric/dataset/3/FAIL') is False:\n",
    "    os.mkdir('Data/fabric/dataset/3/FAIL')\n",
    "if os.path.exists('Data/fabric/dataset/3/MASK') is False:\n",
    "    os.mkdir('Data/fabric/dataset/3/MASK')\n",
    "\n",
    "idx = 0\n",
    "for file_name in pass_list:\n",
    "  img = cv2.imread(file_name)\n",
    "  height, width, _ = img.shape\n",
    "  step = height //2\n",
    "\n",
    "  for i in range(width//step):\n",
    "    w = i*step\n",
    "    if w < width-height and random.randint(0, 9) < 3:\n",
    "      patch = img[:, w:w+height, : ]\n",
    "      cv2.imwrite('data/dataset/3/OK/%04d.png' % idx, patch)\n",
    "      idx += 1\n",
    "\n",
    "patch_pair_list = list()\n",
    "\n",
    "for item in zip(defect_list, mask_list):\n",
    "  defect, mask = item\n",
    "\n",
    "  img_d = cv2.imread(defect)\n",
    "  img_m = cv2.imread(mask)\n",
    "\n",
    "  height, width, _ = img_d.shape\n",
    "  step = height // 2\n",
    "  for i in range(width//step):\n",
    "    w=i*step\n",
    "    if w < width-height:\n",
    "      patch = img_d[:, w:w+height, :]\n",
    "      patch_d = img_m[:, w:w+height, :]\n",
    "      if patch_d.sum() > 0:\n",
    "        patch_pair_list.append((patch, patch_d))\n",
    "\n",
    "random.shuffle(patch_pair_list)\n",
    "for idx, pair in enumerate( patch_pair_list ):\n",
    "  patch, patch_d = pair\n",
    "  cv2.imwrite( 'data/dataset/3/FAIL/%04d.png' % idx, patch )\n",
    "  cv2.imwrite( 'data/dataset/3/MASK/%04d.png' % idx, patch_d )"
   ]
  },
  {
   "cell_type": "markdown",
   "metadata": {
    "colab_type": "text",
    "id": "j9SGTdUd0WJT"
   },
   "source": [
    "## 실전 데이터셋 구성\n"
   ]
  },
  {
   "cell_type": "code",
   "execution_count": 0,
   "metadata": {
    "colab": {},
    "colab_type": "code",
    "id": "cJA-JjXxHP0b"
   },
   "outputs": [],
   "source": []
  }
 ],
 "metadata": {
  "colab": {
   "name": "pd31_fabric.ipynb",
   "provenance": []
  },
  "kernelspec": {
   "display_name": "Python 3",
   "language": "python",
   "name": "python3"
  },
  "language_info": {
   "codemirror_mode": {
    "name": "ipython",
    "version": 3
   },
   "file_extension": ".py",
   "mimetype": "text/x-python",
   "name": "python",
   "nbconvert_exporter": "python",
   "pygments_lexer": "ipython3",
   "version": "3.7.4"
  }
 },
 "nbformat": 4,
 "nbformat_minor": 1
}