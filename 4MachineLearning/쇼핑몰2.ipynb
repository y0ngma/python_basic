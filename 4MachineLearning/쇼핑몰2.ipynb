{
 "cells": [
  {
   "cell_type": "markdown",
   "metadata": {},
   "source": [
    "### 데이터 확인 하기\n",
    "- 아이템별 지표 확인하기  \n",
    "- 시간별 지역별 판매 지표 확인하기  "
   ]
  },
  {
   "cell_type": "code",
   "execution_count": 2,
   "metadata": {},
   "outputs": [],
   "source": [
    "import numpy as np\n",
    "import pandas as pd\n",
    "import seaborn as sns\n",
    "COLORS = sns.color_palette()\n",
    "%matplotlib inline"
   ]
  },
  {
   "cell_type": "code",
   "execution_count": 3,
   "metadata": {},
   "outputs": [
    {
     "data": {
      "text/html": [
       "<div>\n",
       "<style scoped>\n",
       "    .dataframe tbody tr th:only-of-type {\n",
       "        vertical-align: middle;\n",
       "    }\n",
       "\n",
       "    .dataframe tbody tr th {\n",
       "        vertical-align: top;\n",
       "    }\n",
       "\n",
       "    .dataframe thead th {\n",
       "        text-align: right;\n",
       "    }\n",
       "</style>\n",
       "<table border=\"1\" class=\"dataframe\">\n",
       "  <thead>\n",
       "    <tr style=\"text-align: right;\">\n",
       "      <th></th>\n",
       "      <th>Unnamed: 0</th>\n",
       "      <th>InvoiceNo</th>\n",
       "      <th>StockCode</th>\n",
       "      <th>Description</th>\n",
       "      <th>Quantity</th>\n",
       "      <th>InvoiceDate</th>\n",
       "      <th>UnitPrice</th>\n",
       "      <th>CustomerID</th>\n",
       "      <th>Country</th>\n",
       "      <th>CheckoutPrice</th>\n",
       "    </tr>\n",
       "  </thead>\n",
       "  <tbody>\n",
       "    <tr>\n",
       "      <td>0</td>\n",
       "      <td>0</td>\n",
       "      <td>536365</td>\n",
       "      <td>85123A</td>\n",
       "      <td>WHITE HANGING HEART T-LIGHT HOLDER</td>\n",
       "      <td>6</td>\n",
       "      <td>12/1/2010 8:26</td>\n",
       "      <td>2.55</td>\n",
       "      <td>17850</td>\n",
       "      <td>United Kingdom</td>\n",
       "      <td>15.30</td>\n",
       "    </tr>\n",
       "    <tr>\n",
       "      <td>1</td>\n",
       "      <td>1</td>\n",
       "      <td>536365</td>\n",
       "      <td>71053</td>\n",
       "      <td>WHITE METAL LANTERN</td>\n",
       "      <td>6</td>\n",
       "      <td>12/1/2010 8:26</td>\n",
       "      <td>3.39</td>\n",
       "      <td>17850</td>\n",
       "      <td>United Kingdom</td>\n",
       "      <td>20.34</td>\n",
       "    </tr>\n",
       "    <tr>\n",
       "      <td>2</td>\n",
       "      <td>2</td>\n",
       "      <td>536365</td>\n",
       "      <td>84406B</td>\n",
       "      <td>CREAM CUPID HEARTS COAT HANGER</td>\n",
       "      <td>8</td>\n",
       "      <td>12/1/2010 8:26</td>\n",
       "      <td>2.75</td>\n",
       "      <td>17850</td>\n",
       "      <td>United Kingdom</td>\n",
       "      <td>22.00</td>\n",
       "    </tr>\n",
       "    <tr>\n",
       "      <td>3</td>\n",
       "      <td>3</td>\n",
       "      <td>536365</td>\n",
       "      <td>84029G</td>\n",
       "      <td>KNITTED UNION FLAG HOT WATER BOTTLE</td>\n",
       "      <td>6</td>\n",
       "      <td>12/1/2010 8:26</td>\n",
       "      <td>3.39</td>\n",
       "      <td>17850</td>\n",
       "      <td>United Kingdom</td>\n",
       "      <td>20.34</td>\n",
       "    </tr>\n",
       "    <tr>\n",
       "      <td>4</td>\n",
       "      <td>4</td>\n",
       "      <td>536365</td>\n",
       "      <td>84029E</td>\n",
       "      <td>RED WOOLLY HOTTIE WHITE HEART.</td>\n",
       "      <td>6</td>\n",
       "      <td>12/1/2010 8:26</td>\n",
       "      <td>3.39</td>\n",
       "      <td>17850</td>\n",
       "      <td>United Kingdom</td>\n",
       "      <td>20.34</td>\n",
       "    </tr>\n",
       "  </tbody>\n",
       "</table>\n",
       "</div>"
      ],
      "text/plain": [
       "   Unnamed: 0  InvoiceNo StockCode                          Description  \\\n",
       "0           0     536365    85123A   WHITE HANGING HEART T-LIGHT HOLDER   \n",
       "1           1     536365     71053                  WHITE METAL LANTERN   \n",
       "2           2     536365    84406B       CREAM CUPID HEARTS COAT HANGER   \n",
       "3           3     536365    84029G  KNITTED UNION FLAG HOT WATER BOTTLE   \n",
       "4           4     536365    84029E       RED WOOLLY HOTTIE WHITE HEART.   \n",
       "\n",
       "   Quantity     InvoiceDate  UnitPrice  CustomerID         Country  \\\n",
       "0         6  12/1/2010 8:26       2.55       17850  United Kingdom   \n",
       "1         6  12/1/2010 8:26       3.39       17850  United Kingdom   \n",
       "2         8  12/1/2010 8:26       2.75       17850  United Kingdom   \n",
       "3         6  12/1/2010 8:26       3.39       17850  United Kingdom   \n",
       "4         6  12/1/2010 8:26       3.39       17850  United Kingdom   \n",
       "\n",
       "   CheckoutPrice  \n",
       "0          15.30  \n",
       "1          20.34  \n",
       "2          22.00  \n",
       "3          20.34  \n",
       "4          20.34  "
      ]
     },
     "execution_count": 3,
     "metadata": {},
     "output_type": "execute_result"
    }
   ],
   "source": [
    "dtypes = {\n",
    "    'UniPrice': np.float32,\n",
    "    'CustomerID': np.int32,\n",
    "    'Quantity': np.int32\n",
    "}\n",
    "retail = pd.read_csv('./data/OnlineRetailClean.csv', dtype=dtypes)\n",
    "retail.head()"
   ]
  },
  {
   "cell_type": "code",
   "execution_count": 4,
   "metadata": {},
   "outputs": [
    {
     "name": "stdout",
     "output_type": "stream",
     "text": [
      "<class 'pandas.core.frame.DataFrame'>\n",
      "RangeIndex: 397884 entries, 0 to 397883\n",
      "Data columns (total 10 columns):\n",
      "Unnamed: 0       397884 non-null int64\n",
      "InvoiceNo        397884 non-null int64\n",
      "StockCode        397884 non-null object\n",
      "Description      397884 non-null object\n",
      "Quantity         397884 non-null int32\n",
      "InvoiceDate      397884 non-null object\n",
      "UnitPrice        397884 non-null float64\n",
      "CustomerID       397884 non-null int32\n",
      "Country          397884 non-null object\n",
      "CheckoutPrice    397884 non-null float64\n",
      "dtypes: float64(2), int32(2), int64(2), object(4)\n",
      "memory usage: 27.3+ MB\n"
     ]
    }
   ],
   "source": [
    "retail.info()"
   ]
  },
  {
   "cell_type": "code",
   "execution_count": 5,
   "metadata": {},
   "outputs": [
    {
     "name": "stdout",
     "output_type": "stream",
     "text": [
      "<class 'pandas.core.frame.DataFrame'>\n",
      "RangeIndex: 397884 entries, 0 to 397883\n",
      "Data columns (total 10 columns):\n",
      "Unnamed: 0       397884 non-null int64\n",
      "InvoiceNo        397884 non-null int64\n",
      "StockCode        397884 non-null object\n",
      "Description      397884 non-null object\n",
      "Quantity         397884 non-null int32\n",
      "InvoiceDate      397884 non-null datetime64[ns]\n",
      "UnitPrice        397884 non-null float64\n",
      "CustomerID       397884 non-null int32\n",
      "Country          397884 non-null object\n",
      "CheckoutPrice    397884 non-null float64\n",
      "dtypes: datetime64[ns](1), float64(2), int32(2), int64(2), object(3)\n",
      "memory usage: 27.3+ MB\n"
     ]
    }
   ],
   "source": [
    "retail['InvoiceDate'] = pd.to_datetime(retail['InvoiceDate'],\n",
    "                                      infer_datetime_format=True)\n",
    "retail.info()"
   ]
  },
  {
   "cell_type": "markdown",
   "metadata": {},
   "source": [
    "- 전체 매출  \n",
    "- 국가별 매출  \n",
    "- 월별 매출  \n",
    "- 요일별 매출  \n",
    "- 시간별 매출 "
   ]
  },
  {
   "cell_type": "code",
   "execution_count": 6,
   "metadata": {},
   "outputs": [
    {
     "data": {
      "text/plain": [
       "8911407.904"
      ]
     },
     "execution_count": 6,
     "metadata": {},
     "output_type": "execute_result"
    }
   ],
   "source": [
    "# 전체 매출\n",
    "total_revenue = retail['CheckoutPrice'].sum()\n",
    "total_revenue"
   ]
  },
  {
   "cell_type": "code",
   "execution_count": 7,
   "metadata": {},
   "outputs": [],
   "source": [
    "# 국가별 매출\n",
    "rev_by_countries = retail.groupby('Country').sum()['CheckoutPrice'].sort_values()"
   ]
  },
  {
   "cell_type": "code",
   "execution_count": 8,
   "metadata": {},
   "outputs": [
    {
     "data": {
      "text/plain": [
       "Country\n",
       "Saudi Arabia            1.459200e+02\n",
       "Bahrain                 5.484000e+02\n",
       "Czech Republic          8.267400e+02\n",
       "RSA                     1.002310e+03\n",
       "Brazil                  1.143600e+03\n",
       "European Community      1.300250e+03\n",
       "Lithuania               1.661060e+03\n",
       "Lebanon                 1.693880e+03\n",
       "United Arab Emirates    1.902280e+03\n",
       "Unspecified             2.667070e+03\n",
       "Malta                   2.725590e+03\n",
       "USA                     3.580390e+03\n",
       "Canada                  3.666380e+03\n",
       "Iceland                 4.310000e+03\n",
       "Greece                  4.760520e+03\n",
       "Israel                  7.221690e+03\n",
       "Poland                  7.334650e+03\n",
       "Austria                 1.019868e+04\n",
       "Cyprus                  1.359038e+04\n",
       "Italy                   1.748324e+04\n",
       "Denmark                 1.895534e+04\n",
       "Channel Islands         2.045044e+04\n",
       "Singapore               2.127929e+04\n",
       "Finland                 2.254608e+04\n",
       "Portugal                3.343989e+04\n",
       "Norway                  3.616544e+04\n",
       "Japan                   3.741637e+04\n",
       "Sweden                  3.837833e+04\n",
       "Belgium                 4.119634e+04\n",
       "Switzerland             5.644395e+04\n",
       "Spain                   6.157711e+04\n",
       "Australia               1.385213e+05\n",
       "France                  2.090240e+05\n",
       "Germany                 2.288671e+05\n",
       "EIRE                    2.655459e+05\n",
       "Netherlands             2.854463e+05\n",
       "United Kingdom          7.308392e+06\n",
       "Name: CheckoutPrice, dtype: float64"
      ]
     },
     "execution_count": 8,
     "metadata": {},
     "output_type": "execute_result"
    }
   ],
   "source": [
    "rev_by_countries"
   ]
  },
  {
   "cell_type": "code",
   "execution_count": 11,
   "metadata": {},
   "outputs": [
    {
     "data": {
      "text/plain": [
       "[Text(0, 0, 'Saudi Arabia'),\n",
       " Text(0, 0, 'Bahrain'),\n",
       " Text(0, 0, 'Czech Republic'),\n",
       " Text(0, 0, 'RSA'),\n",
       " Text(0, 0, 'Brazil'),\n",
       " Text(0, 0, 'European Community'),\n",
       " Text(0, 0, 'Lithuania'),\n",
       " Text(0, 0, 'Lebanon'),\n",
       " Text(0, 0, 'United Arab Emirates'),\n",
       " Text(0, 0, 'Unspecified'),\n",
       " Text(0, 0, 'Malta'),\n",
       " Text(0, 0, 'USA'),\n",
       " Text(0, 0, 'Canada'),\n",
       " Text(0, 0, 'Iceland'),\n",
       " Text(0, 0, 'Greece'),\n",
       " Text(0, 0, 'Israel'),\n",
       " Text(0, 0, 'Poland'),\n",
       " Text(0, 0, 'Austria'),\n",
       " Text(0, 0, 'Cyprus'),\n",
       " Text(0, 0, 'Italy'),\n",
       " Text(0, 0, 'Denmark'),\n",
       " Text(0, 0, 'Channel Islands'),\n",
       " Text(0, 0, 'Singapore'),\n",
       " Text(0, 0, 'Finland'),\n",
       " Text(0, 0, 'Portugal'),\n",
       " Text(0, 0, 'Norway'),\n",
       " Text(0, 0, 'Japan'),\n",
       " Text(0, 0, 'Sweden'),\n",
       " Text(0, 0, 'Belgium'),\n",
       " Text(0, 0, 'Switzerland'),\n",
       " Text(0, 0, 'Spain'),\n",
       " Text(0, 0, 'Australia'),\n",
       " Text(0, 0, 'France'),\n",
       " Text(0, 0, 'Germany'),\n",
       " Text(0, 0, 'EIRE'),\n",
       " Text(0, 0, 'Netherlands'),\n",
       " Text(0, 0, 'United Kingdom')]"
      ]
     },
     "execution_count": 11,
     "metadata": {},
     "output_type": "execute_result"
    },
    {
     "data": {
      "image/png": "[encoded data removed]",
      "text/plain": [
       "<Figure size 1440x720 with 1 Axes>"
      ]
     },
     "metadata": {
      "needs_background": "light"
     },
     "output_type": "display_data"
    }
   ],
   "source": [
    "plot = rev_by_countries.plot(kind='bar', color=COLORS[-1], figsize=(20, 10))\n",
    "plot.set_xlabel('Country', fontsize=11)\n",
    "plot.set_ylabel('Revenue', fontsize=11)\n",
    "plot.set_title('Revenue by Country', fontsize=13)\n",
    "plot.set_xticklabels(labels=rev_by_countries.index, rotation=45)"
   ]
  },
  {
   "cell_type": "code",
   "execution_count": 12,
   "metadata": {},
   "outputs": [
    {
     "data": {
      "image/png": "[encoded data removed]",
      "text/plain": [
       "<Figure size 1440x720 with 1 Axes>"
      ]
     },
     "metadata": {
      "needs_background": "light"
     },
     "output_type": "display_data"
    }
   ],
   "source": [
    "def plot_def(df, xlabel, ylabel, title, color=COLORS[0], figsize=(20, 10), rotation=45):\n",
    "    plot = df.plot(kind='bar', color=color, figsize=figsize)\n",
    "    plot.set_xlabel(xlabel, fontsize=11)\n",
    "    plot.set_ylabel(ylabel, fontsize=11)\n",
    "    plot.set_title(title, fontsize=13)\n",
    "    plot.set_xticklabels(labels=df.index, rotation=rotation)\n",
    "\n",
    "plot_def(rev_by_countries, 'Country', 'Revenue', 'Revenue by Country')"
   ]
  },
  {
   "cell_type": "code",
   "execution_count": 13,
   "metadata": {},
   "outputs": [
    {
     "data": {
      "text/plain": [
       "397883   2011-12-09 12:50:00\n",
       "397875   2011-12-09 12:50:00\n",
       "397882   2011-12-09 12:50:00\n",
       "397870   2011-12-09 12:50:00\n",
       "397871   2011-12-09 12:50:00\n",
       "                 ...        \n",
       "4        2010-12-01 08:26:00\n",
       "3        2010-12-01 08:26:00\n",
       "2        2010-12-01 08:26:00\n",
       "1        2010-12-01 08:26:00\n",
       "0        2010-12-01 08:26:00\n",
       "Name: InvoiceDate, Length: 397884, dtype: datetime64[ns]"
      ]
     },
     "execution_count": 13,
     "metadata": {},
     "output_type": "execute_result"
    }
   ],
   "source": [
    "# 월별 매출\n",
    "retail['InvoiceDate'].sort_values(ascending=False)"
   ]
  },
  {
   "cell_type": "code",
   "execution_count": 14,
   "metadata": {},
   "outputs": [],
   "source": [
    "def extract_month(date):\n",
    "    month = str(date.month)\n",
    "    if date.month < 10:\n",
    "        month = '0' + month\n",
    "    return str(date.year) + month"
   ]
  },
  {
   "cell_type": "code",
   "execution_count": 19,
   "metadata": {},
   "outputs": [
    {
     "data": {
      "text/html": [
       "<div>\n",
       "<style scoped>\n",
       "    .dataframe tbody tr th:only-of-type {\n",
       "        vertical-align: middle;\n",
       "    }\n",
       "\n",
       "    .dataframe tbody tr th {\n",
       "        vertical-align: top;\n",
       "    }\n",
       "\n",
       "    .dataframe thead th {\n",
       "        text-align: right;\n",
       "    }\n",
       "</style>\n",
       "<table border=\"1\" class=\"dataframe\">\n",
       "  <thead>\n",
       "    <tr style=\"text-align: right;\">\n",
       "      <th></th>\n",
       "      <th>Unnamed: 0</th>\n",
       "      <th>InvoiceNo</th>\n",
       "      <th>Quantity</th>\n",
       "      <th>UnitPrice</th>\n",
       "      <th>CustomerID</th>\n",
       "      <th>CheckoutPrice</th>\n",
       "    </tr>\n",
       "  </thead>\n",
       "  <tbody>\n",
       "    <tr>\n",
       "      <td>201012</td>\n",
       "      <td>520083532</td>\n",
       "      <td>14072707240</td>\n",
       "      <td>312265</td>\n",
       "      <td>81935.610</td>\n",
       "      <td>406196835</td>\n",
       "      <td>572713.890</td>\n",
       "    </tr>\n",
       "    <tr>\n",
       "      <td>201101</td>\n",
       "      <td>1285805664</td>\n",
       "      <td>11492803914</td>\n",
       "      <td>349098</td>\n",
       "      <td>66964.990</td>\n",
       "      <td>321863240</td>\n",
       "      <td>569445.040</td>\n",
       "    </tr>\n",
       "    <tr>\n",
       "      <td>201102</td>\n",
       "      <td>1823668831</td>\n",
       "      <td>10841427849</td>\n",
       "      <td>265622</td>\n",
       "      <td>63185.760</td>\n",
       "      <td>305207531</td>\n",
       "      <td>447137.350</td>\n",
       "    </tr>\n",
       "    <tr>\n",
       "      <td>201103</td>\n",
       "      <td>3350125843</td>\n",
       "      <td>14860772808</td>\n",
       "      <td>348503</td>\n",
       "      <td>88563.100</td>\n",
       "      <td>412653906</td>\n",
       "      <td>595500.760</td>\n",
       "    </tr>\n",
       "    <tr>\n",
       "      <td>201104</td>\n",
       "      <td>3541342366</td>\n",
       "      <td>12452863569</td>\n",
       "      <td>292222</td>\n",
       "      <td>79005.481</td>\n",
       "      <td>345925717</td>\n",
       "      <td>469200.361</td>\n",
       "    </tr>\n",
       "    <tr>\n",
       "      <td>201105</td>\n",
       "      <td>5400092744</td>\n",
       "      <td>15669690030</td>\n",
       "      <td>373601</td>\n",
       "      <td>102128.280</td>\n",
       "      <td>431128726</td>\n",
       "      <td>678594.560</td>\n",
       "    </tr>\n",
       "    <tr>\n",
       "      <td>201106</td>\n",
       "      <td>6178964643</td>\n",
       "      <td>15138257658</td>\n",
       "      <td>363699</td>\n",
       "      <td>85274.730</td>\n",
       "      <td>416663110</td>\n",
       "      <td>661213.690</td>\n",
       "    </tr>\n",
       "    <tr>\n",
       "      <td>201107</td>\n",
       "      <td>7154671014</td>\n",
       "      <td>15030051462</td>\n",
       "      <td>369420</td>\n",
       "      <td>75919.901</td>\n",
       "      <td>410674538</td>\n",
       "      <td>600091.011</td>\n",
       "    </tr>\n",
       "    <tr>\n",
       "      <td>201108</td>\n",
       "      <td>8160826087</td>\n",
       "      <td>15216184267</td>\n",
       "      <td>398121</td>\n",
       "      <td>79423.830</td>\n",
       "      <td>412055398</td>\n",
       "      <td>645343.900</td>\n",
       "    </tr>\n",
       "    <tr>\n",
       "      <td>201109</td>\n",
       "      <td>13851161688</td>\n",
       "      <td>22702364753</td>\n",
       "      <td>544897</td>\n",
       "      <td>119053.062</td>\n",
       "      <td>610865157</td>\n",
       "      <td>952838.382</td>\n",
       "    </tr>\n",
       "    <tr>\n",
       "      <td>201110</td>\n",
       "      <td>19872123452</td>\n",
       "      <td>28315027744</td>\n",
       "      <td>593900</td>\n",
       "      <td>165849.980</td>\n",
       "      <td>755877847</td>\n",
       "      <td>1039318.790</td>\n",
       "    </tr>\n",
       "    <tr>\n",
       "      <td>201111</td>\n",
       "      <td>30516909572</td>\n",
       "      <td>37219119056</td>\n",
       "      <td>669051</td>\n",
       "      <td>185522.460</td>\n",
       "      <td>991300319</td>\n",
       "      <td>1161817.380</td>\n",
       "    </tr>\n",
       "    <tr>\n",
       "      <td>201112</td>\n",
       "      <td>9140194426</td>\n",
       "      <td>10049237997</td>\n",
       "      <td>287413</td>\n",
       "      <td>47173.430</td>\n",
       "      <td>264994057</td>\n",
       "      <td>518192.790</td>\n",
       "    </tr>\n",
       "  </tbody>\n",
       "</table>\n",
       "</div>"
      ],
      "text/plain": [
       "         Unnamed: 0    InvoiceNo  Quantity   UnitPrice  CustomerID  \\\n",
       "201012    520083532  14072707240    312265   81935.610   406196835   \n",
       "201101   1285805664  11492803914    349098   66964.990   321863240   \n",
       "201102   1823668831  10841427849    265622   63185.760   305207531   \n",
       "201103   3350125843  14860772808    348503   88563.100   412653906   \n",
       "201104   3541342366  12452863569    292222   79005.481   345925717   \n",
       "201105   5400092744  15669690030    373601  102128.280   431128726   \n",
       "201106   6178964643  15138257658    363699   85274.730   416663110   \n",
       "201107   7154671014  15030051462    369420   75919.901   410674538   \n",
       "201108   8160826087  15216184267    398121   79423.830   412055398   \n",
       "201109  13851161688  22702364753    544897  119053.062   610865157   \n",
       "201110  19872123452  28315027744    593900  165849.980   755877847   \n",
       "201111  30516909572  37219119056    669051  185522.460   991300319   \n",
       "201112   9140194426  10049237997    287413   47173.430   264994057   \n",
       "\n",
       "        CheckoutPrice  \n",
       "201012     572713.890  \n",
       "201101     569445.040  \n",
       "201102     447137.350  \n",
       "201103     595500.760  \n",
       "201104     469200.361  \n",
       "201105     678594.560  \n",
       "201106     661213.690  \n",
       "201107     600091.011  \n",
       "201108     645343.900  \n",
       "201109     952838.382  \n",
       "201110    1039318.790  \n",
       "201111    1161817.380  \n",
       "201112     518192.790  "
      ]
     },
     "execution_count": 19,
     "metadata": {},
     "output_type": "execute_result"
    }
   ],
   "source": [
    "rev_by_month = retail.set_index('InvoiceDate').groupby(extract_month).sum()\n",
    "rev_by_month"
   ]
  },
  {
   "cell_type": "code",
   "execution_count": null,
   "metadata": {},
   "outputs": [],
   "source": [
    "plot = rev_by_month.plot(kind='bar', color=COLORS[-1], figsize=(20, 10))\n",
    "plot.set_xlabel('Country', fontsize=11)\n",
    "plot.set_ylabel('Revenue', fontsize=11)\n",
    "plot.set_title('Revenue by Country', fontsize=13)\n",
    "plot.set_xticklabels(labels=rev_by_month.index, rotation=45)"
   ]
  },
  {
   "cell_type": "code",
   "execution_count": null,
   "metadata": {},
   "outputs": [],
   "source": [
    "plot_def(rev_by_month, 'Month', 'Revenue', 'Revenue by Month')"
   ]
  },
  {
   "cell_type": "code",
   "execution_count": null,
   "metadata": {},
   "outputs": [],
   "source": [
    "# 요일별 매출\n",
    "rev_by_dow = retail.set_index('InvoiceDate').groupby(lambda date: date.dayofweek).sum()['CheckoutPrice']\n",
    "rev_by_dow"
   ]
  },
  {
   "cell_type": "code",
   "execution_count": 21,
   "metadata": {},
   "outputs": [],
   "source": [
    "DAY_OF_WEEK = np.array(['Mon', 'Tue', 'Wed', 'Thur', 'Fri', 'Sat', 'Sun'])\n",
    "rev_by_dow.index = DAY_OF_WEEK[rev_by_dow.index]"
   ]
  },
  {
   "cell_type": "code",
   "execution_count": null,
   "metadata": {},
   "outputs": [],
   "source": [
    "plot_def(rev_by_dow, 'DOW', 'Revenue', 'Revenue by DOW')"
   ]
  },
  {
   "cell_type": "code",
   "execution_count": null,
   "metadata": {},
   "outputs": [],
   "source": [
    "# 시간별 매출\n",
    "rev_by_hour = retail.set_index('InvoiceDate').groupby(lambda date:date.hour).sum()['CheckoutPrice']\n",
    "plot_def(rev_by_hour, 'Hour', 'Revenue', 'Revenue by Hour')"
   ]
  },
  {
   "cell_type": "code",
   "execution_count": 27,
   "metadata": {},
   "outputs": [
    {
     "data": {
      "text/plain": [
       "StockCode\n",
       "23843     80995\n",
       "23166     77916\n",
       "84077     54415\n",
       "22197     49183\n",
       "85099B    46181\n",
       "85123A    36782\n",
       "84879     35362\n",
       "21212     33693\n",
       "23084     27202\n",
       "22492     26076\n",
       "Name: Quantity, dtype: int32"
      ]
     },
     "execution_count": 27,
     "metadata": {},
     "output_type": "execute_result"
    }
   ],
   "source": [
    "retail.groupby('StockCode').sum()['Quantity'].sort_values(ascending=False)[:10]"
   ]
  },
  {
   "cell_type": "code",
   "execution_count": 28,
   "metadata": {},
   "outputs": [],
   "source": [
    "# Top 10 판매 제품\n",
    "top_selling = retail.groupby('StockCode').sum()['Quantity'].sort_values(ascending=False)[:3]\n",
    "top_revenue = retail.groupby('StockCode').sum()['CheckoutPrice'].sort_values(ascending=False)[:10]"
   ]
  },
  {
   "cell_type": "code",
   "execution_count": 31,
   "metadata": {},
   "outputs": [
    {
     "data": {
      "image/png": "[encoded data removed]",
      "text/plain": [
       "<Figure size 1440x720 with 1 Axes>"
      ]
     },
     "metadata": {
      "needs_background": "light"
     },
     "output_type": "display_data"
    }
   ],
   "source": [
    "# top3 아이템의 월별 판매량 추이\n",
    "monthly_top3 = retail.set_index('InvoiceDate')\n",
    "    .groupby(['StockCode', extract_month])\n",
    "    .sum()[['Quantity', 'CheckoutPrice']]\n",
    "    .loc[top_selling.index]\n",
    "plot_def(monthly_top3['CheckoutPrice'], 'Product/Month', 'Revenue', 'Revenue of top 3 items' )"
   ]
  },
  {
   "cell_type": "code",
   "execution_count": null,
   "metadata": {},
   "outputs": [],
   "source": []
  }
 ],
 "metadata": {
  "kernelspec": {
   "display_name": "Python 3",
   "language": "python",
   "name": "python3"
  },
  "language_info": {
   "codemirror_mode": {
    "name": "ipython",
    "version": 3
   },
   "file_extension": ".py",
   "mimetype": "text/x-python",
   "name": "python",
   "nbconvert_exporter": "python",
   "pygments_lexer": "ipython3",
   "version": "3.7.4"
  }
 },
 "nbformat": 4,
 "nbformat_minor": 4
}
