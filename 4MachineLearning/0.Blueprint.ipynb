{
  "nbformat": 4,
  "nbformat_minor": 0,
  "metadata": {
    "colab": {
      "name": "0.용코렙기초s.ipynb",
      "provenance": [],
      "collapsed_sections": [
        "ZyMw6KO4L-jg",
        "BTgxe7EWMCuR"
      ],
      "toc_visible": true
    },
    "kernelspec": {
      "name": "python3",
      "display_name": "Python 3"
    }
  },
  "cells": [
    {
      "cell_type": "markdown",
      "metadata": {
        "id": "DoV15q08TaUi",
        "colab_type": "text"
      },
      "source": [
        "# **머신 러닝을 이용한 번역서비스의 언어 감지**"
      ]
    },
    {
      "cell_type": "markdown",
      "metadata": {
        "id": "M6-ER7f_LyTn",
        "colab_type": "text"
      },
      "source": [
        "# 1.연구목표 설정"
      ]
    },
    {
      "cell_type": "markdown",
      "metadata": {
        "id": "jGM3Le14Toc5",
        "colab_type": "text"
      },
      "source": [
        "- 프로젝트의 주제\n",
        "- 6단계 시스템 통합을 대비해서 1단계를 설정한다\n",
        "- 목표, 결론이 명확해야 한다\n",
        "  - 넷플릭스 -> 추천 시스템의 정확도를 기존대비 3% 증가 시켜라\n",
        "  - 사용자가 텍스트를 넣으면 해당 텍스트의 언어를 감지해 내라\n",
        "  - 신규 서비스 인가?\n",
        "  - 사내 프로그램용, 그룹웨어의 어떤 메뉴인가?\n",
        "  - 의사결정을 위한 레포트인가?\n",
        "- 주제가 새로운 주장에 근거한거라면 -> 관련 논문을 체크\n",
        "  - 내 주장의 근거를 댄다.\n",
        "\n",
        "- **데이터 분석의 목적 : 데이터에 대한 통찰을 얻는다**"
      ]
    },
    {
      "cell_type": "markdown",
      "metadata": {
        "id": "pj8i8LAqL2t4",
        "colab_type": "text"
      },
      "source": [
        "# 2.데이터 수집/확보 \n"
      ]
    },
    {
      "cell_type": "markdown",
      "metadata": {
        "id": "Hg8AsKG3Vifh",
        "colab_type": "text"
      },
      "source": [
        "- 데이터 수집/확보 전략\n",
        "  1. 제공받는다 : 공공데이터, 대학/연구기관 데이터, 챌린지 데이터(kaggle deepfake), 민원제공 후 받기\n",
        "    - 정형적 데이터 유형으로 제공된다(이미 구조가 갖춰져 있다)\n",
        "  - 공개는 되어 있는데(웹) 직접 해결 부분\n",
        "    - 반정형, 비정형적으로 데이터가 제공된다.\n",
        "    - 방법\n",
        "      1. open API 이용 수집 : naver, kakao, google -> 쿼터제한(많은계정,키필요)\n",
        "      1. web Scrapping을 이용하여 수집 : requests, BS4\n",
        "      1. Crawling 으로 수집 : selenium + Web driver\n",
        "          - 한단계씩 하기 위해 쥬피터에서 가동\n",
        "      \n",
        "      \n",
        "\n",
        "      \n"
      ]
    },
    {
      "cell_type": "markdown",
      "metadata": {
        "id": "-og4WMoeL2wg",
        "colab_type": "text"
      },
      "source": [
        "# 3.데이터 준비"
      ]
    },
    {
      "cell_type": "markdown",
      "metadata": {
        "id": "9dN8pBpcZl36",
        "colab_type": "text"
      },
      "source": [
        "- 전처리, 정제, 적제, 등등 \n",
        "- 데이터의 품질을 향상시킨다\n",
        "- 데이터 성분 종류\n",
        "  - 수치\n",
        "    - 정수\n",
        "      - 0 이나 1\n",
        "        - 이진 데이터, 바이너리, 원-핫인코딩방식\n",
        "      - ... -1, 0, 1, ...\n",
        "        - 정규화 처리가 진행되서 0~1 사이로 값을 몰아 넣는다.\n",
        "    - 부동소수\n",
        "      - ...-1.1xxx , 0, 1.1xxx, ...\n",
        "        - 정규화 처리가 진행되서 0~1 사이로 값을 몰아 넣는다.\n",
        "  - 문자열(텍스트)\n",
        "    1. 문자열\n",
        "    1. 형태소분석기(konlpy > Mecab)\n",
        "    1. 분절 > 형태소가 나온다\n",
        "    1. 사전을 생성\n",
        "    1. 형태소를 인덱스로 치환\n",
        "    1. 0, 1 로 인코딩(원-핫 인코딩)\n",
        "    1. 범주형\n",
        "- 모든 데이터는 결론적으로 **수치화** 시켜야 한다. 머신러닝/딥러닝을 위해서\n",
        "\n",
        "\n"
      ]
    },
    {
      "cell_type": "markdown",
      "metadata": {
        "id": "eyGC-8V-L8zw",
        "colab_type": "text"
      },
      "source": [
        "# 4.데이터 분석"
      ]
    },
    {
      "cell_type": "markdown",
      "metadata": {
        "id": "7SdnmS8lgDAA",
        "colab_type": "text"
      },
      "source": [
        "## 분석\n",
        "- Descriptive Analysis (설명/서술 분석)\n",
        "- Exploratory Analysis (탐색적 분석)\n",
        "- Inferential Analysis (추론/통계적 분석)\n",
        "- Predictive Analysis ( 예측 분석)\n",
        "- Causal Analysis (인과/통계적 분석)\n",
        "- Mechanistic Analysis (기계적 분석)\n"
      ]
    },
    {
      "cell_type": "markdown",
      "metadata": {
        "id": "8HsBOHh9njNF",
        "colab_type": "text"
      },
      "source": [
        ""
      ]
    },
    {
      "cell_type": "markdown",
      "metadata": {
        "id": "i0loVa__iAw2",
        "colab_type": "text"
      },
      "source": [
        "### Descriptive Analysis (설명/서술 분석)\n",
        "\n",
        "- 기초 분석\n",
        "- 기본 통계량 분석\n",
        "- 요약과 집계를 수행, 데이터의 성질, 특성, 유형들을 확인\n",
        "- 시각화\n",
        "  - Pie, Bar, Box\n",
        "- 데이터의 shape, dim, head(), tail(), describ, info()\n"
      ]
    },
    {
      "cell_type": "markdown",
      "metadata": {
        "id": "Kb0EunWvnkaz",
        "colab_type": "text"
      },
      "source": [
        ""
      ]
    },
    {
      "cell_type": "markdown",
      "metadata": {
        "id": "M5GsjgnriA24",
        "colab_type": "text"
      },
      "source": [
        "### Exploratory Analysis (탐색적 분석)\n",
        "\n",
        "- EDA\n",
        "- 중간에 재미잇는 요소가 발견되더라도, 원 목적에 부합하게 진행시킨다. (삼천포빠지기 주의)\n",
        "- 시각화 처리\n",
        "  - matplotlib, seaborn, folium, 3rd party lib etc"
      ]
    },
    {
      "cell_type": "markdown",
      "metadata": {
        "id": "0ppvd4dDi62N",
        "colab_type": "text"
      },
      "source": [
        ""
      ]
    },
    {
      "cell_type": "markdown",
      "metadata": {
        "id": "1AlQlOm-iA92",
        "colab_type": "text"
      },
      "source": [
        "### Inferential Analysis (추론/통계적 분석)\n",
        "\n",
        "- 모집단-표본(샘플)간의 관계를 탐구하고, 표본을 모집합에 적용시키는 방법에 대해 분석\n",
        "- 95%의 확률로 모집단의 평균 점수는 XX~ xx 사이 이다. 표준편차 ~, +\n"
      ]
    },
    {
      "cell_type": "markdown",
      "metadata": {
        "id": "OTz2V8k_iBFl",
        "colab_type": "text"
      },
      "source": [
        "### Predictive Analysis ( 예측 분석)\n",
        "\n",
        "- 머신러닝, 결정트리(알고리즘 등) + 통계적 기법들을 사용한다.\n",
        "- 미래, 발생하지 않는 사건에 대해 예측을 진행\n",
        "- 이유보다는 정확한 예측이 더 중요하다.\n",
        "- 예)  \n",
        "  다이어트 성공율을 높이기 위한 다양한 변수들이 존재, 이런 변수들간의 관계성보다는 어떤 변수들을 활용해서 성공율을 높일 수 있는지 예측력을 높이는 쪽으로 더 집중되어 있다.  \n",
        "  - 다이어트를 성공시키기 위해서 xxx를 해야한다.  \n",
        "    - 솔루션 제공이 더 중요  \n",
        "    (Prescriptive Analysis)  "
      ]
    },
    {
      "cell_type": "markdown",
      "metadata": {
        "id": "bD8SfKVHiaCH",
        "colab_type": "text"
      },
      "source": [
        "### Causal Analysis (인과/통계적 분석)\n",
        "\n",
        "- 독립-종속 변수간의 인과관계를 밝힌다.\n",
        "- A/B test\n",
        "- 회귀 \n",
        "  - 변수 2개 간의 상관성을 분석\n",
        "    - 선형 회귀\n",
        "  - 변수가 여러개의 상관성을 분석\n",
        "    - 다항회귀 Multi variable\n",
        "  - 변수가 범주형이면\n",
        "    - Logistics 회귀 \n",
        "    "
      ]
    },
    {
      "cell_type": "markdown",
      "metadata": {
        "id": "J7v_9AfBh3IW",
        "colab_type": "text"
      },
      "source": [
        "### Mechanistic Analysis (기계적 분석)\n",
        "- 독립변수가 종속변수에게 어떤 매커니즘으로 영향을 미치는가?\n",
        "- 독립변수와 종속변수 상의 인과관계 + 어떤 독립변수가 어떤 작용을 하여 영향을 미치는지까지 전개\n",
        "- 머신러닝\n",
        "  - 지도 학습 : 답이 존재\n",
        "    - 분류 : classification\n",
        "    - 회귀 : regression\n",
        "  - 비지도 학습 : 답이 없음\n",
        "    - 군집화 : clustering\n",
        "    - 전처리기 : preprocessing\n",
        "  - 준지도 학습\n",
        "    - 데이터가 일부는 label이 존재하고, 대부분은 label이 없다\n",
        "  - 강화 학습\n",
        "    - agent존재, 잘한 행동에게는 reward를 제공, 잘못한 행동에게는 패널티를 제공하여 보상쪽으로 행동을 강화시키는 학습법\n",
        "    - 알파고를 이긴 알파제로\n",
        "    - 딥러닝\n",
        "- 딥러닝\n",
        "  - 인공 신경망을 통하여 학습을 진행하고, 이에 따른 분류, 행동을 취하거나, 창조하거나 등등 \n",
        "  - 현재로써는 AI를 설명할 때 가장 적합\n",
        "  - 범위 : AI > ML > DL"
      ]
    },
    {
      "cell_type": "markdown",
      "metadata": {
        "id": "CGjWlcIJhxpA",
        "colab_type": "text"
      },
      "source": [
        "## 변수\n",
        "- 독립변수, 상호간 영향을 미치지 않는다. feature(특성)\n",
        "- 종속변수, 독립변수에 의해서 결정, label, 정답, class"
      ]
    },
    {
      "cell_type": "markdown",
      "metadata": {
        "id": "ZyMw6KO4L-jg",
        "colab_type": "text"
      },
      "source": [
        "# 5.데이터 모델링 구축\n",
        "\n",
        "- 머신러닝 기준\n",
        "  - 알고리즘 선택 (선택 시트)\n",
        "  - 데이터를 학습(훈련)용과 테스트용으로 나눈다\n",
        "    - 75:25 (황금비율), 통계(80:20)\n",
        "    - 75(50:25, 학습용:검증용) <- 폴드(fold)\n",
        "  - 학습 -> fit(), xxxfit()\n",
        "  - 예측 -> 테스트용 데이터를 이용\n",
        "  - 성능 평가\n",
        "    - 분류 : 혼동(오차)행렬 -> 정확도, 정밀도, f1-score, AUR, ROC Curve\n",
        "      - 회귀 : 평균제곱근오차 -> 손실함수(대표)\n",
        "    - 최적화\n",
        "      - 데이터량의 증가(학습량 증가)\n",
        "      - 알고리즘 교체? 고민( 교차검증)\n",
        "      - 데이터의 품질?\n",
        "      - 파이프라인 구축(교차검증)\n",
        "    - 목표치에 도달할때까지 반복\n",
        "    - 시스템 통합에 적합한 구조로 덤프\n",
        "           "
      ]
    },
    {
      "cell_type": "markdown",
      "metadata": {
        "id": "BTgxe7EWMCuR",
        "colab_type": "text"
      },
      "source": [
        "# 6.시스템 통합"
      ]
    },
    {
      "cell_type": "code",
      "metadata": {
        "id": "Z86HJg39TQVJ",
        "colab_type": "code",
        "colab": {}
      },
      "source": [
        ""
      ],
      "execution_count": 0,
      "outputs": []
    }
  ]
}