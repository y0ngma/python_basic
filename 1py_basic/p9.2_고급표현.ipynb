{
 "cells": [
  {
   "cell_type": "code",
   "execution_count": 5,
   "metadata": {},
   "outputs": [
    {
     "name": "stdout",
     "output_type": "stream",
     "text": [
      "['__annotations__', '__call__', '__class__', '__closure__', '__code__', '__defaults__', '__delattr__', '__dict__', '__dir__', '__doc__', '__eq__', '__format__', '__ge__', '__get__', '__getattribute__', '__globals__', '__gt__', '__hash__', '__init__', '__init_subclass__', '__kwdefaults__', '__le__', '__lt__', '__module__', '__name__', '__ne__', '__new__', '__qualname__', '__reduce__', '__reduce_ex__', '__repr__', '__setattr__', '__sizeof__', '__str__', '__subclasshook__']\n"
     ]
    }
   ],
   "source": [
    "# 내장함수 : dir()은 \n",
    "# 클레스내에 제공되는 모든 맴버함수를 나열한다\n",
    "print( dir(a) )"
   ]
  },
  {
   "cell_type": "markdown",
   "metadata": {},
   "source": [
    "### 클로저\n",
    "\n",
    "- 특정기능을 함수 내부로 숨기고 싶을때 사용\n",
    "- 람다함수도 클로저의 표현중에 하나로 볼수있다"
   ]
  },
  {
   "cell_type": "code",
   "execution_count": 1,
   "metadata": {},
   "outputs": [
    {
     "name": "stdout",
     "output_type": "stream",
     "text": [
      "0\n",
      "4\n",
      "1\n",
      "2\n",
      "3\n"
     ]
    }
   ],
   "source": [
    "print(0)\n",
    "def a():\n",
    "    print(1)\n",
    "    def b():\n",
    "        print(2)\n",
    "    b()\n",
    "    print(3)\n",
    "print(4)\n",
    "a()"
   ]
  },
  {
   "cell_type": "code",
   "execution_count": 2,
   "metadata": {},
   "outputs": [
    {
     "name": "stdout",
     "output_type": "stream",
     "text": [
      "1\n",
      "3\n",
      "hi\n",
      "4\n"
     ]
    },
    {
     "data": {
      "text/plain": [
       "<function __main__.a.<locals>.b()>"
      ]
     },
     "execution_count": 2,
     "metadata": {},
     "output_type": "execute_result"
    }
   ],
   "source": [
    "def a( fuc ):\n",
    "    print(1)\n",
    "    def b():\n",
    "        print(2)\n",
    "        fuc()\n",
    "    print(3)\n",
    "    fuc()\n",
    "    print(4)\n",
    "    # 데코레이터를 구성하기위해 클로저 함수를 리턴\n",
    "    return b\n",
    "\n",
    "\n",
    "def c():\n",
    "    print('hi')\n",
    "\n",
    "a(c)"
   ]
  },
  {
   "cell_type": "markdown",
   "metadata": {},
   "source": [
    "### 데코레이터\n",
    "\n",
    "- 함수를 수정하지 않고, 함수에 기능을 추가할때\n",
    "- 함수의 기본 기능 앞뒤에 뭔가 기능추가등\n",
    "- 기본 클로저 기능을 이용하여구성\n"
   ]
  },
  {
   "cell_type": "code",
   "execution_count": 3,
   "metadata": {},
   "outputs": [
    {
     "name": "stdout",
     "output_type": "stream",
     "text": [
      "1\n",
      "3\n",
      "데코\n",
      "4\n",
      "2\n",
      "데코\n"
     ]
    }
   ],
   "source": [
    "@a\n",
    "def d():\n",
    "    print('데코')\n",
    "d()"
   ]
  },
  {
   "cell_type": "code",
   "execution_count": 4,
   "metadata": {},
   "outputs": [
    {
     "name": "stdout",
     "output_type": "stream",
     "text": [
      "1\n",
      "3\n",
      "데코\n",
      "4\n",
      "1\n",
      "3\n",
      "2\n",
      "데코\n",
      "4\n",
      "2\n",
      "2\n",
      "데코\n"
     ]
    }
   ],
   "source": [
    "@a\n",
    "@a\n",
    "def d():\n",
    "    print('데코')\n",
    "d()"
   ]
  },
  {
   "cell_type": "code",
   "execution_count": null,
   "metadata": {},
   "outputs": [],
   "source": []
  }
 ],
 "metadata": {
  "kernelspec": {
   "display_name": "Python 3",
   "language": "python",
   "name": "python3"
  },
  "language_info": {
   "codemirror_mode": {
    "name": "ipython",
    "version": 3
   },
   "file_extension": ".py",
   "mimetype": "text/x-python",
   "name": "python",
   "nbconvert_exporter": "python",
   "pygments_lexer": "ipython3",
   "version": "3.7.4"
  },
  "toc": {
   "base_numbering": 1,
   "nav_menu": {},
   "number_sections": true,
   "sideBar": true,
   "skip_h1_title": false,
   "title_cell": "Table of Contents",
   "title_sidebar": "Contents",
   "toc_cell": false,
   "toc_position": {},
   "toc_section_display": true,
   "toc_window_display": false
  }
 },
 "nbformat": 4,
 "nbformat_minor": 2
}
