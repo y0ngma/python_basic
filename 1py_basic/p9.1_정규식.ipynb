{
 "cells": [
  {
   "cell_type": "markdown",
   "metadata": {},
   "source": [
    "### 정규식\n",
    "\n",
    "- 정규 표현식\n",
    "- regular expression\n",
    "- 복잡한 문자열을 처리할 때 사용하는 기법\n",
    "    - 문자열에서 원하는 데이터만 추출, 가공, 삭제 <=전처리/정제"
   ]
  },
  {
   "cell_type": "markdown",
   "metadata": {},
   "source": [
    "- 매타문자 (meta characters)\n",
    "    - 일반표현 : \n",
    "        - | 는 or \n",
    "        - > \n",
    "        - ^ \n",
    "        - & \n",
    "        - * \n",
    "        - > {} () []\n",
    "    - 이스케이프 표현 : \\d \\D \\s \\S \\w \\W \\b \\B ...\n",
    "    \n",
    "- 함수 \n",
    "    - complie()\n",
    "    - match()\n",
    "    - search()\n",
    "    - findall()\n",
    "    - finditer()\n",
    "    - sub()\n",
    "    \n",
    "- 그룹핑\n",
    "- 전방탐색\n",
    "    - 긍정형 전방 탐색\n",
    "    - 부정형 전방 탐색\n",
    "- 컴파일 옵션"
   ]
  },
  {
   "cell_type": "markdown",
   "metadata": {},
   "source": [
    "\n",
    "1. 데이터를 보고, 정제 및 추출을 할 수 있는 표현식을 구현한 후\n",
    "1. 함수를 써서 데이터를 획득한다\n",
    "1. 함수를 써서 데이터를 획득한다 <= 최종 추출 "
   ]
  },
  {
   "cell_type": "code",
   "execution_count": 13,
   "metadata": {},
   "outputs": [],
   "source": [
    "# 1. 모듈 가져오기\n",
    "import re"
   ]
  },
  {
   "cell_type": "code",
   "execution_count": 2,
   "metadata": {},
   "outputs": [
    {
     "data": {
      "text/plain": [
       "'\\n \"Boy With Luv\" (Korean: 작은 것들을 위한 시; RR: Jageun geotdeureul wihan si),\\n featur'"
      ]
     },
     "execution_count": 2,
     "metadata": {},
     "output_type": "execute_result"
    }
   ],
   "source": [
    "test_txt = '''\n",
    " \"Boy With Luv\" (Korean: 작은 것들을 위한 시; RR: Jageun geotdeureul wihan si),\n",
    " featuring American singer Halsey.[202] The EP's release was followed by a perfo\n",
    " rmance on Saturday Night Live, as the first Korean act to do so.[203] The group\n",
    " 's appearance was anticipated as one of the biggest in the show's history.[204]\n",
    " Commercially, BTS reached new career heights. Map of the Soul: Persona became t\n",
    " he first Korean-language album to reach the number one position in both the UK\n",
    " and Australia[205][206] \n",
    "'''\n",
    "test_txt[:80]"
   ]
  },
  {
   "cell_type": "code",
   "execution_count": 3,
   "metadata": {},
   "outputs": [],
   "source": [
    "# 원문에서 한글 제거\n",
    "# 한글 초성, 중성, 종성 => euc-kr, 16bit => 조합형 코드\n",
    "# 한글 가, 갸, 거, 겨,..=> utf-8,  8bit  => 완성형 코드\n",
    "# 완성형 기준 => ㄱ ~ ㅣ -> 가 ~ 힣\n",
    "#hangul = re.compile( '[]+') # 0~무한대\n",
    "hangul = re.compile( '[ㄱ-ㅣ가-힣]+') "
   ]
  },
  {
   "cell_type": "code",
   "execution_count": 4,
   "metadata": {},
   "outputs": [
    {
     "data": {
      "text/plain": [
       "'\\n \"Boy With Luv\" (Korean:    ; RR: Jageun geotdeureul wihan si),\\n featuring American singer Halsey.['"
      ]
     },
     "execution_count": 4,
     "metadata": {},
     "output_type": "execute_result"
    }
   ],
   "source": [
    "# 한글을 ''으로 대체해라 -> 대체 할것이 없으면 제거\n",
    "hangul.sub('', test_txt)[:100]"
   ]
  },
  {
   "cell_type": "code",
   "execution_count": 5,
   "metadata": {},
   "outputs": [],
   "source": [
    "# 알파뱃 정규화\n",
    "alpha = re.compile( '[a-zA-Z]+') "
   ]
  },
  {
   "cell_type": "code",
   "execution_count": 6,
   "metadata": {},
   "outputs": [
    {
     "data": {
      "text/plain": [
       "'\\n \"  \" (: 작은 것들을 위한 시; :    ),\\n    .[202]  \\'      \\n     ,        .[203]  \\n \\'           \\' .[204]\\n ,  '"
      ]
     },
     "execution_count": 6,
     "metadata": {},
     "output_type": "execute_result"
    }
   ],
   "source": [
    "# 알파뱃 대체\n",
    "alpha.sub('', test_txt)[:100]"
   ]
  },
  {
   "cell_type": "code",
   "execution_count": 7,
   "metadata": {},
   "outputs": [
    {
     "data": {
      "text/plain": [
       "'\\n\"\"(:작은것들을위한시;:),\\n.[202]\\'\\n,.[203]\\n\\'\\'.[204]\\n,.:\\n-\\n[205][206]\\n'"
      ]
     },
     "execution_count": 7,
     "metadata": {},
     "output_type": "execute_result"
    }
   ],
   "source": [
    "alpha = re.compile( '[a-z A-Z]+') \n",
    "alpha.sub('', test_txt)[:100]"
   ]
  },
  {
   "cell_type": "code",
   "execution_count": 8,
   "metadata": {},
   "outputs": [
    {
     "name": "stdout",
     "output_type": "stream",
     "text": [
      "1. 매치된다\n",
      "2. 매치된다\n",
      "3. 매치된다\n",
      "5. 매치된다\n"
     ]
    }
   ],
   "source": [
    "# re.match(정규식, 데이터) => False/True\n",
    "# 특정패턴이 데이터에 적용이 되었는지를 검사\n",
    "# 한개라도 일치 되면 참\n",
    "if re.match('a|b|c', 'a'):print('1. 매치된다')\n",
    "if re.match('a|b|c', 'b'):print('2. 매치된다')\n",
    "if re.match('a|b|c', 'c'):print('3. 매치된다')\n",
    "    \n",
    "if re.match('a|b|c', 'd'):print('4. 매치된다')\n",
    "if re.match('a|b|c', 'ad'):print('5. 매치된다')# 먼저 시작하면 참\n",
    "if re.match('a|b|c', 'da'):print('6. 매치된다')"
   ]
  },
  {
   "cell_type": "markdown",
   "metadata": {},
   "source": [
    "- **[]**\n",
    "- 의미 : 문자 클래스\n",
    "- '[' 와 ']'사이에는 어떤 문자도 들어갈 수 있다.\n",
    "- []는 문자 한개를 의미 하기도 함\n",
    "- match(시작단어), search(전체중에 일치되는 단어)를 사용할 경우 한개만 일치되도 참\n",
    "- "
   ]
  },
  {
   "cell_type": "code",
   "execution_count": 9,
   "metadata": {},
   "outputs": [
    {
     "name": "stdout",
     "output_type": "stream",
     "text": [
      "1. 매치된다\n",
      "1. 매치된다\n",
      "3. 매치된다\n",
      "4. 매치된다\n",
      "5. 매치된다\n"
     ]
    }
   ],
   "source": [
    "if re.match('[a]', 'a'):print('1. 매치된다')\n",
    "# 문자열은 a, b, c 중에 하나가 시작문자여야 한다\n",
    "if re.match('[abc]', 'a'):print('1. 매치된다')\n",
    "if re.match('[abc]', 'efz'):print('2. 매치된다')#첫글자e!=a|b|c\n",
    "if re.match('[abc]', 'abd'):print('3. 매치된다')\n",
    "if re.match('[abc]', 'b54'):print('4. 매치된다')\n",
    "if re.search('[abc]', '54a'):print('5. 매치된다')"
   ]
  },
  {
   "cell_type": "markdown",
   "metadata": {},
   "source": [
    "- **-**\n",
    "- 의미 : []문자 클래스 안에 두개의 문자 사이에 표현하면\n",
    "- from~to : 어디서 부터 어디까지 범위를 표현\n"
   ]
  },
  {
   "cell_type": "code",
   "execution_count": 10,
   "metadata": {},
   "outputs": [
    {
     "name": "stdout",
     "output_type": "stream",
     "text": [
      "1. 매치된다\n",
      "2. 매치된다\n",
      "5. 매치된다\n",
      "7. 매치된다\n",
      "8. 매치된다\n"
     ]
    }
   ],
   "source": [
    "if re.match('[0123456789]', '1'):print('1. 매치된다')\n",
    "if re.match('[0-9]', '1')       :print('2. 매치된다')\n",
    "#if re.match('[9-0]', '1')      :print('3. 매치된다')\n",
    "if re.match('[a-zA-z]', '1')    :print('4. 매치된다')\n",
    "if re.match('[a-zA-Z]', 'B')    :print('5. 매치된다')\n",
    "if re.match('[0-9A-Z]', 'a0')   :print('6. 매치된다')\n",
    "if re.match('[0-9a-z]', 'a0')   :print('7. 매치된다')\n",
    "if re.match('[ㄱ-힣]', '가나다ab'):print('8. 매치된다')# 한글완성형코드(utf-8)"
   ]
  },
  {
   "cell_type": "markdown",
   "metadata": {},
   "source": [
    "- .\n",
    "- 의미 : dot(.)줄바꿈기호 \\n을 제외하고 모든 문자에 매치\n",
    "- []문자 클래스가 아닌곳에서 해당. \n",
    "- 문자 클래스 내부에서는 .은 .이다"
   ]
  },
  {
   "cell_type": "code",
   "execution_count": 11,
   "metadata": {},
   "outputs": [
    {
     "name": "stdout",
     "output_type": "stream",
     "text": [
      "1. 매치된다\n",
      "2. 매치된다\n",
      "4. 매치된다\n",
      "5. 매치된다\n",
      "6. 매치된다\n",
      "7. 매치된다\n",
      "9. 매치된다\n"
     ]
    }
   ],
   "source": [
    "if re.match( '[a.b]' , 'a'): print('1. 매치된다')\n",
    "if re.match( '[a.b]' , 'b'): print('2. 매치된다')\n",
    "if re.match( '[a.b]' , 'c'): print('3. 매치된다')    \n",
    "    \n",
    "if re.match( '[a.b]' , 'ab'): print('4. 매치된다')    \n",
    "if re.match( '[a.b]' , 'a1b'): print('5. 매치된다')    \n",
    "if re.match( '[a.b]' , 'abc'): print('6. 매치된다')        \n",
    "if re.match( '[a.b]' , 'bcd'): print('7. 매치된다')            \n",
    "if re.match( '[a.b]' , 'cab'): print('8. 매치된다')\n",
    "    \n",
    "    \n",
    "if re.match( '[a.b]' , '.ab'): print('9. 매치된다')    "
   ]
  },
  {
   "cell_type": "code",
   "execution_count": 12,
   "metadata": {},
   "outputs": [
    {
     "name": "stdout",
     "output_type": "stream",
     "text": [
      "4. 매치된다\n"
     ]
    }
   ],
   "source": [
    "# a문자b 라는 형태로 출발해야 통과\n",
    "if re.match( 'a.b' , 'a'): print('1. 매치된다')\n",
    "if re.match( 'a.b' , 'abc'): print('2. 매치된다')\n",
    "if re.match( 'a.b' , 'ccccca1b'): print('3. 매치된다')\n",
    "if re.match( 'a.b' , 'a1bccccc'): print('4. 매치된다')    "
   ]
  },
  {
   "cell_type": "markdown",
   "metadata": {},
   "source": [
    "- **^** \n",
    "    - 일반문자열 => 문자열의 맨 처음과 일치함을 의미\n",
    "    - 문자 클래스내=>배제, 해당 문자 배제\n",
    "    - re.MULTILINE =>각 라인의 처음과 일치함을 조사\n",
    "- $ 문자열의 맨끝과 일치\n",
    "- +\n",
    "    - 의미 : +를 붙인 바로 앞문자 1~무한대\n",
    "    - 문자열 클래스 내부에서 기술하면, 단순 +가 될 수도 있고, 반복의미가 될 수도 있다(주변값을 고려해서 해석)\n",
    "    \n",
    "- \\* 붙인 바로 앞문자 0~무한대\n",
    "- \\\\(Won자) 쓰임이 있는경우를 제외하고 콜론 세미콜론 등을 부각화에 사용\n",
    "    - 예: ^[0-9\\.]$"
   ]
  },
  {
   "cell_type": "code",
   "execution_count": 13,
   "metadata": {},
   "outputs": [
    {
     "name": "stdout",
     "output_type": "stream",
     "text": [
      "2. 매치된다\n",
      "3. 매치된다\n"
     ]
    }
   ],
   "source": [
    "# [^0-9]: 숫자를 제외하고 모든 문자가 시작문자가 될 수 있다.\n",
    "if re.match('[^0-9]', '1'):print('1. 매치된다')\n",
    "if re.match('[^0-9]', '가'):print('2. 매치된다')\n",
    "if re.match('[^0-9]', 'a0ㅎ'):print('3. 매치된다')"
   ]
  },
  {
   "cell_type": "code",
   "execution_count": 14,
   "metadata": {},
   "outputs": [
    {
     "name": "stdout",
     "output_type": "stream",
     "text": [
      "1. 매치된다\n",
      "2. 매치된다\n"
     ]
    }
   ],
   "source": [
    "# 숫자나 .으로 시작하고 끝난다\n",
    "\n",
    "if re.match( '^[0-9\\.]$' , '1'): print('1. 매치된다')\n",
    "if re.match( '^[0-9\\.]$' , '.'): print('2. 매치된다')"
   ]
  },
  {
   "cell_type": "code",
   "execution_count": 15,
   "metadata": {},
   "outputs": [],
   "source": [
    "# 문자열 수량은 1개라는 조건을 못지킴\n",
    "# 해결방안 : * OR +\n",
    "if re.match('^[0-9\\.]$', ''):print('1. 매치된다')\n",
    "if re.match('^[0-9\\.]$', '1.'):print('2. 매치된다')\n",
    "if re.match('^[0-9\\.]$', '.1'):print('3. 매치된다')\n",
    "if re.match('^[0-9\\.]$', '..'):print('4. 매치된다')"
   ]
  },
  {
   "cell_type": "code",
   "execution_count": 16,
   "metadata": {},
   "outputs": [
    {
     "name": "stdout",
     "output_type": "stream",
     "text": [
      "2. 매치된다\n",
      "3. 매치된다\n",
      "4. 매치된다\n"
     ]
    }
   ],
   "source": [
    "if re.match('^[0-9\\.]+$', ''):print('1. 매치된다')\n",
    "if re.match('^[0-9\\.]+$', '11...'):print('2. 매치된다')\n",
    "if re.match('^[0-9\\.]*$', ''):print('3. 매치된다')\n",
    "if re.match('^[0-9\\.]*$', '...11'):print('4. 매치된다')\n",
    "if re.match('^[0-9\\.]*$', '...a11'):print('5. 매치된다')"
   ]
  },
  {
   "cell_type": "code",
   "execution_count": 17,
   "metadata": {},
   "outputs": [],
   "source": [
    "p = re.compile('^[0-9\\.]*$')\n",
    "test = '''\n",
    "...a11\n",
    "'''"
   ]
  },
  {
   "cell_type": "code",
   "execution_count": 18,
   "metadata": {},
   "outputs": [
    {
     "name": "stdout",
     "output_type": "stream",
     "text": [
      "<class 'str'> <class 're.Pattern'> [] <class 'list'>\n"
     ]
    }
   ],
   "source": [
    "print(type(test), type(p), p.findall(test), type(p.findall(test)))"
   ]
  },
  {
   "cell_type": "code",
   "execution_count": 19,
   "metadata": {},
   "outputs": [],
   "source": [
    "# 정규식의 패턴이 늘어감에 따라 match는 종합적인 조건을 따지게 된다\n",
    "# 시작문자 and 끝문자 and 문자수 and 문자성분\n",
    "if re.match('^[0-9\\.]$', '.asdf.'):print('1. 매치된다')\n",
    "    "
   ]
  },
  {
   "cell_type": "code",
   "execution_count": 20,
   "metadata": {},
   "outputs": [
    {
     "data": {
      "text/plain": [
       "'류현진 국내 이번 겨울 FA 자격을 얻은  토론토와 4년 8000만 달러 계약에 합의\\n했다. 2002년 류현진 서두에없는경우  박찬호(5년 6500만)를 넘어서는 \"한국인 투수 최대\" 규모. 토론토\\n류현진 서두에있을때만 나온다. 구단 역사상 FA 투수에게 쓴 가장 많은 돈이기도 하다. 류현진은 계약을 무효화할\\n류현진공백없이\\n류현진 수 있는 옵트아웃이 없는 대신 트레이드 거부권을 포함시켰다.\\n'"
      ]
     },
     "execution_count": 20,
     "metadata": {},
     "output_type": "execute_result"
    }
   ],
   "source": [
    "data = '''류현진 국내 이번 겨울 FA 자격을 얻은  토론토와 4년 8000만 달러 계약에 합의\n",
    "했다. 2002년 류현진 서두에없는경우  박찬호(5년 6500만)를 넘어서는 \"한국인 투수 최대\" 규모. 토론토\n",
    "류현진 서두에있을때만 나온다. 구단 역사상 FA 투수에게 쓴 가장 많은 돈이기도 하다. 류현진은 계약을 무효화할\n",
    "류현진공백없이\n",
    "류현진 수 있는 옵트아웃이 없는 대신 트레이드 거부권을 포함시켰다.\n",
    "'''\n",
    "data"
   ]
  },
  {
   "cell_type": "code",
   "execution_count": 21,
   "metadata": {},
   "outputs": [
    {
     "data": {
      "text/plain": [
       "['류현진 국내']"
      ]
     },
     "execution_count": 21,
     "metadata": {},
     "output_type": "execute_result"
    }
   ],
   "source": [
    "# 정규식을 컴파일 하고,\n",
    "# 이를 이용하여 데이터를 처리한다\n",
    "# \\s : Whitespace(공백, 탭...)\n",
    "# \\w : Word 단어하나(+ 또는 *를 통해 늘릴 수 있다)\n",
    "#류현진 쓰고 한칸 띄고 단어 한덩어리까지로 싲가하는 문자열\n",
    "p = re.compile('^류현진\\s\\w+')\n",
    "p.findall(data)"
   ]
  },
  {
   "cell_type": "code",
   "execution_count": 22,
   "metadata": {},
   "outputs": [
    {
     "data": {
      "text/plain": [
       "['류현진 ', '류현진 ', '류현진 ']"
      ]
     },
     "execution_count": 22,
     "metadata": {},
     "output_type": "execute_result"
    }
   ],
   "source": [
    "# 공백한칸\n",
    "p = re.compile('^류현진\\s', re.MULTILINE)\n",
    "p.findall(data)"
   ]
  },
  {
   "cell_type": "code",
   "execution_count": 23,
   "metadata": {},
   "outputs": [
    {
     "data": {
      "text/plain": [
       "['류현진 국', '류현진 서', '류현진 수']"
      ]
     },
     "execution_count": 23,
     "metadata": {},
     "output_type": "execute_result"
    }
   ],
   "source": [
    "# 멀티라인 지원\n",
    "p = re.compile('^류현진\\s\\w', re.MULTILINE)\n",
    "p.findall(data)"
   ]
  },
  {
   "cell_type": "code",
   "execution_count": 24,
   "metadata": {},
   "outputs": [
    {
     "data": {
      "text/plain": [
       "['류현진 국내', '류현진 서두에있을때만', '류현진 수']"
      ]
     },
     "execution_count": 24,
     "metadata": {},
     "output_type": "execute_result"
    }
   ],
   "source": [
    "# 멀티라인 지원\n",
    "p = re.compile('^류현진\\s\\w+', re.MULTILINE)\n",
    "p.findall(data)"
   ]
  },
  {
   "cell_type": "code",
   "execution_count": 25,
   "metadata": {
    "scrolled": true
   },
   "outputs": [
    {
     "data": {
      "text/plain": [
       "['류현진공백없이']"
      ]
     },
     "execution_count": 25,
     "metadata": {},
     "output_type": "execute_result"
    }
   ],
   "source": [
    "# 멀티라인 지원\n",
    "p = re.compile('^류현진\\w+', re.MULTILINE)\n",
    "p.findall(data)"
   ]
  },
  {
   "cell_type": "code",
   "execution_count": 26,
   "metadata": {},
   "outputs": [
    {
     "name": "stdout",
     "output_type": "stream",
     "text": [
      " 1.매치된다\n",
      " 2.매치된다\n",
      " 3.매치된다\n"
     ]
    }
   ],
   "source": [
    "# 반복\n",
    "# * 는 0~무한대 반복\n",
    "if re.match('bus*an' , 'buan'): print(' 1.매치된다')\n",
    "if re.match('bus*an' , 'busan'): print(' 2.매치된다')\n",
    "if re.match('bus*an' , 'bussan'): print(' 3.매치된다')"
   ]
  },
  {
   "cell_type": "code",
   "execution_count": 27,
   "metadata": {},
   "outputs": [
    {
     "name": "stdout",
     "output_type": "stream",
     "text": [
      " 2.매치된다\n",
      " 3.매치된다\n"
     ]
    }
   ],
   "source": [
    "if re.match('bus+an' , 'buan'): print(' 1.매치된다')\n",
    "if re.match('bus+an' , 'busan'): print(' 2.매치된다')\n",
    "if re.match('bus+an' , 'bussan'): print(' 3.매치된다')"
   ]
  },
  {
   "cell_type": "markdown",
   "metadata": {},
   "source": [
    "- {}\n",
    "    - 반복횟수 지정\n",
    "    - {2} 2번\n",
    "    - {2, 3} 2~3까지 반복\n",
    "- ?\n",
    "    - {0, 1}\n",
    "    - 0번 ok, 1번 ok\n",
    "    - 안나오던지, 나오면 한번만"
   ]
  },
  {
   "cell_type": "code",
   "execution_count": 28,
   "metadata": {},
   "outputs": [
    {
     "name": "stdout",
     "output_type": "stream",
     "text": [
      " 3.매치된다\n"
     ]
    }
   ],
   "source": [
    "if re.match('bus{2}an' , 'buan'): print(' 1.매치된다')\n",
    "if re.match('bus{2}an' , 'busan'): print(' 2.매치된다')\n",
    "if re.match('bus{2}an' , 'bussan'): print(' 3.매치된다')"
   ]
  },
  {
   "cell_type": "code",
   "execution_count": 29,
   "metadata": {},
   "outputs": [
    {
     "name": "stdout",
     "output_type": "stream",
     "text": [
      " 1.매치된다\n"
     ]
    }
   ],
   "source": [
    "# []안의 아무 문자가 오면 가능이다.\n",
    "# 문자 클래스 안에서는 본질적인 의미가 없어진다. 그냥 문자로 본다\n",
    "if re.match('[bus{2}an]' , 'buan'): print(' 1.매치된다')"
   ]
  },
  {
   "cell_type": "code",
   "execution_count": 30,
   "metadata": {},
   "outputs": [
    {
     "name": "stdout",
     "output_type": "stream",
     "text": [
      " 3.매치된다\n",
      " 4.매치된다\n"
     ]
    }
   ],
   "source": [
    "# \n",
    "if re.match('bus{2,3}an' , 'buan'): print(' 1.매치된다')\n",
    "if re.match('bus{2,3}an' , 'busan'): print(' 2.매치된다')\n",
    "if re.match('bus{2,3}an' , 'bussan'): print(' 3.매치된다')\n",
    "if re.match('bus{2,3}an' , 'busssan'): print(' 4.매치된다')\n",
    "if re.match('bus{2,3}an' , 'bussssan'): print(' 5.매치된다')"
   ]
  },
  {
   "cell_type": "code",
   "execution_count": 31,
   "metadata": {},
   "outputs": [
    {
     "name": "stdout",
     "output_type": "stream",
     "text": [
      " 3.매치된다\n",
      " 4.매치된다\n",
      " 5.매치된다\n"
     ]
    }
   ],
   "source": [
    "# 범위안 모두 가능\n",
    "if re.match('bus{2,4}an' , 'buan'): print(' 1.매치된다')\n",
    "if re.match('bus{2,4}an' , 'busan'): print(' 2.매치된다')\n",
    "if re.match('bus{2,4}an' , 'bussan'): print(' 3.매치된다')\n",
    "if re.match('bus{2,4}an' , 'busssan'): print(' 4.매치된다')\n",
    "if re.match('bus{2,4}an' , 'bussssan'): print(' 5.매치된다')"
   ]
  },
  {
   "cell_type": "code",
   "execution_count": 32,
   "metadata": {},
   "outputs": [
    {
     "name": "stdout",
     "output_type": "stream",
     "text": [
      " 1.매치된다\n",
      " 2.매치된다\n"
     ]
    }
   ],
   "source": [
    "# ?\n",
    "if re.match('bus?an' , 'buan'): print(' 1.매치된다')\n",
    "if re.match('bus?an' , 'busan'): print(' 2.매치된다')\n",
    "if re.match('bus?an' , 'bussan'): print(' 3.매치된다')\n",
    "if re.match('bus?an' , 'busssan'): print(' 4.매치된다')\n",
    "if re.match('bus?an' , 'bussssan'): print(' 5.매치된다')"
   ]
  },
  {
   "cell_type": "code",
   "execution_count": 33,
   "metadata": {},
   "outputs": [],
   "source": [
    "# 휴대폰 전화번호 정규식\n",
    "# 010-숫자네개-숫자네개"
   ]
  },
  {
   "cell_type": "code",
   "execution_count": 34,
   "metadata": {
    "scrolled": true
   },
   "outputs": [
    {
     "data": {
      "text/plain": [
       "'\\n정씨 : 010-1111-2222\\n중씨 : 011-1111-2222 \\n앙씨 : 017-2222-2222\\n상씨 : 010-1111-2222\\n중씨 : 011-1111-2222 \\n하씨 : 017-2222-2222\\n가씨 : 010-1111-2222\\n나씨 : 011-1111-2222 \\n다씨 : 017-2222-2222\\n'"
      ]
     },
     "execution_count": 34,
     "metadata": {},
     "output_type": "execute_result"
    }
   ],
   "source": [
    "data1 = '''\n",
    "정씨 : 010-1111-2222\n",
    "중씨 : 011-1111-2222 \n",
    "앙씨 : 017-2222-2222\n",
    "상씨 : 010-1111-2222\n",
    "중씨 : 011-1111-2222 \n",
    "하씨 : 017-2222-2222\n",
    "가씨 : 010-1111-2222\n",
    "나씨 : 011-1111-2222 \n",
    "다씨 : 017-2222-2222\n",
    "'''\n",
    "data1"
   ]
  },
  {
   "cell_type": "code",
   "execution_count": 35,
   "metadata": {},
   "outputs": [
    {
     "name": "stdout",
     "output_type": "stream",
     "text": [
      "1.매치된다\n"
     ]
    }
   ],
   "source": [
    "if re.match('^[ㄱ-힣]{2} : 01[0,1,7]-[0-9]{3,4}-[0-9]{4}$', '황씨 : 017-111-2222'): print('1.매치된다')"
   ]
  },
  {
   "cell_type": "code",
   "execution_count": 36,
   "metadata": {},
   "outputs": [],
   "source": [
    "p = re.compile('^[ㄱ-힣]{2} : 01[0,1,7]-[0-9]{3,4}-[0-9]{4}$', re.MULTILINE)"
   ]
  },
  {
   "cell_type": "code",
   "execution_count": 37,
   "metadata": {},
   "outputs": [
    {
     "data": {
      "text/plain": [
       "['정씨 : 010-1111-2222',\n",
       " '앙씨 : 017-2222-2222',\n",
       " '상씨 : 010-1111-2222',\n",
       " '하씨 : 017-2222-2222',\n",
       " '가씨 : 010-1111-2222',\n",
       " '다씨 : 017-2222-2222']"
      ]
     },
     "execution_count": 37,
     "metadata": {},
     "output_type": "execute_result"
    }
   ],
   "source": [
    "p.findall(data1)"
   ]
  },
  {
   "cell_type": "markdown",
   "metadata": {},
   "source": [
    "### 매타문자 > 이스케이프\n",
    "\n",
    "- \\d <_> \\D 숫자/나머지\n",
    "- \\s <_> \\S 스페이스\n",
    "- \\w <_> \\W 문자 및 숫자/나머지:특수문자,이스케이프 등\n",
    "- \\b <_> \\B \n",
    "- 기타\n",
    "    - 문자클래스 []에서 특수문자, 화이트 스페이스등을 표현할때\n",
    "    - 콜론'.' => \\. "
   ]
  },
  {
   "cell_type": "code",
   "execution_count": 38,
   "metadata": {},
   "outputs": [
    {
     "name": "stdout",
     "output_type": "stream",
     "text": [
      "1. 매치된다\n"
     ]
    }
   ],
   "source": [
    "# \\d : 숫자 => [0-9]\n",
    "if re.match('[\\d]' , '1'): print('1. 매치된다')\n",
    "if re.match('[\\d]' , 'ㅁ'): print('2. 매치된다')"
   ]
  },
  {
   "cell_type": "code",
   "execution_count": 39,
   "metadata": {},
   "outputs": [
    {
     "name": "stdout",
     "output_type": "stream",
     "text": [
      "2. 매치된다\n"
     ]
    }
   ],
   "source": [
    "# \\D : 숫자말고 나머지 => [^0-9]\n",
    "if re.match('[\\D]' , '1'): print('1. 매치된다')\n",
    "if re.match('[\\D]' , 'ㅁ'): print('2. 매치된다')"
   ]
  },
  {
   "cell_type": "code",
   "execution_count": 40,
   "metadata": {},
   "outputs": [
    {
     "name": "stdout",
     "output_type": "stream",
     "text": [
      "1. 매치된다\n",
      "2. 매치된다\n",
      "4. 매치된다\n"
     ]
    }
   ],
   "source": [
    "# \\s -> whitespace : \\t, \\n, \\r, \\f, \\v\n",
    "# 수평탭, 개행, 캐리지 리턴, 폼피드, 수직탭 => 눈에 보이지 않고,\n",
    "# 공백처럼 보이면서 문자열 상에  정보를 제공하는 문자\n",
    "if re.match('[\\s]' , '\\n '): print('1. 매치된다')\n",
    "if re.match('[\\s]' , '   \\t, \\n\\r, \\f'): print('2. 매치된다')\n",
    "if re.match('[\\s]' , 'a\\n'): print('3. 매치된다')\n",
    "if re.match('[\\s]' , '\\na\\n'): print('4. 매치된다')"
   ]
  },
  {
   "cell_type": "code",
   "execution_count": 41,
   "metadata": {},
   "outputs": [],
   "source": [
    "# \\S -> whitespace 가 아닌 문자\n",
    "if re.match('[\\S]' , ' \\t\\n\\r\\f\\v'): print('1. 매치된다')\n",
    "if re.match('[\\S]' , ' a \\t\\n\\r\\f\\v'): print('2. 매치된다')"
   ]
  },
  {
   "cell_type": "code",
   "execution_count": 42,
   "metadata": {},
   "outputs": [],
   "source": [
    "# \\w -> 문자, 숫자와 매치 : [ㄱ-힣a-zA-Z0-9], 언어면 다 ok"
   ]
  },
  {
   "cell_type": "code",
   "execution_count": 43,
   "metadata": {},
   "outputs": [],
   "source": [
    "# \\W -> 문자, 숫자가 아닌 문자와 매치, 특수문자, 이스케이프 문자\n",
    "# [ㄱ-힣a-zA-Z0-9]"
   ]
  },
  {
   "cell_type": "code",
   "execution_count": 44,
   "metadata": {},
   "outputs": [
    {
     "name": "stdout",
     "output_type": "stream",
     "text": [
      "1. 매치된다\n",
      "2. 매치된다\n",
      "3. 매치된다\n",
      "4. 매치된다\n",
      "7. 매치된다\n"
     ]
    }
   ],
   "source": [
    "if re.match('[\\w]' , 'a0'): print('1. 매치된다')\n",
    "if re.match('[\\w]' , 'ㅁ'): print('2. 매치된다')\n",
    "if re.match('[\\w]' , '1'): print('3. 매치된다')\n",
    "if re.match('[\\w]' , 'ㅁ'): print('4. 매치된다')\n",
    "if re.match('[\\W]' , 'a0'): print('5. 매치된다')\n",
    "if re.match('[\\W]' , 'ㅁ'): print('6. 매치된다')\n",
    "if re.match('[\\W]' , '\\t'): print('7. 매치된다')\n",
    "if re.match('[\\W]' , 'ㅁ'): print('8. 매치된다')"
   ]
  },
  {
   "cell_type": "code",
   "execution_count": 45,
   "metadata": {},
   "outputs": [
    {
     "name": "stdout",
     "output_type": "stream",
     "text": [
      "abc가나다\t]\n",
      "라\n"
     ]
    }
   ],
   "source": [
    "a = 'abc가나다\\t]\\n라'\n",
    "print(a)"
   ]
  },
  {
   "cell_type": "code",
   "execution_count": 46,
   "metadata": {},
   "outputs": [
    {
     "name": "stdout",
     "output_type": "stream",
     "text": [
      "abc가나다\\t]\\n라 <class 'str'>\n"
     ]
    }
   ],
   "source": [
    "# 만약 데이터 그대로 받고 싶으면\n",
    "# Raw String\n",
    "# 이스케이프 문자가 적용되지 않는다\n",
    "a = r'abc가나다\\t]\\n라'\n",
    "print(a, type(a))\n"
   ]
  },
  {
   "cell_type": "code",
   "execution_count": 47,
   "metadata": {},
   "outputs": [
    {
     "data": {
      "text/plain": [
       "re.compile(r'\\bclass\\b', re.UNICODE)"
      ]
     },
     "execution_count": 47,
     "metadata": {},
     "output_type": "execute_result"
    }
   ],
   "source": [
    "# \\b 단어구분자 (word boundary)\n",
    "# 일반 단어는 whitespace로 구분 된다\n",
    "# \\b 는 일반단어에서 백키로 인식한다. 이 자체를 그대로 인식하게 하기 위해\n",
    "# raw string 으로 표현해야 한다\n",
    "p = re.compile(r'\\bclass\\b')\n",
    "p"
   ]
  },
  {
   "cell_type": "code",
   "execution_count": 48,
   "metadata": {},
   "outputs": [
    {
     "name": "stdout",
     "output_type": "stream",
     "text": [
      "\\bclass\\b\n"
     ]
    }
   ],
   "source": [
    "print(r'\\bclass\\b')"
   ]
  },
  {
   "cell_type": "code",
   "execution_count": 49,
   "metadata": {
    "scrolled": true
   },
   "outputs": [
    {
     "name": "stdout",
     "output_type": "stream",
     "text": [
      "<re.Match object; span=(3, 8), match='class'> class\n"
     ]
    }
   ],
   "source": [
    "m = p.search('no class    at 25th Dec')\n",
    "print(m, m.group())"
   ]
  },
  {
   "cell_type": "code",
   "execution_count": 50,
   "metadata": {},
   "outputs": [
    {
     "name": "stdout",
     "output_type": "stream",
     "text": [
      "찾을 값이 없다 None\n"
     ]
    }
   ],
   "source": [
    "m = p.search('no_class at 12.25')\n",
    "if not m:\n",
    "    print('찾을 값이 없다', m)\n",
    "else:\n",
    "    print('찾을 값이 있다')"
   ]
  },
  {
   "cell_type": "markdown",
   "metadata": {},
   "source": [
    "### 함수\n",
    "\n",
    "- match()\n",
    "    - 문자열의 처음부터 정규식과 매칭되는지 조사\n",
    "- search()\n",
    "    - 문자열 전체를 검색하여 매칭되는지 조사\n",
    "- findall()\n",
    "    - 정규식에 매칭되는 모든 문자열을 리스트로 리턴\n",
    "- finditer()\n",
    "    - 정규식에 매칭되는 모든 문자열을 iterator로 리턴\n",
    "- sub()\n",
    "    - 규칙과 매칭되는 부분을 다른 문자로 변경"
   ]
  },
  {
   "cell_type": "code",
   "execution_count": 51,
   "metadata": {},
   "outputs": [],
   "source": [
    "# 숫자가 나오고, 0-무한대로 반복가능\n",
    "p = re.compile('[0-9]+')"
   ]
  },
  {
   "cell_type": "code",
   "execution_count": 52,
   "metadata": {},
   "outputs": [],
   "source": [
    "r = p.match('abcd5')"
   ]
  },
  {
   "cell_type": "code",
   "execution_count": 53,
   "metadata": {},
   "outputs": [
    {
     "name": "stdout",
     "output_type": "stream",
     "text": [
      "None\n"
     ]
    }
   ],
   "source": [
    "print(r)"
   ]
  },
  {
   "cell_type": "code",
   "execution_count": 54,
   "metadata": {},
   "outputs": [
    {
     "name": "stdout",
     "output_type": "stream",
     "text": [
      "<re.Match object; span=(0, 3), match='123'>\n",
      "<built-in method group of re.Match object at 0x0000023F21EF66C0> 일치되는 데이터가 나온다\n"
     ]
    }
   ],
   "source": [
    "r = p.match('123')\n",
    "print(r)\n",
    "if r:\n",
    "    print(r.group, '일치되는 데이터가 나온다')"
   ]
  },
  {
   "cell_type": "code",
   "execution_count": 55,
   "metadata": {},
   "outputs": [
    {
     "name": "stdout",
     "output_type": "stream",
     "text": [
      "<re.Match object; span=(0, 3), match='123'>\n",
      "<built-in method group of re.Match object at 0x0000023F21F03880> 일치되는 데이터가 나온다\n"
     ]
    }
   ],
   "source": [
    "r = p.match('123abcd')\n",
    "print(r)\n",
    "if r:\n",
    "    print(r.group, '일치되는 데이터가 나온다')\n",
    "else:\n",
    "    print('일치되는 데이터가 없다')"
   ]
  },
  {
   "cell_type": "code",
   "execution_count": 56,
   "metadata": {},
   "outputs": [
    {
     "data": {
      "text/plain": [
       "str"
      ]
     },
     "execution_count": 56,
     "metadata": {},
     "output_type": "execute_result"
    }
   ],
   "source": [
    "data = 'i am a human. 2020가나다롻맑!@#$'\n",
    "#소문자만 찾아서 소문자 글자 리스트를 리턴\n",
    "p = re.compile('[a-z]+')\n",
    "type(data)"
   ]
  },
  {
   "cell_type": "code",
   "execution_count": 57,
   "metadata": {},
   "outputs": [
    {
     "data": {
      "text/plain": [
       "<function Match.group>"
      ]
     },
     "execution_count": 57,
     "metadata": {},
     "output_type": "execute_result"
    }
   ],
   "source": [
    "r = p.match(data)\n",
    "r.group"
   ]
  },
  {
   "cell_type": "code",
   "execution_count": 58,
   "metadata": {},
   "outputs": [
    {
     "name": "stdout",
     "output_type": "stream",
     "text": [
      "<class 'list'>\n"
     ]
    }
   ],
   "source": [
    "print(type(p.findall(data)))"
   ]
  },
  {
   "cell_type": "code",
   "execution_count": 59,
   "metadata": {
    "scrolled": false
   },
   "outputs": [
    {
     "name": "stdout",
     "output_type": "stream",
     "text": [
      "['i', 'am', 'a', 'human']\n",
      "i\n",
      "am\n",
      "a\n",
      "human\n"
     ]
    }
   ],
   "source": [
    "if type(p.findall(data)):\n",
    "    a = p.findall(data)\n",
    "    print(a)\n",
    "for n in a:\n",
    "    #print(n.group(), n.start(), n.end(), n.span())\n",
    "    print(n)"
   ]
  },
  {
   "cell_type": "code",
   "execution_count": 60,
   "metadata": {},
   "outputs": [
    {
     "data": {
      "text/plain": [
       "['i', 'am', 'a', 'human']"
      ]
     },
     "execution_count": 60,
     "metadata": {},
     "output_type": "execute_result"
    }
   ],
   "source": [
    "#문자열 나누기, 합하기\n",
    "tmp = '|'.join(a)\n",
    "tmp1 = tmp.split('|')\n",
    "tmp1"
   ]
  },
  {
   "cell_type": "code",
   "execution_count": 61,
   "metadata": {},
   "outputs": [
    {
     "name": "stdout",
     "output_type": "stream",
     "text": [
      "i am a human. 2020가나다롻맑!@#$\n",
      "i 0 1 (0, 1)\n",
      "am 2 4 (2, 4)\n",
      "a 5 6 (5, 6)\n",
      "human 7 12 (7, 12)\n"
     ]
    }
   ],
   "source": [
    "print(data)\n",
    "r = p.finditer(data)\n",
    "for n in r:\n",
    "    print(n.group(), n.start(), n.end(), n.span())"
   ]
  },
  {
   "cell_type": "code",
   "execution_count": 62,
   "metadata": {},
   "outputs": [],
   "source": [
    "# 매치되는 부분을 다른 문자로 변경\n",
    "# ( A or B or C ) => 그룹화\n",
    "p = re.compile( '(blue|red|white|)')"
   ]
  },
  {
   "cell_type": "code",
   "execution_count": 63,
   "metadata": {},
   "outputs": [
    {
     "data": {
      "text/plain": [
       "'색상색상 색상케색상이색상크색상 색상그색상리색상고색상 색상색상 색상w색상i색상n색상e색상을색상 색상가색상지색상고색상 색상집색상에색상가색상세색상요색상'"
      ]
     },
     "execution_count": 63,
     "metadata": {},
     "output_type": "execute_result"
    }
   ],
   "source": [
    "# 문자열 대체\n",
    "p.sub('색상', 'white 케이크 그리고 red wine을 가지고 집에가세요')"
   ]
  },
  {
   "cell_type": "code",
   "execution_count": 64,
   "metadata": {},
   "outputs": [],
   "source": [
    "p = re.compile('(a|b)')"
   ]
  },
  {
   "cell_type": "code",
   "execution_count": 65,
   "metadata": {},
   "outputs": [
    {
     "data": {
      "text/plain": [
       "'색상 케이크 그리고 색상색상색상을 가지고 집에가세요'"
      ]
     },
     "execution_count": 65,
     "metadata": {},
     "output_type": "execute_result"
    }
   ],
   "source": [
    "# 문자열 대체\n",
    "p.sub('색상', 'a 케이크 그리고 abb을 가지고 집에가세요')"
   ]
  },
  {
   "cell_type": "code",
   "execution_count": 66,
   "metadata": {},
   "outputs": [
    {
     "data": {
      "text/plain": [
       "' 케이크 그리고 을 가지고 집에가세요'"
      ]
     },
     "execution_count": 66,
     "metadata": {},
     "output_type": "execute_result"
    }
   ],
   "source": [
    "# 문자열 대체할게 없으면 제거\n",
    "p.sub('', 'a 케이크 그리고 aa을 가지고 집에가세요')"
   ]
  },
  {
   "cell_type": "code",
   "execution_count": 78,
   "metadata": {},
   "outputs": [
    {
     "data": {
      "text/plain": [
       "('\\n \"Boy With Luv\" (Korean: 작은 것들을 위한 시; RR: Jageun geotdeureu', 503)"
      ]
     },
     "execution_count": 78,
     "metadata": {},
     "output_type": "execute_result"
    }
   ],
   "source": [
    "test_txt = '''\n",
    " \"Boy With Luv\" (Korean: 작은 것들을 위한 시; RR: Jageun geotdeureul wihan si),\n",
    " featuring American singer Halsey.[202] The EP's release was followed by a perfo\n",
    " rmance on Saturday Night Live, as the first Korean act to do so.[203] The group\n",
    " 's appearance was anticipated as one of the biggest in the show's history.[204]\n",
    " Commercially, BTS reached new career heights. Map of the Soul: Persona became t\n",
    " he first Korean-language album to reach the number one position in both the UK\n",
    " and Australia[205][206] \n",
    "'''\n",
    "test_txt[:60], len(test_txt)"
   ]
  },
  {
   "cell_type": "code",
   "execution_count": 79,
   "metadata": {},
   "outputs": [
    {
     "data": {
      "text/plain": [
       "'\\n \"Boy With Luv\" (Korean: 작은 것들을 위한 시; RR: Jageun geotdeureul wihan si),\\n featuring American singer '"
      ]
     },
     "execution_count": 79,
     "metadata": {},
     "output_type": "execute_result"
    }
   ],
   "source": [
    "# 언어권 유니코드는 \\u-\\u값\n",
    "# 16진구로 특수문자 범위 표시 \\x-\\x값\n",
    "han = re.compile('ㄱ-힣\\x3A-\\x3F')\n",
    "a= han.sub('', test_txt)[:100]\n",
    "a"
   ]
  },
  {
   "cell_type": "code",
   "execution_count": 77,
   "metadata": {},
   "outputs": [
    {
     "data": {
      "text/plain": [
       "'\\n \"Boy With Luv\" (Korean: 작은 것들을 위한 시; RR: Jageun geotdeureul wihan si),\\n featuring American singer Halsey.[202] The EP\\'s release was followed by a perfo\\n rmance on Saturday Night Live, as the first Korean act to do so.[203] The group\\n \\'s appearance was anticipated as one of the biggest in the show\\'s history.[204]\\n Commercially, BTS reached new career heights. Map of the Soul: Persona became t\\n he first Korean-language album to reach the number one position in both the UK\\n and Australia[205][206] \\n'"
      ]
     },
     "execution_count": 77,
     "metadata": {},
     "output_type": "execute_result"
    }
   ],
   "source": [
    "# 한글\n",
    "# 문자 클래스 내에 특수문자 표기 앞에 w를 추가해도 되고, 빼도 된다.\n",
    "# ascii를 이용하여 특수문자의 값 범위 활용 하여 제거 가능\n",
    "# 비 영어권은 유니코드 혹은 완성형 코드의 수치값 범위를 활용하여 제거\n",
    "\n",
    "a= han.sub('', test_txt)\n",
    "a"
   ]
  },
  {
   "cell_type": "markdown",
   "metadata": {},
   "source": [
    "### 그룹핑\n",
    "\n",
    "- 그룹을 만들어주는 메타 문자()\n"
   ]
  },
  {
   "cell_type": "code",
   "execution_count": 70,
   "metadata": {},
   "outputs": [],
   "source": [
    "p = re.compile('(123)+')"
   ]
  },
  {
   "cell_type": "code",
   "execution_count": 71,
   "metadata": {},
   "outputs": [
    {
     "data": {
      "text/plain": [
       "<re.Match object; span=(0, 12), match='123123123123'>"
      ]
     },
     "execution_count": 71,
     "metadata": {},
     "output_type": "execute_result"
    }
   ],
   "source": [
    "m = p.search('123123123123 123123123 123123 321321 check?')\n",
    "m"
   ]
  },
  {
   "cell_type": "code",
   "execution_count": 72,
   "metadata": {},
   "outputs": [
    {
     "data": {
      "text/plain": [
       "('123123123123', '123123123123', '123')"
      ]
     },
     "execution_count": 72,
     "metadata": {},
     "output_type": "execute_result"
    }
   ],
   "source": [
    "m.group(), m.group(0), m.group(1) #, m.group(2)"
   ]
  },
  {
   "cell_type": "code",
   "execution_count": 73,
   "metadata": {},
   "outputs": [
    {
     "name": "stdout",
     "output_type": "stream",
     "text": [
      "123123123123\n",
      "123\n"
     ]
    },
    {
     "ename": "IndexError",
     "evalue": "no such group",
     "output_type": "error",
     "traceback": [
      "\u001b[1;31m---------------------------------------------------------------------------\u001b[0m",
      "\u001b[1;31mIndexError\u001b[0m                                Traceback (most recent call last)",
      "\u001b[1;32m<ipython-input-73-573b920247a7>\u001b[0m in \u001b[0;36m<module>\u001b[1;34m\u001b[0m\n\u001b[0;32m      1\u001b[0m \u001b[1;32mfor\u001b[0m \u001b[0mn\u001b[0m \u001b[1;32min\u001b[0m \u001b[0mrange\u001b[0m\u001b[1;33m(\u001b[0m\u001b[1;36m0\u001b[0m\u001b[1;33m,\u001b[0m \u001b[0mlen\u001b[0m\u001b[1;33m(\u001b[0m\u001b[0mm\u001b[0m\u001b[1;33m.\u001b[0m\u001b[0mgroup\u001b[0m\u001b[1;33m(\u001b[0m\u001b[1;33m)\u001b[0m\u001b[1;33m)\u001b[0m\u001b[1;33m)\u001b[0m\u001b[1;33m:\u001b[0m\u001b[1;33m\u001b[0m\u001b[1;33m\u001b[0m\u001b[0m\n\u001b[1;32m----> 2\u001b[1;33m     \u001b[0mprint\u001b[0m\u001b[1;33m(\u001b[0m\u001b[0mm\u001b[0m\u001b[1;33m.\u001b[0m\u001b[0mgroup\u001b[0m\u001b[1;33m(\u001b[0m\u001b[0mn\u001b[0m\u001b[1;33m)\u001b[0m\u001b[1;33m)\u001b[0m\u001b[1;33m\u001b[0m\u001b[1;33m\u001b[0m\u001b[0m\n\u001b[0m",
      "\u001b[1;31mIndexError\u001b[0m: no such group"
     ]
    }
   ],
   "source": [
    "for n in range(0, len(m.group())):\n",
    "    print(m.group(n))"
   ]
  },
  {
   "cell_type": "markdown",
   "metadata": {},
   "source": [
    "- m.group()\n",
    "    - 매칭된 모든 문자열\n",
    "- m.group(1)\n",
    "    - 1번째 그룹의 문자열\n",
    "- m.group(2)\n",
    "- m.group(n)\n",
    "    - n번째 그룹의 문자열"
   ]
  },
  {
   "cell_type": "code",
   "execution_count": null,
   "metadata": {},
   "outputs": [],
   "source": [
    "# 이 표현대로 문자열을 표현한다면?\n",
    "# 문자\n",
    "# \n",
    "# 숫자-숫자-숫자\n",
    "p = re.compile(r'\\w+\\s+\\d+[-]\\d+[-]\\d+')"
   ]
  },
  {
   "cell_type": "code",
   "execution_count": null,
   "metadata": {},
   "outputs": [],
   "source": [
    "p"
   ]
  },
  {
   "cell_type": "code",
   "execution_count": null,
   "metadata": {},
   "outputs": [],
   "source": [
    "m = p.search('!@#$ 부산대역 010-1234-5678 abcd')"
   ]
  },
  {
   "cell_type": "code",
   "execution_count": null,
   "metadata": {},
   "outputs": [],
   "source": [
    "m.group()"
   ]
  },
  {
   "cell_type": "code",
   "execution_count": null,
   "metadata": {},
   "outputs": [],
   "source": [
    "# 그룹이 없다 -> 정규식에 그룹화 표현이 없다\n",
    "m.groups()"
   ]
  },
  {
   "cell_type": "code",
   "execution_count": null,
   "metadata": {},
   "outputs": [],
   "source": [
    "m.group(0)"
   ]
  },
  {
   "cell_type": "code",
   "execution_count": null,
   "metadata": {},
   "outputs": [],
   "source": [
    "m.group().split()[1].split('-')[1]"
   ]
  },
  {
   "cell_type": "code",
   "execution_count": null,
   "metadata": {},
   "outputs": [],
   "source": [
    "# 위의 방식은 정규식 자체가 그룹화 되지않아서\n",
    "# 세부 정보를 취할 수가 없다. 그룹화를 이용하면 \n",
    "# 상세 정보를 그룹별로 취할 수가 있어서 데이터를 취하기 용이"
   ]
  },
  {
   "cell_type": "code",
   "execution_count": null,
   "metadata": {},
   "outputs": [],
   "source": [
    "p = re.compile(r'(\\w+)\\s+(\\d+[-]\\d+[-]\\d+)')\n",
    "m = p.search('!@#$부산대역 010-1234-5678 abcd')"
   ]
  },
  {
   "cell_type": "code",
   "execution_count": null,
   "metadata": {},
   "outputs": [],
   "source": [
    "m.group()"
   ]
  },
  {
   "cell_type": "code",
   "execution_count": null,
   "metadata": {},
   "outputs": [],
   "source": [
    "m.groups(), m.groups(1), m.group(2)"
   ]
  },
  {
   "cell_type": "code",
   "execution_count": null,
   "metadata": {},
   "outputs": [],
   "source": [
    "# for n in range(1, 3):\n",
    "for n in range(1, len(m.groups())+1):\n",
    "    print(m.group(n))"
   ]
  },
  {
   "cell_type": "code",
   "execution_count": null,
   "metadata": {},
   "outputs": [],
   "source": [
    "# 전화번호 상세 정보가 그룹화 되어있지 않다\n",
    "# 그룹안에 그룹화 처리를 하면 자동 분류가 된다\n",
    "p = re.compile(r'(\\w+)\\s+((\\d)+[-](\\d+)[-](\\d+))')\n",
    "m = p.search('!@#$부산대역 010-1234-5678 abcd')"
   ]
  },
  {
   "cell_type": "code",
   "execution_count": null,
   "metadata": {},
   "outputs": [],
   "source": [
    "for n in range(1, len(m.groups())+1):\n",
    "    print(m.group(n))"
   ]
  },
  {
   "cell_type": "markdown",
   "metadata": {},
   "source": [
    "#### 그룹핑 된 문자열의 재참조\n",
    "\n",
    "- 그룹핑 : 첫번째 그룹, 두번째 그룹, 세번째 그룹 ..\n",
    "- \\1, \\2, \\3, ...\n",
    "\n"
   ]
  },
  {
   "cell_type": "code",
   "execution_count": 14,
   "metadata": {},
   "outputs": [],
   "source": [
    "# 정규식 형태도 값도 일치할때\n",
    "# (\\b\\w+)을 충족하면서 같은 값을 가진것만\n",
    "p = re.compile( r'(\\b\\w+)\\s+\\1') # =r'(\\b\\w+)\\s+(\\b\\w+)'\n",
    "m = p.search('pandas pandas pandas scipy pandas')"
   ]
  },
  {
   "cell_type": "code",
   "execution_count": 15,
   "metadata": {},
   "outputs": [
    {
     "data": {
      "text/plain": [
       "'pandas pandas'"
      ]
     },
     "execution_count": 15,
     "metadata": {},
     "output_type": "execute_result"
    }
   ],
   "source": [
    "m.group()"
   ]
  },
  {
   "cell_type": "code",
   "execution_count": 16,
   "metadata": {},
   "outputs": [
    {
     "data": {
      "text/plain": [
       "('pandas',)"
      ]
     },
     "execution_count": 16,
     "metadata": {},
     "output_type": "execute_result"
    }
   ],
   "source": [
    "m.groups()"
   ]
  },
  {
   "cell_type": "code",
   "execution_count": 17,
   "metadata": {},
   "outputs": [],
   "source": [
    "# (?P<이름>정규식)\n",
    "p = re.compile(r'(?P<NAME>\\w)\\s+(\\d+[-]\\d+[-]\\d+)')\n",
    "m = p.search( '부산대역 010-1234-5678')"
   ]
  },
  {
   "cell_type": "code",
   "execution_count": 18,
   "metadata": {},
   "outputs": [
    {
     "data": {
      "text/plain": [
       "('역', '010-1234-5678')"
      ]
     },
     "execution_count": 18,
     "metadata": {},
     "output_type": "execute_result"
    }
   ],
   "source": [
    "m.groups()"
   ]
  },
  {
   "cell_type": "code",
   "execution_count": 19,
   "metadata": {},
   "outputs": [
    {
     "data": {
      "text/plain": [
       "('역', '역')"
      ]
     },
     "execution_count": 19,
     "metadata": {},
     "output_type": "execute_result"
    }
   ],
   "source": [
    "# 이름을 부여하면, 순서를 몰라도 된다\n",
    "m.group(1), m.group('NAME')"
   ]
  },
  {
   "cell_type": "markdown",
   "metadata": {},
   "source": [
    "#### 자기 참조를 햇는데 이름이 있다"
   ]
  },
  {
   "cell_type": "code",
   "execution_count": 20,
   "metadata": {},
   "outputs": [],
   "source": [
    "p = re.compile( r'(?P<BS>\\b\\w+)\\s+(?P=BS)')\n",
    "m = p.search('pandas pandas pandas scipy pandas')"
   ]
  },
  {
   "cell_type": "code",
   "execution_count": 21,
   "metadata": {},
   "outputs": [
    {
     "data": {
      "text/plain": [
       "<re.Match object; span=(0, 13), match='pandas pandas'>"
      ]
     },
     "execution_count": 21,
     "metadata": {},
     "output_type": "execute_result"
    }
   ],
   "source": [
    "m"
   ]
  },
  {
   "cell_type": "markdown",
   "metadata": {},
   "source": [
    "### 컴파일 옵션\n",
    "\n",
    "- re.compile('정규식', 옵션)\n",
    "- DOTALL      (=S)\n",
    "    - 모든 문자에 대비(\\n 제외)\n",
    "- IGNORECASE (=I)\n",
    "    - 대소문자 구분없이 매칭\n",
    "- MULTILINE  (=M)\n",
    "     - 여러줄 매칭(match)\n",
    "- VERBOSE    (=X)\n",
    "    - 복잡한 정규식을 사용하면 해석이 어렵다\n",
    "    - 정규식을 펼쳐서 각표현별로 주석을 달거나 등등 할 수 있다"
   ]
  },
  {
   "cell_type": "markdown",
   "metadata": {},
   "source": [
    "#### DOTALL, S"
   ]
  },
  {
   "cell_type": "code",
   "execution_count": 30,
   "metadata": {},
   "outputs": [
    {
     "name": "stdout",
     "output_type": "stream",
     "text": [
      "a|b\n",
      "None\n",
      "a\tb\n",
      "acb\n"
     ]
    }
   ],
   "source": [
    "p = re.compile('a.b')\n",
    "print(p.match('a|b').group())\n",
    "print(p.match('a\\nb')) # \\n 빼고 사용가능\n",
    "print(p.match('a\\tb').group())\n",
    "print(p.match('acb').group())"
   ]
  },
  {
   "cell_type": "code",
   "execution_count": 46,
   "metadata": {},
   "outputs": [
    {
     "name": "stdout",
     "output_type": "stream",
     "text": [
      "a|b\n",
      "a\n",
      "b\n"
     ]
    }
   ],
   "source": [
    "p = re.compile('a.b', re.DOTALL)\n",
    "print(p.match('a|b').group())\n",
    "print(p.match('a\\nb').group())"
   ]
  },
  {
   "cell_type": "code",
   "execution_count": 34,
   "metadata": {},
   "outputs": [
    {
     "name": "stdout",
     "output_type": "stream",
     "text": [
      "a|b\n",
      "a\n",
      "b\n"
     ]
    }
   ],
   "source": [
    "p = re.compile('a.b', re.S) \n",
    "print(p.match('a|b').group())\n",
    "print(p.match('a\\nb').group())"
   ]
  },
  {
   "cell_type": "markdown",
   "metadata": {},
   "source": [
    "#### IGNORECASE, I"
   ]
  },
  {
   "cell_type": "code",
   "execution_count": 41,
   "metadata": {},
   "outputs": [
    {
     "name": "stdout",
     "output_type": "stream",
     "text": [
      "p\n",
      "P\n",
      "P\n",
      "None\n"
     ]
    }
   ],
   "source": [
    "p = re.compile('[a-z]', re.I) # 글자 하나만 정규 하면 결과는 p, P..\n",
    "print(p.match('python').group())\n",
    "print(p.match('Python').group())\n",
    "print(p.match('PYTHON').group())\n",
    "print(p.match('1PYTHON'))"
   ]
  },
  {
   "cell_type": "markdown",
   "metadata": {},
   "source": [
    "#### VERBOSE, X"
   ]
  },
  {
   "cell_type": "code",
   "execution_count": 42,
   "metadata": {},
   "outputs": [
    {
     "data": {
      "text/plain": [
       "re.compile(r'(0[0-7]+|[0-9]+Ix[0-9a-fA-F]+);', re.UNICODE)"
      ]
     },
     "execution_count": 42,
     "metadata": {},
     "output_type": "execute_result"
    }
   ],
   "source": [
    "# 정규식을 이해하는데 시간이 걸린다.\n",
    "#() 그룹 ;새미콜론으로 끝난다\n",
    "re.compile(r'(0[0-7]+|[0-9]+Ix[0-9a-fA-F]+);')\n"
   ]
  },
  {
   "cell_type": "code",
   "execution_count": 43,
   "metadata": {},
   "outputs": [
    {
     "data": {
      "text/plain": [
       "re.compile(r'(0[0-7]+|[0-9]+Ix[0-9a-fA-F]+);', re.UNICODE|re.VERBOSE)"
      ]
     },
     "execution_count": 43,
     "metadata": {},
     "output_type": "execute_result"
    }
   ],
   "source": [
    "re.compile(r\"\"\"\n",
    "(              # 그룹핑 시작\n",
    "0[0-7]+        # 8진수\n",
    "|              # 'or' 혹은\n",
    "[0-9]+         # 10진수\n",
    "I\n",
    "x[0-9a-fA-F]+  # 16진수\n",
    ")              # 그룹핑 끝\n",
    ";\n",
    "\"\"\", re.VERBOSE)"
   ]
  },
  {
   "cell_type": "markdown",
   "metadata": {},
   "source": [
    "### 전방탐색 (Lookahead Assertions)\n",
    "\n",
    "\n",
    "- (assert 주장하다)\n",
    "- Positive\n",
    "    - 긍정형 전방 탐색 (?= ..)\n",
    "- Negative \n",
    "    - 부정형 전방 탐색 (?! ..)"
   ]
  },
  {
   "cell_type": "code",
   "execution_count": 48,
   "metadata": {},
   "outputs": [
    {
     "data": {
      "text/plain": [
       "<re.Match object; span=(0, 4), match='http'>"
      ]
     },
     "execution_count": 48,
     "metadata": {},
     "output_type": "execute_result"
    }
   ],
   "source": [
    "# http://m.naver.com\n",
    "# http://ID:PW@m.naver.com\n",
    "# OSI 7 Layter의 3/4계층 TCP/IP의 프로토콜 규격\n",
    "# 실습 = http를 획득해라"
   ]
  },
  {
   "cell_type": "code",
   "execution_count": 47,
   "metadata": {},
   "outputs": [
    {
     "data": {
      "text/plain": [
       "'http:'"
      ]
     },
     "execution_count": 47,
     "metadata": {},
     "output_type": "execute_result"
    }
   ],
   "source": [
    "p = re.compile('.+:')\n",
    "#줄바꿈 제외한 모든문자가능, 한개이상, 콜론으로 끝난다\n",
    "m = p.search('http://m.naver.com')\n",
    "m.group()"
   ]
  },
  {
   "cell_type": "code",
   "execution_count": 52,
   "metadata": {},
   "outputs": [
    {
     "data": {
      "text/plain": [
       "'http'"
      ]
     },
     "execution_count": 52,
     "metadata": {},
     "output_type": "execute_result"
    }
   ],
   "source": [
    "# http, https, smtp, ftp등 프로토콜명만 원한다\n",
    "# 전방탐색은 정규식 표현이 까다롭고, 그룹핑 적용도\n",
    "# 다소 어려운 조건일 경우 사요\n",
    "# 긍정형 전방 탐색\n",
    "# 여기서는 :을 기준으로 앞쪽을 탐색한다.\n",
    "p = re.compile('.+(?=:)')\n",
    "m = p.search('http://m.naver.com')\n",
    "m.group()"
   ]
  },
  {
   "cell_type": "code",
   "execution_count": 53,
   "metadata": {},
   "outputs": [],
   "source": [
    "#  부정형\n",
    "# .*[.].*$  는 파일명\n",
    "# [.] 은 쩜이 한번은 온다. 앞뒤로 글이 0개이상. 확장자가 없어도 가능\n",
    "# 이런 정규식에서 확장자 중에 py, msi가 들어간 파일은 제외\n",
    "# 부정형 전방 탐색\n"
   ]
  },
  {
   "cell_type": "code",
   "execution_count": 55,
   "metadata": {},
   "outputs": [],
   "source": [
    "p = re.compile('.*[.](?!py$|msi$).*$')\n"
   ]
  },
  {
   "cell_type": "code",
   "execution_count": 61,
   "metadata": {
    "scrolled": true
   },
   "outputs": [
    {
     "ename": "AttributeError",
     "evalue": "'str' object has no attribute 'group'",
     "output_type": "error",
     "traceback": [
      "\u001b[1;31m---------------------------------------------------------------------------\u001b[0m",
      "\u001b[1;31mAttributeError\u001b[0m                            Traceback (most recent call last)",
      "\u001b[1;32m<ipython-input-61-6e1bced81fd6>\u001b[0m in \u001b[0;36m<module>\u001b[1;34m\u001b[0m\n\u001b[1;32m----> 1\u001b[1;33m \u001b[0mprint\u001b[0m\u001b[1;33m(\u001b[0m\u001b[0mp\u001b[0m\u001b[1;33m.\u001b[0m\u001b[0msearch\u001b[0m\u001b[1;33m(\u001b[0m\u001b[1;34m'a.hwp'\u001b[0m\u001b[1;33m.\u001b[0m\u001b[0mgroup\u001b[0m\u001b[1;33m(\u001b[0m\u001b[1;33m)\u001b[0m\u001b[1;33m)\u001b[0m\u001b[1;33m)\u001b[0m\u001b[1;33m\u001b[0m\u001b[1;33m\u001b[0m\u001b[0m\n\u001b[0m",
      "\u001b[1;31mAttributeError\u001b[0m: 'str' object has no attribute 'group'"
     ]
    }
   ],
   "source": [
    "print(p.search('a.hwp'.group()))"
   ]
  },
  {
   "cell_type": "code",
   "execution_count": 58,
   "metadata": {},
   "outputs": [
    {
     "name": "stdout",
     "output_type": "stream",
     "text": [
      "None\n"
     ]
    }
   ],
   "source": [
    "print(p.search('a.py'))"
   ]
  },
  {
   "cell_type": "code",
   "execution_count": 60,
   "metadata": {
    "scrolled": true
   },
   "outputs": [
    {
     "name": "stdout",
     "output_type": "stream",
     "text": [
      "<re.Match object; span=(0, 4), match='py.a'>\n"
     ]
    }
   ],
   "source": [
    "print(p.search('py.a'))"
   ]
  },
  {
   "cell_type": "code",
   "execution_count": 62,
   "metadata": {},
   "outputs": [
    {
     "name": "stdout",
     "output_type": "stream",
     "text": [
      "None\n"
     ]
    }
   ],
   "source": [
    "print(p.search('a.msi'))"
   ]
  },
  {
   "cell_type": "code",
   "execution_count": 64,
   "metadata": {},
   "outputs": [
    {
     "name": "stdout",
     "output_type": "stream",
     "text": [
      "<re.Match object; span=(0, 5), match='a.MSI'>\n"
     ]
    }
   ],
   "source": [
    "print(p.search('a.MSI'))"
   ]
  },
  {
   "cell_type": "markdown",
   "metadata": {},
   "source": [
    "#### 실습\n",
    "\n",
    "- 주민번호 필터링\n",
    "- 001111-4123456 을(00년생은 뒷자리3,4로 시작)\n",
    "- 001111-4****** 으로 바꾸기"
   ]
  },
  {
   "cell_type": "code",
   "execution_count": 107,
   "metadata": {},
   "outputs": [],
   "source": [
    "# 숫자의 의미를 분석하여 정규식을 정하는 부분은 제외\n",
    "p = re.compile('[-]')\n",
    "p = re.compile('(\\d{6})[-]\\d{7,7}') #그룹핑하면 편리"
   ]
  },
  {
   "cell_type": "code",
   "execution_count": 108,
   "metadata": {},
   "outputs": [],
   "source": [
    "data = '''\n",
    "MBC 940101-1234567\n",
    "KBS 950101-3234556\n",
    "'''"
   ]
  },
  {
   "cell_type": "code",
   "execution_count": 109,
   "metadata": {},
   "outputs": [
    {
     "name": "stdout",
     "output_type": "stream",
     "text": [
      "\n",
      "MBC 940101-*******\n",
      "KBS 950101-*******\n",
      "\n"
     ]
    }
   ],
   "source": [
    "# \\g 는 <n>번째 그룹을 참조\n",
    "print(p.sub( '\\g<1>-*******', data)) # 정규식에 맞는것을 대체"
   ]
  },
  {
   "cell_type": "code",
   "execution_count": 122,
   "metadata": {},
   "outputs": [],
   "source": [
    "# '안의' 대괄호 없어도 가능\n",
    "p = re.compile('(\\d{6})[-]([\\d])\\d{6,6}') \n",
    "p = re.compile('(\\d{6})-(\\d)\\d{6}')"
   ]
  },
  {
   "cell_type": "code",
   "execution_count": 123,
   "metadata": {},
   "outputs": [
    {
     "name": "stdout",
     "output_type": "stream",
     "text": [
      "\n",
      "MBC 940101-1******\n",
      "KBS 950101-3******\n",
      "\n"
     ]
    }
   ],
   "source": [
    "# \\g<2> : 1번 그룹 참조\n",
    "print(p.sub( '\\g<1>-\\g<2>******', data))"
   ]
  },
  {
   "cell_type": "code",
   "execution_count": 126,
   "metadata": {},
   "outputs": [],
   "source": [
    "p = re.compile('(\\d{6})-(3|4)\\d{6}')"
   ]
  },
  {
   "cell_type": "code",
   "execution_count": 127,
   "metadata": {},
   "outputs": [
    {
     "name": "stdout",
     "output_type": "stream",
     "text": [
      "\n",
      "MBC 940101-1234567\n",
      "KBS 950101-3******\n",
      "\n"
     ]
    }
   ],
   "source": [
    "print(p.sub( '\\g<1>-\\g<2>******', data))\n"
   ]
  },
  {
   "cell_type": "code",
   "execution_count": 128,
   "metadata": {},
   "outputs": [
    {
     "data": {
      "text/plain": [
       "re.compile(r'input()', re.UNICODE)"
      ]
     },
     "execution_count": 128,
     "metadata": {},
     "output_type": "execute_result"
    }
   ],
   "source": [
    "# ctrl F 찾기 만들기\n",
    "re.compile('input()')"
   ]
  },
  {
   "cell_type": "code",
   "execution_count": null,
   "metadata": {},
   "outputs": [],
   "source": []
  }
 ],
 "metadata": {
  "kernelspec": {
   "display_name": "Python 3",
   "language": "python",
   "name": "python3"
  },
  "language_info": {
   "codemirror_mode": {
    "name": "ipython",
    "version": 3
   },
   "file_extension": ".py",
   "mimetype": "text/x-python",
   "name": "python",
   "nbconvert_exporter": "python",
   "pygments_lexer": "ipython3",
   "version": "3.7.4"
  }
 },
 "nbformat": 4,
 "nbformat_minor": 2
}