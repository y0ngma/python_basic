{
 "cells": [
  {
   "cell_type": "markdown",
   "metadata": {},
   "source": [
    "## Markdown\n",
    "\n",
    "1. d\n",
    "1. s\n",
    "1. a"
   ]
  },
  {
   "cell_type": "markdown",
   "metadata": {},
   "source": [
    "#### 단축키\n",
    "\n",
    "- 마크다운~함수 전환\n",
    "    - m : 마크다운\n",
    "    - y : 코드\n",
    "- 실행하고 셀추가\n",
    "    - alt + enter : 추가하고 다음셀로 가기\n",
    "    - ctrl + enter : 추가하고 현재셀에 있기\n",
    "- 잘라내고 붙여넣기\n",
    "    - x : cut\n",
    "    - v : paste below cell\n",
    "    - shift+v : paste above\n",
    "- 삭제\n",
    "    - d,d : delete cell\n",
    "    - z : undo delete cell\n",
    "- 셀 추가하기\n",
    "    - a add cell above\n",
    "    - b add cell below\n",
    "- 리스팅\n",
    "    - l listing"
   ]
  }
 ],
 "metadata": {
  "kernelspec": {
   "display_name": "Python 3",
   "language": "python",
   "name": "python3"
  },
  "language_info": {
   "codemirror_mode": {
    "name": "ipython",
    "version": 3
   },
   "file_extension": ".py",
   "mimetype": "text/x-python",
   "name": "python",
   "nbconvert_exporter": "python",
   "pygments_lexer": "ipython3",
   "version": "3.7.4"
  }
 },
 "nbformat": 4,
 "nbformat_minor": 2
}
