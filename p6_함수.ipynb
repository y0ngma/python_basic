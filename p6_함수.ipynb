{
 "cells": [
  {
   "cell_type": "markdown",
   "metadata": {},
   "source": [
    "## 함수\n",
    "\n",
    "- 함수\n",
    "    - 종류\n",
    "        - 커스텀함수(사용자지정 함수)\n",
    "            - 개발자의 필요에 의해 정의된 함수\n",
    "        - 내장 함수\n",
    "            - 별도의 추가코드 없이 바로 사용가능한 함수\n",
    "            - index isdecimal() \n",
    "            - 파이썬 설치되어 있으면 전역적인(바로 사용가능)\n",
    "        - 외장 함수(library)\n",
    "            - 소속.함수명()\n",
    "            - 별도의 모듈을 코드에 추가후 모듈을 통해 사용가능\n",
    "            - import time\n",
    "            - time.sleep(1)\n",
    "        - 람다 함수\n",
    "            - 가장 빠른 함수\n",
    "            - 수행문이 하나다\n",
    "            - 특정함수의 인자로 사용. 휘발성 존재\n",
    "            - 연속 데이터 타입들의 맴버들을 하나씩 건들면서 뭔가 작업을 하고\n",
    "            - 대체, 걸러낼때 주로 사용\n",
    "            - 대체 : 파이썬 내장함수 map(), DataFrame의 apply()\n",
    "            - 필터링 : 파이썬 내장함수 filter(), DataFrame의 apply()\n",
    "            - lambda x:x+1\n",
    "        - 클로저\n",
    "            - 함수 안에 함수있다\n",
    "    - 프로그램\n",
    "        - 함수 지향적 프로그램\n",
    "    - 특징\n",
    "        - 함수본질\n",
    "        - 장점\n",
    "            - 재활용성을 높여서 코드를 다이어트, 품질향상\n",
    "            - 생산성 향상 ->빠른제작  ->기업수익률 증가\n",
    "            - 다음 프로젝트때 기존구축된 함수 모듈 존재\n",
    "            - 생산성 향상\n",
    "            - 반복된 코드를 함수로 만들어서 사용성을 높인다\n",
    "            - 복잡성을 줄여 유지보수 용이\n",
    "            - 입력대비 출력이라는 기본기능 수행\n",
    "        - 스타일\n",
    "            - 코드중에 반복구간 -> 함수화\n",
    "            - 로직구현 -> 일반화 연습 -> 함수화\n",
    "            - 한번만 나오지만, 코드가 복잡하여 함수화 -> 작업단위 구분(초기화 등)\n",
    "        - terminology c계열=함수, Java계열=메쏘드"
   ]
  },
  {
   "cell_type": "markdown",
   "metadata": {},
   "source": [
    "#### 단축키\n",
    "\n",
    "- 마크다운~함수 전환\n",
    "    - m : 마크다운\n",
    "    - y : 코드\n",
    "- 잘라내고 붙여넣기\n",
    "    - x : cut\n",
    "    - v : paste below cell\n",
    "    - shift+v : paste above\n",
    "- 삭제\n",
    "    - d,d : delete cell\n",
    "    - z : undo delete cell\n",
    "- 셀 추가하기\n",
    "    - a add cell above\n",
    "    - b add cell below\n",
    "- 리스팅\n",
    "    - l listing"
   ]
  },
  {
   "cell_type": "markdown",
   "metadata": {},
   "source": [
    "### 1. 사용자 정의 함수\n",
    "\n",
    "#### 1.1"
   ]
  },
  {
   "cell_type": "code",
   "execution_count": null,
   "metadata": {},
   "outputs": [],
   "source": [
    "'''\n",
    "- 기본형태\n",
    "- []생략가능하는 표현. 하나~여러개 일 수 있음\n",
    "def 함수명( [인자(매개변수)명, ...]): ##가변인자인지 아닌지 결정\n",
    "    statements ...\n",
    "    [return [value, ...]]\n",
    "'''"
   ]
  },
  {
   "cell_type": "code",
   "execution_count": 13,
   "metadata": {},
   "outputs": [],
   "source": [
    "# 더하기 함수\n",
    "# 함수명 : sum\n",
    "# 입력 : x, y\n",
    "# 출력 : 입력값을 더한 결과\n",
    "#함수의 인자는 타입을 기술하지 않는다 -> 타입추론\n",
    "def sum(x, y):\n",
    "    return x + y\n"
   ]
  },
  {
   "cell_type": "code",
   "execution_count": 7,
   "metadata": {},
   "outputs": [
    {
     "data": {
      "text/plain": [
       "33"
      ]
     },
     "execution_count": 7,
     "metadata": {},
     "output_type": "execute_result"
    }
   ],
   "source": [
    "# 쉬운버전\n",
    "x = 0\n",
    "y = 0\n",
    "def sum(x, y):\n",
    "    j = x + y\n",
    "    return j\n",
    "result = sum(11,22)\n",
    "result"
   ]
  },
  {
   "cell_type": "code",
   "execution_count": 12,
   "metadata": {},
   "outputs": [
    {
     "name": "stdout",
     "output_type": "stream",
     "text": [
      "3\n",
      "6\n",
      "9\n"
     ]
    }
   ],
   "source": [
    "# 함수의 사용은 함수의 호출을 통해서 진행\n",
    "# 호출 : 함수명([인자값, .])\n",
    "# call by value : 호출하고 결과를 받는다\n",
    "result = sum(1,2)\n",
    "print(result)"
   ]
  },
  {
   "cell_type": "code",
   "execution_count": 15,
   "metadata": {},
   "outputs": [],
   "source": [
    "def sum2(x, y):\n",
    "    print(x+y)"
   ]
  },
  {
   "cell_type": "code",
   "execution_count": 16,
   "metadata": {},
   "outputs": [
    {
     "name": "stdout",
     "output_type": "stream",
     "text": [
      "3\n",
      "None\n"
     ]
    }
   ],
   "source": [
    "result = sum2(1, 2)\n",
    "print(result)"
   ]
  },
  {
   "cell_type": "code",
   "execution_count": 17,
   "metadata": {},
   "outputs": [
    {
     "name": "stdout",
     "output_type": "stream",
     "text": [
      "None\n"
     ]
    }
   ],
   "source": [
    "# 함수의 호출의 결과가 None이면 내부에서 return 표현을 생략했다.\n",
    "# 반환작업을 하지 않는다.\n",
    "a=[3, 5, 2, 5, 1]\n",
    "print(a.sort())"
   ]
  },
  {
   "cell_type": "code",
   "execution_count": 18,
   "metadata": {},
   "outputs": [
    {
     "data": {
      "text/plain": [
       "[1, 2, 3, 5, 5]"
      ]
     },
     "execution_count": 18,
     "metadata": {},
     "output_type": "execute_result"
    }
   ],
   "source": [
    "a"
   ]
  },
  {
   "cell_type": "markdown",
   "metadata": {},
   "source": [
    "#### 1.2 가변인자(arguments, params, parameter)"
   ]
  },
  {
   "cell_type": "code",
   "execution_count": 20,
   "metadata": {},
   "outputs": [],
   "source": [
    "# *a : 포인터 a라고 부름\n",
    "def sum3(*a):\n",
    "    print(type(a))\n",
    "    # a :tuple 로 가변인자가 들어온다\n",
    "    # print(type(a))\n",
    "    # 누적합을 리턴하시오. 인자를 모두 더해서 리턴\n",
    "    result = 0\n",
    "    for n in a:\n",
    "        result += n\n",
    "    return result\n",
    "        "
   ]
  },
  {
   "cell_type": "code",
   "execution_count": 21,
   "metadata": {},
   "outputs": [
    {
     "name": "stdout",
     "output_type": "stream",
     "text": [
      "<class 'tuple'>\n",
      "<class 'tuple'>\n",
      "<class 'tuple'>\n"
     ]
    },
    {
     "data": {
      "text/plain": [
       "10"
      ]
     },
     "execution_count": 21,
     "metadata": {},
     "output_type": "execute_result"
    }
   ],
   "source": [
    "\n",
    "sum3(1,2)\n",
    "sum3(1,2,3)\n",
    "sum3(1,2,3,4)"
   ]
  },
  {
   "cell_type": "markdown",
   "metadata": {},
   "source": [
    "#### 1.3 리턴값이 여러개"
   ]
  },
  {
   "cell_type": "code",
   "execution_count": 25,
   "metadata": {},
   "outputs": [],
   "source": [
    "# 누적합과 누적곱 리턴 <= 리턴값이 여러개\n",
    "def sum4(*a):\n",
    "    print(type(a))\n",
    "    result = 0\n",
    "    tmp    = 1 \n",
    "    for n in a:\n",
    "        result += n\n",
    "        tmp *= n\n",
    "    #리턴값이 여러개면 나열하면 된다.\n",
    "    return result, tmp"
   ]
  },
  {
   "cell_type": "code",
   "execution_count": 30,
   "metadata": {},
   "outputs": [
    {
     "name": "stdout",
     "output_type": "stream",
     "text": [
      "<class 'tuple'>\n"
     ]
    },
    {
     "data": {
      "text/plain": [
       "(10, 24)"
      ]
     },
     "execution_count": 30,
     "metadata": {},
     "output_type": "execute_result"
    }
   ],
   "source": [
    "# 튜플로 로턴되고, n개의 변수로 각각 받을 수 있다.\n",
    "a, b = sum4(1, 2, 3, 4)\n",
    "a, b"
   ]
  },
  {
   "cell_type": "markdown",
   "metadata": {},
   "source": [
    "#### 1.4 함수 인자 초기값 부여\n",
    "\n",
    "- 함수의 인자를 일일이 다 채우지 않아도 사용가능\n",
    "- 기본값(초기값)을 부여하여 함수의 사용에 유연성, 인자의 명확성 등을 확보"
   ]
  },
  {
   "cell_type": "code",
   "execution_count": 36,
   "metadata": {},
   "outputs": [],
   "source": [
    "def setHuman(name, age=50, weight=100):\n",
    "    print('이름=%s 나이는%s무게=%s' % (name, age, weight))"
   ]
  },
  {
   "cell_type": "code",
   "execution_count": 37,
   "metadata": {},
   "outputs": [
    {
     "name": "stdout",
     "output_type": "stream",
     "text": [
      "이름=부산대 나이는50무게=100\n"
     ]
    }
   ],
   "source": [
    "# 기본값이 없는 인자는 반드시 데이터를 전달해야 한다.\n",
    "setHuman('부산대')"
   ]
  },
  {
   "cell_type": "code",
   "execution_count": 41,
   "metadata": {},
   "outputs": [
    {
     "name": "stdout",
     "output_type": "stream",
     "text": [
      "이름=부산대 나이는9무게=60\n",
      "이름=부산대 나이는1무게=2\n"
     ]
    }
   ],
   "source": [
    "# 기본값이 있는 부분도 수정하고 싶다면?\n",
    "# 변경하고픈 인자를 지정한다.\n",
    "### 머신러닝에서 하이퍼파라미터들 몇십개들 중 골라서 지정하면 된다.\n",
    "# 매개변수명을 써서 지정하면 딕셔너리\n",
    "# 없이 순서대로 쓰면 \n",
    "setHuman('부산대', weight=60, age=9)\n",
    "setHuman('부산대', 1, 2)"
   ]
  },
  {
   "cell_type": "code",
   "execution_count": 42,
   "metadata": {},
   "outputs": [],
   "source": [
    "# 초기값이 있는 변수를 앞에두고,\n",
    "# 초기값이 없는 매개변수를 뒤로 배치\n",
    "def setHuman(age=50, weight=100, name=None):\n",
    "    print('이름=%s 나이는%s무게=%s' % (name, age, weight))"
   ]
  },
  {
   "cell_type": "code",
   "execution_count": 43,
   "metadata": {},
   "outputs": [
    {
     "name": "stdout",
     "output_type": "stream",
     "text": [
      "이름=None 나이는50무게=100\n"
     ]
    }
   ],
   "source": [
    "setHuman()\n"
   ]
  },
  {
   "cell_type": "markdown",
   "metadata": {},
   "source": [
    "### 2. 내장함수\n",
    "\n",
    "- 함수를 사용하는데 별다른 제약이 없다\n",
    "- 그냥 사용 (어떤 것이 있는지 아는 정도면 된다)\n",
    "    - type(), len(), str(), dict()\n",
    "    - tuple(), set(), index()"
   ]
  },
  {
   "cell_type": "markdown",
   "metadata": {},
   "source": [
    "#### 2.1 파일\n",
    "\n",
    "- 파일, 네트워크, 데이터베이스 등등 => i/o 작업\n",
    "    - 프로그램 밖에 잇는 리소스와 연동할때\n",
    "- ★ 반드시 작업이 끝나면 닫아야 한다.(- 닫는 코드 필요)\n",
    "- 예외 상황이 발생될 수 있다.(예외처리 코드 필요)\n"
   ]
  },
  {
   "cell_type": "code",
   "execution_count": 49,
   "metadata": {},
   "outputs": [],
   "source": [
    "# 파일이 없는데, 내용을 쓰려하면 파일을 만든다.\n",
    "# 어떤 언어나 동일하다\n",
    "# w: 쓰기, r: 읽기\n",
    "# b: 바이너리로(이미지, 영상, 사운드, 문서파일hwp) 읽고 쓰기\n",
    "f = open('test1.txt', 'w')\n",
    "# 2. 파일에 기록\n",
    "f.write('가나다abcABC123!@#') # 깨지면=인코딩문제\n",
    "# 3. 파일 닫기\n",
    "f.close()"
   ]
  },
  {
   "cell_type": "code",
   "execution_count": 76,
   "metadata": {},
   "outputs": [
    {
     "name": "stdout",
     "output_type": "stream",
     "text": [
      "가나다abcABC123!@#\n"
     ]
    }
   ],
   "source": [
    "# 모든 I/O에서 자동으로 닫게 처리해주는 코드\n",
    "# with문~\n",
    "# 원본(함수, 모듈..) as 별칭\n",
    "with open('test1.txt', 'r') as f:\n",
    "    print(f.read())\n",
    "# with문이 끝나면 자동으로 close()가 처리"
   ]
  },
  {
   "cell_type": "markdown",
   "metadata": {},
   "source": [
    "#### 2.2 데이터 처리\n",
    "\n",
    "- map()\n",
    "- filter()"
   ]
  },
  {
   "cell_type": "code",
   "execution_count": 51,
   "metadata": {},
   "outputs": [],
   "source": [
    "data = [1, 2, 3, 4 ,5 ,6 ,7 ,8 ,9]"
   ]
  },
  {
   "cell_type": "code",
   "execution_count": 53,
   "metadata": {},
   "outputs": [
    {
     "data": {
      "text/plain": [
       "[1, 2, 3, 4, 5, 6, 7, 8, 9, 1, 2, 3, 4, 5, 6, 7, 8, 9]"
      ]
     },
     "execution_count": 53,
     "metadata": {},
     "output_type": "execute_result"
    }
   ],
   "source": [
    "# data의 구성요소들 각각의 값 2배로 증가\n",
    "data * 2 \n",
    "# numpy 일땐 벡터 * 스칼라 이므로 가능"
   ]
  },
  {
   "cell_type": "code",
   "execution_count": 56,
   "metadata": {},
   "outputs": [
    {
     "data": {
      "text/plain": [
       "[2, 4, 6, 8, 10, 12, 14, 16, 18]"
      ]
     },
     "execution_count": 56,
     "metadata": {},
     "output_type": "execute_result"
    }
   ],
   "source": [
    "#구성을 하나씩 빼서 2배해서 다시 넣는다\n",
    "# 한번쓰고 말 함수일 경우에는 람다함수를 이용한다.\n",
    "def myDouble(x):\n",
    "    return x*2\n",
    "list(map(myDouble, data))"
   ]
  },
  {
   "cell_type": "code",
   "execution_count": null,
   "metadata": {},
   "outputs": [],
   "source": []
  },
  {
   "cell_type": "code",
   "execution_count": 57,
   "metadata": {},
   "outputs": [
    {
     "data": {
      "text/plain": [
       "[2, 4, 6, 8, 10, 12, 14, 16, 18]"
      ]
     },
     "execution_count": 57,
     "metadata": {},
     "output_type": "execute_result"
    }
   ],
   "source": [
    "# 람다함수 , 함수 내에서 1회성으로 사용\n",
    "# 속도면에서는 가장 빠르다\n",
    "# 해당라인 코드 종료시 메모리 해제(휘발성)\n",
    "# 단, 수행문이 한줄 일 경우만 가능\n",
    "list(map(lambda x:x*2, data))"
   ]
  },
  {
   "cell_type": "code",
   "execution_count": 60,
   "metadata": {},
   "outputs": [
    {
     "data": {
      "text/plain": [
       "[6, 7, 8, 9]"
      ]
     },
     "execution_count": 60,
     "metadata": {},
     "output_type": "execute_result"
    }
   ],
   "source": [
    "def myDouble(x):\n",
    "    return x > 5\n",
    "# 걸러낸다\n",
    "list(filter(myDouble, data))"
   ]
  },
  {
   "cell_type": "code",
   "execution_count": 61,
   "metadata": {},
   "outputs": [
    {
     "data": {
      "text/plain": [
       "[6, 7, 8, 9]"
      ]
     },
     "execution_count": 61,
     "metadata": {},
     "output_type": "execute_result"
    }
   ],
   "source": [
    "list(filter( lambda x:x>5, data))"
   ]
  },
  {
   "cell_type": "markdown",
   "metadata": {},
   "source": [
    "#### 2.3 기타 주요"
   ]
  },
  {
   "cell_type": "markdown",
   "metadata": {},
   "source": [
    "### 3. 외장함수\n",
    "\n",
    "- 모듈을 가져오고, 모듈을 통해 함수를 사용하는 형태\n",
    "- ex)\n",
    "    - time, random\n",
    "    - pickle, os, .."
   ]
  },
  {
   "cell_type": "code",
   "execution_count": 64,
   "metadata": {},
   "outputs": [
    {
     "ename": "NameError",
     "evalue": "name 'pickle' is not defined",
     "output_type": "error",
     "traceback": [
      "\u001b[1;31m---------------------------------------------------------------------------\u001b[0m",
      "\u001b[1;31mNameError\u001b[0m                                 Traceback (most recent call last)",
      "\u001b[1;32m<ipython-input-64-fd1bcb626eab>\u001b[0m in \u001b[0;36m<module>\u001b[1;34m\u001b[0m\n\u001b[0;32m      1\u001b[0m \u001b[1;31m# pickle : 자료구조를 그대로 저장, 로드\u001b[0m\u001b[1;33m\u001b[0m\u001b[1;33m\u001b[0m\u001b[1;33m\u001b[0m\u001b[0m\n\u001b[0;32m      2\u001b[0m \u001b[1;32mimport\u001b[0m \u001b[0mpickle\u001b[0m \u001b[1;32mas\u001b[0m \u001b[0mp\u001b[0m\u001b[1;33m\u001b[0m\u001b[1;33m\u001b[0m\u001b[0m\n\u001b[1;32m----> 3\u001b[1;33m \u001b[0mpickle\u001b[0m\u001b[1;33m\u001b[0m\u001b[1;33m\u001b[0m\u001b[0m\n\u001b[0m",
      "\u001b[1;31mNameError\u001b[0m: name 'pickle' is not defined"
     ]
    }
   ],
   "source": [
    "# pickle : 자료구조를 그대로 저장, 로드\n",
    "import pickle as p\n",
    "pickle"
   ]
  },
  {
   "cell_type": "code",
   "execution_count": 65,
   "metadata": {},
   "outputs": [],
   "source": [
    "# 더미 데이터\n",
    "data = {\n",
    "    1:[1, 2, 3, 4],\n",
    "    2:{'name' : ' 부산대'},\n",
    "    3:(5, 6, 7, 8)\n",
    "}"
   ]
  },
  {
   "cell_type": "code",
   "execution_count": 78,
   "metadata": {},
   "outputs": [],
   "source": [
    "# 기록\n",
    "#메타정보가 포함된 data 이므로 txt로 안됨. 아무렇게 정한다.\n",
    "with open('data.p', 'wb') as f:\n",
    "    # 바이너리 쓰기모드\n",
    "    p.dump(data, f, p.HIGHEST_PROTOCOL) \n",
    "    #덤프: 파일에 데이터를 기록한다 (싼다)\n"
   ]
  },
  {
   "cell_type": "code",
   "execution_count": 79,
   "metadata": {},
   "outputs": [
    {
     "name": "stdout",
     "output_type": "stream",
     "text": [
      "{1: [1, 2, 3, 4], 2: {'name': ' 부산대'}, 3: (5, 6, 7, 8)}\n"
     ]
    }
   ],
   "source": [
    "# 로드\n",
    "with open('data.p', 'rb') as f:\n",
    "    # 바이너리 읽기모드\n",
    "    print(p.load(f))"
   ]
  },
  {
   "cell_type": "code",
   "execution_count": 81,
   "metadata": {},
   "outputs": [
    {
     "ename": "ValueError",
     "evalue": "peek of closed file",
     "output_type": "error",
     "traceback": [
      "\u001b[1;31m---------------------------------------------------------------------------\u001b[0m",
      "\u001b[1;31mValueError\u001b[0m                                Traceback (most recent call last)",
      "\u001b[1;32m<ipython-input-81-60241a0555ce>\u001b[0m in \u001b[0;36m<module>\u001b[1;34m\u001b[0m\n\u001b[0;32m      3\u001b[0m \u001b[1;31m#     print(card.read())\u001b[0m\u001b[1;33m\u001b[0m\u001b[1;33m\u001b[0m\u001b[1;33m\u001b[0m\u001b[0m\n\u001b[0;32m      4\u001b[0m \u001b[1;32mwith\u001b[0m \u001b[0mopen\u001b[0m\u001b[1;33m(\u001b[0m\u001b[1;34m'p5_cardgame0.py'\u001b[0m\u001b[1;33m,\u001b[0m \u001b[1;34m'rb'\u001b[0m\u001b[1;33m)\u001b[0m \u001b[1;32mas\u001b[0m \u001b[0mcard\u001b[0m\u001b[1;33m:\u001b[0m\u001b[1;33m\u001b[0m\u001b[1;33m\u001b[0m\u001b[0m\n\u001b[1;32m----> 5\u001b[1;33m     \u001b[0mprint\u001b[0m\u001b[1;33m(\u001b[0m\u001b[0mp\u001b[0m\u001b[1;33m.\u001b[0m\u001b[0mload\u001b[0m\u001b[1;33m(\u001b[0m\u001b[0mf\u001b[0m\u001b[1;33m)\u001b[0m\u001b[1;33m)\u001b[0m\u001b[1;33m\u001b[0m\u001b[1;33m\u001b[0m\u001b[0m\n\u001b[0m",
      "\u001b[1;31mValueError\u001b[0m: peek of closed file"
     ]
    }
   ],
   "source": [
    "# 카드게임을 쓰기\n",
    "# with open('p5_cardgame0.py', 'r') as card:\n",
    "#     print(card.read())\n",
    "with open('p5_cardgame0.py', 'rb') as card:\n",
    "    print(p.load(f))"
   ]
  },
  {
   "cell_type": "code",
   "execution_count": 103,
   "metadata": {},
   "outputs": [],
   "source": [
    "import os"
   ]
  },
  {
   "cell_type": "code",
   "execution_count": 126,
   "metadata": {},
   "outputs": [
    {
     "data": {
      "text/plain": [
       "(False, True)"
      ]
     },
     "execution_count": 126,
     "metadata": {},
     "output_type": "execute_result"
    }
   ],
   "source": [
    "# a 라는 파일이 존재하는가?\n",
    "os.path.exists('a.txt'),os.path.exists('data.p')"
   ]
  },
  {
   "cell_type": "code",
   "execution_count": 127,
   "metadata": {},
   "outputs": [
    {
     "data": {
      "text/plain": [
       "'C:\\\\Users\\\\admin\\\\Documents'"
      ]
     },
     "execution_count": 127,
     "metadata": {},
     "output_type": "execute_result"
    }
   ],
   "source": [
    "os.chdir('..')\n",
    "os.getcwd()"
   ]
  },
  {
   "cell_type": "code",
   "execution_count": 128,
   "metadata": {},
   "outputs": [],
   "source": [
    "os.chdir('C:\\\\Users\\\\admin\\\\Documents\\\\python_basic')"
   ]
  },
  {
   "cell_type": "code",
   "execution_count": 129,
   "metadata": {},
   "outputs": [
    {
     "data": {
      "text/plain": [
       "'C:\\\\Users\\\\admin\\\\Documents\\\\python_basic'"
      ]
     },
     "execution_count": 129,
     "metadata": {},
     "output_type": "execute_result"
    }
   ],
   "source": [
    "os.getcwd()"
   ]
  },
  {
   "cell_type": "code",
   "execution_count": 99,
   "metadata": {},
   "outputs": [
    {
     "data": {
      "text/plain": [
       "['.anaconda',\n",
       " '.conda',\n",
       " '.condarc',\n",
       " '.gitconfig',\n",
       " '.ipynb_checkpoints',\n",
       " '.ipython',\n",
       " '.jupyter',\n",
       " '.matplotlib',\n",
       " '.pylint.d',\n",
       " '.python_history',\n",
       " '.vscode',\n",
       " '3D Objects',\n",
       " 'Anaconda3',\n",
       " 'AppData',\n",
       " 'Application Data',\n",
       " 'Contacts',\n",
       " 'Cookies',\n",
       " 'Desktop',\n",
       " 'Documents',\n",
       " 'Downloads',\n",
       " 'Favorites',\n",
       " 'Links',\n",
       " 'Local Settings',\n",
       " 'MicrosoftEdgeBackups',\n",
       " 'Music',\n",
       " 'My Documents',\n",
       " 'NetHood',\n",
       " 'NTUSER.DAT',\n",
       " 'ntuser.dat.LOG1',\n",
       " 'ntuser.dat.LOG2',\n",
       " 'NTUSER.DAT{1c3790b4-b8ad-11e8-aa21-e41d2d101530}.TM.blf',\n",
       " 'NTUSER.DAT{1c3790b4-b8ad-11e8-aa21-e41d2d101530}.TMContainer00000000000000000001.regtrans-ms',\n",
       " 'NTUSER.DAT{1c3790b4-b8ad-11e8-aa21-e41d2d101530}.TMContainer00000000000000000002.regtrans-ms',\n",
       " 'ntuser.ini',\n",
       " 'Pictures',\n",
       " 'PrintHood',\n",
       " 'Recent',\n",
       " 'Saved Games',\n",
       " 'Searches',\n",
       " 'SendTo',\n",
       " 'Templates',\n",
       " 'Videos',\n",
       " '시작 메뉴']"
      ]
     },
     "execution_count": 99,
     "metadata": {},
     "output_type": "execute_result"
    }
   ],
   "source": [
    "os.listdir(os.getcwd())"
   ]
  },
  {
   "cell_type": "code",
   "execution_count": 90,
   "metadata": {},
   "outputs": [
    {
     "ename": "FileExistsError",
     "evalue": "[WinError 183] 파일이 이미 있으므로 만들 수 없습니다: 'dummy'",
     "output_type": "error",
     "traceback": [
      "\u001b[1;31m---------------------------------------------------------------------------\u001b[0m",
      "\u001b[1;31mFileExistsError\u001b[0m                           Traceback (most recent call last)",
      "\u001b[1;32m<ipython-input-90-18f6b59b201d>\u001b[0m in \u001b[0;36m<module>\u001b[1;34m\u001b[0m\n\u001b[1;32m----> 1\u001b[1;33m \u001b[0mos\u001b[0m\u001b[1;33m.\u001b[0m\u001b[0mmkdir\u001b[0m\u001b[1;33m(\u001b[0m\u001b[1;34m'dummy'\u001b[0m\u001b[1;33m)\u001b[0m\u001b[1;33m\u001b[0m\u001b[1;33m\u001b[0m\u001b[0m\n\u001b[0m",
      "\u001b[1;31mFileExistsError\u001b[0m: [WinError 183] 파일이 이미 있으므로 만들 수 없습니다: 'dummy'"
     ]
    }
   ],
   "source": [
    "os.mkdir('dummy')\n"
   ]
  },
  {
   "cell_type": "markdown",
   "metadata": {},
   "source": [
    "### 4. 람다 함수\n",
    "\n",
    "- 내장함수 map(), filter() 에서 살펴봤었다.\n",
    "- 람다함수 , 함수 내에서 1회성으로 사용\n",
    "- 속도면에서는 가장 빠르다\n",
    "- 해당라인 코드 종료시 메모리 해제(휘발성)\n",
    "- 단, 수행문이 한줄 일 경우만 가능"
   ]
  },
  {
   "cell_type": "markdown",
   "metadata": {},
   "source": [
    "### 5. 클로져"
   ]
  },
  {
   "cell_type": "markdown",
   "metadata": {},
   "source": [
    "### 6. 객체지향프로그램 =>함수지향프로그램"
   ]
  },
  {
   "cell_type": "code",
   "execution_count": null,
   "metadata": {},
   "outputs": [],
   "source": []
  },
  {
   "cell_type": "code",
   "execution_count": null,
   "metadata": {},
   "outputs": [],
   "source": []
  },
  {
   "cell_type": "code",
   "execution_count": null,
   "metadata": {},
   "outputs": [],
   "source": []
  }
 ],
 "metadata": {
  "kernelspec": {
   "display_name": "Python 3",
   "language": "python",
   "name": "python3"
  },
  "language_info": {
   "codemirror_mode": {
    "name": "ipython",
    "version": 3
   },
   "file_extension": ".py",
   "mimetype": "text/x-python",
   "name": "python",
   "nbconvert_exporter": "python",
   "pygments_lexer": "ipython3",
   "version": "3.7.4"
  }
 },
 "nbformat": 4,
 "nbformat_minor": 2
}
