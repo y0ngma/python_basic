{
 "cells": [
  {
   "cell_type": "markdown",
   "metadata": {},
   "source": [
    "## 함수\n",
    "\n",
    "- 함수\n",
    "    - 종류\n",
    "        - 커스텀함수(사용자지정 함수)\n",
    "            - 개발자의 필요에 의해 정의된 함수\n",
    "        - 내장 함수\n",
    "            - 별도의 추가코드 없이 바로 사용가능한 함수\n",
    "            - index isdecimal() \n",
    "            - 파이썬 설치되어 있으면 전역적인(바로 사용가능)\n",
    "        - 외장 함수(library)\n",
    "            - 소속.함수명()\n",
    "            - 별도의 모듈을 코드에 추가후 모듈을 통해 사용가능\n",
    "            - import time\n",
    "            - time.sleep(1)\n",
    "        - 람다 함수\n",
    "            - 가장 빠른 함수\n",
    "            - 수행문이 하나다\n",
    "            - 특정함수의 인자로 사용. 휘발성 존재\n",
    "            - 연속 데이터 타입들의 맴버들을 하나씩 건들면서 뭔가 작업을 하고\n",
    "            - 대체, 걸러낼때 주로 사용\n",
    "            - 대체 : 파이썬 내장함수 map(), DataFrame의 apply()\n",
    "            - 필터링 : 파이썬 내장함수 filter(), DataFrame의 apply()\n",
    "            - lambda x:x+1\n",
    "        - 클로저\n",
    "            - 함수 안에 함수있다\n",
    "    - 프로그램\n",
    "        - 함수 지향적 프로그램\n",
    "    - 특징\n",
    "        - 함수본질\n",
    "        - 장점\n",
    "            - 재활용성을 높여서 코드를 다이어트, 품질향상\n",
    "            - 생산성 향상 ->빠른제작  ->기업수익률 증가\n",
    "            - 다음 프로젝트때 기존구축된 함수 모듈 존재\n",
    "            - 생산성 향상\n",
    "            - 반복된 코드를 함수로 만들어서 사용성을 높인다\n",
    "            - 복잡성을 줄여 유지보수 용이\n",
    "            - 입력대비 출력이라는 기본기능 수행\n",
    "        - 스타일"
   ]
  },
  {
   "cell_type": "markdown",
   "metadata": {},
   "source": [
    "#### 단축키\n",
    "\n",
    "- m, y 마크다운-함수\n",
    "- x cut\n",
    "- v paste below cell\n",
    "- shift v paste above\n",
    "- d,d delete cell\n",
    "- z undo delete cell\n",
    "- a add cell above\n",
    "- b add cell below\n",
    "- l listing"
   ]
  },
  {
   "cell_type": "markdown",
   "metadata": {},
   "source": [
    "### 1. 사용자 정의 함수\n",
    "\n",
    "def 함수명( [인자(매개변수)명"
   ]
  },
  {
   "cell_type": "markdown",
   "metadata": {},
   "source": [
    "### 2. 내장함수"
   ]
  },
  {
   "cell_type": "markdown",
   "metadata": {},
   "source": [
    "### 3. 외장함수"
   ]
  },
  {
   "cell_type": "markdown",
   "metadata": {},
   "source": [
    "### 4. 람다 함수"
   ]
  },
  {
   "cell_type": "markdown",
   "metadata": {},
   "source": [
    "### 5. 클로져"
   ]
  },
  {
   "cell_type": "markdown",
   "metadata": {},
   "source": [
    "### 6. 객체지향프로그램 =>함수지향프로그램"
   ]
  },
  {
   "cell_type": "code",
   "execution_count": null,
   "metadata": {},
   "outputs": [],
   "source": []
  },
  {
   "cell_type": "code",
   "execution_count": null,
   "metadata": {},
   "outputs": [],
   "source": []
  },
  {
   "cell_type": "code",
   "execution_count": null,
   "metadata": {},
   "outputs": [],
   "source": []
  }
 ],
 "metadata": {
  "kernelspec": {
   "display_name": "Python 3",
   "language": "python",
   "name": "python3"
  },
  "language_info": {
   "codemirror_mode": {
    "name": "ipython",
    "version": 3
   },
   "file_extension": ".py",
   "mimetype": "text/x-python",
   "name": "python",
   "nbconvert_exporter": "python",
   "pygments_lexer": "ipython3",
   "version": "3.7.4"
  }
 },
 "nbformat": 4,
 "nbformat_minor": 2
}
