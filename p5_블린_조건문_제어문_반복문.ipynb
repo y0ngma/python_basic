{
 "cells": [
  {
   "cell_type": "markdown",
   "metadata": {},
   "source": [
    "### 흐림제어\n",
    "\n",
    "- 코드의 흐름을 변경하려면(분기, 반복 등)\n",
    "- 조건을 체크 -> 참, 거짓에 의해 (판정) 흐름을 변경\n",
    "- 판정 = 결론은 블린(True/False)\n",
    "- 판정이 작성된 코드를 조건식\n",
    "\n",
    "- 조건문, 반복문 제어문 식\n",
    "    - 조건식 결론 => 참이냐 거짓이냐?\n",
    "        - False 상황: 0, 0.0, [], {}. (), None(값이 없다), 기타 조건문의 결과(비교 등)\n",
    "    - 조건식을 가지고 상황따라 움직이는 방식 : 조건문\n",
    "        - if\n",
    "    - 반복문 : 반복작업\n",
    "        - for, while\n",
    "=>여기까지의 지식으로 프로그램을 작성 : 절차적 프로그램\n",
    "\n"
   ]
  },
  {
   "cell_type": "code",
   "execution_count": null,
   "metadata": {},
   "outputs": [],
   "source": [
    "# 요구사항에서 조건 상황이 몇개인지 체크하여 구현\n",
    "# if \n",
    "# if ~ elif ~ else\n",
    "# if ~ else\n",
    "# if ~ elif (~elif...)"
   ]
  },
  {
   "cell_type": "code",
   "execution_count": null,
   "metadata": {},
   "outputs": [],
   "source": [
    "# 커피값을 입력받아서 1500원 이상이면 거스름돈을 줘라\n",
    "# 내용은 \"거스름돈 (받은금액 -1500) 은 xx원 입니다.\""
   ]
  },
  {
   "cell_type": "code",
   "execution_count": null,
   "metadata": {},
   "outputs": [],
   "source": [
    "# 1. 커피값을 입력 받아서 \n",
    "# (정수값 수치로 잘 넣는다고 전제)\n",
    "# 값의 유효성을 체크하지 않겠다.\n",
    "coffee_price = int(input('커피값을 주세요'))\n",
    "coffee_price, type(coffee_price)"
   ]
  },
  {
   "cell_type": "code",
   "execution_count": null,
   "metadata": {},
   "outputs": [],
   "source": [
    "# 2. 1500원 이상이면 (조건하나)\n",
    "# 문법 = if 조건식:\n",
    "# >, <, <=, >=, ==, not(부정)\n",
    "# : => 코드블럭이 시작된다.\n",
    "#      코드블럭 => 들려쓰기 후 진행 (세로줄이 변경됨)\n",
    "#      조건 만족시에만 수행하는 코드\n",
    "if coffee_price > 1500:\n",
    "    # 아무것도 하지말고 일단 패스(구조잡을때, 실제 아무것도 안할때)\n",
    "    pass\n",
    "   "
   ]
  },
  {
   "cell_type": "code",
   "execution_count": null,
   "metadata": {},
   "outputs": [],
   "source": [
    "# # 3. 거스럼돈은 100원 입니다\n",
    "# if coffee_price > 1500:\n",
    "    \n",
    "#     print(\"거스름돈은 {}원 입니다.\".format(coffee_price-1500))\n",
    "    \n",
    "#     pass\n"
   ]
  },
  {
   "cell_type": "code",
   "execution_count": null,
   "metadata": {
    "scrolled": false
   },
   "outputs": [],
   "source": [
    "if coffee_price > 1500:\n",
    "    tmp = \"거스름돈은 %s원 입니다.\" % (coffee_price-1500)\n",
    "    print(tmp)\n",
    "    pass\n"
   ]
  },
  {
   "cell_type": "markdown",
   "metadata": {},
   "source": [
    "#### 통합코드"
   ]
  },
  {
   "cell_type": "code",
   "execution_count": 3,
   "metadata": {
    "scrolled": true
   },
   "outputs": [
    {
     "name": "stdout",
     "output_type": "stream",
     "text": [
      "커피값을 주세요1500\n",
      "거스름돈은 0원 입니다.\n",
      "커피값을 주세요1400\n",
      "100원을 더 주세요.\n",
      "커피값을 주세요1600\n",
      "거스름돈은 100원 입니다.\n",
      "커피값을 주세요\n"
     ]
    },
    {
     "ename": "ValueError",
     "evalue": "invalid literal for int() with base 10: ''",
     "output_type": "error",
     "traceback": [
      "\u001b[1;31m---------------------------------------------------------------------------\u001b[0m",
      "\u001b[1;31mValueError\u001b[0m                                Traceback (most recent call last)",
      "\u001b[1;32m<ipython-input-3-69f540ae011f>\u001b[0m in \u001b[0;36m<module>\u001b[1;34m\u001b[0m\n\u001b[0;32m      3\u001b[0m             \u001b[1;31m#끌때는 while문 주석 처리후 해당 코드블럭 드래그 + 쉬프트탭으로 원상복구\u001b[0m\u001b[1;33m\u001b[0m\u001b[1;33m\u001b[0m\u001b[1;33m\u001b[0m\u001b[0m\n\u001b[0;32m      4\u001b[0m             \u001b[1;31m#오작동시, 상단텝Kernal에서 Shutdown과 Restart후,  해당루프만 작동. 위에서 걸리지 않게.\u001b[0m\u001b[1;33m\u001b[0m\u001b[1;33m\u001b[0m\u001b[1;33m\u001b[0m\u001b[0m\n\u001b[1;32m----> 5\u001b[1;33m     \u001b[0mcoffee_price\u001b[0m \u001b[1;33m=\u001b[0m \u001b[0mint\u001b[0m\u001b[1;33m(\u001b[0m\u001b[0minput\u001b[0m\u001b[1;33m(\u001b[0m\u001b[1;34m'커피값을 주세요'\u001b[0m\u001b[1;33m)\u001b[0m\u001b[1;33m)\u001b[0m\u001b[1;33m\u001b[0m\u001b[1;33m\u001b[0m\u001b[0m\n\u001b[0m\u001b[0;32m      6\u001b[0m     \u001b[1;32mif\u001b[0m \u001b[0mcoffee_price\u001b[0m \u001b[1;33m>\u001b[0m \u001b[1;36m1500\u001b[0m\u001b[1;33m:\u001b[0m\u001b[1;33m\u001b[0m\u001b[1;33m\u001b[0m\u001b[0m\n\u001b[0;32m      7\u001b[0m         \u001b[0mtmp\u001b[0m \u001b[1;33m=\u001b[0m \u001b[1;34m\"거스름돈은 %s원 입니다.\"\u001b[0m \u001b[1;33m%\u001b[0m \u001b[1;33m(\u001b[0m\u001b[0mcoffee_price\u001b[0m\u001b[1;33m-\u001b[0m\u001b[1;36m1500\u001b[0m\u001b[1;33m)\u001b[0m\u001b[1;33m\u001b[0m\u001b[1;33m\u001b[0m\u001b[0m\n",
      "\u001b[1;31mValueError\u001b[0m: invalid literal for int() with base 10: ''"
     ]
    }
   ],
   "source": [
    "while True:# 무한루프화(계산은 한번만 하는게 아니고 계속 작동 해야함)\n",
    "            # 전체 드레그 선택후 탭키또는 누르면 코드블럭화.\n",
    "            # 끌때는 앤터키 등으로 예외처리 안한 입력값 넣는다.\n",
    "            # 또는 while문 주석 처리후 해당 코드블럭 드래그 + 쉬프트탭으로 원상복구\n",
    "            # 오작동시, 상단텝Kernal에서 Shutdown과 Restart후,  해당루프만 작동. 위에서 걸리지 않게.\n",
    "   \n",
    "    coffee_price = int(input('커피값을 주세요'))\n",
    "    if coffee_price > 1500:\n",
    "        tmp = \"거스름돈은 %s원 입니다.\" % (coffee_price-1500)\n",
    "        print(tmp)\n",
    "       # pass는 조건에 해당되는게 없을때 넘기도록 하는것. 지금은 필요없음 \n",
    "    elif coffee_price == 1500:\n",
    "        tmp = \"거스름돈은 %s원 입니다.\" % (coffee_price-1500)\n",
    "        print(tmp)\n",
    "       # pass\n",
    "    else:\n",
    "        tmp = \"%s원을 더 주세요.\" % -(coffee_price-1500)\n",
    "        print(tmp)"
   ]
  },
  {
   "cell_type": "code",
   "execution_count": null,
   "metadata": {},
   "outputs": [],
   "source": [
    "'''\n",
    "# 들여쓰기 : 코드블럭\n",
    "# 코드블럭내에 존재하는 코드 => 수행문 statements\n",
    "\n",
    "if 조건식:\n",
    "    statements\n",
    "elif 조건식:\n",
    "    statements\n",
    "else 조건식:\n",
    "    statements\n",
    "'''"
   ]
  },
  {
   "cell_type": "code",
   "execution_count": null,
   "metadata": {},
   "outputs": [],
   "source": []
  },
  {
   "cell_type": "code",
   "execution_count": null,
   "metadata": {},
   "outputs": [],
   "source": []
  },
  {
   "cell_type": "code",
   "execution_count": null,
   "metadata": {},
   "outputs": [],
   "source": []
  },
  {
   "cell_type": "code",
   "execution_count": null,
   "metadata": {},
   "outputs": [],
   "source": []
  },
  {
   "cell_type": "code",
   "execution_count": null,
   "metadata": {},
   "outputs": [],
   "source": []
  },
  {
   "cell_type": "code",
   "execution_count": null,
   "metadata": {},
   "outputs": [],
   "source": []
  }
 ],
 "metadata": {
  "kernelspec": {
   "display_name": "Python 3",
   "language": "python",
   "name": "python3"
  }
 },
 "nbformat": 4,
 "nbformat_minor": 2
}
