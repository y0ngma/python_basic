{
 "cells": [
  {
   "cell_type": "markdown",
   "metadata": {},
   "source": [
    "## 파이썬 DB 연동"
   ]
  },
  {
   "cell_type": "markdown",
   "metadata": {},
   "source": [
    "#### d1_intro\n",
    "\n",
    "- ihongss.com - webboard\n",
    "- 아뒤/비번 : 20191216/20191216"
   ]
  },
  {
   "cell_type": "markdown",
   "metadata": {},
   "source": [
    "### 파이썬 웹 프레임 워크\n",
    "- 플라스크 \n",
    "    - Flask는 마이크로 프레임워크.\n",
    "    - 가볍고 특히, API 서버 구축용이.\n",
    "        - 사용처 : pinterest, reddit\n",
    "- 쟁고우 [ˈdʒæŋɡoʊ]\n",
    "    - Django는 2005년부터 시작된 Python의 오픈 소스 웹 프레임워크이다. Django는 풀 스택 프레임워크\n",
    "        - 사용처 : 인스타 등"
   ]
  },
  {
   "cell_type": "markdown",
   "metadata": {},
   "source": [
    "### Docker toolbox  설치\n",
    "\n",
    "- 주소 : http://ihongss.com/home/post?id=p_1573554859361\n",
    "- 가상환경 구축 : https://github.com/docker/toolbox/releases\n",
    "- DockerToolbox-19.03.1.exe 다운로드\n",
    "- 설치시 Git window 체크\n"
   ]
  },
  {
   "cell_type": "markdown",
   "metadata": {},
   "source": [
    "### 도커 구축\n",
    "\n",
    "- 윈도우안에 도커라는 가상환경 구축 192.168.99.100\n",
    "- PC가 두개 있다고 생각.\n",
    "- 내부 도커 서버 전원을 꺼야 Oracel VM VirtualBox 설정변경 가능\n",
    "    - Docker QuickStart Terminal 이용\n",
    "    - ```$docker-machine stop``` 입력\n",
    "- VM VirtualBox 설정\n",
    "    - 설정-시스템-마더보드-8192MB 할당\n",
    "- 터미널에서 재가동\n",
    "    - ```$docker-machine start```\n",
    "    - ```$docker search oracle-12c``` : 오라클 이미지 list\n",
    "        - 설치하게 편하게 (CD처럼) 이미지\n",
    "    - ```$docker pull truevoly/oracle-12c``` 다운로드"
   ]
  },
  {
   "cell_type": "markdown",
   "metadata": {},
   "source": []
  }
 ],
 "metadata": {
  "kernelspec": {
   "display_name": "Python 3",
   "language": "python",
   "name": "python3"
  },
  "language_info": {
   "codemirror_mode": {
    "name": "ipython",
    "version": 3
   },
   "file_extension": ".py",
   "mimetype": "text/x-python",
   "name": "python",
   "nbconvert_exporter": "python",
   "pygments_lexer": "ipython3",
   "version": "3.7.4"
  },
  "toc": {
   "base_numbering": 1,
   "nav_menu": {},
   "number_sections": true,
   "sideBar": true,
   "skip_h1_title": false,
   "title_cell": "Table of Contents",
   "title_sidebar": "Contents",
   "toc_cell": false,
   "toc_position": {},
   "toc_section_display": true,
   "toc_window_display": false
  }
 },
 "nbformat": 4,
 "nbformat_minor": 2
}
