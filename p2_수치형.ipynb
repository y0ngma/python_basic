{
 "cells": [
  {
   "cell_type": "markdown",
   "metadata": {},
   "source": [
    "### 수치형\n",
    "\n",
    "- 타입\n",
    "    - 단일 데이터 타입 (값이 1개)\n",
    "        - 수치형 : \n",
    "            - 정수 \n",
    "                - 십진수, 이진수(블린), 8진수, 16진수(0xFF) \n",
    "            - 부동소수 (GPS 위도경도, -3.14, 0.0, 1.2)"
   ]
  },
  {
   "cell_type": "markdown",
   "metadata": {},
   "source": [
    "### 변수 \n",
    "\n",
    "- 값을 담는 그릇\n",
    "- 파이선에서는 주소를 담는 그릇\n",
    "- 프로그램 세상에서는 객체라는 것은 반드시 주소를 가진다.\n",
    "- 파이선의 모든 것은 객체다\n",
    "\n",
    "- 변수를 정의할 때는 앞에 어떤 타입의 이름도 쓰지 않는다.\n"
   ]
  },
  {
   "cell_type": "code",
   "execution_count": 48,
   "metadata": {},
   "outputs": [
    {
     "data": {
      "text/plain": [
       "(1, int, float, bool)"
      ]
     },
     "execution_count": 48,
     "metadata": {},
     "output_type": "execute_result"
    }
   ],
   "source": [
    "# a가 변수\n",
    "a=1\n",
    "b=-1.1\n",
    "c=False\n",
    "# a라는 변수에 1의 주소값을 넣는다.\n",
    "# type() 변수의 타입을 검사\n",
    "a, type(a), type(b), type(c)"
   ]
  },
  {
   "cell_type": "code",
   "execution_count": 49,
   "metadata": {},
   "outputs": [
    {
     "data": {
      "text/plain": [
       "('hi', str)"
      ]
     },
     "execution_count": 49,
     "metadata": {},
     "output_type": "execute_result"
    }
   ],
   "source": [
    "a ='hi'\n",
    "a, type(a)"
   ]
  },
  {
   "cell_type": "code",
   "execution_count": 50,
   "metadata": {},
   "outputs": [],
   "source": [
    "# 1. 타입추론\n",
    "# 이렇게 값이 세팅될때, 타입이 결정되는 형태 \n",
    "# 변수명 사용시 사전에 정의된 이름(내장함수명, 예약어)는 절대 사용금지\n",
    "#type = 1 # 일반 변수와 색깔이 다름\n",
    "#type (a) \n"
   ]
  },
  {
   "cell_type": "code",
   "execution_count": 51,
   "metadata": {},
   "outputs": [
    {
     "data": {
      "text/plain": [
       "(19, 10)"
      ]
     },
     "execution_count": 51,
     "metadata": {},
     "output_type": "execute_result"
    }
   ],
   "source": [
    "# 2. 속도라는 변수\n",
    "# 값의 의미를 명확히 알게끔 이름짓는다.\n",
    "# 변수명의 첫글자로 알패뱃(대/소), _언더바 가능\n",
    "# 두번째 글자부터 숫자 가능\n",
    "# 특수문자 X\n",
    "speed = 19\n",
    "_abc = 10\n",
    "speed, _abc"
   ]
  },
  {
   "cell_type": "code",
   "execution_count": 52,
   "metadata": {},
   "outputs": [],
   "source": [
    "# 3. 파이썬은 세로줄을 잘 맞춰야 한다.\n",
    "#지금은 맨앞줄로 바싹 붙여서 작성\n",
    "a = 1 #(a앞에 공백없이)\n",
    "    "
   ]
  },
  {
   "cell_type": "code",
   "execution_count": 53,
   "metadata": {},
   "outputs": [
    {
     "name": "stdout",
     "output_type": "stream",
     "text": [
      "1\n"
     ]
    }
   ],
   "source": [
    "# 4. 문장의 끝\n",
    "# 파이썬은 한 문장의 끝(statement)에 아무것도 붙이지 않는다.\n",
    "a =1 \n",
    "# 단, 한줄에 여러 수행문을 넣고 싶다면 구분을 위해;를 붙인다.\n",
    "a=1;print(a)"
   ]
  },
  {
   "cell_type": "code",
   "execution_count": 54,
   "metadata": {
    "scrolled": true
   },
   "outputs": [
    {
     "name": "stdout",
     "output_type": "stream",
     "text": [
      "c의 타입은 <class 'bool'> 이다\n",
      "c의 타입은 <class 'bool'> 이다\n",
      "<class 'bool'>\n"
     ]
    }
   ],
   "source": [
    "#단일데이터 타입 : 수치, 문자, 블린boolean \n",
    "a=-1.1\n",
    "b=\"True\"\n",
    "c=True\n",
    "#print(a, b)\n",
    "print('c의 타입은 {} 이다'.format(type(c))) \n",
    "print('c의 타입은 %s 이다' % (type(c))) \n",
    "\n",
    "print(type(c))"
   ]
  },
  {
   "cell_type": "code",
   "execution_count": 55,
   "metadata": {},
   "outputs": [
    {
     "data": {
      "text/plain": [
       "255"
      ]
     },
     "execution_count": 55,
     "metadata": {},
     "output_type": "execute_result"
    }
   ],
   "source": [
    "# 정수의 16진수\n",
    "a=0xFF\n",
    "a"
   ]
  },
  {
   "cell_type": "code",
   "execution_count": 56,
   "metadata": {},
   "outputs": [
    {
     "data": {
      "text/plain": [
       "(3, -1, 2, 0.5, 3, 1, 1.75)"
      ]
     },
     "execution_count": 56,
     "metadata": {},
     "output_type": "execute_result"
    }
   ],
   "source": [
    "#나누기는 부동소수로 변경되는구나\n",
    "a=1\n",
    "b=2\n",
    "a+b, a-b, a*b, a/b, 7%4, 7//4, 7/4 #나머지, 몫, 나눈값"
   ]
  },
  {
   "cell_type": "code",
   "execution_count": 57,
   "metadata": {},
   "outputs": [],
   "source": [
    "# 일반적인 연산자는 언어와 대동소이\n",
    "# 연산자도 우선순위\n",
    "# *,/가 + -보다 우선 =>연산자 우선순위르 알면 좋으나,\n",
    "# 괄호를 이용하여 ()우선순위 연산을 그룹으로 묶어준다.\n",
    "# (1+2+3+4)*2\n"
   ]
  },
  {
   "cell_type": "code",
   "execution_count": null,
   "metadata": {},
   "outputs": [],
   "source": []
  }
 ],
 "metadata": {
  "kernelspec": {
   "display_name": "Python 3",
   "language": "python",
   "name": "python3"
  },
  "language_info": {
   "codemirror_mode": {
    "name": "ipython",
    "version": 3
   },
   "file_extension": ".py",
   "mimetype": "text/x-python",
   "name": "python",
   "nbconvert_exporter": "python",
   "pygments_lexer": "ipython3",
   "version": "3.7.4"
  }
 },
 "nbformat": 4,
 "nbformat_minor": 2
}
