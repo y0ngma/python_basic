{
  "nbformat": 4,
  "nbformat_minor": 0,
  "metadata": {
    "colab": {
      "name": "dl31_LRtoSoftmax.ipynb",
      "provenance": [],
      "collapsed_sections": [],
      "authorship_tag": "ABX9TyOkqbzTZaOLxwydfVgfB+Ul",
      "include_colab_link": true
    },
    "kernelspec": {
      "name": "python3",
      "display_name": "Python 3"
    }
  },
  "cells": [
    {
      "cell_type": "markdown",
      "metadata": {
        "id": "view-in-github",
        "colab_type": "text"
      },
      "source": [
        "<a href=\"https://colab.research.google.com/github/y0ngma/python_basic/blob/master/C%3A%5CRepository%5Cpython_basic%5C6DL%5Cdl31_LRtoSoftmax.ipynb\" target=\"_parent\"><img src=\"https://colab.research.google.com/assets/colab-badge.svg\" alt=\"Open In Colab\"/></a>"
      ]
    },
    {
      "cell_type": "markdown",
      "metadata": {
        "id": "mHR-4RaTxB6w",
        "colab_type": "text"
      },
      "source": [
        "# 소프트맥스를 이용한 다중분류 로지스틱회귀\n",
        "- M 개의 입력을 받아 N개의 클래스로 출력하는 로지스틱 회귀모델\n",
        "- 다중분류 로지스틱회귀모델을 소프트맥스라고 부름\n",
        "- 케라스에서 제공하는 MNIST데이터를 이용 0~9까지 분류"
      ]
    },
    {
      "cell_type": "code",
      "metadata": {
        "id": "CJy3gBosyA_M",
        "colab_type": "code",
        "colab": {
          "base_uri": "https://localhost:8080/",
          "height": 35
        },
        "outputId": "40f69c86-07d1-4f4f-d2d1-7562b5e5eb12"
      },
      "source": [
        "from keras.models import Sequential\n",
        "from keras.layers import Dense, Activation\n",
        "from keras.utils import to_categorical\n",
        "from keras.datasets import mnist\n",
        "import numpy as np"
      ],
      "execution_count": 1,
      "outputs": [
        {
          "output_type": "stream",
          "text": [
            "Using TensorFlow backend.\n"
          ],
          "name": "stderr"
        }
      ]
    },
    {
      "cell_type": "code",
      "metadata": {
        "id": "xq5_Nq-OyFSs",
        "colab_type": "code",
        "colab": {
          "base_uri": "https://localhost:8080/",
          "height": 89
        },
        "outputId": "f5ae37e0-9388-47dd-cb51-acced965956d"
      },
      "source": [
        "(X_train, y_train), (X_test, y_test) = mnist.load_data()\n",
        "print( 'train data (count, row, column) :' +str(X_train.shape) ) # (60000, 28, 28)\n",
        "print( 'test data (count, row, column) :' +str(X_test.shape) ) # (10000, 28, 28)\n",
        "print( 'sample from train :' +str(y_train.shape) ) # (60000, 10)\n",
        "print( 'sample from test :' +str(y_test.shape) ) # (10000, 10)"
      ],
      "execution_count": 8,
      "outputs": [
        {
          "output_type": "stream",
          "text": [
            "train data (count, row, column) :(60000, 28, 28)\n",
            "test data (count, row, column) :(10000, 28, 28)\n",
            "sample from train :(60000,)\n",
            "sample from test :(10000,)\n"
          ],
          "name": "stdout"
        }
      ]
    },
    {
      "cell_type": "code",
      "metadata": {
        "id": "mjO3U6uIyYlr",
        "colab_type": "code",
        "colab": {
          "base_uri": "https://localhost:8080/",
          "height": 35
        },
        "outputId": "f687ade9-c16f-46bc-b744-0f1aef1657ed"
      },
      "source": [
        "input_dim = 784 # 28*28픽셀을 행과열 구분없이 784길이의 배열로 구조단순화\n",
        "X_train = X_train.reshape( 60000, input_dim )\n",
        "X_test = X_test.reshape( 10000, -1 ) # 위와 동일결과\n",
        "print(X_train.shape, X_test.shape)"
      ],
      "execution_count": 3,
      "outputs": [
        {
          "output_type": "stream",
          "text": [
            "(60000, 784) (10000, 784)\n"
          ],
          "name": "stdout"
        }
      ]
    },
    {
      "cell_type": "code",
      "metadata": {
        "id": "aVIiIip8y1O0",
        "colab_type": "code",
        "colab": {
          "base_uri": "https://localhost:8080/",
          "height": 35
        },
        "outputId": "f260782a-edf0-45f3-93ca-1957f810f577"
      },
      "source": [
        "# 학습시 y값과의 cross_entropy를 측정하기위해 y를 one hot encoding\n",
        "num_classes = 10\n",
        "y_train = to_categorical(y_train, num_classes)\n",
        "y_test = to_categorical(y_test, num_classes)\n",
        "print(y_train[0], y_test[0])"
      ],
      "execution_count": 4,
      "outputs": [
        {
          "output_type": "stream",
          "text": [
            "[0. 0. 0. 0. 0. 1. 0. 0. 0. 0.] [0. 0. 0. 0. 0. 0. 0. 1. 0. 0.]\n"
          ],
          "name": "stdout"
        }
      ]
    },
    {
      "cell_type": "code",
      "metadata": {
        "id": "o0Dul30E1zV1",
        "colab_type": "code",
        "colab": {
          "base_uri": "https://localhost:8080/",
          "height": 35
        },
        "outputId": "2f54b08e-6f57-46c7-e72b-ba2d6bf8db56"
      },
      "source": [
        "# softmax 구현 784 -> 10개 시그모이드 값을 출력\n",
        "model = Sequential()\n",
        "model.add( Dense(input_dim=input_dim, units =10, activation='softmax') )\n",
        "model.compile( optimizer='sgd', loss='categorical_crossentropy', metrics=['accuracy'] )\n",
        "model.fit( X_train, y_train, batch_size=2048, epochs=100, verbose=0 )"
      ],
      "execution_count": 5,
      "outputs": [
        {
          "output_type": "execute_result",
          "data": {
            "text/plain": [
              "<keras.callbacks.callbacks.History at 0x7f2556103a90>"
            ]
          },
          "metadata": {
            "tags": []
          },
          "execution_count": 5
        }
      ]
    },
    {
      "cell_type": "code",
      "metadata": {
        "id": "1rRE5kB05Tts",
        "colab_type": "code",
        "colab": {
          "base_uri": "https://localhost:8080/",
          "height": 53
        },
        "outputId": "41e00943-3aa9-4e0c-f82d-cd80f501255b"
      },
      "source": [
        "score = model.evaluate(X_test, y_test)\n",
        "print( 'Test accuracy : ' , score[1] )"
      ],
      "execution_count": 6,
      "outputs": [
        {
          "output_type": "stream",
          "text": [
            "10000/10000 [==============================] - 0s 25us/step\n",
            "Test accuracy :  0.6754999756813049\n"
          ],
          "name": "stdout"
        }
      ]
    },
    {
      "cell_type": "code",
      "metadata": {
        "id": "cTcb9ArL6RgV",
        "colab_type": "code",
        "colab": {
          "base_uri": "https://localhost:8080/",
          "height": 197
        },
        "outputId": "4d02d217-73f1-4096-e7b2-bae1235452d4"
      },
      "source": [
        "model.summary()"
      ],
      "execution_count": 7,
      "outputs": [
        {
          "output_type": "stream",
          "text": [
            "Model: \"sequential_1\"\n",
            "_________________________________________________________________\n",
            "Layer (type)                 Output Shape              Param #   \n",
            "=================================================================\n",
            "dense_1 (Dense)              (None, 10)                7850      \n",
            "=================================================================\n",
            "Total params: 7,850\n",
            "Trainable params: 7,850\n",
            "Non-trainable params: 0\n",
            "_________________________________________________________________\n"
          ],
          "name": "stdout"
        }
      ]
    },
    {
      "cell_type": "code",
      "metadata": {
        "id": "lg1RO-nU6Thj",
        "colab_type": "code",
        "colab": {}
      },
      "source": [
        ""
      ],
      "execution_count": 0,
      "outputs": []
    }
  ]
}