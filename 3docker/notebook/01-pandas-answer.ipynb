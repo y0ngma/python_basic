{
 "cells": [
  {
   "cell_type": "markdown",
   "metadata": {},
   "source": [
    "# Pandas로 국민청원 데이터 분석하기"
   ]
  },
  {
   "cell_type": "markdown",
   "metadata": {},
   "source": [
    "## Pandas와 NumPy를 import해 옵니다."
   ]
  },
  {
   "cell_type": "code",
   "execution_count": 35,
   "metadata": {},
   "outputs": [],
   "source": [
    "import pandas as pd\n",
    "import numpy as np"
   ]
  },
  {
   "cell_type": "markdown",
   "metadata": {},
   "source": [
    "## csv 데이터를 불러 옵니다."
   ]
  },
  {
   "cell_type": "code",
   "execution_count": 36,
   "metadata": {},
   "outputs": [],
   "source": [
    "df = pd.read_csv('petition.csv', parse_dates=['start', 'end'])"
   ]
  },
  {
   "cell_type": "markdown",
   "metadata": {},
   "source": [
    "## 읽어온 데이터가 몇 행 몇 열인지 봅니다."
   ]
  },
  {
   "cell_type": "code",
   "execution_count": 37,
   "metadata": {},
   "outputs": [
    {
     "data": {
      "text/plain": [
       "(377756, 8)"
      ]
     },
     "execution_count": 37,
     "metadata": {},
     "output_type": "execute_result"
    }
   ],
   "source": [
    "df.shape"
   ]
  },
  {
   "cell_type": "markdown",
   "metadata": {},
   "source": [
    "## 일부 데이터 미리 보기\n",
    "* 상단 5개의 데이터를 불러옵니다."
   ]
  },
  {
   "cell_type": "code",
   "execution_count": 38,
   "metadata": {},
   "outputs": [
    {
     "data": {
      "text/html": [
       "<div>\n",
       "<style scoped>\n",
       "    .dataframe tbody tr th:only-of-type {\n",
       "        vertical-align: middle;\n",
       "    }\n",
       "\n",
       "    .dataframe tbody tr th {\n",
       "        vertical-align: top;\n",
       "    }\n",
       "\n",
       "    .dataframe thead th {\n",
       "        text-align: right;\n",
       "    }\n",
       "</style>\n",
       "<table border=\"1\" class=\"dataframe\">\n",
       "  <thead>\n",
       "    <tr style=\"text-align: right;\">\n",
       "      <th></th>\n",
       "      <th>article_id</th>\n",
       "      <th>start</th>\n",
       "      <th>end</th>\n",
       "      <th>answered</th>\n",
       "      <th>votes</th>\n",
       "      <th>category</th>\n",
       "      <th>title</th>\n",
       "      <th>content</th>\n",
       "    </tr>\n",
       "  </thead>\n",
       "  <tbody>\n",
       "    <tr>\n",
       "      <td>0</td>\n",
       "      <td>21</td>\n",
       "      <td>2017-08-19</td>\n",
       "      <td>2017-11-17</td>\n",
       "      <td>0</td>\n",
       "      <td>9</td>\n",
       "      <td>안전/환경</td>\n",
       "      <td>스텔라 데이지호에 대한 제안입니다.</td>\n",
       "      <td>스텔라 데이지호에 대한 제안입니다.\\n3월31일 스텔라 데이지호가 침몰하고 5달째가...</td>\n",
       "    </tr>\n",
       "    <tr>\n",
       "      <td>1</td>\n",
       "      <td>22</td>\n",
       "      <td>2017-08-19</td>\n",
       "      <td>2017-11-17</td>\n",
       "      <td>0</td>\n",
       "      <td>17</td>\n",
       "      <td>기타</td>\n",
       "      <td>비리제보처를 만들어주세요.</td>\n",
       "      <td>현 정부에 국민들이 가장 원하는 것은 부패척결입니다.  우리 사회에 각종 비리들이 ...</td>\n",
       "    </tr>\n",
       "    <tr>\n",
       "      <td>2</td>\n",
       "      <td>23</td>\n",
       "      <td>2017-08-19</td>\n",
       "      <td>2017-09-03</td>\n",
       "      <td>0</td>\n",
       "      <td>0</td>\n",
       "      <td>미래</td>\n",
       "      <td>제2의 개성공단</td>\n",
       "      <td>만일 하시는 대통령님 및 각 부처 장관님,주무관님들 안녕하세요!!\\n전남 목포에서 ...</td>\n",
       "    </tr>\n",
       "    <tr>\n",
       "      <td>3</td>\n",
       "      <td>24</td>\n",
       "      <td>2017-08-19</td>\n",
       "      <td>2017-08-26</td>\n",
       "      <td>0</td>\n",
       "      <td>53</td>\n",
       "      <td>일자리</td>\n",
       "      <td>공공기관 무조건적인 정규직전환을 반대합니다.</td>\n",
       "      <td>현정부에서 정규직 일자리를 늘리는 것에 찬성합니다. 그런데 공공기관 비정규직들은 인...</td>\n",
       "    </tr>\n",
       "    <tr>\n",
       "      <td>4</td>\n",
       "      <td>25</td>\n",
       "      <td>2017-08-19</td>\n",
       "      <td>2017-09-03</td>\n",
       "      <td>0</td>\n",
       "      <td>0</td>\n",
       "      <td>미래</td>\n",
       "      <td>제2의 개성공단</td>\n",
       "      <td>만일 하시는 대통령님 및 각 부처 장관님,주무관님들 안녕하세요!!\\n전남 목포에서 ...</td>\n",
       "    </tr>\n",
       "  </tbody>\n",
       "</table>\n",
       "</div>"
      ],
      "text/plain": [
       "   article_id      start        end  answered  votes category  \\\n",
       "0          21 2017-08-19 2017-11-17         0      9    안전/환경   \n",
       "1          22 2017-08-19 2017-11-17         0     17       기타   \n",
       "2          23 2017-08-19 2017-09-03         0      0       미래   \n",
       "3          24 2017-08-19 2017-08-26         0     53      일자리   \n",
       "4          25 2017-08-19 2017-09-03         0      0       미래   \n",
       "\n",
       "                      title                                            content  \n",
       "0       스텔라 데이지호에 대한 제안입니다.  스텔라 데이지호에 대한 제안입니다.\\n3월31일 스텔라 데이지호가 침몰하고 5달째가...  \n",
       "1            비리제보처를 만들어주세요.  현 정부에 국민들이 가장 원하는 것은 부패척결입니다.  우리 사회에 각종 비리들이 ...  \n",
       "2                  제2의 개성공단  만일 하시는 대통령님 및 각 부처 장관님,주무관님들 안녕하세요!!\\n전남 목포에서 ...  \n",
       "3  공공기관 무조건적인 정규직전환을 반대합니다.  현정부에서 정규직 일자리를 늘리는 것에 찬성합니다. 그런데 공공기관 비정규직들은 인...  \n",
       "4                  제2의 개성공단  만일 하시는 대통령님 및 각 부처 장관님,주무관님들 안녕하세요!!\\n전남 목포에서 ...  "
      ]
     },
     "execution_count": 38,
     "metadata": {},
     "output_type": "execute_result"
    }
   ],
   "source": [
    "df.head(5)"
   ]
  },
  {
   "cell_type": "markdown",
   "metadata": {},
   "source": [
    "* 하단 3개의 데이터를 불러옵니다."
   ]
  },
  {
   "cell_type": "code",
   "execution_count": 39,
   "metadata": {},
   "outputs": [
    {
     "data": {
      "text/html": [
       "<div>\n",
       "<style scoped>\n",
       "    .dataframe tbody tr th:only-of-type {\n",
       "        vertical-align: middle;\n",
       "    }\n",
       "\n",
       "    .dataframe tbody tr th {\n",
       "        vertical-align: top;\n",
       "    }\n",
       "\n",
       "    .dataframe thead th {\n",
       "        text-align: right;\n",
       "    }\n",
       "</style>\n",
       "<table border=\"1\" class=\"dataframe\">\n",
       "  <thead>\n",
       "    <tr style=\"text-align: right;\">\n",
       "      <th></th>\n",
       "      <th>article_id</th>\n",
       "      <th>start</th>\n",
       "      <th>end</th>\n",
       "      <th>answered</th>\n",
       "      <th>votes</th>\n",
       "      <th>category</th>\n",
       "      <th>title</th>\n",
       "      <th>content</th>\n",
       "    </tr>\n",
       "  </thead>\n",
       "  <tbody>\n",
       "    <tr>\n",
       "      <td>377753</td>\n",
       "      <td>492041</td>\n",
       "      <td>2019-01-09</td>\n",
       "      <td>2019-02-08</td>\n",
       "      <td>0</td>\n",
       "      <td>1</td>\n",
       "      <td>외교/통일/국방</td>\n",
       "      <td>남한땅에 옥류관을 오픈해주세요</td>\n",
       "      <td>말그대로 옥류관을 여기서 열면 진짜 재미있고 신나는 일이 일어날것 같은 느낌이 듭니...</td>\n",
       "    </tr>\n",
       "    <tr>\n",
       "      <td>377754</td>\n",
       "      <td>492042</td>\n",
       "      <td>2019-01-09</td>\n",
       "      <td>2019-02-08</td>\n",
       "      <td>0</td>\n",
       "      <td>4</td>\n",
       "      <td>정치개혁</td>\n",
       "      <td>임종석실장님 수고많으셨습니다.</td>\n",
       "      <td>범죄정권이후 많은 어려움을 갖고 시작한 국민의정부.\\n저급한 자칭 보수단체와 한국당...</td>\n",
       "    </tr>\n",
       "    <tr>\n",
       "      <td>377755</td>\n",
       "      <td>492043</td>\n",
       "      <td>2019-01-09</td>\n",
       "      <td>2019-02-08</td>\n",
       "      <td>0</td>\n",
       "      <td>1</td>\n",
       "      <td>행정</td>\n",
       "      <td>예천군과 환경부를 규탄합니다. 어불성설인 가축사육 관련 법규를 개정해주세요!</td>\n",
       "      <td>해당 사건이 발생한 곳은 요즘은 매체에서 매일 나오는 곳으로 '군의원의 외유성 해외...</td>\n",
       "    </tr>\n",
       "  </tbody>\n",
       "</table>\n",
       "</div>"
      ],
      "text/plain": [
       "        article_id      start        end  answered  votes  category  \\\n",
       "377753      492041 2019-01-09 2019-02-08         0      1  외교/통일/국방   \n",
       "377754      492042 2019-01-09 2019-02-08         0      4      정치개혁   \n",
       "377755      492043 2019-01-09 2019-02-08         0      1        행정   \n",
       "\n",
       "                                             title  \\\n",
       "377753                            남한땅에 옥류관을 오픈해주세요   \n",
       "377754                            임종석실장님 수고많으셨습니다.   \n",
       "377755  예천군과 환경부를 규탄합니다. 어불성설인 가축사육 관련 법규를 개정해주세요!   \n",
       "\n",
       "                                                  content  \n",
       "377753  말그대로 옥류관을 여기서 열면 진짜 재미있고 신나는 일이 일어날것 같은 느낌이 듭니...  \n",
       "377754  범죄정권이후 많은 어려움을 갖고 시작한 국민의정부.\\n저급한 자칭 보수단체와 한국당...  \n",
       "377755  해당 사건이 발생한 곳은 요즘은 매체에서 매일 나오는 곳으로 '군의원의 외유성 해외...  "
      ]
     },
     "execution_count": 39,
     "metadata": {},
     "output_type": "execute_result"
    }
   ],
   "source": [
    "df.tail(3)"
   ]
  },
  {
   "cell_type": "markdown",
   "metadata": {},
   "source": [
    "## 결측치가 있는지 확인해 봅니다."
   ]
  },
  {
   "cell_type": "code",
   "execution_count": 40,
   "metadata": {},
   "outputs": [
    {
     "data": {
      "text/plain": [
       "article_id    0\n",
       "start         0\n",
       "end           0\n",
       "answered      0\n",
       "votes         0\n",
       "category      0\n",
       "title         0\n",
       "content       1\n",
       "dtype: int64"
      ]
     },
     "execution_count": 40,
     "metadata": {},
     "output_type": "execute_result"
    }
   ],
   "source": [
    "df.isnull().sum()"
   ]
  },
  {
   "cell_type": "markdown",
   "metadata": {},
   "source": [
    "## 데이터 요약하기\n",
    "* 어떤 컬럼이 있고 어떤 타입인지 출력해 봅니다."
   ]
  },
  {
   "cell_type": "code",
   "execution_count": 41,
   "metadata": {},
   "outputs": [
    {
     "name": "stdout",
     "output_type": "stream",
     "text": [
      "<class 'pandas.core.frame.DataFrame'>\n",
      "RangeIndex: 377756 entries, 0 to 377755\n",
      "Data columns (total 8 columns):\n",
      "article_id    377756 non-null int64\n",
      "start         377756 non-null datetime64[ns]\n",
      "end           377756 non-null datetime64[ns]\n",
      "answered      377756 non-null int64\n",
      "votes         377756 non-null int64\n",
      "category      377756 non-null object\n",
      "title         377756 non-null object\n",
      "content       377755 non-null object\n",
      "dtypes: datetime64[ns](2), int64(3), object(3)\n",
      "memory usage: 23.1+ MB\n"
     ]
    }
   ],
   "source": [
    "df.info()"
   ]
  },
  {
   "cell_type": "markdown",
   "metadata": {},
   "source": [
    "* 데이터 타입만 따로 뽑아 봅니다."
   ]
  },
  {
   "cell_type": "code",
   "execution_count": 42,
   "metadata": {},
   "outputs": [
    {
     "data": {
      "text/plain": [
       "article_id             int64\n",
       "start         datetime64[ns]\n",
       "end           datetime64[ns]\n",
       "answered               int64\n",
       "votes                  int64\n",
       "category              object\n",
       "title                 object\n",
       "content               object\n",
       "dtype: object"
      ]
     },
     "execution_count": 42,
     "metadata": {},
     "output_type": "execute_result"
    }
   ],
   "source": [
    "df.dtypes"
   ]
  },
  {
   "cell_type": "markdown",
   "metadata": {},
   "source": [
    "* 컬럼명만 따로 추출해 봅니다."
   ]
  },
  {
   "cell_type": "code",
   "execution_count": 43,
   "metadata": {},
   "outputs": [
    {
     "data": {
      "text/plain": [
       "Index(['article_id', 'start', 'end', 'answered', 'votes', 'category', 'title',\n",
       "       'content'],\n",
       "      dtype='object')"
      ]
     },
     "execution_count": 43,
     "metadata": {},
     "output_type": "execute_result"
    }
   ],
   "source": [
    "df.columns"
   ]
  },
  {
   "cell_type": "markdown",
   "metadata": {},
   "source": [
    "* 수치형 데이터에 대한 요약을 봅니다."
   ]
  },
  {
   "cell_type": "code",
   "execution_count": 44,
   "metadata": {},
   "outputs": [
    {
     "data": {
      "text/html": [
       "<div>\n",
       "<style scoped>\n",
       "    .dataframe tbody tr th:only-of-type {\n",
       "        vertical-align: middle;\n",
       "    }\n",
       "\n",
       "    .dataframe tbody tr th {\n",
       "        vertical-align: top;\n",
       "    }\n",
       "\n",
       "    .dataframe thead th {\n",
       "        text-align: right;\n",
       "    }\n",
       "</style>\n",
       "<table border=\"1\" class=\"dataframe\">\n",
       "  <thead>\n",
       "    <tr style=\"text-align: right;\">\n",
       "      <th></th>\n",
       "      <th>article_id</th>\n",
       "      <th>answered</th>\n",
       "      <th>votes</th>\n",
       "    </tr>\n",
       "  </thead>\n",
       "  <tbody>\n",
       "    <tr>\n",
       "      <td>count</td>\n",
       "      <td>377756.000000</td>\n",
       "      <td>377756.000000</td>\n",
       "      <td>3.777560e+05</td>\n",
       "    </tr>\n",
       "    <tr>\n",
       "      <td>mean</td>\n",
       "      <td>239703.455924</td>\n",
       "      <td>0.000077</td>\n",
       "      <td>1.514069e+02</td>\n",
       "    </tr>\n",
       "    <tr>\n",
       "      <td>std</td>\n",
       "      <td>146382.863480</td>\n",
       "      <td>0.008761</td>\n",
       "      <td>4.842551e+03</td>\n",
       "    </tr>\n",
       "    <tr>\n",
       "      <td>min</td>\n",
       "      <td>21.000000</td>\n",
       "      <td>0.000000</td>\n",
       "      <td>0.000000e+00</td>\n",
       "    </tr>\n",
       "    <tr>\n",
       "      <td>25%</td>\n",
       "      <td>108933.750000</td>\n",
       "      <td>0.000000</td>\n",
       "      <td>1.000000e+00</td>\n",
       "    </tr>\n",
       "    <tr>\n",
       "      <td>50%</td>\n",
       "      <td>237637.000000</td>\n",
       "      <td>0.000000</td>\n",
       "      <td>5.000000e+00</td>\n",
       "    </tr>\n",
       "    <tr>\n",
       "      <td>75%</td>\n",
       "      <td>367937.250000</td>\n",
       "      <td>0.000000</td>\n",
       "      <td>1.500000e+01</td>\n",
       "    </tr>\n",
       "    <tr>\n",
       "      <td>max</td>\n",
       "      <td>492043.000000</td>\n",
       "      <td>1.000000</td>\n",
       "      <td>1.192049e+06</td>\n",
       "    </tr>\n",
       "  </tbody>\n",
       "</table>\n",
       "</div>"
      ],
      "text/plain": [
       "          article_id       answered         votes\n",
       "count  377756.000000  377756.000000  3.777560e+05\n",
       "mean   239703.455924       0.000077  1.514069e+02\n",
       "std    146382.863480       0.008761  4.842551e+03\n",
       "min        21.000000       0.000000  0.000000e+00\n",
       "25%    108933.750000       0.000000  1.000000e+00\n",
       "50%    237637.000000       0.000000  5.000000e+00\n",
       "75%    367937.250000       0.000000  1.500000e+01\n",
       "max    492043.000000       1.000000  1.192049e+06"
      ]
     },
     "execution_count": 44,
     "metadata": {},
     "output_type": "execute_result"
    }
   ],
   "source": [
    "df.describe()"
   ]
  },
  {
   "cell_type": "markdown",
   "metadata": {},
   "source": [
    "* 카테고리(object) 형태의 데이터에 대한 요약을 봅니다."
   ]
  },
  {
   "cell_type": "code",
   "execution_count": 45,
   "metadata": {},
   "outputs": [
    {
     "data": {
      "text/html": [
       "<div>\n",
       "<style scoped>\n",
       "    .dataframe tbody tr th:only-of-type {\n",
       "        vertical-align: middle;\n",
       "    }\n",
       "\n",
       "    .dataframe tbody tr th {\n",
       "        vertical-align: top;\n",
       "    }\n",
       "\n",
       "    .dataframe thead th {\n",
       "        text-align: right;\n",
       "    }\n",
       "</style>\n",
       "<table border=\"1\" class=\"dataframe\">\n",
       "  <thead>\n",
       "    <tr style=\"text-align: right;\">\n",
       "      <th></th>\n",
       "      <th>category</th>\n",
       "      <th>title</th>\n",
       "      <th>content</th>\n",
       "    </tr>\n",
       "  </thead>\n",
       "  <tbody>\n",
       "    <tr>\n",
       "      <td>count</td>\n",
       "      <td>377756</td>\n",
       "      <td>377756</td>\n",
       "      <td>377755</td>\n",
       "    </tr>\n",
       "    <tr>\n",
       "      <td>unique</td>\n",
       "      <td>17</td>\n",
       "      <td>330206</td>\n",
       "      <td>358060</td>\n",
       "    </tr>\n",
       "    <tr>\n",
       "      <td>top</td>\n",
       "      <td>정치개혁</td>\n",
       "      <td>이명박 출국금지</td>\n",
       "      <td>이명박 출국금지</td>\n",
       "    </tr>\n",
       "    <tr>\n",
       "      <td>freq</td>\n",
       "      <td>59020</td>\n",
       "      <td>3018</td>\n",
       "      <td>597</td>\n",
       "    </tr>\n",
       "  </tbody>\n",
       "</table>\n",
       "</div>"
      ],
      "text/plain": [
       "       category     title   content\n",
       "count    377756    377756    377755\n",
       "unique       17    330206    358060\n",
       "top        정치개혁  이명박 출국금지  이명박 출국금지\n",
       "freq      59020      3018       597"
      ]
     },
     "execution_count": 45,
     "metadata": {},
     "output_type": "execute_result"
    }
   ],
   "source": [
    "df.describe(include=np.object)"
   ]
  },
  {
   "cell_type": "markdown",
   "metadata": {},
   "source": [
    "## 답변대상 청원 보기\n",
    "20만건 이상 투표를 받으면 답변 대상 청원이 됩니다.<br/>20만건 이상 투표를 받은 청원의 갯수를 세어보세요."
   ]
  },
  {
   "cell_type": "code",
   "execution_count": 46,
   "metadata": {},
   "outputs": [
    {
     "data": {
      "text/plain": [
       "(77, 8)"
      ]
     },
     "execution_count": 46,
     "metadata": {},
     "output_type": "execute_result"
    }
   ],
   "source": [
    "df_20 = df.loc[df['votes'] > 200000]\n",
    "df_20.shape"
   ]
  },
  {
   "cell_type": "code",
   "execution_count": 47,
   "metadata": {},
   "outputs": [
    {
     "data": {
      "text/plain": [
       "article_id    3343\n",
       "start         3343\n",
       "end           3343\n",
       "answered      3343\n",
       "votes         3343\n",
       "category      3343\n",
       "title         3343\n",
       "content       3343\n",
       "dtype: int64"
      ]
     },
     "execution_count": 47,
     "metadata": {},
     "output_type": "execute_result"
    }
   ],
   "source": [
    "df.loc[df['votes'] > 1000 ].count()"
   ]
  },
  {
   "cell_type": "code",
   "execution_count": 48,
   "metadata": {},
   "outputs": [
    {
     "data": {
      "text/plain": [
       "인권/성평등         23\n",
       "안전/환경          10\n",
       "문화/예술/체육/언론     7\n",
       "정치개혁            7\n",
       "기타              7\n",
       "외교/통일/국방        4\n",
       "반려동물            4\n",
       "육아/교육           3\n",
       "교통/건축/국토        3\n",
       "보건복지            3\n",
       "경제민주화           2\n",
       "성장동력            2\n",
       "행정              1\n",
       "미래              1\n",
       "Name: category, dtype: int64"
      ]
     },
     "execution_count": 48,
     "metadata": {},
     "output_type": "execute_result"
    }
   ],
   "source": [
    "df_20.category.value_counts()"
   ]
  },
  {
   "cell_type": "code",
   "execution_count": 49,
   "metadata": {},
   "outputs": [
    {
     "data": {
      "text/html": [
       "<div>\n",
       "<style scoped>\n",
       "    .dataframe tbody tr th:only-of-type {\n",
       "        vertical-align: middle;\n",
       "    }\n",
       "\n",
       "    .dataframe tbody tr th {\n",
       "        vertical-align: top;\n",
       "    }\n",
       "\n",
       "    .dataframe thead th {\n",
       "        text-align: right;\n",
       "    }\n",
       "</style>\n",
       "<table border=\"1\" class=\"dataframe\">\n",
       "  <thead>\n",
       "    <tr style=\"text-align: right;\">\n",
       "      <th></th>\n",
       "      <th>title</th>\n",
       "      <th>content</th>\n",
       "    </tr>\n",
       "  </thead>\n",
       "  <tbody>\n",
       "    <tr>\n",
       "      <td>1752</td>\n",
       "      <td>청소년이란 이유로 보호법을 악용하는 잔인무도한 청소년들이 늘어나고있습니다. 반드시 ...</td>\n",
       "      <td>안녕하십니까. 청소년보호법이란 명목하에 나쁜짓을 일삼는 청소년들이 너무나 많아지고 ...</td>\n",
       "    </tr>\n",
       "    <tr>\n",
       "      <td>10894</td>\n",
       "      <td>조두순 출소반대</td>\n",
       "      <td>제발 조두순 재심다시해서 무기징역으로 해야됩니다!!!</td>\n",
       "    </tr>\n",
       "    <tr>\n",
       "      <td>18111</td>\n",
       "      <td>낙태죄 폐지와 자연유산 유도약(미프진) 합법화 및 도입을 부탁드립니다.</td>\n",
       "      <td>안녕하세요. 존경하는 대통령님 의원님\\n낙태죄 폐지를 청원합니다.\\n현재 대한민국은...</td>\n",
       "    </tr>\n",
       "  </tbody>\n",
       "</table>\n",
       "</div>"
      ],
      "text/plain": [
       "                                                   title  \\\n",
       "1752   청소년이란 이유로 보호법을 악용하는 잔인무도한 청소년들이 늘어나고있습니다. 반드시 ...   \n",
       "10894                                           조두순 출소반대   \n",
       "18111            낙태죄 폐지와 자연유산 유도약(미프진) 합법화 및 도입을 부탁드립니다.   \n",
       "\n",
       "                                                 content  \n",
       "1752   안녕하십니까. 청소년보호법이란 명목하에 나쁜짓을 일삼는 청소년들이 너무나 많아지고 ...  \n",
       "10894                      제발 조두순 재심다시해서 무기징역으로 해야됩니다!!!  \n",
       "18111  안녕하세요. 존경하는 대통령님 의원님\\n낙태죄 폐지를 청원합니다.\\n현재 대한민국은...  "
      ]
     },
     "execution_count": 49,
     "metadata": {},
     "output_type": "execute_result"
    }
   ],
   "source": [
    "df_20[['title', 'content']].head(3)"
   ]
  },
  {
   "cell_type": "markdown",
   "metadata": {},
   "source": [
    "* 20만건 이상 투표를 받은 상위 5개의 청원을 head()를 통해 출력해 보세요."
   ]
  },
  {
   "cell_type": "code",
   "execution_count": 50,
   "metadata": {},
   "outputs": [
    {
     "data": {
      "text/html": [
       "<div>\n",
       "<style scoped>\n",
       "    .dataframe tbody tr th:only-of-type {\n",
       "        vertical-align: middle;\n",
       "    }\n",
       "\n",
       "    .dataframe tbody tr th {\n",
       "        vertical-align: top;\n",
       "    }\n",
       "\n",
       "    .dataframe thead th {\n",
       "        text-align: right;\n",
       "    }\n",
       "</style>\n",
       "<table border=\"1\" class=\"dataframe\">\n",
       "  <thead>\n",
       "    <tr style=\"text-align: right;\">\n",
       "      <th></th>\n",
       "      <th>article_id</th>\n",
       "      <th>start</th>\n",
       "      <th>end</th>\n",
       "      <th>answered</th>\n",
       "      <th>votes</th>\n",
       "      <th>category</th>\n",
       "      <th>title</th>\n",
       "      <th>content</th>\n",
       "    </tr>\n",
       "  </thead>\n",
       "  <tbody>\n",
       "    <tr>\n",
       "      <td>313314</td>\n",
       "      <td>408609</td>\n",
       "      <td>2018-10-17</td>\n",
       "      <td>2018-11-16</td>\n",
       "      <td>0</td>\n",
       "      <td>1192049</td>\n",
       "      <td>안전/환경</td>\n",
       "      <td>강서구 피시방 살인 사건. 또 심신미약 피의자입니다.</td>\n",
       "      <td>2018년 10월 14일 엊그제 일어난 강서구 피시방 살인사건에 대한 청원입니다.\\...</td>\n",
       "    </tr>\n",
       "    <tr>\n",
       "      <td>208597</td>\n",
       "      <td>269548</td>\n",
       "      <td>2018-06-13</td>\n",
       "      <td>2018-07-13</td>\n",
       "      <td>0</td>\n",
       "      <td>714875</td>\n",
       "      <td>외교/통일/국방</td>\n",
       "      <td>제주도 불법 난민 신청 문제에 따른 난민법, 무사증 입국, 난민신청허가 폐지/개헌 ...</td>\n",
       "      <td>2012년 난민법 제정으로 인해 외국인은 한달 무비자로 입국할 수 있으나 난민신청자...</td>\n",
       "    </tr>\n",
       "    <tr>\n",
       "      <td>10894</td>\n",
       "      <td>10949</td>\n",
       "      <td>2017-09-06</td>\n",
       "      <td>2017-12-05</td>\n",
       "      <td>1</td>\n",
       "      <td>615354</td>\n",
       "      <td>미래</td>\n",
       "      <td>조두순 출소반대</td>\n",
       "      <td>제발 조두순 재심다시해서 무기징역으로 해야됩니다!!!</td>\n",
       "    </tr>\n",
       "    <tr>\n",
       "      <td>118970</td>\n",
       "      <td>142600</td>\n",
       "      <td>2018-02-19</td>\n",
       "      <td>2018-03-21</td>\n",
       "      <td>1</td>\n",
       "      <td>614127</td>\n",
       "      <td>문화/예술/체육/언론</td>\n",
       "      <td>김보름, 박지우 선수의 자격박탈과 적폐 빙상연맹의 엄중 처벌을 청원합니다</td>\n",
       "      <td>오늘 여자 단체전 팀추월에서 김보름, 박지우 선수는 팀전인데도 불구하고 개인의 영달...</td>\n",
       "    </tr>\n",
       "    <tr>\n",
       "      <td>183791</td>\n",
       "      <td>230552</td>\n",
       "      <td>2018-05-11</td>\n",
       "      <td>2018-06-10</td>\n",
       "      <td>1</td>\n",
       "      <td>419006</td>\n",
       "      <td>인권/성평등</td>\n",
       "      <td>여성도 대한민국 국민입니다. 성별 관계없는 국가의 보호를 요청합니다.</td>\n",
       "      <td>최근 홍대 누드크로키 모델의 불법촬영 사건이 있었습니다.\\n사건은 굉장히 빠르게 처...</td>\n",
       "    </tr>\n",
       "  </tbody>\n",
       "</table>\n",
       "</div>"
      ],
      "text/plain": [
       "        article_id      start        end  answered    votes     category  \\\n",
       "313314      408609 2018-10-17 2018-11-16         0  1192049        안전/환경   \n",
       "208597      269548 2018-06-13 2018-07-13         0   714875     외교/통일/국방   \n",
       "10894        10949 2017-09-06 2017-12-05         1   615354           미래   \n",
       "118970      142600 2018-02-19 2018-03-21         1   614127  문화/예술/체육/언론   \n",
       "183791      230552 2018-05-11 2018-06-10         1   419006       인권/성평등   \n",
       "\n",
       "                                                    title  \\\n",
       "313314                      강서구 피시방 살인 사건. 또 심신미약 피의자입니다.   \n",
       "208597  제주도 불법 난민 신청 문제에 따른 난민법, 무사증 입국, 난민신청허가 폐지/개헌 ...   \n",
       "10894                                            조두순 출소반대   \n",
       "118970           김보름, 박지우 선수의 자격박탈과 적폐 빙상연맹의 엄중 처벌을 청원합니다   \n",
       "183791             여성도 대한민국 국민입니다. 성별 관계없는 국가의 보호를 요청합니다.   \n",
       "\n",
       "                                                  content  \n",
       "313314  2018년 10월 14일 엊그제 일어난 강서구 피시방 살인사건에 대한 청원입니다.\\...  \n",
       "208597  2012년 난민법 제정으로 인해 외국인은 한달 무비자로 입국할 수 있으나 난민신청자...  \n",
       "10894                       제발 조두순 재심다시해서 무기징역으로 해야됩니다!!!  \n",
       "118970  오늘 여자 단체전 팀추월에서 김보름, 박지우 선수는 팀전인데도 불구하고 개인의 영달...  \n",
       "183791  최근 홍대 누드크로키 모델의 불법촬영 사건이 있었습니다.\\n사건은 굉장히 빠르게 처...  "
      ]
     },
     "execution_count": 50,
     "metadata": {},
     "output_type": "execute_result"
    }
   ],
   "source": [
    "df_20_loc = df.loc[df.votes > 200000]\n",
    "df_20_loc.sort_values(by='votes', ascending=False).head()"
   ]
  },
  {
   "cell_type": "markdown",
   "metadata": {},
   "source": [
    "* 20만건 이상 투표를 받은 청원을 별도의 컬럼을 만들어 줍니다. 컬럼 이름은 `answer`로 합니다."
   ]
  },
  {
   "cell_type": "code",
   "execution_count": 51,
   "metadata": {},
   "outputs": [],
   "source": [
    "df['answer'] = (df['votes'] > 200000) == 1"
   ]
  },
  {
   "cell_type": "markdown",
   "metadata": {},
   "source": [
    "* df 데이터프레임의 크기를 다시 찍어 보세요. 컬럼 하나가 늘었나요?"
   ]
  },
  {
   "cell_type": "code",
   "execution_count": 52,
   "metadata": {},
   "outputs": [
    {
     "data": {
      "text/plain": [
       "(377756, 9)"
      ]
     },
     "execution_count": 52,
     "metadata": {},
     "output_type": "execute_result"
    }
   ],
   "source": [
    "df.shape"
   ]
  },
  {
   "cell_type": "code",
   "execution_count": 19,
   "metadata": {},
   "outputs": [
    {
     "data": {
      "text/plain": [
       "article_id             int64\n",
       "start         datetime64[ns]\n",
       "end           datetime64[ns]\n",
       "answered               int64\n",
       "votes                  int64\n",
       "category              object\n",
       "title                 object\n",
       "content               object\n",
       "answer                  bool\n",
       "dtype: object"
      ]
     },
     "execution_count": 19,
     "metadata": {},
     "output_type": "execute_result"
    }
   ],
   "source": [
    "df.dtypes"
   ]
  },
  {
   "cell_type": "markdown",
   "metadata": {},
   "source": [
    "* 새로 생성해 준 answer의 타입은 boolean 타입입니다. int로 변경해 보세요."
   ]
  },
  {
   "cell_type": "code",
   "execution_count": 53,
   "metadata": {},
   "outputs": [],
   "source": [
    "df['answer'] = df['answer'].astype('int')"
   ]
  },
  {
   "cell_type": "markdown",
   "metadata": {},
   "source": [
    "* 답변대상 청원중 아직 답변되지 않은 청원의 수를 계산해 보세요."
   ]
  },
  {
   "cell_type": "code",
   "execution_count": 54,
   "metadata": {},
   "outputs": [
    {
     "data": {
      "text/plain": [
       "48"
      ]
     },
     "execution_count": 54,
     "metadata": {},
     "output_type": "execute_result"
    }
   ],
   "source": [
    "df['answer_diff'] = df['answer'] - df['answered']\n",
    "df['answer_diff'].sum()"
   ]
  },
  {
   "cell_type": "markdown",
   "metadata": {},
   "source": [
    "## 답변 대상 청원 중 투표를 가장 많이 받은 것"
   ]
  },
  {
   "cell_type": "code",
   "execution_count": 22,
   "metadata": {},
   "outputs": [
    {
     "data": {
      "text/html": [
       "<div>\n",
       "<style scoped>\n",
       "    .dataframe tbody tr th:only-of-type {\n",
       "        vertical-align: middle;\n",
       "    }\n",
       "\n",
       "    .dataframe tbody tr th {\n",
       "        vertical-align: top;\n",
       "    }\n",
       "\n",
       "    .dataframe thead th {\n",
       "        text-align: right;\n",
       "    }\n",
       "</style>\n",
       "<table border=\"1\" class=\"dataframe\">\n",
       "  <thead>\n",
       "    <tr style=\"text-align: right;\">\n",
       "      <th></th>\n",
       "      <th>article_id</th>\n",
       "      <th>start</th>\n",
       "      <th>end</th>\n",
       "      <th>answered</th>\n",
       "      <th>votes</th>\n",
       "      <th>category</th>\n",
       "      <th>title</th>\n",
       "      <th>content</th>\n",
       "      <th>answer</th>\n",
       "      <th>answer_diff</th>\n",
       "    </tr>\n",
       "  </thead>\n",
       "  <tbody>\n",
       "    <tr>\n",
       "      <td>313314</td>\n",
       "      <td>408609</td>\n",
       "      <td>2018-10-17</td>\n",
       "      <td>2018-11-16</td>\n",
       "      <td>0</td>\n",
       "      <td>1192049</td>\n",
       "      <td>안전/환경</td>\n",
       "      <td>강서구 피시방 살인 사건. 또 심신미약 피의자입니다.</td>\n",
       "      <td>2018년 10월 14일 엊그제 일어난 강서구 피시방 살인사건에 대한 청원입니다.\\...</td>\n",
       "      <td>1</td>\n",
       "      <td>1</td>\n",
       "    </tr>\n",
       "    <tr>\n",
       "      <td>208597</td>\n",
       "      <td>269548</td>\n",
       "      <td>2018-06-13</td>\n",
       "      <td>2018-07-13</td>\n",
       "      <td>0</td>\n",
       "      <td>714875</td>\n",
       "      <td>외교/통일/국방</td>\n",
       "      <td>제주도 불법 난민 신청 문제에 따른 난민법, 무사증 입국, 난민신청허가 폐지/개헌 ...</td>\n",
       "      <td>2012년 난민법 제정으로 인해 외국인은 한달 무비자로 입국할 수 있으나 난민신청자...</td>\n",
       "      <td>1</td>\n",
       "      <td>1</td>\n",
       "    </tr>\n",
       "    <tr>\n",
       "      <td>10894</td>\n",
       "      <td>10949</td>\n",
       "      <td>2017-09-06</td>\n",
       "      <td>2017-12-05</td>\n",
       "      <td>1</td>\n",
       "      <td>615354</td>\n",
       "      <td>미래</td>\n",
       "      <td>조두순 출소반대</td>\n",
       "      <td>제발 조두순 재심다시해서 무기징역으로 해야됩니다!!!</td>\n",
       "      <td>1</td>\n",
       "      <td>0</td>\n",
       "    </tr>\n",
       "    <tr>\n",
       "      <td>118970</td>\n",
       "      <td>142600</td>\n",
       "      <td>2018-02-19</td>\n",
       "      <td>2018-03-21</td>\n",
       "      <td>1</td>\n",
       "      <td>614127</td>\n",
       "      <td>문화/예술/체육/언론</td>\n",
       "      <td>김보름, 박지우 선수의 자격박탈과 적폐 빙상연맹의 엄중 처벌을 청원합니다</td>\n",
       "      <td>오늘 여자 단체전 팀추월에서 김보름, 박지우 선수는 팀전인데도 불구하고 개인의 영달...</td>\n",
       "      <td>1</td>\n",
       "      <td>0</td>\n",
       "    </tr>\n",
       "    <tr>\n",
       "      <td>183791</td>\n",
       "      <td>230552</td>\n",
       "      <td>2018-05-11</td>\n",
       "      <td>2018-06-10</td>\n",
       "      <td>1</td>\n",
       "      <td>419006</td>\n",
       "      <td>인권/성평등</td>\n",
       "      <td>여성도 대한민국 국민입니다. 성별 관계없는 국가의 보호를 요청합니다.</td>\n",
       "      <td>최근 홍대 누드크로키 모델의 불법촬영 사건이 있었습니다.\\n사건은 굉장히 빠르게 처...</td>\n",
       "      <td>1</td>\n",
       "      <td>0</td>\n",
       "    </tr>\n",
       "  </tbody>\n",
       "</table>\n",
       "</div>"
      ],
      "text/plain": [
       "        article_id      start        end  answered    votes     category  \\\n",
       "313314      408609 2018-10-17 2018-11-16         0  1192049        안전/환경   \n",
       "208597      269548 2018-06-13 2018-07-13         0   714875     외교/통일/국방   \n",
       "10894        10949 2017-09-06 2017-12-05         1   615354           미래   \n",
       "118970      142600 2018-02-19 2018-03-21         1   614127  문화/예술/체육/언론   \n",
       "183791      230552 2018-05-11 2018-06-10         1   419006       인권/성평등   \n",
       "\n",
       "                                                    title  \\\n",
       "313314                      강서구 피시방 살인 사건. 또 심신미약 피의자입니다.   \n",
       "208597  제주도 불법 난민 신청 문제에 따른 난민법, 무사증 입국, 난민신청허가 폐지/개헌 ...   \n",
       "10894                                            조두순 출소반대   \n",
       "118970           김보름, 박지우 선수의 자격박탈과 적폐 빙상연맹의 엄중 처벌을 청원합니다   \n",
       "183791             여성도 대한민국 국민입니다. 성별 관계없는 국가의 보호를 요청합니다.   \n",
       "\n",
       "                                                  content  answer  answer_diff  \n",
       "313314  2018년 10월 14일 엊그제 일어난 강서구 피시방 살인사건에 대한 청원입니다.\\...       1            1  \n",
       "208597  2012년 난민법 제정으로 인해 외국인은 한달 무비자로 입국할 수 있으나 난민신청자...       1            1  \n",
       "10894                       제발 조두순 재심다시해서 무기징역으로 해야됩니다!!!       1            0  \n",
       "118970  오늘 여자 단체전 팀추월에서 김보름, 박지우 선수는 팀전인데도 불구하고 개인의 영달...       1            0  \n",
       "183791  최근 홍대 누드크로키 모델의 불법촬영 사건이 있었습니다.\\n사건은 굉장히 빠르게 처...       1            0  "
      ]
     },
     "execution_count": 22,
     "metadata": {},
     "output_type": "execute_result"
    }
   ],
   "source": [
    "answered_df = df.loc[df['answer'] == 1]\n",
    "answered_df.sort_values('votes', ascending=False).head(5)"
   ]
  },
  {
   "cell_type": "markdown",
   "metadata": {},
   "source": [
    "## 어느 분야의 청원이 가장 많이 들어왔는지?\n",
    "pandas의 value_counts로 특정 컬럼의 데이터를 그룹화하여 카운된 숫자를 볼 수 있습니다.<br/>\n",
    "어느 분야의 청원이 가장 많이 들어왔는지 찾아보세요."
   ]
  },
  {
   "cell_type": "code",
   "execution_count": 23,
   "metadata": {},
   "outputs": [
    {
     "data": {
      "text/html": [
       "<div>\n",
       "<style scoped>\n",
       "    .dataframe tbody tr th:only-of-type {\n",
       "        vertical-align: middle;\n",
       "    }\n",
       "\n",
       "    .dataframe tbody tr th {\n",
       "        vertical-align: top;\n",
       "    }\n",
       "\n",
       "    .dataframe thead th {\n",
       "        text-align: right;\n",
       "    }\n",
       "</style>\n",
       "<table border=\"1\" class=\"dataframe\">\n",
       "  <thead>\n",
       "    <tr style=\"text-align: right;\">\n",
       "      <th></th>\n",
       "      <th>category</th>\n",
       "      <th>counts</th>\n",
       "    </tr>\n",
       "  </thead>\n",
       "  <tbody>\n",
       "    <tr>\n",
       "      <td>0</td>\n",
       "      <td>정치개혁</td>\n",
       "      <td>59020</td>\n",
       "    </tr>\n",
       "    <tr>\n",
       "      <td>1</td>\n",
       "      <td>기타</td>\n",
       "      <td>46449</td>\n",
       "    </tr>\n",
       "    <tr>\n",
       "      <td>2</td>\n",
       "      <td>인권/성평등</td>\n",
       "      <td>33738</td>\n",
       "    </tr>\n",
       "    <tr>\n",
       "      <td>3</td>\n",
       "      <td>안전/환경</td>\n",
       "      <td>29196</td>\n",
       "    </tr>\n",
       "    <tr>\n",
       "      <td>4</td>\n",
       "      <td>교통/건축/국토</td>\n",
       "      <td>26910</td>\n",
       "    </tr>\n",
       "    <tr>\n",
       "      <td>5</td>\n",
       "      <td>외교/통일/국방</td>\n",
       "      <td>25705</td>\n",
       "    </tr>\n",
       "    <tr>\n",
       "      <td>6</td>\n",
       "      <td>육아/교육</td>\n",
       "      <td>24861</td>\n",
       "    </tr>\n",
       "    <tr>\n",
       "      <td>7</td>\n",
       "      <td>보건복지</td>\n",
       "      <td>23608</td>\n",
       "    </tr>\n",
       "    <tr>\n",
       "      <td>8</td>\n",
       "      <td>일자리</td>\n",
       "      <td>22111</td>\n",
       "    </tr>\n",
       "    <tr>\n",
       "      <td>9</td>\n",
       "      <td>행정</td>\n",
       "      <td>19373</td>\n",
       "    </tr>\n",
       "    <tr>\n",
       "      <td>10</td>\n",
       "      <td>문화/예술/체육/언론</td>\n",
       "      <td>17257</td>\n",
       "    </tr>\n",
       "    <tr>\n",
       "      <td>11</td>\n",
       "      <td>미래</td>\n",
       "      <td>17190</td>\n",
       "    </tr>\n",
       "    <tr>\n",
       "      <td>12</td>\n",
       "      <td>경제민주화</td>\n",
       "      <td>16281</td>\n",
       "    </tr>\n",
       "    <tr>\n",
       "      <td>13</td>\n",
       "      <td>성장동력</td>\n",
       "      <td>6991</td>\n",
       "    </tr>\n",
       "    <tr>\n",
       "      <td>14</td>\n",
       "      <td>반려동물</td>\n",
       "      <td>3827</td>\n",
       "    </tr>\n",
       "    <tr>\n",
       "      <td>15</td>\n",
       "      <td>저출산/고령화대책</td>\n",
       "      <td>3461</td>\n",
       "    </tr>\n",
       "    <tr>\n",
       "      <td>16</td>\n",
       "      <td>농산어촌</td>\n",
       "      <td>1778</td>\n",
       "    </tr>\n",
       "  </tbody>\n",
       "</table>\n",
       "</div>"
      ],
      "text/plain": [
       "       category  counts\n",
       "0          정치개혁   59020\n",
       "1            기타   46449\n",
       "2        인권/성평등   33738\n",
       "3         안전/환경   29196\n",
       "4      교통/건축/국토   26910\n",
       "5      외교/통일/국방   25705\n",
       "6         육아/교육   24861\n",
       "7          보건복지   23608\n",
       "8           일자리   22111\n",
       "9            행정   19373\n",
       "10  문화/예술/체육/언론   17257\n",
       "11           미래   17190\n",
       "12        경제민주화   16281\n",
       "13         성장동력    6991\n",
       "14         반려동물    3827\n",
       "15    저출산/고령화대책    3461\n",
       "16         농산어촌    1778"
      ]
     },
     "execution_count": 23,
     "metadata": {},
     "output_type": "execute_result"
    }
   ],
   "source": [
    "category = pd.DataFrame(df['category'].value_counts()).reset_index()\n",
    "category.columns = ['category', 'counts']\n",
    "category"
   ]
  },
  {
   "cell_type": "markdown",
   "metadata": {},
   "source": [
    "## 청원이 가장 많이 들어 온 날은 언제인지 정렬해 보세요."
   ]
  },
  {
   "cell_type": "code",
   "execution_count": 24,
   "metadata": {},
   "outputs": [
    {
     "name": "stdout",
     "output_type": "stream",
     "text": [
      "청원 집계: 509일\n"
     ]
    },
    {
     "data": {
      "text/html": [
       "<div>\n",
       "<style scoped>\n",
       "    .dataframe tbody tr th:only-of-type {\n",
       "        vertical-align: middle;\n",
       "    }\n",
       "\n",
       "    .dataframe tbody tr th {\n",
       "        vertical-align: top;\n",
       "    }\n",
       "\n",
       "    .dataframe thead th {\n",
       "        text-align: right;\n",
       "    }\n",
       "</style>\n",
       "<table border=\"1\" class=\"dataframe\">\n",
       "  <thead>\n",
       "    <tr style=\"text-align: right;\">\n",
       "      <th></th>\n",
       "      <th>start</th>\n",
       "      <th>counts</th>\n",
       "    </tr>\n",
       "  </thead>\n",
       "  <tbody>\n",
       "    <tr>\n",
       "      <td>0</td>\n",
       "      <td>2017-11-11</td>\n",
       "      <td>9623</td>\n",
       "    </tr>\n",
       "    <tr>\n",
       "      <td>1</td>\n",
       "      <td>2017-09-05</td>\n",
       "      <td>5952</td>\n",
       "    </tr>\n",
       "    <tr>\n",
       "      <td>2</td>\n",
       "      <td>2018-01-11</td>\n",
       "      <td>3368</td>\n",
       "    </tr>\n",
       "    <tr>\n",
       "      <td>3</td>\n",
       "      <td>2018-02-06</td>\n",
       "      <td>2631</td>\n",
       "    </tr>\n",
       "    <tr>\n",
       "      <td>4</td>\n",
       "      <td>2017-11-09</td>\n",
       "      <td>2487</td>\n",
       "    </tr>\n",
       "  </tbody>\n",
       "</table>\n",
       "</div>"
      ],
      "text/plain": [
       "       start  counts\n",
       "0 2017-11-11    9623\n",
       "1 2017-09-05    5952\n",
       "2 2018-01-11    3368\n",
       "3 2018-02-06    2631\n",
       "4 2017-11-09    2487"
      ]
     },
     "execution_count": 24,
     "metadata": {},
     "output_type": "execute_result"
    }
   ],
   "source": [
    "start_df = pd.DataFrame(df['start'].value_counts()).reset_index()\n",
    "start_df.columns = ['start', 'counts']\n",
    "start_df = start_df.sort_values('counts', ascending=False)\n",
    "print('청원 집계: {}일'.format(start_df.shape[0]))\n",
    "start_df.head()"
   ]
  },
  {
   "cell_type": "markdown",
   "metadata": {},
   "source": [
    "## 피봇 테이블로 투표를 가장 많이 받은 분야를 찾아보세요."
   ]
  },
  {
   "cell_type": "code",
   "execution_count": 25,
   "metadata": {},
   "outputs": [
    {
     "data": {
      "text/html": [
       "<div>\n",
       "<style scoped>\n",
       "    .dataframe tbody tr th:only-of-type {\n",
       "        vertical-align: middle;\n",
       "    }\n",
       "\n",
       "    .dataframe tbody tr th {\n",
       "        vertical-align: top;\n",
       "    }\n",
       "\n",
       "    .dataframe thead th {\n",
       "        text-align: right;\n",
       "    }\n",
       "</style>\n",
       "<table border=\"1\" class=\"dataframe\">\n",
       "  <thead>\n",
       "    <tr style=\"text-align: right;\">\n",
       "      <th></th>\n",
       "      <th>category</th>\n",
       "      <th>answer</th>\n",
       "      <th>answer_diff</th>\n",
       "      <th>answered</th>\n",
       "      <th>article_id</th>\n",
       "      <th>votes</th>\n",
       "    </tr>\n",
       "  </thead>\n",
       "  <tbody>\n",
       "    <tr>\n",
       "      <td>0</td>\n",
       "      <td>인권/성평등</td>\n",
       "      <td>23</td>\n",
       "      <td>14</td>\n",
       "      <td>9</td>\n",
       "      <td>7329787166</td>\n",
       "      <td>12225998</td>\n",
       "    </tr>\n",
       "    <tr>\n",
       "      <td>1</td>\n",
       "      <td>안전/환경</td>\n",
       "      <td>10</td>\n",
       "      <td>8</td>\n",
       "      <td>2</td>\n",
       "      <td>6806887655</td>\n",
       "      <td>6512799</td>\n",
       "    </tr>\n",
       "    <tr>\n",
       "      <td>2</td>\n",
       "      <td>정치개혁</td>\n",
       "      <td>7</td>\n",
       "      <td>5</td>\n",
       "      <td>2</td>\n",
       "      <td>12787866627</td>\n",
       "      <td>5686172</td>\n",
       "    </tr>\n",
       "    <tr>\n",
       "      <td>3</td>\n",
       "      <td>기타</td>\n",
       "      <td>7</td>\n",
       "      <td>6</td>\n",
       "      <td>1</td>\n",
       "      <td>11097814909</td>\n",
       "      <td>4720310</td>\n",
       "    </tr>\n",
       "    <tr>\n",
       "      <td>4</td>\n",
       "      <td>육아/교육</td>\n",
       "      <td>3</td>\n",
       "      <td>2</td>\n",
       "      <td>1</td>\n",
       "      <td>5482023289</td>\n",
       "      <td>4420589</td>\n",
       "    </tr>\n",
       "    <tr>\n",
       "      <td>5</td>\n",
       "      <td>보건복지</td>\n",
       "      <td>3</td>\n",
       "      <td>1</td>\n",
       "      <td>2</td>\n",
       "      <td>5965078695</td>\n",
       "      <td>4269399</td>\n",
       "    </tr>\n",
       "    <tr>\n",
       "      <td>6</td>\n",
       "      <td>문화/예술/체육/언론</td>\n",
       "      <td>7</td>\n",
       "      <td>3</td>\n",
       "      <td>4</td>\n",
       "      <td>3948940469</td>\n",
       "      <td>4086382</td>\n",
       "    </tr>\n",
       "    <tr>\n",
       "      <td>7</td>\n",
       "      <td>외교/통일/국방</td>\n",
       "      <td>4</td>\n",
       "      <td>3</td>\n",
       "      <td>1</td>\n",
       "      <td>6404855753</td>\n",
       "      <td>3637926</td>\n",
       "    </tr>\n",
       "    <tr>\n",
       "      <td>8</td>\n",
       "      <td>교통/건축/국토</td>\n",
       "      <td>3</td>\n",
       "      <td>1</td>\n",
       "      <td>2</td>\n",
       "      <td>7909816091</td>\n",
       "      <td>2834727</td>\n",
       "    </tr>\n",
       "    <tr>\n",
       "      <td>9</td>\n",
       "      <td>반려동물</td>\n",
       "      <td>4</td>\n",
       "      <td>4</td>\n",
       "      <td>0</td>\n",
       "      <td>918432206</td>\n",
       "      <td>2023905</td>\n",
       "    </tr>\n",
       "    <tr>\n",
       "      <td>10</td>\n",
       "      <td>경제민주화</td>\n",
       "      <td>2</td>\n",
       "      <td>1</td>\n",
       "      <td>1</td>\n",
       "      <td>4271746442</td>\n",
       "      <td>1720766</td>\n",
       "    </tr>\n",
       "    <tr>\n",
       "      <td>11</td>\n",
       "      <td>행정</td>\n",
       "      <td>1</td>\n",
       "      <td>0</td>\n",
       "      <td>1</td>\n",
       "      <td>4672319073</td>\n",
       "      <td>1665855</td>\n",
       "    </tr>\n",
       "    <tr>\n",
       "      <td>12</td>\n",
       "      <td>미래</td>\n",
       "      <td>1</td>\n",
       "      <td>0</td>\n",
       "      <td>1</td>\n",
       "      <td>4039796144</td>\n",
       "      <td>1120174</td>\n",
       "    </tr>\n",
       "    <tr>\n",
       "      <td>13</td>\n",
       "      <td>일자리</td>\n",
       "      <td>0</td>\n",
       "      <td>0</td>\n",
       "      <td>0</td>\n",
       "      <td>5943377441</td>\n",
       "      <td>1113973</td>\n",
       "    </tr>\n",
       "    <tr>\n",
       "      <td>14</td>\n",
       "      <td>성장동력</td>\n",
       "      <td>2</td>\n",
       "      <td>0</td>\n",
       "      <td>2</td>\n",
       "      <td>1663093738</td>\n",
       "      <td>866240</td>\n",
       "    </tr>\n",
       "    <tr>\n",
       "      <td>15</td>\n",
       "      <td>저출산/고령화대책</td>\n",
       "      <td>0</td>\n",
       "      <td>0</td>\n",
       "      <td>0</td>\n",
       "      <td>851191153</td>\n",
       "      <td>174841</td>\n",
       "    </tr>\n",
       "    <tr>\n",
       "      <td>16</td>\n",
       "      <td>농산어촌</td>\n",
       "      <td>0</td>\n",
       "      <td>0</td>\n",
       "      <td>0</td>\n",
       "      <td>456391845</td>\n",
       "      <td>114822</td>\n",
       "    </tr>\n",
       "  </tbody>\n",
       "</table>\n",
       "</div>"
      ],
      "text/plain": [
       "       category  answer  answer_diff  answered   article_id     votes\n",
       "0        인권/성평등      23           14         9   7329787166  12225998\n",
       "1         안전/환경      10            8         2   6806887655   6512799\n",
       "2          정치개혁       7            5         2  12787866627   5686172\n",
       "3            기타       7            6         1  11097814909   4720310\n",
       "4         육아/교육       3            2         1   5482023289   4420589\n",
       "5          보건복지       3            1         2   5965078695   4269399\n",
       "6   문화/예술/체육/언론       7            3         4   3948940469   4086382\n",
       "7      외교/통일/국방       4            3         1   6404855753   3637926\n",
       "8      교통/건축/국토       3            1         2   7909816091   2834727\n",
       "9          반려동물       4            4         0    918432206   2023905\n",
       "10        경제민주화       2            1         1   4271746442   1720766\n",
       "11           행정       1            0         1   4672319073   1665855\n",
       "12           미래       1            0         1   4039796144   1120174\n",
       "13          일자리       0            0         0   5943377441   1113973\n",
       "14         성장동력       2            0         2   1663093738    866240\n",
       "15    저출산/고령화대책       0            0         0    851191153    174841\n",
       "16         농산어촌       0            0         0    456391845    114822"
      ]
     },
     "execution_count": 25,
     "metadata": {},
     "output_type": "execute_result"
    }
   ],
   "source": [
    "petitions_unique = pd.pivot_table(df, index=['category'], aggfunc=np.sum)\n",
    "petitions_best = petitions_unique.sort_values(by='votes', \\\n",
    "                                              ascending=False).reset_index()\n",
    "petitions_best"
   ]
  },
  {
   "cell_type": "markdown",
   "metadata": {},
   "source": [
    "## 투표를 가장 많이 받은 날은 언제일까요?"
   ]
  },
  {
   "cell_type": "code",
   "execution_count": 26,
   "metadata": {},
   "outputs": [
    {
     "data": {
      "text/html": [
       "<div>\n",
       "<style scoped>\n",
       "    .dataframe tbody tr th:only-of-type {\n",
       "        vertical-align: middle;\n",
       "    }\n",
       "\n",
       "    .dataframe tbody tr th {\n",
       "        vertical-align: top;\n",
       "    }\n",
       "\n",
       "    .dataframe thead th {\n",
       "        text-align: right;\n",
       "    }\n",
       "</style>\n",
       "<table border=\"1\" class=\"dataframe\">\n",
       "  <thead>\n",
       "    <tr style=\"text-align: right;\">\n",
       "      <th></th>\n",
       "      <th>answer</th>\n",
       "      <th>answer_diff</th>\n",
       "      <th>answered</th>\n",
       "      <th>article_id</th>\n",
       "      <th>votes</th>\n",
       "    </tr>\n",
       "    <tr>\n",
       "      <th>start</th>\n",
       "      <th></th>\n",
       "      <th></th>\n",
       "      <th></th>\n",
       "      <th></th>\n",
       "      <th></th>\n",
       "    </tr>\n",
       "  </thead>\n",
       "  <tbody>\n",
       "    <tr>\n",
       "      <td>2018-10-17</td>\n",
       "      <td>1</td>\n",
       "      <td>1</td>\n",
       "      <td>0</td>\n",
       "      <td>378900198</td>\n",
       "      <td>1300523</td>\n",
       "    </tr>\n",
       "    <tr>\n",
       "      <td>2018-10-31</td>\n",
       "      <td>2</td>\n",
       "      <td>2</td>\n",
       "      <td>0</td>\n",
       "      <td>430964099</td>\n",
       "      <td>827096</td>\n",
       "    </tr>\n",
       "    <tr>\n",
       "      <td>2018-06-13</td>\n",
       "      <td>1</td>\n",
       "      <td>1</td>\n",
       "      <td>0</td>\n",
       "      <td>146187973</td>\n",
       "      <td>786157</td>\n",
       "    </tr>\n",
       "    <tr>\n",
       "      <td>2018-10-18</td>\n",
       "      <td>2</td>\n",
       "      <td>2</td>\n",
       "      <td>0</td>\n",
       "      <td>423557789</td>\n",
       "      <td>721524</td>\n",
       "    </tr>\n",
       "    <tr>\n",
       "      <td>2018-02-19</td>\n",
       "      <td>1</td>\n",
       "      <td>0</td>\n",
       "      <td>1</td>\n",
       "      <td>99332898</td>\n",
       "      <td>701520</td>\n",
       "    </tr>\n",
       "    <tr>\n",
       "      <td>2018-11-09</td>\n",
       "      <td>2</td>\n",
       "      <td>2</td>\n",
       "      <td>0</td>\n",
       "      <td>349439392</td>\n",
       "      <td>672819</td>\n",
       "    </tr>\n",
       "    <tr>\n",
       "      <td>2018-07-22</td>\n",
       "      <td>1</td>\n",
       "      <td>1</td>\n",
       "      <td>0</td>\n",
       "      <td>282639463</td>\n",
       "      <td>672491</td>\n",
       "    </tr>\n",
       "    <tr>\n",
       "      <td>2017-09-06</td>\n",
       "      <td>1</td>\n",
       "      <td>0</td>\n",
       "      <td>1</td>\n",
       "      <td>22268570</td>\n",
       "      <td>648209</td>\n",
       "    </tr>\n",
       "    <tr>\n",
       "      <td>2018-06-24</td>\n",
       "      <td>2</td>\n",
       "      <td>2</td>\n",
       "      <td>0</td>\n",
       "      <td>359345089</td>\n",
       "      <td>628925</td>\n",
       "    </tr>\n",
       "    <tr>\n",
       "      <td>2018-10-04</td>\n",
       "      <td>2</td>\n",
       "      <td>1</td>\n",
       "      <td>1</td>\n",
       "      <td>290746555</td>\n",
       "      <td>626761</td>\n",
       "    </tr>\n",
       "    <tr>\n",
       "      <td>2018-02-23</td>\n",
       "      <td>2</td>\n",
       "      <td>0</td>\n",
       "      <td>2</td>\n",
       "      <td>168561151</td>\n",
       "      <td>608530</td>\n",
       "    </tr>\n",
       "    <tr>\n",
       "      <td>2018-05-18</td>\n",
       "      <td>1</td>\n",
       "      <td>1</td>\n",
       "      <td>0</td>\n",
       "      <td>190599564</td>\n",
       "      <td>574483</td>\n",
       "    </tr>\n",
       "    <tr>\n",
       "      <td>2018-05-11</td>\n",
       "      <td>1</td>\n",
       "      <td>0</td>\n",
       "      <td>1</td>\n",
       "      <td>119082098</td>\n",
       "      <td>556549</td>\n",
       "    </tr>\n",
       "    <tr>\n",
       "      <td>2018-05-25</td>\n",
       "      <td>2</td>\n",
       "      <td>2</td>\n",
       "      <td>0</td>\n",
       "      <td>217699031</td>\n",
       "      <td>514253</td>\n",
       "    </tr>\n",
       "    <tr>\n",
       "      <td>2018-11-14</td>\n",
       "      <td>1</td>\n",
       "      <td>1</td>\n",
       "      <td>0</td>\n",
       "      <td>341163199</td>\n",
       "      <td>469027</td>\n",
       "    </tr>\n",
       "    <tr>\n",
       "      <td>2018-06-17</td>\n",
       "      <td>2</td>\n",
       "      <td>2</td>\n",
       "      <td>0</td>\n",
       "      <td>158887091</td>\n",
       "      <td>468341</td>\n",
       "    </tr>\n",
       "    <tr>\n",
       "      <td>2018-07-03</td>\n",
       "      <td>1</td>\n",
       "      <td>1</td>\n",
       "      <td>0</td>\n",
       "      <td>247788786</td>\n",
       "      <td>467132</td>\n",
       "    </tr>\n",
       "    <tr>\n",
       "      <td>2018-04-17</td>\n",
       "      <td>1</td>\n",
       "      <td>0</td>\n",
       "      <td>1</td>\n",
       "      <td>232499699</td>\n",
       "      <td>446950</td>\n",
       "    </tr>\n",
       "    <tr>\n",
       "      <td>2018-05-02</td>\n",
       "      <td>1</td>\n",
       "      <td>1</td>\n",
       "      <td>0</td>\n",
       "      <td>204023320</td>\n",
       "      <td>445493</td>\n",
       "    </tr>\n",
       "    <tr>\n",
       "      <td>2018-10-02</td>\n",
       "      <td>1</td>\n",
       "      <td>0</td>\n",
       "      <td>1</td>\n",
       "      <td>326518258</td>\n",
       "      <td>437841</td>\n",
       "    </tr>\n",
       "    <tr>\n",
       "      <td>2017-09-03</td>\n",
       "      <td>1</td>\n",
       "      <td>0</td>\n",
       "      <td>1</td>\n",
       "      <td>404415</td>\n",
       "      <td>433356</td>\n",
       "    </tr>\n",
       "    <tr>\n",
       "      <td>2018-06-14</td>\n",
       "      <td>1</td>\n",
       "      <td>0</td>\n",
       "      <td>1</td>\n",
       "      <td>204240095</td>\n",
       "      <td>403351</td>\n",
       "    </tr>\n",
       "    <tr>\n",
       "      <td>2018-01-20</td>\n",
       "      <td>1</td>\n",
       "      <td>0</td>\n",
       "      <td>1</td>\n",
       "      <td>99071361</td>\n",
       "      <td>399683</td>\n",
       "    </tr>\n",
       "    <tr>\n",
       "      <td>2017-11-17</td>\n",
       "      <td>1</td>\n",
       "      <td>0</td>\n",
       "      <td>1</td>\n",
       "      <td>23752225</td>\n",
       "      <td>393348</td>\n",
       "    </tr>\n",
       "    <tr>\n",
       "      <td>2017-11-24</td>\n",
       "      <td>1</td>\n",
       "      <td>0</td>\n",
       "      <td>1</td>\n",
       "      <td>80814983</td>\n",
       "      <td>392782</td>\n",
       "    </tr>\n",
       "    <tr>\n",
       "      <td>2018-12-07</td>\n",
       "      <td>1</td>\n",
       "      <td>1</td>\n",
       "      <td>0</td>\n",
       "      <td>394821243</td>\n",
       "      <td>387305</td>\n",
       "    </tr>\n",
       "    <tr>\n",
       "      <td>2018-03-24</td>\n",
       "      <td>1</td>\n",
       "      <td>1</td>\n",
       "      <td>0</td>\n",
       "      <td>96422371</td>\n",
       "      <td>385480</td>\n",
       "    </tr>\n",
       "    <tr>\n",
       "      <td>2018-09-06</td>\n",
       "      <td>1</td>\n",
       "      <td>1</td>\n",
       "      <td>0</td>\n",
       "      <td>381171515</td>\n",
       "      <td>383145</td>\n",
       "    </tr>\n",
       "    <tr>\n",
       "      <td>2018-03-03</td>\n",
       "      <td>1</td>\n",
       "      <td>0</td>\n",
       "      <td>1</td>\n",
       "      <td>94454042</td>\n",
       "      <td>380016</td>\n",
       "    </tr>\n",
       "    <tr>\n",
       "      <td>2018-01-15</td>\n",
       "      <td>1</td>\n",
       "      <td>0</td>\n",
       "      <td>1</td>\n",
       "      <td>106053634</td>\n",
       "      <td>376187</td>\n",
       "    </tr>\n",
       "    <tr>\n",
       "      <td>2018-04-16</td>\n",
       "      <td>1</td>\n",
       "      <td>1</td>\n",
       "      <td>0</td>\n",
       "      <td>168625159</td>\n",
       "      <td>369318</td>\n",
       "    </tr>\n",
       "    <tr>\n",
       "      <td>2018-01-25</td>\n",
       "      <td>1</td>\n",
       "      <td>0</td>\n",
       "      <td>1</td>\n",
       "      <td>129153668</td>\n",
       "      <td>364926</td>\n",
       "    </tr>\n",
       "    <tr>\n",
       "      <td>2019-01-07</td>\n",
       "      <td>1</td>\n",
       "      <td>1</td>\n",
       "      <td>0</td>\n",
       "      <td>312286224</td>\n",
       "      <td>352139</td>\n",
       "    </tr>\n",
       "  </tbody>\n",
       "</table>\n",
       "</div>"
      ],
      "text/plain": [
       "            answer  answer_diff  answered  article_id    votes\n",
       "start                                                         \n",
       "2018-10-17       1            1         0   378900198  1300523\n",
       "2018-10-31       2            2         0   430964099   827096\n",
       "2018-06-13       1            1         0   146187973   786157\n",
       "2018-10-18       2            2         0   423557789   721524\n",
       "2018-02-19       1            0         1    99332898   701520\n",
       "2018-11-09       2            2         0   349439392   672819\n",
       "2018-07-22       1            1         0   282639463   672491\n",
       "2017-09-06       1            0         1    22268570   648209\n",
       "2018-06-24       2            2         0   359345089   628925\n",
       "2018-10-04       2            1         1   290746555   626761\n",
       "2018-02-23       2            0         2   168561151   608530\n",
       "2018-05-18       1            1         0   190599564   574483\n",
       "2018-05-11       1            0         1   119082098   556549\n",
       "2018-05-25       2            2         0   217699031   514253\n",
       "2018-11-14       1            1         0   341163199   469027\n",
       "2018-06-17       2            2         0   158887091   468341\n",
       "2018-07-03       1            1         0   247788786   467132\n",
       "2018-04-17       1            0         1   232499699   446950\n",
       "2018-05-02       1            1         0   204023320   445493\n",
       "2018-10-02       1            0         1   326518258   437841\n",
       "2017-09-03       1            0         1      404415   433356\n",
       "2018-06-14       1            0         1   204240095   403351\n",
       "2018-01-20       1            0         1    99071361   399683\n",
       "2017-11-17       1            0         1    23752225   393348\n",
       "2017-11-24       1            0         1    80814983   392782\n",
       "2018-12-07       1            1         0   394821243   387305\n",
       "2018-03-24       1            1         0    96422371   385480\n",
       "2018-09-06       1            1         0   381171515   383145\n",
       "2018-03-03       1            0         1    94454042   380016\n",
       "2018-01-15       1            0         1   106053634   376187\n",
       "2018-04-16       1            1         0   168625159   369318\n",
       "2018-01-25       1            0         1   129153668   364926\n",
       "2019-01-07       1            1         0   312286224   352139"
      ]
     },
     "execution_count": 26,
     "metadata": {},
     "output_type": "execute_result"
    }
   ],
   "source": [
    "petitions_start = pd.pivot_table(df, index=['start'], aggfunc=np.sum)\n",
    "votes_df = petitions_start.sort_values(by='votes', ascending=False)\n",
    "votes_df.loc[petitions_start['votes'] > 350000]"
   ]
  },
  {
   "cell_type": "markdown",
   "metadata": {},
   "source": [
    "## 청원을 많이 받은 날 VS 투표를 많이 받은 날에 대해 각각 상위 5개 목록을 추출해 봅니다. \n",
    "이때, title, content는 안 나와도 됩니다."
   ]
  },
  {
   "cell_type": "code",
   "execution_count": 27,
   "metadata": {},
   "outputs": [
    {
     "data": {
      "text/html": [
       "<div>\n",
       "<style scoped>\n",
       "    .dataframe tbody tr th:only-of-type {\n",
       "        vertical-align: middle;\n",
       "    }\n",
       "\n",
       "    .dataframe tbody tr th {\n",
       "        vertical-align: top;\n",
       "    }\n",
       "\n",
       "    .dataframe thead th {\n",
       "        text-align: right;\n",
       "    }\n",
       "</style>\n",
       "<table border=\"1\" class=\"dataframe\">\n",
       "  <thead>\n",
       "    <tr style=\"text-align: right;\">\n",
       "      <th></th>\n",
       "      <th>start</th>\n",
       "      <th>counts</th>\n",
       "      <th>answer</th>\n",
       "      <th>answer_diff</th>\n",
       "      <th>answered</th>\n",
       "      <th>article_id</th>\n",
       "      <th>votes</th>\n",
       "    </tr>\n",
       "  </thead>\n",
       "  <tbody>\n",
       "    <tr>\n",
       "      <td>0</td>\n",
       "      <td>2017-11-11</td>\n",
       "      <td>9623</td>\n",
       "      <td>0</td>\n",
       "      <td>0</td>\n",
       "      <td>0</td>\n",
       "      <td>348559310</td>\n",
       "      <td>85074</td>\n",
       "    </tr>\n",
       "    <tr>\n",
       "      <td>1</td>\n",
       "      <td>2017-09-05</td>\n",
       "      <td>5952</td>\n",
       "      <td>0</td>\n",
       "      <td>0</td>\n",
       "      <td>0</td>\n",
       "      <td>38414241</td>\n",
       "      <td>48808</td>\n",
       "    </tr>\n",
       "    <tr>\n",
       "      <td>2</td>\n",
       "      <td>2018-01-11</td>\n",
       "      <td>3368</td>\n",
       "      <td>0</td>\n",
       "      <td>0</td>\n",
       "      <td>0</td>\n",
       "      <td>291069195</td>\n",
       "      <td>44570</td>\n",
       "    </tr>\n",
       "    <tr>\n",
       "      <td>3</td>\n",
       "      <td>2018-02-06</td>\n",
       "      <td>2631</td>\n",
       "      <td>0</td>\n",
       "      <td>0</td>\n",
       "      <td>0</td>\n",
       "      <td>342371897</td>\n",
       "      <td>83038</td>\n",
       "    </tr>\n",
       "    <tr>\n",
       "      <td>4</td>\n",
       "      <td>2017-11-09</td>\n",
       "      <td>2487</td>\n",
       "      <td>0</td>\n",
       "      <td>0</td>\n",
       "      <td>0</td>\n",
       "      <td>73459579</td>\n",
       "      <td>34774</td>\n",
       "    </tr>\n",
       "  </tbody>\n",
       "</table>\n",
       "</div>"
      ],
      "text/plain": [
       "       start  counts  answer  answer_diff  answered  article_id  votes\n",
       "0 2017-11-11    9623       0            0         0   348559310  85074\n",
       "1 2017-09-05    5952       0            0         0    38414241  48808\n",
       "2 2018-01-11    3368       0            0         0   291069195  44570\n",
       "3 2018-02-06    2631       0            0         0   342371897  83038\n",
       "4 2017-11-09    2487       0            0         0    73459579  34774"
      ]
     },
     "execution_count": 27,
     "metadata": {},
     "output_type": "execute_result"
    }
   ],
   "source": [
    "# 두 개의 데이터프레임을 합치기 위해 인덱스를 생성한다.\n",
    "votes_df = votes_df.reset_index()\n",
    "hottest_day_df = start_df.merge(votes_df, on='start', how='left')\n",
    "hottest_day_df.sort_values('counts', ascending=False)[:5]"
   ]
  },
  {
   "cell_type": "code",
   "execution_count": 28,
   "metadata": {},
   "outputs": [
    {
     "data": {
      "text/html": [
       "<div>\n",
       "<style scoped>\n",
       "    .dataframe tbody tr th:only-of-type {\n",
       "        vertical-align: middle;\n",
       "    }\n",
       "\n",
       "    .dataframe tbody tr th {\n",
       "        vertical-align: top;\n",
       "    }\n",
       "\n",
       "    .dataframe thead th {\n",
       "        text-align: right;\n",
       "    }\n",
       "</style>\n",
       "<table border=\"1\" class=\"dataframe\">\n",
       "  <thead>\n",
       "    <tr style=\"text-align: right;\">\n",
       "      <th></th>\n",
       "      <th>start</th>\n",
       "      <th>counts</th>\n",
       "      <th>answer</th>\n",
       "      <th>answer_diff</th>\n",
       "      <th>answered</th>\n",
       "      <th>article_id</th>\n",
       "      <th>votes</th>\n",
       "    </tr>\n",
       "  </thead>\n",
       "  <tbody>\n",
       "    <tr>\n",
       "      <td>113</td>\n",
       "      <td>2018-10-17</td>\n",
       "      <td>926</td>\n",
       "      <td>1</td>\n",
       "      <td>1</td>\n",
       "      <td>0</td>\n",
       "      <td>378900198</td>\n",
       "      <td>1300523</td>\n",
       "    </tr>\n",
       "    <tr>\n",
       "      <td>80</td>\n",
       "      <td>2018-10-31</td>\n",
       "      <td>1010</td>\n",
       "      <td>2</td>\n",
       "      <td>2</td>\n",
       "      <td>0</td>\n",
       "      <td>430964099</td>\n",
       "      <td>827096</td>\n",
       "    </tr>\n",
       "    <tr>\n",
       "      <td>365</td>\n",
       "      <td>2018-06-13</td>\n",
       "      <td>542</td>\n",
       "      <td>1</td>\n",
       "      <td>1</td>\n",
       "      <td>0</td>\n",
       "      <td>146187973</td>\n",
       "      <td>786157</td>\n",
       "    </tr>\n",
       "    <tr>\n",
       "      <td>74</td>\n",
       "      <td>2018-10-18</td>\n",
       "      <td>1032</td>\n",
       "      <td>2</td>\n",
       "      <td>2</td>\n",
       "      <td>0</td>\n",
       "      <td>423557789</td>\n",
       "      <td>721524</td>\n",
       "    </tr>\n",
       "    <tr>\n",
       "      <td>258</td>\n",
       "      <td>2018-02-19</td>\n",
       "      <td>698</td>\n",
       "      <td>1</td>\n",
       "      <td>0</td>\n",
       "      <td>1</td>\n",
       "      <td>99332898</td>\n",
       "      <td>701520</td>\n",
       "    </tr>\n",
       "  </tbody>\n",
       "</table>\n",
       "</div>"
      ],
      "text/plain": [
       "         start  counts  answer  answer_diff  answered  article_id    votes\n",
       "113 2018-10-17     926       1            1         0   378900198  1300523\n",
       "80  2018-10-31    1010       2            2         0   430964099   827096\n",
       "365 2018-06-13     542       1            1         0   146187973   786157\n",
       "74  2018-10-18    1032       2            2         0   423557789   721524\n",
       "258 2018-02-19     698       1            0         1    99332898   701520"
      ]
     },
     "execution_count": 28,
     "metadata": {},
     "output_type": "execute_result"
    }
   ],
   "source": [
    "hottest_day_df.sort_values('votes', ascending=False)[:5]"
   ]
  },
  {
   "cell_type": "markdown",
   "metadata": {},
   "source": [
    "## 시계열 데이터 보기\n",
    "* 월별 청원수를 집계해 보세요."
   ]
  },
  {
   "cell_type": "code",
   "execution_count": 55,
   "metadata": {},
   "outputs": [
    {
     "data": {
      "text/plain": [
       "(377756, 14)"
      ]
     },
     "execution_count": 55,
     "metadata": {},
     "output_type": "execute_result"
    }
   ],
   "source": [
    "df['start_month'] = df['start'].dt.month\n",
    "df['start_day'] = df['start'].dt.day\n",
    "df['start_hour'] = df['start'].dt.hour\n",
    "df['start_dow'] = df['start'].dt.dayofweek\n",
    "df.shape"
   ]
  },
  {
   "cell_type": "code",
   "execution_count": 56,
   "metadata": {},
   "outputs": [
    {
     "data": {
      "text/plain": [
       "11    52847\n",
       "9     40888\n",
       "12    38498\n",
       "1     37410\n",
       "10    31687\n",
       "8     28851\n",
       "2     25857\n",
       "7     25714\n",
       "5     25499\n",
       "6     25483\n",
       "4     23227\n",
       "3     21795\n",
       "Name: start_month, dtype: int64"
      ]
     },
     "execution_count": 56,
     "metadata": {},
     "output_type": "execute_result"
    }
   ],
   "source": [
    "df['start_month'].value_counts()"
   ]
  },
  {
   "cell_type": "markdown",
   "metadata": {},
   "source": [
    "* 청원이 가장 많이 들어온 달은 언제인가요?\n",
    "* 요일별 청원 수는 어떻게 되나요?"
   ]
  },
  {
   "cell_type": "code",
   "execution_count": 59,
   "metadata": {},
   "outputs": [
    {
     "data": {
      "text/plain": [
       "(7911, 14)"
      ]
     },
     "execution_count": 59,
     "metadata": {},
     "output_type": "execute_result"
    }
   ],
   "source": [
    "crypto = df[( df.title.str.find('가상화폐') != -1 ) | ( df.content.str.find('가상화폐') != -1  )]\n",
    "crypto.shape"
   ]
  },
  {
   "cell_type": "code",
   "execution_count": 60,
   "metadata": {},
   "outputs": [
    {
     "data": {
      "text/html": [
       "<div>\n",
       "<style scoped>\n",
       "    .dataframe tbody tr th:only-of-type {\n",
       "        vertical-align: middle;\n",
       "    }\n",
       "\n",
       "    .dataframe tbody tr th {\n",
       "        vertical-align: top;\n",
       "    }\n",
       "\n",
       "    .dataframe thead th {\n",
       "        text-align: right;\n",
       "    }\n",
       "</style>\n",
       "<table border=\"1\" class=\"dataframe\">\n",
       "  <thead>\n",
       "    <tr style=\"text-align: right;\">\n",
       "      <th></th>\n",
       "      <th>article_id</th>\n",
       "      <th>start</th>\n",
       "      <th>end</th>\n",
       "      <th>answered</th>\n",
       "      <th>votes</th>\n",
       "      <th>category</th>\n",
       "      <th>title</th>\n",
       "      <th>content</th>\n",
       "      <th>answer</th>\n",
       "      <th>answer_diff</th>\n",
       "      <th>start_month</th>\n",
       "      <th>start_day</th>\n",
       "      <th>start_hour</th>\n",
       "      <th>start_dow</th>\n",
       "    </tr>\n",
       "  </thead>\n",
       "  <tbody>\n",
       "    <tr>\n",
       "      <td>12781</td>\n",
       "      <td>12841</td>\n",
       "      <td>2017-09-08</td>\n",
       "      <td>2017-12-07</td>\n",
       "      <td>0</td>\n",
       "      <td>3</td>\n",
       "      <td>성장동력</td>\n",
       "      <td>가상전자화폐를 인정하고 규제해야합니다</td>\n",
       "      <td>가상전자화폐\\n흔히 코인이라 불리는 비생산적이고 소모적이며\\n시장을 혼란케 하고 산...</td>\n",
       "      <td>0</td>\n",
       "      <td>0</td>\n",
       "      <td>9</td>\n",
       "      <td>8</td>\n",
       "      <td>0</td>\n",
       "      <td>4</td>\n",
       "    </tr>\n",
       "    <tr>\n",
       "      <td>19325</td>\n",
       "      <td>19575</td>\n",
       "      <td>2017-10-06</td>\n",
       "      <td>2017-11-05</td>\n",
       "      <td>0</td>\n",
       "      <td>5</td>\n",
       "      <td>성장동력</td>\n",
       "      <td>ICO 전면금지에 대한 입장</td>\n",
       "      <td>정부는 9월 29일 김용범 금융위원회 부위원장 주재로 &lt;가상통화 관계기관 합동TF&gt;...</td>\n",
       "      <td>0</td>\n",
       "      <td>0</td>\n",
       "      <td>10</td>\n",
       "      <td>6</td>\n",
       "      <td>0</td>\n",
       "      <td>4</td>\n",
       "    </tr>\n",
       "    <tr>\n",
       "      <td>20874</td>\n",
       "      <td>21277</td>\n",
       "      <td>2017-10-15</td>\n",
       "      <td>2017-11-14</td>\n",
       "      <td>0</td>\n",
       "      <td>3906</td>\n",
       "      <td>미래</td>\n",
       "      <td>대통령님에게 전하는 지부상소(持斧上疏)입니다.   -블록체인 기술에 대한 이야기-</td>\n",
       "      <td>지부상소(持斧上疏)를 이야기할 만큼 간절하게 원합니다.\\n이 글이 문재인 대통령님께...</td>\n",
       "      <td>0</td>\n",
       "      <td>0</td>\n",
       "      <td>10</td>\n",
       "      <td>15</td>\n",
       "      <td>0</td>\n",
       "      <td>6</td>\n",
       "    </tr>\n",
       "    <tr>\n",
       "      <td>20911</td>\n",
       "      <td>21327</td>\n",
       "      <td>2017-10-15</td>\n",
       "      <td>2017-11-14</td>\n",
       "      <td>0</td>\n",
       "      <td>3</td>\n",
       "      <td>경제민주화</td>\n",
       "      <td>가상화폐 투기 광풍을 막아주세요</td>\n",
       "      <td>가상화폐 규제 어떻게 해야 하나 ?\\n이제 우리 앞에 놓여진 사회적 이슈가 되어\\n...</td>\n",
       "      <td>0</td>\n",
       "      <td>0</td>\n",
       "      <td>10</td>\n",
       "      <td>15</td>\n",
       "      <td>0</td>\n",
       "      <td>6</td>\n",
       "    </tr>\n",
       "    <tr>\n",
       "      <td>26541</td>\n",
       "      <td>27765</td>\n",
       "      <td>2017-11-08</td>\n",
       "      <td>2017-12-08</td>\n",
       "      <td>0</td>\n",
       "      <td>1</td>\n",
       "      <td>경제민주화</td>\n",
       "      <td>가상화폐 투자대행회사의 무분별한 수수료 바로잡아주세요</td>\n",
       "      <td>가상화폐 ico로 대리업무를 대행해주고 5-30% 수수료를 책정하고 계약서나 기타 ...</td>\n",
       "      <td>0</td>\n",
       "      <td>0</td>\n",
       "      <td>11</td>\n",
       "      <td>8</td>\n",
       "      <td>0</td>\n",
       "      <td>2</td>\n",
       "    </tr>\n",
       "  </tbody>\n",
       "</table>\n",
       "</div>"
      ],
      "text/plain": [
       "       article_id      start        end  answered  votes category  \\\n",
       "12781       12841 2017-09-08 2017-12-07         0      3     성장동력   \n",
       "19325       19575 2017-10-06 2017-11-05         0      5     성장동력   \n",
       "20874       21277 2017-10-15 2017-11-14         0   3906       미래   \n",
       "20911       21327 2017-10-15 2017-11-14         0      3    경제민주화   \n",
       "26541       27765 2017-11-08 2017-12-08         0      1    경제민주화   \n",
       "\n",
       "                                               title  \\\n",
       "12781                           가상전자화폐를 인정하고 규제해야합니다   \n",
       "19325                                ICO 전면금지에 대한 입장   \n",
       "20874  대통령님에게 전하는 지부상소(持斧上疏)입니다.   -블록체인 기술에 대한 이야기-   \n",
       "20911                              가상화폐 투기 광풍을 막아주세요   \n",
       "26541                  가상화폐 투자대행회사의 무분별한 수수료 바로잡아주세요   \n",
       "\n",
       "                                                 content  answer  answer_diff  \\\n",
       "12781  가상전자화폐\\n흔히 코인이라 불리는 비생산적이고 소모적이며\\n시장을 혼란케 하고 산...       0            0   \n",
       "19325  정부는 9월 29일 김용범 금융위원회 부위원장 주재로 <가상통화 관계기관 합동TF>...       0            0   \n",
       "20874  지부상소(持斧上疏)를 이야기할 만큼 간절하게 원합니다.\\n이 글이 문재인 대통령님께...       0            0   \n",
       "20911  가상화폐 규제 어떻게 해야 하나 ?\\n이제 우리 앞에 놓여진 사회적 이슈가 되어\\n...       0            0   \n",
       "26541  가상화폐 ico로 대리업무를 대행해주고 5-30% 수수료를 책정하고 계약서나 기타 ...       0            0   \n",
       "\n",
       "       start_month  start_day  start_hour  start_dow  \n",
       "12781            9          8           0          4  \n",
       "19325           10          6           0          4  \n",
       "20874           10         15           0          6  \n",
       "20911           10         15           0          6  \n",
       "26541           11          8           0          2  "
      ]
     },
     "execution_count": 60,
     "metadata": {},
     "output_type": "execute_result"
    }
   ],
   "source": [
    "crypto.head()"
   ]
  },
  {
   "cell_type": "code",
   "execution_count": 61,
   "metadata": {},
   "outputs": [
    {
     "data": {
      "text/plain": [
       "경제민주화          1970\n",
       "미래             1897\n",
       "성장동력           1409\n",
       "기타             1019\n",
       "정치개혁            882\n",
       "행정              350\n",
       "일자리             113\n",
       "인권/성평등           65\n",
       "안전/환경            55\n",
       "외교/통일/국방         44\n",
       "교통/건축/국토         39\n",
       "문화/예술/체육/언론      29\n",
       "보건복지             16\n",
       "저출산/고령화대책         8\n",
       "육아/교육             8\n",
       "반려동물              5\n",
       "농산어촌              2\n",
       "Name: category, dtype: int64"
      ]
     },
     "execution_count": 61,
     "metadata": {},
     "output_type": "execute_result"
    }
   ],
   "source": [
    "crypto['category'].value_counts()"
   ]
  },
  {
   "cell_type": "markdown",
   "metadata": {},
   "source": [
    "## 특정 단어가 들어가는 청원을 찾아보세요."
   ]
  },
  {
   "cell_type": "code",
   "execution_count": 34,
   "metadata": {},
   "outputs": [
    {
     "data": {
      "text/plain": [
       "(45689, 14)"
      ]
     },
     "execution_count": 34,
     "metadata": {},
     "output_type": "execute_result"
    }
   ],
   "source": [
    "import re\n",
    "p = r'.*(돌봄|아이|초등|보육).*'\n",
    "care = df[df['title'].str.match(p) |\n",
    "           df['content'].str.match(p, flags=re.MULTILINE)]\n",
    "care.shape"
   ]
  },
  {
   "cell_type": "markdown",
   "metadata": {},
   "source": [
    "## 위 분석 외에 각자 해보고 싶은 분석을 해보세요."
   ]
  },
  {
   "cell_type": "code",
   "execution_count": null,
   "metadata": {},
   "outputs": [],
   "source": []
  }
 ],
 "metadata": {
  "kernelspec": {
   "display_name": "Python 3",
   "language": "python",
   "name": "python3"
  },
  "language_info": {
   "codemirror_mode": {
    "name": "ipython",
    "version": 3
   },
   "file_extension": ".py",
   "mimetype": "text/x-python",
   "name": "python",
   "nbconvert_exporter": "python",
   "pygments_lexer": "ipython3",
   "version": "3.7.4"
  }
 },
 "nbformat": 4,
 "nbformat_minor": 4
}
