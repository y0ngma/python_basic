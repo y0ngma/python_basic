{
 "cells": [
  {
   "cell_type": "markdown",
   "metadata": {},
   "source": [
    "#### 단축키\n",
    "\n",
    "- 마크다운~함수 전환\n",
    "    - m : 마크다운\n",
    "    - y : 코드\n",
    "- 실행하고 셀추가\n",
    "    - alt + enter : 추가하고 다음셀로 가기\n",
    "    - ctrl + enter : 추가하고 현재셀에 있기\n",
    "- 잘라내고 붙여넣기\n",
    "    - x : cut\n",
    "    - v : paste below cell\n",
    "    - shift+v : paste above\n",
    "- 삭제\n",
    "    - d,d : delete cell\n",
    "    - z : undo delete cell\n",
    "- 셀 추가하기\n",
    "    - a add cell above\n",
    "    - b add cell below\n",
    "- 리스팅\n",
    "    - l listing"
   ]
  },
  {
   "cell_type": "code",
   "execution_count": 2,
   "metadata": {},
   "outputs": [],
   "source": [
    "from pandas import Series, DataFrame\n",
    "import pandas as pd"
   ]
  },
  {
   "cell_type": "code",
   "execution_count": 3,
   "metadata": {},
   "outputs": [],
   "source": [
    "example_obj = Series()"
   ]
  },
  {
   "cell_type": "markdown",
   "metadata": {},
   "source": [
    "- 괄호안에 커서 두고 Shift enter 하면 설명 팝업"
   ]
  },
  {
   "cell_type": "markdown",
   "metadata": {},
   "source": [
    "\n",
    "```sql\n",
    "vscode@441e368db4cd:/$ cd home/vscode/notebooks\n",
    "vscode@441e368db4cd:~/notebooks$ ls\n",
    "a.py  data.zip  test.ipynb\n",
    "vscode@441e368db4cd:~/notebooks$ mkdir data\n",
    "vscode@441e368db4cd:~/notebooks$ ls\n",
    "a.py  data  data.zip  test.ipynb\n",
    "vscode@441e368db4cd:~/notebooks$ mv data.zip ./data\n",
    "vscode@441e368db4cd:~/notebooks$ cd data\n",
    "vscode@441e368db4cd:~/notebooks/data$ ls\n",
    "data.zip\n",
    "vscode@441e368db4cd:~/notebooks/data$ unzip data.zip\n",
    "Archive:  data.zip\n",
    "  inflating: banklist.csv            \n",
    "  inflating: billboard.csv           \n",
    "  inflating: concat_1.csv            \n",
    "  inflating: concat_2.csv            \n",
    "  inflating: concat_3.csv            \n",
    "  inflating: country_timeseries.csv  \n",
    "  inflating: gapminder.tsv           \n",
    "  inflating: pew.csv                 \n",
    "  inflating: raw_data_urls.txt       \n",
    "  inflating: scientists.csv          \n",
    "  inflating: survey_person.csv       \n",
    "  inflating: survey_site.csv         \n",
    "  inflating: survey_survey.csv       \n",
    "  inflating: survey_visited.csv      \n",
    "  inflating: tesla_stock_quandl.csv  \n",
    "  inflating: weather.csv             \n",
    "vscode@441e368db4cd:~/notebooks/data$ \n",
    "```\n"
   ]
  },
  {
   "cell_type": "code",
   "execution_count": 7,
   "metadata": {},
   "outputs": [],
   "source": [
    "import pandas as pd"
   ]
  },
  {
   "cell_type": "code",
   "execution_count": 9,
   "metadata": {},
   "outputs": [],
   "source": [
    "df = pd.read_csv('./data/gapminder.tsv', sep='\\t')\n",
    "## seperate tab"
   ]
  },
  {
   "cell_type": "code",
   "execution_count": 10,
   "metadata": {},
   "outputs": [
    {
     "name": "stdout",
     "output_type": "stream",
     "text": [
      "       country continent  year  lifeExp       pop   gdpPercap\n",
      "0  Afghanistan      Asia  1952   28.801   8425333  779.445314\n",
      "1  Afghanistan      Asia  1957   30.332   9240934  820.853030\n",
      "2  Afghanistan      Asia  1962   31.997  10267083  853.100710\n",
      "3  Afghanistan      Asia  1967   34.020  11537966  836.197138\n",
      "4  Afghanistan      Asia  1972   36.088  13079460  739.981106\n"
     ]
    }
   ],
   "source": [
    "print(df.head())"
   ]
  },
  {
   "cell_type": "code",
   "execution_count": 11,
   "metadata": {},
   "outputs": [
    {
     "name": "stdout",
     "output_type": "stream",
     "text": [
      "<class 'pandas.core.frame.DataFrame'>\n"
     ]
    }
   ],
   "source": [
    "print(type(df))"
   ]
  },
  {
   "cell_type": "code",
   "execution_count": 13,
   "metadata": {},
   "outputs": [
    {
     "name": "stdout",
     "output_type": "stream",
     "text": [
      "(1704, 6)\n"
     ]
    }
   ],
   "source": [
    "print(df.shape)"
   ]
  },
  {
   "cell_type": "code",
   "execution_count": 14,
   "metadata": {},
   "outputs": [
    {
     "name": "stdout",
     "output_type": "stream",
     "text": [
      "1704\n"
     ]
    }
   ],
   "source": [
    "print(df.shape[0])"
   ]
  },
  {
   "cell_type": "code",
   "execution_count": 15,
   "metadata": {},
   "outputs": [
    {
     "name": "stdout",
     "output_type": "stream",
     "text": [
      "Index(['country', 'continent', 'year', 'lifeExp', 'pop', 'gdpPercap'], dtype='object')\n"
     ]
    }
   ],
   "source": [
    "print(df.columns)"
   ]
  },
  {
   "cell_type": "code",
   "execution_count": 16,
   "metadata": {},
   "outputs": [
    {
     "name": "stdout",
     "output_type": "stream",
     "text": [
      "country       object\n",
      "continent     object\n",
      "year           int64\n",
      "lifeExp      float64\n",
      "pop            int64\n",
      "gdpPercap    float64\n",
      "dtype: object\n"
     ]
    }
   ],
   "source": [
    "print(df.dtypes)\n",
    "# 년도는 덧셈이 없을경우 만 필요\n",
    "# int8 로 해도 충분 (1byte = 8bit)"
   ]
  },
  {
   "cell_type": "code",
   "execution_count": 22,
   "metadata": {},
   "outputs": [
    {
     "name": "stdout",
     "output_type": "stream",
     "text": [
      "<class 'pandas.core.frame.DataFrame'>\n",
      "RangeIndex: 1704 entries, 0 to 1703\n",
      "Data columns (total 6 columns):\n",
      "country      1704 non-null object\n",
      "continent    1704 non-null object\n",
      "year         1704 non-null int64\n",
      "lifeExp      1704 non-null float64\n",
      "pop          1704 non-null int64\n",
      "gdpPercap    1704 non-null float64\n",
      "dtypes: float64(2), int64(2), object(2)\n",
      "memory usage: 80.0+ KB\n",
      "None\n"
     ]
    }
   ],
   "source": [
    "print(df.info()) # 보다시피 1704개씩 각 컬럼 동일. 빈 데이터 있는지 확인"
   ]
  },
  {
   "cell_type": "code",
   "execution_count": 30,
   "metadata": {},
   "outputs": [
    {
     "name": "stdout",
     "output_type": "stream",
     "text": [
      "<class 'pandas.core.series.Series'>\n"
     ]
    }
   ],
   "source": [
    "country_df = df['country']\n",
    "\n",
    "print(type(country_df))\n",
    "# series로 바뀐것 확인 가능. \n",
    "# 컬럼이 Series, 표가 DataFrame\n",
    "# DataFrame에 관한 명령어 입력시 실행 안됨 유의"
   ]
  },
  {
   "cell_type": "code",
   "execution_count": 32,
   "metadata": {},
   "outputs": [
    {
     "name": "stdout",
     "output_type": "stream",
     "text": [
      "<class 'pandas.core.frame.DataFrame'>\n"
     ]
    }
   ],
   "source": [
    "# 컬럼이름이 여러개일경우\n",
    "subset = df[['country', 'continent', 'year']]\n",
    "print(type(subset))\n"
   ]
  },
  {
   "cell_type": "code",
   "execution_count": 24,
   "metadata": {},
   "outputs": [
    {
     "name": "stdout",
     "output_type": "stream",
     "text": [
      "1699    Zimbabwe\n",
      "1700    Zimbabwe\n",
      "1701    Zimbabwe\n",
      "1702    Zimbabwe\n",
      "1703    Zimbabwe\n",
      "Name: country, dtype: object\n"
     ]
    }
   ],
   "source": [
    "print(country_df.tail()) # ()안에서 shift tab 하면 설명 툴팁 출력"
   ]
  },
  {
   "cell_type": "code",
   "execution_count": 29,
   "metadata": {},
   "outputs": [
    {
     "name": "stdout",
     "output_type": "stream",
     "text": [
      "0    Afghanistan\n",
      "1    Afghanistan\n",
      "2    Afghanistan\n",
      "3    Afghanistan\n",
      "4    Afghanistan\n",
      "5    Afghanistan\n",
      "Name: country, dtype: object\n"
     ]
    }
   ],
   "source": [
    "print(country_df.head(6))"
   ]
  },
  {
   "cell_type": "code",
   "execution_count": null,
   "metadata": {},
   "outputs": [],
   "source": [
    "#"
   ]
  },
  {
   "cell_type": "code",
   "execution_count": null,
   "metadata": {},
   "outputs": [],
   "source": []
  }
 ],
 "metadata": {
  "kernelspec": {
   "display_name": "Python 3",
   "language": "python",
   "name": "python3"
  },
  "language_info": {
   "codemirror_mode": {
    "name": "ipython",
    "version": 3
   },
   "file_extension": ".py",
   "mimetype": "text/x-python",
   "name": "python",
   "nbconvert_exporter": "python",
   "pygments_lexer": "ipython3",
   "version": "3.7.4"
  }
 },
 "nbformat": 4,
 "nbformat_minor": 4
}
