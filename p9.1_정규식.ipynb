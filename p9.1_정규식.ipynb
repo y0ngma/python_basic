{
 "cells": [
  {
   "cell_type": "markdown",
   "metadata": {},
   "source": [
    "### 정규식\n",
    "\n",
    "- 정규 표현식\n",
    "- regular expression\n",
    "- 복잡한 문자열을 처리할 때 사용하는 기법\n",
    "    - 문자열에서 원하는 데이터만 추출, 가공, 삭제 <=전처리/정제"
   ]
  },
  {
   "cell_type": "code",
   "execution_count": 5,
   "metadata": {},
   "outputs": [],
   "source": [
    "# 1. 모듈 가져오기\n",
    "import re"
   ]
  },
  {
   "cell_type": "code",
   "execution_count": 19,
   "metadata": {},
   "outputs": [
    {
     "data": {
      "text/plain": [
       "'\\n \"Boy With Luv\" (Korean: 작은 것들을 위한 시; RR: Jageun geotdeureul wihan si),\\n featur'"
      ]
     },
     "execution_count": 19,
     "metadata": {},
     "output_type": "execute_result"
    }
   ],
   "source": [
    "test_txt = '''\n",
    " \"Boy With Luv\" (Korean: 작은 것들을 위한 시; RR: Jageun geotdeureul wihan si),\n",
    " featuring American singer Halsey.[202] The EP's release was followed by a perfo\n",
    " rmance on Saturday Night Live, as the first Korean act to do so.[203] The group\n",
    " 's appearance was anticipated as one of the biggest in the show's history.[204]\n",
    " Commercially, BTS reached new career heights. Map of the Soul: Persona became t\n",
    " he first Korean-language album to reach the number one position in both the UK\n",
    " and Australia[205][206] \n",
    "'''\n",
    "test_txt[:80]"
   ]
  },
  {
   "cell_type": "code",
   "execution_count": 20,
   "metadata": {},
   "outputs": [],
   "source": [
    "# 원문에서 한글 제거\n",
    "# 한글 초성, 중성, 종성 => euc-kr, 16bit => 조합형 코드\n",
    "# 한글 가, 갸, 거, 겨,..=> utf-8,  8bit  => 완성형 코드\n",
    "# 완성형 기준 => ㄱ ~ ㅣ -> 가 ~ 힣\n",
    "#hangul = re.compile( '[]+') # 0~무한대\n",
    "hangul = re.compile( '[ㄱ-ㅣ 가-힣]+') "
   ]
  },
  {
   "cell_type": "code",
   "execution_count": 21,
   "metadata": {},
   "outputs": [
    {
     "data": {
      "text/plain": [
       "'\\n\"BoyWithLuv\"(Korean:;RR:Jageungeotdeureulwihansi),\\nfeaturingAmericansingerHalsey.[202]TheEP\\'sreleas'"
      ]
     },
     "execution_count": 21,
     "metadata": {},
     "output_type": "execute_result"
    }
   ],
   "source": [
    "hangul.sub('', test_txt)[:100]"
   ]
  },
  {
   "cell_type": "code",
   "execution_count": 22,
   "metadata": {},
   "outputs": [],
   "source": [
    "alpha = re.compile( '[a-zA-Z]+') "
   ]
  },
  {
   "cell_type": "code",
   "execution_count": 23,
   "metadata": {},
   "outputs": [
    {
     "data": {
      "text/plain": [
       "'\\n \"  \" (: 작은 것들을 위한 시; :    ),\\n    .[202]  \\'      \\n     ,        .[203]  \\n \\'           \\' .[204]\\n ,  '"
      ]
     },
     "execution_count": 23,
     "metadata": {},
     "output_type": "execute_result"
    }
   ],
   "source": [
    "alpha.sub('', test_txt)[:100]"
   ]
  },
  {
   "cell_type": "markdown",
   "metadata": {},
   "source": [
    "- 매타문자 (meta characters)\n",
    "    - 일반표현 : | > ^ & * > {} () []\n",
    "    - 이스케이프 표현 : \\d \\D \\s \\S \\w \\W \\b \\B ...\n",
    "    \n",
    "- 함수 \n",
    "    - match()\n",
    "    - search()\n",
    "    - findall()\n",
    "    - finditer()\n",
    "    - sub()\n",
    "    \n",
    "- 그룹핑\n",
    "- 전방탐색\n",
    "    - 긍정형 전방 탐색\n",
    "    - 부정형 전방 탐색"
   ]
  },
  {
   "cell_type": "code",
   "execution_count": null,
   "metadata": {},
   "outputs": [],
   "source": []
  },
  {
   "cell_type": "code",
   "execution_count": null,
   "metadata": {},
   "outputs": [],
   "source": []
  }
 ],
 "metadata": {
  "kernelspec": {
   "display_name": "Python 3",
   "language": "python",
   "name": "python3"
  },
  "language_info": {
   "codemirror_mode": {
    "name": "ipython",
    "version": 3
   },
   "file_extension": ".py",
   "mimetype": "text/x-python",
   "name": "python",
   "nbconvert_exporter": "python",
   "pygments_lexer": "ipython3",
   "version": "3.7.4"
  }
 },
 "nbformat": 4,
 "nbformat_minor": 2
}
